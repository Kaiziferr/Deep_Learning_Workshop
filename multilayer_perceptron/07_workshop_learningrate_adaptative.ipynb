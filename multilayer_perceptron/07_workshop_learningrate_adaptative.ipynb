{
  "nbformat": 4,
  "nbformat_minor": 0,
  "metadata": {
    "colab": {
      "name": "07_workshop_learningrate_adaptative.ipynb",
      "provenance": [],
      "collapsed_sections": [],
      "include_colab_link": true
    },
    "kernelspec": {
      "name": "python3",
      "display_name": "Python 3"
    },
    "language_info": {
      "name": "python"
    }
  },
  "cells": [
    {
      "cell_type": "markdown",
      "metadata": {
        "id": "view-in-github",
        "colab_type": "text"
      },
      "source": [
        "<a href=\"https://colab.research.google.com/github/Kaiziferr/deep_learning_workshop/blob/master/multilayer_perceptron/07_workshop_learningrate_adaptative.ipynb\" target=\"_parent\"><img src=\"https://colab.research.google.com/assets/colab-badge.svg\" alt=\"Open In Colab\"/></a>"
      ]
    },
    {
      "cell_type": "code",
      "metadata": {
        "id": "djKxlTmnDJG0"
      },
      "source": [
        "import pandas as pd\n",
        "\n",
        "import tensorflow \n",
        "\n",
        "from keras.models import Sequential\n",
        "from keras.layers import Dense\n",
        "from tensorflow.keras.optimizers import SGD\n",
        "from keras.callbacks import LearningRateScheduler\n",
        "\n",
        "from tensorflow.keras.metrics import Recall\n",
        "\n",
        "from sklearn.preprocessing import LabelEncoder, StandardScaler\n",
        "from sklearn.model_selection import train_test_split\n",
        "import math\n"
      ],
      "execution_count": 1,
      "outputs": []
    },
    {
      "cell_type": "code",
      "metadata": {
        "id": "HKIhKxBp7rY4"
      },
      "source": [
        "data = pd.read_csv('https://raw.githubusercontent.com/jbrownlee/Datasets/master/ionosphere.csv')\n",
        "data_values = data.values"
      ],
      "execution_count": 2,
      "outputs": []
    },
    {
      "cell_type": "markdown",
      "metadata": {
        "id": "lWkHjOmBIyjk"
      },
      "source": [
        "# Split data\n",
        "\n",
        "---\n",
        "\n"
      ]
    },
    {
      "cell_type": "code",
      "metadata": {
        "id": "SHqgWRDA71W3"
      },
      "source": [
        "X = data_values[:,0:34].astype('float')\n",
        "y = data_values[:,34]"
      ],
      "execution_count": 3,
      "outputs": []
    },
    {
      "cell_type": "code",
      "metadata": {
        "id": "GegPvxyG8CaC"
      },
      "source": [
        "X_train, X_test, y_train, y_test = train_test_split(X, y, train_size = 0.75, shuffle=True) "
      ],
      "execution_count": 4,
      "outputs": []
    },
    {
      "cell_type": "code",
      "metadata": {
        "id": "FOplAwMM8CV5"
      },
      "source": [
        "# Encoder\n",
        "encoder = LabelEncoder()\n",
        "y_train_encoder = encoder.fit_transform(y_train)\n",
        "y_test_encoder = encoder.transform(y_test)"
      ],
      "execution_count": 5,
      "outputs": []
    },
    {
      "cell_type": "code",
      "metadata": {
        "id": "L8ah7DSK8CSo"
      },
      "source": [
        "# Escalar\n",
        "estimator_scaler = StandardScaler()\n",
        "X_train_scaler = estimator_scaler.fit_transform(X_train)\n",
        "X_test_scaler = estimator_scaler.transform(X_test)"
      ],
      "execution_count": 6,
      "outputs": []
    },
    {
      "cell_type": "code",
      "metadata": {
        "colab": {
          "base_uri": "https://localhost:8080/"
        },
        "id": "UNGFMUtQL7It",
        "outputId": "3f782654-d343-4a49-a9b5-8ddd6b2e7d11"
      },
      "source": [
        "data['g'].value_counts()"
      ],
      "execution_count": 7,
      "outputs": [
        {
          "output_type": "execute_result",
          "data": {
            "text/plain": [
              "g    224\n",
              "b    126\n",
              "Name: g, dtype: int64"
            ]
          },
          "metadata": {},
          "execution_count": 7
        }
      ]
    },
    {
      "cell_type": "markdown",
      "metadata": {
        "id": "SyrnzI4EwFtS"
      },
      "source": [
        "# Optimizador Adaptativo Adam\n",
        "\n",
        "---\n",
        "\n"
      ]
    },
    {
      "cell_type": "code",
      "metadata": {
        "id": "Yjh0oe5C9AFq"
      },
      "source": [
        "model = Sequential()\n",
        "model.add(Dense(34, input_dim = 34, activation='relu', kernel_initializer='glorot_uniform'))\n",
        "model.add(Dense(1,activation='sigmoid', kernel_initializer='glorot_uniform'))"
      ],
      "execution_count": 8,
      "outputs": []
    },
    {
      "cell_type": "code",
      "metadata": {
        "id": "ICoAHCkD9jow",
        "outputId": "0da651ec-dbf2-4645-943c-b65b5ccb362e",
        "colab": {
          "base_uri": "https://localhost:8080/"
        }
      },
      "source": [
        "model.compile(loss='binary_crossentropy', optimizer='adam', metrics=['accuracy', Recall()])\n",
        "model.fit(X_train_scaler, y_train_encoder, validation_data=(X_test_scaler, y_test_encoder), epochs=50, batch_size=28, verbose = 1)"
      ],
      "execution_count": 9,
      "outputs": [
        {
          "output_type": "stream",
          "name": "stdout",
          "text": [
            "Epoch 1/50\n",
            "10/10 [==============================] - 1s 34ms/step - loss: 0.8087 - accuracy: 0.3931 - recall: 0.4068 - val_loss: 0.7856 - val_accuracy: 0.5455 - val_recall: 0.6383\n",
            "Epoch 2/50\n",
            "10/10 [==============================] - 0s 9ms/step - loss: 0.6661 - accuracy: 0.6870 - recall: 0.8192 - val_loss: 0.6882 - val_accuracy: 0.6364 - val_recall: 0.8298\n",
            "Epoch 3/50\n",
            "10/10 [==============================] - 0s 7ms/step - loss: 0.5613 - accuracy: 0.7939 - recall: 0.9379 - val_loss: 0.6259 - val_accuracy: 0.7045 - val_recall: 0.9149\n",
            "Epoch 4/50\n",
            "10/10 [==============================] - 0s 5ms/step - loss: 0.4955 - accuracy: 0.8168 - recall: 0.9548 - val_loss: 0.5777 - val_accuracy: 0.7159 - val_recall: 0.9362\n",
            "Epoch 5/50\n",
            "10/10 [==============================] - 0s 8ms/step - loss: 0.4449 - accuracy: 0.8435 - recall: 0.9605 - val_loss: 0.5430 - val_accuracy: 0.7500 - val_recall: 0.9362\n",
            "Epoch 6/50\n",
            "10/10 [==============================] - 0s 5ms/step - loss: 0.4052 - accuracy: 0.8588 - recall: 0.9492 - val_loss: 0.5139 - val_accuracy: 0.7727 - val_recall: 0.9574\n",
            "Epoch 7/50\n",
            "10/10 [==============================] - 0s 7ms/step - loss: 0.3749 - accuracy: 0.8588 - recall: 0.9435 - val_loss: 0.4845 - val_accuracy: 0.7841 - val_recall: 0.9574\n",
            "Epoch 8/50\n",
            "10/10 [==============================] - 0s 6ms/step - loss: 0.3499 - accuracy: 0.8740 - recall: 0.9492 - val_loss: 0.4614 - val_accuracy: 0.8068 - val_recall: 0.9574\n",
            "Epoch 9/50\n",
            "10/10 [==============================] - 0s 5ms/step - loss: 0.3287 - accuracy: 0.8855 - recall: 0.9379 - val_loss: 0.4421 - val_accuracy: 0.8182 - val_recall: 0.9574\n",
            "Epoch 10/50\n",
            "10/10 [==============================] - 0s 6ms/step - loss: 0.3115 - accuracy: 0.8817 - recall: 0.9379 - val_loss: 0.4252 - val_accuracy: 0.8295 - val_recall: 0.9574\n",
            "Epoch 11/50\n",
            "10/10 [==============================] - 0s 5ms/step - loss: 0.2956 - accuracy: 0.8931 - recall: 0.9435 - val_loss: 0.4114 - val_accuracy: 0.8182 - val_recall: 0.9362\n",
            "Epoch 12/50\n",
            "10/10 [==============================] - 0s 7ms/step - loss: 0.2828 - accuracy: 0.8969 - recall: 0.9435 - val_loss: 0.3983 - val_accuracy: 0.8295 - val_recall: 0.9362\n",
            "Epoch 13/50\n",
            "10/10 [==============================] - 0s 7ms/step - loss: 0.2710 - accuracy: 0.9008 - recall: 0.9435 - val_loss: 0.3870 - val_accuracy: 0.8409 - val_recall: 0.9362\n",
            "Epoch 14/50\n",
            "10/10 [==============================] - 0s 7ms/step - loss: 0.2615 - accuracy: 0.9008 - recall: 0.9435 - val_loss: 0.3765 - val_accuracy: 0.8409 - val_recall: 0.9362\n",
            "Epoch 15/50\n",
            "10/10 [==============================] - 0s 6ms/step - loss: 0.2513 - accuracy: 0.9084 - recall: 0.9492 - val_loss: 0.3656 - val_accuracy: 0.8409 - val_recall: 0.9362\n",
            "Epoch 16/50\n",
            "10/10 [==============================] - 0s 7ms/step - loss: 0.2423 - accuracy: 0.9084 - recall: 0.9492 - val_loss: 0.3566 - val_accuracy: 0.8409 - val_recall: 0.9362\n",
            "Epoch 17/50\n",
            "10/10 [==============================] - 0s 7ms/step - loss: 0.2344 - accuracy: 0.9084 - recall: 0.9492 - val_loss: 0.3458 - val_accuracy: 0.8523 - val_recall: 0.9362\n",
            "Epoch 18/50\n",
            "10/10 [==============================] - 0s 6ms/step - loss: 0.2268 - accuracy: 0.9160 - recall: 0.9492 - val_loss: 0.3376 - val_accuracy: 0.8523 - val_recall: 0.9362\n",
            "Epoch 19/50\n",
            "10/10 [==============================] - 0s 6ms/step - loss: 0.2190 - accuracy: 0.9122 - recall: 0.9492 - val_loss: 0.3262 - val_accuracy: 0.8523 - val_recall: 0.9362\n",
            "Epoch 20/50\n",
            "10/10 [==============================] - 0s 7ms/step - loss: 0.2125 - accuracy: 0.9122 - recall: 0.9492 - val_loss: 0.3198 - val_accuracy: 0.8523 - val_recall: 0.9362\n",
            "Epoch 21/50\n",
            "10/10 [==============================] - 0s 6ms/step - loss: 0.2068 - accuracy: 0.9122 - recall: 0.9492 - val_loss: 0.3156 - val_accuracy: 0.8523 - val_recall: 0.9362\n",
            "Epoch 22/50\n",
            "10/10 [==============================] - 0s 8ms/step - loss: 0.2003 - accuracy: 0.9160 - recall: 0.9492 - val_loss: 0.3109 - val_accuracy: 0.8523 - val_recall: 0.9362\n",
            "Epoch 23/50\n",
            "10/10 [==============================] - 0s 8ms/step - loss: 0.1947 - accuracy: 0.9198 - recall: 0.9492 - val_loss: 0.3030 - val_accuracy: 0.8864 - val_recall: 0.9574\n",
            "Epoch 24/50\n",
            "10/10 [==============================] - 0s 7ms/step - loss: 0.1899 - accuracy: 0.9198 - recall: 0.9492 - val_loss: 0.2954 - val_accuracy: 0.8864 - val_recall: 0.9362\n",
            "Epoch 25/50\n",
            "10/10 [==============================] - 0s 7ms/step - loss: 0.1835 - accuracy: 0.9275 - recall: 0.9548 - val_loss: 0.2932 - val_accuracy: 0.8977 - val_recall: 0.9574\n",
            "Epoch 26/50\n",
            "10/10 [==============================] - 0s 7ms/step - loss: 0.1790 - accuracy: 0.9313 - recall: 0.9548 - val_loss: 0.2923 - val_accuracy: 0.8977 - val_recall: 0.9574\n",
            "Epoch 27/50\n",
            "10/10 [==============================] - 0s 7ms/step - loss: 0.1741 - accuracy: 0.9313 - recall: 0.9548 - val_loss: 0.2885 - val_accuracy: 0.8977 - val_recall: 0.9574\n",
            "Epoch 28/50\n",
            "10/10 [==============================] - 0s 6ms/step - loss: 0.1697 - accuracy: 0.9313 - recall: 0.9548 - val_loss: 0.2844 - val_accuracy: 0.8977 - val_recall: 0.9574\n",
            "Epoch 29/50\n",
            "10/10 [==============================] - 0s 5ms/step - loss: 0.1652 - accuracy: 0.9313 - recall: 0.9548 - val_loss: 0.2814 - val_accuracy: 0.8977 - val_recall: 0.9574\n",
            "Epoch 30/50\n",
            "10/10 [==============================] - 0s 5ms/step - loss: 0.1610 - accuracy: 0.9427 - recall: 0.9718 - val_loss: 0.2814 - val_accuracy: 0.8977 - val_recall: 0.9574\n",
            "Epoch 31/50\n",
            "10/10 [==============================] - 0s 5ms/step - loss: 0.1571 - accuracy: 0.9466 - recall: 0.9774 - val_loss: 0.2808 - val_accuracy: 0.8864 - val_recall: 0.9574\n",
            "Epoch 32/50\n",
            "10/10 [==============================] - 0s 7ms/step - loss: 0.1531 - accuracy: 0.9466 - recall: 0.9774 - val_loss: 0.2767 - val_accuracy: 0.8977 - val_recall: 0.9574\n",
            "Epoch 33/50\n",
            "10/10 [==============================] - 0s 6ms/step - loss: 0.1489 - accuracy: 0.9466 - recall: 0.9774 - val_loss: 0.2734 - val_accuracy: 0.8977 - val_recall: 0.9574\n",
            "Epoch 34/50\n",
            "10/10 [==============================] - 0s 6ms/step - loss: 0.1455 - accuracy: 0.9542 - recall: 0.9774 - val_loss: 0.2702 - val_accuracy: 0.8977 - val_recall: 0.9574\n",
            "Epoch 35/50\n",
            "10/10 [==============================] - 0s 6ms/step - loss: 0.1420 - accuracy: 0.9542 - recall: 0.9774 - val_loss: 0.2701 - val_accuracy: 0.8977 - val_recall: 0.9574\n",
            "Epoch 36/50\n",
            "10/10 [==============================] - 0s 6ms/step - loss: 0.1385 - accuracy: 0.9542 - recall: 0.9774 - val_loss: 0.2672 - val_accuracy: 0.8977 - val_recall: 0.9574\n",
            "Epoch 37/50\n",
            "10/10 [==============================] - 0s 6ms/step - loss: 0.1351 - accuracy: 0.9542 - recall: 0.9774 - val_loss: 0.2636 - val_accuracy: 0.8977 - val_recall: 0.9574\n",
            "Epoch 38/50\n",
            "10/10 [==============================] - 0s 6ms/step - loss: 0.1318 - accuracy: 0.9542 - recall: 0.9774 - val_loss: 0.2626 - val_accuracy: 0.8977 - val_recall: 0.9574\n",
            "Epoch 39/50\n",
            "10/10 [==============================] - 0s 5ms/step - loss: 0.1287 - accuracy: 0.9580 - recall: 0.9774 - val_loss: 0.2615 - val_accuracy: 0.9091 - val_recall: 0.9787\n",
            "Epoch 40/50\n",
            "10/10 [==============================] - 0s 6ms/step - loss: 0.1258 - accuracy: 0.9618 - recall: 0.9774 - val_loss: 0.2566 - val_accuracy: 0.9091 - val_recall: 0.9787\n",
            "Epoch 41/50\n",
            "10/10 [==============================] - 0s 5ms/step - loss: 0.1223 - accuracy: 0.9618 - recall: 0.9774 - val_loss: 0.2570 - val_accuracy: 0.9091 - val_recall: 0.9787\n",
            "Epoch 42/50\n",
            "10/10 [==============================] - 0s 5ms/step - loss: 0.1193 - accuracy: 0.9656 - recall: 0.9774 - val_loss: 0.2581 - val_accuracy: 0.9091 - val_recall: 0.9787\n",
            "Epoch 43/50\n",
            "10/10 [==============================] - 0s 6ms/step - loss: 0.1165 - accuracy: 0.9695 - recall: 0.9831 - val_loss: 0.2587 - val_accuracy: 0.9091 - val_recall: 0.9787\n",
            "Epoch 44/50\n",
            "10/10 [==============================] - 0s 5ms/step - loss: 0.1140 - accuracy: 0.9695 - recall: 0.9831 - val_loss: 0.2593 - val_accuracy: 0.9091 - val_recall: 0.9787\n",
            "Epoch 45/50\n",
            "10/10 [==============================] - 0s 7ms/step - loss: 0.1112 - accuracy: 0.9733 - recall: 0.9831 - val_loss: 0.2541 - val_accuracy: 0.9091 - val_recall: 0.9787\n",
            "Epoch 46/50\n",
            "10/10 [==============================] - 0s 7ms/step - loss: 0.1086 - accuracy: 0.9771 - recall: 0.9831 - val_loss: 0.2545 - val_accuracy: 0.9205 - val_recall: 0.9787\n",
            "Epoch 47/50\n",
            "10/10 [==============================] - 0s 7ms/step - loss: 0.1058 - accuracy: 0.9771 - recall: 0.9831 - val_loss: 0.2550 - val_accuracy: 0.9205 - val_recall: 0.9787\n",
            "Epoch 48/50\n",
            "10/10 [==============================] - 0s 5ms/step - loss: 0.1043 - accuracy: 0.9771 - recall: 0.9831 - val_loss: 0.2561 - val_accuracy: 0.9091 - val_recall: 0.9787\n",
            "Epoch 49/50\n",
            "10/10 [==============================] - 0s 5ms/step - loss: 0.1012 - accuracy: 0.9771 - recall: 0.9831 - val_loss: 0.2549 - val_accuracy: 0.9205 - val_recall: 0.9787\n",
            "Epoch 50/50\n",
            "10/10 [==============================] - 0s 6ms/step - loss: 0.0990 - accuracy: 0.9771 - recall: 0.9831 - val_loss: 0.2569 - val_accuracy: 0.9091 - val_recall: 0.9787\n"
          ]
        },
        {
          "output_type": "execute_result",
          "data": {
            "text/plain": [
              "<keras.callbacks.History at 0x7f21fdaf8890>"
            ]
          },
          "metadata": {},
          "execution_count": 9
        }
      ]
    },
    {
      "cell_type": "markdown",
      "metadata": {
        "id": "OdYWB3mEvWwg"
      },
      "source": [
        "# **Planificación de learning rate en función del tiempo**\n",
        "\n",
        "---\n",
        "\n"
      ]
    },
    {
      "cell_type": "code",
      "metadata": {
        "id": "wQjbDm5t--tO"
      },
      "source": [
        "model = Sequential()\n",
        "model.add(Dense(34, input_dim = 34, activation='relu', kernel_initializer='glorot_uniform'))\n",
        "model.add(Dense(1, activation='sigmoid', kernel_initializer='glorot_uniform'))"
      ],
      "execution_count": 10,
      "outputs": []
    },
    {
      "cell_type": "code",
      "metadata": {
        "id": "MxmDywKlKV23"
      },
      "source": [
        "epoch = 50\n",
        "lr = 0.1\n",
        "decay_rate = lr/epoch\n",
        "momentum = 0.8\n",
        "\n",
        "sgd = SGD(learning_rate=lr, momentum=momentum, decay = decay_rate, nesterov=False)\n",
        "model.compile(loss='binary_crossentropy', optimizer=sgd, metrics=['accuracy' , Recall()])"
      ],
      "execution_count": 11,
      "outputs": []
    },
    {
      "cell_type": "code",
      "metadata": {
        "id": "PO276EFhD8wh",
        "outputId": "3da41561-8955-4235-ed96-76cd00662fb5",
        "colab": {
          "base_uri": "https://localhost:8080/"
        }
      },
      "source": [
        "model.fit(X_train_scaler, y_train_encoder, validation_data=(X_test_scaler, y_test_encoder), epochs=epoch, batch_size=28, verbose = 1)"
      ],
      "execution_count": 12,
      "outputs": [
        {
          "output_type": "stream",
          "name": "stdout",
          "text": [
            "Epoch 1/50\n",
            "10/10 [==============================] - 1s 34ms/step - loss: 0.5144 - accuracy: 0.7710 - recall_1: 0.7797 - val_loss: 0.4623 - val_accuracy: 0.8295 - val_recall_1: 0.9574\n",
            "Epoch 2/50\n",
            "10/10 [==============================] - 0s 4ms/step - loss: 0.2615 - accuracy: 0.8931 - recall_1: 0.9322 - val_loss: 0.3090 - val_accuracy: 0.8523 - val_recall_1: 0.9574\n",
            "Epoch 3/50\n",
            "10/10 [==============================] - 0s 4ms/step - loss: 0.1891 - accuracy: 0.9122 - recall_1: 0.9605 - val_loss: 0.2439 - val_accuracy: 0.8864 - val_recall_1: 0.9787\n",
            "Epoch 4/50\n",
            "10/10 [==============================] - 0s 6ms/step - loss: 0.1466 - accuracy: 0.9389 - recall_1: 0.9605 - val_loss: 0.2345 - val_accuracy: 0.9205 - val_recall_1: 1.0000\n",
            "Epoch 5/50\n",
            "10/10 [==============================] - 0s 6ms/step - loss: 0.1222 - accuracy: 0.9542 - recall_1: 0.9887 - val_loss: 0.2165 - val_accuracy: 0.9318 - val_recall_1: 1.0000\n",
            "Epoch 6/50\n",
            "10/10 [==============================] - 0s 7ms/step - loss: 0.1038 - accuracy: 0.9733 - recall_1: 0.9831 - val_loss: 0.2106 - val_accuracy: 0.9432 - val_recall_1: 1.0000\n",
            "Epoch 7/50\n",
            "10/10 [==============================] - 0s 6ms/step - loss: 0.0886 - accuracy: 0.9809 - recall_1: 0.9944 - val_loss: 0.2220 - val_accuracy: 0.9205 - val_recall_1: 1.0000\n",
            "Epoch 8/50\n",
            "10/10 [==============================] - 0s 6ms/step - loss: 0.0796 - accuracy: 0.9771 - recall_1: 0.9944 - val_loss: 0.1998 - val_accuracy: 0.9432 - val_recall_1: 1.0000\n",
            "Epoch 9/50\n",
            "10/10 [==============================] - 0s 5ms/step - loss: 0.0711 - accuracy: 0.9733 - recall_1: 0.9831 - val_loss: 0.2087 - val_accuracy: 0.9318 - val_recall_1: 1.0000\n",
            "Epoch 10/50\n",
            "10/10 [==============================] - 0s 6ms/step - loss: 0.0612 - accuracy: 0.9847 - recall_1: 0.9944 - val_loss: 0.2269 - val_accuracy: 0.9205 - val_recall_1: 1.0000\n",
            "Epoch 11/50\n",
            "10/10 [==============================] - 0s 6ms/step - loss: 0.0581 - accuracy: 0.9847 - recall_1: 0.9944 - val_loss: 0.2087 - val_accuracy: 0.9432 - val_recall_1: 1.0000\n",
            "Epoch 12/50\n",
            "10/10 [==============================] - 0s 5ms/step - loss: 0.0515 - accuracy: 0.9885 - recall_1: 0.9944 - val_loss: 0.2269 - val_accuracy: 0.9205 - val_recall_1: 1.0000\n",
            "Epoch 13/50\n",
            "10/10 [==============================] - 0s 5ms/step - loss: 0.0477 - accuracy: 0.9885 - recall_1: 0.9944 - val_loss: 0.2292 - val_accuracy: 0.9205 - val_recall_1: 1.0000\n",
            "Epoch 14/50\n",
            "10/10 [==============================] - 0s 6ms/step - loss: 0.0440 - accuracy: 0.9885 - recall_1: 0.9944 - val_loss: 0.2279 - val_accuracy: 0.9205 - val_recall_1: 1.0000\n",
            "Epoch 15/50\n",
            "10/10 [==============================] - 0s 6ms/step - loss: 0.0412 - accuracy: 0.9885 - recall_1: 0.9944 - val_loss: 0.2263 - val_accuracy: 0.9205 - val_recall_1: 1.0000\n",
            "Epoch 16/50\n",
            "10/10 [==============================] - 0s 5ms/step - loss: 0.0377 - accuracy: 0.9885 - recall_1: 0.9944 - val_loss: 0.2268 - val_accuracy: 0.9205 - val_recall_1: 1.0000\n",
            "Epoch 17/50\n",
            "10/10 [==============================] - 0s 5ms/step - loss: 0.0348 - accuracy: 0.9885 - recall_1: 0.9944 - val_loss: 0.2321 - val_accuracy: 0.9205 - val_recall_1: 1.0000\n",
            "Epoch 18/50\n",
            "10/10 [==============================] - 0s 6ms/step - loss: 0.0329 - accuracy: 0.9924 - recall_1: 1.0000 - val_loss: 0.2343 - val_accuracy: 0.9205 - val_recall_1: 1.0000\n",
            "Epoch 19/50\n",
            "10/10 [==============================] - 0s 6ms/step - loss: 0.0314 - accuracy: 0.9885 - recall_1: 0.9944 - val_loss: 0.2393 - val_accuracy: 0.9205 - val_recall_1: 1.0000\n",
            "Epoch 20/50\n",
            "10/10 [==============================] - 0s 6ms/step - loss: 0.0291 - accuracy: 0.9924 - recall_1: 1.0000 - val_loss: 0.2488 - val_accuracy: 0.9205 - val_recall_1: 1.0000\n",
            "Epoch 21/50\n",
            "10/10 [==============================] - 0s 7ms/step - loss: 0.0286 - accuracy: 0.9924 - recall_1: 1.0000 - val_loss: 0.2488 - val_accuracy: 0.9205 - val_recall_1: 1.0000\n",
            "Epoch 22/50\n",
            "10/10 [==============================] - 0s 7ms/step - loss: 0.0280 - accuracy: 0.9885 - recall_1: 0.9944 - val_loss: 0.2356 - val_accuracy: 0.9205 - val_recall_1: 1.0000\n",
            "Epoch 23/50\n",
            "10/10 [==============================] - 0s 7ms/step - loss: 0.0255 - accuracy: 0.9962 - recall_1: 1.0000 - val_loss: 0.2470 - val_accuracy: 0.9205 - val_recall_1: 1.0000\n",
            "Epoch 24/50\n",
            "10/10 [==============================] - 0s 6ms/step - loss: 0.0254 - accuracy: 0.9962 - recall_1: 1.0000 - val_loss: 0.2591 - val_accuracy: 0.9205 - val_recall_1: 1.0000\n",
            "Epoch 25/50\n",
            "10/10 [==============================] - 0s 5ms/step - loss: 0.0232 - accuracy: 1.0000 - recall_1: 1.0000 - val_loss: 0.2533 - val_accuracy: 0.9205 - val_recall_1: 1.0000\n",
            "Epoch 26/50\n",
            "10/10 [==============================] - 0s 5ms/step - loss: 0.0219 - accuracy: 1.0000 - recall_1: 1.0000 - val_loss: 0.2553 - val_accuracy: 0.9205 - val_recall_1: 1.0000\n",
            "Epoch 27/50\n",
            "10/10 [==============================] - 0s 6ms/step - loss: 0.0213 - accuracy: 1.0000 - recall_1: 1.0000 - val_loss: 0.2560 - val_accuracy: 0.9205 - val_recall_1: 1.0000\n",
            "Epoch 28/50\n",
            "10/10 [==============================] - 0s 6ms/step - loss: 0.0206 - accuracy: 1.0000 - recall_1: 1.0000 - val_loss: 0.2601 - val_accuracy: 0.9205 - val_recall_1: 1.0000\n",
            "Epoch 29/50\n",
            "10/10 [==============================] - 0s 6ms/step - loss: 0.0199 - accuracy: 1.0000 - recall_1: 1.0000 - val_loss: 0.2626 - val_accuracy: 0.9205 - val_recall_1: 1.0000\n",
            "Epoch 30/50\n",
            "10/10 [==============================] - 0s 8ms/step - loss: 0.0192 - accuracy: 1.0000 - recall_1: 1.0000 - val_loss: 0.2634 - val_accuracy: 0.9205 - val_recall_1: 1.0000\n",
            "Epoch 31/50\n",
            "10/10 [==============================] - 0s 7ms/step - loss: 0.0184 - accuracy: 1.0000 - recall_1: 1.0000 - val_loss: 0.2634 - val_accuracy: 0.9205 - val_recall_1: 1.0000\n",
            "Epoch 32/50\n",
            "10/10 [==============================] - 0s 5ms/step - loss: 0.0181 - accuracy: 1.0000 - recall_1: 1.0000 - val_loss: 0.2588 - val_accuracy: 0.9205 - val_recall_1: 1.0000\n",
            "Epoch 33/50\n",
            "10/10 [==============================] - 0s 5ms/step - loss: 0.0170 - accuracy: 1.0000 - recall_1: 1.0000 - val_loss: 0.2666 - val_accuracy: 0.9205 - val_recall_1: 1.0000\n",
            "Epoch 34/50\n",
            "10/10 [==============================] - 0s 5ms/step - loss: 0.0169 - accuracy: 1.0000 - recall_1: 1.0000 - val_loss: 0.2665 - val_accuracy: 0.9205 - val_recall_1: 1.0000\n",
            "Epoch 35/50\n",
            "10/10 [==============================] - 0s 7ms/step - loss: 0.0158 - accuracy: 1.0000 - recall_1: 1.0000 - val_loss: 0.2711 - val_accuracy: 0.9205 - val_recall_1: 1.0000\n",
            "Epoch 36/50\n",
            "10/10 [==============================] - 0s 7ms/step - loss: 0.0159 - accuracy: 1.0000 - recall_1: 1.0000 - val_loss: 0.2706 - val_accuracy: 0.9205 - val_recall_1: 1.0000\n",
            "Epoch 37/50\n",
            "10/10 [==============================] - 0s 7ms/step - loss: 0.0154 - accuracy: 1.0000 - recall_1: 1.0000 - val_loss: 0.2728 - val_accuracy: 0.9205 - val_recall_1: 1.0000\n",
            "Epoch 38/50\n",
            "10/10 [==============================] - 0s 6ms/step - loss: 0.0148 - accuracy: 1.0000 - recall_1: 1.0000 - val_loss: 0.2748 - val_accuracy: 0.9205 - val_recall_1: 1.0000\n",
            "Epoch 39/50\n",
            "10/10 [==============================] - 0s 7ms/step - loss: 0.0144 - accuracy: 1.0000 - recall_1: 1.0000 - val_loss: 0.2736 - val_accuracy: 0.9205 - val_recall_1: 1.0000\n",
            "Epoch 40/50\n",
            "10/10 [==============================] - 0s 5ms/step - loss: 0.0140 - accuracy: 1.0000 - recall_1: 1.0000 - val_loss: 0.2746 - val_accuracy: 0.9205 - val_recall_1: 1.0000\n",
            "Epoch 41/50\n",
            "10/10 [==============================] - 0s 7ms/step - loss: 0.0134 - accuracy: 1.0000 - recall_1: 1.0000 - val_loss: 0.2777 - val_accuracy: 0.9205 - val_recall_1: 1.0000\n",
            "Epoch 42/50\n",
            "10/10 [==============================] - 0s 6ms/step - loss: 0.0132 - accuracy: 1.0000 - recall_1: 1.0000 - val_loss: 0.2785 - val_accuracy: 0.9205 - val_recall_1: 1.0000\n",
            "Epoch 43/50\n",
            "10/10 [==============================] - 0s 8ms/step - loss: 0.0128 - accuracy: 1.0000 - recall_1: 1.0000 - val_loss: 0.2801 - val_accuracy: 0.9205 - val_recall_1: 1.0000\n",
            "Epoch 44/50\n",
            "10/10 [==============================] - 0s 7ms/step - loss: 0.0125 - accuracy: 1.0000 - recall_1: 1.0000 - val_loss: 0.2828 - val_accuracy: 0.9205 - val_recall_1: 1.0000\n",
            "Epoch 45/50\n",
            "10/10 [==============================] - 0s 7ms/step - loss: 0.0121 - accuracy: 1.0000 - recall_1: 1.0000 - val_loss: 0.2806 - val_accuracy: 0.9205 - val_recall_1: 1.0000\n",
            "Epoch 46/50\n",
            "10/10 [==============================] - 0s 7ms/step - loss: 0.0118 - accuracy: 1.0000 - recall_1: 1.0000 - val_loss: 0.2831 - val_accuracy: 0.9205 - val_recall_1: 1.0000\n",
            "Epoch 47/50\n",
            "10/10 [==============================] - 0s 8ms/step - loss: 0.0116 - accuracy: 1.0000 - recall_1: 1.0000 - val_loss: 0.2862 - val_accuracy: 0.9205 - val_recall_1: 1.0000\n",
            "Epoch 48/50\n",
            "10/10 [==============================] - 0s 6ms/step - loss: 0.0113 - accuracy: 1.0000 - recall_1: 1.0000 - val_loss: 0.2876 - val_accuracy: 0.9205 - val_recall_1: 1.0000\n",
            "Epoch 49/50\n",
            "10/10 [==============================] - 0s 6ms/step - loss: 0.0113 - accuracy: 1.0000 - recall_1: 1.0000 - val_loss: 0.2915 - val_accuracy: 0.9205 - val_recall_1: 1.0000\n",
            "Epoch 50/50\n",
            "10/10 [==============================] - 0s 7ms/step - loss: 0.0108 - accuracy: 1.0000 - recall_1: 1.0000 - val_loss: 0.2926 - val_accuracy: 0.9205 - val_recall_1: 1.0000\n"
          ]
        },
        {
          "output_type": "execute_result",
          "data": {
            "text/plain": [
              "<keras.callbacks.History at 0x7f21fa315450>"
            ]
          },
          "metadata": {},
          "execution_count": 12
        }
      ]
    },
    {
      "cell_type": "markdown",
      "metadata": {
        "id": "coWnXWnxvPkJ"
      },
      "source": [
        "# **Tasa de aprendizaje basado en caidas (drop)**\n",
        "\n",
        "---\n",
        "\n"
      ]
    },
    {
      "cell_type": "code",
      "metadata": {
        "id": "0fNEudsbE-6Q"
      },
      "source": [
        "def step_decay(epochs):\n",
        "  initial_rate = 0.1\n",
        "  drop = 0.5\n",
        "  epochs_drop = 10\n",
        "  lrate = initial_rate * math.pow(drop, math.floor(1+epochs) / epochs_drop)\n",
        "  print(lrate, epochs)\n",
        "  return lrate"
      ],
      "execution_count": 13,
      "outputs": []
    },
    {
      "cell_type": "code",
      "metadata": {
        "id": "3JZOAUFVE2H5"
      },
      "source": [
        "model = Sequential()\n",
        "model.add(Dense(34, input_dim = 34, activation='relu', kernel_initializer='glorot_uniform'))\n",
        "model.add(Dense(1, activation='sigmoid'))"
      ],
      "execution_count": 14,
      "outputs": []
    },
    {
      "cell_type": "code",
      "metadata": {
        "id": "nUjZ6IB6N_VB"
      },
      "source": [
        "sgd = SGD(learning_rate=0.0, momentum = 0.9)\n",
        "model.compile(loss = 'binary_crossentropy', optimizer=sgd, metrics = ['accuracy',Recall()])"
      ],
      "execution_count": 15,
      "outputs": []
    },
    {
      "cell_type": "code",
      "metadata": {
        "id": "XPF02AuCOTYp"
      },
      "source": [
        "lrate = LearningRateScheduler(step_decay)\n",
        "callback_list = [lrate]"
      ],
      "execution_count": 16,
      "outputs": []
    },
    {
      "cell_type": "code",
      "metadata": {
        "id": "dm5hWUixOn6Y",
        "outputId": "c3f19fab-a6be-46b0-ff30-74e51e20843a",
        "colab": {
          "base_uri": "https://localhost:8080/"
        }
      },
      "source": [
        "model.fit(X_train_scaler, y_train_encoder, validation_data=(X_test_scaler, y_test_encoder), epochs=50, batch_size=25, callbacks=callback_list, verbose=1)"
      ],
      "execution_count": 17,
      "outputs": [
        {
          "output_type": "stream",
          "name": "stdout",
          "text": [
            "0.09330329915368074 0\n",
            "Epoch 1/50\n",
            "11/11 [==============================] - 1s 32ms/step - loss: 0.5500 - accuracy: 0.7405 - recall_2: 0.8362 - val_loss: 0.2970 - val_accuracy: 0.8636 - val_recall_2: 0.9362 - lr: 0.0933\n",
            "0.08705505632961241 1\n",
            "Epoch 2/50\n",
            "11/11 [==============================] - 0s 4ms/step - loss: 0.2610 - accuracy: 0.8855 - recall_2: 0.8927 - val_loss: 0.2472 - val_accuracy: 0.8977 - val_recall_2: 0.9574 - lr: 0.0871\n",
            "0.08122523963562356 2\n",
            "Epoch 3/50\n",
            "11/11 [==============================] - 0s 5ms/step - loss: 0.1608 - accuracy: 0.9466 - recall_2: 0.9605 - val_loss: 0.3011 - val_accuracy: 0.8864 - val_recall_2: 0.9787 - lr: 0.0812\n",
            "0.0757858283255199 3\n",
            "Epoch 4/50\n",
            "11/11 [==============================] - 0s 5ms/step - loss: 0.1105 - accuracy: 0.9580 - recall_2: 0.9831 - val_loss: 0.3176 - val_accuracy: 0.9091 - val_recall_2: 1.0000 - lr: 0.0758\n",
            "0.07071067811865477 4\n",
            "Epoch 5/50\n",
            "11/11 [==============================] - 0s 6ms/step - loss: 0.0865 - accuracy: 0.9771 - recall_2: 0.9774 - val_loss: 0.2780 - val_accuracy: 0.9205 - val_recall_2: 0.9787 - lr: 0.0707\n",
            "0.06597539553864472 5\n",
            "Epoch 6/50\n",
            "11/11 [==============================] - 0s 6ms/step - loss: 0.0578 - accuracy: 0.9847 - recall_2: 0.9944 - val_loss: 0.3907 - val_accuracy: 0.9091 - val_recall_2: 1.0000 - lr: 0.0660\n",
            "0.06155722066724582 6\n",
            "Epoch 7/50\n",
            "11/11 [==============================] - 0s 7ms/step - loss: 0.0410 - accuracy: 0.9885 - recall_2: 0.9944 - val_loss: 0.3163 - val_accuracy: 0.9205 - val_recall_2: 1.0000 - lr: 0.0616\n",
            "0.057434917749851745 7\n",
            "Epoch 8/50\n",
            "11/11 [==============================] - 0s 6ms/step - loss: 0.0338 - accuracy: 0.9924 - recall_2: 0.9944 - val_loss: 0.3221 - val_accuracy: 0.9205 - val_recall_2: 1.0000 - lr: 0.0574\n",
            "0.05358867312681466 8\n",
            "Epoch 9/50\n",
            "11/11 [==============================] - 0s 6ms/step - loss: 0.0289 - accuracy: 0.9962 - recall_2: 1.0000 - val_loss: 0.3560 - val_accuracy: 0.9091 - val_recall_2: 1.0000 - lr: 0.0536\n",
            "0.05 9\n",
            "Epoch 10/50\n",
            "11/11 [==============================] - 0s 7ms/step - loss: 0.0251 - accuracy: 0.9962 - recall_2: 1.0000 - val_loss: 0.3820 - val_accuracy: 0.9091 - val_recall_2: 1.0000 - lr: 0.0500\n",
            "0.04665164957684037 10\n",
            "Epoch 11/50\n",
            "11/11 [==============================] - 0s 5ms/step - loss: 0.0235 - accuracy: 1.0000 - recall_2: 1.0000 - val_loss: 0.3922 - val_accuracy: 0.9091 - val_recall_2: 1.0000 - lr: 0.0467\n",
            "0.043527528164806206 11\n",
            "Epoch 12/50\n",
            "11/11 [==============================] - 0s 6ms/step - loss: 0.0217 - accuracy: 1.0000 - recall_2: 1.0000 - val_loss: 0.3868 - val_accuracy: 0.9091 - val_recall_2: 1.0000 - lr: 0.0435\n",
            "0.04061261981781178 12\n",
            "Epoch 13/50\n",
            "11/11 [==============================] - 0s 4ms/step - loss: 0.0204 - accuracy: 1.0000 - recall_2: 1.0000 - val_loss: 0.3829 - val_accuracy: 0.9205 - val_recall_2: 1.0000 - lr: 0.0406\n",
            "0.03789291416275996 13\n",
            "Epoch 14/50\n",
            "11/11 [==============================] - 0s 6ms/step - loss: 0.0194 - accuracy: 1.0000 - recall_2: 1.0000 - val_loss: 0.3905 - val_accuracy: 0.9205 - val_recall_2: 1.0000 - lr: 0.0379\n",
            "0.03535533905932738 14\n",
            "Epoch 15/50\n",
            "11/11 [==============================] - 0s 4ms/step - loss: 0.0180 - accuracy: 1.0000 - recall_2: 1.0000 - val_loss: 0.4036 - val_accuracy: 0.9205 - val_recall_2: 1.0000 - lr: 0.0354\n",
            "0.03298769776932236 15\n",
            "Epoch 16/50\n",
            "11/11 [==============================] - 0s 5ms/step - loss: 0.0174 - accuracy: 1.0000 - recall_2: 1.0000 - val_loss: 0.4033 - val_accuracy: 0.9205 - val_recall_2: 1.0000 - lr: 0.0330\n",
            "0.03077861033362291 16\n",
            "Epoch 17/50\n",
            "11/11 [==============================] - 0s 5ms/step - loss: 0.0164 - accuracy: 1.0000 - recall_2: 1.0000 - val_loss: 0.4082 - val_accuracy: 0.9205 - val_recall_2: 1.0000 - lr: 0.0308\n",
            "0.028717458874925873 17\n",
            "Epoch 18/50\n",
            "11/11 [==============================] - 0s 6ms/step - loss: 0.0163 - accuracy: 1.0000 - recall_2: 1.0000 - val_loss: 0.4064 - val_accuracy: 0.9205 - val_recall_2: 1.0000 - lr: 0.0287\n",
            "0.02679433656340733 18\n",
            "Epoch 19/50\n",
            "11/11 [==============================] - 0s 4ms/step - loss: 0.0153 - accuracy: 1.0000 - recall_2: 1.0000 - val_loss: 0.4024 - val_accuracy: 0.9205 - val_recall_2: 1.0000 - lr: 0.0268\n",
            "0.025 19\n",
            "Epoch 20/50\n",
            "11/11 [==============================] - 0s 4ms/step - loss: 0.0151 - accuracy: 1.0000 - recall_2: 1.0000 - val_loss: 0.4018 - val_accuracy: 0.9205 - val_recall_2: 1.0000 - lr: 0.0250\n",
            "0.023325824788420185 20\n",
            "Epoch 21/50\n",
            "11/11 [==============================] - 0s 6ms/step - loss: 0.0143 - accuracy: 1.0000 - recall_2: 1.0000 - val_loss: 0.4038 - val_accuracy: 0.9205 - val_recall_2: 1.0000 - lr: 0.0233\n",
            "0.021763764082403103 21\n",
            "Epoch 22/50\n",
            "11/11 [==============================] - 0s 4ms/step - loss: 0.0137 - accuracy: 1.0000 - recall_2: 1.0000 - val_loss: 0.4053 - val_accuracy: 0.9205 - val_recall_2: 1.0000 - lr: 0.0218\n",
            "0.02030630990890589 22\n",
            "Epoch 23/50\n",
            "11/11 [==============================] - 0s 6ms/step - loss: 0.0134 - accuracy: 1.0000 - recall_2: 1.0000 - val_loss: 0.4081 - val_accuracy: 0.9205 - val_recall_2: 1.0000 - lr: 0.0203\n",
            "0.01894645708137998 23\n",
            "Epoch 24/50\n",
            "11/11 [==============================] - 0s 6ms/step - loss: 0.0130 - accuracy: 1.0000 - recall_2: 1.0000 - val_loss: 0.4098 - val_accuracy: 0.9205 - val_recall_2: 1.0000 - lr: 0.0189\n",
            "0.01767766952966369 24\n",
            "Epoch 25/50\n",
            "11/11 [==============================] - 0s 6ms/step - loss: 0.0127 - accuracy: 1.0000 - recall_2: 1.0000 - val_loss: 0.4112 - val_accuracy: 0.9205 - val_recall_2: 1.0000 - lr: 0.0177\n",
            "0.01649384888466118 25\n",
            "Epoch 26/50\n",
            "11/11 [==============================] - 0s 4ms/step - loss: 0.0127 - accuracy: 1.0000 - recall_2: 1.0000 - val_loss: 0.4141 - val_accuracy: 0.9205 - val_recall_2: 1.0000 - lr: 0.0165\n",
            "0.015389305166811452 26\n",
            "Epoch 27/50\n",
            "11/11 [==============================] - 0s 6ms/step - loss: 0.0124 - accuracy: 1.0000 - recall_2: 1.0000 - val_loss: 0.4145 - val_accuracy: 0.9205 - val_recall_2: 1.0000 - lr: 0.0154\n",
            "0.01435872943746294 27\n",
            "Epoch 28/50\n",
            "11/11 [==============================] - 0s 5ms/step - loss: 0.0121 - accuracy: 1.0000 - recall_2: 1.0000 - val_loss: 0.4159 - val_accuracy: 0.9205 - val_recall_2: 1.0000 - lr: 0.0144\n",
            "0.013397168281703665 28\n",
            "Epoch 29/50\n",
            "11/11 [==============================] - 0s 4ms/step - loss: 0.0119 - accuracy: 1.0000 - recall_2: 1.0000 - val_loss: 0.4182 - val_accuracy: 0.9205 - val_recall_2: 1.0000 - lr: 0.0134\n",
            "0.0125 29\n",
            "Epoch 30/50\n",
            "11/11 [==============================] - 0s 5ms/step - loss: 0.0117 - accuracy: 1.0000 - recall_2: 1.0000 - val_loss: 0.4193 - val_accuracy: 0.9205 - val_recall_2: 1.0000 - lr: 0.0125\n",
            "0.011662912394210093 30\n",
            "Epoch 31/50\n",
            "11/11 [==============================] - 0s 5ms/step - loss: 0.0116 - accuracy: 1.0000 - recall_2: 1.0000 - val_loss: 0.4200 - val_accuracy: 0.9205 - val_recall_2: 1.0000 - lr: 0.0117\n",
            "0.010881882041201552 31\n",
            "Epoch 32/50\n",
            "11/11 [==============================] - 0s 6ms/step - loss: 0.0115 - accuracy: 1.0000 - recall_2: 1.0000 - val_loss: 0.4199 - val_accuracy: 0.9205 - val_recall_2: 1.0000 - lr: 0.0109\n",
            "0.010153154954452945 32\n",
            "Epoch 33/50\n",
            "11/11 [==============================] - 0s 6ms/step - loss: 0.0114 - accuracy: 1.0000 - recall_2: 1.0000 - val_loss: 0.4202 - val_accuracy: 0.9205 - val_recall_2: 1.0000 - lr: 0.0102\n",
            "0.00947322854068999 33\n",
            "Epoch 34/50\n",
            "11/11 [==============================] - 0s 4ms/step - loss: 0.0113 - accuracy: 1.0000 - recall_2: 1.0000 - val_loss: 0.4209 - val_accuracy: 0.9205 - val_recall_2: 1.0000 - lr: 0.0095\n",
            "0.008838834764831846 34\n",
            "Epoch 35/50\n",
            "11/11 [==============================] - 0s 5ms/step - loss: 0.0112 - accuracy: 1.0000 - recall_2: 1.0000 - val_loss: 0.4219 - val_accuracy: 0.9205 - val_recall_2: 1.0000 - lr: 0.0088\n",
            "0.00824692444233059 35\n",
            "Epoch 36/50\n",
            "11/11 [==============================] - 0s 7ms/step - loss: 0.0111 - accuracy: 1.0000 - recall_2: 1.0000 - val_loss: 0.4224 - val_accuracy: 0.9205 - val_recall_2: 1.0000 - lr: 0.0082\n",
            "0.007694652583405726 36\n",
            "Epoch 37/50\n",
            "11/11 [==============================] - 0s 5ms/step - loss: 0.0109 - accuracy: 1.0000 - recall_2: 1.0000 - val_loss: 0.4225 - val_accuracy: 0.9205 - val_recall_2: 1.0000 - lr: 0.0077\n",
            "0.00717936471873147 37\n",
            "Epoch 38/50\n",
            "11/11 [==============================] - 0s 5ms/step - loss: 0.0109 - accuracy: 1.0000 - recall_2: 1.0000 - val_loss: 0.4230 - val_accuracy: 0.9205 - val_recall_2: 1.0000 - lr: 0.0072\n",
            "0.006698584140851832 38\n",
            "Epoch 39/50\n",
            "11/11 [==============================] - 0s 4ms/step - loss: 0.0108 - accuracy: 1.0000 - recall_2: 1.0000 - val_loss: 0.4237 - val_accuracy: 0.9205 - val_recall_2: 1.0000 - lr: 0.0067\n",
            "0.00625 39\n",
            "Epoch 40/50\n",
            "11/11 [==============================] - 0s 5ms/step - loss: 0.0107 - accuracy: 1.0000 - recall_2: 1.0000 - val_loss: 0.4248 - val_accuracy: 0.9205 - val_recall_2: 1.0000 - lr: 0.0063\n",
            "0.005831456197105048 40\n",
            "Epoch 41/50\n",
            "11/11 [==============================] - 0s 4ms/step - loss: 0.0107 - accuracy: 1.0000 - recall_2: 1.0000 - val_loss: 0.4253 - val_accuracy: 0.9205 - val_recall_2: 1.0000 - lr: 0.0058\n",
            "0.005440941020600776 41\n",
            "Epoch 42/50\n",
            "11/11 [==============================] - 0s 7ms/step - loss: 0.0106 - accuracy: 1.0000 - recall_2: 1.0000 - val_loss: 0.4251 - val_accuracy: 0.9205 - val_recall_2: 1.0000 - lr: 0.0054\n",
            "0.005076577477226472 42\n",
            "Epoch 43/50\n",
            "11/11 [==============================] - 0s 4ms/step - loss: 0.0106 - accuracy: 1.0000 - recall_2: 1.0000 - val_loss: 0.4253 - val_accuracy: 0.9205 - val_recall_2: 1.0000 - lr: 0.0051\n",
            "0.004736614270344993 43\n",
            "Epoch 44/50\n",
            "11/11 [==============================] - 0s 6ms/step - loss: 0.0105 - accuracy: 1.0000 - recall_2: 1.0000 - val_loss: 0.4257 - val_accuracy: 0.9205 - val_recall_2: 1.0000 - lr: 0.0047\n",
            "0.004419417382415923 44\n",
            "Epoch 45/50\n",
            "11/11 [==============================] - 0s 6ms/step - loss: 0.0105 - accuracy: 1.0000 - recall_2: 1.0000 - val_loss: 0.4261 - val_accuracy: 0.9205 - val_recall_2: 1.0000 - lr: 0.0044\n",
            "0.004123462221165296 45\n",
            "Epoch 46/50\n",
            "11/11 [==============================] - 0s 7ms/step - loss: 0.0104 - accuracy: 1.0000 - recall_2: 1.0000 - val_loss: 0.4263 - val_accuracy: 0.9205 - val_recall_2: 1.0000 - lr: 0.0041\n",
            "0.003847326291702863 46\n",
            "Epoch 47/50\n",
            "11/11 [==============================] - 0s 4ms/step - loss: 0.0104 - accuracy: 1.0000 - recall_2: 1.0000 - val_loss: 0.4264 - val_accuracy: 0.9205 - val_recall_2: 1.0000 - lr: 0.0038\n",
            "0.003589682359365735 47\n",
            "Epoch 48/50\n",
            "11/11 [==============================] - 0s 6ms/step - loss: 0.0104 - accuracy: 1.0000 - recall_2: 1.0000 - val_loss: 0.4268 - val_accuracy: 0.9205 - val_recall_2: 1.0000 - lr: 0.0036\n",
            "0.0033492920704259153 48\n",
            "Epoch 49/50\n",
            "11/11 [==============================] - 0s 6ms/step - loss: 0.0103 - accuracy: 1.0000 - recall_2: 1.0000 - val_loss: 0.4271 - val_accuracy: 0.9205 - val_recall_2: 1.0000 - lr: 0.0033\n",
            "0.003125 49\n",
            "Epoch 50/50\n",
            "11/11 [==============================] - 0s 4ms/step - loss: 0.0103 - accuracy: 1.0000 - recall_2: 1.0000 - val_loss: 0.4276 - val_accuracy: 0.9205 - val_recall_2: 1.0000 - lr: 0.0031\n"
          ]
        },
        {
          "output_type": "execute_result",
          "data": {
            "text/plain": [
              "<keras.callbacks.History at 0x7f21fd8ac190>"
            ]
          },
          "metadata": {},
          "execution_count": 17
        }
      ]
    },
    {
      "cell_type": "code",
      "metadata": {
        "colab": {
          "base_uri": "https://localhost:8080/"
        },
        "id": "du5DsVzG2jH8",
        "outputId": "22135eb2-01e9-430a-d632-cd7f5493c541"
      },
      "source": [
        "model.fit(X_train_scaler, y_train_encoder, validation_data=(X_test_scaler, y_test_encoder), epochs=50, batch_size=25, callbacks=callback_list\n",
        "          , verbose = 1)"
      ],
      "execution_count": 18,
      "outputs": [
        {
          "output_type": "stream",
          "name": "stdout",
          "text": [
            "0.09330329915368074 0\n",
            "Epoch 1/50\n",
            "11/11 [==============================] - 0s 9ms/step - loss: 0.0106 - accuracy: 1.0000 - recall_2: 1.0000 - val_loss: 0.4331 - val_accuracy: 0.9205 - val_recall_2: 1.0000 - lr: 0.0933\n",
            "0.08705505632961241 1\n",
            "Epoch 2/50\n",
            "11/11 [==============================] - 0s 6ms/step - loss: 0.0107 - accuracy: 1.0000 - recall_2: 1.0000 - val_loss: 0.4404 - val_accuracy: 0.9205 - val_recall_2: 1.0000 - lr: 0.0871\n",
            "0.08122523963562356 2\n",
            "Epoch 3/50\n",
            "11/11 [==============================] - 0s 6ms/step - loss: 0.0096 - accuracy: 1.0000 - recall_2: 1.0000 - val_loss: 0.4361 - val_accuracy: 0.9205 - val_recall_2: 1.0000 - lr: 0.0812\n",
            "0.0757858283255199 3\n",
            "Epoch 4/50\n",
            "11/11 [==============================] - 0s 7ms/step - loss: 0.0096 - accuracy: 1.0000 - recall_2: 1.0000 - val_loss: 0.4395 - val_accuracy: 0.9205 - val_recall_2: 1.0000 - lr: 0.0758\n",
            "0.07071067811865477 4\n",
            "Epoch 5/50\n",
            "11/11 [==============================] - 0s 7ms/step - loss: 0.0084 - accuracy: 1.0000 - recall_2: 1.0000 - val_loss: 0.4473 - val_accuracy: 0.9205 - val_recall_2: 1.0000 - lr: 0.0707\n",
            "0.06597539553864472 5\n",
            "Epoch 6/50\n",
            "11/11 [==============================] - 0s 7ms/step - loss: 0.0078 - accuracy: 1.0000 - recall_2: 1.0000 - val_loss: 0.4548 - val_accuracy: 0.9205 - val_recall_2: 1.0000 - lr: 0.0660\n",
            "0.06155722066724582 6\n",
            "Epoch 7/50\n",
            "11/11 [==============================] - 0s 5ms/step - loss: 0.0074 - accuracy: 1.0000 - recall_2: 1.0000 - val_loss: 0.4576 - val_accuracy: 0.9205 - val_recall_2: 1.0000 - lr: 0.0616\n",
            "0.057434917749851745 7\n",
            "Epoch 8/50\n",
            "11/11 [==============================] - 0s 5ms/step - loss: 0.0071 - accuracy: 1.0000 - recall_2: 1.0000 - val_loss: 0.4602 - val_accuracy: 0.9205 - val_recall_2: 1.0000 - lr: 0.0574\n",
            "0.05358867312681466 8\n",
            "Epoch 9/50\n",
            "11/11 [==============================] - 0s 6ms/step - loss: 0.0068 - accuracy: 1.0000 - recall_2: 1.0000 - val_loss: 0.4648 - val_accuracy: 0.9205 - val_recall_2: 1.0000 - lr: 0.0536\n",
            "0.05 9\n",
            "Epoch 10/50\n",
            "11/11 [==============================] - 0s 5ms/step - loss: 0.0068 - accuracy: 1.0000 - recall_2: 1.0000 - val_loss: 0.4697 - val_accuracy: 0.9205 - val_recall_2: 1.0000 - lr: 0.0500\n",
            "0.04665164957684037 10\n",
            "Epoch 11/50\n",
            "11/11 [==============================] - 0s 6ms/step - loss: 0.0064 - accuracy: 1.0000 - recall_2: 1.0000 - val_loss: 0.4732 - val_accuracy: 0.9205 - val_recall_2: 1.0000 - lr: 0.0467\n",
            "0.043527528164806206 11\n",
            "Epoch 12/50\n",
            "11/11 [==============================] - 0s 7ms/step - loss: 0.0063 - accuracy: 1.0000 - recall_2: 1.0000 - val_loss: 0.4731 - val_accuracy: 0.9205 - val_recall_2: 1.0000 - lr: 0.0435\n",
            "0.04061261981781178 12\n",
            "Epoch 13/50\n",
            "11/11 [==============================] - 0s 4ms/step - loss: 0.0061 - accuracy: 1.0000 - recall_2: 1.0000 - val_loss: 0.4755 - val_accuracy: 0.9205 - val_recall_2: 1.0000 - lr: 0.0406\n",
            "0.03789291416275996 13\n",
            "Epoch 14/50\n",
            "11/11 [==============================] - 0s 5ms/step - loss: 0.0060 - accuracy: 1.0000 - recall_2: 1.0000 - val_loss: 0.4759 - val_accuracy: 0.9205 - val_recall_2: 1.0000 - lr: 0.0379\n",
            "0.03535533905932738 14\n",
            "Epoch 15/50\n",
            "11/11 [==============================] - 0s 7ms/step - loss: 0.0058 - accuracy: 1.0000 - recall_2: 1.0000 - val_loss: 0.4773 - val_accuracy: 0.9205 - val_recall_2: 1.0000 - lr: 0.0354\n",
            "0.03298769776932236 15\n",
            "Epoch 16/50\n",
            "11/11 [==============================] - 0s 7ms/step - loss: 0.0058 - accuracy: 1.0000 - recall_2: 1.0000 - val_loss: 0.4794 - val_accuracy: 0.9205 - val_recall_2: 1.0000 - lr: 0.0330\n",
            "0.03077861033362291 16\n",
            "Epoch 17/50\n",
            "11/11 [==============================] - 0s 6ms/step - loss: 0.0056 - accuracy: 1.0000 - recall_2: 1.0000 - val_loss: 0.4801 - val_accuracy: 0.9205 - val_recall_2: 1.0000 - lr: 0.0308\n",
            "0.028717458874925873 17\n",
            "Epoch 18/50\n",
            "11/11 [==============================] - 0s 6ms/step - loss: 0.0055 - accuracy: 1.0000 - recall_2: 1.0000 - val_loss: 0.4805 - val_accuracy: 0.9205 - val_recall_2: 1.0000 - lr: 0.0287\n",
            "0.02679433656340733 18\n",
            "Epoch 19/50\n",
            "11/11 [==============================] - 0s 7ms/step - loss: 0.0055 - accuracy: 1.0000 - recall_2: 1.0000 - val_loss: 0.4857 - val_accuracy: 0.9205 - val_recall_2: 1.0000 - lr: 0.0268\n",
            "0.025 19\n",
            "Epoch 20/50\n",
            "11/11 [==============================] - 0s 6ms/step - loss: 0.0055 - accuracy: 1.0000 - recall_2: 1.0000 - val_loss: 0.4858 - val_accuracy: 0.9205 - val_recall_2: 1.0000 - lr: 0.0250\n",
            "0.023325824788420185 20\n",
            "Epoch 21/50\n",
            "11/11 [==============================] - 0s 6ms/step - loss: 0.0053 - accuracy: 1.0000 - recall_2: 1.0000 - val_loss: 0.4854 - val_accuracy: 0.9205 - val_recall_2: 1.0000 - lr: 0.0233\n",
            "0.021763764082403103 21\n",
            "Epoch 22/50\n",
            "11/11 [==============================] - 0s 6ms/step - loss: 0.0052 - accuracy: 1.0000 - recall_2: 1.0000 - val_loss: 0.4867 - val_accuracy: 0.9205 - val_recall_2: 1.0000 - lr: 0.0218\n",
            "0.02030630990890589 22\n",
            "Epoch 23/50\n",
            "11/11 [==============================] - 0s 6ms/step - loss: 0.0051 - accuracy: 1.0000 - recall_2: 1.0000 - val_loss: 0.4866 - val_accuracy: 0.9205 - val_recall_2: 1.0000 - lr: 0.0203\n",
            "0.01894645708137998 23\n",
            "Epoch 24/50\n",
            "11/11 [==============================] - 0s 4ms/step - loss: 0.0051 - accuracy: 1.0000 - recall_2: 1.0000 - val_loss: 0.4882 - val_accuracy: 0.9205 - val_recall_2: 1.0000 - lr: 0.0189\n",
            "0.01767766952966369 24\n",
            "Epoch 25/50\n",
            "11/11 [==============================] - 0s 5ms/step - loss: 0.0050 - accuracy: 1.0000 - recall_2: 1.0000 - val_loss: 0.4902 - val_accuracy: 0.9205 - val_recall_2: 1.0000 - lr: 0.0177\n",
            "0.01649384888466118 25\n",
            "Epoch 26/50\n",
            "11/11 [==============================] - 0s 4ms/step - loss: 0.0049 - accuracy: 1.0000 - recall_2: 1.0000 - val_loss: 0.4915 - val_accuracy: 0.9205 - val_recall_2: 1.0000 - lr: 0.0165\n",
            "0.015389305166811452 26\n",
            "Epoch 27/50\n",
            "11/11 [==============================] - 0s 4ms/step - loss: 0.0049 - accuracy: 1.0000 - recall_2: 1.0000 - val_loss: 0.4917 - val_accuracy: 0.9205 - val_recall_2: 1.0000 - lr: 0.0154\n",
            "0.01435872943746294 27\n",
            "Epoch 28/50\n",
            "11/11 [==============================] - 0s 6ms/step - loss: 0.0048 - accuracy: 1.0000 - recall_2: 1.0000 - val_loss: 0.4923 - val_accuracy: 0.9205 - val_recall_2: 1.0000 - lr: 0.0144\n",
            "0.013397168281703665 28\n",
            "Epoch 29/50\n",
            "11/11 [==============================] - 0s 6ms/step - loss: 0.0048 - accuracy: 1.0000 - recall_2: 1.0000 - val_loss: 0.4928 - val_accuracy: 0.9205 - val_recall_2: 1.0000 - lr: 0.0134\n",
            "0.0125 29\n",
            "Epoch 30/50\n",
            "11/11 [==============================] - 0s 5ms/step - loss: 0.0048 - accuracy: 1.0000 - recall_2: 1.0000 - val_loss: 0.4936 - val_accuracy: 0.9205 - val_recall_2: 1.0000 - lr: 0.0125\n",
            "0.011662912394210093 30\n",
            "Epoch 31/50\n",
            "11/11 [==============================] - 0s 5ms/step - loss: 0.0047 - accuracy: 1.0000 - recall_2: 1.0000 - val_loss: 0.4943 - val_accuracy: 0.9205 - val_recall_2: 1.0000 - lr: 0.0117\n",
            "0.010881882041201552 31\n",
            "Epoch 32/50\n",
            "11/11 [==============================] - 0s 6ms/step - loss: 0.0047 - accuracy: 1.0000 - recall_2: 1.0000 - val_loss: 0.4949 - val_accuracy: 0.9205 - val_recall_2: 1.0000 - lr: 0.0109\n",
            "0.010153154954452945 32\n",
            "Epoch 33/50\n",
            "11/11 [==============================] - 0s 7ms/step - loss: 0.0047 - accuracy: 1.0000 - recall_2: 1.0000 - val_loss: 0.4949 - val_accuracy: 0.9205 - val_recall_2: 1.0000 - lr: 0.0102\n",
            "0.00947322854068999 33\n",
            "Epoch 34/50\n",
            "11/11 [==============================] - 0s 6ms/step - loss: 0.0047 - accuracy: 1.0000 - recall_2: 1.0000 - val_loss: 0.4950 - val_accuracy: 0.9205 - val_recall_2: 1.0000 - lr: 0.0095\n",
            "0.008838834764831846 34\n",
            "Epoch 35/50\n",
            "11/11 [==============================] - 0s 6ms/step - loss: 0.0046 - accuracy: 1.0000 - recall_2: 1.0000 - val_loss: 0.4956 - val_accuracy: 0.9205 - val_recall_2: 1.0000 - lr: 0.0088\n",
            "0.00824692444233059 35\n",
            "Epoch 36/50\n",
            "11/11 [==============================] - 0s 5ms/step - loss: 0.0046 - accuracy: 1.0000 - recall_2: 1.0000 - val_loss: 0.4957 - val_accuracy: 0.9205 - val_recall_2: 1.0000 - lr: 0.0082\n",
            "0.007694652583405726 36\n",
            "Epoch 37/50\n",
            "11/11 [==============================] - 0s 7ms/step - loss: 0.0046 - accuracy: 1.0000 - recall_2: 1.0000 - val_loss: 0.4961 - val_accuracy: 0.9205 - val_recall_2: 1.0000 - lr: 0.0077\n",
            "0.00717936471873147 37\n",
            "Epoch 38/50\n",
            "11/11 [==============================] - 0s 5ms/step - loss: 0.0046 - accuracy: 1.0000 - recall_2: 1.0000 - val_loss: 0.4965 - val_accuracy: 0.9205 - val_recall_2: 1.0000 - lr: 0.0072\n",
            "0.006698584140851832 38\n",
            "Epoch 39/50\n",
            "11/11 [==============================] - 0s 7ms/step - loss: 0.0046 - accuracy: 1.0000 - recall_2: 1.0000 - val_loss: 0.4965 - val_accuracy: 0.9205 - val_recall_2: 1.0000 - lr: 0.0067\n",
            "0.00625 39\n",
            "Epoch 40/50\n",
            "11/11 [==============================] - 0s 6ms/step - loss: 0.0045 - accuracy: 1.0000 - recall_2: 1.0000 - val_loss: 0.4968 - val_accuracy: 0.9205 - val_recall_2: 1.0000 - lr: 0.0063\n",
            "0.005831456197105048 40\n",
            "Epoch 41/50\n",
            "11/11 [==============================] - 0s 5ms/step - loss: 0.0045 - accuracy: 1.0000 - recall_2: 1.0000 - val_loss: 0.4973 - val_accuracy: 0.9205 - val_recall_2: 1.0000 - lr: 0.0058\n",
            "0.005440941020600776 41\n",
            "Epoch 42/50\n",
            "11/11 [==============================] - 0s 4ms/step - loss: 0.0045 - accuracy: 1.0000 - recall_2: 1.0000 - val_loss: 0.4974 - val_accuracy: 0.9205 - val_recall_2: 1.0000 - lr: 0.0054\n",
            "0.005076577477226472 42\n",
            "Epoch 43/50\n",
            "11/11 [==============================] - 0s 5ms/step - loss: 0.0045 - accuracy: 1.0000 - recall_2: 1.0000 - val_loss: 0.4974 - val_accuracy: 0.9205 - val_recall_2: 1.0000 - lr: 0.0051\n",
            "0.004736614270344993 43\n",
            "Epoch 44/50\n",
            "11/11 [==============================] - 0s 6ms/step - loss: 0.0045 - accuracy: 1.0000 - recall_2: 1.0000 - val_loss: 0.4977 - val_accuracy: 0.9205 - val_recall_2: 1.0000 - lr: 0.0047\n",
            "0.004419417382415923 44\n",
            "Epoch 45/50\n",
            "11/11 [==============================] - 0s 6ms/step - loss: 0.0045 - accuracy: 1.0000 - recall_2: 1.0000 - val_loss: 0.4977 - val_accuracy: 0.9205 - val_recall_2: 1.0000 - lr: 0.0044\n",
            "0.004123462221165296 45\n",
            "Epoch 46/50\n",
            "11/11 [==============================] - 0s 7ms/step - loss: 0.0045 - accuracy: 1.0000 - recall_2: 1.0000 - val_loss: 0.4979 - val_accuracy: 0.9205 - val_recall_2: 1.0000 - lr: 0.0041\n",
            "0.003847326291702863 46\n",
            "Epoch 47/50\n",
            "11/11 [==============================] - 0s 6ms/step - loss: 0.0045 - accuracy: 1.0000 - recall_2: 1.0000 - val_loss: 0.4979 - val_accuracy: 0.9205 - val_recall_2: 1.0000 - lr: 0.0038\n",
            "0.003589682359365735 47\n",
            "Epoch 48/50\n",
            "11/11 [==============================] - 0s 6ms/step - loss: 0.0045 - accuracy: 1.0000 - recall_2: 1.0000 - val_loss: 0.4982 - val_accuracy: 0.9205 - val_recall_2: 1.0000 - lr: 0.0036\n",
            "0.0033492920704259153 48\n",
            "Epoch 49/50\n",
            "11/11 [==============================] - 0s 4ms/step - loss: 0.0045 - accuracy: 1.0000 - recall_2: 1.0000 - val_loss: 0.4982 - val_accuracy: 0.9205 - val_recall_2: 1.0000 - lr: 0.0033\n",
            "0.003125 49\n",
            "Epoch 50/50\n",
            "11/11 [==============================] - 0s 4ms/step - loss: 0.0045 - accuracy: 1.0000 - recall_2: 1.0000 - val_loss: 0.4984 - val_accuracy: 0.9205 - val_recall_2: 1.0000 - lr: 0.0031\n"
          ]
        },
        {
          "output_type": "execute_result",
          "data": {
            "text/plain": [
              "<keras.callbacks.History at 0x7f21fd646750>"
            ]
          },
          "metadata": {},
          "execution_count": 18
        }
      ]
    },
    {
      "cell_type": "markdown",
      "metadata": {
        "id": "S8kX0IA24mBS"
      },
      "source": [
        "- Incrementar la tasa de aprendizaje inicial, debido a que la tasa de aprendizaje disminuira, inicie con un valor mayor desde el cual disminuir\n",
        "\n",
        "- Utilizar un gran momentum\n",
        "\n",
        "- Experimente con diferentes planificacion"
      ]
    }
  ]
}