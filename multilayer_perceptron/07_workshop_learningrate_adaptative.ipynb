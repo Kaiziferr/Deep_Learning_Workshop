{
  "nbformat": 4,
  "nbformat_minor": 0,
  "metadata": {
    "colab": {
      "name": "07_workshop_learningrate_adaptative.ipynb",
      "provenance": [],
      "include_colab_link": true
    },
    "kernelspec": {
      "name": "python3",
      "display_name": "Python 3"
    },
    "language_info": {
      "name": "python"
    }
  },
  "cells": [
    {
      "cell_type": "markdown",
      "metadata": {
        "id": "view-in-github",
        "colab_type": "text"
      },
      "source": [
        "<a href=\"https://colab.research.google.com/github/Kaiziferr/deep_learning/blob/master/multilayer_perceptron/07_workshop_learningrate_adaptative.ipynb\" target=\"_parent\"><img src=\"https://colab.research.google.com/assets/colab-badge.svg\" alt=\"Open In Colab\"/></a>"
      ]
    },
    {
      "cell_type": "code",
      "source": [
        "import pandas as pd\n",
        "import numpy as np\n",
        "import matplotlib.pyplot as plt\n",
        "import seaborn as sns\n",
        "\n",
        "import tensorflow as tf\n",
        "\n",
        "from keras.models import Sequential\n",
        "from keras.layers import Dense\n",
        "from keras.optimizers import SGD\n",
        "from keras.optimizers.schedules import ExponentialDecay\n",
        "from keras.callbacks import LearningRateScheduler\n",
        "\n",
        "from sklearn.preprocessing import LabelEncoder, StandardScaler\n",
        "from sklearn.model_selection import train_test_split"
      ],
      "metadata": {
        "id": "PWwVMViSJfNz"
      },
      "execution_count": 1,
      "outputs": []
    },
    {
      "cell_type": "code",
      "source": [
        "url = 'https://raw.githubusercontent.com/Kaiziferr/datasets/main/diabetes.csv'\n",
        "data = pd.read_csv(url)"
      ],
      "metadata": {
        "id": "Fb0ZuS85KLaP"
      },
      "execution_count": 2,
      "outputs": []
    },
    {
      "cell_type": "markdown",
      "metadata": {
        "id": "lWkHjOmBIyjk"
      },
      "source": [
        "# **Split data**\n",
        "---\n",
        "\n"
      ]
    },
    {
      "cell_type": "code",
      "source": [
        "data_values = data.values"
      ],
      "metadata": {
        "id": "CTEx8fDkKWeT"
      },
      "execution_count": 3,
      "outputs": []
    },
    {
      "cell_type": "code",
      "metadata": {
        "id": "SHqgWRDA71W3"
      },
      "source": [
        "X = data_values[:,:8].astype('float')\n",
        "y = data_values[:,8]"
      ],
      "execution_count": 4,
      "outputs": []
    },
    {
      "cell_type": "code",
      "source": [
        "X_train, X_test, y_train, y_test = train_test_split(\n",
        "    X,\n",
        "    y,\n",
        "    train_size=0.8,\n",
        "    shuffle=True,\n",
        "    random_state=1254\n",
        ")"
      ],
      "metadata": {
        "id": "zRb4qIaDKamp"
      },
      "execution_count": 5,
      "outputs": []
    },
    {
      "cell_type": "code",
      "source": [
        "encoder = LabelEncoder()\n",
        "y_train_encoder = encoder.fit_transform(y_train)\n",
        "y_test_encoder = encoder.transform(y_test)"
      ],
      "metadata": {
        "id": "wZ9SqgGRKqi-"
      },
      "execution_count": 6,
      "outputs": []
    },
    {
      "cell_type": "code",
      "source": [
        "estimator_scaler = StandardScaler()\n",
        "X_train_scaler = estimator_scaler.fit_transform(X_train)\n",
        "X_test_scaler = estimator_scaler.transform(X_test)"
      ],
      "metadata": {
        "id": "HRjPYFc1K60l"
      },
      "execution_count": 7,
      "outputs": []
    },
    {
      "cell_type": "code",
      "source": [
        "def optimization_learning_curves(\n",
        "    history:dict,\n",
        "    metrica:str,\n",
        "    title:str='',\n",
        "    X_size:int=8,\n",
        "    y_size:int=4,\n",
        "    font_size:int=15,\n",
        "    X_label:str='Epoch',\n",
        "    y_label:str='Loss'\n",
        ")->None:\n",
        "  \"\"\" Grafica curvas de aprendizaje \"\"\"\n",
        "  fig, ax = plt.subplots(figsize=(X_size, y_size))\n",
        "  fig.suptitle(title, fontsize=font_size)\n",
        "  ax.plot(history.history[metrica])\n",
        "  ax.plot(history.history[f'val_{metrica}'])\n",
        "  ax.set_xlabel(X_label, size = 12)\n",
        "  ax.set_ylabel(y_label, size = 12)\n",
        "  ax.legend(['Train', 'Test'], loc = 'upper right', fontsize = 12)\n",
        "  ax.tick_params(labelsize = 12)\n",
        "  fig.show()"
      ],
      "metadata": {
        "id": "B9ldxd8iDbeE"
      },
      "execution_count": 8,
      "outputs": []
    },
    {
      "cell_type": "markdown",
      "metadata": {
        "id": "SyrnzI4EwFtS"
      },
      "source": [
        "# **Optimizador Adaptativo Adam**\n",
        "\n",
        "---\n",
        "\n"
      ]
    },
    {
      "cell_type": "code",
      "source": [
        "model = Sequential()\n",
        "model.add(Dense(1, input_dim = 8, activation='relu', kernel_initializer = 'glorot_uniform'))\n",
        "model.add(Dense(1, activation='sigmoid', kernel_initializer='glorot_uniform'))"
      ],
      "metadata": {
        "id": "V5lWlpeotXqy"
      },
      "execution_count": 9,
      "outputs": []
    },
    {
      "cell_type": "code",
      "source": [
        "model.compile(\n",
        "    loss = 'binary_crossentropy',\n",
        "    optimizer = 'adam'\n",
        ")\n",
        "\n",
        "history = model.fit(\n",
        "    X_train_scaler,\n",
        "    y_train_encoder,\n",
        "    validation_data=(X_test_scaler, y_test_encoder),\n",
        "    epochs=100,\n",
        "    batch_size=10,\n",
        "    verbose = 1\n",
        ")"
      ],
      "metadata": {
        "id": "5OE87Xobtw0e",
        "outputId": "05d4a3be-e3d6-4498-8848-cd3bc10683d7",
        "colab": {
          "base_uri": "https://localhost:8080/"
        }
      },
      "execution_count": 10,
      "outputs": [
        {
          "output_type": "stream",
          "name": "stdout",
          "text": [
            "Epoch 1/100\n",
            "62/62 [==============================] - 9s 58ms/step - loss: 0.7018 - val_loss: 0.7028\n",
            "Epoch 2/100\n",
            "62/62 [==============================] - 1s 21ms/step - loss: 0.6930 - val_loss: 0.6946\n",
            "Epoch 3/100\n",
            "62/62 [==============================] - 1s 9ms/step - loss: 0.6859 - val_loss: 0.6872\n",
            "Epoch 4/100\n",
            "62/62 [==============================] - 1s 13ms/step - loss: 0.6801 - val_loss: 0.6813\n",
            "Epoch 5/100\n",
            "62/62 [==============================] - 1s 17ms/step - loss: 0.6753 - val_loss: 0.6765\n",
            "Epoch 6/100\n",
            "62/62 [==============================] - 1s 16ms/step - loss: 0.6711 - val_loss: 0.6719\n",
            "Epoch 7/100\n",
            "62/62 [==============================] - 1s 15ms/step - loss: 0.6674 - val_loss: 0.6679\n",
            "Epoch 8/100\n",
            "62/62 [==============================] - 1s 16ms/step - loss: 0.6643 - val_loss: 0.6645\n",
            "Epoch 9/100\n",
            "62/62 [==============================] - 1s 14ms/step - loss: 0.6614 - val_loss: 0.6615\n",
            "Epoch 10/100\n",
            "62/62 [==============================] - 1s 14ms/step - loss: 0.6591 - val_loss: 0.6589\n",
            "Epoch 11/100\n",
            "62/62 [==============================] - 1s 12ms/step - loss: 0.6571 - val_loss: 0.6562\n",
            "Epoch 12/100\n",
            "62/62 [==============================] - 1s 8ms/step - loss: 0.6550 - val_loss: 0.6537\n",
            "Epoch 13/100\n",
            "62/62 [==============================] - 1s 13ms/step - loss: 0.6532 - val_loss: 0.6512\n",
            "Epoch 14/100\n",
            "62/62 [==============================] - 1s 14ms/step - loss: 0.6512 - val_loss: 0.6489\n",
            "Epoch 15/100\n",
            "62/62 [==============================] - 1s 19ms/step - loss: 0.6492 - val_loss: 0.6457\n",
            "Epoch 16/100\n",
            "62/62 [==============================] - 1s 21ms/step - loss: 0.6467 - val_loss: 0.6425\n",
            "Epoch 17/100\n",
            "62/62 [==============================] - 1s 20ms/step - loss: 0.6436 - val_loss: 0.6381\n",
            "Epoch 18/100\n",
            "62/62 [==============================] - 1s 14ms/step - loss: 0.6393 - val_loss: 0.6317\n",
            "Epoch 19/100\n",
            "62/62 [==============================] - 1s 13ms/step - loss: 0.6337 - val_loss: 0.6253\n",
            "Epoch 20/100\n",
            "62/62 [==============================] - 1s 9ms/step - loss: 0.6274 - val_loss: 0.6176\n",
            "Epoch 21/100\n",
            "62/62 [==============================] - 1s 11ms/step - loss: 0.6202 - val_loss: 0.6103\n",
            "Epoch 22/100\n",
            "62/62 [==============================] - 1s 10ms/step - loss: 0.6130 - val_loss: 0.6032\n",
            "Epoch 23/100\n",
            "62/62 [==============================] - 1s 11ms/step - loss: 0.6058 - val_loss: 0.5966\n",
            "Epoch 24/100\n",
            "62/62 [==============================] - 1s 12ms/step - loss: 0.5987 - val_loss: 0.5905\n",
            "Epoch 25/100\n",
            "62/62 [==============================] - 1s 10ms/step - loss: 0.5920 - val_loss: 0.5847\n",
            "Epoch 26/100\n",
            "62/62 [==============================] - 0s 8ms/step - loss: 0.5859 - val_loss: 0.5793\n",
            "Epoch 27/100\n",
            "62/62 [==============================] - 1s 9ms/step - loss: 0.5797 - val_loss: 0.5745\n",
            "Epoch 28/100\n",
            "62/62 [==============================] - 1s 10ms/step - loss: 0.5744 - val_loss: 0.5695\n",
            "Epoch 29/100\n",
            "62/62 [==============================] - 1s 9ms/step - loss: 0.5688 - val_loss: 0.5652\n",
            "Epoch 30/100\n",
            "62/62 [==============================] - 1s 10ms/step - loss: 0.5639 - val_loss: 0.5613\n",
            "Epoch 31/100\n",
            "62/62 [==============================] - 1s 10ms/step - loss: 0.5594 - val_loss: 0.5576\n",
            "Epoch 32/100\n",
            "62/62 [==============================] - 0s 7ms/step - loss: 0.5553 - val_loss: 0.5541\n",
            "Epoch 33/100\n",
            "62/62 [==============================] - 1s 10ms/step - loss: 0.5513 - val_loss: 0.5505\n",
            "Epoch 34/100\n",
            "62/62 [==============================] - 1s 10ms/step - loss: 0.5476 - val_loss: 0.5473\n",
            "Epoch 35/100\n",
            "62/62 [==============================] - 1s 18ms/step - loss: 0.5440 - val_loss: 0.5446\n",
            "Epoch 36/100\n",
            "62/62 [==============================] - 1s 21ms/step - loss: 0.5406 - val_loss: 0.5415\n",
            "Epoch 37/100\n",
            "62/62 [==============================] - 1s 10ms/step - loss: 0.5375 - val_loss: 0.5386\n",
            "Epoch 38/100\n",
            "62/62 [==============================] - 1s 15ms/step - loss: 0.5347 - val_loss: 0.5358\n",
            "Epoch 39/100\n",
            "62/62 [==============================] - 1s 11ms/step - loss: 0.5318 - val_loss: 0.5334\n",
            "Epoch 40/100\n",
            "62/62 [==============================] - 1s 12ms/step - loss: 0.5293 - val_loss: 0.5312\n",
            "Epoch 41/100\n",
            "62/62 [==============================] - 1s 10ms/step - loss: 0.5269 - val_loss: 0.5286\n",
            "Epoch 42/100\n",
            "62/62 [==============================] - 1s 10ms/step - loss: 0.5247 - val_loss: 0.5266\n",
            "Epoch 43/100\n",
            "62/62 [==============================] - 1s 8ms/step - loss: 0.5226 - val_loss: 0.5245\n",
            "Epoch 44/100\n",
            "62/62 [==============================] - 0s 4ms/step - loss: 0.5206 - val_loss: 0.5228\n",
            "Epoch 45/100\n",
            "62/62 [==============================] - 0s 3ms/step - loss: 0.5187 - val_loss: 0.5208\n",
            "Epoch 46/100\n",
            "62/62 [==============================] - 0s 4ms/step - loss: 0.5169 - val_loss: 0.5191\n",
            "Epoch 47/100\n",
            "62/62 [==============================] - 0s 3ms/step - loss: 0.5155 - val_loss: 0.5171\n",
            "Epoch 48/100\n",
            "62/62 [==============================] - 0s 4ms/step - loss: 0.5135 - val_loss: 0.5157\n",
            "Epoch 49/100\n",
            "62/62 [==============================] - 0s 3ms/step - loss: 0.5120 - val_loss: 0.5141\n",
            "Epoch 50/100\n",
            "62/62 [==============================] - 0s 4ms/step - loss: 0.5104 - val_loss: 0.5130\n",
            "Epoch 51/100\n",
            "62/62 [==============================] - 0s 3ms/step - loss: 0.5089 - val_loss: 0.5119\n",
            "Epoch 52/100\n",
            "62/62 [==============================] - 0s 3ms/step - loss: 0.5075 - val_loss: 0.5103\n",
            "Epoch 53/100\n",
            "62/62 [==============================] - 0s 3ms/step - loss: 0.5060 - val_loss: 0.5091\n",
            "Epoch 54/100\n",
            "62/62 [==============================] - 0s 3ms/step - loss: 0.5045 - val_loss: 0.5077\n",
            "Epoch 55/100\n",
            "62/62 [==============================] - 0s 4ms/step - loss: 0.5036 - val_loss: 0.5070\n",
            "Epoch 56/100\n",
            "62/62 [==============================] - 0s 3ms/step - loss: 0.5021 - val_loss: 0.5055\n",
            "Epoch 57/100\n",
            "62/62 [==============================] - 0s 3ms/step - loss: 0.5009 - val_loss: 0.5048\n",
            "Epoch 58/100\n",
            "62/62 [==============================] - 0s 3ms/step - loss: 0.4998 - val_loss: 0.5043\n",
            "Epoch 59/100\n",
            "62/62 [==============================] - 0s 4ms/step - loss: 0.4990 - val_loss: 0.5034\n",
            "Epoch 60/100\n",
            "62/62 [==============================] - 0s 3ms/step - loss: 0.4980 - val_loss: 0.5028\n",
            "Epoch 61/100\n",
            "62/62 [==============================] - 0s 3ms/step - loss: 0.4972 - val_loss: 0.5019\n",
            "Epoch 62/100\n",
            "62/62 [==============================] - 0s 3ms/step - loss: 0.4965 - val_loss: 0.5017\n",
            "Epoch 63/100\n",
            "62/62 [==============================] - 0s 3ms/step - loss: 0.4956 - val_loss: 0.5009\n",
            "Epoch 64/100\n",
            "62/62 [==============================] - 0s 3ms/step - loss: 0.4948 - val_loss: 0.5006\n",
            "Epoch 65/100\n",
            "62/62 [==============================] - 0s 2ms/step - loss: 0.4940 - val_loss: 0.5003\n",
            "Epoch 66/100\n",
            "62/62 [==============================] - 0s 3ms/step - loss: 0.4935 - val_loss: 0.4996\n",
            "Epoch 67/100\n",
            "62/62 [==============================] - 0s 2ms/step - loss: 0.4928 - val_loss: 0.4995\n",
            "Epoch 68/100\n",
            "62/62 [==============================] - 0s 2ms/step - loss: 0.4922 - val_loss: 0.4988\n",
            "Epoch 69/100\n",
            "62/62 [==============================] - 0s 2ms/step - loss: 0.4917 - val_loss: 0.4983\n",
            "Epoch 70/100\n",
            "62/62 [==============================] - 0s 3ms/step - loss: 0.4910 - val_loss: 0.4980\n",
            "Epoch 71/100\n",
            "62/62 [==============================] - 0s 4ms/step - loss: 0.4904 - val_loss: 0.4979\n",
            "Epoch 72/100\n",
            "62/62 [==============================] - 0s 3ms/step - loss: 0.4899 - val_loss: 0.4972\n",
            "Epoch 73/100\n",
            "62/62 [==============================] - 0s 3ms/step - loss: 0.4896 - val_loss: 0.4968\n",
            "Epoch 74/100\n",
            "62/62 [==============================] - 0s 3ms/step - loss: 0.4889 - val_loss: 0.4967\n",
            "Epoch 75/100\n",
            "62/62 [==============================] - 0s 3ms/step - loss: 0.4885 - val_loss: 0.4967\n",
            "Epoch 76/100\n",
            "62/62 [==============================] - 0s 3ms/step - loss: 0.4884 - val_loss: 0.4968\n",
            "Epoch 77/100\n",
            "62/62 [==============================] - 0s 2ms/step - loss: 0.4878 - val_loss: 0.4959\n",
            "Epoch 78/100\n",
            "62/62 [==============================] - 0s 2ms/step - loss: 0.4874 - val_loss: 0.4957\n",
            "Epoch 79/100\n",
            "62/62 [==============================] - 0s 4ms/step - loss: 0.4871 - val_loss: 0.4956\n",
            "Epoch 80/100\n",
            "62/62 [==============================] - 0s 4ms/step - loss: 0.4867 - val_loss: 0.4953\n",
            "Epoch 81/100\n",
            "62/62 [==============================] - 0s 5ms/step - loss: 0.4865 - val_loss: 0.4953\n",
            "Epoch 82/100\n",
            "62/62 [==============================] - 0s 4ms/step - loss: 0.4861 - val_loss: 0.4949\n",
            "Epoch 83/100\n",
            "62/62 [==============================] - 0s 4ms/step - loss: 0.4861 - val_loss: 0.4950\n",
            "Epoch 84/100\n",
            "62/62 [==============================] - 0s 4ms/step - loss: 0.4856 - val_loss: 0.4948\n",
            "Epoch 85/100\n",
            "62/62 [==============================] - 0s 4ms/step - loss: 0.4856 - val_loss: 0.4948\n",
            "Epoch 86/100\n",
            "62/62 [==============================] - 0s 3ms/step - loss: 0.4853 - val_loss: 0.4955\n",
            "Epoch 87/100\n",
            "62/62 [==============================] - 0s 3ms/step - loss: 0.4849 - val_loss: 0.4943\n",
            "Epoch 88/100\n",
            "62/62 [==============================] - 0s 5ms/step - loss: 0.4846 - val_loss: 0.4946\n",
            "Epoch 89/100\n",
            "62/62 [==============================] - 0s 4ms/step - loss: 0.4842 - val_loss: 0.4939\n",
            "Epoch 90/100\n",
            "62/62 [==============================] - 0s 4ms/step - loss: 0.4842 - val_loss: 0.4937\n",
            "Epoch 91/100\n",
            "62/62 [==============================] - 0s 4ms/step - loss: 0.4839 - val_loss: 0.4933\n",
            "Epoch 92/100\n",
            "62/62 [==============================] - 0s 4ms/step - loss: 0.4838 - val_loss: 0.4943\n",
            "Epoch 93/100\n",
            "62/62 [==============================] - 0s 4ms/step - loss: 0.4832 - val_loss: 0.4936\n",
            "Epoch 94/100\n",
            "62/62 [==============================] - 0s 4ms/step - loss: 0.4832 - val_loss: 0.4935\n",
            "Epoch 95/100\n",
            "62/62 [==============================] - 0s 4ms/step - loss: 0.4830 - val_loss: 0.4935\n",
            "Epoch 96/100\n",
            "62/62 [==============================] - 0s 4ms/step - loss: 0.4827 - val_loss: 0.4928\n",
            "Epoch 97/100\n",
            "62/62 [==============================] - 0s 4ms/step - loss: 0.4825 - val_loss: 0.4938\n",
            "Epoch 98/100\n",
            "62/62 [==============================] - 0s 5ms/step - loss: 0.4823 - val_loss: 0.4937\n",
            "Epoch 99/100\n",
            "62/62 [==============================] - 0s 5ms/step - loss: 0.4820 - val_loss: 0.4931\n",
            "Epoch 100/100\n",
            "62/62 [==============================] - 0s 4ms/step - loss: 0.4819 - val_loss: 0.4928\n"
          ]
        }
      ]
    },
    {
      "cell_type": "code",
      "source": [
        "len(X_train_scaler)/10"
      ],
      "metadata": {
        "id": "oW9Il20EuP5D",
        "outputId": "a2f48be4-a0b7-48cc-e3e5-921161fef95b",
        "colab": {
          "base_uri": "https://localhost:8080/"
        }
      },
      "execution_count": 12,
      "outputs": [
        {
          "output_type": "execute_result",
          "data": {
            "text/plain": [
              "61.4"
            ]
          },
          "metadata": {},
          "execution_count": 12
        }
      ]
    },
    {
      "cell_type": "markdown",
      "source": [
        "122.8 lotes con 5 muestras"
      ],
      "metadata": {
        "id": "fUZWST6mudIq"
      }
    },
    {
      "cell_type": "code",
      "source": [
        "optimization_learning_curves(history, metrica='loss', title='Loss vs Val Loss')"
      ],
      "metadata": {
        "colab": {
          "base_uri": "https://localhost:8080/",
          "height": 436
        },
        "id": "fSQ-lxlrDkYt",
        "outputId": "86a4f111-c86b-4567-c99c-19b375343bad"
      },
      "execution_count": 11,
      "outputs": [
        {
          "output_type": "display_data",
          "data": {
            "text/plain": [
              "<Figure size 800x400 with 1 Axes>"
            ],
            "image/png": "[encoded data removed]"
          },
          "metadata": {}
        }
      ]
    },
    {
      "cell_type": "markdown",
      "source": [
        "- El modelo tiene una convergencia en la época 50\n",
        "- El error se redujo a 0.49 aproximadamente en la época 58."
      ],
      "metadata": {
        "id": "lcp8-c8Io6Nq"
      }
    },
    {
      "cell_type": "markdown",
      "metadata": {
        "id": "OdYWB3mEvWwg"
      },
      "source": [
        "# **Planificación de learning rate en función del tiempo**\n",
        "\n",
        "---\n",
        "\n"
      ]
    },
    {
      "cell_type": "code",
      "source": [
        "model2 = Sequential()\n",
        "model2.add(Dense(1, input_dim=8, activation='relu', kernel_initializer='glorot_uniform'))\n",
        "model2.add(Dense(1, activation='sigmoid', kernel_initializer='glorot_uniform'))"
      ],
      "metadata": {
        "id": "Byp14uHgC_cY"
      },
      "execution_count": 43,
      "outputs": []
    },
    {
      "cell_type": "code",
      "source": [
        "epoch = 100\n",
        "lr = 0.01\n",
        "decay_rate = lr/epoch\n",
        "momentum = 0.8"
      ],
      "metadata": {
        "id": "k6PaPw9lfuiI"
      },
      "execution_count": 44,
      "outputs": []
    },
    {
      "cell_type": "code",
      "source": [
        "lr_schedule = ExponentialDecay(\n",
        "    initial_learning_rate=lr,\n",
        "    decay_steps = 10000,\n",
        "    decay_rate = decay_rate\n",
        ")"
      ],
      "metadata": {
        "id": "BFunobS4h5ay"
      },
      "execution_count": 45,
      "outputs": []
    },
    {
      "cell_type": "code",
      "source": [
        "sgd = SGD(learning_rate=lr_schedule, momentum=momentum, nesterov=False)"
      ],
      "metadata": {
        "id": "j_noafXpf8np"
      },
      "execution_count": 46,
      "outputs": []
    },
    {
      "cell_type": "code",
      "source": [
        "model2.compile(loss='binary_crossentropy', optimizer=sgd)"
      ],
      "metadata": {
        "id": "5B1gjpY1i35A"
      },
      "execution_count": 47,
      "outputs": []
    },
    {
      "cell_type": "code",
      "source": [
        "history2 = model2.fit(\n",
        "    X_train_scaler,\n",
        "    y_train_encoder,\n",
        "    validation_data=(X_test_scaler, y_test_encoder),\n",
        "    epochs = epoch,\n",
        "    batch_size=10,\n",
        "    verbose = 1\n",
        ")"
      ],
      "metadata": {
        "id": "bPZqKndti7dh",
        "outputId": "66e357f8-5d3d-4297-898f-e2a23bf8e2ca",
        "colab": {
          "base_uri": "https://localhost:8080/"
        }
      },
      "execution_count": 48,
      "outputs": [
        {
          "output_type": "stream",
          "name": "stdout",
          "text": [
            "Epoch 1/100\n",
            "62/62 [==============================] - 1s 5ms/step - loss: 0.7882 - val_loss: 0.6911\n",
            "Epoch 2/100\n",
            "62/62 [==============================] - 0s 4ms/step - loss: 0.6816 - val_loss: 0.6508\n",
            "Epoch 3/100\n",
            "62/62 [==============================] - 0s 3ms/step - loss: 0.6538 - val_loss: 0.6356\n",
            "Epoch 4/100\n",
            "62/62 [==============================] - 0s 2ms/step - loss: 0.6366 - val_loss: 0.6199\n",
            "Epoch 5/100\n",
            "62/62 [==============================] - 0s 3ms/step - loss: 0.6191 - val_loss: 0.6040\n",
            "Epoch 6/100\n",
            "62/62 [==============================] - 0s 2ms/step - loss: 0.6018 - val_loss: 0.5864\n",
            "Epoch 7/100\n",
            "62/62 [==============================] - 0s 3ms/step - loss: 0.5831 - val_loss: 0.5685\n",
            "Epoch 8/100\n",
            "62/62 [==============================] - 0s 2ms/step - loss: 0.5649 - val_loss: 0.5533\n",
            "Epoch 9/100\n",
            "62/62 [==============================] - 0s 4ms/step - loss: 0.5514 - val_loss: 0.5425\n",
            "Epoch 10/100\n",
            "62/62 [==============================] - 0s 5ms/step - loss: 0.5411 - val_loss: 0.5335\n",
            "Epoch 11/100\n",
            "62/62 [==============================] - 0s 6ms/step - loss: 0.5329 - val_loss: 0.5272\n",
            "Epoch 12/100\n",
            "62/62 [==============================] - 0s 4ms/step - loss: 0.5261 - val_loss: 0.5224\n",
            "Epoch 13/100\n",
            "62/62 [==============================] - 0s 4ms/step - loss: 0.5209 - val_loss: 0.5184\n",
            "Epoch 14/100\n",
            "62/62 [==============================] - 0s 4ms/step - loss: 0.5169 - val_loss: 0.5155\n",
            "Epoch 15/100\n",
            "62/62 [==============================] - 0s 5ms/step - loss: 0.5133 - val_loss: 0.5137\n",
            "Epoch 16/100\n",
            "62/62 [==============================] - 0s 4ms/step - loss: 0.5106 - val_loss: 0.5121\n",
            "Epoch 17/100\n",
            "62/62 [==============================] - 0s 3ms/step - loss: 0.5083 - val_loss: 0.5102\n",
            "Epoch 18/100\n",
            "62/62 [==============================] - 0s 3ms/step - loss: 0.5066 - val_loss: 0.5090\n",
            "Epoch 19/100\n",
            "62/62 [==============================] - 0s 4ms/step - loss: 0.5052 - val_loss: 0.5080\n",
            "Epoch 20/100\n",
            "62/62 [==============================] - 0s 3ms/step - loss: 0.5038 - val_loss: 0.5066\n",
            "Epoch 21/100\n",
            "62/62 [==============================] - 0s 4ms/step - loss: 0.5030 - val_loss: 0.5057\n",
            "Epoch 22/100\n",
            "62/62 [==============================] - 0s 3ms/step - loss: 0.5017 - val_loss: 0.5045\n",
            "Epoch 23/100\n",
            "62/62 [==============================] - 0s 2ms/step - loss: 0.5008 - val_loss: 0.5039\n",
            "Epoch 24/100\n",
            "62/62 [==============================] - 0s 2ms/step - loss: 0.5003 - val_loss: 0.5032\n",
            "Epoch 25/100\n",
            "62/62 [==============================] - 0s 2ms/step - loss: 0.4994 - val_loss: 0.5026\n",
            "Epoch 26/100\n",
            "62/62 [==============================] - 0s 2ms/step - loss: 0.4989 - val_loss: 0.5021\n",
            "Epoch 27/100\n",
            "62/62 [==============================] - 0s 2ms/step - loss: 0.4986 - val_loss: 0.5016\n",
            "Epoch 28/100\n",
            "62/62 [==============================] - 0s 3ms/step - loss: 0.4982 - val_loss: 0.5013\n",
            "Epoch 29/100\n",
            "62/62 [==============================] - 0s 2ms/step - loss: 0.4981 - val_loss: 0.5010\n",
            "Epoch 30/100\n",
            "62/62 [==============================] - 0s 3ms/step - loss: 0.4976 - val_loss: 0.5006\n",
            "Epoch 31/100\n",
            "62/62 [==============================] - 0s 2ms/step - loss: 0.4973 - val_loss: 0.5004\n",
            "Epoch 32/100\n",
            "62/62 [==============================] - 0s 3ms/step - loss: 0.4970 - val_loss: 0.5001\n",
            "Epoch 33/100\n",
            "62/62 [==============================] - 0s 2ms/step - loss: 0.4970 - val_loss: 0.5000\n",
            "Epoch 34/100\n",
            "62/62 [==============================] - 0s 2ms/step - loss: 0.4967 - val_loss: 0.4999\n",
            "Epoch 35/100\n",
            "62/62 [==============================] - 0s 3ms/step - loss: 0.4967 - val_loss: 0.4998\n",
            "Epoch 36/100\n",
            "62/62 [==============================] - 0s 2ms/step - loss: 0.4966 - val_loss: 0.4997\n",
            "Epoch 37/100\n",
            "62/62 [==============================] - 0s 2ms/step - loss: 0.4964 - val_loss: 0.4996\n",
            "Epoch 38/100\n",
            "62/62 [==============================] - 0s 2ms/step - loss: 0.4963 - val_loss: 0.4993\n",
            "Epoch 39/100\n",
            "62/62 [==============================] - 0s 2ms/step - loss: 0.4962 - val_loss: 0.4993\n",
            "Epoch 40/100\n",
            "62/62 [==============================] - 0s 2ms/step - loss: 0.4962 - val_loss: 0.4990\n",
            "Epoch 41/100\n",
            "62/62 [==============================] - 0s 3ms/step - loss: 0.4960 - val_loss: 0.4990\n",
            "Epoch 42/100\n",
            "62/62 [==============================] - 0s 3ms/step - loss: 0.4959 - val_loss: 0.4989\n",
            "Epoch 43/100\n",
            "62/62 [==============================] - 0s 3ms/step - loss: 0.4959 - val_loss: 0.4988\n",
            "Epoch 44/100\n",
            "62/62 [==============================] - 0s 3ms/step - loss: 0.4959 - val_loss: 0.4987\n",
            "Epoch 45/100\n",
            "62/62 [==============================] - 0s 3ms/step - loss: 0.4958 - val_loss: 0.4986\n",
            "Epoch 46/100\n",
            "62/62 [==============================] - 0s 3ms/step - loss: 0.4957 - val_loss: 0.4986\n",
            "Epoch 47/100\n",
            "62/62 [==============================] - 0s 4ms/step - loss: 0.4957 - val_loss: 0.4986\n",
            "Epoch 48/100\n",
            "62/62 [==============================] - 0s 3ms/step - loss: 0.4957 - val_loss: 0.4985\n",
            "Epoch 49/100\n",
            "62/62 [==============================] - 0s 3ms/step - loss: 0.4956 - val_loss: 0.4985\n",
            "Epoch 50/100\n",
            "62/62 [==============================] - 0s 3ms/step - loss: 0.4956 - val_loss: 0.4985\n",
            "Epoch 51/100\n",
            "62/62 [==============================] - 0s 3ms/step - loss: 0.4956 - val_loss: 0.4985\n",
            "Epoch 52/100\n",
            "62/62 [==============================] - 0s 3ms/step - loss: 0.4955 - val_loss: 0.4984\n",
            "Epoch 53/100\n",
            "62/62 [==============================] - 0s 3ms/step - loss: 0.4955 - val_loss: 0.4984\n",
            "Epoch 54/100\n",
            "62/62 [==============================] - 0s 3ms/step - loss: 0.4954 - val_loss: 0.4984\n",
            "Epoch 55/100\n",
            "62/62 [==============================] - 0s 4ms/step - loss: 0.4954 - val_loss: 0.4983\n",
            "Epoch 56/100\n",
            "62/62 [==============================] - 0s 3ms/step - loss: 0.4954 - val_loss: 0.4983\n",
            "Epoch 57/100\n",
            "62/62 [==============================] - 0s 3ms/step - loss: 0.4954 - val_loss: 0.4983\n",
            "Epoch 58/100\n",
            "62/62 [==============================] - 0s 3ms/step - loss: 0.4953 - val_loss: 0.4983\n",
            "Epoch 59/100\n",
            "62/62 [==============================] - 0s 3ms/step - loss: 0.4953 - val_loss: 0.4982\n",
            "Epoch 60/100\n",
            "62/62 [==============================] - 0s 3ms/step - loss: 0.4953 - val_loss: 0.4982\n",
            "Epoch 61/100\n",
            "62/62 [==============================] - 0s 3ms/step - loss: 0.4952 - val_loss: 0.4983\n",
            "Epoch 62/100\n",
            "62/62 [==============================] - 0s 3ms/step - loss: 0.4952 - val_loss: 0.4982\n",
            "Epoch 63/100\n",
            "62/62 [==============================] - 0s 3ms/step - loss: 0.4952 - val_loss: 0.4982\n",
            "Epoch 64/100\n",
            "62/62 [==============================] - 0s 3ms/step - loss: 0.4952 - val_loss: 0.4982\n",
            "Epoch 65/100\n",
            "62/62 [==============================] - 0s 3ms/step - loss: 0.4952 - val_loss: 0.4982\n",
            "Epoch 66/100\n",
            "62/62 [==============================] - 0s 4ms/step - loss: 0.4952 - val_loss: 0.4981\n",
            "Epoch 67/100\n",
            "62/62 [==============================] - 0s 3ms/step - loss: 0.4952 - val_loss: 0.4982\n",
            "Epoch 68/100\n",
            "62/62 [==============================] - 0s 3ms/step - loss: 0.4952 - val_loss: 0.4982\n",
            "Epoch 69/100\n",
            "62/62 [==============================] - 0s 3ms/step - loss: 0.4952 - val_loss: 0.4982\n",
            "Epoch 70/100\n",
            "62/62 [==============================] - 0s 3ms/step - loss: 0.4951 - val_loss: 0.4982\n",
            "Epoch 71/100\n",
            "62/62 [==============================] - 0s 3ms/step - loss: 0.4952 - val_loss: 0.4981\n",
            "Epoch 72/100\n",
            "62/62 [==============================] - 0s 3ms/step - loss: 0.4951 - val_loss: 0.4981\n",
            "Epoch 73/100\n",
            "62/62 [==============================] - 0s 2ms/step - loss: 0.4951 - val_loss: 0.4981\n",
            "Epoch 74/100\n",
            "62/62 [==============================] - 0s 3ms/step - loss: 0.4951 - val_loss: 0.4981\n",
            "Epoch 75/100\n",
            "62/62 [==============================] - 0s 2ms/step - loss: 0.4951 - val_loss: 0.4981\n",
            "Epoch 76/100\n",
            "62/62 [==============================] - 0s 2ms/step - loss: 0.4951 - val_loss: 0.4981\n",
            "Epoch 77/100\n",
            "62/62 [==============================] - 0s 2ms/step - loss: 0.4951 - val_loss: 0.4981\n",
            "Epoch 78/100\n",
            "62/62 [==============================] - 0s 3ms/step - loss: 0.4951 - val_loss: 0.4981\n",
            "Epoch 79/100\n",
            "62/62 [==============================] - 0s 4ms/step - loss: 0.4951 - val_loss: 0.4981\n",
            "Epoch 80/100\n",
            "62/62 [==============================] - 0s 5ms/step - loss: 0.4951 - val_loss: 0.4981\n",
            "Epoch 81/100\n",
            "62/62 [==============================] - 0s 4ms/step - loss: 0.4951 - val_loss: 0.4981\n",
            "Epoch 82/100\n",
            "62/62 [==============================] - 0s 3ms/step - loss: 0.4951 - val_loss: 0.4980\n",
            "Epoch 83/100\n",
            "62/62 [==============================] - 0s 3ms/step - loss: 0.4951 - val_loss: 0.4980\n",
            "Epoch 84/100\n",
            "62/62 [==============================] - 0s 4ms/step - loss: 0.4951 - val_loss: 0.4980\n",
            "Epoch 85/100\n",
            "62/62 [==============================] - 0s 4ms/step - loss: 0.4950 - val_loss: 0.4980\n",
            "Epoch 86/100\n",
            "62/62 [==============================] - 0s 5ms/step - loss: 0.4950 - val_loss: 0.4980\n",
            "Epoch 87/100\n",
            "62/62 [==============================] - 0s 4ms/step - loss: 0.4950 - val_loss: 0.4980\n",
            "Epoch 88/100\n",
            "62/62 [==============================] - 0s 3ms/step - loss: 0.4950 - val_loss: 0.4980\n",
            "Epoch 89/100\n",
            "62/62 [==============================] - 0s 4ms/step - loss: 0.4950 - val_loss: 0.4980\n",
            "Epoch 90/100\n",
            "62/62 [==============================] - 0s 5ms/step - loss: 0.4950 - val_loss: 0.4980\n",
            "Epoch 91/100\n",
            "62/62 [==============================] - 0s 4ms/step - loss: 0.4950 - val_loss: 0.4980\n",
            "Epoch 92/100\n",
            "62/62 [==============================] - 0s 4ms/step - loss: 0.4950 - val_loss: 0.4980\n",
            "Epoch 93/100\n",
            "62/62 [==============================] - 0s 2ms/step - loss: 0.4950 - val_loss: 0.4980\n",
            "Epoch 94/100\n",
            "62/62 [==============================] - 0s 2ms/step - loss: 0.4950 - val_loss: 0.4980\n",
            "Epoch 95/100\n",
            "62/62 [==============================] - 0s 3ms/step - loss: 0.4950 - val_loss: 0.4980\n",
            "Epoch 96/100\n",
            "62/62 [==============================] - 0s 3ms/step - loss: 0.4950 - val_loss: 0.4980\n",
            "Epoch 97/100\n",
            "62/62 [==============================] - 0s 3ms/step - loss: 0.4950 - val_loss: 0.4980\n",
            "Epoch 98/100\n",
            "62/62 [==============================] - 0s 3ms/step - loss: 0.4950 - val_loss: 0.4980\n",
            "Epoch 99/100\n",
            "62/62 [==============================] - 0s 3ms/step - loss: 0.4950 - val_loss: 0.4980\n",
            "Epoch 100/100\n",
            "62/62 [==============================] - 0s 3ms/step - loss: 0.4950 - val_loss: 0.4980\n"
          ]
        }
      ]
    },
    {
      "cell_type": "code",
      "source": [
        "data.shape[0]/5"
      ],
      "metadata": {
        "id": "kY2hOAFrjO3x",
        "outputId": "b8f7a0d5-cea0-4952-8f4d-9cbe3b0a3859",
        "colab": {
          "base_uri": "https://localhost:8080/"
        }
      },
      "execution_count": 19,
      "outputs": [
        {
          "output_type": "execute_result",
          "data": {
            "text/plain": [
              "153.6"
            ]
          },
          "metadata": {},
          "execution_count": 19
        }
      ]
    },
    {
      "cell_type": "code",
      "source": [
        "optimization_learning_curves(history2, metrica='loss', title='Loss vs Val Loss')"
      ],
      "metadata": {
        "id": "uXMkJCuPLlEY",
        "outputId": "9a2b2cfd-547d-40c4-9104-b24aaef5eee2",
        "colab": {
          "base_uri": "https://localhost:8080/",
          "height": 436
        }
      },
      "execution_count": 49,
      "outputs": [
        {
          "output_type": "display_data",
          "data": {
            "text/plain": [
              "<Figure size 800x400 with 1 Axes>"
            ],
            "image/png": "[encoded data removed]"
          },
          "metadata": {}
        }
      ]
    },
    {
      "cell_type": "markdown",
      "source": [
        "- El modelo tiene una convergencia en las primeras epocas.\n",
        "- El error se redujo a 0.49 aproximadamente en la época 25, menor al modelo original."
      ],
      "metadata": {
        "id": "jcUrdipBozz5"
      }
    },
    {
      "cell_type": "markdown",
      "metadata": {
        "id": "coWnXWnxvPkJ"
      },
      "source": [
        "# **Tasa de aprendizaje basado en caidas (drop)**\n",
        "\n",
        "---\n",
        "\n"
      ]
    },
    {
      "cell_type": "code",
      "source": [
        "def step_decay(epochs):\n",
        "  intial_rate = 0.01\n",
        "  drop = 0.5\n",
        "  epochs_drop = 10\n",
        "  lrate = intial_rate * np.power(drop, np.floor(1+epochs) / epochs_drop)\n",
        "  return lrate"
      ],
      "metadata": {
        "id": "VKRntVjQLpAk"
      },
      "execution_count": 50,
      "outputs": []
    },
    {
      "cell_type": "code",
      "metadata": {
        "id": "3JZOAUFVE2H5"
      },
      "source": [
        "model3 = Sequential()\n",
        "model3.add(Dense(1, input_dim=8, activation='relu', kernel_initializer='glorot_uniform'))\n",
        "model3.add(Dense(1, activation='sigmoid', kernel_initializer='glorot_uniform'))"
      ],
      "execution_count": 51,
      "outputs": []
    },
    {
      "cell_type": "code",
      "metadata": {
        "id": "nUjZ6IB6N_VB"
      },
      "source": [
        "sgd = SGD(learning_rate=0.01, momentum = 0.9)\n",
        "model3.compile(loss = 'binary_crossentropy', optimizer=sgd)"
      ],
      "execution_count": 52,
      "outputs": []
    },
    {
      "cell_type": "code",
      "metadata": {
        "id": "XPF02AuCOTYp"
      },
      "source": [
        "lrate = LearningRateScheduler(step_decay)\n",
        "callback_list = [lrate]"
      ],
      "execution_count": 54,
      "outputs": []
    },
    {
      "cell_type": "code",
      "metadata": {
        "id": "dm5hWUixOn6Y",
        "outputId": "90bcf40a-b31b-4b6d-eca1-842cde4249a0",
        "colab": {
          "base_uri": "https://localhost:8080/"
        }
      },
      "source": [
        "history3 = model3.fit(\n",
        "    X_train_scaler,\n",
        "    y_train_encoder,\n",
        "    validation_data=(X_test_scaler, y_test_encoder),\n",
        "    epochs=100,\n",
        "    batch_size=10,\n",
        "    callbacks=callback_list,\n",
        "    verbose=1)"
      ],
      "execution_count": 57,
      "outputs": [
        {
          "output_type": "stream",
          "name": "stdout",
          "text": [
            "Epoch 1/100\n",
            "62/62 [==============================] - 1s 5ms/step - loss: 0.6934 - val_loss: 0.5992 - lr: 0.0093\n",
            "Epoch 2/100\n",
            "62/62 [==============================] - 0s 2ms/step - loss: 0.5862 - val_loss: 0.5614 - lr: 0.0087\n",
            "Epoch 3/100\n",
            "62/62 [==============================] - 0s 3ms/step - loss: 0.5417 - val_loss: 0.5337 - lr: 0.0081\n",
            "Epoch 4/100\n",
            "62/62 [==============================] - 0s 3ms/step - loss: 0.5220 - val_loss: 0.5085 - lr: 0.0076\n",
            "Epoch 5/100\n",
            "62/62 [==============================] - 0s 4ms/step - loss: 0.5088 - val_loss: 0.5046 - lr: 0.0071\n",
            "Epoch 6/100\n",
            "62/62 [==============================] - 0s 3ms/step - loss: 0.5021 - val_loss: 0.4957 - lr: 0.0066\n",
            "Epoch 7/100\n",
            "62/62 [==============================] - 0s 3ms/step - loss: 0.4949 - val_loss: 0.5003 - lr: 0.0062\n",
            "Epoch 8/100\n",
            "62/62 [==============================] - 0s 2ms/step - loss: 0.4919 - val_loss: 0.4957 - lr: 0.0057\n",
            "Epoch 9/100\n",
            "62/62 [==============================] - 0s 3ms/step - loss: 0.4896 - val_loss: 0.4948 - lr: 0.0054\n",
            "Epoch 10/100\n",
            "62/62 [==============================] - 0s 3ms/step - loss: 0.4868 - val_loss: 0.4925 - lr: 0.0050\n",
            "Epoch 11/100\n",
            "62/62 [==============================] - 0s 3ms/step - loss: 0.4851 - val_loss: 0.4938 - lr: 0.0047\n",
            "Epoch 12/100\n",
            "62/62 [==============================] - 0s 3ms/step - loss: 0.4824 - val_loss: 0.4937 - lr: 0.0044\n",
            "Epoch 13/100\n",
            "62/62 [==============================] - 0s 5ms/step - loss: 0.4819 - val_loss: 0.4904 - lr: 0.0041\n",
            "Epoch 14/100\n",
            "62/62 [==============================] - 0s 5ms/step - loss: 0.4795 - val_loss: 0.4896 - lr: 0.0038\n",
            "Epoch 15/100\n",
            "62/62 [==============================] - 0s 4ms/step - loss: 0.4791 - val_loss: 0.4895 - lr: 0.0035\n",
            "Epoch 16/100\n",
            "62/62 [==============================] - 0s 4ms/step - loss: 0.4782 - val_loss: 0.4868 - lr: 0.0033\n",
            "Epoch 17/100\n",
            "62/62 [==============================] - 0s 5ms/step - loss: 0.4770 - val_loss: 0.4874 - lr: 0.0031\n",
            "Epoch 18/100\n",
            "62/62 [==============================] - 0s 4ms/step - loss: 0.4775 - val_loss: 0.4899 - lr: 0.0029\n",
            "Epoch 19/100\n",
            "62/62 [==============================] - 0s 4ms/step - loss: 0.4752 - val_loss: 0.4861 - lr: 0.0027\n",
            "Epoch 20/100\n",
            "62/62 [==============================] - 0s 4ms/step - loss: 0.4760 - val_loss: 0.4872 - lr: 0.0025\n",
            "Epoch 21/100\n",
            "62/62 [==============================] - 0s 4ms/step - loss: 0.4757 - val_loss: 0.4887 - lr: 0.0023\n",
            "Epoch 22/100\n",
            "62/62 [==============================] - 0s 4ms/step - loss: 0.4753 - val_loss: 0.4854 - lr: 0.0022\n",
            "Epoch 23/100\n",
            "62/62 [==============================] - 1s 13ms/step - loss: 0.4744 - val_loss: 0.4861 - lr: 0.0020\n",
            "Epoch 24/100\n",
            "62/62 [==============================] - 1s 10ms/step - loss: 0.4747 - val_loss: 0.4867 - lr: 0.0019\n",
            "Epoch 25/100\n",
            "62/62 [==============================] - 0s 6ms/step - loss: 0.4735 - val_loss: 0.4857 - lr: 0.0018\n",
            "Epoch 26/100\n",
            "62/62 [==============================] - 0s 6ms/step - loss: 0.4735 - val_loss: 0.4869 - lr: 0.0016\n",
            "Epoch 27/100\n",
            "62/62 [==============================] - 0s 6ms/step - loss: 0.4730 - val_loss: 0.4854 - lr: 0.0015\n",
            "Epoch 28/100\n",
            "62/62 [==============================] - 0s 5ms/step - loss: 0.4734 - val_loss: 0.4860 - lr: 0.0014\n",
            "Epoch 29/100\n",
            "62/62 [==============================] - 0s 6ms/step - loss: 0.4722 - val_loss: 0.4860 - lr: 0.0013\n",
            "Epoch 30/100\n",
            "62/62 [==============================] - 0s 5ms/step - loss: 0.4722 - val_loss: 0.4858 - lr: 0.0012\n",
            "Epoch 31/100\n",
            "62/62 [==============================] - 0s 7ms/step - loss: 0.4725 - val_loss: 0.4861 - lr: 0.0012\n",
            "Epoch 32/100\n",
            "62/62 [==============================] - 1s 8ms/step - loss: 0.4722 - val_loss: 0.4860 - lr: 0.0011\n",
            "Epoch 33/100\n",
            "62/62 [==============================] - 1s 10ms/step - loss: 0.4718 - val_loss: 0.4854 - lr: 0.0010\n",
            "Epoch 34/100\n",
            "62/62 [==============================] - 0s 8ms/step - loss: 0.4719 - val_loss: 0.4860 - lr: 9.4732e-04\n",
            "Epoch 35/100\n",
            "62/62 [==============================] - 1s 9ms/step - loss: 0.4716 - val_loss: 0.4857 - lr: 8.8388e-04\n",
            "Epoch 36/100\n",
            "62/62 [==============================] - 0s 6ms/step - loss: 0.4714 - val_loss: 0.4866 - lr: 8.2469e-04\n",
            "Epoch 37/100\n",
            "62/62 [==============================] - 0s 4ms/step - loss: 0.4714 - val_loss: 0.4858 - lr: 7.6947e-04\n",
            "Epoch 38/100\n",
            "62/62 [==============================] - 1s 9ms/step - loss: 0.4713 - val_loss: 0.4856 - lr: 7.1794e-04\n",
            "Epoch 39/100\n",
            "62/62 [==============================] - 0s 5ms/step - loss: 0.4713 - val_loss: 0.4860 - lr: 6.6986e-04\n",
            "Epoch 40/100\n",
            "62/62 [==============================] - 0s 5ms/step - loss: 0.4710 - val_loss: 0.4853 - lr: 6.2500e-04\n",
            "Epoch 41/100\n",
            "62/62 [==============================] - 0s 6ms/step - loss: 0.4713 - val_loss: 0.4862 - lr: 5.8315e-04\n",
            "Epoch 42/100\n",
            "62/62 [==============================] - 0s 5ms/step - loss: 0.4711 - val_loss: 0.4858 - lr: 5.4409e-04\n",
            "Epoch 43/100\n",
            "62/62 [==============================] - 0s 5ms/step - loss: 0.4709 - val_loss: 0.4856 - lr: 5.0766e-04\n",
            "Epoch 44/100\n",
            "62/62 [==============================] - 0s 3ms/step - loss: 0.4709 - val_loss: 0.4860 - lr: 4.7366e-04\n",
            "Epoch 45/100\n",
            "62/62 [==============================] - 0s 3ms/step - loss: 0.4709 - val_loss: 0.4851 - lr: 4.4194e-04\n",
            "Epoch 46/100\n",
            "62/62 [==============================] - 0s 3ms/step - loss: 0.4708 - val_loss: 0.4857 - lr: 4.1235e-04\n",
            "Epoch 47/100\n",
            "62/62 [==============================] - 0s 3ms/step - loss: 0.4709 - val_loss: 0.4853 - lr: 3.8473e-04\n",
            "Epoch 48/100\n",
            "62/62 [==============================] - 0s 2ms/step - loss: 0.4708 - val_loss: 0.4853 - lr: 3.5897e-04\n",
            "Epoch 49/100\n",
            "62/62 [==============================] - 0s 3ms/step - loss: 0.4708 - val_loss: 0.4850 - lr: 3.3493e-04\n",
            "Epoch 50/100\n",
            "62/62 [==============================] - 0s 2ms/step - loss: 0.4707 - val_loss: 0.4855 - lr: 3.1250e-04\n",
            "Epoch 51/100\n",
            "62/62 [==============================] - 0s 2ms/step - loss: 0.4709 - val_loss: 0.4853 - lr: 2.9157e-04\n",
            "Epoch 52/100\n",
            "62/62 [==============================] - 0s 2ms/step - loss: 0.4706 - val_loss: 0.4852 - lr: 2.7205e-04\n",
            "Epoch 53/100\n",
            "62/62 [==============================] - 0s 2ms/step - loss: 0.4706 - val_loss: 0.4853 - lr: 2.5383e-04\n",
            "Epoch 54/100\n",
            "62/62 [==============================] - 0s 3ms/step - loss: 0.4705 - val_loss: 0.4853 - lr: 2.3683e-04\n",
            "Epoch 55/100\n",
            "62/62 [==============================] - 0s 3ms/step - loss: 0.4705 - val_loss: 0.4850 - lr: 2.2097e-04\n",
            "Epoch 56/100\n",
            "62/62 [==============================] - 0s 4ms/step - loss: 0.4706 - val_loss: 0.4849 - lr: 2.0617e-04\n",
            "Epoch 57/100\n",
            "62/62 [==============================] - 0s 4ms/step - loss: 0.4706 - val_loss: 0.4848 - lr: 1.9237e-04\n",
            "Epoch 58/100\n",
            "62/62 [==============================] - 0s 4ms/step - loss: 0.4704 - val_loss: 0.4850 - lr: 1.7948e-04\n",
            "Epoch 59/100\n",
            "62/62 [==============================] - 0s 4ms/step - loss: 0.4704 - val_loss: 0.4852 - lr: 1.6746e-04\n",
            "Epoch 60/100\n",
            "62/62 [==============================] - 0s 3ms/step - loss: 0.4704 - val_loss: 0.4851 - lr: 1.5625e-04\n",
            "Epoch 61/100\n",
            "62/62 [==============================] - 0s 4ms/step - loss: 0.4704 - val_loss: 0.4850 - lr: 1.4579e-04\n",
            "Epoch 62/100\n",
            "62/62 [==============================] - 0s 3ms/step - loss: 0.4703 - val_loss: 0.4851 - lr: 1.3602e-04\n",
            "Epoch 63/100\n",
            "62/62 [==============================] - 0s 3ms/step - loss: 0.4703 - val_loss: 0.4851 - lr: 1.2691e-04\n",
            "Epoch 64/100\n",
            "62/62 [==============================] - 0s 4ms/step - loss: 0.4703 - val_loss: 0.4851 - lr: 1.1842e-04\n",
            "Epoch 65/100\n",
            "62/62 [==============================] - 0s 4ms/step - loss: 0.4704 - val_loss: 0.4851 - lr: 1.1049e-04\n",
            "Epoch 66/100\n",
            "62/62 [==============================] - 0s 4ms/step - loss: 0.4703 - val_loss: 0.4851 - lr: 1.0309e-04\n",
            "Epoch 67/100\n",
            "62/62 [==============================] - 0s 3ms/step - loss: 0.4703 - val_loss: 0.4850 - lr: 9.6183e-05\n",
            "Epoch 68/100\n",
            "62/62 [==============================] - 0s 4ms/step - loss: 0.4703 - val_loss: 0.4851 - lr: 8.9742e-05\n",
            "Epoch 69/100\n",
            "62/62 [==============================] - 0s 5ms/step - loss: 0.4702 - val_loss: 0.4851 - lr: 8.3732e-05\n",
            "Epoch 70/100\n",
            "62/62 [==============================] - 0s 2ms/step - loss: 0.4702 - val_loss: 0.4851 - lr: 7.8125e-05\n",
            "Epoch 71/100\n",
            "62/62 [==============================] - 0s 3ms/step - loss: 0.4702 - val_loss: 0.4851 - lr: 7.2893e-05\n",
            "Epoch 72/100\n",
            "62/62 [==============================] - 0s 3ms/step - loss: 0.4702 - val_loss: 0.4851 - lr: 6.8012e-05\n",
            "Epoch 73/100\n",
            "62/62 [==============================] - 0s 3ms/step - loss: 0.4702 - val_loss: 0.4851 - lr: 6.3457e-05\n",
            "Epoch 74/100\n",
            "62/62 [==============================] - 0s 3ms/step - loss: 0.4702 - val_loss: 0.4850 - lr: 5.9208e-05\n",
            "Epoch 75/100\n",
            "62/62 [==============================] - 0s 3ms/step - loss: 0.4702 - val_loss: 0.4850 - lr: 5.5243e-05\n",
            "Epoch 76/100\n",
            "62/62 [==============================] - 0s 3ms/step - loss: 0.4702 - val_loss: 0.4850 - lr: 5.1543e-05\n",
            "Epoch 77/100\n",
            "62/62 [==============================] - 0s 2ms/step - loss: 0.4702 - val_loss: 0.4849 - lr: 4.8092e-05\n",
            "Epoch 78/100\n",
            "62/62 [==============================] - 0s 3ms/step - loss: 0.4702 - val_loss: 0.4850 - lr: 4.4871e-05\n",
            "Epoch 79/100\n",
            "62/62 [==============================] - 0s 3ms/step - loss: 0.4702 - val_loss: 0.4850 - lr: 4.1866e-05\n",
            "Epoch 80/100\n",
            "62/62 [==============================] - 0s 3ms/step - loss: 0.4702 - val_loss: 0.4850 - lr: 3.9062e-05\n",
            "Epoch 81/100\n",
            "62/62 [==============================] - 0s 3ms/step - loss: 0.4702 - val_loss: 0.4850 - lr: 3.6447e-05\n",
            "Epoch 82/100\n",
            "62/62 [==============================] - 0s 3ms/step - loss: 0.4702 - val_loss: 0.4850 - lr: 3.4006e-05\n",
            "Epoch 83/100\n",
            "62/62 [==============================] - 0s 3ms/step - loss: 0.4702 - val_loss: 0.4850 - lr: 3.1729e-05\n",
            "Epoch 84/100\n",
            "62/62 [==============================] - 0s 4ms/step - loss: 0.4702 - val_loss: 0.4850 - lr: 2.9604e-05\n",
            "Epoch 85/100\n",
            "62/62 [==============================] - 0s 4ms/step - loss: 0.4702 - val_loss: 0.4850 - lr: 2.7621e-05\n",
            "Epoch 86/100\n",
            "62/62 [==============================] - 0s 4ms/step - loss: 0.4702 - val_loss: 0.4849 - lr: 2.5772e-05\n",
            "Epoch 87/100\n",
            "62/62 [==============================] - 0s 2ms/step - loss: 0.4702 - val_loss: 0.4850 - lr: 2.4046e-05\n",
            "Epoch 88/100\n",
            "62/62 [==============================] - 0s 3ms/step - loss: 0.4702 - val_loss: 0.4850 - lr: 2.2436e-05\n",
            "Epoch 89/100\n",
            "62/62 [==============================] - 0s 3ms/step - loss: 0.4702 - val_loss: 0.4849 - lr: 2.0933e-05\n",
            "Epoch 90/100\n",
            "62/62 [==============================] - 0s 3ms/step - loss: 0.4702 - val_loss: 0.4849 - lr: 1.9531e-05\n",
            "Epoch 91/100\n",
            "62/62 [==============================] - 0s 2ms/step - loss: 0.4702 - val_loss: 0.4850 - lr: 1.8223e-05\n",
            "Epoch 92/100\n",
            "62/62 [==============================] - 0s 3ms/step - loss: 0.4702 - val_loss: 0.4849 - lr: 1.7003e-05\n",
            "Epoch 93/100\n",
            "62/62 [==============================] - 0s 4ms/step - loss: 0.4702 - val_loss: 0.4849 - lr: 1.5864e-05\n",
            "Epoch 94/100\n",
            "62/62 [==============================] - 0s 3ms/step - loss: 0.4702 - val_loss: 0.4849 - lr: 1.4802e-05\n",
            "Epoch 95/100\n",
            "62/62 [==============================] - 0s 3ms/step - loss: 0.4701 - val_loss: 0.4849 - lr: 1.3811e-05\n",
            "Epoch 96/100\n",
            "62/62 [==============================] - 0s 4ms/step - loss: 0.4701 - val_loss: 0.4849 - lr: 1.2886e-05\n",
            "Epoch 97/100\n",
            "62/62 [==============================] - 0s 2ms/step - loss: 0.4701 - val_loss: 0.4849 - lr: 1.2023e-05\n",
            "Epoch 98/100\n",
            "62/62 [==============================] - 0s 3ms/step - loss: 0.4701 - val_loss: 0.4849 - lr: 1.1218e-05\n",
            "Epoch 99/100\n",
            "62/62 [==============================] - 0s 3ms/step - loss: 0.4701 - val_loss: 0.4849 - lr: 1.0467e-05\n",
            "Epoch 100/100\n",
            "62/62 [==============================] - 0s 2ms/step - loss: 0.4701 - val_loss: 0.4849 - lr: 9.7656e-06\n"
          ]
        }
      ]
    },
    {
      "cell_type": "code",
      "source": [
        "optimization_learning_curves(history3, metrica='loss', title='Loss vs Val Loss')"
      ],
      "metadata": {
        "id": "MEjnW-MUNVrc",
        "outputId": "b689513e-2801-47cd-91d8-2051edfa55d1",
        "colab": {
          "base_uri": "https://localhost:8080/",
          "height": 436
        }
      },
      "execution_count": 58,
      "outputs": [
        {
          "output_type": "display_data",
          "data": {
            "text/plain": [
              "<Figure size 800x400 with 1 Axes>"
            ],
            "image/png": "[encoded data removed]"
          },
          "metadata": {}
        }
      ]
    },
    {
      "cell_type": "markdown",
      "source": [
        "# **Notas**\n",
        "---"
      ],
      "metadata": {
        "id": "kfHv0_vuSdas"
      }
    },
    {
      "cell_type": "markdown",
      "metadata": {
        "id": "S8kX0IA24mBS"
      },
      "source": [
        "- Incrementar la tasa de aprendizaje inicial, debido a que la tasa de aprendizaje disminuira, inicie con un valor mayor desde el cual disminuir\n",
        "\n",
        "- Utilizar un gran momentum\n",
        "\n",
        "- Experimente con diferentes planificacion"
      ]
    },
    {
      "cell_type": "markdown",
      "source": [
        "# **Concluciones**\n",
        "---"
      ],
      "metadata": {
        "id": "ylnIWsHbSgSD"
      }
    },
    {
      "cell_type": "markdown",
      "source": [
        "- Se aprecia que en el método adam la reducción del error de entrenamiento se reduce a la par, que el error de validación.\n",
        "- En el segundo y tercer método el error de entrenamiento se reduce más rápido que el de validación, con diferentes combinaciones de hiperparametros.\n",
        "\n",
        "- Existe un overfiting. En el primer es menor en comparación a los ultmos metrodos\n",
        "\n",
        "- Hay que investigar si el sobreaprendizaje del método de caídas drop y la planificación de learning rate en función del tiempo tiene relación con la reducción rápida del entrenamiento. Cabe resaltar que hay otros consideraciones a tener en cuenta, como el conjunto de datos, los hiperparametros entre otros. Con el adam es más estable el proceso, pero también se presenta overfiting, pero eso puede pasar por diversas razones."
      ],
      "metadata": {
        "id": "7CyOiZYqSy2M"
      }
    }
  ]
}