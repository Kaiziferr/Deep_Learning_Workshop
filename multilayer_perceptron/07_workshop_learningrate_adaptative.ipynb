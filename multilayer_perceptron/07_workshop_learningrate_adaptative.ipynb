{
  "nbformat": 4,
  "nbformat_minor": 0,
  "metadata": {
    "colab": {
      "name": "07_workshop_learningrate_adaptative.ipynb",
      "provenance": [],
      "include_colab_link": true
    },
    "kernelspec": {
      "name": "python3",
      "display_name": "Python 3"
    },
    "language_info": {
      "name": "python"
    }
  },
  "cells": [
    {
      "cell_type": "markdown",
      "metadata": {
        "id": "view-in-github",
        "colab_type": "text"
      },
      "source": [
        "<a href=\"https://colab.research.google.com/github/Kaiziferr/deep_learning/blob/master/multilayer_perceptron/07_workshop_learningrate_adaptative.ipynb\" target=\"_parent\"><img src=\"https://colab.research.google.com/assets/colab-badge.svg\" alt=\"Open In Colab\"/></a>"
      ]
    },
    {
      "cell_type": "code",
      "source": [
        "import pandas as pd\n",
        "import numpy as np\n",
        "import matplotlib.pyplot as plt\n",
        "import seaborn as sns\n",
        "\n",
        "import tensorflow as tf\n",
        "\n",
        "from keras.models import Sequential\n",
        "from keras.layers import Dense\n",
        "from keras.optimizers import SGD\n",
        "from keras.optimizers.schedules import ExponentialDecay\n",
        "from keras.callbacks import LearningRateScheduler\n",
        "\n",
        "from sklearn.preprocessing import LabelEncoder, StandardScaler\n",
        "from sklearn.model_selection import train_test_split"
      ],
      "metadata": {
        "id": "PWwVMViSJfNz"
      },
      "execution_count": 162,
      "outputs": []
    },
    {
      "cell_type": "code",
      "source": [
        "url = 'https://raw.githubusercontent.com/Kaiziferr/datasets/main/diabetes.csv'\n",
        "data = pd.read_csv(url)"
      ],
      "metadata": {
        "id": "Fb0ZuS85KLaP"
      },
      "execution_count": 163,
      "outputs": []
    },
    {
      "cell_type": "markdown",
      "metadata": {
        "id": "lWkHjOmBIyjk"
      },
      "source": [
        "# **Split data**\n",
        "---\n",
        "\n"
      ]
    },
    {
      "cell_type": "code",
      "source": [
        "data_values = data.values"
      ],
      "metadata": {
        "id": "CTEx8fDkKWeT"
      },
      "execution_count": 164,
      "outputs": []
    },
    {
      "cell_type": "code",
      "metadata": {
        "id": "SHqgWRDA71W3"
      },
      "source": [
        "X = data_values[:,:8].astype('float')\n",
        "y = data_values[:,8]"
      ],
      "execution_count": 165,
      "outputs": []
    },
    {
      "cell_type": "code",
      "source": [
        "X_train, X_test, y_train, y_test = train_test_split(\n",
        "    X,\n",
        "    y,\n",
        "    train_size=0.8,\n",
        "    shuffle=True,\n",
        "    random_state=1254\n",
        ")"
      ],
      "metadata": {
        "id": "zRb4qIaDKamp"
      },
      "execution_count": 166,
      "outputs": []
    },
    {
      "cell_type": "code",
      "source": [
        "encoder = LabelEncoder()\n",
        "y_train_encoder = encoder.fit_transform(y_train)\n",
        "y_test_encoder = encoder.transform(y_test)"
      ],
      "metadata": {
        "id": "wZ9SqgGRKqi-"
      },
      "execution_count": 167,
      "outputs": []
    },
    {
      "cell_type": "code",
      "source": [
        "estimator_scaler = StandardScaler()\n",
        "X_train_scaler = estimator_scaler.fit_transform(X_train)\n",
        "X_test_scaler = estimator_scaler.transform(X_test)"
      ],
      "metadata": {
        "id": "HRjPYFc1K60l"
      },
      "execution_count": 168,
      "outputs": []
    },
    {
      "cell_type": "code",
      "source": [
        "def optimization_learning_curves(\n",
        "    history:dict,\n",
        "    metrica:str,\n",
        "    title:str='',\n",
        "    X_size:int=8,\n",
        "    y_size:int=4,\n",
        "    font_size:int=15,\n",
        "    X_label:str='Epoch',\n",
        "    y_label:str='Loss'\n",
        ")->None:\n",
        "  \"\"\" Grafica curvas de aprendizaje \"\"\"\n",
        "  fig, ax = plt.subplots(figsize=(X_size, y_size))\n",
        "  fig.suptitle(title, fontsize=font_size)\n",
        "  ax.plot(history.history[metrica])\n",
        "  ax.plot(history.history[f'val_{metrica}'])\n",
        "  ax.set_xlabel(X_label, size = 12)\n",
        "  ax.set_ylabel(y_label, size = 12)\n",
        "  ax.legend(['Train', 'Test'], loc = 'upper right', fontsize = 12)\n",
        "  ax.tick_params(labelsize = 12)\n",
        "  fig.show()"
      ],
      "metadata": {
        "id": "B9ldxd8iDbeE"
      },
      "execution_count": 169,
      "outputs": []
    },
    {
      "cell_type": "markdown",
      "metadata": {
        "id": "SyrnzI4EwFtS"
      },
      "source": [
        "# **Optimizador Adaptativo Adam**\n",
        "\n",
        "---\n",
        "\n"
      ]
    },
    {
      "cell_type": "code",
      "source": [
        "model = Sequential()\n",
        "model.add(Dense(1, input_dim = 8, activation='relu', kernel_initializer = 'glorot_uniform'))\n",
        "model.add(Dense(1, activation='sigmoid', kernel_initializer='glorot_uniform'))"
      ],
      "metadata": {
        "id": "V5lWlpeotXqy"
      },
      "execution_count": 170,
      "outputs": []
    },
    {
      "cell_type": "code",
      "source": [
        "model.compile(\n",
        "    loss = 'binary_crossentropy',\n",
        "    optimizer = 'adam'\n",
        ")\n",
        "\n",
        "history = model.fit(\n",
        "    X_train_scaler,\n",
        "    y_train_encoder,\n",
        "    validation_data=(X_test_scaler, y_test_encoder),\n",
        "    epochs=100,\n",
        "    batch_size=10,\n",
        "    verbose = 1\n",
        ")"
      ],
      "metadata": {
        "id": "5OE87Xobtw0e",
        "outputId": "3f6757d7-d6e2-4355-cd14-48477b8fedca",
        "colab": {
          "base_uri": "https://localhost:8080/"
        }
      },
      "execution_count": 171,
      "outputs": [
        {
          "output_type": "stream",
          "name": "stdout",
          "text": [
            "Epoch 1/100\n",
            "62/62 [==============================] - 1s 8ms/step - loss: 0.8346 - val_loss: 0.7691\n",
            "Epoch 2/100\n",
            "62/62 [==============================] - 0s 5ms/step - loss: 0.8086 - val_loss: 0.7475\n",
            "Epoch 3/100\n",
            "62/62 [==============================] - 0s 4ms/step - loss: 0.7854 - val_loss: 0.7291\n",
            "Epoch 4/100\n",
            "62/62 [==============================] - 0s 4ms/step - loss: 0.7650 - val_loss: 0.7131\n",
            "Epoch 5/100\n",
            "62/62 [==============================] - 0s 4ms/step - loss: 0.7476 - val_loss: 0.6999\n",
            "Epoch 6/100\n",
            "62/62 [==============================] - 0s 4ms/step - loss: 0.7315 - val_loss: 0.6883\n",
            "Epoch 7/100\n",
            "62/62 [==============================] - 0s 3ms/step - loss: 0.7173 - val_loss: 0.6792\n",
            "Epoch 8/100\n",
            "62/62 [==============================] - 0s 3ms/step - loss: 0.7051 - val_loss: 0.6700\n",
            "Epoch 9/100\n",
            "62/62 [==============================] - 0s 3ms/step - loss: 0.6943 - val_loss: 0.6625\n",
            "Epoch 10/100\n",
            "62/62 [==============================] - 0s 2ms/step - loss: 0.6847 - val_loss: 0.6567\n",
            "Epoch 11/100\n",
            "62/62 [==============================] - 0s 3ms/step - loss: 0.6760 - val_loss: 0.6512\n",
            "Epoch 12/100\n",
            "62/62 [==============================] - 0s 2ms/step - loss: 0.6679 - val_loss: 0.6465\n",
            "Epoch 13/100\n",
            "62/62 [==============================] - 0s 2ms/step - loss: 0.6604 - val_loss: 0.6411\n",
            "Epoch 14/100\n",
            "62/62 [==============================] - 0s 3ms/step - loss: 0.6534 - val_loss: 0.6359\n",
            "Epoch 15/100\n",
            "62/62 [==============================] - 0s 2ms/step - loss: 0.6463 - val_loss: 0.6309\n",
            "Epoch 16/100\n",
            "62/62 [==============================] - 0s 3ms/step - loss: 0.6398 - val_loss: 0.6265\n",
            "Epoch 17/100\n",
            "62/62 [==============================] - 0s 3ms/step - loss: 0.6336 - val_loss: 0.6226\n",
            "Epoch 18/100\n",
            "62/62 [==============================] - 0s 3ms/step - loss: 0.6278 - val_loss: 0.6182\n",
            "Epoch 19/100\n",
            "62/62 [==============================] - 0s 2ms/step - loss: 0.6225 - val_loss: 0.6150\n",
            "Epoch 20/100\n",
            "62/62 [==============================] - 0s 3ms/step - loss: 0.6175 - val_loss: 0.6113\n",
            "Epoch 21/100\n",
            "62/62 [==============================] - 0s 3ms/step - loss: 0.6123 - val_loss: 0.6081\n",
            "Epoch 22/100\n",
            "62/62 [==============================] - 0s 2ms/step - loss: 0.6075 - val_loss: 0.6050\n",
            "Epoch 23/100\n",
            "62/62 [==============================] - 0s 3ms/step - loss: 0.6026 - val_loss: 0.6021\n",
            "Epoch 24/100\n",
            "62/62 [==============================] - 0s 3ms/step - loss: 0.5978 - val_loss: 0.5994\n",
            "Epoch 25/100\n",
            "62/62 [==============================] - 0s 3ms/step - loss: 0.5934 - val_loss: 0.5967\n",
            "Epoch 26/100\n",
            "62/62 [==============================] - 0s 3ms/step - loss: 0.5893 - val_loss: 0.5940\n",
            "Epoch 27/100\n",
            "62/62 [==============================] - 0s 3ms/step - loss: 0.5850 - val_loss: 0.5914\n",
            "Epoch 28/100\n",
            "62/62 [==============================] - 0s 3ms/step - loss: 0.5811 - val_loss: 0.5881\n",
            "Epoch 29/100\n",
            "62/62 [==============================] - 0s 3ms/step - loss: 0.5774 - val_loss: 0.5850\n",
            "Epoch 30/100\n",
            "62/62 [==============================] - 0s 2ms/step - loss: 0.5738 - val_loss: 0.5815\n",
            "Epoch 31/100\n",
            "62/62 [==============================] - 0s 2ms/step - loss: 0.5702 - val_loss: 0.5782\n",
            "Epoch 32/100\n",
            "62/62 [==============================] - 0s 3ms/step - loss: 0.5667 - val_loss: 0.5753\n",
            "Epoch 33/100\n",
            "62/62 [==============================] - 0s 3ms/step - loss: 0.5634 - val_loss: 0.5719\n",
            "Epoch 34/100\n",
            "62/62 [==============================] - 0s 3ms/step - loss: 0.5605 - val_loss: 0.5688\n",
            "Epoch 35/100\n",
            "62/62 [==============================] - 0s 3ms/step - loss: 0.5576 - val_loss: 0.5655\n",
            "Epoch 36/100\n",
            "62/62 [==============================] - 0s 3ms/step - loss: 0.5547 - val_loss: 0.5633\n",
            "Epoch 37/100\n",
            "62/62 [==============================] - 0s 2ms/step - loss: 0.5520 - val_loss: 0.5602\n",
            "Epoch 38/100\n",
            "62/62 [==============================] - 0s 2ms/step - loss: 0.5493 - val_loss: 0.5578\n",
            "Epoch 39/100\n",
            "62/62 [==============================] - 0s 3ms/step - loss: 0.5464 - val_loss: 0.5553\n",
            "Epoch 40/100\n",
            "62/62 [==============================] - 0s 3ms/step - loss: 0.5439 - val_loss: 0.5525\n",
            "Epoch 41/100\n",
            "62/62 [==============================] - 0s 3ms/step - loss: 0.5414 - val_loss: 0.5497\n",
            "Epoch 42/100\n",
            "62/62 [==============================] - 0s 3ms/step - loss: 0.5393 - val_loss: 0.5471\n",
            "Epoch 43/100\n",
            "62/62 [==============================] - 0s 3ms/step - loss: 0.5371 - val_loss: 0.5453\n",
            "Epoch 44/100\n",
            "62/62 [==============================] - 0s 2ms/step - loss: 0.5352 - val_loss: 0.5429\n",
            "Epoch 45/100\n",
            "62/62 [==============================] - 0s 2ms/step - loss: 0.5332 - val_loss: 0.5405\n",
            "Epoch 46/100\n",
            "62/62 [==============================] - 0s 3ms/step - loss: 0.5316 - val_loss: 0.5381\n",
            "Epoch 47/100\n",
            "62/62 [==============================] - 0s 3ms/step - loss: 0.5300 - val_loss: 0.5364\n",
            "Epoch 48/100\n",
            "62/62 [==============================] - 0s 3ms/step - loss: 0.5285 - val_loss: 0.5344\n",
            "Epoch 49/100\n",
            "62/62 [==============================] - 0s 3ms/step - loss: 0.5275 - val_loss: 0.5329\n",
            "Epoch 50/100\n",
            "62/62 [==============================] - 0s 2ms/step - loss: 0.5260 - val_loss: 0.5313\n",
            "Epoch 51/100\n",
            "62/62 [==============================] - 0s 2ms/step - loss: 0.5249 - val_loss: 0.5299\n",
            "Epoch 52/100\n",
            "62/62 [==============================] - 0s 2ms/step - loss: 0.5237 - val_loss: 0.5287\n",
            "Epoch 53/100\n",
            "62/62 [==============================] - 0s 3ms/step - loss: 0.5228 - val_loss: 0.5273\n",
            "Epoch 54/100\n",
            "62/62 [==============================] - 0s 2ms/step - loss: 0.5220 - val_loss: 0.5262\n",
            "Epoch 55/100\n",
            "62/62 [==============================] - 0s 3ms/step - loss: 0.5212 - val_loss: 0.5253\n",
            "Epoch 56/100\n",
            "62/62 [==============================] - 0s 3ms/step - loss: 0.5201 - val_loss: 0.5237\n",
            "Epoch 57/100\n",
            "62/62 [==============================] - 0s 3ms/step - loss: 0.5192 - val_loss: 0.5226\n",
            "Epoch 58/100\n",
            "62/62 [==============================] - 0s 3ms/step - loss: 0.5182 - val_loss: 0.5215\n",
            "Epoch 59/100\n",
            "62/62 [==============================] - 0s 3ms/step - loss: 0.5171 - val_loss: 0.5207\n",
            "Epoch 60/100\n",
            "62/62 [==============================] - 0s 2ms/step - loss: 0.5159 - val_loss: 0.5192\n",
            "Epoch 61/100\n",
            "62/62 [==============================] - 0s 2ms/step - loss: 0.5145 - val_loss: 0.5182\n",
            "Epoch 62/100\n",
            "62/62 [==============================] - 0s 2ms/step - loss: 0.5135 - val_loss: 0.5173\n",
            "Epoch 63/100\n",
            "62/62 [==============================] - 0s 3ms/step - loss: 0.5124 - val_loss: 0.5166\n",
            "Epoch 64/100\n",
            "62/62 [==============================] - 0s 2ms/step - loss: 0.5113 - val_loss: 0.5156\n",
            "Epoch 65/100\n",
            "62/62 [==============================] - 0s 3ms/step - loss: 0.5102 - val_loss: 0.5149\n",
            "Epoch 66/100\n",
            "62/62 [==============================] - 0s 4ms/step - loss: 0.5094 - val_loss: 0.5141\n",
            "Epoch 67/100\n",
            "62/62 [==============================] - 0s 4ms/step - loss: 0.5085 - val_loss: 0.5136\n",
            "Epoch 68/100\n",
            "62/62 [==============================] - 0s 4ms/step - loss: 0.5076 - val_loss: 0.5130\n",
            "Epoch 69/100\n",
            "62/62 [==============================] - 0s 5ms/step - loss: 0.5069 - val_loss: 0.5125\n",
            "Epoch 70/100\n",
            "62/62 [==============================] - 0s 3ms/step - loss: 0.5061 - val_loss: 0.5122\n",
            "Epoch 71/100\n",
            "62/62 [==============================] - 0s 4ms/step - loss: 0.5051 - val_loss: 0.5118\n",
            "Epoch 72/100\n",
            "62/62 [==============================] - 0s 4ms/step - loss: 0.5044 - val_loss: 0.5109\n",
            "Epoch 73/100\n",
            "62/62 [==============================] - 0s 4ms/step - loss: 0.5035 - val_loss: 0.5105\n",
            "Epoch 74/100\n",
            "62/62 [==============================] - 0s 3ms/step - loss: 0.5029 - val_loss: 0.5094\n",
            "Epoch 75/100\n",
            "62/62 [==============================] - 0s 4ms/step - loss: 0.5019 - val_loss: 0.5091\n",
            "Epoch 76/100\n",
            "62/62 [==============================] - 0s 4ms/step - loss: 0.5014 - val_loss: 0.5084\n",
            "Epoch 77/100\n",
            "62/62 [==============================] - 0s 4ms/step - loss: 0.5009 - val_loss: 0.5082\n",
            "Epoch 78/100\n",
            "62/62 [==============================] - 0s 4ms/step - loss: 0.5001 - val_loss: 0.5075\n",
            "Epoch 79/100\n",
            "62/62 [==============================] - 0s 3ms/step - loss: 0.4996 - val_loss: 0.5068\n",
            "Epoch 80/100\n",
            "62/62 [==============================] - 0s 3ms/step - loss: 0.4991 - val_loss: 0.5071\n",
            "Epoch 81/100\n",
            "62/62 [==============================] - 0s 2ms/step - loss: 0.4987 - val_loss: 0.5064\n",
            "Epoch 82/100\n",
            "62/62 [==============================] - 0s 2ms/step - loss: 0.4984 - val_loss: 0.5058\n",
            "Epoch 83/100\n",
            "62/62 [==============================] - 0s 3ms/step - loss: 0.4981 - val_loss: 0.5060\n",
            "Epoch 84/100\n",
            "62/62 [==============================] - 0s 3ms/step - loss: 0.4978 - val_loss: 0.5056\n",
            "Epoch 85/100\n",
            "62/62 [==============================] - 0s 2ms/step - loss: 0.4972 - val_loss: 0.5054\n",
            "Epoch 86/100\n",
            "62/62 [==============================] - 0s 2ms/step - loss: 0.4970 - val_loss: 0.5054\n",
            "Epoch 87/100\n",
            "62/62 [==============================] - 0s 3ms/step - loss: 0.4967 - val_loss: 0.5049\n",
            "Epoch 88/100\n",
            "62/62 [==============================] - 0s 3ms/step - loss: 0.4963 - val_loss: 0.5049\n",
            "Epoch 89/100\n",
            "62/62 [==============================] - 0s 3ms/step - loss: 0.4960 - val_loss: 0.5049\n",
            "Epoch 90/100\n",
            "62/62 [==============================] - 0s 3ms/step - loss: 0.4958 - val_loss: 0.5047\n",
            "Epoch 91/100\n",
            "62/62 [==============================] - 0s 2ms/step - loss: 0.4957 - val_loss: 0.5044\n",
            "Epoch 92/100\n",
            "62/62 [==============================] - 0s 2ms/step - loss: 0.4953 - val_loss: 0.5046\n",
            "Epoch 93/100\n",
            "62/62 [==============================] - 0s 2ms/step - loss: 0.4951 - val_loss: 0.5043\n",
            "Epoch 94/100\n",
            "62/62 [==============================] - 0s 3ms/step - loss: 0.4951 - val_loss: 0.5045\n",
            "Epoch 95/100\n",
            "62/62 [==============================] - 0s 3ms/step - loss: 0.4950 - val_loss: 0.5040\n",
            "Epoch 96/100\n",
            "62/62 [==============================] - 0s 3ms/step - loss: 0.4944 - val_loss: 0.5037\n",
            "Epoch 97/100\n",
            "62/62 [==============================] - 0s 3ms/step - loss: 0.4945 - val_loss: 0.5035\n",
            "Epoch 98/100\n",
            "62/62 [==============================] - 0s 5ms/step - loss: 0.4944 - val_loss: 0.5033\n",
            "Epoch 99/100\n",
            "62/62 [==============================] - 0s 4ms/step - loss: 0.4940 - val_loss: 0.5033\n",
            "Epoch 100/100\n",
            "62/62 [==============================] - 0s 4ms/step - loss: 0.4940 - val_loss: 0.5033\n"
          ]
        }
      ]
    },
    {
      "cell_type": "code",
      "source": [
        "len(X_train_scaler)/10"
      ],
      "metadata": {
        "id": "oW9Il20EuP5D",
        "outputId": "3720c2b0-e308-4ba0-ff9d-9ee3162ee7c9",
        "colab": {
          "base_uri": "https://localhost:8080/"
        }
      },
      "execution_count": 172,
      "outputs": [
        {
          "output_type": "execute_result",
          "data": {
            "text/plain": [
              "61.4"
            ]
          },
          "metadata": {},
          "execution_count": 172
        }
      ]
    },
    {
      "cell_type": "markdown",
      "source": [
        "122.8 lotes con 5 muestras"
      ],
      "metadata": {
        "id": "fUZWST6mudIq"
      }
    },
    {
      "cell_type": "code",
      "source": [
        "optimization_learning_curves(history, metrica='loss', title='Loss vs Val Loss')"
      ],
      "metadata": {
        "colab": {
          "base_uri": "https://localhost:8080/",
          "height": 436
        },
        "id": "fSQ-lxlrDkYt",
        "outputId": "6c1be93d-eb69-4d29-814b-9b8b20e48334"
      },
      "execution_count": 173,
      "outputs": [
        {
          "output_type": "display_data",
          "data": {
            "text/plain": [
              "<Figure size 800x400 with 1 Axes>"
            ],
            "image/png": "[encoded data removed]"
          },
          "metadata": {}
        }
      ]
    },
    {
      "cell_type": "markdown",
      "source": [
        "- El modelo tiene una convergencia en la época 60\n",
        "- El error se redujo a 0.49 aproximadamente en la época 62."
      ],
      "metadata": {
        "id": "lcp8-c8Io6Nq"
      }
    },
    {
      "cell_type": "markdown",
      "metadata": {
        "id": "OdYWB3mEvWwg"
      },
      "source": [
        "# **Planificación de learning rate en función del tiempo**\n",
        "\n",
        "---\n",
        "\n"
      ]
    },
    {
      "cell_type": "code",
      "metadata": {
        "id": "wQjbDm5t--tO"
      },
      "source": [
        "model2 = Sequential()\n",
        "model2.add(Dense(1, input_dim=8, activation='relu', kernel_initializer='glorot_uniform'))\n",
        "model2.add(Dense(1, activation='sigmoid', kernel_initializer='glorot_uniform'))"
      ],
      "execution_count": 174,
      "outputs": []
    },
    {
      "cell_type": "code",
      "source": [
        "epoch = 100\n",
        "lr = 0.01\n",
        "decay_rate = lr/epoch\n",
        "momentum = 0.8"
      ],
      "metadata": {
        "id": "k6PaPw9lfuiI"
      },
      "execution_count": 175,
      "outputs": []
    },
    {
      "cell_type": "code",
      "source": [
        "lr_schedule = ExponentialDecay(\n",
        "    initial_learning_rate=lr,\n",
        "    decay_steps = 10000,\n",
        "    decay_rate = decay_rate\n",
        ")"
      ],
      "metadata": {
        "id": "BFunobS4h5ay"
      },
      "execution_count": 176,
      "outputs": []
    },
    {
      "cell_type": "code",
      "source": [
        "sgd = SGD(learning_rate=lr_schedule, momentum=momentum, nesterov=False)"
      ],
      "metadata": {
        "id": "j_noafXpf8np"
      },
      "execution_count": 177,
      "outputs": []
    },
    {
      "cell_type": "code",
      "source": [
        "model2.compile(loss='binary_crossentropy', optimizer=sgd)"
      ],
      "metadata": {
        "id": "5B1gjpY1i35A"
      },
      "execution_count": 178,
      "outputs": []
    },
    {
      "cell_type": "code",
      "source": [
        "history2 = model2.fit(\n",
        "    X_train_scaler,\n",
        "    y_train_encoder,\n",
        "    validation_data=(X_test_scaler, y_test_encoder),\n",
        "    epochs = epoch,\n",
        "    batch_size=10,\n",
        "    verbose = 1\n",
        ")"
      ],
      "metadata": {
        "id": "bPZqKndti7dh",
        "outputId": "27e779f7-2cca-491c-8749-62f427d54d32",
        "colab": {
          "base_uri": "https://localhost:8080/"
        }
      },
      "execution_count": 179,
      "outputs": [
        {
          "output_type": "stream",
          "name": "stdout",
          "text": [
            "Epoch 1/100\n",
            "62/62 [==============================] - 1s 7ms/step - loss: 0.6132 - val_loss: 0.5678\n",
            "Epoch 2/100\n",
            "62/62 [==============================] - 0s 4ms/step - loss: 0.5436 - val_loss: 0.5268\n",
            "Epoch 3/100\n",
            "62/62 [==============================] - 0s 4ms/step - loss: 0.5192 - val_loss: 0.5139\n",
            "Epoch 4/100\n",
            "62/62 [==============================] - 0s 4ms/step - loss: 0.5085 - val_loss: 0.5070\n",
            "Epoch 5/100\n",
            "62/62 [==============================] - 0s 2ms/step - loss: 0.5029 - val_loss: 0.5038\n",
            "Epoch 6/100\n",
            "62/62 [==============================] - 0s 2ms/step - loss: 0.4998 - val_loss: 0.5012\n",
            "Epoch 7/100\n",
            "62/62 [==============================] - 0s 3ms/step - loss: 0.4980 - val_loss: 0.4997\n",
            "Epoch 8/100\n",
            "62/62 [==============================] - 0s 2ms/step - loss: 0.4965 - val_loss: 0.4985\n",
            "Epoch 9/100\n",
            "62/62 [==============================] - 0s 2ms/step - loss: 0.4956 - val_loss: 0.4975\n",
            "Epoch 10/100\n",
            "62/62 [==============================] - 0s 2ms/step - loss: 0.4951 - val_loss: 0.4962\n",
            "Epoch 11/100\n",
            "62/62 [==============================] - 0s 2ms/step - loss: 0.4946 - val_loss: 0.4960\n",
            "Epoch 12/100\n",
            "62/62 [==============================] - 0s 2ms/step - loss: 0.4944 - val_loss: 0.4953\n",
            "Epoch 13/100\n",
            "62/62 [==============================] - 0s 2ms/step - loss: 0.4941 - val_loss: 0.4950\n",
            "Epoch 14/100\n",
            "62/62 [==============================] - 0s 2ms/step - loss: 0.4937 - val_loss: 0.4939\n",
            "Epoch 15/100\n",
            "62/62 [==============================] - 0s 3ms/step - loss: 0.4935 - val_loss: 0.4936\n",
            "Epoch 16/100\n",
            "62/62 [==============================] - 0s 2ms/step - loss: 0.4931 - val_loss: 0.4935\n",
            "Epoch 17/100\n",
            "62/62 [==============================] - 0s 2ms/step - loss: 0.4932 - val_loss: 0.4931\n",
            "Epoch 18/100\n",
            "62/62 [==============================] - 0s 2ms/step - loss: 0.4931 - val_loss: 0.4936\n",
            "Epoch 19/100\n",
            "62/62 [==============================] - 0s 3ms/step - loss: 0.4925 - val_loss: 0.4931\n",
            "Epoch 20/100\n",
            "62/62 [==============================] - 0s 4ms/step - loss: 0.4922 - val_loss: 0.4927\n",
            "Epoch 21/100\n",
            "62/62 [==============================] - 0s 4ms/step - loss: 0.4922 - val_loss: 0.4921\n",
            "Epoch 22/100\n",
            "62/62 [==============================] - 0s 4ms/step - loss: 0.4918 - val_loss: 0.4910\n",
            "Epoch 23/100\n",
            "62/62 [==============================] - 0s 4ms/step - loss: 0.4918 - val_loss: 0.4907\n",
            "Epoch 24/100\n",
            "62/62 [==============================] - 0s 4ms/step - loss: 0.4913 - val_loss: 0.4908\n",
            "Epoch 25/100\n",
            "62/62 [==============================] - 0s 4ms/step - loss: 0.4912 - val_loss: 0.4908\n",
            "Epoch 26/100\n",
            "62/62 [==============================] - 0s 3ms/step - loss: 0.4910 - val_loss: 0.4906\n",
            "Epoch 27/100\n",
            "62/62 [==============================] - 0s 4ms/step - loss: 0.4907 - val_loss: 0.4905\n",
            "Epoch 28/100\n",
            "62/62 [==============================] - 0s 3ms/step - loss: 0.4906 - val_loss: 0.4902\n",
            "Epoch 29/100\n",
            "62/62 [==============================] - 0s 4ms/step - loss: 0.4906 - val_loss: 0.4909\n",
            "Epoch 30/100\n",
            "62/62 [==============================] - 0s 3ms/step - loss: 0.4905 - val_loss: 0.4906\n",
            "Epoch 31/100\n",
            "62/62 [==============================] - 0s 4ms/step - loss: 0.4905 - val_loss: 0.4906\n",
            "Epoch 32/100\n",
            "62/62 [==============================] - 0s 4ms/step - loss: 0.4903 - val_loss: 0.4906\n",
            "Epoch 33/100\n",
            "62/62 [==============================] - 0s 4ms/step - loss: 0.4901 - val_loss: 0.4905\n",
            "Epoch 34/100\n",
            "62/62 [==============================] - 0s 3ms/step - loss: 0.4902 - val_loss: 0.4903\n",
            "Epoch 35/100\n",
            "62/62 [==============================] - 0s 3ms/step - loss: 0.4901 - val_loss: 0.4903\n",
            "Epoch 36/100\n",
            "62/62 [==============================] - 0s 3ms/step - loss: 0.4901 - val_loss: 0.4904\n",
            "Epoch 37/100\n",
            "62/62 [==============================] - 0s 2ms/step - loss: 0.4900 - val_loss: 0.4904\n",
            "Epoch 38/100\n",
            "62/62 [==============================] - 0s 2ms/step - loss: 0.4900 - val_loss: 0.4904\n",
            "Epoch 39/100\n",
            "62/62 [==============================] - 0s 3ms/step - loss: 0.4899 - val_loss: 0.4904\n",
            "Epoch 40/100\n",
            "62/62 [==============================] - 0s 2ms/step - loss: 0.4899 - val_loss: 0.4899\n",
            "Epoch 41/100\n",
            "62/62 [==============================] - 0s 3ms/step - loss: 0.4898 - val_loss: 0.4904\n",
            "Epoch 42/100\n",
            "62/62 [==============================] - 0s 2ms/step - loss: 0.4897 - val_loss: 0.4904\n",
            "Epoch 43/100\n",
            "62/62 [==============================] - 0s 2ms/step - loss: 0.4897 - val_loss: 0.4903\n",
            "Epoch 44/100\n",
            "62/62 [==============================] - 0s 3ms/step - loss: 0.4897 - val_loss: 0.4903\n",
            "Epoch 45/100\n",
            "62/62 [==============================] - 0s 3ms/step - loss: 0.4897 - val_loss: 0.4904\n",
            "Epoch 46/100\n",
            "62/62 [==============================] - 0s 2ms/step - loss: 0.4896 - val_loss: 0.4905\n",
            "Epoch 47/100\n",
            "62/62 [==============================] - 0s 2ms/step - loss: 0.4896 - val_loss: 0.4904\n",
            "Epoch 48/100\n",
            "62/62 [==============================] - 0s 2ms/step - loss: 0.4897 - val_loss: 0.4905\n",
            "Epoch 49/100\n",
            "62/62 [==============================] - 0s 2ms/step - loss: 0.4895 - val_loss: 0.4903\n",
            "Epoch 50/100\n",
            "62/62 [==============================] - 0s 2ms/step - loss: 0.4895 - val_loss: 0.4903\n",
            "Epoch 51/100\n",
            "62/62 [==============================] - 0s 3ms/step - loss: 0.4895 - val_loss: 0.4903\n",
            "Epoch 52/100\n",
            "62/62 [==============================] - 0s 4ms/step - loss: 0.4895 - val_loss: 0.4902\n",
            "Epoch 53/100\n",
            "62/62 [==============================] - 0s 3ms/step - loss: 0.4895 - val_loss: 0.4903\n",
            "Epoch 54/100\n",
            "62/62 [==============================] - 0s 2ms/step - loss: 0.4895 - val_loss: 0.4901\n",
            "Epoch 55/100\n",
            "62/62 [==============================] - 0s 2ms/step - loss: 0.4895 - val_loss: 0.4901\n",
            "Epoch 56/100\n",
            "62/62 [==============================] - 0s 2ms/step - loss: 0.4894 - val_loss: 0.4901\n",
            "Epoch 57/100\n",
            "62/62 [==============================] - 0s 2ms/step - loss: 0.4894 - val_loss: 0.4901\n",
            "Epoch 58/100\n",
            "62/62 [==============================] - 0s 3ms/step - loss: 0.4894 - val_loss: 0.4901\n",
            "Epoch 59/100\n",
            "62/62 [==============================] - 0s 2ms/step - loss: 0.4894 - val_loss: 0.4901\n",
            "Epoch 60/100\n",
            "62/62 [==============================] - 0s 2ms/step - loss: 0.4894 - val_loss: 0.4901\n",
            "Epoch 61/100\n",
            "62/62 [==============================] - 0s 2ms/step - loss: 0.4893 - val_loss: 0.4901\n",
            "Epoch 62/100\n",
            "62/62 [==============================] - 0s 2ms/step - loss: 0.4893 - val_loss: 0.4902\n",
            "Epoch 63/100\n",
            "62/62 [==============================] - 0s 2ms/step - loss: 0.4893 - val_loss: 0.4901\n",
            "Epoch 64/100\n",
            "62/62 [==============================] - 0s 2ms/step - loss: 0.4893 - val_loss: 0.4902\n",
            "Epoch 65/100\n",
            "62/62 [==============================] - 0s 3ms/step - loss: 0.4893 - val_loss: 0.4901\n",
            "Epoch 66/100\n",
            "62/62 [==============================] - 0s 2ms/step - loss: 0.4893 - val_loss: 0.4901\n",
            "Epoch 67/100\n",
            "62/62 [==============================] - 0s 2ms/step - loss: 0.4893 - val_loss: 0.4901\n",
            "Epoch 68/100\n",
            "62/62 [==============================] - 0s 2ms/step - loss: 0.4893 - val_loss: 0.4901\n",
            "Epoch 69/100\n",
            "62/62 [==============================] - 0s 3ms/step - loss: 0.4893 - val_loss: 0.4901\n",
            "Epoch 70/100\n",
            "62/62 [==============================] - 0s 2ms/step - loss: 0.4893 - val_loss: 0.4901\n",
            "Epoch 71/100\n",
            "62/62 [==============================] - 0s 2ms/step - loss: 0.4893 - val_loss: 0.4900\n",
            "Epoch 72/100\n",
            "62/62 [==============================] - 0s 3ms/step - loss: 0.4893 - val_loss: 0.4900\n",
            "Epoch 73/100\n",
            "62/62 [==============================] - 0s 2ms/step - loss: 0.4893 - val_loss: 0.4901\n",
            "Epoch 74/100\n",
            "62/62 [==============================] - 0s 2ms/step - loss: 0.4893 - val_loss: 0.4900\n",
            "Epoch 75/100\n",
            "62/62 [==============================] - 0s 2ms/step - loss: 0.4893 - val_loss: 0.4900\n",
            "Epoch 76/100\n",
            "62/62 [==============================] - 0s 2ms/step - loss: 0.4893 - val_loss: 0.4900\n",
            "Epoch 77/100\n",
            "62/62 [==============================] - 0s 2ms/step - loss: 0.4893 - val_loss: 0.4900\n",
            "Epoch 78/100\n",
            "62/62 [==============================] - 0s 3ms/step - loss: 0.4893 - val_loss: 0.4900\n",
            "Epoch 79/100\n",
            "62/62 [==============================] - 0s 2ms/step - loss: 0.4893 - val_loss: 0.4900\n",
            "Epoch 80/100\n",
            "62/62 [==============================] - 0s 2ms/step - loss: 0.4893 - val_loss: 0.4901\n",
            "Epoch 81/100\n",
            "62/62 [==============================] - 0s 2ms/step - loss: 0.4893 - val_loss: 0.4901\n",
            "Epoch 82/100\n",
            "62/62 [==============================] - 0s 3ms/step - loss: 0.4892 - val_loss: 0.4901\n",
            "Epoch 83/100\n",
            "62/62 [==============================] - 0s 2ms/step - loss: 0.4892 - val_loss: 0.4901\n",
            "Epoch 84/100\n",
            "62/62 [==============================] - 0s 2ms/step - loss: 0.4892 - val_loss: 0.4901\n",
            "Epoch 85/100\n",
            "62/62 [==============================] - 0s 3ms/step - loss: 0.4892 - val_loss: 0.4901\n",
            "Epoch 86/100\n",
            "62/62 [==============================] - 0s 2ms/step - loss: 0.4892 - val_loss: 0.4901\n",
            "Epoch 87/100\n",
            "62/62 [==============================] - 0s 2ms/step - loss: 0.4892 - val_loss: 0.4901\n",
            "Epoch 88/100\n",
            "62/62 [==============================] - 0s 2ms/step - loss: 0.4892 - val_loss: 0.4901\n",
            "Epoch 89/100\n",
            "62/62 [==============================] - 0s 3ms/step - loss: 0.4892 - val_loss: 0.4901\n",
            "Epoch 90/100\n",
            "62/62 [==============================] - 0s 2ms/step - loss: 0.4892 - val_loss: 0.4901\n",
            "Epoch 91/100\n",
            "62/62 [==============================] - 0s 2ms/step - loss: 0.4892 - val_loss: 0.4901\n",
            "Epoch 92/100\n",
            "62/62 [==============================] - 0s 2ms/step - loss: 0.4892 - val_loss: 0.4901\n",
            "Epoch 93/100\n",
            "62/62 [==============================] - 0s 2ms/step - loss: 0.4892 - val_loss: 0.4901\n",
            "Epoch 94/100\n",
            "62/62 [==============================] - 0s 2ms/step - loss: 0.4892 - val_loss: 0.4901\n",
            "Epoch 95/100\n",
            "62/62 [==============================] - 0s 2ms/step - loss: 0.4892 - val_loss: 0.4901\n",
            "Epoch 96/100\n",
            "62/62 [==============================] - 0s 2ms/step - loss: 0.4892 - val_loss: 0.4901\n",
            "Epoch 97/100\n",
            "62/62 [==============================] - 0s 4ms/step - loss: 0.4892 - val_loss: 0.4901\n",
            "Epoch 98/100\n",
            "62/62 [==============================] - 0s 4ms/step - loss: 0.4892 - val_loss: 0.4901\n",
            "Epoch 99/100\n",
            "62/62 [==============================] - 0s 4ms/step - loss: 0.4892 - val_loss: 0.4901\n",
            "Epoch 100/100\n",
            "62/62 [==============================] - 0s 4ms/step - loss: 0.4892 - val_loss: 0.4901\n"
          ]
        }
      ]
    },
    {
      "cell_type": "code",
      "source": [
        "data.shape[0]/5"
      ],
      "metadata": {
        "id": "kY2hOAFrjO3x",
        "outputId": "41786e11-c7ba-4d40-fb1b-74ef9af67882",
        "colab": {
          "base_uri": "https://localhost:8080/"
        }
      },
      "execution_count": 180,
      "outputs": [
        {
          "output_type": "execute_result",
          "data": {
            "text/plain": [
              "153.6"
            ]
          },
          "metadata": {},
          "execution_count": 180
        }
      ]
    },
    {
      "cell_type": "code",
      "source": [
        "optimization_learning_curves(history2, metrica='loss', title='Loss vs Val Loss')"
      ],
      "metadata": {
        "id": "uXMkJCuPLlEY",
        "outputId": "e314d5f3-6ec8-4e47-9e58-4f5d2cd00118",
        "colab": {
          "base_uri": "https://localhost:8080/",
          "height": 436
        }
      },
      "execution_count": 181,
      "outputs": [
        {
          "output_type": "display_data",
          "data": {
            "text/plain": [
              "<Figure size 800x400 with 1 Axes>"
            ],
            "image/png": "[encoded data removed]"
          },
          "metadata": {}
        }
      ]
    },
    {
      "cell_type": "markdown",
      "source": [
        "- El modelo tiene una convergencia en las primeras epocas.\n",
        "- El error se redujo a 0.49 aproximadamente en la época 6, menor al modelo original."
      ],
      "metadata": {
        "id": "jcUrdipBozz5"
      }
    },
    {
      "cell_type": "markdown",
      "metadata": {
        "id": "coWnXWnxvPkJ"
      },
      "source": [
        "# **Tasa de aprendizaje basado en caidas (drop)**\n",
        "\n",
        "---\n",
        "\n"
      ]
    },
    {
      "cell_type": "code",
      "source": [
        "def step_decay(epochs):\n",
        "  intial_rate = 0.01\n",
        "  drop = 0.5\n",
        "  epochs_drop = 10\n",
        "  lrate = intial_rate * np.power(drop, np.floor(1+epochs) / epochs_drop)\n",
        "  return lrate"
      ],
      "metadata": {
        "id": "VKRntVjQLpAk"
      },
      "execution_count": 183,
      "outputs": []
    },
    {
      "cell_type": "code",
      "metadata": {
        "id": "3JZOAUFVE2H5"
      },
      "source": [
        "model3 = Sequential()\n",
        "model3.add(Dense(1, input_dim=8, activation='relu', kernel_initializer='glorot_uniform'))\n",
        "model3.add(Dense(1, activation='sigmoid', kernel_initializer='glorot_uniform'))"
      ],
      "execution_count": 184,
      "outputs": []
    },
    {
      "cell_type": "code",
      "metadata": {
        "id": "nUjZ6IB6N_VB"
      },
      "source": [
        "sgd = SGD(learning_rate=0.0, momentum = 0.9)\n",
        "model3.compile(loss = 'binary_crossentropy', optimizer=sgd)"
      ],
      "execution_count": 185,
      "outputs": []
    },
    {
      "cell_type": "code",
      "metadata": {
        "id": "XPF02AuCOTYp"
      },
      "source": [
        "lrate = LearningRateScheduler(step_decay)\n",
        "callback_list = [lrate]"
      ],
      "execution_count": 188,
      "outputs": []
    },
    {
      "cell_type": "code",
      "metadata": {
        "id": "dm5hWUixOn6Y",
        "outputId": "bb075ece-aa5d-46c3-ce3e-148f88a4f876",
        "colab": {
          "base_uri": "https://localhost:8080/"
        }
      },
      "source": [
        "history3 = model3.fit(\n",
        "    X_train_scaler,\n",
        "    y_train_encoder,\n",
        "    validation_data=(X_test_scaler, y_test_encoder),\n",
        "    epochs=100,\n",
        "    batch_size=5,\n",
        "    callbacks=callback_list,\n",
        "    verbose=1)"
      ],
      "execution_count": 189,
      "outputs": [
        {
          "output_type": "stream",
          "name": "stdout",
          "text": [
            "Epoch 1/100\n",
            "123/123 [==============================] - 1s 4ms/step - loss: 0.6041 - val_loss: 0.5664 - lr: 0.0093\n",
            "Epoch 2/100\n",
            "123/123 [==============================] - 0s 2ms/step - loss: 0.5410 - val_loss: 0.5456 - lr: 0.0087\n",
            "Epoch 3/100\n",
            "123/123 [==============================] - 0s 2ms/step - loss: 0.5201 - val_loss: 0.5313 - lr: 0.0081\n",
            "Epoch 4/100\n",
            "123/123 [==============================] - 0s 2ms/step - loss: 0.5086 - val_loss: 0.5066 - lr: 0.0076\n",
            "Epoch 5/100\n",
            "123/123 [==============================] - 0s 3ms/step - loss: 0.4980 - val_loss: 0.4903 - lr: 0.0071\n",
            "Epoch 6/100\n",
            "123/123 [==============================] - 0s 2ms/step - loss: 0.4952 - val_loss: 0.4974 - lr: 0.0066\n",
            "Epoch 7/100\n",
            "123/123 [==============================] - 0s 2ms/step - loss: 0.4897 - val_loss: 0.4857 - lr: 0.0062\n",
            "Epoch 8/100\n",
            "123/123 [==============================] - 0s 2ms/step - loss: 0.4825 - val_loss: 0.4846 - lr: 0.0057\n",
            "Epoch 9/100\n",
            "123/123 [==============================] - 0s 2ms/step - loss: 0.4830 - val_loss: 0.4954 - lr: 0.0054\n",
            "Epoch 10/100\n",
            "123/123 [==============================] - 0s 2ms/step - loss: 0.4800 - val_loss: 0.5006 - lr: 0.0050\n",
            "Epoch 11/100\n",
            "123/123 [==============================] - 0s 2ms/step - loss: 0.4802 - val_loss: 0.4922 - lr: 0.0047\n",
            "Epoch 12/100\n",
            "123/123 [==============================] - 0s 2ms/step - loss: 0.4776 - val_loss: 0.4849 - lr: 0.0044\n",
            "Epoch 13/100\n",
            "123/123 [==============================] - 0s 2ms/step - loss: 0.4778 - val_loss: 0.4903 - lr: 0.0041\n",
            "Epoch 14/100\n",
            "123/123 [==============================] - 0s 2ms/step - loss: 0.4770 - val_loss: 0.4801 - lr: 0.0038\n",
            "Epoch 15/100\n",
            "123/123 [==============================] - 0s 2ms/step - loss: 0.4749 - val_loss: 0.4930 - lr: 0.0035\n",
            "Epoch 16/100\n",
            "123/123 [==============================] - 0s 2ms/step - loss: 0.4776 - val_loss: 0.4830 - lr: 0.0033\n",
            "Epoch 17/100\n",
            "123/123 [==============================] - 0s 2ms/step - loss: 0.4747 - val_loss: 0.4842 - lr: 0.0031\n",
            "Epoch 18/100\n",
            "123/123 [==============================] - 0s 2ms/step - loss: 0.4739 - val_loss: 0.4812 - lr: 0.0029\n",
            "Epoch 19/100\n",
            "123/123 [==============================] - 0s 2ms/step - loss: 0.4743 - val_loss: 0.4813 - lr: 0.0027\n",
            "Epoch 20/100\n",
            "123/123 [==============================] - 0s 2ms/step - loss: 0.4743 - val_loss: 0.4816 - lr: 0.0025\n",
            "Epoch 21/100\n",
            "123/123 [==============================] - 0s 2ms/step - loss: 0.4751 - val_loss: 0.4803 - lr: 0.0023\n",
            "Epoch 22/100\n",
            "123/123 [==============================] - 0s 2ms/step - loss: 0.4731 - val_loss: 0.4825 - lr: 0.0022\n",
            "Epoch 23/100\n",
            "123/123 [==============================] - 0s 2ms/step - loss: 0.4736 - val_loss: 0.4818 - lr: 0.0020\n",
            "Epoch 24/100\n",
            "123/123 [==============================] - 0s 2ms/step - loss: 0.4726 - val_loss: 0.4800 - lr: 0.0019\n",
            "Epoch 25/100\n",
            "123/123 [==============================] - 0s 2ms/step - loss: 0.4729 - val_loss: 0.4802 - lr: 0.0018\n",
            "Epoch 26/100\n",
            "123/123 [==============================] - 0s 2ms/step - loss: 0.4720 - val_loss: 0.4838 - lr: 0.0016\n",
            "Epoch 27/100\n",
            "123/123 [==============================] - 0s 2ms/step - loss: 0.4717 - val_loss: 0.4805 - lr: 0.0015\n",
            "Epoch 28/100\n",
            "123/123 [==============================] - 0s 2ms/step - loss: 0.4714 - val_loss: 0.4800 - lr: 0.0014\n",
            "Epoch 29/100\n",
            "123/123 [==============================] - 0s 2ms/step - loss: 0.4708 - val_loss: 0.4835 - lr: 0.0013\n",
            "Epoch 30/100\n",
            "123/123 [==============================] - 0s 2ms/step - loss: 0.4715 - val_loss: 0.4813 - lr: 0.0012\n",
            "Epoch 31/100\n",
            "123/123 [==============================] - 0s 2ms/step - loss: 0.4709 - val_loss: 0.4814 - lr: 0.0012\n",
            "Epoch 32/100\n",
            "123/123 [==============================] - 0s 2ms/step - loss: 0.4708 - val_loss: 0.4821 - lr: 0.0011\n",
            "Epoch 33/100\n",
            "123/123 [==============================] - 0s 2ms/step - loss: 0.4705 - val_loss: 0.4815 - lr: 0.0010\n",
            "Epoch 34/100\n",
            "123/123 [==============================] - 1s 4ms/step - loss: 0.4705 - val_loss: 0.4819 - lr: 9.4732e-04\n",
            "Epoch 35/100\n",
            "123/123 [==============================] - 0s 3ms/step - loss: 0.4711 - val_loss: 0.4840 - lr: 8.8388e-04\n",
            "Epoch 36/100\n",
            "123/123 [==============================] - 0s 3ms/step - loss: 0.4704 - val_loss: 0.4831 - lr: 8.2469e-04\n",
            "Epoch 37/100\n",
            "123/123 [==============================] - 0s 3ms/step - loss: 0.4703 - val_loss: 0.4828 - lr: 7.6947e-04\n",
            "Epoch 38/100\n",
            "123/123 [==============================] - 0s 3ms/step - loss: 0.4699 - val_loss: 0.4826 - lr: 7.1794e-04\n",
            "Epoch 39/100\n",
            "123/123 [==============================] - 0s 3ms/step - loss: 0.4701 - val_loss: 0.4819 - lr: 6.6986e-04\n",
            "Epoch 40/100\n",
            "123/123 [==============================] - 0s 4ms/step - loss: 0.4699 - val_loss: 0.4831 - lr: 6.2500e-04\n",
            "Epoch 41/100\n",
            "123/123 [==============================] - 0s 3ms/step - loss: 0.4696 - val_loss: 0.4825 - lr: 5.8315e-04\n",
            "Epoch 42/100\n",
            "123/123 [==============================] - 0s 2ms/step - loss: 0.4699 - val_loss: 0.4827 - lr: 5.4409e-04\n",
            "Epoch 43/100\n",
            "123/123 [==============================] - 0s 2ms/step - loss: 0.4694 - val_loss: 0.4824 - lr: 5.0766e-04\n",
            "Epoch 44/100\n",
            "123/123 [==============================] - 0s 2ms/step - loss: 0.4696 - val_loss: 0.4828 - lr: 4.7366e-04\n",
            "Epoch 45/100\n",
            "123/123 [==============================] - 0s 2ms/step - loss: 0.4693 - val_loss: 0.4829 - lr: 4.4194e-04\n",
            "Epoch 46/100\n",
            "123/123 [==============================] - 0s 2ms/step - loss: 0.4695 - val_loss: 0.4830 - lr: 4.1235e-04\n",
            "Epoch 47/100\n",
            "123/123 [==============================] - 0s 2ms/step - loss: 0.4694 - val_loss: 0.4828 - lr: 3.8473e-04\n",
            "Epoch 48/100\n",
            "123/123 [==============================] - 0s 2ms/step - loss: 0.4694 - val_loss: 0.4825 - lr: 3.5897e-04\n",
            "Epoch 49/100\n",
            "123/123 [==============================] - 0s 2ms/step - loss: 0.4692 - val_loss: 0.4820 - lr: 3.3493e-04\n",
            "Epoch 50/100\n",
            "123/123 [==============================] - 0s 2ms/step - loss: 0.4693 - val_loss: 0.4822 - lr: 3.1250e-04\n",
            "Epoch 51/100\n",
            "123/123 [==============================] - 0s 2ms/step - loss: 0.4694 - val_loss: 0.4828 - lr: 2.9157e-04\n",
            "Epoch 52/100\n",
            "123/123 [==============================] - 0s 2ms/step - loss: 0.4690 - val_loss: 0.4823 - lr: 2.7205e-04\n",
            "Epoch 53/100\n",
            "123/123 [==============================] - 0s 2ms/step - loss: 0.4691 - val_loss: 0.4822 - lr: 2.5383e-04\n",
            "Epoch 54/100\n",
            "123/123 [==============================] - 0s 2ms/step - loss: 0.4690 - val_loss: 0.4822 - lr: 2.3683e-04\n",
            "Epoch 55/100\n",
            "123/123 [==============================] - 0s 2ms/step - loss: 0.4689 - val_loss: 0.4822 - lr: 2.2097e-04\n",
            "Epoch 56/100\n",
            "123/123 [==============================] - 0s 2ms/step - loss: 0.4690 - val_loss: 0.4825 - lr: 2.0617e-04\n",
            "Epoch 57/100\n",
            "123/123 [==============================] - 0s 2ms/step - loss: 0.4691 - val_loss: 0.4823 - lr: 1.9237e-04\n",
            "Epoch 58/100\n",
            "123/123 [==============================] - 0s 2ms/step - loss: 0.4690 - val_loss: 0.4821 - lr: 1.7948e-04\n",
            "Epoch 59/100\n",
            "123/123 [==============================] - 0s 2ms/step - loss: 0.4688 - val_loss: 0.4825 - lr: 1.6746e-04\n",
            "Epoch 60/100\n",
            "123/123 [==============================] - 0s 2ms/step - loss: 0.4688 - val_loss: 0.4823 - lr: 1.5625e-04\n",
            "Epoch 61/100\n",
            "123/123 [==============================] - 0s 2ms/step - loss: 0.4689 - val_loss: 0.4823 - lr: 1.4579e-04\n",
            "Epoch 62/100\n",
            "123/123 [==============================] - 0s 2ms/step - loss: 0.4688 - val_loss: 0.4823 - lr: 1.3602e-04\n",
            "Epoch 63/100\n",
            "123/123 [==============================] - 0s 2ms/step - loss: 0.4688 - val_loss: 0.4823 - lr: 1.2691e-04\n",
            "Epoch 64/100\n",
            "123/123 [==============================] - 0s 2ms/step - loss: 0.4688 - val_loss: 0.4822 - lr: 1.1842e-04\n",
            "Epoch 65/100\n",
            "123/123 [==============================] - 0s 2ms/step - loss: 0.4687 - val_loss: 0.4824 - lr: 1.1049e-04\n",
            "Epoch 66/100\n",
            "123/123 [==============================] - 0s 2ms/step - loss: 0.4687 - val_loss: 0.4824 - lr: 1.0309e-04\n",
            "Epoch 67/100\n",
            "123/123 [==============================] - 0s 2ms/step - loss: 0.4687 - val_loss: 0.4824 - lr: 9.6183e-05\n",
            "Epoch 68/100\n",
            "123/123 [==============================] - 0s 2ms/step - loss: 0.4687 - val_loss: 0.4824 - lr: 8.9742e-05\n",
            "Epoch 69/100\n",
            "123/123 [==============================] - 0s 2ms/step - loss: 0.4687 - val_loss: 0.4823 - lr: 8.3732e-05\n",
            "Epoch 70/100\n",
            "123/123 [==============================] - 0s 2ms/step - loss: 0.4687 - val_loss: 0.4823 - lr: 7.8125e-05\n",
            "Epoch 71/100\n",
            "123/123 [==============================] - 0s 2ms/step - loss: 0.4686 - val_loss: 0.4822 - lr: 7.2893e-05\n",
            "Epoch 72/100\n",
            "123/123 [==============================] - 0s 2ms/step - loss: 0.4687 - val_loss: 0.4821 - lr: 6.8012e-05\n",
            "Epoch 73/100\n",
            "123/123 [==============================] - 0s 2ms/step - loss: 0.4687 - val_loss: 0.4822 - lr: 6.3457e-05\n",
            "Epoch 74/100\n",
            "123/123 [==============================] - 0s 2ms/step - loss: 0.4686 - val_loss: 0.4823 - lr: 5.9208e-05\n",
            "Epoch 75/100\n",
            "123/123 [==============================] - 0s 2ms/step - loss: 0.4687 - val_loss: 0.4822 - lr: 5.5243e-05\n",
            "Epoch 76/100\n",
            "123/123 [==============================] - 0s 2ms/step - loss: 0.4686 - val_loss: 0.4822 - lr: 5.1543e-05\n",
            "Epoch 77/100\n",
            "123/123 [==============================] - 0s 3ms/step - loss: 0.4686 - val_loss: 0.4822 - lr: 4.8092e-05\n",
            "Epoch 78/100\n",
            "123/123 [==============================] - 0s 3ms/step - loss: 0.4686 - val_loss: 0.4821 - lr: 4.4871e-05\n",
            "Epoch 79/100\n",
            "123/123 [==============================] - 0s 3ms/step - loss: 0.4686 - val_loss: 0.4821 - lr: 4.1866e-05\n",
            "Epoch 80/100\n",
            "123/123 [==============================] - 0s 3ms/step - loss: 0.4686 - val_loss: 0.4822 - lr: 3.9062e-05\n",
            "Epoch 81/100\n",
            "123/123 [==============================] - 0s 4ms/step - loss: 0.4686 - val_loss: 0.4822 - lr: 3.6447e-05\n",
            "Epoch 82/100\n",
            "123/123 [==============================] - 0s 3ms/step - loss: 0.4686 - val_loss: 0.4821 - lr: 3.4006e-05\n",
            "Epoch 83/100\n",
            "123/123 [==============================] - 0s 4ms/step - loss: 0.4686 - val_loss: 0.4822 - lr: 3.1729e-05\n",
            "Epoch 84/100\n",
            "123/123 [==============================] - 0s 3ms/step - loss: 0.4686 - val_loss: 0.4821 - lr: 2.9604e-05\n",
            "Epoch 85/100\n",
            "123/123 [==============================] - 0s 3ms/step - loss: 0.4686 - val_loss: 0.4822 - lr: 2.7621e-05\n",
            "Epoch 86/100\n",
            "123/123 [==============================] - 0s 2ms/step - loss: 0.4686 - val_loss: 0.4822 - lr: 2.5772e-05\n",
            "Epoch 87/100\n",
            "123/123 [==============================] - 0s 2ms/step - loss: 0.4685 - val_loss: 0.4822 - lr: 2.4046e-05\n",
            "Epoch 88/100\n",
            "123/123 [==============================] - 0s 2ms/step - loss: 0.4685 - val_loss: 0.4822 - lr: 2.2436e-05\n",
            "Epoch 89/100\n",
            "123/123 [==============================] - 0s 2ms/step - loss: 0.4686 - val_loss: 0.4822 - lr: 2.0933e-05\n",
            "Epoch 90/100\n",
            "123/123 [==============================] - 0s 2ms/step - loss: 0.4686 - val_loss: 0.4821 - lr: 1.9531e-05\n",
            "Epoch 91/100\n",
            "123/123 [==============================] - 0s 2ms/step - loss: 0.4686 - val_loss: 0.4822 - lr: 1.8223e-05\n",
            "Epoch 92/100\n",
            "123/123 [==============================] - 0s 2ms/step - loss: 0.4685 - val_loss: 0.4822 - lr: 1.7003e-05\n",
            "Epoch 93/100\n",
            "123/123 [==============================] - 0s 2ms/step - loss: 0.4685 - val_loss: 0.4822 - lr: 1.5864e-05\n",
            "Epoch 94/100\n",
            "123/123 [==============================] - 0s 2ms/step - loss: 0.4685 - val_loss: 0.4822 - lr: 1.4802e-05\n",
            "Epoch 95/100\n",
            "123/123 [==============================] - 0s 2ms/step - loss: 0.4685 - val_loss: 0.4821 - lr: 1.3811e-05\n",
            "Epoch 96/100\n",
            "123/123 [==============================] - 0s 2ms/step - loss: 0.4685 - val_loss: 0.4822 - lr: 1.2886e-05\n",
            "Epoch 97/100\n",
            "123/123 [==============================] - 0s 2ms/step - loss: 0.4685 - val_loss: 0.4822 - lr: 1.2023e-05\n",
            "Epoch 98/100\n",
            "123/123 [==============================] - 0s 2ms/step - loss: 0.4685 - val_loss: 0.4822 - lr: 1.1218e-05\n",
            "Epoch 99/100\n",
            "123/123 [==============================] - 0s 2ms/step - loss: 0.4685 - val_loss: 0.4822 - lr: 1.0467e-05\n",
            "Epoch 100/100\n",
            "123/123 [==============================] - 0s 2ms/step - loss: 0.4685 - val_loss: 0.4822 - lr: 9.7656e-06\n"
          ]
        }
      ]
    },
    {
      "cell_type": "code",
      "source": [
        "optimization_learning_curves(history3, metrica='loss', title='Loss vs Val Loss')"
      ],
      "metadata": {
        "id": "MEjnW-MUNVrc",
        "outputId": "89ff06f3-09ac-4f44-ebb6-8ebdf1405ec7",
        "colab": {
          "base_uri": "https://localhost:8080/",
          "height": 436
        }
      },
      "execution_count": 190,
      "outputs": [
        {
          "output_type": "display_data",
          "data": {
            "text/plain": [
              "<Figure size 800x400 with 1 Axes>"
            ],
            "image/png": "[encoded data removed]"
          },
          "metadata": {}
        }
      ]
    },
    {
      "cell_type": "markdown",
      "source": [
        "# **Notas**\n",
        "---"
      ],
      "metadata": {
        "id": "kfHv0_vuSdas"
      }
    },
    {
      "cell_type": "markdown",
      "metadata": {
        "id": "S8kX0IA24mBS"
      },
      "source": [
        "- Incrementar la tasa de aprendizaje inicial, debido a que la tasa de aprendizaje disminuira, inicie con un valor mayor desde el cual disminuir\n",
        "\n",
        "- Utilizar un gran momentum\n",
        "\n",
        "- Experimente con diferentes planificacion"
      ]
    },
    {
      "cell_type": "markdown",
      "source": [
        "# **Concluciones**\n",
        "---"
      ],
      "metadata": {
        "id": "ylnIWsHbSgSD"
      }
    },
    {
      "cell_type": "markdown",
      "source": [
        "- Se aprecia que en el método adam la reducción del error de entrenamiento se reduce a la par, que el error de validación.\n",
        "- En el segundo y tercer método el error de entrenamiento se reduce más rápido que el de validación, con diferentes combinaciones de hiperparametros.\n",
        "\n",
        "- Existe un overfiting. En el primer es menor en comparación a los ultmos metrodos\n",
        "\n",
        "- Hay que investigar si el sobreaprendizaje del método de caídas drop y la planificación de learning rate en función del tiempo tiene relación con la reducción rápida del entrenamiento. Cabe resaltar que hay otros consideraciones a tener en cuenta, como el conjunto de datos, los hiperparametros entre otros. Con el adam es más estable el proceso, pero también se presenta overfiting, pero eso puede pasar por diversas razones."
      ],
      "metadata": {
        "id": "7CyOiZYqSy2M"
      }
    }
  ]
}