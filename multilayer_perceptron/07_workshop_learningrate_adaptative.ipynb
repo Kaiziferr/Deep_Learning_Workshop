{
  "nbformat": 4,
  "nbformat_minor": 0,
  "metadata": {
    "colab": {
      "name": "07_workshop_learningrate_adaptative.ipynb",
      "provenance": [],
      "include_colab_link": true
    },
    "kernelspec": {
      "name": "python3",
      "display_name": "Python 3"
    },
    "language_info": {
      "name": "python"
    }
  },
  "cells": [
    {
      "cell_type": "markdown",
      "metadata": {
        "id": "view-in-github",
        "colab_type": "text"
      },
      "source": [
        "<a href=\"https://colab.research.google.com/github/Kaiziferr/deep_learning/blob/master/multilayer_perceptron/07_workshop_learningrate_adaptative.ipynb\" target=\"_parent\"><img src=\"https://colab.research.google.com/assets/colab-badge.svg\" alt=\"Open In Colab\"/></a>"
      ]
    },
    {
      "cell_type": "code",
      "source": [
        "import pandas as pd\n",
        "import numpy as np\n",
        "import matplotlib.pyplot as plt\n",
        "import seaborn as sns\n",
        "\n",
        "import tensorflow as tf\n",
        "\n",
        "from keras.models import Sequential\n",
        "from keras.layers import Dense\n",
        "from keras.optimizers import SGD\n",
        "from keras.callbacks import LearningRateScheduler\n",
        "\n",
        "from sklearn.preprocessing import LabelEncoder, StandardScaler\n",
        "from sklearn.model_selection import train_test_split"
      ],
      "metadata": {
        "id": "PWwVMViSJfNz"
      },
      "execution_count": 48,
      "outputs": []
    },
    {
      "cell_type": "code",
      "source": [
        "url = 'https://raw.githubusercontent.com/Kaiziferr/datasets/main/diabetes.csv'\n",
        "data = pd.read_csv(url)"
      ],
      "metadata": {
        "id": "Fb0ZuS85KLaP"
      },
      "execution_count": 49,
      "outputs": []
    },
    {
      "cell_type": "markdown",
      "metadata": {
        "id": "lWkHjOmBIyjk"
      },
      "source": [
        "# **Split data**\n",
        "---\n",
        "\n"
      ]
    },
    {
      "cell_type": "code",
      "source": [
        "data_values = data.values"
      ],
      "metadata": {
        "id": "CTEx8fDkKWeT"
      },
      "execution_count": 50,
      "outputs": []
    },
    {
      "cell_type": "code",
      "metadata": {
        "id": "SHqgWRDA71W3"
      },
      "source": [
        "X = data_values[:,:8].astype('float')\n",
        "y = data_values[:,8]"
      ],
      "execution_count": 51,
      "outputs": []
    },
    {
      "cell_type": "code",
      "source": [
        "X_train, X_test, y_train, y_test = train_test_split(\n",
        "    X,\n",
        "    y,\n",
        "    train_size=0.8,\n",
        "    shuffle=True,\n",
        "    random_state=1254\n",
        ")"
      ],
      "metadata": {
        "id": "zRb4qIaDKamp"
      },
      "execution_count": 52,
      "outputs": []
    },
    {
      "cell_type": "code",
      "source": [
        "encoder = LabelEncoder()\n",
        "y_train_encoder = encoder.fit_transform(y_train)\n",
        "y_test_encoder = encoder.transform(y_test)"
      ],
      "metadata": {
        "id": "wZ9SqgGRKqi-"
      },
      "execution_count": 53,
      "outputs": []
    },
    {
      "cell_type": "code",
      "source": [
        "estimator_scaler = StandardScaler()\n",
        "X_train_scaler = estimator_scaler.fit_transform(X_train)\n",
        "X_test_scaler = estimator_scaler.transform(X_test)"
      ],
      "metadata": {
        "id": "HRjPYFc1K60l"
      },
      "execution_count": 54,
      "outputs": []
    },
    {
      "cell_type": "code",
      "source": [
        "def optimization_learning_curves(\n",
        "    history:dict,\n",
        "    metrica:str,\n",
        "    title:str='',\n",
        "    X_size:int=8,\n",
        "    y_size:int=4,\n",
        "    font_size:int=15,\n",
        "    X_label:str='Epoch',\n",
        "    y_label:str='Loss'\n",
        ")->None:\n",
        "  \"\"\" Grafica curvas de aprendizaje \"\"\"\n",
        "  fig, ax = plt.subplots(figsize=(X_size, y_size))\n",
        "  fig.suptitle(title, fontsize=font_size)\n",
        "  ax.plot(history.history[metrica])\n",
        "  ax.plot(history.history[f'val_{metrica}'])\n",
        "  ax.set_xlabel(X_label, size = 12)\n",
        "  ax.set_ylabel(y_label, size = 12)\n",
        "  ax.legend(['Train', 'Test'], loc = 'upper right', fontsize = 12)\n",
        "  ax.tick_params(labelsize = 12)\n",
        "  fig.show()"
      ],
      "metadata": {
        "id": "B9ldxd8iDbeE"
      },
      "execution_count": 55,
      "outputs": []
    },
    {
      "cell_type": "markdown",
      "metadata": {
        "id": "SyrnzI4EwFtS"
      },
      "source": [
        "# **Optimizador Adaptativo Adam**\n",
        "\n",
        "---\n",
        "\n"
      ]
    },
    {
      "cell_type": "code",
      "source": [
        "model = Sequential()\n",
        "model.add(Dense(1, input_dim = 8, activation='relu', kernel_initializer = 'glorot_uniform'))\n",
        "model.add(Dense(1, activation='sigmoid', kernel_initializer='glorot_uniform'))"
      ],
      "metadata": {
        "id": "V5lWlpeotXqy"
      },
      "execution_count": 56,
      "outputs": []
    },
    {
      "cell_type": "code",
      "source": [
        "model.compile(\n",
        "    loss = 'binary_crossentropy',\n",
        "    optimizer = 'adam'\n",
        ")\n",
        "\n",
        "history = model.fit(\n",
        "    X_train_scaler,\n",
        "    y_train_encoder,\n",
        "    validation_data=(X_test_scaler, y_test_encoder),\n",
        "    epochs=100,\n",
        "    batch_size=10,\n",
        "    verbose = 1\n",
        ")"
      ],
      "metadata": {
        "id": "5OE87Xobtw0e",
        "outputId": "4d69cf81-4010-4356-c332-7be319a8f9f3",
        "colab": {
          "base_uri": "https://localhost:8080/"
        }
      },
      "execution_count": 57,
      "outputs": [
        {
          "output_type": "stream",
          "name": "stdout",
          "text": [
            "Epoch 1/100\n",
            "62/62 [==============================] - 1s 8ms/step - loss: 0.8394 - val_loss: 0.7517\n",
            "Epoch 2/100\n",
            "62/62 [==============================] - 0s 4ms/step - loss: 0.7969 - val_loss: 0.7239\n",
            "Epoch 3/100\n",
            "62/62 [==============================] - 0s 4ms/step - loss: 0.7633 - val_loss: 0.7021\n",
            "Epoch 4/100\n",
            "62/62 [==============================] - 0s 3ms/step - loss: 0.7370 - val_loss: 0.6863\n",
            "Epoch 5/100\n",
            "62/62 [==============================] - 0s 4ms/step - loss: 0.7163 - val_loss: 0.6742\n",
            "Epoch 6/100\n",
            "62/62 [==============================] - 0s 4ms/step - loss: 0.6999 - val_loss: 0.6645\n",
            "Epoch 7/100\n",
            "62/62 [==============================] - 0s 4ms/step - loss: 0.6871 - val_loss: 0.6575\n",
            "Epoch 8/100\n",
            "62/62 [==============================] - 0s 4ms/step - loss: 0.6773 - val_loss: 0.6517\n",
            "Epoch 9/100\n",
            "62/62 [==============================] - 0s 4ms/step - loss: 0.6685 - val_loss: 0.6473\n",
            "Epoch 10/100\n",
            "62/62 [==============================] - 0s 4ms/step - loss: 0.6615 - val_loss: 0.6429\n",
            "Epoch 11/100\n",
            "62/62 [==============================] - 0s 4ms/step - loss: 0.6552 - val_loss: 0.6391\n",
            "Epoch 12/100\n",
            "62/62 [==============================] - 0s 4ms/step - loss: 0.6501 - val_loss: 0.6355\n",
            "Epoch 13/100\n",
            "62/62 [==============================] - 0s 3ms/step - loss: 0.6456 - val_loss: 0.6321\n",
            "Epoch 14/100\n",
            "62/62 [==============================] - 0s 2ms/step - loss: 0.6416 - val_loss: 0.6288\n",
            "Epoch 15/100\n",
            "62/62 [==============================] - 0s 3ms/step - loss: 0.6379 - val_loss: 0.6254\n",
            "Epoch 16/100\n",
            "62/62 [==============================] - 0s 2ms/step - loss: 0.6347 - val_loss: 0.6226\n",
            "Epoch 17/100\n",
            "62/62 [==============================] - 0s 3ms/step - loss: 0.6317 - val_loss: 0.6198\n",
            "Epoch 18/100\n",
            "62/62 [==============================] - 0s 2ms/step - loss: 0.6287 - val_loss: 0.6174\n",
            "Epoch 19/100\n",
            "62/62 [==============================] - 0s 2ms/step - loss: 0.6259 - val_loss: 0.6149\n",
            "Epoch 20/100\n",
            "62/62 [==============================] - 0s 3ms/step - loss: 0.6230 - val_loss: 0.6124\n",
            "Epoch 21/100\n",
            "62/62 [==============================] - 0s 3ms/step - loss: 0.6199 - val_loss: 0.6095\n",
            "Epoch 22/100\n",
            "62/62 [==============================] - 0s 2ms/step - loss: 0.6163 - val_loss: 0.6062\n",
            "Epoch 23/100\n",
            "62/62 [==============================] - 0s 3ms/step - loss: 0.6126 - val_loss: 0.6032\n",
            "Epoch 24/100\n",
            "62/62 [==============================] - 0s 2ms/step - loss: 0.6083 - val_loss: 0.6001\n",
            "Epoch 25/100\n",
            "62/62 [==============================] - 0s 2ms/step - loss: 0.6040 - val_loss: 0.5965\n",
            "Epoch 26/100\n",
            "62/62 [==============================] - 0s 2ms/step - loss: 0.5996 - val_loss: 0.5934\n",
            "Epoch 27/100\n",
            "62/62 [==============================] - 0s 3ms/step - loss: 0.5952 - val_loss: 0.5903\n",
            "Epoch 28/100\n",
            "62/62 [==============================] - 0s 3ms/step - loss: 0.5906 - val_loss: 0.5870\n",
            "Epoch 29/100\n",
            "62/62 [==============================] - 0s 3ms/step - loss: 0.5860 - val_loss: 0.5833\n",
            "Epoch 30/100\n",
            "62/62 [==============================] - 0s 3ms/step - loss: 0.5814 - val_loss: 0.5802\n",
            "Epoch 31/100\n",
            "62/62 [==============================] - 0s 2ms/step - loss: 0.5770 - val_loss: 0.5766\n",
            "Epoch 32/100\n",
            "62/62 [==============================] - 0s 2ms/step - loss: 0.5724 - val_loss: 0.5729\n",
            "Epoch 33/100\n",
            "62/62 [==============================] - 0s 3ms/step - loss: 0.5678 - val_loss: 0.5696\n",
            "Epoch 34/100\n",
            "62/62 [==============================] - 0s 3ms/step - loss: 0.5632 - val_loss: 0.5663\n",
            "Epoch 35/100\n",
            "62/62 [==============================] - 0s 3ms/step - loss: 0.5590 - val_loss: 0.5633\n",
            "Epoch 36/100\n",
            "62/62 [==============================] - 0s 3ms/step - loss: 0.5548 - val_loss: 0.5601\n",
            "Epoch 37/100\n",
            "62/62 [==============================] - 0s 3ms/step - loss: 0.5509 - val_loss: 0.5570\n",
            "Epoch 38/100\n",
            "62/62 [==============================] - 0s 2ms/step - loss: 0.5475 - val_loss: 0.5547\n",
            "Epoch 39/100\n",
            "62/62 [==============================] - 0s 2ms/step - loss: 0.5440 - val_loss: 0.5518\n",
            "Epoch 40/100\n",
            "62/62 [==============================] - 0s 3ms/step - loss: 0.5411 - val_loss: 0.5490\n",
            "Epoch 41/100\n",
            "62/62 [==============================] - 0s 3ms/step - loss: 0.5381 - val_loss: 0.5462\n",
            "Epoch 42/100\n",
            "62/62 [==============================] - 0s 3ms/step - loss: 0.5357 - val_loss: 0.5436\n",
            "Epoch 43/100\n",
            "62/62 [==============================] - 0s 2ms/step - loss: 0.5327 - val_loss: 0.5421\n",
            "Epoch 44/100\n",
            "62/62 [==============================] - 0s 2ms/step - loss: 0.5303 - val_loss: 0.5388\n",
            "Epoch 45/100\n",
            "62/62 [==============================] - 0s 3ms/step - loss: 0.5277 - val_loss: 0.5360\n",
            "Epoch 46/100\n",
            "62/62 [==============================] - 0s 2ms/step - loss: 0.5253 - val_loss: 0.5335\n",
            "Epoch 47/100\n",
            "62/62 [==============================] - 0s 3ms/step - loss: 0.5229 - val_loss: 0.5312\n",
            "Epoch 48/100\n",
            "62/62 [==============================] - 0s 3ms/step - loss: 0.5206 - val_loss: 0.5284\n",
            "Epoch 49/100\n",
            "62/62 [==============================] - 0s 2ms/step - loss: 0.5186 - val_loss: 0.5268\n",
            "Epoch 50/100\n",
            "62/62 [==============================] - 0s 2ms/step - loss: 0.5168 - val_loss: 0.5245\n",
            "Epoch 51/100\n",
            "62/62 [==============================] - 0s 2ms/step - loss: 0.5152 - val_loss: 0.5218\n",
            "Epoch 52/100\n",
            "62/62 [==============================] - 0s 3ms/step - loss: 0.5135 - val_loss: 0.5206\n",
            "Epoch 53/100\n",
            "62/62 [==============================] - 0s 3ms/step - loss: 0.5120 - val_loss: 0.5184\n",
            "Epoch 54/100\n",
            "62/62 [==============================] - 0s 3ms/step - loss: 0.5103 - val_loss: 0.5168\n",
            "Epoch 55/100\n",
            "62/62 [==============================] - 0s 2ms/step - loss: 0.5089 - val_loss: 0.5151\n",
            "Epoch 56/100\n",
            "62/62 [==============================] - 0s 3ms/step - loss: 0.5076 - val_loss: 0.5138\n",
            "Epoch 57/100\n",
            "62/62 [==============================] - 0s 3ms/step - loss: 0.5061 - val_loss: 0.5125\n",
            "Epoch 58/100\n",
            "62/62 [==============================] - 0s 2ms/step - loss: 0.5046 - val_loss: 0.5110\n",
            "Epoch 59/100\n",
            "62/62 [==============================] - 0s 3ms/step - loss: 0.5034 - val_loss: 0.5098\n",
            "Epoch 60/100\n",
            "62/62 [==============================] - 0s 3ms/step - loss: 0.5025 - val_loss: 0.5091\n",
            "Epoch 61/100\n",
            "62/62 [==============================] - 0s 2ms/step - loss: 0.5018 - val_loss: 0.5081\n",
            "Epoch 62/100\n",
            "62/62 [==============================] - 0s 2ms/step - loss: 0.5007 - val_loss: 0.5069\n",
            "Epoch 63/100\n",
            "62/62 [==============================] - 0s 3ms/step - loss: 0.4996 - val_loss: 0.5064\n",
            "Epoch 64/100\n",
            "62/62 [==============================] - 0s 3ms/step - loss: 0.4986 - val_loss: 0.5055\n",
            "Epoch 65/100\n",
            "62/62 [==============================] - 0s 3ms/step - loss: 0.4980 - val_loss: 0.5049\n",
            "Epoch 66/100\n",
            "62/62 [==============================] - 0s 3ms/step - loss: 0.4970 - val_loss: 0.5050\n",
            "Epoch 67/100\n",
            "62/62 [==============================] - 0s 3ms/step - loss: 0.4963 - val_loss: 0.5040\n",
            "Epoch 68/100\n",
            "62/62 [==============================] - 0s 3ms/step - loss: 0.4957 - val_loss: 0.5041\n",
            "Epoch 69/100\n",
            "62/62 [==============================] - 0s 3ms/step - loss: 0.4948 - val_loss: 0.5032\n",
            "Epoch 70/100\n",
            "62/62 [==============================] - 0s 3ms/step - loss: 0.4943 - val_loss: 0.5026\n",
            "Epoch 71/100\n",
            "62/62 [==============================] - 0s 5ms/step - loss: 0.4936 - val_loss: 0.5022\n",
            "Epoch 72/100\n",
            "62/62 [==============================] - 0s 4ms/step - loss: 0.4932 - val_loss: 0.5020\n",
            "Epoch 73/100\n",
            "62/62 [==============================] - 0s 4ms/step - loss: 0.4924 - val_loss: 0.5012\n",
            "Epoch 74/100\n",
            "62/62 [==============================] - 0s 4ms/step - loss: 0.4920 - val_loss: 0.5000\n",
            "Epoch 75/100\n",
            "62/62 [==============================] - 0s 4ms/step - loss: 0.4915 - val_loss: 0.4999\n",
            "Epoch 76/100\n",
            "62/62 [==============================] - 0s 4ms/step - loss: 0.4911 - val_loss: 0.5003\n",
            "Epoch 77/100\n",
            "62/62 [==============================] - 0s 3ms/step - loss: 0.4907 - val_loss: 0.4994\n",
            "Epoch 78/100\n",
            "62/62 [==============================] - 0s 4ms/step - loss: 0.4901 - val_loss: 0.4998\n",
            "Epoch 79/100\n",
            "62/62 [==============================] - 0s 4ms/step - loss: 0.4899 - val_loss: 0.4992\n",
            "Epoch 80/100\n",
            "62/62 [==============================] - 0s 4ms/step - loss: 0.4894 - val_loss: 0.4989\n",
            "Epoch 81/100\n",
            "62/62 [==============================] - 0s 4ms/step - loss: 0.4889 - val_loss: 0.4986\n",
            "Epoch 82/100\n",
            "62/62 [==============================] - 0s 4ms/step - loss: 0.4888 - val_loss: 0.4972\n",
            "Epoch 83/100\n",
            "62/62 [==============================] - 0s 4ms/step - loss: 0.4882 - val_loss: 0.4973\n",
            "Epoch 84/100\n",
            "62/62 [==============================] - 0s 4ms/step - loss: 0.4879 - val_loss: 0.4973\n",
            "Epoch 85/100\n",
            "62/62 [==============================] - 0s 3ms/step - loss: 0.4876 - val_loss: 0.4967\n",
            "Epoch 86/100\n",
            "62/62 [==============================] - 0s 3ms/step - loss: 0.4871 - val_loss: 0.4970\n",
            "Epoch 87/100\n",
            "62/62 [==============================] - 0s 3ms/step - loss: 0.4869 - val_loss: 0.4968\n",
            "Epoch 88/100\n",
            "62/62 [==============================] - 0s 3ms/step - loss: 0.4866 - val_loss: 0.4967\n",
            "Epoch 89/100\n",
            "62/62 [==============================] - 0s 3ms/step - loss: 0.4863 - val_loss: 0.4962\n",
            "Epoch 90/100\n",
            "62/62 [==============================] - 0s 3ms/step - loss: 0.4864 - val_loss: 0.4960\n",
            "Epoch 91/100\n",
            "62/62 [==============================] - 0s 3ms/step - loss: 0.4857 - val_loss: 0.4959\n",
            "Epoch 92/100\n",
            "62/62 [==============================] - 0s 3ms/step - loss: 0.4856 - val_loss: 0.4959\n",
            "Epoch 93/100\n",
            "62/62 [==============================] - 0s 3ms/step - loss: 0.4852 - val_loss: 0.4959\n",
            "Epoch 94/100\n",
            "62/62 [==============================] - 0s 3ms/step - loss: 0.4849 - val_loss: 0.4961\n",
            "Epoch 95/100\n",
            "62/62 [==============================] - 0s 3ms/step - loss: 0.4847 - val_loss: 0.4959\n",
            "Epoch 96/100\n",
            "62/62 [==============================] - 0s 3ms/step - loss: 0.4846 - val_loss: 0.4951\n",
            "Epoch 97/100\n",
            "62/62 [==============================] - 0s 3ms/step - loss: 0.4842 - val_loss: 0.4948\n",
            "Epoch 98/100\n",
            "62/62 [==============================] - 0s 3ms/step - loss: 0.4840 - val_loss: 0.4956\n",
            "Epoch 99/100\n",
            "62/62 [==============================] - 0s 3ms/step - loss: 0.4837 - val_loss: 0.4946\n",
            "Epoch 100/100\n",
            "62/62 [==============================] - 0s 3ms/step - loss: 0.4835 - val_loss: 0.4947\n"
          ]
        }
      ]
    },
    {
      "cell_type": "code",
      "source": [
        "len(X_train_scaler)/10"
      ],
      "metadata": {
        "id": "oW9Il20EuP5D",
        "outputId": "6e93277f-a075-4b66-cd4d-e6c5664baa26",
        "colab": {
          "base_uri": "https://localhost:8080/"
        }
      },
      "execution_count": 58,
      "outputs": [
        {
          "output_type": "execute_result",
          "data": {
            "text/plain": [
              "61.4"
            ]
          },
          "metadata": {},
          "execution_count": 58
        }
      ]
    },
    {
      "cell_type": "markdown",
      "source": [
        "122.8 lotes con 5 muestras"
      ],
      "metadata": {
        "id": "fUZWST6mudIq"
      }
    },
    {
      "cell_type": "code",
      "source": [
        "optimization_learning_curves(history, metrica='loss', title='Loss vs Val Loss')"
      ],
      "metadata": {
        "colab": {
          "base_uri": "https://localhost:8080/",
          "height": 436
        },
        "id": "fSQ-lxlrDkYt",
        "outputId": "953d0735-87b7-4459-99ad-36c5ebfb647d"
      },
      "execution_count": 59,
      "outputs": [
        {
          "output_type": "display_data",
          "data": {
            "text/plain": [
              "<Figure size 800x400 with 1 Axes>"
            ],
            "image/png": "[encoded data removed]"
          },
          "metadata": {}
        }
      ]
    },
    {
      "cell_type": "markdown",
      "source": [],
      "metadata": {
        "id": "IhuH43t4uM-a"
      }
    },
    {
      "cell_type": "markdown",
      "metadata": {
        "id": "OdYWB3mEvWwg"
      },
      "source": [
        "# **Planificación de learning rate en función del tiempo**\n",
        "\n",
        "---\n",
        "\n"
      ]
    },
    {
      "cell_type": "code",
      "metadata": {
        "id": "wQjbDm5t--tO"
      },
      "source": [
        "model2 = Sequential()\n",
        "model2.add(Dense(1, input_dim=8, activation='relu', kernel_initializer='glorot_uniform'))\n",
        "model2.add(Dense(1, activation='sigmoid', kernel_initializer='glorot_uniform'))"
      ],
      "execution_count": null,
      "outputs": []
    },
    {
      "cell_type": "code",
      "metadata": {
        "id": "MxmDywKlKV23"
      },
      "source": [
        "epoch = 100\n",
        "lr = 0.1\n",
        "decay_rate = lr/epoch\n",
        "momentum = 0.8\n",
        "\n",
        "sgd = SGD(learning_rate=lr, momentum=momentum, decay = decay_rate, nesterov=False)\n",
        "model2.compile(loss='binary_crossentropy', optimizer=sgd)"
      ],
      "execution_count": null,
      "outputs": []
    },
    {
      "cell_type": "code",
      "metadata": {
        "id": "PO276EFhD8wh"
      },
      "source": [
        "history2 = model2.fit(X_train_scaler, y_train_encoder, validation_data=(X_test_scaler, y_test_encoder),\n",
        "           epochs=epoch, batch_size=5, verbose = 1)"
      ],
      "execution_count": null,
      "outputs": []
    },
    {
      "cell_type": "code",
      "source": [
        "optimization_learning_curves(history2, metrica='loss', title='Loss vs Val Loss')"
      ],
      "metadata": {
        "id": "uXMkJCuPLlEY"
      },
      "execution_count": null,
      "outputs": []
    },
    {
      "cell_type": "markdown",
      "metadata": {
        "id": "coWnXWnxvPkJ"
      },
      "source": [
        "# **Tasa de aprendizaje basado en caidas (drop)**\n",
        "\n",
        "---\n",
        "\n"
      ]
    },
    {
      "cell_type": "code",
      "source": [
        "def step_decay(epochs):\n",
        "  intial_rate = 0.1\n",
        "  drop = 0.5\n",
        "  epochs_drop = 10\n",
        "  lrate = intial_rate * np.power(drop, np.floor(1+epochs) / epochs_drop)\n",
        "  return lrate"
      ],
      "metadata": {
        "id": "VKRntVjQLpAk"
      },
      "execution_count": null,
      "outputs": []
    },
    {
      "cell_type": "code",
      "metadata": {
        "id": "3JZOAUFVE2H5"
      },
      "source": [
        "model3 = Sequential()\n",
        "model3.add(Dense(1, input_dim=8, activation='relu', kernel_initializer='glorot_uniform'))\n",
        "model3.add(Dense(1, activation='sigmoid', kernel_initializer='glorot_uniform'))"
      ],
      "execution_count": null,
      "outputs": []
    },
    {
      "cell_type": "code",
      "metadata": {
        "id": "nUjZ6IB6N_VB"
      },
      "source": [
        "sgd = SGD(learning_rate=0.0, momentum = 0.9)\n",
        "model3.compile(loss = 'binary_crossentropy', optimizer=sgd)"
      ],
      "execution_count": null,
      "outputs": []
    },
    {
      "cell_type": "code",
      "metadata": {
        "id": "XPF02AuCOTYp"
      },
      "source": [
        "lrate = LearningRateScheduler(step_decay)\n",
        "callback_list = [lrate]"
      ],
      "execution_count": null,
      "outputs": []
    },
    {
      "cell_type": "code",
      "metadata": {
        "id": "dm5hWUixOn6Y"
      },
      "source": [
        "history3 = model3.fit(X_train_scaler, y_train_encoder, validation_data=(X_test_scaler, y_test_encoder),\n",
        "           epochs=100, batch_size=5, callbacks=callback_list, verbose=1)"
      ],
      "execution_count": null,
      "outputs": []
    },
    {
      "cell_type": "code",
      "source": [
        "optimization_learning_curves(history3, metrica='loss', title='Loss vs Val Loss')"
      ],
      "metadata": {
        "id": "MEjnW-MUNVrc"
      },
      "execution_count": null,
      "outputs": []
    },
    {
      "cell_type": "markdown",
      "source": [
        "# **Notas**\n",
        "---"
      ],
      "metadata": {
        "id": "kfHv0_vuSdas"
      }
    },
    {
      "cell_type": "markdown",
      "metadata": {
        "id": "S8kX0IA24mBS"
      },
      "source": [
        "- Incrementar la tasa de aprendizaje inicial, debido a que la tasa de aprendizaje disminuira, inicie con un valor mayor desde el cual disminuir\n",
        "\n",
        "- Utilizar un gran momentum\n",
        "\n",
        "- Experimente con diferentes planificacion"
      ]
    },
    {
      "cell_type": "markdown",
      "source": [
        "# **Concluciones**\n",
        "---"
      ],
      "metadata": {
        "id": "ylnIWsHbSgSD"
      }
    },
    {
      "cell_type": "markdown",
      "source": [
        "- Se aprecia que en el método adam la reducción del error de entrenamiento se reduce a la par, que el error de validación.\n",
        "- En el segundo y tercer método el error de entrenamiento se reduce más rápido que el de validación, con diferentes combinaciones de hiperparametros.\n",
        "\n",
        "- Existe un overfiting. En el primer es menor en comparación a los ultmos metrodos\n",
        "\n",
        "- Hay que investigar si el sobreaprendizaje del método de caídas drop y la planificación de learning rate en función del tiempo tiene relación con la reducción rápida del entrenamiento. Cabe resaltar que hay otros consideraciones a tener en cuenta, como el conjunto de datos, los hiperparametros entre otros. Con el adam es más estable el proceso, pero también se presenta overfiting, pero eso puede pasar por diversas razones."
      ],
      "metadata": {
        "id": "7CyOiZYqSy2M"
      }
    }
  ]
}