{
  "nbformat": 4,
  "nbformat_minor": 0,
  "metadata": {
    "colab": {
      "name": "07_workshop_learningrate_adaptative.ipynb",
      "provenance": [],
      "collapsed_sections": [],
      "authorship_tag": "ABX9TyMfW0A3f1IBgWELa3xqxKPp",
      "include_colab_link": true
    },
    "kernelspec": {
      "name": "python3",
      "display_name": "Python 3"
    },
    "language_info": {
      "name": "python"
    }
  },
  "cells": [
    {
      "cell_type": "markdown",
      "metadata": {
        "id": "view-in-github",
        "colab_type": "text"
      },
      "source": [
        "<a href=\"https://colab.research.google.com/github/Kaiziferr/Deep_Learning_Workshop/blob/master/multilayer_perceptron/07_workshop_learningrate_adaptative.ipynb\" target=\"_parent\"><img src=\"https://colab.research.google.com/assets/colab-badge.svg\" alt=\"Open In Colab\"/></a>"
      ]
    },
    {
      "cell_type": "code",
      "metadata": {
        "id": "eK7EDVwQtQNN"
      },
      "source": [
        "import pandas as pd\n",
        "\n",
        "import tensorflow\n",
        "\n",
        "from keras.models import Sequential\n",
        "from keras.layers import Dense\n",
        "from tensorflow.keras.optimizers import SGD\n",
        "from keras.callbacks import LearningRateScheduler\n",
        "\n",
        "from tensorflow.keras.metrics import Recall\n",
        "\n",
        "\n",
        "from sklearn.preprocessing import LabelEncoder, StandardScaler\n",
        "from sklearn.model_selection import train_test_split\n",
        "import math"
      ],
      "execution_count": 1,
      "outputs": []
    },
    {
      "cell_type": "code",
      "metadata": {
        "id": "XOXSvQNzEvlG"
      },
      "source": [
        "data = pd.read_csv('https://raw.githubusercontent.com/jbrownlee/Datasets/master/ionosphere.csv')\n",
        "data_values = data.values"
      ],
      "execution_count": 2,
      "outputs": []
    },
    {
      "cell_type": "markdown",
      "metadata": {
        "id": "lWkHjOmBIyjk"
      },
      "source": [
        "# Split data"
      ]
    },
    {
      "cell_type": "code",
      "metadata": {
        "id": "uAvmrDtFIxIR"
      },
      "source": [
        "X = data_values[:,0:34].astype('float')\n",
        "y = data_values[:,34]"
      ],
      "execution_count": 3,
      "outputs": []
    },
    {
      "cell_type": "code",
      "metadata": {
        "id": "l985C6LOJA95"
      },
      "source": [
        "X_train, X_test, y_train, y_test = train_test_split(X, y, train_size = 0.85, shuffle = True)"
      ],
      "execution_count": 4,
      "outputs": []
    },
    {
      "cell_type": "code",
      "metadata": {
        "id": "2X8mlg8oJdMY"
      },
      "source": [
        "# Encoder\n",
        "encoder = LabelEncoder()\n",
        "y_train_encoder = encoder.fit_transform(y_train)\n",
        "y_test_encoder = encoder.transform(y_test)"
      ],
      "execution_count": 5,
      "outputs": []
    },
    {
      "cell_type": "code",
      "metadata": {
        "id": "goggpz-8JzFo"
      },
      "source": [
        "#escalar\n",
        "estimator_scaler = StandardScaler()\n",
        "X_train_scaler = estimator_scaler.fit_transform(X_train)\n",
        "X_test_scaler = estimator_scaler.transform(X_test)"
      ],
      "execution_count": 6,
      "outputs": []
    },
    {
      "cell_type": "code",
      "metadata": {
        "colab": {
          "base_uri": "https://localhost:8080/"
        },
        "id": "UNGFMUtQL7It",
        "outputId": "1a86a2c3-1f96-4ff4-dd38-9acc953ba78f"
      },
      "source": [
        "data['g'].value_counts()"
      ],
      "execution_count": 7,
      "outputs": [
        {
          "output_type": "execute_result",
          "data": {
            "text/plain": [
              "g    224\n",
              "b    126\n",
              "Name: g, dtype: int64"
            ]
          },
          "metadata": {},
          "execution_count": 7
        }
      ]
    },
    {
      "cell_type": "markdown",
      "metadata": {
        "id": "SyrnzI4EwFtS"
      },
      "source": [
        "# Optimizador Adaptativo Adam"
      ]
    },
    {
      "cell_type": "code",
      "metadata": {
        "colab": {
          "base_uri": "https://localhost:8080/"
        },
        "id": "BkWqucqJvXfQ",
        "outputId": "e04173ef-aff8-4607-eeca-94367359fef7"
      },
      "source": [
        "model = Sequential()\n",
        "model.add(Dense(34, input_dim =34, activation='relu', kernel_initializer='glorot_uniform'))\n",
        "model.add(Dense(1, activation='sigmoid'))\n",
        "\n",
        "model.compile(loss = 'binary_crossentropy', optimizer='adam', metrics=[Recall()])\n",
        "model.fit(X_train_scaler, y_train_encoder, validation_data=(X_test_scaler, y_test_encoder), epochs = 50, batch_size = 28, verbose=1)"
      ],
      "execution_count": 12,
      "outputs": [
        {
          "output_type": "stream",
          "name": "stdout",
          "text": [
            "Epoch 1/50\n",
            "11/11 [==============================] - 1s 23ms/step - loss: 0.6742 - recall_1: 0.4149 - val_loss: 0.6029 - val_recall_1: 0.6389\n",
            "Epoch 2/50\n",
            "11/11 [==============================] - 0s 4ms/step - loss: 0.5688 - recall_1: 0.7713 - val_loss: 0.5077 - val_recall_1: 0.8333\n",
            "Epoch 3/50\n",
            "11/11 [==============================] - 0s 4ms/step - loss: 0.4933 - recall_1: 0.8936 - val_loss: 0.4396 - val_recall_1: 0.8333\n",
            "Epoch 4/50\n",
            "11/11 [==============================] - 0s 3ms/step - loss: 0.4395 - recall_1: 0.9096 - val_loss: 0.3916 - val_recall_1: 0.8333\n",
            "Epoch 5/50\n",
            "11/11 [==============================] - 0s 3ms/step - loss: 0.3985 - recall_1: 0.9149 - val_loss: 0.3550 - val_recall_1: 0.8611\n",
            "Epoch 6/50\n",
            "11/11 [==============================] - 0s 3ms/step - loss: 0.3689 - recall_1: 0.9202 - val_loss: 0.3264 - val_recall_1: 0.8611\n",
            "Epoch 7/50\n",
            "11/11 [==============================] - 0s 3ms/step - loss: 0.3435 - recall_1: 0.9255 - val_loss: 0.3052 - val_recall_1: 0.8611\n",
            "Epoch 8/50\n",
            "11/11 [==============================] - 0s 3ms/step - loss: 0.3246 - recall_1: 0.9255 - val_loss: 0.2870 - val_recall_1: 0.9167\n",
            "Epoch 9/50\n",
            "11/11 [==============================] - 0s 3ms/step - loss: 0.3080 - recall_1: 0.9309 - val_loss: 0.2724 - val_recall_1: 0.9444\n",
            "Epoch 10/50\n",
            "11/11 [==============================] - 0s 3ms/step - loss: 0.2947 - recall_1: 0.9309 - val_loss: 0.2601 - val_recall_1: 0.9444\n",
            "Epoch 11/50\n",
            "11/11 [==============================] - 0s 4ms/step - loss: 0.2825 - recall_1: 0.9362 - val_loss: 0.2483 - val_recall_1: 0.9444\n",
            "Epoch 12/50\n",
            "11/11 [==============================] - 0s 3ms/step - loss: 0.2723 - recall_1: 0.9362 - val_loss: 0.2385 - val_recall_1: 0.9722\n",
            "Epoch 13/50\n",
            "11/11 [==============================] - 0s 3ms/step - loss: 0.2622 - recall_1: 0.9362 - val_loss: 0.2303 - val_recall_1: 0.9722\n",
            "Epoch 14/50\n",
            "11/11 [==============================] - 0s 3ms/step - loss: 0.2532 - recall_1: 0.9362 - val_loss: 0.2216 - val_recall_1: 0.9722\n",
            "Epoch 15/50\n",
            "11/11 [==============================] - 0s 3ms/step - loss: 0.2451 - recall_1: 0.9362 - val_loss: 0.2143 - val_recall_1: 0.9722\n",
            "Epoch 16/50\n",
            "11/11 [==============================] - 0s 3ms/step - loss: 0.2385 - recall_1: 0.9362 - val_loss: 0.2090 - val_recall_1: 0.9722\n",
            "Epoch 17/50\n",
            "11/11 [==============================] - 0s 4ms/step - loss: 0.2304 - recall_1: 0.9415 - val_loss: 0.2026 - val_recall_1: 0.9722\n",
            "Epoch 18/50\n",
            "11/11 [==============================] - 0s 3ms/step - loss: 0.2233 - recall_1: 0.9415 - val_loss: 0.1961 - val_recall_1: 0.9722\n",
            "Epoch 19/50\n",
            "11/11 [==============================] - 0s 3ms/step - loss: 0.2168 - recall_1: 0.9415 - val_loss: 0.1900 - val_recall_1: 0.9722\n",
            "Epoch 20/50\n",
            "11/11 [==============================] - 0s 3ms/step - loss: 0.2115 - recall_1: 0.9362 - val_loss: 0.1837 - val_recall_1: 0.9722\n",
            "Epoch 21/50\n",
            "11/11 [==============================] - 0s 3ms/step - loss: 0.2051 - recall_1: 0.9415 - val_loss: 0.1797 - val_recall_1: 0.9722\n",
            "Epoch 22/50\n",
            "11/11 [==============================] - 0s 3ms/step - loss: 0.1989 - recall_1: 0.9468 - val_loss: 0.1757 - val_recall_1: 0.9722\n",
            "Epoch 23/50\n",
            "11/11 [==============================] - 0s 3ms/step - loss: 0.1933 - recall_1: 0.9468 - val_loss: 0.1714 - val_recall_1: 0.9722\n",
            "Epoch 24/50\n",
            "11/11 [==============================] - 0s 3ms/step - loss: 0.1880 - recall_1: 0.9521 - val_loss: 0.1672 - val_recall_1: 0.9722\n",
            "Epoch 25/50\n",
            "11/11 [==============================] - 0s 3ms/step - loss: 0.1837 - recall_1: 0.9574 - val_loss: 0.1636 - val_recall_1: 0.9722\n",
            "Epoch 26/50\n",
            "11/11 [==============================] - 0s 4ms/step - loss: 0.1781 - recall_1: 0.9574 - val_loss: 0.1598 - val_recall_1: 0.9722\n",
            "Epoch 27/50\n",
            "11/11 [==============================] - 0s 3ms/step - loss: 0.1736 - recall_1: 0.9628 - val_loss: 0.1559 - val_recall_1: 0.9722\n",
            "Epoch 28/50\n",
            "11/11 [==============================] - 0s 3ms/step - loss: 0.1692 - recall_1: 0.9681 - val_loss: 0.1525 - val_recall_1: 0.9722\n",
            "Epoch 29/50\n",
            "11/11 [==============================] - 0s 4ms/step - loss: 0.1650 - recall_1: 0.9681 - val_loss: 0.1489 - val_recall_1: 0.9722\n",
            "Epoch 30/50\n",
            "11/11 [==============================] - 0s 3ms/step - loss: 0.1618 - recall_1: 0.9681 - val_loss: 0.1475 - val_recall_1: 0.9722\n",
            "Epoch 31/50\n",
            "11/11 [==============================] - 0s 3ms/step - loss: 0.1570 - recall_1: 0.9681 - val_loss: 0.1432 - val_recall_1: 0.9722\n",
            "Epoch 32/50\n",
            "11/11 [==============================] - 0s 4ms/step - loss: 0.1534 - recall_1: 0.9681 - val_loss: 0.1400 - val_recall_1: 0.9722\n",
            "Epoch 33/50\n",
            "11/11 [==============================] - 0s 4ms/step - loss: 0.1498 - recall_1: 0.9681 - val_loss: 0.1368 - val_recall_1: 0.9722\n",
            "Epoch 34/50\n",
            "11/11 [==============================] - 0s 3ms/step - loss: 0.1466 - recall_1: 0.9681 - val_loss: 0.1340 - val_recall_1: 0.9722\n",
            "Epoch 35/50\n",
            "11/11 [==============================] - 0s 4ms/step - loss: 0.1431 - recall_1: 0.9734 - val_loss: 0.1322 - val_recall_1: 0.9722\n",
            "Epoch 36/50\n",
            "11/11 [==============================] - 0s 4ms/step - loss: 0.1399 - recall_1: 0.9734 - val_loss: 0.1323 - val_recall_1: 0.9722\n",
            "Epoch 37/50\n",
            "11/11 [==============================] - 0s 3ms/step - loss: 0.1366 - recall_1: 0.9734 - val_loss: 0.1295 - val_recall_1: 0.9722\n",
            "Epoch 38/50\n",
            "11/11 [==============================] - 0s 4ms/step - loss: 0.1333 - recall_1: 0.9787 - val_loss: 0.1256 - val_recall_1: 0.9722\n",
            "Epoch 39/50\n",
            "11/11 [==============================] - 0s 3ms/step - loss: 0.1305 - recall_1: 0.9840 - val_loss: 0.1240 - val_recall_1: 0.9722\n",
            "Epoch 40/50\n",
            "11/11 [==============================] - 0s 4ms/step - loss: 0.1274 - recall_1: 0.9840 - val_loss: 0.1223 - val_recall_1: 0.9722\n",
            "Epoch 41/50\n",
            "11/11 [==============================] - 0s 3ms/step - loss: 0.1245 - recall_1: 0.9840 - val_loss: 0.1211 - val_recall_1: 0.9722\n",
            "Epoch 42/50\n",
            "11/11 [==============================] - 0s 3ms/step - loss: 0.1219 - recall_1: 0.9840 - val_loss: 0.1195 - val_recall_1: 0.9722\n",
            "Epoch 43/50\n",
            "11/11 [==============================] - 0s 3ms/step - loss: 0.1194 - recall_1: 0.9840 - val_loss: 0.1183 - val_recall_1: 0.9722\n",
            "Epoch 44/50\n",
            "11/11 [==============================] - 0s 4ms/step - loss: 0.1167 - recall_1: 0.9840 - val_loss: 0.1147 - val_recall_1: 0.9722\n",
            "Epoch 45/50\n",
            "11/11 [==============================] - 0s 4ms/step - loss: 0.1143 - recall_1: 0.9840 - val_loss: 0.1123 - val_recall_1: 0.9722\n",
            "Epoch 46/50\n",
            "11/11 [==============================] - 0s 3ms/step - loss: 0.1119 - recall_1: 0.9840 - val_loss: 0.1102 - val_recall_1: 0.9722\n",
            "Epoch 47/50\n",
            "11/11 [==============================] - 0s 3ms/step - loss: 0.1100 - recall_1: 0.9840 - val_loss: 0.1112 - val_recall_1: 0.9722\n",
            "Epoch 48/50\n",
            "11/11 [==============================] - 0s 3ms/step - loss: 0.1074 - recall_1: 0.9840 - val_loss: 0.1088 - val_recall_1: 0.9722\n",
            "Epoch 49/50\n",
            "11/11 [==============================] - 0s 3ms/step - loss: 0.1052 - recall_1: 0.9840 - val_loss: 0.1081 - val_recall_1: 0.9722\n",
            "Epoch 50/50\n",
            "11/11 [==============================] - 0s 3ms/step - loss: 0.1032 - recall_1: 0.9840 - val_loss: 0.1060 - val_recall_1: 0.9722\n"
          ]
        },
        {
          "output_type": "execute_result",
          "data": {
            "text/plain": [
              "<keras.callbacks.History at 0x7f9389145290>"
            ]
          },
          "metadata": {},
          "execution_count": 12
        }
      ]
    },
    {
      "cell_type": "markdown",
      "metadata": {
        "id": "OdYWB3mEvWwg"
      },
      "source": [
        "# Planificación de learning rate en función del tiempo"
      ]
    },
    {
      "cell_type": "code",
      "metadata": {
        "id": "MxmDywKlKV23"
      },
      "source": [
        "model = Sequential()\n",
        "model.add(Dense(34, input_dim = 34, activation='relu', kernel_initializer='glorot_uniform'))\n",
        "model.add(Dense(1, activation='sigmoid'))\n",
        "\n",
        "\n",
        "epoch = 50\n",
        "lr = 0.1\n",
        "decay_rate = lr/epoch\n",
        "momentum = 0.8\n",
        "\n",
        "sgd = SGD(learning_rate=lr, momentum=momentum, decay = decay_rate, nesterov = False)\n",
        "model.compile(loss='binary_crossentropy', optimizer = sgd, metrics = [Recall()])"
      ],
      "execution_count": 8,
      "outputs": []
    },
    {
      "cell_type": "code",
      "metadata": {
        "colab": {
          "base_uri": "https://localhost:8080/"
        },
        "id": "UrDTQZLRMfkI",
        "outputId": "7645b653-b818-4a0b-e457-5dd867e600ce"
      },
      "source": [
        "model.fit(X_train_scaler,y_train_encoder, validation_data=(X_test_scaler, y_test_encoder), epochs=epoch, batch_size=28, verbose = 1)"
      ],
      "execution_count": 9,
      "outputs": [
        {
          "output_type": "stream",
          "name": "stdout",
          "text": [
            "Epoch 1/50\n",
            "11/11 [==============================] - 1s 26ms/step - loss: 0.4883 - recall: 0.7606 - val_loss: 0.2364 - val_recall: 0.8889\n",
            "Epoch 2/50\n",
            "11/11 [==============================] - 0s 3ms/step - loss: 0.2493 - recall: 0.9415 - val_loss: 0.1561 - val_recall: 0.9722\n",
            "Epoch 3/50\n",
            "11/11 [==============================] - 0s 4ms/step - loss: 0.1824 - recall: 0.9628 - val_loss: 0.1211 - val_recall: 1.0000\n",
            "Epoch 4/50\n",
            "11/11 [==============================] - 0s 3ms/step - loss: 0.1469 - recall: 0.9681 - val_loss: 0.1005 - val_recall: 1.0000\n",
            "Epoch 5/50\n",
            "11/11 [==============================] - 0s 4ms/step - loss: 0.1257 - recall: 0.9840 - val_loss: 0.0975 - val_recall: 1.0000\n",
            "Epoch 6/50\n",
            "11/11 [==============================] - 0s 3ms/step - loss: 0.1098 - recall: 0.9787 - val_loss: 0.0790 - val_recall: 1.0000\n",
            "Epoch 7/50\n",
            "11/11 [==============================] - 0s 3ms/step - loss: 0.0945 - recall: 0.9894 - val_loss: 0.0744 - val_recall: 1.0000\n",
            "Epoch 8/50\n",
            "11/11 [==============================] - 0s 4ms/step - loss: 0.0847 - recall: 0.9894 - val_loss: 0.0709 - val_recall: 1.0000\n",
            "Epoch 9/50\n",
            "11/11 [==============================] - 0s 4ms/step - loss: 0.0778 - recall: 0.9947 - val_loss: 0.0675 - val_recall: 1.0000\n",
            "Epoch 10/50\n",
            "11/11 [==============================] - 0s 3ms/step - loss: 0.0711 - recall: 0.9947 - val_loss: 0.0621 - val_recall: 1.0000\n",
            "Epoch 11/50\n",
            "11/11 [==============================] - 0s 3ms/step - loss: 0.0657 - recall: 0.9947 - val_loss: 0.0646 - val_recall: 1.0000\n",
            "Epoch 12/50\n",
            "11/11 [==============================] - 0s 3ms/step - loss: 0.0609 - recall: 0.9947 - val_loss: 0.0608 - val_recall: 1.0000\n",
            "Epoch 13/50\n",
            "11/11 [==============================] - 0s 4ms/step - loss: 0.0575 - recall: 0.9947 - val_loss: 0.0561 - val_recall: 1.0000\n",
            "Epoch 14/50\n",
            "11/11 [==============================] - 0s 3ms/step - loss: 0.0535 - recall: 0.9947 - val_loss: 0.0592 - val_recall: 1.0000\n",
            "Epoch 15/50\n",
            "11/11 [==============================] - 0s 3ms/step - loss: 0.0512 - recall: 0.9947 - val_loss: 0.0570 - val_recall: 1.0000\n",
            "Epoch 16/50\n",
            "11/11 [==============================] - 0s 3ms/step - loss: 0.0478 - recall: 0.9947 - val_loss: 0.0569 - val_recall: 1.0000\n",
            "Epoch 17/50\n",
            "11/11 [==============================] - 0s 3ms/step - loss: 0.0447 - recall: 0.9947 - val_loss: 0.0537 - val_recall: 1.0000\n",
            "Epoch 18/50\n",
            "11/11 [==============================] - 0s 4ms/step - loss: 0.0433 - recall: 0.9947 - val_loss: 0.0533 - val_recall: 1.0000\n",
            "Epoch 19/50\n",
            "11/11 [==============================] - 0s 4ms/step - loss: 0.0416 - recall: 1.0000 - val_loss: 0.0516 - val_recall: 1.0000\n",
            "Epoch 20/50\n",
            "11/11 [==============================] - 0s 3ms/step - loss: 0.0385 - recall: 0.9947 - val_loss: 0.0484 - val_recall: 1.0000\n",
            "Epoch 21/50\n",
            "11/11 [==============================] - 0s 3ms/step - loss: 0.0382 - recall: 0.9947 - val_loss: 0.0521 - val_recall: 1.0000\n",
            "Epoch 22/50\n",
            "11/11 [==============================] - 0s 3ms/step - loss: 0.0360 - recall: 0.9947 - val_loss: 0.0506 - val_recall: 1.0000\n",
            "Epoch 23/50\n",
            "11/11 [==============================] - 0s 4ms/step - loss: 0.0344 - recall: 0.9947 - val_loss: 0.0487 - val_recall: 1.0000\n",
            "Epoch 24/50\n",
            "11/11 [==============================] - 0s 3ms/step - loss: 0.0335 - recall: 1.0000 - val_loss: 0.0483 - val_recall: 1.0000\n",
            "Epoch 25/50\n",
            "11/11 [==============================] - 0s 3ms/step - loss: 0.0323 - recall: 1.0000 - val_loss: 0.0482 - val_recall: 1.0000\n",
            "Epoch 26/50\n",
            "11/11 [==============================] - 0s 4ms/step - loss: 0.0311 - recall: 1.0000 - val_loss: 0.0480 - val_recall: 1.0000\n",
            "Epoch 27/50\n",
            "11/11 [==============================] - 0s 4ms/step - loss: 0.0307 - recall: 1.0000 - val_loss: 0.0432 - val_recall: 1.0000\n",
            "Epoch 28/50\n",
            "11/11 [==============================] - 0s 4ms/step - loss: 0.0306 - recall: 0.9947 - val_loss: 0.0473 - val_recall: 1.0000\n",
            "Epoch 29/50\n",
            "11/11 [==============================] - 0s 4ms/step - loss: 0.0289 - recall: 1.0000 - val_loss: 0.0461 - val_recall: 1.0000\n",
            "Epoch 30/50\n",
            "11/11 [==============================] - 0s 4ms/step - loss: 0.0279 - recall: 1.0000 - val_loss: 0.0466 - val_recall: 1.0000\n",
            "Epoch 31/50\n",
            "11/11 [==============================] - 0s 4ms/step - loss: 0.0271 - recall: 1.0000 - val_loss: 0.0438 - val_recall: 1.0000\n",
            "Epoch 32/50\n",
            "11/11 [==============================] - 0s 4ms/step - loss: 0.0268 - recall: 1.0000 - val_loss: 0.0458 - val_recall: 1.0000\n",
            "Epoch 33/50\n",
            "11/11 [==============================] - 0s 3ms/step - loss: 0.0260 - recall: 1.0000 - val_loss: 0.0441 - val_recall: 1.0000\n",
            "Epoch 34/50\n",
            "11/11 [==============================] - 0s 3ms/step - loss: 0.0254 - recall: 1.0000 - val_loss: 0.0442 - val_recall: 1.0000\n",
            "Epoch 35/50\n",
            "11/11 [==============================] - 0s 3ms/step - loss: 0.0248 - recall: 1.0000 - val_loss: 0.0421 - val_recall: 1.0000\n",
            "Epoch 36/50\n",
            "11/11 [==============================] - 0s 4ms/step - loss: 0.0241 - recall: 1.0000 - val_loss: 0.0424 - val_recall: 1.0000\n",
            "Epoch 37/50\n",
            "11/11 [==============================] - 0s 4ms/step - loss: 0.0238 - recall: 1.0000 - val_loss: 0.0433 - val_recall: 1.0000\n",
            "Epoch 38/50\n",
            "11/11 [==============================] - 0s 4ms/step - loss: 0.0236 - recall: 1.0000 - val_loss: 0.0442 - val_recall: 1.0000\n",
            "Epoch 39/50\n",
            "11/11 [==============================] - 0s 6ms/step - loss: 0.0231 - recall: 1.0000 - val_loss: 0.0450 - val_recall: 1.0000\n",
            "Epoch 40/50\n",
            "11/11 [==============================] - 0s 4ms/step - loss: 0.0227 - recall: 1.0000 - val_loss: 0.0432 - val_recall: 1.0000\n",
            "Epoch 41/50\n",
            "11/11 [==============================] - 0s 3ms/step - loss: 0.0222 - recall: 1.0000 - val_loss: 0.0416 - val_recall: 1.0000\n",
            "Epoch 42/50\n",
            "11/11 [==============================] - 0s 3ms/step - loss: 0.0219 - recall: 1.0000 - val_loss: 0.0409 - val_recall: 1.0000\n",
            "Epoch 43/50\n",
            "11/11 [==============================] - 0s 3ms/step - loss: 0.0212 - recall: 1.0000 - val_loss: 0.0410 - val_recall: 1.0000\n",
            "Epoch 44/50\n",
            "11/11 [==============================] - 0s 4ms/step - loss: 0.0210 - recall: 1.0000 - val_loss: 0.0421 - val_recall: 1.0000\n",
            "Epoch 45/50\n",
            "11/11 [==============================] - 0s 4ms/step - loss: 0.0205 - recall: 1.0000 - val_loss: 0.0404 - val_recall: 1.0000\n",
            "Epoch 46/50\n",
            "11/11 [==============================] - 0s 3ms/step - loss: 0.0204 - recall: 1.0000 - val_loss: 0.0417 - val_recall: 1.0000\n",
            "Epoch 47/50\n",
            "11/11 [==============================] - 0s 4ms/step - loss: 0.0202 - recall: 1.0000 - val_loss: 0.0406 - val_recall: 1.0000\n",
            "Epoch 48/50\n",
            "11/11 [==============================] - 0s 3ms/step - loss: 0.0199 - recall: 1.0000 - val_loss: 0.0398 - val_recall: 1.0000\n",
            "Epoch 49/50\n",
            "11/11 [==============================] - 0s 4ms/step - loss: 0.0196 - recall: 1.0000 - val_loss: 0.0416 - val_recall: 1.0000\n",
            "Epoch 50/50\n",
            "11/11 [==============================] - 0s 5ms/step - loss: 0.0191 - recall: 1.0000 - val_loss: 0.0396 - val_recall: 1.0000\n"
          ]
        },
        {
          "output_type": "execute_result",
          "data": {
            "text/plain": [
              "<keras.callbacks.History at 0x7f938918a0d0>"
            ]
          },
          "metadata": {},
          "execution_count": 9
        }
      ]
    },
    {
      "cell_type": "markdown",
      "metadata": {
        "id": "coWnXWnxvPkJ"
      },
      "source": [
        "#Tasa de aprendizaje basado en caidas (drop)"
      ]
    },
    {
      "cell_type": "code",
      "metadata": {
        "id": "AcAV-w9gu3JI"
      },
      "source": [
        "def step_decay(epoch):\n",
        "  initial_rate = 0.1\n",
        "  drop = 0.5\n",
        "  epochs_drop = 10\n",
        "  lrate = initial_rate * math.pow(drop, math.floor(1+epoch) / epochs_drop)\n",
        "  print(lrate, epoch)\n",
        "  return lrate"
      ],
      "execution_count": 28,
      "outputs": []
    },
    {
      "cell_type": "code",
      "metadata": {
        "id": "cJyKWjvEzpz1"
      },
      "source": [
        "model = Sequential()\n",
        "model.add(Dense(34, input_dim = 34, activation = 'relu', kernel_initializer='glorot_uniform'))\n",
        "model.add(Dense(1, activation='sigmoid'))"
      ],
      "execution_count": 29,
      "outputs": []
    },
    {
      "cell_type": "code",
      "metadata": {
        "id": "1q9vBL3R11Ta"
      },
      "source": [
        "sgd = SGD(learning_rate=0.0, momentum = 0.9)\n",
        "model.compile(loss='binary_crossentropy', optimizer=sgd, metrics=[Recall()])"
      ],
      "execution_count": 30,
      "outputs": []
    },
    {
      "cell_type": "code",
      "metadata": {
        "id": "_xvPRf682Q4S"
      },
      "source": [
        "lrate = LearningRateScheduler(step_decay)\n",
        "callback_list = [lrate]"
      ],
      "execution_count": 31,
      "outputs": []
    },
    {
      "cell_type": "code",
      "metadata": {
        "colab": {
          "base_uri": "https://localhost:8080/"
        },
        "id": "du5DsVzG2jH8",
        "outputId": "c02a2b20-ed59-428d-f122-6a130461789a"
      },
      "source": [
        "model.fit(X_train_scaler, y_train_encoder, validation_data=(X_test_scaler, y_test_encoder), epochs=50, batch_size=25, callbacks=callback_list\n",
        "          , verbose = 1)"
      ],
      "execution_count": 32,
      "outputs": [
        {
          "output_type": "stream",
          "name": "stdout",
          "text": [
            "Epoch 1/50\n",
            "0.09330329915368074 0\n",
            "12/12 [==============================] - 1s 19ms/step - loss: 0.5129 - recall_4: 0.8404 - val_loss: 0.2009 - val_recall_4: 1.0000\n",
            "Epoch 2/50\n",
            "0.08705505632961241 1\n",
            "12/12 [==============================] - 0s 3ms/step - loss: 0.2684 - recall_4: 0.9149 - val_loss: 0.1001 - val_recall_4: 1.0000\n",
            "Epoch 3/50\n",
            "0.08122523963562356 2\n",
            "12/12 [==============================] - 0s 3ms/step - loss: 0.1611 - recall_4: 0.9574 - val_loss: 0.1246 - val_recall_4: 0.9722\n",
            "Epoch 4/50\n",
            "0.0757858283255199 3\n",
            "12/12 [==============================] - 0s 3ms/step - loss: 0.1219 - recall_4: 0.9681 - val_loss: 0.0684 - val_recall_4: 1.0000\n",
            "Epoch 5/50\n",
            "0.07071067811865477 4\n",
            "12/12 [==============================] - 0s 3ms/step - loss: 0.1023 - recall_4: 0.9947 - val_loss: 0.0635 - val_recall_4: 1.0000\n",
            "Epoch 6/50\n",
            "0.06597539553864472 5\n",
            "12/12 [==============================] - 0s 3ms/step - loss: 0.0803 - recall_4: 0.9947 - val_loss: 0.0564 - val_recall_4: 1.0000\n",
            "Epoch 7/50\n",
            "0.06155722066724582 6\n",
            "12/12 [==============================] - 0s 3ms/step - loss: 0.0678 - recall_4: 0.9947 - val_loss: 0.0503 - val_recall_4: 1.0000\n",
            "Epoch 8/50\n",
            "0.057434917749851745 7\n",
            "12/12 [==============================] - 0s 4ms/step - loss: 0.0632 - recall_4: 1.0000 - val_loss: 0.0524 - val_recall_4: 1.0000\n",
            "Epoch 9/50\n",
            "0.05358867312681466 8\n",
            "12/12 [==============================] - 0s 3ms/step - loss: 0.0573 - recall_4: 1.0000 - val_loss: 0.0476 - val_recall_4: 1.0000\n",
            "Epoch 10/50\n",
            "0.05 9\n",
            "12/12 [==============================] - 0s 3ms/step - loss: 0.0531 - recall_4: 1.0000 - val_loss: 0.0507 - val_recall_4: 1.0000\n",
            "Epoch 11/50\n",
            "0.04665164957684037 10\n",
            "12/12 [==============================] - 0s 3ms/step - loss: 0.0505 - recall_4: 1.0000 - val_loss: 0.0505 - val_recall_4: 1.0000\n",
            "Epoch 12/50\n",
            "0.043527528164806206 11\n",
            "12/12 [==============================] - 0s 3ms/step - loss: 0.0475 - recall_4: 1.0000 - val_loss: 0.0504 - val_recall_4: 1.0000\n",
            "Epoch 13/50\n",
            "0.04061261981781178 12\n",
            "12/12 [==============================] - 0s 3ms/step - loss: 0.0454 - recall_4: 1.0000 - val_loss: 0.0471 - val_recall_4: 1.0000\n",
            "Epoch 14/50\n",
            "0.03789291416275996 13\n",
            "12/12 [==============================] - 0s 3ms/step - loss: 0.0443 - recall_4: 1.0000 - val_loss: 0.0493 - val_recall_4: 1.0000\n",
            "Epoch 15/50\n",
            "0.03535533905932738 14\n",
            "12/12 [==============================] - 0s 3ms/step - loss: 0.0423 - recall_4: 1.0000 - val_loss: 0.0472 - val_recall_4: 1.0000\n",
            "Epoch 16/50\n",
            "0.03298769776932236 15\n",
            "12/12 [==============================] - 0s 3ms/step - loss: 0.0399 - recall_4: 1.0000 - val_loss: 0.0503 - val_recall_4: 1.0000\n",
            "Epoch 17/50\n",
            "0.03077861033362291 16\n",
            "12/12 [==============================] - 0s 3ms/step - loss: 0.0391 - recall_4: 1.0000 - val_loss: 0.0487 - val_recall_4: 1.0000\n",
            "Epoch 18/50\n",
            "0.028717458874925873 17\n",
            "12/12 [==============================] - 0s 3ms/step - loss: 0.0380 - recall_4: 1.0000 - val_loss: 0.0472 - val_recall_4: 1.0000\n",
            "Epoch 19/50\n",
            "0.02679433656340733 18\n",
            "12/12 [==============================] - 0s 3ms/step - loss: 0.0369 - recall_4: 1.0000 - val_loss: 0.0506 - val_recall_4: 1.0000\n",
            "Epoch 20/50\n",
            "0.025 19\n",
            "12/12 [==============================] - 0s 3ms/step - loss: 0.0359 - recall_4: 1.0000 - val_loss: 0.0482 - val_recall_4: 1.0000\n",
            "Epoch 21/50\n",
            "0.023325824788420185 20\n",
            "12/12 [==============================] - 0s 5ms/step - loss: 0.0349 - recall_4: 1.0000 - val_loss: 0.0484 - val_recall_4: 1.0000\n",
            "Epoch 22/50\n",
            "0.021763764082403103 21\n",
            "12/12 [==============================] - 0s 3ms/step - loss: 0.0347 - recall_4: 1.0000 - val_loss: 0.0493 - val_recall_4: 1.0000\n",
            "Epoch 23/50\n",
            "0.02030630990890589 22\n",
            "12/12 [==============================] - 0s 3ms/step - loss: 0.0335 - recall_4: 1.0000 - val_loss: 0.0473 - val_recall_4: 1.0000\n",
            "Epoch 24/50\n",
            "0.01894645708137998 23\n",
            "12/12 [==============================] - 0s 3ms/step - loss: 0.0335 - recall_4: 1.0000 - val_loss: 0.0458 - val_recall_4: 1.0000\n",
            "Epoch 25/50\n",
            "0.01767766952966369 24\n",
            "12/12 [==============================] - 0s 3ms/step - loss: 0.0334 - recall_4: 1.0000 - val_loss: 0.0500 - val_recall_4: 1.0000\n",
            "Epoch 26/50\n",
            "0.01649384888466118 25\n",
            "12/12 [==============================] - 0s 3ms/step - loss: 0.0320 - recall_4: 1.0000 - val_loss: 0.0480 - val_recall_4: 1.0000\n",
            "Epoch 27/50\n",
            "0.015389305166811452 26\n",
            "12/12 [==============================] - 0s 3ms/step - loss: 0.0316 - recall_4: 1.0000 - val_loss: 0.0472 - val_recall_4: 1.0000\n",
            "Epoch 28/50\n",
            "0.01435872943746294 27\n",
            "12/12 [==============================] - 0s 3ms/step - loss: 0.0313 - recall_4: 1.0000 - val_loss: 0.0460 - val_recall_4: 1.0000\n",
            "Epoch 29/50\n",
            "0.013397168281703665 28\n",
            "12/12 [==============================] - 0s 3ms/step - loss: 0.0309 - recall_4: 1.0000 - val_loss: 0.0464 - val_recall_4: 1.0000\n",
            "Epoch 30/50\n",
            "0.0125 29\n",
            "12/12 [==============================] - 0s 3ms/step - loss: 0.0310 - recall_4: 1.0000 - val_loss: 0.0472 - val_recall_4: 1.0000\n",
            "Epoch 31/50\n",
            "0.011662912394210093 30\n",
            "12/12 [==============================] - 0s 3ms/step - loss: 0.0303 - recall_4: 1.0000 - val_loss: 0.0474 - val_recall_4: 1.0000\n",
            "Epoch 32/50\n",
            "0.010881882041201552 31\n",
            "12/12 [==============================] - 0s 3ms/step - loss: 0.0300 - recall_4: 1.0000 - val_loss: 0.0471 - val_recall_4: 1.0000\n",
            "Epoch 33/50\n",
            "0.010153154954452945 32\n",
            "12/12 [==============================] - 0s 3ms/step - loss: 0.0298 - recall_4: 1.0000 - val_loss: 0.0465 - val_recall_4: 1.0000\n",
            "Epoch 34/50\n",
            "0.00947322854068999 33\n",
            "12/12 [==============================] - 0s 3ms/step - loss: 0.0296 - recall_4: 1.0000 - val_loss: 0.0468 - val_recall_4: 1.0000\n",
            "Epoch 35/50\n",
            "0.008838834764831846 34\n",
            "12/12 [==============================] - 0s 3ms/step - loss: 0.0294 - recall_4: 1.0000 - val_loss: 0.0466 - val_recall_4: 1.0000\n",
            "Epoch 36/50\n",
            "0.00824692444233059 35\n",
            "12/12 [==============================] - 0s 3ms/step - loss: 0.0291 - recall_4: 1.0000 - val_loss: 0.0467 - val_recall_4: 1.0000\n",
            "Epoch 37/50\n",
            "0.007694652583405726 36\n",
            "12/12 [==============================] - 0s 3ms/step - loss: 0.0290 - recall_4: 1.0000 - val_loss: 0.0467 - val_recall_4: 1.0000\n",
            "Epoch 38/50\n",
            "0.00717936471873147 37\n",
            "12/12 [==============================] - 0s 4ms/step - loss: 0.0288 - recall_4: 1.0000 - val_loss: 0.0468 - val_recall_4: 1.0000\n",
            "Epoch 39/50\n",
            "0.006698584140851832 38\n",
            "12/12 [==============================] - 0s 3ms/step - loss: 0.0286 - recall_4: 1.0000 - val_loss: 0.0468 - val_recall_4: 1.0000\n",
            "Epoch 40/50\n",
            "0.00625 39\n",
            "12/12 [==============================] - 0s 3ms/step - loss: 0.0285 - recall_4: 1.0000 - val_loss: 0.0468 - val_recall_4: 1.0000\n",
            "Epoch 41/50\n",
            "0.005831456197105048 40\n",
            "12/12 [==============================] - 0s 3ms/step - loss: 0.0284 - recall_4: 1.0000 - val_loss: 0.0469 - val_recall_4: 1.0000\n",
            "Epoch 42/50\n",
            "0.005440941020600776 41\n",
            "12/12 [==============================] - 0s 3ms/step - loss: 0.0283 - recall_4: 1.0000 - val_loss: 0.0468 - val_recall_4: 1.0000\n",
            "Epoch 43/50\n",
            "0.005076577477226472 42\n",
            "12/12 [==============================] - 0s 3ms/step - loss: 0.0282 - recall_4: 1.0000 - val_loss: 0.0468 - val_recall_4: 1.0000\n",
            "Epoch 44/50\n",
            "0.004736614270344993 43\n",
            "12/12 [==============================] - 0s 3ms/step - loss: 0.0281 - recall_4: 1.0000 - val_loss: 0.0469 - val_recall_4: 1.0000\n",
            "Epoch 45/50\n",
            "0.004419417382415923 44\n",
            "12/12 [==============================] - 0s 3ms/step - loss: 0.0280 - recall_4: 1.0000 - val_loss: 0.0468 - val_recall_4: 1.0000\n",
            "Epoch 46/50\n",
            "0.004123462221165296 45\n",
            "12/12 [==============================] - 0s 3ms/step - loss: 0.0279 - recall_4: 1.0000 - val_loss: 0.0466 - val_recall_4: 1.0000\n",
            "Epoch 47/50\n",
            "0.003847326291702863 46\n",
            "12/12 [==============================] - 0s 3ms/step - loss: 0.0279 - recall_4: 1.0000 - val_loss: 0.0470 - val_recall_4: 1.0000\n",
            "Epoch 48/50\n",
            "0.003589682359365735 47\n",
            "12/12 [==============================] - 0s 3ms/step - loss: 0.0278 - recall_4: 1.0000 - val_loss: 0.0468 - val_recall_4: 1.0000\n",
            "Epoch 49/50\n",
            "0.0033492920704259153 48\n",
            "12/12 [==============================] - 0s 5ms/step - loss: 0.0277 - recall_4: 1.0000 - val_loss: 0.0465 - val_recall_4: 1.0000\n",
            "Epoch 50/50\n",
            "0.003125 49\n",
            "12/12 [==============================] - 0s 3ms/step - loss: 0.0277 - recall_4: 1.0000 - val_loss: 0.0462 - val_recall_4: 1.0000\n"
          ]
        },
        {
          "output_type": "execute_result",
          "data": {
            "text/plain": [
              "<keras.callbacks.History at 0x7f93869b1f90>"
            ]
          },
          "metadata": {},
          "execution_count": 32
        }
      ]
    },
    {
      "cell_type": "markdown",
      "metadata": {
        "id": "S8kX0IA24mBS"
      },
      "source": [
        "- Incrementar la tasa de aprendizaje inicial, debido a que la tasa de aprendizaje disminuira, inicie con un valor mayor desde el cual disminuir\n",
        "\n",
        "- Utilizar un gran momentum\n",
        "\n",
        "- Experimente con diferentes planificacion"
      ]
    },
    {
      "cell_type": "code",
      "metadata": {
        "id": "XShWttst4lX4"
      },
      "source": [
        ""
      ],
      "execution_count": null,
      "outputs": []
    }
  ]
}