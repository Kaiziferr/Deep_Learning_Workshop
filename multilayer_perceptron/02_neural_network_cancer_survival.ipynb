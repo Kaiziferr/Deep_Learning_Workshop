{
  "nbformat": 4,
  "nbformat_minor": 0,
  "metadata": {
    "colab": {
      "name": "02_neural_network_cancer_survival.ipynb",
      "provenance": [],
      "collapsed_sections": [],
      "authorship_tag": "ABX9TyMUYqsqEqmNiPgcUh+2KNqI",
      "include_colab_link": true
    },
    "kernelspec": {
      "name": "python3",
      "display_name": "Python 3"
    },
    "language_info": {
      "name": "python"
    }
  },
  "cells": [
    {
      "cell_type": "markdown",
      "metadata": {
        "id": "view-in-github",
        "colab_type": "text"
      },
      "source": [
        "<a href=\"https://colab.research.google.com/github/Kaiziferr/deep_learning/blob/master/multilayer_perceptron/02_neural_network_cancer_survival.ipynb\" target=\"_parent\"><img src=\"https://colab.research.google.com/assets/colab-badge.svg\" alt=\"Open In Colab\"/></a>"
      ]
    },
    {
      "cell_type": "code",
      "execution_count": 49,
      "metadata": {
        "id": "gVZYjdisG2xg"
      },
      "outputs": [],
      "source": [
        "import pandas as pd\n",
        "import numpy as np\n",
        "import matplotlib.pyplot as plt\n",
        "import seaborn as sns\n",
        "\n",
        "from sklearn.model_selection import train_test_split, StratifiedKFold, cross_val_score, GridSearchCV\n",
        "from sklearn import metrics\n",
        "\n",
        "\n",
        "from keras.models import Sequential\n",
        "from keras.layers import Dense\n",
        "from keras.wrappers.scikit_learn import KerasClassifier"
      ]
    },
    {
      "cell_type": "code",
      "source": [
        "\"\"\"\n",
        "from sklearn.model_selection import train_test_split, StratifiedKFold, cross_val_score, GridSearchCV\n",
        "\n",
        "import tensorflow\n",
        "import keras\n",
        "\n",
        "from keras.models import Sequential\n",
        "from keras.layers import Dense\n",
        "from keras.wrappers.scikit_learn import KerasClassifier\n",
        "\n",
        "from sklearn import metrics\n",
        "\"\"\""
      ],
      "metadata": {
        "id": "1uAO9-ytZMl0",
        "outputId": "11361fce-c4f0-459a-942e-d94a67150dc1",
        "colab": {
          "base_uri": "https://localhost:8080/",
          "height": 71
        }
      },
      "execution_count": 2,
      "outputs": [
        {
          "output_type": "execute_result",
          "data": {
            "text/plain": [
              "'\\nfrom sklearn.model_selection import train_test_split, StratifiedKFold, cross_val_score, GridSearchCV\\n\\nimport tensorflow\\nimport keras\\n\\nfrom keras.models import Sequential\\nfrom keras.layers import Dense\\nfrom keras.wrappers.scikit_learn import KerasClassifier\\n\\nfrom sklearn import metrics\\n'"
            ],
            "application/vnd.google.colaboratory.intrinsic+json": {
              "type": "string"
            }
          },
          "metadata": {},
          "execution_count": 2
        }
      ]
    },
    {
      "cell_type": "markdown",
      "source": [
        "# **Descripcion**\n",
        "---\n",
        "\n",
        "\n",
        "\n",
        "Utilizando el conjunto de datos de supervivencia de cancer se plicara cross validation, Wrapper, Optimización de hiperparametros"
      ],
      "metadata": {
        "id": "tuu60E9iHDOV"
      }
    },
    {
      "cell_type": "markdown",
      "source": [
        "# **Objetivo**\n",
        "---\n",
        "Predecir pacientes con más posibilidades de morir.\n"
      ],
      "metadata": {
        "id": "XzzVzJ4jH7L0"
      }
    },
    {
      "cell_type": "markdown",
      "source": [
        "# **Dicionario de datos**\n",
        "---\n",
        "Conjunto de datos de supervivencia de Haberman\n",
        "\n",
        "- `Age`: Edad del paciente en el momento de la operación \n",
        "- `Year`: Año de operación del paciente \n",
        "- `Nodes`: Número de ganglios axilares positivos detectados\n",
        "- `status`: Estado de supervivencia\n",
        "-- 1  paciente sobrevivió 5 años o más\n",
        "-- 2  paciente murió dentro de los 5 años\n"
      ],
      "metadata": {
        "id": "_xJ_gUZ2IgOE"
      }
    },
    {
      "cell_type": "markdown",
      "source": [
        "# **Data**\n",
        "---\n",
        "\n"
      ],
      "metadata": {
        "id": "9j4qjiaRJ_pV"
      }
    },
    {
      "cell_type": "code",
      "source": [
        "data = pd.read_csv('https://raw.githubusercontent.com/jbrownlee/Datasets/master/haberman.csv', header = None, names=['age', 'year', 'node', 'status'])\n",
        "data.head(5)"
      ],
      "metadata": {
        "id": "X0o0f8uhZWY0",
        "outputId": "751fc1ee-0332-48e0-f0b3-c2066ec87b0f",
        "colab": {
          "base_uri": "https://localhost:8080/",
          "height": 206
        }
      },
      "execution_count": 3,
      "outputs": [
        {
          "output_type": "execute_result",
          "data": {
            "text/plain": [
              "   age  year  node  status\n",
              "0   30    64     1       1\n",
              "1   30    62     3       1\n",
              "2   30    65     0       1\n",
              "3   31    59     2       1\n",
              "4   31    65     4       1"
            ],
            "text/html": [
              "\n",
              "  <div id=\"df-a7fad7dc-9cef-4ef4-a213-633017834072\">\n",
              "    <div class=\"colab-df-container\">\n",
              "      <div>\n",
              "<style scoped>\n",
              "    .dataframe tbody tr th:only-of-type {\n",
              "        vertical-align: middle;\n",
              "    }\n",
              "\n",
              "    .dataframe tbody tr th {\n",
              "        vertical-align: top;\n",
              "    }\n",
              "\n",
              "    .dataframe thead th {\n",
              "        text-align: right;\n",
              "    }\n",
              "</style>\n",
              "<table border=\"1\" class=\"dataframe\">\n",
              "  <thead>\n",
              "    <tr style=\"text-align: right;\">\n",
              "      <th></th>\n",
              "      <th>age</th>\n",
              "      <th>year</th>\n",
              "      <th>node</th>\n",
              "      <th>status</th>\n",
              "    </tr>\n",
              "  </thead>\n",
              "  <tbody>\n",
              "    <tr>\n",
              "      <th>0</th>\n",
              "      <td>30</td>\n",
              "      <td>64</td>\n",
              "      <td>1</td>\n",
              "      <td>1</td>\n",
              "    </tr>\n",
              "    <tr>\n",
              "      <th>1</th>\n",
              "      <td>30</td>\n",
              "      <td>62</td>\n",
              "      <td>3</td>\n",
              "      <td>1</td>\n",
              "    </tr>\n",
              "    <tr>\n",
              "      <th>2</th>\n",
              "      <td>30</td>\n",
              "      <td>65</td>\n",
              "      <td>0</td>\n",
              "      <td>1</td>\n",
              "    </tr>\n",
              "    <tr>\n",
              "      <th>3</th>\n",
              "      <td>31</td>\n",
              "      <td>59</td>\n",
              "      <td>2</td>\n",
              "      <td>1</td>\n",
              "    </tr>\n",
              "    <tr>\n",
              "      <th>4</th>\n",
              "      <td>31</td>\n",
              "      <td>65</td>\n",
              "      <td>4</td>\n",
              "      <td>1</td>\n",
              "    </tr>\n",
              "  </tbody>\n",
              "</table>\n",
              "</div>\n",
              "      <button class=\"colab-df-convert\" onclick=\"convertToInteractive('df-a7fad7dc-9cef-4ef4-a213-633017834072')\"\n",
              "              title=\"Convert this dataframe to an interactive table.\"\n",
              "              style=\"display:none;\">\n",
              "        \n",
              "  <svg xmlns=\"http://www.w3.org/2000/svg\" height=\"24px\"viewBox=\"0 0 24 24\"\n",
              "       width=\"24px\">\n",
              "    <path d=\"M0 0h24v24H0V0z\" fill=\"none\"/>\n",
              "    <path d=\"M18.56 5.44l.94 2.06.94-2.06 2.06-.94-2.06-.94-.94-2.06-.94 2.06-2.06.94zm-11 1L8.5 8.5l.94-2.06 2.06-.94-2.06-.94L8.5 2.5l-.94 2.06-2.06.94zm10 10l.94 2.06.94-2.06 2.06-.94-2.06-.94-.94-2.06-.94 2.06-2.06.94z\"/><path d=\"M17.41 7.96l-1.37-1.37c-.4-.4-.92-.59-1.43-.59-.52 0-1.04.2-1.43.59L10.3 9.45l-7.72 7.72c-.78.78-.78 2.05 0 2.83L4 21.41c.39.39.9.59 1.41.59.51 0 1.02-.2 1.41-.59l7.78-7.78 2.81-2.81c.8-.78.8-2.07 0-2.86zM5.41 20L4 18.59l7.72-7.72 1.47 1.35L5.41 20z\"/>\n",
              "  </svg>\n",
              "      </button>\n",
              "      \n",
              "  <style>\n",
              "    .colab-df-container {\n",
              "      display:flex;\n",
              "      flex-wrap:wrap;\n",
              "      gap: 12px;\n",
              "    }\n",
              "\n",
              "    .colab-df-convert {\n",
              "      background-color: #E8F0FE;\n",
              "      border: none;\n",
              "      border-radius: 50%;\n",
              "      cursor: pointer;\n",
              "      display: none;\n",
              "      fill: #1967D2;\n",
              "      height: 32px;\n",
              "      padding: 0 0 0 0;\n",
              "      width: 32px;\n",
              "    }\n",
              "\n",
              "    .colab-df-convert:hover {\n",
              "      background-color: #E2EBFA;\n",
              "      box-shadow: 0px 1px 2px rgba(60, 64, 67, 0.3), 0px 1px 3px 1px rgba(60, 64, 67, 0.15);\n",
              "      fill: #174EA6;\n",
              "    }\n",
              "\n",
              "    [theme=dark] .colab-df-convert {\n",
              "      background-color: #3B4455;\n",
              "      fill: #D2E3FC;\n",
              "    }\n",
              "\n",
              "    [theme=dark] .colab-df-convert:hover {\n",
              "      background-color: #434B5C;\n",
              "      box-shadow: 0px 1px 3px 1px rgba(0, 0, 0, 0.15);\n",
              "      filter: drop-shadow(0px 1px 2px rgba(0, 0, 0, 0.3));\n",
              "      fill: #FFFFFF;\n",
              "    }\n",
              "  </style>\n",
              "\n",
              "      <script>\n",
              "        const buttonEl =\n",
              "          document.querySelector('#df-a7fad7dc-9cef-4ef4-a213-633017834072 button.colab-df-convert');\n",
              "        buttonEl.style.display =\n",
              "          google.colab.kernel.accessAllowed ? 'block' : 'none';\n",
              "\n",
              "        async function convertToInteractive(key) {\n",
              "          const element = document.querySelector('#df-a7fad7dc-9cef-4ef4-a213-633017834072');\n",
              "          const dataTable =\n",
              "            await google.colab.kernel.invokeFunction('convertToInteractive',\n",
              "                                                     [key], {});\n",
              "          if (!dataTable) return;\n",
              "\n",
              "          const docLinkHtml = 'Like what you see? Visit the ' +\n",
              "            '<a target=\"_blank\" href=https://colab.research.google.com/notebooks/data_table.ipynb>data table notebook</a>'\n",
              "            + ' to learn more about interactive tables.';\n",
              "          element.innerHTML = '';\n",
              "          dataTable['output_type'] = 'display_data';\n",
              "          await google.colab.output.renderOutput(dataTable, element);\n",
              "          const docLink = document.createElement('div');\n",
              "          docLink.innerHTML = docLinkHtml;\n",
              "          element.appendChild(docLink);\n",
              "        }\n",
              "      </script>\n",
              "    </div>\n",
              "  </div>\n",
              "  "
            ]
          },
          "metadata": {},
          "execution_count": 3
        }
      ]
    },
    {
      "cell_type": "code",
      "source": [
        "data.info()"
      ],
      "metadata": {
        "colab": {
          "base_uri": "https://localhost:8080/"
        },
        "id": "TceEr6N6H6nU",
        "outputId": "fd99f1da-dfbe-4640-f4e9-84ea9dcfb95a"
      },
      "execution_count": 4,
      "outputs": [
        {
          "output_type": "stream",
          "name": "stdout",
          "text": [
            "<class 'pandas.core.frame.DataFrame'>\n",
            "RangeIndex: 306 entries, 0 to 305\n",
            "Data columns (total 4 columns):\n",
            " #   Column  Non-Null Count  Dtype\n",
            "---  ------  --------------  -----\n",
            " 0   age     306 non-null    int64\n",
            " 1   year    306 non-null    int64\n",
            " 2   node    306 non-null    int64\n",
            " 3   status  306 non-null    int64\n",
            "dtypes: int64(4)\n",
            "memory usage: 9.7 KB\n"
          ]
        }
      ]
    },
    {
      "cell_type": "markdown",
      "source": [
        "- Todas las variables son de tipo numerico\n",
        "- No hay valores nulos"
      ],
      "metadata": {
        "id": "sqLU81CiL1HN"
      }
    },
    {
      "cell_type": "markdown",
      "source": [
        "# **Split**\n",
        "---"
      ],
      "metadata": {
        "id": "ddFOHKPbMEXW"
      }
    },
    {
      "cell_type": "code",
      "source": [
        "data_values = data.values\n",
        "X = data_values[:, :3]\n",
        "y = data_values[:, 3]"
      ],
      "metadata": {
        "id": "eHAvyAYnZ21F"
      },
      "execution_count": 5,
      "outputs": []
    },
    {
      "cell_type": "code",
      "source": [
        "def plot_bars(data: np.ndarray, title: str= 'feature', x_size:int=6, y_size:int=4, font_size:int=15, \n",
        "              x_label:str='churm', y_label:str='no churm')->None:\n",
        "  fig, ax = plt.subplots(figsize = (x_size, y_size))\n",
        "  fig.suptitle(f'Count plot {title}', fontsize = font_size)\n",
        "  sns.countplot(x = data, ax = ax)\n",
        "  label, data_target = np.unique(data, return_counts=True)\n",
        "  len_data = data.shape[0]\n",
        "  pe = '{0:.2f}'.format(data_target[1]/len_data)\n",
        "  ps = '{0:.2f}'.format(data_target[0]/len_data)\n",
        "  x_l = list(ax.get_xticklabels())\n",
        "  if x_l[0].get_text() == label[0]:\n",
        "    ax.set_xticklabels([f'{ax.get_xticklabels()[0].get_text()}\\n{ps}', f'{ax.get_xticklabels()[1].get_text()}\\n{pe}'])\n",
        "  elif x_l[0].get_text() == label[1]:\n",
        "    ax.set_xticklabels([f'{ax.get_xticklabels()[0].get_text()}\\n{pe}', f'{ax.get_xticklabels()[1].get_text()}\\n{ps}'])\n",
        "  ax.set(xlabel=x_label, ylabel=y_label)\n",
        "  fig.show()"
      ],
      "metadata": {
        "id": "SayIgeFsILlO"
      },
      "execution_count": 6,
      "outputs": []
    },
    {
      "cell_type": "code",
      "source": [
        "plot_bars(np.where(y==1, 'sobrevivió', 'murio'), title = 'rate cancer superviviencia dentro de 5 añoas')"
      ],
      "metadata": {
        "id": "W2S3CvIdahG0",
        "outputId": "c738bb6a-a6cf-410e-86b1-d16261762679",
        "colab": {
          "base_uri": "https://localhost:8080/",
          "height": 320
        }
      },
      "execution_count": 7,
      "outputs": [
        {
          "output_type": "display_data",
          "data": {
            "text/plain": [
              "<Figure size 432x288 with 1 Axes>"
            ],
            "image/png": "[encoded data removed]"
          },
          "metadata": {
            "needs_background": "light"
          }
        }
      ]
    },
    {
      "cell_type": "markdown",
      "source": [
        "Hay un serio desbalance en el conjunto de datos del 74% registros son para los pacientes que vivieron y 26% son los pacientes que murireron.\n"
      ],
      "metadata": {
        "id": "XHygxobPJpLB"
      }
    },
    {
      "cell_type": "code",
      "source": [
        "y = np.where(y==1, 0, 1)"
      ],
      "metadata": {
        "id": "QvE3bBTHy_gC"
      },
      "execution_count": 8,
      "outputs": []
    },
    {
      "cell_type": "code",
      "source": [
        "X_train, X_test, y_train, y_test = train_test_split(X, y, test_size=0.5, random_state=1234, shuffle=True, stratify=y)"
      ],
      "metadata": {
        "id": "dDKd8QiarCqI"
      },
      "execution_count": 9,
      "outputs": []
    },
    {
      "cell_type": "markdown",
      "source": [
        "- Como las categorías se encuentran desbalanceadas, se procede a realizar una partición estratificada."
      ],
      "metadata": {
        "id": "7CvDVB2ikhkI"
      }
    },
    {
      "cell_type": "markdown",
      "source": [
        "# **Model**\n",
        "---"
      ],
      "metadata": {
        "id": "eAeImxChLXQ_"
      }
    },
    {
      "cell_type": "markdown",
      "source": [
        "## **Model Base**\n",
        "---"
      ],
      "metadata": {
        "id": "0tPhoqw_LXPt"
      }
    },
    {
      "cell_type": "code",
      "source": [
        "def model_base():\n",
        "  model = Sequential()\n",
        "  model.add(Dense(10, input_dim = 3, activation='relu', kernel_initializer='he_normal'))\n",
        "  model.add(Dense(1, activation='sigmoid', kernel_initializer='he_normal'))\n",
        "  model.compile(loss = 'binary_crossentropy', optimizer='adam')\n",
        "  return model"
      ],
      "metadata": {
        "id": "vYaNrQXWrxKe"
      },
      "execution_count": 10,
      "outputs": []
    },
    {
      "cell_type": "code",
      "source": [
        "model = model_base()\n",
        "history = model.fit(X_train, y_train, validation_data=(X_test, y_test), epochs = 300, batch_size=5, verbose = 0)"
      ],
      "metadata": {
        "id": "DPciIU50sWSw"
      },
      "execution_count": 11,
      "outputs": []
    },
    {
      "cell_type": "code",
      "source": [
        "model.summary()"
      ],
      "metadata": {
        "colab": {
          "base_uri": "https://localhost:8080/"
        },
        "id": "aH3bHrToNBHy",
        "outputId": "4494a22d-4453-4174-faee-10de98a38318"
      },
      "execution_count": 12,
      "outputs": [
        {
          "output_type": "stream",
          "name": "stdout",
          "text": [
            "Model: \"sequential\"\n",
            "_________________________________________________________________\n",
            " Layer (type)                Output Shape              Param #   \n",
            "=================================================================\n",
            " dense (Dense)               (None, 10)                40        \n",
            "                                                                 \n",
            " dense_1 (Dense)             (None, 1)                 11        \n",
            "                                                                 \n",
            "=================================================================\n",
            "Total params: 51\n",
            "Trainable params: 51\n",
            "Non-trainable params: 0\n",
            "_________________________________________________________________\n"
          ]
        }
      ]
    },
    {
      "cell_type": "markdown",
      "source": [
        "# **Curvas de aprendizaje de optimización model base**\n",
        "---"
      ],
      "metadata": {
        "id": "vfLeUjG4NPzJ"
      }
    },
    {
      "cell_type": "code",
      "source": [
        "def optimization_learning_curves(history, metrica, title: str= '', x_size:int=8, y_size:int=4, font_size:int=15, x_label:str='Epoch',y_label:str='Loss')->None:\n",
        "  fig, ax = plt.subplots(figsize = (x_size, y_size))\n",
        "  fig.suptitle(title, fontsize = font_size)\n",
        "  ax.plot(history.history[metrica])\n",
        "  ax.plot(history.history[f'val_{metrica}'])\n",
        "  ax.set_xlabel(x_label, size = 12)\n",
        "  ax.set_ylabel(y_label, size = 12)\n",
        "  ax.legend(['Train', 'Test'], loc = 'upper left', fontsize = 12)\n",
        "  ax.tick_params(labelsize = 12)\n",
        "  fig.show()"
      ],
      "metadata": {
        "id": "Fx-ifHJFNUEh"
      },
      "execution_count": 13,
      "outputs": []
    },
    {
      "cell_type": "code",
      "source": [
        "optimization_learning_curves(history, metrica='loss', title='Loss vs Val Loss')"
      ],
      "metadata": {
        "colab": {
          "base_uri": "https://localhost:8080/",
          "height": 314
        },
        "id": "fSaqTlLfO7nz",
        "outputId": "8792bd16-d7f4-4eb8-8202-47d2409ca9eb"
      },
      "execution_count": 14,
      "outputs": [
        {
          "output_type": "display_data",
          "data": {
            "text/plain": [
              "<Figure size 576x288 with 1 Axes>"
            ],
            "image/png": "[encoded data removed]"
          },
          "metadata": {
            "needs_background": "light"
          }
        }
      ]
    },
    {
      "cell_type": "markdown",
      "source": [
        "La perdida de entrenamiento y validación disminuyen hasta el punto de estabilida durante 300 epocas, con una brecha de generailización casi inperceptible."
      ],
      "metadata": {
        "id": "WmUducoqQoNe"
      }
    },
    {
      "cell_type": "markdown",
      "source": [
        "# **Prediction**\n",
        "---"
      ],
      "metadata": {
        "id": "tW6uG-ZuQ3uA"
      }
    },
    {
      "cell_type": "code",
      "source": [
        "y_pred = (model.predict(X_test)>0.5).astype('int32')\n",
        "y_pred = np.reshape(y_pred, y_pred.shape[0])\n",
        "y_pred"
      ],
      "metadata": {
        "colab": {
          "base_uri": "https://localhost:8080/"
        },
        "id": "id-k3Rv-WEyF",
        "outputId": "ba5e6f11-2179-4820-e84d-385c9baa6dbe"
      },
      "execution_count": 15,
      "outputs": [
        {
          "output_type": "execute_result",
          "data": {
            "text/plain": [
              "array([0, 0, 0, 1, 0, 0, 0, 0, 0, 0, 0, 0, 0, 0, 0, 0, 1, 0, 0, 0, 0, 0,\n",
              "       0, 0, 0, 0, 0, 0, 0, 0, 1, 0, 1, 0, 0, 0, 0, 1, 0, 0, 0, 0, 0, 1,\n",
              "       0, 0, 0, 0, 0, 0, 0, 0, 0, 0, 0, 1, 0, 1, 0, 0, 1, 0, 0, 0, 0, 0,\n",
              "       0, 0, 0, 0, 0, 0, 0, 0, 0, 0, 0, 0, 0, 0, 0, 0, 0, 0, 0, 0, 1, 0,\n",
              "       1, 0, 1, 0, 0, 1, 0, 0, 0, 0, 0, 0, 0, 0, 0, 0, 0, 0, 0, 0, 1, 0,\n",
              "       0, 0, 0, 0, 0, 0, 0, 0, 0, 0, 0, 0, 0, 1, 0, 0, 0, 1, 0, 0, 0, 1,\n",
              "       0, 0, 0, 1, 0, 0, 0, 0, 0, 0, 0, 0, 0, 0, 0, 0, 0, 0, 0, 0, 0],\n",
              "      dtype=int32)"
            ]
          },
          "metadata": {},
          "execution_count": 15
        }
      ]
    },
    {
      "cell_type": "code",
      "source": [
        "def consufion_matrix(validation: np.ndarray, prediction:np.ndarray, title: str= 'Matriz de confusion', x_size:int=6, y_size:int=5, **kwards)->np.ndarray:\n",
        "  matrix = metrics.confusion_matrix(validation, prediction)\n",
        "  fig, ax = plt.subplots(nrows= 1, ncols=  1, figsize = (x_size,y_size))\n",
        "  sns.heatmap(matrix, annot=True, ax = ax, cmap=plt.cm.Blues, fmt = 'g', annot_kws={'size': 13})\n",
        "  ax.set_title(title, size = 13)\n",
        "  v = list(kwards.values())\n",
        "  k = list(kwards.keys())\n",
        "  if ax.get_xticklabels()[0].get_text() == v[0]:\n",
        "    ax.xaxis.set_ticklabels([k[0], k[1]])\n",
        "    ax.yaxis.set_ticklabels([k[0], k[1]])\n",
        "  else:\n",
        "    ax.xaxis.set_ticklabels([k[1], k[0]])\n",
        "    ax.yaxis.set_ticklabels([k[1], k[0]])\n",
        "  ax.tick_params(labelsize = 13)\n",
        "  fig.show()\n",
        "  return matrix"
      ],
      "metadata": {
        "id": "77Z-QDGEWbIG"
      },
      "execution_count": 16,
      "outputs": []
    },
    {
      "cell_type": "code",
      "source": [
        "matrix = consufion_matrix(y_test, y_pred, **{'Muere':1, 'No murio':0})"
      ],
      "metadata": {
        "colab": {
          "base_uri": "https://localhost:8080/",
          "height": 339
        },
        "id": "gNS_aGr9WbHH",
        "outputId": "6ee0d4eb-7fd8-4765-b1d2-7d2ebea79acd"
      },
      "execution_count": 17,
      "outputs": [
        {
          "output_type": "display_data",
          "data": {
            "text/plain": [
              "<Figure size 432x360 with 2 Axes>"
            ],
            "image/png": "[encoded data removed]"
          },
          "metadata": {
            "needs_background": "light"
          }
        }
      ]
    },
    {
      "cell_type": "markdown",
      "source": [
        "- A partir de la matriz, el modelo tiene problemas para  detectar pacientes con posibilidades de morir en 5 años, ya que hay pocos verdaderos positivos."
      ],
      "metadata": {
        "id": "64aee_bUcH3W"
      }
    },
    {
      "cell_type": "code",
      "source": [
        "# Metricas\n",
        "def metricas(validation: np.ndarray, prediction:np.ndarray, matrix:np.ndarray, label:list=[1])->None:\n",
        "  accuracy = '%.3f' % metrics.accuracy_score(validation, prediction)\n",
        "  kappa = '%.3f' % metrics.cohen_kappa_score(validation, prediction)\n",
        "  precision = '%.3f' % metrics.precision_score(validation, prediction, labels=label, average=\"macro\")\n",
        "  recall = '%.3f' % metrics.recall_score(validation, prediction, labels=label, average=\"macro\")\n",
        "  f1_score = '%.3f' % metrics.f1_score(validation, prediction, labels=label, average=\"macro\")\n",
        "\n",
        "  print(f'Accuracy  :   {accuracy}')\n",
        "  print(f'Kappa     :   {kappa}')\n",
        "  print(f'predicción enfermos')\n",
        "  print(f'Precision:   {precision}')\n",
        "  print(f'Recall    :   {recall}')\n",
        "\n",
        "  VN, FP = 0, 0 \n",
        "  if label == [1]:\n",
        "    VN = matrix[0,0]\n",
        "    FP = matrix[0,1]\n",
        "  else:\n",
        "    VN = matrix[0,0]\n",
        "    FP = matrix[0,1]\n",
        "  specificity = VN/(VN+FP)\n",
        "  specificity = '%.3f' %  specificity\n",
        "\n",
        "  print(f'Specificity:   {specificity}')\n",
        "  print(f'F1-score   :   {f1_score}')\n",
        "  return accuracy, kappa, precision, recall, f1_score, specificity"
      ],
      "metadata": {
        "id": "PDfIquppWpYG"
      },
      "execution_count": 20,
      "outputs": []
    },
    {
      "cell_type": "code",
      "source": [
        "accuracy, kappa, precision, recall, f1_score, specificity = metricas(y_test, y_pred, matrix)"
      ],
      "metadata": {
        "id": "2GpCeIpbIaYI",
        "outputId": "85ff8ea9-aeac-4b29-f530-2218750dbb4b",
        "colab": {
          "base_uri": "https://localhost:8080/"
        }
      },
      "execution_count": 21,
      "outputs": [
        {
          "output_type": "stream",
          "name": "stdout",
          "text": [
            "Accuracy  :   0.771\n",
            "Kappa     :   0.291\n",
            "predicción enfermos\n",
            "Precision:   0.667\n",
            "Recall    :   0.293\n",
            "Specificity:   0.946\n",
            "F1-score   :   0.407\n"
          ]
        }
      ]
    },
    {
      "cell_type": "markdown",
      "source": [
        "- La sensibilidad es pesima, el conjunto de datos es muy pequeño el modelo no es el indicado, cabe resaltar que no se ha tratado la red, ya que la idea es experimentar con datos."
      ],
      "metadata": {
        "id": "mUhYm-vWgO1v"
      }
    },
    {
      "cell_type": "code",
      "source": [
        "y_prob = model.predict(X_test)\n",
        "pos_prob = np.reshape(y_prob, y_prob.shape[0])"
      ],
      "metadata": {
        "id": "ZF5gASvFIi5I"
      },
      "execution_count": 23,
      "outputs": []
    },
    {
      "cell_type": "code",
      "source": [
        "def precision_recall(y:np.ndarray, prediction_prob:np.ndarray, validation:np.ndarray)->float:\n",
        "  no_skill = len(y[y==1]) / len(y)\n",
        "  plt.plot([0, 1], [no_skill, no_skill], linestyle='--', label='No Skill')\n",
        "  precision, recall, _ = metrics.precision_recall_curve(validation, prediction_prob)\n",
        "  plt.plot(recall, precision, marker='.', label='Multi Layer Perceptron')\n",
        "  plt.xlabel('Recall')\n",
        "  plt.ylabel('Precision')\n",
        "  plt.legend()\n",
        "  auc_score = metrics.auc(recall, precision)\n",
        "  plt.show()\n",
        "  return auc_score"
      ],
      "metadata": {
        "id": "spHAZF1S3u9G"
      },
      "execution_count": 24,
      "outputs": []
    },
    {
      "cell_type": "code",
      "source": [
        "auc_score = precision_recall(y, pos_prob, y_test)"
      ],
      "metadata": {
        "colab": {
          "base_uri": "https://localhost:8080/",
          "height": 279
        },
        "id": "Mo2ND_BK3yd0",
        "outputId": "52368f27-5185-4150-d4cd-7f99e89b6782"
      },
      "execution_count": 25,
      "outputs": [
        {
          "output_type": "display_data",
          "data": {
            "text/plain": [
              "<Figure size 432x288 with 1 Axes>"
            ],
            "image/png": "[encoded data removed]"
          },
          "metadata": {
            "needs_background": "light"
          }
        }
      ]
    },
    {
      "cell_type": "code",
      "source": [
        "print('Multi Layer Perceptron PR AUC: %.3f' % auc_score)"
      ],
      "metadata": {
        "colab": {
          "base_uri": "https://localhost:8080/"
        },
        "id": "UoPZGMC14Hgg",
        "outputId": "8e09ae5e-6c8e-44db-90c8-f84a049a3158"
      },
      "execution_count": 26,
      "outputs": [
        {
          "output_type": "stream",
          "name": "stdout",
          "text": [
            "Multi Layer Perceptron PR AUC: 0.492\n"
          ]
        }
      ]
    },
    {
      "cell_type": "markdown",
      "source": [
        "- Acorde al area bajo la curva entre la precisión y la sensibilidad es pesimo no superando el modelo **sin habilidad**\n",
        "- Es posible que con más datos y una estructura más amplia el modelo pueda mejorar su capacidad de predicción para detectar pacientes con diabetes.\n",
        "- No se ha estandarizado los datos, puede que tambien influya ."
      ],
      "metadata": {
        "id": "tMOfWBe1A4Kj"
      }
    },
    {
      "cell_type": "markdown",
      "source": [
        "# **Cross Validation**\n",
        "---"
      ],
      "metadata": {
        "id": "GrbsWOb6B6IR"
      }
    },
    {
      "cell_type": "code",
      "source": [
        "kfold = StratifiedKFold(n_splits=10, shuffle=True)\n",
        "\n",
        "cv_score_loss_train = []\n",
        "cv_score_loss_test = []\n",
        "\n",
        "\n",
        "for train, test in kfold.split(X, y):\n",
        "  model = model_base()\n",
        "  model.fit(X[train], y[train], validation_data=(X[test], y[test]), epochs = 300, batch_size=5, verbose = 0)\n",
        "  loss_train = model.evaluate(X[train], y[train], verbose=0)\n",
        "  loss_test = model.evaluate(X[test], y[test], verbose=0)\n",
        "  cv_score_loss_train.append(loss_train)\n",
        "  cv_score_loss_test.append(loss_test)\n",
        "  print('======================================================================')\n",
        "  print('loss: %.3f val loss test: %.3f' % (loss_train * 100, loss_test * 100))\n"
      ],
      "metadata": {
        "id": "dae2an-zKMaf",
        "outputId": "e653159b-1b52-4305-aeb4-dfe41925bba2",
        "colab": {
          "base_uri": "https://localhost:8080/"
        }
      },
      "execution_count": 36,
      "outputs": [
        {
          "output_type": "stream",
          "name": "stdout",
          "text": [
            "======================================================================\n",
            "loss: 53.680 val loss test: 61.676\n",
            "======================================================================\n",
            "loss: 49.311 val loss test: 51.487\n",
            "======================================================================\n",
            "loss: 51.809 val loss test: 59.861\n",
            "======================================================================\n",
            "loss: 57.230 val loss test: 56.795\n",
            "======================================================================\n",
            "loss: 54.819 val loss test: 45.069\n",
            "======================================================================\n",
            "loss: 56.628 val loss test: 64.076\n",
            "======================================================================\n",
            "loss: 53.421 val loss test: 60.358\n",
            "======================================================================\n",
            "loss: 49.594 val loss test: 67.797\n",
            "======================================================================\n",
            "loss: 53.369 val loss test: 46.652\n",
            "======================================================================\n",
            "loss: 53.508 val loss test: 56.751\n"
          ]
        }
      ]
    },
    {
      "cell_type": "markdown",
      "source": [
        "- Los valores de pérdida de entrenamiento y validación tienden a converger, pese a que el no valor es bajo.\n",
        "- El mmodelo pese a que no es el mejor para el problema que enfrenta, no se ve afectado por la varianza, aunque puede estar sesgado por la falta de datos."
      ],
      "metadata": {
        "id": "ooVLgh71Pf5D"
      }
    },
    {
      "cell_type": "code",
      "source": [
        "print('============================== 10 Pliegues ==============================')\n",
        "print('============================== Loss Train ==============================')\n",
        "print(\"%.2f%% (+/- %.2f%%)\" % (np.mean(cv_score_loss_train)*100, np.std(cv_score_loss_train)*100))\n",
        "print('============================== Loss Test ==============================')\n",
        "print(\"%.2f%% (+/- %.2f%%)\" % (np.mean(cv_score_loss_test)*100, np.std(cv_score_loss_test)*100))"
      ],
      "metadata": {
        "id": "KT-ibxOAB-5b",
        "colab": {
          "base_uri": "https://localhost:8080/"
        },
        "outputId": "72279543-f57d-45f8-b6bb-ac3f179b7c32"
      },
      "execution_count": 38,
      "outputs": [
        {
          "output_type": "stream",
          "name": "stdout",
          "text": [
            "============================== 10 Pliegues ==============================\n",
            "============================== Loss Train ==============================\n",
            "53.34% (+/- 2.47%)\n",
            "============================== Loss Test ==============================\n",
            "57.05% (+/- 6.98%)\n"
          ]
        }
      ]
    },
    {
      "cell_type": "markdown",
      "source": [
        "- La dispersión como la medida de la perdida tanto en entrenamiento, como en validación no se ven afectado por ruido estadistico es demasiado bajo, es confiable, pese a que la perdida tiene un valor que si bien no es alto, tampoco es bajo. Ademas de evidenciar que el modelo no tiende a un sobreajuste. \n",
        "\n",
        "- `El modelo bajo la metrica de optimización y rendimiento seleccionadas, no se considera un modelo excelente para detectar el cancer de corazon, es necesario mirar que otras tecnia se pueden aplicar.`\n",
        "\n"
      ],
      "metadata": {
        "id": "w5E1aiwb-Kel"
      }
    },
    {
      "cell_type": "markdown",
      "source": [
        "# **Wrapper**\n",
        "---"
      ],
      "metadata": {
        "id": "ZWpb7byuYUNh"
      }
    },
    {
      "cell_type": "code",
      "source": [
        "def model_optimizer(optimizer = 'rmsprop', init = 'glorot_uniform'):\n",
        "  model = Sequential()\n",
        "  model.add(Dense(10, input_dim = 3, activation='relu', kernel_initializer=init))\n",
        "  model.add(Dense(1,  activation='sigmoid', kernel_initializer=init))\n",
        "  model.compile(loss='binary_crossentropy', optimizer=optimizer, metrics=['accuracy'])\n",
        "  return model"
      ],
      "metadata": {
        "id": "w8uE4AY38lZN"
      },
      "execution_count": 40,
      "outputs": []
    },
    {
      "cell_type": "code",
      "source": [
        "model = KerasClassifier(build_fn=model_optimizer, epochs=300, batch_size = 5, verbose = 0)"
      ],
      "metadata": {
        "id": "tK3Vt8CHSYFw"
      },
      "execution_count": null,
      "outputs": []
    },
    {
      "cell_type": "code",
      "source": [
        "kfold = StratifiedKFold(n_splits=10, shuffle=True)\n",
        "result = cross_val_score(model, X, y, cv = kfold)"
      ],
      "metadata": {
        "id": "lIpGEOuaSops"
      },
      "execution_count": 45,
      "outputs": []
    },
    {
      "cell_type": "markdown",
      "source": [
        "- Los resultados no parecen ser tan alejados los unos de los otros, el modelo tiende a converger, poco ruido, pero no es el más indicado para la detección de cancer o falta más datos."
      ],
      "metadata": {
        "id": "WOQUpIoNbXBB"
      }
    },
    {
      "cell_type": "code",
      "source": [
        "result.mean()*100, result.std()*100"
      ],
      "metadata": {
        "id": "aKxOa2J0bVox",
        "colab": {
          "base_uri": "https://localhost:8080/"
        },
        "outputId": "f96f75d3-722f-4850-b481-906053471965"
      },
      "execution_count": 46,
      "outputs": [
        {
          "output_type": "execute_result",
          "data": {
            "text/plain": [
              "(74.8064512014389, 4.80852009962966)"
            ]
          },
          "metadata": {},
          "execution_count": 46
        }
      ]
    },
    {
      "cell_type": "markdown",
      "source": [
        "- La media es confiable, ya que la **dispersión no es tán prolongada**.\n"
      ],
      "metadata": {
        "id": "g2RUha4mcxWy"
      }
    },
    {
      "cell_type": "markdown",
      "source": [
        "# **Optimización de hiperparametros**\n",
        "---"
      ],
      "metadata": {
        "id": "xPW5G2MxdHZU"
      }
    },
    {
      "cell_type": "code",
      "source": [
        "model_optimizer = KerasClassifier(build_fn=model_optimizer, verbose = 0)"
      ],
      "metadata": {
        "id": "XHDo1ZF2Urw9"
      },
      "execution_count": null,
      "outputs": []
    },
    {
      "cell_type": "code",
      "source": [
        "optimizer = ['rmsprop', 'adam']\n",
        "init = ['glorot_uniform', 'normal', 'uniform', 'he_normal']\n",
        "epochs = [100, 150, 200]\n",
        "batch = [5, 10, 15]\n",
        "param_grid = dict(optimizer = optimizer, epochs = epochs, batch_size = batch, init = init)\n",
        "grid = GridSearchCV(estimator=model_optimizer, param_grid=param_grid, refit = True, return_train_score=True, cv = 3)"
      ],
      "metadata": {
        "id": "Br_tjaaiU1gc"
      },
      "execution_count": 50,
      "outputs": []
    },
    {
      "cell_type": "code",
      "source": [
        "grid.fit(X_train, y_train)"
      ],
      "metadata": {
        "id": "aJ__AAUiePDi",
        "colab": {
          "base_uri": "https://localhost:8080/"
        },
        "outputId": "5b3e0cfd-9f94-41b5-fde8-0f79ee357d71"
      },
      "execution_count": 51,
      "outputs": [
        {
          "output_type": "execute_result",
          "data": {
            "text/plain": [
              "GridSearchCV(cv=3,\n",
              "             estimator=<keras.wrappers.scikit_learn.KerasClassifier object at 0x7f7f632c7ed0>,\n",
              "             param_grid={'batch_size': [5, 10, 15], 'epochs': [100, 150, 200],\n",
              "                         'init': ['glorot_uniform', 'normal', 'uniform',\n",
              "                                  'he_normal'],\n",
              "                         'optimizer': ['rmsprop', 'adam']},\n",
              "             return_train_score=True)"
            ]
          },
          "metadata": {},
          "execution_count": 51
        }
      ]
    },
    {
      "cell_type": "code",
      "source": [
        "print('Mejor: %f usando %s' % (grid.best_score_, grid.best_params_))"
      ],
      "metadata": {
        "id": "013pGTh9sZ-X",
        "colab": {
          "base_uri": "https://localhost:8080/"
        },
        "outputId": "c04793b6-d133-4b9a-ee47-7869d12a2fdf"
      },
      "execution_count": 52,
      "outputs": [
        {
          "output_type": "stream",
          "name": "stdout",
          "text": [
            "Mejor: 0.751634 usando {'batch_size': 5, 'epochs': 100, 'init': 'glorot_uniform', 'optimizer': 'adam'}\n"
          ]
        }
      ]
    },
    {
      "cell_type": "code",
      "source": [
        "means = grid.cv_results_['mean_test_score']\n",
        "stds = grid.cv_results_['std_test_score']\n",
        "params = grid.cv_results_['params']\n",
        "\n",
        "for mean, std, param in zip(means, stds, params):\n",
        "  print('%f (%f) con %r' % (mean, std, param))"
      ],
      "metadata": {
        "id": "LD85hKTBsZ9R",
        "colab": {
          "base_uri": "https://localhost:8080/"
        },
        "outputId": "e44c8644-6aec-4958-c943-640f30ddb8c3"
      },
      "execution_count": 53,
      "outputs": [
        {
          "output_type": "stream",
          "name": "stdout",
          "text": [
            "0.712418 (0.088175) con {'batch_size': 5, 'epochs': 100, 'init': 'glorot_uniform', 'optimizer': 'rmsprop'}\n",
            "0.751634 (0.088175) con {'batch_size': 5, 'epochs': 100, 'init': 'glorot_uniform', 'optimizer': 'adam'}\n",
            "0.705882 (0.084716) con {'batch_size': 5, 'epochs': 100, 'init': 'normal', 'optimizer': 'rmsprop'}\n",
            "0.718954 (0.092432) con {'batch_size': 5, 'epochs': 100, 'init': 'normal', 'optimizer': 'adam'}\n",
            "0.732026 (0.102928) con {'batch_size': 5, 'epochs': 100, 'init': 'uniform', 'optimizer': 'rmsprop'}\n",
            "0.712418 (0.088175) con {'batch_size': 5, 'epochs': 100, 'init': 'uniform', 'optimizer': 'adam'}\n",
            "0.686275 (0.083189) con {'batch_size': 5, 'epochs': 100, 'init': 'he_normal', 'optimizer': 'rmsprop'}\n",
            "0.725490 (0.069785) con {'batch_size': 5, 'epochs': 100, 'init': 'he_normal', 'optimizer': 'adam'}\n",
            "0.732026 (0.064703) con {'batch_size': 5, 'epochs': 150, 'init': 'glorot_uniform', 'optimizer': 'rmsprop'}\n",
            "0.738562 (0.093808) con {'batch_size': 5, 'epochs': 150, 'init': 'glorot_uniform', 'optimizer': 'adam'}\n",
            "0.718954 (0.092432) con {'batch_size': 5, 'epochs': 150, 'init': 'normal', 'optimizer': 'rmsprop'}\n",
            "0.718954 (0.078974) con {'batch_size': 5, 'epochs': 150, 'init': 'normal', 'optimizer': 'adam'}\n",
            "0.712418 (0.088175) con {'batch_size': 5, 'epochs': 150, 'init': 'uniform', 'optimizer': 'rmsprop'}\n",
            "0.718954 (0.092432) con {'batch_size': 5, 'epochs': 150, 'init': 'uniform', 'optimizer': 'adam'}\n",
            "0.699346 (0.072192) con {'batch_size': 5, 'epochs': 150, 'init': 'he_normal', 'optimizer': 'rmsprop'}\n",
            "0.725490 (0.097383) con {'batch_size': 5, 'epochs': 150, 'init': 'he_normal', 'optimizer': 'adam'}\n",
            "0.725490 (0.084716) con {'batch_size': 5, 'epochs': 200, 'init': 'glorot_uniform', 'optimizer': 'rmsprop'}\n",
            "0.705882 (0.084716) con {'batch_size': 5, 'epochs': 200, 'init': 'glorot_uniform', 'optimizer': 'adam'}\n",
            "0.732026 (0.088175) con {'batch_size': 5, 'epochs': 200, 'init': 'normal', 'optimizer': 'rmsprop'}\n",
            "0.699346 (0.082156) con {'batch_size': 5, 'epochs': 200, 'init': 'normal', 'optimizer': 'adam'}\n",
            "0.718954 (0.092432) con {'batch_size': 5, 'epochs': 200, 'init': 'uniform', 'optimizer': 'rmsprop'}\n",
            "0.705882 (0.084716) con {'batch_size': 5, 'epochs': 200, 'init': 'uniform', 'optimizer': 'adam'}\n",
            "0.745098 (0.084716) con {'batch_size': 5, 'epochs': 200, 'init': 'he_normal', 'optimizer': 'rmsprop'}\n",
            "0.725490 (0.104983) con {'batch_size': 5, 'epochs': 200, 'init': 'he_normal', 'optimizer': 'adam'}\n",
            "0.751634 (0.088175) con {'batch_size': 10, 'epochs': 100, 'init': 'glorot_uniform', 'optimizer': 'rmsprop'}\n",
            "0.732026 (0.102928) con {'batch_size': 10, 'epochs': 100, 'init': 'glorot_uniform', 'optimizer': 'adam'}\n",
            "0.732026 (0.101675) con {'batch_size': 10, 'epochs': 100, 'init': 'normal', 'optimizer': 'rmsprop'}\n",
            "0.725490 (0.097383) con {'batch_size': 10, 'epochs': 100, 'init': 'normal', 'optimizer': 'adam'}\n",
            "0.718954 (0.092432) con {'batch_size': 10, 'epochs': 100, 'init': 'uniform', 'optimizer': 'rmsprop'}\n",
            "0.732026 (0.102928) con {'batch_size': 10, 'epochs': 100, 'init': 'uniform', 'optimizer': 'adam'}\n",
            "0.679739 (0.091035) con {'batch_size': 10, 'epochs': 100, 'init': 'he_normal', 'optimizer': 'rmsprop'}\n",
            "0.660131 (0.133308) con {'batch_size': 10, 'epochs': 100, 'init': 'he_normal', 'optimizer': 'adam'}\n",
            "0.705882 (0.080049) con {'batch_size': 10, 'epochs': 150, 'init': 'glorot_uniform', 'optimizer': 'rmsprop'}\n",
            "0.699346 (0.078974) con {'batch_size': 10, 'epochs': 150, 'init': 'glorot_uniform', 'optimizer': 'adam'}\n",
            "0.705882 (0.084716) con {'batch_size': 10, 'epochs': 150, 'init': 'normal', 'optimizer': 'rmsprop'}\n",
            "0.712418 (0.075659) con {'batch_size': 10, 'epochs': 150, 'init': 'normal', 'optimizer': 'adam'}\n",
            "0.725490 (0.097383) con {'batch_size': 10, 'epochs': 150, 'init': 'uniform', 'optimizer': 'rmsprop'}\n",
            "0.718954 (0.092432) con {'batch_size': 10, 'epochs': 150, 'init': 'uniform', 'optimizer': 'adam'}\n",
            "0.705882 (0.069785) con {'batch_size': 10, 'epochs': 150, 'init': 'he_normal', 'optimizer': 'rmsprop'}\n",
            "0.718954 (0.093808) con {'batch_size': 10, 'epochs': 150, 'init': 'he_normal', 'optimizer': 'adam'}\n",
            "0.699346 (0.080581) con {'batch_size': 10, 'epochs': 200, 'init': 'glorot_uniform', 'optimizer': 'rmsprop'}\n",
            "0.718954 (0.092432) con {'batch_size': 10, 'epochs': 200, 'init': 'glorot_uniform', 'optimizer': 'adam'}\n",
            "0.705882 (0.084716) con {'batch_size': 10, 'epochs': 200, 'init': 'normal', 'optimizer': 'rmsprop'}\n",
            "0.725490 (0.097383) con {'batch_size': 10, 'epochs': 200, 'init': 'normal', 'optimizer': 'adam'}\n",
            "0.718954 (0.092432) con {'batch_size': 10, 'epochs': 200, 'init': 'uniform', 'optimizer': 'rmsprop'}\n",
            "0.718954 (0.093808) con {'batch_size': 10, 'epochs': 200, 'init': 'uniform', 'optimizer': 'adam'}\n",
            "0.705882 (0.084716) con {'batch_size': 10, 'epochs': 200, 'init': 'he_normal', 'optimizer': 'rmsprop'}\n",
            "0.712418 (0.073946) con {'batch_size': 10, 'epochs': 200, 'init': 'he_normal', 'optimizer': 'adam'}\n",
            "0.732026 (0.102928) con {'batch_size': 15, 'epochs': 100, 'init': 'glorot_uniform', 'optimizer': 'rmsprop'}\n",
            "0.738562 (0.093808) con {'batch_size': 15, 'epochs': 100, 'init': 'glorot_uniform', 'optimizer': 'adam'}\n",
            "0.732026 (0.102928) con {'batch_size': 15, 'epochs': 100, 'init': 'normal', 'optimizer': 'rmsprop'}\n",
            "0.732026 (0.102928) con {'batch_size': 15, 'epochs': 100, 'init': 'normal', 'optimizer': 'adam'}\n",
            "0.725490 (0.097383) con {'batch_size': 15, 'epochs': 100, 'init': 'uniform', 'optimizer': 'rmsprop'}\n",
            "0.718954 (0.092432) con {'batch_size': 15, 'epochs': 100, 'init': 'uniform', 'optimizer': 'adam'}\n",
            "0.732026 (0.088175) con {'batch_size': 15, 'epochs': 100, 'init': 'he_normal', 'optimizer': 'rmsprop'}\n",
            "0.660131 (0.118010) con {'batch_size': 15, 'epochs': 100, 'init': 'he_normal', 'optimizer': 'adam'}\n",
            "0.738562 (0.093808) con {'batch_size': 15, 'epochs': 150, 'init': 'glorot_uniform', 'optimizer': 'rmsprop'}\n",
            "0.718954 (0.093808) con {'batch_size': 15, 'epochs': 150, 'init': 'glorot_uniform', 'optimizer': 'adam'}\n",
            "0.725490 (0.097383) con {'batch_size': 15, 'epochs': 150, 'init': 'normal', 'optimizer': 'rmsprop'}\n",
            "0.705882 (0.084716) con {'batch_size': 15, 'epochs': 150, 'init': 'normal', 'optimizer': 'adam'}\n",
            "0.725490 (0.099981) con {'batch_size': 15, 'epochs': 150, 'init': 'uniform', 'optimizer': 'rmsprop'}\n",
            "0.712418 (0.088175) con {'batch_size': 15, 'epochs': 150, 'init': 'uniform', 'optimizer': 'adam'}\n",
            "0.738562 (0.092432) con {'batch_size': 15, 'epochs': 150, 'init': 'he_normal', 'optimizer': 'rmsprop'}\n",
            "0.732026 (0.072192) con {'batch_size': 15, 'epochs': 150, 'init': 'he_normal', 'optimizer': 'adam'}\n",
            "0.705882 (0.080049) con {'batch_size': 15, 'epochs': 200, 'init': 'glorot_uniform', 'optimizer': 'rmsprop'}\n",
            "0.725490 (0.083189) con {'batch_size': 15, 'epochs': 200, 'init': 'glorot_uniform', 'optimizer': 'adam'}\n",
            "0.725490 (0.097383) con {'batch_size': 15, 'epochs': 200, 'init': 'normal', 'optimizer': 'rmsprop'}\n",
            "0.718954 (0.093808) con {'batch_size': 15, 'epochs': 200, 'init': 'normal', 'optimizer': 'adam'}\n",
            "0.718954 (0.092432) con {'batch_size': 15, 'epochs': 200, 'init': 'uniform', 'optimizer': 'rmsprop'}\n",
            "0.705882 (0.083189) con {'batch_size': 15, 'epochs': 200, 'init': 'uniform', 'optimizer': 'adam'}\n",
            "0.712418 (0.091035) con {'batch_size': 15, 'epochs': 200, 'init': 'he_normal', 'optimizer': 'rmsprop'}\n",
            "0.738562 (0.106598) con {'batch_size': 15, 'epochs': 200, 'init': 'he_normal', 'optimizer': 'adam'}\n"
          ]
        }
      ]
    },
    {
      "cell_type": "code",
      "source": [
        "model_final = grid.best_estimator_\n",
        "model_final.get_params()"
      ],
      "metadata": {
        "id": "kz9Y6SgQsxRq",
        "colab": {
          "base_uri": "https://localhost:8080/"
        },
        "outputId": "dbe307dc-3daf-4b95-a6c7-870ca5650ed4"
      },
      "execution_count": 54,
      "outputs": [
        {
          "output_type": "execute_result",
          "data": {
            "text/plain": [
              "{'batch_size': 5,\n",
              " 'build_fn': <function __main__.model_optimizer>,\n",
              " 'epochs': 100,\n",
              " 'init': 'glorot_uniform',\n",
              " 'optimizer': 'adam',\n",
              " 'verbose': 0}"
            ]
          },
          "metadata": {},
          "execution_count": 54
        }
      ]
    },
    {
      "cell_type": "markdown",
      "source": [
        "#**Prediction**\n",
        "---"
      ],
      "metadata": {
        "id": "hcVbVLPEs3be"
      }
    },
    {
      "cell_type": "code",
      "source": [
        "y_pred = model_final.predict(X_test)"
      ],
      "metadata": {
        "id": "NwlZJUQ-s7hZ"
      },
      "execution_count": 55,
      "outputs": []
    },
    {
      "cell_type": "code",
      "source": [
        "matrix = consufion_matrix(y_test, y_pred, **{'Muere':1, 'No murio':0})"
      ],
      "metadata": {
        "id": "hs3Bl1VgtWyZ",
        "colab": {
          "base_uri": "https://localhost:8080/",
          "height": 339
        },
        "outputId": "b0b6c852-7c16-42f6-ae57-61541c69bd7a"
      },
      "execution_count": 57,
      "outputs": [
        {
          "output_type": "display_data",
          "data": {
            "text/plain": [
              "<Figure size 432x360 with 2 Axes>"
            ],
            "image/png": "[encoded data removed]"
          },
          "metadata": {
            "needs_background": "light"
          }
        }
      ]
    },
    {
      "cell_type": "code",
      "source": [
        "accuracy, kappa, precision, recall, f1_score, specificity = metricas(y_test, y_pred, matrix)"
      ],
      "metadata": {
        "id": "ptHDhl3OuEya",
        "colab": {
          "base_uri": "https://localhost:8080/"
        },
        "outputId": "03afb826-02a1-4f36-a5e4-3dc27bcf51bf"
      },
      "execution_count": 58,
      "outputs": [
        {
          "output_type": "stream",
          "name": "stdout",
          "text": [
            "Accuracy  :   0.765\n",
            "Kappa     :   0.291\n",
            "predicción enfermos\n",
            "Precision:   0.619\n",
            "Recall    :   0.317\n",
            "Specificity:   0.929\n",
            "F1-score   :   0.419\n"
          ]
        }
      ]
    },
    {
      "cell_type": "markdown",
      "source": [
        "- El modelo optimizado tiene una mejora casi imperceptible en la sensibilidad para la detección de casos con cancer, aunque la metrica no tiene un rendimiento alto para un caso tán critico como la detección de una enfermedad, ademas sigue teniendo un porcentaje de error tipo 2, demasiados falsos negativos."
      ],
      "metadata": {
        "id": "mxfvPufuFuSG"
      }
    },
    {
      "cell_type": "code",
      "source": [
        "pos_prob = model_final.predict_proba(X_test)"
      ],
      "metadata": {
        "id": "7Cft02NRHnj3"
      },
      "execution_count": 59,
      "outputs": []
    },
    {
      "cell_type": "code",
      "source": [
        "no_skill = len(y[y==1]) / len(y)\n",
        "plt.plot([0, 1], [no_skill, no_skill], linestyle='--', label='No Skill')\n",
        "precision, recall, _ = metrics.precision_recall_curve(y_test, y_prob)\n",
        "plt.plot(recall, precision, marker='.', label='Multi Layer Perceptron Base')\n",
        "auc_score_normal = metrics.auc(recall, precision)\n",
        "precision, recall, _ = metrics.precision_recall_curve(y_test, pos_prob[:,1])\n",
        "plt.plot(recall, precision, marker='.', label='Multi Layer Perceptron optimizer')\n",
        "auc_score_optimizer = metrics.auc(recall, precision)\n",
        "plt.xlabel('Recall')\n",
        "plt.ylabel('Precision')\n",
        "plt.legend()\n",
        "plt.show()"
      ],
      "metadata": {
        "id": "7jDVJmIKGDLa",
        "colab": {
          "base_uri": "https://localhost:8080/",
          "height": 279
        },
        "outputId": "eb00dcac-5476-4484-b80b-396a969234e1"
      },
      "execution_count": 60,
      "outputs": [
        {
          "output_type": "display_data",
          "data": {
            "text/plain": [
              "<Figure size 432x288 with 1 Axes>"
            ],
            "image/png": "[encoded data removed]"
          },
          "metadata": {
            "needs_background": "light"
          }
        }
      ]
    },
    {
      "cell_type": "code",
      "source": [
        "print('Multi Layer Perceptron Normal PR AUC: %.3f' % auc_score_normal)\n",
        "print('Multi Layer Perceptron Optimizer PR AUC: %.3f' % auc_score_optimizer)"
      ],
      "metadata": {
        "id": "ZNCHObU5IlE3",
        "colab": {
          "base_uri": "https://localhost:8080/"
        },
        "outputId": "4cb4ccc8-b88c-4b76-897f-a71d412a7797"
      },
      "execution_count": 65,
      "outputs": [
        {
          "output_type": "stream",
          "name": "stdout",
          "text": [
            "Multi Layer Perceptron Normal PR AUC: 0.492\n",
            "Multi Layer Perceptron Optimizer PR AUC: 0.451\n"
          ]
        }
      ]
    },
    {
      "cell_type": "markdown",
      "source": [
        "- El modelo `optimizado` no tiene un rendimiento deseado, incluso el modelo `base` lo supera, ya que no logra tener una compensasión ideal entre la precisión y el recall. La causa pueden ser muchas, más falta de datos, una estructura ineficiente, puede que las redes neuronales no sean un modelo indicado, más experimentos en la optimización de parametros, entre otros.\n",
        "\n"
      ],
      "metadata": {
        "id": "n0ZyrwsyIIhU"
      }
    }
  ]
}