{
  "nbformat": 4,
  "nbformat_minor": 0,
  "metadata": {
    "colab": {
      "name": "02_neural_network_cancer_survival.ipynb",
      "provenance": [],
      "authorship_tag": "ABX9TyNVRV26TPBj1uUFp70Z7cbn",
      "include_colab_link": true
    },
    "kernelspec": {
      "name": "python3",
      "display_name": "Python 3"
    },
    "language_info": {
      "name": "python"
    }
  },
  "cells": [
    {
      "cell_type": "markdown",
      "metadata": {
        "id": "view-in-github",
        "colab_type": "text"
      },
      "source": [
        "<a href=\"https://colab.research.google.com/github/Kaiziferr/deep_learning/blob/master/multilayer_perceptron/02_neural_network_cancer_survival.ipynb\" target=\"_parent\"><img src=\"https://colab.research.google.com/assets/colab-badge.svg\" alt=\"Open In Colab\"/></a>"
      ]
    },
    {
      "cell_type": "code",
      "source": [
        "!pip install scikeras"
      ],
      "metadata": {
        "id": "vPZ-PyGzrurW",
        "outputId": "d76a0268-c1f5-4941-e1fc-ef8fd10a9d8e",
        "colab": {
          "base_uri": "https://localhost:8080/"
        }
      },
      "execution_count": 71,
      "outputs": [
        {
          "output_type": "stream",
          "name": "stdout",
          "text": [
            "Requirement already satisfied: scikeras in /usr/local/lib/python3.10/dist-packages (0.12.0)\n",
            "Requirement already satisfied: packaging>=0.21 in /usr/local/lib/python3.10/dist-packages (from scikeras) (23.2)\n",
            "Requirement already satisfied: scikit-learn>=1.0.0 in /usr/local/lib/python3.10/dist-packages (from scikeras) (1.2.2)\n",
            "Requirement already satisfied: numpy>=1.17.3 in /usr/local/lib/python3.10/dist-packages (from scikit-learn>=1.0.0->scikeras) (1.23.5)\n",
            "Requirement already satisfied: scipy>=1.3.2 in /usr/local/lib/python3.10/dist-packages (from scikit-learn>=1.0.0->scikeras) (1.11.4)\n",
            "Requirement already satisfied: joblib>=1.1.1 in /usr/local/lib/python3.10/dist-packages (from scikit-learn>=1.0.0->scikeras) (1.3.2)\n",
            "Requirement already satisfied: threadpoolctl>=2.0.0 in /usr/local/lib/python3.10/dist-packages (from scikit-learn>=1.0.0->scikeras) (3.2.0)\n"
          ]
        }
      ]
    },
    {
      "cell_type": "code",
      "source": [
        "import pandas as pd\n",
        "import numpy as np\n",
        "import matplotlib.pyplot as plt\n",
        "import seaborn as sns\n",
        "\n",
        "from sklearn.model_selection import (\n",
        "    train_test_split,\n",
        "    StratifiedKFold,\n",
        "    cross_val_score,\n",
        "    GridSearchCV\n",
        ")\n",
        "from sklearn import metrics\n",
        "\n",
        "from keras import utils as utils_keras\n",
        "\n",
        "from keras.models import Sequential\n",
        "from keras.layers import Dense\n",
        "\n",
        "\n",
        "from scikeras.wrappers import KerasClassifier\n",
        "\n",
        "import warnings"
      ],
      "metadata": {
        "id": "ILE_QfaDr6Ok"
      },
      "execution_count": 72,
      "outputs": []
    },
    {
      "cell_type": "markdown",
      "source": [
        "**Config**\n",
        "---\n"
      ],
      "metadata": {
        "id": "-RwhDINjt5iF"
      }
    },
    {
      "cell_type": "code",
      "source": [
        "sns.set(style=\"darkgrid\")\n",
        "pd.set_option('display.float_format', '{:,.2f}'.format)\n",
        "warnings.simplefilter(\"ignore\")\n",
        "title_data = 'Supervivencia de Cancer'\n",
        "paleta = sns.color_palette(\"tab10\").as_hex()"
      ],
      "metadata": {
        "id": "4QXeHJbft8PX"
      },
      "execution_count": 73,
      "outputs": []
    },
    {
      "cell_type": "markdown",
      "source": [
        "# **Objetivos**\n",
        "---\n",
        "- Predecir pacientes con más posibilidades de morir.\n",
        "- Entender y codificar:\n",
        "  - cross validation\n",
        "  - Wrapper\n",
        "  - Optimización de hiperparametros"
      ],
      "metadata": {
        "id": "XzzVzJ4jH7L0"
      }
    },
    {
      "cell_type": "markdown",
      "source": [
        "# **Dicionario de datos**\n",
        "---\n",
        "Conjunto de datos de supervivencia de Haberman\n",
        "\n",
        "- `Age`: Edad del paciente en el momento de la operación\n",
        "- `Year`: Año de operación del paciente\n",
        "- `Nodes`: Número de ganglios axilares positivos detectados\n",
        "- `status`: Estado de supervivencia\n",
        "-- 1  paciente sobrevivió 5 años o más\n",
        "-- 2  paciente murió dentro de los 5 años\n"
      ],
      "metadata": {
        "id": "_xJ_gUZ2IgOE"
      }
    },
    {
      "cell_type": "markdown",
      "source": [
        "# **Data**\n",
        "---\n",
        "\n"
      ],
      "metadata": {
        "id": "9j4qjiaRJ_pV"
      }
    },
    {
      "cell_type": "code",
      "source": [
        "url = 'https://raw.githubusercontent.com/jbrownlee/Datasets/master/haberman.csv'\n",
        "data = pd.read_csv(\n",
        "    url,\n",
        "    header=None,\n",
        "    names=['age', 'year', 'node', 'status'])\n",
        "data.head()"
      ],
      "metadata": {
        "id": "3R6UeudxswAd",
        "outputId": "eca99cf0-2248-4e9c-e08c-8a682075e61d",
        "colab": {
          "base_uri": "https://localhost:8080/",
          "height": 206
        }
      },
      "execution_count": 74,
      "outputs": [
        {
          "output_type": "execute_result",
          "data": {
            "text/plain": [
              "   age  year  node  status\n",
              "0   30    64     1       1\n",
              "1   30    62     3       1\n",
              "2   30    65     0       1\n",
              "3   31    59     2       1\n",
              "4   31    65     4       1"
            ],
            "text/html": [
              "\n",
              "  <div id=\"df-21e8ed47-99ba-4a34-8f6f-46b27fd87446\" class=\"colab-df-container\">\n",
              "    <div>\n",
              "<style scoped>\n",
              "    .dataframe tbody tr th:only-of-type {\n",
              "        vertical-align: middle;\n",
              "    }\n",
              "\n",
              "    .dataframe tbody tr th {\n",
              "        vertical-align: top;\n",
              "    }\n",
              "\n",
              "    .dataframe thead th {\n",
              "        text-align: right;\n",
              "    }\n",
              "</style>\n",
              "<table border=\"1\" class=\"dataframe\">\n",
              "  <thead>\n",
              "    <tr style=\"text-align: right;\">\n",
              "      <th></th>\n",
              "      <th>age</th>\n",
              "      <th>year</th>\n",
              "      <th>node</th>\n",
              "      <th>status</th>\n",
              "    </tr>\n",
              "  </thead>\n",
              "  <tbody>\n",
              "    <tr>\n",
              "      <th>0</th>\n",
              "      <td>30</td>\n",
              "      <td>64</td>\n",
              "      <td>1</td>\n",
              "      <td>1</td>\n",
              "    </tr>\n",
              "    <tr>\n",
              "      <th>1</th>\n",
              "      <td>30</td>\n",
              "      <td>62</td>\n",
              "      <td>3</td>\n",
              "      <td>1</td>\n",
              "    </tr>\n",
              "    <tr>\n",
              "      <th>2</th>\n",
              "      <td>30</td>\n",
              "      <td>65</td>\n",
              "      <td>0</td>\n",
              "      <td>1</td>\n",
              "    </tr>\n",
              "    <tr>\n",
              "      <th>3</th>\n",
              "      <td>31</td>\n",
              "      <td>59</td>\n",
              "      <td>2</td>\n",
              "      <td>1</td>\n",
              "    </tr>\n",
              "    <tr>\n",
              "      <th>4</th>\n",
              "      <td>31</td>\n",
              "      <td>65</td>\n",
              "      <td>4</td>\n",
              "      <td>1</td>\n",
              "    </tr>\n",
              "  </tbody>\n",
              "</table>\n",
              "</div>\n",
              "    <div class=\"colab-df-buttons\">\n",
              "\n",
              "  <div class=\"colab-df-container\">\n",
              "    <button class=\"colab-df-convert\" onclick=\"convertToInteractive('df-21e8ed47-99ba-4a34-8f6f-46b27fd87446')\"\n",
              "            title=\"Convert this dataframe to an interactive table.\"\n",
              "            style=\"display:none;\">\n",
              "\n",
              "  <svg xmlns=\"http://www.w3.org/2000/svg\" height=\"24px\" viewBox=\"0 -960 960 960\">\n",
              "    <path d=\"M120-120v-720h720v720H120Zm60-500h600v-160H180v160Zm220 220h160v-160H400v160Zm0 220h160v-160H400v160ZM180-400h160v-160H180v160Zm440 0h160v-160H620v160ZM180-180h160v-160H180v160Zm440 0h160v-160H620v160Z\"/>\n",
              "  </svg>\n",
              "    </button>\n",
              "\n",
              "  <style>\n",
              "    .colab-df-container {\n",
              "      display:flex;\n",
              "      gap: 12px;\n",
              "    }\n",
              "\n",
              "    .colab-df-convert {\n",
              "      background-color: #E8F0FE;\n",
              "      border: none;\n",
              "      border-radius: 50%;\n",
              "      cursor: pointer;\n",
              "      display: none;\n",
              "      fill: #1967D2;\n",
              "      height: 32px;\n",
              "      padding: 0 0 0 0;\n",
              "      width: 32px;\n",
              "    }\n",
              "\n",
              "    .colab-df-convert:hover {\n",
              "      background-color: #E2EBFA;\n",
              "      box-shadow: 0px 1px 2px rgba(60, 64, 67, 0.3), 0px 1px 3px 1px rgba(60, 64, 67, 0.15);\n",
              "      fill: #174EA6;\n",
              "    }\n",
              "\n",
              "    .colab-df-buttons div {\n",
              "      margin-bottom: 4px;\n",
              "    }\n",
              "\n",
              "    [theme=dark] .colab-df-convert {\n",
              "      background-color: #3B4455;\n",
              "      fill: #D2E3FC;\n",
              "    }\n",
              "\n",
              "    [theme=dark] .colab-df-convert:hover {\n",
              "      background-color: #434B5C;\n",
              "      box-shadow: 0px 1px 3px 1px rgba(0, 0, 0, 0.15);\n",
              "      filter: drop-shadow(0px 1px 2px rgba(0, 0, 0, 0.3));\n",
              "      fill: #FFFFFF;\n",
              "    }\n",
              "  </style>\n",
              "\n",
              "    <script>\n",
              "      const buttonEl =\n",
              "        document.querySelector('#df-21e8ed47-99ba-4a34-8f6f-46b27fd87446 button.colab-df-convert');\n",
              "      buttonEl.style.display =\n",
              "        google.colab.kernel.accessAllowed ? 'block' : 'none';\n",
              "\n",
              "      async function convertToInteractive(key) {\n",
              "        const element = document.querySelector('#df-21e8ed47-99ba-4a34-8f6f-46b27fd87446');\n",
              "        const dataTable =\n",
              "          await google.colab.kernel.invokeFunction('convertToInteractive',\n",
              "                                                    [key], {});\n",
              "        if (!dataTable) return;\n",
              "\n",
              "        const docLinkHtml = 'Like what you see? Visit the ' +\n",
              "          '<a target=\"_blank\" href=https://colab.research.google.com/notebooks/data_table.ipynb>data table notebook</a>'\n",
              "          + ' to learn more about interactive tables.';\n",
              "        element.innerHTML = '';\n",
              "        dataTable['output_type'] = 'display_data';\n",
              "        await google.colab.output.renderOutput(dataTable, element);\n",
              "        const docLink = document.createElement('div');\n",
              "        docLink.innerHTML = docLinkHtml;\n",
              "        element.appendChild(docLink);\n",
              "      }\n",
              "    </script>\n",
              "  </div>\n",
              "\n",
              "\n",
              "<div id=\"df-aef19fbc-b78a-4436-893e-586458a5c6e8\">\n",
              "  <button class=\"colab-df-quickchart\" onclick=\"quickchart('df-aef19fbc-b78a-4436-893e-586458a5c6e8')\"\n",
              "            title=\"Suggest charts\"\n",
              "            style=\"display:none;\">\n",
              "\n",
              "<svg xmlns=\"http://www.w3.org/2000/svg\" height=\"24px\"viewBox=\"0 0 24 24\"\n",
              "     width=\"24px\">\n",
              "    <g>\n",
              "        <path d=\"M19 3H5c-1.1 0-2 .9-2 2v14c0 1.1.9 2 2 2h14c1.1 0 2-.9 2-2V5c0-1.1-.9-2-2-2zM9 17H7v-7h2v7zm4 0h-2V7h2v10zm4 0h-2v-4h2v4z\"/>\n",
              "    </g>\n",
              "</svg>\n",
              "  </button>\n",
              "\n",
              "<style>\n",
              "  .colab-df-quickchart {\n",
              "      --bg-color: #E8F0FE;\n",
              "      --fill-color: #1967D2;\n",
              "      --hover-bg-color: #E2EBFA;\n",
              "      --hover-fill-color: #174EA6;\n",
              "      --disabled-fill-color: #AAA;\n",
              "      --disabled-bg-color: #DDD;\n",
              "  }\n",
              "\n",
              "  [theme=dark] .colab-df-quickchart {\n",
              "      --bg-color: #3B4455;\n",
              "      --fill-color: #D2E3FC;\n",
              "      --hover-bg-color: #434B5C;\n",
              "      --hover-fill-color: #FFFFFF;\n",
              "      --disabled-bg-color: #3B4455;\n",
              "      --disabled-fill-color: #666;\n",
              "  }\n",
              "\n",
              "  .colab-df-quickchart {\n",
              "    background-color: var(--bg-color);\n",
              "    border: none;\n",
              "    border-radius: 50%;\n",
              "    cursor: pointer;\n",
              "    display: none;\n",
              "    fill: var(--fill-color);\n",
              "    height: 32px;\n",
              "    padding: 0;\n",
              "    width: 32px;\n",
              "  }\n",
              "\n",
              "  .colab-df-quickchart:hover {\n",
              "    background-color: var(--hover-bg-color);\n",
              "    box-shadow: 0 1px 2px rgba(60, 64, 67, 0.3), 0 1px 3px 1px rgba(60, 64, 67, 0.15);\n",
              "    fill: var(--button-hover-fill-color);\n",
              "  }\n",
              "\n",
              "  .colab-df-quickchart-complete:disabled,\n",
              "  .colab-df-quickchart-complete:disabled:hover {\n",
              "    background-color: var(--disabled-bg-color);\n",
              "    fill: var(--disabled-fill-color);\n",
              "    box-shadow: none;\n",
              "  }\n",
              "\n",
              "  .colab-df-spinner {\n",
              "    border: 2px solid var(--fill-color);\n",
              "    border-color: transparent;\n",
              "    border-bottom-color: var(--fill-color);\n",
              "    animation:\n",
              "      spin 1s steps(1) infinite;\n",
              "  }\n",
              "\n",
              "  @keyframes spin {\n",
              "    0% {\n",
              "      border-color: transparent;\n",
              "      border-bottom-color: var(--fill-color);\n",
              "      border-left-color: var(--fill-color);\n",
              "    }\n",
              "    20% {\n",
              "      border-color: transparent;\n",
              "      border-left-color: var(--fill-color);\n",
              "      border-top-color: var(--fill-color);\n",
              "    }\n",
              "    30% {\n",
              "      border-color: transparent;\n",
              "      border-left-color: var(--fill-color);\n",
              "      border-top-color: var(--fill-color);\n",
              "      border-right-color: var(--fill-color);\n",
              "    }\n",
              "    40% {\n",
              "      border-color: transparent;\n",
              "      border-right-color: var(--fill-color);\n",
              "      border-top-color: var(--fill-color);\n",
              "    }\n",
              "    60% {\n",
              "      border-color: transparent;\n",
              "      border-right-color: var(--fill-color);\n",
              "    }\n",
              "    80% {\n",
              "      border-color: transparent;\n",
              "      border-right-color: var(--fill-color);\n",
              "      border-bottom-color: var(--fill-color);\n",
              "    }\n",
              "    90% {\n",
              "      border-color: transparent;\n",
              "      border-bottom-color: var(--fill-color);\n",
              "    }\n",
              "  }\n",
              "</style>\n",
              "\n",
              "  <script>\n",
              "    async function quickchart(key) {\n",
              "      const quickchartButtonEl =\n",
              "        document.querySelector('#' + key + ' button');\n",
              "      quickchartButtonEl.disabled = true;  // To prevent multiple clicks.\n",
              "      quickchartButtonEl.classList.add('colab-df-spinner');\n",
              "      try {\n",
              "        const charts = await google.colab.kernel.invokeFunction(\n",
              "            'suggestCharts', [key], {});\n",
              "      } catch (error) {\n",
              "        console.error('Error during call to suggestCharts:', error);\n",
              "      }\n",
              "      quickchartButtonEl.classList.remove('colab-df-spinner');\n",
              "      quickchartButtonEl.classList.add('colab-df-quickchart-complete');\n",
              "    }\n",
              "    (() => {\n",
              "      let quickchartButtonEl =\n",
              "        document.querySelector('#df-aef19fbc-b78a-4436-893e-586458a5c6e8 button');\n",
              "      quickchartButtonEl.style.display =\n",
              "        google.colab.kernel.accessAllowed ? 'block' : 'none';\n",
              "    })();\n",
              "  </script>\n",
              "</div>\n",
              "    </div>\n",
              "  </div>\n"
            ]
          },
          "metadata": {},
          "execution_count": 74
        }
      ]
    },
    {
      "cell_type": "code",
      "source": [
        "data.info()"
      ],
      "metadata": {
        "id": "8kw8j4OxtEEc",
        "outputId": "91085771-54d6-48b9-da27-f947bb8eba86",
        "colab": {
          "base_uri": "https://localhost:8080/"
        }
      },
      "execution_count": 75,
      "outputs": [
        {
          "output_type": "stream",
          "name": "stdout",
          "text": [
            "<class 'pandas.core.frame.DataFrame'>\n",
            "RangeIndex: 306 entries, 0 to 305\n",
            "Data columns (total 4 columns):\n",
            " #   Column  Non-Null Count  Dtype\n",
            "---  ------  --------------  -----\n",
            " 0   age     306 non-null    int64\n",
            " 1   year    306 non-null    int64\n",
            " 2   node    306 non-null    int64\n",
            " 3   status  306 non-null    int64\n",
            "dtypes: int64(4)\n",
            "memory usage: 9.7 KB\n"
          ]
        }
      ]
    },
    {
      "cell_type": "markdown",
      "source": [
        "- Todas las variables son de tipo numerico\n",
        "- No hay valores nulos"
      ],
      "metadata": {
        "id": "sqLU81CiL1HN"
      }
    },
    {
      "cell_type": "markdown",
      "source": [
        "# **Split**\n",
        "---"
      ],
      "metadata": {
        "id": "ddFOHKPbMEXW"
      }
    },
    {
      "cell_type": "code",
      "source": [
        "data_values = data.values\n",
        "X = data_values[:, :3]\n",
        "y = data_values[:, 3]"
      ],
      "metadata": {
        "id": "Dmmbmkv2tLv1"
      },
      "execution_count": 76,
      "outputs": []
    },
    {
      "cell_type": "code",
      "source": [
        "data['tags'] = data['status'].replace({1: \"sobrevivió\", 2: \"murio\"})"
      ],
      "metadata": {
        "id": "UW2Nybd2tV2Z"
      },
      "execution_count": 77,
      "outputs": []
    },
    {
      "cell_type": "code",
      "source": [
        "def plot_bar(data:pd.DataFrame, paleta:list=None, figsize_x:int=8, figsize_y:int=5,\n",
        "             fontsize:int=15, **kwards)->None:\n",
        "  \"\"\"Grafica un diagrama de barras con multiples caracteristicas\"\"\"\n",
        "  try:\n",
        "    paleta = paleta if paleta !=None else sns.color_palette(\"tab10\").as_hex()\n",
        "    v = kwards\n",
        "    ejeX = v[\"ejeX\"]\n",
        "\n",
        "    fig, ax = plt.subplots(figsize = (figsize_x, figsize_y))\n",
        "    fig.suptitle(f'Diagrama de barras {v[\"title\"]}', fontsize=fontsize)\n",
        "\n",
        "    if type(ejeX) == str:\n",
        "      sns.countplot(x=ejeX, data=data, ax = ax, palette=paleta)\n",
        "    else:\n",
        "      ejeX = v['ejeX'][0]\n",
        "      sns.countplot(x=ejeX, hue=v['ejeX'][1], data=data, ax=ax, palette=paleta)\n",
        "\n",
        "    ax.set_ylabel(v['ejey'], size = 12)\n",
        "    ax.set_xlabel(ejeX, size=fontsize-3)\n",
        "\n",
        "    ax.set_xticklabels(ax.get_xticklabels(), fontsize = fontsize-3)\n",
        "    for p in ax.patches:\n",
        "      try:\n",
        "        height = int(p.get_height())\n",
        "        height_text = height\n",
        "        if kwards['p'] == True:\n",
        "          percentage = round(height/data.shape[0], 5)\n",
        "          height_text = f'{height} ({percentage})'\n",
        "        ax.text(p.get_x()+p.get_width()/2., height + 1, height_text, ha=\"center\")\n",
        "      except:\n",
        "        pass\n",
        "\n",
        "  except Exception as e:\n",
        "    print(e)"
      ],
      "metadata": {
        "id": "SayIgeFsILlO"
      },
      "execution_count": 78,
      "outputs": []
    },
    {
      "cell_type": "code",
      "source": [
        "plot_bar(\n",
        "    data,\n",
        "    paleta=paleta,\n",
        "    ejeX='tags',\n",
        "    ejey='Supervivencia de Cáncer',\n",
        "    title=title_data,\n",
        "    p=True)"
      ],
      "metadata": {
        "id": "W2S3CvIdahG0",
        "outputId": "fa9ed7fa-66a7-42f6-94bd-091ed85f044b",
        "colab": {
          "base_uri": "https://localhost:8080/",
          "height": 526
        }
      },
      "execution_count": 79,
      "outputs": [
        {
          "output_type": "display_data",
          "data": {
            "text/plain": [
              "<Figure size 800x500 with 1 Axes>"
            ],
            "image/png": "[encoded data removed]"
          },
          "metadata": {}
        }
      ]
    },
    {
      "cell_type": "markdown",
      "source": [
        "Hay un serio desbalance en el conjunto de datos del 74% registros son para los pacientes que vivieron y 26% son los pacientes que murireron.\n"
      ],
      "metadata": {
        "id": "XHygxobPJpLB"
      }
    },
    {
      "cell_type": "code",
      "source": [
        "y = np.where(y==1, 0, 1)"
      ],
      "metadata": {
        "id": "QvE3bBTHy_gC"
      },
      "execution_count": 80,
      "outputs": []
    },
    {
      "cell_type": "code",
      "source": [
        "X_train, X_test, y_train, y_test = train_test_split(\n",
        "    X,\n",
        "    y,\n",
        "    test_size=0.5,\n",
        "    random_state=12354,\n",
        "    shuffle=True,\n",
        "    stratify=y\n",
        ")"
      ],
      "metadata": {
        "id": "QDTk_r_gvEtN"
      },
      "execution_count": 81,
      "outputs": []
    },
    {
      "cell_type": "markdown",
      "source": [
        "- Como las categorías se encuentran desbalanceadas, se procede a realizar una partición estratificada."
      ],
      "metadata": {
        "id": "7CvDVB2ikhkI"
      }
    },
    {
      "cell_type": "markdown",
      "source": [
        "# **Model**\n",
        "---"
      ],
      "metadata": {
        "id": "eAeImxChLXQ_"
      }
    },
    {
      "cell_type": "markdown",
      "source": [
        "## **Model Base**\n",
        "---"
      ],
      "metadata": {
        "id": "0tPhoqw_LXPt"
      }
    },
    {
      "cell_type": "code",
      "source": [
        "def model_base():\n",
        "  model = Sequential()\n",
        "  model.add(Dense(10, input_dim=3, activation='relu', kernel_initializer='he_normal'))\n",
        "  model.add(Dense(1, activation='sigmoid', kernel_initializer='he_normal'))\n",
        "  model.compile(loss='binary_crossentropy', optimizer='adam')\n",
        "  return model"
      ],
      "metadata": {
        "id": "Hz0LUF5NvZ_v"
      },
      "execution_count": 82,
      "outputs": []
    },
    {
      "cell_type": "code",
      "source": [
        "utils_keras.set_random_seed(12354)"
      ],
      "metadata": {
        "id": "-LvyNqCxz26d"
      },
      "execution_count": 83,
      "outputs": []
    },
    {
      "cell_type": "code",
      "source": [
        "model = model_base()\n",
        "history = model.fit(\n",
        "    X_train,\n",
        "    y_train,\n",
        "    validation_data=(X_test, y_test),\n",
        "    epochs=300,\n",
        "    batch_size=5,\n",
        "    verbose=0)"
      ],
      "metadata": {
        "id": "ZXBUV4TQwJT-"
      },
      "execution_count": 84,
      "outputs": []
    },
    {
      "cell_type": "code",
      "source": [
        "data.shape[0]/5"
      ],
      "metadata": {
        "id": "oYACLV0J3AsY",
        "outputId": "9061709a-ab19-4b49-ccf9-bd25b65efa98",
        "colab": {
          "base_uri": "https://localhost:8080/"
        }
      },
      "execution_count": 102,
      "outputs": [
        {
          "output_type": "execute_result",
          "data": {
            "text/plain": [
              "61.2"
            ]
          },
          "metadata": {},
          "execution_count": 102
        }
      ]
    },
    {
      "cell_type": "markdown",
      "source": [
        "61.2 lotes con 5 muestras"
      ],
      "metadata": {
        "id": "Mrl_NkoS3D7K"
      }
    },
    {
      "cell_type": "code",
      "source": [
        "model.summary()"
      ],
      "metadata": {
        "id": "35nobSQ6zPNv",
        "outputId": "e0a7bb1d-b237-45bd-d894-2da17baa7c1f",
        "colab": {
          "base_uri": "https://localhost:8080/"
        }
      },
      "execution_count": 85,
      "outputs": [
        {
          "output_type": "stream",
          "name": "stdout",
          "text": [
            "Model: \"sequential_5\"\n",
            "_________________________________________________________________\n",
            " Layer (type)                Output Shape              Param #   \n",
            "=================================================================\n",
            " dense_10 (Dense)            (None, 10)                40        \n",
            "                                                                 \n",
            " dense_11 (Dense)            (None, 1)                 11        \n",
            "                                                                 \n",
            "=================================================================\n",
            "Total params: 51 (204.00 Byte)\n",
            "Trainable params: 51 (204.00 Byte)\n",
            "Non-trainable params: 0 (0.00 Byte)\n",
            "_________________________________________________________________\n"
          ]
        }
      ]
    },
    {
      "cell_type": "markdown",
      "source": [
        "# **Curvas de aprendizaje de optimización model base**\n",
        "---"
      ],
      "metadata": {
        "id": "vfLeUjG4NPzJ"
      }
    },
    {
      "cell_type": "code",
      "source": [
        "def optimization_learning_curves(\n",
        "    history:dict,\n",
        "    metrica:str,\n",
        "    title:str='',\n",
        "    X_size:int=8,\n",
        "    y_size:int=4,\n",
        "    font_size:int=15,\n",
        "    X_label:str='Epoch',\n",
        "    y_label:str='Loss'\n",
        ")->None:\n",
        "  \"\"\" Grafica curvas de aprendizaje \"\"\"\n",
        "  fig, ax = plt.subplots(figsize=(X_size, y_size))\n",
        "  fig.suptitle(title, fontsize=font_size)\n",
        "  ax.plot(history.history[metrica])\n",
        "  ax.plot(history.history[f'val_{metrica}'])\n",
        "  ax.set_xlabel(X_label, size = 12)\n",
        "  ax.set_ylabel(y_label, size = 12)\n",
        "  ax.legend(['Train', 'Test'], loc = 'upper right', fontsize = 12)\n",
        "  ax.tick_params(labelsize = 12)\n",
        "  fig.show()\n"
      ],
      "metadata": {
        "id": "Fx-ifHJFNUEh"
      },
      "execution_count": 86,
      "outputs": []
    },
    {
      "cell_type": "code",
      "source": [
        "optimization_learning_curves(history, metrica='loss', title='Loss vs Val Loss')"
      ],
      "metadata": {
        "colab": {
          "base_uri": "https://localhost:8080/",
          "height": 439
        },
        "id": "fSaqTlLfO7nz",
        "outputId": "0b31badf-5402-4c3c-d6ee-dbefef6d01a9"
      },
      "execution_count": 87,
      "outputs": [
        {
          "output_type": "display_data",
          "data": {
            "text/plain": [
              "<Figure size 800x400 with 1 Axes>"
            ],
            "image/png": "[encoded data removed]"
          },
          "metadata": {}
        }
      ]
    },
    {
      "cell_type": "markdown",
      "source": [
        "La perdida de entrenamiento y validación disminuyen hasta el punto de estabilida durante 25 epocas, con una brecha que indica un sobreajuste. Este modelo sufre de variabilidad."
      ],
      "metadata": {
        "id": "WmUducoqQoNe"
      }
    },
    {
      "cell_type": "markdown",
      "source": [
        "# **Prediction**\n",
        "---"
      ],
      "metadata": {
        "id": "tW6uG-ZuQ3uA"
      }
    },
    {
      "cell_type": "code",
      "source": [
        "y_pred = (model.predict(X_test)>0.5).astype('int32')\n",
        "y_pred = np.reshape(y_pred, y_pred.shape[0])\n",
        "y_pred"
      ],
      "metadata": {
        "colab": {
          "base_uri": "https://localhost:8080/"
        },
        "id": "id-k3Rv-WEyF",
        "outputId": "0e1af6cc-d5b7-45ed-a69a-381e4146c0db"
      },
      "execution_count": 88,
      "outputs": [
        {
          "output_type": "stream",
          "name": "stdout",
          "text": [
            "5/5 [==============================] - 0s 3ms/step\n"
          ]
        },
        {
          "output_type": "execute_result",
          "data": {
            "text/plain": [
              "array([0, 0, 0, 0, 0, 1, 0, 0, 0, 0, 0, 0, 0, 0, 0, 0, 1, 0, 0, 1, 1, 0,\n",
              "       0, 0, 0, 0, 0, 0, 0, 0, 0, 0, 0, 0, 0, 0, 1, 0, 1, 0, 0, 0, 1, 0,\n",
              "       0, 0, 0, 0, 0, 0, 0, 1, 0, 0, 0, 0, 0, 0, 1, 0, 0, 0, 0, 1, 0, 0,\n",
              "       0, 0, 0, 0, 0, 0, 0, 0, 0, 0, 1, 0, 0, 1, 0, 0, 0, 0, 0, 0, 0, 0,\n",
              "       1, 0, 0, 0, 0, 0, 0, 0, 0, 0, 0, 0, 1, 0, 0, 0, 0, 0, 0, 0, 1, 0,\n",
              "       0, 0, 0, 0, 0, 0, 0, 0, 0, 0, 0, 0, 0, 0, 0, 1, 0, 0, 0, 0, 0, 0,\n",
              "       1, 0, 0, 0, 0, 0, 0, 0, 1, 1, 0, 0, 0, 0, 0, 0, 0, 0, 0, 0, 0],\n",
              "      dtype=int32)"
            ]
          },
          "metadata": {},
          "execution_count": 88
        }
      ]
    },
    {
      "cell_type": "code",
      "source": [
        "def consufion_matrix(validation: np.ndarray, prediction:np.ndarray, title: str= 'Matriz de confusion', x_size:int=6, y_size:int=5, **kwards)->np.ndarray:\n",
        "  matrix = metrics.confusion_matrix(validation, prediction)\n",
        "  fig, ax = plt.subplots(nrows= 1, ncols=  1, figsize = (x_size,y_size))\n",
        "  sns.heatmap(matrix, annot=True, ax = ax, cmap=plt.cm.Blues, fmt = 'g', annot_kws={'size': 13})\n",
        "  ax.set_title(title, size = 13)\n",
        "  v = list(kwards.values())\n",
        "  k = list(kwards.keys())\n",
        "  if ax.get_xticklabels()[0].get_text() == v[0]:\n",
        "    ax.xaxis.set_ticklabels([k[0], k[1]])\n",
        "    ax.yaxis.set_ticklabels([k[0], k[1]])\n",
        "  else:\n",
        "    ax.xaxis.set_ticklabels([k[1], k[0]])\n",
        "    ax.yaxis.set_ticklabels([k[1], k[0]])\n",
        "  ax.tick_params(labelsize = 13)\n",
        "  fig.show()\n",
        "  return matrix"
      ],
      "metadata": {
        "id": "77Z-QDGEWbIG"
      },
      "execution_count": 89,
      "outputs": []
    },
    {
      "cell_type": "code",
      "source": [
        "matrix = consufion_matrix(y_test, y_pred, **{'Muere':1, 'No murio':0})"
      ],
      "metadata": {
        "colab": {
          "base_uri": "https://localhost:8080/",
          "height": 475
        },
        "id": "gNS_aGr9WbHH",
        "outputId": "3a65d2c4-e719-4c78-eb9a-6c1ceaf76544"
      },
      "execution_count": 90,
      "outputs": [
        {
          "output_type": "display_data",
          "data": {
            "text/plain": [
              "<Figure size 600x500 with 2 Axes>"
            ],
            "image/png": "[encoded data removed]"
          },
          "metadata": {}
        }
      ]
    },
    {
      "cell_type": "markdown",
      "source": [
        "- A partir de la matriz, el modelo tiene problemas para  detectar pacientes con posibilidades de morir en 5 años, ya que hay pocos verdaderos positivos."
      ],
      "metadata": {
        "id": "64aee_bUcH3W"
      }
    },
    {
      "cell_type": "code",
      "source": [
        "# Metricas\n",
        "def metricas(validation: np.ndarray, prediction:np.ndarray, matrix:np.ndarray, label:list=[1])->None:\n",
        "  accuracy = '%.3f' % metrics.accuracy_score(validation, prediction)\n",
        "  kappa = '%.3f' % metrics.cohen_kappa_score(validation, prediction)\n",
        "  precision = '%.3f' % metrics.precision_score(validation, prediction, labels=label, average=\"macro\")\n",
        "  recall = '%.3f' % metrics.recall_score(validation, prediction, labels=label, average=\"macro\")\n",
        "  f1_score = '%.3f' % metrics.f1_score(validation, prediction, labels=label, average=\"macro\")\n",
        "\n",
        "  print(f'Accuracy  :   {accuracy}')\n",
        "  print(f'Kappa     :   {kappa}')\n",
        "  print(f'predicción enfermos')\n",
        "  print(f'Precision:   {precision}')\n",
        "  print(f'Recall    :   {recall}')\n",
        "\n",
        "  VN, FP = 0, 0\n",
        "  if label == [1]:\n",
        "    VN = matrix[0,0]\n",
        "    FP = matrix[0,1]\n",
        "  else:\n",
        "    VN = matrix[0,0]\n",
        "    FP = matrix[0,1]\n",
        "  specificity = VN/(VN+FP)\n",
        "  specificity = '%.3f' %  specificity\n",
        "\n",
        "  print(f'Specificity:   {specificity}')\n",
        "  print(f'F1-score   :   {f1_score}')\n",
        "  return accuracy, kappa, precision, recall, f1_score, specificity"
      ],
      "metadata": {
        "id": "PDfIquppWpYG"
      },
      "execution_count": 92,
      "outputs": []
    },
    {
      "cell_type": "code",
      "source": [
        "accuracy, kappa, precision, recall, f1_score, specificity = metricas(y_test, y_pred, matrix)"
      ],
      "metadata": {
        "id": "2GpCeIpbIaYI",
        "outputId": "ae5fa79e-e062-4a9b-b609-0ac28e859e1f",
        "colab": {
          "base_uri": "https://localhost:8080/"
        }
      },
      "execution_count": 93,
      "outputs": [
        {
          "output_type": "stream",
          "name": "stdout",
          "text": [
            "Accuracy  :   0.739\n",
            "Kappa     :   0.197\n",
            "predicción enfermos\n",
            "Precision:   0.526\n",
            "Recall    :   0.244\n",
            "Specificity:   0.920\n",
            "F1-score   :   0.333\n"
          ]
        }
      ]
    },
    {
      "cell_type": "markdown",
      "source": [
        "- La sensibilidad es pesima, el conjunto de datos es muy pequeño el modelo no es el indicado, cabe resaltar que no se ha tratado la red, ya que la idea es experimentar con datos."
      ],
      "metadata": {
        "id": "mUhYm-vWgO1v"
      }
    },
    {
      "cell_type": "code",
      "source": [
        "y_prob = model.predict(X_test)\n",
        "pos_prob = np.reshape(y_prob, y_prob.shape[0])"
      ],
      "metadata": {
        "id": "ZF5gASvFIi5I",
        "outputId": "df665599-e6c7-4692-8782-9d4e33fdbe7e",
        "colab": {
          "base_uri": "https://localhost:8080/"
        }
      },
      "execution_count": 94,
      "outputs": [
        {
          "output_type": "stream",
          "name": "stdout",
          "text": [
            "5/5 [==============================] - 0s 5ms/step\n"
          ]
        }
      ]
    },
    {
      "cell_type": "code",
      "source": [
        "def precision_recall(y:np.ndarray, prediction_prob:np.ndarray, validation:np.ndarray)->float:\n",
        "  no_skill = len(y[y==1]) / len(y)\n",
        "  plt.plot([0, 1], [no_skill, no_skill], linestyle='--', label='No Skill')\n",
        "  precision, recall, _ = metrics.precision_recall_curve(validation, prediction_prob)\n",
        "  plt.plot(recall, precision, marker='.', label='Multi Layer Perceptron')\n",
        "  plt.xlabel('Recall')\n",
        "  plt.ylabel('Precision')\n",
        "  plt.legend()\n",
        "  auc_score = metrics.auc(recall, precision)\n",
        "  plt.show()\n",
        "  return auc_score"
      ],
      "metadata": {
        "id": "spHAZF1S3u9G"
      },
      "execution_count": 95,
      "outputs": []
    },
    {
      "cell_type": "code",
      "source": [
        "auc_score = precision_recall(y, pos_prob, y_test)"
      ],
      "metadata": {
        "colab": {
          "base_uri": "https://localhost:8080/",
          "height": 458
        },
        "id": "Mo2ND_BK3yd0",
        "outputId": "55d1cd8e-5eef-4a99-c61e-daec347c5ead"
      },
      "execution_count": 96,
      "outputs": [
        {
          "output_type": "display_data",
          "data": {
            "text/plain": [
              "<Figure size 640x480 with 1 Axes>"
            ],
            "image/png": "[encoded data removed]"
          },
          "metadata": {}
        }
      ]
    },
    {
      "cell_type": "code",
      "source": [
        "print('Multi Layer Perceptron PR AUC: %.3f' % auc_score)"
      ],
      "metadata": {
        "colab": {
          "base_uri": "https://localhost:8080/"
        },
        "id": "UoPZGMC14Hgg",
        "outputId": "32b762d6-35d2-48de-b874-b6b2019a9158"
      },
      "execution_count": 97,
      "outputs": [
        {
          "output_type": "stream",
          "name": "stdout",
          "text": [
            "Multi Layer Perceptron PR AUC: 0.448\n"
          ]
        }
      ]
    },
    {
      "cell_type": "markdown",
      "source": [
        "- Acorde al area bajo la curva entre la precisión y la sensibilidad es pesimo no superando el modelo **sin habilidad**\n",
        "- Es posible que con más datos y una estructura más amplia el modelo pueda mejorar su capacidad de predicción para detectar pacientes con diabetes.\n",
        "- No se ha estandarizado los datos, puede que tambien influya ."
      ],
      "metadata": {
        "id": "tMOfWBe1A4Kj"
      }
    },
    {
      "cell_type": "markdown",
      "source": [
        "# **Cross Validation**\n",
        "---"
      ],
      "metadata": {
        "id": "GrbsWOb6B6IR"
      }
    },
    {
      "cell_type": "code",
      "source": [
        "kfold = StratifiedKFold(n_splits=10, shuffle=True, random_state=12354)\n",
        "\n",
        "cv_score_loss_train, cv_score_loss_test = [], []"
      ],
      "metadata": {
        "id": "sbILlQip2LKf"
      },
      "execution_count": 100,
      "outputs": []
    },
    {
      "cell_type": "code",
      "source": [
        "for train, test in kfold.split(X, y):\n",
        "  model = model_base()\n",
        "  model.fit(\n",
        "      X[train],\n",
        "      y[train],\n",
        "      validation_data=(X[test], y[test]),\n",
        "      epochs=300,\n",
        "      batch_size=5,\n",
        "      verbose=0)\n",
        "  loss_train = model.evaluate(X[train], y[train], verbose=0)\n",
        "  loss_test = model.evaluate(X[test], y[test], verbose=0)\n",
        "  cv_score_loss_train.append(loss_train)\n",
        "  cv_score_loss_test.append(loss_test)\n",
        "  print('======================================================================')\n",
        "  print('loss: %.3f val loss test: %.3f' % (loss_train * 100, loss_test * 100))"
      ],
      "metadata": {
        "id": "v9V1GPEM2ffm",
        "outputId": "fa3f9c3a-03a2-4ffc-baf4-7ac54e7fd837",
        "colab": {
          "base_uri": "https://localhost:8080/"
        }
      },
      "execution_count": 103,
      "outputs": [
        {
          "output_type": "stream",
          "name": "stdout",
          "text": [
            "======================================================================\n",
            "loss: 51.602 val loss test: 56.787\n",
            "======================================================================\n",
            "loss: 56.001 val loss test: 57.111\n",
            "======================================================================\n",
            "loss: 54.270 val loss test: 55.820\n",
            "======================================================================\n",
            "loss: 50.682 val loss test: 51.675\n",
            "======================================================================\n",
            "loss: 54.847 val loss test: 55.511\n",
            "======================================================================\n",
            "loss: 53.679 val loss test: 61.453\n",
            "======================================================================\n",
            "loss: 51.767 val loss test: 70.832\n",
            "======================================================================\n",
            "loss: 54.296 val loss test: 53.498\n",
            "======================================================================\n",
            "loss: 52.346 val loss test: 48.175\n",
            "======================================================================\n",
            "loss: 56.294 val loss test: 62.630\n"
          ]
        }
      ]
    },
    {
      "cell_type": "markdown",
      "source": [
        "- Los valores de pérdida de entrenamiento y validación tienden a converger, pese a que el valor no  es bajo.\n",
        "- El mmodelo pese a que no es el mejor para el problema que enfrenta, no se ve afectado por la varianza, aunque puede estar sesgado por la falta de datos."
      ],
      "metadata": {
        "id": "ooVLgh71Pf5D"
      }
    },
    {
      "cell_type": "code",
      "source": [
        "print('============================== 10 Pliegues ==============================')\n",
        "print('============================== Loss Train ==============================')\n",
        "print(\"%.2f%% (+/- %.2f%%)\" % (np.mean(cv_score_loss_train)*100, np.std(cv_score_loss_train)*100))\n",
        "print('============================== Loss Test ==============================')\n",
        "print(\"%.2f%% (+/- %.2f%%)\" % (np.mean(cv_score_loss_test)*100, np.std(cv_score_loss_test)*100))"
      ],
      "metadata": {
        "id": "KT-ibxOAB-5b",
        "colab": {
          "base_uri": "https://localhost:8080/"
        },
        "outputId": "726c155e-7a8a-42d5-a220-71c32b6dce5f"
      },
      "execution_count": 104,
      "outputs": [
        {
          "output_type": "stream",
          "name": "stdout",
          "text": [
            "============================== 10 Pliegues ==============================\n",
            "============================== Loss Train ==============================\n",
            "53.58% (+/- 1.82%)\n",
            "============================== Loss Test ==============================\n",
            "57.35% (+/- 6.03%)\n"
          ]
        }
      ]
    },
    {
      "cell_type": "markdown",
      "source": [
        "- La dispersión como la medida de la perdida tanto en entrenamiento, como en validación no se ven afectado por ruido estadistico es demasiado bajo, es confiable, pese a que la perdida tiene un valor que si bien no es alto, tampoco es bajo.\n",
        "\n",
        "- `El modelo bajo la metrica de optimización y rendimiento seleccionadas, no se considera un modelo excelente para detectar el cancer de corazon, es necesario mirar que otras tecnia se pueden aplicar.`\n",
        "\n"
      ],
      "metadata": {
        "id": "w5E1aiwb-Kel"
      }
    },
    {
      "cell_type": "markdown",
      "source": [
        "# **Wrapper**\n",
        "---"
      ],
      "metadata": {
        "id": "ZWpb7byuYUNh"
      }
    },
    {
      "cell_type": "code",
      "source": [
        "def model_optimizer(\n",
        "    optimizer = 'rmsprop',\n",
        "    init = 'glorot_uniform'\n",
        "):\n",
        "  model = Sequential()\n",
        "  model.add(Dense(10, input_dim=3, activation='relu', kernel_initializer=init))\n",
        "  model.add(Dense(1, activation='sigmoid', kernel_initializer=init))\n",
        "  model.compile(loss='binary_crossentropy', optimizer=optimizer)\n",
        "  return model"
      ],
      "metadata": {
        "id": "gsnBFhpN5QZx"
      },
      "execution_count": 137,
      "outputs": []
    },
    {
      "cell_type": "code",
      "source": [
        "model = KerasClassifier(\n",
        "    build_fn=model_optimizer,\n",
        "    epochs=300,\n",
        "    batch_size = 5,\n",
        "    verbose = 0)"
      ],
      "metadata": {
        "id": "tK3Vt8CHSYFw"
      },
      "execution_count": 106,
      "outputs": []
    },
    {
      "cell_type": "code",
      "source": [
        "kfold = StratifiedKFold(n_splits=10, shuffle=True)\n",
        "result = cross_val_score(model, X, y, cv = kfold)"
      ],
      "metadata": {
        "id": "lIpGEOuaSops"
      },
      "execution_count": 107,
      "outputs": []
    },
    {
      "cell_type": "markdown",
      "source": [
        "- Los resultados no parecen ser tan alejados los unos de los otros, el modelo tiende a converger, poco ruido, pero no es el más indicado para la detección de cancer o falta más datos."
      ],
      "metadata": {
        "id": "WOQUpIoNbXBB"
      }
    },
    {
      "cell_type": "code",
      "source": [
        "result.mean()*100, result.std()*100"
      ],
      "metadata": {
        "id": "aKxOa2J0bVox",
        "colab": {
          "base_uri": "https://localhost:8080/"
        },
        "outputId": "a34851b7-35ac-4b06-f68a-e48f02aa9a5f"
      },
      "execution_count": 108,
      "outputs": [
        {
          "output_type": "execute_result",
          "data": {
            "text/plain": [
              "(73.88172043010752, 4.907857178861532)"
            ]
          },
          "metadata": {},
          "execution_count": 108
        }
      ]
    },
    {
      "cell_type": "markdown",
      "source": [
        "- La media es confiable, ya que la **dispersión no es tán prolongada**.\n"
      ],
      "metadata": {
        "id": "g2RUha4mcxWy"
      }
    },
    {
      "cell_type": "markdown",
      "source": [
        "# **Optimización de hiperparametros**\n",
        "---"
      ],
      "metadata": {
        "id": "xPW5G2MxdHZU"
      }
    },
    {
      "cell_type": "code",
      "source": [
        "model_optimizer = KerasClassifier(build_fn = model_optimizer, verbose = 0)"
      ],
      "metadata": {
        "id": "PHaE74VW9kTK"
      },
      "execution_count": 139,
      "outputs": []
    },
    {
      "cell_type": "code",
      "source": [
        "model_optimizer"
      ],
      "metadata": {
        "id": "fFa5YfbsAoiq",
        "outputId": "bcdde702-7836-4718-ac84-7164b51ade07",
        "colab": {
          "base_uri": "https://localhost:8080/",
          "height": 251
        }
      },
      "execution_count": 140,
      "outputs": [
        {
          "output_type": "execute_result",
          "data": {
            "text/plain": [
              "KerasClassifier(\n",
              "\tmodel=None\n",
              "\tbuild_fn=<function model_optimizer at 0x7c0af05ef0a0>\n",
              "\twarm_start=False\n",
              "\trandom_state=None\n",
              "\toptimizer=rmsprop\n",
              "\tloss=None\n",
              "\tmetrics=None\n",
              "\tbatch_size=None\n",
              "\tvalidation_batch_size=None\n",
              "\tverbose=0\n",
              "\tcallbacks=None\n",
              "\tvalidation_split=0.0\n",
              "\tshuffle=True\n",
              "\trun_eagerly=False\n",
              "\tepochs=1\n",
              "\tclass_weight=None\n",
              ")"
            ],
            "text/html": [
              "<style>#sk-container-id-3 {color: black;background-color: white;}#sk-container-id-3 pre{padding: 0;}#sk-container-id-3 div.sk-toggleable {background-color: white;}#sk-container-id-3 label.sk-toggleable__label {cursor: pointer;display: block;width: 100%;margin-bottom: 0;padding: 0.3em;box-sizing: border-box;text-align: center;}#sk-container-id-3 label.sk-toggleable__label-arrow:before {content: \"▸\";float: left;margin-right: 0.25em;color: #696969;}#sk-container-id-3 label.sk-toggleable__label-arrow:hover:before {color: black;}#sk-container-id-3 div.sk-estimator:hover label.sk-toggleable__label-arrow:before {color: black;}#sk-container-id-3 div.sk-toggleable__content {max-height: 0;max-width: 0;overflow: hidden;text-align: left;background-color: #f0f8ff;}#sk-container-id-3 div.sk-toggleable__content pre {margin: 0.2em;color: black;border-radius: 0.25em;background-color: #f0f8ff;}#sk-container-id-3 input.sk-toggleable__control:checked~div.sk-toggleable__content {max-height: 200px;max-width: 100%;overflow: auto;}#sk-container-id-3 input.sk-toggleable__control:checked~label.sk-toggleable__label-arrow:before {content: \"▾\";}#sk-container-id-3 div.sk-estimator input.sk-toggleable__control:checked~label.sk-toggleable__label {background-color: #d4ebff;}#sk-container-id-3 div.sk-label input.sk-toggleable__control:checked~label.sk-toggleable__label {background-color: #d4ebff;}#sk-container-id-3 input.sk-hidden--visually {border: 0;clip: rect(1px 1px 1px 1px);clip: rect(1px, 1px, 1px, 1px);height: 1px;margin: -1px;overflow: hidden;padding: 0;position: absolute;width: 1px;}#sk-container-id-3 div.sk-estimator {font-family: monospace;background-color: #f0f8ff;border: 1px dotted black;border-radius: 0.25em;box-sizing: border-box;margin-bottom: 0.5em;}#sk-container-id-3 div.sk-estimator:hover {background-color: #d4ebff;}#sk-container-id-3 div.sk-parallel-item::after {content: \"\";width: 100%;border-bottom: 1px solid gray;flex-grow: 1;}#sk-container-id-3 div.sk-label:hover label.sk-toggleable__label {background-color: #d4ebff;}#sk-container-id-3 div.sk-serial::before {content: \"\";position: absolute;border-left: 1px solid gray;box-sizing: border-box;top: 0;bottom: 0;left: 50%;z-index: 0;}#sk-container-id-3 div.sk-serial {display: flex;flex-direction: column;align-items: center;background-color: white;padding-right: 0.2em;padding-left: 0.2em;position: relative;}#sk-container-id-3 div.sk-item {position: relative;z-index: 1;}#sk-container-id-3 div.sk-parallel {display: flex;align-items: stretch;justify-content: center;background-color: white;position: relative;}#sk-container-id-3 div.sk-item::before, #sk-container-id-3 div.sk-parallel-item::before {content: \"\";position: absolute;border-left: 1px solid gray;box-sizing: border-box;top: 0;bottom: 0;left: 50%;z-index: -1;}#sk-container-id-3 div.sk-parallel-item {display: flex;flex-direction: column;z-index: 1;position: relative;background-color: white;}#sk-container-id-3 div.sk-parallel-item:first-child::after {align-self: flex-end;width: 50%;}#sk-container-id-3 div.sk-parallel-item:last-child::after {align-self: flex-start;width: 50%;}#sk-container-id-3 div.sk-parallel-item:only-child::after {width: 0;}#sk-container-id-3 div.sk-dashed-wrapped {border: 1px dashed gray;margin: 0 0.4em 0.5em 0.4em;box-sizing: border-box;padding-bottom: 0.4em;background-color: white;}#sk-container-id-3 div.sk-label label {font-family: monospace;font-weight: bold;display: inline-block;line-height: 1.2em;}#sk-container-id-3 div.sk-label-container {text-align: center;}#sk-container-id-3 div.sk-container {/* jupyter's `normalize.less` sets `[hidden] { display: none; }` but bootstrap.min.css set `[hidden] { display: none !important; }` so we also need the `!important` here to be able to override the default hidden behavior on the sphinx rendered scikit-learn.org. See: https://github.com/scikit-learn/scikit-learn/issues/21755 */display: inline-block !important;position: relative;}#sk-container-id-3 div.sk-text-repr-fallback {display: none;}</style><div id=\"sk-container-id-3\" class=\"sk-top-container\"><div class=\"sk-text-repr-fallback\"><pre>KerasClassifier(\n",
              "\tmodel=None\n",
              "\tbuild_fn=&lt;function model_optimizer at 0x7c0af05ef0a0&gt;\n",
              "\twarm_start=False\n",
              "\trandom_state=None\n",
              "\toptimizer=rmsprop\n",
              "\tloss=None\n",
              "\tmetrics=None\n",
              "\tbatch_size=None\n",
              "\tvalidation_batch_size=None\n",
              "\tverbose=0\n",
              "\tcallbacks=None\n",
              "\tvalidation_split=0.0\n",
              "\tshuffle=True\n",
              "\trun_eagerly=False\n",
              "\tepochs=1\n",
              "\tclass_weight=None\n",
              ")</pre><b>In a Jupyter environment, please rerun this cell to show the HTML representation or trust the notebook. <br />On GitHub, the HTML representation is unable to render, please try loading this page with nbviewer.org.</b></div><div class=\"sk-container\" hidden><div class=\"sk-item\"><div class=\"sk-estimator sk-toggleable\"><input class=\"sk-toggleable__control sk-hidden--visually\" id=\"sk-estimator-id-5\" type=\"checkbox\" checked><label for=\"sk-estimator-id-5\" class=\"sk-toggleable__label sk-toggleable__label-arrow\">KerasClassifier</label><div class=\"sk-toggleable__content\"><pre>KerasClassifier(\n",
              "\tmodel=None\n",
              "\tbuild_fn=&lt;function model_optimizer at 0x7c0af05ef0a0&gt;\n",
              "\twarm_start=False\n",
              "\trandom_state=None\n",
              "\toptimizer=rmsprop\n",
              "\tloss=None\n",
              "\tmetrics=None\n",
              "\tbatch_size=None\n",
              "\tvalidation_batch_size=None\n",
              "\tverbose=0\n",
              "\tcallbacks=None\n",
              "\tvalidation_split=0.0\n",
              "\tshuffle=True\n",
              "\trun_eagerly=False\n",
              "\tepochs=1\n",
              "\tclass_weight=None\n",
              ")</pre></div></div></div></div></div>"
            ]
          },
          "metadata": {},
          "execution_count": 140
        }
      ]
    },
    {
      "cell_type": "code",
      "source": [
        "params={\n",
        "'batch_size':[5, 10, 15],\n",
        "'epochs':[100, 150, 200],\n",
        "'optimizer':['adam','rmsprop'],\n",
        "'model__init':['glorot_uniform', 'normal', 'uniform', 'he_normal']\n",
        "}"
      ],
      "metadata": {
        "id": "U7j0Kto6_6Kg"
      },
      "execution_count": 141,
      "outputs": []
    },
    {
      "cell_type": "code",
      "source": [
        "grid = GridSearchCV(\n",
        "    estimator=model_optimizer,\n",
        "    param_grid=params,\n",
        "    refit = True,\n",
        "    return_train_score=True, cv = 3)"
      ],
      "metadata": {
        "id": "Br_tjaaiU1gc"
      },
      "execution_count": 142,
      "outputs": []
    },
    {
      "cell_type": "code",
      "source": [
        "grid.fit(X_train, y_train)"
      ],
      "metadata": {
        "id": "aJ__AAUiePDi",
        "colab": {
          "base_uri": "https://localhost:8080/",
          "height": 117
        },
        "outputId": "84a02784-9d96-4719-ff34-a67ec86c0a7e"
      },
      "execution_count": 144,
      "outputs": [
        {
          "output_type": "execute_result",
          "data": {
            "text/plain": [
              "GridSearchCV(cv=3,\n",
              "             estimator=KerasClassifier(build_fn=<function model_optimizer at 0x7c0af05ef0a0>, verbose=0),\n",
              "             param_grid={'batch_size': [5, 10, 15], 'epochs': [100, 150, 200],\n",
              "                         'model__init': ['glorot_uniform', 'normal', 'uniform',\n",
              "                                         'he_normal'],\n",
              "                         'optimizer': ['adam', 'rmsprop']},\n",
              "             return_train_score=True)"
            ],
            "text/html": [
              "<style>#sk-container-id-4 {color: black;background-color: white;}#sk-container-id-4 pre{padding: 0;}#sk-container-id-4 div.sk-toggleable {background-color: white;}#sk-container-id-4 label.sk-toggleable__label {cursor: pointer;display: block;width: 100%;margin-bottom: 0;padding: 0.3em;box-sizing: border-box;text-align: center;}#sk-container-id-4 label.sk-toggleable__label-arrow:before {content: \"▸\";float: left;margin-right: 0.25em;color: #696969;}#sk-container-id-4 label.sk-toggleable__label-arrow:hover:before {color: black;}#sk-container-id-4 div.sk-estimator:hover label.sk-toggleable__label-arrow:before {color: black;}#sk-container-id-4 div.sk-toggleable__content {max-height: 0;max-width: 0;overflow: hidden;text-align: left;background-color: #f0f8ff;}#sk-container-id-4 div.sk-toggleable__content pre {margin: 0.2em;color: black;border-radius: 0.25em;background-color: #f0f8ff;}#sk-container-id-4 input.sk-toggleable__control:checked~div.sk-toggleable__content {max-height: 200px;max-width: 100%;overflow: auto;}#sk-container-id-4 input.sk-toggleable__control:checked~label.sk-toggleable__label-arrow:before {content: \"▾\";}#sk-container-id-4 div.sk-estimator input.sk-toggleable__control:checked~label.sk-toggleable__label {background-color: #d4ebff;}#sk-container-id-4 div.sk-label input.sk-toggleable__control:checked~label.sk-toggleable__label {background-color: #d4ebff;}#sk-container-id-4 input.sk-hidden--visually {border: 0;clip: rect(1px 1px 1px 1px);clip: rect(1px, 1px, 1px, 1px);height: 1px;margin: -1px;overflow: hidden;padding: 0;position: absolute;width: 1px;}#sk-container-id-4 div.sk-estimator {font-family: monospace;background-color: #f0f8ff;border: 1px dotted black;border-radius: 0.25em;box-sizing: border-box;margin-bottom: 0.5em;}#sk-container-id-4 div.sk-estimator:hover {background-color: #d4ebff;}#sk-container-id-4 div.sk-parallel-item::after {content: \"\";width: 100%;border-bottom: 1px solid gray;flex-grow: 1;}#sk-container-id-4 div.sk-label:hover label.sk-toggleable__label {background-color: #d4ebff;}#sk-container-id-4 div.sk-serial::before {content: \"\";position: absolute;border-left: 1px solid gray;box-sizing: border-box;top: 0;bottom: 0;left: 50%;z-index: 0;}#sk-container-id-4 div.sk-serial {display: flex;flex-direction: column;align-items: center;background-color: white;padding-right: 0.2em;padding-left: 0.2em;position: relative;}#sk-container-id-4 div.sk-item {position: relative;z-index: 1;}#sk-container-id-4 div.sk-parallel {display: flex;align-items: stretch;justify-content: center;background-color: white;position: relative;}#sk-container-id-4 div.sk-item::before, #sk-container-id-4 div.sk-parallel-item::before {content: \"\";position: absolute;border-left: 1px solid gray;box-sizing: border-box;top: 0;bottom: 0;left: 50%;z-index: -1;}#sk-container-id-4 div.sk-parallel-item {display: flex;flex-direction: column;z-index: 1;position: relative;background-color: white;}#sk-container-id-4 div.sk-parallel-item:first-child::after {align-self: flex-end;width: 50%;}#sk-container-id-4 div.sk-parallel-item:last-child::after {align-self: flex-start;width: 50%;}#sk-container-id-4 div.sk-parallel-item:only-child::after {width: 0;}#sk-container-id-4 div.sk-dashed-wrapped {border: 1px dashed gray;margin: 0 0.4em 0.5em 0.4em;box-sizing: border-box;padding-bottom: 0.4em;background-color: white;}#sk-container-id-4 div.sk-label label {font-family: monospace;font-weight: bold;display: inline-block;line-height: 1.2em;}#sk-container-id-4 div.sk-label-container {text-align: center;}#sk-container-id-4 div.sk-container {/* jupyter's `normalize.less` sets `[hidden] { display: none; }` but bootstrap.min.css set `[hidden] { display: none !important; }` so we also need the `!important` here to be able to override the default hidden behavior on the sphinx rendered scikit-learn.org. See: https://github.com/scikit-learn/scikit-learn/issues/21755 */display: inline-block !important;position: relative;}#sk-container-id-4 div.sk-text-repr-fallback {display: none;}</style><div id=\"sk-container-id-4\" class=\"sk-top-container\"><div class=\"sk-text-repr-fallback\"><pre>GridSearchCV(cv=3,\n",
              "             estimator=KerasClassifier(build_fn=&lt;function model_optimizer at 0x7c0af05ef0a0&gt;, verbose=0),\n",
              "             param_grid={&#x27;batch_size&#x27;: [5, 10, 15], &#x27;epochs&#x27;: [100, 150, 200],\n",
              "                         &#x27;model__init&#x27;: [&#x27;glorot_uniform&#x27;, &#x27;normal&#x27;, &#x27;uniform&#x27;,\n",
              "                                         &#x27;he_normal&#x27;],\n",
              "                         &#x27;optimizer&#x27;: [&#x27;adam&#x27;, &#x27;rmsprop&#x27;]},\n",
              "             return_train_score=True)</pre><b>In a Jupyter environment, please rerun this cell to show the HTML representation or trust the notebook. <br />On GitHub, the HTML representation is unable to render, please try loading this page with nbviewer.org.</b></div><div class=\"sk-container\" hidden><div class=\"sk-item sk-dashed-wrapped\"><div class=\"sk-label-container\"><div class=\"sk-label sk-toggleable\"><input class=\"sk-toggleable__control sk-hidden--visually\" id=\"sk-estimator-id-6\" type=\"checkbox\" ><label for=\"sk-estimator-id-6\" class=\"sk-toggleable__label sk-toggleable__label-arrow\">GridSearchCV</label><div class=\"sk-toggleable__content\"><pre>GridSearchCV(cv=3,\n",
              "             estimator=KerasClassifier(build_fn=&lt;function model_optimizer at 0x7c0af05ef0a0&gt;, verbose=0),\n",
              "             param_grid={&#x27;batch_size&#x27;: [5, 10, 15], &#x27;epochs&#x27;: [100, 150, 200],\n",
              "                         &#x27;model__init&#x27;: [&#x27;glorot_uniform&#x27;, &#x27;normal&#x27;, &#x27;uniform&#x27;,\n",
              "                                         &#x27;he_normal&#x27;],\n",
              "                         &#x27;optimizer&#x27;: [&#x27;adam&#x27;, &#x27;rmsprop&#x27;]},\n",
              "             return_train_score=True)</pre></div></div></div><div class=\"sk-parallel\"><div class=\"sk-parallel-item\"><div class=\"sk-item\"><div class=\"sk-label-container\"><div class=\"sk-label sk-toggleable\"><input class=\"sk-toggleable__control sk-hidden--visually\" id=\"sk-estimator-id-7\" type=\"checkbox\" ><label for=\"sk-estimator-id-7\" class=\"sk-toggleable__label sk-toggleable__label-arrow\">estimator: KerasClassifier</label><div class=\"sk-toggleable__content\"><pre>KerasClassifier(\n",
              "\tmodel=None\n",
              "\tbuild_fn=&lt;function model_optimizer at 0x7c0af05ef0a0&gt;\n",
              "\twarm_start=False\n",
              "\trandom_state=None\n",
              "\toptimizer=rmsprop\n",
              "\tloss=None\n",
              "\tmetrics=None\n",
              "\tbatch_size=None\n",
              "\tvalidation_batch_size=None\n",
              "\tverbose=0\n",
              "\tcallbacks=None\n",
              "\tvalidation_split=0.0\n",
              "\tshuffle=True\n",
              "\trun_eagerly=False\n",
              "\tepochs=1\n",
              "\tclass_weight=None\n",
              ")</pre></div></div></div><div class=\"sk-serial\"><div class=\"sk-item\"><div class=\"sk-estimator sk-toggleable\"><input class=\"sk-toggleable__control sk-hidden--visually\" id=\"sk-estimator-id-8\" type=\"checkbox\" ><label for=\"sk-estimator-id-8\" class=\"sk-toggleable__label sk-toggleable__label-arrow\">KerasClassifier</label><div class=\"sk-toggleable__content\"><pre>KerasClassifier(\n",
              "\tmodel=None\n",
              "\tbuild_fn=&lt;function model_optimizer at 0x7c0af05ef0a0&gt;\n",
              "\twarm_start=False\n",
              "\trandom_state=None\n",
              "\toptimizer=rmsprop\n",
              "\tloss=None\n",
              "\tmetrics=None\n",
              "\tbatch_size=None\n",
              "\tvalidation_batch_size=None\n",
              "\tverbose=0\n",
              "\tcallbacks=None\n",
              "\tvalidation_split=0.0\n",
              "\tshuffle=True\n",
              "\trun_eagerly=False\n",
              "\tepochs=1\n",
              "\tclass_weight=None\n",
              ")</pre></div></div></div></div></div></div></div></div></div></div>"
            ]
          },
          "metadata": {},
          "execution_count": 144
        }
      ]
    },
    {
      "cell_type": "code",
      "source": [
        "print('Mejor: %f usando %s' % (grid.best_score_, grid.best_params_))"
      ],
      "metadata": {
        "id": "013pGTh9sZ-X",
        "colab": {
          "base_uri": "https://localhost:8080/"
        },
        "outputId": "f61ab400-ce2c-481c-9a4f-a72dc2241169"
      },
      "execution_count": 145,
      "outputs": [
        {
          "output_type": "stream",
          "name": "stdout",
          "text": [
            "Mejor: 0.790850 usando {'batch_size': 5, 'epochs': 150, 'model__init': 'uniform', 'optimizer': 'rmsprop'}\n"
          ]
        }
      ]
    },
    {
      "cell_type": "code",
      "source": [
        "means = grid.cv_results_['mean_test_score']\n",
        "stds = grid.cv_results_['std_test_score']\n",
        "params = grid.cv_results_['params']\n",
        "\n",
        "for mean, std, param in zip(means, stds, params):\n",
        "  print('%f (%f) con %r' % (mean, std, param))"
      ],
      "metadata": {
        "id": "LD85hKTBsZ9R",
        "colab": {
          "base_uri": "https://localhost:8080/"
        },
        "outputId": "b71378db-ac5c-44da-bb32-b5c0dcbf5f08"
      },
      "execution_count": 146,
      "outputs": [
        {
          "output_type": "stream",
          "name": "stdout",
          "text": [
            "0.764706 (0.000000) con {'batch_size': 5, 'epochs': 100, 'model__init': 'glorot_uniform', 'optimizer': 'adam'}\n",
            "0.745098 (0.000000) con {'batch_size': 5, 'epochs': 100, 'model__init': 'glorot_uniform', 'optimizer': 'rmsprop'}\n",
            "0.764706 (0.016010) con {'batch_size': 5, 'epochs': 100, 'model__init': 'normal', 'optimizer': 'adam'}\n",
            "0.764706 (0.016010) con {'batch_size': 5, 'epochs': 100, 'model__init': 'normal', 'optimizer': 'rmsprop'}\n",
            "0.771242 (0.009243) con {'batch_size': 5, 'epochs': 100, 'model__init': 'uniform', 'optimizer': 'adam'}\n",
            "0.764706 (0.016010) con {'batch_size': 5, 'epochs': 100, 'model__init': 'uniform', 'optimizer': 'rmsprop'}\n",
            "0.745098 (0.016010) con {'batch_size': 5, 'epochs': 100, 'model__init': 'he_normal', 'optimizer': 'adam'}\n",
            "0.705882 (0.032019) con {'batch_size': 5, 'epochs': 100, 'model__init': 'he_normal', 'optimizer': 'rmsprop'}\n",
            "0.777778 (0.033327) con {'batch_size': 5, 'epochs': 150, 'model__init': 'glorot_uniform', 'optimizer': 'adam'}\n",
            "0.764706 (0.042358) con {'batch_size': 5, 'epochs': 150, 'model__init': 'glorot_uniform', 'optimizer': 'rmsprop'}\n",
            "0.771242 (0.040290) con {'batch_size': 5, 'epochs': 150, 'model__init': 'normal', 'optimizer': 'adam'}\n",
            "0.758170 (0.024455) con {'batch_size': 5, 'epochs': 150, 'model__init': 'normal', 'optimizer': 'rmsprop'}\n",
            "0.777778 (0.040290) con {'batch_size': 5, 'epochs': 150, 'model__init': 'uniform', 'optimizer': 'adam'}\n",
            "0.790850 (0.048911) con {'batch_size': 5, 'epochs': 150, 'model__init': 'uniform', 'optimizer': 'rmsprop'}\n",
            "0.758170 (0.033327) con {'batch_size': 5, 'epochs': 150, 'model__init': 'he_normal', 'optimizer': 'adam'}\n",
            "0.771242 (0.040290) con {'batch_size': 5, 'epochs': 150, 'model__init': 'he_normal', 'optimizer': 'rmsprop'}\n",
            "0.738562 (0.009243) con {'batch_size': 5, 'epochs': 200, 'model__init': 'glorot_uniform', 'optimizer': 'adam'}\n",
            "0.738562 (0.018486) con {'batch_size': 5, 'epochs': 200, 'model__init': 'glorot_uniform', 'optimizer': 'rmsprop'}\n",
            "0.745098 (0.057724) con {'batch_size': 5, 'epochs': 200, 'model__init': 'normal', 'optimizer': 'adam'}\n",
            "0.764706 (0.016010) con {'batch_size': 5, 'epochs': 200, 'model__init': 'normal', 'optimizer': 'rmsprop'}\n",
            "0.777778 (0.024455) con {'batch_size': 5, 'epochs': 200, 'model__init': 'uniform', 'optimizer': 'adam'}\n",
            "0.758170 (0.018486) con {'batch_size': 5, 'epochs': 200, 'model__init': 'uniform', 'optimizer': 'rmsprop'}\n",
            "0.745098 (0.000000) con {'batch_size': 5, 'epochs': 200, 'model__init': 'he_normal', 'optimizer': 'adam'}\n",
            "0.732026 (0.018486) con {'batch_size': 5, 'epochs': 200, 'model__init': 'he_normal', 'optimizer': 'rmsprop'}\n",
            "0.751634 (0.009243) con {'batch_size': 10, 'epochs': 100, 'model__init': 'glorot_uniform', 'optimizer': 'adam'}\n",
            "0.738562 (0.024455) con {'batch_size': 10, 'epochs': 100, 'model__init': 'glorot_uniform', 'optimizer': 'rmsprop'}\n",
            "0.758170 (0.009243) con {'batch_size': 10, 'epochs': 100, 'model__init': 'normal', 'optimizer': 'adam'}\n",
            "0.764706 (0.016010) con {'batch_size': 10, 'epochs': 100, 'model__init': 'normal', 'optimizer': 'rmsprop'}\n",
            "0.764706 (0.000000) con {'batch_size': 10, 'epochs': 100, 'model__init': 'uniform', 'optimizer': 'adam'}\n",
            "0.764706 (0.016010) con {'batch_size': 10, 'epochs': 100, 'model__init': 'uniform', 'optimizer': 'rmsprop'}\n",
            "0.745098 (0.000000) con {'batch_size': 10, 'epochs': 100, 'model__init': 'he_normal', 'optimizer': 'adam'}\n",
            "0.758170 (0.009243) con {'batch_size': 10, 'epochs': 100, 'model__init': 'he_normal', 'optimizer': 'rmsprop'}\n",
            "0.771242 (0.024455) con {'batch_size': 10, 'epochs': 150, 'model__init': 'glorot_uniform', 'optimizer': 'adam'}\n",
            "0.764706 (0.042358) con {'batch_size': 10, 'epochs': 150, 'model__init': 'glorot_uniform', 'optimizer': 'rmsprop'}\n",
            "0.777778 (0.033327) con {'batch_size': 10, 'epochs': 150, 'model__init': 'normal', 'optimizer': 'adam'}\n",
            "0.745098 (0.055459) con {'batch_size': 10, 'epochs': 150, 'model__init': 'normal', 'optimizer': 'rmsprop'}\n",
            "0.771242 (0.040290) con {'batch_size': 10, 'epochs': 150, 'model__init': 'uniform', 'optimizer': 'adam'}\n",
            "0.790850 (0.040290) con {'batch_size': 10, 'epochs': 150, 'model__init': 'uniform', 'optimizer': 'rmsprop'}\n",
            "0.790850 (0.036973) con {'batch_size': 10, 'epochs': 150, 'model__init': 'he_normal', 'optimizer': 'adam'}\n",
            "0.764706 (0.055459) con {'batch_size': 10, 'epochs': 150, 'model__init': 'he_normal', 'optimizer': 'rmsprop'}\n",
            "0.764706 (0.016010) con {'batch_size': 10, 'epochs': 200, 'model__init': 'glorot_uniform', 'optimizer': 'adam'}\n",
            "0.758170 (0.009243) con {'batch_size': 10, 'epochs': 200, 'model__init': 'glorot_uniform', 'optimizer': 'rmsprop'}\n",
            "0.777778 (0.048911) con {'batch_size': 10, 'epochs': 200, 'model__init': 'normal', 'optimizer': 'adam'}\n",
            "0.758170 (0.024455) con {'batch_size': 10, 'epochs': 200, 'model__init': 'normal', 'optimizer': 'rmsprop'}\n",
            "0.764706 (0.016010) con {'batch_size': 10, 'epochs': 200, 'model__init': 'uniform', 'optimizer': 'adam'}\n",
            "0.758170 (0.024455) con {'batch_size': 10, 'epochs': 200, 'model__init': 'uniform', 'optimizer': 'rmsprop'}\n",
            "0.771242 (0.009243) con {'batch_size': 10, 'epochs': 200, 'model__init': 'he_normal', 'optimizer': 'adam'}\n",
            "0.745098 (0.000000) con {'batch_size': 10, 'epochs': 200, 'model__init': 'he_normal', 'optimizer': 'rmsprop'}\n",
            "0.764706 (0.000000) con {'batch_size': 15, 'epochs': 100, 'model__init': 'glorot_uniform', 'optimizer': 'adam'}\n",
            "0.738562 (0.036973) con {'batch_size': 15, 'epochs': 100, 'model__init': 'glorot_uniform', 'optimizer': 'rmsprop'}\n",
            "0.764706 (0.016010) con {'batch_size': 15, 'epochs': 100, 'model__init': 'normal', 'optimizer': 'adam'}\n",
            "0.764706 (0.000000) con {'batch_size': 15, 'epochs': 100, 'model__init': 'normal', 'optimizer': 'rmsprop'}\n",
            "0.771242 (0.009243) con {'batch_size': 15, 'epochs': 100, 'model__init': 'uniform', 'optimizer': 'adam'}\n",
            "0.777778 (0.009243) con {'batch_size': 15, 'epochs': 100, 'model__init': 'uniform', 'optimizer': 'rmsprop'}\n",
            "0.738562 (0.024455) con {'batch_size': 15, 'epochs': 100, 'model__init': 'he_normal', 'optimizer': 'adam'}\n",
            "0.738562 (0.009243) con {'batch_size': 15, 'epochs': 100, 'model__init': 'he_normal', 'optimizer': 'rmsprop'}\n",
            "0.764706 (0.042358) con {'batch_size': 15, 'epochs': 150, 'model__init': 'glorot_uniform', 'optimizer': 'adam'}\n",
            "0.758170 (0.024455) con {'batch_size': 15, 'epochs': 150, 'model__init': 'glorot_uniform', 'optimizer': 'rmsprop'}\n",
            "0.758170 (0.024455) con {'batch_size': 15, 'epochs': 150, 'model__init': 'normal', 'optimizer': 'adam'}\n",
            "0.758170 (0.024455) con {'batch_size': 15, 'epochs': 150, 'model__init': 'normal', 'optimizer': 'rmsprop'}\n",
            "0.771242 (0.051464) con {'batch_size': 15, 'epochs': 150, 'model__init': 'uniform', 'optimizer': 'adam'}\n",
            "0.777778 (0.048911) con {'batch_size': 15, 'epochs': 150, 'model__init': 'uniform', 'optimizer': 'rmsprop'}\n",
            "0.725490 (0.016010) con {'batch_size': 15, 'epochs': 150, 'model__init': 'he_normal', 'optimizer': 'adam'}\n",
            "0.738562 (0.097821) con {'batch_size': 15, 'epochs': 150, 'model__init': 'he_normal', 'optimizer': 'rmsprop'}\n",
            "0.764706 (0.016010) con {'batch_size': 15, 'epochs': 200, 'model__init': 'glorot_uniform', 'optimizer': 'adam'}\n",
            "0.745098 (0.000000) con {'batch_size': 15, 'epochs': 200, 'model__init': 'glorot_uniform', 'optimizer': 'rmsprop'}\n",
            "0.777778 (0.033327) con {'batch_size': 15, 'epochs': 200, 'model__init': 'normal', 'optimizer': 'adam'}\n",
            "0.764706 (0.016010) con {'batch_size': 15, 'epochs': 200, 'model__init': 'normal', 'optimizer': 'rmsprop'}\n",
            "0.764706 (0.016010) con {'batch_size': 15, 'epochs': 200, 'model__init': 'uniform', 'optimizer': 'adam'}\n",
            "0.758170 (0.024455) con {'batch_size': 15, 'epochs': 200, 'model__init': 'uniform', 'optimizer': 'rmsprop'}\n",
            "0.738562 (0.009243) con {'batch_size': 15, 'epochs': 200, 'model__init': 'he_normal', 'optimizer': 'adam'}\n",
            "0.745098 (0.016010) con {'batch_size': 15, 'epochs': 200, 'model__init': 'he_normal', 'optimizer': 'rmsprop'}\n"
          ]
        }
      ]
    },
    {
      "cell_type": "code",
      "source": [
        "model_final = grid.best_estimator_\n",
        "model_final.get_params()"
      ],
      "metadata": {
        "id": "kz9Y6SgQsxRq",
        "colab": {
          "base_uri": "https://localhost:8080/"
        },
        "outputId": "82daa314-131b-4668-d890-4f7657da3128"
      },
      "execution_count": 147,
      "outputs": [
        {
          "output_type": "execute_result",
          "data": {
            "text/plain": [
              "{'model': None,\n",
              " 'build_fn': <function __main__.model_optimizer(optimizer='rmsprop', init='glorot_uniform')>,\n",
              " 'warm_start': False,\n",
              " 'random_state': None,\n",
              " 'optimizer': 'rmsprop',\n",
              " 'loss': None,\n",
              " 'metrics': None,\n",
              " 'batch_size': 5,\n",
              " 'validation_batch_size': None,\n",
              " 'verbose': 0,\n",
              " 'callbacks': None,\n",
              " 'validation_split': 0.0,\n",
              " 'shuffle': True,\n",
              " 'run_eagerly': False,\n",
              " 'epochs': 150,\n",
              " 'model__init': 'uniform',\n",
              " 'class_weight': None}"
            ]
          },
          "metadata": {},
          "execution_count": 147
        }
      ]
    },
    {
      "cell_type": "markdown",
      "source": [
        "#**Prediction**\n",
        "---"
      ],
      "metadata": {
        "id": "hcVbVLPEs3be"
      }
    },
    {
      "cell_type": "code",
      "source": [
        "y_pred = model_final.predict(X_test)"
      ],
      "metadata": {
        "id": "NwlZJUQ-s7hZ"
      },
      "execution_count": 148,
      "outputs": []
    },
    {
      "cell_type": "code",
      "source": [
        "matrix = consufion_matrix(y_test, y_pred, **{'Muere':1, 'No murio':0})"
      ],
      "metadata": {
        "id": "hs3Bl1VgtWyZ",
        "colab": {
          "base_uri": "https://localhost:8080/",
          "height": 475
        },
        "outputId": "63c03867-2d8b-457b-9b06-7390bbd5d54e"
      },
      "execution_count": 149,
      "outputs": [
        {
          "output_type": "display_data",
          "data": {
            "text/plain": [
              "<Figure size 600x500 with 2 Axes>"
            ],
            "image/png": "[encoded data removed]"
          },
          "metadata": {}
        }
      ]
    },
    {
      "cell_type": "code",
      "source": [
        "accuracy, kappa, precision, recall, f1_score, specificity = metricas(y_test, y_pred, matrix)"
      ],
      "metadata": {
        "id": "ptHDhl3OuEya",
        "colab": {
          "base_uri": "https://localhost:8080/"
        },
        "outputId": "d5c5e945-f7e2-4bcc-cc95-a67d0a074755"
      },
      "execution_count": 150,
      "outputs": [
        {
          "output_type": "stream",
          "name": "stdout",
          "text": [
            "Accuracy  :   0.745\n",
            "Kappa     :   0.252\n",
            "predicción enfermos\n",
            "Precision:   0.542\n",
            "Recall    :   0.317\n",
            "Specificity:   0.902\n",
            "F1-score   :   0.400\n"
          ]
        }
      ]
    },
    {
      "cell_type": "markdown",
      "source": [
        "- El modelo optimizado tiene una mejora casi imperceptible en la sensibilidad para la detección de casos con cancer, aunque la metrica no tiene un rendimiento alto para un caso tán critico como la detección de una enfermedad, ademas sigue teniendo un porcentaje de error tipo 2, demasiados falsos negativos."
      ],
      "metadata": {
        "id": "mxfvPufuFuSG"
      }
    },
    {
      "cell_type": "code",
      "source": [
        "pos_prob = model_final.predict_proba(X_test)"
      ],
      "metadata": {
        "id": "7Cft02NRHnj3"
      },
      "execution_count": 151,
      "outputs": []
    },
    {
      "cell_type": "code",
      "source": [
        "no_skill = len(y[y==1]) / len(y)\n",
        "plt.plot([0, 1], [no_skill, no_skill], linestyle='--', label='No Skill')\n",
        "precision, recall, _ = metrics.precision_recall_curve(y_test, y_prob)\n",
        "plt.plot(recall, precision, marker='.', label='Multi Layer Perceptron Base')\n",
        "auc_score_normal = metrics.auc(recall, precision)\n",
        "precision, recall, _ = metrics.precision_recall_curve(y_test, pos_prob[:,1])\n",
        "plt.plot(recall, precision, marker='.', label='Multi Layer Perceptron optimizer')\n",
        "auc_score_optimizer = metrics.auc(recall, precision)\n",
        "plt.xlabel('Recall')\n",
        "plt.ylabel('Precision')\n",
        "plt.legend()\n",
        "plt.show()"
      ],
      "metadata": {
        "id": "7jDVJmIKGDLa",
        "colab": {
          "base_uri": "https://localhost:8080/",
          "height": 458
        },
        "outputId": "27b0cada-ca74-46fa-ab79-83901ba88f08"
      },
      "execution_count": 152,
      "outputs": [
        {
          "output_type": "display_data",
          "data": {
            "text/plain": [
              "<Figure size 640x480 with 1 Axes>"
            ],
            "image/png": "[encoded data removed]"
          },
          "metadata": {}
        }
      ]
    },
    {
      "cell_type": "code",
      "source": [
        "print('Multi Layer Perceptron Normal PR AUC: %.3f' % auc_score_normal)\n",
        "print('Multi Layer Perceptron Optimizer PR AUC: %.3f' % auc_score_optimizer)"
      ],
      "metadata": {
        "id": "ZNCHObU5IlE3",
        "colab": {
          "base_uri": "https://localhost:8080/"
        },
        "outputId": "b81ae820-1580-490a-c1d8-fb1e5adbf721"
      },
      "execution_count": 153,
      "outputs": [
        {
          "output_type": "stream",
          "name": "stdout",
          "text": [
            "Multi Layer Perceptron Normal PR AUC: 0.448\n",
            "Multi Layer Perceptron Optimizer PR AUC: 0.454\n"
          ]
        }
      ]
    },
    {
      "cell_type": "markdown",
      "source": [
        "- El modelo `optimizado` no tiene un rendimiento deseado, incluso el modelo `base` lo supera, ya que no logra tener una compensasión ideal entre la precisión y el recall. La causa pueden ser muchas, más falta de datos, una estructura ineficiente, puede que las redes neuronales no sean un modelo indicado, más experimentos en la optimización de parametros, entre otros.\n",
        "\n"
      ],
      "metadata": {
        "id": "n0ZyrwsyIIhU"
      }
    }
  ]
}