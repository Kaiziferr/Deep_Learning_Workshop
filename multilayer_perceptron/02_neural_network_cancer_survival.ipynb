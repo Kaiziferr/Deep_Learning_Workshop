{
  "nbformat": 4,
  "nbformat_minor": 0,
  "metadata": {
    "colab": {
      "name": "02_neural_network_cancer_survival.ipynb",
      "provenance": [],
      "collapsed_sections": [],
      "authorship_tag": "ABX9TyPm/oBDTmply09cBo2+hiqc",
      "include_colab_link": true
    },
    "kernelspec": {
      "name": "python3",
      "display_name": "Python 3"
    },
    "language_info": {
      "name": "python"
    }
  },
  "cells": [
    {
      "cell_type": "markdown",
      "metadata": {
        "id": "view-in-github",
        "colab_type": "text"
      },
      "source": [
        "<a href=\"https://colab.research.google.com/github/Kaiziferr/deep_learning/blob/master/multilayer_perceptron/02_neural_network_cancer_survival.ipynb\" target=\"_parent\"><img src=\"https://colab.research.google.com/assets/colab-badge.svg\" alt=\"Open In Colab\"/></a>"
      ]
    },
    {
      "cell_type": "code",
      "execution_count": 1,
      "metadata": {
        "id": "gVZYjdisG2xg"
      },
      "outputs": [],
      "source": [
        "import pandas as pd\n",
        "import numpy as np\n",
        "import matplotlib.pyplot as plt\n",
        "import seaborn as sns\n",
        "\n",
        "from sklearn.model_selection import train_test_split, StratifiedKFold\n",
        "\n",
        "import tensorflow\n",
        "import keras\n",
        "\n",
        "from keras.models import Sequential\n",
        "from keras.layers import Dense\n",
        "from sklearn import metrics"
      ]
    },
    {
      "cell_type": "markdown",
      "source": [
        "# **Descripcion**\n",
        "---\n",
        "\n",
        "\n",
        "\n",
        "Utilizando el conjunto de datos de supervivencia de cancer se plicara cross validation"
      ],
      "metadata": {
        "id": "tuu60E9iHDOV"
      }
    },
    {
      "cell_type": "markdown",
      "source": [
        "# **Objetivo**\n",
        "---\n",
        "Predecir pacientes con más posibilidades de morir.\n"
      ],
      "metadata": {
        "id": "XzzVzJ4jH7L0"
      }
    },
    {
      "cell_type": "markdown",
      "source": [
        "# **Dicionario de datos**\n",
        "---\n",
        "Conjunto de datos de supervivencia de Haberman\n",
        "\n",
        "- `Age`: Edad del paciente en el momento de la operación \n",
        "- `Year`: Año de operación del paciente \n",
        "- `Nodes`: Número de ganglios axilares positivos detectados\n",
        "- `status`: Estado de supervivencia\n",
        "-- 1  paciente sobrevivió 5 años o más\n",
        "-- 2  paciente murió dentro de los 5 años\n"
      ],
      "metadata": {
        "id": "_xJ_gUZ2IgOE"
      }
    },
    {
      "cell_type": "markdown",
      "source": [
        "# **Data**\n",
        "---\n",
        "\n"
      ],
      "metadata": {
        "id": "9j4qjiaRJ_pV"
      }
    },
    {
      "cell_type": "code",
      "source": [
        "data = pd.read_csv('https://raw.githubusercontent.com/jbrownlee/Datasets/master/haberman.csv', header=None, names=['age', 'year', 'node', 'status'])\n",
        "data.head(5)"
      ],
      "metadata": {
        "colab": {
          "base_uri": "https://localhost:8080/",
          "height": 206
        },
        "id": "Tp9pcDkMJ-21",
        "outputId": "9915bb83-f0fd-4556-ac55-337f59763a39"
      },
      "execution_count": 2,
      "outputs": [
        {
          "output_type": "execute_result",
          "data": {
            "text/plain": [
              "   age  year  node  status\n",
              "0   30    64     1       1\n",
              "1   30    62     3       1\n",
              "2   30    65     0       1\n",
              "3   31    59     2       1\n",
              "4   31    65     4       1"
            ],
            "text/html": [
              "\n",
              "  <div id=\"df-8223b6c6-b649-4a3c-9f02-a6e9100dd538\">\n",
              "    <div class=\"colab-df-container\">\n",
              "      <div>\n",
              "<style scoped>\n",
              "    .dataframe tbody tr th:only-of-type {\n",
              "        vertical-align: middle;\n",
              "    }\n",
              "\n",
              "    .dataframe tbody tr th {\n",
              "        vertical-align: top;\n",
              "    }\n",
              "\n",
              "    .dataframe thead th {\n",
              "        text-align: right;\n",
              "    }\n",
              "</style>\n",
              "<table border=\"1\" class=\"dataframe\">\n",
              "  <thead>\n",
              "    <tr style=\"text-align: right;\">\n",
              "      <th></th>\n",
              "      <th>age</th>\n",
              "      <th>year</th>\n",
              "      <th>node</th>\n",
              "      <th>status</th>\n",
              "    </tr>\n",
              "  </thead>\n",
              "  <tbody>\n",
              "    <tr>\n",
              "      <th>0</th>\n",
              "      <td>30</td>\n",
              "      <td>64</td>\n",
              "      <td>1</td>\n",
              "      <td>1</td>\n",
              "    </tr>\n",
              "    <tr>\n",
              "      <th>1</th>\n",
              "      <td>30</td>\n",
              "      <td>62</td>\n",
              "      <td>3</td>\n",
              "      <td>1</td>\n",
              "    </tr>\n",
              "    <tr>\n",
              "      <th>2</th>\n",
              "      <td>30</td>\n",
              "      <td>65</td>\n",
              "      <td>0</td>\n",
              "      <td>1</td>\n",
              "    </tr>\n",
              "    <tr>\n",
              "      <th>3</th>\n",
              "      <td>31</td>\n",
              "      <td>59</td>\n",
              "      <td>2</td>\n",
              "      <td>1</td>\n",
              "    </tr>\n",
              "    <tr>\n",
              "      <th>4</th>\n",
              "      <td>31</td>\n",
              "      <td>65</td>\n",
              "      <td>4</td>\n",
              "      <td>1</td>\n",
              "    </tr>\n",
              "  </tbody>\n",
              "</table>\n",
              "</div>\n",
              "      <button class=\"colab-df-convert\" onclick=\"convertToInteractive('df-8223b6c6-b649-4a3c-9f02-a6e9100dd538')\"\n",
              "              title=\"Convert this dataframe to an interactive table.\"\n",
              "              style=\"display:none;\">\n",
              "        \n",
              "  <svg xmlns=\"http://www.w3.org/2000/svg\" height=\"24px\"viewBox=\"0 0 24 24\"\n",
              "       width=\"24px\">\n",
              "    <path d=\"M0 0h24v24H0V0z\" fill=\"none\"/>\n",
              "    <path d=\"M18.56 5.44l.94 2.06.94-2.06 2.06-.94-2.06-.94-.94-2.06-.94 2.06-2.06.94zm-11 1L8.5 8.5l.94-2.06 2.06-.94-2.06-.94L8.5 2.5l-.94 2.06-2.06.94zm10 10l.94 2.06.94-2.06 2.06-.94-2.06-.94-.94-2.06-.94 2.06-2.06.94z\"/><path d=\"M17.41 7.96l-1.37-1.37c-.4-.4-.92-.59-1.43-.59-.52 0-1.04.2-1.43.59L10.3 9.45l-7.72 7.72c-.78.78-.78 2.05 0 2.83L4 21.41c.39.39.9.59 1.41.59.51 0 1.02-.2 1.41-.59l7.78-7.78 2.81-2.81c.8-.78.8-2.07 0-2.86zM5.41 20L4 18.59l7.72-7.72 1.47 1.35L5.41 20z\"/>\n",
              "  </svg>\n",
              "      </button>\n",
              "      \n",
              "  <style>\n",
              "    .colab-df-container {\n",
              "      display:flex;\n",
              "      flex-wrap:wrap;\n",
              "      gap: 12px;\n",
              "    }\n",
              "\n",
              "    .colab-df-convert {\n",
              "      background-color: #E8F0FE;\n",
              "      border: none;\n",
              "      border-radius: 50%;\n",
              "      cursor: pointer;\n",
              "      display: none;\n",
              "      fill: #1967D2;\n",
              "      height: 32px;\n",
              "      padding: 0 0 0 0;\n",
              "      width: 32px;\n",
              "    }\n",
              "\n",
              "    .colab-df-convert:hover {\n",
              "      background-color: #E2EBFA;\n",
              "      box-shadow: 0px 1px 2px rgba(60, 64, 67, 0.3), 0px 1px 3px 1px rgba(60, 64, 67, 0.15);\n",
              "      fill: #174EA6;\n",
              "    }\n",
              "\n",
              "    [theme=dark] .colab-df-convert {\n",
              "      background-color: #3B4455;\n",
              "      fill: #D2E3FC;\n",
              "    }\n",
              "\n",
              "    [theme=dark] .colab-df-convert:hover {\n",
              "      background-color: #434B5C;\n",
              "      box-shadow: 0px 1px 3px 1px rgba(0, 0, 0, 0.15);\n",
              "      filter: drop-shadow(0px 1px 2px rgba(0, 0, 0, 0.3));\n",
              "      fill: #FFFFFF;\n",
              "    }\n",
              "  </style>\n",
              "\n",
              "      <script>\n",
              "        const buttonEl =\n",
              "          document.querySelector('#df-8223b6c6-b649-4a3c-9f02-a6e9100dd538 button.colab-df-convert');\n",
              "        buttonEl.style.display =\n",
              "          google.colab.kernel.accessAllowed ? 'block' : 'none';\n",
              "\n",
              "        async function convertToInteractive(key) {\n",
              "          const element = document.querySelector('#df-8223b6c6-b649-4a3c-9f02-a6e9100dd538');\n",
              "          const dataTable =\n",
              "            await google.colab.kernel.invokeFunction('convertToInteractive',\n",
              "                                                     [key], {});\n",
              "          if (!dataTable) return;\n",
              "\n",
              "          const docLinkHtml = 'Like what you see? Visit the ' +\n",
              "            '<a target=\"_blank\" href=https://colab.research.google.com/notebooks/data_table.ipynb>data table notebook</a>'\n",
              "            + ' to learn more about interactive tables.';\n",
              "          element.innerHTML = '';\n",
              "          dataTable['output_type'] = 'display_data';\n",
              "          await google.colab.output.renderOutput(dataTable, element);\n",
              "          const docLink = document.createElement('div');\n",
              "          docLink.innerHTML = docLinkHtml;\n",
              "          element.appendChild(docLink);\n",
              "        }\n",
              "      </script>\n",
              "    </div>\n",
              "  </div>\n",
              "  "
            ]
          },
          "metadata": {},
          "execution_count": 2
        }
      ]
    },
    {
      "cell_type": "code",
      "source": [
        "data.info()"
      ],
      "metadata": {
        "colab": {
          "base_uri": "https://localhost:8080/"
        },
        "id": "TceEr6N6H6nU",
        "outputId": "87305447-6536-415d-f1a7-2d720c527253"
      },
      "execution_count": 3,
      "outputs": [
        {
          "output_type": "stream",
          "name": "stdout",
          "text": [
            "<class 'pandas.core.frame.DataFrame'>\n",
            "RangeIndex: 306 entries, 0 to 305\n",
            "Data columns (total 4 columns):\n",
            " #   Column  Non-Null Count  Dtype\n",
            "---  ------  --------------  -----\n",
            " 0   age     306 non-null    int64\n",
            " 1   year    306 non-null    int64\n",
            " 2   node    306 non-null    int64\n",
            " 3   status  306 non-null    int64\n",
            "dtypes: int64(4)\n",
            "memory usage: 9.7 KB\n"
          ]
        }
      ]
    },
    {
      "cell_type": "markdown",
      "source": [
        "- Todas las variables son de tipo numerico\n",
        "- No hay valores nulos"
      ],
      "metadata": {
        "id": "sqLU81CiL1HN"
      }
    },
    {
      "cell_type": "code",
      "source": [
        "data['status'].replace({1:0}, inplace=True)\n",
        "data['status'].replace({2:1}, inplace=True)"
      ],
      "metadata": {
        "id": "SGXSFUmaMeHe"
      },
      "execution_count": 4,
      "outputs": []
    },
    {
      "cell_type": "markdown",
      "source": [
        "# **Split**\n",
        "---"
      ],
      "metadata": {
        "id": "ddFOHKPbMEXW"
      }
    },
    {
      "cell_type": "code",
      "source": [
        "data_values = data.values\n",
        "X = data_values[:, :3]\n",
        "y = data_values[:,3]"
      ],
      "metadata": {
        "id": "i-fkMlsGMD3Y"
      },
      "execution_count": 5,
      "outputs": []
    },
    {
      "cell_type": "code",
      "source": [
        "def plot_bars(data: np.ndarray, title: str= 'feature', x_size:int=6, y_size:int=4, font_size:int=15, x_label:str='churm',y_label:str='count', c_n_churm = '0', c_churm = '1')->None:\n",
        "  fig, ax = plt.subplots(figsize = (x_size, y_size))\n",
        "  fig.suptitle(f'Count plot {title}', fontsize = font_size)\n",
        "  sns.countplot(x = data, ax = ax)\n",
        "  _, data_target = np.unique(data, return_counts=True)\n",
        "  len_data = data.shape[0]\n",
        "  pe = '{0:.2f}'.format(data_target[1]/len_data)\n",
        "  ps = '{0:.2f}'.format(data_target[0]/len_data)\n",
        "  ax.set_xticklabels([f'{c_n_churm} \\n {ps}', f'{c_churm} \\n{pe}'])\n",
        "  ax.set(xlabel=x_label, ylabel=y_label)\n",
        "  fig.show()"
      ],
      "metadata": {
        "id": "SayIgeFsILlO"
      },
      "execution_count": 6,
      "outputs": []
    },
    {
      "cell_type": "code",
      "source": [
        "plot_bars(y, title = 'rate cancer supervise', c_churm='Dead', c_n_churm='live')"
      ],
      "metadata": {
        "colab": {
          "base_uri": "https://localhost:8080/",
          "height": 320
        },
        "id": "KGhJih5NIdt0",
        "outputId": "2af83344-bbe8-4d5e-fce6-475c71d4ecc1"
      },
      "execution_count": 7,
      "outputs": [
        {
          "output_type": "display_data",
          "data": {
            "text/plain": [
              "<Figure size 432x288 with 1 Axes>"
            ],
            "image/png": "[encoded data removed]"
          },
          "metadata": {
            "needs_background": "light"
          }
        }
      ]
    },
    {
      "cell_type": "markdown",
      "source": [
        "Hay un serio desbalance en el conjunto de datos del 74% registros son para los pacientes que vivieron y 26% son los pacientes que murireron.\n"
      ],
      "metadata": {
        "id": "XHygxobPJpLB"
      }
    },
    {
      "cell_type": "code",
      "source": [
        "X_train, X_test, y_train, y_test = train_test_split(X, y, test_size=0.5, random_state=300, shuffle=True, stratify=y)"
      ],
      "metadata": {
        "id": "89nAXxuHK7Pi"
      },
      "execution_count": 8,
      "outputs": []
    },
    {
      "cell_type": "markdown",
      "source": [
        "- Como las categorías se encuentran desbalanceadas, se procede a realizar una partición estratificada."
      ],
      "metadata": {
        "id": "7CvDVB2ikhkI"
      }
    },
    {
      "cell_type": "markdown",
      "source": [
        "# **Model**\n",
        "---"
      ],
      "metadata": {
        "id": "eAeImxChLXQ_"
      }
    },
    {
      "cell_type": "markdown",
      "source": [
        "## **Model Base**\n",
        "---"
      ],
      "metadata": {
        "id": "0tPhoqw_LXPt"
      }
    },
    {
      "cell_type": "code",
      "source": [
        "def model_base():\n",
        "  model = Sequential()\n",
        "  model.add(Dense(10, input_dim = 3, activation='relu', kernel_initializer='glorot_uniform'))\n",
        "  model.add(Dense(1, activation='sigmoid', kernel_initializer='glorot_uniform'))\n",
        "  model.compile(loss='binary_crossentropy', optimizer='adam', metrics=['accuracy'])\n",
        "  return model"
      ],
      "metadata": {
        "id": "q3iFFqkVJ38p"
      },
      "execution_count": 9,
      "outputs": []
    },
    {
      "cell_type": "code",
      "source": [
        "model = model_base()\n",
        "history = model.fit(X_train, y_train, validation_data=(X_test, y_test), epochs = 300, batch_size=16, verbose = 0)"
      ],
      "metadata": {
        "id": "PJwipp3xMVDd"
      },
      "execution_count": 10,
      "outputs": []
    },
    {
      "cell_type": "code",
      "source": [
        "model.summary()"
      ],
      "metadata": {
        "colab": {
          "base_uri": "https://localhost:8080/"
        },
        "id": "aH3bHrToNBHy",
        "outputId": "5a1022e7-4f80-4dd5-e032-959f5356ba02"
      },
      "execution_count": 11,
      "outputs": [
        {
          "output_type": "stream",
          "name": "stdout",
          "text": [
            "Model: \"sequential\"\n",
            "_________________________________________________________________\n",
            " Layer (type)                Output Shape              Param #   \n",
            "=================================================================\n",
            " dense (Dense)               (None, 10)                40        \n",
            "                                                                 \n",
            " dense_1 (Dense)             (None, 1)                 11        \n",
            "                                                                 \n",
            "=================================================================\n",
            "Total params: 51\n",
            "Trainable params: 51\n",
            "Non-trainable params: 0\n",
            "_________________________________________________________________\n"
          ]
        }
      ]
    },
    {
      "cell_type": "markdown",
      "source": [
        "# **Curvas de aprendizaje de optimización model base**\n",
        "---"
      ],
      "metadata": {
        "id": "vfLeUjG4NPzJ"
      }
    },
    {
      "cell_type": "code",
      "source": [
        "def optimization_learning_curves(history: keras.callbacks.History, metrica, title: str= '', x_size:int=8, y_size:int=4, font_size:int=15, x_label:str='Epoch',y_label:str='Loss')->None:\n",
        "  fig, ax = plt.subplots(figsize = (x_size, y_size))\n",
        "  fig.suptitle(title, fontsize = font_size)\n",
        "  ax.plot(history.history[metrica])\n",
        "  ax.plot(history.history[f'val_{metrica}'])\n",
        "  ax.set_xlabel(x_label, size = 12)\n",
        "  ax.set_ylabel(y_label, size = 12)\n",
        "  ax.legend(['Train', 'Test'], loc = 'upper left', fontsize = 12)\n",
        "  ax.tick_params(labelsize = 12)\n",
        "  fig.show()"
      ],
      "metadata": {
        "id": "Fx-ifHJFNUEh"
      },
      "execution_count": 12,
      "outputs": []
    },
    {
      "cell_type": "code",
      "source": [
        "optimization_learning_curves(history, metrica='loss', title='Loss vs Val Loss')"
      ],
      "metadata": {
        "colab": {
          "base_uri": "https://localhost:8080/",
          "height": 314
        },
        "id": "fSaqTlLfO7nz",
        "outputId": "d9903de2-db3b-4bcb-d8fc-787d6a379b09"
      },
      "execution_count": 13,
      "outputs": [
        {
          "output_type": "display_data",
          "data": {
            "text/plain": [
              "<Figure size 576x288 with 1 Axes>"
            ],
            "image/png": "[encoded data removed]"
          },
          "metadata": {
            "needs_background": "light"
          }
        }
      ]
    },
    {
      "cell_type": "markdown",
      "source": [
        "La perdida de entrenamiento y validación disminuyen hasta el punto de estabilida durante 300 epocas, con una brecha de generailización casi inperceptible."
      ],
      "metadata": {
        "id": "WmUducoqQoNe"
      }
    },
    {
      "cell_type": "markdown",
      "source": [
        "# **Predictions**\n",
        "---"
      ],
      "metadata": {
        "id": "HemuhRI2RX9F"
      }
    },
    {
      "cell_type": "code",
      "source": [
        "y_pred = (model.predict(X_test)>0.5).astype('int32')\n",
        "y_pred = np.reshape(y_pred, y_pred.shape[0])\n",
        "y_pred"
      ],
      "metadata": {
        "colab": {
          "base_uri": "https://localhost:8080/"
        },
        "id": "id-k3Rv-WEyF",
        "outputId": "82254812-9ec2-4700-9c36-cf0e6ec0e069"
      },
      "execution_count": 14,
      "outputs": [
        {
          "output_type": "execute_result",
          "data": {
            "text/plain": [
              "array([0, 0, 0, 0, 0, 0, 0, 0, 0, 0, 1, 0, 0, 0, 0, 0, 0, 0, 0, 0, 0, 0,\n",
              "       0, 0, 1, 0, 0, 0, 0, 0, 0, 0, 0, 0, 1, 0, 0, 0, 0, 0, 0, 0, 0, 0,\n",
              "       0, 0, 0, 0, 0, 0, 1, 0, 0, 0, 0, 1, 0, 0, 0, 0, 0, 0, 0, 0, 0, 0,\n",
              "       0, 0, 0, 0, 0, 0, 0, 0, 0, 0, 0, 0, 0, 0, 0, 0, 0, 0, 0, 0, 0, 0,\n",
              "       0, 0, 0, 0, 0, 0, 0, 0, 1, 1, 0, 0, 0, 0, 0, 0, 0, 0, 0, 0, 0, 0,\n",
              "       0, 0, 0, 0, 0, 0, 1, 0, 0, 0, 0, 0, 0, 0, 0, 0, 0, 0, 0, 0, 0, 0,\n",
              "       0, 0, 0, 0, 0, 0, 0, 0, 0, 0, 0, 0, 0, 0, 0, 0, 0, 0, 0, 0, 0],\n",
              "      dtype=int32)"
            ]
          },
          "metadata": {},
          "execution_count": 14
        }
      ]
    },
    {
      "cell_type": "code",
      "source": [
        "def consufion_matrix(validation: np.ndarray, prediction:np.ndarray, churm:str='churm', no_churm:str='no_churm',  title: str= 'Matriz de confusion', x_size:int=6, y_size:int=5)->np.ndarray:\n",
        "  matrix = metrics.confusion_matrix(validation, prediction)\n",
        "  fig, ax = plt.subplots(nrows= 1, ncols=  1, figsize = (x_size,y_size))\n",
        "  sns.heatmap(matrix, annot=True, ax = ax, cmap=plt.cm.Blues, fmt = 'g', annot_kws={'size': 13})\n",
        "  ax.set_title(title, size = 13)\n",
        "  ax.xaxis.set_ticklabels([no_churm, churm])\n",
        "  ax.yaxis.set_ticklabels([no_churm, churm])\n",
        "  ax.tick_params(labelsize = 13)\n",
        "  fig.show()\n",
        "  return matrix"
      ],
      "metadata": {
        "id": "77Z-QDGEWbIG"
      },
      "execution_count": 15,
      "outputs": []
    },
    {
      "cell_type": "code",
      "source": [
        "matrix = consufion_matrix(y_test, y_pred,'Dead', 'Live')"
      ],
      "metadata": {
        "colab": {
          "base_uri": "https://localhost:8080/",
          "height": 339
        },
        "id": "gNS_aGr9WbHH",
        "outputId": "97621f26-dd39-434b-9801-6a52ae421f1e"
      },
      "execution_count": 16,
      "outputs": [
        {
          "output_type": "display_data",
          "data": {
            "text/plain": [
              "<Figure size 432x360 with 2 Axes>"
            ],
            "image/png": "[encoded data removed]"
          },
          "metadata": {
            "needs_background": "light"
          }
        }
      ]
    },
    {
      "cell_type": "markdown",
      "source": [
        "- A partir de la matriz, el modelo tiene problemas para  detectar pacientes con posibilidades de morir en 5 años, ya que hay pocos verdaderos positivos."
      ],
      "metadata": {
        "id": "64aee_bUcH3W"
      }
    },
    {
      "cell_type": "code",
      "source": [
        "# Metricas\n",
        "def metricas(validation: np.ndarray, prediction:np.ndarray, matrix:np.ndarray, label:list=[1], label_title:str='Target')->None:\n",
        "  print(f'Accuracy  :   {metrics.accuracy_score(validation, prediction)}')\n",
        "  print(f'Kappa     :   {metrics.cohen_kappa_score(validation, prediction)}')\n",
        "  print(f'predicción {label_title}')\n",
        "  print(f'Precision:   {metrics.precision_score(validation, prediction, labels=label, average=\"macro\")}')\n",
        "  print(f'Recall    :   {metrics.recall_score(validation, prediction, labels=label, average=\"macro\")}')\n",
        "\n",
        "  VN = matrix[0,0]\n",
        "  FP = matrix[0,1]\n",
        "  specificity = VN/(VN+FP)\n",
        "\n",
        "  print(f'Specificity:   {specificity}')\n",
        "  print(f'F1-score   :   {metrics.f1_score(validation, prediction, labels=label, average=\"macro\")}' )"
      ],
      "metadata": {
        "id": "PDfIquppWpYG"
      },
      "execution_count": 17,
      "outputs": []
    },
    {
      "cell_type": "code",
      "source": [
        "metricas(y_test, y_pred, matrix, label_title='probabilidad de morir en 5 años')"
      ],
      "metadata": {
        "colab": {
          "base_uri": "https://localhost:8080/"
        },
        "id": "T-TjQ8GFcpHS",
        "outputId": "a98369bc-ac39-4199-c359-31feb9cecef9"
      },
      "execution_count": 18,
      "outputs": [
        {
          "output_type": "stream",
          "name": "stdout",
          "text": [
            "Accuracy  :   0.7450980392156863\n",
            "Kappa     :   0.12775909954684994\n",
            "predicción probabilidad de morir en 5 años\n",
            "Precision:   0.625\n",
            "Recall    :   0.12195121951219512\n",
            "Specificity:   0.9732142857142857\n",
            "F1-score   :   0.20408163265306123\n"
          ]
        }
      ]
    },
    {
      "cell_type": "markdown",
      "source": [
        "- La sensibilidad es pesima, el conjunto de datos es muy pequeñ o el modelo no es el indicado, cabe resaltar que no se ha tratado la red, ya que la idea es experimentar con datos."
      ],
      "metadata": {
        "id": "mUhYm-vWgO1v"
      }
    },
    {
      "cell_type": "code",
      "source": [
        "y_prob = model.predict(X_test)\n",
        "pos_prob = np.reshape(y_prob, y_prob.shape[0])"
      ],
      "metadata": {
        "id": "stMFhJEacpGH"
      },
      "execution_count": 19,
      "outputs": []
    },
    {
      "cell_type": "code",
      "source": [
        "def precision_recall(y:np.ndarray, prediction_prob:np.ndarray, validation:np.ndarray)->float:\n",
        "  no_skill = len(y[y==1]) / len(y)\n",
        "  plt.plot([0, 1], [no_skill, no_skill], linestyle='--', label='No Skill')\n",
        "  precision, recall, _ = metrics.precision_recall_curve(validation, prediction_prob)\n",
        "  plt.plot(recall, precision, marker='.', label='Multi Layer Perceptron')\n",
        "  plt.xlabel('Recall')\n",
        "  plt.ylabel('Precision')\n",
        "  plt.legend()\n",
        "  auc_score = metrics.auc(recall, precision)\n",
        "  plt.show()\n",
        "  return auc_score"
      ],
      "metadata": {
        "id": "spHAZF1S3u9G"
      },
      "execution_count": 20,
      "outputs": []
    },
    {
      "cell_type": "code",
      "source": [
        "auc_score = precision_recall(y, pos_prob, y_test)"
      ],
      "metadata": {
        "colab": {
          "base_uri": "https://localhost:8080/",
          "height": 279
        },
        "id": "Mo2ND_BK3yd0",
        "outputId": "14fbb3ea-f302-4eae-af8d-d2d8772094dd"
      },
      "execution_count": 21,
      "outputs": [
        {
          "output_type": "display_data",
          "data": {
            "text/plain": [
              "<Figure size 432x288 with 1 Axes>"
            ],
            "image/png": "[encoded data removed]"
          },
          "metadata": {
            "needs_background": "light"
          }
        }
      ]
    },
    {
      "cell_type": "code",
      "source": [
        "print('Multi Layer Perceptron PR AUC: %.3f' % auc_score)"
      ],
      "metadata": {
        "colab": {
          "base_uri": "https://localhost:8080/"
        },
        "id": "UoPZGMC14Hgg",
        "outputId": "630f3d0e-3a53-4b31-d37a-c2e0937e1f07"
      },
      "execution_count": 22,
      "outputs": [
        {
          "output_type": "stream",
          "name": "stdout",
          "text": [
            "Multi Layer Perceptron PR AUC: 0.473\n"
          ]
        }
      ]
    },
    {
      "cell_type": "markdown",
      "source": [
        "- Acorde al area bajo la curva entre la precisión y la sensibilidad es pesimo no superando el modelo **sin habilidad**\n",
        "- Es posible que con más datos y una estructura más amplia el modelo pueda mejorar su capacidad de predicción para detectar pacientes con diabetes.\n",
        "- No se ha estandarizado los datos, puede que tambien influya ."
      ],
      "metadata": {
        "id": "tMOfWBe1A4Kj"
      }
    },
    {
      "cell_type": "markdown",
      "source": [
        "# **Cross Validation**\n",
        "---"
      ],
      "metadata": {
        "id": "GrbsWOb6B6IR"
      }
    },
    {
      "cell_type": "code",
      "source": [
        "kfold = StratifiedKFold(n_splits=10, shuffle=True)\n",
        "\n",
        "cv_score_loss_train = []\n",
        "cv_score_loss_test = []\n",
        "cv_score_accuracy_train = []\n",
        "cv_score_accuracy_test = []\n",
        "\n",
        "for train, test in kfold.split(X, y):\n",
        "  model = model_base()\n",
        "  history = model.fit(X[train], y[train], validation_data=(X[test], y[test]), batch_size=16, epochs=300, verbose = 0)\n",
        "  loss_train, accuracy_train = model.evaluate(X[train], y[train], verbose=0)\n",
        "  loss_test, accuracy_test = model.evaluate(X[test], y[test], verbose=0)\n",
        "  cv_score_loss_train.append(loss_train)\n",
        "  cv_score_loss_test.append(loss_test)\n",
        "  cv_score_accuracy_train.append(accuracy_train)\n",
        "  cv_score_accuracy_test.append(accuracy_test)\n",
        "  print('======================================================================')\n",
        "  print('loss: %.3f accuracy: %.3f val loss: %.3f val accuracy: %.3f' % (loss_train * 100, accuracy_train * 100, loss_test * 100, accuracy_test * 100))\n",
        "\n"
      ],
      "metadata": {
        "colab": {
          "base_uri": "https://localhost:8080/"
        },
        "id": "AFid6hLjB-MU",
        "outputId": "6a1c9463-9164-459d-ca39-88c560bede0d"
      },
      "execution_count": 23,
      "outputs": [
        {
          "output_type": "stream",
          "name": "stdout",
          "text": [
            "======================================================================\n",
            "loss: 53.950 accuracy: 74.182 val loss: 52.596 val accuracy: 74.194\n",
            "======================================================================\n",
            "loss: 52.280 accuracy: 77.091 val loss: 53.879 val accuracy: 70.968\n",
            "======================================================================\n",
            "loss: 53.566 accuracy: 73.818 val loss: 53.702 val accuracy: 77.419\n",
            "======================================================================\n",
            "loss: 51.003 accuracy: 77.091 val loss: 58.760 val accuracy: 70.968\n",
            "======================================================================\n",
            "loss: 53.494 accuracy: 73.818 val loss: 57.053 val accuracy: 77.419\n",
            "======================================================================\n",
            "loss: 52.399 accuracy: 77.091 val loss: 52.483 val accuracy: 74.194\n",
            "======================================================================\n",
            "loss: 53.591 accuracy: 75.362 val loss: 53.075 val accuracy: 76.667\n",
            "======================================================================\n",
            "loss: 50.678 accuracy: 76.449 val loss: 54.503 val accuracy: 73.333\n",
            "======================================================================\n",
            "loss: 50.823 accuracy: 77.899 val loss: 58.754 val accuracy: 70.000\n",
            "======================================================================\n",
            "loss: 54.465 accuracy: 74.275 val loss: 50.936 val accuracy: 73.333\n"
          ]
        }
      ]
    },
    {
      "cell_type": "markdown",
      "source": [
        "- Los valores de pérdida de entrenamiento y validación tienden a converger, pese a que el valor no es baja.\n",
        "- Pese a que la metrica de exactitud (accuracy) no es la más indicada se ve que los valores de entrenamiento y validación también tiende a converger\n",
        "- El modelo generaliza bien\n",
        "\n"
      ],
      "metadata": {
        "id": "Cjucu45u7J0z"
      }
    },
    {
      "cell_type": "code",
      "source": [
        "print('============================== 10 Pliegues ==============================')\n",
        "print(\"%.2f%% (+/- %.2f%%)\" % (np.mean(cv_score_loss_train)*100, np.std(cv_score_loss_train)*100))\n",
        "print('==============================Test Recall Total 10 pliegues==============================')\n",
        "print(\"%.2f%% (+/- %.2f%%)\" % (np.mean(cv_score_loss_test)*100, np.std(cv_score_loss_test)*100))\n",
        "print('==============================Train Loss Total 10 pliegues==============================')\n",
        "print(\"%.2f%% (+/- %.2f%%)\" % (np.mean(cv_score_accuracy_train), np.std(cv_score_accuracy_train)))\n",
        "print('==============================Test Loss Total 10 pliegues==============================')\n",
        "print(\"%.2f%% (+/- %.2f%%)\" % (np.mean(cv_score_accuracy_test), np.std(cv_score_accuracy_test)))"
      ],
      "metadata": {
        "colab": {
          "base_uri": "https://localhost:8080/"
        },
        "id": "KT-ibxOAB-5b",
        "outputId": "19c90a04-e6ca-4f3c-e7a2-1bbd70606c88"
      },
      "execution_count": 24,
      "outputs": [
        {
          "output_type": "stream",
          "name": "stdout",
          "text": [
            "============================== 10 Pliegues ==============================\n",
            "52.62% (+/- 1.32%)\n",
            "==============================Test Recall Total 10 pliegues==============================\n",
            "54.57% (+/- 2.57%)\n",
            "==============================Train Loss Total 10 pliegues==============================\n",
            "0.76% (+/- 0.02%)\n",
            "==============================Test Loss Total 10 pliegues==============================\n",
            "0.74% (+/- 0.03%)\n"
          ]
        }
      ]
    },
    {
      "cell_type": "markdown",
      "source": [
        "- La dispersión en la medida de la exactitud es muy bajo, por lo tanto, el modelo no está influenciado por el azar en la predicción de los pacientes que tiende a morir en 5 años."
      ],
      "metadata": {
        "id": "w5E1aiwb-Kel"
      }
    }
  ]
}