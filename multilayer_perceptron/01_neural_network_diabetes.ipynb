{
  "nbformat": 4,
  "nbformat_minor": 0,
  "metadata": {
    "colab": {
      "name": "01_neural_network_diabetes.ipynb",
      "provenance": [],
      "collapsed_sections": [],
      "authorship_tag": "ABX9TyO+Tc/KIkf9oEVjcWiuK7iR",
      "include_colab_link": true
    },
    "kernelspec": {
      "name": "python3",
      "display_name": "Python 3"
    },
    "language_info": {
      "name": "python"
    }
  },
  "cells": [
    {
      "cell_type": "markdown",
      "metadata": {
        "id": "view-in-github",
        "colab_type": "text"
      },
      "source": [
        "<a href=\"https://colab.research.google.com/github/Kaiziferr/deep_learning/blob/master/multilayer_perceptron/01_neural_network_diabetes.ipynb\" target=\"_parent\"><img src=\"https://colab.research.google.com/assets/colab-badge.svg\" alt=\"Open In Colab\"/></a>"
      ]
    },
    {
      "cell_type": "code",
      "execution_count": null,
      "metadata": {
        "id": "BnEUIXk8_l2A"
      },
      "outputs": [],
      "source": [
        "import tensorflow\n",
        "import keras\n",
        "import numpy as np\n",
        "import pandas as pd\n",
        "import matplotlib.pyplot as plt\n",
        "import seaborn as sns\n",
        "\n",
        "from keras.models import Sequential\n",
        "from keras.layers import Dense\n",
        "\n",
        "from tensorflow.keras.metrics import Recall\n",
        "\n",
        "from sklearn.model_selection import train_test_split, StratifiedKFold, cross_val_score\n",
        "from sklearn import metrics"
      ]
    },
    {
      "cell_type": "markdown",
      "source": [
        "# **Objetivo**\n",
        "---\n",
        "El objetivo del conjunto de datos es predecir de forma diagnóstica si un paciente mujer tiene o no diabetes."
      ],
      "metadata": {
        "id": "QsIFUKasAqeZ"
      }
    },
    {
      "cell_type": "markdown",
      "source": [
        "## **Dicionario de datos**\n",
        "---\n",
        "- `Pregnancies` : número de veces de embarazo\n",
        "- `Glucose` : concentración de glucosa plasmática a las 2 horas en una prueba de tolerancia oral a la glucosa\n",
        "- `BloodPressure`: presión arterial diastólica (mm Hg)\n",
        "- `SkinThickness`: grosor del pliegue cutáneo del tríceps (mm)\n",
        "- `Insulin` : insulina sérica de 2 horas (mu U/ml)\n",
        "- `BMI` : Índice de masa corporal (peso en kg/(altura en m)^2)\n",
        "- `DiabetesPedigreeFunction`: función de pedigrí de diabetes\n",
        "- `Age`: edad\n",
        "- `Outcome`: churm"
      ],
      "metadata": {
        "id": "334clBxRA_eg"
      }
    },
    {
      "cell_type": "code",
      "source": [
        "data = pd.read_csv('https://raw.githubusercontent.com/Kaiziferr/datasets/main/diabetes.csv')\n",
        "data_values = data.values"
      ],
      "metadata": {
        "id": "Nv_-U-HjBZz5"
      },
      "execution_count": null,
      "outputs": []
    },
    {
      "cell_type": "code",
      "source": [
        "data.head(3)"
      ],
      "metadata": {
        "colab": {
          "base_uri": "https://localhost:8080/",
          "height": 144
        },
        "id": "fLchA42fBh4h",
        "outputId": "fc55d658-cda2-4ffd-d03e-9b8cdbf9beec"
      },
      "execution_count": null,
      "outputs": [
        {
          "output_type": "execute_result",
          "data": {
            "text/plain": [
              "   Pregnancies  Glucose  BloodPressure  SkinThickness  Insulin   BMI  \\\n",
              "0            6      148             72             35        0  33.6   \n",
              "1            1       85             66             29        0  26.6   \n",
              "2            8      183             64              0        0  23.3   \n",
              "\n",
              "   DiabetesPedigreeFunction  Age  Outcome  \n",
              "0                     0.627   50        1  \n",
              "1                     0.351   31        0  \n",
              "2                     0.672   32        1  "
            ],
            "text/html": [
              "\n",
              "  <div id=\"df-b1c9c6d4-3075-475e-8e1d-4f1db734e73c\">\n",
              "    <div class=\"colab-df-container\">\n",
              "      <div>\n",
              "<style scoped>\n",
              "    .dataframe tbody tr th:only-of-type {\n",
              "        vertical-align: middle;\n",
              "    }\n",
              "\n",
              "    .dataframe tbody tr th {\n",
              "        vertical-align: top;\n",
              "    }\n",
              "\n",
              "    .dataframe thead th {\n",
              "        text-align: right;\n",
              "    }\n",
              "</style>\n",
              "<table border=\"1\" class=\"dataframe\">\n",
              "  <thead>\n",
              "    <tr style=\"text-align: right;\">\n",
              "      <th></th>\n",
              "      <th>Pregnancies</th>\n",
              "      <th>Glucose</th>\n",
              "      <th>BloodPressure</th>\n",
              "      <th>SkinThickness</th>\n",
              "      <th>Insulin</th>\n",
              "      <th>BMI</th>\n",
              "      <th>DiabetesPedigreeFunction</th>\n",
              "      <th>Age</th>\n",
              "      <th>Outcome</th>\n",
              "    </tr>\n",
              "  </thead>\n",
              "  <tbody>\n",
              "    <tr>\n",
              "      <th>0</th>\n",
              "      <td>6</td>\n",
              "      <td>148</td>\n",
              "      <td>72</td>\n",
              "      <td>35</td>\n",
              "      <td>0</td>\n",
              "      <td>33.6</td>\n",
              "      <td>0.627</td>\n",
              "      <td>50</td>\n",
              "      <td>1</td>\n",
              "    </tr>\n",
              "    <tr>\n",
              "      <th>1</th>\n",
              "      <td>1</td>\n",
              "      <td>85</td>\n",
              "      <td>66</td>\n",
              "      <td>29</td>\n",
              "      <td>0</td>\n",
              "      <td>26.6</td>\n",
              "      <td>0.351</td>\n",
              "      <td>31</td>\n",
              "      <td>0</td>\n",
              "    </tr>\n",
              "    <tr>\n",
              "      <th>2</th>\n",
              "      <td>8</td>\n",
              "      <td>183</td>\n",
              "      <td>64</td>\n",
              "      <td>0</td>\n",
              "      <td>0</td>\n",
              "      <td>23.3</td>\n",
              "      <td>0.672</td>\n",
              "      <td>32</td>\n",
              "      <td>1</td>\n",
              "    </tr>\n",
              "  </tbody>\n",
              "</table>\n",
              "</div>\n",
              "      <button class=\"colab-df-convert\" onclick=\"convertToInteractive('df-b1c9c6d4-3075-475e-8e1d-4f1db734e73c')\"\n",
              "              title=\"Convert this dataframe to an interactive table.\"\n",
              "              style=\"display:none;\">\n",
              "        \n",
              "  <svg xmlns=\"http://www.w3.org/2000/svg\" height=\"24px\"viewBox=\"0 0 24 24\"\n",
              "       width=\"24px\">\n",
              "    <path d=\"M0 0h24v24H0V0z\" fill=\"none\"/>\n",
              "    <path d=\"M18.56 5.44l.94 2.06.94-2.06 2.06-.94-2.06-.94-.94-2.06-.94 2.06-2.06.94zm-11 1L8.5 8.5l.94-2.06 2.06-.94-2.06-.94L8.5 2.5l-.94 2.06-2.06.94zm10 10l.94 2.06.94-2.06 2.06-.94-2.06-.94-.94-2.06-.94 2.06-2.06.94z\"/><path d=\"M17.41 7.96l-1.37-1.37c-.4-.4-.92-.59-1.43-.59-.52 0-1.04.2-1.43.59L10.3 9.45l-7.72 7.72c-.78.78-.78 2.05 0 2.83L4 21.41c.39.39.9.59 1.41.59.51 0 1.02-.2 1.41-.59l7.78-7.78 2.81-2.81c.8-.78.8-2.07 0-2.86zM5.41 20L4 18.59l7.72-7.72 1.47 1.35L5.41 20z\"/>\n",
              "  </svg>\n",
              "      </button>\n",
              "      \n",
              "  <style>\n",
              "    .colab-df-container {\n",
              "      display:flex;\n",
              "      flex-wrap:wrap;\n",
              "      gap: 12px;\n",
              "    }\n",
              "\n",
              "    .colab-df-convert {\n",
              "      background-color: #E8F0FE;\n",
              "      border: none;\n",
              "      border-radius: 50%;\n",
              "      cursor: pointer;\n",
              "      display: none;\n",
              "      fill: #1967D2;\n",
              "      height: 32px;\n",
              "      padding: 0 0 0 0;\n",
              "      width: 32px;\n",
              "    }\n",
              "\n",
              "    .colab-df-convert:hover {\n",
              "      background-color: #E2EBFA;\n",
              "      box-shadow: 0px 1px 2px rgba(60, 64, 67, 0.3), 0px 1px 3px 1px rgba(60, 64, 67, 0.15);\n",
              "      fill: #174EA6;\n",
              "    }\n",
              "\n",
              "    [theme=dark] .colab-df-convert {\n",
              "      background-color: #3B4455;\n",
              "      fill: #D2E3FC;\n",
              "    }\n",
              "\n",
              "    [theme=dark] .colab-df-convert:hover {\n",
              "      background-color: #434B5C;\n",
              "      box-shadow: 0px 1px 3px 1px rgba(0, 0, 0, 0.15);\n",
              "      filter: drop-shadow(0px 1px 2px rgba(0, 0, 0, 0.3));\n",
              "      fill: #FFFFFF;\n",
              "    }\n",
              "  </style>\n",
              "\n",
              "      <script>\n",
              "        const buttonEl =\n",
              "          document.querySelector('#df-b1c9c6d4-3075-475e-8e1d-4f1db734e73c button.colab-df-convert');\n",
              "        buttonEl.style.display =\n",
              "          google.colab.kernel.accessAllowed ? 'block' : 'none';\n",
              "\n",
              "        async function convertToInteractive(key) {\n",
              "          const element = document.querySelector('#df-b1c9c6d4-3075-475e-8e1d-4f1db734e73c');\n",
              "          const dataTable =\n",
              "            await google.colab.kernel.invokeFunction('convertToInteractive',\n",
              "                                                     [key], {});\n",
              "          if (!dataTable) return;\n",
              "\n",
              "          const docLinkHtml = 'Like what you see? Visit the ' +\n",
              "            '<a target=\"_blank\" href=https://colab.research.google.com/notebooks/data_table.ipynb>data table notebook</a>'\n",
              "            + ' to learn more about interactive tables.';\n",
              "          element.innerHTML = '';\n",
              "          dataTable['output_type'] = 'display_data';\n",
              "          await google.colab.output.renderOutput(dataTable, element);\n",
              "          const docLink = document.createElement('div');\n",
              "          docLink.innerHTML = docLinkHtml;\n",
              "          element.appendChild(docLink);\n",
              "        }\n",
              "      </script>\n",
              "    </div>\n",
              "  </div>\n",
              "  "
            ]
          },
          "metadata": {},
          "execution_count": 3
        }
      ]
    },
    {
      "cell_type": "markdown",
      "source": [
        "# **Data Split**\n",
        "---"
      ],
      "metadata": {
        "id": "mKY-EtUBB7CC"
      }
    },
    {
      "cell_type": "code",
      "source": [
        "X = data_values[:, :8]\n",
        "y = data_values[:, 8]"
      ],
      "metadata": {
        "id": "e_VtWriuBqha"
      },
      "execution_count": null,
      "outputs": []
    },
    {
      "cell_type": "code",
      "source": [
        "X_train, X_test, y_train, y_test = train_test_split(X, y, test_size=0.2, random_state=1234, shuffle=True)"
      ],
      "metadata": {
        "id": "uW61cujaCOlx"
      },
      "execution_count": null,
      "outputs": []
    },
    {
      "cell_type": "code",
      "source": [
        "def plot_bars(data: np.ndarray, title: str= 'feature', x_size:int=6, y_size:int=4, font_size:int=15, x_label:str='churm',y_label:str='count')->None:\n",
        "  fig, ax = plt.subplots(figsize = (x_size, y_size))\n",
        "  fig.suptitle(f'Count plot {title}', fontsize = font_size)\n",
        "  sns.countplot(x = data, ax = ax)\n",
        "  _, data_target = np.unique(data, return_counts=True)\n",
        "  len_data = data.shape[0]\n",
        "  pe = '{0:.2f}'.format(data_target[1]/len_data)\n",
        "  ps = '{0:.2f}'.format(data_target[0]/len_data)\n",
        "  ax.set_xticklabels([f'health \\n {ps}', f'sick\\n{pe}'])\n",
        "  ax.set(xlabel=x_label, ylabel=y_label)\n",
        "  fig.show()"
      ],
      "metadata": {
        "id": "3FoS7L5lCvwA"
      },
      "execution_count": null,
      "outputs": []
    },
    {
      "cell_type": "code",
      "source": [
        "plot_bars(y)"
      ],
      "metadata": {
        "colab": {
          "base_uri": "https://localhost:8080/",
          "height": 320
        },
        "id": "dX78u9_0HFFT",
        "outputId": "65393ea1-8359-4ef8-e1f4-524704d7bc87"
      },
      "execution_count": null,
      "outputs": [
        {
          "output_type": "display_data",
          "data": {
            "text/plain": [
              "<Figure size 432x288 with 1 Axes>"
            ],
            "image/png": "[encoded data removed]"
          },
          "metadata": {
            "needs_background": "light"
          }
        }
      ]
    },
    {
      "cell_type": "markdown",
      "source": [
        "- Hay un desbalance en el conjunto de datos del 65% para los pacientes sanos y 35% para los pacientes enfermos.\n"
      ],
      "metadata": {
        "id": "zOluQ2koD975"
      }
    },
    {
      "cell_type": "markdown",
      "source": [
        "# **Model**\n",
        "---"
      ],
      "metadata": {
        "id": "yyt50ZvdHh8C"
      }
    },
    {
      "cell_type": "code",
      "source": [
        "def model_base():\n",
        "  model = Sequential()\n",
        "  model.add(Dense(12, input_dim=8, activation='relu', kernel_initializer='glorot_uniform'))\n",
        "  model.add(Dense(8, activation='relu', kernel_initializer='glorot_uniform'))\n",
        "  model.add(Dense(1, activation='sigmoid', kernel_initializer='glorot_uniform'))\n",
        "  model.compile(loss='binary_crossentropy', optimizer='adam', metrics=[Recall(), 'accuracy'])\n",
        "  return model"
      ],
      "metadata": {
        "id": "j2nyemukD9uS"
      },
      "execution_count": null,
      "outputs": []
    },
    {
      "cell_type": "code",
      "source": [
        "model = model_base()\n",
        "history = model.fit(X_train, y_train, validation_data = (X_test, y_test), epochs=300, batch_size=16, verbose=0)"
      ],
      "metadata": {
        "id": "-0uSjCQjD9th"
      },
      "execution_count": null,
      "outputs": []
    },
    {
      "cell_type": "code",
      "source": [
        "model.summary()"
      ],
      "metadata": {
        "colab": {
          "base_uri": "https://localhost:8080/"
        },
        "id": "sYAqEVDwKunC",
        "outputId": "3aff9638-4a92-41ef-8dbc-4dad7505cfae"
      },
      "execution_count": null,
      "outputs": [
        {
          "output_type": "stream",
          "name": "stdout",
          "text": [
            "Model: \"sequential\"\n",
            "_________________________________________________________________\n",
            " Layer (type)                Output Shape              Param #   \n",
            "=================================================================\n",
            " dense (Dense)               (None, 12)                108       \n",
            "                                                                 \n",
            " dense_1 (Dense)             (None, 8)                 104       \n",
            "                                                                 \n",
            " dense_2 (Dense)             (None, 1)                 9         \n",
            "                                                                 \n",
            "=================================================================\n",
            "Total params: 221\n",
            "Trainable params: 221\n",
            "Non-trainable params: 0\n",
            "_________________________________________________________________\n"
          ]
        }
      ]
    },
    {
      "cell_type": "code",
      "source": [
        "history.history.keys()"
      ],
      "metadata": {
        "colab": {
          "base_uri": "https://localhost:8080/"
        },
        "id": "25EakV-CeqML",
        "outputId": "2cf593bf-316f-4087-dfd0-29414dd2e6db"
      },
      "execution_count": null,
      "outputs": [
        {
          "output_type": "execute_result",
          "data": {
            "text/plain": [
              "dict_keys(['loss', 'recall', 'accuracy', 'val_loss', 'val_recall', 'val_accuracy'])"
            ]
          },
          "metadata": {},
          "execution_count": 11
        }
      ]
    },
    {
      "cell_type": "code",
      "source": [
        "# Problema de ajuste\n",
        "loss, accuracy, recall = model.evaluate(X_train, y_train)\n",
        "print('Recall: %.3f' % recall)\n",
        "print('Accuracy: %.3f' % accuracy)\n",
        "print('Loss: %.3f' % loss)"
      ],
      "metadata": {
        "colab": {
          "base_uri": "https://localhost:8080/"
        },
        "id": "OcNhj1UDe1i7",
        "outputId": "867f47fb-48fe-4adf-dea3-541626088c07"
      },
      "execution_count": null,
      "outputs": [
        {
          "output_type": "stream",
          "name": "stdout",
          "text": [
            "20/20 [==============================] - 0s 1ms/step - loss: 0.4606 - recall: 0.5822 - accuracy: 0.7752\n",
            "Recall: 0.775\n",
            "Accuracy: 0.582\n",
            "Loss: 0.461\n"
          ]
        }
      ]
    },
    {
      "cell_type": "markdown",
      "source": [
        "- El modelo tiene una sensibilidad del 78% de probabilidades de tener exito en la detección de diabetes\n",
        "- La precisión no la considero por el desbalance del modelo\n",
        "- La perdida no es minima"
      ],
      "metadata": {
        "id": "FNlbZAjdffJm"
      }
    },
    {
      "cell_type": "code",
      "source": [
        "# Problema de Generalización\n",
        "loss, accuracy, recall = model.evaluate(X_test, y_test)\n",
        "print('Recall: %.3f' % recall)\n",
        "print('Accuracy: %.3f' % accuracy)\n",
        "print('Loss: %.3f' % loss)"
      ],
      "metadata": {
        "colab": {
          "base_uri": "https://localhost:8080/"
        },
        "id": "04gED3P2f1e0",
        "outputId": "4419b463-804d-4f0b-9aa1-838496130ff5"
      },
      "execution_count": null,
      "outputs": [
        {
          "output_type": "stream",
          "name": "stdout",
          "text": [
            "5/5 [==============================] - 0s 3ms/step - loss: 0.5151 - recall: 0.5818 - accuracy: 0.7597\n",
            "Recall: 0.760\n",
            "Accuracy: 0.582\n",
            "Loss: 0.515\n"
          ]
        }
      ]
    },
    {
      "cell_type": "markdown",
      "source": [
        "- El modelo tiene una sensibilidad del 76% de probabilidades de tener exito en la detección de diabetes\n",
        "- Una perdida del 52% de que el modelo se equivoque en la predicción"
      ],
      "metadata": {
        "id": "I0XdiPwKhvD7"
      }
    },
    {
      "cell_type": "markdown",
      "source": [
        "# **Curva de aprendizaje**\n",
        "---"
      ],
      "metadata": {
        "id": "RtvTIHLDi5L_"
      }
    },
    {
      "cell_type": "markdown",
      "source": [
        "## **Curvas de aprendizaje de optimización**\n",
        "---\n",
        "\n"
      ],
      "metadata": {
        "id": "3A7-UX-ojpIc"
      }
    },
    {
      "cell_type": "markdown",
      "source": [
        ""
      ],
      "metadata": {
        "id": "4JBQfcR9mHiM"
      }
    },
    {
      "cell_type": "code",
      "source": [
        "def optimization_learning_curves(history: keras.callbacks.History, metrica, title: str= '', x_size:int=8, y_size:int=4, font_size:int=15, x_label:str='Epoch',y_label:str='Loss')->None:\n",
        "  fig, ax = plt.subplots(figsize = (x_size, y_size))\n",
        "  fig.suptitle(title, fontsize = font_size)\n",
        "  ax.plot(history.history[metrica])\n",
        "  ax.plot(history.history[f'val_{metrica}'])\n",
        "  ax.set_xlabel(x_label, size = 12)\n",
        "  ax.set_ylabel(y_label, size = 12)\n",
        "  ax.legend(['Train', 'Test'], loc = 'upper left', fontsize = 12)\n",
        "  ax.tick_params(labelsize = 12)\n",
        "  fig.show()"
      ],
      "metadata": {
        "id": "EOtygLHsj7wg"
      },
      "execution_count": null,
      "outputs": []
    },
    {
      "cell_type": "code",
      "source": [
        "optimization_learning_curves(history, metrica='loss', title='Loss vs Val Loss')"
      ],
      "metadata": {
        "colab": {
          "base_uri": "https://localhost:8080/",
          "height": 314
        },
        "id": "wi5arDXelA95",
        "outputId": "f7fd4da1-68c3-49ef-9d6c-c65c4626c46f"
      },
      "execution_count": null,
      "outputs": [
        {
          "output_type": "display_data",
          "data": {
            "text/plain": [
              "<Figure size 576x288 with 1 Axes>"
            ],
            "image/png": "[encoded data removed]"
          },
          "metadata": {
            "needs_background": "light"
          }
        }
      ]
    },
    {
      "cell_type": "markdown",
      "source": [
        "- La perdida de entrenamiento y validación disminuyen hasta el punto de estabilida durante 300 epocas, con una `brecha de generailización` casi inperceptible.\n",
        "- Los datos de entrenamiento y validación son representativos"
      ],
      "metadata": {
        "id": "4mY76_zRlaqN"
      }
    },
    {
      "cell_type": "markdown",
      "source": [
        "## **Curvas de aprendizaje de rendimiento**\n",
        "---"
      ],
      "metadata": {
        "id": "KXTVByqrnG02"
      }
    },
    {
      "cell_type": "code",
      "source": [
        "history.history.keys()"
      ],
      "metadata": {
        "colab": {
          "base_uri": "https://localhost:8080/"
        },
        "id": "6Gppj7eBnl3g",
        "outputId": "37542fbb-401d-4677-b37c-1dffd95da28c"
      },
      "execution_count": null,
      "outputs": [
        {
          "output_type": "execute_result",
          "data": {
            "text/plain": [
              "dict_keys(['loss', 'recall', 'accuracy', 'val_loss', 'val_recall', 'val_accuracy'])"
            ]
          },
          "metadata": {},
          "execution_count": 16
        }
      ]
    },
    {
      "cell_type": "code",
      "source": [
        "optimization_learning_curves(history, metrica='recall', title='Recall vs Val Recall')"
      ],
      "metadata": {
        "colab": {
          "base_uri": "https://localhost:8080/",
          "height": 314
        },
        "id": "fFxDnkPhnghd",
        "outputId": "2c7e3ff2-64cb-4cae-dc68-6ea27f3db7a0"
      },
      "execution_count": null,
      "outputs": [
        {
          "output_type": "display_data",
          "data": {
            "text/plain": [
              "<Figure size 576x288 with 1 Axes>"
            ],
            "image/png": "[encoded data removed]"
          },
          "metadata": {
            "needs_background": "light"
          }
        }
      ]
    },
    {
      "cell_type": "markdown",
      "source": [
        "- Acorde al rendimiento de la sensibilidad los datos de validación no son representativos por la cantidad de ruido. Posiblemente a una configuración de los datos inesperada. Esto no concuerda con los datos de la evaluación del modelo con los datos de validación, puesto se optenia un buen rendimiento de generalización.\n",
        "\n",
        "- También existe la posibilidad de que el error sea por una mala configuración en la metrica. `Estoy en proceso de aprendizaje`"
      ],
      "metadata": {
        "id": "7c1S8SqOq6cN"
      }
    },
    {
      "cell_type": "code",
      "source": [
        "optimization_learning_curves(history, metrica='accuracy', title='Accuracy vs Accuracy')"
      ],
      "metadata": {
        "colab": {
          "base_uri": "https://localhost:8080/",
          "height": 314
        },
        "id": "pA3g6in0oyIO",
        "outputId": "a6a124db-2e19-4b5c-ee10-1f0f5eefe631"
      },
      "execution_count": null,
      "outputs": [
        {
          "output_type": "display_data",
          "data": {
            "text/plain": [
              "<Figure size 576x288 with 1 Axes>"
            ],
            "image/png": "[encoded data removed]"
          },
          "metadata": {
            "needs_background": "light"
          }
        }
      ]
    },
    {
      "cell_type": "markdown",
      "source": [
        "Acorde al rendimiento de la accuracy los datos de validación el modelo tiene una convergencia, pero esto puede ser engañoso debido a que el modelo pudo aprender más de los datos de entrenamiento, pese a la brecha."
      ],
      "metadata": {
        "id": "6_vOVvXdr-XO"
      }
    },
    {
      "cell_type": "markdown",
      "source": [
        "# **Predictions**\n",
        "---"
      ],
      "metadata": {
        "id": "H35Lcx4Ts1vP"
      }
    },
    {
      "cell_type": "code",
      "source": [
        "y_pred = (model.predict(X_test)>0.5).astype('int32')\n",
        "y_pred = np.reshape(y_pred, y_pred.shape[0])\n",
        "y_pred"
      ],
      "metadata": {
        "colab": {
          "base_uri": "https://localhost:8080/"
        },
        "id": "xxUzqd5huxpe",
        "outputId": "65f77523-1fba-4fed-e79b-388cd6344ad7"
      },
      "execution_count": null,
      "outputs": [
        {
          "output_type": "execute_result",
          "data": {
            "text/plain": [
              "array([0, 1, 0, 1, 0, 1, 1, 0, 1, 0, 0, 0, 0, 0, 0, 0, 1, 1, 0, 0, 1, 0,\n",
              "       0, 1, 0, 0, 0, 1, 0, 0, 0, 0, 1, 1, 1, 1, 0, 0, 0, 0, 0, 0, 1, 0,\n",
              "       0, 0, 0, 0, 0, 0, 1, 1, 1, 1, 0, 0, 0, 0, 0, 1, 1, 0, 0, 0, 0, 0,\n",
              "       0, 0, 0, 0, 1, 1, 0, 0, 1, 1, 0, 0, 0, 0, 0, 1, 0, 0, 0, 0, 0, 0,\n",
              "       0, 0, 1, 1, 0, 0, 0, 1, 1, 0, 0, 1, 1, 1, 0, 0, 0, 0, 1, 1, 0, 1,\n",
              "       1, 0, 0, 0, 0, 0, 0, 1, 0, 0, 0, 1, 1, 0, 0, 0, 0, 0, 0, 0, 0, 0,\n",
              "       0, 0, 0, 0, 0, 0, 0, 0, 0, 0, 0, 0, 0, 0, 1, 1, 1, 0, 1, 0, 1, 1],\n",
              "      dtype=int32)"
            ]
          },
          "metadata": {},
          "execution_count": 19
        }
      ]
    },
    {
      "cell_type": "code",
      "source": [
        "for i in range(15):\n",
        "  print('%s --> %d (real %d)'% (X_test[i].tolist(), y_pred[i], y_test[i]))"
      ],
      "metadata": {
        "colab": {
          "base_uri": "https://localhost:8080/"
        },
        "id": "a-qrQXFFvOnG",
        "outputId": "a6986535-fd3f-471e-e175-a6a0448e19b2"
      },
      "execution_count": null,
      "outputs": [
        {
          "output_type": "stream",
          "name": "stdout",
          "text": [
            "[0.0, 113.0, 80.0, 16.0, 0.0, 31.0, 0.874, 21.0] --> 0 (real 0)\n",
            "[3.0, 180.0, 64.0, 25.0, 70.0, 34.0, 0.271, 26.0] --> 1 (real 0)\n",
            "[7.0, 114.0, 64.0, 0.0, 0.0, 27.4, 0.732, 34.0] --> 0 (real 1)\n",
            "[1.0, 125.0, 50.0, 40.0, 167.0, 33.3, 0.962, 28.0] --> 1 (real 1)\n",
            "[2.0, 120.0, 76.0, 37.0, 105.0, 39.7, 0.215, 29.0] --> 0 (real 0)\n",
            "[2.0, 128.0, 64.0, 42.0, 0.0, 40.0, 1.101, 24.0] --> 1 (real 0)\n",
            "[4.0, 137.0, 84.0, 0.0, 0.0, 31.2, 0.252, 30.0] --> 1 (real 0)\n",
            "[3.0, 103.0, 72.0, 30.0, 152.0, 27.6, 0.73, 27.0] --> 0 (real 0)\n",
            "[6.0, 190.0, 92.0, 0.0, 0.0, 35.5, 0.278, 66.0] --> 1 (real 1)\n",
            "[1.0, 109.0, 56.0, 21.0, 135.0, 25.2, 0.833, 23.0] --> 0 (real 0)\n",
            "[1.0, 181.0, 78.0, 42.0, 293.0, 40.0, 1.258, 22.0] --> 0 (real 1)\n",
            "[0.0, 120.0, 74.0, 18.0, 63.0, 30.5, 0.285, 26.0] --> 0 (real 0)\n",
            "[7.0, 136.0, 90.0, 0.0, 0.0, 29.9, 0.21, 50.0] --> 0 (real 0)\n",
            "[1.0, 71.0, 62.0, 0.0, 0.0, 21.8, 0.416, 26.0] --> 0 (real 0)\n",
            "[3.0, 111.0, 90.0, 12.0, 78.0, 28.4, 0.495, 29.0] --> 0 (real 0)\n"
          ]
        }
      ]
    },
    {
      "cell_type": "code",
      "source": [
        "# Sesgo predictivo\n",
        "#sesgo predicción = promedio de predicciones - promedio de etiquetas (observaciones) en el conjunto de datos\n",
        "# Sick\n",
        "def sesgo_prediction(prediction:np.ndarray, validation:np.ndarray)->tuple:\n",
        "  average_prediction = (len(prediction[prediction==1])/len(prediction))\n",
        "  average_label_target = (len(validation[validation==1]) / len(validation)) \n",
        "  sesgo_prediction = average_prediction - average_label_target\n",
        "  return sesgo_prediction, average_prediction, average_label_target"
      ],
      "metadata": {
        "id": "0e_kj8g_vtBN"
      },
      "execution_count": null,
      "outputs": []
    },
    {
      "cell_type": "code",
      "source": [
        "sesgo, promedio_prediccion, promedio_validacion = sesgo_prediction(y_pred, y_test)\n",
        "print(f'Promedio de predicciones:  {promedio_prediccion}')\n",
        "print(f'Promedio de etiquetas: {promedio_validacion}')\n",
        "print(f'Sesgo de predicción: {sesgo}')"
      ],
      "metadata": {
        "colab": {
          "base_uri": "https://localhost:8080/"
        },
        "id": "7vv9mGG49PMW",
        "outputId": "d4b60a73-3550-4046-e2ff-15757205df92"
      },
      "execution_count": null,
      "outputs": [
        {
          "output_type": "stream",
          "name": "stdout",
          "text": [
            "Promedio de predicciones:  0.2987012987012987\n",
            "Promedio de etiquetas: 0.35714285714285715\n",
            "Sesgo de predicción: -0.05844155844155846\n"
          ]
        }
      ]
    },
    {
      "cell_type": "markdown",
      "source": [
        "- Tiene un sesgo negativo del 5%, el modelo subestima, tiene un porcentaje de errores de no predicciones de pacientes con diabetes"
      ],
      "metadata": {
        "id": "IZw9Iv5X9aa1"
      }
    },
    {
      "cell_type": "code",
      "source": [
        "def consufion_matrix(validation: np.ndarray, prediction:np.ndarray, churm:str='churm', no_churm:str='no_churm',  title: str= 'Matriz de confusion', x_size:int=6, y_size:int=5)->np.ndarray:\n",
        "  matrix = metrics.confusion_matrix(validation, prediction)\n",
        "  fig, ax = plt.subplots(nrows= 1, ncols=  1, figsize = (x_size,y_size))\n",
        "  sns.heatmap(matrix, annot=True, ax = ax, cmap=plt.cm.Blues, fmt = 'g', annot_kws={'size': 13})\n",
        "  ax.set_title(title, size = 13)\n",
        "  ax.xaxis.set_ticklabels([no_churm, churm])\n",
        "  ax.yaxis.set_ticklabels([no_churm, churm])\n",
        "  ax.tick_params(labelsize = 13)\n",
        "  fig.show()\n",
        "  return matrix"
      ],
      "metadata": {
        "id": "9lPh8d8o-BW2"
      },
      "execution_count": null,
      "outputs": []
    },
    {
      "cell_type": "code",
      "source": [
        "matrix = consufion_matrix(y_test, y_pred,'Enfermos', 'Sanos')"
      ],
      "metadata": {
        "colab": {
          "base_uri": "https://localhost:8080/",
          "height": 339
        },
        "id": "zc25Q5LxC9vO",
        "outputId": "61946a6c-cae2-4adb-8532-a5d856f0b086"
      },
      "execution_count": null,
      "outputs": [
        {
          "output_type": "display_data",
          "data": {
            "text/plain": [
              "<Figure size 432x360 with 2 Axes>"
            ],
            "image/png": "[encoded data removed]"
          },
          "metadata": {
            "needs_background": "light"
          }
        }
      ]
    },
    {
      "cell_type": "markdown",
      "source": [
        "El modelo para la detección de enfermos es muy regular, ya que tiene un porcentaje conciderable de falsos negativos, ya que se está detectando enfermos como sanos, esto puede explicar los malos resultados en la grafica de rendimiento con el recall."
      ],
      "metadata": {
        "id": "uwgymw3zEKTG"
      }
    },
    {
      "cell_type": "code",
      "source": [
        "# Metricas\n",
        "def metricas(validation: np.ndarray, prediction:np.ndarray, matrix:np.ndarray, label:list=[1])->None:\n",
        "  print(f'Accuracy  :   {metrics.accuracy_score(validation, prediction)}')\n",
        "  print(f'Kappa     :   {metrics.cohen_kappa_score(validation, prediction)}')\n",
        "  print(f'predicción enfermos')\n",
        "  print(f'Precision:   {metrics.precision_score(validation, prediction, labels=label, average=\"macro\")}')\n",
        "  print(f'Recall    :   {metrics.recall_score(validation, prediction, labels=label, average=\"macro\")}')\n",
        "\n",
        "  VN = matrix[0,0]\n",
        "  FP = matrix[0,1]\n",
        "  specificity = VN/(VN+FP)\n",
        "\n",
        "  print(f'Specificity:   {specificity}')\n",
        "  print(f'F1-score   :   {metrics.f1_score(validation, prediction, labels=label, average=\"macro\")}' )"
      ],
      "metadata": {
        "id": "rZeLxUK3EP87"
      },
      "execution_count": null,
      "outputs": []
    },
    {
      "cell_type": "code",
      "source": [
        "metricas(y_test, y_pred, matrix)"
      ],
      "metadata": {
        "colab": {
          "base_uri": "https://localhost:8080/"
        },
        "id": "k7vwbNUnF5Xn",
        "outputId": "16d1fe97-d594-4015-c5f6-e61ae506bf3d"
      },
      "execution_count": null,
      "outputs": [
        {
          "output_type": "stream",
          "name": "stdout",
          "text": [
            "Accuracy  :   0.7597402597402597\n",
            "Kappa     :   0.4570230607966457\n",
            "predicción enfermos\n",
            "Precision:   0.6956521739130435\n",
            "Recall    :   0.5818181818181818\n",
            "Specificity:   0.8585858585858586\n",
            "F1-score   :   0.6336633663366337\n"
          ]
        }
      ]
    },
    {
      "cell_type": "markdown",
      "source": [
        "- El numero de predicciones correctas por el modelo es del 70%, pero el inconveniente es que los datos se encuentran desbalanceados\n",
        "\n",
        "- La kappa me indica que el modelo tiene un ajuste de suerte del 35%, lo que indica que aproximadamente el 55% de las predicciones fueron realizadas por suerte\n",
        "\n",
        "- Una sensibilidad pesima del 58% para realizar predicciones con respecto a todos los casos de diabetes reales"
      ],
      "metadata": {
        "id": "Yg0LO_7JGZgH"
      }
    },
    {
      "cell_type": "markdown",
      "source": [
        "# **PRECISION-RECALL**\n",
        "---"
      ],
      "metadata": {
        "id": "tj3iXR7gZXY5"
      }
    },
    {
      "cell_type": "code",
      "source": [
        "y_prob = model.predict(X_test)\n",
        "pos_prob = np.reshape(y_prob, y_prob.shape[0])"
      ],
      "metadata": {
        "id": "2tIiPS4kZcaI"
      },
      "execution_count": null,
      "outputs": []
    },
    {
      "cell_type": "code",
      "source": [
        "def precision_recall(y:np.ndarray, prediction_prob:np.ndarray, validation:np.ndarray)->float:\n",
        "  no_skill = len(y[y==1]) / len(y)\n",
        "  plt.plot([0, 1], [no_skill, no_skill], linestyle='--', label='No Skill')\n",
        "  precision, recall, _ = metrics.precision_recall_curve(validation, prediction_prob)\n",
        "  plt.plot(recall, precision, marker='.', label='Multi Layer Perceptron')\n",
        "  plt.xlabel('Recall')\n",
        "  plt.ylabel('Precision')\n",
        "  plt.legend()\n",
        "  auc_score = metrics.auc(recall, precision)\n",
        "  plt.show()\n",
        "  return auc_score"
      ],
      "metadata": {
        "id": "AMc_OSgcblaJ"
      },
      "execution_count": null,
      "outputs": []
    },
    {
      "cell_type": "code",
      "source": [
        "auc_score = precision_recall(y, pos_prob, y_test)"
      ],
      "metadata": {
        "colab": {
          "base_uri": "https://localhost:8080/",
          "height": 279
        },
        "id": "Ft9fL2r5gM_z",
        "outputId": "066356ab-ac4a-423a-ebc7-fbe7e94dfd9c"
      },
      "execution_count": null,
      "outputs": [
        {
          "output_type": "display_data",
          "data": {
            "text/plain": [
              "<Figure size 432x288 with 1 Axes>"
            ],
            "image/png": "[encoded data removed]"
          },
          "metadata": {
            "needs_background": "light"
          }
        }
      ]
    },
    {
      "cell_type": "code",
      "source": [
        "print('Multi Layer Perceptron PR AUC: %.3f' % auc_score)"
      ],
      "metadata": {
        "colab": {
          "base_uri": "https://localhost:8080/"
        },
        "id": "Bp82ZW_2lvax",
        "outputId": "c197508f-68cd-4dca-8af9-08972624c601"
      },
      "execution_count": null,
      "outputs": [
        {
          "output_type": "stream",
          "name": "stdout",
          "text": [
            "Multi Layer Perceptron PR AUC: 0.693\n"
          ]
        }
      ]
    },
    {
      "cell_type": "markdown",
      "source": [
        "- El modelo tiene un habilidad por encima del promedio (Modelo sin habilidad)\n",
        "- Es posible que con más datos y una estructura más amplia el modelo pueda mejorar su capacidad de predicción para detectar pacientes con diabetes."
      ],
      "metadata": {
        "id": "pIRaTT-Ulqih"
      }
    }
  ]
}