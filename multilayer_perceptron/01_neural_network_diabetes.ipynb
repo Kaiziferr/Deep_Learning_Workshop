{
  "nbformat": 4,
  "nbformat_minor": 0,
  "metadata": {
    "colab": {
      "name": "01_neural_network_diabetes.ipynb",
      "provenance": [],
      "include_colab_link": true
    },
    "kernelspec": {
      "name": "python3",
      "display_name": "Python 3"
    },
    "language_info": {
      "name": "python"
    }
  },
  "cells": [
    {
      "cell_type": "markdown",
      "metadata": {
        "id": "view-in-github",
        "colab_type": "text"
      },
      "source": [
        "<a href=\"https://colab.research.google.com/github/Kaiziferr/deep_learning/blob/master/multilayer_perceptron/01_neural_network_diabetes.ipynb\" target=\"_parent\"><img src=\"https://colab.research.google.com/assets/colab-badge.svg\" alt=\"Open In Colab\"/></a>"
      ]
    },
    {
      "cell_type": "code",
      "source": [
        "import pandas as pd\n",
        "import numpy as np\n",
        "\n",
        "import matplotlib.pyplot as plt\n",
        "import seaborn as sns\n",
        "\n",
        "import keras\n",
        "import tensorflow as tf\n",
        "\n",
        "from keras.models import Sequential\n",
        "from keras.layers import Dense\n",
        "\n",
        "from sklearn.model_selection import train_test_split\n",
        "from sklearn import metrics\n",
        "from sklearn.compose import ColumnTransformer\n",
        "from sklearn.preprocessing import StandardScaler\n",
        "\n",
        "from matplotlib.colors import ListedColormap"
      ],
      "metadata": {
        "id": "VN74P3zHBlPT"
      },
      "execution_count": 1,
      "outputs": []
    },
    {
      "cell_type": "markdown",
      "source": [
        "# **config**\n",
        "---"
      ],
      "metadata": {
        "id": "WwLbaB2sCiUb"
      }
    },
    {
      "cell_type": "code",
      "source": [
        "sns.set(style='darkgrid')\n",
        "title_data = 'Diabetes'\n",
        "paleta = sns.color_palette(\"tab10\").as_hex()"
      ],
      "metadata": {
        "id": "wqYX7T0JDQn8"
      },
      "execution_count": 2,
      "outputs": []
    },
    {
      "cell_type": "code",
      "source": [
        "def generate_colors(paleta:str=\"Set1\", n_colors:int=15)-> tuple:\n",
        "  \"\"\"color generator\"\"\"\n",
        "  try:\n",
        "    cmap = sns.color_palette(paleta, n_colors).as_hex()\n",
        "    list_camp = ListedColormap(cmap)\n",
        "    return cmap, list_camp\n",
        "  except Exception as e:\n",
        "    print(e)\n",
        "\n",
        "\n",
        "def plot_bar(data:pd.DataFrame, paleta:list=None, figsize_x:int=8, figsize_y:int=5,\n",
        "             fontsize:int=15, **kwards)->None:\n",
        "  \"\"\"Grafica un diagrama de barras con multiples caracteristicas\"\"\"\n",
        "  try:\n",
        "    paleta = paleta if paleta !=None else generate_colors()[0]\n",
        "    v = kwards\n",
        "    ejeX = v[\"ejeX\"]\n",
        "\n",
        "    fig, ax = plt.subplots(figsize = (figsize_x, figsize_y))\n",
        "    fig.suptitle(f'Diagrama de barras {v[\"title\"]}', fontsize=fontsize)\n",
        "\n",
        "    if type(ejeX) == str:\n",
        "      sns.countplot(x=ejeX, data=data, ax = ax, palette=paleta)\n",
        "    else:\n",
        "      ejeX = v['ejeX'][0]\n",
        "      sns.countplot(x=ejeX, hue=v['ejeX'][1], data=data, ax=ax, palette=paleta)\n",
        "\n",
        "    ax.set_ylabel(v['ejey'], size = 12)\n",
        "    ax.set_xlabel(ejeX, size=fontsize-3)\n",
        "\n",
        "    ax.set_xticklabels(ax.get_xticklabels(), fontsize = fontsize-3)\n",
        "    for p in ax.patches:\n",
        "      try:\n",
        "        height = int(p.get_height())\n",
        "        height_text = height\n",
        "        if kwards['p'] == True:\n",
        "          percentage = round(height/data.shape[0], 5)\n",
        "          height_text = f'{height} ({percentage})'\n",
        "        ax.text(p.get_x()+p.get_width()/2., height + 1, height_text, ha=\"center\")\n",
        "      except Exception as e:\n",
        "        print(e)\n",
        "\n",
        "  except Exception as e:\n",
        "    print(e)\n",
        "\n",
        "def pie_circle(\n",
        "    serie:pd.Series,\n",
        "    paleta=None,\n",
        "    figsize_x:int=7,\n",
        "    figsize_y:int=7,\n",
        "    fontsize=15,\n",
        "    **kwards)->None:\n",
        "  \"\"\"Grafica un anillo\"\"\"\n",
        "  paleta = paleta if paleta !=None else generate_colors()[0]\n",
        "  values = serie.value_counts().sort_index()\n",
        "  names = values.index\n",
        "  size = values.values\n",
        "  fig, ax = plt.subplots(figsize=(figsize_x, figsize_y))\n",
        "  fig.suptitle(f'Diagrama de anillo {kwards[\"title\"]}', fontsize=fontsize)\n",
        "  my_circle = plt.Circle( (0,0), 0.7, color='white')\n",
        "  plt.pie(\n",
        "      size,\n",
        "      labels=names,\n",
        "      autopct=\"%0.1f %%\",\n",
        "      wedgeprops = { 'linewidth' : 7, 'edgecolor' : 'white' },\n",
        "      colors = paleta)\n",
        "  p = plt.gcf()\n",
        "  p.gca().add_artist(my_circle)\n",
        "  plt.show()\n",
        "\n",
        "\n",
        "\n",
        "def matrix_confusion(\n",
        "    y_true:pd.Series,\n",
        "    y_pred:pd.Series,\n",
        "    churm:str='True',\n",
        "    no_churm:str='False',\n",
        "    title:str='Matriz de confusion',\n",
        "    x_size:int=6,\n",
        "    y_size:int=5,\n",
        "    **kwards)->np.ndarray:\n",
        "    \"\"\"confusion matrix\"\"\"\n",
        "    try:\n",
        "      matrix = metrics.confusion_matrix(y_true, y_pred)\n",
        "      fig, ax = plt.subplots(nrows=1, ncols=1, figsize=(x_size, y_size))\n",
        "      sns.heatmap(matrix, annot=True, ax=ax, fmt='g', **kwards)\n",
        "      ax.set_title(title,size=20)\n",
        "      ax.xaxis.set_ticklabels([no_churm,churm])\n",
        "      ax.yaxis.set_ticklabels([no_churm,churm])\n",
        "      ax.tick_params(labelsize = 12)\n",
        "      fig.show()\n",
        "      return matrix\n",
        "    except Exception as e:\n",
        "      print(e)"
      ],
      "metadata": {
        "id": "rs-GTnDW6m13"
      },
      "execution_count": 3,
      "outputs": []
    },
    {
      "cell_type": "markdown",
      "source": [
        "# **Objetivos**\n",
        "---\n",
        "- Entender y codificar sobre el conjunto de datos en el problema de diagnosticar si un paciente mujer tiene o no diabetes del pueblo pima:\n",
        " - curvas de aprendizaje\n",
        " - sesgo de predicción\n",
        " - matrix confusión\n",
        " - Metricas\n",
        "   - Accuracy\n",
        "   - Kappa     \n",
        "   - Precision\n",
        "   - Recall\n",
        "   - Specificity\n",
        "   - F1-score\n",
        " - Precision-recall\n",
        "\n",
        "\n"
      ],
      "metadata": {
        "id": "QsIFUKasAqeZ"
      }
    },
    {
      "cell_type": "markdown",
      "source": [
        "## **Dicionario de datos**\n",
        "---\n",
        "- `Pregnancies` : número de veces de embarazo\n",
        "- `Glucose` : concentración de glucosa plasmática a las 2 horas en una prueba de tolerancia oral a la glucosa\n",
        "- `BloodPressure`: presión arterial diastólica (mm Hg)\n",
        "- `SkinThickness`: grosor del pliegue cutáneo del tríceps (mm)\n",
        "- `Insulin` : insulina sérica de 2 horas (mu U/ml)\n",
        "- `BMI` : Índice de masa corporal (peso en kg/(altura en m)^2)\n",
        "- `DiabetesPedigreeFunction`: función de pedigrí de diabetes\n",
        "- `Age`: edad\n",
        "- `Outcome`: está enfermo?"
      ],
      "metadata": {
        "id": "334clBxRA_eg"
      }
    },
    {
      "cell_type": "code",
      "source": [
        "url='https://drive.google.com/file/d/1FGFPdobSr2bMdYJOou-qWV8pJ1iOiW5d/view?usp=sharing'\n",
        "url='https://drive.google.com/uc?id=' + url.split('/')[-2]\n",
        "data = pd.read_csv(url, dtype=str)"
      ],
      "metadata": {
        "id": "CWRXa_NRDbqK"
      },
      "execution_count": 4,
      "outputs": []
    },
    {
      "cell_type": "code",
      "source": [
        "data.head(3)"
      ],
      "metadata": {
        "id": "Kv3n2JrsbPvQ",
        "outputId": "29013b57-a1eb-4816-fac6-b730d31f42fd",
        "colab": {
          "base_uri": "https://localhost:8080/",
          "height": 143
        }
      },
      "execution_count": 5,
      "outputs": [
        {
          "output_type": "execute_result",
          "data": {
            "text/plain": [
              "  Pregnancies Glucose BloodPressure SkinThickness Insulin   BMI  \\\n",
              "0           6     148            72            35       0  33.6   \n",
              "1           1      85            66            29       0  26.6   \n",
              "2           8     183            64             0       0  23.3   \n",
              "\n",
              "  DiabetesPedigreeFunction Age Outcome  \n",
              "0                    0.627  50       1  \n",
              "1                    0.351  31       0  \n",
              "2                    0.672  32       1  "
            ],
            "text/html": [
              "\n",
              "  <div id=\"df-17a0da01-de0b-4e9a-b5ba-bd0bc44b1219\" class=\"colab-df-container\">\n",
              "    <div>\n",
              "<style scoped>\n",
              "    .dataframe tbody tr th:only-of-type {\n",
              "        vertical-align: middle;\n",
              "    }\n",
              "\n",
              "    .dataframe tbody tr th {\n",
              "        vertical-align: top;\n",
              "    }\n",
              "\n",
              "    .dataframe thead th {\n",
              "        text-align: right;\n",
              "    }\n",
              "</style>\n",
              "<table border=\"1\" class=\"dataframe\">\n",
              "  <thead>\n",
              "    <tr style=\"text-align: right;\">\n",
              "      <th></th>\n",
              "      <th>Pregnancies</th>\n",
              "      <th>Glucose</th>\n",
              "      <th>BloodPressure</th>\n",
              "      <th>SkinThickness</th>\n",
              "      <th>Insulin</th>\n",
              "      <th>BMI</th>\n",
              "      <th>DiabetesPedigreeFunction</th>\n",
              "      <th>Age</th>\n",
              "      <th>Outcome</th>\n",
              "    </tr>\n",
              "  </thead>\n",
              "  <tbody>\n",
              "    <tr>\n",
              "      <th>0</th>\n",
              "      <td>6</td>\n",
              "      <td>148</td>\n",
              "      <td>72</td>\n",
              "      <td>35</td>\n",
              "      <td>0</td>\n",
              "      <td>33.6</td>\n",
              "      <td>0.627</td>\n",
              "      <td>50</td>\n",
              "      <td>1</td>\n",
              "    </tr>\n",
              "    <tr>\n",
              "      <th>1</th>\n",
              "      <td>1</td>\n",
              "      <td>85</td>\n",
              "      <td>66</td>\n",
              "      <td>29</td>\n",
              "      <td>0</td>\n",
              "      <td>26.6</td>\n",
              "      <td>0.351</td>\n",
              "      <td>31</td>\n",
              "      <td>0</td>\n",
              "    </tr>\n",
              "    <tr>\n",
              "      <th>2</th>\n",
              "      <td>8</td>\n",
              "      <td>183</td>\n",
              "      <td>64</td>\n",
              "      <td>0</td>\n",
              "      <td>0</td>\n",
              "      <td>23.3</td>\n",
              "      <td>0.672</td>\n",
              "      <td>32</td>\n",
              "      <td>1</td>\n",
              "    </tr>\n",
              "  </tbody>\n",
              "</table>\n",
              "</div>\n",
              "    <div class=\"colab-df-buttons\">\n",
              "\n",
              "  <div class=\"colab-df-container\">\n",
              "    <button class=\"colab-df-convert\" onclick=\"convertToInteractive('df-17a0da01-de0b-4e9a-b5ba-bd0bc44b1219')\"\n",
              "            title=\"Convert this dataframe to an interactive table.\"\n",
              "            style=\"display:none;\">\n",
              "\n",
              "  <svg xmlns=\"http://www.w3.org/2000/svg\" height=\"24px\" viewBox=\"0 -960 960 960\">\n",
              "    <path d=\"M120-120v-720h720v720H120Zm60-500h600v-160H180v160Zm220 220h160v-160H400v160Zm0 220h160v-160H400v160ZM180-400h160v-160H180v160Zm440 0h160v-160H620v160ZM180-180h160v-160H180v160Zm440 0h160v-160H620v160Z\"/>\n",
              "  </svg>\n",
              "    </button>\n",
              "\n",
              "  <style>\n",
              "    .colab-df-container {\n",
              "      display:flex;\n",
              "      gap: 12px;\n",
              "    }\n",
              "\n",
              "    .colab-df-convert {\n",
              "      background-color: #E8F0FE;\n",
              "      border: none;\n",
              "      border-radius: 50%;\n",
              "      cursor: pointer;\n",
              "      display: none;\n",
              "      fill: #1967D2;\n",
              "      height: 32px;\n",
              "      padding: 0 0 0 0;\n",
              "      width: 32px;\n",
              "    }\n",
              "\n",
              "    .colab-df-convert:hover {\n",
              "      background-color: #E2EBFA;\n",
              "      box-shadow: 0px 1px 2px rgba(60, 64, 67, 0.3), 0px 1px 3px 1px rgba(60, 64, 67, 0.15);\n",
              "      fill: #174EA6;\n",
              "    }\n",
              "\n",
              "    .colab-df-buttons div {\n",
              "      margin-bottom: 4px;\n",
              "    }\n",
              "\n",
              "    [theme=dark] .colab-df-convert {\n",
              "      background-color: #3B4455;\n",
              "      fill: #D2E3FC;\n",
              "    }\n",
              "\n",
              "    [theme=dark] .colab-df-convert:hover {\n",
              "      background-color: #434B5C;\n",
              "      box-shadow: 0px 1px 3px 1px rgba(0, 0, 0, 0.15);\n",
              "      filter: drop-shadow(0px 1px 2px rgba(0, 0, 0, 0.3));\n",
              "      fill: #FFFFFF;\n",
              "    }\n",
              "  </style>\n",
              "\n",
              "    <script>\n",
              "      const buttonEl =\n",
              "        document.querySelector('#df-17a0da01-de0b-4e9a-b5ba-bd0bc44b1219 button.colab-df-convert');\n",
              "      buttonEl.style.display =\n",
              "        google.colab.kernel.accessAllowed ? 'block' : 'none';\n",
              "\n",
              "      async function convertToInteractive(key) {\n",
              "        const element = document.querySelector('#df-17a0da01-de0b-4e9a-b5ba-bd0bc44b1219');\n",
              "        const dataTable =\n",
              "          await google.colab.kernel.invokeFunction('convertToInteractive',\n",
              "                                                    [key], {});\n",
              "        if (!dataTable) return;\n",
              "\n",
              "        const docLinkHtml = 'Like what you see? Visit the ' +\n",
              "          '<a target=\"_blank\" href=https://colab.research.google.com/notebooks/data_table.ipynb>data table notebook</a>'\n",
              "          + ' to learn more about interactive tables.';\n",
              "        element.innerHTML = '';\n",
              "        dataTable['output_type'] = 'display_data';\n",
              "        await google.colab.output.renderOutput(dataTable, element);\n",
              "        const docLink = document.createElement('div');\n",
              "        docLink.innerHTML = docLinkHtml;\n",
              "        element.appendChild(docLink);\n",
              "      }\n",
              "    </script>\n",
              "  </div>\n",
              "\n",
              "\n",
              "<div id=\"df-974b79ec-5080-44d9-a671-8b88365e8055\">\n",
              "  <button class=\"colab-df-quickchart\" onclick=\"quickchart('df-974b79ec-5080-44d9-a671-8b88365e8055')\"\n",
              "            title=\"Suggest charts\"\n",
              "            style=\"display:none;\">\n",
              "\n",
              "<svg xmlns=\"http://www.w3.org/2000/svg\" height=\"24px\"viewBox=\"0 0 24 24\"\n",
              "     width=\"24px\">\n",
              "    <g>\n",
              "        <path d=\"M19 3H5c-1.1 0-2 .9-2 2v14c0 1.1.9 2 2 2h14c1.1 0 2-.9 2-2V5c0-1.1-.9-2-2-2zM9 17H7v-7h2v7zm4 0h-2V7h2v10zm4 0h-2v-4h2v4z\"/>\n",
              "    </g>\n",
              "</svg>\n",
              "  </button>\n",
              "\n",
              "<style>\n",
              "  .colab-df-quickchart {\n",
              "      --bg-color: #E8F0FE;\n",
              "      --fill-color: #1967D2;\n",
              "      --hover-bg-color: #E2EBFA;\n",
              "      --hover-fill-color: #174EA6;\n",
              "      --disabled-fill-color: #AAA;\n",
              "      --disabled-bg-color: #DDD;\n",
              "  }\n",
              "\n",
              "  [theme=dark] .colab-df-quickchart {\n",
              "      --bg-color: #3B4455;\n",
              "      --fill-color: #D2E3FC;\n",
              "      --hover-bg-color: #434B5C;\n",
              "      --hover-fill-color: #FFFFFF;\n",
              "      --disabled-bg-color: #3B4455;\n",
              "      --disabled-fill-color: #666;\n",
              "  }\n",
              "\n",
              "  .colab-df-quickchart {\n",
              "    background-color: var(--bg-color);\n",
              "    border: none;\n",
              "    border-radius: 50%;\n",
              "    cursor: pointer;\n",
              "    display: none;\n",
              "    fill: var(--fill-color);\n",
              "    height: 32px;\n",
              "    padding: 0;\n",
              "    width: 32px;\n",
              "  }\n",
              "\n",
              "  .colab-df-quickchart:hover {\n",
              "    background-color: var(--hover-bg-color);\n",
              "    box-shadow: 0 1px 2px rgba(60, 64, 67, 0.3), 0 1px 3px 1px rgba(60, 64, 67, 0.15);\n",
              "    fill: var(--button-hover-fill-color);\n",
              "  }\n",
              "\n",
              "  .colab-df-quickchart-complete:disabled,\n",
              "  .colab-df-quickchart-complete:disabled:hover {\n",
              "    background-color: var(--disabled-bg-color);\n",
              "    fill: var(--disabled-fill-color);\n",
              "    box-shadow: none;\n",
              "  }\n",
              "\n",
              "  .colab-df-spinner {\n",
              "    border: 2px solid var(--fill-color);\n",
              "    border-color: transparent;\n",
              "    border-bottom-color: var(--fill-color);\n",
              "    animation:\n",
              "      spin 1s steps(1) infinite;\n",
              "  }\n",
              "\n",
              "  @keyframes spin {\n",
              "    0% {\n",
              "      border-color: transparent;\n",
              "      border-bottom-color: var(--fill-color);\n",
              "      border-left-color: var(--fill-color);\n",
              "    }\n",
              "    20% {\n",
              "      border-color: transparent;\n",
              "      border-left-color: var(--fill-color);\n",
              "      border-top-color: var(--fill-color);\n",
              "    }\n",
              "    30% {\n",
              "      border-color: transparent;\n",
              "      border-left-color: var(--fill-color);\n",
              "      border-top-color: var(--fill-color);\n",
              "      border-right-color: var(--fill-color);\n",
              "    }\n",
              "    40% {\n",
              "      border-color: transparent;\n",
              "      border-right-color: var(--fill-color);\n",
              "      border-top-color: var(--fill-color);\n",
              "    }\n",
              "    60% {\n",
              "      border-color: transparent;\n",
              "      border-right-color: var(--fill-color);\n",
              "    }\n",
              "    80% {\n",
              "      border-color: transparent;\n",
              "      border-right-color: var(--fill-color);\n",
              "      border-bottom-color: var(--fill-color);\n",
              "    }\n",
              "    90% {\n",
              "      border-color: transparent;\n",
              "      border-bottom-color: var(--fill-color);\n",
              "    }\n",
              "  }\n",
              "</style>\n",
              "\n",
              "  <script>\n",
              "    async function quickchart(key) {\n",
              "      const quickchartButtonEl =\n",
              "        document.querySelector('#' + key + ' button');\n",
              "      quickchartButtonEl.disabled = true;  // To prevent multiple clicks.\n",
              "      quickchartButtonEl.classList.add('colab-df-spinner');\n",
              "      try {\n",
              "        const charts = await google.colab.kernel.invokeFunction(\n",
              "            'suggestCharts', [key], {});\n",
              "      } catch (error) {\n",
              "        console.error('Error during call to suggestCharts:', error);\n",
              "      }\n",
              "      quickchartButtonEl.classList.remove('colab-df-spinner');\n",
              "      quickchartButtonEl.classList.add('colab-df-quickchart-complete');\n",
              "    }\n",
              "    (() => {\n",
              "      let quickchartButtonEl =\n",
              "        document.querySelector('#df-974b79ec-5080-44d9-a671-8b88365e8055 button');\n",
              "      quickchartButtonEl.style.display =\n",
              "        google.colab.kernel.accessAllowed ? 'block' : 'none';\n",
              "    })();\n",
              "  </script>\n",
              "</div>\n",
              "    </div>\n",
              "  </div>\n"
            ]
          },
          "metadata": {},
          "execution_count": 5
        }
      ]
    },
    {
      "cell_type": "code",
      "source": [
        "data.columns"
      ],
      "metadata": {
        "colab": {
          "base_uri": "https://localhost:8080/"
        },
        "id": "coFUIIIk3ivN",
        "outputId": "2c32396c-9ec9-4f63-ac87-5995631984f8"
      },
      "execution_count": 6,
      "outputs": [
        {
          "output_type": "execute_result",
          "data": {
            "text/plain": [
              "Index(['Pregnancies', 'Glucose', 'BloodPressure', 'SkinThickness', 'Insulin',\n",
              "       'BMI', 'DiabetesPedigreeFunction', 'Age', 'Outcome'],\n",
              "      dtype='object')"
            ]
          },
          "metadata": {},
          "execution_count": 6
        }
      ]
    },
    {
      "cell_type": "code",
      "source": [
        "data[[\n",
        "    'Pregnancies',\n",
        "    'Glucose',\n",
        "    'BloodPressure',\n",
        "    'SkinThickness',\n",
        "    'Insulin',\n",
        "    'Age',\n",
        "    'Outcome']] =  data[[\n",
        "    'Pregnancies',\n",
        "    'Glucose',\n",
        "    'BloodPressure',\n",
        "    'SkinThickness',\n",
        "    'Insulin',\n",
        "    'Age',\n",
        "    'Outcome']].astype('int32')\n",
        "\n",
        "\n",
        "\n",
        "data[[\n",
        "    'BMI',\n",
        "    'DiabetesPedigreeFunction']] = data[['BMI',\n",
        "                                         'DiabetesPedigreeFunction']].astype('float32')"
      ],
      "metadata": {
        "id": "Pz4se8vP3tYP"
      },
      "execution_count": 7,
      "outputs": []
    },
    {
      "cell_type": "markdown",
      "source": [
        "# **Data Split**\n",
        "---"
      ],
      "metadata": {
        "id": "mKY-EtUBB7CC"
      }
    },
    {
      "cell_type": "code",
      "source": [
        "X = data.iloc[:, :8]\n",
        "y = data.iloc[:, 8]"
      ],
      "metadata": {
        "id": "-OndabEPEx8K"
      },
      "execution_count": 8,
      "outputs": []
    },
    {
      "cell_type": "code",
      "source": [
        "plot_bar(\n",
        "    data,\n",
        "    paleta=paleta,\n",
        "    ejeX='Outcome',\n",
        "    ejey='Conteo Enfermos',\n",
        "    title='Count City', p=True)"
      ],
      "metadata": {
        "id": "ISMmOL6XE_ip",
        "outputId": "9312d8a1-31e4-4d78-9155-f16604d4a289",
        "colab": {
          "base_uri": "https://localhost:8080/",
          "height": 526
        }
      },
      "execution_count": 9,
      "outputs": [
        {
          "output_type": "display_data",
          "data": {
            "text/plain": [
              "<Figure size 800x500 with 1 Axes>"
            ],
            "image/png": "[encoded data removed]"
          },
          "metadata": {}
        }
      ]
    },
    {
      "cell_type": "code",
      "source": [
        "pie_circle(data['Outcome'], title='Taza de enfermos')"
      ],
      "metadata": {
        "id": "Q7itbTfHDKD0",
        "outputId": "9dd40716-e5b7-4362-cc3d-de293cb86a5b",
        "colab": {
          "base_uri": "https://localhost:8080/",
          "height": 646
        }
      },
      "execution_count": 10,
      "outputs": [
        {
          "output_type": "display_data",
          "data": {
            "text/plain": [
              "<Figure size 700x700 with 1 Axes>"
            ],
            "image/png": "[encoded data removed]"
          },
          "metadata": {}
        }
      ]
    },
    {
      "cell_type": "markdown",
      "source": [
        "Hay un desbalance en el conjunto de datos del 65% para los pacientes sanos, y 35% para los pacientes enfermos."
      ],
      "metadata": {
        "id": "QMUbkrv6D_8c"
      }
    },
    {
      "cell_type": "code",
      "source": [
        "X_train, X_test, y_train, y_test = train_test_split(\n",
        "    X,\n",
        "    y,\n",
        "    test_size=0.2,\n",
        "    random_state=12354,\n",
        "    shuffle=True\n",
        ")"
      ],
      "metadata": {
        "id": "f1i3QfFc_Ddf"
      },
      "execution_count": 11,
      "outputs": []
    },
    {
      "cell_type": "markdown",
      "source": [
        "# **Model**\n",
        "---"
      ],
      "metadata": {
        "id": "yyt50ZvdHh8C"
      }
    },
    {
      "cell_type": "code",
      "source": [
        "def base_model():\n",
        "  model = Sequential()\n",
        "  model.add(Dense(12, input_dim=8, activation='relu',\n",
        "                  kernel_initializer='glorot_uniform'))\n",
        "  model.add(Dense(8, activation='relu',\n",
        "                  kernel_initializer='glorot_uniform'))\n",
        "  model.add(Dense(1, activation='sigmoid',\n",
        "                  kernel_initializer='glorot_uniform'))\n",
        "  model.compile(loss='binary_crossentropy', optimizer='adam')\n",
        "\n",
        "  return model"
      ],
      "metadata": {
        "id": "B1QVwQZK_TBX"
      },
      "execution_count": 12,
      "outputs": []
    },
    {
      "cell_type": "code",
      "source": [
        "model = base_model()"
      ],
      "metadata": {
        "id": "TSuLiZ9AASD4"
      },
      "execution_count": 13,
      "outputs": []
    },
    {
      "cell_type": "code",
      "source": [
        "history = model.fit(\n",
        "    X_train,\n",
        "    y_train,\n",
        "    validation_data=(X_test, y_test),\n",
        "    epochs=500,\n",
        "    batch_size=16,\n",
        "    verbose=0)"
      ],
      "metadata": {
        "id": "vKOrYes7AWrX"
      },
      "execution_count": 14,
      "outputs": []
    },
    {
      "cell_type": "code",
      "source": [
        "500/16"
      ],
      "metadata": {
        "colab": {
          "base_uri": "https://localhost:8080/"
        },
        "id": "wrzF7B074nht",
        "outputId": "140c3102-92dc-409e-cfe7-11d47bb4930b"
      },
      "execution_count": 15,
      "outputs": [
        {
          "output_type": "execute_result",
          "data": {
            "text/plain": [
              "31.25"
            ]
          },
          "metadata": {},
          "execution_count": 15
        }
      ]
    },
    {
      "cell_type": "markdown",
      "source": [
        "31 lotes con 16 registros para actualizar la red neuronal."
      ],
      "metadata": {
        "id": "AwXJNxpE4NjI"
      }
    },
    {
      "cell_type": "code",
      "source": [
        "model.summary()"
      ],
      "metadata": {
        "id": "sYAqEVDwKunC",
        "colab": {
          "base_uri": "https://localhost:8080/"
        },
        "outputId": "472edf70-fd38-4391-fad3-9688c4accda0"
      },
      "execution_count": 16,
      "outputs": [
        {
          "output_type": "stream",
          "name": "stdout",
          "text": [
            "Model: \"sequential\"\n",
            "_________________________________________________________________\n",
            " Layer (type)                Output Shape              Param #   \n",
            "=================================================================\n",
            " dense (Dense)               (None, 12)                108       \n",
            "                                                                 \n",
            " dense_1 (Dense)             (None, 8)                 104       \n",
            "                                                                 \n",
            " dense_2 (Dense)             (None, 1)                 9         \n",
            "                                                                 \n",
            "=================================================================\n",
            "Total params: 221 (884.00 Byte)\n",
            "Trainable params: 221 (884.00 Byte)\n",
            "Non-trainable params: 0 (0.00 Byte)\n",
            "_________________________________________________________________\n"
          ]
        }
      ]
    },
    {
      "cell_type": "code",
      "source": [
        "history.history.keys()"
      ],
      "metadata": {
        "id": "25EakV-CeqML",
        "colab": {
          "base_uri": "https://localhost:8080/"
        },
        "outputId": "ef521b16-8f25-4fda-fd6f-b538413153d9"
      },
      "execution_count": 17,
      "outputs": [
        {
          "output_type": "execute_result",
          "data": {
            "text/plain": [
              "dict_keys(['loss', 'val_loss'])"
            ]
          },
          "metadata": {},
          "execution_count": 17
        }
      ]
    },
    {
      "cell_type": "markdown",
      "source": [
        "# **Curva de aprendizaje**\n",
        "---"
      ],
      "metadata": {
        "id": "RtvTIHLDi5L_"
      }
    },
    {
      "cell_type": "markdown",
      "source": [
        "## **Curvas de aprendizaje de optimización**\n",
        "---\n",
        "\n"
      ],
      "metadata": {
        "id": "3A7-UX-ojpIc"
      }
    },
    {
      "cell_type": "code",
      "source": [
        "type(history)"
      ],
      "metadata": {
        "id": "ZO-C0KA-GXdf",
        "colab": {
          "base_uri": "https://localhost:8080/"
        },
        "outputId": "656dd55a-b8e0-4fb7-fb01-77f60d901c13"
      },
      "execution_count": 18,
      "outputs": [
        {
          "output_type": "execute_result",
          "data": {
            "text/plain": [
              "keras.src.callbacks.History"
            ]
          },
          "metadata": {},
          "execution_count": 18
        }
      ]
    },
    {
      "cell_type": "code",
      "source": [
        "def optimization_learning_curves(\n",
        "    history:dict,\n",
        "    metrica:str,\n",
        "    title:str='',\n",
        "    X_size:int=8,\n",
        "    y_size:int=4,\n",
        "    font_size:int=15,\n",
        "    X_label:str='Epoch',\n",
        "    y_label:str='Loss'\n",
        ")->None:\n",
        "  \"\"\" Grafica curvas de aprendizaje \"\"\"\n",
        "  fig, ax = plt.subplots(figsize=(X_size, y_size))\n",
        "  fig.suptitle(title, fontsize=font_size)\n",
        "  ax.plot(history.history[metrica])\n",
        "  ax.plot(history.history[f'val_{metrica}'])\n",
        "  ax.set_xlabel(X_label, size = 12)\n",
        "  ax.set_ylabel(y_label, size = 12)\n",
        "  ax.legend(['Train', 'Test'], loc = 'upper right', fontsize = 12)\n",
        "  ax.tick_params(labelsize = 12)\n",
        "  fig.show()"
      ],
      "metadata": {
        "id": "nqqEJWmAGEyP"
      },
      "execution_count": 19,
      "outputs": []
    },
    {
      "cell_type": "code",
      "source": [
        "optimization_learning_curves(history, metrica='loss', title='Loss vs Val Loss')"
      ],
      "metadata": {
        "id": "vNVdS9ZGHX85",
        "colab": {
          "base_uri": "https://localhost:8080/",
          "height": 439
        },
        "outputId": "712151ab-3726-448f-bd4a-6785792f8e9b"
      },
      "execution_count": 20,
      "outputs": [
        {
          "output_type": "display_data",
          "data": {
            "text/plain": [
              "<Figure size 800x400 with 1 Axes>"
            ],
            "image/png": "[encoded data removed]"
          },
          "metadata": {}
        }
      ]
    },
    {
      "cell_type": "markdown",
      "source": [
        "- La perdida de entrenamiento y validación disminuyen hasta el punto de estabilida durante 300 epocas, con una `brecha de generailización` inperceptible.\n",
        "- Los datos de entrenamiento y validación son representativos para este conjunto de datos."
      ],
      "metadata": {
        "id": "4mY76_zRlaqN"
      }
    },
    {
      "cell_type": "markdown",
      "source": [
        "# **Predictions**\n",
        "---"
      ],
      "metadata": {
        "id": "H35Lcx4Ts1vP"
      }
    },
    {
      "cell_type": "code",
      "source": [
        "y_pred = (model.predict(X_test) > 0.5).astype('int32')"
      ],
      "metadata": {
        "id": "i4oIWFduJnWu",
        "colab": {
          "base_uri": "https://localhost:8080/"
        },
        "outputId": "efa2335c-27a3-4c6d-d0ac-4de26133a43e"
      },
      "execution_count": 21,
      "outputs": [
        {
          "output_type": "stream",
          "name": "stdout",
          "text": [
            "5/5 [==============================] - 0s 2ms/step\n"
          ]
        }
      ]
    },
    {
      "cell_type": "code",
      "source": [
        "y_pred = np.reshape(y_pred, y_pred.shape[0])\n",
        "y_pred"
      ],
      "metadata": {
        "id": "t-TiQ1PGIwuj",
        "colab": {
          "base_uri": "https://localhost:8080/"
        },
        "outputId": "5d718373-aa72-45da-f967-671f4d32e3bf"
      },
      "execution_count": 22,
      "outputs": [
        {
          "output_type": "execute_result",
          "data": {
            "text/plain": [
              "array([1, 0, 0, 1, 1, 0, 0, 0, 0, 0, 1, 0, 1, 1, 0, 0, 0, 1, 0, 0, 0, 0,\n",
              "       0, 0, 0, 0, 0, 0, 0, 0, 0, 1, 0, 0, 0, 0, 0, 0, 0, 1, 0, 1, 1, 1,\n",
              "       1, 0, 0, 0, 0, 0, 0, 0, 0, 0, 0, 1, 0, 1, 0, 0, 0, 0, 0, 0, 0, 1,\n",
              "       0, 0, 0, 0, 0, 0, 0, 1, 0, 0, 0, 1, 0, 0, 0, 0, 1, 0, 0, 0, 1, 0,\n",
              "       1, 0, 0, 1, 0, 0, 0, 0, 0, 0, 0, 0, 0, 0, 0, 1, 0, 0, 0, 0, 0, 1,\n",
              "       1, 1, 0, 1, 0, 1, 1, 1, 0, 1, 1, 0, 1, 0, 0, 0, 1, 0, 0, 0, 0, 0,\n",
              "       0, 0, 0, 0, 0, 1, 0, 0, 0, 0, 0, 0, 0, 1, 1, 0, 0, 0, 0, 1, 0, 0],\n",
              "      dtype=int32)"
            ]
          },
          "metadata": {},
          "execution_count": 22
        }
      ]
    },
    {
      "cell_type": "code",
      "source": [
        "# Sesgo predictivo\n",
        "#sesgo predicción = promedio de predicciones - promedio de etiquetas (observaciones) en el conjunto de datos\n",
        "def sesgo_prediction(y_pred:pd.Series,\n",
        "                     y_valid:pd.Series,\n",
        "                     target:int)->tuple:\n",
        "  \"\"\" Calcula el sesgo de predicción \"\"\"\n",
        "  average_prediction = (len(y_pred[y_pred==target])) / len(y_pred)\n",
        "  average_label_target = (len(y_valid[y_valid==target])) / len(y_valid)\n",
        "  sesgo_prediction = average_prediction - average_label_target\n",
        "  return sesgo_prediction, average_prediction, average_label_target"
      ],
      "metadata": {
        "id": "ZlyTnwNwJ014"
      },
      "execution_count": 24,
      "outputs": []
    },
    {
      "cell_type": "code",
      "source": [
        "sesgo, promedio_prediccion, promedio_validacion = sesgo_prediction(\n",
        "    y_pred,\n",
        "    y_test,\n",
        "    1)\n",
        "print(f'Promedio de predicciones:  {promedio_prediccion}')\n",
        "print(f'Promedio de etiquetas: {promedio_validacion}')\n",
        "print(f'Sesgo de predicción: {sesgo}')"
      ],
      "metadata": {
        "id": "7vv9mGG49PMW",
        "colab": {
          "base_uri": "https://localhost:8080/"
        },
        "outputId": "d844cec7-051c-4bcd-f7a6-3cda09c4a483"
      },
      "execution_count": 25,
      "outputs": [
        {
          "output_type": "stream",
          "name": "stdout",
          "text": [
            "Promedio de predicciones:  0.24675324675324675\n",
            "Promedio de etiquetas: 0.34415584415584416\n",
            "Sesgo de predicción: -0.09740259740259741\n"
          ]
        }
      ]
    },
    {
      "cell_type": "markdown",
      "source": [
        "- Tiene un sesgo de aproximadamente del 9.7%, el modelo sobestimar, tiene un porcentaje de errores de no predicciones de pacientes con diabetes"
      ],
      "metadata": {
        "id": "IZw9Iv5X9aa1"
      }
    },
    {
      "cell_type": "code",
      "source": [
        "kward={\"cmap\":\"RdBu\",  \"annot_kws\":{'size': 12}}\n",
        "matrix = matrix_confusion(\n",
        "    y_test,\n",
        "    y_pred,\n",
        "    title='confsusion matrix',\n",
        "    churm='Tasa enfermos',\n",
        "    no_churm='Tasa no enfermos', **kward)"
      ],
      "metadata": {
        "id": "8EU1_xZEUpaT",
        "colab": {
          "base_uri": "https://localhost:8080/",
          "height": 483
        },
        "outputId": "fc8479de-3cb8-40cc-abfe-cd994ea7a7be"
      },
      "execution_count": 27,
      "outputs": [
        {
          "output_type": "display_data",
          "data": {
            "text/plain": [
              "<Figure size 600x500 with 2 Axes>"
            ],
            "image/png": "[encoded data removed]"
          },
          "metadata": {}
        }
      ]
    },
    {
      "cell_type": "markdown",
      "source": [
        "El modelo para la detección de enfermos es muy regular, ya que tiene un porcentaje conciderable de falsos negativos, ya que se está detectando enfermos como sano. Como el conjunto de datos tiene desbalance, nos fijamos en la sensibilidad para detectar los enfermos, cuando realidad es enfemo"
      ],
      "metadata": {
        "id": "uwgymw3zEKTG"
      }
    },
    {
      "cell_type": "code",
      "source": [
        "def metricas(validation, prediction, matrix, label:list=[1])->None:\n",
        "  accuracy = '%.3f' % metrics.accuracy_score(validation, prediction)\n",
        "  kappa = '%.3f' % metrics.cohen_kappa_score(validation, prediction)\n",
        "  precision = '%.3f' % metrics.precision_score(\n",
        "      validation, prediction, labels=label, average=\"macro\")\n",
        "  recall = '%.3f' % metrics.recall_score(\n",
        "      validation, prediction, labels=label, average=\"macro\")\n",
        "  f1_score = '%.3f' % metrics.f1_score(\n",
        "      validation, prediction, labels=label, average=\"macro\")\n",
        "\n",
        "  print(f'Accuracy  :   {accuracy}')\n",
        "  print(f'Kappa     :   {kappa}')\n",
        "  print(f'predicción enfermos')\n",
        "  print(f'Precision:   {precision}')\n",
        "  print(f'Recall    :   {recall}')\n",
        "\n",
        "  VN, FP = 0, 0\n",
        "  if label == [1]:\n",
        "    VN = matrix[0,0]\n",
        "    FP = matrix[0,1]\n",
        "  else:\n",
        "    VN = matrix[0,0]\n",
        "    FP = matrix[0,1]\n",
        "  specificity = VN/(VN+FP)\n",
        "  specificity = '%.3f' %  specificity\n",
        "\n",
        "  print(f'Specificity:   {specificity}')\n",
        "  print(f'F1-score   :   {f1_score}')\n",
        "  return accuracy, kappa, precision, recall, f1_score, specificity"
      ],
      "metadata": {
        "id": "epdX4LbZNhJy"
      },
      "execution_count": 37,
      "outputs": []
    },
    {
      "cell_type": "code",
      "source": [
        "accuracy, kappa, precision, recall, f1_score, specificity = metricas(\n",
        "    y_test,\n",
        "    y_pred,\n",
        "    matrix)"
      ],
      "metadata": {
        "id": "ZeS9SmPhNjfr",
        "colab": {
          "base_uri": "https://localhost:8080/"
        },
        "outputId": "10bf8516-a03c-4b28-b4ae-7be39d4d12e3"
      },
      "execution_count": 38,
      "outputs": [
        {
          "output_type": "stream",
          "name": "stdout",
          "text": [
            "Accuracy  :   0.825\n",
            "Kappa     :   0.584\n",
            "predicción enfermos\n",
            "Precision:   0.842\n",
            "Recall    :   0.604\n",
            "Specificity:   0.941\n",
            "F1-score   :   0.703\n"
          ]
        }
      ]
    },
    {
      "cell_type": "code",
      "source": [
        "print(f'El numero de predicciones correctas por el modelo es del {accuracy} , pero el inconveniente es que los datos se encuentran desbalanceados')\n",
        "print(f'El kappa me indica que los estimadores de realidad y prediccion de la matrix de confusión tienen una corcondancia moderada del {kappa}')\n",
        "print(f'El modelo tienen un sensibilidad moderada {recall} para la detección de casos de diabetes, cuando en realidad son de diabetis')"
      ],
      "metadata": {
        "id": "PW7a3JajJpE7",
        "colab": {
          "base_uri": "https://localhost:8080/"
        },
        "outputId": "bb94b8da-62cb-4476-dabc-88f68b901c42"
      },
      "execution_count": 39,
      "outputs": [
        {
          "output_type": "stream",
          "name": "stdout",
          "text": [
            "El numero de predicciones correctas por el modelo es del 0.825 , pero el inconveniente es que los datos se encuentran desbalanceados\n",
            "El kappa me indica que los estimadores de realidad y prediccion de la matrix de confusión tienen una corcondancia moderada del 0.584\n",
            "El modelo tienen un sensibilidad moderada 0.604 para la detección de casos de diabetes, cuando en realidad son de diabetis\n"
          ]
        }
      ]
    },
    {
      "cell_type": "markdown",
      "source": [
        "- La sensibilidad es muy bajita, el modelo no seria el indicado, para un problema tán critico como detección de una enfermedad\n",
        "- Si nos basamo en la clase de interes, que es predecir casos de enfermos, el modelo es muy regular a malo, ya que detecta el 60% de los casos de enfermos."
      ],
      "metadata": {
        "id": "l-L1KOCrZUa3"
      }
    },
    {
      "cell_type": "markdown",
      "source": [
        "# **PRECISION-RECALL**\n",
        "---"
      ],
      "metadata": {
        "id": "tj3iXR7gZXY5"
      }
    },
    {
      "cell_type": "code",
      "source": [
        "y_prob = model.predict(X_test)\n",
        "pos_prob = np.reshape(y_prob, y_prob.shape[0])\n",
        "pos_prob"
      ],
      "metadata": {
        "id": "Zs2G4afeLudr",
        "colab": {
          "base_uri": "https://localhost:8080/"
        },
        "outputId": "6715b744-c87b-404d-f275-88a8759d90e2"
      },
      "execution_count": 41,
      "outputs": [
        {
          "output_type": "stream",
          "name": "stdout",
          "text": [
            "5/5 [==============================] - 0s 6ms/step\n"
          ]
        },
        {
          "output_type": "execute_result",
          "data": {
            "text/plain": [
              "array([6.26885891e-01, 5.51623441e-02, 2.77300835e-01, 6.41784966e-01,\n",
              "       5.83692491e-01, 8.88347626e-02, 9.64674205e-02, 2.51675043e-02,\n",
              "       6.22064918e-02, 3.78423601e-01, 7.31597185e-01, 1.55330701e-02,\n",
              "       7.37862170e-01, 6.02176487e-01, 1.73659444e-01, 2.83243274e-03,\n",
              "       2.38284364e-01, 9.11454678e-01, 4.76818718e-02, 1.44035399e-01,\n",
              "       3.04859858e-21, 8.69620591e-02, 2.59394348e-01, 2.41092786e-01,\n",
              "       1.92651004e-02, 5.46939708e-02, 1.06364682e-01, 4.69585925e-01,\n",
              "       3.42165560e-01, 8.95652771e-02, 4.40631300e-01, 7.71490991e-01,\n",
              "       1.13615945e-01, 3.20400119e-01, 1.85463846e-01, 8.84226859e-02,\n",
              "       1.49446309e-01, 3.96355718e-01, 4.09578890e-01, 7.18193352e-01,\n",
              "       5.90581559e-02, 6.85078621e-01, 6.58701897e-01, 9.09713387e-01,\n",
              "       5.51167488e-01, 7.63800666e-02, 2.78600072e-03, 3.81938070e-01,\n",
              "       2.32069880e-01, 6.49696067e-02, 4.14662004e-01, 3.98148507e-01,\n",
              "       7.02597648e-02, 3.35536301e-01, 8.81607551e-03, 5.81847548e-01,\n",
              "       1.41424378e-02, 8.49094927e-01, 4.23051745e-01, 2.64789671e-01,\n",
              "       1.31491289e-01, 2.56335795e-01, 1.03285894e-01, 2.33819678e-01,\n",
              "       6.08880334e-02, 5.69962025e-01, 8.58628750e-02, 2.28607550e-01,\n",
              "       2.03588963e-01, 2.28847206e-01, 4.11127120e-01, 3.45594257e-01,\n",
              "       2.15126470e-01, 7.77690589e-01, 4.20527875e-01, 5.33566857e-03,\n",
              "       9.02505666e-02, 7.61900246e-01, 4.25951093e-01, 1.39934197e-01,\n",
              "       1.39009412e-02, 4.57551479e-01, 9.27566290e-01, 1.98114976e-01,\n",
              "       9.32721198e-02, 1.28406718e-01, 5.36038101e-01, 1.66529402e-01,\n",
              "       6.08208120e-01, 3.16400200e-01, 3.21898520e-01, 7.48378932e-01,\n",
              "       4.79633152e-01, 2.64108509e-01, 6.44165045e-03, 2.13723838e-01,\n",
              "       5.72755635e-02, 1.55625537e-01, 1.23729527e-01, 2.39538237e-01,\n",
              "       3.27442139e-01, 1.57552645e-01, 3.63105327e-01, 8.16223085e-01,\n",
              "       3.43737990e-01, 3.11182201e-01, 3.49990040e-01, 2.79625475e-01,\n",
              "       2.84688711e-01, 7.33403921e-01, 8.58701408e-01, 6.91091180e-01,\n",
              "       3.87403846e-01, 8.30151260e-01, 7.61752576e-02, 7.19636619e-01,\n",
              "       5.08163810e-01, 7.32473433e-01, 4.57601905e-01, 5.23005784e-01,\n",
              "       7.94773936e-01, 4.50098157e-01, 9.09724653e-01, 3.53707284e-01,\n",
              "       2.36052945e-01, 2.60662019e-01, 8.78600240e-01, 3.57147962e-01,\n",
              "       8.44729441e-15, 2.87326545e-01, 3.92221868e-01, 8.84280279e-02,\n",
              "       3.30783010e-01, 1.63155571e-01, 3.83220911e-01, 4.20408472e-02,\n",
              "       4.41381633e-01, 7.21156240e-01, 1.78889319e-01, 1.47615343e-01,\n",
              "       2.47146696e-01, 4.08409350e-02, 1.47166461e-01, 7.12127835e-02,\n",
              "       2.89533287e-01, 7.84193873e-01, 9.99260485e-01, 3.31228715e-03,\n",
              "       1.01106741e-01, 2.42694035e-01, 3.09023038e-02, 9.73101318e-01,\n",
              "       2.35982835e-01, 3.76044601e-01], dtype=float32)"
            ]
          },
          "metadata": {},
          "execution_count": 41
        }
      ]
    },
    {
      "cell_type": "code",
      "source": [
        "def precision_recall(y:np.ndarray, prediction_prob:np.ndarray, validation:np.ndarray)->float:\n",
        "  no_skill = len(y[y==1]) / len(y)\n",
        "  plt.plot([0, 1], [no_skill, no_skill], linestyle='--', label='No Skill')\n",
        "  precision, recall, _ = metrics.precision_recall_curve(validation, prediction_prob)\n",
        "  plt.plot(recall, precision, marker='.', label='Multi Layer Perceptron')\n",
        "  plt.xlabel('Recall')\n",
        "  plt.ylabel('Precision')\n",
        "  plt.legend()\n",
        "  auc_score = metrics.auc(recall, precision)\n",
        "  plt.show()\n",
        "  return auc_score"
      ],
      "metadata": {
        "id": "AMc_OSgcblaJ"
      },
      "execution_count": 42,
      "outputs": []
    },
    {
      "cell_type": "code",
      "source": [
        "auc_score = precision_recall(y, pos_prob, y_test)"
      ],
      "metadata": {
        "id": "Ft9fL2r5gM_z",
        "colab": {
          "base_uri": "https://localhost:8080/",
          "height": 458
        },
        "outputId": "50b8ce9d-1cb8-4e44-c7c3-4d1001daf760"
      },
      "execution_count": 43,
      "outputs": [
        {
          "output_type": "display_data",
          "data": {
            "text/plain": [
              "<Figure size 640x480 with 1 Axes>"
            ],
            "image/png": "[encoded data removed]"
          },
          "metadata": {}
        }
      ]
    },
    {
      "cell_type": "code",
      "source": [
        "print('Multi Layer Perceptron PR AUC: %.3f' % auc_score)"
      ],
      "metadata": {
        "id": "Bp82ZW_2lvax",
        "colab": {
          "base_uri": "https://localhost:8080/"
        },
        "outputId": "5e3d6d95-016d-403f-9c8e-356eac3406ca"
      },
      "execution_count": 44,
      "outputs": [
        {
          "output_type": "stream",
          "name": "stdout",
          "text": [
            "Multi Layer Perceptron PR AUC: 0.781\n"
          ]
        }
      ]
    },
    {
      "cell_type": "markdown",
      "source": [
        "El modelo tiene un habilidad por encima del promedio (Modelo sin habilidad) regular,  no es el mejor para el problema al cual se enfrenta, ya que implica la detección de una enfermedad apartir de algunas caracteristicas."
      ],
      "metadata": {
        "id": "PRg0b4WKOlIq"
      }
    },
    {
      "cell_type": "markdown",
      "source": [
        "Como el proposito del proyecto, esta enfocado al autoaprendizaje no se aplicaron todas las tecnicas y conocimientos requeridos, sin embargo se realizaron variaciones en los hiperparametros, asi como manipular la estructura de la red y los valores en la partición de los datos."
      ],
      "metadata": {
        "id": "UFnbIqcAO8Fr"
      }
    },
    {
      "cell_type": "markdown",
      "source": [
        "**Tambien se aclara que el problema se pudo abordar mejor con otro timo de modelos de clasificación, sin embargo ese no hacia parte del objetivo, ya que se pretendia aprender sobre modelos de deep learning.**"
      ],
      "metadata": {
        "id": "UOwQ1wyqPd27"
      }
    }
  ]
}