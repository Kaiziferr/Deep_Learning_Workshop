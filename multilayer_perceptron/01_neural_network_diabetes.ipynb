{
  "nbformat": 4,
  "nbformat_minor": 0,
  "metadata": {
    "colab": {
      "name": "01_neural_network_diabetes.ipynb",
      "provenance": [],
      "authorship_tag": "ABX9TyNFHa7ljr5izm+yOQ9DgDiM",
      "include_colab_link": true
    },
    "kernelspec": {
      "name": "python3",
      "display_name": "Python 3"
    },
    "language_info": {
      "name": "python"
    }
  },
  "cells": [
    {
      "cell_type": "markdown",
      "metadata": {
        "id": "view-in-github",
        "colab_type": "text"
      },
      "source": [
        "<a href=\"https://colab.research.google.com/github/Kaiziferr/deep_learning/blob/master/multilayer_perceptron/01_neural_network_diabetes.ipynb\" target=\"_parent\"><img src=\"https://colab.research.google.com/assets/colab-badge.svg\" alt=\"Open In Colab\"/></a>"
      ]
    },
    {
      "cell_type": "code",
      "source": [
        "import tensorflow\n",
        "import keras\n",
        "import numpy as np\n",
        "import pandas as pd\n",
        "import matplotlib.pyplot as plt\n",
        "import seaborn as sns\n",
        "\n",
        "from keras.models import Sequential\n",
        "from keras.layers import Dense\n",
        "\n",
        "from sklearn.model_selection import train_test_split\n",
        "from sklearn import metrics\n",
        "from sklearn.compose import ColumnTransformer\n",
        "from sklearn.preprocessing import StandardScaler"
      ],
      "metadata": {
        "id": "4gnGNDQrZsIY"
      },
      "execution_count": 1,
      "outputs": []
    },
    {
      "cell_type": "markdown",
      "source": [
        "# **Objetivos**\n",
        "---\n",
        "- Entender y codificar sobre el conjunto de datos en el problema de diagnosticar si un paciente mujer tiene o no diabetes del pueblo pima:\n",
        " - curvas de aprendizaje\n",
        " - sesgo de predicción\n",
        " - matrix confusión\n",
        " - Metricas\n",
        "   - Accuracy\n",
        "   - Kappa     \n",
        "   - Precision\n",
        "   - Recall \n",
        "   - Specificity\n",
        "   - F1-score\n",
        " - Precision-recall \n",
        "\n",
        "\n"
      ],
      "metadata": {
        "id": "QsIFUKasAqeZ"
      }
    },
    {
      "cell_type": "markdown",
      "source": [
        "## **Dicionario de datos**\n",
        "---\n",
        "- `Pregnancies` : número de veces de embarazo\n",
        "- `Glucose` : concentración de glucosa plasmática a las 2 horas en una prueba de tolerancia oral a la glucosa\n",
        "- `BloodPressure`: presión arterial diastólica (mm Hg)\n",
        "- `SkinThickness`: grosor del pliegue cutáneo del tríceps (mm)\n",
        "- `Insulin` : insulina sérica de 2 horas (mu U/ml)\n",
        "- `BMI` : Índice de masa corporal (peso en kg/(altura en m)^2)\n",
        "- `DiabetesPedigreeFunction`: función de pedigrí de diabetes\n",
        "- `Age`: edad\n",
        "- `Outcome`: está enfermo?"
      ],
      "metadata": {
        "id": "334clBxRA_eg"
      }
    },
    {
      "cell_type": "code",
      "source": [
        "url = 'https://raw.githubusercontent.com/Kaiziferr/datasets/main/diabetes.csv'\n",
        "data = pd.read_csv(url)\n",
        "data_values = data.values"
      ],
      "metadata": {
        "id": "EoEJOw-00Bj1"
      },
      "execution_count": 2,
      "outputs": []
    },
    {
      "cell_type": "code",
      "source": [
        "data.head(3)"
      ],
      "metadata": {
        "id": "Kv3n2JrsbPvQ",
        "outputId": "731f48b8-9cfe-4387-de6e-67a5228b9c40",
        "colab": {
          "base_uri": "https://localhost:8080/",
          "height": 143
        }
      },
      "execution_count": 3,
      "outputs": [
        {
          "output_type": "execute_result",
          "data": {
            "text/plain": [
              "   Pregnancies  Glucose  BloodPressure  SkinThickness  Insulin   BMI  \\\n",
              "0            6      148             72             35        0  33.6   \n",
              "1            1       85             66             29        0  26.6   \n",
              "2            8      183             64              0        0  23.3   \n",
              "\n",
              "   DiabetesPedigreeFunction  Age  Outcome  \n",
              "0                     0.627   50        1  \n",
              "1                     0.351   31        0  \n",
              "2                     0.672   32        1  "
            ],
            "text/html": [
              "\n",
              "  <div id=\"df-6693ac86-1185-40ac-801e-43bd8e995df7\">\n",
              "    <div class=\"colab-df-container\">\n",
              "      <div>\n",
              "<style scoped>\n",
              "    .dataframe tbody tr th:only-of-type {\n",
              "        vertical-align: middle;\n",
              "    }\n",
              "\n",
              "    .dataframe tbody tr th {\n",
              "        vertical-align: top;\n",
              "    }\n",
              "\n",
              "    .dataframe thead th {\n",
              "        text-align: right;\n",
              "    }\n",
              "</style>\n",
              "<table border=\"1\" class=\"dataframe\">\n",
              "  <thead>\n",
              "    <tr style=\"text-align: right;\">\n",
              "      <th></th>\n",
              "      <th>Pregnancies</th>\n",
              "      <th>Glucose</th>\n",
              "      <th>BloodPressure</th>\n",
              "      <th>SkinThickness</th>\n",
              "      <th>Insulin</th>\n",
              "      <th>BMI</th>\n",
              "      <th>DiabetesPedigreeFunction</th>\n",
              "      <th>Age</th>\n",
              "      <th>Outcome</th>\n",
              "    </tr>\n",
              "  </thead>\n",
              "  <tbody>\n",
              "    <tr>\n",
              "      <th>0</th>\n",
              "      <td>6</td>\n",
              "      <td>148</td>\n",
              "      <td>72</td>\n",
              "      <td>35</td>\n",
              "      <td>0</td>\n",
              "      <td>33.6</td>\n",
              "      <td>0.627</td>\n",
              "      <td>50</td>\n",
              "      <td>1</td>\n",
              "    </tr>\n",
              "    <tr>\n",
              "      <th>1</th>\n",
              "      <td>1</td>\n",
              "      <td>85</td>\n",
              "      <td>66</td>\n",
              "      <td>29</td>\n",
              "      <td>0</td>\n",
              "      <td>26.6</td>\n",
              "      <td>0.351</td>\n",
              "      <td>31</td>\n",
              "      <td>0</td>\n",
              "    </tr>\n",
              "    <tr>\n",
              "      <th>2</th>\n",
              "      <td>8</td>\n",
              "      <td>183</td>\n",
              "      <td>64</td>\n",
              "      <td>0</td>\n",
              "      <td>0</td>\n",
              "      <td>23.3</td>\n",
              "      <td>0.672</td>\n",
              "      <td>32</td>\n",
              "      <td>1</td>\n",
              "    </tr>\n",
              "  </tbody>\n",
              "</table>\n",
              "</div>\n",
              "      <button class=\"colab-df-convert\" onclick=\"convertToInteractive('df-6693ac86-1185-40ac-801e-43bd8e995df7')\"\n",
              "              title=\"Convert this dataframe to an interactive table.\"\n",
              "              style=\"display:none;\">\n",
              "        \n",
              "  <svg xmlns=\"http://www.w3.org/2000/svg\" height=\"24px\"viewBox=\"0 0 24 24\"\n",
              "       width=\"24px\">\n",
              "    <path d=\"M0 0h24v24H0V0z\" fill=\"none\"/>\n",
              "    <path d=\"M18.56 5.44l.94 2.06.94-2.06 2.06-.94-2.06-.94-.94-2.06-.94 2.06-2.06.94zm-11 1L8.5 8.5l.94-2.06 2.06-.94-2.06-.94L8.5 2.5l-.94 2.06-2.06.94zm10 10l.94 2.06.94-2.06 2.06-.94-2.06-.94-.94-2.06-.94 2.06-2.06.94z\"/><path d=\"M17.41 7.96l-1.37-1.37c-.4-.4-.92-.59-1.43-.59-.52 0-1.04.2-1.43.59L10.3 9.45l-7.72 7.72c-.78.78-.78 2.05 0 2.83L4 21.41c.39.39.9.59 1.41.59.51 0 1.02-.2 1.41-.59l7.78-7.78 2.81-2.81c.8-.78.8-2.07 0-2.86zM5.41 20L4 18.59l7.72-7.72 1.47 1.35L5.41 20z\"/>\n",
              "  </svg>\n",
              "      </button>\n",
              "      \n",
              "  <style>\n",
              "    .colab-df-container {\n",
              "      display:flex;\n",
              "      flex-wrap:wrap;\n",
              "      gap: 12px;\n",
              "    }\n",
              "\n",
              "    .colab-df-convert {\n",
              "      background-color: #E8F0FE;\n",
              "      border: none;\n",
              "      border-radius: 50%;\n",
              "      cursor: pointer;\n",
              "      display: none;\n",
              "      fill: #1967D2;\n",
              "      height: 32px;\n",
              "      padding: 0 0 0 0;\n",
              "      width: 32px;\n",
              "    }\n",
              "\n",
              "    .colab-df-convert:hover {\n",
              "      background-color: #E2EBFA;\n",
              "      box-shadow: 0px 1px 2px rgba(60, 64, 67, 0.3), 0px 1px 3px 1px rgba(60, 64, 67, 0.15);\n",
              "      fill: #174EA6;\n",
              "    }\n",
              "\n",
              "    [theme=dark] .colab-df-convert {\n",
              "      background-color: #3B4455;\n",
              "      fill: #D2E3FC;\n",
              "    }\n",
              "\n",
              "    [theme=dark] .colab-df-convert:hover {\n",
              "      background-color: #434B5C;\n",
              "      box-shadow: 0px 1px 3px 1px rgba(0, 0, 0, 0.15);\n",
              "      filter: drop-shadow(0px 1px 2px rgba(0, 0, 0, 0.3));\n",
              "      fill: #FFFFFF;\n",
              "    }\n",
              "  </style>\n",
              "\n",
              "      <script>\n",
              "        const buttonEl =\n",
              "          document.querySelector('#df-6693ac86-1185-40ac-801e-43bd8e995df7 button.colab-df-convert');\n",
              "        buttonEl.style.display =\n",
              "          google.colab.kernel.accessAllowed ? 'block' : 'none';\n",
              "\n",
              "        async function convertToInteractive(key) {\n",
              "          const element = document.querySelector('#df-6693ac86-1185-40ac-801e-43bd8e995df7');\n",
              "          const dataTable =\n",
              "            await google.colab.kernel.invokeFunction('convertToInteractive',\n",
              "                                                     [key], {});\n",
              "          if (!dataTable) return;\n",
              "\n",
              "          const docLinkHtml = 'Like what you see? Visit the ' +\n",
              "            '<a target=\"_blank\" href=https://colab.research.google.com/notebooks/data_table.ipynb>data table notebook</a>'\n",
              "            + ' to learn more about interactive tables.';\n",
              "          element.innerHTML = '';\n",
              "          dataTable['output_type'] = 'display_data';\n",
              "          await google.colab.output.renderOutput(dataTable, element);\n",
              "          const docLink = document.createElement('div');\n",
              "          docLink.innerHTML = docLinkHtml;\n",
              "          element.appendChild(docLink);\n",
              "        }\n",
              "      </script>\n",
              "    </div>\n",
              "  </div>\n",
              "  "
            ]
          },
          "metadata": {},
          "execution_count": 3
        }
      ]
    },
    {
      "cell_type": "markdown",
      "source": [
        "# **Data Split**\n",
        "---"
      ],
      "metadata": {
        "id": "mKY-EtUBB7CC"
      }
    },
    {
      "cell_type": "code",
      "source": [
        "X = data.iloc[:, :8]\n",
        "y = data.iloc[:, 8]"
      ],
      "metadata": {
        "id": "p34qHBB9C8nU"
      },
      "execution_count": 4,
      "outputs": []
    },
    {
      "cell_type": "code",
      "source": [
        "def plot_bars(data, title: str= 'feature', x_size:int=15, y_size:int=5, \n",
        "              font_size:int=5, nrows=1, ncols=2):\n",
        "  fig, ax = plt.subplots(nrows=1, ncols=2, figsize = (x_size, y_size))\n",
        "  fig.suptitle(f'Count plot {title}', fontsize = font_size)\n",
        "  sns.countplot(x = data, ax = ax[0])\n",
        "  ax[0].set_title(f'Diagrama de barras {title}', size = 15)\n",
        "\n",
        "  aver = data.value_counts()\n",
        "  plt.pie(data.value_counts(), labels = aver.index, autopct=\"%0.1f %%\")\n",
        "  plt.title(f'Diagrama de torta {title}')\n",
        "\n",
        "  fig.tight_layout()\n",
        "  plt.subplots_adjust(top = 0.80)\n",
        "  fig.suptitle(f'Conteo Variables Cualitativas {title}', fontsize = 17, \n",
        "               fontweight = \"bold\");"
      ],
      "metadata": {
        "id": "WrQfZ0J8DJgE"
      },
      "execution_count": 5,
      "outputs": []
    },
    {
      "cell_type": "code",
      "source": [
        "plot_bars(data['Outcome'], 'Taza de enfermos')"
      ],
      "metadata": {
        "id": "Q7itbTfHDKD0",
        "outputId": "272020c1-94e8-49cb-90c4-c0a5a97c642b",
        "colab": {
          "base_uri": "https://localhost:8080/",
          "height": 512
        }
      },
      "execution_count": 6,
      "outputs": [
        {
          "output_type": "display_data",
          "data": {
            "text/plain": [
              "<Figure size 1500x500 with 2 Axes>"
            ],
            "image/png": "[encoded data removed]"
          },
          "metadata": {}
        }
      ]
    },
    {
      "cell_type": "markdown",
      "source": [
        "Hay un desbalance en el conjunto de datos del 65% para los pacientes sanos, y 35% para los pacientes enfermos."
      ],
      "metadata": {
        "id": "QMUbkrv6D_8c"
      }
    },
    {
      "cell_type": "code",
      "source": [
        "X_train, X_test, y_train, y_test = train_test_split(\n",
        "    X, y, test_size=0.2, random_state=12354, shuffle=True)"
      ],
      "metadata": {
        "id": "ReReXD4s1QnW"
      },
      "execution_count": 7,
      "outputs": []
    },
    {
      "cell_type": "markdown",
      "source": [
        "# **Model**\n",
        "---"
      ],
      "metadata": {
        "id": "yyt50ZvdHh8C"
      }
    },
    {
      "cell_type": "code",
      "source": [
        "def base_model():\n",
        "  model = Sequential()\n",
        "  model.add(Dense(12, input_dim = 8, activation = 'relu', \n",
        "                  kernel_initializer='glorot_uniform'))\n",
        "  model.add(Dense(8, activation ='relu', \n",
        "                  kernel_initializer='glorot_uniform'))\n",
        "  model.add(Dense(1, activation='sigmoid', \n",
        "                  kernel_initializer='glorot_uniform'))\n",
        "  model.compile(loss='binary_crossentropy', optimizer='adam')\n",
        "  return model"
      ],
      "metadata": {
        "id": "D0Ls0D2TEZfA"
      },
      "execution_count": 8,
      "outputs": []
    },
    {
      "cell_type": "code",
      "source": [
        "model = base_model()\n",
        "history = model.fit(X_train, y_train, validation_data = (\n",
        "    X_test, y_test), epochs = 300, batch_size=16, verbose=0)"
      ],
      "metadata": {
        "id": "7t6wo1gBFS3P"
      },
      "execution_count": 9,
      "outputs": []
    },
    {
      "cell_type": "code",
      "source": [
        "model.summary()"
      ],
      "metadata": {
        "colab": {
          "base_uri": "https://localhost:8080/"
        },
        "id": "sYAqEVDwKunC",
        "outputId": "61435a37-b376-4f2b-a0f4-a259b5906fe2"
      },
      "execution_count": 10,
      "outputs": [
        {
          "output_type": "stream",
          "name": "stdout",
          "text": [
            "Model: \"sequential\"\n",
            "_________________________________________________________________\n",
            " Layer (type)                Output Shape              Param #   \n",
            "=================================================================\n",
            " dense (Dense)               (None, 12)                108       \n",
            "                                                                 \n",
            " dense_1 (Dense)             (None, 8)                 104       \n",
            "                                                                 \n",
            " dense_2 (Dense)             (None, 1)                 9         \n",
            "                                                                 \n",
            "=================================================================\n",
            "Total params: 221\n",
            "Trainable params: 221\n",
            "Non-trainable params: 0\n",
            "_________________________________________________________________\n"
          ]
        }
      ]
    },
    {
      "cell_type": "code",
      "source": [
        "history.history.keys()"
      ],
      "metadata": {
        "colab": {
          "base_uri": "https://localhost:8080/"
        },
        "id": "25EakV-CeqML",
        "outputId": "c71aaa38-2846-4074-baee-defa32c12475"
      },
      "execution_count": 11,
      "outputs": [
        {
          "output_type": "execute_result",
          "data": {
            "text/plain": [
              "dict_keys(['loss', 'val_loss'])"
            ]
          },
          "metadata": {},
          "execution_count": 11
        }
      ]
    },
    {
      "cell_type": "markdown",
      "source": [
        "# **Curva de aprendizaje**\n",
        "---"
      ],
      "metadata": {
        "id": "RtvTIHLDi5L_"
      }
    },
    {
      "cell_type": "markdown",
      "source": [
        "## **Curvas de aprendizaje de optimización**\n",
        "---\n",
        "\n"
      ],
      "metadata": {
        "id": "3A7-UX-ojpIc"
      }
    },
    {
      "cell_type": "code",
      "source": [
        "def optimization_learning_curves(history, metrica, title: str= '', x_size:int=8, \n",
        "                                 y_size:int=4, font_size:int=15, \n",
        "                                 x_label:str='Epoch',y_label:str='Loss')->None:\n",
        "  fig, ax = plt.subplots(figsize = (x_size, y_size))\n",
        "  fig.suptitle(title, fontsize = font_size)\n",
        "  ax.plot(history.history[metrica])\n",
        "  ax.plot(history.history[f'val_{metrica}'])\n",
        "  ax.set_xlabel(x_label, size = 12)\n",
        "  ax.set_ylabel(y_label, size = 12)\n",
        "  ax.legend(['Train', 'Test'], loc = 'upper left', fontsize = 12)\n",
        "  ax.tick_params(labelsize = 12)\n",
        "  fig.show()"
      ],
      "metadata": {
        "id": "EOtygLHsj7wg"
      },
      "execution_count": 12,
      "outputs": []
    },
    {
      "cell_type": "code",
      "source": [
        "optimization_learning_curves(history, metrica='loss', title='Loss vs Val Loss')"
      ],
      "metadata": {
        "colab": {
          "base_uri": "https://localhost:8080/",
          "height": 436
        },
        "id": "wi5arDXelA95",
        "outputId": "ce64e0ba-4574-4586-9ae1-bfb1ddc60f40"
      },
      "execution_count": 13,
      "outputs": [
        {
          "output_type": "display_data",
          "data": {
            "text/plain": [
              "<Figure size 800x400 with 1 Axes>"
            ],
            "image/png": "[encoded data removed]"
          },
          "metadata": {}
        }
      ]
    },
    {
      "cell_type": "markdown",
      "source": [
        "- La perdida de entrenamiento y validación disminuyen hasta el punto de estabilida durante 300 epocas, con una `brecha de generailización` inperceptible.\n",
        "- Los datos de entrenamiento y validación son representativos"
      ],
      "metadata": {
        "id": "4mY76_zRlaqN"
      }
    },
    {
      "cell_type": "markdown",
      "source": [
        "# **Predictions**\n",
        "---"
      ],
      "metadata": {
        "id": "H35Lcx4Ts1vP"
      }
    },
    {
      "cell_type": "code",
      "source": [
        "y_pred = (model.predict(X_test)>0.5).astype('int32')\n",
        "y_pred = np.reshape(y_pred, y_pred.shape[0])\n",
        "y_pred"
      ],
      "metadata": {
        "id": "t-TiQ1PGIwuj",
        "outputId": "06330a6b-ce2c-42b8-b73b-65638d24a292",
        "colab": {
          "base_uri": "https://localhost:8080/"
        }
      },
      "execution_count": 15,
      "outputs": [
        {
          "output_type": "stream",
          "name": "stdout",
          "text": [
            "5/5 [==============================] - 0s 3ms/step\n"
          ]
        },
        {
          "output_type": "execute_result",
          "data": {
            "text/plain": [
              "array([1, 0, 0, 1, 0, 0, 0, 0, 0, 1, 1, 0, 0, 1, 0, 0, 1, 1, 0, 0, 0, 0,\n",
              "       0, 0, 0, 0, 0, 0, 0, 0, 1, 1, 0, 1, 0, 0, 0, 0, 1, 1, 0, 1, 1, 1,\n",
              "       1, 0, 0, 0, 0, 1, 0, 0, 0, 0, 0, 1, 0, 1, 0, 1, 0, 0, 0, 0, 0, 1,\n",
              "       0, 0, 0, 0, 0, 0, 0, 1, 0, 0, 0, 1, 0, 0, 0, 1, 1, 0, 0, 0, 0, 0,\n",
              "       1, 1, 0, 1, 1, 0, 0, 0, 0, 0, 0, 0, 1, 0, 0, 1, 1, 0, 0, 0, 0, 1,\n",
              "       1, 1, 0, 1, 0, 1, 1, 1, 0, 1, 1, 0, 1, 0, 0, 0, 1, 0, 1, 0, 0, 0,\n",
              "       0, 0, 0, 0, 1, 1, 0, 0, 0, 0, 0, 0, 0, 1, 1, 0, 0, 0, 0, 1, 0, 0],\n",
              "      dtype=int32)"
            ]
          },
          "metadata": {},
          "execution_count": 15
        }
      ]
    },
    {
      "cell_type": "code",
      "source": [
        "# Sesgo predictivo\n",
        "#sesgo predicción = promedio de predicciones - promedio de etiquetas (observaciones) en el conjunto de datos\n",
        "# Sick\n",
        "def sesgo_prediction(prediction, validation)->tuple:\n",
        "  average_prediction = (len(prediction[prediction==1])/len(prediction))\n",
        "  average_label_target = (len(validation[validation==1]) / len(validation)) \n",
        "  sesgo_prediction = average_prediction - average_label_target\n",
        "  return sesgo_prediction, average_prediction, average_label_target"
      ],
      "metadata": {
        "id": "0e_kj8g_vtBN"
      },
      "execution_count": 17,
      "outputs": []
    },
    {
      "cell_type": "code",
      "source": [
        "sesgo, promedio_prediccion, promedio_validacion = sesgo_prediction(y_pred, y_test)\n",
        "print(f'Promedio de predicciones:  {promedio_prediccion}')\n",
        "print(f'Promedio de etiquetas: {promedio_validacion}')\n",
        "print(f'Sesgo de predicción: {sesgo}')"
      ],
      "metadata": {
        "colab": {
          "base_uri": "https://localhost:8080/"
        },
        "id": "7vv9mGG49PMW",
        "outputId": "0f17bbff-5cd1-41c6-e643-df8bcd443bbc"
      },
      "execution_count": 18,
      "outputs": [
        {
          "output_type": "stream",
          "name": "stdout",
          "text": [
            "Promedio de predicciones:  0.3181818181818182\n",
            "Promedio de etiquetas: 0.34415584415584416\n",
            "Sesgo de predicción: -0.025974025974025983\n"
          ]
        }
      ]
    },
    {
      "cell_type": "markdown",
      "source": [
        "- Tiene un sesgo negativo del 3%, el modelo subestima, tiene un porcentaje de errores de no predicciones de pacientes con diabetes"
      ],
      "metadata": {
        "id": "IZw9Iv5X9aa1"
      }
    },
    {
      "cell_type": "code",
      "source": [
        "def consufion_matrix(validation, prediction, title: str= 'Matriz de confusion', \n",
        "                     x_size:int=6, y_size:int=5, **kwards)->np.ndarray:\n",
        "  matrix = metrics.confusion_matrix(validation, prediction)\n",
        "  fig, ax = plt.subplots(nrows= 1, ncols=  1, figsize = (x_size,y_size))\n",
        "  sns.heatmap(matrix, annot=True, ax = ax, cmap=plt.cm.Blues, fmt = 'g', annot_kws={'size': 13})\n",
        "  ax.set_title(title, size = 13)\n",
        "  v = list(kwards.values())\n",
        "  k = list(kwards.keys())\n",
        "\n",
        "  if ax.get_xticklabels()[0].get_text() == v[0]:\n",
        "    ax.xaxis.set_ticklabels([k[0], k[1]])\n",
        "    ax.yaxis.set_ticklabels([k[0], k[1]])\n",
        "  else:\n",
        "    ax.xaxis.set_ticklabels([k[1], k[0]])\n",
        "    ax.yaxis.set_ticklabels([k[1], k[0]])\n",
        "  ax.tick_params(labelsize = 13)\n",
        "  fig.show()\n",
        "  return matrix"
      ],
      "metadata": {
        "id": "1AQxSsUU6Qum"
      },
      "execution_count": 19,
      "outputs": []
    },
    {
      "cell_type": "code",
      "source": [
        "matrix = consufion_matrix(y_test, y_pred, **{'Enfermos':1, 'Sanos':0})"
      ],
      "metadata": {
        "id": "mkeJV7oX7Z7f",
        "outputId": "0b00fc17-e8f8-426d-8726-eb39f3c0ffad",
        "colab": {
          "base_uri": "https://localhost:8080/",
          "height": 472
        }
      },
      "execution_count": 20,
      "outputs": [
        {
          "output_type": "display_data",
          "data": {
            "text/plain": [
              "<Figure size 600x500 with 2 Axes>"
            ],
            "image/png": "[encoded data removed]"
          },
          "metadata": {}
        }
      ]
    },
    {
      "cell_type": "markdown",
      "source": [
        "El modelo para la detección de enfermos es muy regular, ya que tiene un porcentaje conciderable de falsos negativos, ya que se está detectando sanos como enfermos. Como el conjunto de datos tiene desbalance, nos fijamos en la sensibilidad para detectar los enfermos, cuando realidad es enfemo"
      ],
      "metadata": {
        "id": "uwgymw3zEKTG"
      }
    },
    {
      "cell_type": "code",
      "source": [
        "def metricas(validation, prediction, matrix, label:list=[1])->None:\n",
        "  accuracy = '%.3f' % metrics.accuracy_score(validation, prediction)\n",
        "  kappa = '%.3f' % metrics.cohen_kappa_score(validation, prediction)\n",
        "  precision = '%.3f' % metrics.precision_score(validation, prediction, labels=label, average=\"macro\")\n",
        "  recall = '%.3f' % metrics.recall_score(validation, prediction, labels=label, average=\"macro\")\n",
        "  f1_score = '%.3f' % metrics.f1_score(validation, prediction, labels=label, average=\"macro\")\n",
        "\n",
        "  print(f'Accuracy  :   {accuracy}')\n",
        "  print(f'Kappa     :   {kappa}')\n",
        "  print(f'predicción enfermos')\n",
        "  print(f'Precision:   {precision}')\n",
        "  print(f'Recall    :   {recall}')\n",
        "\n",
        "  VN, FP = 0, 0 \n",
        "  if label == [1]:\n",
        "    VN = matrix[0,0]\n",
        "    FP = matrix[0,1]\n",
        "  else:\n",
        "    VN = matrix[0,0]\n",
        "    FP = matrix[0,1]\n",
        "  specificity = VN/(VN+FP)\n",
        "  specificity = '%.3f' %  specificity\n",
        "\n",
        "  print(f'Specificity:   {specificity}')\n",
        "  print(f'F1-score   :   {f1_score}')\n",
        "  return accuracy, kappa, precision, recall, f1_score, specificity"
      ],
      "metadata": {
        "id": "epdX4LbZNhJy"
      },
      "execution_count": 21,
      "outputs": []
    },
    {
      "cell_type": "code",
      "source": [
        "accuracy, kappa, precision, recall, f1_score, specificity = metricas(y_test, y_pred, matrix)"
      ],
      "metadata": {
        "id": "ZeS9SmPhNjfr",
        "outputId": "a3989c9d-e0aa-405a-fc3b-64c9720b559e",
        "colab": {
          "base_uri": "https://localhost:8080/"
        }
      },
      "execution_count": 22,
      "outputs": [
        {
          "output_type": "stream",
          "name": "stdout",
          "text": [
            "Accuracy  :   0.779\n",
            "Kappa     :   0.502\n",
            "predicción enfermos\n",
            "Precision:   0.694\n",
            "Recall    :   0.642\n",
            "Specificity:   0.851\n",
            "F1-score   :   0.667\n"
          ]
        }
      ]
    },
    {
      "cell_type": "code",
      "source": [
        "print(f'El numero de predicciones correctas por el modelo es del {accuracy} , pero el inconveniente es que los datos se encuentran desbalanceados')\n",
        "print(f'El kappa me indica que los estimadores de realidad y prediccion de la matrix de confusión tienen una corcondancia moderada del {kappa}')\n",
        "print(f'El modelo tienen un sensibilidad moderada {recall} para la detección de casos de diabetes, cuando en realidad son de diabetis')"
      ],
      "metadata": {
        "id": "PW7a3JajJpE7",
        "outputId": "1730fb59-9c1a-4954-a454-ba3540dd3a16",
        "colab": {
          "base_uri": "https://localhost:8080/"
        }
      },
      "execution_count": 23,
      "outputs": [
        {
          "output_type": "stream",
          "name": "stdout",
          "text": [
            "El numero de predicciones correctas por el modelo es del 0.779 , pero el inconveniente es que los datos se encuentran desbalanceados\n",
            "El kappa me indica que los estimadores de realidad y prediccion de la matrix de confusión tienen una corcondancia moderada del 0.502\n",
            "El modelo tienen un sensibilidad moderada 0.642 para la detección de casos de diabetes, cuando en realidad son de diabetis\n"
          ]
        }
      ]
    },
    {
      "cell_type": "markdown",
      "source": [
        "# **PRECISION-RECALL**\n",
        "---"
      ],
      "metadata": {
        "id": "tj3iXR7gZXY5"
      }
    },
    {
      "cell_type": "code",
      "source": [
        "y_prob = model.predict(X_test)\n",
        "pos_prob = np.reshape(y_prob, y_prob.shape[0])"
      ],
      "metadata": {
        "id": "Zs2G4afeLudr",
        "outputId": "a71f37af-161e-4980-980a-545c006f08de",
        "colab": {
          "base_uri": "https://localhost:8080/"
        }
      },
      "execution_count": 24,
      "outputs": [
        {
          "output_type": "stream",
          "name": "stdout",
          "text": [
            "5/5 [==============================] - 0s 2ms/step\n"
          ]
        }
      ]
    },
    {
      "cell_type": "code",
      "source": [
        "def precision_recall(y:np.ndarray, prediction_prob:np.ndarray, validation:np.ndarray)->float:\n",
        "  no_skill = len(y[y==1]) / len(y)\n",
        "  plt.plot([0, 1], [no_skill, no_skill], linestyle='--', label='No Skill')\n",
        "  precision, recall, _ = metrics.precision_recall_curve(validation, prediction_prob)\n",
        "  plt.plot(recall, precision, marker='.', label='Multi Layer Perceptron')\n",
        "  plt.xlabel('Recall')\n",
        "  plt.ylabel('Precision')\n",
        "  plt.legend()\n",
        "  auc_score = metrics.auc(recall, precision)\n",
        "  plt.show()\n",
        "  return auc_score"
      ],
      "metadata": {
        "id": "AMc_OSgcblaJ"
      },
      "execution_count": 25,
      "outputs": []
    },
    {
      "cell_type": "code",
      "source": [
        "auc_score = precision_recall(y, pos_prob, y_test)"
      ],
      "metadata": {
        "colab": {
          "base_uri": "https://localhost:8080/",
          "height": 449
        },
        "id": "Ft9fL2r5gM_z",
        "outputId": "064e906d-687a-43f4-daf5-9cf2183274d7"
      },
      "execution_count": 26,
      "outputs": [
        {
          "output_type": "display_data",
          "data": {
            "text/plain": [
              "<Figure size 640x480 with 1 Axes>"
            ],
            "image/png": "[encoded data removed]"
          },
          "metadata": {}
        }
      ]
    },
    {
      "cell_type": "code",
      "source": [
        "print('Multi Layer Perceptron PR AUC: %.3f' % auc_score)"
      ],
      "metadata": {
        "colab": {
          "base_uri": "https://localhost:8080/"
        },
        "id": "Bp82ZW_2lvax",
        "outputId": "73321c93-2ed0-451b-af44-25ab62633ebb"
      },
      "execution_count": 27,
      "outputs": [
        {
          "output_type": "stream",
          "name": "stdout",
          "text": [
            "Multi Layer Perceptron PR AUC: 0.648\n"
          ]
        }
      ]
    },
    {
      "cell_type": "markdown",
      "source": [
        "El modelo tiene un habilidad por encima del promedio (Modelo sin habilidad) relativamente buena, pero no el mejor para el problema al cual se enfrenta, ya que implica la detección de una enfermedad apartir de algunas caracteristicas."
      ],
      "metadata": {
        "id": "PRg0b4WKOlIq"
      }
    },
    {
      "cell_type": "markdown",
      "source": [
        "Como el proposito del proyecto, esta enfocado al autoaprendizaje no se aplicaron todas las tecnicas y conocimientos requeridos, sin embargo se realizaron variaciones en los hiperparametros, asi como manipular la estructura de la red y los valores en la partición de los datos."
      ],
      "metadata": {
        "id": "UFnbIqcAO8Fr"
      }
    },
    {
      "cell_type": "markdown",
      "source": [
        "**Tambien se aclara que el problema se pudo abordar mejor con otro timo de modelos de clasificación, sin embargo ese no hacia parte del objetivo, ya que se pretendia aprender sobre modelos de deep learning.**"
      ],
      "metadata": {
        "id": "UOwQ1wyqPd27"
      }
    }
  ]
}