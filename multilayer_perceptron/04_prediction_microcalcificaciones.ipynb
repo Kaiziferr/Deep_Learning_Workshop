{
  "nbformat": 4,
  "nbformat_minor": 0,
  "metadata": {
    "colab": {
      "name": "04_prediction_microcalcificaciones.ipynb",
      "provenance": [],
      "authorship_tag": "ABX9TyOtWRXGmJ0hbexfO6OzLjja",
      "include_colab_link": true
    },
    "kernelspec": {
      "name": "python3",
      "display_name": "Python 3"
    },
    "language_info": {
      "name": "python"
    }
  },
  "cells": [
    {
      "cell_type": "markdown",
      "metadata": {
        "id": "view-in-github",
        "colab_type": "text"
      },
      "source": [
        "<a href=\"https://colab.research.google.com/github/Kaiziferr/deep_learning/blob/master/multilayer_perceptron/04_prediction_microcalcificaciones.ipynb\" target=\"_parent\"><img src=\"https://colab.research.google.com/assets/colab-badge.svg\" alt=\"Open In Colab\"/></a>"
      ]
    },
    {
      "cell_type": "code",
      "source": [
        "import pandas as pd\n",
        "import numpy as np\n",
        "import matplotlib.pyplot as plt\n",
        "import seaborn as sns\n",
        "\n",
        "from sklearn import metrics\n",
        "from sklearn.model_selection import (\n",
        "    train_test_split,\n",
        "    StratifiedKFold,\n",
        "    cross_val_score\n",
        ")\n",
        "from sklearn.preprocessing import (\n",
        "    StandardScaler,\n",
        "    LabelEncoder\n",
        ")\n",
        "\n",
        "import keras\n",
        "from keras.models import Sequential\n",
        "from keras.layers import Dense, Dropout\n",
        "from keras.constraints import max_norm\n",
        "\n",
        "import warnings"
      ],
      "metadata": {
        "id": "km-7gFCK8mQw"
      },
      "execution_count": 1,
      "outputs": []
    },
    {
      "cell_type": "code",
      "source": [
        "sns.set(style=\"darkgrid\")\n",
        "pd.set_option('display.float_format', '{:,.2f}'.format)\n",
        "warnings.simplefilter(\"ignore\")\n",
        "title_data = 'Detección de minas y rocas'\n",
        "paleta = sns.color_palette(\"tab10\").as_hex()\n",
        "random_state = 12354"
      ],
      "metadata": {
        "id": "hRbUJ0ZP_t5b"
      },
      "execution_count": 2,
      "outputs": []
    },
    {
      "cell_type": "markdown",
      "source": [
        "# **Descripcion**\n",
        "---\n"
      ],
      "metadata": {
        "id": "76dFqCWP06fc"
      }
    },
    {
      "cell_type": "markdown",
      "source": [
        "Existen siete características donde una es la del status relacionada con los microcalcificaciones y no microcalcificaciones. El resto no dispongo información del todo, pero el conjunto es muy usado. Cabe resaltando que esté conjunto de datos es para aprendizaje propio.\n"
      ],
      "metadata": {
        "id": "F1g6593436-S"
      }
    },
    {
      "cell_type": "markdown",
      "source": [
        "# **Objetivos**\n",
        "---\n",
        "El objetivo es distinguir entre `microcalcificaciones` y `no microcalcificaciones` usando las características de un objeto segmentado determinado.\n",
        "\n",
        "- No microcalcificaciones : caso negativo, o clase mayoritaria.\n",
        "- Microcalcificaciones : caso positivo, o clase minoritaria.\n",
        "\n",
        "Las `Microcalcificaciones`: Son depósitos diminutos de calcio en el tejido mamario que a menudo se observan en una mamografía.\n",
        "\n",
        "https://medlineplus.gov/spanish/ency/article/002113.htm\n",
        "\n",
        "\n",
        "Entender sobre las capas `Droput`\n",
        "\n"
      ],
      "metadata": {
        "id": "TofjRjdE07Gk"
      }
    },
    {
      "cell_type": "code",
      "source": [
        "url = 'https://raw.githubusercontent.com/jbrownlee/Datasets/master/mammography.csv'\n",
        "data = pd.read_csv(url, header=None)\n",
        "data.head(5)"
      ],
      "metadata": {
        "id": "-oyG1SDG9isp",
        "outputId": "e7e173a6-7a80-4ec9-e5f3-66e4849a6cde",
        "colab": {
          "base_uri": "https://localhost:8080/",
          "height": 206
        }
      },
      "execution_count": 3,
      "outputs": [
        {
          "output_type": "execute_result",
          "data": {
            "text/plain": [
              "      0     1     2     3     4     5     6\n",
              "0  0.23  5.07 -0.28  0.83 -0.38  0.48  '-1'\n",
              "1  0.16 -0.17  0.67 -0.86 -0.38 -0.95  '-1'\n",
              "2 -0.78 -0.44  5.67 -0.86 -0.38 -0.95  '-1'\n",
              "3  0.55  0.13 -0.46 -0.86 -0.38 -0.95  '-1'\n",
              "4 -0.10 -0.39 -0.14  0.98 -0.38  1.01  '-1'"
            ],
            "text/html": [
              "\n",
              "  <div id=\"df-f409836d-c96e-43c6-b1c3-520a40efdb7b\" class=\"colab-df-container\">\n",
              "    <div>\n",
              "<style scoped>\n",
              "    .dataframe tbody tr th:only-of-type {\n",
              "        vertical-align: middle;\n",
              "    }\n",
              "\n",
              "    .dataframe tbody tr th {\n",
              "        vertical-align: top;\n",
              "    }\n",
              "\n",
              "    .dataframe thead th {\n",
              "        text-align: right;\n",
              "    }\n",
              "</style>\n",
              "<table border=\"1\" class=\"dataframe\">\n",
              "  <thead>\n",
              "    <tr style=\"text-align: right;\">\n",
              "      <th></th>\n",
              "      <th>0</th>\n",
              "      <th>1</th>\n",
              "      <th>2</th>\n",
              "      <th>3</th>\n",
              "      <th>4</th>\n",
              "      <th>5</th>\n",
              "      <th>6</th>\n",
              "    </tr>\n",
              "  </thead>\n",
              "  <tbody>\n",
              "    <tr>\n",
              "      <th>0</th>\n",
              "      <td>0.23</td>\n",
              "      <td>5.07</td>\n",
              "      <td>-0.28</td>\n",
              "      <td>0.83</td>\n",
              "      <td>-0.38</td>\n",
              "      <td>0.48</td>\n",
              "      <td>'-1'</td>\n",
              "    </tr>\n",
              "    <tr>\n",
              "      <th>1</th>\n",
              "      <td>0.16</td>\n",
              "      <td>-0.17</td>\n",
              "      <td>0.67</td>\n",
              "      <td>-0.86</td>\n",
              "      <td>-0.38</td>\n",
              "      <td>-0.95</td>\n",
              "      <td>'-1'</td>\n",
              "    </tr>\n",
              "    <tr>\n",
              "      <th>2</th>\n",
              "      <td>-0.78</td>\n",
              "      <td>-0.44</td>\n",
              "      <td>5.67</td>\n",
              "      <td>-0.86</td>\n",
              "      <td>-0.38</td>\n",
              "      <td>-0.95</td>\n",
              "      <td>'-1'</td>\n",
              "    </tr>\n",
              "    <tr>\n",
              "      <th>3</th>\n",
              "      <td>0.55</td>\n",
              "      <td>0.13</td>\n",
              "      <td>-0.46</td>\n",
              "      <td>-0.86</td>\n",
              "      <td>-0.38</td>\n",
              "      <td>-0.95</td>\n",
              "      <td>'-1'</td>\n",
              "    </tr>\n",
              "    <tr>\n",
              "      <th>4</th>\n",
              "      <td>-0.10</td>\n",
              "      <td>-0.39</td>\n",
              "      <td>-0.14</td>\n",
              "      <td>0.98</td>\n",
              "      <td>-0.38</td>\n",
              "      <td>1.01</td>\n",
              "      <td>'-1'</td>\n",
              "    </tr>\n",
              "  </tbody>\n",
              "</table>\n",
              "</div>\n",
              "    <div class=\"colab-df-buttons\">\n",
              "\n",
              "  <div class=\"colab-df-container\">\n",
              "    <button class=\"colab-df-convert\" onclick=\"convertToInteractive('df-f409836d-c96e-43c6-b1c3-520a40efdb7b')\"\n",
              "            title=\"Convert this dataframe to an interactive table.\"\n",
              "            style=\"display:none;\">\n",
              "\n",
              "  <svg xmlns=\"http://www.w3.org/2000/svg\" height=\"24px\" viewBox=\"0 -960 960 960\">\n",
              "    <path d=\"M120-120v-720h720v720H120Zm60-500h600v-160H180v160Zm220 220h160v-160H400v160Zm0 220h160v-160H400v160ZM180-400h160v-160H180v160Zm440 0h160v-160H620v160ZM180-180h160v-160H180v160Zm440 0h160v-160H620v160Z\"/>\n",
              "  </svg>\n",
              "    </button>\n",
              "\n",
              "  <style>\n",
              "    .colab-df-container {\n",
              "      display:flex;\n",
              "      gap: 12px;\n",
              "    }\n",
              "\n",
              "    .colab-df-convert {\n",
              "      background-color: #E8F0FE;\n",
              "      border: none;\n",
              "      border-radius: 50%;\n",
              "      cursor: pointer;\n",
              "      display: none;\n",
              "      fill: #1967D2;\n",
              "      height: 32px;\n",
              "      padding: 0 0 0 0;\n",
              "      width: 32px;\n",
              "    }\n",
              "\n",
              "    .colab-df-convert:hover {\n",
              "      background-color: #E2EBFA;\n",
              "      box-shadow: 0px 1px 2px rgba(60, 64, 67, 0.3), 0px 1px 3px 1px rgba(60, 64, 67, 0.15);\n",
              "      fill: #174EA6;\n",
              "    }\n",
              "\n",
              "    .colab-df-buttons div {\n",
              "      margin-bottom: 4px;\n",
              "    }\n",
              "\n",
              "    [theme=dark] .colab-df-convert {\n",
              "      background-color: #3B4455;\n",
              "      fill: #D2E3FC;\n",
              "    }\n",
              "\n",
              "    [theme=dark] .colab-df-convert:hover {\n",
              "      background-color: #434B5C;\n",
              "      box-shadow: 0px 1px 3px 1px rgba(0, 0, 0, 0.15);\n",
              "      filter: drop-shadow(0px 1px 2px rgba(0, 0, 0, 0.3));\n",
              "      fill: #FFFFFF;\n",
              "    }\n",
              "  </style>\n",
              "\n",
              "    <script>\n",
              "      const buttonEl =\n",
              "        document.querySelector('#df-f409836d-c96e-43c6-b1c3-520a40efdb7b button.colab-df-convert');\n",
              "      buttonEl.style.display =\n",
              "        google.colab.kernel.accessAllowed ? 'block' : 'none';\n",
              "\n",
              "      async function convertToInteractive(key) {\n",
              "        const element = document.querySelector('#df-f409836d-c96e-43c6-b1c3-520a40efdb7b');\n",
              "        const dataTable =\n",
              "          await google.colab.kernel.invokeFunction('convertToInteractive',\n",
              "                                                    [key], {});\n",
              "        if (!dataTable) return;\n",
              "\n",
              "        const docLinkHtml = 'Like what you see? Visit the ' +\n",
              "          '<a target=\"_blank\" href=https://colab.research.google.com/notebooks/data_table.ipynb>data table notebook</a>'\n",
              "          + ' to learn more about interactive tables.';\n",
              "        element.innerHTML = '';\n",
              "        dataTable['output_type'] = 'display_data';\n",
              "        await google.colab.output.renderOutput(dataTable, element);\n",
              "        const docLink = document.createElement('div');\n",
              "        docLink.innerHTML = docLinkHtml;\n",
              "        element.appendChild(docLink);\n",
              "      }\n",
              "    </script>\n",
              "  </div>\n",
              "\n",
              "\n",
              "<div id=\"df-10a9f3db-e782-466e-9481-76ffc9e342b9\">\n",
              "  <button class=\"colab-df-quickchart\" onclick=\"quickchart('df-10a9f3db-e782-466e-9481-76ffc9e342b9')\"\n",
              "            title=\"Suggest charts\"\n",
              "            style=\"display:none;\">\n",
              "\n",
              "<svg xmlns=\"http://www.w3.org/2000/svg\" height=\"24px\"viewBox=\"0 0 24 24\"\n",
              "     width=\"24px\">\n",
              "    <g>\n",
              "        <path d=\"M19 3H5c-1.1 0-2 .9-2 2v14c0 1.1.9 2 2 2h14c1.1 0 2-.9 2-2V5c0-1.1-.9-2-2-2zM9 17H7v-7h2v7zm4 0h-2V7h2v10zm4 0h-2v-4h2v4z\"/>\n",
              "    </g>\n",
              "</svg>\n",
              "  </button>\n",
              "\n",
              "<style>\n",
              "  .colab-df-quickchart {\n",
              "      --bg-color: #E8F0FE;\n",
              "      --fill-color: #1967D2;\n",
              "      --hover-bg-color: #E2EBFA;\n",
              "      --hover-fill-color: #174EA6;\n",
              "      --disabled-fill-color: #AAA;\n",
              "      --disabled-bg-color: #DDD;\n",
              "  }\n",
              "\n",
              "  [theme=dark] .colab-df-quickchart {\n",
              "      --bg-color: #3B4455;\n",
              "      --fill-color: #D2E3FC;\n",
              "      --hover-bg-color: #434B5C;\n",
              "      --hover-fill-color: #FFFFFF;\n",
              "      --disabled-bg-color: #3B4455;\n",
              "      --disabled-fill-color: #666;\n",
              "  }\n",
              "\n",
              "  .colab-df-quickchart {\n",
              "    background-color: var(--bg-color);\n",
              "    border: none;\n",
              "    border-radius: 50%;\n",
              "    cursor: pointer;\n",
              "    display: none;\n",
              "    fill: var(--fill-color);\n",
              "    height: 32px;\n",
              "    padding: 0;\n",
              "    width: 32px;\n",
              "  }\n",
              "\n",
              "  .colab-df-quickchart:hover {\n",
              "    background-color: var(--hover-bg-color);\n",
              "    box-shadow: 0 1px 2px rgba(60, 64, 67, 0.3), 0 1px 3px 1px rgba(60, 64, 67, 0.15);\n",
              "    fill: var(--button-hover-fill-color);\n",
              "  }\n",
              "\n",
              "  .colab-df-quickchart-complete:disabled,\n",
              "  .colab-df-quickchart-complete:disabled:hover {\n",
              "    background-color: var(--disabled-bg-color);\n",
              "    fill: var(--disabled-fill-color);\n",
              "    box-shadow: none;\n",
              "  }\n",
              "\n",
              "  .colab-df-spinner {\n",
              "    border: 2px solid var(--fill-color);\n",
              "    border-color: transparent;\n",
              "    border-bottom-color: var(--fill-color);\n",
              "    animation:\n",
              "      spin 1s steps(1) infinite;\n",
              "  }\n",
              "\n",
              "  @keyframes spin {\n",
              "    0% {\n",
              "      border-color: transparent;\n",
              "      border-bottom-color: var(--fill-color);\n",
              "      border-left-color: var(--fill-color);\n",
              "    }\n",
              "    20% {\n",
              "      border-color: transparent;\n",
              "      border-left-color: var(--fill-color);\n",
              "      border-top-color: var(--fill-color);\n",
              "    }\n",
              "    30% {\n",
              "      border-color: transparent;\n",
              "      border-left-color: var(--fill-color);\n",
              "      border-top-color: var(--fill-color);\n",
              "      border-right-color: var(--fill-color);\n",
              "    }\n",
              "    40% {\n",
              "      border-color: transparent;\n",
              "      border-right-color: var(--fill-color);\n",
              "      border-top-color: var(--fill-color);\n",
              "    }\n",
              "    60% {\n",
              "      border-color: transparent;\n",
              "      border-right-color: var(--fill-color);\n",
              "    }\n",
              "    80% {\n",
              "      border-color: transparent;\n",
              "      border-right-color: var(--fill-color);\n",
              "      border-bottom-color: var(--fill-color);\n",
              "    }\n",
              "    90% {\n",
              "      border-color: transparent;\n",
              "      border-bottom-color: var(--fill-color);\n",
              "    }\n",
              "  }\n",
              "</style>\n",
              "\n",
              "  <script>\n",
              "    async function quickchart(key) {\n",
              "      const quickchartButtonEl =\n",
              "        document.querySelector('#' + key + ' button');\n",
              "      quickchartButtonEl.disabled = true;  // To prevent multiple clicks.\n",
              "      quickchartButtonEl.classList.add('colab-df-spinner');\n",
              "      try {\n",
              "        const charts = await google.colab.kernel.invokeFunction(\n",
              "            'suggestCharts', [key], {});\n",
              "      } catch (error) {\n",
              "        console.error('Error during call to suggestCharts:', error);\n",
              "      }\n",
              "      quickchartButtonEl.classList.remove('colab-df-spinner');\n",
              "      quickchartButtonEl.classList.add('colab-df-quickchart-complete');\n",
              "    }\n",
              "    (() => {\n",
              "      let quickchartButtonEl =\n",
              "        document.querySelector('#df-10a9f3db-e782-466e-9481-76ffc9e342b9 button');\n",
              "      quickchartButtonEl.style.display =\n",
              "        google.colab.kernel.accessAllowed ? 'block' : 'none';\n",
              "    })();\n",
              "  </script>\n",
              "</div>\n",
              "    </div>\n",
              "  </div>\n"
            ]
          },
          "metadata": {},
          "execution_count": 3
        }
      ]
    },
    {
      "cell_type": "code",
      "source": [
        "data.info()"
      ],
      "metadata": {
        "id": "skNXK-y_91Mh",
        "outputId": "42f12687-cf42-40c8-bb2c-71498fa426d8",
        "colab": {
          "base_uri": "https://localhost:8080/"
        }
      },
      "execution_count": 4,
      "outputs": [
        {
          "output_type": "stream",
          "name": "stdout",
          "text": [
            "<class 'pandas.core.frame.DataFrame'>\n",
            "RangeIndex: 11183 entries, 0 to 11182\n",
            "Data columns (total 7 columns):\n",
            " #   Column  Non-Null Count  Dtype  \n",
            "---  ------  --------------  -----  \n",
            " 0   0       11183 non-null  float64\n",
            " 1   1       11183 non-null  float64\n",
            " 2   2       11183 non-null  float64\n",
            " 3   3       11183 non-null  float64\n",
            " 4   4       11183 non-null  float64\n",
            " 5   5       11183 non-null  float64\n",
            " 6   6       11183 non-null  object \n",
            "dtypes: float64(6), object(1)\n",
            "memory usage: 611.7+ KB\n"
          ]
        }
      ]
    },
    {
      "cell_type": "markdown",
      "source": [
        "- Las variables de entrenamiento (0:5) son de tipo númerico float\n",
        "- La variable 6 que representa las microcalcificaciones es de tipo object (categorica)\n",
        "- Hay 11183 registros y no se aprecia valores faltantes en ninguna columna\n"
      ],
      "metadata": {
        "id": "gZ71UMJ-48EE"
      }
    },
    {
      "cell_type": "markdown",
      "source": [
        "# **Split**\n",
        "---"
      ],
      "metadata": {
        "id": "9nam8DB26q-l"
      }
    },
    {
      "cell_type": "code",
      "source": [
        "data_values = data.values"
      ],
      "metadata": {
        "id": "4nW7WLAW942Q"
      },
      "execution_count": 5,
      "outputs": []
    },
    {
      "cell_type": "code",
      "source": [
        "data_values = data.values\n",
        "X = data_values[:, :6]\n",
        "y = data_values[:, 6]"
      ],
      "metadata": {
        "id": "Xda_-bqpGLWj"
      },
      "execution_count": 6,
      "outputs": []
    },
    {
      "cell_type": "code",
      "source": [
        "data['tags'] = data[6].replace(\n",
        "    {\"'1'\": 'Microcalcificaciones',\n",
        "     \"'-1'\": 'No Microcalcificaciones'})"
      ],
      "metadata": {
        "id": "XssDj6J_9-mH"
      },
      "execution_count": 10,
      "outputs": []
    },
    {
      "cell_type": "code",
      "source": [
        "data"
      ],
      "metadata": {
        "colab": {
          "base_uri": "https://localhost:8080/",
          "height": 423
        },
        "id": "fayA_lJh8Xy-",
        "outputId": "f815b2fc-080f-4578-d77a-5f64fbf7a782"
      },
      "execution_count": 11,
      "outputs": [
        {
          "output_type": "execute_result",
          "data": {
            "text/plain": [
              "          0     1     2     3     4     5     6                     tags\n",
              "0      0.23  5.07 -0.28  0.83 -0.38  0.48  '-1'  No Microcalcificaciones\n",
              "1      0.16 -0.17  0.67 -0.86 -0.38 -0.95  '-1'  No Microcalcificaciones\n",
              "2     -0.78 -0.44  5.67 -0.86 -0.38 -0.95  '-1'  No Microcalcificaciones\n",
              "3      0.55  0.13 -0.46 -0.86 -0.38 -0.95  '-1'  No Microcalcificaciones\n",
              "4     -0.10 -0.39 -0.14  0.98 -0.38  1.01  '-1'  No Microcalcificaciones\n",
              "...     ...   ...   ...   ...   ...   ...   ...                      ...\n",
              "11178 -0.25 -0.38 -0.32  1.27  3.65  1.09   '1'     Microcalcificaciones\n",
              "11179  0.28 -0.42 -0.37  0.85  2.79  1.35   '1'     Microcalcificaciones\n",
              "11180  1.20  1.76 -0.50  1.56  6.49  0.93   '1'     Microcalcificaciones\n",
              "11181  0.74 -0.22 -0.05  1.51  0.54  1.32   '1'     Microcalcificaciones\n",
              "11182  0.18 -0.19 -0.50  1.58  7.75  1.56   '1'     Microcalcificaciones\n",
              "\n",
              "[11183 rows x 8 columns]"
            ],
            "text/html": [
              "\n",
              "  <div id=\"df-149d6cfc-5889-4d03-afce-10e608dc41f7\" class=\"colab-df-container\">\n",
              "    <div>\n",
              "<style scoped>\n",
              "    .dataframe tbody tr th:only-of-type {\n",
              "        vertical-align: middle;\n",
              "    }\n",
              "\n",
              "    .dataframe tbody tr th {\n",
              "        vertical-align: top;\n",
              "    }\n",
              "\n",
              "    .dataframe thead th {\n",
              "        text-align: right;\n",
              "    }\n",
              "</style>\n",
              "<table border=\"1\" class=\"dataframe\">\n",
              "  <thead>\n",
              "    <tr style=\"text-align: right;\">\n",
              "      <th></th>\n",
              "      <th>0</th>\n",
              "      <th>1</th>\n",
              "      <th>2</th>\n",
              "      <th>3</th>\n",
              "      <th>4</th>\n",
              "      <th>5</th>\n",
              "      <th>6</th>\n",
              "      <th>tags</th>\n",
              "    </tr>\n",
              "  </thead>\n",
              "  <tbody>\n",
              "    <tr>\n",
              "      <th>0</th>\n",
              "      <td>0.23</td>\n",
              "      <td>5.07</td>\n",
              "      <td>-0.28</td>\n",
              "      <td>0.83</td>\n",
              "      <td>-0.38</td>\n",
              "      <td>0.48</td>\n",
              "      <td>'-1'</td>\n",
              "      <td>No Microcalcificaciones</td>\n",
              "    </tr>\n",
              "    <tr>\n",
              "      <th>1</th>\n",
              "      <td>0.16</td>\n",
              "      <td>-0.17</td>\n",
              "      <td>0.67</td>\n",
              "      <td>-0.86</td>\n",
              "      <td>-0.38</td>\n",
              "      <td>-0.95</td>\n",
              "      <td>'-1'</td>\n",
              "      <td>No Microcalcificaciones</td>\n",
              "    </tr>\n",
              "    <tr>\n",
              "      <th>2</th>\n",
              "      <td>-0.78</td>\n",
              "      <td>-0.44</td>\n",
              "      <td>5.67</td>\n",
              "      <td>-0.86</td>\n",
              "      <td>-0.38</td>\n",
              "      <td>-0.95</td>\n",
              "      <td>'-1'</td>\n",
              "      <td>No Microcalcificaciones</td>\n",
              "    </tr>\n",
              "    <tr>\n",
              "      <th>3</th>\n",
              "      <td>0.55</td>\n",
              "      <td>0.13</td>\n",
              "      <td>-0.46</td>\n",
              "      <td>-0.86</td>\n",
              "      <td>-0.38</td>\n",
              "      <td>-0.95</td>\n",
              "      <td>'-1'</td>\n",
              "      <td>No Microcalcificaciones</td>\n",
              "    </tr>\n",
              "    <tr>\n",
              "      <th>4</th>\n",
              "      <td>-0.10</td>\n",
              "      <td>-0.39</td>\n",
              "      <td>-0.14</td>\n",
              "      <td>0.98</td>\n",
              "      <td>-0.38</td>\n",
              "      <td>1.01</td>\n",
              "      <td>'-1'</td>\n",
              "      <td>No Microcalcificaciones</td>\n",
              "    </tr>\n",
              "    <tr>\n",
              "      <th>...</th>\n",
              "      <td>...</td>\n",
              "      <td>...</td>\n",
              "      <td>...</td>\n",
              "      <td>...</td>\n",
              "      <td>...</td>\n",
              "      <td>...</td>\n",
              "      <td>...</td>\n",
              "      <td>...</td>\n",
              "    </tr>\n",
              "    <tr>\n",
              "      <th>11178</th>\n",
              "      <td>-0.25</td>\n",
              "      <td>-0.38</td>\n",
              "      <td>-0.32</td>\n",
              "      <td>1.27</td>\n",
              "      <td>3.65</td>\n",
              "      <td>1.09</td>\n",
              "      <td>'1'</td>\n",
              "      <td>Microcalcificaciones</td>\n",
              "    </tr>\n",
              "    <tr>\n",
              "      <th>11179</th>\n",
              "      <td>0.28</td>\n",
              "      <td>-0.42</td>\n",
              "      <td>-0.37</td>\n",
              "      <td>0.85</td>\n",
              "      <td>2.79</td>\n",
              "      <td>1.35</td>\n",
              "      <td>'1'</td>\n",
              "      <td>Microcalcificaciones</td>\n",
              "    </tr>\n",
              "    <tr>\n",
              "      <th>11180</th>\n",
              "      <td>1.20</td>\n",
              "      <td>1.76</td>\n",
              "      <td>-0.50</td>\n",
              "      <td>1.56</td>\n",
              "      <td>6.49</td>\n",
              "      <td>0.93</td>\n",
              "      <td>'1'</td>\n",
              "      <td>Microcalcificaciones</td>\n",
              "    </tr>\n",
              "    <tr>\n",
              "      <th>11181</th>\n",
              "      <td>0.74</td>\n",
              "      <td>-0.22</td>\n",
              "      <td>-0.05</td>\n",
              "      <td>1.51</td>\n",
              "      <td>0.54</td>\n",
              "      <td>1.32</td>\n",
              "      <td>'1'</td>\n",
              "      <td>Microcalcificaciones</td>\n",
              "    </tr>\n",
              "    <tr>\n",
              "      <th>11182</th>\n",
              "      <td>0.18</td>\n",
              "      <td>-0.19</td>\n",
              "      <td>-0.50</td>\n",
              "      <td>1.58</td>\n",
              "      <td>7.75</td>\n",
              "      <td>1.56</td>\n",
              "      <td>'1'</td>\n",
              "      <td>Microcalcificaciones</td>\n",
              "    </tr>\n",
              "  </tbody>\n",
              "</table>\n",
              "<p>11183 rows × 8 columns</p>\n",
              "</div>\n",
              "    <div class=\"colab-df-buttons\">\n",
              "\n",
              "  <div class=\"colab-df-container\">\n",
              "    <button class=\"colab-df-convert\" onclick=\"convertToInteractive('df-149d6cfc-5889-4d03-afce-10e608dc41f7')\"\n",
              "            title=\"Convert this dataframe to an interactive table.\"\n",
              "            style=\"display:none;\">\n",
              "\n",
              "  <svg xmlns=\"http://www.w3.org/2000/svg\" height=\"24px\" viewBox=\"0 -960 960 960\">\n",
              "    <path d=\"M120-120v-720h720v720H120Zm60-500h600v-160H180v160Zm220 220h160v-160H400v160Zm0 220h160v-160H400v160ZM180-400h160v-160H180v160Zm440 0h160v-160H620v160ZM180-180h160v-160H180v160Zm440 0h160v-160H620v160Z\"/>\n",
              "  </svg>\n",
              "    </button>\n",
              "\n",
              "  <style>\n",
              "    .colab-df-container {\n",
              "      display:flex;\n",
              "      gap: 12px;\n",
              "    }\n",
              "\n",
              "    .colab-df-convert {\n",
              "      background-color: #E8F0FE;\n",
              "      border: none;\n",
              "      border-radius: 50%;\n",
              "      cursor: pointer;\n",
              "      display: none;\n",
              "      fill: #1967D2;\n",
              "      height: 32px;\n",
              "      padding: 0 0 0 0;\n",
              "      width: 32px;\n",
              "    }\n",
              "\n",
              "    .colab-df-convert:hover {\n",
              "      background-color: #E2EBFA;\n",
              "      box-shadow: 0px 1px 2px rgba(60, 64, 67, 0.3), 0px 1px 3px 1px rgba(60, 64, 67, 0.15);\n",
              "      fill: #174EA6;\n",
              "    }\n",
              "\n",
              "    .colab-df-buttons div {\n",
              "      margin-bottom: 4px;\n",
              "    }\n",
              "\n",
              "    [theme=dark] .colab-df-convert {\n",
              "      background-color: #3B4455;\n",
              "      fill: #D2E3FC;\n",
              "    }\n",
              "\n",
              "    [theme=dark] .colab-df-convert:hover {\n",
              "      background-color: #434B5C;\n",
              "      box-shadow: 0px 1px 3px 1px rgba(0, 0, 0, 0.15);\n",
              "      filter: drop-shadow(0px 1px 2px rgba(0, 0, 0, 0.3));\n",
              "      fill: #FFFFFF;\n",
              "    }\n",
              "  </style>\n",
              "\n",
              "    <script>\n",
              "      const buttonEl =\n",
              "        document.querySelector('#df-149d6cfc-5889-4d03-afce-10e608dc41f7 button.colab-df-convert');\n",
              "      buttonEl.style.display =\n",
              "        google.colab.kernel.accessAllowed ? 'block' : 'none';\n",
              "\n",
              "      async function convertToInteractive(key) {\n",
              "        const element = document.querySelector('#df-149d6cfc-5889-4d03-afce-10e608dc41f7');\n",
              "        const dataTable =\n",
              "          await google.colab.kernel.invokeFunction('convertToInteractive',\n",
              "                                                    [key], {});\n",
              "        if (!dataTable) return;\n",
              "\n",
              "        const docLinkHtml = 'Like what you see? Visit the ' +\n",
              "          '<a target=\"_blank\" href=https://colab.research.google.com/notebooks/data_table.ipynb>data table notebook</a>'\n",
              "          + ' to learn more about interactive tables.';\n",
              "        element.innerHTML = '';\n",
              "        dataTable['output_type'] = 'display_data';\n",
              "        await google.colab.output.renderOutput(dataTable, element);\n",
              "        const docLink = document.createElement('div');\n",
              "        docLink.innerHTML = docLinkHtml;\n",
              "        element.appendChild(docLink);\n",
              "      }\n",
              "    </script>\n",
              "  </div>\n",
              "\n",
              "\n",
              "<div id=\"df-18662c5a-99f9-4dd7-861f-0796e8d65086\">\n",
              "  <button class=\"colab-df-quickchart\" onclick=\"quickchart('df-18662c5a-99f9-4dd7-861f-0796e8d65086')\"\n",
              "            title=\"Suggest charts\"\n",
              "            style=\"display:none;\">\n",
              "\n",
              "<svg xmlns=\"http://www.w3.org/2000/svg\" height=\"24px\"viewBox=\"0 0 24 24\"\n",
              "     width=\"24px\">\n",
              "    <g>\n",
              "        <path d=\"M19 3H5c-1.1 0-2 .9-2 2v14c0 1.1.9 2 2 2h14c1.1 0 2-.9 2-2V5c0-1.1-.9-2-2-2zM9 17H7v-7h2v7zm4 0h-2V7h2v10zm4 0h-2v-4h2v4z\"/>\n",
              "    </g>\n",
              "</svg>\n",
              "  </button>\n",
              "\n",
              "<style>\n",
              "  .colab-df-quickchart {\n",
              "      --bg-color: #E8F0FE;\n",
              "      --fill-color: #1967D2;\n",
              "      --hover-bg-color: #E2EBFA;\n",
              "      --hover-fill-color: #174EA6;\n",
              "      --disabled-fill-color: #AAA;\n",
              "      --disabled-bg-color: #DDD;\n",
              "  }\n",
              "\n",
              "  [theme=dark] .colab-df-quickchart {\n",
              "      --bg-color: #3B4455;\n",
              "      --fill-color: #D2E3FC;\n",
              "      --hover-bg-color: #434B5C;\n",
              "      --hover-fill-color: #FFFFFF;\n",
              "      --disabled-bg-color: #3B4455;\n",
              "      --disabled-fill-color: #666;\n",
              "  }\n",
              "\n",
              "  .colab-df-quickchart {\n",
              "    background-color: var(--bg-color);\n",
              "    border: none;\n",
              "    border-radius: 50%;\n",
              "    cursor: pointer;\n",
              "    display: none;\n",
              "    fill: var(--fill-color);\n",
              "    height: 32px;\n",
              "    padding: 0;\n",
              "    width: 32px;\n",
              "  }\n",
              "\n",
              "  .colab-df-quickchart:hover {\n",
              "    background-color: var(--hover-bg-color);\n",
              "    box-shadow: 0 1px 2px rgba(60, 64, 67, 0.3), 0 1px 3px 1px rgba(60, 64, 67, 0.15);\n",
              "    fill: var(--button-hover-fill-color);\n",
              "  }\n",
              "\n",
              "  .colab-df-quickchart-complete:disabled,\n",
              "  .colab-df-quickchart-complete:disabled:hover {\n",
              "    background-color: var(--disabled-bg-color);\n",
              "    fill: var(--disabled-fill-color);\n",
              "    box-shadow: none;\n",
              "  }\n",
              "\n",
              "  .colab-df-spinner {\n",
              "    border: 2px solid var(--fill-color);\n",
              "    border-color: transparent;\n",
              "    border-bottom-color: var(--fill-color);\n",
              "    animation:\n",
              "      spin 1s steps(1) infinite;\n",
              "  }\n",
              "\n",
              "  @keyframes spin {\n",
              "    0% {\n",
              "      border-color: transparent;\n",
              "      border-bottom-color: var(--fill-color);\n",
              "      border-left-color: var(--fill-color);\n",
              "    }\n",
              "    20% {\n",
              "      border-color: transparent;\n",
              "      border-left-color: var(--fill-color);\n",
              "      border-top-color: var(--fill-color);\n",
              "    }\n",
              "    30% {\n",
              "      border-color: transparent;\n",
              "      border-left-color: var(--fill-color);\n",
              "      border-top-color: var(--fill-color);\n",
              "      border-right-color: var(--fill-color);\n",
              "    }\n",
              "    40% {\n",
              "      border-color: transparent;\n",
              "      border-right-color: var(--fill-color);\n",
              "      border-top-color: var(--fill-color);\n",
              "    }\n",
              "    60% {\n",
              "      border-color: transparent;\n",
              "      border-right-color: var(--fill-color);\n",
              "    }\n",
              "    80% {\n",
              "      border-color: transparent;\n",
              "      border-right-color: var(--fill-color);\n",
              "      border-bottom-color: var(--fill-color);\n",
              "    }\n",
              "    90% {\n",
              "      border-color: transparent;\n",
              "      border-bottom-color: var(--fill-color);\n",
              "    }\n",
              "  }\n",
              "</style>\n",
              "\n",
              "  <script>\n",
              "    async function quickchart(key) {\n",
              "      const quickchartButtonEl =\n",
              "        document.querySelector('#' + key + ' button');\n",
              "      quickchartButtonEl.disabled = true;  // To prevent multiple clicks.\n",
              "      quickchartButtonEl.classList.add('colab-df-spinner');\n",
              "      try {\n",
              "        const charts = await google.colab.kernel.invokeFunction(\n",
              "            'suggestCharts', [key], {});\n",
              "      } catch (error) {\n",
              "        console.error('Error during call to suggestCharts:', error);\n",
              "      }\n",
              "      quickchartButtonEl.classList.remove('colab-df-spinner');\n",
              "      quickchartButtonEl.classList.add('colab-df-quickchart-complete');\n",
              "    }\n",
              "    (() => {\n",
              "      let quickchartButtonEl =\n",
              "        document.querySelector('#df-18662c5a-99f9-4dd7-861f-0796e8d65086 button');\n",
              "      quickchartButtonEl.style.display =\n",
              "        google.colab.kernel.accessAllowed ? 'block' : 'none';\n",
              "    })();\n",
              "  </script>\n",
              "</div>\n",
              "    </div>\n",
              "  </div>\n"
            ]
          },
          "metadata": {},
          "execution_count": 11
        }
      ]
    },
    {
      "cell_type": "code",
      "source": [
        "def plot_bar(data:pd.DataFrame, paleta:list=None, figsize_x:int=8, figsize_y:int=5,\n",
        "             fontsize:int=15, **kwards)->None:\n",
        "  \"\"\"Grafica un diagrama de barras con multiples caracteristicas\"\"\"\n",
        "  try:\n",
        "    paleta = paleta if paleta !=None else sns.color_palette(\"tab10\").as_hex()\n",
        "    v = kwards\n",
        "    ejeX = v[\"ejeX\"]\n",
        "\n",
        "    fig, ax = plt.subplots(figsize = (figsize_x, figsize_y))\n",
        "    fig.suptitle(f'Diagrama de barras {v[\"title\"]}', fontsize=fontsize)\n",
        "\n",
        "    if type(ejeX) == str:\n",
        "      sns.countplot(x=ejeX, data=data, ax = ax, palette=paleta)\n",
        "    else:\n",
        "      ejeX = v['ejeX'][0]\n",
        "      sns.countplot(x=ejeX, hue=v['ejeX'][1], data=data, ax=ax, palette=paleta)\n",
        "\n",
        "    ax.set_ylabel(v['ejey'], size = 12)\n",
        "    ax.set_xlabel(ejeX, size=fontsize-3)\n",
        "\n",
        "    ax.set_xticklabels(ax.get_xticklabels(), fontsize = fontsize-3)\n",
        "    for p in ax.patches:\n",
        "      try:\n",
        "        height = int(p.get_height())\n",
        "        height_text = height\n",
        "        if kwards['p'] == True:\n",
        "          percentage = round(height/data.shape[0], 5)\n",
        "          height_text = f'{height} ({percentage})'\n",
        "        ax.text(p.get_x()+p.get_width()/2., height + 1, height_text, ha=\"center\")\n",
        "      except:\n",
        "        pass\n",
        "\n",
        "  except Exception as e:\n",
        "    print(e)"
      ],
      "metadata": {
        "id": "-JcLZcBB9-Xb"
      },
      "execution_count": 12,
      "outputs": []
    },
    {
      "cell_type": "code",
      "source": [
        "plot_bar(\n",
        "    data,\n",
        "    paleta=paleta,\n",
        "    ejeX='tags',\n",
        "    ejey='status microcalcificaciones',\n",
        "    title='microcalcificaciones',\n",
        "    p=True)"
      ],
      "metadata": {
        "id": "QdXaQFIfHB-U",
        "outputId": "23f455a1-aa64-4f20-ad99-3cb969cac540",
        "colab": {
          "base_uri": "https://localhost:8080/",
          "height": 526
        }
      },
      "execution_count": 13,
      "outputs": [
        {
          "output_type": "display_data",
          "data": {
            "text/plain": [
              "<Figure size 800x500 with 1 Axes>"
            ],
            "image/png": "[encoded data removed]"
          },
          "metadata": {}
        }
      ]
    },
    {
      "cell_type": "markdown",
      "source": [
        "Hay un serio **desbalance** en el conjunto de datos del 98% No Microcalcificaciones y un 2% Microcalcificaciones, es un desbalance severo.\n",
        "\n"
      ],
      "metadata": {
        "id": "gEHR4AVh_oeJ"
      }
    },
    {
      "cell_type": "code",
      "source": [
        "X_train, X_test, y_train, y_test = train_test_split(\n",
        "    X,\n",
        "    y,\n",
        "    test_size=0.3,\n",
        "    stratify=y,\n",
        "    random_state=random_state,\n",
        "    shuffle=True\n",
        ")"
      ],
      "metadata": {
        "id": "Ej17fMsiAKBx"
      },
      "execution_count": 14,
      "outputs": []
    },
    {
      "cell_type": "code",
      "source": [
        "estimator = StandardScaler()\n",
        "X_train_s = estimator.fit_transform(X_train)\n",
        "X_test_s = estimator.transform(X_test)"
      ],
      "metadata": {
        "id": "8xsB8zfMAtKA"
      },
      "execution_count": 15,
      "outputs": []
    },
    {
      "cell_type": "code",
      "source": [
        "encoder = LabelEncoder()\n",
        "y_train_s = encoder.fit_transform(y_train)\n",
        "y_test_s = encoder.transform(y_test)"
      ],
      "metadata": {
        "id": "Ui7TO-caBAuZ"
      },
      "execution_count": 16,
      "outputs": []
    },
    {
      "cell_type": "markdown",
      "source": [
        "# **Model**\n",
        "---"
      ],
      "metadata": {
        "id": "bRZt430EK8WO"
      }
    },
    {
      "cell_type": "markdown",
      "source": [
        "Se realizarón diversas iteraciones para llegar a la arquitectura propuesta para el presente modelo, cabe resaltar que no se realizo alguna comparativa, puesto que no es el proposito de está actividad."
      ],
      "metadata": {
        "id": "w3MnP7VdMD_x"
      }
    },
    {
      "cell_type": "code",
      "source": [
        "def model_seleccionado():\n",
        "  model = Sequential()\n",
        "  model.add(Dense(15, input_dim = 6, activation='relu', kernel_initializer='he_normal'))\n",
        "  model.add(Dense(5,  activation='relu', kernel_initializer='he_normal'))\n",
        "  model.add(Dense(2,  activation='relu', kernel_initializer='he_normal'))\n",
        "  model.add(Dense(1, activation='sigmoid', kernel_initializer='he_normal'))\n",
        "  model.compile(loss='binary_crossentropy', optimizer='rmsprop')\n",
        "  return model"
      ],
      "metadata": {
        "id": "po4bSLarVU-_"
      },
      "execution_count": 17,
      "outputs": []
    },
    {
      "cell_type": "code",
      "source": [
        "data.shape[0]/100"
      ],
      "metadata": {
        "id": "WPbfKId2B3iI",
        "outputId": "55de2f58-e7b4-40e2-c452-791a415ed509",
        "colab": {
          "base_uri": "https://localhost:8080/"
        }
      },
      "execution_count": 18,
      "outputs": [
        {
          "output_type": "execute_result",
          "data": {
            "text/plain": [
              "111.83"
            ]
          },
          "metadata": {},
          "execution_count": 18
        }
      ]
    },
    {
      "cell_type": "markdown",
      "source": [
        "- 111.83 lotes de 100 registros"
      ],
      "metadata": {
        "id": "5R_yL6SEB8pZ"
      }
    },
    {
      "cell_type": "code",
      "source": [
        "model = model_seleccionado()\n",
        "history = model.fit(\n",
        "    X_train_s,\n",
        "    y_train_s,\n",
        "    epochs = 300,\n",
        "    batch_size = 100,\n",
        "    validation_data = (X_test_s, y_test_s),\n",
        "    verbose = 0\n",
        ")"
      ],
      "metadata": {
        "id": "hyGxEcoBBbo4"
      },
      "execution_count": 19,
      "outputs": []
    },
    {
      "cell_type": "code",
      "source": [
        "def optimization_learning_curves(\n",
        "    history:dict,\n",
        "    metrica:str,\n",
        "    title:str='',\n",
        "    X_size:int=8,\n",
        "    y_size:int=4,\n",
        "    font_size:int=15,\n",
        "    X_label:str='Epoch',\n",
        "    y_label:str='Loss'\n",
        ")->None:\n",
        "  \"\"\" Grafica curvas de aprendizaje \"\"\"\n",
        "  fig, ax = plt.subplots(figsize=(X_size, y_size))\n",
        "  fig.suptitle(title, fontsize=font_size)\n",
        "  ax.plot(history.history[metrica])\n",
        "  ax.plot(history.history[f'val_{metrica}'])\n",
        "  ax.set_xlabel(X_label, size = 12)\n",
        "  ax.set_ylabel(y_label, size = 12)\n",
        "  ax.legend(['Train', 'Test'], loc = 'upper right', fontsize = 12)\n",
        "  ax.tick_params(labelsize = 12)\n",
        "  fig.show()"
      ],
      "metadata": {
        "id": "uoqQg6Ph9SNI"
      },
      "execution_count": 20,
      "outputs": []
    },
    {
      "cell_type": "code",
      "source": [
        "optimization_learning_curves(history, metrica='loss', title='Loss vs Val Loss')"
      ],
      "metadata": {
        "colab": {
          "base_uri": "https://localhost:8080/",
          "height": 439
        },
        "id": "Q3XMqa2R-10t",
        "outputId": "4b1852c6-60c2-4c72-8426-497ccef47639"
      },
      "execution_count": 21,
      "outputs": [
        {
          "output_type": "display_data",
          "data": {
            "text/plain": [
              "<Figure size 800x400 with 1 Axes>"
            ],
            "image/png": "[encoded data removed]"
          },
          "metadata": {}
        }
      ]
    },
    {
      "cell_type": "markdown",
      "source": [
        "- El modelo tiene una brecha de generalización muy pequeña durante las epocas de entrenameinto"
      ],
      "metadata": {
        "id": "zNSQH2uKLO7X"
      }
    },
    {
      "cell_type": "code",
      "source": [
        "y_pred = (model.predict(X_test_s)>0.5).astype('int32')\n",
        "y_pred = np.reshape(y_pred, y_pred.shape[0])\n",
        "y_pred"
      ],
      "metadata": {
        "colab": {
          "base_uri": "https://localhost:8080/"
        },
        "id": "0LEdl1tmADlU",
        "outputId": "a54141ca-1986-4e81-a624-2c97577439c7"
      },
      "execution_count": 22,
      "outputs": [
        {
          "output_type": "stream",
          "name": "stdout",
          "text": [
            "105/105 [==============================] - 0s 1ms/step\n"
          ]
        },
        {
          "output_type": "execute_result",
          "data": {
            "text/plain": [
              "array([0, 0, 0, ..., 0, 0, 0], dtype=int32)"
            ]
          },
          "metadata": {},
          "execution_count": 22
        }
      ]
    },
    {
      "cell_type": "code",
      "source": [
        "def consufion_matrix(validation: np.ndarray, prediction:np.ndarray,\n",
        "                     title: str= 'Matriz de confusion', x_size:int=6, y_size:int=5, **kwards)->np.ndarray:\n",
        "  matrix = metrics.confusion_matrix(validation, prediction)\n",
        "  fig, ax = plt.subplots(nrows= 1, ncols=  1, figsize = (x_size,y_size))\n",
        "  sns.heatmap(matrix, annot=True, ax = ax, cmap=plt.cm.Blues, fmt = 'g', annot_kws={'size': 13})\n",
        "  ax.set_title(title, size = 13)\n",
        "  v = list(kwards.values())\n",
        "  k = list(kwards.keys())\n",
        "  if ax.get_xticklabels()[0].get_text() == v[0]:\n",
        "    ax.xaxis.set_ticklabels([k[0], k[1]])\n",
        "    ax.yaxis.set_ticklabels([k[0], k[1]])\n",
        "  else:\n",
        "    ax.xaxis.set_ticklabels([k[1], k[0]])\n",
        "    ax.yaxis.set_ticklabels([k[1], k[0]])\n",
        "  ax.tick_params(labelsize = 13)\n",
        "  return matrix"
      ],
      "metadata": {
        "id": "Upr4QlqBB2AC"
      },
      "execution_count": 33,
      "outputs": []
    },
    {
      "cell_type": "code",
      "source": [
        "keys = encoder.classes_\n",
        "print(keys)\n",
        "values = encoder.transform(encoder.classes_)\n",
        "dictionary = dict(zip(keys, values))\n",
        "print(dictionary)"
      ],
      "metadata": {
        "id": "GA4R-u8dO9WE",
        "outputId": "c7ac3715-b8ec-443a-8189-65c808986d2b",
        "colab": {
          "base_uri": "https://localhost:8080/"
        }
      },
      "execution_count": 34,
      "outputs": [
        {
          "output_type": "stream",
          "name": "stdout",
          "text": [
            "[\"'-1'\" \"'1'\"]\n",
            "{\"'-1'\": 0, \"'1'\": 1}\n"
          ]
        }
      ]
    },
    {
      "cell_type": "code",
      "source": [
        "matrix = consufion_matrix(y_test_s, y_pred, x_size = 8, **{\n",
        "    'Microcalcificaciones':1, 'No Microcalcificaciones':0})"
      ],
      "metadata": {
        "colab": {
          "base_uri": "https://localhost:8080/",
          "height": 475
        },
        "id": "YH-asdJJB3qr",
        "outputId": "84fdf4c3-bf18-499a-da62-4e0b1655be6a"
      },
      "execution_count": 39,
      "outputs": [
        {
          "output_type": "display_data",
          "data": {
            "text/plain": [
              "<Figure size 800x500 with 2 Axes>"
            ],
            "image/png": "[encoded data removed]"
          },
          "metadata": {}
        }
      ]
    },
    {
      "cell_type": "markdown",
      "source": [
        "El modelo tiene un rendimiento mal a la hora de predecir la clase de interes.\n"
      ],
      "metadata": {
        "id": "6k1QjGDRMg0N"
      }
    },
    {
      "cell_type": "code",
      "source": [
        "# Metricas\n",
        "def metricas(validation: np.ndarray, prediction:np.ndarray, matrix:np.ndarray, label:list=[1])->None:\n",
        "  accuracy = '%.3f' % metrics.accuracy_score(validation, prediction)\n",
        "  kappa = '%.3f' % metrics.cohen_kappa_score(validation, prediction)\n",
        "  precision = '%.3f' % metrics.precision_score(validation, prediction, labels=label, average=\"macro\")\n",
        "  recall = '%.3f' % metrics.recall_score(validation, prediction, labels=label, average=\"macro\")\n",
        "  f1_score = '%.3f' % metrics.f1_score(validation, prediction, labels=label, average=\"macro\")\n",
        "\n",
        "  print(f'Accuracy  :   {accuracy}')\n",
        "  print(f'Kappa     :   {kappa}')\n",
        "  print(f'predicción enfermos')\n",
        "  print(f'Precision:   {precision}')\n",
        "  print(f'Recall    :   {recall}')\n",
        "\n",
        "  VN, FP = 0, 0\n",
        "  if label == [1]:\n",
        "    VN = matrix[0,0]\n",
        "    FP = matrix[0,1]\n",
        "  else:\n",
        "    VN = matrix[0,0]\n",
        "    FP = matrix[0,1]\n",
        "  specificity = VN/(VN+FP)\n",
        "  specificity = '%.3f' %  specificity\n",
        "\n",
        "  print(f'Specificity:   {specificity}')\n",
        "  print(f'F1-score   :   {f1_score}')\n",
        "  return accuracy, kappa, precision, recall, f1_score, specificity"
      ],
      "metadata": {
        "id": "8D_fzjYvdCoM"
      },
      "execution_count": 40,
      "outputs": []
    },
    {
      "cell_type": "code",
      "source": [
        "accuracy, kappa, precision, recall, f1_score, specificity = metricas(\n",
        "    y_test_s, y_pred, matrix)"
      ],
      "metadata": {
        "colab": {
          "base_uri": "https://localhost:8080/"
        },
        "id": "B_1IsITIdFnO",
        "outputId": "ed076be0-1771-457e-e7fb-b38f9d2e38dd"
      },
      "execution_count": 42,
      "outputs": [
        {
          "output_type": "stream",
          "name": "stdout",
          "text": [
            "Accuracy  :   0.988\n",
            "Kappa     :   0.676\n",
            "predicción enfermos\n",
            "Precision:   0.863\n",
            "Recall    :   0.564\n",
            "Specificity:   0.998\n",
            "F1-score   :   0.682\n"
          ]
        }
      ]
    },
    {
      "cell_type": "markdown",
      "source": [
        "El método tiene una baja sensibilidad y un promedio f1 regular, por lo tanto, el modelo en términos ideales para el problemas, ya que el problema es de salud."
      ],
      "metadata": {
        "id": "hWpkBm0mBUQG"
      }
    },
    {
      "cell_type": "markdown",
      "source": [
        "# **Droput**\n",
        "---"
      ],
      "metadata": {
        "id": "XdGUYawYNgg6"
      }
    },
    {
      "cell_type": "markdown",
      "source": [
        "Utilizar el modelo seleccionado, aunque está vez aplicare capas con dropout"
      ],
      "metadata": {
        "id": "movVHdWsN7X4"
      }
    },
    {
      "cell_type": "code",
      "source": [
        "# Tasa de droput\n",
        "# Se impone una restricción en los pesos para cada capa oculta con la norma maxima de los pesos para que no exceda 3,\n",
        "# estableciendo el argumento de kernel_constraint en la clase Dense.\n",
        "# Aumenta la tasa de aprendizaje y el momentum.\n",
        "\n",
        "def model_droout():\n",
        "  model = Sequential()\n",
        "  model.add(Dropout(0.1, input_dim = 6))\n",
        "  model.add(Dense(15, activation='relu', kernel_initializer='he_normal', kernel_constraint=max_norm(3)))\n",
        "  model.add(Dropout(0.01))\n",
        "  model.add(Dense(5, activation = 'relu', kernel_initializer='he_normal', kernel_constraint=max_norm(3)))\n",
        "  model.add(Dropout(0.01))\n",
        "  model.add(Dense(2, activation='relu', kernel_initializer='he_normal', kernel_constraint=max_norm(3)))\n",
        "  model.add(Dense(1, activation='sigmoid', kernel_initializer='he_normal', kernel_constraint=max_norm(3)))\n",
        "  model.compile(loss = 'binary_crossentropy', optimizer='rmsprop')\n",
        "  return model\n"
      ],
      "metadata": {
        "id": "Svjsd7V8BXBn"
      },
      "execution_count": 43,
      "outputs": []
    },
    {
      "cell_type": "code",
      "source": [
        "model_seleccionado_dropout = model_droout()\n",
        "\n",
        "history_dropout = model_seleccionado_dropout.fit(\n",
        "    X_train_s,\n",
        "    y_train_s,\n",
        "    epochs = 300,\n",
        "    batch_size=100,\n",
        "    validation_data=(X_test_s, y_test_s),\n",
        "    verbose=0\n",
        ")"
      ],
      "metadata": {
        "id": "Um9OhaEYC4U6"
      },
      "execution_count": 44,
      "outputs": []
    },
    {
      "cell_type": "code",
      "source": [
        "optimization_learning_curves(history_dropout, metrica='loss', title='Loss vs Val Loss')"
      ],
      "metadata": {
        "colab": {
          "base_uri": "https://localhost:8080/",
          "height": 439
        },
        "id": "9YZKJcgjESlp",
        "outputId": "249965c7-25c7-4001-d1a5-51c79958e435"
      },
      "execution_count": 45,
      "outputs": [
        {
          "output_type": "display_data",
          "data": {
            "text/plain": [
              "<Figure size 800x400 with 1 Axes>"
            ],
            "image/png": "[encoded data removed]"
          },
          "metadata": {}
        }
      ]
    },
    {
      "cell_type": "code",
      "source": [
        "y_pred_dropout = (model_seleccionado_dropout.predict(X_test_s)>0.5).astype('int32')\n",
        "y_pred_dropout = np.reshape(y_pred_dropout, y_pred_dropout.shape[0])\n",
        "y_pred_dropout"
      ],
      "metadata": {
        "colab": {
          "base_uri": "https://localhost:8080/"
        },
        "id": "rAqwd_OPR9rJ",
        "outputId": "c0bac2c8-e979-4da2-bd19-167d79b58610"
      },
      "execution_count": 46,
      "outputs": [
        {
          "output_type": "stream",
          "name": "stdout",
          "text": [
            "105/105 [==============================] - 0s 2ms/step\n"
          ]
        },
        {
          "output_type": "execute_result",
          "data": {
            "text/plain": [
              "array([0, 0, 0, ..., 0, 0, 0], dtype=int32)"
            ]
          },
          "metadata": {},
          "execution_count": 46
        }
      ]
    },
    {
      "cell_type": "code",
      "source": [
        "matrix = consufion_matrix(y_test_s, y_pred_dropout, x_size = 8, **{'Microcalcificaciones':1, 'No Microcalcificaciones':0})"
      ],
      "metadata": {
        "id": "iQkW8u2jRIPd",
        "outputId": "c549599b-0589-44ca-ed7d-14ec56712f37",
        "colab": {
          "base_uri": "https://localhost:8080/",
          "height": 475
        }
      },
      "execution_count": 47,
      "outputs": [
        {
          "output_type": "display_data",
          "data": {
            "text/plain": [
              "<Figure size 800x500 with 2 Axes>"
            ],
            "image/png": "[encoded data removed]"
          },
          "metadata": {}
        }
      ]
    },
    {
      "cell_type": "code",
      "source": [
        "accuracy, kappa, precision, recall, f1_score, specificity = metricas(y_test_s, y_pred, matrix)"
      ],
      "metadata": {
        "colab": {
          "base_uri": "https://localhost:8080/"
        },
        "id": "zK49eu7Mc6P_",
        "outputId": "34380970-6b43-483b-cd0e-f29541c81803"
      },
      "execution_count": 48,
      "outputs": [
        {
          "output_type": "stream",
          "name": "stdout",
          "text": [
            "Accuracy  :   0.988\n",
            "Kappa     :   0.676\n",
            "predicción enfermos\n",
            "Precision:   0.863\n",
            "Recall    :   0.564\n",
            "Specificity:   0.998\n",
            "F1-score   :   0.682\n"
          ]
        }
      ]
    },
    {
      "cell_type": "markdown",
      "source": [
        "Pese a que se utilizo el dropout en algunas capas del mismo modelo utilizado anteriormente, no se evidencia una mejora sustancial en la predicción de microcalcificaciones. Al ser un problema tán critico no se podria poner en produccón con el rendimiento optenido hasta el momento, pese a que no hallamos medido el rendimiento. Claro bajo mi criterio, ya que como tal se deberia tambien tener encuenta otros factores como la opinión de un experto.\n",
        "\n",
        "Se requiere validar otras tecnicas que permitan mejorar el nivel de predicción. Recordenmos que esté es un actividad de `aprendizaje`."
      ],
      "metadata": {
        "id": "w43BcwKBgmST"
      }
    }
  ]
}