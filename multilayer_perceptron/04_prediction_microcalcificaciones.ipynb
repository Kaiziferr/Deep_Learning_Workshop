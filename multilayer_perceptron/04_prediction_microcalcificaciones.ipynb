{
  "nbformat": 4,
  "nbformat_minor": 0,
  "metadata": {
    "colab": {
      "name": "04_prediction_microcalcificaciones.ipynb",
      "provenance": [],
      "collapsed_sections": [],
      "authorship_tag": "ABX9TyNe2aYS1eCrgd8sYyOF0dBW",
      "include_colab_link": true
    },
    "kernelspec": {
      "name": "python3",
      "display_name": "Python 3"
    },
    "language_info": {
      "name": "python"
    }
  },
  "cells": [
    {
      "cell_type": "markdown",
      "metadata": {
        "id": "view-in-github",
        "colab_type": "text"
      },
      "source": [
        "<a href=\"https://colab.research.google.com/github/Kaiziferr/deep_learning/blob/master/multilayer_perceptron/04_prediction_microcalcificaciones.ipynb\" target=\"_parent\"><img src=\"https://colab.research.google.com/assets/colab-badge.svg\" alt=\"Open In Colab\"/></a>"
      ]
    },
    {
      "cell_type": "code",
      "execution_count": 1,
      "metadata": {
        "id": "MG0LAb3OTaNU"
      },
      "outputs": [],
      "source": [
        "import pandas as pd\n",
        "import numpy as np\n",
        "import matplotlib.pyplot as plt\n",
        "import seaborn as sns\n",
        "\n",
        "from sklearn import metrics\n",
        "from sklearn.model_selection import train_test_split, StratifiedKFold, cross_val_score\n",
        "from sklearn.preprocessing import StandardScaler\n",
        "\n",
        "import keras\n",
        "from keras.models import Sequential\n",
        "from keras.layers import Dense, Dropout\n",
        "from keras.constraints import max_norm\n",
        "\n"
      ]
    },
    {
      "cell_type": "markdown",
      "source": [
        "# **Descripcion**\n",
        "---\n"
      ],
      "metadata": {
        "id": "76dFqCWP06fc"
      }
    },
    {
      "cell_type": "markdown",
      "source": [
        "Existen siete características donde una es la del status relacionada con los microcalcificaciones y no microcalcificaciones. El resto no dispongo información del todo, pero el conjunto es muy usado. Cabe resaltando que esté conjunto de datos es para aprendizaje propio.\n"
      ],
      "metadata": {
        "id": "F1g6593436-S"
      }
    },
    {
      "cell_type": "markdown",
      "source": [
        "# **Objetivo**\n",
        "---\n",
        "El objetivo es distinguir entre `microcalcificaciones` y `no microcalcificaciones` usando las características de un objeto segmentado determinado.\n",
        "\n",
        "- No microcalcificaciones : caso negativo, o clase mayoritaria.\n",
        "- Microcalcificaciones : caso positivo, o clase minoritaria.\n",
        "\n",
        "Las `Microcalcificaciones`: Son depósitos diminutos de calcio en el tejido mamario que a menudo se observan en una mamografía.\n",
        "\n",
        "https://medlineplus.gov/spanish/ency/article/002113.htm\n",
        "\n"
      ],
      "metadata": {
        "id": "TofjRjdE07Gk"
      }
    },
    {
      "cell_type": "code",
      "source": [
        "data = pd.read_csv('https://raw.githubusercontent.com/jbrownlee/Datasets/master/mammography.csv', header=None)\n",
        "data.head(5)"
      ],
      "metadata": {
        "id": "O1eEKAgnXkRX",
        "colab": {
          "base_uri": "https://localhost:8080/",
          "height": 206
        },
        "outputId": "ccfd6dfc-1f3a-43c7-e54e-a4a39aa7260c"
      },
      "execution_count": 2,
      "outputs": [
        {
          "output_type": "execute_result",
          "data": {
            "text/plain": [
              "          0         1         2         3         4         5     6\n",
              "0  0.230020  5.072578 -0.276061  0.832444 -0.377866  0.480322  '-1'\n",
              "1  0.155491 -0.169390  0.670652 -0.859553 -0.377866 -0.945723  '-1'\n",
              "2 -0.784415 -0.443654  5.674705 -0.859553 -0.377866 -0.945723  '-1'\n",
              "3  0.546088  0.131415 -0.456387 -0.859553 -0.377866 -0.945723  '-1'\n",
              "4 -0.102987 -0.394994 -0.140816  0.979703 -0.377866  1.013566  '-1'"
            ],
            "text/html": [
              "\n",
              "  <div id=\"df-85ae2c0e-2cac-4a29-a334-9ea425c04ed7\">\n",
              "    <div class=\"colab-df-container\">\n",
              "      <div>\n",
              "<style scoped>\n",
              "    .dataframe tbody tr th:only-of-type {\n",
              "        vertical-align: middle;\n",
              "    }\n",
              "\n",
              "    .dataframe tbody tr th {\n",
              "        vertical-align: top;\n",
              "    }\n",
              "\n",
              "    .dataframe thead th {\n",
              "        text-align: right;\n",
              "    }\n",
              "</style>\n",
              "<table border=\"1\" class=\"dataframe\">\n",
              "  <thead>\n",
              "    <tr style=\"text-align: right;\">\n",
              "      <th></th>\n",
              "      <th>0</th>\n",
              "      <th>1</th>\n",
              "      <th>2</th>\n",
              "      <th>3</th>\n",
              "      <th>4</th>\n",
              "      <th>5</th>\n",
              "      <th>6</th>\n",
              "    </tr>\n",
              "  </thead>\n",
              "  <tbody>\n",
              "    <tr>\n",
              "      <th>0</th>\n",
              "      <td>0.230020</td>\n",
              "      <td>5.072578</td>\n",
              "      <td>-0.276061</td>\n",
              "      <td>0.832444</td>\n",
              "      <td>-0.377866</td>\n",
              "      <td>0.480322</td>\n",
              "      <td>'-1'</td>\n",
              "    </tr>\n",
              "    <tr>\n",
              "      <th>1</th>\n",
              "      <td>0.155491</td>\n",
              "      <td>-0.169390</td>\n",
              "      <td>0.670652</td>\n",
              "      <td>-0.859553</td>\n",
              "      <td>-0.377866</td>\n",
              "      <td>-0.945723</td>\n",
              "      <td>'-1'</td>\n",
              "    </tr>\n",
              "    <tr>\n",
              "      <th>2</th>\n",
              "      <td>-0.784415</td>\n",
              "      <td>-0.443654</td>\n",
              "      <td>5.674705</td>\n",
              "      <td>-0.859553</td>\n",
              "      <td>-0.377866</td>\n",
              "      <td>-0.945723</td>\n",
              "      <td>'-1'</td>\n",
              "    </tr>\n",
              "    <tr>\n",
              "      <th>3</th>\n",
              "      <td>0.546088</td>\n",
              "      <td>0.131415</td>\n",
              "      <td>-0.456387</td>\n",
              "      <td>-0.859553</td>\n",
              "      <td>-0.377866</td>\n",
              "      <td>-0.945723</td>\n",
              "      <td>'-1'</td>\n",
              "    </tr>\n",
              "    <tr>\n",
              "      <th>4</th>\n",
              "      <td>-0.102987</td>\n",
              "      <td>-0.394994</td>\n",
              "      <td>-0.140816</td>\n",
              "      <td>0.979703</td>\n",
              "      <td>-0.377866</td>\n",
              "      <td>1.013566</td>\n",
              "      <td>'-1'</td>\n",
              "    </tr>\n",
              "  </tbody>\n",
              "</table>\n",
              "</div>\n",
              "      <button class=\"colab-df-convert\" onclick=\"convertToInteractive('df-85ae2c0e-2cac-4a29-a334-9ea425c04ed7')\"\n",
              "              title=\"Convert this dataframe to an interactive table.\"\n",
              "              style=\"display:none;\">\n",
              "        \n",
              "  <svg xmlns=\"http://www.w3.org/2000/svg\" height=\"24px\"viewBox=\"0 0 24 24\"\n",
              "       width=\"24px\">\n",
              "    <path d=\"M0 0h24v24H0V0z\" fill=\"none\"/>\n",
              "    <path d=\"M18.56 5.44l.94 2.06.94-2.06 2.06-.94-2.06-.94-.94-2.06-.94 2.06-2.06.94zm-11 1L8.5 8.5l.94-2.06 2.06-.94-2.06-.94L8.5 2.5l-.94 2.06-2.06.94zm10 10l.94 2.06.94-2.06 2.06-.94-2.06-.94-.94-2.06-.94 2.06-2.06.94z\"/><path d=\"M17.41 7.96l-1.37-1.37c-.4-.4-.92-.59-1.43-.59-.52 0-1.04.2-1.43.59L10.3 9.45l-7.72 7.72c-.78.78-.78 2.05 0 2.83L4 21.41c.39.39.9.59 1.41.59.51 0 1.02-.2 1.41-.59l7.78-7.78 2.81-2.81c.8-.78.8-2.07 0-2.86zM5.41 20L4 18.59l7.72-7.72 1.47 1.35L5.41 20z\"/>\n",
              "  </svg>\n",
              "      </button>\n",
              "      \n",
              "  <style>\n",
              "    .colab-df-container {\n",
              "      display:flex;\n",
              "      flex-wrap:wrap;\n",
              "      gap: 12px;\n",
              "    }\n",
              "\n",
              "    .colab-df-convert {\n",
              "      background-color: #E8F0FE;\n",
              "      border: none;\n",
              "      border-radius: 50%;\n",
              "      cursor: pointer;\n",
              "      display: none;\n",
              "      fill: #1967D2;\n",
              "      height: 32px;\n",
              "      padding: 0 0 0 0;\n",
              "      width: 32px;\n",
              "    }\n",
              "\n",
              "    .colab-df-convert:hover {\n",
              "      background-color: #E2EBFA;\n",
              "      box-shadow: 0px 1px 2px rgba(60, 64, 67, 0.3), 0px 1px 3px 1px rgba(60, 64, 67, 0.15);\n",
              "      fill: #174EA6;\n",
              "    }\n",
              "\n",
              "    [theme=dark] .colab-df-convert {\n",
              "      background-color: #3B4455;\n",
              "      fill: #D2E3FC;\n",
              "    }\n",
              "\n",
              "    [theme=dark] .colab-df-convert:hover {\n",
              "      background-color: #434B5C;\n",
              "      box-shadow: 0px 1px 3px 1px rgba(0, 0, 0, 0.15);\n",
              "      filter: drop-shadow(0px 1px 2px rgba(0, 0, 0, 0.3));\n",
              "      fill: #FFFFFF;\n",
              "    }\n",
              "  </style>\n",
              "\n",
              "      <script>\n",
              "        const buttonEl =\n",
              "          document.querySelector('#df-85ae2c0e-2cac-4a29-a334-9ea425c04ed7 button.colab-df-convert');\n",
              "        buttonEl.style.display =\n",
              "          google.colab.kernel.accessAllowed ? 'block' : 'none';\n",
              "\n",
              "        async function convertToInteractive(key) {\n",
              "          const element = document.querySelector('#df-85ae2c0e-2cac-4a29-a334-9ea425c04ed7');\n",
              "          const dataTable =\n",
              "            await google.colab.kernel.invokeFunction('convertToInteractive',\n",
              "                                                     [key], {});\n",
              "          if (!dataTable) return;\n",
              "\n",
              "          const docLinkHtml = 'Like what you see? Visit the ' +\n",
              "            '<a target=\"_blank\" href=https://colab.research.google.com/notebooks/data_table.ipynb>data table notebook</a>'\n",
              "            + ' to learn more about interactive tables.';\n",
              "          element.innerHTML = '';\n",
              "          dataTable['output_type'] = 'display_data';\n",
              "          await google.colab.output.renderOutput(dataTable, element);\n",
              "          const docLink = document.createElement('div');\n",
              "          docLink.innerHTML = docLinkHtml;\n",
              "          element.appendChild(docLink);\n",
              "        }\n",
              "      </script>\n",
              "    </div>\n",
              "  </div>\n",
              "  "
            ]
          },
          "metadata": {},
          "execution_count": 2
        }
      ]
    },
    {
      "cell_type": "code",
      "source": [
        "data.info()"
      ],
      "metadata": {
        "colab": {
          "base_uri": "https://localhost:8080/"
        },
        "id": "JXwmsdH742vc",
        "outputId": "62248953-e160-40d0-f646-8e0bf81b57f6"
      },
      "execution_count": 3,
      "outputs": [
        {
          "output_type": "stream",
          "name": "stdout",
          "text": [
            "<class 'pandas.core.frame.DataFrame'>\n",
            "RangeIndex: 11183 entries, 0 to 11182\n",
            "Data columns (total 7 columns):\n",
            " #   Column  Non-Null Count  Dtype  \n",
            "---  ------  --------------  -----  \n",
            " 0   0       11183 non-null  float64\n",
            " 1   1       11183 non-null  float64\n",
            " 2   2       11183 non-null  float64\n",
            " 3   3       11183 non-null  float64\n",
            " 4   4       11183 non-null  float64\n",
            " 5   5       11183 non-null  float64\n",
            " 6   6       11183 non-null  object \n",
            "dtypes: float64(6), object(1)\n",
            "memory usage: 611.7+ KB\n"
          ]
        }
      ]
    },
    {
      "cell_type": "markdown",
      "source": [
        "- Las variables de entrenamiento (0:5) son de tipo númerico float\n",
        "- La variable 6 que representa las microcalcificaciones es de tipo object (categorica)\n",
        "- Hay 11183 registros y no se aprecia valores faltantes en ninguna columna\n"
      ],
      "metadata": {
        "id": "gZ71UMJ-48EE"
      }
    },
    {
      "cell_type": "code",
      "source": [
        "data[6].replace({\"'-1'\":0}, inplace=True)\n",
        "data[6].replace({\"'1'\":1}, inplace=True)"
      ],
      "metadata": {
        "id": "3QeMhSTn5i89"
      },
      "execution_count": 4,
      "outputs": []
    },
    {
      "cell_type": "code",
      "source": [
        "data[6].unique()"
      ],
      "metadata": {
        "colab": {
          "base_uri": "https://localhost:8080/"
        },
        "id": "-ZFc72V56H_c",
        "outputId": "8c245e5b-0d08-45dc-d120-d635706623ad"
      },
      "execution_count": 5,
      "outputs": [
        {
          "output_type": "execute_result",
          "data": {
            "text/plain": [
              "array([0, 1])"
            ]
          },
          "metadata": {},
          "execution_count": 5
        }
      ]
    },
    {
      "cell_type": "markdown",
      "source": [
        "# **Split**\n",
        "---"
      ],
      "metadata": {
        "id": "9nam8DB26q-l"
      }
    },
    {
      "cell_type": "code",
      "source": [
        "data_values = data.values\n",
        "X = data_values[:, :6]\n",
        "y = data_values[:, 6]"
      ],
      "metadata": {
        "id": "fHcy6hZ66uHk"
      },
      "execution_count": 6,
      "outputs": []
    },
    {
      "cell_type": "code",
      "source": [
        "def plot_bars(data: np.ndarray, title: str= 'feature', x_size:int=6, y_size:int=4, font_size:int=15, x_label:str='churm',y_label:str='count', c_n_churm = '0', c_churm = '1')->None:\n",
        "  fig, ax = plt.subplots(figsize = (x_size, y_size))\n",
        "  fig.suptitle(f'Count plot {title}', fontsize = font_size)\n",
        "  sns.countplot(x = data, ax = ax)\n",
        "  _, data_target = np.unique(data, return_counts=True)\n",
        "  len_data = data.shape[0]\n",
        "  pe = '{0:.2f}'.format(data_target[1]/len_data)\n",
        "  ps = '{0:.2f}'.format(data_target[0]/len_data)\n",
        "  ax.set_xticklabels([f'{c_n_churm} \\n {ps}', f'{c_churm} \\n{pe}'])\n",
        "  ax.set(xlabel=x_label, ylabel=y_label)\n",
        "  fig.show()"
      ],
      "metadata": {
        "id": "-JcLZcBB9-Xb"
      },
      "execution_count": 7,
      "outputs": []
    },
    {
      "cell_type": "code",
      "source": [
        "plot_bars(y, title = 'Mamografía', c_churm='Microcalcificaciones', c_n_churm='No Microcalcificaciones')"
      ],
      "metadata": {
        "colab": {
          "base_uri": "https://localhost:8080/",
          "height": 320
        },
        "id": "kHtMQanV-D2O",
        "outputId": "31ca1539-8f5a-40ea-858c-77ee3f7bf5fe"
      },
      "execution_count": 8,
      "outputs": [
        {
          "output_type": "display_data",
          "data": {
            "text/plain": [
              "<Figure size 432x288 with 1 Axes>"
            ],
            "image/png": "[encoded data removed]"
          },
          "metadata": {
            "needs_background": "light"
          }
        }
      ]
    },
    {
      "cell_type": "markdown",
      "source": [
        "Hay un serio **desbalance** en el conjunto de datos del 98% No Microcalcificaciones y un 2% Microcalcificaciones, es un desbalance severo.\n",
        "\n"
      ],
      "metadata": {
        "id": "gEHR4AVh_oeJ"
      }
    },
    {
      "cell_type": "code",
      "source": [
        "X_train, X_test, y_train, y_test = train_test_split(X, y, test_size=0.4, stratify=y, random_state=741, shuffle=True)"
      ],
      "metadata": {
        "id": "uoFIao2h-D0t"
      },
      "execution_count": 9,
      "outputs": []
    },
    {
      "cell_type": "code",
      "source": [
        "estimator = StandardScaler()\n",
        "X_train_s = estimator.fit_transform(X_train)\n",
        "X_test_s = estimator.transform(X_test)"
      ],
      "metadata": {
        "id": "2pjax0Ml8wUX"
      },
      "execution_count": 10,
      "outputs": []
    },
    {
      "cell_type": "markdown",
      "source": [
        "# **Model**\n",
        "---"
      ],
      "metadata": {
        "id": "bRZt430EK8WO"
      }
    },
    {
      "cell_type": "markdown",
      "source": [
        "Se realizarón diversas iteraciones para llegar a la arquitectura propuesta para el presente modelo, cabe resaltar que no se realizo alguna comparativa, puesto que no es el proposito de está actividad."
      ],
      "metadata": {
        "id": "w3MnP7VdMD_x"
      }
    },
    {
      "cell_type": "code",
      "source": [
        "def model_seleccionado():\n",
        "  model = Sequential()\n",
        "  model.add(Dense(15, input_dim = 6, activation='relu', kernel_initializer='he_normal'))\n",
        "  model.add(Dense(5,  activation='relu', kernel_initializer='he_normal'))\n",
        "  model.add(Dense(2,  activation='relu', kernel_initializer='he_normal'))\n",
        "  model.add(Dense(1, activation='sigmoid', kernel_initializer='he_normal'))\n",
        "  model.compile(loss='binary_crossentropy', optimizer='rmsprop', metrics=['accuracy'])\n",
        "  return model"
      ],
      "metadata": {
        "id": "po4bSLarVU-_"
      },
      "execution_count": 44,
      "outputs": []
    },
    {
      "cell_type": "code",
      "source": [
        "model_seleccionado = model_seleccionado()\n",
        "history = model_seleccionado.fit(X_train_s, y_train, epochs = 300, batch_size = 100, validation_data = (X_test_s, y_test), verbose = 0)"
      ],
      "metadata": {
        "id": "WxX53QwW9SN9"
      },
      "execution_count": 45,
      "outputs": []
    },
    {
      "cell_type": "code",
      "source": [
        "def optimization_learning_curves(history: keras.callbacks.History, metrica, title: str= '', x_size:int=8, y_size:int=4, font_size:int=15, x_label:str='Epoch',y_label:str='Loss')->None:\n",
        "  fig, ax = plt.subplots(figsize = (x_size, y_size))\n",
        "  fig.suptitle(title, fontsize = font_size)\n",
        "  ax.plot(history.history[metrica])\n",
        "  ax.plot(history.history[f'val_{metrica}'])\n",
        "  ax.set_xlabel(x_label, size = 12)\n",
        "  ax.set_ylabel(y_label, size = 12)\n",
        "  ax.legend(['Train', 'Test'], loc = 'upper left', fontsize = 12)\n",
        "  ax.tick_params(labelsize = 12)\n",
        "  fig.show()"
      ],
      "metadata": {
        "id": "uoqQg6Ph9SNI"
      },
      "execution_count": 46,
      "outputs": []
    },
    {
      "cell_type": "code",
      "source": [
        "optimization_learning_curves(history, metrica='loss', title='Loss vs Val Loss')"
      ],
      "metadata": {
        "colab": {
          "base_uri": "https://localhost:8080/",
          "height": 314
        },
        "id": "Q3XMqa2R-10t",
        "outputId": "bb56ba42-4e41-48d7-c475-da641c945c4f"
      },
      "execution_count": 47,
      "outputs": [
        {
          "output_type": "display_data",
          "data": {
            "text/plain": [
              "<Figure size 576x288 with 1 Axes>"
            ],
            "image/png": "[encoded data removed]"
          },
          "metadata": {
            "needs_background": "light"
          }
        }
      ]
    },
    {
      "cell_type": "markdown",
      "source": [
        "- El modelo tiene una brecha de generalización muy pequeña durante las epocas de entrenameinto"
      ],
      "metadata": {
        "id": "zNSQH2uKLO7X"
      }
    },
    {
      "cell_type": "code",
      "source": [
        "y_pred = (model_seleccionado.predict(X_test_s)>0.5).astype('int32')\n",
        "y_pred = np.reshape(y_pred, y_pred.shape[0])\n",
        "y_pred"
      ],
      "metadata": {
        "colab": {
          "base_uri": "https://localhost:8080/"
        },
        "id": "0LEdl1tmADlU",
        "outputId": "b4a06a3d-01f1-4f2c-a06b-394eb8bafc9e"
      },
      "execution_count": 48,
      "outputs": [
        {
          "output_type": "execute_result",
          "data": {
            "text/plain": [
              "array([0, 0, 0, ..., 0, 0, 0], dtype=int32)"
            ]
          },
          "metadata": {},
          "execution_count": 48
        }
      ]
    },
    {
      "cell_type": "code",
      "source": [
        "def consufion_matrix(validation: np.ndarray, prediction:np.ndarray, churm:str='churm', no_churm:str='no_churm',  title: str= 'Matriz de confusion', x_size:int=6, y_size:int=5)->np.ndarray:\n",
        "  matrix = metrics.confusion_matrix(validation, prediction)\n",
        "  fig, ax = plt.subplots(nrows= 1, ncols=  1, figsize = (x_size,y_size))\n",
        "  sns.heatmap(matrix, annot=True, ax = ax, cmap=plt.cm.Blues, fmt = 'g', annot_kws={'size': 13})\n",
        "  ax.set_title(title, size = 13)\n",
        "  ax.xaxis.set_ticklabels([no_churm, churm])\n",
        "  ax.yaxis.set_ticklabels([no_churm, churm])\n",
        "  ax.tick_params(labelsize = 13)\n",
        "  fig.show()\n",
        "  return matrix"
      ],
      "metadata": {
        "id": "Upr4QlqBB2AC"
      },
      "execution_count": 49,
      "outputs": []
    },
    {
      "cell_type": "code",
      "source": [
        "matrix = consufion_matrix(y_test, y_pred,'microcalcificaciones', 'No microcalcificaciones', x_size= 10, y_size = 9)"
      ],
      "metadata": {
        "colab": {
          "base_uri": "https://localhost:8080/",
          "height": 556
        },
        "id": "YH-asdJJB3qr",
        "outputId": "7ffe3ae1-8346-4035-bdf6-91cd4c74ed6c"
      },
      "execution_count": 50,
      "outputs": [
        {
          "output_type": "display_data",
          "data": {
            "text/plain": [
              "<Figure size 720x648 with 2 Axes>"
            ],
            "image/png": "[encoded data removed]"
          },
          "metadata": {
            "needs_background": "light"
          }
        }
      ]
    },
    {
      "cell_type": "markdown",
      "source": [
        "Para tener pocos registro de microcalcificaciones en coparación con la clase negativa (no microcalcificaciones) el modelo tiene un buen número de vp, por lo tanto puede detecatar de manera correcata la clase de interes, de la misma manera tiene un número alarmante de falso negativos error tipo II. Como el problema es detectar sedimentos para la detección de cancer de maman, el modelo tiene que tener un nivel de predicción mucho mejor.\n"
      ],
      "metadata": {
        "id": "6k1QjGDRMg0N"
      }
    },
    {
      "cell_type": "code",
      "source": [
        "# Metricas\n",
        "def metricas(validation: np.ndarray, prediction:np.ndarray, matrix:np.ndarray, label:list=[1])->None:\n",
        "  print(f'Accuracy  :   {metrics.accuracy_score(validation, prediction)}')\n",
        "  print(f'Kappa     :   {metrics.cohen_kappa_score(validation, prediction)}')\n",
        "  print(f'predicción enfermos')\n",
        "  print(f'Precision:   {metrics.precision_score(validation, prediction, labels=label, average=\"macro\")}')\n",
        "  print(f'Recall    :   {metrics.recall_score(validation, prediction, labels=label, average=\"macro\")}')\n",
        "\n",
        "  VN = matrix[0,0]\n",
        "  FP = matrix[0,1]\n",
        "  specificity = VN/(VN+FP)\n",
        "\n",
        "  print(f'Specificity:   {specificity}')\n",
        "  print(f'F1-score   :   {metrics.f1_score(validation, prediction, labels=label, average=\"macro\")}' )\n"
      ],
      "metadata": {
        "id": "8D_fzjYvdCoM"
      },
      "execution_count": 51,
      "outputs": []
    },
    {
      "cell_type": "code",
      "source": [
        "metricas(y_test, y_pred, matrix)"
      ],
      "metadata": {
        "colab": {
          "base_uri": "https://localhost:8080/"
        },
        "id": "B_1IsITIdFnO",
        "outputId": "5ac4e6d4-9191-41d0-d479-b4a1cc8aa038"
      },
      "execution_count": 52,
      "outputs": [
        {
          "output_type": "stream",
          "name": "stdout",
          "text": [
            "Accuracy  :   0.9856951274027715\n",
            "Kappa     :   0.5832857924578827\n",
            "predicción enfermos\n",
            "Precision:   0.8846153846153846\n",
            "Recall    :   0.4423076923076923\n",
            "Specificity:   0.9986270022883296\n",
            "F1-score   :   0.5897435897435898\n"
          ]
        }
      ]
    },
    {
      "cell_type": "markdown",
      "source": [
        "# **Droput** \n",
        "---"
      ],
      "metadata": {
        "id": "XdGUYawYNgg6"
      }
    },
    {
      "cell_type": "markdown",
      "source": [
        "Utilizar el modelo seleccionado, aunque está vez aplicare capas con dropout"
      ],
      "metadata": {
        "id": "movVHdWsN7X4"
      }
    },
    {
      "cell_type": "code",
      "source": [
        "# Tasa de droput \n",
        "# Se impone una restricción en los pesos para cada capa oculta con la norma maxima de los pesos para que no exceda 3, \n",
        "# estableciendo el argumento de kernel_constraint en la clase Dense.\n",
        "# Aumenta la tasa de aprendizaje y el momentum.\n",
        "\n",
        "def model_dropout():\n",
        "  model = Sequential()\n",
        "  model.add(Dropout(0.1, input_dim = 6))\n",
        "  model.add(Dense(15, activation='relu', kernel_initializer='he_normal', kernel_constraint=max_norm(3)))\n",
        "  model.add(Dropout(0.1))\n",
        "  model.add(Dense(5,  activation='relu', kernel_initializer='he_normal', kernel_constraint=max_norm(3)))\n",
        "  model.add(Dense(2,  activation='relu', kernel_initializer='he_normal'))\n",
        "  model.add(Dense(1, activation='sigmoid', kernel_initializer='he_normal'))\n",
        "  model.compile(loss='binary_crossentropy', optimizer='rmsprop', metrics=['accuracy'])\n",
        "  return model"
      ],
      "metadata": {
        "id": "GKikxMunNbac"
      },
      "execution_count": 38,
      "outputs": []
    },
    {
      "cell_type": "code",
      "source": [
        "model_seleccionado_dropout = model_dropout()\n",
        "history_dropout = model_seleccionado_dropout.fit(X_train_s, y_train, epochs = 300, batch_size = 100, validation_data = (X_test_s, y_test), verbose = 0)"
      ],
      "metadata": {
        "id": "blu5LYZTQOkq"
      },
      "execution_count": 39,
      "outputs": []
    },
    {
      "cell_type": "code",
      "source": [
        "optimization_learning_curves(history_dropout, metrica='loss', title='Loss vs Val Loss')"
      ],
      "metadata": {
        "colab": {
          "base_uri": "https://localhost:8080/",
          "height": 314
        },
        "id": "pWEEHW1hRC0h",
        "outputId": "e81239b6-282f-4567-e3f7-ee6ee1c124e9"
      },
      "execution_count": 40,
      "outputs": [
        {
          "output_type": "display_data",
          "data": {
            "text/plain": [
              "<Figure size 576x288 with 1 Axes>"
            ],
            "image/png": "[encoded data removed]"
          },
          "metadata": {
            "needs_background": "light"
          }
        }
      ]
    },
    {
      "cell_type": "code",
      "source": [
        "y_pred_dropout = (model_seleccionado_dropout.predict(X_test_s)>0.5).astype('int32')\n",
        "y_pred_dropout = np.reshape(y_pred_dropout, y_pred_dropout.shape[0])\n",
        "y_pred_dropout"
      ],
      "metadata": {
        "colab": {
          "base_uri": "https://localhost:8080/"
        },
        "id": "rAqwd_OPR9rJ",
        "outputId": "29b2d9a0-86a1-4fa1-d780-f01c3bd0d737"
      },
      "execution_count": 41,
      "outputs": [
        {
          "output_type": "execute_result",
          "data": {
            "text/plain": [
              "array([0, 0, 0, ..., 0, 0, 1], dtype=int32)"
            ]
          },
          "metadata": {},
          "execution_count": 41
        }
      ]
    },
    {
      "cell_type": "code",
      "source": [
        "matrix = consufion_matrix(y_test, y_pred_dropout,'microcalcificaciones', 'No microcalcificaciones', x_size= 10, y_size = 9)"
      ],
      "metadata": {
        "colab": {
          "base_uri": "https://localhost:8080/",
          "height": 556
        },
        "id": "qho5R_oMR6v7",
        "outputId": "72114fe1-368e-4ecf-ccb8-e12bb1f90305"
      },
      "execution_count": 42,
      "outputs": [
        {
          "output_type": "display_data",
          "data": {
            "text/plain": [
              "<Figure size 720x648 with 2 Axes>"
            ],
            "image/png": "[encoded data removed]"
          },
          "metadata": {
            "needs_background": "light"
          }
        }
      ]
    },
    {
      "cell_type": "code",
      "source": [
        "metricas(y_test, y_pred_dropout, matrix)"
      ],
      "metadata": {
        "colab": {
          "base_uri": "https://localhost:8080/"
        },
        "id": "zK49eu7Mc6P_",
        "outputId": "1efb3484-6f30-4ea7-bf8a-2b6bc354f81d"
      },
      "execution_count": 43,
      "outputs": [
        {
          "output_type": "stream",
          "name": "stdout",
          "text": [
            "Accuracy  :   0.9874832364774251\n",
            "Kappa     :   0.6526281930410285\n",
            "predicción enfermos\n",
            "Precision:   0.9\n",
            "Recall    :   0.5192307692307693\n",
            "Specificity:   0.9986270022883296\n",
            "F1-score   :   0.6585365853658537\n"
          ]
        }
      ]
    },
    {
      "cell_type": "markdown",
      "source": [
        "Pese a que se utilizo el dropout en algunas capas del mismo modelo utilizado anteriormente, no se evidencia una mejora sustancial en la predicción de microcalcificaciones. Al ser un problema tán critico no se podria poner en produccón con el rendimiento optenido hasta el momento, pese a que no hallamos medido el rendimiento. \n",
        "\n",
        "Se requiere validar otras tecnicas que permitan mejorar el nivel de predicción. Recordenmos que esté es un actividad de `aprendizaje`."
      ],
      "metadata": {
        "id": "w43BcwKBgmST"
      }
    }
  ]
}