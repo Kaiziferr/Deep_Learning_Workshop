{
  "nbformat": 4,
  "nbformat_minor": 0,
  "metadata": {
    "colab": {
      "name": "01_workshop_evaluate_model.ipynb",
      "provenance": [],
      "authorship_tag": "ABX9TyMaqRakyHInjIUfHq42MUS+",
      "include_colab_link": true
    },
    "kernelspec": {
      "name": "python3",
      "display_name": "Python 3"
    },
    "language_info": {
      "name": "python"
    },
    "accelerator": "GPU"
  },
  "cells": [
    {
      "cell_type": "markdown",
      "metadata": {
        "id": "view-in-github",
        "colab_type": "text"
      },
      "source": [
        "<a href=\"https://colab.research.google.com/github/Kaiziferr/deep_learning/blob/master/multilayer_perceptron/01_workshop_evaluate_model.ipynb\" target=\"_parent\"><img src=\"https://colab.research.google.com/assets/colab-badge.svg\" alt=\"Open In Colab\"/></a>"
      ]
    },
    {
      "cell_type": "code",
      "source": [
        "import tensorflow\n",
        "import numpy as np\n",
        "import pandas as pd\n",
        "import matplotlib.pyplot as plt\n",
        "import seaborn as sns\n",
        "\n",
        "from keras.models import Sequential\n",
        "from keras.layers import Dense\n",
        "from tensorflow.keras.metrics import Recall\n",
        "\n",
        "from sklearn.model_selection import train_test_split, StratifiedKFold, cross_val_score\n",
        "from sklearn import metrics"
      ],
      "metadata": {
        "id": "qYKealc6DvtO"
      },
      "execution_count": 1,
      "outputs": []
    },
    {
      "cell_type": "markdown",
      "source": [
        "# **Objetivo**\n",
        "El objetivo del conjunto de datos es predecir de forma diagnóstica si un paciente mujer tiene o no diabetes.\n",
        "\n",
        "- Pregnancies  : número de veces de embarazada\n",
        "- Glucose      :concentración de glucosa plasmática a las 2 horas en una prueba de tolerancia oral a la glucosa\n",
        "- BloodPressure: presión arterial diastólica (mm Hg)\n",
        "- SkinThickness: grosor del pliegue cutáneo del tríceps (mm)\n",
        "- Insulin      : insulina sérica de 2 horas (mu U/ml)\n",
        "- BMI          : Índice de masa corporal (peso en kg/(altura en m)^2)\n",
        "- DiabetesPedigreeFunction: función de pedigrí de diabetes\n",
        "- Age: edad\n",
        "- Outcome: churm\n"
      ],
      "metadata": {
        "id": "YlLzg83Ialfj"
      }
    },
    {
      "cell_type": "code",
      "source": [
        "data = pd.read_csv('https://raw.githubusercontent.com/Kaiziferr/Deep_Learning_Workshop/master/workshop_keras_sklearn_introduction/diabetes.csv')\n",
        "data_values = data.values"
      ],
      "metadata": {
        "id": "Nsml-mWBXoCS"
      },
      "execution_count": 2,
      "outputs": []
    },
    {
      "cell_type": "code",
      "source": [
        "data.head(5)"
      ],
      "metadata": {
        "id": "C8Ln-PjcaZCZ",
        "outputId": "a637e8e2-c703-4748-9551-09a47e3fbf78",
        "colab": {
          "base_uri": "https://localhost:8080/",
          "height": 206
        }
      },
      "execution_count": 3,
      "outputs": [
        {
          "output_type": "execute_result",
          "data": {
            "text/plain": [
              "   Pregnancies  Glucose  BloodPressure  SkinThickness  Insulin   BMI  \\\n",
              "0            6      148             72             35        0  33.6   \n",
              "1            1       85             66             29        0  26.6   \n",
              "2            8      183             64              0        0  23.3   \n",
              "3            1       89             66             23       94  28.1   \n",
              "4            0      137             40             35      168  43.1   \n",
              "\n",
              "   DiabetesPedigreeFunction  Age  Outcome  \n",
              "0                     0.627   50        1  \n",
              "1                     0.351   31        0  \n",
              "2                     0.672   32        1  \n",
              "3                     0.167   21        0  \n",
              "4                     2.288   33        1  "
            ],
            "text/html": [
              "\n",
              "  <div id=\"df-d958a929-7522-4706-9525-2ee79d83f17e\">\n",
              "    <div class=\"colab-df-container\">\n",
              "      <div>\n",
              "<style scoped>\n",
              "    .dataframe tbody tr th:only-of-type {\n",
              "        vertical-align: middle;\n",
              "    }\n",
              "\n",
              "    .dataframe tbody tr th {\n",
              "        vertical-align: top;\n",
              "    }\n",
              "\n",
              "    .dataframe thead th {\n",
              "        text-align: right;\n",
              "    }\n",
              "</style>\n",
              "<table border=\"1\" class=\"dataframe\">\n",
              "  <thead>\n",
              "    <tr style=\"text-align: right;\">\n",
              "      <th></th>\n",
              "      <th>Pregnancies</th>\n",
              "      <th>Glucose</th>\n",
              "      <th>BloodPressure</th>\n",
              "      <th>SkinThickness</th>\n",
              "      <th>Insulin</th>\n",
              "      <th>BMI</th>\n",
              "      <th>DiabetesPedigreeFunction</th>\n",
              "      <th>Age</th>\n",
              "      <th>Outcome</th>\n",
              "    </tr>\n",
              "  </thead>\n",
              "  <tbody>\n",
              "    <tr>\n",
              "      <th>0</th>\n",
              "      <td>6</td>\n",
              "      <td>148</td>\n",
              "      <td>72</td>\n",
              "      <td>35</td>\n",
              "      <td>0</td>\n",
              "      <td>33.6</td>\n",
              "      <td>0.627</td>\n",
              "      <td>50</td>\n",
              "      <td>1</td>\n",
              "    </tr>\n",
              "    <tr>\n",
              "      <th>1</th>\n",
              "      <td>1</td>\n",
              "      <td>85</td>\n",
              "      <td>66</td>\n",
              "      <td>29</td>\n",
              "      <td>0</td>\n",
              "      <td>26.6</td>\n",
              "      <td>0.351</td>\n",
              "      <td>31</td>\n",
              "      <td>0</td>\n",
              "    </tr>\n",
              "    <tr>\n",
              "      <th>2</th>\n",
              "      <td>8</td>\n",
              "      <td>183</td>\n",
              "      <td>64</td>\n",
              "      <td>0</td>\n",
              "      <td>0</td>\n",
              "      <td>23.3</td>\n",
              "      <td>0.672</td>\n",
              "      <td>32</td>\n",
              "      <td>1</td>\n",
              "    </tr>\n",
              "    <tr>\n",
              "      <th>3</th>\n",
              "      <td>1</td>\n",
              "      <td>89</td>\n",
              "      <td>66</td>\n",
              "      <td>23</td>\n",
              "      <td>94</td>\n",
              "      <td>28.1</td>\n",
              "      <td>0.167</td>\n",
              "      <td>21</td>\n",
              "      <td>0</td>\n",
              "    </tr>\n",
              "    <tr>\n",
              "      <th>4</th>\n",
              "      <td>0</td>\n",
              "      <td>137</td>\n",
              "      <td>40</td>\n",
              "      <td>35</td>\n",
              "      <td>168</td>\n",
              "      <td>43.1</td>\n",
              "      <td>2.288</td>\n",
              "      <td>33</td>\n",
              "      <td>1</td>\n",
              "    </tr>\n",
              "  </tbody>\n",
              "</table>\n",
              "</div>\n",
              "      <button class=\"colab-df-convert\" onclick=\"convertToInteractive('df-d958a929-7522-4706-9525-2ee79d83f17e')\"\n",
              "              title=\"Convert this dataframe to an interactive table.\"\n",
              "              style=\"display:none;\">\n",
              "        \n",
              "  <svg xmlns=\"http://www.w3.org/2000/svg\" height=\"24px\"viewBox=\"0 0 24 24\"\n",
              "       width=\"24px\">\n",
              "    <path d=\"M0 0h24v24H0V0z\" fill=\"none\"/>\n",
              "    <path d=\"M18.56 5.44l.94 2.06.94-2.06 2.06-.94-2.06-.94-.94-2.06-.94 2.06-2.06.94zm-11 1L8.5 8.5l.94-2.06 2.06-.94-2.06-.94L8.5 2.5l-.94 2.06-2.06.94zm10 10l.94 2.06.94-2.06 2.06-.94-2.06-.94-.94-2.06-.94 2.06-2.06.94z\"/><path d=\"M17.41 7.96l-1.37-1.37c-.4-.4-.92-.59-1.43-.59-.52 0-1.04.2-1.43.59L10.3 9.45l-7.72 7.72c-.78.78-.78 2.05 0 2.83L4 21.41c.39.39.9.59 1.41.59.51 0 1.02-.2 1.41-.59l7.78-7.78 2.81-2.81c.8-.78.8-2.07 0-2.86zM5.41 20L4 18.59l7.72-7.72 1.47 1.35L5.41 20z\"/>\n",
              "  </svg>\n",
              "      </button>\n",
              "      \n",
              "  <style>\n",
              "    .colab-df-container {\n",
              "      display:flex;\n",
              "      flex-wrap:wrap;\n",
              "      gap: 12px;\n",
              "    }\n",
              "\n",
              "    .colab-df-convert {\n",
              "      background-color: #E8F0FE;\n",
              "      border: none;\n",
              "      border-radius: 50%;\n",
              "      cursor: pointer;\n",
              "      display: none;\n",
              "      fill: #1967D2;\n",
              "      height: 32px;\n",
              "      padding: 0 0 0 0;\n",
              "      width: 32px;\n",
              "    }\n",
              "\n",
              "    .colab-df-convert:hover {\n",
              "      background-color: #E2EBFA;\n",
              "      box-shadow: 0px 1px 2px rgba(60, 64, 67, 0.3), 0px 1px 3px 1px rgba(60, 64, 67, 0.15);\n",
              "      fill: #174EA6;\n",
              "    }\n",
              "\n",
              "    [theme=dark] .colab-df-convert {\n",
              "      background-color: #3B4455;\n",
              "      fill: #D2E3FC;\n",
              "    }\n",
              "\n",
              "    [theme=dark] .colab-df-convert:hover {\n",
              "      background-color: #434B5C;\n",
              "      box-shadow: 0px 1px 3px 1px rgba(0, 0, 0, 0.15);\n",
              "      filter: drop-shadow(0px 1px 2px rgba(0, 0, 0, 0.3));\n",
              "      fill: #FFFFFF;\n",
              "    }\n",
              "  </style>\n",
              "\n",
              "      <script>\n",
              "        const buttonEl =\n",
              "          document.querySelector('#df-d958a929-7522-4706-9525-2ee79d83f17e button.colab-df-convert');\n",
              "        buttonEl.style.display =\n",
              "          google.colab.kernel.accessAllowed ? 'block' : 'none';\n",
              "\n",
              "        async function convertToInteractive(key) {\n",
              "          const element = document.querySelector('#df-d958a929-7522-4706-9525-2ee79d83f17e');\n",
              "          const dataTable =\n",
              "            await google.colab.kernel.invokeFunction('convertToInteractive',\n",
              "                                                     [key], {});\n",
              "          if (!dataTable) return;\n",
              "\n",
              "          const docLinkHtml = 'Like what you see? Visit the ' +\n",
              "            '<a target=\"_blank\" href=https://colab.research.google.com/notebooks/data_table.ipynb>data table notebook</a>'\n",
              "            + ' to learn more about interactive tables.';\n",
              "          element.innerHTML = '';\n",
              "          dataTable['output_type'] = 'display_data';\n",
              "          await google.colab.output.renderOutput(dataTable, element);\n",
              "          const docLink = document.createElement('div');\n",
              "          docLink.innerHTML = docLinkHtml;\n",
              "          element.appendChild(docLink);\n",
              "        }\n",
              "      </script>\n",
              "    </div>\n",
              "  </div>\n",
              "  "
            ]
          },
          "metadata": {},
          "execution_count": 3
        }
      ]
    },
    {
      "cell_type": "markdown",
      "source": [
        "# **Data Split**\n",
        "---"
      ],
      "metadata": {
        "id": "LpdunG4YX1PZ"
      }
    },
    {
      "cell_type": "code",
      "source": [
        "X = data_values[:, :8]\n",
        "y = data_values[:, 8]"
      ],
      "metadata": {
        "id": "8ZMGm1i3X7Dk"
      },
      "execution_count": 4,
      "outputs": []
    },
    {
      "cell_type": "markdown",
      "source": [
        "# **Holdount**\n",
        "---\n",
        "\n"
      ],
      "metadata": {
        "id": "eZa9tJXPFS68"
      }
    },
    {
      "cell_type": "code",
      "source": [
        "X_train, X_test, y_train, y_test = train_test_split(X, y, test_size = 0.2, random_state = 1234, shuffle=True)"
      ],
      "metadata": {
        "id": "0MRIK2YcYJ56"
      },
      "execution_count": 5,
      "outputs": []
    },
    {
      "cell_type": "code",
      "source": [
        "fig, ax = plt.subplots(figsize = (6, 4))\n",
        "fig.suptitle('Count plot Diabetis', fontsize = 15)\n",
        "sns.countplot(x = y, ax = ax)\n",
        "_, data_target = np.unique(data_values[:, 8], return_counts=True)\n",
        "len_data = data_values.shape[0]\n",
        "pe = '{0:.2f}'.format(data_target[1]/len_data)\n",
        "ps = '{0:.2f}'.format(data_target[0]/len_data)\n",
        "ax.set_xticklabels([f'health \\n {ps}', f'sick\\n{pe}'])\n",
        "fig.show()"
      ],
      "metadata": {
        "id": "hRohLkzNYngo",
        "outputId": "a66ac3e2-fd63-4429-caab-11c913b01716",
        "colab": {
          "base_uri": "https://localhost:8080/",
          "height": 306
        }
      },
      "execution_count": 6,
      "outputs": [
        {
          "output_type": "display_data",
          "data": {
            "text/plain": [
              "<Figure size 432x288 with 1 Axes>"
            ],
            "image/png": "[encoded data removed]"
          },
          "metadata": {
            "needs_background": "light"
          }
        }
      ]
    },
    {
      "cell_type": "markdown",
      "metadata": {
        "id": "EQzzKJ1SRWYn"
      },
      "source": [
        "- Hay un desbalance en el conjunto de datos del 65% para los pacientes sanos y 35% para los pacientes enfermos."
      ]
    },
    {
      "cell_type": "markdown",
      "source": [
        "# **Model**\n",
        "---"
      ],
      "metadata": {
        "id": "73q7wGeyc6Yi"
      }
    },
    {
      "cell_type": "code",
      "source": [
        "model = Sequential()\n",
        "model.add(Dense(12, input_dim=8, activation='relu', kernel_initializer='glorot_uniform'))\n",
        "model.add(Dense(8, activation='relu', kernel_initializer='glorot_uniform'))\n",
        "model.add(Dense(4, activation = 'relu', kernel_initializer='glorot_uniform'))\n",
        "model.add(Dense(1, activation='sigmoid', kernel_initializer='glorot_uniform'))\n",
        "model.compile(loss='binary_crossentropy', optimizer='adam', metrics=['accuracy', Recall()])\n",
        "history = model.fit(X_train, y_train, validation_data = (X_test, y_test), epochs=300, batch_size=16, verbose=0)"
      ],
      "metadata": {
        "id": "cyK4DIssc_yO"
      },
      "execution_count": 7,
      "outputs": []
    },
    {
      "cell_type": "code",
      "metadata": {
        "id": "hKmCZAYSrpTX",
        "colab": {
          "base_uri": "https://localhost:8080/"
        },
        "outputId": "ac54fe5a-5c2a-4cd2-febd-7e769088ad76"
      },
      "source": [
        "history.history.keys()"
      ],
      "execution_count": 8,
      "outputs": [
        {
          "output_type": "execute_result",
          "data": {
            "text/plain": [
              "dict_keys(['loss', 'accuracy', 'recall', 'val_loss', 'val_accuracy', 'val_recall'])"
            ]
          },
          "metadata": {},
          "execution_count": 8
        }
      ]
    },
    {
      "cell_type": "code",
      "source": [
        "# Problema de optimización\n",
        "loss, accuracy, recall = model.evaluate(X_train, y_train)\n",
        "print('Recall: %.3f' % recall)\n",
        "print('Accuracy: %.3f' % accuracy)\n",
        "print('Loss: %.3f' % loss)"
      ],
      "metadata": {
        "id": "aSHVsnF2gkbO",
        "outputId": "dcb975ab-09f6-4054-8db4-75cef1ab0f47",
        "colab": {
          "base_uri": "https://localhost:8080/"
        }
      },
      "execution_count": 9,
      "outputs": [
        {
          "output_type": "stream",
          "name": "stdout",
          "text": [
            "20/20 [==============================] - 0s 4ms/step - loss: 0.5903 - accuracy: 0.7101 - recall: 0.3099\n",
            "Recall: 0.310\n",
            "Accuracy: 0.710\n",
            "Loss: 0.590\n"
          ]
        }
      ]
    },
    {
      "cell_type": "code",
      "source": [
        "# Problema de inferencia\n",
        "val_loss, val_accuracy, val_recall = model.evaluate(X_test, y_test)\n",
        "print('Val Recall: %.3f' % val_recall)\n",
        "print('Val Accuracy: %.3f' % val_accuracy)\n",
        "print('val Loss: %.3f'% val_loss)"
      ],
      "metadata": {
        "id": "_opzSnRhOW0X",
        "outputId": "8d921468-1792-40d6-80e6-d81f72703471",
        "colab": {
          "base_uri": "https://localhost:8080/"
        }
      },
      "execution_count": 10,
      "outputs": [
        {
          "output_type": "stream",
          "name": "stdout",
          "text": [
            "5/5 [==============================] - 0s 5ms/step - loss: 0.6902 - accuracy: 0.7013 - recall: 0.2727\n",
            "Val Recall: 0.273\n",
            "Val Accuracy: 0.701\n",
            "val Loss: 0.690\n"
          ]
        }
      ]
    },
    {
      "cell_type": "code",
      "metadata": {
        "colab": {
          "base_uri": "https://localhost:8080/"
        },
        "id": "jShpfMcBT2co",
        "outputId": "740f8c5c-15b1-4e05-d18d-a18a0894484e"
      },
      "source": [
        "#Keys\n",
        "print(history.history.keys())"
      ],
      "execution_count": 11,
      "outputs": [
        {
          "output_type": "stream",
          "name": "stdout",
          "text": [
            "dict_keys(['loss', 'accuracy', 'recall', 'val_loss', 'val_accuracy', 'val_recall'])\n"
          ]
        }
      ]
    },
    {
      "cell_type": "markdown",
      "metadata": {
        "id": "flVm0xVVT5hM"
      },
      "source": [
        "# **Val loss and Loss**\n",
        "---"
      ]
    },
    {
      "cell_type": "code",
      "source": [
        "fig, ax = plt.subplots(figsize = (8, 4))\n",
        "fig.suptitle('Loss vs Val_Loss', fontsize = 15)\n",
        "ax.plot(history.history['loss'])\n",
        "ax.plot(history.history['val_loss'])\n",
        "ax.set_xlabel('Epoch', size = 12)\n",
        "ax.set_ylabel('Loss', size = 12)\n",
        "ax.legend(['Train', 'Test'], loc = 'upper left', fontsize = 12)\n",
        "ax.tick_params(labelsize = 12)"
      ],
      "metadata": {
        "id": "zghI7R18O2Gs",
        "outputId": "c29f5a92-5d4e-4fe4-f7ec-068479246c24",
        "colab": {
          "base_uri": "https://localhost:8080/",
          "height": 314
        }
      },
      "execution_count": 12,
      "outputs": [
        {
          "output_type": "display_data",
          "data": {
            "text/plain": [
              "<Figure size 576x288 with 1 Axes>"
            ],
            "image/png": "[encoded data removed]"
          },
          "metadata": {
            "needs_background": "light"
          }
        }
      ]
    },
    {
      "cell_type": "markdown",
      "metadata": {
        "id": "tmuUKwb9VXFF"
      },
      "source": [
        "- La perdida de entrenamiento y validación converge hasta cierto punto."
      ]
    },
    {
      "cell_type": "markdown",
      "metadata": {
        "id": "V87-7yZOV4n7"
      },
      "source": [
        "# **Predictions**\n",
        "---\n"
      ]
    },
    {
      "cell_type": "code",
      "source": [
        "y_pred = (model.predict(X_test)>0.5).astype('int32')\n",
        "y_pred = np.reshape(y_pred, y_pred.shape[0])\n",
        "y_pred"
      ],
      "metadata": {
        "id": "hphmicysjvWx",
        "outputId": "9ee861d8-e149-4ba5-b648-b41873796e8d",
        "colab": {
          "base_uri": "https://localhost:8080/"
        }
      },
      "execution_count": 13,
      "outputs": [
        {
          "output_type": "execute_result",
          "data": {
            "text/plain": [
              "array([0, 0, 0, 1, 0, 0, 0, 0, 0, 0, 1, 0, 0, 0, 0, 0, 0, 0, 0, 0, 0, 1,\n",
              "       0, 0, 0, 0, 0, 1, 0, 0, 0, 0, 1, 0, 1, 0, 0, 0, 0, 0, 0, 0, 0, 0,\n",
              "       0, 0, 0, 0, 0, 0, 0, 0, 1, 0, 0, 0, 0, 0, 0, 0, 0, 0, 0, 0, 0, 0,\n",
              "       0, 0, 0, 0, 0, 0, 0, 0, 0, 0, 0, 0, 0, 0, 0, 1, 0, 1, 0, 0, 0, 0,\n",
              "       0, 0, 0, 1, 0, 0, 0, 0, 0, 0, 0, 0, 0, 1, 0, 1, 0, 0, 1, 0, 0, 0,\n",
              "       0, 0, 0, 0, 0, 1, 0, 0, 0, 0, 0, 0, 0, 1, 1, 0, 1, 0, 0, 0, 0, 0,\n",
              "       0, 1, 0, 0, 0, 0, 0, 0, 0, 0, 0, 0, 0, 0, 0, 1, 0, 0, 1, 0, 0, 1],\n",
              "      dtype=int32)"
            ]
          },
          "metadata": {},
          "execution_count": 13
        }
      ]
    },
    {
      "cell_type": "code",
      "source": [
        "for i in range(15):\n",
        "  print('%s --> %d (real %d)'% (X_test[i].tolist(), y_pred[i], y_test[i]))"
      ],
      "metadata": {
        "id": "kG1y6zWHRCoL",
        "outputId": "ffe0dfb9-c81d-4db4-d78a-0361e2e57cae",
        "colab": {
          "base_uri": "https://localhost:8080/"
        }
      },
      "execution_count": 14,
      "outputs": [
        {
          "output_type": "stream",
          "name": "stdout",
          "text": [
            "[0.0, 113.0, 80.0, 16.0, 0.0, 31.0, 0.874, 21.0] --> 0 (real 0)\n",
            "[3.0, 180.0, 64.0, 25.0, 70.0, 34.0, 0.271, 26.0] --> 0 (real 0)\n",
            "[7.0, 114.0, 64.0, 0.0, 0.0, 27.4, 0.732, 34.0] --> 0 (real 1)\n",
            "[1.0, 125.0, 50.0, 40.0, 167.0, 33.3, 0.962, 28.0] --> 1 (real 1)\n",
            "[2.0, 120.0, 76.0, 37.0, 105.0, 39.7, 0.215, 29.0] --> 0 (real 0)\n",
            "[2.0, 128.0, 64.0, 42.0, 0.0, 40.0, 1.101, 24.0] --> 0 (real 0)\n",
            "[4.0, 137.0, 84.0, 0.0, 0.0, 31.2, 0.252, 30.0] --> 0 (real 0)\n",
            "[3.0, 103.0, 72.0, 30.0, 152.0, 27.6, 0.73, 27.0] --> 0 (real 0)\n",
            "[6.0, 190.0, 92.0, 0.0, 0.0, 35.5, 0.278, 66.0] --> 0 (real 1)\n",
            "[1.0, 109.0, 56.0, 21.0, 135.0, 25.2, 0.833, 23.0] --> 0 (real 0)\n",
            "[1.0, 181.0, 78.0, 42.0, 293.0, 40.0, 1.258, 22.0] --> 1 (real 1)\n",
            "[0.0, 120.0, 74.0, 18.0, 63.0, 30.5, 0.285, 26.0] --> 0 (real 0)\n",
            "[7.0, 136.0, 90.0, 0.0, 0.0, 29.9, 0.21, 50.0] --> 0 (real 0)\n",
            "[1.0, 71.0, 62.0, 0.0, 0.0, 21.8, 0.416, 26.0] --> 0 (real 0)\n",
            "[3.0, 111.0, 90.0, 12.0, 78.0, 28.4, 0.495, 29.0] --> 0 (real 0)\n"
          ]
        }
      ]
    },
    {
      "cell_type": "markdown",
      "metadata": {
        "id": "Hxu40v_L4XJp"
      },
      "source": [
        "# **Sesgo predictivo**\n",
        "---\n",
        "\n",
        "\n",
        "\n"
      ]
    },
    {
      "cell_type": "code",
      "metadata": {
        "id": "k10TgPX44Z4S",
        "colab": {
          "base_uri": "https://localhost:8080/"
        },
        "outputId": "a4843382-58b5-45bf-edce-f82916b5614a"
      },
      "source": [
        "#sesgo predicción = promedio de predicciones - promedio de etiquetas (observaciones) en el conjunto de datos\n",
        "# Sick\n",
        "average_prediction = (len(y_pred[y_pred==1])/len(y_pred))\n",
        "average_label_target = (len(y_test[y_test==1]) / len(y_test)) \n",
        "sesgo_prediction = average_prediction - average_label_target\n",
        "sesgo_prediction"
      ],
      "execution_count": 15,
      "outputs": [
        {
          "output_type": "execute_result",
          "data": {
            "text/plain": [
              "-0.2207792207792208"
            ]
          },
          "metadata": {},
          "execution_count": 15
        }
      ]
    },
    {
      "cell_type": "code",
      "source": [
        "print(f'Promedio de predicciones:  {average_prediction}')\n",
        "print(f'Promedio de etiquetas: {average_label_target}')\n",
        "print(f'Sesgo de predicción: {sesgo_prediction}')"
      ],
      "metadata": {
        "id": "wtjW3617V6UR",
        "outputId": "a91b7523-d2c7-4baa-cb39-48c507ad37df",
        "colab": {
          "base_uri": "https://localhost:8080/"
        }
      },
      "execution_count": 16,
      "outputs": [
        {
          "output_type": "stream",
          "name": "stdout",
          "text": [
            "Promedio de predicciones:  0.13636363636363635\n",
            "Promedio de etiquetas: 0.35714285714285715\n",
            "Sesgo de predicción: -0.2207792207792208\n"
          ]
        }
      ]
    },
    {
      "cell_type": "markdown",
      "source": [
        "- El modelo presenta un sesgo negativo (subestima)\n",
        "- En promedio hay un 36% de personas con diabetes, pero mi modelo está prediciendo un 20%"
      ],
      "metadata": {
        "id": "uamc9iHXV1AR"
      }
    },
    {
      "cell_type": "markdown",
      "metadata": {
        "id": "mBCFvZ50XsCw"
      },
      "source": [
        "# **Confusion Matrix**\n",
        "---\n",
        "\n"
      ]
    },
    {
      "cell_type": "code",
      "source": [
        "matrix = metrics.confusion_matrix(y_test, y_pred)\n",
        "matrix"
      ],
      "metadata": {
        "id": "UQAQPHXa3OpK",
        "outputId": "72276d54-029e-47fe-e7e7-ea6547378039",
        "colab": {
          "base_uri": "https://localhost:8080/"
        }
      },
      "execution_count": 17,
      "outputs": [
        {
          "output_type": "execute_result",
          "data": {
            "text/plain": [
              "array([[93,  6],\n",
              "       [40, 15]])"
            ]
          },
          "metadata": {},
          "execution_count": 17
        }
      ]
    },
    {
      "cell_type": "code",
      "metadata": {
        "id": "pAEDnWtT91qE",
        "colab": {
          "base_uri": "https://localhost:8080/",
          "height": 339
        },
        "outputId": "3c5b0b83-4e84-4462-dd48-845414409b44"
      },
      "source": [
        "fig, ax = plt.subplots(nrows= 1, ncols=  1, figsize = (6,5))\n",
        "sns.heatmap(matrix, annot=True, ax = ax, cmap=plt.cm.Blues, fmt = 'g', annot_kws={'size': 13})\n",
        "ax.set_title('Matriz de confusión', size = 13)\n",
        "ax.xaxis.set_ticklabels(['sanos', 'enfermos'])\n",
        "ax.yaxis.set_ticklabels(['sanos', 'enfermos'])\n",
        "ax.tick_params(labelsize = 13)"
      ],
      "execution_count": 18,
      "outputs": [
        {
          "output_type": "display_data",
          "data": {
            "text/plain": [
              "<Figure size 432x360 with 2 Axes>"
            ],
            "image/png": "[encoded data removed]"
          },
          "metadata": {
            "needs_background": "light"
          }
        }
      ]
    },
    {
      "cell_type": "markdown",
      "source": [
        "- El modelo para la detección de enfermos es muy regular, ya que tiene un porcentaje conciderable de falsos negativos, ya que se está detectando enfermos como sanos."
      ],
      "metadata": {
        "id": "DLDM9mmNnlWu"
      }
    },
    {
      "cell_type": "markdown",
      "metadata": {
        "id": "Hk-OIOgdDO8J"
      },
      "source": [
        "# Metrics"
      ]
    },
    {
      "cell_type": "code",
      "metadata": {
        "id": "mY5R4Q_s_ky8",
        "colab": {
          "base_uri": "https://localhost:8080/"
        },
        "outputId": "9e7848f8-e7ba-4e52-9b13-0091ef9f7081"
      },
      "source": [
        "print(f'Accuracy  :   {metrics.accuracy_score(y_test, y_pred)}')\n",
        "print(f'Kappa     :   {metrics.cohen_kappa_score(y_test, y_pred)}')\n",
        "\n",
        "print(f'predicción enfermos')\n",
        "print(f'Precision:   {metrics.precision_score(y_test, y_pred, labels=[1], average=\"macro\")}')\n",
        "print(f'Recall    :   {metrics.recall_score(y_test, y_pred, labels=[1], average=\"macro\")}')\n",
        "\n",
        "VN = matrix[0,0]\n",
        "FP = matrix[0,1]\n",
        "specificity = VN/(VN+FP)\n",
        "\n",
        "print(f'Specificity:   {specificity}')\n",
        "print(f'F1-score   :   {metrics.f1_score(y_test, y_pred, labels=[1], average=\"macro\")}' )"
      ],
      "execution_count": 19,
      "outputs": [
        {
          "output_type": "stream",
          "name": "stdout",
          "text": [
            "Accuracy  :   0.7012987012987013\n",
            "Kappa     :   0.24590163934426235\n",
            "predicción enfermos\n",
            "Precision:   0.7142857142857143\n",
            "Recall    :   0.2727272727272727\n",
            "Specificity:   0.9393939393939394\n",
            "F1-score   :   0.3947368421052631\n"
          ]
        }
      ]
    },
    {
      "cell_type": "markdown",
      "metadata": {
        "id": "1K2IfvuNYd3o"
      },
      "source": [
        "- El modelo es deficiente al momento de predecir los enfermos, contiene un recall del 40%\n",
        "- Los estimadores de predicción y realidad están deacuerdo con un 40%, por lo tanto en la predicción hay un 60% aleatorio"
      ]
    },
    {
      "cell_type": "markdown",
      "metadata": {
        "id": "LbFCCInWYoPM"
      },
      "source": [
        "# Cross Validation"
      ]
    },
    {
      "cell_type": "code",
      "source": [
        "kfold = StratifiedKFold(n_splits=10, shuffle=True)\n",
        "\n",
        "cvscores_loss_train = []\n",
        "cvscores_loss_test = []\n",
        "cvscores_recall_train = []\n",
        "cvscores_recall_test = []\n",
        "\n",
        "\n",
        "for train, test in kfold.split(X, y):\n",
        "  model = Sequential()\n",
        "  model.add(Dense(12, input_dim = 8, activation='relu', kernel_initializer='glorot_uniform'))\n",
        "  model.add(Dense(8, activation='relu', kernel_initializer='glorot_uniform'))\n",
        "  model.add(Dense(1, activation='sigmoid', kernel_initializer='glorot_uniform'))\n",
        "  model.compile(loss = 'binary_crossentropy', optimizer = 'adam', metrics = ['accuracy', Recall()])\n",
        "  history = model.fit(X[train], y[train], validation_data=(X[test], y[test]), verbose = 0)\n",
        "  loss_train, _, recall_train = model.evaluate(X[train], y[train], verbose=0)\n",
        "  cvscores_loss_train.append(loss_train)\n",
        "  cvscores_recall_train.append(recall_train)\n",
        "  loss_test, _, recall_test = model.evaluate(X[test], y[test], verbose=0)\n",
        "  cvscores_loss_test.append(loss_test)\n",
        "  cvscores_recall_test.append(recall_test)\n",
        "  print('======================================================================')\n",
        "  print('loss: %.3f recall: %.3f%% val_loss: %.3f val_recall: %.3f%%' % (loss_train, recall_train*100, loss_test, recall_test*100))"
      ],
      "metadata": {
        "id": "0QaTA9RR8l0i",
        "outputId": "094e80a5-a495-4fb7-a147-d4157a4ded9b",
        "colab": {
          "base_uri": "https://localhost:8080/"
        }
      },
      "execution_count": 20,
      "outputs": [
        {
          "output_type": "stream",
          "name": "stdout",
          "text": [
            "======================================================================\n",
            "loss: 5.763 recall: 31.535% val_loss: 6.577 val_recall: 37.037%\n",
            "======================================================================\n",
            "loss: 2.842 recall: 67.635% val_loss: 2.941 val_recall: 55.556%\n",
            "======================================================================\n",
            "loss: 5.892 recall: 54.772% val_loss: 5.554 val_recall: 51.852%\n",
            "======================================================================\n",
            "loss: 16.229 recall: 100.000% val_loss: 17.980 val_recall: 100.000%\n",
            "======================================================================\n",
            "loss: 2.927 recall: 43.983% val_loss: 2.027 val_recall: 59.259%\n",
            "======================================================================\n",
            "loss: 9.251 recall: 0.000% val_loss: 4.864 val_recall: 0.000%\n",
            "======================================================================\n",
            "loss: 2.820 recall: 29.461% val_loss: 3.189 val_recall: 11.111%\n",
            "======================================================================\n",
            "loss: 7.842 recall: 0.000% val_loss: 8.451 val_recall: 0.000%\n",
            "======================================================================\n",
            "loss: 22.482 recall: 99.587% val_loss: 26.372 val_recall: 100.000%\n",
            "======================================================================\n",
            "loss: 12.475 recall: 0.000% val_loss: 13.743 val_recall: 0.000%\n"
          ]
        }
      ]
    },
    {
      "cell_type": "markdown",
      "source": [
        "- Los valores en 10 lotes, parecen no converjer, por lo tanto mi modelo puede que realice predicciones con efecto de aleatoriedad"
      ],
      "metadata": {
        "id": "k4eJGND3p8G1"
      }
    },
    {
      "cell_type": "code",
      "metadata": {
        "id": "VNPsoxkzYkds",
        "outputId": "bef949e7-690f-457b-93da-9e2503965d52",
        "colab": {
          "base_uri": "https://localhost:8080/"
        }
      },
      "source": [
        "print('==============================Train Recall Total 10 pliegues==============================')\n",
        "print(\"%.2f%% (+/- %.2f%%)\" % (np.mean(cvscores_recall_train)*100, np.std(cvscores_recall_train)*100))\n",
        "print('==============================Test Recall Total 10 pliegues==============================')\n",
        "print(\"%.2f%% (+/- %.2f%%)\" % (np.mean(cvscores_recall_test)*100, np.std(cvscores_recall_test)*100))\n",
        "print('==============================Train Loss Total 10 pliegues==============================')\n",
        "print(\"%.2f%% (+/- %.2f%%)\" % (np.mean(cvscores_loss_train), np.std(cvscores_loss_train)))\n",
        "print('==============================Test Loss Total 10 pliegues==============================')\n",
        "print(\"%.2f%% (+/- %.2f%%)\" % (np.mean(cvscores_loss_test), np.std(cvscores_loss_test)))"
      ],
      "execution_count": 21,
      "outputs": [
        {
          "output_type": "stream",
          "name": "stdout",
          "text": [
            "==============================Train Recall Total 10 pliegues==============================\n",
            "42.70% (+/- 36.14%)\n",
            "==============================Test Recall Total 10 pliegues==============================\n",
            "41.48% (+/- 36.84%)\n",
            "==============================Train Loss Total 10 pliegues==============================\n",
            "8.85% (+/- 6.17%)\n",
            "==============================Test Loss Total 10 pliegues==============================\n",
            "9.17% (+/- 7.48%)\n"
          ]
        }
      ]
    },
    {
      "cell_type": "code",
      "metadata": {
        "id": "z4bp7vzlcvDH",
        "outputId": "f958b17f-e545-4daa-93d5-3e416027fb6c",
        "colab": {
          "base_uri": "https://localhost:8080/",
          "height": 308
        }
      },
      "source": [
        "fig, ax = plt.subplots(figsize = (10,4))\n",
        "fig.suptitle(f'Recall k{len(cvscores_recall_train)} vs Val_Recaal k{len(cvscores_recall_test)}', fontsize = 10)\n",
        "ax.plot(cvscores_recall_train)\n",
        "ax.plot(cvscores_recall_test)\n",
        "ax.set_xlabel('Pliegues', size = 10)\n",
        "ax.set_ylabel('Recall', size = 10)\n",
        "ax.legend(['Train', 'Test'], loc='upper left', fontsize = 10)\n",
        "ax.tick_params(labelsize = 10)"
      ],
      "execution_count": 22,
      "outputs": [
        {
          "output_type": "display_data",
          "data": {
            "text/plain": [
              "<Figure size 720x288 with 1 Axes>"
            ],
            "image/png": "[encoded data removed]"
          },
          "metadata": {
            "needs_background": "light"
          }
        }
      ]
    },
    {
      "cell_type": "code",
      "metadata": {
        "id": "bGK-QUZMc2zE",
        "outputId": "8bf3f974-b4f4-47c3-ee81-bfb22ac58b41",
        "colab": {
          "base_uri": "https://localhost:8080/",
          "height": 308
        }
      },
      "source": [
        "fig, ax = plt.subplots(figsize = (10,4))\n",
        "fig.suptitle(f'Loss k{len(cvscores_loss_train)} vs Val_Loss k{len(cvscores_loss_test)}', fontsize = 10)\n",
        "ax.plot(cvscores_loss_train)\n",
        "ax.plot(cvscores_loss_test)\n",
        "ax.set_xlabel('Pliegues', size = 10)\n",
        "ax.set_ylabel('Loss', size = 10)\n",
        "ax.legend(['Train', 'Test'], loc='upper left', fontsize = 10)\n",
        "ax.tick_params(labelsize = 10)"
      ],
      "execution_count": 23,
      "outputs": [
        {
          "output_type": "display_data",
          "data": {
            "text/plain": [
              "<Figure size 720x288 with 1 Axes>"
            ],
            "image/png": "[encoded data removed]"
          },
          "metadata": {
            "needs_background": "light"
          }
        }
      ]
    },
    {
      "cell_type": "markdown",
      "source": [
        "- El modelo presente fallas a la hora de predecir enfermos.\n",
        "  - Se puede buscar más datos, agregar mas neuronas o utilizar una estrategia con el gradiente."
      ],
      "metadata": {
        "id": "PEIZK3Um_DR7"
      }
    }
  ]
}