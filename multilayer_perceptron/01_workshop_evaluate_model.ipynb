{
  "nbformat": 4,
  "nbformat_minor": 0,
  "metadata": {
    "colab": {
      "name": "01_workshop_evaluate_model.ipynb",
      "provenance": [],
      "authorship_tag": "ABX9TyMeou0v60wMoocmDqYAd0eF",
      "include_colab_link": true
    },
    "kernelspec": {
      "name": "python3",
      "display_name": "Python 3"
    },
    "language_info": {
      "name": "python"
    },
    "accelerator": "GPU"
  },
  "cells": [
    {
      "cell_type": "markdown",
      "metadata": {
        "id": "view-in-github",
        "colab_type": "text"
      },
      "source": [
        "<a href=\"https://colab.research.google.com/github/Kaiziferr/deep_learning/blob/master/multilayer_perceptron/01_workshop_evaluate_model.ipynb\" target=\"_parent\"><img src=\"https://colab.research.google.com/assets/colab-badge.svg\" alt=\"Open In Colab\"/></a>"
      ]
    },
    {
      "cell_type": "code",
      "source": [
        "import tensorflow\n",
        "import numpy as np\n",
        "import pandas as pd\n",
        "import matplotlib.pyplot as plt\n",
        "import seaborn as sns\n",
        "\n",
        "from keras.models import Sequential\n",
        "from keras.layers import Dense\n",
        "from tensorflow.keras.metrics import Recall\n",
        "\n",
        "from sklearn.model_selection import train_test_split, StratifiedKFold, cross_val_score\n",
        "from sklearn import metrics"
      ],
      "metadata": {
        "id": "qYKealc6DvtO"
      },
      "execution_count": 1,
      "outputs": []
    },
    {
      "cell_type": "code",
      "source": [
        "data = pd.read_csv('https://raw.githubusercontent.com/Kaiziferr/Deep_Learning_Workshop/master/workshop_keras_sklearn_introduction/diabetes.csv')\n",
        "data_values = data.values"
      ],
      "metadata": {
        "id": "eB28DRIIExXH"
      },
      "execution_count": 2,
      "outputs": []
    },
    {
      "cell_type": "markdown",
      "source": [
        "# **Data Split**\n",
        "---"
      ],
      "metadata": {
        "id": "9EbtAWlSFC7o"
      }
    },
    {
      "cell_type": "code",
      "source": [
        "X = data_values[:, 0:8]\n",
        "y = data_values[:, 8]"
      ],
      "metadata": {
        "id": "zMgSuTMbFJZW"
      },
      "execution_count": 3,
      "outputs": []
    },
    {
      "cell_type": "markdown",
      "source": [
        "# **Holdount**\n",
        "---\n",
        "\n"
      ],
      "metadata": {
        "id": "eZa9tJXPFS68"
      }
    },
    {
      "cell_type": "code",
      "source": [
        "X_train, X_test, y_train, y_test = train_test_split(X, y, test_size=0.2, random_state = None, shuffle = True)"
      ],
      "metadata": {
        "id": "f6GjVsylFfEN"
      },
      "execution_count": 4,
      "outputs": []
    },
    {
      "cell_type": "code",
      "source": [
        "fig, ax = plt.subplots(figsize = (6, 4))\n",
        "fig.suptitle('Count plot Diabetis', fontsize = 15)\n",
        "sns.countplot(x = data_values[:,8], ax = ax)\n",
        "_, data_target = np.unique(data_values[:,8], return_counts = True)\n",
        "len_data = data_values.shape[0]\n",
        "pe = '{0:.2f}'.format(data_target[1]/len_data)\n",
        "ps = '{0:.2f}'.format(data_target[0]/len_data)\n",
        "ax.set_xticklabels([f'health \\n {ps}', f'sick\\n{pe}'])\n",
        "fig.show()"
      ],
      "metadata": {
        "id": "WL0cUs0UF035",
        "outputId": "b2a46f97-04f3-4dc9-ecb6-c4463739883a",
        "colab": {
          "base_uri": "https://localhost:8080/",
          "height": 306
        }
      },
      "execution_count": 5,
      "outputs": [
        {
          "output_type": "display_data",
          "data": {
            "image/png": "[encoded data removed]",
            "text/plain": [
              "<Figure size 432x288 with 1 Axes>"
            ]
          },
          "metadata": {
            "needs_background": "light"
          }
        }
      ]
    },
    {
      "cell_type": "markdown",
      "metadata": {
        "id": "EQzzKJ1SRWYn"
      },
      "source": [
        "- Hay un desbalance"
      ]
    },
    {
      "cell_type": "code",
      "source": [
        "model = Sequential()\n",
        "model.add(Dense(12, input_dim = 8, activation = 'relu', kernel_initializer='glorot_uniform'))\n",
        "model.add(Dense(8, activation = 'relu', kernel_initializer = 'glorot_uniform'))\n",
        "model.add(Dense(4, activation = 'relu', kernel_initializer = 'glorot_uniform'))\n",
        "model.add(Dense(1, activation = 'sigmoid', kernel_initializer = 'glorot_uniform'))\n",
        "model.compile(loss = 'binary_crossentropy', optimizer = 'adam', metrics = ['accuracy', Recall()])\n",
        "history = model.fit(X_train, y_train, validation_data = (X_test, y_test), epochs = 300, batch_size = 16, verbose = 0)"
      ],
      "metadata": {
        "id": "bxAncS9kK1HK"
      },
      "execution_count": 6,
      "outputs": []
    },
    {
      "cell_type": "code",
      "metadata": {
        "id": "hKmCZAYSrpTX",
        "colab": {
          "base_uri": "https://localhost:8080/"
        },
        "outputId": "4897a31c-fa90-4e45-9469-4849efc8e092"
      },
      "source": [
        "history.history.keys()"
      ],
      "execution_count": 7,
      "outputs": [
        {
          "output_type": "execute_result",
          "data": {
            "text/plain": [
              "dict_keys(['loss', 'accuracy', 'recall', 'val_loss', 'val_accuracy', 'val_recall'])"
            ]
          },
          "metadata": {},
          "execution_count": 7
        }
      ]
    },
    {
      "cell_type": "code",
      "source": [
        "loss, accuracy, recall = model.evaluate(X_train, y_train)\n",
        "print('Recall: %.3f' % recall)\n",
        "print('Accuracy: %.3f' % accuracy)\n",
        "print('Loss: %.3f' % loss)"
      ],
      "metadata": {
        "id": "hGy0i-8uNbZI",
        "outputId": "b5b9602c-b32f-4b6d-d126-4f5c6baaf967",
        "colab": {
          "base_uri": "https://localhost:8080/"
        }
      },
      "execution_count": 8,
      "outputs": [
        {
          "output_type": "stream",
          "name": "stdout",
          "text": [
            "20/20 [==============================] - 0s 5ms/step - loss: 0.4264 - accuracy: 0.7964 - recall: 0.6077\n",
            "Recall: 0.608\n",
            "Accuracy: 0.796\n",
            "Loss: 0.426\n"
          ]
        }
      ]
    },
    {
      "cell_type": "code",
      "source": [
        "val_loss, val_accuracy, val_recall = model.evaluate(X_test, y_test)\n",
        "print('Val Recall: %.3f' % recall)\n",
        "print('Val Accuracy: %.3f' % accuracy)\n",
        "print('val Loss: %.3f'% loss)"
      ],
      "metadata": {
        "id": "_opzSnRhOW0X",
        "outputId": "3f640d00-1a02-45c0-97c8-a274f4c66d37",
        "colab": {
          "base_uri": "https://localhost:8080/"
        }
      },
      "execution_count": 9,
      "outputs": [
        {
          "output_type": "stream",
          "name": "stdout",
          "text": [
            "5/5 [==============================] - 0s 5ms/step - loss: 0.5351 - accuracy: 0.7857 - recall: 0.6271\n",
            "Val Recall: 0.608\n",
            "Val Accuracy: 0.796\n",
            "val Loss: 0.426\n"
          ]
        }
      ]
    },
    {
      "cell_type": "code",
      "metadata": {
        "colab": {
          "base_uri": "https://localhost:8080/"
        },
        "id": "jShpfMcBT2co",
        "outputId": "c347bee9-76cc-4d02-c17d-9398827118e2"
      },
      "source": [
        "#Keys\n",
        "print(history.history.keys())"
      ],
      "execution_count": 10,
      "outputs": [
        {
          "output_type": "stream",
          "name": "stdout",
          "text": [
            "dict_keys(['loss', 'accuracy', 'recall', 'val_loss', 'val_accuracy', 'val_recall'])\n"
          ]
        }
      ]
    },
    {
      "cell_type": "markdown",
      "metadata": {
        "id": "flVm0xVVT5hM"
      },
      "source": [
        "# **Val loss and Loss**\n",
        "---"
      ]
    },
    {
      "cell_type": "code",
      "source": [
        "fig, ax = plt.subplots(figsize = (8, 4))\n",
        "fig.suptitle('Loss vs Val_Loss', fontsize = 15)\n",
        "ax.plot(history.history['loss'])\n",
        "ax.plot(history.history['val_loss'])\n",
        "ax.set_xlabel('Epoch', size = 12)\n",
        "ax.set_ylabel('Loss', size = 12)\n",
        "ax.legend(['Train', 'Test'], loc = 'upper left', fontsize = 12)\n",
        "ax.tick_params(labelsize = 12)"
      ],
      "metadata": {
        "id": "zghI7R18O2Gs",
        "outputId": "0862e7b7-030f-4ef6-ae85-9d8b5eafc4cb",
        "colab": {
          "base_uri": "https://localhost:8080/",
          "height": 314
        }
      },
      "execution_count": 11,
      "outputs": [
        {
          "output_type": "display_data",
          "data": {
            "image/png": "[encoded data removed]",
            "text/plain": [
              "<Figure size 576x288 with 1 Axes>"
            ]
          },
          "metadata": {
            "needs_background": "light"
          }
        }
      ]
    },
    {
      "cell_type": "markdown",
      "metadata": {
        "id": "tmuUKwb9VXFF"
      },
      "source": [
        "- La perdida de entrenamiento y validación converge hasta cierto punto, se un presenta un ligero overfitting"
      ]
    },
    {
      "cell_type": "markdown",
      "metadata": {
        "id": "V87-7yZOV4n7"
      },
      "source": [
        "# **Predictions**\n",
        "---\n"
      ]
    },
    {
      "cell_type": "code",
      "source": [
        "y_pred = (model.predict(X_test)>0.5).astype('int32')\n",
        "y_pred = np.reshape(y_pred, y_pred.shape[0])\n",
        "y_pred"
      ],
      "metadata": {
        "id": "kSLrNuBbQcSf",
        "outputId": "036f29d1-b0b6-4f2f-ee50-1c8d3b64c9d0",
        "colab": {
          "base_uri": "https://localhost:8080/"
        }
      },
      "execution_count": 12,
      "outputs": [
        {
          "output_type": "execute_result",
          "data": {
            "text/plain": [
              "array([0, 0, 1, 1, 0, 0, 0, 0, 0, 0, 0, 0, 0, 1, 0, 0, 0, 0, 0, 0, 1, 0,\n",
              "       1, 0, 1, 0, 1, 0, 0, 0, 1, 0, 0, 0, 0, 0, 0, 0, 0, 0, 0, 0, 0, 0,\n",
              "       0, 1, 1, 0, 1, 0, 1, 0, 1, 0, 1, 0, 1, 0, 0, 0, 0, 1, 1, 0, 0, 0,\n",
              "       0, 1, 0, 1, 0, 0, 0, 0, 0, 1, 1, 0, 0, 0, 0, 0, 0, 0, 1, 0, 0, 1,\n",
              "       0, 1, 1, 0, 1, 0, 0, 0, 0, 1, 0, 0, 1, 0, 0, 1, 1, 1, 0, 1, 1, 0,\n",
              "       0, 1, 1, 0, 1, 0, 0, 0, 1, 0, 0, 0, 1, 1, 1, 1, 0, 1, 0, 1, 0, 0,\n",
              "       0, 0, 0, 0, 0, 0, 0, 0, 0, 0, 0, 0, 1, 1, 0, 1, 1, 0, 0, 0, 0, 1],\n",
              "      dtype=int32)"
            ]
          },
          "metadata": {},
          "execution_count": 12
        }
      ]
    },
    {
      "cell_type": "code",
      "source": [
        "for i in range(15):\n",
        "  print('%s --> %d (real %d)'% (X_test[i].tolist(), y_pred[i], y_test[i]))"
      ],
      "metadata": {
        "id": "kG1y6zWHRCoL",
        "outputId": "32b1cb4d-2521-4b92-e7be-dd44f1103e11",
        "colab": {
          "base_uri": "https://localhost:8080/"
        }
      },
      "execution_count": 13,
      "outputs": [
        {
          "output_type": "stream",
          "name": "stdout",
          "text": [
            "[3.0, 115.0, 66.0, 39.0, 140.0, 38.1, 0.15, 28.0] --> 0 (real 0)\n",
            "[0.0, 138.0, 60.0, 35.0, 167.0, 34.6, 0.534, 21.0] --> 0 (real 1)\n",
            "[10.0, 179.0, 70.0, 0.0, 0.0, 35.1, 0.2, 37.0] --> 1 (real 0)\n",
            "[2.0, 158.0, 90.0, 0.0, 0.0, 31.6, 0.805, 66.0] --> 1 (real 1)\n",
            "[1.0, 128.0, 88.0, 39.0, 110.0, 36.5, 1.057, 37.0] --> 0 (real 1)\n",
            "[1.0, 164.0, 82.0, 43.0, 67.0, 32.8, 0.341, 50.0] --> 0 (real 0)\n",
            "[0.0, 128.0, 68.0, 19.0, 180.0, 30.5, 1.391, 25.0] --> 0 (real 1)\n",
            "[1.0, 106.0, 70.0, 28.0, 135.0, 34.2, 0.142, 22.0] --> 0 (real 0)\n",
            "[4.0, 110.0, 66.0, 0.0, 0.0, 31.9, 0.471, 29.0] --> 0 (real 0)\n",
            "[1.0, 130.0, 70.0, 13.0, 105.0, 25.9, 0.472, 22.0] --> 0 (real 0)\n",
            "[2.0, 130.0, 96.0, 0.0, 0.0, 22.6, 0.268, 21.0] --> 0 (real 0)\n",
            "[4.0, 114.0, 65.0, 0.0, 0.0, 21.9, 0.432, 37.0] --> 0 (real 0)\n",
            "[1.0, 80.0, 74.0, 11.0, 60.0, 30.0, 0.527, 22.0] --> 0 (real 0)\n",
            "[10.0, 168.0, 74.0, 0.0, 0.0, 38.0, 0.537, 34.0] --> 1 (real 1)\n",
            "[1.0, 139.0, 46.0, 19.0, 83.0, 28.7, 0.654, 22.0] --> 0 (real 0)\n"
          ]
        }
      ]
    },
    {
      "cell_type": "markdown",
      "metadata": {
        "id": "Hxu40v_L4XJp"
      },
      "source": [
        "# **Sesgo predictivo**\n",
        "---\n",
        "\n",
        "\n",
        "\n"
      ]
    },
    {
      "cell_type": "code",
      "metadata": {
        "id": "k10TgPX44Z4S",
        "colab": {
          "base_uri": "https://localhost:8080/"
        },
        "outputId": "b16dd5f1-58a0-44c1-8894-744b99f82879"
      },
      "source": [
        "#sesgo predicción = promedio de predicciones - promedio de etiquetas (observaciones) en el conjunto de datos\n",
        "# Sick\n",
        "average_prediction = (len(y_pred[y_pred==1])/len(y_pred))\n",
        "average_label_target = (len(y_test[y_test==1]) / len(y_test)) \n",
        "sesgo_prediction = average_prediction - average_label_target\n",
        "sesgo_prediction"
      ],
      "execution_count": 14,
      "outputs": [
        {
          "output_type": "execute_result",
          "data": {
            "text/plain": [
              "-0.07142857142857145"
            ]
          },
          "metadata": {},
          "execution_count": 14
        }
      ]
    },
    {
      "cell_type": "code",
      "source": [
        "print(f'Promedio de predicciones:  {average_prediction}')\n",
        "print(f'Promedio de etiquetas: {average_label_target}')\n",
        "print(f'Sesgo de predicción: {sesgo_prediction}')"
      ],
      "metadata": {
        "id": "wtjW3617V6UR",
        "outputId": "caa84210-9249-41a1-cbc4-7959595b497e",
        "colab": {
          "base_uri": "https://localhost:8080/"
        }
      },
      "execution_count": 15,
      "outputs": [
        {
          "output_type": "stream",
          "name": "stdout",
          "text": [
            "Promedio de predicciones:  0.3116883116883117\n",
            "Promedio de etiquetas: 0.38311688311688313\n",
            "Sesgo de predicción: -0.07142857142857145\n"
          ]
        }
      ]
    },
    {
      "cell_type": "markdown",
      "source": [
        "- El modelo presenta un sesgo negativo (subestima)\n",
        "- En promedio hay un 38% de personas con diabetes, pero mi modelo está prediciendo un 31%"
      ],
      "metadata": {
        "id": "uamc9iHXV1AR"
      }
    },
    {
      "cell_type": "markdown",
      "metadata": {
        "id": "mBCFvZ50XsCw"
      },
      "source": [
        "# **Confusion Matrix**\n",
        "---\n",
        "\n"
      ]
    },
    {
      "cell_type": "code",
      "source": [
        "matrix = metrics.confusion_matrix(y_test, y_pred)\n",
        "matrix"
      ],
      "metadata": {
        "id": "UQAQPHXa3OpK",
        "outputId": "81817bcc-0fbc-43de-9312-3954a2e0788e",
        "colab": {
          "base_uri": "https://localhost:8080/"
        }
      },
      "execution_count": 16,
      "outputs": [
        {
          "output_type": "execute_result",
          "data": {
            "text/plain": [
              "array([[84, 11],\n",
              "       [22, 37]])"
            ]
          },
          "metadata": {},
          "execution_count": 16
        }
      ]
    },
    {
      "cell_type": "code",
      "metadata": {
        "id": "pAEDnWtT91qE",
        "colab": {
          "base_uri": "https://localhost:8080/",
          "height": 339
        },
        "outputId": "8dd556b2-87d7-41ee-85ac-aa34ccccd2a1"
      },
      "source": [
        "fig, ax = plt.subplots(nrows= 1, ncols=  1, figsize = (6,5))\n",
        "sns.heatmap(matrix, annot=True, ax = ax, cmap=plt.cm.Blues, fmt = 'g', annot_kws={'size': 13})\n",
        "ax.set_title('Matriz de confusión', size = 13)\n",
        "ax.xaxis.set_ticklabels(['sanos', 'enfermos'])\n",
        "ax.yaxis.set_ticklabels(['sanos', 'enfermos'])\n",
        "ax.tick_params(labelsize = 13)"
      ],
      "execution_count": 17,
      "outputs": [
        {
          "output_type": "display_data",
          "data": {
            "image/png": "[encoded data removed]",
            "text/plain": [
              "<Figure size 432x360 with 2 Axes>"
            ]
          },
          "metadata": {
            "needs_background": "light"
          }
        }
      ]
    },
    {
      "cell_type": "markdown",
      "metadata": {
        "id": "Hk-OIOgdDO8J"
      },
      "source": [
        "# Metrics"
      ]
    },
    {
      "cell_type": "code",
      "metadata": {
        "id": "mY5R4Q_s_ky8",
        "colab": {
          "base_uri": "https://localhost:8080/"
        },
        "outputId": "0afd64ea-c5bc-4a57-c12f-3e64c2c9ef4e"
      },
      "source": [
        "print(f'Accuracy  :   {metrics.accuracy_score(y_test, y_pred)}')\n",
        "print(f'Kappa     :   {metrics.cohen_kappa_score(y_test, y_pred)}')\n",
        "\n",
        "print(f'predicción enfermos')\n",
        "print(f'Precision:   {metrics.precision_score(y_test, y_pred, labels=[1], average=\"macro\")}')\n",
        "print(f'Recall    :   {metrics.recall_score(y_test, y_pred, labels=[1], average=\"macro\")}')\n",
        "\n",
        "VN = matrix[0,0]\n",
        "FP = matrix[0,1]\n",
        "specificity = VN/(VN+FP)\n",
        "\n",
        "print(f'Specificity:   {specificity}')\n",
        "print(f'F1-score   :   {metrics.f1_score(y_test, y_pred, labels=[1], average=\"macro\")}' )"
      ],
      "execution_count": 18,
      "outputs": [
        {
          "output_type": "stream",
          "name": "stdout",
          "text": [
            "Accuracy  :   0.7857142857142857\n",
            "Kappa     :   0.5300536341779175\n",
            "predicción enfermos\n",
            "Prediction:   0.7708333333333334\n",
            "Recall    :   0.6271186440677966\n",
            "Specificity:   0.8842105263157894\n",
            "F1-score   :   0.6915887850467289\n"
          ]
        }
      ]
    },
    {
      "cell_type": "markdown",
      "metadata": {
        "id": "1K2IfvuNYd3o"
      },
      "source": [
        "- El modelo es deficiente al momento de predecir los enfermos"
      ]
    },
    {
      "cell_type": "markdown",
      "metadata": {
        "id": "LbFCCInWYoPM"
      },
      "source": [
        "# Cross Validation"
      ]
    },
    {
      "cell_type": "code",
      "source": [
        "kfold = StratifiedKFold(n_splits=10, shuffle=True)\n",
        "\n",
        "cvscores_loss_train = []\n",
        "cvscores_loss_test = []\n",
        "cvscores_recall_train = []\n",
        "cvscores_recall_test = []\n",
        "\n",
        "\n",
        "for train, test in kfold.split(X, y):\n",
        "  model = Sequential()\n",
        "  model.add(Dense(12, input_dim = 8, activation='relu', kernel_initializer='glorot_uniform'))\n",
        "  model.add(Dense(8, activation='relu', kernel_initializer='glorot_uniform'))\n",
        "  model.add(Dense(1, activation='sigmoid', kernel_initializer='glorot_uniform'))\n",
        "  model.compile(loss = 'binary_crossentropy', optimizer = 'adam', metrics = ['accuracy', Recall()])\n",
        "  history = model.fit(X[train], y[train], validation_data=(X[test], y[test]), verbose = 0)\n",
        "  loss_train, _, recall_train = model.evaluate(X[train], y[train], verbose=0)\n",
        "  cvscores_loss_train.append(loss_train)\n",
        "  cvscores_recall_train.append(recall_train)\n",
        "  loss_test, _, recall_test = model.evaluate(X[test], y[test], verbose=0)\n",
        "  cvscores_loss_test.append(loss_test)\n",
        "  cvscores_recall_test.append(recall_test)\n",
        "  print('======================================================================')\n",
        "  print('loss: %.3f recall: %.3f%% val_loss: %.3f val_recall: %.3f%%' % (loss_train, recall_train*100, loss_test, loss_test*100))"
      ],
      "metadata": {
        "id": "0QaTA9RR8l0i",
        "outputId": "59708b93-ec98-4a5e-d8ae-6afdef571344",
        "colab": {
          "base_uri": "https://localhost:8080/"
        }
      },
      "execution_count": 20,
      "outputs": [
        {
          "output_type": "stream",
          "name": "stdout",
          "text": [
            "======================================================================\n",
            "loss: 5.534 recall: 68.880% val_loss: 6.108 val_recall: 610.829%\n",
            "======================================================================\n",
            "loss: 5.979 recall: 45.228% val_loss: 5.704 val_recall: 570.431%\n",
            "======================================================================\n",
            "loss: 2.399 recall: 47.303% val_loss: 2.734 val_recall: 273.364%\n",
            "======================================================================\n",
            "loss: 1.485 recall: 24.896% val_loss: 1.423 val_recall: 142.286%\n",
            "======================================================================\n",
            "loss: 1.503 recall: 51.037% val_loss: 1.618 val_recall: 161.762%\n",
            "======================================================================\n",
            "loss: 2.142 recall: 60.166% val_loss: 2.168 val_recall: 216.818%\n",
            "======================================================================\n",
            "loss: 3.872 recall: 26.141% val_loss: 3.497 val_recall: 349.733%\n",
            "======================================================================\n",
            "loss: 1.912 recall: 40.249% val_loss: 1.873 val_recall: 187.273%\n",
            "======================================================================\n",
            "loss: 12.300 recall: 100.000% val_loss: 12.012 val_recall: 1201.163%\n",
            "======================================================================\n",
            "loss: 6.297 recall: 97.521% val_loss: 7.620 val_recall: 762.049%\n"
          ]
        }
      ]
    },
    {
      "cell_type": "code",
      "metadata": {
        "id": "VNPsoxkzYkds",
        "outputId": "ce2c1445-48cb-477f-aae2-daf24cd07e03",
        "colab": {
          "base_uri": "https://localhost:8080/"
        }
      },
      "source": [
        "print('==============================Train Recall Total 10 pliegues==============================')\n",
        "print(\"%.2f%% (+/- %.2f%%)\" % (np.mean(cvscores_recall_train), np.std(cvscores_recall_train)))\n",
        "print('==============================Test Recall Total 10 pliegues==============================')\n",
        "print(\"%.2f%% (+/- %.2f%%)\" % (np.mean(cvscores_recall_test), np.std(cvscores_recall_test)))\n",
        "print('==============================Train Loss Total 10 pliegues==============================')\n",
        "print(\"%.2f%% (+/- %.2f%%)\" % (np.mean(cvscores_loss_train), np.std(cvscores_loss_train)))\n",
        "print('==============================Test Loss Total 10 pliegues==============================')\n",
        "print(\"%.2f%% (+/- %.2f%%)\" % (np.mean(cvscores_loss_test), np.std(cvscores_loss_test)))"
      ],
      "execution_count": 21,
      "outputs": [
        {
          "output_type": "stream",
          "name": "stdout",
          "text": [
            "==============================Train Recall Total 10 pliegues==============================\n",
            "0.56% (+/- 0.25%)\n",
            "==============================Test Recall Total 10 pliegues==============================\n",
            "0.58% (+/- 0.23%)\n",
            "==============================Train Loss Total 10 pliegues==============================\n",
            "4.34% (+/- 3.20%)\n",
            "==============================Test Loss Total 10 pliegues==============================\n",
            "4.48% (+/- 3.23%)\n"
          ]
        }
      ]
    },
    {
      "cell_type": "code",
      "metadata": {
        "id": "z4bp7vzlcvDH",
        "outputId": "7ab1a02b-5a1f-46fc-ab02-2c27bb1f5cf5",
        "colab": {
          "base_uri": "https://localhost:8080/",
          "height": 308
        }
      },
      "source": [
        "fig, ax = plt.subplots(figsize = (10,4))\n",
        "fig.suptitle(f'Recall k{len(cvscores_recall_train)} vs Val_Recaal k{len(cvscores_recall_test)}', fontsize = 10)\n",
        "ax.plot(cvscores_recall_train)\n",
        "ax.plot(cvscores_recall_test)\n",
        "ax.set_xlabel('Pliegues', size = 10)\n",
        "ax.set_ylabel('Recall', size = 10)\n",
        "ax.legend(['Train', 'Test'], loc='upper left', fontsize = 10)\n",
        "ax.tick_params(labelsize = 10)"
      ],
      "execution_count": 22,
      "outputs": [
        {
          "output_type": "display_data",
          "data": {
            "image/png": "[encoded data removed]",
            "text/plain": [
              "<Figure size 720x288 with 1 Axes>"
            ]
          },
          "metadata": {
            "needs_background": "light"
          }
        }
      ]
    },
    {
      "cell_type": "code",
      "metadata": {
        "id": "bGK-QUZMc2zE",
        "outputId": "7dd8d029-2706-4a06-cceb-041d45fc2bc3",
        "colab": {
          "base_uri": "https://localhost:8080/",
          "height": 308
        }
      },
      "source": [
        "fig, ax = plt.subplots(figsize = (10,4))\n",
        "fig.suptitle(f'Loss k{len(cvscores_loss_train)} vs Val_Loss k{len(cvscores_loss_test)}', fontsize = 10)\n",
        "ax.plot(cvscores_loss_train)\n",
        "ax.plot(cvscores_loss_test)\n",
        "ax.set_xlabel('Pliegues', size = 10)\n",
        "ax.set_ylabel('Loss', size = 10)\n",
        "ax.legend(['Train', 'Test'], loc='upper left', fontsize = 10)\n",
        "ax.tick_params(labelsize = 10)"
      ],
      "execution_count": 23,
      "outputs": [
        {
          "output_type": "display_data",
          "data": {
            "image/png": "[encoded data removed]",
            "text/plain": [
              "<Figure size 720x288 with 1 Axes>"
            ]
          },
          "metadata": {
            "needs_background": "light"
          }
        }
      ]
    },
    {
      "cell_type": "markdown",
      "source": [
        "- El modelo presente fallas a la hora de predecir enfermos.\n",
        "  - Se puede buscar más datos, agregar mas neuronas o utilizar una estrategia con el gradiente."
      ],
      "metadata": {
        "id": "PEIZK3Um_DR7"
      }
    }
  ]
}