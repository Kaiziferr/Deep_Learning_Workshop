{
  "nbformat": 4,
  "nbformat_minor": 0,
  "metadata": {
    "colab": {
      "name": "01_workshop_evaluate_model.ipynb",
      "provenance": [],
      "authorship_tag": "ABX9TyOtpcC3HphTo0O1T5mkhoN+",
      "include_colab_link": true
    },
    "kernelspec": {
      "name": "python3",
      "display_name": "Python 3"
    },
    "language_info": {
      "name": "python"
    }
  },
  "cells": [
    {
      "cell_type": "markdown",
      "metadata": {
        "id": "view-in-github",
        "colab_type": "text"
      },
      "source": [
        "<a href=\"https://colab.research.google.com/github/Kaiziferr/Deep_Learning_Workshop/blob/master/multilayer_perceptron/01_workshop_evaluate_model.ipynb\" target=\"_parent\"><img src=\"https://colab.research.google.com/assets/colab-badge.svg\" alt=\"Open In Colab\"/></a>"
      ]
    },
    {
      "cell_type": "code",
      "metadata": {
        "id": "CeVBkIGnqe7j"
      },
      "source": [
        "import tensorflow\n",
        "import numpy as np\n",
        "import pandas as pd\n",
        "import matplotlib.pyplot as plt\n",
        "import seaborn as sns\n",
        "\n",
        "from keras.models import Sequential\n",
        "from keras.layers import Dense\n",
        "from tensorflow.keras.metrics import Recall\n",
        "\n",
        "from sklearn.model_selection import train_test_split, StratifiedKFold, cross_val_score\n",
        "from sklearn import metrics"
      ],
      "execution_count": 1,
      "outputs": []
    },
    {
      "cell_type": "code",
      "metadata": {
        "id": "RPbx00g9fsmC"
      },
      "source": [
        "data = pd.read_csv('https://raw.githubusercontent.com/Kaiziferr/Deep_Learning_Workshop/master/workshop_keras_sklearn_introduction/diabetes.csv')\n",
        "data_values = data.values"
      ],
      "execution_count": 2,
      "outputs": []
    },
    {
      "cell_type": "markdown",
      "metadata": {
        "id": "y6QMkBoEOZFA"
      },
      "source": [
        "# Data Split"
      ]
    },
    {
      "cell_type": "code",
      "metadata": {
        "id": "dGQRZTxXf9mf"
      },
      "source": [
        "X = data_values[:, 0:8]\n",
        "y = data_values[:,8]"
      ],
      "execution_count": 3,
      "outputs": []
    },
    {
      "cell_type": "markdown",
      "metadata": {
        "id": "416kuSI4On2O"
      },
      "source": [
        "# Holdount"
      ]
    },
    {
      "cell_type": "code",
      "metadata": {
        "id": "DKGh6jscgPdh"
      },
      "source": [
        "X_train, X_test, y_train, y_test = train_test_split(X, y, test_size = 0.3, random_state = None, shuffle = True)"
      ],
      "execution_count": 4,
      "outputs": []
    },
    {
      "cell_type": "code",
      "metadata": {
        "colab": {
          "base_uri": "https://localhost:8080/",
          "height": 324
        },
        "id": "9AiDjtn4P2NH",
        "outputId": "13e53152-2cbe-44ab-be55-078d73b38128"
      },
      "source": [
        "fig, ax = plt.subplots(figsize = (6,4))\n",
        "fig.suptitle('Count plot Diabetis', fontsize = 15)\n",
        "sns.countplot(x=data_values[:,8], ax = ax)\n",
        "ax.set_ylabel('Outcome', size = 12)\n",
        "_, data_target = np.unique(data_values[:,8], return_counts = True)\n",
        "len_data = data_values.shape[0]\n",
        "pe = '{0:.2f}'.format(data_target[1]/len_data)\n",
        "ps = '{0:.2f}'.format(data_target[0]/len_data)\n",
        "ax.set_xticklabels([f'health \\n {ps}', f'sick\\n{pe}'])"
      ],
      "execution_count": 5,
      "outputs": [
        {
          "output_type": "execute_result",
          "data": {
            "text/plain": [
              "[Text(0, 0, 'health \\n 0.65'), Text(0, 0, 'sick\\n0.35')]"
            ]
          },
          "metadata": {},
          "execution_count": 5
        },
        {
          "output_type": "display_data",
          "data": {
            "image/png": "[encoded data removed]",
            "text/plain": [
              "<Figure size 432x288 with 1 Axes>"
            ]
          },
          "metadata": {
            "needs_background": "light"
          }
        }
      ]
    },
    {
      "cell_type": "markdown",
      "metadata": {
        "id": "EQzzKJ1SRWYn"
      },
      "source": [
        "- Hay un desbalance"
      ]
    },
    {
      "cell_type": "code",
      "metadata": {
        "id": "fIm0S-V1qMxn",
        "colab": {
          "base_uri": "https://localhost:8080/"
        },
        "outputId": "1a21ff1d-96d2-42e9-a626-f2f1d2f2ae54"
      },
      "source": [
        "model = Sequential()\n",
        "model.add(Dense(12, input_dim = 8, activation='relu', kernel_initializer='glorot_uniform'))\n",
        "model.add(Dense(8, activation='relu', kernel_initializer='glorot_uniform'))\n",
        "model.add(Dense(1, activation='sigmoid', kernel_initializer='glorot_uniform'))\n",
        "model.compile(loss = 'binary_crossentropy', optimizer = 'adam', metrics = ['accuracy', Recall()])\n",
        "history = model.fit(X_train, y_train, validation_data=(X_test, y_test), epochs = 300, batch_size = 16, verbose = 1)"
      ],
      "execution_count": 6,
      "outputs": [
        {
          "output_type": "stream",
          "name": "stdout",
          "text": [
            "Epoch 1/300\n",
            "34/34 [==============================] - 1s 11ms/step - loss: 9.3340 - accuracy: 0.6406 - recall: 0.0106 - val_loss: 4.8184 - val_accuracy: 0.6407 - val_recall: 0.0380\n",
            "Epoch 2/300\n",
            "34/34 [==============================] - 0s 2ms/step - loss: 2.9806 - accuracy: 0.6555 - recall: 0.2698 - val_loss: 1.5023 - val_accuracy: 0.5801 - val_recall: 0.5696\n",
            "Epoch 3/300\n",
            "34/34 [==============================] - 0s 2ms/step - loss: 1.5548 - accuracy: 0.6145 - recall: 0.5556 - val_loss: 1.3293 - val_accuracy: 0.6061 - val_recall: 0.4684\n",
            "Epoch 4/300\n",
            "34/34 [==============================] - 0s 2ms/step - loss: 1.3330 - accuracy: 0.6220 - recall: 0.5185 - val_loss: 1.1064 - val_accuracy: 0.5714 - val_recall: 0.4810\n",
            "Epoch 5/300\n",
            "34/34 [==============================] - 0s 3ms/step - loss: 1.1585 - accuracy: 0.6406 - recall: 0.5026 - val_loss: 1.0019 - val_accuracy: 0.6147 - val_recall: 0.4051\n",
            "Epoch 6/300\n",
            "34/34 [==============================] - 0s 3ms/step - loss: 1.0605 - accuracy: 0.6276 - recall: 0.4656 - val_loss: 0.9254 - val_accuracy: 0.6190 - val_recall: 0.3797\n",
            "Epoch 7/300\n",
            "34/34 [==============================] - 0s 2ms/step - loss: 0.9806 - accuracy: 0.6294 - recall: 0.4392 - val_loss: 0.8655 - val_accuracy: 0.6104 - val_recall: 0.3671\n",
            "Epoch 8/300\n",
            "34/34 [==============================] - 0s 3ms/step - loss: 0.9293 - accuracy: 0.6108 - recall: 0.4392 - val_loss: 0.8266 - val_accuracy: 0.6017 - val_recall: 0.4177\n",
            "Epoch 9/300\n",
            "34/34 [==============================] - 0s 3ms/step - loss: 0.8846 - accuracy: 0.6369 - recall: 0.4815 - val_loss: 0.8514 - val_accuracy: 0.5714 - val_recall: 0.4557\n",
            "Epoch 10/300\n",
            "34/34 [==============================] - 0s 2ms/step - loss: 0.8423 - accuracy: 0.6220 - recall: 0.4444 - val_loss: 0.7723 - val_accuracy: 0.6017 - val_recall: 0.3797\n",
            "Epoch 11/300\n",
            "34/34 [==============================] - 0s 2ms/step - loss: 0.8339 - accuracy: 0.6313 - recall: 0.4921 - val_loss: 0.7940 - val_accuracy: 0.5584 - val_recall: 0.5696\n",
            "Epoch 12/300\n",
            "34/34 [==============================] - 0s 3ms/step - loss: 0.8287 - accuracy: 0.6406 - recall: 0.4815 - val_loss: 0.8539 - val_accuracy: 0.5108 - val_recall: 0.6709\n",
            "Epoch 13/300\n",
            "34/34 [==============================] - 0s 2ms/step - loss: 0.7998 - accuracy: 0.6499 - recall: 0.4921 - val_loss: 0.7676 - val_accuracy: 0.5801 - val_recall: 0.6329\n",
            "Epoch 14/300\n",
            "34/34 [==============================] - 0s 2ms/step - loss: 0.7776 - accuracy: 0.6555 - recall: 0.4974 - val_loss: 0.7319 - val_accuracy: 0.6017 - val_recall: 0.5696\n",
            "Epoch 15/300\n",
            "34/34 [==============================] - 0s 3ms/step - loss: 0.7346 - accuracy: 0.6480 - recall: 0.4762 - val_loss: 0.7218 - val_accuracy: 0.5974 - val_recall: 0.4810\n",
            "Epoch 16/300\n",
            "34/34 [==============================] - 0s 2ms/step - loss: 0.7234 - accuracy: 0.6741 - recall: 0.5291 - val_loss: 0.7004 - val_accuracy: 0.6494 - val_recall: 0.3418\n",
            "Epoch 17/300\n",
            "34/34 [==============================] - 0s 3ms/step - loss: 0.6893 - accuracy: 0.6816 - recall: 0.5185 - val_loss: 0.7088 - val_accuracy: 0.6104 - val_recall: 0.5696\n",
            "Epoch 18/300\n",
            "34/34 [==============================] - 0s 2ms/step - loss: 0.7071 - accuracy: 0.6685 - recall: 0.5185 - val_loss: 0.6918 - val_accuracy: 0.6147 - val_recall: 0.5570\n",
            "Epoch 19/300\n",
            "34/34 [==============================] - 0s 3ms/step - loss: 0.6808 - accuracy: 0.6872 - recall: 0.5132 - val_loss: 0.6818 - val_accuracy: 0.6277 - val_recall: 0.5696\n",
            "Epoch 20/300\n",
            "34/34 [==============================] - 0s 3ms/step - loss: 0.6735 - accuracy: 0.6909 - recall: 0.5556 - val_loss: 0.6594 - val_accuracy: 0.6537 - val_recall: 0.4304\n",
            "Epoch 21/300\n",
            "34/34 [==============================] - 0s 2ms/step - loss: 0.6590 - accuracy: 0.6797 - recall: 0.5291 - val_loss: 0.6891 - val_accuracy: 0.6537 - val_recall: 0.3165\n",
            "Epoch 22/300\n",
            "34/34 [==============================] - 0s 3ms/step - loss: 0.6604 - accuracy: 0.6834 - recall: 0.4974 - val_loss: 0.6856 - val_accuracy: 0.6061 - val_recall: 0.5570\n",
            "Epoch 23/300\n",
            "34/34 [==============================] - 0s 3ms/step - loss: 0.6555 - accuracy: 0.6872 - recall: 0.5450 - val_loss: 0.6703 - val_accuracy: 0.6277 - val_recall: 0.5823\n",
            "Epoch 24/300\n",
            "34/34 [==============================] - 0s 2ms/step - loss: 0.6402 - accuracy: 0.6965 - recall: 0.5238 - val_loss: 0.6652 - val_accuracy: 0.6277 - val_recall: 0.5316\n",
            "Epoch 25/300\n",
            "34/34 [==============================] - 0s 3ms/step - loss: 0.6388 - accuracy: 0.6797 - recall: 0.5132 - val_loss: 0.6479 - val_accuracy: 0.6537 - val_recall: 0.5570\n",
            "Epoch 26/300\n",
            "34/34 [==============================] - 0s 3ms/step - loss: 0.6349 - accuracy: 0.6704 - recall: 0.4974 - val_loss: 0.6385 - val_accuracy: 0.6710 - val_recall: 0.4304\n",
            "Epoch 27/300\n",
            "34/34 [==============================] - 0s 3ms/step - loss: 0.6191 - accuracy: 0.7132 - recall: 0.5608 - val_loss: 0.6445 - val_accuracy: 0.6580 - val_recall: 0.4810\n",
            "Epoch 28/300\n",
            "34/34 [==============================] - 0s 3ms/step - loss: 0.6097 - accuracy: 0.7132 - recall: 0.5344 - val_loss: 0.6334 - val_accuracy: 0.6667 - val_recall: 0.5316\n",
            "Epoch 29/300\n",
            "34/34 [==============================] - 0s 2ms/step - loss: 0.6062 - accuracy: 0.7002 - recall: 0.5238 - val_loss: 0.6409 - val_accuracy: 0.6667 - val_recall: 0.4557\n",
            "Epoch 30/300\n",
            "34/34 [==============================] - 0s 2ms/step - loss: 0.6041 - accuracy: 0.6946 - recall: 0.5397 - val_loss: 0.6781 - val_accuracy: 0.6277 - val_recall: 0.4430\n",
            "Epoch 31/300\n",
            "34/34 [==============================] - 0s 2ms/step - loss: 0.6155 - accuracy: 0.6760 - recall: 0.4921 - val_loss: 0.6290 - val_accuracy: 0.6797 - val_recall: 0.3924\n",
            "Epoch 32/300\n",
            "34/34 [==============================] - 0s 3ms/step - loss: 0.6477 - accuracy: 0.6797 - recall: 0.4921 - val_loss: 0.6396 - val_accuracy: 0.6494 - val_recall: 0.4177\n",
            "Epoch 33/300\n",
            "34/34 [==============================] - 0s 2ms/step - loss: 0.5944 - accuracy: 0.6909 - recall: 0.4762 - val_loss: 0.6368 - val_accuracy: 0.6494 - val_recall: 0.4051\n",
            "Epoch 34/300\n",
            "34/34 [==============================] - 0s 2ms/step - loss: 0.5922 - accuracy: 0.7076 - recall: 0.5344 - val_loss: 0.6242 - val_accuracy: 0.6537 - val_recall: 0.5316\n",
            "Epoch 35/300\n",
            "34/34 [==============================] - 0s 3ms/step - loss: 0.5958 - accuracy: 0.6983 - recall: 0.5079 - val_loss: 0.6258 - val_accuracy: 0.6926 - val_recall: 0.4177\n",
            "Epoch 36/300\n",
            "34/34 [==============================] - 0s 3ms/step - loss: 0.5936 - accuracy: 0.7039 - recall: 0.5556 - val_loss: 0.6299 - val_accuracy: 0.6970 - val_recall: 0.3797\n",
            "Epoch 37/300\n",
            "34/34 [==============================] - 0s 3ms/step - loss: 0.5944 - accuracy: 0.6834 - recall: 0.4444 - val_loss: 0.6120 - val_accuracy: 0.7056 - val_recall: 0.4177\n",
            "Epoch 38/300\n",
            "34/34 [==============================] - 0s 3ms/step - loss: 0.5750 - accuracy: 0.7151 - recall: 0.5608 - val_loss: 0.6277 - val_accuracy: 0.6623 - val_recall: 0.4304\n",
            "Epoch 39/300\n",
            "34/34 [==============================] - 0s 3ms/step - loss: 0.5792 - accuracy: 0.7039 - recall: 0.5026 - val_loss: 0.6119 - val_accuracy: 0.6753 - val_recall: 0.4430\n",
            "Epoch 40/300\n",
            "34/34 [==============================] - 0s 3ms/step - loss: 0.5803 - accuracy: 0.6983 - recall: 0.4868 - val_loss: 0.6176 - val_accuracy: 0.6364 - val_recall: 0.5316\n",
            "Epoch 41/300\n",
            "34/34 [==============================] - 0s 3ms/step - loss: 0.5713 - accuracy: 0.7132 - recall: 0.5767 - val_loss: 0.6324 - val_accuracy: 0.6883 - val_recall: 0.3924\n",
            "Epoch 42/300\n",
            "34/34 [==============================] - 0s 3ms/step - loss: 0.5874 - accuracy: 0.7095 - recall: 0.5185 - val_loss: 0.6106 - val_accuracy: 0.6710 - val_recall: 0.4430\n",
            "Epoch 43/300\n",
            "34/34 [==============================] - 0s 3ms/step - loss: 0.5780 - accuracy: 0.7169 - recall: 0.4603 - val_loss: 0.6308 - val_accuracy: 0.6494 - val_recall: 0.5443\n",
            "Epoch 44/300\n",
            "34/34 [==============================] - 0s 3ms/step - loss: 0.5775 - accuracy: 0.7020 - recall: 0.5026 - val_loss: 0.6312 - val_accuracy: 0.6407 - val_recall: 0.4430\n",
            "Epoch 45/300\n",
            "34/34 [==============================] - 0s 3ms/step - loss: 0.5797 - accuracy: 0.7058 - recall: 0.5026 - val_loss: 0.6145 - val_accuracy: 0.6840 - val_recall: 0.4177\n",
            "Epoch 46/300\n",
            "34/34 [==============================] - 0s 3ms/step - loss: 0.5625 - accuracy: 0.7114 - recall: 0.5450 - val_loss: 0.6131 - val_accuracy: 0.7229 - val_recall: 0.3671\n",
            "Epoch 47/300\n",
            "34/34 [==============================] - 0s 2ms/step - loss: 0.5626 - accuracy: 0.7132 - recall: 0.4921 - val_loss: 0.6150 - val_accuracy: 0.6450 - val_recall: 0.5570\n",
            "Epoch 48/300\n",
            "34/34 [==============================] - 0s 2ms/step - loss: 0.5693 - accuracy: 0.7132 - recall: 0.5185 - val_loss: 0.6189 - val_accuracy: 0.7056 - val_recall: 0.2785\n",
            "Epoch 49/300\n",
            "34/34 [==============================] - 0s 3ms/step - loss: 0.5807 - accuracy: 0.7058 - recall: 0.5026 - val_loss: 0.6091 - val_accuracy: 0.7143 - val_recall: 0.3291\n",
            "Epoch 50/300\n",
            "34/34 [==============================] - 0s 3ms/step - loss: 0.5784 - accuracy: 0.7020 - recall: 0.4656 - val_loss: 0.6035 - val_accuracy: 0.6710 - val_recall: 0.4937\n",
            "Epoch 51/300\n",
            "34/34 [==============================] - 0s 3ms/step - loss: 0.5639 - accuracy: 0.7169 - recall: 0.5344 - val_loss: 0.6300 - val_accuracy: 0.6753 - val_recall: 0.4430\n",
            "Epoch 52/300\n",
            "34/34 [==============================] - 0s 2ms/step - loss: 0.5580 - accuracy: 0.7151 - recall: 0.5079 - val_loss: 0.6251 - val_accuracy: 0.6494 - val_recall: 0.5823\n",
            "Epoch 53/300\n",
            "34/34 [==============================] - 0s 3ms/step - loss: 0.5711 - accuracy: 0.7151 - recall: 0.5238 - val_loss: 0.6200 - val_accuracy: 0.6494 - val_recall: 0.5443\n",
            "Epoch 54/300\n",
            "34/34 [==============================] - 0s 2ms/step - loss: 0.5562 - accuracy: 0.7374 - recall: 0.5450 - val_loss: 0.6070 - val_accuracy: 0.6753 - val_recall: 0.4430\n",
            "Epoch 55/300\n",
            "34/34 [==============================] - 0s 2ms/step - loss: 0.5493 - accuracy: 0.7188 - recall: 0.5344 - val_loss: 0.5891 - val_accuracy: 0.7143 - val_recall: 0.3797\n",
            "Epoch 56/300\n",
            "34/34 [==============================] - 0s 2ms/step - loss: 0.5601 - accuracy: 0.7058 - recall: 0.4497 - val_loss: 0.6063 - val_accuracy: 0.6623 - val_recall: 0.5443\n",
            "Epoch 57/300\n",
            "34/34 [==============================] - 0s 2ms/step - loss: 0.5674 - accuracy: 0.7207 - recall: 0.5608 - val_loss: 0.5908 - val_accuracy: 0.7229 - val_recall: 0.5190\n",
            "Epoch 58/300\n",
            "34/34 [==============================] - 0s 2ms/step - loss: 0.5511 - accuracy: 0.7281 - recall: 0.4656 - val_loss: 0.6009 - val_accuracy: 0.6623 - val_recall: 0.5823\n",
            "Epoch 59/300\n",
            "34/34 [==============================] - 0s 2ms/step - loss: 0.5549 - accuracy: 0.7002 - recall: 0.5132 - val_loss: 0.5898 - val_accuracy: 0.7143 - val_recall: 0.4810\n",
            "Epoch 60/300\n",
            "34/34 [==============================] - 0s 2ms/step - loss: 0.5476 - accuracy: 0.7300 - recall: 0.4868 - val_loss: 0.6009 - val_accuracy: 0.6710 - val_recall: 0.4810\n",
            "Epoch 61/300\n",
            "34/34 [==============================] - 0s 2ms/step - loss: 0.5553 - accuracy: 0.7244 - recall: 0.5767 - val_loss: 0.5960 - val_accuracy: 0.6753 - val_recall: 0.5063\n",
            "Epoch 62/300\n",
            "34/34 [==============================] - 0s 3ms/step - loss: 0.5770 - accuracy: 0.7114 - recall: 0.4762 - val_loss: 0.5860 - val_accuracy: 0.7143 - val_recall: 0.4051\n",
            "Epoch 63/300\n",
            "34/34 [==============================] - 0s 3ms/step - loss: 0.5376 - accuracy: 0.7244 - recall: 0.5238 - val_loss: 0.6089 - val_accuracy: 0.6926 - val_recall: 0.4051\n",
            "Epoch 64/300\n",
            "34/34 [==============================] - 0s 3ms/step - loss: 0.5437 - accuracy: 0.7356 - recall: 0.5503 - val_loss: 0.5881 - val_accuracy: 0.7273 - val_recall: 0.3797\n",
            "Epoch 65/300\n",
            "34/34 [==============================] - 0s 3ms/step - loss: 0.5457 - accuracy: 0.7169 - recall: 0.4762 - val_loss: 0.6045 - val_accuracy: 0.6667 - val_recall: 0.4937\n",
            "Epoch 66/300\n",
            "34/34 [==============================] - 0s 3ms/step - loss: 0.5442 - accuracy: 0.7318 - recall: 0.5185 - val_loss: 0.5835 - val_accuracy: 0.7100 - val_recall: 0.4810\n",
            "Epoch 67/300\n",
            "34/34 [==============================] - 0s 3ms/step - loss: 0.5421 - accuracy: 0.7393 - recall: 0.5714 - val_loss: 0.5791 - val_accuracy: 0.7273 - val_recall: 0.4304\n",
            "Epoch 68/300\n",
            "34/34 [==============================] - 0s 3ms/step - loss: 0.5367 - accuracy: 0.7393 - recall: 0.5026 - val_loss: 0.5941 - val_accuracy: 0.6753 - val_recall: 0.4937\n",
            "Epoch 69/300\n",
            "34/34 [==============================] - 0s 3ms/step - loss: 0.5435 - accuracy: 0.7300 - recall: 0.5503 - val_loss: 0.6080 - val_accuracy: 0.6840 - val_recall: 0.4684\n",
            "Epoch 70/300\n",
            "34/34 [==============================] - 0s 2ms/step - loss: 0.5327 - accuracy: 0.7467 - recall: 0.5026 - val_loss: 0.6671 - val_accuracy: 0.6061 - val_recall: 0.6962\n",
            "Epoch 71/300\n",
            "34/34 [==============================] - 0s 3ms/step - loss: 0.5636 - accuracy: 0.7281 - recall: 0.5344 - val_loss: 0.6137 - val_accuracy: 0.6580 - val_recall: 0.6329\n",
            "Epoch 72/300\n",
            "34/34 [==============================] - 0s 2ms/step - loss: 0.5473 - accuracy: 0.7393 - recall: 0.5503 - val_loss: 0.5844 - val_accuracy: 0.6970 - val_recall: 0.5190\n",
            "Epoch 73/300\n",
            "34/34 [==============================] - 0s 3ms/step - loss: 0.5302 - accuracy: 0.7542 - recall: 0.6032 - val_loss: 0.5844 - val_accuracy: 0.7143 - val_recall: 0.4051\n",
            "Epoch 74/300\n",
            "34/34 [==============================] - 0s 2ms/step - loss: 0.5361 - accuracy: 0.7393 - recall: 0.5079 - val_loss: 0.5822 - val_accuracy: 0.6970 - val_recall: 0.4810\n",
            "Epoch 75/300\n",
            "34/34 [==============================] - 0s 2ms/step - loss: 0.5375 - accuracy: 0.7523 - recall: 0.5661 - val_loss: 0.5754 - val_accuracy: 0.7143 - val_recall: 0.4304\n",
            "Epoch 76/300\n",
            "34/34 [==============================] - 0s 3ms/step - loss: 0.5414 - accuracy: 0.7412 - recall: 0.5344 - val_loss: 0.6259 - val_accuracy: 0.6450 - val_recall: 0.5570\n",
            "Epoch 77/300\n",
            "34/34 [==============================] - 0s 3ms/step - loss: 0.5397 - accuracy: 0.7430 - recall: 0.5079 - val_loss: 0.6331 - val_accuracy: 0.6450 - val_recall: 0.5949\n",
            "Epoch 78/300\n",
            "34/34 [==============================] - 0s 3ms/step - loss: 0.5672 - accuracy: 0.7169 - recall: 0.5661 - val_loss: 0.6270 - val_accuracy: 0.6580 - val_recall: 0.6076\n",
            "Epoch 79/300\n",
            "34/34 [==============================] - 0s 3ms/step - loss: 0.5453 - accuracy: 0.7337 - recall: 0.5556 - val_loss: 0.5761 - val_accuracy: 0.7056 - val_recall: 0.4430\n",
            "Epoch 80/300\n",
            "34/34 [==============================] - 0s 3ms/step - loss: 0.5357 - accuracy: 0.7244 - recall: 0.4709 - val_loss: 0.5770 - val_accuracy: 0.7056 - val_recall: 0.4557\n",
            "Epoch 81/300\n",
            "34/34 [==============================] - 0s 2ms/step - loss: 0.5376 - accuracy: 0.7430 - recall: 0.5397 - val_loss: 0.5731 - val_accuracy: 0.7100 - val_recall: 0.4937\n",
            "Epoch 82/300\n",
            "34/34 [==============================] - 0s 2ms/step - loss: 0.5461 - accuracy: 0.7356 - recall: 0.5820 - val_loss: 0.5929 - val_accuracy: 0.6753 - val_recall: 0.6203\n",
            "Epoch 83/300\n",
            "34/34 [==============================] - 0s 3ms/step - loss: 0.5371 - accuracy: 0.7207 - recall: 0.5132 - val_loss: 0.5971 - val_accuracy: 0.6753 - val_recall: 0.5823\n",
            "Epoch 84/300\n",
            "34/34 [==============================] - 0s 2ms/step - loss: 0.5240 - accuracy: 0.7542 - recall: 0.5503 - val_loss: 0.5881 - val_accuracy: 0.6883 - val_recall: 0.5190\n",
            "Epoch 85/300\n",
            "34/34 [==============================] - 0s 2ms/step - loss: 0.5337 - accuracy: 0.7561 - recall: 0.5450 - val_loss: 0.6149 - val_accuracy: 0.6667 - val_recall: 0.5696\n",
            "Epoch 86/300\n",
            "34/34 [==============================] - 0s 3ms/step - loss: 0.5226 - accuracy: 0.7449 - recall: 0.6032 - val_loss: 0.5715 - val_accuracy: 0.7316 - val_recall: 0.3797\n",
            "Epoch 87/300\n",
            "34/34 [==============================] - 0s 3ms/step - loss: 0.5439 - accuracy: 0.7412 - recall: 0.5238 - val_loss: 0.5768 - val_accuracy: 0.7100 - val_recall: 0.4684\n",
            "Epoch 88/300\n",
            "34/34 [==============================] - 0s 3ms/step - loss: 0.5292 - accuracy: 0.7449 - recall: 0.5608 - val_loss: 0.5717 - val_accuracy: 0.7229 - val_recall: 0.4557\n",
            "Epoch 89/300\n",
            "34/34 [==============================] - 0s 2ms/step - loss: 0.5197 - accuracy: 0.7542 - recall: 0.5820 - val_loss: 0.5685 - val_accuracy: 0.7100 - val_recall: 0.4304\n",
            "Epoch 90/300\n",
            "34/34 [==============================] - 0s 3ms/step - loss: 0.5218 - accuracy: 0.7449 - recall: 0.5450 - val_loss: 0.5727 - val_accuracy: 0.7013 - val_recall: 0.5316\n",
            "Epoch 91/300\n",
            "34/34 [==============================] - 0s 3ms/step - loss: 0.5407 - accuracy: 0.7281 - recall: 0.5661 - val_loss: 0.5697 - val_accuracy: 0.7100 - val_recall: 0.4810\n",
            "Epoch 92/300\n",
            "34/34 [==============================] - 0s 3ms/step - loss: 0.5490 - accuracy: 0.7318 - recall: 0.5450 - val_loss: 0.6215 - val_accuracy: 0.6926 - val_recall: 0.1899\n",
            "Epoch 93/300\n",
            "34/34 [==============================] - 0s 2ms/step - loss: 0.5528 - accuracy: 0.7225 - recall: 0.4974 - val_loss: 0.5757 - val_accuracy: 0.7316 - val_recall: 0.3797\n",
            "Epoch 94/300\n",
            "34/34 [==============================] - 0s 3ms/step - loss: 0.5320 - accuracy: 0.7505 - recall: 0.5450 - val_loss: 0.5844 - val_accuracy: 0.7056 - val_recall: 0.4304\n",
            "Epoch 95/300\n",
            "34/34 [==============================] - 0s 3ms/step - loss: 0.5227 - accuracy: 0.7486 - recall: 0.5556 - val_loss: 0.5654 - val_accuracy: 0.7273 - val_recall: 0.4430\n",
            "Epoch 96/300\n",
            "34/34 [==============================] - 0s 3ms/step - loss: 0.5173 - accuracy: 0.7430 - recall: 0.5397 - val_loss: 0.5855 - val_accuracy: 0.6797 - val_recall: 0.5949\n",
            "Epoch 97/300\n",
            "34/34 [==============================] - 0s 3ms/step - loss: 0.5252 - accuracy: 0.7467 - recall: 0.5556 - val_loss: 0.5686 - val_accuracy: 0.7013 - val_recall: 0.4557\n",
            "Epoch 98/300\n",
            "34/34 [==============================] - 0s 3ms/step - loss: 0.5232 - accuracy: 0.7505 - recall: 0.5450 - val_loss: 0.5836 - val_accuracy: 0.7013 - val_recall: 0.5190\n",
            "Epoch 99/300\n",
            "34/34 [==============================] - 0s 3ms/step - loss: 0.5188 - accuracy: 0.7449 - recall: 0.5608 - val_loss: 0.5923 - val_accuracy: 0.7013 - val_recall: 0.5316\n",
            "Epoch 100/300\n",
            "34/34 [==============================] - 0s 3ms/step - loss: 0.5169 - accuracy: 0.7561 - recall: 0.5608 - val_loss: 0.5737 - val_accuracy: 0.7100 - val_recall: 0.4684\n",
            "Epoch 101/300\n",
            "34/34 [==============================] - 0s 3ms/step - loss: 0.5215 - accuracy: 0.7374 - recall: 0.5291 - val_loss: 0.6372 - val_accuracy: 0.6234 - val_recall: 0.6076\n",
            "Epoch 102/300\n",
            "34/34 [==============================] - 0s 2ms/step - loss: 0.5191 - accuracy: 0.7505 - recall: 0.5767 - val_loss: 0.5812 - val_accuracy: 0.7316 - val_recall: 0.4810\n",
            "Epoch 103/300\n",
            "34/34 [==============================] - 0s 3ms/step - loss: 0.5163 - accuracy: 0.7579 - recall: 0.5661 - val_loss: 0.5619 - val_accuracy: 0.7273 - val_recall: 0.3924\n",
            "Epoch 104/300\n",
            "34/34 [==============================] - 0s 2ms/step - loss: 0.5104 - accuracy: 0.7412 - recall: 0.5291 - val_loss: 0.5680 - val_accuracy: 0.7143 - val_recall: 0.5063\n",
            "Epoch 105/300\n",
            "34/34 [==============================] - 0s 3ms/step - loss: 0.5257 - accuracy: 0.7616 - recall: 0.5979 - val_loss: 0.5737 - val_accuracy: 0.7273 - val_recall: 0.3671\n",
            "Epoch 106/300\n",
            "34/34 [==============================] - 0s 3ms/step - loss: 0.5160 - accuracy: 0.7598 - recall: 0.5503 - val_loss: 0.5865 - val_accuracy: 0.7056 - val_recall: 0.4810\n",
            "Epoch 107/300\n",
            "34/34 [==============================] - 0s 2ms/step - loss: 0.5126 - accuracy: 0.7486 - recall: 0.5503 - val_loss: 0.5625 - val_accuracy: 0.7273 - val_recall: 0.5063\n",
            "Epoch 108/300\n",
            "34/34 [==============================] - 0s 3ms/step - loss: 0.5126 - accuracy: 0.7542 - recall: 0.5608 - val_loss: 0.5841 - val_accuracy: 0.7143 - val_recall: 0.4810\n",
            "Epoch 109/300\n",
            "34/34 [==============================] - 0s 2ms/step - loss: 0.5198 - accuracy: 0.7449 - recall: 0.5450 - val_loss: 0.5678 - val_accuracy: 0.7143 - val_recall: 0.5190\n",
            "Epoch 110/300\n",
            "34/34 [==============================] - 0s 2ms/step - loss: 0.5211 - accuracy: 0.7449 - recall: 0.5397 - val_loss: 0.5644 - val_accuracy: 0.7273 - val_recall: 0.4937\n",
            "Epoch 111/300\n",
            "34/34 [==============================] - 0s 3ms/step - loss: 0.5241 - accuracy: 0.7598 - recall: 0.5291 - val_loss: 0.6047 - val_accuracy: 0.6840 - val_recall: 0.6835\n",
            "Epoch 112/300\n",
            "34/34 [==============================] - 0s 2ms/step - loss: 0.5186 - accuracy: 0.7579 - recall: 0.5608 - val_loss: 0.5880 - val_accuracy: 0.6926 - val_recall: 0.6456\n",
            "Epoch 113/300\n",
            "34/34 [==============================] - 0s 3ms/step - loss: 0.5250 - accuracy: 0.7412 - recall: 0.5185 - val_loss: 0.5971 - val_accuracy: 0.6840 - val_recall: 0.5570\n",
            "Epoch 114/300\n",
            "34/34 [==============================] - 0s 3ms/step - loss: 0.5248 - accuracy: 0.7393 - recall: 0.5714 - val_loss: 0.5616 - val_accuracy: 0.7143 - val_recall: 0.4810\n",
            "Epoch 115/300\n",
            "34/34 [==============================] - 0s 3ms/step - loss: 0.5082 - accuracy: 0.7542 - recall: 0.5185 - val_loss: 0.5573 - val_accuracy: 0.7403 - val_recall: 0.4810\n",
            "Epoch 116/300\n",
            "34/34 [==============================] - 0s 3ms/step - loss: 0.5067 - accuracy: 0.7635 - recall: 0.5926 - val_loss: 0.5594 - val_accuracy: 0.7229 - val_recall: 0.4937\n",
            "Epoch 117/300\n",
            "34/34 [==============================] - 0s 2ms/step - loss: 0.5082 - accuracy: 0.7579 - recall: 0.5661 - val_loss: 0.5706 - val_accuracy: 0.7186 - val_recall: 0.4810\n",
            "Epoch 118/300\n",
            "34/34 [==============================] - 0s 2ms/step - loss: 0.5059 - accuracy: 0.7542 - recall: 0.5608 - val_loss: 0.5743 - val_accuracy: 0.7273 - val_recall: 0.5949\n",
            "Epoch 119/300\n",
            "34/34 [==============================] - 0s 3ms/step - loss: 0.5116 - accuracy: 0.7561 - recall: 0.5661 - val_loss: 0.5641 - val_accuracy: 0.7229 - val_recall: 0.5063\n",
            "Epoch 120/300\n",
            "34/34 [==============================] - 0s 2ms/step - loss: 0.5102 - accuracy: 0.7542 - recall: 0.5767 - val_loss: 0.5658 - val_accuracy: 0.7186 - val_recall: 0.4810\n",
            "Epoch 121/300\n",
            "34/34 [==============================] - 0s 3ms/step - loss: 0.5106 - accuracy: 0.7709 - recall: 0.5767 - val_loss: 0.5678 - val_accuracy: 0.7273 - val_recall: 0.3291\n",
            "Epoch 122/300\n",
            "34/34 [==============================] - 0s 2ms/step - loss: 0.5112 - accuracy: 0.7412 - recall: 0.5132 - val_loss: 0.5557 - val_accuracy: 0.7403 - val_recall: 0.4304\n",
            "Epoch 123/300\n",
            "34/34 [==============================] - 0s 3ms/step - loss: 0.5130 - accuracy: 0.7505 - recall: 0.5344 - val_loss: 0.5683 - val_accuracy: 0.7013 - val_recall: 0.5823\n",
            "Epoch 124/300\n",
            "34/34 [==============================] - 0s 3ms/step - loss: 0.5092 - accuracy: 0.7616 - recall: 0.6085 - val_loss: 0.5559 - val_accuracy: 0.7403 - val_recall: 0.4557\n",
            "Epoch 125/300\n",
            "34/34 [==============================] - 0s 2ms/step - loss: 0.5169 - accuracy: 0.7505 - recall: 0.5608 - val_loss: 0.5643 - val_accuracy: 0.7446 - val_recall: 0.4051\n",
            "Epoch 126/300\n",
            "34/34 [==============================] - 0s 3ms/step - loss: 0.5114 - accuracy: 0.7430 - recall: 0.5238 - val_loss: 0.5682 - val_accuracy: 0.7229 - val_recall: 0.4684\n",
            "Epoch 127/300\n",
            "34/34 [==============================] - 0s 3ms/step - loss: 0.5102 - accuracy: 0.7598 - recall: 0.5820 - val_loss: 0.6127 - val_accuracy: 0.6710 - val_recall: 0.5696\n",
            "Epoch 128/300\n",
            "34/34 [==============================] - 0s 3ms/step - loss: 0.5016 - accuracy: 0.7561 - recall: 0.5608 - val_loss: 0.5655 - val_accuracy: 0.7403 - val_recall: 0.4304\n",
            "Epoch 129/300\n",
            "34/34 [==============================] - 0s 3ms/step - loss: 0.5099 - accuracy: 0.7579 - recall: 0.5397 - val_loss: 0.5722 - val_accuracy: 0.7143 - val_recall: 0.5696\n",
            "Epoch 130/300\n",
            "34/34 [==============================] - 0s 2ms/step - loss: 0.5083 - accuracy: 0.7616 - recall: 0.5820 - val_loss: 0.5744 - val_accuracy: 0.6926 - val_recall: 0.5949\n",
            "Epoch 131/300\n",
            "34/34 [==============================] - 0s 3ms/step - loss: 0.5009 - accuracy: 0.7616 - recall: 0.5661 - val_loss: 0.5666 - val_accuracy: 0.7143 - val_recall: 0.5190\n",
            "Epoch 132/300\n",
            "34/34 [==============================] - 0s 3ms/step - loss: 0.5149 - accuracy: 0.7467 - recall: 0.5661 - val_loss: 0.5916 - val_accuracy: 0.6926 - val_recall: 0.5570\n",
            "Epoch 133/300\n",
            "34/34 [==============================] - 0s 3ms/step - loss: 0.5034 - accuracy: 0.7709 - recall: 0.5767 - val_loss: 0.5522 - val_accuracy: 0.7316 - val_recall: 0.4430\n",
            "Epoch 134/300\n",
            "34/34 [==============================] - 0s 3ms/step - loss: 0.5110 - accuracy: 0.7561 - recall: 0.5979 - val_loss: 0.5550 - val_accuracy: 0.7403 - val_recall: 0.4810\n",
            "Epoch 135/300\n",
            "34/34 [==============================] - 0s 2ms/step - loss: 0.5011 - accuracy: 0.7523 - recall: 0.5079 - val_loss: 0.5704 - val_accuracy: 0.7143 - val_recall: 0.5570\n",
            "Epoch 136/300\n",
            "34/34 [==============================] - 0s 3ms/step - loss: 0.5090 - accuracy: 0.7616 - recall: 0.6085 - val_loss: 0.5604 - val_accuracy: 0.7143 - val_recall: 0.5190\n",
            "Epoch 137/300\n",
            "34/34 [==============================] - 0s 2ms/step - loss: 0.4985 - accuracy: 0.7654 - recall: 0.5714 - val_loss: 0.5803 - val_accuracy: 0.7359 - val_recall: 0.4557\n",
            "Epoch 138/300\n",
            "34/34 [==============================] - 0s 3ms/step - loss: 0.5089 - accuracy: 0.7486 - recall: 0.5503 - val_loss: 0.5719 - val_accuracy: 0.7273 - val_recall: 0.5063\n",
            "Epoch 139/300\n",
            "34/34 [==============================] - 0s 3ms/step - loss: 0.5092 - accuracy: 0.7318 - recall: 0.5503 - val_loss: 0.5679 - val_accuracy: 0.7316 - val_recall: 0.4177\n",
            "Epoch 140/300\n",
            "34/34 [==============================] - 0s 3ms/step - loss: 0.4972 - accuracy: 0.7765 - recall: 0.5767 - val_loss: 0.5594 - val_accuracy: 0.7100 - val_recall: 0.5190\n",
            "Epoch 141/300\n",
            "34/34 [==============================] - 0s 3ms/step - loss: 0.4921 - accuracy: 0.7747 - recall: 0.6138 - val_loss: 0.5776 - val_accuracy: 0.7186 - val_recall: 0.2911\n",
            "Epoch 142/300\n",
            "34/34 [==============================] - 0s 3ms/step - loss: 0.4972 - accuracy: 0.7691 - recall: 0.5556 - val_loss: 0.5594 - val_accuracy: 0.7359 - val_recall: 0.5443\n",
            "Epoch 143/300\n",
            "34/34 [==============================] - 0s 3ms/step - loss: 0.4980 - accuracy: 0.7672 - recall: 0.5926 - val_loss: 0.5742 - val_accuracy: 0.7229 - val_recall: 0.5063\n",
            "Epoch 144/300\n",
            "34/34 [==============================] - 0s 3ms/step - loss: 0.5046 - accuracy: 0.7561 - recall: 0.5450 - val_loss: 0.5492 - val_accuracy: 0.7489 - val_recall: 0.4810\n",
            "Epoch 145/300\n",
            "34/34 [==============================] - 0s 3ms/step - loss: 0.5060 - accuracy: 0.7337 - recall: 0.5608 - val_loss: 0.5546 - val_accuracy: 0.7359 - val_recall: 0.4684\n",
            "Epoch 146/300\n",
            "34/34 [==============================] - 0s 3ms/step - loss: 0.5009 - accuracy: 0.7561 - recall: 0.5608 - val_loss: 0.5504 - val_accuracy: 0.7316 - val_recall: 0.4177\n",
            "Epoch 147/300\n",
            "34/34 [==============================] - 0s 3ms/step - loss: 0.4989 - accuracy: 0.7467 - recall: 0.5661 - val_loss: 0.5655 - val_accuracy: 0.6970 - val_recall: 0.6076\n",
            "Epoch 148/300\n",
            "34/34 [==============================] - 0s 3ms/step - loss: 0.5204 - accuracy: 0.7467 - recall: 0.5291 - val_loss: 0.5636 - val_accuracy: 0.7056 - val_recall: 0.4430\n",
            "Epoch 149/300\n",
            "34/34 [==============================] - 0s 3ms/step - loss: 0.4989 - accuracy: 0.7561 - recall: 0.5820 - val_loss: 0.5522 - val_accuracy: 0.7359 - val_recall: 0.3671\n",
            "Epoch 150/300\n",
            "34/34 [==============================] - 0s 3ms/step - loss: 0.5077 - accuracy: 0.7598 - recall: 0.5767 - val_loss: 0.5690 - val_accuracy: 0.7186 - val_recall: 0.5443\n",
            "Epoch 151/300\n",
            "34/34 [==============================] - 0s 3ms/step - loss: 0.5152 - accuracy: 0.7579 - recall: 0.6032 - val_loss: 0.5778 - val_accuracy: 0.7013 - val_recall: 0.5696\n",
            "Epoch 152/300\n",
            "34/34 [==============================] - 0s 3ms/step - loss: 0.5046 - accuracy: 0.7765 - recall: 0.6085 - val_loss: 0.5523 - val_accuracy: 0.7403 - val_recall: 0.5063\n",
            "Epoch 153/300\n",
            "34/34 [==============================] - 0s 3ms/step - loss: 0.4914 - accuracy: 0.7523 - recall: 0.5344 - val_loss: 0.5771 - val_accuracy: 0.7013 - val_recall: 0.5823\n",
            "Epoch 154/300\n",
            "34/34 [==============================] - 0s 4ms/step - loss: 0.5078 - accuracy: 0.7579 - recall: 0.5608 - val_loss: 0.5850 - val_accuracy: 0.7229 - val_recall: 0.5063\n",
            "Epoch 155/300\n",
            "34/34 [==============================] - 0s 2ms/step - loss: 0.4888 - accuracy: 0.7672 - recall: 0.6032 - val_loss: 0.5591 - val_accuracy: 0.7229 - val_recall: 0.3797\n",
            "Epoch 156/300\n",
            "34/34 [==============================] - 0s 3ms/step - loss: 0.4997 - accuracy: 0.7654 - recall: 0.5661 - val_loss: 0.5652 - val_accuracy: 0.7359 - val_recall: 0.4937\n",
            "Epoch 157/300\n",
            "34/34 [==============================] - 0s 3ms/step - loss: 0.4909 - accuracy: 0.7672 - recall: 0.5714 - val_loss: 0.5737 - val_accuracy: 0.6840 - val_recall: 0.5949\n",
            "Epoch 158/300\n",
            "34/34 [==============================] - 0s 2ms/step - loss: 0.4936 - accuracy: 0.7561 - recall: 0.5608 - val_loss: 0.5513 - val_accuracy: 0.7359 - val_recall: 0.5316\n",
            "Epoch 159/300\n",
            "34/34 [==============================] - 0s 3ms/step - loss: 0.5032 - accuracy: 0.7672 - recall: 0.5873 - val_loss: 0.5499 - val_accuracy: 0.7403 - val_recall: 0.4810\n",
            "Epoch 160/300\n",
            "34/34 [==============================] - 0s 2ms/step - loss: 0.4915 - accuracy: 0.7598 - recall: 0.5820 - val_loss: 0.5764 - val_accuracy: 0.7403 - val_recall: 0.4810\n",
            "Epoch 161/300\n",
            "34/34 [==============================] - 0s 3ms/step - loss: 0.5061 - accuracy: 0.7542 - recall: 0.5238 - val_loss: 0.5586 - val_accuracy: 0.7273 - val_recall: 0.5063\n",
            "Epoch 162/300\n",
            "34/34 [==============================] - 0s 2ms/step - loss: 0.4959 - accuracy: 0.7616 - recall: 0.5608 - val_loss: 0.5838 - val_accuracy: 0.6710 - val_recall: 0.6582\n",
            "Epoch 163/300\n",
            "34/34 [==============================] - 0s 2ms/step - loss: 0.5108 - accuracy: 0.7542 - recall: 0.5979 - val_loss: 0.5550 - val_accuracy: 0.7359 - val_recall: 0.5190\n",
            "Epoch 164/300\n",
            "34/34 [==============================] - 0s 4ms/step - loss: 0.4950 - accuracy: 0.7635 - recall: 0.5556 - val_loss: 0.5536 - val_accuracy: 0.7446 - val_recall: 0.4684\n",
            "Epoch 165/300\n",
            "34/34 [==============================] - 0s 3ms/step - loss: 0.4889 - accuracy: 0.7654 - recall: 0.5926 - val_loss: 0.5576 - val_accuracy: 0.7273 - val_recall: 0.5570\n",
            "Epoch 166/300\n",
            "34/34 [==============================] - 0s 3ms/step - loss: 0.4932 - accuracy: 0.7691 - recall: 0.5926 - val_loss: 0.5518 - val_accuracy: 0.7359 - val_recall: 0.4937\n",
            "Epoch 167/300\n",
            "34/34 [==============================] - 0s 2ms/step - loss: 0.4875 - accuracy: 0.7616 - recall: 0.5397 - val_loss: 0.5673 - val_accuracy: 0.7100 - val_recall: 0.6329\n",
            "Epoch 168/300\n",
            "34/34 [==============================] - 0s 3ms/step - loss: 0.4913 - accuracy: 0.7728 - recall: 0.5873 - val_loss: 0.5813 - val_accuracy: 0.7186 - val_recall: 0.5443\n",
            "Epoch 169/300\n",
            "34/34 [==============================] - 0s 3ms/step - loss: 0.5118 - accuracy: 0.7598 - recall: 0.5926 - val_loss: 0.5590 - val_accuracy: 0.7143 - val_recall: 0.5570\n",
            "Epoch 170/300\n",
            "34/34 [==============================] - 0s 3ms/step - loss: 0.5061 - accuracy: 0.7542 - recall: 0.5820 - val_loss: 0.5685 - val_accuracy: 0.7056 - val_recall: 0.6203\n",
            "Epoch 171/300\n",
            "34/34 [==============================] - 0s 3ms/step - loss: 0.4860 - accuracy: 0.7598 - recall: 0.5291 - val_loss: 0.5630 - val_accuracy: 0.7229 - val_recall: 0.6076\n",
            "Epoch 172/300\n",
            "34/34 [==============================] - 0s 2ms/step - loss: 0.4911 - accuracy: 0.7654 - recall: 0.5926 - val_loss: 0.5499 - val_accuracy: 0.7273 - val_recall: 0.5190\n",
            "Epoch 173/300\n",
            "34/34 [==============================] - 0s 3ms/step - loss: 0.4868 - accuracy: 0.7654 - recall: 0.5873 - val_loss: 0.5534 - val_accuracy: 0.7273 - val_recall: 0.3291\n",
            "Epoch 174/300\n",
            "34/34 [==============================] - 0s 3ms/step - loss: 0.4838 - accuracy: 0.7654 - recall: 0.5608 - val_loss: 0.5587 - val_accuracy: 0.7013 - val_recall: 0.5823\n",
            "Epoch 175/300\n",
            "34/34 [==============================] - 0s 3ms/step - loss: 0.4968 - accuracy: 0.7616 - recall: 0.5820 - val_loss: 0.5457 - val_accuracy: 0.7532 - val_recall: 0.4810\n",
            "Epoch 176/300\n",
            "34/34 [==============================] - 0s 3ms/step - loss: 0.4973 - accuracy: 0.7672 - recall: 0.6349 - val_loss: 0.5488 - val_accuracy: 0.7273 - val_recall: 0.5316\n",
            "Epoch 177/300\n",
            "34/34 [==============================] - 0s 3ms/step - loss: 0.4847 - accuracy: 0.7709 - recall: 0.5926 - val_loss: 0.5473 - val_accuracy: 0.7403 - val_recall: 0.4937\n",
            "Epoch 178/300\n",
            "34/34 [==============================] - 0s 3ms/step - loss: 0.4862 - accuracy: 0.7728 - recall: 0.5979 - val_loss: 0.5499 - val_accuracy: 0.7446 - val_recall: 0.5316\n",
            "Epoch 179/300\n",
            "34/34 [==============================] - 0s 3ms/step - loss: 0.4886 - accuracy: 0.7542 - recall: 0.5291 - val_loss: 0.5439 - val_accuracy: 0.7403 - val_recall: 0.4810\n",
            "Epoch 180/300\n",
            "34/34 [==============================] - 0s 4ms/step - loss: 0.4823 - accuracy: 0.7747 - recall: 0.5608 - val_loss: 0.5744 - val_accuracy: 0.7056 - val_recall: 0.6456\n",
            "Epoch 181/300\n",
            "34/34 [==============================] - 0s 2ms/step - loss: 0.4979 - accuracy: 0.7467 - recall: 0.5873 - val_loss: 0.5425 - val_accuracy: 0.7316 - val_recall: 0.4557\n",
            "Epoch 182/300\n",
            "34/34 [==============================] - 0s 3ms/step - loss: 0.4836 - accuracy: 0.7784 - recall: 0.5979 - val_loss: 0.5443 - val_accuracy: 0.7359 - val_recall: 0.4557\n",
            "Epoch 183/300\n",
            "34/34 [==============================] - 0s 3ms/step - loss: 0.4929 - accuracy: 0.7765 - recall: 0.5820 - val_loss: 0.5670 - val_accuracy: 0.7143 - val_recall: 0.5570\n",
            "Epoch 184/300\n",
            "34/34 [==============================] - 0s 3ms/step - loss: 0.4886 - accuracy: 0.7691 - recall: 0.5979 - val_loss: 0.5468 - val_accuracy: 0.7143 - val_recall: 0.4937\n",
            "Epoch 185/300\n",
            "34/34 [==============================] - 0s 3ms/step - loss: 0.4883 - accuracy: 0.7728 - recall: 0.5767 - val_loss: 0.5480 - val_accuracy: 0.7359 - val_recall: 0.4810\n",
            "Epoch 186/300\n",
            "34/34 [==============================] - 0s 3ms/step - loss: 0.4849 - accuracy: 0.7672 - recall: 0.5820 - val_loss: 0.5568 - val_accuracy: 0.7229 - val_recall: 0.5316\n",
            "Epoch 187/300\n",
            "34/34 [==============================] - 0s 3ms/step - loss: 0.4907 - accuracy: 0.7765 - recall: 0.5926 - val_loss: 0.5475 - val_accuracy: 0.7403 - val_recall: 0.4430\n",
            "Epoch 188/300\n",
            "34/34 [==============================] - 0s 3ms/step - loss: 0.4988 - accuracy: 0.7616 - recall: 0.5767 - val_loss: 0.5475 - val_accuracy: 0.7403 - val_recall: 0.5316\n",
            "Epoch 189/300\n",
            "34/34 [==============================] - 0s 4ms/step - loss: 0.4867 - accuracy: 0.7803 - recall: 0.6190 - val_loss: 0.5612 - val_accuracy: 0.7316 - val_recall: 0.5063\n",
            "Epoch 190/300\n",
            "34/34 [==============================] - 0s 3ms/step - loss: 0.4946 - accuracy: 0.7654 - recall: 0.5714 - val_loss: 0.5573 - val_accuracy: 0.7186 - val_recall: 0.5570\n",
            "Epoch 191/300\n",
            "34/34 [==============================] - 0s 2ms/step - loss: 0.4805 - accuracy: 0.7896 - recall: 0.6138 - val_loss: 0.5554 - val_accuracy: 0.7013 - val_recall: 0.5696\n",
            "Epoch 192/300\n",
            "34/34 [==============================] - 0s 3ms/step - loss: 0.4983 - accuracy: 0.7542 - recall: 0.5556 - val_loss: 0.5616 - val_accuracy: 0.7229 - val_recall: 0.5190\n",
            "Epoch 193/300\n",
            "34/34 [==============================] - 0s 3ms/step - loss: 0.5045 - accuracy: 0.7449 - recall: 0.5503 - val_loss: 0.5982 - val_accuracy: 0.6580 - val_recall: 0.6076\n",
            "Epoch 194/300\n",
            "34/34 [==============================] - 0s 3ms/step - loss: 0.4825 - accuracy: 0.7765 - recall: 0.6402 - val_loss: 0.5410 - val_accuracy: 0.7229 - val_recall: 0.4304\n",
            "Epoch 195/300\n",
            "34/34 [==============================] - 0s 3ms/step - loss: 0.4863 - accuracy: 0.7635 - recall: 0.5714 - val_loss: 0.5459 - val_accuracy: 0.7359 - val_recall: 0.5443\n",
            "Epoch 196/300\n",
            "34/34 [==============================] - 0s 3ms/step - loss: 0.4779 - accuracy: 0.7709 - recall: 0.5608 - val_loss: 0.5742 - val_accuracy: 0.6797 - val_recall: 0.6456\n",
            "Epoch 197/300\n",
            "34/34 [==============================] - 0s 3ms/step - loss: 0.4916 - accuracy: 0.7747 - recall: 0.6243 - val_loss: 0.5488 - val_accuracy: 0.6926 - val_recall: 0.4684\n",
            "Epoch 198/300\n",
            "34/34 [==============================] - 0s 3ms/step - loss: 0.4811 - accuracy: 0.7691 - recall: 0.5926 - val_loss: 0.5413 - val_accuracy: 0.7446 - val_recall: 0.4684\n",
            "Epoch 199/300\n",
            "34/34 [==============================] - 0s 2ms/step - loss: 0.4836 - accuracy: 0.7709 - recall: 0.6032 - val_loss: 0.5435 - val_accuracy: 0.7186 - val_recall: 0.4430\n",
            "Epoch 200/300\n",
            "34/34 [==============================] - 0s 3ms/step - loss: 0.4873 - accuracy: 0.7635 - recall: 0.5450 - val_loss: 0.5443 - val_accuracy: 0.7576 - val_recall: 0.5190\n",
            "Epoch 201/300\n",
            "34/34 [==============================] - 0s 3ms/step - loss: 0.4864 - accuracy: 0.7542 - recall: 0.5661 - val_loss: 0.5419 - val_accuracy: 0.7403 - val_recall: 0.5570\n",
            "Epoch 202/300\n",
            "34/34 [==============================] - 0s 4ms/step - loss: 0.4802 - accuracy: 0.7840 - recall: 0.6402 - val_loss: 0.5522 - val_accuracy: 0.7229 - val_recall: 0.3544\n",
            "Epoch 203/300\n",
            "34/34 [==============================] - 0s 3ms/step - loss: 0.4860 - accuracy: 0.7654 - recall: 0.5556 - val_loss: 0.5455 - val_accuracy: 0.7143 - val_recall: 0.5190\n",
            "Epoch 204/300\n",
            "34/34 [==============================] - 0s 3ms/step - loss: 0.4884 - accuracy: 0.7803 - recall: 0.6349 - val_loss: 0.5512 - val_accuracy: 0.7359 - val_recall: 0.5443\n",
            "Epoch 205/300\n",
            "34/34 [==============================] - 0s 3ms/step - loss: 0.4844 - accuracy: 0.7654 - recall: 0.5450 - val_loss: 0.5452 - val_accuracy: 0.7446 - val_recall: 0.5063\n",
            "Epoch 206/300\n",
            "34/34 [==============================] - 0s 3ms/step - loss: 0.4907 - accuracy: 0.7635 - recall: 0.5873 - val_loss: 0.5552 - val_accuracy: 0.7100 - val_recall: 0.6076\n",
            "Epoch 207/300\n",
            "34/34 [==============================] - 0s 3ms/step - loss: 0.4810 - accuracy: 0.7598 - recall: 0.5820 - val_loss: 0.5662 - val_accuracy: 0.7359 - val_recall: 0.6582\n",
            "Epoch 208/300\n",
            "34/34 [==============================] - 0s 3ms/step - loss: 0.4865 - accuracy: 0.7821 - recall: 0.6402 - val_loss: 0.5709 - val_accuracy: 0.7532 - val_recall: 0.4304\n",
            "Epoch 209/300\n",
            "34/34 [==============================] - 0s 3ms/step - loss: 0.4759 - accuracy: 0.7840 - recall: 0.6508 - val_loss: 0.5456 - val_accuracy: 0.7316 - val_recall: 0.4051\n",
            "Epoch 210/300\n",
            "34/34 [==============================] - 0s 3ms/step - loss: 0.4786 - accuracy: 0.7654 - recall: 0.5291 - val_loss: 0.5461 - val_accuracy: 0.7446 - val_recall: 0.5190\n",
            "Epoch 211/300\n",
            "34/34 [==============================] - 0s 3ms/step - loss: 0.4839 - accuracy: 0.7728 - recall: 0.5926 - val_loss: 0.5665 - val_accuracy: 0.6883 - val_recall: 0.5823\n",
            "Epoch 212/300\n",
            "34/34 [==============================] - 0s 3ms/step - loss: 0.4954 - accuracy: 0.7505 - recall: 0.5608 - val_loss: 0.5891 - val_accuracy: 0.7186 - val_recall: 0.5443\n",
            "Epoch 213/300\n",
            "34/34 [==============================] - 0s 3ms/step - loss: 0.4807 - accuracy: 0.7709 - recall: 0.5926 - val_loss: 0.5418 - val_accuracy: 0.7446 - val_recall: 0.5190\n",
            "Epoch 214/300\n",
            "34/34 [==============================] - 0s 3ms/step - loss: 0.4782 - accuracy: 0.7840 - recall: 0.6138 - val_loss: 0.5587 - val_accuracy: 0.7100 - val_recall: 0.5696\n",
            "Epoch 215/300\n",
            "34/34 [==============================] - 0s 3ms/step - loss: 0.4917 - accuracy: 0.7691 - recall: 0.6296 - val_loss: 0.5651 - val_accuracy: 0.7143 - val_recall: 0.5190\n",
            "Epoch 216/300\n",
            "34/34 [==============================] - 0s 3ms/step - loss: 0.4800 - accuracy: 0.7709 - recall: 0.5661 - val_loss: 0.5442 - val_accuracy: 0.7316 - val_recall: 0.4430\n",
            "Epoch 217/300\n",
            "34/34 [==============================] - 0s 3ms/step - loss: 0.4738 - accuracy: 0.7784 - recall: 0.5979 - val_loss: 0.5602 - val_accuracy: 0.7100 - val_recall: 0.5190\n",
            "Epoch 218/300\n",
            "34/34 [==============================] - 0s 3ms/step - loss: 0.4900 - accuracy: 0.7467 - recall: 0.5344 - val_loss: 0.5463 - val_accuracy: 0.7273 - val_recall: 0.4684\n",
            "Epoch 219/300\n",
            "34/34 [==============================] - 0s 3ms/step - loss: 0.4783 - accuracy: 0.7821 - recall: 0.6032 - val_loss: 0.5864 - val_accuracy: 0.6883 - val_recall: 0.6203\n",
            "Epoch 220/300\n",
            "34/34 [==============================] - 0s 3ms/step - loss: 0.4885 - accuracy: 0.7691 - recall: 0.5979 - val_loss: 0.5594 - val_accuracy: 0.7100 - val_recall: 0.4937\n",
            "Epoch 221/300\n",
            "34/34 [==============================] - 0s 3ms/step - loss: 0.4704 - accuracy: 0.7803 - recall: 0.6243 - val_loss: 0.5521 - val_accuracy: 0.7316 - val_recall: 0.3418\n",
            "Epoch 222/300\n",
            "34/34 [==============================] - 0s 3ms/step - loss: 0.4760 - accuracy: 0.7579 - recall: 0.5608 - val_loss: 0.5425 - val_accuracy: 0.7316 - val_recall: 0.5190\n",
            "Epoch 223/300\n",
            "34/34 [==============================] - 0s 3ms/step - loss: 0.4764 - accuracy: 0.7561 - recall: 0.5979 - val_loss: 0.5548 - val_accuracy: 0.7316 - val_recall: 0.3544\n",
            "Epoch 224/300\n",
            "34/34 [==============================] - 0s 3ms/step - loss: 0.4806 - accuracy: 0.7635 - recall: 0.5661 - val_loss: 0.5718 - val_accuracy: 0.7489 - val_recall: 0.4177\n",
            "Epoch 225/300\n",
            "34/34 [==============================] - 0s 3ms/step - loss: 0.4756 - accuracy: 0.7747 - recall: 0.5820 - val_loss: 0.5432 - val_accuracy: 0.7359 - val_recall: 0.4684\n",
            "Epoch 226/300\n",
            "34/34 [==============================] - 0s 3ms/step - loss: 0.4752 - accuracy: 0.7728 - recall: 0.5767 - val_loss: 0.5458 - val_accuracy: 0.7316 - val_recall: 0.4684\n",
            "Epoch 227/300\n",
            "34/34 [==============================] - 0s 3ms/step - loss: 0.4729 - accuracy: 0.7654 - recall: 0.6085 - val_loss: 0.5430 - val_accuracy: 0.7359 - val_recall: 0.5063\n",
            "Epoch 228/300\n",
            "34/34 [==============================] - 0s 3ms/step - loss: 0.4674 - accuracy: 0.7989 - recall: 0.6402 - val_loss: 0.5564 - val_accuracy: 0.7316 - val_recall: 0.4051\n",
            "Epoch 229/300\n",
            "34/34 [==============================] - 0s 3ms/step - loss: 0.4691 - accuracy: 0.7821 - recall: 0.5873 - val_loss: 0.5608 - val_accuracy: 0.6797 - val_recall: 0.5823\n",
            "Epoch 230/300\n",
            "34/34 [==============================] - 0s 3ms/step - loss: 0.4834 - accuracy: 0.7709 - recall: 0.5926 - val_loss: 0.5640 - val_accuracy: 0.7532 - val_recall: 0.4684\n",
            "Epoch 231/300\n",
            "34/34 [==============================] - 0s 2ms/step - loss: 0.5009 - accuracy: 0.7821 - recall: 0.5873 - val_loss: 0.5631 - val_accuracy: 0.7186 - val_recall: 0.3291\n",
            "Epoch 232/300\n",
            "34/34 [==============================] - 0s 3ms/step - loss: 0.4774 - accuracy: 0.7765 - recall: 0.6032 - val_loss: 0.5610 - val_accuracy: 0.7316 - val_recall: 0.3418\n",
            "Epoch 233/300\n",
            "34/34 [==============================] - 0s 3ms/step - loss: 0.4848 - accuracy: 0.7654 - recall: 0.4974 - val_loss: 0.5478 - val_accuracy: 0.7403 - val_recall: 0.5443\n",
            "Epoch 234/300\n",
            "34/34 [==============================] - 0s 3ms/step - loss: 0.4808 - accuracy: 0.7765 - recall: 0.6243 - val_loss: 0.5431 - val_accuracy: 0.7359 - val_recall: 0.4430\n",
            "Epoch 235/300\n",
            "34/34 [==============================] - 0s 3ms/step - loss: 0.4740 - accuracy: 0.7672 - recall: 0.5767 - val_loss: 0.5455 - val_accuracy: 0.7316 - val_recall: 0.4051\n",
            "Epoch 236/300\n",
            "34/34 [==============================] - 0s 2ms/step - loss: 0.4620 - accuracy: 0.7933 - recall: 0.6243 - val_loss: 0.5532 - val_accuracy: 0.7186 - val_recall: 0.6329\n",
            "Epoch 237/300\n",
            "34/34 [==============================] - 0s 3ms/step - loss: 0.4739 - accuracy: 0.7747 - recall: 0.6138 - val_loss: 0.5415 - val_accuracy: 0.7489 - val_recall: 0.5316\n",
            "Epoch 238/300\n",
            "34/34 [==============================] - 0s 3ms/step - loss: 0.4680 - accuracy: 0.7784 - recall: 0.6032 - val_loss: 0.5420 - val_accuracy: 0.7359 - val_recall: 0.5190\n",
            "Epoch 239/300\n",
            "34/34 [==============================] - 0s 4ms/step - loss: 0.4727 - accuracy: 0.7747 - recall: 0.6032 - val_loss: 0.5567 - val_accuracy: 0.7359 - val_recall: 0.4937\n",
            "Epoch 240/300\n",
            "34/34 [==============================] - 0s 3ms/step - loss: 0.4809 - accuracy: 0.7765 - recall: 0.5926 - val_loss: 0.5504 - val_accuracy: 0.7316 - val_recall: 0.3797\n",
            "Epoch 241/300\n",
            "34/34 [==============================] - 0s 3ms/step - loss: 0.4693 - accuracy: 0.7784 - recall: 0.6138 - val_loss: 0.5520 - val_accuracy: 0.7446 - val_recall: 0.4937\n",
            "Epoch 242/300\n",
            "34/34 [==============================] - 0s 3ms/step - loss: 0.4781 - accuracy: 0.7672 - recall: 0.5608 - val_loss: 0.5507 - val_accuracy: 0.7403 - val_recall: 0.4684\n",
            "Epoch 243/300\n",
            "34/34 [==============================] - 0s 3ms/step - loss: 0.4831 - accuracy: 0.7635 - recall: 0.5767 - val_loss: 0.5444 - val_accuracy: 0.7273 - val_recall: 0.3544\n",
            "Epoch 244/300\n",
            "34/34 [==============================] - 0s 3ms/step - loss: 0.4840 - accuracy: 0.7561 - recall: 0.5397 - val_loss: 0.5443 - val_accuracy: 0.7229 - val_recall: 0.3671\n",
            "Epoch 245/300\n",
            "34/34 [==============================] - 0s 3ms/step - loss: 0.4791 - accuracy: 0.7691 - recall: 0.5979 - val_loss: 0.5501 - val_accuracy: 0.7489 - val_recall: 0.4937\n",
            "Epoch 246/300\n",
            "34/34 [==============================] - 0s 2ms/step - loss: 0.4627 - accuracy: 0.7803 - recall: 0.6138 - val_loss: 0.5562 - val_accuracy: 0.7100 - val_recall: 0.3291\n",
            "Epoch 247/300\n",
            "34/34 [==============================] - 0s 3ms/step - loss: 0.4787 - accuracy: 0.7672 - recall: 0.5767 - val_loss: 0.5447 - val_accuracy: 0.7273 - val_recall: 0.3544\n",
            "Epoch 248/300\n",
            "34/34 [==============================] - 0s 3ms/step - loss: 0.4803 - accuracy: 0.7598 - recall: 0.5238 - val_loss: 0.5550 - val_accuracy: 0.7489 - val_recall: 0.3924\n",
            "Epoch 249/300\n",
            "34/34 [==============================] - 0s 3ms/step - loss: 0.4736 - accuracy: 0.7858 - recall: 0.6296 - val_loss: 0.5462 - val_accuracy: 0.7359 - val_recall: 0.4304\n",
            "Epoch 250/300\n",
            "34/34 [==============================] - 0s 3ms/step - loss: 0.4655 - accuracy: 0.7765 - recall: 0.5820 - val_loss: 0.5586 - val_accuracy: 0.7273 - val_recall: 0.4937\n",
            "Epoch 251/300\n",
            "34/34 [==============================] - 0s 3ms/step - loss: 0.4794 - accuracy: 0.7598 - recall: 0.5714 - val_loss: 0.5724 - val_accuracy: 0.7100 - val_recall: 0.5190\n",
            "Epoch 252/300\n",
            "34/34 [==============================] - 0s 3ms/step - loss: 0.4762 - accuracy: 0.7803 - recall: 0.5714 - val_loss: 0.5680 - val_accuracy: 0.7013 - val_recall: 0.6456\n",
            "Epoch 253/300\n",
            "34/34 [==============================] - 0s 3ms/step - loss: 0.4721 - accuracy: 0.7765 - recall: 0.6561 - val_loss: 0.5502 - val_accuracy: 0.7359 - val_recall: 0.4051\n",
            "Epoch 254/300\n",
            "34/34 [==============================] - 0s 3ms/step - loss: 0.4717 - accuracy: 0.7765 - recall: 0.5608 - val_loss: 0.5417 - val_accuracy: 0.7403 - val_recall: 0.5190\n",
            "Epoch 255/300\n",
            "34/34 [==============================] - 0s 3ms/step - loss: 0.4699 - accuracy: 0.7840 - recall: 0.6349 - val_loss: 0.5822 - val_accuracy: 0.7403 - val_recall: 0.3165\n",
            "Epoch 256/300\n",
            "34/34 [==============================] - 0s 3ms/step - loss: 0.4714 - accuracy: 0.7691 - recall: 0.5661 - val_loss: 0.5652 - val_accuracy: 0.7403 - val_recall: 0.3797\n",
            "Epoch 257/300\n",
            "34/34 [==============================] - 0s 3ms/step - loss: 0.4656 - accuracy: 0.7765 - recall: 0.6032 - val_loss: 0.5464 - val_accuracy: 0.7316 - val_recall: 0.4430\n",
            "Epoch 258/300\n",
            "34/34 [==============================] - 0s 3ms/step - loss: 0.4725 - accuracy: 0.7728 - recall: 0.5926 - val_loss: 0.5649 - val_accuracy: 0.7056 - val_recall: 0.5190\n",
            "Epoch 259/300\n",
            "34/34 [==============================] - 0s 3ms/step - loss: 0.5051 - accuracy: 0.7542 - recall: 0.5767 - val_loss: 0.5837 - val_accuracy: 0.6970 - val_recall: 0.5949\n",
            "Epoch 260/300\n",
            "34/34 [==============================] - 0s 3ms/step - loss: 0.4620 - accuracy: 0.7803 - recall: 0.5979 - val_loss: 0.5390 - val_accuracy: 0.7143 - val_recall: 0.4051\n",
            "Epoch 261/300\n",
            "34/34 [==============================] - 0s 3ms/step - loss: 0.4673 - accuracy: 0.7635 - recall: 0.5556 - val_loss: 0.5381 - val_accuracy: 0.7316 - val_recall: 0.4937\n",
            "Epoch 262/300\n",
            "34/34 [==============================] - 0s 3ms/step - loss: 0.4668 - accuracy: 0.7784 - recall: 0.5820 - val_loss: 0.5497 - val_accuracy: 0.7359 - val_recall: 0.5823\n",
            "Epoch 263/300\n",
            "34/34 [==============================] - 0s 4ms/step - loss: 0.4665 - accuracy: 0.7803 - recall: 0.6138 - val_loss: 0.5529 - val_accuracy: 0.7229 - val_recall: 0.6076\n",
            "Epoch 264/300\n",
            "34/34 [==============================] - 0s 3ms/step - loss: 0.4683 - accuracy: 0.7858 - recall: 0.6349 - val_loss: 0.5468 - val_accuracy: 0.7316 - val_recall: 0.5570\n",
            "Epoch 265/300\n",
            "34/34 [==============================] - 0s 3ms/step - loss: 0.4775 - accuracy: 0.7728 - recall: 0.6032 - val_loss: 0.5460 - val_accuracy: 0.7316 - val_recall: 0.5570\n",
            "Epoch 266/300\n",
            "34/34 [==============================] - 0s 4ms/step - loss: 0.4851 - accuracy: 0.7728 - recall: 0.5661 - val_loss: 0.5575 - val_accuracy: 0.7403 - val_recall: 0.4937\n",
            "Epoch 267/300\n",
            "34/34 [==============================] - 0s 3ms/step - loss: 0.4767 - accuracy: 0.7747 - recall: 0.6085 - val_loss: 0.5546 - val_accuracy: 0.7316 - val_recall: 0.5570\n",
            "Epoch 268/300\n",
            "34/34 [==============================] - 0s 3ms/step - loss: 0.4652 - accuracy: 0.7877 - recall: 0.5926 - val_loss: 0.5592 - val_accuracy: 0.7186 - val_recall: 0.6076\n",
            "Epoch 269/300\n",
            "34/34 [==============================] - 0s 3ms/step - loss: 0.4611 - accuracy: 0.7933 - recall: 0.6138 - val_loss: 0.5759 - val_accuracy: 0.6926 - val_recall: 0.6076\n",
            "Epoch 270/300\n",
            "34/34 [==============================] - 0s 3ms/step - loss: 0.4588 - accuracy: 0.7896 - recall: 0.6508 - val_loss: 0.5593 - val_accuracy: 0.7316 - val_recall: 0.3418\n",
            "Epoch 271/300\n",
            "34/34 [==============================] - 0s 3ms/step - loss: 0.4679 - accuracy: 0.7821 - recall: 0.5661 - val_loss: 0.5763 - val_accuracy: 0.7013 - val_recall: 0.6962\n",
            "Epoch 272/300\n",
            "34/34 [==============================] - 0s 3ms/step - loss: 0.4780 - accuracy: 0.7765 - recall: 0.6085 - val_loss: 0.5609 - val_accuracy: 0.7143 - val_recall: 0.6203\n",
            "Epoch 273/300\n",
            "34/34 [==============================] - 0s 3ms/step - loss: 0.4626 - accuracy: 0.7821 - recall: 0.5291 - val_loss: 0.5736 - val_accuracy: 0.6926 - val_recall: 0.6835\n",
            "Epoch 274/300\n",
            "34/34 [==============================] - 0s 3ms/step - loss: 0.4788 - accuracy: 0.7654 - recall: 0.6190 - val_loss: 0.5566 - val_accuracy: 0.7143 - val_recall: 0.5823\n",
            "Epoch 275/300\n",
            "34/34 [==============================] - 0s 4ms/step - loss: 0.4629 - accuracy: 0.7858 - recall: 0.5979 - val_loss: 0.5537 - val_accuracy: 0.7316 - val_recall: 0.5063\n",
            "Epoch 276/300\n",
            "34/34 [==============================] - 0s 3ms/step - loss: 0.4650 - accuracy: 0.7784 - recall: 0.6085 - val_loss: 0.5586 - val_accuracy: 0.7143 - val_recall: 0.5190\n",
            "Epoch 277/300\n",
            "34/34 [==============================] - 0s 2ms/step - loss: 0.4745 - accuracy: 0.7840 - recall: 0.6455 - val_loss: 0.5466 - val_accuracy: 0.7186 - val_recall: 0.4177\n",
            "Epoch 278/300\n",
            "34/34 [==============================] - 0s 3ms/step - loss: 0.4692 - accuracy: 0.7728 - recall: 0.5979 - val_loss: 0.5537 - val_accuracy: 0.7100 - val_recall: 0.3544\n",
            "Epoch 279/300\n",
            "34/34 [==============================] - 0s 3ms/step - loss: 0.4698 - accuracy: 0.7709 - recall: 0.5714 - val_loss: 0.5456 - val_accuracy: 0.7186 - val_recall: 0.3797\n",
            "Epoch 280/300\n",
            "34/34 [==============================] - 0s 3ms/step - loss: 0.4690 - accuracy: 0.7709 - recall: 0.5873 - val_loss: 0.5620 - val_accuracy: 0.7100 - val_recall: 0.5316\n",
            "Epoch 281/300\n",
            "34/34 [==============================] - 0s 2ms/step - loss: 0.4772 - accuracy: 0.7765 - recall: 0.5926 - val_loss: 0.5728 - val_accuracy: 0.7532 - val_recall: 0.4557\n",
            "Epoch 282/300\n",
            "34/34 [==============================] - 0s 3ms/step - loss: 0.4658 - accuracy: 0.7803 - recall: 0.6296 - val_loss: 0.5753 - val_accuracy: 0.7403 - val_recall: 0.4430\n",
            "Epoch 283/300\n",
            "34/34 [==============================] - 0s 3ms/step - loss: 0.4621 - accuracy: 0.7840 - recall: 0.5873 - val_loss: 0.5454 - val_accuracy: 0.7446 - val_recall: 0.5823\n",
            "Epoch 284/300\n",
            "34/34 [==============================] - 0s 3ms/step - loss: 0.4571 - accuracy: 0.7989 - recall: 0.6296 - val_loss: 0.5581 - val_accuracy: 0.7186 - val_recall: 0.5949\n",
            "Epoch 285/300\n",
            "34/34 [==============================] - 0s 3ms/step - loss: 0.4605 - accuracy: 0.7691 - recall: 0.5820 - val_loss: 0.5626 - val_accuracy: 0.7013 - val_recall: 0.5316\n",
            "Epoch 286/300\n",
            "34/34 [==============================] - 0s 3ms/step - loss: 0.4696 - accuracy: 0.7821 - recall: 0.6243 - val_loss: 0.5597 - val_accuracy: 0.7403 - val_recall: 0.4810\n",
            "Epoch 287/300\n",
            "34/34 [==============================] - 0s 3ms/step - loss: 0.4594 - accuracy: 0.7765 - recall: 0.5926 - val_loss: 0.5500 - val_accuracy: 0.7446 - val_recall: 0.4810\n",
            "Epoch 288/300\n",
            "34/34 [==============================] - 0s 3ms/step - loss: 0.4634 - accuracy: 0.7877 - recall: 0.6032 - val_loss: 0.5758 - val_accuracy: 0.7359 - val_recall: 0.3671\n",
            "Epoch 289/300\n",
            "34/34 [==============================] - 0s 3ms/step - loss: 0.4681 - accuracy: 0.7635 - recall: 0.5450 - val_loss: 0.5595 - val_accuracy: 0.7273 - val_recall: 0.5190\n",
            "Epoch 290/300\n",
            "34/34 [==============================] - 0s 3ms/step - loss: 0.4710 - accuracy: 0.7840 - recall: 0.6243 - val_loss: 0.5471 - val_accuracy: 0.7316 - val_recall: 0.4304\n",
            "Epoch 291/300\n",
            "34/34 [==============================] - 0s 3ms/step - loss: 0.4577 - accuracy: 0.7914 - recall: 0.5873 - val_loss: 0.5588 - val_accuracy: 0.7143 - val_recall: 0.5316\n",
            "Epoch 292/300\n",
            "34/34 [==============================] - 0s 3ms/step - loss: 0.4615 - accuracy: 0.7765 - recall: 0.6190 - val_loss: 0.5560 - val_accuracy: 0.7403 - val_recall: 0.5316\n",
            "Epoch 293/300\n",
            "34/34 [==============================] - 0s 3ms/step - loss: 0.4746 - accuracy: 0.7784 - recall: 0.6190 - val_loss: 0.5514 - val_accuracy: 0.7186 - val_recall: 0.3544\n",
            "Epoch 294/300\n",
            "34/34 [==============================] - 0s 3ms/step - loss: 0.4677 - accuracy: 0.7821 - recall: 0.6032 - val_loss: 0.5560 - val_accuracy: 0.7273 - val_recall: 0.3544\n",
            "Epoch 295/300\n",
            "34/34 [==============================] - 0s 3ms/step - loss: 0.4658 - accuracy: 0.7952 - recall: 0.6402 - val_loss: 0.5693 - val_accuracy: 0.7316 - val_recall: 0.5063\n",
            "Epoch 296/300\n",
            "34/34 [==============================] - 0s 3ms/step - loss: 0.4654 - accuracy: 0.7728 - recall: 0.5661 - val_loss: 0.5479 - val_accuracy: 0.7446 - val_recall: 0.4684\n",
            "Epoch 297/300\n",
            "34/34 [==============================] - 0s 3ms/step - loss: 0.4671 - accuracy: 0.7840 - recall: 0.6085 - val_loss: 0.5585 - val_accuracy: 0.7316 - val_recall: 0.4177\n",
            "Epoch 298/300\n",
            "34/34 [==============================] - 0s 3ms/step - loss: 0.4642 - accuracy: 0.7877 - recall: 0.6190 - val_loss: 0.5539 - val_accuracy: 0.7229 - val_recall: 0.3924\n",
            "Epoch 299/300\n",
            "34/34 [==============================] - 0s 3ms/step - loss: 0.4729 - accuracy: 0.7765 - recall: 0.5979 - val_loss: 0.5812 - val_accuracy: 0.6926 - val_recall: 0.6835\n",
            "Epoch 300/300\n",
            "34/34 [==============================] - 0s 2ms/step - loss: 0.4581 - accuracy: 0.7858 - recall: 0.6032 - val_loss: 0.5761 - val_accuracy: 0.7056 - val_recall: 0.5949\n"
          ]
        }
      ]
    },
    {
      "cell_type": "code",
      "metadata": {
        "id": "hKmCZAYSrpTX",
        "colab": {
          "base_uri": "https://localhost:8080/"
        },
        "outputId": "5ffae291-9d1e-45ce-925d-fa3fa93e3edf"
      },
      "source": [
        "history.history.keys()"
      ],
      "execution_count": 7,
      "outputs": [
        {
          "output_type": "execute_result",
          "data": {
            "text/plain": [
              "dict_keys(['loss', 'accuracy', 'recall', 'val_loss', 'val_accuracy', 'val_recall'])"
            ]
          },
          "metadata": {},
          "execution_count": 7
        }
      ]
    },
    {
      "cell_type": "code",
      "metadata": {
        "id": "tXzLgNMYs0OM",
        "colab": {
          "base_uri": "https://localhost:8080/"
        },
        "outputId": "8ca44fd6-7787-44d5-a4d2-af0179018f00"
      },
      "source": [
        "# Problema de optimización\n",
        "loss, accuracy, recall = model.evaluate(X_train, y_train)\n",
        "print('Recall: %.3f' % recall)\n",
        "print('Accuracy: %.3f' % accuracy)\n",
        "print('Loss: %.3f'% loss)"
      ],
      "execution_count": 8,
      "outputs": [
        {
          "output_type": "stream",
          "name": "stdout",
          "text": [
            "17/17 [==============================] - 0s 1ms/step - loss: 0.4642 - accuracy: 0.7709 - recall: 0.7090\n",
            "Recall: 0.709\n",
            "Accuracy: 0.771\n",
            "Loss: 0.464\n"
          ]
        }
      ]
    },
    {
      "cell_type": "code",
      "metadata": {
        "colab": {
          "base_uri": "https://localhost:8080/"
        },
        "id": "0yedNc9NTKGF",
        "outputId": "1d6761bc-f347-48a5-863e-0bef14c45dad"
      },
      "source": [
        "# Problema de optimización\n",
        "val_loss, val_accuracy, val_recall = model.evaluate(X_test, y_test)\n",
        "print('Val Recall: %.3f' % recall)\n",
        "print('Val Accuracy: %.3f' % accuracy)\n",
        "print('val Loss: %.3f'% loss)"
      ],
      "execution_count": 9,
      "outputs": [
        {
          "output_type": "stream",
          "name": "stdout",
          "text": [
            "8/8 [==============================] - 0s 2ms/step - loss: 0.5761 - accuracy: 0.7056 - recall: 0.5949\n",
            "Val Recall: 0.709\n",
            "Val Accuracy: 0.771\n",
            "val Loss: 0.464\n"
          ]
        }
      ]
    },
    {
      "cell_type": "code",
      "metadata": {
        "colab": {
          "base_uri": "https://localhost:8080/"
        },
        "id": "jShpfMcBT2co",
        "outputId": "a07c4c7d-0094-4a73-85d7-d920c87b7329"
      },
      "source": [
        "#Keys\n",
        "print(history.history.keys())"
      ],
      "execution_count": 10,
      "outputs": [
        {
          "output_type": "stream",
          "name": "stdout",
          "text": [
            "dict_keys(['loss', 'accuracy', 'recall', 'val_loss', 'val_accuracy', 'val_recall'])\n"
          ]
        }
      ]
    },
    {
      "cell_type": "markdown",
      "metadata": {
        "id": "flVm0xVVT5hM"
      },
      "source": [
        "# Recall and Loss"
      ]
    },
    {
      "cell_type": "code",
      "metadata": {
        "id": "VYOrvG5x1EY8",
        "colab": {
          "base_uri": "https://localhost:8080/",
          "height": 314
        },
        "outputId": "401b068f-9aca-476c-bf18-c7a1e7da43e1"
      },
      "source": [
        "fig, ax = plt.subplots(figsize = (8,4))\n",
        "fig.suptitle('Recall vs Val_Recall', fontsize = 15)\n",
        "ax.plot(history.history['loss'])\n",
        "ax.plot(history.history['val_loss'])\n",
        "ax.set_xlabel('Epoch', size = 12)\n",
        "ax.set_ylabel('Loss', size = 12)\n",
        "ax.legend(['Train', 'Test'], loc = 'upper left', fontsize = 12)\n",
        "ax.tick_params(labelsize = 12)"
      ],
      "execution_count": 11,
      "outputs": [
        {
          "output_type": "display_data",
          "data": {
            "image/png": "[encoded data removed]",
            "text/plain": [
              "<Figure size 576x288 with 1 Axes>"
            ]
          },
          "metadata": {
            "needs_background": "light"
          }
        }
      ]
    },
    {
      "cell_type": "markdown",
      "metadata": {
        "id": "tmuUKwb9VXFF"
      },
      "source": [
        "- La perdida de entrenamiento y validación converge, no se presenta overfitting\n",
        "- La perdada sigue siendo alta\n",
        "- Requiero mas datos"
      ]
    },
    {
      "cell_type": "markdown",
      "metadata": {
        "id": "V87-7yZOV4n7"
      },
      "source": [
        "# Predictions"
      ]
    },
    {
      "cell_type": "code",
      "metadata": {
        "id": "ruKjh0UY3Gz8",
        "colab": {
          "base_uri": "https://localhost:8080/"
        },
        "outputId": "2ede5ea4-904b-4869-8072-808c91725e75"
      },
      "source": [
        "y_pred = (model.predict(X_test)>0.5).astype('int32')\n",
        "y_pred = np.reshape(y_pred, y_pred.shape[0])\n",
        "y_pred"
      ],
      "execution_count": 12,
      "outputs": [
        {
          "output_type": "execute_result",
          "data": {
            "text/plain": [
              "array([1, 0, 1, 0, 0, 0, 0, 0, 0, 0, 1, 0, 1, 1, 0, 0, 0, 0, 1, 0, 0, 1,\n",
              "       1, 0, 0, 0, 0, 1, 0, 1, 0, 0, 0, 0, 1, 1, 0, 0, 0, 0, 0, 0, 0, 1,\n",
              "       0, 0, 1, 1, 0, 0, 1, 0, 0, 1, 0, 0, 1, 0, 0, 1, 0, 0, 1, 1, 1, 0,\n",
              "       0, 0, 1, 1, 0, 1, 0, 1, 0, 0, 1, 0, 1, 1, 0, 0, 1, 1, 0, 0, 1, 0,\n",
              "       0, 1, 1, 1, 1, 0, 1, 1, 0, 0, 0, 0, 0, 1, 0, 1, 0, 0, 0, 0, 0, 1,\n",
              "       1, 0, 1, 0, 1, 1, 1, 0, 1, 1, 0, 0, 1, 1, 0, 1, 0, 0, 0, 0, 0, 0,\n",
              "       0, 1, 0, 0, 1, 0, 1, 0, 0, 0, 0, 0, 1, 0, 1, 0, 1, 0, 0, 1, 0, 0,\n",
              "       0, 1, 1, 0, 0, 0, 0, 0, 0, 0, 1, 1, 0, 1, 0, 0, 1, 0, 0, 1, 0, 1,\n",
              "       0, 0, 1, 1, 0, 0, 0, 0, 1, 0, 1, 0, 1, 1, 1, 0, 0, 0, 0, 0, 1, 1,\n",
              "       1, 0, 0, 1, 0, 0, 0, 0, 0, 0, 0, 0, 0, 0, 0, 0, 1, 0, 0, 1, 1, 0,\n",
              "       1, 0, 0, 0, 1, 0, 0, 0, 1, 0, 0], dtype=int32)"
            ]
          },
          "metadata": {},
          "execution_count": 12
        }
      ]
    },
    {
      "cell_type": "code",
      "metadata": {
        "id": "ArPTOaK93nlP",
        "colab": {
          "base_uri": "https://localhost:8080/"
        },
        "outputId": "3d51a294-2005-4357-a02b-c766a449b8c0"
      },
      "source": [
        "for i in range(15):\n",
        "  print('%s --> %d (real %d)'% (X_test[i].tolist(), y_pred[i], y_test[i]))"
      ],
      "execution_count": 13,
      "outputs": [
        {
          "output_type": "stream",
          "name": "stdout",
          "text": [
            "[2.0, 146.0, 0.0, 0.0, 0.0, 27.5, 0.24, 28.0] --> 1 (real 1)\n",
            "[0.0, 117.0, 80.0, 31.0, 53.0, 45.2, 0.08900000000000001, 24.0] --> 0 (real 0)\n",
            "[2.0, 197.0, 70.0, 99.0, 0.0, 34.7, 0.575, 62.0] --> 1 (real 1)\n",
            "[5.0, 99.0, 74.0, 27.0, 0.0, 29.0, 0.203, 32.0] --> 0 (real 0)\n",
            "[3.0, 116.0, 74.0, 15.0, 105.0, 26.3, 0.107, 24.0] --> 0 (real 0)\n",
            "[0.0, 117.0, 66.0, 31.0, 188.0, 30.8, 0.493, 22.0] --> 0 (real 0)\n",
            "[3.0, 102.0, 74.0, 0.0, 0.0, 29.5, 0.121, 32.0] --> 0 (real 0)\n",
            "[1.0, 0.0, 74.0, 20.0, 23.0, 27.7, 0.299, 21.0] --> 0 (real 0)\n",
            "[3.0, 111.0, 58.0, 31.0, 44.0, 29.5, 0.43, 22.0] --> 0 (real 0)\n",
            "[4.0, 145.0, 82.0, 18.0, 0.0, 32.5, 0.235, 70.0] --> 0 (real 1)\n",
            "[0.0, 179.0, 50.0, 36.0, 159.0, 37.8, 0.455, 22.0] --> 1 (real 1)\n",
            "[2.0, 99.0, 52.0, 15.0, 94.0, 24.6, 0.637, 21.0] --> 0 (real 0)\n",
            "[6.0, 123.0, 72.0, 45.0, 230.0, 33.6, 0.733, 34.0] --> 1 (real 0)\n",
            "[1.0, 144.0, 82.0, 46.0, 180.0, 46.1, 0.335, 46.0] --> 1 (real 1)\n",
            "[1.0, 117.0, 88.0, 24.0, 145.0, 34.5, 0.40299999999999997, 40.0] --> 0 (real 1)\n"
          ]
        }
      ]
    },
    {
      "cell_type": "markdown",
      "metadata": {
        "id": "Hxu40v_L4XJp"
      },
      "source": [
        "# Sesgo predictivo"
      ]
    },
    {
      "cell_type": "code",
      "metadata": {
        "id": "k10TgPX44Z4S",
        "colab": {
          "base_uri": "https://localhost:8080/"
        },
        "outputId": "7066ae3f-4196-478b-f2b1-332f6fbdb75d"
      },
      "source": [
        "#sesgo predicción = promedio de predicciones - promedio de etiquetas (observaciones) en el conjunto de datos\n",
        "\n",
        "# Sick\n",
        "average_prediction = (len(y_pred[y_pred==1])/len(y_pred))\n",
        "average_label_target = (len(y_test[y_test==1]) / len(y_test)) \n",
        "sesgo_prediction = average_prediction - average_label_target\n",
        "sesgo_prediction"
      ],
      "execution_count": 14,
      "outputs": [
        {
          "output_type": "execute_result",
          "data": {
            "text/plain": [
              "0.017316017316017285"
            ]
          },
          "metadata": {},
          "execution_count": 14
        }
      ]
    },
    {
      "cell_type": "markdown",
      "metadata": {
        "id": "mBCFvZ50XsCw"
      },
      "source": [
        "# Confusion Matrix"
      ]
    },
    {
      "cell_type": "code",
      "metadata": {
        "id": "i_dXGUkD9owf",
        "colab": {
          "base_uri": "https://localhost:8080/"
        },
        "outputId": "5f381509-b194-4420-d53f-c04013e515c9"
      },
      "source": [
        "matrix = metrics.confusion_matrix(y_test, y_pred)\n",
        "matrix"
      ],
      "execution_count": 15,
      "outputs": [
        {
          "output_type": "execute_result",
          "data": {
            "text/plain": [
              "array([[116,  36],\n",
              "       [ 32,  47]])"
            ]
          },
          "metadata": {},
          "execution_count": 15
        }
      ]
    },
    {
      "cell_type": "code",
      "metadata": {
        "id": "pAEDnWtT91qE",
        "colab": {
          "base_uri": "https://localhost:8080/",
          "height": 339
        },
        "outputId": "d388028f-87e4-46ad-d7b3-a5f3392f1430"
      },
      "source": [
        "fig, ax = plt.subplots(nrows= 1, ncols=  1, figsize = (6,5))\n",
        "sns.heatmap(matrix, annot=True, ax = ax, cmap=plt.cm.Blues, fmt = 'g', annot_kws={'size': 13})\n",
        "ax.set_title('Matriz de confusión', size = 13)\n",
        "ax.xaxis.set_ticklabels(['sanos', 'enfermos'])\n",
        "ax.yaxis.set_ticklabels(['sanos', 'enfermos'])\n",
        "ax.tick_params(labelsize = 13)"
      ],
      "execution_count": 16,
      "outputs": [
        {
          "output_type": "display_data",
          "data": {
            "image/png": "[encoded data removed]",
            "text/plain": [
              "<Figure size 432x360 with 2 Axes>"
            ]
          },
          "metadata": {
            "needs_background": "light"
          }
        }
      ]
    },
    {
      "cell_type": "markdown",
      "metadata": {
        "id": "Hk-OIOgdDO8J"
      },
      "source": [
        "# Metrics"
      ]
    },
    {
      "cell_type": "code",
      "metadata": {
        "id": "mY5R4Q_s_ky8",
        "colab": {
          "base_uri": "https://localhost:8080/"
        },
        "outputId": "14f6ec51-3d09-4a6d-86a0-494deb32eb06"
      },
      "source": [
        "print(f'Accuracy  :   {metrics.accuracy_score(y_test, y_pred)}')\n",
        "print(f'Kappa     :   {metrics.cohen_kappa_score(y_test, y_pred)}')\n",
        "\n",
        "print(f'predicción enfermos')\n",
        "print(f'Prediction:   {metrics.precision_score(y_test, y_pred, [1], average=\"macro\")}')\n",
        "print(f'Recall    :   {metrics.recall_score(y_test, y_pred, [1], average=\"macro\")}')\n",
        "\n",
        "VN = matrix[0,0]\n",
        "FP = matrix[0,1]\n",
        "specificity = VN/(VN+FP)\n",
        "\n",
        "print(f'Specificity:   {specificity}')\n",
        "print(f'F1-score   :   {metrics.f1_score(y_test, y_pred, [1], average=\"macro\")}' )"
      ],
      "execution_count": 17,
      "outputs": [
        {
          "output_type": "stream",
          "name": "stdout",
          "text": [
            "Accuracy  :   0.7056277056277056\n",
            "Kappa     :   0.35379298996215236\n",
            "predicción enfermos\n",
            "Prediction:   0.5662650602409639\n",
            "Recall    :   0.5949367088607594\n",
            "Specificity:   0.7631578947368421\n",
            "F1-score   :   0.5802469135802469\n"
          ]
        }
      ]
    },
    {
      "cell_type": "markdown",
      "metadata": {
        "id": "1K2IfvuNYd3o"
      },
      "source": [
        "- El modelo es deficiente al momento de predecir los enfermos"
      ]
    },
    {
      "cell_type": "markdown",
      "metadata": {
        "id": "LbFCCInWYoPM"
      },
      "source": [
        "# Cross Validation"
      ]
    },
    {
      "cell_type": "code",
      "metadata": {
        "id": "cE0IXH28DRdz",
        "colab": {
          "base_uri": "https://localhost:8080/"
        },
        "outputId": "6b2561af-25ed-4d71-9eb5-a70ac0bc9f99"
      },
      "source": [
        "kfold = StratifiedKFold(n_splits=10, shuffle=True)\n",
        "\n",
        "cvscores_loss_train = []\n",
        "cvscores_loss_test = []\n",
        "cvscores_recall_train = []\n",
        "cvscores_recall_test = []\n",
        "\n",
        "for train, test in kfold.split(X,y):\n",
        "  model = Sequential()\n",
        "  model.add(Dense(12, input_dim = 8, activation='relu', kernel_initializer='glorot_uniform'))\n",
        "  model.add(Dense(8, activation='relu', kernel_initializer='glorot_uniform'))\n",
        "  model.add(Dense(1, activation='sigmoid', kernel_initializer='glorot_uniform'))\n",
        "  model.compile(loss = 'binary_crossentropy', optimizer = 'adam', metrics = ['accuracy', Recall()])\n",
        "  history = model.fit(X_train, y_train, validation_data=(X_test, y_test), epochs = 300, batch_size = 16, verbose = 0)\n",
        "  loss_train, _,recall_train = model.evaluate(X[train], y[train], verbose=0)\n",
        "  cvscores_loss_train.append(loss_train)\n",
        "  cvscores_recall_train.append(recall_train)\n",
        "  loss_test, _, recall_test = model.evaluate(X[test], y[test], verbose=0)\n",
        "  cvscores_loss_test.append(loss_test)\n",
        "  cvscores_recall_test.append(recall_test)\n",
        "  print('======================================================================')\n",
        "  print('loss: %.3f recall: %.3f%% val_loss: %.3f val_recall: %.3f%%' % (loss_train, recall_train*100, loss_test, loss_test*100))"
      ],
      "execution_count": 18,
      "outputs": [
        {
          "output_type": "stream",
          "name": "stdout",
          "text": [
            "======================================================================\n",
            "loss: 0.484 recall: 66.805% val_loss: 0.440 val_recall: 43.955%\n",
            "======================================================================\n",
            "loss: 0.459 recall: 56.017% val_loss: 0.539 val_recall: 53.875%\n",
            "======================================================================\n",
            "loss: 0.516 recall: 56.846% val_loss: 0.531 val_recall: 53.064%\n",
            "======================================================================\n",
            "loss: 0.460 recall: 64.315% val_loss: 0.509 val_recall: 50.944%\n",
            "======================================================================\n",
            "loss: 0.486 recall: 70.539% val_loss: 0.489 val_recall: 48.867%\n",
            "======================================================================\n",
            "loss: 0.491 recall: 70.124% val_loss: 0.457 val_recall: 45.660%\n",
            "======================================================================\n",
            "loss: 0.502 recall: 72.614% val_loss: 0.452 val_recall: 45.221%\n",
            "======================================================================\n",
            "loss: 0.476 recall: 63.900% val_loss: 0.435 val_recall: 43.503%\n",
            "======================================================================\n",
            "loss: 0.480 recall: 50.826% val_loss: 0.439 val_recall: 43.889%\n",
            "======================================================================\n",
            "loss: 0.498 recall: 64.050% val_loss: 0.559 val_recall: 55.929%\n"
          ]
        }
      ]
    },
    {
      "cell_type": "code",
      "metadata": {
        "colab": {
          "base_uri": "https://localhost:8080/"
        },
        "id": "VNPsoxkzYkds",
        "outputId": "804a5b49-d281-4ef1-9c5f-76c4e85abbb9"
      },
      "source": [
        "print('==============================Train Recall Total 10 pliegues==============================')\n",
        "print(\"%.2f%% (+/- %.2f%%)\" % (np.mean(cvscores_recall_train), np.std(cvscores_recall_train)))\n",
        "print('==============================Test Recall Total 10 pliegues==============================')\n",
        "print(\"%.2f%% (+/- %.2f%%)\" % (np.mean(cvscores_recall_test), np.std(cvscores_recall_test)))\n",
        "print('==============================Train Loss Total 10 pliegues==============================')\n",
        "print(\"%.2f%% (+/- %.2f%%)\" % (np.mean(cvscores_loss_train), np.std(cvscores_loss_train)))\n",
        "print('==============================Test Loss Total 10 pliegues==============================')\n",
        "print(\"%.2f%% (+/- %.2f%%)\" % (np.mean(cvscores_loss_test), np.std(cvscores_loss_test)))"
      ],
      "execution_count": 19,
      "outputs": [
        {
          "output_type": "stream",
          "name": "stdout",
          "text": [
            "==============================Train Recall Total 10 pliegues==============================\n",
            "0.64% (+/- 0.07%)\n",
            "==============================Test Recall Total 10 pliegues==============================\n",
            "0.67% (+/- 0.12%)\n",
            "==============================Train Loss Total 10 pliegues==============================\n",
            "0.49% (+/- 0.02%)\n",
            "==============================Test Loss Total 10 pliegues==============================\n",
            "0.48% (+/- 0.04%)\n"
          ]
        }
      ]
    },
    {
      "cell_type": "code",
      "metadata": {
        "colab": {
          "base_uri": "https://localhost:8080/",
          "height": 308
        },
        "id": "z4bp7vzlcvDH",
        "outputId": "2f4ad547-911a-421a-c61e-7a2d51367e9d"
      },
      "source": [
        "fig, ax = plt.subplots(figsize = (10,4))\n",
        "fig.suptitle(f'Recall k{len(cvscores_recall_train)} vs Val_Recaal k{len(cvscores_recall_test)}', fontsize = 10)\n",
        "ax.plot(cvscores_recall_train)\n",
        "ax.plot(cvscores_recall_test)\n",
        "ax.set_xlabel('Pliegues', size = 10)\n",
        "ax.set_ylabel('Recall', size = 10)\n",
        "ax.legend(['Train', 'Test'], loc='upper left', fontsize = 10)\n",
        "ax.tick_params(labelsize = 10)"
      ],
      "execution_count": 20,
      "outputs": [
        {
          "output_type": "display_data",
          "data": {
            "image/png": "[encoded data removed]",
            "text/plain": [
              "<Figure size 720x288 with 1 Axes>"
            ]
          },
          "metadata": {
            "needs_background": "light"
          }
        }
      ]
    },
    {
      "cell_type": "code",
      "metadata": {
        "colab": {
          "base_uri": "https://localhost:8080/",
          "height": 308
        },
        "id": "bGK-QUZMc2zE",
        "outputId": "9230b195-7735-405d-9e01-88a5e456706c"
      },
      "source": [
        "fig, ax = plt.subplots(figsize = (10,4))\n",
        "fig.suptitle(f'Loss k{len(cvscores_loss_train)} vs Val_Loss k{len(cvscores_loss_test)}', fontsize = 10)\n",
        "ax.plot(cvscores_loss_train)\n",
        "ax.plot(cvscores_loss_test)\n",
        "ax.set_xlabel('Pliegues', size = 10)\n",
        "ax.set_ylabel('Loss', size = 10)\n",
        "ax.legend(['Train', 'Test'], loc='upper left', fontsize = 10)\n",
        "ax.tick_params(labelsize = 10)"
      ],
      "execution_count": 21,
      "outputs": [
        {
          "output_type": "display_data",
          "data": {
            "image/png": "[encoded data removed]",
            "text/plain": [
              "<Figure size 720x288 with 1 Axes>"
            ]
          },
          "metadata": {
            "needs_background": "light"
          }
        }
      ]
    }
  ]
}