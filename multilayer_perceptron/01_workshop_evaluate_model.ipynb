{
  "nbformat": 4,
  "nbformat_minor": 0,
  "metadata": {
    "colab": {
      "name": "01_workshop_evaluate_model.ipynb",
      "provenance": [],
      "authorship_tag": "ABX9TyNa/EY2cHxDJljfAUQYMPu0",
      "include_colab_link": true
    },
    "kernelspec": {
      "name": "python3",
      "display_name": "Python 3"
    },
    "language_info": {
      "name": "python"
    },
    "accelerator": "GPU"
  },
  "cells": [
    {
      "cell_type": "markdown",
      "metadata": {
        "id": "view-in-github",
        "colab_type": "text"
      },
      "source": [
        "<a href=\"https://colab.research.google.com/github/Kaiziferr/Deep_Learning_Workshop/blob/master/multilayer_perceptron/01_workshop_evaluate_model.ipynb\" target=\"_parent\"><img src=\"https://colab.research.google.com/assets/colab-badge.svg\" alt=\"Open In Colab\"/></a>"
      ]
    },
    {
      "cell_type": "code",
      "metadata": {
        "id": "CeVBkIGnqe7j"
      },
      "source": [
        "import tensorflow\n",
        "import numpy as np\n",
        "import pandas as pd\n",
        "import matplotlib.pyplot as plt\n",
        "import seaborn as sns\n",
        "\n",
        "from keras.models import Sequential\n",
        "from keras.layers import Dense\n",
        "from tensorflow.keras.metrics import Recall\n",
        "\n",
        "from sklearn.model_selection import train_test_split, StratifiedKFold, cross_val_score\n",
        "from sklearn import metrics"
      ],
      "execution_count": 1,
      "outputs": []
    },
    {
      "cell_type": "code",
      "metadata": {
        "id": "RPbx00g9fsmC"
      },
      "source": [
        "data = pd.read_csv('https://raw.githubusercontent.com/Kaiziferr/Deep_Learning_Workshop/master/workshop_keras_sklearn_introduction/diabetes.csv')\n",
        "data_values = data.values"
      ],
      "execution_count": 2,
      "outputs": []
    },
    {
      "cell_type": "markdown",
      "metadata": {
        "id": "y6QMkBoEOZFA"
      },
      "source": [
        "# Data Split"
      ]
    },
    {
      "cell_type": "code",
      "metadata": {
        "id": "dGQRZTxXf9mf"
      },
      "source": [
        "X = data_values[:, 0:8]\n",
        "y = data_values[:,8]"
      ],
      "execution_count": 3,
      "outputs": []
    },
    {
      "cell_type": "markdown",
      "metadata": {
        "id": "416kuSI4On2O"
      },
      "source": [
        "# Holdount"
      ]
    },
    {
      "cell_type": "code",
      "metadata": {
        "id": "DKGh6jscgPdh"
      },
      "source": [
        "X_train, X_test, y_train, y_test = train_test_split(X, y, test_size = 0.3, random_state = None, shuffle = True)"
      ],
      "execution_count": 4,
      "outputs": []
    },
    {
      "cell_type": "code",
      "metadata": {
        "colab": {
          "base_uri": "https://localhost:8080/",
          "height": 324
        },
        "id": "9AiDjtn4P2NH",
        "outputId": "8cc3e35b-b929-48ce-ffd5-d787c5b16556"
      },
      "source": [
        "fig, ax = plt.subplots(figsize = (6,4))\n",
        "fig.suptitle('Count plot Diabetis', fontsize = 15)\n",
        "sns.countplot(x=data_values[:,8], ax = ax)\n",
        "ax.set_ylabel('Outcome', size = 12)\n",
        "_, data_target = np.unique(data_values[:,8], return_counts = True)\n",
        "len_data = data_values.shape[0]\n",
        "pe = '{0:.2f}'.format(data_target[1]/len_data)\n",
        "ps = '{0:.2f}'.format(data_target[0]/len_data)\n",
        "ax.set_xticklabels([f'health \\n {ps}', f'sick\\n{pe}'])"
      ],
      "execution_count": 5,
      "outputs": [
        {
          "output_type": "execute_result",
          "data": {
            "text/plain": [
              "[Text(0, 0, 'health \\n 0.65'), Text(0, 0, 'sick\\n0.35')]"
            ]
          },
          "metadata": {},
          "execution_count": 5
        },
        {
          "output_type": "display_data",
          "data": {
            "image/png": "[encoded data removed]",
            "text/plain": [
              "<Figure size 432x288 with 1 Axes>"
            ]
          },
          "metadata": {
            "needs_background": "light"
          }
        }
      ]
    },
    {
      "cell_type": "markdown",
      "metadata": {
        "id": "EQzzKJ1SRWYn"
      },
      "source": [
        "- Hay un desbalance"
      ]
    },
    {
      "cell_type": "code",
      "metadata": {
        "id": "fIm0S-V1qMxn"
      },
      "source": [
        "model = Sequential()\n",
        "model.add(Dense(12, input_dim = 8, activation='relu', kernel_initializer='glorot_uniform'))\n",
        "model.add(Dense(8, activation='relu', kernel_initializer='glorot_uniform'))\n",
        "model.add(Dense(8, activation='relu', kernel_initializer='glorot_uniform'))\n",
        "model.add(Dense(4, activation='relu', kernel_initializer='glorot_uniform'))\n",
        "model.add(Dense(1, activation='sigmoid', kernel_initializer='glorot_uniform'))\n",
        "model.compile(loss = 'binary_crossentropy', optimizer = 'adam', metrics = ['accuracy', Recall()])\n",
        "history = model.fit(X_train, y_train, validation_data=(X_test, y_test), epochs = 300, batch_size = 16, verbose = 0)"
      ],
      "execution_count": 6,
      "outputs": []
    },
    {
      "cell_type": "code",
      "metadata": {
        "id": "hKmCZAYSrpTX",
        "colab": {
          "base_uri": "https://localhost:8080/"
        },
        "outputId": "e0b8cdeb-70f0-4d75-dc5f-5d55368675c0"
      },
      "source": [
        "history.history.keys()"
      ],
      "execution_count": 7,
      "outputs": [
        {
          "output_type": "execute_result",
          "data": {
            "text/plain": [
              "dict_keys(['loss', 'accuracy', 'recall', 'val_loss', 'val_accuracy', 'val_recall'])"
            ]
          },
          "metadata": {},
          "execution_count": 7
        }
      ]
    },
    {
      "cell_type": "code",
      "metadata": {
        "id": "tXzLgNMYs0OM",
        "colab": {
          "base_uri": "https://localhost:8080/"
        },
        "outputId": "1e88107c-24b0-4118-d086-2ef7ddf3864c"
      },
      "source": [
        "# Problema de optimización\n",
        "loss, accuracy, recall = model.evaluate(X_train, y_train)\n",
        "print('Recall: %.3f' % recall)\n",
        "print('Accuracy: %.3f' % accuracy)\n",
        "print('Loss: %.3f'% loss)"
      ],
      "execution_count": 8,
      "outputs": [
        {
          "output_type": "stream",
          "name": "stdout",
          "text": [
            "17/17 [==============================] - 0s 5ms/step - loss: 0.4271 - accuracy: 0.8063 - recall: 0.7333\n",
            "Recall: 0.733\n",
            "Accuracy: 0.806\n",
            "Loss: 0.427\n"
          ]
        }
      ]
    },
    {
      "cell_type": "code",
      "metadata": {
        "colab": {
          "base_uri": "https://localhost:8080/"
        },
        "id": "0yedNc9NTKGF",
        "outputId": "ced32134-1b57-4cf3-a09c-f895b07165aa"
      },
      "source": [
        "# Problema de optimización\n",
        "val_loss, val_accuracy, val_recall = model.evaluate(X_test, y_test)\n",
        "print('Val Recall: %.3f' % recall)\n",
        "print('Val Accuracy: %.3f' % accuracy)\n",
        "print('val Loss: %.3f'% loss)"
      ],
      "execution_count": 9,
      "outputs": [
        {
          "output_type": "stream",
          "name": "stdout",
          "text": [
            "8/8 [==============================] - 0s 5ms/step - loss: 0.6969 - accuracy: 0.7143 - recall: 0.6023\n",
            "Val Recall: 0.733\n",
            "Val Accuracy: 0.806\n",
            "val Loss: 0.427\n"
          ]
        }
      ]
    },
    {
      "cell_type": "code",
      "metadata": {
        "colab": {
          "base_uri": "https://localhost:8080/"
        },
        "id": "jShpfMcBT2co",
        "outputId": "693898f5-2e3e-4f34-ca32-6ddc7dec9f4e"
      },
      "source": [
        "#Keys\n",
        "print(history.history.keys())"
      ],
      "execution_count": 10,
      "outputs": [
        {
          "output_type": "stream",
          "name": "stdout",
          "text": [
            "dict_keys(['loss', 'accuracy', 'recall', 'val_loss', 'val_accuracy', 'val_recall'])\n"
          ]
        }
      ]
    },
    {
      "cell_type": "markdown",
      "metadata": {
        "id": "flVm0xVVT5hM"
      },
      "source": [
        "# val loss and Loss"
      ]
    },
    {
      "cell_type": "code",
      "metadata": {
        "id": "VYOrvG5x1EY8",
        "colab": {
          "base_uri": "https://localhost:8080/",
          "height": 314
        },
        "outputId": "64c968f0-2e5e-42d2-9630-2b84a995a15d"
      },
      "source": [
        "fig, ax = plt.subplots(figsize = (8,4))\n",
        "fig.suptitle('Loss vs Val_Loss', fontsize = 15)\n",
        "ax.plot(history.history['loss'])\n",
        "ax.plot(history.history['val_loss'])\n",
        "ax.set_xlabel('Epoch', size = 12)\n",
        "ax.set_ylabel('Loss', size = 12)\n",
        "ax.legend(['Train', 'Test'], loc = 'upper left', fontsize = 12)\n",
        "ax.tick_params(labelsize = 12)"
      ],
      "execution_count": 11,
      "outputs": [
        {
          "output_type": "display_data",
          "data": {
            "image/png": "[encoded data removed]",
            "text/plain": [
              "<Figure size 576x288 with 1 Axes>"
            ]
          },
          "metadata": {
            "needs_background": "light"
          }
        }
      ]
    },
    {
      "cell_type": "markdown",
      "metadata": {
        "id": "tmuUKwb9VXFF"
      },
      "source": [
        "- La perdida de entrenamiento y validación converge, no se presenta overfitting\n",
        "- La perdada sigue siendo alta\n",
        "- Requiero mas datos"
      ]
    },
    {
      "cell_type": "markdown",
      "metadata": {
        "id": "V87-7yZOV4n7"
      },
      "source": [
        "# Predictions"
      ]
    },
    {
      "cell_type": "code",
      "metadata": {
        "id": "ruKjh0UY3Gz8",
        "colab": {
          "base_uri": "https://localhost:8080/"
        },
        "outputId": "2bd66ec2-a979-40b8-8d78-8bc72623b6f2"
      },
      "source": [
        "y_pred = (model.predict(X_test)>0.5).astype('int32')\n",
        "y_pred = np.reshape(y_pred, y_pred.shape[0])\n",
        "y_pred"
      ],
      "execution_count": 12,
      "outputs": [
        {
          "output_type": "execute_result",
          "data": {
            "text/plain": [
              "array([0, 0, 0, 0, 1, 1, 1, 0, 0, 0, 0, 0, 0, 0, 0, 1, 1, 0, 1, 1, 0, 0,\n",
              "       0, 0, 1, 0, 1, 1, 1, 0, 1, 1, 0, 0, 0, 0, 0, 0, 0, 0, 0, 1, 1, 1,\n",
              "       0, 0, 1, 0, 0, 0, 0, 0, 1, 1, 0, 0, 0, 0, 1, 1, 0, 1, 1, 0, 0, 0,\n",
              "       0, 0, 1, 0, 0, 1, 1, 0, 1, 0, 1, 0, 0, 0, 0, 0, 0, 0, 0, 0, 1, 0,\n",
              "       0, 0, 0, 1, 0, 1, 0, 0, 1, 0, 1, 1, 0, 0, 0, 1, 1, 0, 0, 1, 1, 1,\n",
              "       0, 0, 0, 1, 1, 0, 1, 1, 0, 0, 0, 0, 0, 0, 0, 1, 0, 0, 1, 0, 0, 0,\n",
              "       0, 0, 0, 1, 1, 0, 0, 1, 0, 0, 1, 0, 1, 0, 0, 0, 1, 0, 0, 0, 0, 0,\n",
              "       1, 1, 0, 1, 0, 0, 0, 1, 1, 1, 1, 0, 1, 0, 0, 1, 1, 0, 0, 1, 0, 1,\n",
              "       1, 0, 0, 0, 0, 0, 1, 0, 1, 0, 1, 0, 1, 0, 0, 0, 0, 1, 1, 0, 0, 1,\n",
              "       0, 1, 0, 0, 0, 0, 1, 1, 0, 0, 1, 0, 0, 1, 1, 0, 0, 0, 1, 1, 1, 1,\n",
              "       1, 0, 0, 0, 0, 0, 0, 1, 1, 0, 0], dtype=int32)"
            ]
          },
          "metadata": {},
          "execution_count": 12
        }
      ]
    },
    {
      "cell_type": "code",
      "metadata": {
        "id": "ArPTOaK93nlP",
        "colab": {
          "base_uri": "https://localhost:8080/"
        },
        "outputId": "85a8b32d-6865-4678-839d-3a425c520cab"
      },
      "source": [
        "for i in range(15):\n",
        "  print('%s --> %d (real %d)'% (X_test[i].tolist(), y_pred[i], y_test[i]))"
      ],
      "execution_count": 13,
      "outputs": [
        {
          "output_type": "stream",
          "name": "stdout",
          "text": [
            "[0.0, 151.0, 90.0, 46.0, 0.0, 42.1, 0.371, 21.0] --> 0 (real 1)\n",
            "[0.0, 124.0, 70.0, 20.0, 0.0, 27.4, 0.254, 36.0] --> 0 (real 1)\n",
            "[7.0, 133.0, 88.0, 15.0, 155.0, 32.4, 0.262, 37.0] --> 0 (real 0)\n",
            "[17.0, 163.0, 72.0, 41.0, 114.0, 40.9, 0.8170000000000001, 47.0] --> 0 (real 1)\n",
            "[10.0, 115.0, 98.0, 0.0, 0.0, 24.0, 1.022, 34.0] --> 1 (real 0)\n",
            "[4.0, 144.0, 58.0, 28.0, 140.0, 29.5, 0.287, 37.0] --> 1 (real 0)\n",
            "[6.0, 103.0, 72.0, 32.0, 190.0, 37.7, 0.324, 55.0] --> 1 (real 0)\n",
            "[2.0, 75.0, 64.0, 24.0, 55.0, 29.7, 0.37, 33.0] --> 0 (real 0)\n",
            "[2.0, 108.0, 62.0, 10.0, 278.0, 25.3, 0.8809999999999999, 22.0] --> 0 (real 0)\n",
            "[3.0, 173.0, 78.0, 39.0, 185.0, 33.8, 0.97, 31.0] --> 0 (real 1)\n",
            "[2.0, 96.0, 68.0, 13.0, 49.0, 21.1, 0.647, 26.0] --> 0 (real 0)\n",
            "[1.0, 147.0, 94.0, 41.0, 0.0, 49.3, 0.358, 27.0] --> 0 (real 1)\n",
            "[5.0, 158.0, 70.0, 0.0, 0.0, 29.8, 0.207, 63.0] --> 0 (real 0)\n",
            "[0.0, 152.0, 82.0, 39.0, 272.0, 41.5, 0.27, 27.0] --> 0 (real 0)\n",
            "[1.0, 106.0, 76.0, 0.0, 0.0, 37.5, 0.19699999999999998, 26.0] --> 0 (real 0)\n"
          ]
        }
      ]
    },
    {
      "cell_type": "markdown",
      "metadata": {
        "id": "Hxu40v_L4XJp"
      },
      "source": [
        "# Sesgo predictivo"
      ]
    },
    {
      "cell_type": "code",
      "metadata": {
        "id": "k10TgPX44Z4S",
        "colab": {
          "base_uri": "https://localhost:8080/"
        },
        "outputId": "f1a8f3c6-c523-4e59-f677-fc56db9c8018"
      },
      "source": [
        "#sesgo predicción = promedio de predicciones - promedio de etiquetas (observaciones) en el conjunto de datos\n",
        "\n",
        "# Sick\n",
        "average_prediction = (len(y_pred[y_pred==1])/len(y_pred))\n",
        "average_label_target = (len(y_test[y_test==1]) / len(y_test)) \n",
        "sesgo_prediction = average_prediction - average_label_target\n",
        "sesgo_prediction"
      ],
      "execution_count": 14,
      "outputs": [
        {
          "output_type": "execute_result",
          "data": {
            "text/plain": [
              "-0.017316017316017285"
            ]
          },
          "metadata": {},
          "execution_count": 14
        }
      ]
    },
    {
      "cell_type": "markdown",
      "metadata": {
        "id": "mBCFvZ50XsCw"
      },
      "source": [
        "# Confusion Matrix"
      ]
    },
    {
      "cell_type": "code",
      "metadata": {
        "id": "i_dXGUkD9owf",
        "colab": {
          "base_uri": "https://localhost:8080/"
        },
        "outputId": "37e10d20-3ea3-42d1-d4e6-b40d8ba0408f"
      },
      "source": [
        "matrix = metrics.confusion_matrix(y_test, y_pred)\n",
        "matrix"
      ],
      "execution_count": 15,
      "outputs": [
        {
          "output_type": "execute_result",
          "data": {
            "text/plain": [
              "array([[112,  31],\n",
              "       [ 35,  53]])"
            ]
          },
          "metadata": {},
          "execution_count": 15
        }
      ]
    },
    {
      "cell_type": "code",
      "metadata": {
        "id": "pAEDnWtT91qE",
        "colab": {
          "base_uri": "https://localhost:8080/",
          "height": 339
        },
        "outputId": "6e9f673e-a6b0-48e4-bcc4-ef32ab4c755e"
      },
      "source": [
        "fig, ax = plt.subplots(nrows= 1, ncols=  1, figsize = (6,5))\n",
        "sns.heatmap(matrix, annot=True, ax = ax, cmap=plt.cm.Blues, fmt = 'g', annot_kws={'size': 13})\n",
        "ax.set_title('Matriz de confusión', size = 13)\n",
        "ax.xaxis.set_ticklabels(['sanos', 'enfermos'])\n",
        "ax.yaxis.set_ticklabels(['sanos', 'enfermos'])\n",
        "ax.tick_params(labelsize = 13)"
      ],
      "execution_count": 16,
      "outputs": [
        {
          "output_type": "display_data",
          "data": {
            "image/png": "[encoded data removed]",
            "text/plain": [
              "<Figure size 432x360 with 2 Axes>"
            ]
          },
          "metadata": {
            "needs_background": "light"
          }
        }
      ]
    },
    {
      "cell_type": "markdown",
      "metadata": {
        "id": "Hk-OIOgdDO8J"
      },
      "source": [
        "# Metrics"
      ]
    },
    {
      "cell_type": "code",
      "metadata": {
        "id": "mY5R4Q_s_ky8",
        "colab": {
          "base_uri": "https://localhost:8080/"
        },
        "outputId": "5722a002-43c1-4a75-e38b-d5d58b41ac79"
      },
      "source": [
        "print(f'Accuracy  :   {metrics.accuracy_score(y_test, y_pred)}')\n",
        "print(f'Kappa     :   {metrics.cohen_kappa_score(y_test, y_pred)}')\n",
        "\n",
        "print(f'predicción enfermos')\n",
        "print(f'Prediction:   {metrics.precision_score(y_test, y_pred, [1], average=\"macro\")}')\n",
        "print(f'Recall    :   {metrics.recall_score(y_test, y_pred, [1], average=\"macro\")}')\n",
        "\n",
        "VN = matrix[0,0]\n",
        "FP = matrix[0,1]\n",
        "specificity = VN/(VN+FP)\n",
        "\n",
        "print(f'Specificity:   {specificity}')\n",
        "print(f'F1-score   :   {metrics.f1_score(y_test, y_pred, [1], average=\"macro\")}' )"
      ],
      "execution_count": 17,
      "outputs": [
        {
          "output_type": "stream",
          "name": "stdout",
          "text": [
            "Accuracy  :   0.7142857142857143\n",
            "Kappa     :   0.38888888888888884\n",
            "predicción enfermos\n",
            "Prediction:   0.6309523809523809\n",
            "Recall    :   0.6022727272727273\n",
            "Specificity:   0.7832167832167832\n",
            "F1-score   :   0.6162790697674418\n"
          ]
        }
      ]
    },
    {
      "cell_type": "markdown",
      "metadata": {
        "id": "1K2IfvuNYd3o"
      },
      "source": [
        "- El modelo es deficiente al momento de predecir los enfermos"
      ]
    },
    {
      "cell_type": "markdown",
      "metadata": {
        "id": "LbFCCInWYoPM"
      },
      "source": [
        "# Cross Validation"
      ]
    },
    {
      "cell_type": "code",
      "metadata": {
        "id": "cE0IXH28DRdz",
        "colab": {
          "base_uri": "https://localhost:8080/"
        },
        "outputId": "5a7b2650-3096-4db4-cd57-9e4448bdce7e"
      },
      "source": [
        "kfold = StratifiedKFold(n_splits=10, shuffle=True)\n",
        "\n",
        "cvscores_loss_train = []\n",
        "cvscores_loss_test = []\n",
        "cvscores_recall_train = []\n",
        "cvscores_recall_test = []\n",
        "\n",
        "for train, test in kfold.split(X,y):\n",
        "  model = Sequential()\n",
        "  model.add(Dense(12, input_dim = 8, activation='relu', kernel_initializer='glorot_uniform'))\n",
        "  model.add(Dense(8, activation='relu', kernel_initializer='glorot_uniform'))\n",
        "  model.add(Dense(1, activation='sigmoid', kernel_initializer='glorot_uniform'))\n",
        "  model.compile(loss = 'binary_crossentropy', optimizer = 'adam', metrics = ['accuracy', Recall()])\n",
        "  history = model.fit(X_train, y_train, validation_data=(X_test, y_test), epochs = 300, batch_size = 16, verbose = 0)\n",
        "  loss_train, _,recall_train = model.evaluate(X[train], y[train], verbose=0)\n",
        "  cvscores_loss_train.append(loss_train)\n",
        "  cvscores_recall_train.append(recall_train)\n",
        "  loss_test, _, recall_test = model.evaluate(X[test], y[test], verbose=0)\n",
        "  cvscores_loss_test.append(loss_test)\n",
        "  cvscores_recall_test.append(recall_test)\n",
        "  print('======================================================================')\n",
        "  print('loss: %.3f recall: %.3f%% val_loss: %.3f val_recall: %.3f%%' % (loss_train, recall_train*100, loss_test, loss_test*100))"
      ],
      "execution_count": 19,
      "outputs": [
        {
          "output_type": "stream",
          "name": "stdout",
          "text": [
            "======================================================================\n",
            "loss: 0.485 recall: 63.900% val_loss: 0.519 val_recall: 51.945%\n",
            "======================================================================\n",
            "loss: 0.492 recall: 51.037% val_loss: 0.493 val_recall: 49.266%\n",
            "======================================================================\n",
            "loss: 0.469 recall: 58.921% val_loss: 0.539 val_recall: 53.898%\n",
            "======================================================================\n",
            "loss: 0.485 recall: 68.050% val_loss: 0.442 val_recall: 44.241%\n",
            "======================================================================\n",
            "loss: 0.544 recall: 21.992% val_loss: 0.522 val_recall: 52.199%\n",
            "======================================================================\n",
            "loss: 0.471 recall: 71.784% val_loss: 0.390 val_recall: 39.034%\n",
            "======================================================================\n",
            "loss: 0.598 recall: 25.311% val_loss: 0.632 val_recall: 63.229%\n",
            "======================================================================\n",
            "loss: 0.543 recall: 19.087% val_loss: 0.598 val_recall: 59.849%\n",
            "======================================================================\n",
            "loss: 0.609 recall: 86.364% val_loss: 0.558 val_recall: 55.809%\n",
            "======================================================================\n",
            "loss: 0.470 recall: 52.066% val_loss: 0.479 val_recall: 47.880%\n"
          ]
        }
      ]
    },
    {
      "cell_type": "code",
      "metadata": {
        "id": "VNPsoxkzYkds",
        "outputId": "5ad2c346-9e95-4e33-a6d8-118e7f44ffcb",
        "colab": {
          "base_uri": "https://localhost:8080/"
        }
      },
      "source": [
        "print('==============================Train Recall Total 10 pliegues==============================')\n",
        "print(\"%.2f%% (+/- %.2f%%)\" % (np.mean(cvscores_recall_train), np.std(cvscores_recall_train)))\n",
        "print('==============================Test Recall Total 10 pliegues==============================')\n",
        "print(\"%.2f%% (+/- %.2f%%)\" % (np.mean(cvscores_recall_test), np.std(cvscores_recall_test)))\n",
        "print('==============================Train Loss Total 10 pliegues==============================')\n",
        "print(\"%.2f%% (+/- %.2f%%)\" % (np.mean(cvscores_loss_train), np.std(cvscores_loss_train)))\n",
        "print('==============================Test Loss Total 10 pliegues==============================')\n",
        "print(\"%.2f%% (+/- %.2f%%)\" % (np.mean(cvscores_loss_test), np.std(cvscores_loss_test)))"
      ],
      "execution_count": 20,
      "outputs": [
        {
          "output_type": "stream",
          "name": "stdout",
          "text": [
            "==============================Train Recall Total 10 pliegues==============================\n",
            "0.52% (+/- 0.22%)\n",
            "==============================Test Recall Total 10 pliegues==============================\n",
            "0.49% (+/- 0.27%)\n",
            "==============================Train Loss Total 10 pliegues==============================\n",
            "0.52% (+/- 0.05%)\n",
            "==============================Test Loss Total 10 pliegues==============================\n",
            "0.52% (+/- 0.07%)\n"
          ]
        }
      ]
    },
    {
      "cell_type": "code",
      "metadata": {
        "id": "z4bp7vzlcvDH",
        "outputId": "f5f4f4e0-10b2-4676-dbfe-f7ac3c6c879d",
        "colab": {
          "base_uri": "https://localhost:8080/",
          "height": 308
        }
      },
      "source": [
        "fig, ax = plt.subplots(figsize = (10,4))\n",
        "fig.suptitle(f'Recall k{len(cvscores_recall_train)} vs Val_Recaal k{len(cvscores_recall_test)}', fontsize = 10)\n",
        "ax.plot(cvscores_recall_train)\n",
        "ax.plot(cvscores_recall_test)\n",
        "ax.set_xlabel('Pliegues', size = 10)\n",
        "ax.set_ylabel('Recall', size = 10)\n",
        "ax.legend(['Train', 'Test'], loc='upper left', fontsize = 10)\n",
        "ax.tick_params(labelsize = 10)"
      ],
      "execution_count": 21,
      "outputs": [
        {
          "output_type": "display_data",
          "data": {
            "image/png": "[encoded data removed]",
            "text/plain": [
              "<Figure size 720x288 with 1 Axes>"
            ]
          },
          "metadata": {
            "needs_background": "light"
          }
        }
      ]
    },
    {
      "cell_type": "code",
      "metadata": {
        "id": "bGK-QUZMc2zE",
        "outputId": "f03e3f8d-42ef-4d74-99a4-da4403241bf5",
        "colab": {
          "base_uri": "https://localhost:8080/",
          "height": 308
        }
      },
      "source": [
        "fig, ax = plt.subplots(figsize = (10,4))\n",
        "fig.suptitle(f'Loss k{len(cvscores_loss_train)} vs Val_Loss k{len(cvscores_loss_test)}', fontsize = 10)\n",
        "ax.plot(cvscores_loss_train)\n",
        "ax.plot(cvscores_loss_test)\n",
        "ax.set_xlabel('Pliegues', size = 10)\n",
        "ax.set_ylabel('Loss', size = 10)\n",
        "ax.legend(['Train', 'Test'], loc='upper left', fontsize = 10)\n",
        "ax.tick_params(labelsize = 10)"
      ],
      "execution_count": 22,
      "outputs": [
        {
          "output_type": "display_data",
          "data": {
            "image/png": "[encoded data removed]",
            "text/plain": [
              "<Figure size 720x288 with 1 Axes>"
            ]
          },
          "metadata": {
            "needs_background": "light"
          }
        }
      ]
    }
  ]
}