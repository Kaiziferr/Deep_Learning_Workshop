{
  "nbformat": 4,
  "nbformat_minor": 0,
  "metadata": {
    "colab": {
      "name": "01_workshop_evaluate_model.ipynb",
      "provenance": [],
      "authorship_tag": "ABX9TyN0lcJaa1k9jhizPhJv814K",
      "include_colab_link": true
    },
    "kernelspec": {
      "name": "python3",
      "display_name": "Python 3"
    },
    "language_info": {
      "name": "python"
    }
  },
  "cells": [
    {
      "cell_type": "markdown",
      "metadata": {
        "id": "view-in-github",
        "colab_type": "text"
      },
      "source": [
        "<a href=\"https://colab.research.google.com/github/Kaiziferr/Deep_Learning_Workshop/blob/master/multilayer_perceptron/01_workshop_evaluate_model.ipynb\" target=\"_parent\"><img src=\"https://colab.research.google.com/assets/colab-badge.svg\" alt=\"Open In Colab\"/></a>"
      ]
    },
    {
      "cell_type": "code",
      "metadata": {
        "id": "CeVBkIGnqe7j"
      },
      "source": [
        "import tensorflow\n",
        "import numpy as np\n",
        "import pandas as pd\n",
        "import matplotlib.pyplot as plt\n",
        "import seaborn as sns\n",
        "\n",
        "from keras.models import Sequential\n",
        "from keras.layers import Dense\n",
        "from tensorflow.keras.metrics import Recall\n",
        "\n",
        "from sklearn.model_selection import train_test_split, StratifiedKFold, cross_val_score\n",
        "from sklearn import metrics"
      ],
      "execution_count": 1,
      "outputs": []
    },
    {
      "cell_type": "code",
      "metadata": {
        "id": "RPbx00g9fsmC"
      },
      "source": [
        "data = pd.read_csv('https://raw.githubusercontent.com/Kaiziferr/Deep_Learning_Workshop/master/workshop_keras_sklearn_introduction/diabetes.csv')\n",
        "data_values = data.values"
      ],
      "execution_count": 2,
      "outputs": []
    },
    {
      "cell_type": "markdown",
      "metadata": {
        "id": "y6QMkBoEOZFA"
      },
      "source": [
        "# Data Split"
      ]
    },
    {
      "cell_type": "code",
      "metadata": {
        "id": "dGQRZTxXf9mf"
      },
      "source": [
        "X = data_values[:, 0:8]\n",
        "y = data_values[:,8]"
      ],
      "execution_count": 3,
      "outputs": []
    },
    {
      "cell_type": "markdown",
      "metadata": {
        "id": "416kuSI4On2O"
      },
      "source": [
        "# Holdount"
      ]
    },
    {
      "cell_type": "code",
      "metadata": {
        "id": "DKGh6jscgPdh"
      },
      "source": [
        "X_train, X_test, y_train, y_test = train_test_split(X, y, test_size = 0.3, random_state = None, shuffle = True)"
      ],
      "execution_count": 4,
      "outputs": []
    },
    {
      "cell_type": "code",
      "metadata": {
        "colab": {
          "base_uri": "https://localhost:8080/",
          "height": 324
        },
        "id": "9AiDjtn4P2NH",
        "outputId": "51751bcf-c5fe-444b-8a4f-b6b999bf8577"
      },
      "source": [
        "fig, ax = plt.subplots(figsize = (6,4))\n",
        "fig.suptitle('Count plot Diabetis', fontsize = 15)\n",
        "sns.countplot(x=data_values[:,8], ax = ax)\n",
        "ax.set_ylabel('Outcome', size = 12)\n",
        "_, data_target = np.unique(data_values[:,8], return_counts = True)\n",
        "len_data = data_values.shape[0]\n",
        "pe = '{0:.2f}'.format(data_target[1]/len_data)\n",
        "ps = '{0:.2f}'.format(data_target[0]/len_data)\n",
        "ax.set_xticklabels([f'health \\n {ps}', f'sick\\n{pe}'])"
      ],
      "execution_count": 5,
      "outputs": [
        {
          "output_type": "execute_result",
          "data": {
            "text/plain": [
              "[Text(0, 0, 'health \\n 0.65'), Text(0, 0, 'sick\\n0.35')]"
            ]
          },
          "metadata": {},
          "execution_count": 5
        },
        {
          "output_type": "display_data",
          "data": {
            "image/png": "[encoded data removed]",
            "text/plain": [
              "<Figure size 432x288 with 1 Axes>"
            ]
          },
          "metadata": {
            "needs_background": "light"
          }
        }
      ]
    },
    {
      "cell_type": "markdown",
      "metadata": {
        "id": "EQzzKJ1SRWYn"
      },
      "source": [
        "- Hay un desbalance"
      ]
    },
    {
      "cell_type": "code",
      "metadata": {
        "id": "fIm0S-V1qMxn"
      },
      "source": [
        "model = Sequential()\n",
        "model.add(Dense(12, input_dim = 8, activation='relu', kernel_initializer='glorot_uniform'))\n",
        "model.add(Dense(8, activation='relu', kernel_initializer='glorot_uniform'))\n",
        "model.add(Dense(1, activation='sigmoid', kernel_initializer='glorot_uniform'))\n",
        "model.compile(loss = 'binary_crossentropy', optimizer = 'adam', metrics = ['accuracy', Recall()])\n",
        "history = model.fit(X_train, y_train, validation_data=(X_test, y_test), epochs = 300, batch_size = 16, verbose = 0)"
      ],
      "execution_count": 6,
      "outputs": []
    },
    {
      "cell_type": "code",
      "metadata": {
        "id": "hKmCZAYSrpTX",
        "colab": {
          "base_uri": "https://localhost:8080/"
        },
        "outputId": "1f12ac28-883d-4b1a-bc05-e97775d039a2"
      },
      "source": [
        "history.history.keys()"
      ],
      "execution_count": 7,
      "outputs": [
        {
          "output_type": "execute_result",
          "data": {
            "text/plain": [
              "dict_keys(['loss', 'accuracy', 'recall', 'val_loss', 'val_accuracy', 'val_recall'])"
            ]
          },
          "metadata": {},
          "execution_count": 7
        }
      ]
    },
    {
      "cell_type": "code",
      "metadata": {
        "id": "tXzLgNMYs0OM",
        "colab": {
          "base_uri": "https://localhost:8080/"
        },
        "outputId": "6fa6c59a-54eb-47e8-dee0-c0548726c348"
      },
      "source": [
        "# Problema de optimización\n",
        "loss, accuracy, recall = model.evaluate(X_train, y_train)\n",
        "print('Recall: %.3f' % recall)\n",
        "print('Accuracy: %.3f' % accuracy)\n",
        "print('Loss: %.3f'% loss)"
      ],
      "execution_count": 8,
      "outputs": [
        {
          "output_type": "stream",
          "name": "stdout",
          "text": [
            "17/17 [==============================] - 0s 1ms/step - loss: 0.5655 - accuracy: 0.6909 - recall: 0.1061\n",
            "Recall: 0.106\n",
            "Accuracy: 0.691\n",
            "Loss: 0.566\n"
          ]
        }
      ]
    },
    {
      "cell_type": "code",
      "metadata": {
        "colab": {
          "base_uri": "https://localhost:8080/"
        },
        "id": "0yedNc9NTKGF",
        "outputId": "ae603185-ae7c-4873-e3d6-f525c10fc6df"
      },
      "source": [
        "# Problema de optimización\n",
        "val_loss, val_accuracy, val_recall = model.evaluate(X_test, y_test)\n",
        "print('Val Recall: %.3f' % recall)\n",
        "print('Val Accuracy: %.3f' % accuracy)\n",
        "print('val Loss: %.3f'% loss)"
      ],
      "execution_count": 9,
      "outputs": [
        {
          "output_type": "stream",
          "name": "stdout",
          "text": [
            "8/8 [==============================] - 0s 2ms/step - loss: 0.6060 - accuracy: 0.6061 - recall: 0.0562\n",
            "Val Recall: 0.106\n",
            "Val Accuracy: 0.691\n",
            "val Loss: 0.566\n"
          ]
        }
      ]
    },
    {
      "cell_type": "code",
      "metadata": {
        "colab": {
          "base_uri": "https://localhost:8080/"
        },
        "id": "jShpfMcBT2co",
        "outputId": "888a4243-8d18-4344-8741-7f99a0fe56be"
      },
      "source": [
        "#Keys\n",
        "print(history.history.keys())"
      ],
      "execution_count": 10,
      "outputs": [
        {
          "output_type": "stream",
          "name": "stdout",
          "text": [
            "dict_keys(['loss', 'accuracy', 'recall', 'val_loss', 'val_accuracy', 'val_recall'])\n"
          ]
        }
      ]
    },
    {
      "cell_type": "markdown",
      "metadata": {
        "id": "flVm0xVVT5hM"
      },
      "source": [
        "# val loss and Loss"
      ]
    },
    {
      "cell_type": "code",
      "metadata": {
        "id": "VYOrvG5x1EY8",
        "colab": {
          "base_uri": "https://localhost:8080/",
          "height": 314
        },
        "outputId": "7755186b-c707-41b7-c3af-68ca2036b052"
      },
      "source": [
        "fig, ax = plt.subplots(figsize = (8,4))\n",
        "fig.suptitle('Loss vs Val_Loss', fontsize = 15)\n",
        "ax.plot(history.history['loss'])\n",
        "ax.plot(history.history['val_loss'])\n",
        "ax.set_xlabel('Epoch', size = 12)\n",
        "ax.set_ylabel('Loss', size = 12)\n",
        "ax.legend(['Train', 'Test'], loc = 'upper left', fontsize = 12)\n",
        "ax.tick_params(labelsize = 12)"
      ],
      "execution_count": 11,
      "outputs": [
        {
          "output_type": "display_data",
          "data": {
            "image/png": "[encoded data removed]",
            "text/plain": [
              "<Figure size 576x288 with 1 Axes>"
            ]
          },
          "metadata": {
            "needs_background": "light"
          }
        }
      ]
    },
    {
      "cell_type": "markdown",
      "metadata": {
        "id": "tmuUKwb9VXFF"
      },
      "source": [
        "- La perdida de entrenamiento y validación converge, no se presenta overfitting\n",
        "- La perdada sigue siendo alta\n",
        "- Requiero mas datos"
      ]
    },
    {
      "cell_type": "markdown",
      "metadata": {
        "id": "V87-7yZOV4n7"
      },
      "source": [
        "# Predictions"
      ]
    },
    {
      "cell_type": "code",
      "metadata": {
        "id": "ruKjh0UY3Gz8",
        "colab": {
          "base_uri": "https://localhost:8080/"
        },
        "outputId": "9807cfe3-ba82-41b7-b8e0-b6cf8e0c29db"
      },
      "source": [
        "y_pred = (model.predict(X_test)>0.5).astype('int32')\n",
        "y_pred = np.reshape(y_pred, y_pred.shape[0])\n",
        "y_pred"
      ],
      "execution_count": 12,
      "outputs": [
        {
          "output_type": "execute_result",
          "data": {
            "text/plain": [
              "array([0, 0, 0, 0, 0, 0, 0, 0, 0, 0, 0, 0, 1, 0, 0, 0, 0, 0, 0, 0, 0, 0,\n",
              "       0, 0, 0, 1, 0, 0, 1, 0, 0, 0, 0, 0, 0, 0, 0, 0, 0, 0, 0, 0, 0, 0,\n",
              "       0, 0, 0, 0, 0, 0, 0, 0, 0, 0, 0, 0, 0, 0, 0, 0, 0, 0, 0, 0, 0, 0,\n",
              "       0, 0, 0, 0, 0, 0, 0, 0, 0, 0, 0, 0, 0, 0, 0, 0, 0, 0, 0, 0, 0, 0,\n",
              "       0, 0, 0, 0, 0, 1, 0, 0, 0, 0, 0, 0, 0, 0, 0, 0, 0, 0, 0, 0, 0, 0,\n",
              "       0, 0, 0, 0, 0, 0, 0, 0, 0, 0, 0, 0, 0, 0, 0, 1, 0, 0, 1, 0, 0, 0,\n",
              "       0, 0, 0, 0, 0, 0, 0, 0, 0, 0, 0, 1, 0, 0, 0, 0, 0, 1, 0, 0, 0, 0,\n",
              "       0, 0, 0, 0, 0, 1, 0, 0, 0, 0, 0, 0, 1, 0, 0, 0, 0, 0, 0, 0, 0, 0,\n",
              "       0, 0, 0, 0, 0, 0, 0, 0, 0, 0, 0, 0, 0, 0, 0, 0, 0, 0, 0, 0, 0, 0,\n",
              "       0, 0, 0, 0, 0, 1, 0, 0, 0, 0, 0, 0, 0, 0, 0, 0, 0, 0, 0, 0, 0, 0,\n",
              "       0, 0, 0, 0, 0, 0, 0, 0, 0, 0, 1], dtype=int32)"
            ]
          },
          "metadata": {},
          "execution_count": 12
        }
      ]
    },
    {
      "cell_type": "code",
      "metadata": {
        "id": "ArPTOaK93nlP",
        "colab": {
          "base_uri": "https://localhost:8080/"
        },
        "outputId": "2c3e2e67-7a72-4dce-b194-4779594b1a53"
      },
      "source": [
        "for i in range(15):\n",
        "  print('%s --> %d (real %d)'% (X_test[i].tolist(), y_pred[i], y_test[i]))"
      ],
      "execution_count": 13,
      "outputs": [
        {
          "output_type": "stream",
          "name": "stdout",
          "text": [
            "[1.0, 88.0, 78.0, 29.0, 76.0, 32.0, 0.365, 29.0] --> 0 (real 0)\n",
            "[2.0, 112.0, 86.0, 42.0, 160.0, 38.4, 0.24600000000000002, 28.0] --> 0 (real 0)\n",
            "[5.0, 124.0, 74.0, 0.0, 0.0, 34.0, 0.22, 38.0] --> 0 (real 1)\n",
            "[2.0, 134.0, 70.0, 0.0, 0.0, 28.9, 0.542, 23.0] --> 0 (real 1)\n",
            "[2.0, 130.0, 96.0, 0.0, 0.0, 22.6, 0.268, 21.0] --> 0 (real 0)\n",
            "[5.0, 168.0, 64.0, 0.0, 0.0, 32.9, 0.135, 41.0] --> 0 (real 1)\n",
            "[1.0, 97.0, 66.0, 15.0, 140.0, 23.2, 0.48700000000000004, 22.0] --> 0 (real 0)\n",
            "[8.0, 110.0, 76.0, 0.0, 0.0, 27.8, 0.237, 58.0] --> 0 (real 0)\n",
            "[0.0, 123.0, 88.0, 37.0, 0.0, 35.2, 0.19699999999999998, 29.0] --> 0 (real 0)\n",
            "[0.0, 128.0, 68.0, 19.0, 180.0, 30.5, 1.391, 25.0] --> 0 (real 1)\n",
            "[0.0, 180.0, 78.0, 63.0, 14.0, 59.4, 2.42, 25.0] --> 0 (real 1)\n",
            "[2.0, 92.0, 52.0, 0.0, 0.0, 30.1, 0.141, 22.0] --> 0 (real 0)\n",
            "[4.0, 90.0, 0.0, 0.0, 0.0, 28.0, 0.61, 31.0] --> 1 (real 0)\n",
            "[2.0, 99.0, 52.0, 15.0, 94.0, 24.6, 0.637, 21.0] --> 0 (real 0)\n",
            "[0.0, 162.0, 76.0, 56.0, 100.0, 53.2, 0.759, 25.0] --> 0 (real 1)\n"
          ]
        }
      ]
    },
    {
      "cell_type": "markdown",
      "metadata": {
        "id": "Hxu40v_L4XJp"
      },
      "source": [
        "# Sesgo predictivo"
      ]
    },
    {
      "cell_type": "code",
      "metadata": {
        "id": "k10TgPX44Z4S",
        "colab": {
          "base_uri": "https://localhost:8080/"
        },
        "outputId": "9a174848-e591-4e48-ba81-c6e751c376f4"
      },
      "source": [
        "#sesgo predicción = promedio de predicciones - promedio de etiquetas (observaciones) en el conjunto de datos\n",
        "\n",
        "# Sick\n",
        "average_prediction = (len(y_pred[y_pred==1])/len(y_pred))\n",
        "average_label_target = (len(y_test[y_test==1]) / len(y_test)) \n",
        "sesgo_prediction = average_prediction - average_label_target\n",
        "sesgo_prediction"
      ],
      "execution_count": 14,
      "outputs": [
        {
          "output_type": "execute_result",
          "data": {
            "text/plain": [
              "-0.3333333333333333"
            ]
          },
          "metadata": {},
          "execution_count": 14
        }
      ]
    },
    {
      "cell_type": "markdown",
      "metadata": {
        "id": "mBCFvZ50XsCw"
      },
      "source": [
        "# Confusion Matrix"
      ]
    },
    {
      "cell_type": "code",
      "metadata": {
        "id": "i_dXGUkD9owf",
        "colab": {
          "base_uri": "https://localhost:8080/"
        },
        "outputId": "9136dad4-4416-413d-8b2a-71b6ceb5fa1c"
      },
      "source": [
        "matrix = metrics.confusion_matrix(y_test, y_pred)\n",
        "matrix"
      ],
      "execution_count": 15,
      "outputs": [
        {
          "output_type": "execute_result",
          "data": {
            "text/plain": [
              "array([[135,   7],\n",
              "       [ 84,   5]])"
            ]
          },
          "metadata": {},
          "execution_count": 15
        }
      ]
    },
    {
      "cell_type": "code",
      "metadata": {
        "id": "pAEDnWtT91qE",
        "colab": {
          "base_uri": "https://localhost:8080/",
          "height": 339
        },
        "outputId": "25d6ef66-a0de-4da5-cec4-60b798bd8464"
      },
      "source": [
        "fig, ax = plt.subplots(nrows= 1, ncols=  1, figsize = (6,5))\n",
        "sns.heatmap(matrix, annot=True, ax = ax, cmap=plt.cm.Blues, fmt = 'g', annot_kws={'size': 13})\n",
        "ax.set_title('Matriz de confusión', size = 13)\n",
        "ax.xaxis.set_ticklabels(['sanos', 'enfermos'])\n",
        "ax.yaxis.set_ticklabels(['sanos', 'enfermos'])\n",
        "ax.tick_params(labelsize = 13)"
      ],
      "execution_count": 16,
      "outputs": [
        {
          "output_type": "display_data",
          "data": {
            "image/png": "[encoded data removed]",
            "text/plain": [
              "<Figure size 432x360 with 2 Axes>"
            ]
          },
          "metadata": {
            "needs_background": "light"
          }
        }
      ]
    },
    {
      "cell_type": "markdown",
      "metadata": {
        "id": "Hk-OIOgdDO8J"
      },
      "source": [
        "# Metrics"
      ]
    },
    {
      "cell_type": "code",
      "metadata": {
        "id": "mY5R4Q_s_ky8",
        "colab": {
          "base_uri": "https://localhost:8080/"
        },
        "outputId": "c9f780cc-67bf-4f3c-ff86-41e44fa1fc42"
      },
      "source": [
        "print(f'Accuracy  :   {metrics.accuracy_score(y_test, y_pred)}')\n",
        "print(f'Kappa     :   {metrics.cohen_kappa_score(y_test, y_pred)}')\n",
        "\n",
        "print(f'predicción enfermos')\n",
        "print(f'Prediction:   {metrics.precision_score(y_test, y_pred, [1], average=\"macro\")}')\n",
        "print(f'Recall    :   {metrics.recall_score(y_test, y_pred, [1], average=\"macro\")}')\n",
        "\n",
        "VN = matrix[0,0]\n",
        "FP = matrix[0,1]\n",
        "specificity = VN/(VN+FP)\n",
        "\n",
        "print(f'Specificity:   {specificity}')\n",
        "print(f'F1-score   :   {metrics.f1_score(y_test, y_pred, [1], average=\"macro\")}' )"
      ],
      "execution_count": 17,
      "outputs": [
        {
          "output_type": "stream",
          "name": "stdout",
          "text": [
            "Accuracy  :   0.6060606060606061\n",
            "Kappa     :   0.008209483368718962\n",
            "predicción enfermos\n",
            "Prediction:   0.4166666666666667\n",
            "Recall    :   0.056179775280898875\n",
            "Specificity:   0.9507042253521126\n",
            "F1-score   :   0.09900990099009901\n"
          ]
        }
      ]
    },
    {
      "cell_type": "markdown",
      "metadata": {
        "id": "1K2IfvuNYd3o"
      },
      "source": [
        "- El modelo es deficiente al momento de predecir los enfermos"
      ]
    },
    {
      "cell_type": "markdown",
      "metadata": {
        "id": "LbFCCInWYoPM"
      },
      "source": [
        "# Cross Validation"
      ]
    },
    {
      "cell_type": "code",
      "metadata": {
        "id": "cE0IXH28DRdz",
        "colab": {
          "base_uri": "https://localhost:8080/"
        },
        "outputId": "9d7187f9-be40-4b72-848f-0139691074bd"
      },
      "source": [
        "kfold = StratifiedKFold(n_splits=10, shuffle=True)\n",
        "\n",
        "cvscores_loss_train = []\n",
        "cvscores_loss_test = []\n",
        "cvscores_recall_train = []\n",
        "cvscores_recall_test = []\n",
        "\n",
        "for train, test in kfold.split(X,y):\n",
        "  model = Sequential()\n",
        "  model.add(Dense(12, input_dim = 8, activation='relu', kernel_initializer='glorot_uniform'))\n",
        "  model.add(Dense(8, activation='relu', kernel_initializer='glorot_uniform'))\n",
        "  model.add(Dense(1, activation='sigmoid', kernel_initializer='glorot_uniform'))\n",
        "  model.compile(loss = 'binary_crossentropy', optimizer = 'adam', metrics = ['accuracy', Recall()])\n",
        "  history = model.fit(X_train, y_train, validation_data=(X_test, y_test), epochs = 300, batch_size = 16, verbose = 0)\n",
        "  loss_train, _,recall_train = model.evaluate(X[train], y[train], verbose=0)\n",
        "  cvscores_loss_train.append(loss_train)\n",
        "  cvscores_recall_train.append(recall_train)\n",
        "  loss_test, _, recall_test = model.evaluate(X[test], y[test], verbose=0)\n",
        "  cvscores_loss_test.append(loss_test)\n",
        "  cvscores_recall_test.append(recall_test)\n",
        "  print('======================================================================')\n",
        "  print('loss: %.3f recall: %.3f%% val_loss: %.3f val_recall: %.3f%%' % (loss_train, recall_train*100, loss_test, loss_test*100))"
      ],
      "execution_count": null,
      "outputs": [
        {
          "output_type": "stream",
          "name": "stdout",
          "text": [
            "======================================================================\n",
            "loss: 0.521 recall: 41.079% val_loss: 0.446 val_recall: 44.649%\n",
            "======================================================================\n",
            "loss: 0.617 recall: 20.332% val_loss: 0.550 val_recall: 54.993%\n",
            "======================================================================\n",
            "loss: 0.504 recall: 46.888% val_loss: 0.554 val_recall: 55.382%\n",
            "======================================================================\n",
            "loss: 0.494 recall: 60.166% val_loss: 0.469 val_recall: 46.893%\n"
          ]
        }
      ]
    },
    {
      "cell_type": "code",
      "metadata": {
        "id": "VNPsoxkzYkds"
      },
      "source": [
        "print('==============================Train Recall Total 10 pliegues==============================')\n",
        "print(\"%.2f%% (+/- %.2f%%)\" % (np.mean(cvscores_recall_train), np.std(cvscores_recall_train)))\n",
        "print('==============================Test Recall Total 10 pliegues==============================')\n",
        "print(\"%.2f%% (+/- %.2f%%)\" % (np.mean(cvscores_recall_test), np.std(cvscores_recall_test)))\n",
        "print('==============================Train Loss Total 10 pliegues==============================')\n",
        "print(\"%.2f%% (+/- %.2f%%)\" % (np.mean(cvscores_loss_train), np.std(cvscores_loss_train)))\n",
        "print('==============================Test Loss Total 10 pliegues==============================')\n",
        "print(\"%.2f%% (+/- %.2f%%)\" % (np.mean(cvscores_loss_test), np.std(cvscores_loss_test)))"
      ],
      "execution_count": null,
      "outputs": []
    },
    {
      "cell_type": "code",
      "metadata": {
        "id": "z4bp7vzlcvDH"
      },
      "source": [
        "fig, ax = plt.subplots(figsize = (10,4))\n",
        "fig.suptitle(f'Recall k{len(cvscores_recall_train)} vs Val_Recaal k{len(cvscores_recall_test)}', fontsize = 10)\n",
        "ax.plot(cvscores_recall_train)\n",
        "ax.plot(cvscores_recall_test)\n",
        "ax.set_xlabel('Pliegues', size = 10)\n",
        "ax.set_ylabel('Recall', size = 10)\n",
        "ax.legend(['Train', 'Test'], loc='upper left', fontsize = 10)\n",
        "ax.tick_params(labelsize = 10)"
      ],
      "execution_count": null,
      "outputs": []
    },
    {
      "cell_type": "code",
      "metadata": {
        "id": "bGK-QUZMc2zE"
      },
      "source": [
        "fig, ax = plt.subplots(figsize = (10,4))\n",
        "fig.suptitle(f'Loss k{len(cvscores_loss_train)} vs Val_Loss k{len(cvscores_loss_test)}', fontsize = 10)\n",
        "ax.plot(cvscores_loss_train)\n",
        "ax.plot(cvscores_loss_test)\n",
        "ax.set_xlabel('Pliegues', size = 10)\n",
        "ax.set_ylabel('Loss', size = 10)\n",
        "ax.legend(['Train', 'Test'], loc='upper left', fontsize = 10)\n",
        "ax.tick_params(labelsize = 10)"
      ],
      "execution_count": null,
      "outputs": []
    }
  ]
}