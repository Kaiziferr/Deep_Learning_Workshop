{
  "nbformat": 4,
  "nbformat_minor": 0,
  "metadata": {
    "colab": {
      "name": "01_workshop_evaluate_model.ipynb",
      "provenance": [],
      "authorship_tag": "ABX9TyNygnA/4H4q2KB6pZH3M3vX",
      "include_colab_link": true
    },
    "kernelspec": {
      "name": "python3",
      "display_name": "Python 3"
    },
    "language_info": {
      "name": "python"
    }
  },
  "cells": [
    {
      "cell_type": "markdown",
      "metadata": {
        "id": "view-in-github",
        "colab_type": "text"
      },
      "source": [
        "<a href=\"https://colab.research.google.com/github/Kaiziferr/Deep_Learning_Workshop/blob/master/multilayer_perceptron/01_workshop_evaluate_model.ipynb\" target=\"_parent\"><img src=\"https://colab.research.google.com/assets/colab-badge.svg\" alt=\"Open In Colab\"/></a>"
      ]
    },
    {
      "cell_type": "code",
      "metadata": {
        "id": "CeVBkIGnqe7j"
      },
      "source": [
        "import tensorflow\n",
        "import numpy as np\n",
        "import pandas as pd\n",
        "import matplotlib.pyplot as plt\n",
        "import seaborn as sns\n",
        "\n",
        "from keras.models import Sequential\n",
        "from keras.layers import Dense\n",
        "from tensorflow.keras.metrics import Recall\n",
        "\n",
        "from sklearn.model_selection import train_test_split, StratifiedKFold, cross_val_score\n",
        "from sklearn import metrics"
      ],
      "execution_count": 1,
      "outputs": []
    },
    {
      "cell_type": "code",
      "metadata": {
        "id": "RPbx00g9fsmC"
      },
      "source": [
        "data = pd.read_csv('https://raw.githubusercontent.com/Kaiziferr/Deep_Learning_Workshop/master/workshop_keras_sklearn_introduction/diabetes.csv')\n",
        "data_values = data.values"
      ],
      "execution_count": 2,
      "outputs": []
    },
    {
      "cell_type": "markdown",
      "metadata": {
        "id": "y6QMkBoEOZFA"
      },
      "source": [
        "# Data Split"
      ]
    },
    {
      "cell_type": "code",
      "metadata": {
        "id": "dGQRZTxXf9mf"
      },
      "source": [
        "X = data_values[:, 0:8]\n",
        "y = data_values[:,8]"
      ],
      "execution_count": 3,
      "outputs": []
    },
    {
      "cell_type": "markdown",
      "metadata": {
        "id": "416kuSI4On2O"
      },
      "source": [
        "# Holdount"
      ]
    },
    {
      "cell_type": "code",
      "metadata": {
        "id": "DKGh6jscgPdh"
      },
      "source": [
        "X_train, X_test, y_train, y_test = train_test_split(X, y, test_size = 0.3, random_state = None, shuffle = True)"
      ],
      "execution_count": 4,
      "outputs": []
    },
    {
      "cell_type": "code",
      "metadata": {
        "colab": {
          "base_uri": "https://localhost:8080/",
          "height": 322
        },
        "id": "9AiDjtn4P2NH",
        "outputId": "dc3fe584-cd43-4a0a-c611-5dfe357a72c0"
      },
      "source": [
        "fig, ax = plt.subplots(figsize = (6,4))\n",
        "fig.suptitle('Count plot Diabetis', fontsize = 15)\n",
        "sns.countplot(x=data_values[:,8], ax = ax)\n",
        "ax.set_ylabel('Outcome', size = 12)\n",
        "_, data_target = np.unique(data_values[:,8], return_counts = True)\n",
        "len_data = data_values.shape[0]\n",
        "pe = '{0:.2f}'.format(data_target[1]/len_data)\n",
        "ps = '{0:.2f}'.format(data_target[0]/len_data)\n",
        "ax.set_xticklabels([f'health \\n {ps}', f'sick\\n{pe}'])"
      ],
      "execution_count": 5,
      "outputs": [
        {
          "output_type": "execute_result",
          "data": {
            "text/plain": [
              "[Text(0, 0, 'health \\n 0.65'), Text(0, 0, 'sick\\n0.35')]"
            ]
          },
          "metadata": {},
          "execution_count": 5
        },
        {
          "output_type": "display_data",
          "data": {
            "image/png": "[encoded data removed]",
            "text/plain": [
              "<Figure size 432x288 with 1 Axes>"
            ]
          },
          "metadata": {
            "needs_background": "light"
          }
        }
      ]
    },
    {
      "cell_type": "markdown",
      "metadata": {
        "id": "EQzzKJ1SRWYn"
      },
      "source": [
        "- Hay un desbalance"
      ]
    },
    {
      "cell_type": "code",
      "metadata": {
        "id": "fIm0S-V1qMxn",
        "outputId": "94c8c3f9-4220-4b3b-e7b6-09a3cbd26683",
        "colab": {
          "base_uri": "https://localhost:8080/"
        }
      },
      "source": [
        "model = Sequential()\n",
        "model.add(Dense(12, input_dim = 8, activation='relu', kernel_initializer='glorot_uniform'))\n",
        "model.add(Dense(8, activation='relu', kernel_initializer='glorot_uniform'))\n",
        "model.add(Dense(1, activation='sigmoid', kernel_initializer='glorot_uniform'))\n",
        "model.compile(loss = 'binary_crossentropy', optimizer = 'adam', metrics = ['accuracy', Recall()])\n",
        "history = model.fit(X_train, y_train, validation_data=(X_test, y_test), epochs = 300, batch_size = 16, verbose = 1)"
      ],
      "execution_count": 6,
      "outputs": [
        {
          "output_type": "stream",
          "name": "stdout",
          "text": [
            "Epoch 1/300\n",
            "34/34 [==============================] - 1s 11ms/step - loss: 14.7646 - accuracy: 0.6499 - recall: 0.0053 - val_loss: 8.2626 - val_accuracy: 0.6494 - val_recall: 0.0123\n",
            "Epoch 2/300\n",
            "34/34 [==============================] - 0s 3ms/step - loss: 3.7370 - accuracy: 0.5680 - recall: 0.1658 - val_loss: 1.8020 - val_accuracy: 0.3723 - val_recall: 0.8395\n",
            "Epoch 3/300\n",
            "34/34 [==============================] - 0s 3ms/step - loss: 1.3136 - accuracy: 0.4842 - recall: 0.4599 - val_loss: 0.9924 - val_accuracy: 0.4762 - val_recall: 0.5556\n",
            "Epoch 4/300\n",
            "34/34 [==============================] - 0s 3ms/step - loss: 0.9542 - accuracy: 0.5587 - recall: 0.4492 - val_loss: 0.8424 - val_accuracy: 0.5541 - val_recall: 0.4321\n",
            "Epoch 5/300\n",
            "34/34 [==============================] - 0s 3ms/step - loss: 0.8475 - accuracy: 0.5940 - recall: 0.4385 - val_loss: 0.8261 - val_accuracy: 0.5541 - val_recall: 0.5556\n",
            "Epoch 6/300\n",
            "34/34 [==============================] - 0s 3ms/step - loss: 0.8174 - accuracy: 0.6015 - recall: 0.4652 - val_loss: 0.7710 - val_accuracy: 0.5844 - val_recall: 0.4074\n",
            "Epoch 7/300\n",
            "34/34 [==============================] - 0s 3ms/step - loss: 0.7799 - accuracy: 0.6201 - recall: 0.4759 - val_loss: 0.7482 - val_accuracy: 0.6147 - val_recall: 0.3827\n",
            "Epoch 8/300\n",
            "34/34 [==============================] - 0s 3ms/step - loss: 0.7598 - accuracy: 0.6052 - recall: 0.4599 - val_loss: 0.7236 - val_accuracy: 0.6147 - val_recall: 0.4568\n",
            "Epoch 9/300\n",
            "34/34 [==============================] - 0s 3ms/step - loss: 0.7379 - accuracy: 0.6331 - recall: 0.4545 - val_loss: 0.7385 - val_accuracy: 0.5628 - val_recall: 0.5926\n",
            "Epoch 10/300\n",
            "34/34 [==============================] - 0s 3ms/step - loss: 0.7571 - accuracy: 0.6350 - recall: 0.5241 - val_loss: 0.7198 - val_accuracy: 0.6104 - val_recall: 0.5679\n",
            "Epoch 11/300\n",
            "34/34 [==============================] - 0s 3ms/step - loss: 0.7008 - accuracy: 0.6536 - recall: 0.4706 - val_loss: 0.7097 - val_accuracy: 0.6407 - val_recall: 0.3457\n",
            "Epoch 12/300\n",
            "34/34 [==============================] - 0s 3ms/step - loss: 0.6758 - accuracy: 0.6797 - recall: 0.5080 - val_loss: 0.7115 - val_accuracy: 0.6364 - val_recall: 0.3457\n",
            "Epoch 13/300\n",
            "34/34 [==============================] - 0s 3ms/step - loss: 0.6710 - accuracy: 0.6629 - recall: 0.4439 - val_loss: 0.7009 - val_accuracy: 0.6104 - val_recall: 0.5679\n",
            "Epoch 14/300\n",
            "34/34 [==============================] - 0s 3ms/step - loss: 0.6983 - accuracy: 0.6425 - recall: 0.5027 - val_loss: 0.6920 - val_accuracy: 0.6450 - val_recall: 0.3086\n",
            "Epoch 15/300\n",
            "34/34 [==============================] - 0s 3ms/step - loss: 0.6635 - accuracy: 0.6574 - recall: 0.5187 - val_loss: 0.7480 - val_accuracy: 0.6450 - val_recall: 0.1481\n",
            "Epoch 16/300\n",
            "34/34 [==============================] - 0s 3ms/step - loss: 0.6564 - accuracy: 0.6853 - recall: 0.5080 - val_loss: 0.6770 - val_accuracy: 0.6277 - val_recall: 0.5309\n",
            "Epoch 17/300\n",
            "34/34 [==============================] - 0s 3ms/step - loss: 0.6468 - accuracy: 0.7058 - recall: 0.5348 - val_loss: 0.6884 - val_accuracy: 0.5931 - val_recall: 0.6173\n",
            "Epoch 18/300\n",
            "34/34 [==============================] - 0s 3ms/step - loss: 0.6573 - accuracy: 0.6741 - recall: 0.5134 - val_loss: 0.6712 - val_accuracy: 0.6190 - val_recall: 0.5062\n",
            "Epoch 19/300\n",
            "34/34 [==============================] - 0s 3ms/step - loss: 0.6447 - accuracy: 0.6667 - recall: 0.4920 - val_loss: 0.6669 - val_accuracy: 0.6494 - val_recall: 0.3580\n",
            "Epoch 20/300\n",
            "34/34 [==============================] - 0s 3ms/step - loss: 0.6314 - accuracy: 0.6965 - recall: 0.4706 - val_loss: 0.6783 - val_accuracy: 0.6190 - val_recall: 0.6296\n",
            "Epoch 21/300\n",
            "34/34 [==============================] - 0s 3ms/step - loss: 0.6406 - accuracy: 0.6667 - recall: 0.4920 - val_loss: 0.6545 - val_accuracy: 0.6537 - val_recall: 0.4074\n",
            "Epoch 22/300\n",
            "34/34 [==============================] - 0s 3ms/step - loss: 0.6261 - accuracy: 0.6965 - recall: 0.5508 - val_loss: 0.6626 - val_accuracy: 0.6494 - val_recall: 0.3704\n",
            "Epoch 23/300\n",
            "34/34 [==============================] - 0s 3ms/step - loss: 0.6313 - accuracy: 0.6872 - recall: 0.5348 - val_loss: 0.6645 - val_accuracy: 0.6580 - val_recall: 0.3457\n",
            "Epoch 24/300\n",
            "34/34 [==============================] - 0s 3ms/step - loss: 0.6348 - accuracy: 0.6890 - recall: 0.5134 - val_loss: 0.6643 - val_accuracy: 0.6450 - val_recall: 0.4321\n",
            "Epoch 25/300\n",
            "34/34 [==============================] - 0s 3ms/step - loss: 0.6315 - accuracy: 0.6983 - recall: 0.5134 - val_loss: 0.6482 - val_accuracy: 0.6710 - val_recall: 0.5309\n",
            "Epoch 26/300\n",
            "34/34 [==============================] - 0s 2ms/step - loss: 0.6258 - accuracy: 0.6909 - recall: 0.4652 - val_loss: 0.6518 - val_accuracy: 0.6450 - val_recall: 0.5185\n",
            "Epoch 27/300\n",
            "34/34 [==============================] - 0s 3ms/step - loss: 0.6066 - accuracy: 0.7002 - recall: 0.5187 - val_loss: 0.6491 - val_accuracy: 0.6580 - val_recall: 0.5432\n",
            "Epoch 28/300\n",
            "34/34 [==============================] - 0s 3ms/step - loss: 0.6317 - accuracy: 0.6909 - recall: 0.5508 - val_loss: 0.6619 - val_accuracy: 0.6667 - val_recall: 0.2716\n",
            "Epoch 29/300\n",
            "34/34 [==============================] - 0s 3ms/step - loss: 0.6272 - accuracy: 0.6965 - recall: 0.4813 - val_loss: 0.6438 - val_accuracy: 0.6797 - val_recall: 0.4815\n",
            "Epoch 30/300\n",
            "34/34 [==============================] - 0s 2ms/step - loss: 0.6132 - accuracy: 0.7002 - recall: 0.5027 - val_loss: 0.6500 - val_accuracy: 0.6407 - val_recall: 0.5185\n",
            "Epoch 31/300\n",
            "34/34 [==============================] - 0s 3ms/step - loss: 0.6258 - accuracy: 0.7095 - recall: 0.5348 - val_loss: 0.6879 - val_accuracy: 0.6710 - val_recall: 0.1975\n",
            "Epoch 32/300\n",
            "34/34 [==============================] - 0s 3ms/step - loss: 0.6207 - accuracy: 0.6965 - recall: 0.5241 - val_loss: 0.6642 - val_accuracy: 0.6364 - val_recall: 0.6914\n",
            "Epoch 33/300\n",
            "34/34 [==============================] - 0s 3ms/step - loss: 0.6136 - accuracy: 0.7002 - recall: 0.5561 - val_loss: 0.7316 - val_accuracy: 0.6407 - val_recall: 0.0617\n",
            "Epoch 34/300\n",
            "34/34 [==============================] - 0s 3ms/step - loss: 0.6331 - accuracy: 0.6983 - recall: 0.5187 - val_loss: 0.6648 - val_accuracy: 0.6667 - val_recall: 0.2469\n",
            "Epoch 35/300\n",
            "34/34 [==============================] - 0s 3ms/step - loss: 0.6065 - accuracy: 0.7188 - recall: 0.5508 - val_loss: 0.6570 - val_accuracy: 0.6840 - val_recall: 0.2469\n",
            "Epoch 36/300\n",
            "34/34 [==============================] - 0s 3ms/step - loss: 0.6228 - accuracy: 0.6816 - recall: 0.4813 - val_loss: 0.6773 - val_accuracy: 0.6147 - val_recall: 0.6914\n",
            "Epoch 37/300\n",
            "34/34 [==============================] - 0s 3ms/step - loss: 0.6210 - accuracy: 0.6816 - recall: 0.4813 - val_loss: 0.6301 - val_accuracy: 0.7013 - val_recall: 0.4691\n",
            "Epoch 38/300\n",
            "34/34 [==============================] - 0s 3ms/step - loss: 0.5982 - accuracy: 0.7114 - recall: 0.5187 - val_loss: 0.6531 - val_accuracy: 0.6667 - val_recall: 0.3827\n",
            "Epoch 39/300\n",
            "34/34 [==============================] - 0s 4ms/step - loss: 0.5919 - accuracy: 0.7132 - recall: 0.5187 - val_loss: 0.6340 - val_accuracy: 0.6926 - val_recall: 0.4198\n",
            "Epoch 40/300\n",
            "34/34 [==============================] - 0s 3ms/step - loss: 0.5860 - accuracy: 0.7114 - recall: 0.5187 - val_loss: 0.6384 - val_accuracy: 0.7013 - val_recall: 0.3704\n",
            "Epoch 41/300\n",
            "34/34 [==============================] - 0s 3ms/step - loss: 0.5925 - accuracy: 0.7058 - recall: 0.4759 - val_loss: 0.6563 - val_accuracy: 0.6364 - val_recall: 0.5802\n",
            "Epoch 42/300\n",
            "34/34 [==============================] - 0s 3ms/step - loss: 0.5929 - accuracy: 0.7020 - recall: 0.5561 - val_loss: 0.6266 - val_accuracy: 0.6840 - val_recall: 0.4691\n",
            "Epoch 43/300\n",
            "34/34 [==============================] - 0s 3ms/step - loss: 0.5854 - accuracy: 0.7169 - recall: 0.4973 - val_loss: 0.6248 - val_accuracy: 0.6840 - val_recall: 0.5062\n",
            "Epoch 44/300\n",
            "34/34 [==============================] - 0s 3ms/step - loss: 0.5964 - accuracy: 0.6983 - recall: 0.4973 - val_loss: 0.6242 - val_accuracy: 0.7013 - val_recall: 0.4691\n",
            "Epoch 45/300\n",
            "34/34 [==============================] - 0s 3ms/step - loss: 0.5793 - accuracy: 0.7002 - recall: 0.5829 - val_loss: 0.6514 - val_accuracy: 0.6710 - val_recall: 0.2222\n",
            "Epoch 46/300\n",
            "34/34 [==============================] - 0s 2ms/step - loss: 0.5987 - accuracy: 0.7002 - recall: 0.4706 - val_loss: 0.6433 - val_accuracy: 0.6537 - val_recall: 0.6543\n",
            "Epoch 47/300\n",
            "34/34 [==============================] - 0s 3ms/step - loss: 0.5733 - accuracy: 0.7132 - recall: 0.5455 - val_loss: 0.6233 - val_accuracy: 0.6883 - val_recall: 0.5309\n",
            "Epoch 48/300\n",
            "34/34 [==============================] - 0s 3ms/step - loss: 0.5763 - accuracy: 0.7281 - recall: 0.5187 - val_loss: 0.6367 - val_accuracy: 0.6883 - val_recall: 0.3086\n",
            "Epoch 49/300\n",
            "34/34 [==============================] - 0s 3ms/step - loss: 0.5813 - accuracy: 0.7151 - recall: 0.5080 - val_loss: 0.6184 - val_accuracy: 0.6970 - val_recall: 0.5185\n",
            "Epoch 50/300\n",
            "34/34 [==============================] - 0s 3ms/step - loss: 0.5772 - accuracy: 0.7393 - recall: 0.5668 - val_loss: 0.6261 - val_accuracy: 0.7013 - val_recall: 0.3951\n",
            "Epoch 51/300\n",
            "34/34 [==============================] - 0s 3ms/step - loss: 0.5711 - accuracy: 0.7169 - recall: 0.5241 - val_loss: 0.6273 - val_accuracy: 0.6667 - val_recall: 0.5556\n",
            "Epoch 52/300\n",
            "34/34 [==============================] - 0s 3ms/step - loss: 0.5756 - accuracy: 0.7114 - recall: 0.5187 - val_loss: 0.6255 - val_accuracy: 0.6970 - val_recall: 0.3704\n",
            "Epoch 53/300\n",
            "34/34 [==============================] - 0s 3ms/step - loss: 0.5718 - accuracy: 0.7188 - recall: 0.5401 - val_loss: 0.6183 - val_accuracy: 0.6883 - val_recall: 0.5309\n",
            "Epoch 54/300\n",
            "34/34 [==============================] - 0s 3ms/step - loss: 0.5800 - accuracy: 0.7169 - recall: 0.4706 - val_loss: 0.6212 - val_accuracy: 0.6840 - val_recall: 0.6173\n",
            "Epoch 55/300\n",
            "34/34 [==============================] - 0s 3ms/step - loss: 0.5699 - accuracy: 0.7132 - recall: 0.5561 - val_loss: 0.6145 - val_accuracy: 0.7100 - val_recall: 0.3951\n",
            "Epoch 56/300\n",
            "34/34 [==============================] - 0s 2ms/step - loss: 0.5714 - accuracy: 0.7244 - recall: 0.5241 - val_loss: 0.6378 - val_accuracy: 0.6797 - val_recall: 0.6173\n",
            "Epoch 57/300\n",
            "34/34 [==============================] - 0s 3ms/step - loss: 0.5598 - accuracy: 0.7188 - recall: 0.5401 - val_loss: 0.6207 - val_accuracy: 0.6753 - val_recall: 0.5432\n",
            "Epoch 58/300\n",
            "34/34 [==============================] - 0s 3ms/step - loss: 0.6110 - accuracy: 0.6946 - recall: 0.5080 - val_loss: 0.6429 - val_accuracy: 0.6883 - val_recall: 0.2346\n",
            "Epoch 59/300\n",
            "34/34 [==============================] - 0s 3ms/step - loss: 0.5836 - accuracy: 0.7169 - recall: 0.5508 - val_loss: 0.6175 - val_accuracy: 0.7013 - val_recall: 0.4691\n",
            "Epoch 60/300\n",
            "34/34 [==============================] - 0s 3ms/step - loss: 0.5716 - accuracy: 0.7318 - recall: 0.5348 - val_loss: 0.6107 - val_accuracy: 0.7056 - val_recall: 0.5926\n",
            "Epoch 61/300\n",
            "34/34 [==============================] - 0s 3ms/step - loss: 0.5608 - accuracy: 0.7337 - recall: 0.5508 - val_loss: 0.6157 - val_accuracy: 0.6926 - val_recall: 0.3457\n",
            "Epoch 62/300\n",
            "34/34 [==============================] - 0s 3ms/step - loss: 0.5590 - accuracy: 0.7374 - recall: 0.5615 - val_loss: 0.6192 - val_accuracy: 0.7013 - val_recall: 0.3086\n",
            "Epoch 63/300\n",
            "34/34 [==============================] - 0s 3ms/step - loss: 0.5673 - accuracy: 0.7188 - recall: 0.4920 - val_loss: 0.6119 - val_accuracy: 0.6926 - val_recall: 0.5556\n",
            "Epoch 64/300\n",
            "34/34 [==============================] - 0s 3ms/step - loss: 0.5905 - accuracy: 0.7095 - recall: 0.5882 - val_loss: 0.6046 - val_accuracy: 0.7143 - val_recall: 0.4198\n",
            "Epoch 65/300\n",
            "34/34 [==============================] - 0s 3ms/step - loss: 0.5787 - accuracy: 0.7039 - recall: 0.4706 - val_loss: 0.6027 - val_accuracy: 0.6970 - val_recall: 0.5062\n",
            "Epoch 66/300\n",
            "34/34 [==============================] - 0s 3ms/step - loss: 0.5497 - accuracy: 0.7095 - recall: 0.4706 - val_loss: 0.6100 - val_accuracy: 0.6970 - val_recall: 0.5556\n",
            "Epoch 67/300\n",
            "34/34 [==============================] - 0s 3ms/step - loss: 0.5692 - accuracy: 0.7356 - recall: 0.5882 - val_loss: 0.6176 - val_accuracy: 0.6883 - val_recall: 0.5802\n",
            "Epoch 68/300\n",
            "34/34 [==============================] - 0s 3ms/step - loss: 0.5587 - accuracy: 0.7337 - recall: 0.5187 - val_loss: 0.6025 - val_accuracy: 0.6926 - val_recall: 0.4691\n",
            "Epoch 69/300\n",
            "34/34 [==============================] - 0s 3ms/step - loss: 0.5460 - accuracy: 0.7412 - recall: 0.5615 - val_loss: 0.5978 - val_accuracy: 0.7013 - val_recall: 0.4815\n",
            "Epoch 70/300\n",
            "34/34 [==============================] - 0s 3ms/step - loss: 0.5407 - accuracy: 0.7449 - recall: 0.5829 - val_loss: 0.6507 - val_accuracy: 0.6797 - val_recall: 0.1728\n",
            "Epoch 71/300\n",
            "34/34 [==============================] - 0s 3ms/step - loss: 0.5638 - accuracy: 0.7188 - recall: 0.5294 - val_loss: 0.6027 - val_accuracy: 0.7100 - val_recall: 0.4198\n",
            "Epoch 72/300\n",
            "34/34 [==============================] - 0s 3ms/step - loss: 0.5619 - accuracy: 0.7225 - recall: 0.4866 - val_loss: 0.6237 - val_accuracy: 0.6840 - val_recall: 0.6049\n",
            "Epoch 73/300\n",
            "34/34 [==============================] - 0s 3ms/step - loss: 0.5592 - accuracy: 0.7114 - recall: 0.5401 - val_loss: 0.6078 - val_accuracy: 0.6883 - val_recall: 0.6296\n",
            "Epoch 74/300\n",
            "34/34 [==============================] - 0s 3ms/step - loss: 0.5417 - accuracy: 0.7318 - recall: 0.5508 - val_loss: 0.6695 - val_accuracy: 0.6710 - val_recall: 0.1481\n",
            "Epoch 75/300\n",
            "34/34 [==============================] - 0s 3ms/step - loss: 0.5667 - accuracy: 0.7095 - recall: 0.5134 - val_loss: 0.6222 - val_accuracy: 0.6753 - val_recall: 0.6296\n",
            "Epoch 76/300\n",
            "34/34 [==============================] - 0s 3ms/step - loss: 0.5523 - accuracy: 0.7263 - recall: 0.5080 - val_loss: 0.5941 - val_accuracy: 0.7056 - val_recall: 0.5185\n",
            "Epoch 77/300\n",
            "34/34 [==============================] - 0s 3ms/step - loss: 0.5389 - accuracy: 0.7467 - recall: 0.5615 - val_loss: 0.5939 - val_accuracy: 0.7013 - val_recall: 0.4938\n",
            "Epoch 78/300\n",
            "34/34 [==============================] - 0s 3ms/step - loss: 0.5569 - accuracy: 0.7318 - recall: 0.5080 - val_loss: 0.6016 - val_accuracy: 0.7143 - val_recall: 0.4815\n",
            "Epoch 79/300\n",
            "34/34 [==============================] - 0s 3ms/step - loss: 0.5475 - accuracy: 0.7300 - recall: 0.5561 - val_loss: 0.5943 - val_accuracy: 0.7229 - val_recall: 0.4568\n",
            "Epoch 80/300\n",
            "34/34 [==============================] - 0s 2ms/step - loss: 0.5451 - accuracy: 0.7318 - recall: 0.5455 - val_loss: 0.6122 - val_accuracy: 0.6840 - val_recall: 0.5185\n",
            "Epoch 81/300\n",
            "34/34 [==============================] - 0s 3ms/step - loss: 0.5486 - accuracy: 0.7356 - recall: 0.5348 - val_loss: 0.6201 - val_accuracy: 0.6883 - val_recall: 0.6296\n",
            "Epoch 82/300\n",
            "34/34 [==============================] - 0s 2ms/step - loss: 0.5373 - accuracy: 0.7467 - recall: 0.5722 - val_loss: 0.6081 - val_accuracy: 0.7100 - val_recall: 0.4074\n",
            "Epoch 83/300\n",
            "34/34 [==============================] - 0s 3ms/step - loss: 0.5534 - accuracy: 0.7449 - recall: 0.5508 - val_loss: 0.6071 - val_accuracy: 0.7100 - val_recall: 0.4321\n",
            "Epoch 84/300\n",
            "34/34 [==============================] - 0s 3ms/step - loss: 0.5564 - accuracy: 0.7169 - recall: 0.5241 - val_loss: 0.6200 - val_accuracy: 0.6797 - val_recall: 0.7407\n",
            "Epoch 85/300\n",
            "34/34 [==============================] - 0s 3ms/step - loss: 0.5474 - accuracy: 0.7244 - recall: 0.5401 - val_loss: 0.5904 - val_accuracy: 0.7229 - val_recall: 0.4815\n",
            "Epoch 86/300\n",
            "34/34 [==============================] - 0s 3ms/step - loss: 0.5412 - accuracy: 0.7207 - recall: 0.5348 - val_loss: 0.5948 - val_accuracy: 0.7186 - val_recall: 0.5062\n",
            "Epoch 87/300\n",
            "34/34 [==============================] - 0s 3ms/step - loss: 0.5288 - accuracy: 0.7430 - recall: 0.5508 - val_loss: 0.5911 - val_accuracy: 0.7186 - val_recall: 0.5432\n",
            "Epoch 88/300\n",
            "34/34 [==============================] - 0s 3ms/step - loss: 0.5569 - accuracy: 0.7356 - recall: 0.4813 - val_loss: 0.5919 - val_accuracy: 0.7186 - val_recall: 0.5062\n",
            "Epoch 89/300\n",
            "34/34 [==============================] - 0s 3ms/step - loss: 0.5598 - accuracy: 0.7393 - recall: 0.5508 - val_loss: 0.5979 - val_accuracy: 0.7359 - val_recall: 0.4444\n",
            "Epoch 90/300\n",
            "34/34 [==============================] - 0s 3ms/step - loss: 0.5607 - accuracy: 0.7244 - recall: 0.5241 - val_loss: 0.6203 - val_accuracy: 0.6753 - val_recall: 0.6790\n",
            "Epoch 91/300\n",
            "34/34 [==============================] - 0s 3ms/step - loss: 0.5422 - accuracy: 0.7374 - recall: 0.5241 - val_loss: 0.6068 - val_accuracy: 0.6883 - val_recall: 0.5926\n",
            "Epoch 92/300\n",
            "34/34 [==============================] - 0s 3ms/step - loss: 0.5576 - accuracy: 0.7169 - recall: 0.5882 - val_loss: 0.6255 - val_accuracy: 0.6753 - val_recall: 0.1975\n",
            "Epoch 93/300\n",
            "34/34 [==============================] - 0s 3ms/step - loss: 0.5344 - accuracy: 0.7486 - recall: 0.5348 - val_loss: 0.6195 - val_accuracy: 0.7056 - val_recall: 0.3704\n",
            "Epoch 94/300\n",
            "34/34 [==============================] - 0s 3ms/step - loss: 0.5472 - accuracy: 0.7412 - recall: 0.5615 - val_loss: 0.5916 - val_accuracy: 0.7186 - val_recall: 0.5679\n",
            "Epoch 95/300\n",
            "34/34 [==============================] - 0s 3ms/step - loss: 0.5419 - accuracy: 0.7263 - recall: 0.4759 - val_loss: 0.6534 - val_accuracy: 0.6407 - val_recall: 0.6173\n",
            "Epoch 96/300\n",
            "34/34 [==============================] - 0s 3ms/step - loss: 0.5959 - accuracy: 0.7188 - recall: 0.5455 - val_loss: 0.6113 - val_accuracy: 0.7013 - val_recall: 0.2716\n",
            "Epoch 97/300\n",
            "34/34 [==============================] - 0s 3ms/step - loss: 0.5395 - accuracy: 0.7281 - recall: 0.5455 - val_loss: 0.5845 - val_accuracy: 0.7186 - val_recall: 0.4938\n",
            "Epoch 98/300\n",
            "34/34 [==============================] - 0s 3ms/step - loss: 0.5401 - accuracy: 0.7281 - recall: 0.5187 - val_loss: 0.5904 - val_accuracy: 0.7229 - val_recall: 0.4568\n",
            "Epoch 99/300\n",
            "34/34 [==============================] - 0s 3ms/step - loss: 0.5430 - accuracy: 0.7207 - recall: 0.4813 - val_loss: 0.6173 - val_accuracy: 0.6797 - val_recall: 0.6420\n",
            "Epoch 100/300\n",
            "34/34 [==============================] - 0s 3ms/step - loss: 0.5390 - accuracy: 0.7169 - recall: 0.5508 - val_loss: 0.6043 - val_accuracy: 0.7013 - val_recall: 0.4074\n",
            "Epoch 101/300\n",
            "34/34 [==============================] - 0s 3ms/step - loss: 0.5346 - accuracy: 0.7486 - recall: 0.5455 - val_loss: 0.5979 - val_accuracy: 0.7273 - val_recall: 0.4198\n",
            "Epoch 102/300\n",
            "34/34 [==============================] - 0s 3ms/step - loss: 0.5316 - accuracy: 0.7281 - recall: 0.5294 - val_loss: 0.6055 - val_accuracy: 0.7056 - val_recall: 0.2840\n",
            "Epoch 103/300\n",
            "34/34 [==============================] - 0s 3ms/step - loss: 0.5424 - accuracy: 0.7430 - recall: 0.5134 - val_loss: 0.5917 - val_accuracy: 0.7186 - val_recall: 0.4321\n",
            "Epoch 104/300\n",
            "34/34 [==============================] - 0s 3ms/step - loss: 0.5319 - accuracy: 0.7430 - recall: 0.5615 - val_loss: 0.5986 - val_accuracy: 0.7186 - val_recall: 0.3457\n",
            "Epoch 105/300\n",
            "34/34 [==============================] - 0s 3ms/step - loss: 0.5347 - accuracy: 0.7300 - recall: 0.5027 - val_loss: 0.5985 - val_accuracy: 0.7100 - val_recall: 0.5679\n",
            "Epoch 106/300\n",
            "34/34 [==============================] - 0s 3ms/step - loss: 0.5632 - accuracy: 0.7207 - recall: 0.5027 - val_loss: 0.6196 - val_accuracy: 0.6797 - val_recall: 0.6420\n",
            "Epoch 107/300\n",
            "34/34 [==============================] - 0s 3ms/step - loss: 0.5548 - accuracy: 0.7430 - recall: 0.5829 - val_loss: 0.5946 - val_accuracy: 0.7273 - val_recall: 0.4198\n",
            "Epoch 108/300\n",
            "34/34 [==============================] - 0s 3ms/step - loss: 0.5282 - accuracy: 0.7393 - recall: 0.5080 - val_loss: 0.5809 - val_accuracy: 0.7186 - val_recall: 0.4938\n",
            "Epoch 109/300\n",
            "34/34 [==============================] - 0s 3ms/step - loss: 0.5259 - accuracy: 0.7430 - recall: 0.5615 - val_loss: 0.5900 - val_accuracy: 0.7186 - val_recall: 0.5185\n",
            "Epoch 110/300\n",
            "34/34 [==============================] - 0s 3ms/step - loss: 0.5305 - accuracy: 0.7449 - recall: 0.5401 - val_loss: 0.6078 - val_accuracy: 0.7100 - val_recall: 0.4815\n",
            "Epoch 111/300\n",
            "34/34 [==============================] - 0s 3ms/step - loss: 0.5761 - accuracy: 0.7076 - recall: 0.5401 - val_loss: 0.5917 - val_accuracy: 0.7186 - val_recall: 0.3704\n",
            "Epoch 112/300\n",
            "34/34 [==============================] - 0s 3ms/step - loss: 0.5283 - accuracy: 0.7337 - recall: 0.5294 - val_loss: 0.5948 - val_accuracy: 0.6970 - val_recall: 0.4815\n",
            "Epoch 113/300\n",
            "34/34 [==============================] - 0s 3ms/step - loss: 0.5135 - accuracy: 0.7654 - recall: 0.5668 - val_loss: 0.6194 - val_accuracy: 0.6840 - val_recall: 0.6914\n",
            "Epoch 114/300\n",
            "34/34 [==============================] - 0s 3ms/step - loss: 0.5210 - accuracy: 0.7412 - recall: 0.5241 - val_loss: 0.6018 - val_accuracy: 0.6926 - val_recall: 0.5802\n",
            "Epoch 115/300\n",
            "34/34 [==============================] - 0s 3ms/step - loss: 0.5204 - accuracy: 0.7691 - recall: 0.6203 - val_loss: 0.5833 - val_accuracy: 0.7186 - val_recall: 0.5309\n",
            "Epoch 116/300\n",
            "34/34 [==============================] - 0s 3ms/step - loss: 0.5324 - accuracy: 0.7486 - recall: 0.5455 - val_loss: 0.6248 - val_accuracy: 0.6883 - val_recall: 0.7407\n",
            "Epoch 117/300\n",
            "34/34 [==============================] - 0s 3ms/step - loss: 0.5329 - accuracy: 0.7523 - recall: 0.5561 - val_loss: 0.6097 - val_accuracy: 0.6926 - val_recall: 0.5926\n",
            "Epoch 118/300\n",
            "34/34 [==============================] - 0s 3ms/step - loss: 0.5169 - accuracy: 0.7542 - recall: 0.5348 - val_loss: 0.5997 - val_accuracy: 0.6970 - val_recall: 0.4938\n",
            "Epoch 119/300\n",
            "34/34 [==============================] - 0s 3ms/step - loss: 0.5504 - accuracy: 0.7225 - recall: 0.5401 - val_loss: 0.5976 - val_accuracy: 0.7056 - val_recall: 0.3827\n",
            "Epoch 120/300\n",
            "34/34 [==============================] - 0s 3ms/step - loss: 0.5212 - accuracy: 0.7281 - recall: 0.5134 - val_loss: 0.6028 - val_accuracy: 0.6926 - val_recall: 0.5802\n",
            "Epoch 121/300\n",
            "34/34 [==============================] - 0s 3ms/step - loss: 0.5273 - accuracy: 0.7374 - recall: 0.5561 - val_loss: 0.6166 - val_accuracy: 0.6840 - val_recall: 0.2099\n",
            "Epoch 122/300\n",
            "34/34 [==============================] - 0s 3ms/step - loss: 0.5297 - accuracy: 0.7412 - recall: 0.5080 - val_loss: 0.5917 - val_accuracy: 0.6970 - val_recall: 0.6049\n",
            "Epoch 123/300\n",
            "34/34 [==============================] - 0s 3ms/step - loss: 0.5521 - accuracy: 0.7318 - recall: 0.5829 - val_loss: 0.5763 - val_accuracy: 0.7316 - val_recall: 0.4691\n",
            "Epoch 124/300\n",
            "34/34 [==============================] - 0s 3ms/step - loss: 0.5158 - accuracy: 0.7616 - recall: 0.6096 - val_loss: 0.5905 - val_accuracy: 0.7316 - val_recall: 0.4321\n",
            "Epoch 125/300\n",
            "34/34 [==============================] - 0s 3ms/step - loss: 0.5130 - accuracy: 0.7412 - recall: 0.5668 - val_loss: 0.5968 - val_accuracy: 0.7229 - val_recall: 0.4321\n",
            "Epoch 126/300\n",
            "34/34 [==============================] - 0s 3ms/step - loss: 0.5337 - accuracy: 0.7486 - recall: 0.5615 - val_loss: 0.5847 - val_accuracy: 0.7273 - val_recall: 0.5556\n",
            "Epoch 127/300\n",
            "34/34 [==============================] - 0s 3ms/step - loss: 0.5244 - accuracy: 0.7542 - recall: 0.5455 - val_loss: 0.5909 - val_accuracy: 0.7186 - val_recall: 0.3457\n",
            "Epoch 128/300\n",
            "34/34 [==============================] - 0s 3ms/step - loss: 0.5345 - accuracy: 0.7542 - recall: 0.5241 - val_loss: 0.5856 - val_accuracy: 0.7056 - val_recall: 0.5679\n",
            "Epoch 129/300\n",
            "34/34 [==============================] - 0s 3ms/step - loss: 0.5138 - accuracy: 0.7467 - recall: 0.5882 - val_loss: 0.5935 - val_accuracy: 0.7013 - val_recall: 0.3086\n",
            "Epoch 130/300\n",
            "34/34 [==============================] - 0s 3ms/step - loss: 0.5259 - accuracy: 0.7225 - recall: 0.4866 - val_loss: 0.6227 - val_accuracy: 0.6970 - val_recall: 0.2469\n",
            "Epoch 131/300\n",
            "34/34 [==============================] - 0s 2ms/step - loss: 0.5114 - accuracy: 0.7598 - recall: 0.5722 - val_loss: 0.5890 - val_accuracy: 0.7056 - val_recall: 0.4321\n",
            "Epoch 132/300\n",
            "34/34 [==============================] - 0s 3ms/step - loss: 0.5235 - accuracy: 0.7467 - recall: 0.5348 - val_loss: 0.5796 - val_accuracy: 0.7229 - val_recall: 0.5432\n",
            "Epoch 133/300\n",
            "34/34 [==============================] - 0s 3ms/step - loss: 0.5136 - accuracy: 0.7561 - recall: 0.5882 - val_loss: 0.5829 - val_accuracy: 0.7186 - val_recall: 0.4938\n",
            "Epoch 134/300\n",
            "34/34 [==============================] - 0s 3ms/step - loss: 0.5171 - accuracy: 0.7505 - recall: 0.5722 - val_loss: 0.5846 - val_accuracy: 0.7143 - val_recall: 0.5309\n",
            "Epoch 135/300\n",
            "34/34 [==============================] - 0s 3ms/step - loss: 0.5156 - accuracy: 0.7449 - recall: 0.5508 - val_loss: 0.5858 - val_accuracy: 0.7100 - val_recall: 0.4815\n",
            "Epoch 136/300\n",
            "34/34 [==============================] - 0s 3ms/step - loss: 0.5131 - accuracy: 0.7598 - recall: 0.5775 - val_loss: 0.5880 - val_accuracy: 0.7056 - val_recall: 0.4198\n",
            "Epoch 137/300\n",
            "34/34 [==============================] - 0s 4ms/step - loss: 0.5279 - accuracy: 0.7337 - recall: 0.5187 - val_loss: 0.5998 - val_accuracy: 0.7013 - val_recall: 0.6543\n",
            "Epoch 138/300\n",
            "34/34 [==============================] - 0s 3ms/step - loss: 0.5217 - accuracy: 0.7412 - recall: 0.5401 - val_loss: 0.6010 - val_accuracy: 0.7100 - val_recall: 0.4198\n",
            "Epoch 139/300\n",
            "34/34 [==============================] - 0s 3ms/step - loss: 0.5136 - accuracy: 0.7542 - recall: 0.5348 - val_loss: 0.5865 - val_accuracy: 0.7143 - val_recall: 0.5556\n",
            "Epoch 140/300\n",
            "34/34 [==============================] - 0s 3ms/step - loss: 0.5052 - accuracy: 0.7523 - recall: 0.5134 - val_loss: 0.5753 - val_accuracy: 0.7316 - val_recall: 0.4815\n",
            "Epoch 141/300\n",
            "34/34 [==============================] - 0s 2ms/step - loss: 0.5220 - accuracy: 0.7672 - recall: 0.5989 - val_loss: 0.5971 - val_accuracy: 0.7100 - val_recall: 0.3457\n",
            "Epoch 142/300\n",
            "34/34 [==============================] - 0s 3ms/step - loss: 0.5085 - accuracy: 0.7616 - recall: 0.5508 - val_loss: 0.5844 - val_accuracy: 0.7186 - val_recall: 0.5556\n",
            "Epoch 143/300\n",
            "34/34 [==============================] - 0s 3ms/step - loss: 0.5203 - accuracy: 0.7467 - recall: 0.5401 - val_loss: 0.5957 - val_accuracy: 0.7056 - val_recall: 0.3951\n",
            "Epoch 144/300\n",
            "34/34 [==============================] - 0s 3ms/step - loss: 0.5079 - accuracy: 0.7654 - recall: 0.5829 - val_loss: 0.5828 - val_accuracy: 0.7143 - val_recall: 0.5556\n",
            "Epoch 145/300\n",
            "34/34 [==============================] - 0s 3ms/step - loss: 0.5172 - accuracy: 0.7374 - recall: 0.5294 - val_loss: 0.5988 - val_accuracy: 0.6970 - val_recall: 0.6420\n",
            "Epoch 146/300\n",
            "34/34 [==============================] - 0s 3ms/step - loss: 0.5105 - accuracy: 0.7561 - recall: 0.5348 - val_loss: 0.5889 - val_accuracy: 0.7100 - val_recall: 0.4074\n",
            "Epoch 147/300\n",
            "34/34 [==============================] - 0s 3ms/step - loss: 0.5144 - accuracy: 0.7523 - recall: 0.5882 - val_loss: 0.5951 - val_accuracy: 0.7056 - val_recall: 0.3210\n",
            "Epoch 148/300\n",
            "34/34 [==============================] - 0s 3ms/step - loss: 0.5171 - accuracy: 0.7467 - recall: 0.5401 - val_loss: 0.5820 - val_accuracy: 0.7143 - val_recall: 0.5432\n",
            "Epoch 149/300\n",
            "34/34 [==============================] - 0s 3ms/step - loss: 0.5370 - accuracy: 0.7374 - recall: 0.5401 - val_loss: 0.5811 - val_accuracy: 0.7316 - val_recall: 0.5556\n",
            "Epoch 150/300\n",
            "34/34 [==============================] - 0s 3ms/step - loss: 0.5291 - accuracy: 0.7449 - recall: 0.5187 - val_loss: 0.5795 - val_accuracy: 0.7143 - val_recall: 0.4691\n",
            "Epoch 151/300\n",
            "34/34 [==============================] - 0s 3ms/step - loss: 0.5131 - accuracy: 0.7635 - recall: 0.6096 - val_loss: 0.5926 - val_accuracy: 0.7273 - val_recall: 0.3951\n",
            "Epoch 152/300\n",
            "34/34 [==============================] - 0s 3ms/step - loss: 0.5724 - accuracy: 0.7374 - recall: 0.5134 - val_loss: 0.6364 - val_accuracy: 0.6580 - val_recall: 0.7284\n",
            "Epoch 153/300\n",
            "34/34 [==============================] - 0s 3ms/step - loss: 0.5247 - accuracy: 0.7467 - recall: 0.5989 - val_loss: 0.5872 - val_accuracy: 0.7143 - val_recall: 0.3827\n",
            "Epoch 154/300\n",
            "34/34 [==============================] - 0s 3ms/step - loss: 0.5528 - accuracy: 0.7169 - recall: 0.5134 - val_loss: 0.6045 - val_accuracy: 0.6883 - val_recall: 0.6296\n",
            "Epoch 155/300\n",
            "34/34 [==============================] - 0s 3ms/step - loss: 0.5197 - accuracy: 0.7542 - recall: 0.5829 - val_loss: 0.6179 - val_accuracy: 0.6883 - val_recall: 0.1975\n",
            "Epoch 156/300\n",
            "34/34 [==============================] - 0s 3ms/step - loss: 0.5157 - accuracy: 0.7579 - recall: 0.5989 - val_loss: 0.5811 - val_accuracy: 0.7143 - val_recall: 0.5432\n",
            "Epoch 157/300\n",
            "34/34 [==============================] - 0s 3ms/step - loss: 0.5095 - accuracy: 0.7318 - recall: 0.5241 - val_loss: 0.5974 - val_accuracy: 0.7186 - val_recall: 0.3704\n",
            "Epoch 158/300\n",
            "34/34 [==============================] - 0s 2ms/step - loss: 0.5160 - accuracy: 0.7579 - recall: 0.5455 - val_loss: 0.5976 - val_accuracy: 0.7100 - val_recall: 0.5802\n",
            "Epoch 159/300\n",
            "34/34 [==============================] - 0s 3ms/step - loss: 0.5151 - accuracy: 0.7542 - recall: 0.5936 - val_loss: 0.5994 - val_accuracy: 0.7056 - val_recall: 0.3086\n",
            "Epoch 160/300\n",
            "34/34 [==============================] - 0s 3ms/step - loss: 0.5062 - accuracy: 0.7430 - recall: 0.4973 - val_loss: 0.6089 - val_accuracy: 0.6797 - val_recall: 0.6667\n",
            "Epoch 161/300\n",
            "34/34 [==============================] - 0s 3ms/step - loss: 0.5025 - accuracy: 0.7635 - recall: 0.5936 - val_loss: 0.5762 - val_accuracy: 0.7273 - val_recall: 0.5556\n",
            "Epoch 162/300\n",
            "34/34 [==============================] - 0s 3ms/step - loss: 0.5070 - accuracy: 0.7505 - recall: 0.5294 - val_loss: 0.5769 - val_accuracy: 0.7273 - val_recall: 0.4444\n",
            "Epoch 163/300\n",
            "34/34 [==============================] - 0s 3ms/step - loss: 0.4954 - accuracy: 0.7616 - recall: 0.5668 - val_loss: 0.5883 - val_accuracy: 0.7186 - val_recall: 0.4321\n",
            "Epoch 164/300\n",
            "34/34 [==============================] - 0s 3ms/step - loss: 0.5034 - accuracy: 0.7691 - recall: 0.5615 - val_loss: 0.6227 - val_accuracy: 0.6797 - val_recall: 0.7160\n",
            "Epoch 165/300\n",
            "34/34 [==============================] - 0s 3ms/step - loss: 0.5243 - accuracy: 0.7374 - recall: 0.5615 - val_loss: 0.5706 - val_accuracy: 0.7316 - val_recall: 0.5062\n",
            "Epoch 166/300\n",
            "34/34 [==============================] - 0s 3ms/step - loss: 0.4991 - accuracy: 0.7635 - recall: 0.5668 - val_loss: 0.6044 - val_accuracy: 0.7056 - val_recall: 0.3951\n",
            "Epoch 167/300\n",
            "34/34 [==============================] - 0s 2ms/step - loss: 0.5114 - accuracy: 0.7505 - recall: 0.5455 - val_loss: 0.5809 - val_accuracy: 0.7273 - val_recall: 0.4444\n",
            "Epoch 168/300\n",
            "34/34 [==============================] - 0s 3ms/step - loss: 0.5003 - accuracy: 0.7579 - recall: 0.5348 - val_loss: 0.5807 - val_accuracy: 0.7229 - val_recall: 0.5432\n",
            "Epoch 169/300\n",
            "34/34 [==============================] - 0s 3ms/step - loss: 0.4999 - accuracy: 0.7616 - recall: 0.5668 - val_loss: 0.5782 - val_accuracy: 0.7359 - val_recall: 0.4568\n",
            "Epoch 170/300\n",
            "34/34 [==============================] - 0s 3ms/step - loss: 0.5040 - accuracy: 0.7523 - recall: 0.5668 - val_loss: 0.5988 - val_accuracy: 0.7056 - val_recall: 0.3210\n",
            "Epoch 171/300\n",
            "34/34 [==============================] - 0s 3ms/step - loss: 0.5258 - accuracy: 0.7598 - recall: 0.5989 - val_loss: 0.5757 - val_accuracy: 0.7273 - val_recall: 0.4568\n",
            "Epoch 172/300\n",
            "34/34 [==============================] - 0s 3ms/step - loss: 0.5222 - accuracy: 0.7523 - recall: 0.4920 - val_loss: 0.6013 - val_accuracy: 0.6883 - val_recall: 0.6543\n",
            "Epoch 173/300\n",
            "34/34 [==============================] - 0s 3ms/step - loss: 0.5088 - accuracy: 0.7505 - recall: 0.5775 - val_loss: 0.5704 - val_accuracy: 0.7273 - val_recall: 0.4938\n",
            "Epoch 174/300\n",
            "34/34 [==============================] - 0s 3ms/step - loss: 0.5024 - accuracy: 0.7430 - recall: 0.5187 - val_loss: 0.5813 - val_accuracy: 0.7143 - val_recall: 0.3704\n",
            "Epoch 175/300\n",
            "34/34 [==============================] - 0s 3ms/step - loss: 0.5101 - accuracy: 0.7542 - recall: 0.5401 - val_loss: 0.5971 - val_accuracy: 0.7013 - val_recall: 0.6667\n",
            "Epoch 176/300\n",
            "34/34 [==============================] - 0s 3ms/step - loss: 0.4959 - accuracy: 0.7598 - recall: 0.5936 - val_loss: 0.5871 - val_accuracy: 0.6926 - val_recall: 0.2963\n",
            "Epoch 177/300\n",
            "34/34 [==============================] - 0s 3ms/step - loss: 0.5325 - accuracy: 0.7263 - recall: 0.4920 - val_loss: 0.6104 - val_accuracy: 0.7013 - val_recall: 0.6790\n",
            "Epoch 178/300\n",
            "34/34 [==============================] - 0s 3ms/step - loss: 0.5046 - accuracy: 0.7412 - recall: 0.5187 - val_loss: 0.5882 - val_accuracy: 0.7056 - val_recall: 0.5679\n",
            "Epoch 179/300\n",
            "34/34 [==============================] - 0s 2ms/step - loss: 0.4973 - accuracy: 0.7505 - recall: 0.5561 - val_loss: 0.5679 - val_accuracy: 0.7359 - val_recall: 0.5309\n",
            "Epoch 180/300\n",
            "34/34 [==============================] - 0s 3ms/step - loss: 0.4866 - accuracy: 0.7654 - recall: 0.5775 - val_loss: 0.5739 - val_accuracy: 0.7100 - val_recall: 0.3827\n",
            "Epoch 181/300\n",
            "34/34 [==============================] - 0s 3ms/step - loss: 0.4944 - accuracy: 0.7523 - recall: 0.5508 - val_loss: 0.6309 - val_accuracy: 0.6710 - val_recall: 0.6914\n",
            "Epoch 182/300\n",
            "34/34 [==============================] - 0s 3ms/step - loss: 0.5392 - accuracy: 0.7654 - recall: 0.5936 - val_loss: 0.5950 - val_accuracy: 0.6970 - val_recall: 0.2716\n",
            "Epoch 183/300\n",
            "34/34 [==============================] - 0s 3ms/step - loss: 0.5013 - accuracy: 0.7449 - recall: 0.5348 - val_loss: 0.5675 - val_accuracy: 0.7229 - val_recall: 0.4444\n",
            "Epoch 184/300\n",
            "34/34 [==============================] - 0s 3ms/step - loss: 0.4899 - accuracy: 0.7616 - recall: 0.5936 - val_loss: 0.6007 - val_accuracy: 0.6883 - val_recall: 0.2593\n",
            "Epoch 185/300\n",
            "34/34 [==============================] - 0s 3ms/step - loss: 0.5046 - accuracy: 0.7598 - recall: 0.5455 - val_loss: 0.5715 - val_accuracy: 0.7186 - val_recall: 0.4074\n",
            "Epoch 186/300\n",
            "34/34 [==============================] - 0s 4ms/step - loss: 0.5064 - accuracy: 0.7486 - recall: 0.5401 - val_loss: 0.5747 - val_accuracy: 0.7186 - val_recall: 0.5556\n",
            "Epoch 187/300\n",
            "34/34 [==============================] - 0s 3ms/step - loss: 0.4862 - accuracy: 0.7747 - recall: 0.6310 - val_loss: 0.5859 - val_accuracy: 0.7100 - val_recall: 0.3580\n",
            "Epoch 188/300\n",
            "34/34 [==============================] - 0s 3ms/step - loss: 0.5111 - accuracy: 0.7561 - recall: 0.5455 - val_loss: 0.5803 - val_accuracy: 0.7229 - val_recall: 0.5679\n",
            "Epoch 189/300\n",
            "34/34 [==============================] - 0s 3ms/step - loss: 0.4924 - accuracy: 0.7691 - recall: 0.5775 - val_loss: 0.5779 - val_accuracy: 0.7229 - val_recall: 0.4568\n",
            "Epoch 190/300\n",
            "34/34 [==============================] - 0s 3ms/step - loss: 0.4892 - accuracy: 0.7654 - recall: 0.5829 - val_loss: 0.5729 - val_accuracy: 0.7100 - val_recall: 0.3827\n",
            "Epoch 191/300\n",
            "34/34 [==============================] - 0s 3ms/step - loss: 0.4956 - accuracy: 0.7728 - recall: 0.5615 - val_loss: 0.5874 - val_accuracy: 0.7056 - val_recall: 0.6173\n",
            "Epoch 192/300\n",
            "34/34 [==============================] - 0s 3ms/step - loss: 0.4849 - accuracy: 0.7709 - recall: 0.6096 - val_loss: 0.5756 - val_accuracy: 0.7186 - val_recall: 0.3704\n",
            "Epoch 193/300\n",
            "34/34 [==============================] - 0s 3ms/step - loss: 0.4983 - accuracy: 0.7709 - recall: 0.6150 - val_loss: 0.5820 - val_accuracy: 0.7100 - val_recall: 0.3580\n",
            "Epoch 194/300\n",
            "34/34 [==============================] - 0s 3ms/step - loss: 0.5118 - accuracy: 0.7598 - recall: 0.5455 - val_loss: 0.5906 - val_accuracy: 0.7186 - val_recall: 0.6543\n",
            "Epoch 195/300\n",
            "34/34 [==============================] - 0s 3ms/step - loss: 0.4973 - accuracy: 0.7561 - recall: 0.6096 - val_loss: 0.5800 - val_accuracy: 0.7013 - val_recall: 0.3457\n",
            "Epoch 196/300\n",
            "34/34 [==============================] - 0s 3ms/step - loss: 0.5033 - accuracy: 0.7709 - recall: 0.5241 - val_loss: 0.5754 - val_accuracy: 0.7143 - val_recall: 0.4568\n",
            "Epoch 197/300\n",
            "34/34 [==============================] - 0s 3ms/step - loss: 0.4939 - accuracy: 0.7803 - recall: 0.6096 - val_loss: 0.5729 - val_accuracy: 0.7056 - val_recall: 0.5679\n",
            "Epoch 198/300\n",
            "34/34 [==============================] - 0s 3ms/step - loss: 0.5007 - accuracy: 0.7672 - recall: 0.5989 - val_loss: 0.6743 - val_accuracy: 0.6797 - val_recall: 0.1481\n",
            "Epoch 199/300\n",
            "34/34 [==============================] - 0s 3ms/step - loss: 0.4907 - accuracy: 0.7784 - recall: 0.5829 - val_loss: 0.5690 - val_accuracy: 0.7316 - val_recall: 0.5185\n",
            "Epoch 200/300\n",
            "34/34 [==============================] - 0s 3ms/step - loss: 0.5097 - accuracy: 0.7449 - recall: 0.5401 - val_loss: 0.7644 - val_accuracy: 0.5801 - val_recall: 0.8395\n",
            "Epoch 201/300\n",
            "34/34 [==============================] - 0s 3ms/step - loss: 0.5028 - accuracy: 0.7654 - recall: 0.6631 - val_loss: 0.5797 - val_accuracy: 0.7013 - val_recall: 0.3457\n",
            "Epoch 202/300\n",
            "34/34 [==============================] - 0s 3ms/step - loss: 0.4923 - accuracy: 0.7709 - recall: 0.5561 - val_loss: 0.5732 - val_accuracy: 0.7229 - val_recall: 0.5556\n",
            "Epoch 203/300\n",
            "34/34 [==============================] - 0s 3ms/step - loss: 0.4957 - accuracy: 0.7654 - recall: 0.6257 - val_loss: 0.5658 - val_accuracy: 0.7316 - val_recall: 0.5062\n",
            "Epoch 204/300\n",
            "34/34 [==============================] - 0s 3ms/step - loss: 0.4996 - accuracy: 0.7672 - recall: 0.5241 - val_loss: 0.5646 - val_accuracy: 0.7229 - val_recall: 0.4321\n",
            "Epoch 205/300\n",
            "34/34 [==============================] - 0s 3ms/step - loss: 0.4923 - accuracy: 0.7672 - recall: 0.6096 - val_loss: 0.6028 - val_accuracy: 0.6753 - val_recall: 0.6667\n",
            "Epoch 206/300\n",
            "34/34 [==============================] - 0s 3ms/step - loss: 0.4894 - accuracy: 0.7765 - recall: 0.6203 - val_loss: 0.5967 - val_accuracy: 0.6970 - val_recall: 0.2840\n",
            "Epoch 207/300\n",
            "34/34 [==============================] - 0s 3ms/step - loss: 0.5111 - accuracy: 0.7561 - recall: 0.5722 - val_loss: 0.5665 - val_accuracy: 0.7316 - val_recall: 0.5432\n",
            "Epoch 208/300\n",
            "34/34 [==============================] - 0s 4ms/step - loss: 0.5041 - accuracy: 0.7747 - recall: 0.5989 - val_loss: 0.6137 - val_accuracy: 0.7013 - val_recall: 0.3086\n",
            "Epoch 209/300\n",
            "34/34 [==============================] - 0s 3ms/step - loss: 0.5002 - accuracy: 0.7542 - recall: 0.5829 - val_loss: 0.5693 - val_accuracy: 0.7100 - val_recall: 0.4938\n",
            "Epoch 210/300\n",
            "34/34 [==============================] - 0s 3ms/step - loss: 0.4828 - accuracy: 0.7728 - recall: 0.5561 - val_loss: 0.5988 - val_accuracy: 0.6797 - val_recall: 0.7160\n",
            "Epoch 211/300\n",
            "34/34 [==============================] - 0s 3ms/step - loss: 0.4992 - accuracy: 0.7672 - recall: 0.5936 - val_loss: 0.5669 - val_accuracy: 0.7143 - val_recall: 0.6049\n",
            "Epoch 212/300\n",
            "34/34 [==============================] - 0s 3ms/step - loss: 0.4809 - accuracy: 0.7765 - recall: 0.6043 - val_loss: 0.5632 - val_accuracy: 0.7316 - val_recall: 0.5556\n",
            "Epoch 213/300\n",
            "34/34 [==============================] - 0s 3ms/step - loss: 0.4998 - accuracy: 0.7486 - recall: 0.5989 - val_loss: 0.5733 - val_accuracy: 0.7143 - val_recall: 0.3827\n",
            "Epoch 214/300\n",
            "34/34 [==============================] - 0s 3ms/step - loss: 0.4910 - accuracy: 0.7561 - recall: 0.5455 - val_loss: 0.5925 - val_accuracy: 0.7056 - val_recall: 0.4691\n",
            "Epoch 215/300\n",
            "34/34 [==============================] - 0s 3ms/step - loss: 0.4825 - accuracy: 0.7765 - recall: 0.5775 - val_loss: 0.5721 - val_accuracy: 0.7100 - val_recall: 0.4074\n",
            "Epoch 216/300\n",
            "34/34 [==============================] - 0s 3ms/step - loss: 0.4818 - accuracy: 0.7765 - recall: 0.5722 - val_loss: 0.5665 - val_accuracy: 0.7229 - val_recall: 0.4444\n",
            "Epoch 217/300\n",
            "34/34 [==============================] - 0s 3ms/step - loss: 0.4892 - accuracy: 0.7691 - recall: 0.5455 - val_loss: 0.6135 - val_accuracy: 0.6753 - val_recall: 0.7037\n",
            "Epoch 218/300\n",
            "34/34 [==============================] - 0s 3ms/step - loss: 0.4782 - accuracy: 0.7858 - recall: 0.6417 - val_loss: 0.6701 - val_accuracy: 0.6753 - val_recall: 0.1481\n",
            "Epoch 219/300\n",
            "34/34 [==============================] - 0s 3ms/step - loss: 0.5134 - accuracy: 0.7467 - recall: 0.5241 - val_loss: 0.5762 - val_accuracy: 0.7229 - val_recall: 0.6173\n",
            "Epoch 220/300\n",
            "34/34 [==============================] - 0s 3ms/step - loss: 0.4872 - accuracy: 0.7561 - recall: 0.5722 - val_loss: 0.5786 - val_accuracy: 0.7143 - val_recall: 0.4074\n",
            "Epoch 221/300\n",
            "34/34 [==============================] - 0s 3ms/step - loss: 0.4871 - accuracy: 0.7728 - recall: 0.6203 - val_loss: 0.5734 - val_accuracy: 0.7100 - val_recall: 0.6049\n",
            "Epoch 222/300\n",
            "34/34 [==============================] - 0s 3ms/step - loss: 0.4765 - accuracy: 0.7728 - recall: 0.5829 - val_loss: 0.5607 - val_accuracy: 0.7316 - val_recall: 0.4938\n",
            "Epoch 223/300\n",
            "34/34 [==============================] - 0s 3ms/step - loss: 0.4809 - accuracy: 0.7765 - recall: 0.5615 - val_loss: 0.5634 - val_accuracy: 0.7316 - val_recall: 0.5679\n",
            "Epoch 224/300\n",
            "34/34 [==============================] - 0s 3ms/step - loss: 0.4880 - accuracy: 0.7672 - recall: 0.6203 - val_loss: 0.5670 - val_accuracy: 0.7186 - val_recall: 0.4074\n",
            "Epoch 225/300\n",
            "34/34 [==============================] - 0s 5ms/step - loss: 0.4857 - accuracy: 0.7561 - recall: 0.6043 - val_loss: 0.5783 - val_accuracy: 0.7100 - val_recall: 0.3210\n",
            "Epoch 226/300\n",
            "34/34 [==============================] - 0s 3ms/step - loss: 0.4775 - accuracy: 0.7635 - recall: 0.5401 - val_loss: 0.5644 - val_accuracy: 0.7316 - val_recall: 0.4691\n",
            "Epoch 227/300\n",
            "34/34 [==============================] - 0s 3ms/step - loss: 0.4879 - accuracy: 0.7635 - recall: 0.6203 - val_loss: 0.5966 - val_accuracy: 0.7013 - val_recall: 0.3086\n",
            "Epoch 228/300\n",
            "34/34 [==============================] - 0s 3ms/step - loss: 0.4789 - accuracy: 0.7635 - recall: 0.5882 - val_loss: 0.5827 - val_accuracy: 0.7056 - val_recall: 0.3210\n",
            "Epoch 229/300\n",
            "34/34 [==============================] - 0s 3ms/step - loss: 0.4698 - accuracy: 0.7747 - recall: 0.5882 - val_loss: 0.5671 - val_accuracy: 0.7186 - val_recall: 0.4444\n",
            "Epoch 230/300\n",
            "34/34 [==============================] - 0s 3ms/step - loss: 0.4764 - accuracy: 0.7840 - recall: 0.5936 - val_loss: 0.5664 - val_accuracy: 0.7186 - val_recall: 0.4444\n",
            "Epoch 231/300\n",
            "34/34 [==============================] - 0s 3ms/step - loss: 0.4870 - accuracy: 0.7821 - recall: 0.6096 - val_loss: 0.5614 - val_accuracy: 0.7316 - val_recall: 0.5432\n",
            "Epoch 232/300\n",
            "34/34 [==============================] - 0s 3ms/step - loss: 0.4910 - accuracy: 0.7635 - recall: 0.5775 - val_loss: 0.5740 - val_accuracy: 0.7056 - val_recall: 0.3580\n",
            "Epoch 233/300\n",
            "34/34 [==============================] - 0s 3ms/step - loss: 0.4826 - accuracy: 0.7803 - recall: 0.5989 - val_loss: 0.5719 - val_accuracy: 0.7186 - val_recall: 0.4691\n",
            "Epoch 234/300\n",
            "34/34 [==============================] - 0s 3ms/step - loss: 0.4678 - accuracy: 0.7896 - recall: 0.5936 - val_loss: 0.5917 - val_accuracy: 0.6883 - val_recall: 0.2963\n",
            "Epoch 235/300\n",
            "34/34 [==============================] - 0s 3ms/step - loss: 0.4827 - accuracy: 0.7691 - recall: 0.5615 - val_loss: 0.5663 - val_accuracy: 0.7186 - val_recall: 0.5556\n",
            "Epoch 236/300\n",
            "34/34 [==============================] - 0s 3ms/step - loss: 0.4796 - accuracy: 0.7803 - recall: 0.5989 - val_loss: 0.5610 - val_accuracy: 0.7273 - val_recall: 0.4815\n",
            "Epoch 237/300\n",
            "34/34 [==============================] - 0s 3ms/step - loss: 0.4814 - accuracy: 0.7728 - recall: 0.5882 - val_loss: 0.5782 - val_accuracy: 0.7229 - val_recall: 0.6667\n",
            "Epoch 238/300\n",
            "34/34 [==============================] - 0s 3ms/step - loss: 0.4901 - accuracy: 0.7616 - recall: 0.5882 - val_loss: 0.5711 - val_accuracy: 0.7229 - val_recall: 0.6296\n",
            "Epoch 239/300\n",
            "34/34 [==============================] - 0s 3ms/step - loss: 0.4781 - accuracy: 0.7728 - recall: 0.5882 - val_loss: 0.5620 - val_accuracy: 0.7100 - val_recall: 0.4321\n",
            "Epoch 240/300\n",
            "34/34 [==============================] - 0s 3ms/step - loss: 0.4664 - accuracy: 0.7784 - recall: 0.5989 - val_loss: 0.5773 - val_accuracy: 0.7056 - val_recall: 0.3580\n",
            "Epoch 241/300\n",
            "34/34 [==============================] - 0s 3ms/step - loss: 0.4728 - accuracy: 0.7765 - recall: 0.5829 - val_loss: 0.5675 - val_accuracy: 0.7100 - val_recall: 0.3827\n",
            "Epoch 242/300\n",
            "34/34 [==============================] - 0s 3ms/step - loss: 0.4892 - accuracy: 0.7765 - recall: 0.5882 - val_loss: 0.5698 - val_accuracy: 0.7143 - val_recall: 0.3951\n",
            "Epoch 243/300\n",
            "34/34 [==============================] - 0s 3ms/step - loss: 0.4844 - accuracy: 0.7654 - recall: 0.5775 - val_loss: 0.5607 - val_accuracy: 0.7186 - val_recall: 0.4815\n",
            "Epoch 244/300\n",
            "34/34 [==============================] - 0s 3ms/step - loss: 0.4802 - accuracy: 0.7858 - recall: 0.6578 - val_loss: 0.6178 - val_accuracy: 0.6926 - val_recall: 0.2346\n",
            "Epoch 245/300\n",
            "34/34 [==============================] - 0s 3ms/step - loss: 0.4800 - accuracy: 0.7821 - recall: 0.5561 - val_loss: 0.5630 - val_accuracy: 0.7316 - val_recall: 0.5679\n",
            "Epoch 246/300\n",
            "34/34 [==============================] - 0s 3ms/step - loss: 0.4731 - accuracy: 0.7784 - recall: 0.6203 - val_loss: 0.5712 - val_accuracy: 0.7143 - val_recall: 0.4198\n",
            "Epoch 247/300\n",
            "34/34 [==============================] - 0s 3ms/step - loss: 0.4833 - accuracy: 0.7803 - recall: 0.5989 - val_loss: 0.5684 - val_accuracy: 0.7186 - val_recall: 0.5556\n",
            "Epoch 248/300\n",
            "34/34 [==============================] - 0s 3ms/step - loss: 0.4758 - accuracy: 0.7654 - recall: 0.5722 - val_loss: 0.5618 - val_accuracy: 0.7403 - val_recall: 0.5679\n",
            "Epoch 249/300\n",
            "34/34 [==============================] - 0s 3ms/step - loss: 0.4836 - accuracy: 0.7561 - recall: 0.5829 - val_loss: 0.5698 - val_accuracy: 0.7403 - val_recall: 0.6049\n",
            "Epoch 250/300\n",
            "34/34 [==============================] - 0s 3ms/step - loss: 0.4812 - accuracy: 0.7598 - recall: 0.5455 - val_loss: 0.5670 - val_accuracy: 0.7229 - val_recall: 0.5679\n",
            "Epoch 251/300\n",
            "34/34 [==============================] - 0s 3ms/step - loss: 0.4842 - accuracy: 0.7840 - recall: 0.6096 - val_loss: 0.5950 - val_accuracy: 0.6840 - val_recall: 0.2963\n",
            "Epoch 252/300\n",
            "34/34 [==============================] - 0s 3ms/step - loss: 0.4698 - accuracy: 0.7728 - recall: 0.5936 - val_loss: 0.5837 - val_accuracy: 0.6926 - val_recall: 0.3210\n",
            "Epoch 253/300\n",
            "34/34 [==============================] - 0s 3ms/step - loss: 0.4671 - accuracy: 0.7840 - recall: 0.5936 - val_loss: 0.5894 - val_accuracy: 0.7273 - val_recall: 0.7037\n",
            "Epoch 254/300\n",
            "34/34 [==============================] - 0s 3ms/step - loss: 0.4893 - accuracy: 0.7654 - recall: 0.5936 - val_loss: 0.5985 - val_accuracy: 0.7056 - val_recall: 0.2963\n",
            "Epoch 255/300\n",
            "34/34 [==============================] - 0s 3ms/step - loss: 0.4711 - accuracy: 0.7803 - recall: 0.5775 - val_loss: 0.5819 - val_accuracy: 0.7100 - val_recall: 0.5185\n",
            "Epoch 256/300\n",
            "34/34 [==============================] - 0s 3ms/step - loss: 0.4715 - accuracy: 0.7784 - recall: 0.5775 - val_loss: 0.6102 - val_accuracy: 0.6970 - val_recall: 0.5679\n",
            "Epoch 257/300\n",
            "34/34 [==============================] - 0s 3ms/step - loss: 0.4888 - accuracy: 0.7598 - recall: 0.5989 - val_loss: 0.5735 - val_accuracy: 0.7186 - val_recall: 0.4691\n",
            "Epoch 258/300\n",
            "34/34 [==============================] - 0s 3ms/step - loss: 0.4594 - accuracy: 0.7840 - recall: 0.6364 - val_loss: 0.5842 - val_accuracy: 0.7056 - val_recall: 0.3704\n",
            "Epoch 259/300\n",
            "34/34 [==============================] - 0s 3ms/step - loss: 0.4764 - accuracy: 0.7803 - recall: 0.6150 - val_loss: 0.5815 - val_accuracy: 0.7056 - val_recall: 0.5926\n",
            "Epoch 260/300\n",
            "34/34 [==============================] - 0s 3ms/step - loss: 0.4694 - accuracy: 0.7691 - recall: 0.5722 - val_loss: 0.5880 - val_accuracy: 0.6970 - val_recall: 0.3457\n",
            "Epoch 261/300\n",
            "34/34 [==============================] - 0s 5ms/step - loss: 0.4712 - accuracy: 0.7933 - recall: 0.6043 - val_loss: 0.5794 - val_accuracy: 0.7100 - val_recall: 0.4568\n",
            "Epoch 262/300\n",
            "34/34 [==============================] - 0s 3ms/step - loss: 0.4693 - accuracy: 0.7877 - recall: 0.6257 - val_loss: 0.5866 - val_accuracy: 0.7186 - val_recall: 0.5185\n",
            "Epoch 263/300\n",
            "34/34 [==============================] - 0s 3ms/step - loss: 0.4759 - accuracy: 0.7709 - recall: 0.6096 - val_loss: 0.5816 - val_accuracy: 0.7186 - val_recall: 0.6420\n",
            "Epoch 264/300\n",
            "34/34 [==============================] - 0s 3ms/step - loss: 0.4616 - accuracy: 0.7803 - recall: 0.5775 - val_loss: 0.5710 - val_accuracy: 0.7273 - val_recall: 0.5926\n",
            "Epoch 265/300\n",
            "34/34 [==============================] - 0s 3ms/step - loss: 0.4810 - accuracy: 0.7691 - recall: 0.6043 - val_loss: 0.5812 - val_accuracy: 0.6970 - val_recall: 0.4815\n",
            "Epoch 266/300\n",
            "34/34 [==============================] - 0s 3ms/step - loss: 0.5058 - accuracy: 0.7579 - recall: 0.6310 - val_loss: 0.5698 - val_accuracy: 0.7273 - val_recall: 0.5309\n",
            "Epoch 267/300\n",
            "34/34 [==============================] - 0s 3ms/step - loss: 0.5045 - accuracy: 0.7467 - recall: 0.5080 - val_loss: 0.5821 - val_accuracy: 0.7056 - val_recall: 0.4321\n",
            "Epoch 268/300\n",
            "34/34 [==============================] - 0s 4ms/step - loss: 0.4747 - accuracy: 0.7821 - recall: 0.6631 - val_loss: 0.5943 - val_accuracy: 0.7143 - val_recall: 0.4568\n",
            "Epoch 269/300\n",
            "34/34 [==============================] - 0s 3ms/step - loss: 0.4621 - accuracy: 0.7803 - recall: 0.5775 - val_loss: 0.5775 - val_accuracy: 0.7143 - val_recall: 0.6420\n",
            "Epoch 270/300\n",
            "34/34 [==============================] - 0s 3ms/step - loss: 0.4632 - accuracy: 0.7821 - recall: 0.5936 - val_loss: 0.5906 - val_accuracy: 0.7229 - val_recall: 0.7531\n",
            "Epoch 271/300\n",
            "34/34 [==============================] - 0s 3ms/step - loss: 0.4700 - accuracy: 0.7691 - recall: 0.6417 - val_loss: 0.6193 - val_accuracy: 0.6926 - val_recall: 0.2593\n",
            "Epoch 272/300\n",
            "34/34 [==============================] - 0s 3ms/step - loss: 0.4850 - accuracy: 0.7784 - recall: 0.5455 - val_loss: 0.5666 - val_accuracy: 0.7446 - val_recall: 0.5062\n",
            "Epoch 273/300\n",
            "34/34 [==============================] - 0s 3ms/step - loss: 0.4647 - accuracy: 0.7840 - recall: 0.6417 - val_loss: 0.5694 - val_accuracy: 0.7100 - val_recall: 0.4074\n",
            "Epoch 274/300\n",
            "34/34 [==============================] - 0s 3ms/step - loss: 0.4789 - accuracy: 0.7803 - recall: 0.5775 - val_loss: 0.5797 - val_accuracy: 0.6970 - val_recall: 0.6296\n",
            "Epoch 275/300\n",
            "34/34 [==============================] - 0s 3ms/step - loss: 0.4698 - accuracy: 0.7840 - recall: 0.5936 - val_loss: 0.5697 - val_accuracy: 0.7316 - val_recall: 0.5432\n",
            "Epoch 276/300\n",
            "34/34 [==============================] - 0s 3ms/step - loss: 0.4855 - accuracy: 0.7728 - recall: 0.6578 - val_loss: 0.5944 - val_accuracy: 0.7013 - val_recall: 0.3333\n",
            "Epoch 277/300\n",
            "34/34 [==============================] - 0s 3ms/step - loss: 0.4750 - accuracy: 0.7598 - recall: 0.5615 - val_loss: 0.5743 - val_accuracy: 0.7143 - val_recall: 0.3951\n",
            "Epoch 278/300\n",
            "34/34 [==============================] - 0s 3ms/step - loss: 0.4669 - accuracy: 0.7989 - recall: 0.6364 - val_loss: 0.5756 - val_accuracy: 0.7186 - val_recall: 0.4198\n",
            "Epoch 279/300\n",
            "34/34 [==============================] - 0s 3ms/step - loss: 0.4531 - accuracy: 0.7877 - recall: 0.5936 - val_loss: 0.5694 - val_accuracy: 0.7316 - val_recall: 0.5926\n",
            "Epoch 280/300\n",
            "34/34 [==============================] - 0s 3ms/step - loss: 0.4709 - accuracy: 0.7747 - recall: 0.6096 - val_loss: 0.5728 - val_accuracy: 0.7186 - val_recall: 0.4321\n",
            "Epoch 281/300\n",
            "34/34 [==============================] - 0s 3ms/step - loss: 0.4752 - accuracy: 0.7765 - recall: 0.6150 - val_loss: 0.5686 - val_accuracy: 0.7273 - val_recall: 0.4815\n",
            "Epoch 282/300\n",
            "34/34 [==============================] - 0s 3ms/step - loss: 0.4669 - accuracy: 0.7728 - recall: 0.5936 - val_loss: 0.5648 - val_accuracy: 0.7403 - val_recall: 0.5802\n",
            "Epoch 283/300\n",
            "34/34 [==============================] - 0s 3ms/step - loss: 0.4614 - accuracy: 0.7896 - recall: 0.5989 - val_loss: 0.5658 - val_accuracy: 0.7273 - val_recall: 0.5185\n",
            "Epoch 284/300\n",
            "34/34 [==============================] - 0s 3ms/step - loss: 0.4538 - accuracy: 0.7821 - recall: 0.6150 - val_loss: 0.5924 - val_accuracy: 0.7056 - val_recall: 0.3210\n",
            "Epoch 285/300\n",
            "34/34 [==============================] - 0s 3ms/step - loss: 0.4632 - accuracy: 0.7784 - recall: 0.5775 - val_loss: 0.5792 - val_accuracy: 0.7056 - val_recall: 0.5926\n",
            "Epoch 286/300\n",
            "34/34 [==============================] - 0s 3ms/step - loss: 0.4661 - accuracy: 0.7914 - recall: 0.5829 - val_loss: 0.5652 - val_accuracy: 0.7186 - val_recall: 0.5802\n",
            "Epoch 287/300\n",
            "34/34 [==============================] - 0s 3ms/step - loss: 0.4741 - accuracy: 0.7747 - recall: 0.5989 - val_loss: 0.5659 - val_accuracy: 0.7186 - val_recall: 0.5185\n",
            "Epoch 288/300\n",
            "34/34 [==============================] - 0s 3ms/step - loss: 0.4628 - accuracy: 0.7858 - recall: 0.6310 - val_loss: 0.5646 - val_accuracy: 0.7186 - val_recall: 0.4691\n",
            "Epoch 289/300\n",
            "34/34 [==============================] - 0s 3ms/step - loss: 0.4580 - accuracy: 0.7728 - recall: 0.5775 - val_loss: 0.5699 - val_accuracy: 0.7316 - val_recall: 0.5062\n",
            "Epoch 290/300\n",
            "34/34 [==============================] - 0s 3ms/step - loss: 0.4596 - accuracy: 0.7821 - recall: 0.6096 - val_loss: 0.5781 - val_accuracy: 0.7100 - val_recall: 0.3704\n",
            "Epoch 291/300\n",
            "34/34 [==============================] - 0s 3ms/step - loss: 0.4532 - accuracy: 0.7821 - recall: 0.6096 - val_loss: 0.5757 - val_accuracy: 0.7143 - val_recall: 0.3827\n",
            "Epoch 292/300\n",
            "34/34 [==============================] - 0s 3ms/step - loss: 0.4644 - accuracy: 0.7635 - recall: 0.5882 - val_loss: 0.5965 - val_accuracy: 0.6970 - val_recall: 0.6914\n",
            "Epoch 293/300\n",
            "34/34 [==============================] - 0s 3ms/step - loss: 0.4541 - accuracy: 0.7914 - recall: 0.6310 - val_loss: 0.5926 - val_accuracy: 0.7013 - val_recall: 0.2963\n",
            "Epoch 294/300\n",
            "34/34 [==============================] - 0s 3ms/step - loss: 0.4783 - accuracy: 0.7803 - recall: 0.5668 - val_loss: 0.5675 - val_accuracy: 0.7229 - val_recall: 0.5802\n",
            "Epoch 295/300\n",
            "34/34 [==============================] - 0s 3ms/step - loss: 0.4554 - accuracy: 0.7803 - recall: 0.6310 - val_loss: 0.5748 - val_accuracy: 0.7273 - val_recall: 0.6420\n",
            "Epoch 296/300\n",
            "34/34 [==============================] - 0s 3ms/step - loss: 0.4554 - accuracy: 0.7877 - recall: 0.6257 - val_loss: 0.5806 - val_accuracy: 0.7056 - val_recall: 0.3704\n",
            "Epoch 297/300\n",
            "34/34 [==============================] - 0s 3ms/step - loss: 0.4816 - accuracy: 0.7803 - recall: 0.5668 - val_loss: 0.5903 - val_accuracy: 0.7056 - val_recall: 0.6667\n",
            "Epoch 298/300\n",
            "34/34 [==============================] - 0s 3ms/step - loss: 0.4844 - accuracy: 0.7803 - recall: 0.6043 - val_loss: 0.5699 - val_accuracy: 0.7229 - val_recall: 0.5926\n",
            "Epoch 299/300\n",
            "34/34 [==============================] - 0s 3ms/step - loss: 0.4708 - accuracy: 0.7784 - recall: 0.5936 - val_loss: 0.5815 - val_accuracy: 0.7186 - val_recall: 0.3704\n",
            "Epoch 300/300\n",
            "34/34 [==============================] - 0s 3ms/step - loss: 0.4684 - accuracy: 0.7672 - recall: 0.6043 - val_loss: 0.5715 - val_accuracy: 0.7273 - val_recall: 0.4938\n"
          ]
        }
      ]
    },
    {
      "cell_type": "code",
      "metadata": {
        "id": "hKmCZAYSrpTX",
        "outputId": "2e5154ef-8983-48c7-98f6-a425ba1c3590",
        "colab": {
          "base_uri": "https://localhost:8080/"
        }
      },
      "source": [
        "history.history.keys()"
      ],
      "execution_count": 7,
      "outputs": [
        {
          "output_type": "execute_result",
          "data": {
            "text/plain": [
              "dict_keys(['loss', 'accuracy', 'recall', 'val_loss', 'val_accuracy', 'val_recall'])"
            ]
          },
          "metadata": {},
          "execution_count": 7
        }
      ]
    },
    {
      "cell_type": "code",
      "metadata": {
        "id": "tXzLgNMYs0OM",
        "outputId": "e50e2eeb-3869-4549-fc09-315a4363c5b7",
        "colab": {
          "base_uri": "https://localhost:8080/"
        }
      },
      "source": [
        "# Problema de optimización\n",
        "loss, accuracy, recall = model.evaluate(X_train, y_train)\n",
        "print('Recall: %.3f' % recall)\n",
        "print('Accuracy: %.3f' % accuracy)\n",
        "print('Loss: %.3f'% loss)"
      ],
      "execution_count": 8,
      "outputs": [
        {
          "output_type": "stream",
          "name": "stdout",
          "text": [
            "17/17 [==============================] - 0s 1ms/step - loss: 0.4438 - accuracy: 0.7952 - recall: 0.6471\n",
            "Recall: 0.647\n",
            "Accuracy: 0.795\n",
            "Loss: 0.444\n"
          ]
        }
      ]
    },
    {
      "cell_type": "code",
      "metadata": {
        "colab": {
          "base_uri": "https://localhost:8080/"
        },
        "id": "0yedNc9NTKGF",
        "outputId": "7836afc4-a0cc-4dfd-fd7d-380efce2fc1f"
      },
      "source": [
        "# Problema de optimización\n",
        "val_loss, val_accuracy, val_recall = model.evaluate(X_test, y_test)\n",
        "print('Val Recall: %.3f' % recall)\n",
        "print('Val Accuracy: %.3f' % accuracy)\n",
        "print('val Loss: %.3f'% loss)"
      ],
      "execution_count": 9,
      "outputs": [
        {
          "output_type": "stream",
          "name": "stdout",
          "text": [
            "8/8 [==============================] - 0s 2ms/step - loss: 0.5715 - accuracy: 0.7273 - recall: 0.4938\n",
            "Val Recall: 0.647\n",
            "Val Accuracy: 0.795\n",
            "val Loss: 0.444\n"
          ]
        }
      ]
    },
    {
      "cell_type": "code",
      "metadata": {
        "colab": {
          "base_uri": "https://localhost:8080/"
        },
        "id": "jShpfMcBT2co",
        "outputId": "661b590e-e39b-442f-b387-2a13da75e617"
      },
      "source": [
        "#Keys\n",
        "print(history.history.keys())"
      ],
      "execution_count": 10,
      "outputs": [
        {
          "output_type": "stream",
          "name": "stdout",
          "text": [
            "dict_keys(['loss', 'accuracy', 'recall', 'val_loss', 'val_accuracy', 'val_recall'])\n"
          ]
        }
      ]
    },
    {
      "cell_type": "markdown",
      "metadata": {
        "id": "flVm0xVVT5hM"
      },
      "source": [
        "# Recall and Loss"
      ]
    },
    {
      "cell_type": "code",
      "metadata": {
        "id": "VYOrvG5x1EY8",
        "outputId": "bf9cc9e5-f87d-460d-9f9e-9ce54cac576f",
        "colab": {
          "base_uri": "https://localhost:8080/",
          "height": 313
        }
      },
      "source": [
        "fig, ax = plt.subplots(figsize = (8,4))\n",
        "fig.suptitle('Recall vs Val_Recall', fontsize = 15)\n",
        "ax.plot(history.history['loss'])\n",
        "ax.plot(history.history['val_loss'])\n",
        "ax.set_xlabel('Epoch', size = 12)\n",
        "ax.set_ylabel('Loss', size = 12)\n",
        "ax.legend(['Train', 'Test'], loc = 'upper left', fontsize = 12)\n",
        "ax.tick_params(labelsize = 12)"
      ],
      "execution_count": 11,
      "outputs": [
        {
          "output_type": "display_data",
          "data": {
            "image/png": "[encoded data removed]",
            "text/plain": [
              "<Figure size 576x288 with 1 Axes>"
            ]
          },
          "metadata": {
            "needs_background": "light"
          }
        }
      ]
    },
    {
      "cell_type": "markdown",
      "metadata": {
        "id": "tmuUKwb9VXFF"
      },
      "source": [
        "- La perdida de entrenamiento y validación converge, no se presenta overfitting\n",
        "- La perdada sigue siendo alta\n",
        "- Requiero mas datos"
      ]
    },
    {
      "cell_type": "markdown",
      "metadata": {
        "id": "V87-7yZOV4n7"
      },
      "source": [
        "# Predictions"
      ]
    },
    {
      "cell_type": "code",
      "metadata": {
        "id": "ruKjh0UY3Gz8",
        "outputId": "22261d00-1fc5-4705-f82a-aa63be3aa283",
        "colab": {
          "base_uri": "https://localhost:8080/"
        }
      },
      "source": [
        "y_pred = (model.predict(X_test)>0.5).astype('int32')\n",
        "y_pred = np.reshape(y_pred, y_pred.shape[0])\n",
        "y_pred"
      ],
      "execution_count": 12,
      "outputs": [
        {
          "output_type": "execute_result",
          "data": {
            "text/plain": [
              "array([0, 0, 0, 0, 0, 1, 0, 0, 0, 0, 0, 0, 0, 0, 0, 1, 0, 1, 0, 1, 0, 0,\n",
              "       0, 0, 0, 1, 0, 1, 1, 1, 0, 1, 0, 0, 1, 0, 1, 0, 0, 1, 1, 0, 0, 1,\n",
              "       0, 0, 0, 0, 0, 1, 0, 0, 1, 1, 0, 0, 0, 0, 0, 1, 0, 0, 1, 0, 0, 0,\n",
              "       0, 0, 0, 1, 0, 0, 0, 1, 0, 0, 0, 0, 1, 0, 1, 1, 0, 0, 0, 1, 0, 0,\n",
              "       0, 0, 1, 0, 0, 0, 0, 0, 0, 0, 0, 0, 1, 1, 0, 0, 1, 0, 0, 1, 0, 0,\n",
              "       1, 0, 0, 0, 0, 0, 0, 0, 0, 0, 1, 0, 0, 0, 0, 1, 0, 0, 0, 0, 0, 1,\n",
              "       0, 1, 0, 0, 0, 1, 1, 0, 0, 0, 0, 1, 0, 0, 0, 0, 0, 0, 0, 0, 1, 0,\n",
              "       0, 1, 1, 0, 0, 0, 1, 1, 1, 0, 0, 1, 1, 0, 0, 1, 0, 0, 0, 0, 0, 0,\n",
              "       0, 1, 1, 0, 1, 0, 1, 0, 1, 0, 1, 0, 0, 0, 0, 0, 0, 1, 0, 1, 1, 0,\n",
              "       0, 0, 0, 1, 0, 0, 1, 0, 0, 0, 0, 1, 0, 0, 1, 0, 1, 1, 0, 0, 0, 0,\n",
              "       0, 0, 0, 0, 0, 0, 0, 0, 0, 0, 0], dtype=int32)"
            ]
          },
          "metadata": {},
          "execution_count": 12
        }
      ]
    },
    {
      "cell_type": "code",
      "metadata": {
        "id": "ArPTOaK93nlP",
        "outputId": "6a857672-f36e-4d1a-f176-9909f3414414",
        "colab": {
          "base_uri": "https://localhost:8080/"
        }
      },
      "source": [
        "for i in range(15):\n",
        "  print('%s --> %d (real %d)'% (X_test[i].tolist(), y_pred[i], y_test[i]))"
      ],
      "execution_count": 13,
      "outputs": [
        {
          "output_type": "stream",
          "name": "stdout",
          "text": [
            "[0.0, 180.0, 90.0, 26.0, 90.0, 36.5, 0.314, 35.0] --> 0 (real 1)\n",
            "[3.0, 106.0, 54.0, 21.0, 158.0, 30.9, 0.292, 24.0] --> 0 (real 0)\n",
            "[4.0, 91.0, 70.0, 32.0, 88.0, 33.1, 0.446, 22.0] --> 0 (real 0)\n",
            "[6.0, 166.0, 74.0, 0.0, 0.0, 26.6, 0.304, 66.0] --> 0 (real 0)\n",
            "[10.0, 101.0, 86.0, 37.0, 0.0, 45.6, 1.136, 38.0] --> 0 (real 1)\n",
            "[5.0, 147.0, 75.0, 0.0, 0.0, 29.9, 0.434, 28.0] --> 1 (real 0)\n",
            "[2.0, 114.0, 68.0, 22.0, 0.0, 28.7, 0.092, 25.0] --> 0 (real 0)\n",
            "[1.0, 97.0, 66.0, 15.0, 140.0, 23.2, 0.48700000000000004, 22.0] --> 0 (real 0)\n",
            "[0.0, 118.0, 84.0, 47.0, 230.0, 45.8, 0.551, 31.0] --> 0 (real 1)\n",
            "[1.0, 107.0, 50.0, 19.0, 0.0, 28.3, 0.18100000000000002, 29.0] --> 0 (real 0)\n",
            "[2.0, 127.0, 58.0, 24.0, 275.0, 27.7, 1.6, 25.0] --> 0 (real 0)\n",
            "[3.0, 84.0, 68.0, 30.0, 106.0, 31.9, 0.591, 25.0] --> 0 (real 0)\n",
            "[3.0, 80.0, 0.0, 0.0, 0.0, 0.0, 0.174, 22.0] --> 0 (real 0)\n",
            "[2.0, 134.0, 70.0, 0.0, 0.0, 28.9, 0.542, 23.0] --> 0 (real 1)\n",
            "[12.0, 84.0, 72.0, 31.0, 0.0, 29.7, 0.297, 46.0] --> 0 (real 1)\n"
          ]
        }
      ]
    },
    {
      "cell_type": "markdown",
      "metadata": {
        "id": "Hxu40v_L4XJp"
      },
      "source": [
        "# Sesgo predictivo"
      ]
    },
    {
      "cell_type": "code",
      "metadata": {
        "id": "k10TgPX44Z4S",
        "outputId": "7a2e496d-ce4c-4252-9f19-e20f1b17c9d2",
        "colab": {
          "base_uri": "https://localhost:8080/"
        }
      },
      "source": [
        "#sesgo predicción = promedio de predicciones - promedio de etiquetas (observaciones) en el conjunto de datos\n",
        "\n",
        "# Sick\n",
        "sesgo_prediction = len(y_pred[y_pred==1]) / len(y_test[y_test==1])\n",
        "sesgo_prediction"
      ],
      "execution_count": 14,
      "outputs": [
        {
          "output_type": "execute_result",
          "data": {
            "text/plain": [
              "0.7654320987654321"
            ]
          },
          "metadata": {},
          "execution_count": 14
        }
      ]
    },
    {
      "cell_type": "markdown",
      "metadata": {
        "id": "O2a_lZD55IVy"
      },
      "source": [
        "- Se presenta un ligero sesgo de predicción"
      ]
    },
    {
      "cell_type": "markdown",
      "metadata": {
        "id": "mBCFvZ50XsCw"
      },
      "source": [
        "# Confusion Matrix"
      ]
    },
    {
      "cell_type": "code",
      "metadata": {
        "id": "i_dXGUkD9owf",
        "outputId": "07b3a16e-5989-4957-e28c-26fc0d25ef41",
        "colab": {
          "base_uri": "https://localhost:8080/"
        }
      },
      "source": [
        "matrix = metrics.confusion_matrix(y_test, y_pred)\n",
        "matrix"
      ],
      "execution_count": 15,
      "outputs": [
        {
          "output_type": "execute_result",
          "data": {
            "text/plain": [
              "array([[128,  22],\n",
              "       [ 41,  40]])"
            ]
          },
          "metadata": {},
          "execution_count": 15
        }
      ]
    },
    {
      "cell_type": "code",
      "metadata": {
        "id": "pAEDnWtT91qE",
        "outputId": "7fac53db-7c76-4f57-b7c5-9971f3e8e51d",
        "colab": {
          "base_uri": "https://localhost:8080/",
          "height": 338
        }
      },
      "source": [
        "fig, ax = plt.subplots(nrows= 1, ncols=  1, figsize = (6,5))\n",
        "sns.heatmap(matrix, annot=True, ax = ax, cmap=plt.cm.Blues, fmt = 'g', annot_kws={'size': 13})\n",
        "ax.set_title('Matriz de confusión', size = 13)\n",
        "ax.xaxis.set_ticklabels(['sanos', 'enfermos'])\n",
        "ax.yaxis.set_ticklabels(['sanos', 'enfermos'])\n",
        "ax.tick_params(labelsize = 13)"
      ],
      "execution_count": 16,
      "outputs": [
        {
          "output_type": "display_data",
          "data": {
            "image/png": "[encoded data removed]",
            "text/plain": [
              "<Figure size 432x360 with 2 Axes>"
            ]
          },
          "metadata": {
            "needs_background": "light"
          }
        }
      ]
    },
    {
      "cell_type": "markdown",
      "metadata": {
        "id": "Hk-OIOgdDO8J"
      },
      "source": [
        "# Metrics"
      ]
    },
    {
      "cell_type": "code",
      "metadata": {
        "id": "mY5R4Q_s_ky8",
        "outputId": "a5804c45-5f98-48c7-f3e9-fc4cf40dfde1",
        "colab": {
          "base_uri": "https://localhost:8080/"
        }
      },
      "source": [
        "print(f'Accuracy  :   {metrics.accuracy_score(y_test, y_pred)}')\n",
        "print(f'Kappa     :   {metrics.cohen_kappa_score(y_test, y_pred)}')\n",
        "\n",
        "print(f'predicción enfermos')\n",
        "print(f'Prediction:   {metrics.precision_score(y_test, y_pred, [1], average=\"macro\")}')\n",
        "print(f'Recall    :   {metrics.recall_score(y_test, y_pred, [1], average=\"macro\")}')\n",
        "\n",
        "VN = matrix[0,0]\n",
        "FP = matrix[0,1]\n",
        "specificity = VN/(VN+FP)\n",
        "\n",
        "print(f'Specificity:   {specificity}')\n",
        "print(f'F1-score   :   {metrics.f1_score(y_test, y_pred, [1], average=\"macro\")}' )"
      ],
      "execution_count": 27,
      "outputs": [
        {
          "output_type": "stream",
          "name": "stdout",
          "text": [
            "Accuracy  :   0.7272727272727273\n",
            "Kappa     :   0.3669581104006264\n",
            "predicción enfermos\n",
            "Prediction:   0.6451612903225806\n",
            "Recall    :   0.49382716049382713\n",
            "Specificity:   0.8533333333333334\n",
            "F1-score   :   0.5594405594405595\n"
          ]
        }
      ]
    },
    {
      "cell_type": "markdown",
      "metadata": {
        "id": "1K2IfvuNYd3o"
      },
      "source": [
        "- El modelo es deficiente al momento de predecir los enfermos"
      ]
    },
    {
      "cell_type": "markdown",
      "metadata": {
        "id": "LbFCCInWYoPM"
      },
      "source": [
        "# Cross Validation"
      ]
    },
    {
      "cell_type": "code",
      "metadata": {
        "id": "cE0IXH28DRdz",
        "outputId": "097db88b-8236-48e5-c738-c08b99daff45",
        "colab": {
          "base_uri": "https://localhost:8080/"
        }
      },
      "source": [
        "kfold = StratifiedKFold(n_splits=10, shuffle=True)\n",
        "\n",
        "cvscores_loss_train = []\n",
        "cvscores_loss_test = []\n",
        "cvscores_recall_train = []\n",
        "cvscores_recall_test = []\n",
        "\n",
        "for train, test in kfold.split(X,y):\n",
        "  model = Sequential()\n",
        "  model.add(Dense(12, input_dim = 8, activation='relu', kernel_initializer='glorot_uniform'))\n",
        "  model.add(Dense(8, activation='relu', kernel_initializer='glorot_uniform'))\n",
        "  model.add(Dense(1, activation='sigmoid', kernel_initializer='glorot_uniform'))\n",
        "  model.compile(loss = 'binary_crossentropy', optimizer = 'adam', metrics = ['accuracy', Recall()])\n",
        "  history = model.fit(X_train, y_train, validation_data=(X_test, y_test), epochs = 300, batch_size = 16, verbose = 0)\n",
        "  loss_train, _,recall_train = model.evaluate(X[train], y[train], verbose=0)\n",
        "  cvscores_loss_train.append(loss_train)\n",
        "  cvscores_recall_train.append(recall_train)\n",
        "  loss_test, _, recall_test = model.evaluate(X[test], y[test], verbose=0)\n",
        "  cvscores_loss_test.append(loss_test)\n",
        "  cvscores_recall_test.append(recall_test)\n",
        "  print('======================================================================')\n",
        "  print('loss: %.3f recall: %.3f%% val_loss: %.3f val_recall: %.3f%%' % (loss_train, recall_train*100, loss_test, loss_test*100))"
      ],
      "execution_count": 30,
      "outputs": [
        {
          "output_type": "stream",
          "name": "stdout",
          "text": [
            "======================================================================\n",
            "loss: 0.526 recall: 72.199% val_loss: 0.568 val_recall: 56.754%\n",
            "======================================================================\n",
            "loss: 0.504 recall: 56.432% val_loss: 0.562 val_recall: 56.166%\n",
            "======================================================================\n",
            "loss: 0.486 recall: 52.697% val_loss: 0.395 val_recall: 39.503%\n",
            "======================================================================\n",
            "loss: 0.484 recall: 44.813% val_loss: 0.489 val_recall: 48.913%\n",
            "======================================================================\n",
            "loss: 0.507 recall: 43.154% val_loss: 0.466 val_recall: 46.626%\n",
            "======================================================================\n",
            "loss: 0.519 recall: 79.668% val_loss: 0.452 val_recall: 45.229%\n",
            "======================================================================\n",
            "loss: 0.490 recall: 51.037% val_loss: 0.444 val_recall: 44.382%\n",
            "======================================================================\n",
            "loss: 0.479 recall: 68.465% val_loss: 0.520 val_recall: 52.029%\n",
            "======================================================================\n",
            "loss: 0.470 recall: 59.091% val_loss: 0.482 val_recall: 48.203%\n",
            "======================================================================\n",
            "loss: 0.527 recall: 47.107% val_loss: 0.430 val_recall: 43.047%\n"
          ]
        }
      ]
    },
    {
      "cell_type": "code",
      "metadata": {
        "colab": {
          "base_uri": "https://localhost:8080/"
        },
        "id": "VNPsoxkzYkds",
        "outputId": "22cc4cdf-b41b-4f30-88bb-a422b6f7dc6e"
      },
      "source": [
        "print('==============================Train Recall Total 10 pliegues==============================')\n",
        "print(\"%.2f%% (+/- %.2f%%)\" % (np.mean(cvscores_recall_train), np.std(cvscores_recall_train)))\n",
        "print('==============================Test Recall Total 10 pliegues==============================')\n",
        "print(\"%.2f%% (+/- %.2f%%)\" % (np.mean(cvscores_recall_test), np.std(cvscores_recall_test)))\n",
        "print('==============================Train Loss Total 10 pliegues==============================')\n",
        "print(\"%.2f%% (+/- %.2f%%)\" % (np.mean(cvscores_loss_train), np.std(cvscores_loss_train)))\n",
        "print('==============================Test Loss Total 10 pliegues==============================')\n",
        "print(\"%.2f%% (+/- %.2f%%)\" % (np.mean(cvscores_loss_test), np.std(cvscores_loss_test)))"
      ],
      "execution_count": 31,
      "outputs": [
        {
          "output_type": "stream",
          "name": "stdout",
          "text": [
            "==============================Train Recall Total 10 pliegues==============================\n",
            "0.57% (+/- 0.12%)\n",
            "==============================Test Recall Total 10 pliegues==============================\n",
            "0.60% (+/- 0.12%)\n",
            "==============================Train Loss Total 10 pliegues==============================\n",
            "0.50% (+/- 0.02%)\n",
            "==============================Test Loss Total 10 pliegues==============================\n",
            "0.48% (+/- 0.05%)\n"
          ]
        }
      ]
    },
    {
      "cell_type": "code",
      "metadata": {
        "colab": {
          "base_uri": "https://localhost:8080/",
          "height": 307
        },
        "id": "z4bp7vzlcvDH",
        "outputId": "e44f9bb5-14ec-49ce-a3e4-6c5a2aa1756c"
      },
      "source": [
        "fig, ax = plt.subplots(figsize = (10,4))\n",
        "fig.suptitle(f'Recall k{len(cvscores_recall_train)} vs Val_Recaal k{len(cvscores_recall_test)}', fontsize = 10)\n",
        "ax.plot(cvscores_recall_train)\n",
        "ax.plot(cvscores_recall_test)\n",
        "ax.set_xlabel('Pliegues', size = 10)\n",
        "ax.set_ylabel('Recall', size = 10)\n",
        "ax.legend(['Train', 'Test'], loc='upper left', fontsize = 10)\n",
        "ax.tick_params(labelsize = 10)"
      ],
      "execution_count": 32,
      "outputs": [
        {
          "output_type": "display_data",
          "data": {
            "image/png": "[encoded data removed]",
            "text/plain": [
              "<Figure size 720x288 with 1 Axes>"
            ]
          },
          "metadata": {
            "needs_background": "light"
          }
        }
      ]
    },
    {
      "cell_type": "code",
      "metadata": {
        "colab": {
          "base_uri": "https://localhost:8080/",
          "height": 307
        },
        "id": "bGK-QUZMc2zE",
        "outputId": "d9c28a65-4f77-47cd-ee48-1e11caaade48"
      },
      "source": [
        "fig, ax = plt.subplots(figsize = (10,4))\n",
        "fig.suptitle(f'Loss k{len(cvscores_loss_train)} vs Val_Loss k{len(cvscores_loss_test)}', fontsize = 10)\n",
        "ax.plot(cvscores_loss_train)\n",
        "ax.plot(cvscores_loss_test)\n",
        "ax.set_xlabel('Pliegues', size = 10)\n",
        "ax.set_ylabel('Loss', size = 10)\n",
        "ax.legend(['Train', 'Test'], loc='upper left', fontsize = 10)\n",
        "ax.tick_params(labelsize = 10)"
      ],
      "execution_count": 33,
      "outputs": [
        {
          "output_type": "display_data",
          "data": {
            "image/png": "[encoded data removed]",
            "text/plain": [
              "<Figure size 720x288 with 1 Axes>"
            ]
          },
          "metadata": {
            "needs_background": "light"
          }
        }
      ]
    }
  ]
}