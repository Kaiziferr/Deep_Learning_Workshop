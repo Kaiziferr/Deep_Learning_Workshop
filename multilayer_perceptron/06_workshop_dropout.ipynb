{
  "nbformat": 4,
  "nbformat_minor": 0,
  "metadata": {
    "colab": {
      "name": "06_workshop_dropout.ipynb",
      "provenance": [],
      "authorship_tag": "ABX9TyN+vZbX5sV1fVnjwy1VMXeA",
      "include_colab_link": true
    },
    "kernelspec": {
      "name": "python3",
      "display_name": "Python 3"
    },
    "language_info": {
      "name": "python"
    }
  },
  "cells": [
    {
      "cell_type": "markdown",
      "metadata": {
        "id": "view-in-github",
        "colab_type": "text"
      },
      "source": [
        "<a href=\"https://colab.research.google.com/github/Kaiziferr/Deep_Learning_Workshop/blob/master/multilayer_perceptron/06_workshop_dropout.ipynb\" target=\"_parent\"><img src=\"https://colab.research.google.com/assets/colab-badge.svg\" alt=\"Open In Colab\"/></a>"
      ]
    },
    {
      "cell_type": "code",
      "metadata": {
        "id": "M_Ms9yne3hT-"
      },
      "source": [
        "import pandas as pd\n",
        "import numpy as np\n",
        "from keras.models import Sequential\n",
        "from keras.layers import Dropout, Dense\n",
        "from keras.constraints  import maxnorm\n",
        "from keras.wrappers.scikit_learn import KerasClassifier\n",
        "from tensorflow.keras.optimizers import SGD\n",
        "from sklearn.model_selection import cross_val_score, StratifiedKFold\n",
        "from sklearn.preprocessing import LabelEncoder, StandardScaler\n",
        "from sklearn.pipeline import Pipeline"
      ],
      "execution_count": 6,
      "outputs": []
    },
    {
      "cell_type": "code",
      "metadata": {
        "id": "j4xx894pGTuf"
      },
      "source": [
        "data = pd.read_csv('https://raw.githubusercontent.com/Kaiziferr/Deep_Learning_Workshop/master/workshop_clasification_binary_multiclass/sonar_csv.csv')\n",
        "data_values = data.values"
      ],
      "execution_count": 8,
      "outputs": []
    },
    {
      "cell_type": "markdown",
      "metadata": {
        "id": "GnGXNbksHA2f"
      },
      "source": [
        "# Split"
      ]
    },
    {
      "cell_type": "code",
      "metadata": {
        "id": "sugBEtfNG_wA"
      },
      "source": [
        "X = data_values[:, 0:60].astype('float64')\n",
        "y = data_values[:,60]"
      ],
      "execution_count": 9,
      "outputs": []
    },
    {
      "cell_type": "markdown",
      "metadata": {
        "id": "ANd6GOwlHXiu"
      },
      "source": [
        "# Encoder"
      ]
    },
    {
      "cell_type": "code",
      "metadata": {
        "id": "Yd1TC87SHZiV"
      },
      "source": [
        "encoder = LabelEncoder()\n",
        "encoder_y = encoder.fit_transform(y)"
      ],
      "execution_count": 10,
      "outputs": []
    },
    {
      "cell_type": "code",
      "metadata": {
        "id": "RZ9wEEwUHo7f"
      },
      "source": [
        "def base_model():\n",
        "  model = Sequential()\n",
        "  model.add(Dense(60, input_dim = 60, activation='relu', kernel_initializer='glorot_uniform'))\n",
        "  model.add(Dense(30, activation='relu', kernel_initializer='glorot_uniform'))\n",
        "  model.add(Dense(1, activation='sigmoid'))\n",
        "  sgd = SGD(learning_rate=0.01, momentum=0.8)\n",
        "  model.compile(loss = 'binary_crossentropy', optimizer = sgd, metrics = ['accuracy'])\n",
        "  return model"
      ],
      "execution_count": 11,
      "outputs": []
    },
    {
      "cell_type": "code",
      "metadata": {
        "id": "3Adtrox8Ihmu"
      },
      "source": [
        "estimator = []\n",
        "estimator.append(('standarize', StandardScaler()))\n",
        "estimator.append(('MLP', KerasClassifier(build_fn=base_model, epochs = 300, batch_size = 16, verbose = 0)))"
      ],
      "execution_count": 12,
      "outputs": []
    },
    {
      "cell_type": "code",
      "metadata": {
        "colab": {
          "base_uri": "https://localhost:8080/"
        },
        "id": "OA4pd5o7JEeu",
        "outputId": "dda41b17-77db-4bdc-c7b3-9cba6defc80a"
      },
      "source": [
        "pipeline = Pipeline(estimator)\n",
        "kfold = StratifiedKFold(n_splits=10, shuffle=True)\n",
        "results = cross_val_score(pipeline, X, encoder_y, cv = kfold)\n",
        "print(\" Modelo de linea base: %.2f%% (%.2f%%)\" % (results.mean()*100, results.std()*100))"
      ],
      "execution_count": 14,
      "outputs": [
        {
          "output_type": "stream",
          "name": "stdout",
          "text": [
            " Modelo de linea base: 87.45% (4.02%)\n"
          ]
        }
      ]
    },
    {
      "cell_type": "markdown",
      "metadata": {
        "id": "UQli3mkVJmtU"
      },
      "source": [
        "# Droput Capa Entrada"
      ]
    },
    {
      "cell_type": "code",
      "metadata": {
        "id": "gfSzu6pdJpjk"
      },
      "source": [
        "# Tasa de droput \n",
        "# Se impone una restricción en los pesos para cada capa oculta con la norma maxima de los pesos para que no exceda 3, estableciendo el argumento de kernel_constraint en la clase Dense\n",
        "# Aumenta la tasa de aprendizaje y el momentum\n",
        "\n",
        "def input_dropout_model():\n",
        "  model = Sequential()\n",
        "  model.add(Dropout(0.2, input_shape = (60,)))\n",
        "  model.add(Dense(60, activation='relu', kernel_constraint=maxnorm(3), kernel_initializer='glorot_uniform'))\n",
        "  model.add(Dense(30, activation='relu', kernel_constraint=maxnorm(3), kernel_initializer='glorot_uniform'))\n",
        "  model.add(Dense(1, activation='sigmoid'))\n",
        "\n",
        "  sgd = SGD(learning_rate=0.01, momentum=0.9)\n",
        "  model.compile(loss = 'binary_crossentropy', optimizer = sgd, metrics = ['accuracy'])\n",
        "  return model"
      ],
      "execution_count": 15,
      "outputs": []
    },
    {
      "cell_type": "code",
      "metadata": {
        "colab": {
          "base_uri": "https://localhost:8080/"
        },
        "id": "4R2L4PzhK0Sc",
        "outputId": "3517cb9a-05f4-4387-c44d-4f511a8c5107"
      },
      "source": [
        "estimator = []\n",
        "estimator.append(('standarize', StandardScaler()))\n",
        "estimator.append(('MLP', KerasClassifier(build_fn=input_dropout_model, epochs = 300, batch_size = 16, verbose = 0)))\n",
        "\n",
        "pipeline = Pipeline(estimator)\n",
        "kfold = StratifiedKFold(n_splits=10, shuffle=True)\n",
        "results = cross_val_score(pipeline,X, encoder_y, cv = kfold)\n",
        "print(\"Modelo de Dropout en la entrada: %.2f%% (%.2f%%)\" % (results.mean()*100, results.std()*100))"
      ],
      "execution_count": 18,
      "outputs": [
        {
          "output_type": "stream",
          "name": "stdout",
          "text": [
            "Modelo de Dropout en la entrada: 86.07% (4.94%)\n"
          ]
        }
      ]
    },
    {
      "cell_type": "code",
      "metadata": {
        "id": "75hG-4SAW2Sh"
      },
      "source": [
        "def dropout_hidden_model():\n",
        "  model = Sequential()\n",
        "  model.add(Dense(60, input_dim = 60, activation='relu', kernel_constraint=maxnorm(1), kernel_initializer='glorot_uniform'))\n",
        "  model.add(Dropout(0.2))\n",
        "  model.add(Dense(30, activation='relu', kernel_constraint=maxnorm(1), kernel_initializer='glorot_uniform'))\n",
        "  model.add(Dropout(0.2))\n",
        "  model.add(Dense(1, activation='sigmoid'))\n",
        "\n",
        "  sgd = SGD(learning_rate=0.1, momentum=0.9)\n",
        "  model.compile(loss = 'binary_crossentropy', optimizer=sgd, metrics = ['accuracy'])\n",
        "\n",
        "  return model"
      ],
      "execution_count": 20,
      "outputs": []
    },
    {
      "cell_type": "code",
      "metadata": {
        "colab": {
          "base_uri": "https://localhost:8080/"
        },
        "id": "1IjF67_pW7XZ",
        "outputId": "4e6e4259-7e8d-4f2f-e3bb-bc7f04baec27"
      },
      "source": [
        "estimator = []\n",
        "estimator.append(('standarize',StandardScaler()))\n",
        "estimator.append(('MLP', KerasClassifier(build_fn=dropout_hidden_model, epochs = 300, batch_size=16,verbose=0)))\n",
        "\n",
        "pipeline = Pipeline(estimator)\n",
        "kfold = StratifiedKFold(n_splits=10, shuffle=True)\n",
        "\n",
        "results = cross_val_score(pipeline, X, encoder_y, cv=kfold)\n",
        "print(\" Modelo de Dropout en la capa oculta: %.2f%% (%.2f%%)\" % (results.mean()*100, results.std()*100))"
      ],
      "execution_count": 21,
      "outputs": [
        {
          "output_type": "stream",
          "name": "stdout",
          "text": [
            " Modelo de Dropout en la capa oculta: 83.19% (7.71%)\n"
          ]
        }
      ]
    },
    {
      "cell_type": "markdown",
      "metadata": {
        "id": "LgqBJs-mXQUK"
      },
      "source": [
        "# Recomendaciones\n",
        "\n",
        "\n",
        "1.   Utilizar por lo general un valor de Dropout del 20% - 50%\n",
        "2.   Utilizar drooupt en la entrada(Capa visible) y capas ocultas\n",
        "3.   Utilizar una gran tasa de aprendizaje (aumentar el factor de 0.01 a 10% o 100%) y un momentum de 0.9 a 0.99\n",
        "4. Restrinja el tamaño de los pesos de la red. Una gran tasa de aprendizaje puede resultar en pesos de red muy grandes\n",
        "\n"
      ]
    },
    {
      "cell_type": "code",
      "metadata": {
        "id": "CsO4QFVCXHYY"
      },
      "source": [
        ""
      ],
      "execution_count": null,
      "outputs": []
    }
  ]
}