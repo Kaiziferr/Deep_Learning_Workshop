{
  "nbformat": 4,
  "nbformat_minor": 0,
  "metadata": {
    "colab": {
      "name": "06_workshop_dropout.ipynb",
      "provenance": [],
      "authorship_tag": "ABX9TyOqW0Rw856+pPfV5ErN8SFC",
      "include_colab_link": true
    },
    "kernelspec": {
      "name": "python3",
      "display_name": "Python 3"
    },
    "language_info": {
      "name": "python"
    }
  },
  "cells": [
    {
      "cell_type": "markdown",
      "metadata": {
        "id": "view-in-github",
        "colab_type": "text"
      },
      "source": [
        "<a href=\"https://colab.research.google.com/github/Kaiziferr/deep_learning_workshop/blob/master/multilayer_perceptron/06_workshop_dropout.ipynb\" target=\"_parent\"><img src=\"https://colab.research.google.com/assets/colab-badge.svg\" alt=\"Open In Colab\"/></a>"
      ]
    },
    {
      "cell_type": "code",
      "metadata": {
        "id": "M_Ms9yne3hT-"
      },
      "source": [
        "import pandas as pd\n",
        "import numpy as np\n",
        "from keras.models import Sequential\n",
        "from keras.layers import Dense, Dropout\n",
        "from keras.constraints import maxnorm\n",
        "from keras.wrappers.scikit_learn  import KerasClassifier\n",
        "from tensorflow.keras.optimizers import SGD\n",
        "from sklearn.model_selection import cross_val_score, StratifiedKFold, train_test_split\n",
        "from sklearn.preprocessing import LabelEncoder, StandardScaler\n",
        "from sklearn.pipeline import Pipeline\n",
        "\n",
        "import warnings\n",
        "warnings.filterwarnings(\"ignore\", category = DeprecationWarning)"
      ],
      "execution_count": 1,
      "outputs": []
    },
    {
      "cell_type": "code",
      "metadata": {
        "id": "gaCpOEA4RAYN"
      },
      "source": [
        "data = pd.read_csv('https://raw.githubusercontent.com/Kaiziferr/Deep_Learning_Workshop/master/workshop_clasification_binary_multiclass/sonar_csv.csv')\n",
        "data_values = data.values"
      ],
      "execution_count": 2,
      "outputs": []
    },
    {
      "cell_type": "markdown",
      "metadata": {
        "id": "GnGXNbksHA2f"
      },
      "source": [
        "# **Split**\n",
        "\n",
        "---\n",
        "\n"
      ]
    },
    {
      "cell_type": "code",
      "metadata": {
        "id": "p11uU7g5R1fD"
      },
      "source": [
        "X = data_values[:,0:60].astype('float64')\n",
        "y = data_values[:, 60]"
      ],
      "execution_count": 3,
      "outputs": []
    },
    {
      "cell_type": "markdown",
      "metadata": {
        "id": "ANd6GOwlHXiu"
      },
      "source": [
        "# **Encoder**\n",
        "\n",
        "---\n",
        "\n"
      ]
    },
    {
      "cell_type": "code",
      "metadata": {
        "id": "A6RZRKhnSewp"
      },
      "source": [
        "encoder = LabelEncoder()\n",
        "encoder_y = encoder.fit_transform(y)"
      ],
      "execution_count": 4,
      "outputs": []
    },
    {
      "cell_type": "markdown",
      "metadata": {
        "id": "4zD89WdaU9Fn"
      },
      "source": [
        "# **Modelo**\n",
        "\n",
        "---\n",
        "\n"
      ]
    },
    {
      "cell_type": "code",
      "metadata": {
        "id": "IX_qdcTZVBYz"
      },
      "source": [
        "def base_model():\n",
        "  model = Sequential()\n",
        "  model.add(Dense(60, input_dim = 60, activation='relu', kernel_initializer='glorot_uniform'))\n",
        "  model.add(Dense(30, activation='relu', kernel_initializer='glorot_uniform'))\n",
        "  model.add(Dense(1, activation='sigmoid'))\n",
        "  sgd = SGD(learning_rate=0.01, momentum=0.8)\n",
        "  model.compile(loss = 'binary_crossentropy', optimizer = sgd, metrics = ['accuracy'])\n",
        "  return model"
      ],
      "execution_count": 5,
      "outputs": []
    },
    {
      "cell_type": "code",
      "metadata": {
        "id": "P5XwliGSW6Av"
      },
      "source": [
        "estimator = []\n",
        "estimator.append(('standarize', StandardScaler()))\n",
        "estimator.append(('MLP', KerasClassifier(build_fn=base_model, epochs = 300, batch_size = 16, verbose = 0)))"
      ],
      "execution_count": 6,
      "outputs": []
    },
    {
      "cell_type": "code",
      "metadata": {
        "id": "0TFlELRCZMa-",
        "outputId": "49a309e2-c450-498f-ddd3-1e23e97cd68e",
        "colab": {
          "base_uri": "https://localhost:8080/"
        }
      },
      "source": [
        "pipeline = Pipeline(estimator)\n",
        "kfold = StratifiedKFold(n_splits=10, shuffle=True)\n",
        "scores = cross_val_score(pipeline, X, encoder_y, cv = kfold)"
      ],
      "execution_count": 7,
      "outputs": [
        {
          "output_type": "stream",
          "name": "stdout",
          "text": [
            "WARNING:tensorflow:5 out of the last 9 calls to <function Model.make_test_function.<locals>.test_function at 0x7f7468e19560> triggered tf.function retracing. Tracing is expensive and the excessive number of tracings could be due to (1) creating @tf.function repeatedly in a loop, (2) passing tensors with different shapes, (3) passing Python objects instead of tensors. For (1), please define your @tf.function outside of the loop. For (2), @tf.function has experimental_relax_shapes=True option that relaxes argument shapes that can avoid unnecessary retracing. For (3), please refer to https://www.tensorflow.org/guide/function#controlling_retracing and https://www.tensorflow.org/api_docs/python/tf/function for  more details.\n",
            "WARNING:tensorflow:6 out of the last 11 calls to <function Model.make_test_function.<locals>.test_function at 0x7f7468bdf9e0> triggered tf.function retracing. Tracing is expensive and the excessive number of tracings could be due to (1) creating @tf.function repeatedly in a loop, (2) passing tensors with different shapes, (3) passing Python objects instead of tensors. For (1), please define your @tf.function outside of the loop. For (2), @tf.function has experimental_relax_shapes=True option that relaxes argument shapes that can avoid unnecessary retracing. For (3), please refer to https://www.tensorflow.org/guide/function#controlling_retracing and https://www.tensorflow.org/api_docs/python/tf/function for  more details.\n"
          ]
        }
      ]
    },
    {
      "cell_type": "code",
      "metadata": {
        "colab": {
          "base_uri": "https://localhost:8080/"
        },
        "id": "OA4pd5o7JEeu",
        "outputId": "514fd161-ab11-41d4-f605-1ce2df52e3e5"
      },
      "source": [
        "print(\" Modelo de linea base: %.2f%% (%.2f%%)\" % (scores.mean()*100, scores.std()*100))"
      ],
      "execution_count": 8,
      "outputs": [
        {
          "output_type": "stream",
          "name": "stdout",
          "text": [
            " Modelo de linea base: 87.50% (8.36%)\n"
          ]
        }
      ]
    },
    {
      "cell_type": "markdown",
      "metadata": {
        "id": "UQli3mkVJmtU"
      },
      "source": [
        "# **Droput Capa Entrada**\n",
        "\n",
        "---\n",
        "\n"
      ]
    },
    {
      "cell_type": "code",
      "metadata": {
        "id": "gfSzu6pdJpjk"
      },
      "source": [
        "# Tasa de droput \n",
        "# Se impone una restricción en los pesos para cada capa oculta con la norma maxima de los pesos para que no exceda 3, \n",
        "# estableciendo el argumento de kernel_constraint en la clase Dense.\n",
        "# Aumenta la tasa de aprendizaje y el momentum.\n",
        "\n",
        "def input_dropout_model():\n",
        "  model = Sequential()\n",
        "  model.add(Dropout(0.2, input_shape = (60,)))\n",
        "  model.add(Dense(60, activation='relu', kernel_constraint=maxnorm(3), kernel_initializer='glorot_uniform'))\n",
        "  model.add(Dense(30, activation='relu', kernel_constraint=maxnorm(3), kernel_initializer='glorot_uniform'))\n",
        "  model.add(Dense(1, activation='sigmoid'))\n",
        "\n",
        "  sgd = SGD(learning_rate=0.01, momentum=0.9)\n",
        "  model.compile(loss = 'binary_crossentropy', optimizer = sgd, metrics = ['accuracy'])\n",
        "  return model"
      ],
      "execution_count": 10,
      "outputs": []
    },
    {
      "cell_type": "code",
      "metadata": {
        "colab": {
          "base_uri": "https://localhost:8080/"
        },
        "id": "4R2L4PzhK0Sc",
        "outputId": "351e04b5-5161-4284-ed96-754769b24ce5"
      },
      "source": [
        "estimator = []\n",
        "estimator.append(('standarize', StandardScaler()))\n",
        "estimator.append(('MLP', KerasClassifier(build_fn=input_dropout_model, epochs = 300, batch_size = 16, verbose = 0)))\n",
        "\n",
        "pipeline = Pipeline(estimator)\n",
        "kfold = StratifiedKFold(n_splits=10, shuffle=True)\n",
        "results = cross_val_score(pipeline,X, encoder_y, cv = kfold)\n",
        "print(\"Modelo de Dropout en la entrada: %.2f%% (%.2f%%)\" % (results.mean()*100, results.std()*100))"
      ],
      "execution_count": 11,
      "outputs": [
        {
          "output_type": "stream",
          "name": "stdout",
          "text": [
            "Modelo de Dropout en la entrada: 88.45% (4.40%)\n"
          ]
        }
      ]
    },
    {
      "cell_type": "code",
      "metadata": {
        "id": "75hG-4SAW2Sh"
      },
      "source": [
        "def dropout_hidden_model():\n",
        "  model = Sequential()\n",
        "  model.add(Dense(60, input_dim = 60, activation='relu', kernel_constraint=maxnorm(1), kernel_initializer='glorot_uniform'))\n",
        "  model.add(Dropout(0.2))\n",
        "  model.add(Dense(30, activation='relu', kernel_constraint=maxnorm(1), kernel_initializer='glorot_uniform'))\n",
        "  model.add(Dropout(0.2))\n",
        "  model.add(Dense(1, activation='sigmoid'))\n",
        "\n",
        "  sgd = SGD(learning_rate=0.1, momentum=0.9)\n",
        "  model.compile(loss = 'binary_crossentropy', optimizer=sgd, metrics = ['accuracy'])\n",
        "\n",
        "  return model"
      ],
      "execution_count": 12,
      "outputs": []
    },
    {
      "cell_type": "code",
      "metadata": {
        "colab": {
          "base_uri": "https://localhost:8080/"
        },
        "id": "1IjF67_pW7XZ",
        "outputId": "e9cbeebc-8433-4a5d-c7ef-7983429b96e2"
      },
      "source": [
        "estimator = []\n",
        "estimator.append(('standarize',StandardScaler()))\n",
        "estimator.append(('MLP', KerasClassifier(build_fn=dropout_hidden_model, epochs = 300, batch_size=16,verbose=0)))\n",
        "\n",
        "pipeline = Pipeline(estimator)\n",
        "kfold = StratifiedKFold(n_splits=10, shuffle=True)\n",
        "\n",
        "results = cross_val_score(pipeline, X, encoder_y, cv=kfold)\n",
        "print(\" Modelo de Dropout en la capa oculta: %.2f%% (%.2f%%)\" % (results.mean()*100, results.std()*100))"
      ],
      "execution_count": 13,
      "outputs": [
        {
          "output_type": "stream",
          "name": "stdout",
          "text": [
            " Modelo de Dropout en la capa oculta: 82.26% (10.43%)\n"
          ]
        }
      ]
    },
    {
      "cell_type": "markdown",
      "metadata": {
        "id": "LgqBJs-mXQUK"
      },
      "source": [
        "# Recomendaciones\n",
        "\n",
        "\n",
        "1.   Utilizar por lo general un valor de Dropout del 20% - 50%\n",
        "2.   Utilizar drooupt en la entrada(Capa visible) y capas ocultas\n",
        "3.   Utilizar una gran tasa de aprendizaje (aumentar el factor de 0.01 a 10% o 100%) y un momentum de 0.9 a 0.99\n",
        "4. Restrinja el tamaño de los pesos de la red. Una gran tasa de aprendizaje puede resultar en pesos de red muy grandes\n",
        "\n"
      ]
    }
  ]
}