{
  "nbformat": 4,
  "nbformat_minor": 0,
  "metadata": {
    "colab": {
      "name": "05_dropout_workshop",
      "provenance": [],
      "authorship_tag": "ABX9TyNwAilDw5UnYlW2R5flINoe",
      "include_colab_link": true
    },
    "kernelspec": {
      "name": "python3",
      "display_name": "Python 3"
    },
    "language_info": {
      "name": "python"
    }
  },
  "cells": [
    {
      "cell_type": "markdown",
      "metadata": {
        "id": "view-in-github",
        "colab_type": "text"
      },
      "source": [
        "<a href=\"https://colab.research.google.com/github/Kaiziferr/deep_learning/blob/master/multilayer_perceptron/05_dropout_workshop.ipynb\" target=\"_parent\"><img src=\"https://colab.research.google.com/assets/colab-badge.svg\" alt=\"Open In Colab\"/></a>"
      ]
    },
    {
      "cell_type": "code",
      "source": [
        "!pip install scikeras"
      ],
      "metadata": {
        "colab": {
          "base_uri": "https://localhost:8080/"
        },
        "id": "FrAh_KZHGkWP",
        "outputId": "b4cf11e7-1e9c-4f37-f7b7-3bd581f9aa6a"
      },
      "execution_count": 8,
      "outputs": [
        {
          "output_type": "stream",
          "name": "stdout",
          "text": [
            "Requirement already satisfied: scikeras in /usr/local/lib/python3.10/dist-packages (0.13.0)\n",
            "Requirement already satisfied: keras>=3.2.0 in /usr/local/lib/python3.10/dist-packages (from scikeras) (3.3.3)\n",
            "Requirement already satisfied: scikit-learn>=1.4.2 in /usr/local/lib/python3.10/dist-packages (from scikeras) (1.4.2)\n",
            "Requirement already satisfied: absl-py in /usr/local/lib/python3.10/dist-packages (from keras>=3.2.0->scikeras) (1.4.0)\n",
            "Requirement already satisfied: numpy in /usr/local/lib/python3.10/dist-packages (from keras>=3.2.0->scikeras) (1.25.2)\n",
            "Requirement already satisfied: rich in /usr/local/lib/python3.10/dist-packages (from keras>=3.2.0->scikeras) (13.7.1)\n",
            "Requirement already satisfied: namex in /usr/local/lib/python3.10/dist-packages (from keras>=3.2.0->scikeras) (0.0.8)\n",
            "Requirement already satisfied: h5py in /usr/local/lib/python3.10/dist-packages (from keras>=3.2.0->scikeras) (3.9.0)\n",
            "Requirement already satisfied: optree in /usr/local/lib/python3.10/dist-packages (from keras>=3.2.0->scikeras) (0.11.0)\n",
            "Requirement already satisfied: ml-dtypes in /usr/local/lib/python3.10/dist-packages (from keras>=3.2.0->scikeras) (0.2.0)\n",
            "Requirement already satisfied: scipy>=1.6.0 in /usr/local/lib/python3.10/dist-packages (from scikit-learn>=1.4.2->scikeras) (1.11.4)\n",
            "Requirement already satisfied: joblib>=1.2.0 in /usr/local/lib/python3.10/dist-packages (from scikit-learn>=1.4.2->scikeras) (1.4.2)\n",
            "Requirement already satisfied: threadpoolctl>=2.0.0 in /usr/local/lib/python3.10/dist-packages (from scikit-learn>=1.4.2->scikeras) (3.5.0)\n",
            "Requirement already satisfied: typing-extensions>=4.0.0 in /usr/local/lib/python3.10/dist-packages (from optree->keras>=3.2.0->scikeras) (4.11.0)\n",
            "Requirement already satisfied: markdown-it-py>=2.2.0 in /usr/local/lib/python3.10/dist-packages (from rich->keras>=3.2.0->scikeras) (3.0.0)\n",
            "Requirement already satisfied: pygments<3.0.0,>=2.13.0 in /usr/local/lib/python3.10/dist-packages (from rich->keras>=3.2.0->scikeras) (2.16.1)\n",
            "Requirement already satisfied: mdurl~=0.1 in /usr/local/lib/python3.10/dist-packages (from markdown-it-py>=2.2.0->rich->keras>=3.2.0->scikeras) (0.1.2)\n"
          ]
        }
      ]
    },
    {
      "cell_type": "code",
      "source": [
        "import warnings\n",
        "import pandas as pd\n",
        "\n",
        "from keras.models import Sequential\n",
        "from keras.layers import Dense, Dropout\n",
        "from keras.optimizers import SGD\n",
        "from keras.constraints import MaxNorm\n",
        "\n",
        "from sklearn.model_selection import (\n",
        "    cross_val_score,\n",
        "    train_test_split,\n",
        "    StratifiedKFold\n",
        ")\n",
        "\n",
        "from sklearn.preprocessing import (\n",
        "    LabelEncoder,\n",
        "    StandardScaler\n",
        ")\n",
        "\n",
        "from sklearn.pipeline import Pipeline\n",
        "\n",
        "from scikeras.wrappers import KerasClassifier"
      ],
      "metadata": {
        "id": "MY3G636Z2GwE"
      },
      "execution_count": 21,
      "outputs": []
    },
    {
      "cell_type": "markdown",
      "source": [
        "# **Info**\n",
        "---\n",
        "@By: **Steven Bernal**\n",
        "\n",
        "@Nickname: **Kaiziferr**\n",
        "\n",
        "@Git: https://github.com/Kaiziferr\n",
        "\n",
        "@References: This concept test is an adaptation of a workshop from the [Deep Learning con Python y Keras. Redes Neuronales avanzado.](https://www.udemy.com/course/deep-learning-con-keras/?couponCode=LEADERSALE24B)course.\n"
      ],
      "metadata": {
        "id": "wmw4q635DHZB"
      }
    },
    {
      "cell_type": "markdown",
      "source": [
        "# **Config**\n",
        "---"
      ],
      "metadata": {
        "id": "Q_TLIAqU5SL5"
      }
    },
    {
      "cell_type": "code",
      "source": [
        "warnings.filterwarnings(\"ignore\")"
      ],
      "metadata": {
        "id": "_jEtdrWy5Vu3"
      },
      "execution_count": 22,
      "outputs": []
    },
    {
      "cell_type": "markdown",
      "source": [
        "# **Data**\n",
        "---"
      ],
      "metadata": {
        "id": "WLBvfCEtGrHm"
      }
    },
    {
      "cell_type": "code",
      "source": [
        "url = 'https://raw.githubusercontent.com/selva86/datasets/master/Sonar.csv'\n",
        "data = pd.read_csv(url)"
      ],
      "metadata": {
        "id": "byHxibswissN"
      },
      "execution_count": 12,
      "outputs": []
    },
    {
      "cell_type": "code",
      "source": [
        "X = data.iloc[:, :60]\n",
        "y = data.iloc[:, 60]"
      ],
      "metadata": {
        "id": "NUVcEpEoi0or"
      },
      "execution_count": 13,
      "outputs": []
    },
    {
      "cell_type": "code",
      "source": [
        "encoder = LabelEncoder()\n",
        "y_encoder = encoder.fit_transform(y)"
      ],
      "metadata": {
        "id": "TOhS6_yN3QCP"
      },
      "execution_count": 14,
      "outputs": []
    },
    {
      "cell_type": "code",
      "source": [
        "def create_model_base():\n",
        "  model = Sequential()\n",
        "  model.add(Dense(60, input_shape=(60, ), activation='relu'))\n",
        "  model.add(Dense(30, activation='relu'))\n",
        "  model.add(Dense(1, activation='sigmoid'))\n",
        "  sgd = SGD(learning_rate=0.01, momentum=0.8)\n",
        "  model.compile(loss='binary_crossentropy', optimizer=sgd)\n",
        "  return model"
      ],
      "metadata": {
        "id": "gC2PTFOt3ZxM"
      },
      "execution_count": 17,
      "outputs": []
    },
    {
      "cell_type": "code",
      "source": [
        "estimators = []\n",
        "estimators.append(('standarize', StandardScaler()))\n",
        "estimators.append(('mlp',\n",
        "                   KerasClassifier(model = create_model_base, epochs = 300,\n",
        "                                         batch_size=16, verbose=0)))\n",
        "pipeline = Pipeline(estimators)\n",
        "\n",
        "kfold = StratifiedKFold(n_splits=10, shuffle=True)\n",
        "results = cross_val_score(pipeline, X, y_encoder, cv = kfold)\n",
        "print(\"Baseline: %.2f%% (%.2f%%)\" % (results.mean()*100, results.std()*100))"
      ],
      "metadata": {
        "colab": {
          "base_uri": "https://localhost:8080/"
        },
        "id": "4ZkHZblDImSe",
        "outputId": "2d8012b0-4778-41d2-a19f-fc60bb7bf7d7"
      },
      "execution_count": 23,
      "outputs": [
        {
          "output_type": "stream",
          "name": "stderr",
          "text": [
            "WARNING:tensorflow:5 out of the last 5 calls to <function TensorFlowTrainer.make_predict_function.<locals>.one_step_on_data_distributed at 0x7d88f3a6be20> triggered tf.function retracing. Tracing is expensive and the excessive number of tracings could be due to (1) creating @tf.function repeatedly in a loop, (2) passing tensors with different shapes, (3) passing Python objects instead of tensors. For (1), please define your @tf.function outside of the loop. For (2), @tf.function has reduce_retracing=True option that can avoid unnecessary retracing. For (3), please refer to https://www.tensorflow.org/guide/function#controlling_retracing and https://www.tensorflow.org/api_docs/python/tf/function for  more details.\n",
            "WARNING:tensorflow:6 out of the last 6 calls to <function TensorFlowTrainer.make_predict_function.<locals>.one_step_on_data_distributed at 0x7d88f3a6be20> triggered tf.function retracing. Tracing is expensive and the excessive number of tracings could be due to (1) creating @tf.function repeatedly in a loop, (2) passing tensors with different shapes, (3) passing Python objects instead of tensors. For (1), please define your @tf.function outside of the loop. For (2), @tf.function has reduce_retracing=True option that can avoid unnecessary retracing. For (3), please refer to https://www.tensorflow.org/guide/function#controlling_retracing and https://www.tensorflow.org/api_docs/python/tf/function for  more details.\n"
          ]
        },
        {
          "output_type": "stream",
          "name": "stdout",
          "text": [
            "Baseline: 86.00% (5.99%)\n"
          ]
        }
      ]
    },
    {
      "cell_type": "markdown",
      "source": [
        "La ejecución del ejemplo genera una precisión de clasificación estimada del 86 %.\n",
        "\n"
      ],
      "metadata": {
        "id": "PI6WFpi9LZxO"
      }
    },
    {
      "cell_type": "code",
      "source": [
        "def create_model_drop_input_layer():\n",
        "  model = Sequential()\n",
        "  model.add(Dropout(0.2, input_shape=(60,)))\n",
        "  model.add(Dense(60, activation='relu', kernel_constraint=MaxNorm(3)))\n",
        "  model.add(Dense(30, activation='relu', kernel_constraint=MaxNorm(3)))\n",
        "  model.add(Dense(1, activation='sigmoid'))\n",
        "  sgd = SGD(learning_rate=0.1, momentum=0.9)\n",
        "  model.compile(loss='binary_crossentropy', optimizer=sgd)\n",
        "  return model"
      ],
      "metadata": {
        "id": "aogry8cr_jIJ"
      },
      "execution_count": 24,
      "outputs": []
    },
    {
      "cell_type": "code",
      "source": [
        "estimators = []\n",
        "estimators.append(('standarize', StandardScaler()))\n",
        "estimators.append(('mlp',\n",
        "                   KerasClassifier(\n",
        "                       model = create_model_drop_input_layer,\n",
        "                       epochs = 300,\n",
        "                       batch_size=16, verbose=0)))\n",
        "pipeline = Pipeline(estimators)\n",
        "\n",
        "kfold = StratifiedKFold(n_splits=10, shuffle=True)\n",
        "results = cross_val_score(pipeline, X, y_encoder, cv = kfold)\n",
        "print(\"Model Dropout: %.2f%% (%.2f%%)\" % (results.mean()*100, results.std()*100))"
      ],
      "metadata": {
        "colab": {
          "base_uri": "https://localhost:8080/"
        },
        "id": "4aQxIcocNCmw",
        "outputId": "f1b7bfa6-e31d-49b1-b166-ac871f5e49f7"
      },
      "execution_count": 25,
      "outputs": [
        {
          "output_type": "stream",
          "name": "stdout",
          "text": [
            "Model Dropout: 88.98% (6.72%)\n"
          ]
        }
      ]
    },
    {
      "cell_type": "markdown",
      "source": [
        "La ejecución del ejemplo genera una precisión de clasificación estimada del 88.98%. Mejor el rendimiento que el modelo base, aunque la disparción es mayor, pero no necesariamente significativa."
      ],
      "metadata": {
        "id": "YLO6s7-LNssP"
      }
    },
    {
      "cell_type": "code",
      "source": [
        "def create_model_drop_hidden_layer():\n",
        "  model = Sequential()\n",
        "  model.add(Dense(60, input_shape=(60,), activation='relu', kernel_constraint=MaxNorm(3)))\n",
        "  model.add(Dropout(0.2))\n",
        "  model.add(Dense(30, activation='relu', kernel_constraint=MaxNorm(3)))\n",
        "  model.add(Dropout(0.2))\n",
        "  model.add(Dense(1, activation='sigmoid'))\n",
        "  sgd = SGD(learning_rate=0.1, momentum=0.9)\n",
        "  model.compile(loss='binary_crossentropy', optimizer=sgd, metrics=['accuracy'])\n",
        "  return model"
      ],
      "metadata": {
        "id": "OSAwT5bJN0mP"
      },
      "execution_count": 26,
      "outputs": []
    },
    {
      "cell_type": "code",
      "source": [
        "estimators = []\n",
        "estimators.append(('standardize', StandardScaler()))\n",
        "estimators.append(('mlp', KerasClassifier(model=create_model_drop_hidden_layer,\n",
        "                                          epochs=300, batch_size=16, verbose=0)))\n",
        "pipeline = Pipeline(estimators)\n",
        "kfold = StratifiedKFold(n_splits=10, shuffle=True)\n",
        "results = cross_val_score(pipeline, X, y_encoder, cv=kfold)\n",
        "print(\"Hidden: %.2f%% (%.2f%%)\" % (results.mean()*100, results.std()*100))"
      ],
      "metadata": {
        "colab": {
          "base_uri": "https://localhost:8080/"
        },
        "id": "RUOTtolSOTF_",
        "outputId": "1cceab53-829c-40c2-c0f3-9eced25d524c"
      },
      "execution_count": 27,
      "outputs": [
        {
          "output_type": "stream",
          "name": "stdout",
          "text": [
            "Hidden: 82.24% (7.02%)\n"
          ]
        }
      ]
    },
    {
      "cell_type": "markdown",
      "source": [
        "No mejor, empeor un poco el rendimiento, sin embargo esto se debe a multiples situaciones. El model drop out tiene el mejor rendimiento 88.98% que el resto de modelos con una desviación menor con respecto a los otro model."
      ],
      "metadata": {
        "id": "UKWYr_RtO4WX"
      }
    },
    {
      "cell_type": "markdown",
      "source": [
        "# **Info**\n",
        "---\n",
        "@By: **Steven Bernal**\n",
        "\n",
        "@Nickname: **Kaiziferr**\n",
        "\n",
        "@Git: https://github.com/Kaiziferr\n",
        "\n",
        "@References: This concept test is an adaptation of a workshop from the [Deep Learning con Python y Keras. Redes Neuronales avanzado.](https://www.udemy.com/course/deep-learning-con-keras/?couponCode=LEADERSALE24B)course."
      ],
      "metadata": {
        "id": "inpeyFE5E0LR"
      }
    }
  ]
}