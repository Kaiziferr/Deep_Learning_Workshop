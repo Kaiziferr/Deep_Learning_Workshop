{
  "nbformat": 4,
  "nbformat_minor": 0,
  "metadata": {
    "colab": {
      "name": "08_workshop_time_series.ipynb",
      "provenance": [],
      "include_colab_link": true
    },
    "kernelspec": {
      "name": "python3",
      "display_name": "Python 3"
    },
    "language_info": {
      "name": "python"
    }
  },
  "cells": [
    {
      "cell_type": "markdown",
      "metadata": {
        "id": "view-in-github",
        "colab_type": "text"
      },
      "source": [
        "<a href=\"https://colab.research.google.com/github/Kaiziferr/deep_learning/blob/master/multilayer_perceptron/08_workshop_time_series.ipynb\" target=\"_parent\"><img src=\"https://colab.research.google.com/assets/colab-badge.svg\" alt=\"Open In Colab\"/></a>"
      ]
    },
    {
      "cell_type": "code",
      "source": [
        "import math\n",
        "import warnings\n",
        "\n",
        "import numpy as np\n",
        "import pandas as pd\n",
        "import matplotlib.pyplot as plt\n",
        "import seaborn as sns\n",
        "\n",
        "from sklearn.metrics import mean_squared_error\n",
        "\n",
        "from keras.models import Sequential\n",
        "from keras.layers import Dense"
      ],
      "metadata": {
        "id": "aSiNPDz8zKYw"
      },
      "execution_count": 27,
      "outputs": []
    },
    {
      "cell_type": "markdown",
      "source": [
        "**Config**"
      ],
      "metadata": {
        "id": "W4xONvq50Mrn"
      }
    },
    {
      "cell_type": "code",
      "source": [
        "sns.set(style=\"darkgrid\")\n",
        "pd.set_option('display.float_format', '{:,.2f}'.format)\n",
        "title_data = 'Pasajeros en la aerolinea'\n",
        "paleta = sns.color_palette(\"tab10\").as_hex()\n",
        "warnings.filterwarnings(\"ignore\")\n",
        "random_seedd = 12354"
      ],
      "metadata": {
        "id": "QnkjjfBZ0QT3"
      },
      "execution_count": 28,
      "outputs": []
    },
    {
      "cell_type": "markdown",
      "source": [
        "# **Data**\n",
        "---\n",
        "Este es un problema en el que, dado un año y un mes, la tareas es predecir el número de pasajeros de aerolineas internecionales en unidades de 1.000. Los datos van desde enero de 1949 hasta diciembre de 1960 o 12 años, con 144 observaciones.\n"
      ],
      "metadata": {
        "id": "wRXfPp7neRs2"
      }
    },
    {
      "cell_type": "code",
      "source": [
        "url = 'https://raw.githubusercontent.com/jinfagang/LSTM_learn/master/international-airline-passengers.csv'\n",
        "data = pd.read_csv(url, usecols=[1], engine='python', dtype='str')\n",
        "data_values = data.values.astype('float64')"
      ],
      "metadata": {
        "id": "2TC7n4_gzsV8"
      },
      "execution_count": 29,
      "outputs": []
    },
    {
      "cell_type": "markdown",
      "source": [
        "# **Data Split**\n",
        "---\n",
        "\n"
      ],
      "metadata": {
        "id": "0vXNkDOWiiK1"
      }
    },
    {
      "cell_type": "code",
      "source": [
        "train_size = int(len(data_values)*0.67)\n",
        "test_size = len(data_values) - train_size\n",
        "train, test = data_values[:train_size, :], data_values[train_size:, :]"
      ],
      "metadata": {
        "id": "1GKu1kBO02yn"
      },
      "execution_count": 30,
      "outputs": []
    },
    {
      "cell_type": "markdown",
      "source": [
        "# **Create Data**\n",
        "---\n",
        "\n"
      ],
      "metadata": {
        "id": "g1SZ4tnFjhFO"
      }
    },
    {
      "cell_type": "code",
      "source": [
        "len(train) - 1"
      ],
      "metadata": {
        "id": "RwMNtXocOG-A",
        "outputId": "8fdac998-42ad-4c5f-e467-ec7b14572d0b",
        "colab": {
          "base_uri": "https://localhost:8080/"
        }
      },
      "execution_count": 31,
      "outputs": [
        {
          "output_type": "execute_result",
          "data": {
            "text/plain": [
              "95"
            ]
          },
          "metadata": {},
          "execution_count": 31
        }
      ]
    },
    {
      "cell_type": "code",
      "source": [
        "def create_dataset(data, loock_back = 1):\n",
        "  dataX, dataY = [], []\n",
        "  for i in range(len(data)-loock_back-1):\n",
        "    item_x = data[i: (i+loock_back), 0]\n",
        "    #print(item_x, i, (i+loock_back))\n",
        "    item_y = data[i+loock_back,0]\n",
        "    #print(item_y, i, (i+loock_back))\n",
        "    dataX.append(item_x)\n",
        "    dataY.append(item_y)\n",
        "  return np.array(dataX), np.array(dataY)"
      ],
      "metadata": {
        "id": "ChXAwuBeNjGy"
      },
      "execution_count": 32,
      "outputs": []
    },
    {
      "cell_type": "code",
      "source": [
        "loock_back = 1\n",
        "trainX, trainY = create_dataset(train, loock_back)\n",
        "testX, testY = create_dataset(test, loock_back)"
      ],
      "metadata": {
        "id": "PJPAKAcPiznt"
      },
      "execution_count": 33,
      "outputs": []
    },
    {
      "cell_type": "markdown",
      "source": [
        "La red LSTM espera que los datos de entrada (X) se proporcionen con una estructura de matriz especifica en forma de [muestras, pasos de tiempo (ventana), caracteristicas]<br><br>\n",
        "Los datos preparados tienen la forma: [muestras, carcteristicas]<br><br>"
      ],
      "metadata": {
        "id": "RNG6qng4mL6V"
      }
    },
    {
      "cell_type": "markdown",
      "source": [
        "# **Diseño de Model**\n",
        "---\n",
        "- Capa visible con 1 entrada\n",
        "- Capa oculta con 8 neuronas\n",
        "- Capa de salida\n",
        "- Modelo se ajusta usando el error cuadratico medio\n"
      ],
      "metadata": {
        "id": "b8sIqpepn4Fn"
      }
    },
    {
      "cell_type": "code",
      "source": [
        "loock_back"
      ],
      "metadata": {
        "id": "hVxLSPaMPig0",
        "outputId": "e20738a9-e77a-4019-a10e-bdb853902e02",
        "colab": {
          "base_uri": "https://localhost:8080/"
        }
      },
      "execution_count": 34,
      "outputs": [
        {
          "output_type": "execute_result",
          "data": {
            "text/plain": [
              "1"
            ]
          },
          "metadata": {},
          "execution_count": 34
        }
      ]
    },
    {
      "cell_type": "code",
      "source": [
        "model = Sequential()\n",
        "model.add(Dense(8, input_dim = loock_back, activation='relu'))\n",
        "model.add(Dense(1))\n",
        "model.compile(loss='mean_squared_error', optimizer='adam')\n",
        "model.fit(trainX, trainY, epochs = 200, batch_size = 2, verbose = 0)"
      ],
      "metadata": {
        "id": "lAFkjVqjPbbt",
        "outputId": "69388e19-7227-49fc-fb5f-a3d06142b129",
        "colab": {
          "base_uri": "https://localhost:8080/"
        }
      },
      "execution_count": 35,
      "outputs": [
        {
          "output_type": "execute_result",
          "data": {
            "text/plain": [
              "<keras.src.callbacks.History at 0x7fb063aed510>"
            ]
          },
          "metadata": {},
          "execution_count": 35
        }
      ]
    },
    {
      "cell_type": "code",
      "source": [
        "trainX.shape"
      ],
      "metadata": {
        "id": "waoWYsdvQCQ2",
        "outputId": "1d4b3362-1487-4167-aaa9-7d9b3fc74a99",
        "colab": {
          "base_uri": "https://localhost:8080/"
        }
      },
      "execution_count": 36,
      "outputs": [
        {
          "output_type": "execute_result",
          "data": {
            "text/plain": [
              "(94, 1)"
            ]
          },
          "metadata": {},
          "execution_count": 36
        }
      ]
    },
    {
      "cell_type": "markdown",
      "source": [
        "# **Estimar rendimiento**\n",
        "---"
      ],
      "metadata": {
        "id": "ijw7xEA1N8qi"
      }
    },
    {
      "cell_type": "code",
      "source": [
        "train_score = model.evaluate(trainX, trainY, verbose = 0)\n",
        "test_score = model.evaluate(testX, testY, verbose = 0)\n",
        "print('Puntuación Entrenamiento %.2f MSE (%.2f RMSE)' % (train_score, math.sqrt(train_score)))\n",
        "print('Puntuación Validación %.2f MSE (%.2f RMSE)' % (test_score, math.sqrt(test_score)))"
      ],
      "metadata": {
        "id": "_n-zPfu1OEIq"
      },
      "execution_count": null,
      "outputs": []
    },
    {
      "cell_type": "code",
      "source": [
        "print(f\"El modelo falla en aprocimadamente {math.sqrt(train_score)} mil pasajeros por mes para los datos de entrenamiento\")\n",
        "print(f\"El modelo falla en aprocimadamente {math.sqrt(test_score)} para los datos de validación \")"
      ],
      "metadata": {
        "id": "KR8ll7OqUSgx"
      },
      "execution_count": null,
      "outputs": []
    },
    {
      "cell_type": "markdown",
      "source": [
        "# **Predicción**\n",
        "---\n",
        "\n"
      ],
      "metadata": {
        "id": "bowRcRdXFI_6"
      }
    },
    {
      "cell_type": "code",
      "source": [
        "train_predict = model.predict(trainX)\n",
        "test_predict = model.predict(testX)"
      ],
      "metadata": {
        "id": "zuZTWKdLE56j"
      },
      "execution_count": null,
      "outputs": []
    },
    {
      "cell_type": "markdown",
      "source": [
        "# **Resultados**\n",
        "---\n",
        "\n"
      ],
      "metadata": {
        "id": "R2mUvm5Aq5xe"
      }
    },
    {
      "cell_type": "markdown",
      "source": [
        "# **Plot**\n",
        "---\n",
        "\n"
      ],
      "metadata": {
        "id": "XSDVl4EVwR51"
      }
    },
    {
      "cell_type": "code",
      "source": [
        "train_predict_plot = np.empty_like(data_values)\n",
        "train_predict_plot[:,:] = np.nan\n",
        "train_predict_plot[loock_back: len(train_predict)+loock_back, :] = train_predict\n",
        "\n",
        "test_predict_plot = np.empty_like(data_values)\n",
        "test_predict_plot[:,:] = np.nan\n",
        "test_predict_plot[len(train_predict)+(loock_back*2)+1: len(data_values)-1:] = test_predict"
      ],
      "metadata": {
        "id": "k9TEB-b6u1BY"
      },
      "execution_count": null,
      "outputs": []
    },
    {
      "cell_type": "code",
      "source": [
        "plt.figure(figsize=(12,8))\n",
        "plt.plot(data_values)\n",
        "plt.plot(train_predict_plot)\n",
        "plt.plot(test_predict_plot)"
      ],
      "metadata": {
        "id": "eKohVg9_22if"
      },
      "execution_count": null,
      "outputs": []
    },
    {
      "cell_type": "markdown",
      "source": [
        "- Se puede apreciar que el modelo ha hecho un trabajo bastante pobre a la hora de ajustar. Tanto en el entrenamiento como en la validación. **Básicamente, lo que ha hecho es predecir el mismo valor de entrada que la salida.**\n",
        "\n"
      ],
      "metadata": {
        "id": "g17MaptlUj4T"
      }
    },
    {
      "cell_type": "markdown",
      "source": [
        "- Una red Multilayer perceptron es una arquitectura pesima para trabajar con series de tiempo."
      ],
      "metadata": {
        "id": "pWMXJZpGXBaL"
      }
    },
    {
      "cell_type": "markdown",
      "source": [
        "# **Diseño de Model Mejoras**\n",
        "---\n",
        "- Capa visible con 3 entrada\n",
        "- Capa oculta con 14 neuronas\n",
        "- Agrega una segunda capa oculta con 8 neuronas\n",
        "- Capa de salida\n",
        "- Modelo se ajusta usando el error cuadratico medio\n",
        "- Aumenta el número de epocas de 400"
      ],
      "metadata": {
        "id": "YO2Be6gYoEAI"
      }
    },
    {
      "cell_type": "markdown",
      "source": [
        "# **Create Data**\n",
        "---"
      ],
      "metadata": {
        "id": "ILHqallyo3x4"
      }
    },
    {
      "cell_type": "code",
      "source": [
        "loock_back = 3\n",
        "trainX, trainY = create_dataset(train, loock_back)\n",
        "testX, testY = create_dataset(test, loock_back)"
      ],
      "metadata": {
        "id": "h1sIvkrGow7I"
      },
      "execution_count": null,
      "outputs": []
    },
    {
      "cell_type": "code",
      "source": [
        "model = Sequential()\n",
        "model.add(Dense(14, input_dim = 3, activation = 'relu', kernel_initializer='glorot_uniform'))\n",
        "model.add(Dense(8, activation='relu', kernel_initializer='glorot_uniform'))\n",
        "model.add(Dense(1))\n",
        "model.compile(loss='mean_squared_error', optimizer = 'adam')"
      ],
      "metadata": {
        "id": "oMZ977bkoYqA"
      },
      "execution_count": null,
      "outputs": []
    },
    {
      "cell_type": "code",
      "source": [
        "model.fit(trainX, trainY, epochs = 400, batch_size = 2, verbose = 0)"
      ],
      "metadata": {
        "id": "pw6vYg7Rpk2q"
      },
      "execution_count": null,
      "outputs": []
    },
    {
      "cell_type": "markdown",
      "source": [
        "# **Estimar rendimiento**\n",
        "---"
      ],
      "metadata": {
        "id": "qJfzEm-sqK6v"
      }
    },
    {
      "cell_type": "code",
      "source": [
        "train_score = model.evaluate(trainX, trainY, verbose = 0)\n",
        "test_score = model.evaluate(testX, testY, verbose = 0)\n",
        "print('Puntuación Entrenamiento %.2f MSE (%.2f RMSE)' % (train_score, math.sqrt(train_score)))\n",
        "print('Puntuación Validación %.2f MSE (%.2f RMSE)' % (test_score, math.sqrt(test_score)))"
      ],
      "metadata": {
        "id": "X-1GqTbtqDbA"
      },
      "execution_count": null,
      "outputs": []
    },
    {
      "cell_type": "code",
      "source": [
        "print(f\"El modelo falla en aprocimadamente {math.sqrt(train_score)} mil pasajeros por mes para los datos de entrenamiento\")\n",
        "print(f\"El modelo falla en aprocimadamente {math.sqrt(test_score)} para los datos de validación \")"
      ],
      "metadata": {
        "id": "66AE8U28qH5Q"
      },
      "execution_count": null,
      "outputs": []
    },
    {
      "cell_type": "markdown",
      "source": [
        "# **Predicción**\n",
        "---\n",
        "\n"
      ],
      "metadata": {
        "id": "915Q3gFgqdew"
      }
    },
    {
      "cell_type": "code",
      "source": [
        "train_predict = model.predict(trainX)\n",
        "test_predict = model.predict(testX)"
      ],
      "metadata": {
        "id": "PfUsHhBfqflg"
      },
      "execution_count": null,
      "outputs": []
    },
    {
      "cell_type": "markdown",
      "source": [
        "# **Plot**\n",
        "---"
      ],
      "metadata": {
        "id": "J7JdPMUxqoLI"
      }
    },
    {
      "cell_type": "code",
      "source": [
        "train_predict_plot = np.empty_like(data_values)\n",
        "train_predict_plot[:,:] = np.nan\n",
        "train_predict_plot[loock_back: len(train_predict)+loock_back, :] = train_predict\n",
        "\n",
        "test_predict_plot = np.empty_like(data_values)\n",
        "test_predict_plot[:,:] = np.nan\n",
        "test_predict_plot[len(train_predict)+(loock_back*2)+1: len(data_values)-1:] = test_predict"
      ],
      "metadata": {
        "id": "gMvGXIGRqpKv"
      },
      "execution_count": null,
      "outputs": []
    },
    {
      "cell_type": "code",
      "source": [
        "plt.figure(figsize=(12,8))\n",
        "plt.plot(data_values)\n",
        "plt.plot(train_predict_plot)\n",
        "plt.plot(test_predict_plot)"
      ],
      "metadata": {
        "id": "q2vXbH65quGK"
      },
      "execution_count": null,
      "outputs": []
    },
    {
      "cell_type": "markdown",
      "source": [
        "- Aun persiste un mal ajuste con un modelo tradicional., pese algunas mejoras"
      ],
      "metadata": {
        "id": "_GFWjN8aqxdI"
      }
    },
    {
      "cell_type": "code",
      "source": [],
      "metadata": {
        "id": "0_CBxkstq7rQ"
      },
      "execution_count": null,
      "outputs": []
    }
  ]
}