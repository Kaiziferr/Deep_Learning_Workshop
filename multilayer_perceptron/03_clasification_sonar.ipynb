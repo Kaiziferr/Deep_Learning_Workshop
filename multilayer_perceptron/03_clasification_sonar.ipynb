{
  "nbformat": 4,
  "nbformat_minor": 0,
  "metadata": {
    "colab": {
      "name": "03_clasification_sonar.ipynb",
      "provenance": [],
      "authorship_tag": "ABX9TyNS8/0i8e0mUC5w/UNM7dzR",
      "include_colab_link": true
    },
    "kernelspec": {
      "name": "python3",
      "display_name": "Python 3"
    },
    "language_info": {
      "name": "python"
    }
  },
  "cells": [
    {
      "cell_type": "markdown",
      "metadata": {
        "id": "view-in-github",
        "colab_type": "text"
      },
      "source": [
        "<a href=\"https://colab.research.google.com/github/Kaiziferr/deep_learning/blob/master/multilayer_perceptron/03_clasification_sonar.ipynb\" target=\"_parent\"><img src=\"https://colab.research.google.com/assets/colab-badge.svg\" alt=\"Open In Colab\"/></a>"
      ]
    },
    {
      "cell_type": "code",
      "source": [
        "!pip install scikeras"
      ],
      "metadata": {
        "id": "Fxxl37X_DkGu",
        "outputId": "121fdece-06c2-459d-e608-e6d70efaf551",
        "colab": {
          "base_uri": "https://localhost:8080/"
        }
      },
      "execution_count": null,
      "outputs": [
        {
          "output_type": "stream",
          "name": "stdout",
          "text": [
            "Collecting scikeras\n",
            "  Downloading scikeras-0.13.0-py3-none-any.whl (26 kB)\n",
            "Collecting keras>=3.2.0 (from scikeras)\n",
            "  Downloading keras-3.3.3-py3-none-any.whl (1.1 MB)\n",
            "\u001b[2K     \u001b[90m━━━━━━━━━━━━━━━━━━━━━━━━━━━━━━━━━━━━━━━━\u001b[0m \u001b[32m1.1/1.1 MB\u001b[0m \u001b[31m8.2 MB/s\u001b[0m eta \u001b[36m0:00:00\u001b[0m\n",
            "\u001b[?25hCollecting scikit-learn>=1.4.2 (from scikeras)\n",
            "  Downloading scikit_learn-1.4.2-cp310-cp310-manylinux_2_17_x86_64.manylinux2014_x86_64.whl (12.1 MB)\n",
            "\u001b[2K     \u001b[90m━━━━━━━━━━━━━━━━━━━━━━━━━━━━━━━━━━━━━━━━\u001b[0m \u001b[32m12.1/12.1 MB\u001b[0m \u001b[31m38.3 MB/s\u001b[0m eta \u001b[36m0:00:00\u001b[0m\n",
            "\u001b[?25hRequirement already satisfied: absl-py in /usr/local/lib/python3.10/dist-packages (from keras>=3.2.0->scikeras) (1.4.0)\n",
            "Requirement already satisfied: numpy in /usr/local/lib/python3.10/dist-packages (from keras>=3.2.0->scikeras) (1.25.2)\n",
            "Requirement already satisfied: rich in /usr/local/lib/python3.10/dist-packages (from keras>=3.2.0->scikeras) (13.7.1)\n",
            "Collecting namex (from keras>=3.2.0->scikeras)\n",
            "  Downloading namex-0.0.8-py3-none-any.whl (5.8 kB)\n",
            "Requirement already satisfied: h5py in /usr/local/lib/python3.10/dist-packages (from keras>=3.2.0->scikeras) (3.9.0)\n",
            "Collecting optree (from keras>=3.2.0->scikeras)\n",
            "  Downloading optree-0.11.0-cp310-cp310-manylinux_2_17_x86_64.manylinux2014_x86_64.whl (311 kB)\n",
            "\u001b[2K     \u001b[90m━━━━━━━━━━━━━━━━━━━━━━━━━━━━━━━━━━━━━━━━\u001b[0m \u001b[32m311.2/311.2 kB\u001b[0m \u001b[31m18.8 MB/s\u001b[0m eta \u001b[36m0:00:00\u001b[0m\n",
            "\u001b[?25hRequirement already satisfied: ml-dtypes in /usr/local/lib/python3.10/dist-packages (from keras>=3.2.0->scikeras) (0.2.0)\n",
            "Requirement already satisfied: scipy>=1.6.0 in /usr/local/lib/python3.10/dist-packages (from scikit-learn>=1.4.2->scikeras) (1.11.4)\n",
            "Requirement already satisfied: joblib>=1.2.0 in /usr/local/lib/python3.10/dist-packages (from scikit-learn>=1.4.2->scikeras) (1.4.0)\n",
            "Requirement already satisfied: threadpoolctl>=2.0.0 in /usr/local/lib/python3.10/dist-packages (from scikit-learn>=1.4.2->scikeras) (3.5.0)\n",
            "Requirement already satisfied: typing-extensions>=4.0.0 in /usr/local/lib/python3.10/dist-packages (from optree->keras>=3.2.0->scikeras) (4.11.0)\n",
            "Requirement already satisfied: markdown-it-py>=2.2.0 in /usr/local/lib/python3.10/dist-packages (from rich->keras>=3.2.0->scikeras) (3.0.0)\n",
            "Requirement already satisfied: pygments<3.0.0,>=2.13.0 in /usr/local/lib/python3.10/dist-packages (from rich->keras>=3.2.0->scikeras) (2.16.1)\n",
            "Requirement already satisfied: mdurl~=0.1 in /usr/local/lib/python3.10/dist-packages (from markdown-it-py>=2.2.0->rich->keras>=3.2.0->scikeras) (0.1.2)\n",
            "Installing collected packages: namex, optree, scikit-learn, keras, scikeras\n",
            "  Attempting uninstall: scikit-learn\n",
            "    Found existing installation: scikit-learn 1.2.2\n",
            "    Uninstalling scikit-learn-1.2.2:\n",
            "      Successfully uninstalled scikit-learn-1.2.2\n",
            "  Attempting uninstall: keras\n",
            "    Found existing installation: keras 2.15.0\n",
            "    Uninstalling keras-2.15.0:\n",
            "      Successfully uninstalled keras-2.15.0\n",
            "\u001b[31mERROR: pip's dependency resolver does not currently take into account all the packages that are installed. This behaviour is the source of the following dependency conflicts.\n",
            "tensorflow 2.15.0 requires keras<2.16,>=2.15.0, but you have keras 3.3.3 which is incompatible.\u001b[0m\u001b[31m\n",
            "\u001b[0mSuccessfully installed keras-3.3.3 namex-0.0.8 optree-0.11.0 scikeras-0.13.0 scikit-learn-1.4.2\n"
          ]
        }
      ]
    },
    {
      "cell_type": "code",
      "source": [
        "import warnings\n",
        "\n",
        "import pandas as pd\n",
        "import numpy as np\n",
        "import matplotlib.pyplot as plt\n",
        "import seaborn as sns\n",
        "\n",
        "from keras.models import Sequential\n",
        "from keras.layers import Dense\n",
        "\n",
        "from sklearn.model_selection import (\n",
        "    train_test_split,\n",
        "    StratifiedKFold,\n",
        "    cross_val_score\n",
        ")\n",
        "\n",
        "from sklearn.preprocessing import (LabelEncoder, StandardScaler)\n",
        "from sklearn.pipeline import Pipeline\n",
        "\n",
        "from scikeras.wrappers import KerasClassifier"
      ],
      "metadata": {
        "id": "UjkOtqGtD0I7"
      },
      "execution_count": null,
      "outputs": []
    },
    {
      "cell_type": "markdown",
      "source": [
        "# **Info**\n",
        "---\n",
        "@By: **Steven Bernal**\n",
        "\n",
        "@Nickname: **Kaiziferr**\n",
        "\n",
        "@Git: https://github.com/Kaiziferr\n",
        "\n",
        "@References: This concept test is an adaptation of a workshop from the [Deep Learning con Python y Keras. Redes Neuronales avanzado.](https://www.udemy.com/course/deep-learning-con-keras/?couponCode=LEADERSALE24B)course.\n"
      ],
      "metadata": {
        "id": "Ev5_qjVwINZy"
      }
    },
    {
      "cell_type": "markdown",
      "source": [
        "# **Config**\n",
        "---"
      ],
      "metadata": {
        "id": "gW4TLTk7EzEE"
      }
    },
    {
      "cell_type": "code",
      "source": [
        "sns.set(style=\"darkgrid\")\n",
        "pd.set_option('display.float_format', '{:,.3f}'.format)\n",
        "warnings.simplefilter(\"ignore\")\n",
        "title_data = 'Detección de minas y rocas'\n",
        "paleta = sns.color_palette(\"tab10\").as_hex()\n",
        "random_seed = 12354"
      ],
      "metadata": {
        "id": "sJRjTSkKTQNv"
      },
      "execution_count": null,
      "outputs": []
    },
    {
      "cell_type": "markdown",
      "source": [
        "# **Descripcion**\n",
        "---\n",
        "El archivo \"sonar.mines\" contiene 111 patrones obtenidos al hacer rebotar señales de sonar en un cilindro de metal en varios ángulos y bajo diversas condiciones. El archivo \"sonar.rocks\" contiene 97 patrones obtenidos de rocas en condiciones similares. La señal del sonar transmitida es un chirrido de frecuencia modulada, aumentando en frecuencia. El conjunto de datos contiene señales obtenidas desde una variedad de ángulos de aspecto diferentes, que abarcan 90 grados para el cilindro y 180 grados para la roca.\n",
        "\n",
        "Cada patrón es un conjunto de 60 números en el rango de 0,0 a 1,0. Cada número representa la energía dentro de una banda de frecuencia particular, integrada durante un cierto período de tiempo. La apertura de integración para frecuencias más altas ocurre más tarde en el tiempo, ya que estas frecuencias se transmiten más tarde durante el chirrido.\n",
        "\n",
        "La etiqueta asociada a cada registro contiene la letra \"R\" si el objeto es una roca y \"M\" si es una mina (cilindro de metal). Los números en las etiquetas están en orden creciente de ángulo de aspecto, pero no codifican el ángulo directamente.\n",
        "\n",
        "\n"
      ],
      "metadata": {
        "id": "osfNDR62Vbqf"
      }
    },
    {
      "cell_type": "markdown",
      "source": [
        "# **Objetivos**\n",
        "---"
      ],
      "metadata": {
        "id": "iMjyCY92VqDG"
      }
    },
    {
      "cell_type": "markdown",
      "source": [
        "Distinguir entre `rocas` y `estructuras metálicas`, como minas marinas en el fondo marino.\n",
        "\n",
        "Optimizar el rendimiento con procesamiento de datos con:\n",
        "- pipelines\n"
      ],
      "metadata": {
        "id": "LYCQBRJ2wUtT"
      }
    },
    {
      "cell_type": "markdown",
      "source": [
        "# **Dicionario de datos**\n",
        "---\n",
        "- [V1:V60] señales de sonar\n",
        "- Class: tipo de elemento\n",
        "  - 0 Minas\n",
        "  - 1 Rocas"
      ],
      "metadata": {
        "id": "sF5g6GezVvAA"
      }
    },
    {
      "cell_type": "markdown",
      "source": [
        "# **Data**\n",
        "---"
      ],
      "metadata": {
        "id": "Ebv5FzgZXPaX"
      }
    },
    {
      "cell_type": "code",
      "source": [
        "url = 'https://raw.githubusercontent.com/selva86/datasets/master/Sonar.csv'\n",
        "data = pd.read_csv(url)\n",
        "data.head()"
      ],
      "metadata": {
        "id": "K2O_yc7oR6-J",
        "outputId": "e37e23e8-fbeb-434f-d562-aec33d94da6c",
        "colab": {
          "base_uri": "https://localhost:8080/",
          "height": 226
        }
      },
      "execution_count": null,
      "outputs": [
        {
          "output_type": "execute_result",
          "data": {
            "text/plain": [
              "     V1    V2    V3    V4    V5    V6    V7    V8  ...   V54   V55   V56   V57   V58   V59   V60  Class\n",
              "0 0.020 0.037 0.043 0.021 0.095 0.099 0.154 0.160  ... 0.016 0.007 0.017 0.018 0.008 0.009 0.003      1\n",
              "1 0.045 0.052 0.084 0.069 0.118 0.258 0.216 0.348  ... 0.005 0.009 0.019 0.014 0.005 0.005 0.004      1\n",
              "2 0.026 0.058 0.110 0.108 0.097 0.228 0.243 0.377  ... 0.009 0.018 0.024 0.032 0.016 0.009 0.008      1\n",
              "3 0.010 0.017 0.062 0.021 0.021 0.037 0.110 0.128  ... 0.015 0.009 0.007 0.005 0.004 0.004 0.012      1\n",
              "4 0.076 0.067 0.048 0.039 0.059 0.065 0.121 0.247  ... 0.011 0.011 0.002 0.007 0.005 0.011 0.009      1\n",
              "\n",
              "[5 rows x 61 columns]"
            ],
            "text/html": [
              "\n",
              "  <div id=\"df-b176dee6-011c-410f-8d06-4157f01dcccd\" class=\"colab-df-container\">\n",
              "    <div>\n",
              "<style scoped>\n",
              "    .dataframe tbody tr th:only-of-type {\n",
              "        vertical-align: middle;\n",
              "    }\n",
              "\n",
              "    .dataframe tbody tr th {\n",
              "        vertical-align: top;\n",
              "    }\n",
              "\n",
              "    .dataframe thead th {\n",
              "        text-align: right;\n",
              "    }\n",
              "</style>\n",
              "<table border=\"1\" class=\"dataframe\">\n",
              "  <thead>\n",
              "    <tr style=\"text-align: right;\">\n",
              "      <th></th>\n",
              "      <th>V1</th>\n",
              "      <th>V2</th>\n",
              "      <th>V3</th>\n",
              "      <th>V4</th>\n",
              "      <th>V5</th>\n",
              "      <th>V6</th>\n",
              "      <th>V7</th>\n",
              "      <th>V8</th>\n",
              "      <th>V9</th>\n",
              "      <th>V10</th>\n",
              "      <th>V11</th>\n",
              "      <th>V12</th>\n",
              "      <th>V13</th>\n",
              "      <th>V14</th>\n",
              "      <th>V15</th>\n",
              "      <th>V16</th>\n",
              "      <th>V17</th>\n",
              "      <th>V18</th>\n",
              "      <th>V19</th>\n",
              "      <th>V20</th>\n",
              "      <th>V21</th>\n",
              "      <th>V22</th>\n",
              "      <th>V23</th>\n",
              "      <th>V24</th>\n",
              "      <th>V25</th>\n",
              "      <th>V26</th>\n",
              "      <th>V27</th>\n",
              "      <th>V28</th>\n",
              "      <th>V29</th>\n",
              "      <th>V30</th>\n",
              "      <th>V31</th>\n",
              "      <th>V32</th>\n",
              "      <th>V33</th>\n",
              "      <th>V34</th>\n",
              "      <th>V35</th>\n",
              "      <th>V36</th>\n",
              "      <th>V37</th>\n",
              "      <th>V38</th>\n",
              "      <th>V39</th>\n",
              "      <th>V40</th>\n",
              "      <th>V41</th>\n",
              "      <th>V42</th>\n",
              "      <th>V43</th>\n",
              "      <th>V44</th>\n",
              "      <th>V45</th>\n",
              "      <th>V46</th>\n",
              "      <th>V47</th>\n",
              "      <th>V48</th>\n",
              "      <th>V49</th>\n",
              "      <th>V50</th>\n",
              "      <th>V51</th>\n",
              "      <th>V52</th>\n",
              "      <th>V53</th>\n",
              "      <th>V54</th>\n",
              "      <th>V55</th>\n",
              "      <th>V56</th>\n",
              "      <th>V57</th>\n",
              "      <th>V58</th>\n",
              "      <th>V59</th>\n",
              "      <th>V60</th>\n",
              "      <th>Class</th>\n",
              "    </tr>\n",
              "  </thead>\n",
              "  <tbody>\n",
              "    <tr>\n",
              "      <th>0</th>\n",
              "      <td>0.020</td>\n",
              "      <td>0.037</td>\n",
              "      <td>0.043</td>\n",
              "      <td>0.021</td>\n",
              "      <td>0.095</td>\n",
              "      <td>0.099</td>\n",
              "      <td>0.154</td>\n",
              "      <td>0.160</td>\n",
              "      <td>0.311</td>\n",
              "      <td>0.211</td>\n",
              "      <td>0.161</td>\n",
              "      <td>0.158</td>\n",
              "      <td>0.224</td>\n",
              "      <td>0.065</td>\n",
              "      <td>0.066</td>\n",
              "      <td>0.227</td>\n",
              "      <td>0.310</td>\n",
              "      <td>0.300</td>\n",
              "      <td>0.508</td>\n",
              "      <td>0.480</td>\n",
              "      <td>0.578</td>\n",
              "      <td>0.507</td>\n",
              "      <td>0.433</td>\n",
              "      <td>0.555</td>\n",
              "      <td>0.671</td>\n",
              "      <td>0.641</td>\n",
              "      <td>0.710</td>\n",
              "      <td>0.808</td>\n",
              "      <td>0.679</td>\n",
              "      <td>0.386</td>\n",
              "      <td>0.131</td>\n",
              "      <td>0.260</td>\n",
              "      <td>0.512</td>\n",
              "      <td>0.755</td>\n",
              "      <td>0.854</td>\n",
              "      <td>0.851</td>\n",
              "      <td>0.669</td>\n",
              "      <td>0.610</td>\n",
              "      <td>0.494</td>\n",
              "      <td>0.274</td>\n",
              "      <td>0.051</td>\n",
              "      <td>0.283</td>\n",
              "      <td>0.282</td>\n",
              "      <td>0.426</td>\n",
              "      <td>0.264</td>\n",
              "      <td>0.139</td>\n",
              "      <td>0.105</td>\n",
              "      <td>0.134</td>\n",
              "      <td>0.038</td>\n",
              "      <td>0.032</td>\n",
              "      <td>0.023</td>\n",
              "      <td>0.003</td>\n",
              "      <td>0.006</td>\n",
              "      <td>0.016</td>\n",
              "      <td>0.007</td>\n",
              "      <td>0.017</td>\n",
              "      <td>0.018</td>\n",
              "      <td>0.008</td>\n",
              "      <td>0.009</td>\n",
              "      <td>0.003</td>\n",
              "      <td>1</td>\n",
              "    </tr>\n",
              "    <tr>\n",
              "      <th>1</th>\n",
              "      <td>0.045</td>\n",
              "      <td>0.052</td>\n",
              "      <td>0.084</td>\n",
              "      <td>0.069</td>\n",
              "      <td>0.118</td>\n",
              "      <td>0.258</td>\n",
              "      <td>0.216</td>\n",
              "      <td>0.348</td>\n",
              "      <td>0.334</td>\n",
              "      <td>0.287</td>\n",
              "      <td>0.492</td>\n",
              "      <td>0.655</td>\n",
              "      <td>0.692</td>\n",
              "      <td>0.780</td>\n",
              "      <td>0.746</td>\n",
              "      <td>0.944</td>\n",
              "      <td>1.000</td>\n",
              "      <td>0.887</td>\n",
              "      <td>0.802</td>\n",
              "      <td>0.782</td>\n",
              "      <td>0.521</td>\n",
              "      <td>0.405</td>\n",
              "      <td>0.396</td>\n",
              "      <td>0.391</td>\n",
              "      <td>0.325</td>\n",
              "      <td>0.320</td>\n",
              "      <td>0.327</td>\n",
              "      <td>0.277</td>\n",
              "      <td>0.442</td>\n",
              "      <td>0.203</td>\n",
              "      <td>0.379</td>\n",
              "      <td>0.295</td>\n",
              "      <td>0.198</td>\n",
              "      <td>0.234</td>\n",
              "      <td>0.131</td>\n",
              "      <td>0.418</td>\n",
              "      <td>0.384</td>\n",
              "      <td>0.106</td>\n",
              "      <td>0.184</td>\n",
              "      <td>0.197</td>\n",
              "      <td>0.167</td>\n",
              "      <td>0.058</td>\n",
              "      <td>0.140</td>\n",
              "      <td>0.163</td>\n",
              "      <td>0.062</td>\n",
              "      <td>0.020</td>\n",
              "      <td>0.053</td>\n",
              "      <td>0.074</td>\n",
              "      <td>0.041</td>\n",
              "      <td>0.006</td>\n",
              "      <td>0.013</td>\n",
              "      <td>0.008</td>\n",
              "      <td>0.009</td>\n",
              "      <td>0.005</td>\n",
              "      <td>0.009</td>\n",
              "      <td>0.019</td>\n",
              "      <td>0.014</td>\n",
              "      <td>0.005</td>\n",
              "      <td>0.005</td>\n",
              "      <td>0.004</td>\n",
              "      <td>1</td>\n",
              "    </tr>\n",
              "    <tr>\n",
              "      <th>2</th>\n",
              "      <td>0.026</td>\n",
              "      <td>0.058</td>\n",
              "      <td>0.110</td>\n",
              "      <td>0.108</td>\n",
              "      <td>0.097</td>\n",
              "      <td>0.228</td>\n",
              "      <td>0.243</td>\n",
              "      <td>0.377</td>\n",
              "      <td>0.560</td>\n",
              "      <td>0.619</td>\n",
              "      <td>0.633</td>\n",
              "      <td>0.706</td>\n",
              "      <td>0.554</td>\n",
              "      <td>0.532</td>\n",
              "      <td>0.648</td>\n",
              "      <td>0.693</td>\n",
              "      <td>0.676</td>\n",
              "      <td>0.755</td>\n",
              "      <td>0.893</td>\n",
              "      <td>0.862</td>\n",
              "      <td>0.797</td>\n",
              "      <td>0.674</td>\n",
              "      <td>0.429</td>\n",
              "      <td>0.365</td>\n",
              "      <td>0.533</td>\n",
              "      <td>0.241</td>\n",
              "      <td>0.507</td>\n",
              "      <td>0.853</td>\n",
              "      <td>0.604</td>\n",
              "      <td>0.851</td>\n",
              "      <td>0.851</td>\n",
              "      <td>0.504</td>\n",
              "      <td>0.186</td>\n",
              "      <td>0.271</td>\n",
              "      <td>0.423</td>\n",
              "      <td>0.304</td>\n",
              "      <td>0.612</td>\n",
              "      <td>0.676</td>\n",
              "      <td>0.537</td>\n",
              "      <td>0.472</td>\n",
              "      <td>0.465</td>\n",
              "      <td>0.259</td>\n",
              "      <td>0.213</td>\n",
              "      <td>0.222</td>\n",
              "      <td>0.211</td>\n",
              "      <td>0.018</td>\n",
              "      <td>0.135</td>\n",
              "      <td>0.074</td>\n",
              "      <td>0.013</td>\n",
              "      <td>0.011</td>\n",
              "      <td>0.003</td>\n",
              "      <td>0.023</td>\n",
              "      <td>0.017</td>\n",
              "      <td>0.009</td>\n",
              "      <td>0.018</td>\n",
              "      <td>0.024</td>\n",
              "      <td>0.032</td>\n",
              "      <td>0.016</td>\n",
              "      <td>0.009</td>\n",
              "      <td>0.008</td>\n",
              "      <td>1</td>\n",
              "    </tr>\n",
              "    <tr>\n",
              "      <th>3</th>\n",
              "      <td>0.010</td>\n",
              "      <td>0.017</td>\n",
              "      <td>0.062</td>\n",
              "      <td>0.021</td>\n",
              "      <td>0.021</td>\n",
              "      <td>0.037</td>\n",
              "      <td>0.110</td>\n",
              "      <td>0.128</td>\n",
              "      <td>0.060</td>\n",
              "      <td>0.126</td>\n",
              "      <td>0.088</td>\n",
              "      <td>0.199</td>\n",
              "      <td>0.018</td>\n",
              "      <td>0.226</td>\n",
              "      <td>0.173</td>\n",
              "      <td>0.213</td>\n",
              "      <td>0.069</td>\n",
              "      <td>0.228</td>\n",
              "      <td>0.406</td>\n",
              "      <td>0.397</td>\n",
              "      <td>0.274</td>\n",
              "      <td>0.369</td>\n",
              "      <td>0.556</td>\n",
              "      <td>0.485</td>\n",
              "      <td>0.314</td>\n",
              "      <td>0.533</td>\n",
              "      <td>0.526</td>\n",
              "      <td>0.252</td>\n",
              "      <td>0.209</td>\n",
              "      <td>0.356</td>\n",
              "      <td>0.626</td>\n",
              "      <td>0.734</td>\n",
              "      <td>0.612</td>\n",
              "      <td>0.350</td>\n",
              "      <td>0.395</td>\n",
              "      <td>0.301</td>\n",
              "      <td>0.541</td>\n",
              "      <td>0.881</td>\n",
              "      <td>0.986</td>\n",
              "      <td>0.917</td>\n",
              "      <td>0.612</td>\n",
              "      <td>0.501</td>\n",
              "      <td>0.321</td>\n",
              "      <td>0.320</td>\n",
              "      <td>0.429</td>\n",
              "      <td>0.365</td>\n",
              "      <td>0.266</td>\n",
              "      <td>0.158</td>\n",
              "      <td>0.068</td>\n",
              "      <td>0.029</td>\n",
              "      <td>0.024</td>\n",
              "      <td>0.012</td>\n",
              "      <td>0.004</td>\n",
              "      <td>0.015</td>\n",
              "      <td>0.009</td>\n",
              "      <td>0.007</td>\n",
              "      <td>0.005</td>\n",
              "      <td>0.004</td>\n",
              "      <td>0.004</td>\n",
              "      <td>0.012</td>\n",
              "      <td>1</td>\n",
              "    </tr>\n",
              "    <tr>\n",
              "      <th>4</th>\n",
              "      <td>0.076</td>\n",
              "      <td>0.067</td>\n",
              "      <td>0.048</td>\n",
              "      <td>0.039</td>\n",
              "      <td>0.059</td>\n",
              "      <td>0.065</td>\n",
              "      <td>0.121</td>\n",
              "      <td>0.247</td>\n",
              "      <td>0.356</td>\n",
              "      <td>0.446</td>\n",
              "      <td>0.415</td>\n",
              "      <td>0.395</td>\n",
              "      <td>0.426</td>\n",
              "      <td>0.413</td>\n",
              "      <td>0.453</td>\n",
              "      <td>0.533</td>\n",
              "      <td>0.731</td>\n",
              "      <td>0.619</td>\n",
              "      <td>0.203</td>\n",
              "      <td>0.464</td>\n",
              "      <td>0.415</td>\n",
              "      <td>0.429</td>\n",
              "      <td>0.573</td>\n",
              "      <td>0.540</td>\n",
              "      <td>0.316</td>\n",
              "      <td>0.229</td>\n",
              "      <td>0.700</td>\n",
              "      <td>1.000</td>\n",
              "      <td>0.726</td>\n",
              "      <td>0.472</td>\n",
              "      <td>0.510</td>\n",
              "      <td>0.546</td>\n",
              "      <td>0.288</td>\n",
              "      <td>0.098</td>\n",
              "      <td>0.195</td>\n",
              "      <td>0.418</td>\n",
              "      <td>0.460</td>\n",
              "      <td>0.322</td>\n",
              "      <td>0.283</td>\n",
              "      <td>0.243</td>\n",
              "      <td>0.198</td>\n",
              "      <td>0.244</td>\n",
              "      <td>0.185</td>\n",
              "      <td>0.084</td>\n",
              "      <td>0.069</td>\n",
              "      <td>0.053</td>\n",
              "      <td>0.036</td>\n",
              "      <td>0.009</td>\n",
              "      <td>0.023</td>\n",
              "      <td>0.005</td>\n",
              "      <td>0.016</td>\n",
              "      <td>0.003</td>\n",
              "      <td>0.005</td>\n",
              "      <td>0.011</td>\n",
              "      <td>0.011</td>\n",
              "      <td>0.002</td>\n",
              "      <td>0.007</td>\n",
              "      <td>0.005</td>\n",
              "      <td>0.011</td>\n",
              "      <td>0.009</td>\n",
              "      <td>1</td>\n",
              "    </tr>\n",
              "  </tbody>\n",
              "</table>\n",
              "</div>\n",
              "    <div class=\"colab-df-buttons\">\n",
              "\n",
              "  <div class=\"colab-df-container\">\n",
              "    <button class=\"colab-df-convert\" onclick=\"convertToInteractive('df-b176dee6-011c-410f-8d06-4157f01dcccd')\"\n",
              "            title=\"Convert this dataframe to an interactive table.\"\n",
              "            style=\"display:none;\">\n",
              "\n",
              "  <svg xmlns=\"http://www.w3.org/2000/svg\" height=\"24px\" viewBox=\"0 -960 960 960\">\n",
              "    <path d=\"M120-120v-720h720v720H120Zm60-500h600v-160H180v160Zm220 220h160v-160H400v160Zm0 220h160v-160H400v160ZM180-400h160v-160H180v160Zm440 0h160v-160H620v160ZM180-180h160v-160H180v160Zm440 0h160v-160H620v160Z\"/>\n",
              "  </svg>\n",
              "    </button>\n",
              "\n",
              "  <style>\n",
              "    .colab-df-container {\n",
              "      display:flex;\n",
              "      gap: 12px;\n",
              "    }\n",
              "\n",
              "    .colab-df-convert {\n",
              "      background-color: #E8F0FE;\n",
              "      border: none;\n",
              "      border-radius: 50%;\n",
              "      cursor: pointer;\n",
              "      display: none;\n",
              "      fill: #1967D2;\n",
              "      height: 32px;\n",
              "      padding: 0 0 0 0;\n",
              "      width: 32px;\n",
              "    }\n",
              "\n",
              "    .colab-df-convert:hover {\n",
              "      background-color: #E2EBFA;\n",
              "      box-shadow: 0px 1px 2px rgba(60, 64, 67, 0.3), 0px 1px 3px 1px rgba(60, 64, 67, 0.15);\n",
              "      fill: #174EA6;\n",
              "    }\n",
              "\n",
              "    .colab-df-buttons div {\n",
              "      margin-bottom: 4px;\n",
              "    }\n",
              "\n",
              "    [theme=dark] .colab-df-convert {\n",
              "      background-color: #3B4455;\n",
              "      fill: #D2E3FC;\n",
              "    }\n",
              "\n",
              "    [theme=dark] .colab-df-convert:hover {\n",
              "      background-color: #434B5C;\n",
              "      box-shadow: 0px 1px 3px 1px rgba(0, 0, 0, 0.15);\n",
              "      filter: drop-shadow(0px 1px 2px rgba(0, 0, 0, 0.3));\n",
              "      fill: #FFFFFF;\n",
              "    }\n",
              "  </style>\n",
              "\n",
              "    <script>\n",
              "      const buttonEl =\n",
              "        document.querySelector('#df-b176dee6-011c-410f-8d06-4157f01dcccd button.colab-df-convert');\n",
              "      buttonEl.style.display =\n",
              "        google.colab.kernel.accessAllowed ? 'block' : 'none';\n",
              "\n",
              "      async function convertToInteractive(key) {\n",
              "        const element = document.querySelector('#df-b176dee6-011c-410f-8d06-4157f01dcccd');\n",
              "        const dataTable =\n",
              "          await google.colab.kernel.invokeFunction('convertToInteractive',\n",
              "                                                    [key], {});\n",
              "        if (!dataTable) return;\n",
              "\n",
              "        const docLinkHtml = 'Like what you see? Visit the ' +\n",
              "          '<a target=\"_blank\" href=https://colab.research.google.com/notebooks/data_table.ipynb>data table notebook</a>'\n",
              "          + ' to learn more about interactive tables.';\n",
              "        element.innerHTML = '';\n",
              "        dataTable['output_type'] = 'display_data';\n",
              "        await google.colab.output.renderOutput(dataTable, element);\n",
              "        const docLink = document.createElement('div');\n",
              "        docLink.innerHTML = docLinkHtml;\n",
              "        element.appendChild(docLink);\n",
              "      }\n",
              "    </script>\n",
              "  </div>\n",
              "\n",
              "\n",
              "<div id=\"df-a1baaed2-83ba-42eb-9545-7359c046cf64\">\n",
              "  <button class=\"colab-df-quickchart\" onclick=\"quickchart('df-a1baaed2-83ba-42eb-9545-7359c046cf64')\"\n",
              "            title=\"Suggest charts\"\n",
              "            style=\"display:none;\">\n",
              "\n",
              "<svg xmlns=\"http://www.w3.org/2000/svg\" height=\"24px\"viewBox=\"0 0 24 24\"\n",
              "     width=\"24px\">\n",
              "    <g>\n",
              "        <path d=\"M19 3H5c-1.1 0-2 .9-2 2v14c0 1.1.9 2 2 2h14c1.1 0 2-.9 2-2V5c0-1.1-.9-2-2-2zM9 17H7v-7h2v7zm4 0h-2V7h2v10zm4 0h-2v-4h2v4z\"/>\n",
              "    </g>\n",
              "</svg>\n",
              "  </button>\n",
              "\n",
              "<style>\n",
              "  .colab-df-quickchart {\n",
              "      --bg-color: #E8F0FE;\n",
              "      --fill-color: #1967D2;\n",
              "      --hover-bg-color: #E2EBFA;\n",
              "      --hover-fill-color: #174EA6;\n",
              "      --disabled-fill-color: #AAA;\n",
              "      --disabled-bg-color: #DDD;\n",
              "  }\n",
              "\n",
              "  [theme=dark] .colab-df-quickchart {\n",
              "      --bg-color: #3B4455;\n",
              "      --fill-color: #D2E3FC;\n",
              "      --hover-bg-color: #434B5C;\n",
              "      --hover-fill-color: #FFFFFF;\n",
              "      --disabled-bg-color: #3B4455;\n",
              "      --disabled-fill-color: #666;\n",
              "  }\n",
              "\n",
              "  .colab-df-quickchart {\n",
              "    background-color: var(--bg-color);\n",
              "    border: none;\n",
              "    border-radius: 50%;\n",
              "    cursor: pointer;\n",
              "    display: none;\n",
              "    fill: var(--fill-color);\n",
              "    height: 32px;\n",
              "    padding: 0;\n",
              "    width: 32px;\n",
              "  }\n",
              "\n",
              "  .colab-df-quickchart:hover {\n",
              "    background-color: var(--hover-bg-color);\n",
              "    box-shadow: 0 1px 2px rgba(60, 64, 67, 0.3), 0 1px 3px 1px rgba(60, 64, 67, 0.15);\n",
              "    fill: var(--button-hover-fill-color);\n",
              "  }\n",
              "\n",
              "  .colab-df-quickchart-complete:disabled,\n",
              "  .colab-df-quickchart-complete:disabled:hover {\n",
              "    background-color: var(--disabled-bg-color);\n",
              "    fill: var(--disabled-fill-color);\n",
              "    box-shadow: none;\n",
              "  }\n",
              "\n",
              "  .colab-df-spinner {\n",
              "    border: 2px solid var(--fill-color);\n",
              "    border-color: transparent;\n",
              "    border-bottom-color: var(--fill-color);\n",
              "    animation:\n",
              "      spin 1s steps(1) infinite;\n",
              "  }\n",
              "\n",
              "  @keyframes spin {\n",
              "    0% {\n",
              "      border-color: transparent;\n",
              "      border-bottom-color: var(--fill-color);\n",
              "      border-left-color: var(--fill-color);\n",
              "    }\n",
              "    20% {\n",
              "      border-color: transparent;\n",
              "      border-left-color: var(--fill-color);\n",
              "      border-top-color: var(--fill-color);\n",
              "    }\n",
              "    30% {\n",
              "      border-color: transparent;\n",
              "      border-left-color: var(--fill-color);\n",
              "      border-top-color: var(--fill-color);\n",
              "      border-right-color: var(--fill-color);\n",
              "    }\n",
              "    40% {\n",
              "      border-color: transparent;\n",
              "      border-right-color: var(--fill-color);\n",
              "      border-top-color: var(--fill-color);\n",
              "    }\n",
              "    60% {\n",
              "      border-color: transparent;\n",
              "      border-right-color: var(--fill-color);\n",
              "    }\n",
              "    80% {\n",
              "      border-color: transparent;\n",
              "      border-right-color: var(--fill-color);\n",
              "      border-bottom-color: var(--fill-color);\n",
              "    }\n",
              "    90% {\n",
              "      border-color: transparent;\n",
              "      border-bottom-color: var(--fill-color);\n",
              "    }\n",
              "  }\n",
              "</style>\n",
              "\n",
              "  <script>\n",
              "    async function quickchart(key) {\n",
              "      const quickchartButtonEl =\n",
              "        document.querySelector('#' + key + ' button');\n",
              "      quickchartButtonEl.disabled = true;  // To prevent multiple clicks.\n",
              "      quickchartButtonEl.classList.add('colab-df-spinner');\n",
              "      try {\n",
              "        const charts = await google.colab.kernel.invokeFunction(\n",
              "            'suggestCharts', [key], {});\n",
              "      } catch (error) {\n",
              "        console.error('Error during call to suggestCharts:', error);\n",
              "      }\n",
              "      quickchartButtonEl.classList.remove('colab-df-spinner');\n",
              "      quickchartButtonEl.classList.add('colab-df-quickchart-complete');\n",
              "    }\n",
              "    (() => {\n",
              "      let quickchartButtonEl =\n",
              "        document.querySelector('#df-a1baaed2-83ba-42eb-9545-7359c046cf64 button');\n",
              "      quickchartButtonEl.style.display =\n",
              "        google.colab.kernel.accessAllowed ? 'block' : 'none';\n",
              "    })();\n",
              "  </script>\n",
              "</div>\n",
              "\n",
              "    </div>\n",
              "  </div>\n"
            ],
            "application/vnd.google.colaboratory.intrinsic+json": {
              "type": "dataframe",
              "variable_name": "data"
            }
          },
          "metadata": {},
          "execution_count": 5
        }
      ]
    },
    {
      "cell_type": "code",
      "source": [
        "data_values = data.values"
      ],
      "metadata": {
        "id": "8BCYEGwrSDUB"
      },
      "execution_count": null,
      "outputs": []
    },
    {
      "cell_type": "markdown",
      "source": [
        "# **split**\n",
        "---"
      ],
      "metadata": {
        "id": "1KDMbfDVSchK"
      }
    },
    {
      "cell_type": "code",
      "source": [
        "X = data_values[:, :60].astype('float32')\n",
        "y = data_values[:, 60]"
      ],
      "metadata": {
        "id": "uhSO45RcE9WG"
      },
      "execution_count": null,
      "outputs": []
    },
    {
      "cell_type": "code",
      "source": [
        "y"
      ],
      "metadata": {
        "id": "INX1JemHFHe8",
        "outputId": "5fed05c8-171c-4c7c-bee0-dff4565e6def",
        "colab": {
          "base_uri": "https://localhost:8080/"
        }
      },
      "execution_count": null,
      "outputs": [
        {
          "output_type": "execute_result",
          "data": {
            "text/plain": [
              "array([1., 1., 1., 1., 1., 1., 1., 1., 1., 1., 1., 1., 1., 1., 1., 1., 1.,\n",
              "       1., 1., 1., 1., 1., 1., 1., 1., 1., 1., 1., 1., 1., 1., 1., 1., 1.,\n",
              "       1., 1., 1., 1., 1., 1., 1., 1., 1., 1., 1., 1., 1., 1., 1., 1., 1.,\n",
              "       1., 1., 1., 1., 1., 1., 1., 1., 1., 1., 1., 1., 1., 1., 1., 1., 1.,\n",
              "       1., 1., 1., 1., 1., 1., 1., 1., 1., 1., 1., 1., 1., 1., 1., 1., 1.,\n",
              "       1., 1., 1., 1., 1., 1., 1., 1., 1., 1., 1., 1., 0., 0., 0., 0., 0.,\n",
              "       0., 0., 0., 0., 0., 0., 0., 0., 0., 0., 0., 0., 0., 0., 0., 0., 0.,\n",
              "       0., 0., 0., 0., 0., 0., 0., 0., 0., 0., 0., 0., 0., 0., 0., 0., 0.,\n",
              "       0., 0., 0., 0., 0., 0., 0., 0., 0., 0., 0., 0., 0., 0., 0., 0., 0.,\n",
              "       0., 0., 0., 0., 0., 0., 0., 0., 0., 0., 0., 0., 0., 0., 0., 0., 0.,\n",
              "       0., 0., 0., 0., 0., 0., 0., 0., 0., 0., 0., 0., 0., 0., 0., 0., 0.,\n",
              "       0., 0., 0., 0., 0., 0., 0., 0., 0., 0., 0., 0., 0., 0., 0., 0., 0.,\n",
              "       0., 0., 0., 0.])"
            ]
          },
          "metadata": {},
          "execution_count": 8
        }
      ]
    },
    {
      "cell_type": "code",
      "source": [
        "X_train, x_test, y_train, y_test = train_test_split(\n",
        "    X,\n",
        "    y,\n",
        "    train_size = 0.7,\n",
        "    random_state =  random_seed,\n",
        "    shuffle = True\n",
        ")"
      ],
      "metadata": {
        "id": "LSaRuwfiFJk_"
      },
      "execution_count": null,
      "outputs": []
    },
    {
      "cell_type": "code",
      "source": [
        "data['tags'] = data['Class'].replace({0: 'roca', 1: 'mina'})"
      ],
      "metadata": {
        "id": "ccU5QVboFl_K"
      },
      "execution_count": null,
      "outputs": []
    },
    {
      "cell_type": "code",
      "source": [
        "def plot_bar(data:pd.DataFrame, paleta:list=None, figsize_x:int=8, figsize_y:int=5,\n",
        "             fontsize:int=15, **kwards)->None:\n",
        "  \"\"\"Grafica un diagrama de barras con multiples caracteristicas\"\"\"\n",
        "  try:\n",
        "    paleta = paleta if paleta !=None else sns.color_palette(\"tab10\").as_hex()\n",
        "    v = kwards\n",
        "    ejeX = v[\"ejeX\"]\n",
        "\n",
        "    fig, ax = plt.subplots(figsize = (figsize_x, figsize_y))\n",
        "    fig.suptitle(f'Diagrama de barras {v[\"title\"]}', fontsize=fontsize)\n",
        "\n",
        "    if type(ejeX) == str:\n",
        "      sns.countplot(x=ejeX, data=data, ax = ax, palette=paleta)\n",
        "    else:\n",
        "      ejeX = v['ejeX'][0]\n",
        "      sns.countplot(x=ejeX, hue=v['ejeX'][1], data=data, ax=ax, palette=paleta)\n",
        "\n",
        "    ax.set_ylabel(v['ejey'], size = 12)\n",
        "    ax.set_xlabel(ejeX, size=fontsize-3)\n",
        "\n",
        "    ax.set_xticklabels(ax.get_xticklabels(), fontsize = fontsize-3)\n",
        "    for p in ax.patches:\n",
        "      try:\n",
        "        height = int(p.get_height())\n",
        "        height_text = height\n",
        "        if kwards['p'] == True:\n",
        "          percentage = round(height/data.shape[0], 5)\n",
        "          height_text = f'{height} ({percentage})'\n",
        "        ax.text(p.get_x()+p.get_width()/2., height + 1, height_text, ha=\"center\")\n",
        "      except:\n",
        "        pass\n",
        "\n",
        "  except Exception as e:\n",
        "    print(e)\n"
      ],
      "metadata": {
        "id": "-5isfKlWQnui"
      },
      "execution_count": null,
      "outputs": []
    },
    {
      "cell_type": "code",
      "source": [
        "plot_bar(\n",
        "    data,\n",
        "    paleta=paleta,\n",
        "    ejeX='tags',\n",
        "    ejey='Supervivencia de Cáncer',\n",
        "    title=title_data,\n",
        "    p=True)"
      ],
      "metadata": {
        "id": "SZQMN0h5Q8GZ",
        "outputId": "6986a83c-cf00-41c0-c476-455daa41b65c",
        "colab": {
          "base_uri": "https://localhost:8080/",
          "height": 526
        }
      },
      "execution_count": null,
      "outputs": [
        {
          "output_type": "display_data",
          "data": {
            "text/plain": [
              "<Figure size 800x500 with 1 Axes>"
            ],
            "image/png": "[encoded data removed]"
          },
          "metadata": {}
        }
      ]
    },
    {
      "cell_type": "markdown",
      "source": [
        "- El conjunto se encuntra parcialmente equilibrado"
      ],
      "metadata": {
        "id": "Jy2EANBHxA2S"
      }
    },
    {
      "cell_type": "code",
      "source": [
        "def model_base():\n",
        "  model = Sequential()\n",
        "  model.add(\n",
        "      Dense(\n",
        "          60, input_dim = 60, kernel_initializer='glorot_uniform', activation='relu'))\n",
        "  model.add(Dense(1, kernel_initializer='glorot_uniform', activation='relu'))\n",
        "  model.compile(loss = 'binary_crossentropy', optimizer = 'adam')\n",
        "  return model"
      ],
      "metadata": {
        "id": "MoHJ7jJmF1Ds"
      },
      "execution_count": null,
      "outputs": []
    },
    {
      "cell_type": "code",
      "source": [
        "model = KerasClassifier(build_fn=model_base, epochs=100, batch_size=5, verbose=0)\n",
        "kfold = StratifiedKFold(n_splits=10, shuffle=True, random_state=random_seed)\n",
        "score = cross_val_score(model, X, y, cv=kfold)"
      ],
      "metadata": {
        "id": "D6mQAoeVGY_2",
        "outputId": "4c61d294-5a24-4cd7-ae73-82b7105180a2",
        "colab": {
          "base_uri": "https://localhost:8080/"
        }
      },
      "execution_count": null,
      "outputs": [
        {
          "output_type": "stream",
          "name": "stderr",
          "text": [
            "WARNING:tensorflow:5 out of the last 11 calls to <function TensorFlowTrainer.make_predict_function.<locals>.one_step_on_data_distributed at 0x7f2e4c9fe950> triggered tf.function retracing. Tracing is expensive and the excessive number of tracings could be due to (1) creating @tf.function repeatedly in a loop, (2) passing tensors with different shapes, (3) passing Python objects instead of tensors. For (1), please define your @tf.function outside of the loop. For (2), @tf.function has reduce_retracing=True option that can avoid unnecessary retracing. For (3), please refer to https://www.tensorflow.org/guide/function#controlling_retracing and https://www.tensorflow.org/api_docs/python/tf/function for  more details.\n",
            "WARNING:tensorflow:5 out of the last 11 calls to <function TensorFlowTrainer.make_predict_function.<locals>.one_step_on_data_distributed at 0x7f2e4c9fe950> triggered tf.function retracing. Tracing is expensive and the excessive number of tracings could be due to (1) creating @tf.function repeatedly in a loop, (2) passing tensors with different shapes, (3) passing Python objects instead of tensors. For (1), please define your @tf.function outside of the loop. For (2), @tf.function has reduce_retracing=True option that can avoid unnecessary retracing. For (3), please refer to https://www.tensorflow.org/guide/function#controlling_retracing and https://www.tensorflow.org/api_docs/python/tf/function for  more details.\n"
          ]
        }
      ]
    },
    {
      "cell_type": "code",
      "source": [
        "score"
      ],
      "metadata": {
        "id": "cYarAv69Twzy",
        "outputId": "14b948b4-9343-47a6-9a9c-4b3a5d603e06",
        "colab": {
          "base_uri": "https://localhost:8080/"
        }
      },
      "execution_count": null,
      "outputs": [
        {
          "output_type": "execute_result",
          "data": {
            "text/plain": [
              "array([0.52380952, 0.80952381, 0.9047619 , 0.80952381, 0.85714286,\n",
              "       0.85714286, 0.9047619 , 0.80952381, 0.9       , 0.8       ])"
            ]
          },
          "metadata": {},
          "execution_count": 19
        }
      ]
    },
    {
      "cell_type": "markdown",
      "source": [
        "- El modelo sufre de variabilidad minima, puesto sus puntajes se encuentran en el orden de los 0.8-0.9, solo hay un pliegue bajo."
      ],
      "metadata": {
        "id": "g-vwDYDd0bU6"
      }
    },
    {
      "cell_type": "code",
      "source": [
        "print('Base Line: %.2f%% (%.2f%%)' % (score.mean()*100, score.std()*100))"
      ],
      "metadata": {
        "id": "a_Qw2mapHsGV",
        "outputId": "38e26b97-43ea-4a1b-f25f-bac23958ddaa",
        "colab": {
          "base_uri": "https://localhost:8080/"
        }
      },
      "execution_count": null,
      "outputs": [
        {
          "output_type": "stream",
          "name": "stdout",
          "text": [
            "Base Line: 81.76% (10.58%)\n"
          ]
        }
      ]
    },
    {
      "cell_type": "markdown",
      "source": [
        "La dispersión es minima, pero considerable frente a la media para este tipo de problema, lo que indica ruido estadistico, por lo tanto es posible que el rendimiento se vea afectado."
      ],
      "metadata": {
        "id": "NGDspfdp0zOc"
      }
    },
    {
      "cell_type": "markdown",
      "source": [
        "# **Optimizar el rendimiento con procesamiento de datos**\n",
        "---"
      ],
      "metadata": {
        "id": "hZ6CUuEI1ILf"
      }
    },
    {
      "cell_type": "code",
      "source": [
        "estimator = []\n",
        "estimator.append(('standarize', StandardScaler()))\n",
        "estimator.append(('mlp', KerasClassifier(\n",
        "    build_fn=model_base, epochs=100, batch_size=5, verbose=0\n",
        ")))"
      ],
      "metadata": {
        "id": "hRoYU_TNIEsh"
      },
      "execution_count": null,
      "outputs": []
    },
    {
      "cell_type": "code",
      "source": [
        "pipeline = Pipeline(estimator)\n",
        "kfold = StratifiedKFold(n_splits=10, shuffle=True, random_state=random_seed)\n",
        "score = cross_val_score(pipeline, X, y, cv=kfold)"
      ],
      "metadata": {
        "id": "htzRcQ8RIffM"
      },
      "execution_count": null,
      "outputs": []
    },
    {
      "cell_type": "code",
      "source": [
        "score"
      ],
      "metadata": {
        "colab": {
          "base_uri": "https://localhost:8080/"
        },
        "id": "W2iNeSL03mOT",
        "outputId": "cb6daa9f-0fc2-48e0-ad5b-4be84a3e33bf"
      },
      "execution_count": null,
      "outputs": [
        {
          "output_type": "execute_result",
          "data": {
            "text/plain": [
              "array([0.76190476, 0.95238095, 0.85714286, 0.61904762, 0.80952381,\n",
              "       0.9047619 , 0.80952381, 0.76190476, 0.65      , 0.8       ])"
            ]
          },
          "metadata": {},
          "execution_count": 28
        }
      ]
    },
    {
      "cell_type": "markdown",
      "source": [
        "- Los resultados convergen tiene un convergencia similar al anterior, pero su variabilidad es minimamente menor."
      ],
      "metadata": {
        "id": "89hImfK934sb"
      }
    },
    {
      "cell_type": "code",
      "source": [
        "print(\"Modelo Estandarizado: %.2f%% (%.2f%%)\" % (score.mean()*100, score.std()*100))"
      ],
      "metadata": {
        "colab": {
          "base_uri": "https://localhost:8080/"
        },
        "id": "fWjrSLRM4aBr",
        "outputId": "fffb850c-7e86-4c9e-b9af-959d939d50b3"
      },
      "execution_count": null,
      "outputs": [
        {
          "output_type": "stream",
          "name": "stdout",
          "text": [
            "Modelo Estandarizado: 79.36% (10.22%)\n"
          ]
        }
      ]
    },
    {
      "cell_type": "markdown",
      "source": [
        "La dispersión es más baja que el modelo base, por lo tanto la habilidad predictiva es más confiable que el base."
      ],
      "metadata": {
        "id": "MxdXz28g4bjU"
      }
    },
    {
      "cell_type": "markdown",
      "source": [
        "# **Topologias**\n",
        "---"
      ],
      "metadata": {
        "id": "ztQjMjBw4pck"
      }
    },
    {
      "cell_type": "markdown",
      "source": [
        "## **Topologia Pequeña**\n",
        "---"
      ],
      "metadata": {
        "id": "P3f0YEDT6D61"
      }
    },
    {
      "cell_type": "code",
      "source": [
        "def model_smaller():\n",
        "  model = Sequential()\n",
        "  model.add(Dense(30, input_dim=60, kernel_initializer='glorot_uniform', activation='relu'))\n",
        "  model.add(Dense(1, kernel_initializer='glorot_uniform', activation='sigmoid'))\n",
        "  model.compile(loss='binary_crossentropy', optimizer='adam', metrics=['accuracy'])\n",
        "  return model"
      ],
      "metadata": {
        "id": "4a_PdGKiKmH9"
      },
      "execution_count": null,
      "outputs": []
    },
    {
      "cell_type": "code",
      "source": [
        "estimator = []\n",
        "estimator.append(('standarize', StandardScaler()))\n",
        "estimator.append(('mlp',\n",
        "                  KerasClassifier(\n",
        "                      build_fn=model_smaller,\n",
        "                      epochs = 100,\n",
        "                      batch_size = 5,\n",
        "                      verbose = 0\n",
        "                  )))\n"
      ],
      "metadata": {
        "id": "01M_OxB7LLru"
      },
      "execution_count": null,
      "outputs": []
    },
    {
      "cell_type": "code",
      "source": [
        "pipeline = Pipeline(estimator)\n",
        "score = cross_val_score(pipeline, X, y, cv=kfold)\n",
        "score"
      ],
      "metadata": {
        "id": "-Ub7VCOhLluk",
        "outputId": "d66463b5-0dda-4dd2-d924-86fc9d7241e2",
        "colab": {
          "base_uri": "https://localhost:8080/"
        }
      },
      "execution_count": null,
      "outputs": [
        {
          "output_type": "execute_result",
          "data": {
            "text/plain": [
              "array([0.85714286, 0.95238095, 0.9047619 , 0.80952381, 0.9047619 ,\n",
              "       0.76190476, 0.85714286, 0.85714286, 0.9       , 0.85      ])"
            ]
          },
          "metadata": {},
          "execution_count": 27
        }
      ]
    },
    {
      "cell_type": "code",
      "source": [
        "print(\"Modelo Estandarizado Topologia pequeña: %.2f%% (%.2f%%)\" % (score.mean()*100, score.std()*100))"
      ],
      "metadata": {
        "colab": {
          "base_uri": "https://localhost:8080/"
        },
        "id": "YWT__zUj6id7",
        "outputId": "311654ae-7530-4968-b3b6-d5192099a47a"
      },
      "execution_count": null,
      "outputs": [
        {
          "output_type": "stream",
          "name": "stdout",
          "text": [
            "Modelo Estandarizado Topologia pequeña: 86.55% (5.11%)\n"
          ]
        }
      ]
    },
    {
      "cell_type": "markdown",
      "source": [
        "- El modelo con topologia pequeña, difiere  del rendimiento del modelo base.\n",
        "- Tiene un buen comportamiento. Una media más alta y una disperción menor al modelo base."
      ],
      "metadata": {
        "id": "mOQJU_qH7CRU"
      }
    },
    {
      "cell_type": "markdown",
      "source": [
        "## **Topologia grande**\n",
        "---"
      ],
      "metadata": {
        "id": "uPdEK7FE7O-b"
      }
    },
    {
      "cell_type": "code",
      "source": [
        "def model_large():\n",
        "  model = Sequential()\n",
        "  model.add(Dense(60, input_dim = 60, kernel_initializer='glorot_uniform', activation= 'relu'))\n",
        "  model.add(Dense(60, kernel_initializer='glorot_uniform', activation='relu'))\n",
        "  model.add(Dense(1, activation='sigmoid'))\n",
        "  model.compile(loss='binary_crossentropy', optimizer='adam', metrics = ['accuracy'])\n",
        "  return model"
      ],
      "metadata": {
        "id": "cWRBuiR3MdhJ"
      },
      "execution_count": null,
      "outputs": []
    },
    {
      "cell_type": "code",
      "source": [
        "estimators = []\n",
        "estimators.append((\"standarize\", StandardScaler()))\n",
        "estimators.append(('mlp', KerasClassifier(\n",
        "    build_fn=model_large, epochs=100, batch_size=5, verbose=0\n",
        ")))"
      ],
      "metadata": {
        "id": "pqAADjYwNFOi"
      },
      "execution_count": null,
      "outputs": []
    },
    {
      "cell_type": "code",
      "source": [
        "pipeline = Pipeline(estimator)\n",
        "score = cross_val_score(pipeline, X, y, cv = kfold)"
      ],
      "metadata": {
        "id": "JsRSJrC87f6c"
      },
      "execution_count": null,
      "outputs": []
    },
    {
      "cell_type": "code",
      "source": [
        "score"
      ],
      "metadata": {
        "colab": {
          "base_uri": "https://localhost:8080/"
        },
        "id": "RUlqQReL7pVj",
        "outputId": "e9a2a0a4-0624-441d-d0a1-d5b321ee6969"
      },
      "execution_count": null,
      "outputs": [
        {
          "output_type": "execute_result",
          "data": {
            "text/plain": [
              "array([0.85714286, 0.9047619 , 0.80952381, 0.76190476, 0.9047619 ,\n",
              "       0.85714286, 0.80952381, 0.9047619 , 0.9       , 0.8       ])"
            ]
          },
          "metadata": {},
          "execution_count": 32
        }
      ]
    },
    {
      "cell_type": "code",
      "source": [
        "print(\"Modelo Estandarizado Topologia grande: %.2f%% (%.2f%%)\" % (score.mean()*100, score.std()*100))"
      ],
      "metadata": {
        "colab": {
          "base_uri": "https://localhost:8080/"
        },
        "id": "rYfO4QBI7nv2",
        "outputId": "ea344032-b239-4c5d-e973-cbffafbf1082"
      },
      "execution_count": null,
      "outputs": [
        {
          "output_type": "stream",
          "name": "stdout",
          "text": [
            "Modelo Estandarizado Topologia grande: 85.10% (5.01%)\n"
          ]
        }
      ]
    },
    {
      "cell_type": "markdown",
      "source": [
        "- La topologia grande no tubo una mejora significativa en comparación a la arquitectura pequeña, cabe resaltar que no se entro en profundidad. La topologia, tiene un mejor rendimiento, y su dispersión es más baja."
      ],
      "metadata": {
        "id": "pjeAQiPs76qM"
      }
    },
    {
      "cell_type": "markdown",
      "source": [
        "# **Info**\n",
        "---\n",
        "@By: **Steven Bernal**\n",
        "\n",
        "@Nickname: **Kaiziferr**\n",
        "\n",
        "@Git: https://github.com/Kaiziferr\n",
        "\n",
        "@References: This concept test is an adaptation of a workshop from the [Deep Learning con Python y Keras. Redes Neuronales avanzado.](https://www.udemy.com/course/deep-learning-con-keras/?couponCode=LEADERSALE24B)course.\n"
      ],
      "metadata": {
        "id": "FApoWfF6IQnH"
      }
    }
  ]
}