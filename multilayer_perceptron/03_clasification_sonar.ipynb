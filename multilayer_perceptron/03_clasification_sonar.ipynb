{
  "nbformat": 4,
  "nbformat_minor": 0,
  "metadata": {
    "colab": {
      "name": "03_clasification_sonar.ipynb",
      "provenance": [],
      "authorship_tag": "ABX9TyNkOmkbVhyEiuollA1Ns2si",
      "include_colab_link": true
    },
    "kernelspec": {
      "name": "python3",
      "display_name": "Python 3"
    },
    "language_info": {
      "name": "python"
    }
  },
  "cells": [
    {
      "cell_type": "markdown",
      "metadata": {
        "id": "view-in-github",
        "colab_type": "text"
      },
      "source": [
        "<a href=\"https://colab.research.google.com/github/Kaiziferr/deep_learning/blob/master/multilayer_perceptron/03_clasification_sonar.ipynb\" target=\"_parent\"><img src=\"https://colab.research.google.com/assets/colab-badge.svg\" alt=\"Open In Colab\"/></a>"
      ]
    },
    {
      "cell_type": "code",
      "source": [
        "import pandas as pd\n",
        "import numpy as np\n",
        "import matplotlib.pyplot as plt\n",
        "import seaborn as sns\n",
        "\n",
        "from keras.models import Sequential\n",
        "from keras.layers import Dense\n",
        "from keras.wrappers.scikit_learn import KerasClassifier\n",
        "\n",
        "from sklearn.model_selection import train_test_split, StratifiedKFold, cross_val_score\n",
        "from sklearn.preprocessing import LabelEncoder, StandardScaler\n",
        "from sklearn.pipeline import Pipeline"
      ],
      "metadata": {
        "id": "1tYfciBBN7Ik"
      },
      "execution_count": 1,
      "outputs": []
    },
    {
      "cell_type": "markdown",
      "source": [
        "# **Descripcion**\n",
        "---\n",
        "El archivo \"sonar.mines\" contiene 111 patrones obtenidos al hacer rebotar señales de sonar en un cilindro de metal en varios ángulos y bajo diversas condiciones. El archivo \"sonar.rocks\" contiene 97 patrones obtenidos de rocas en condiciones similares. La señal del sonar transmitida es un chirrido de frecuencia modulada, aumentando en frecuencia. El conjunto de datos contiene señales obtenidas desde una variedad de ángulos de aspecto diferentes, que abarcan 90 grados para el cilindro y 180 grados para la roca.\n",
        "\n",
        "Cada patrón es un conjunto de 60 números en el rango de 0,0 a 1,0. Cada número representa la energía dentro de una banda de frecuencia particular, integrada durante un cierto período de tiempo. La apertura de integración para frecuencias más altas ocurre más tarde en el tiempo, ya que estas frecuencias se transmiten más tarde durante el chirrido.\n",
        "\n",
        "La etiqueta asociada a cada registro contiene la letra \"R\" si el objeto es una roca y \"M\" si es una mina (cilindro de metal). Los números en las etiquetas están en orden creciente de ángulo de aspecto, pero no codifican el ángulo directamente.\n",
        "\n",
        "\n"
      ],
      "metadata": {
        "id": "osfNDR62Vbqf"
      }
    },
    {
      "cell_type": "markdown",
      "source": [
        "# **Objetivos**\n",
        "---"
      ],
      "metadata": {
        "id": "iMjyCY92VqDG"
      }
    },
    {
      "cell_type": "markdown",
      "source": [
        "Distinguir entre `rocas` y `estructuras metálicas`, como minas marinas en el fondo marino.\n",
        "\n",
        "Optimizar el rendimiento con procesamiento de datos con:\n",
        "- pipelines\n"
      ],
      "metadata": {
        "id": "LYCQBRJ2wUtT"
      }
    },
    {
      "cell_type": "markdown",
      "source": [
        "# **Dicionario de datos**\n",
        "---\n",
        "- [V1:V60] señales de sonar \n",
        "- Class: tipo de elemento\n",
        "  - 0 Minas\n",
        "  - 1 Rocas"
      ],
      "metadata": {
        "id": "sF5g6GezVvAA"
      }
    },
    {
      "cell_type": "markdown",
      "source": [
        "# **Data**\n",
        "---"
      ],
      "metadata": {
        "id": "Ebv5FzgZXPaX"
      }
    },
    {
      "cell_type": "code",
      "source": [
        "data = pd.read_csv('https://raw.githubusercontent.com/selva86/datasets/master/Sonar.csv')\n",
        "data.head()"
      ],
      "metadata": {
        "id": "V6HVLaQJO62i",
        "outputId": "6b1ffa19-4d1a-4b7a-e630-6dc122d72190",
        "colab": {
          "base_uri": "https://localhost:8080/",
          "height": 236
        }
      },
      "execution_count": 2,
      "outputs": [
        {
          "output_type": "execute_result",
          "data": {
            "text/plain": [
              "       V1      V2      V3      V4      V5      V6      V7      V8      V9  \\\n",
              "0  0.0200  0.0371  0.0428  0.0207  0.0954  0.0986  0.1539  0.1601  0.3109   \n",
              "1  0.0453  0.0523  0.0843  0.0689  0.1183  0.2583  0.2156  0.3481  0.3337   \n",
              "2  0.0262  0.0582  0.1099  0.1083  0.0974  0.2280  0.2431  0.3771  0.5598   \n",
              "3  0.0100  0.0171  0.0623  0.0205  0.0205  0.0368  0.1098  0.1276  0.0598   \n",
              "4  0.0762  0.0666  0.0481  0.0394  0.0590  0.0649  0.1209  0.2467  0.3564   \n",
              "\n",
              "      V10  ...     V52     V53     V54     V55     V56     V57     V58  \\\n",
              "0  0.2111  ...  0.0027  0.0065  0.0159  0.0072  0.0167  0.0180  0.0084   \n",
              "1  0.2872  ...  0.0084  0.0089  0.0048  0.0094  0.0191  0.0140  0.0049   \n",
              "2  0.6194  ...  0.0232  0.0166  0.0095  0.0180  0.0244  0.0316  0.0164   \n",
              "3  0.1264  ...  0.0121  0.0036  0.0150  0.0085  0.0073  0.0050  0.0044   \n",
              "4  0.4459  ...  0.0031  0.0054  0.0105  0.0110  0.0015  0.0072  0.0048   \n",
              "\n",
              "      V59     V60  Class  \n",
              "0  0.0090  0.0032      1  \n",
              "1  0.0052  0.0044      1  \n",
              "2  0.0095  0.0078      1  \n",
              "3  0.0040  0.0117      1  \n",
              "4  0.0107  0.0094      1  \n",
              "\n",
              "[5 rows x 61 columns]"
            ],
            "text/html": [
              "\n",
              "  <div id=\"df-99bdebeb-3612-4555-9b56-43d0947c91e0\">\n",
              "    <div class=\"colab-df-container\">\n",
              "      <div>\n",
              "<style scoped>\n",
              "    .dataframe tbody tr th:only-of-type {\n",
              "        vertical-align: middle;\n",
              "    }\n",
              "\n",
              "    .dataframe tbody tr th {\n",
              "        vertical-align: top;\n",
              "    }\n",
              "\n",
              "    .dataframe thead th {\n",
              "        text-align: right;\n",
              "    }\n",
              "</style>\n",
              "<table border=\"1\" class=\"dataframe\">\n",
              "  <thead>\n",
              "    <tr style=\"text-align: right;\">\n",
              "      <th></th>\n",
              "      <th>V1</th>\n",
              "      <th>V2</th>\n",
              "      <th>V3</th>\n",
              "      <th>V4</th>\n",
              "      <th>V5</th>\n",
              "      <th>V6</th>\n",
              "      <th>V7</th>\n",
              "      <th>V8</th>\n",
              "      <th>V9</th>\n",
              "      <th>V10</th>\n",
              "      <th>...</th>\n",
              "      <th>V52</th>\n",
              "      <th>V53</th>\n",
              "      <th>V54</th>\n",
              "      <th>V55</th>\n",
              "      <th>V56</th>\n",
              "      <th>V57</th>\n",
              "      <th>V58</th>\n",
              "      <th>V59</th>\n",
              "      <th>V60</th>\n",
              "      <th>Class</th>\n",
              "    </tr>\n",
              "  </thead>\n",
              "  <tbody>\n",
              "    <tr>\n",
              "      <th>0</th>\n",
              "      <td>0.0200</td>\n",
              "      <td>0.0371</td>\n",
              "      <td>0.0428</td>\n",
              "      <td>0.0207</td>\n",
              "      <td>0.0954</td>\n",
              "      <td>0.0986</td>\n",
              "      <td>0.1539</td>\n",
              "      <td>0.1601</td>\n",
              "      <td>0.3109</td>\n",
              "      <td>0.2111</td>\n",
              "      <td>...</td>\n",
              "      <td>0.0027</td>\n",
              "      <td>0.0065</td>\n",
              "      <td>0.0159</td>\n",
              "      <td>0.0072</td>\n",
              "      <td>0.0167</td>\n",
              "      <td>0.0180</td>\n",
              "      <td>0.0084</td>\n",
              "      <td>0.0090</td>\n",
              "      <td>0.0032</td>\n",
              "      <td>1</td>\n",
              "    </tr>\n",
              "    <tr>\n",
              "      <th>1</th>\n",
              "      <td>0.0453</td>\n",
              "      <td>0.0523</td>\n",
              "      <td>0.0843</td>\n",
              "      <td>0.0689</td>\n",
              "      <td>0.1183</td>\n",
              "      <td>0.2583</td>\n",
              "      <td>0.2156</td>\n",
              "      <td>0.3481</td>\n",
              "      <td>0.3337</td>\n",
              "      <td>0.2872</td>\n",
              "      <td>...</td>\n",
              "      <td>0.0084</td>\n",
              "      <td>0.0089</td>\n",
              "      <td>0.0048</td>\n",
              "      <td>0.0094</td>\n",
              "      <td>0.0191</td>\n",
              "      <td>0.0140</td>\n",
              "      <td>0.0049</td>\n",
              "      <td>0.0052</td>\n",
              "      <td>0.0044</td>\n",
              "      <td>1</td>\n",
              "    </tr>\n",
              "    <tr>\n",
              "      <th>2</th>\n",
              "      <td>0.0262</td>\n",
              "      <td>0.0582</td>\n",
              "      <td>0.1099</td>\n",
              "      <td>0.1083</td>\n",
              "      <td>0.0974</td>\n",
              "      <td>0.2280</td>\n",
              "      <td>0.2431</td>\n",
              "      <td>0.3771</td>\n",
              "      <td>0.5598</td>\n",
              "      <td>0.6194</td>\n",
              "      <td>...</td>\n",
              "      <td>0.0232</td>\n",
              "      <td>0.0166</td>\n",
              "      <td>0.0095</td>\n",
              "      <td>0.0180</td>\n",
              "      <td>0.0244</td>\n",
              "      <td>0.0316</td>\n",
              "      <td>0.0164</td>\n",
              "      <td>0.0095</td>\n",
              "      <td>0.0078</td>\n",
              "      <td>1</td>\n",
              "    </tr>\n",
              "    <tr>\n",
              "      <th>3</th>\n",
              "      <td>0.0100</td>\n",
              "      <td>0.0171</td>\n",
              "      <td>0.0623</td>\n",
              "      <td>0.0205</td>\n",
              "      <td>0.0205</td>\n",
              "      <td>0.0368</td>\n",
              "      <td>0.1098</td>\n",
              "      <td>0.1276</td>\n",
              "      <td>0.0598</td>\n",
              "      <td>0.1264</td>\n",
              "      <td>...</td>\n",
              "      <td>0.0121</td>\n",
              "      <td>0.0036</td>\n",
              "      <td>0.0150</td>\n",
              "      <td>0.0085</td>\n",
              "      <td>0.0073</td>\n",
              "      <td>0.0050</td>\n",
              "      <td>0.0044</td>\n",
              "      <td>0.0040</td>\n",
              "      <td>0.0117</td>\n",
              "      <td>1</td>\n",
              "    </tr>\n",
              "    <tr>\n",
              "      <th>4</th>\n",
              "      <td>0.0762</td>\n",
              "      <td>0.0666</td>\n",
              "      <td>0.0481</td>\n",
              "      <td>0.0394</td>\n",
              "      <td>0.0590</td>\n",
              "      <td>0.0649</td>\n",
              "      <td>0.1209</td>\n",
              "      <td>0.2467</td>\n",
              "      <td>0.3564</td>\n",
              "      <td>0.4459</td>\n",
              "      <td>...</td>\n",
              "      <td>0.0031</td>\n",
              "      <td>0.0054</td>\n",
              "      <td>0.0105</td>\n",
              "      <td>0.0110</td>\n",
              "      <td>0.0015</td>\n",
              "      <td>0.0072</td>\n",
              "      <td>0.0048</td>\n",
              "      <td>0.0107</td>\n",
              "      <td>0.0094</td>\n",
              "      <td>1</td>\n",
              "    </tr>\n",
              "  </tbody>\n",
              "</table>\n",
              "<p>5 rows × 61 columns</p>\n",
              "</div>\n",
              "      <button class=\"colab-df-convert\" onclick=\"convertToInteractive('df-99bdebeb-3612-4555-9b56-43d0947c91e0')\"\n",
              "              title=\"Convert this dataframe to an interactive table.\"\n",
              "              style=\"display:none;\">\n",
              "        \n",
              "  <svg xmlns=\"http://www.w3.org/2000/svg\" height=\"24px\"viewBox=\"0 0 24 24\"\n",
              "       width=\"24px\">\n",
              "    <path d=\"M0 0h24v24H0V0z\" fill=\"none\"/>\n",
              "    <path d=\"M18.56 5.44l.94 2.06.94-2.06 2.06-.94-2.06-.94-.94-2.06-.94 2.06-2.06.94zm-11 1L8.5 8.5l.94-2.06 2.06-.94-2.06-.94L8.5 2.5l-.94 2.06-2.06.94zm10 10l.94 2.06.94-2.06 2.06-.94-2.06-.94-.94-2.06-.94 2.06-2.06.94z\"/><path d=\"M17.41 7.96l-1.37-1.37c-.4-.4-.92-.59-1.43-.59-.52 0-1.04.2-1.43.59L10.3 9.45l-7.72 7.72c-.78.78-.78 2.05 0 2.83L4 21.41c.39.39.9.59 1.41.59.51 0 1.02-.2 1.41-.59l7.78-7.78 2.81-2.81c.8-.78.8-2.07 0-2.86zM5.41 20L4 18.59l7.72-7.72 1.47 1.35L5.41 20z\"/>\n",
              "  </svg>\n",
              "      </button>\n",
              "      \n",
              "  <style>\n",
              "    .colab-df-container {\n",
              "      display:flex;\n",
              "      flex-wrap:wrap;\n",
              "      gap: 12px;\n",
              "    }\n",
              "\n",
              "    .colab-df-convert {\n",
              "      background-color: #E8F0FE;\n",
              "      border: none;\n",
              "      border-radius: 50%;\n",
              "      cursor: pointer;\n",
              "      display: none;\n",
              "      fill: #1967D2;\n",
              "      height: 32px;\n",
              "      padding: 0 0 0 0;\n",
              "      width: 32px;\n",
              "    }\n",
              "\n",
              "    .colab-df-convert:hover {\n",
              "      background-color: #E2EBFA;\n",
              "      box-shadow: 0px 1px 2px rgba(60, 64, 67, 0.3), 0px 1px 3px 1px rgba(60, 64, 67, 0.15);\n",
              "      fill: #174EA6;\n",
              "    }\n",
              "\n",
              "    [theme=dark] .colab-df-convert {\n",
              "      background-color: #3B4455;\n",
              "      fill: #D2E3FC;\n",
              "    }\n",
              "\n",
              "    [theme=dark] .colab-df-convert:hover {\n",
              "      background-color: #434B5C;\n",
              "      box-shadow: 0px 1px 3px 1px rgba(0, 0, 0, 0.15);\n",
              "      filter: drop-shadow(0px 1px 2px rgba(0, 0, 0, 0.3));\n",
              "      fill: #FFFFFF;\n",
              "    }\n",
              "  </style>\n",
              "\n",
              "      <script>\n",
              "        const buttonEl =\n",
              "          document.querySelector('#df-99bdebeb-3612-4555-9b56-43d0947c91e0 button.colab-df-convert');\n",
              "        buttonEl.style.display =\n",
              "          google.colab.kernel.accessAllowed ? 'block' : 'none';\n",
              "\n",
              "        async function convertToInteractive(key) {\n",
              "          const element = document.querySelector('#df-99bdebeb-3612-4555-9b56-43d0947c91e0');\n",
              "          const dataTable =\n",
              "            await google.colab.kernel.invokeFunction('convertToInteractive',\n",
              "                                                     [key], {});\n",
              "          if (!dataTable) return;\n",
              "\n",
              "          const docLinkHtml = 'Like what you see? Visit the ' +\n",
              "            '<a target=\"_blank\" href=https://colab.research.google.com/notebooks/data_table.ipynb>data table notebook</a>'\n",
              "            + ' to learn more about interactive tables.';\n",
              "          element.innerHTML = '';\n",
              "          dataTable['output_type'] = 'display_data';\n",
              "          await google.colab.output.renderOutput(dataTable, element);\n",
              "          const docLink = document.createElement('div');\n",
              "          docLink.innerHTML = docLinkHtml;\n",
              "          element.appendChild(docLink);\n",
              "        }\n",
              "      </script>\n",
              "    </div>\n",
              "  </div>\n",
              "  "
            ]
          },
          "metadata": {},
          "execution_count": 2
        }
      ]
    },
    {
      "cell_type": "code",
      "source": [
        "data_values = data.values\n",
        "X = data_values[:, :60].astype('float32')\n",
        "y = data_values[:, 60]\n",
        "\n",
        "\n",
        "encoder = LabelEncoder()\n",
        "y = encoder.fit_transform(y)\n",
        "y"
      ],
      "metadata": {
        "id": "pRy9Y6U_PBlS",
        "outputId": "73e24819-9c7f-407f-d908-76d8f8a6bc38",
        "colab": {
          "base_uri": "https://localhost:8080/"
        }
      },
      "execution_count": 3,
      "outputs": [
        {
          "output_type": "execute_result",
          "data": {
            "text/plain": [
              "array([1, 1, 1, 1, 1, 1, 1, 1, 1, 1, 1, 1, 1, 1, 1, 1, 1, 1, 1, 1, 1, 1,\n",
              "       1, 1, 1, 1, 1, 1, 1, 1, 1, 1, 1, 1, 1, 1, 1, 1, 1, 1, 1, 1, 1, 1,\n",
              "       1, 1, 1, 1, 1, 1, 1, 1, 1, 1, 1, 1, 1, 1, 1, 1, 1, 1, 1, 1, 1, 1,\n",
              "       1, 1, 1, 1, 1, 1, 1, 1, 1, 1, 1, 1, 1, 1, 1, 1, 1, 1, 1, 1, 1, 1,\n",
              "       1, 1, 1, 1, 1, 1, 1, 1, 1, 0, 0, 0, 0, 0, 0, 0, 0, 0, 0, 0, 0, 0,\n",
              "       0, 0, 0, 0, 0, 0, 0, 0, 0, 0, 0, 0, 0, 0, 0, 0, 0, 0, 0, 0, 0, 0,\n",
              "       0, 0, 0, 0, 0, 0, 0, 0, 0, 0, 0, 0, 0, 0, 0, 0, 0, 0, 0, 0, 0, 0,\n",
              "       0, 0, 0, 0, 0, 0, 0, 0, 0, 0, 0, 0, 0, 0, 0, 0, 0, 0, 0, 0, 0, 0,\n",
              "       0, 0, 0, 0, 0, 0, 0, 0, 0, 0, 0, 0, 0, 0, 0, 0, 0, 0, 0, 0, 0, 0,\n",
              "       0, 0, 0, 0, 0, 0, 0, 0, 0, 0])"
            ]
          },
          "metadata": {},
          "execution_count": 3
        }
      ]
    },
    {
      "cell_type": "code",
      "source": [
        "X_train, X_test, y_train, y_test = train_test_split(\n",
        "    X, y, train_size=0.7, random_state=1234, shuffle=True)"
      ],
      "metadata": {
        "id": "uxz7j2-7PhAD"
      },
      "execution_count": 4,
      "outputs": []
    },
    {
      "cell_type": "code",
      "source": [
        "def plot_bars(data: np.ndarray, title: str= 'feature', x_size:int=6, y_size:int=4, font_size:int=15, \n",
        "              x_label:str='churm', y_label:str='no churm')->None:\n",
        "  fig, ax = plt.subplots(figsize = (x_size, y_size))\n",
        "  fig.suptitle(f'Count plot {title}', fontsize = font_size)\n",
        "  sns.countplot(x = data, ax = ax)\n",
        "  label, data_target = np.unique(data, return_counts=True)\n",
        "  len_data = data.shape[0]\n",
        "  pe = '{0:.2f}'.format(data_target[1]/len_data)\n",
        "  ps = '{0:.2f}'.format(data_target[0]/len_data)\n",
        "  x_l = list(ax.get_xticklabels())\n",
        "  if x_l[0].get_text() == label[0]:\n",
        "    ax.set_xticklabels([f'{ax.get_xticklabels()[0].get_text()}\\n{ps}', f'{ax.get_xticklabels()[1].get_text()}\\n{pe}'])\n",
        "  elif x_l[0].get_text() == label[1]:\n",
        "    ax.set_xticklabels([f'{ax.get_xticklabels()[0].get_text()}\\n{pe}', f'{ax.get_xticklabels()[1].get_text()}\\n{ps}'])\n",
        "  ax.set(xlabel=x_label, ylabel=y_label)\n",
        "  fig.show()"
      ],
      "metadata": {
        "id": "-5isfKlWQnui"
      },
      "execution_count": 6,
      "outputs": []
    },
    {
      "cell_type": "code",
      "source": [
        "plot_bars(np.where(y==0, 'Mina', 'Roca'), title = 'rate sondar detección objetos')"
      ],
      "metadata": {
        "id": "SZQMN0h5Q8GZ",
        "outputId": "70aa33d1-33e9-4075-82b1-81ceb6affde7",
        "colab": {
          "base_uri": "https://localhost:8080/",
          "height": 444
        }
      },
      "execution_count": 7,
      "outputs": [
        {
          "output_type": "display_data",
          "data": {
            "text/plain": [
              "<Figure size 600x400 with 1 Axes>"
            ],
            "image/png": "[encoded data removed]"
          },
          "metadata": {}
        }
      ]
    },
    {
      "cell_type": "markdown",
      "source": [
        "- El conjunto se encuntra parcialmente equilibrado"
      ],
      "metadata": {
        "id": "Jy2EANBHxA2S"
      }
    },
    {
      "cell_type": "code",
      "source": [
        "def model_base():\n",
        "  model = Sequential()\n",
        "  model.add(Dense(60, input_dim = 60, kernel_initializer='glorot_uniform', activation='relu'))\n",
        "  model.add(Dense(1, kernel_initializer='glorot_uniform', activation='relu'))\n",
        "  model.compile(loss = 'binary_crossentropy', optimizer = 'adam', metrics = ['accuracy'])\n",
        "  return model"
      ],
      "metadata": {
        "id": "uqIdNSWsRy3y"
      },
      "execution_count": 8,
      "outputs": []
    },
    {
      "cell_type": "code",
      "source": [
        "model = KerasClassifier(build_fn=model_base, epochs = 100, batch_size = 5, verbose = 0)\n",
        "kfold  = StratifiedKFold(n_splits=10, shuffle = True, random_state=1234)\n",
        "score = cross_val_score(model, X, y, cv = kfold)"
      ],
      "metadata": {
        "id": "uFObPNrXSoCy",
        "outputId": "1f7e1c16-92ab-4186-e9e4-4a214ca8b785",
        "colab": {
          "base_uri": "https://localhost:8080/"
        }
      },
      "execution_count": 9,
      "outputs": [
        {
          "output_type": "stream",
          "name": "stderr",
          "text": [
            "<ipython-input-9-f429ee7d7440>:1: DeprecationWarning: KerasClassifier is deprecated, use Sci-Keras (https://github.com/adriangb/scikeras) instead. See https://www.adriangb.com/scikeras/stable/migration.html for help migrating.\n",
            "  model = KerasClassifier(build_fn=model_base, epochs = 100, batch_size = 5, verbose = 0)\n"
          ]
        }
      ]
    },
    {
      "cell_type": "code",
      "source": [
        "score"
      ],
      "metadata": {
        "colab": {
          "base_uri": "https://localhost:8080/"
        },
        "id": "LMF8aMGwy2qD",
        "outputId": "7daf0eca-974a-4576-f156-d8286fed9853"
      },
      "execution_count": 10,
      "outputs": [
        {
          "output_type": "execute_result",
          "data": {
            "text/plain": [
              "array([0.85714287, 0.95238096, 0.52380955, 0.71428573, 0.52380955,\n",
              "       0.76190478, 0.85714287, 0.95238096, 0.80000001, 0.55000001])"
            ]
          },
          "metadata": {},
          "execution_count": 10
        }
      ]
    },
    {
      "cell_type": "markdown",
      "source": [
        "- El modelo sufre de variabilidad, el puntaje en algunos pliegues es muy alto."
      ],
      "metadata": {
        "id": "g-vwDYDd0bU6"
      }
    },
    {
      "cell_type": "code",
      "source": [
        "print(\" Line base: %.2f%% (%.2f%%)\" % (score.mean()*100, score.std()*100))"
      ],
      "metadata": {
        "colab": {
          "base_uri": "https://localhost:8080/"
        },
        "id": "i9fy9MPF0wlf",
        "outputId": "9459dbfa-319d-4483-fb4a-76df0f811bbe"
      },
      "execution_count": 11,
      "outputs": [
        {
          "output_type": "stream",
          "name": "stdout",
          "text": [
            " Line base: 74.93% (15.85%)\n"
          ]
        }
      ]
    },
    {
      "cell_type": "markdown",
      "source": [
        "La dispersión es considerable frente a la media, lo que indica ruido estadistico, por lo tanto es posible que el rendimiento se vea afectado."
      ],
      "metadata": {
        "id": "NGDspfdp0zOc"
      }
    },
    {
      "cell_type": "markdown",
      "source": [
        "# **Optimizar el rendimiento con procesamiento de datos**\n",
        "---"
      ],
      "metadata": {
        "id": "hZ6CUuEI1ILf"
      }
    },
    {
      "cell_type": "code",
      "source": [
        "estimator = []\n",
        "estimator.append(('standarize', StandardScaler()))\n",
        "estimator.append(('mlp', KerasClassifier(build_fn=model_base, epochs = 100, batch_size=5, verbose=0)))"
      ],
      "metadata": {
        "id": "W5yrc4aMWapJ",
        "outputId": "246469cc-c07b-41d9-97f1-feadaad5beff",
        "colab": {
          "base_uri": "https://localhost:8080/"
        }
      },
      "execution_count": 12,
      "outputs": [
        {
          "output_type": "stream",
          "name": "stderr",
          "text": [
            "<ipython-input-12-85c4ab634034>:3: DeprecationWarning: KerasClassifier is deprecated, use Sci-Keras (https://github.com/adriangb/scikeras) instead. See https://www.adriangb.com/scikeras/stable/migration.html for help migrating.\n",
            "  estimator.append(('mlp', KerasClassifier(build_fn=model_base, epochs = 100, batch_size=5, verbose=0)))\n"
          ]
        }
      ]
    },
    {
      "cell_type": "code",
      "source": [
        "pipeline = Pipeline(estimator)\n",
        "kfold = StratifiedKFold(n_splits=10, shuffle=True, random_state=1234)\n",
        "score = cross_val_score(pipeline, X, y, cv = kfold)"
      ],
      "metadata": {
        "id": "lLxFxnhbWzy5"
      },
      "execution_count": 13,
      "outputs": []
    },
    {
      "cell_type": "code",
      "source": [
        "score"
      ],
      "metadata": {
        "colab": {
          "base_uri": "https://localhost:8080/"
        },
        "id": "W2iNeSL03mOT",
        "outputId": "51af3f25-2e4c-4fdc-b0ba-89f4b01cd29d"
      },
      "execution_count": 14,
      "outputs": [
        {
          "output_type": "execute_result",
          "data": {
            "text/plain": [
              "array([0.71428573, 0.95238096, 0.71428573, 0.52380955, 0.76190478,\n",
              "       0.85714287, 0.85714287, 0.80952382, 0.75      , 0.85000002])"
            ]
          },
          "metadata": {},
          "execution_count": 14
        }
      ]
    },
    {
      "cell_type": "markdown",
      "source": [
        "- Los resultados convergen mejor que el modelo entrenado con datos no estandarizados"
      ],
      "metadata": {
        "id": "89hImfK934sb"
      }
    },
    {
      "cell_type": "code",
      "source": [
        "print(\"Modelo Estandarizado: %.2f%% (%.2f%%)\" % (score.mean()*100, score.std()*100))"
      ],
      "metadata": {
        "colab": {
          "base_uri": "https://localhost:8080/"
        },
        "id": "fWjrSLRM4aBr",
        "outputId": "e76c9093-f3e5-4ae2-dbba-0288dc1bbdea"
      },
      "execution_count": 15,
      "outputs": [
        {
          "output_type": "stream",
          "name": "stdout",
          "text": [
            "Modelo Estandarizado: 77.90% (11.09%)\n"
          ]
        }
      ]
    },
    {
      "cell_type": "markdown",
      "source": [
        "La dispersión es más baja que el modelo base, por lo tanto la habilidad predictiva es más confiable que el base."
      ],
      "metadata": {
        "id": "MxdXz28g4bjU"
      }
    },
    {
      "cell_type": "markdown",
      "source": [
        "# **Topologias**\n",
        "---"
      ],
      "metadata": {
        "id": "ztQjMjBw4pck"
      }
    },
    {
      "cell_type": "markdown",
      "source": [
        "## **Topologia Pequeña**\n",
        "---"
      ],
      "metadata": {
        "id": "P3f0YEDT6D61"
      }
    },
    {
      "cell_type": "code",
      "source": [
        "def model_smaller():\n",
        "  model = Sequential()\n",
        "  model.add(Dense(30, input_dim=60,kernel_initializer = 'glorot_uniform',activation='relu'))\n",
        "  model.add(Dense(1, kernel_initializer = 'glorot_uniform', activation='sigmoid'))\n",
        "  model.compile(loss= 'binary_crossentropy', optimizer='adam', metrics=['accuracy'])\n",
        "  return model"
      ],
      "metadata": {
        "id": "IVtCkT5W4vez"
      },
      "execution_count": 16,
      "outputs": []
    },
    {
      "cell_type": "code",
      "source": [
        "estimator = []\n",
        "estimator.append(('standarize', StandardScaler()))\n",
        "estimator.append(('mlp', KerasClassifier(build_fn=model_smaller, epochs = 100, batch_size = 5, verbose = 0)))"
      ],
      "metadata": {
        "id": "krt8N2iM6OFj",
        "outputId": "2fdc0052-ede9-4475-8af6-dd77b9e21865",
        "colab": {
          "base_uri": "https://localhost:8080/"
        }
      },
      "execution_count": 17,
      "outputs": [
        {
          "output_type": "stream",
          "name": "stderr",
          "text": [
            "<ipython-input-17-09e4c020ed94>:3: DeprecationWarning: KerasClassifier is deprecated, use Sci-Keras (https://github.com/adriangb/scikeras) instead. See https://www.adriangb.com/scikeras/stable/migration.html for help migrating.\n",
            "  estimator.append(('mlp', KerasClassifier(build_fn=model_smaller, epochs = 100, batch_size = 5, verbose = 0)))\n"
          ]
        }
      ]
    },
    {
      "cell_type": "code",
      "source": [
        "pipeline = Pipeline(estimator)\n",
        "score = cross_val_score(pipeline, X, y, cv = kfold)"
      ],
      "metadata": {
        "id": "Dtw4oupI6ier"
      },
      "execution_count": 18,
      "outputs": []
    },
    {
      "cell_type": "code",
      "source": [
        "score"
      ],
      "metadata": {
        "colab": {
          "base_uri": "https://localhost:8080/"
        },
        "id": "4hJ430jL7LTL",
        "outputId": "4fa7944e-7f01-4d8a-a2d7-6fd41be3f593"
      },
      "execution_count": 19,
      "outputs": [
        {
          "output_type": "execute_result",
          "data": {
            "text/plain": [
              "array([0.80952382, 0.95238096, 0.85714287, 0.66666669, 0.90476191,\n",
              "       0.90476191, 0.95238096, 0.95238096, 0.80000001, 0.89999998])"
            ]
          },
          "metadata": {},
          "execution_count": 19
        }
      ]
    },
    {
      "cell_type": "code",
      "source": [
        "print(\"Modelo Estandarizado Topologia pequeña: %.2f%% (%.2f%%)\" % (score.mean()*100, score.std()*100))"
      ],
      "metadata": {
        "colab": {
          "base_uri": "https://localhost:8080/"
        },
        "id": "YWT__zUj6id7",
        "outputId": "fa511d8f-758f-45c3-e33c-8b55ca1fb63a"
      },
      "execution_count": 20,
      "outputs": [
        {
          "output_type": "stream",
          "name": "stdout",
          "text": [
            "Modelo Estandarizado Topologia pequeña: 87.00% (8.59%)\n"
          ]
        }
      ]
    },
    {
      "cell_type": "markdown",
      "source": [
        "- El modelo con topologia pequeña, no difiere tanto del rendimiento del modelo base."
      ],
      "metadata": {
        "id": "mOQJU_qH7CRU"
      }
    },
    {
      "cell_type": "markdown",
      "source": [
        "## **Topologia grande**\n",
        "---"
      ],
      "metadata": {
        "id": "uPdEK7FE7O-b"
      }
    },
    {
      "cell_type": "code",
      "source": [
        "def model_large():\n",
        "  model = Sequential()\n",
        "  model.add(Dense(60, input_dim = 60, kernel_initializer = 'glorot_uniform', activation = 'relu'))\n",
        "  model.add(Dense(30, kernel_initializer = 'glorot_uniform', activation = 'relu'))\n",
        "  model.add(Dense(1, activation = 'sigmoid'))\n",
        "\n",
        "  model.compile(loss = 'binary_crossentropy', optimizer = 'adam', metrics = ['accuracy'])\n",
        "  return model"
      ],
      "metadata": {
        "id": "0JmaxSIf7Xuz"
      },
      "execution_count": 21,
      "outputs": []
    },
    {
      "cell_type": "code",
      "source": [
        "estimators = []\n",
        "estimators.append(('standarize', StandardScaler()))\n",
        "estimators.append(('mlp', KerasClassifier(build_fn=model_large, epochs=100, batch_size = 5, verbose=0)))"
      ],
      "metadata": {
        "id": "uyImnN8O7alF",
        "outputId": "bea8fa84-56d8-4265-f749-f17879a96f47",
        "colab": {
          "base_uri": "https://localhost:8080/"
        }
      },
      "execution_count": 22,
      "outputs": [
        {
          "output_type": "stream",
          "name": "stderr",
          "text": [
            "<ipython-input-22-2bcc2b38dbb7>:3: DeprecationWarning: KerasClassifier is deprecated, use Sci-Keras (https://github.com/adriangb/scikeras) instead. See https://www.adriangb.com/scikeras/stable/migration.html for help migrating.\n",
            "  estimators.append(('mlp', KerasClassifier(build_fn=model_large, epochs=100, batch_size = 5, verbose=0)))\n"
          ]
        }
      ]
    },
    {
      "cell_type": "code",
      "source": [
        "pipeline = Pipeline(estimator)\n",
        "score = cross_val_score(pipeline, X, y, cv = kfold)"
      ],
      "metadata": {
        "id": "JsRSJrC87f6c"
      },
      "execution_count": 23,
      "outputs": []
    },
    {
      "cell_type": "code",
      "source": [
        "score"
      ],
      "metadata": {
        "colab": {
          "base_uri": "https://localhost:8080/"
        },
        "id": "RUlqQReL7pVj",
        "outputId": "698754e6-cca4-4cf9-d736-0d27e13dabeb"
      },
      "execution_count": 24,
      "outputs": [
        {
          "output_type": "execute_result",
          "data": {
            "text/plain": [
              "array([0.76190478, 0.95238096, 0.85714287, 0.71428573, 0.95238096,\n",
              "       0.85714287, 0.90476191, 0.90476191, 0.69999999, 0.89999998])"
            ]
          },
          "metadata": {},
          "execution_count": 24
        }
      ]
    },
    {
      "cell_type": "code",
      "source": [
        "print(\"Modelo Estandarizado Topologia grande: %.2f%% (%.2f%%)\" % (score.mean()*100, score.std()*100))"
      ],
      "metadata": {
        "colab": {
          "base_uri": "https://localhost:8080/"
        },
        "id": "rYfO4QBI7nv2",
        "outputId": "341fed4f-ecc3-4d3c-b79c-cd0deb324b39"
      },
      "execution_count": 25,
      "outputs": [
        {
          "output_type": "stream",
          "name": "stdout",
          "text": [
            "Modelo Estandarizado Topologia grande: 85.05% (8.85%)\n"
          ]
        }
      ]
    },
    {
      "cell_type": "markdown",
      "source": [
        "- La topologia grande no tubo una mejora significativa en comparación a las otras arquitecturas, cabe resaltar que no se entro en profundidad. La topologia, tiene un mejor rendimiento, y su dispersión es más baja."
      ],
      "metadata": {
        "id": "pjeAQiPs76qM"
      }
    },
    {
      "cell_type": "code",
      "source": [],
      "metadata": {
        "id": "PkYKOWvEx6On"
      },
      "execution_count": null,
      "outputs": []
    }
  ]
}