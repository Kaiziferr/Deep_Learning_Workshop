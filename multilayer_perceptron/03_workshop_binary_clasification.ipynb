{
  "nbformat": 4,
  "nbformat_minor": 0,
  "metadata": {
    "colab": {
      "name": "03_workshop_binary_clasification.ipynb",
      "provenance": [],
      "authorship_tag": "ABX9TyMFO1nyDIxHMlCkDJrB8mpw",
      "include_colab_link": true
    },
    "kernelspec": {
      "name": "python3",
      "display_name": "Python 3"
    },
    "language_info": {
      "name": "python"
    }
  },
  "cells": [
    {
      "cell_type": "markdown",
      "metadata": {
        "id": "view-in-github",
        "colab_type": "text"
      },
      "source": [
        "<a href=\"https://colab.research.google.com/github/Kaiziferr/Deep_Learning_Workshop/blob/master/multilayer_perceptron/03_workshop_binary_clasification.ipynb\" target=\"_parent\"><img src=\"https://colab.research.google.com/assets/colab-badge.svg\" alt=\"Open In Colab\"/></a>"
      ]
    },
    {
      "cell_type": "code",
      "metadata": {
        "id": "veYcFuILp0Zk"
      },
      "source": [
        "import pandas as pd\n",
        "\n",
        "from keras.models import Sequential\n",
        "from keras.layers import Dense\n",
        "from keras.wrappers.scikit_learn import KerasClassifier\n",
        "from sklearn.model_selection import train_test_split, cross_val_score, StratifiedKFold\n",
        "from sklearn.preprocessing import LabelEncoder"
      ],
      "execution_count": null,
      "outputs": []
    },
    {
      "cell_type": "code",
      "metadata": {
        "id": "hu7vrWwWrQRf"
      },
      "source": [
        "data = pd.read_csv('https://raw.githubusercontent.com/Kaiziferr/Deep_Learning_Workshop/master/workshop_clasification_binary_multiclass/sonar_csv.csv')\n",
        "data_values = data.values"
      ],
      "execution_count": null,
      "outputs": []
    },
    {
      "cell_type": "code",
      "metadata": {
        "id": "QjqaozhPryXA"
      },
      "source": [
        "def base_model():\n",
        "  model = Sequential()\n",
        "  model.add(Dense(60, input_dim = 60, kernel_initializer='glorot_uniform', activation='relu'))\n",
        "  model.add(Dense(1, kernel_initializer='glorot_uniform', activation='sigmoid'))\n",
        "  model.compile(loss = 'binary_crossentropy', optimizer='adam', metrics = ['accuracy'])\n",
        "  return model"
      ],
      "execution_count": null,
      "outputs": []
    },
    {
      "cell_type": "markdown",
      "metadata": {
        "id": "Y5mauLWXts3m"
      },
      "source": [
        "# split\n"
      ]
    },
    {
      "cell_type": "code",
      "metadata": {
        "id": "4S3Fc5DOtxQW"
      },
      "source": [
        "X = data_values[:,0:60].astype('float32')\n",
        "y = data_values[:,60]"
      ],
      "execution_count": null,
      "outputs": []
    },
    {
      "cell_type": "markdown",
      "metadata": {
        "id": "Kzfgf0JPvrtu"
      },
      "source": [
        "# Encoder"
      ]
    },
    {
      "cell_type": "code",
      "metadata": {
        "colab": {
          "base_uri": "https://localhost:8080/"
        },
        "id": "qBA1AuBcvq9V",
        "outputId": "ab37fa1e-8c02-4484-ae80-9a9c399a747d"
      },
      "source": [
        "encoder = LabelEncoder()\n",
        "encoder_y = encoder.fit_transform(y)\n",
        "encoder_y"
      ],
      "execution_count": null,
      "outputs": [
        {
          "output_type": "execute_result",
          "data": {
            "text/plain": [
              "array([1, 1, 1, 1, 1, 1, 1, 1, 1, 1, 1, 1, 1, 1, 1, 1, 1, 1, 1, 1, 1, 1,\n",
              "       1, 1, 1, 1, 1, 1, 1, 1, 1, 1, 1, 1, 1, 1, 1, 1, 1, 1, 1, 1, 1, 1,\n",
              "       1, 1, 1, 1, 1, 1, 1, 1, 1, 1, 1, 1, 1, 1, 1, 1, 1, 1, 1, 1, 1, 1,\n",
              "       1, 1, 1, 1, 1, 1, 1, 1, 1, 1, 1, 1, 1, 1, 1, 1, 1, 1, 1, 1, 1, 1,\n",
              "       1, 1, 1, 1, 1, 1, 1, 1, 1, 0, 0, 0, 0, 0, 0, 0, 0, 0, 0, 0, 0, 0,\n",
              "       0, 0, 0, 0, 0, 0, 0, 0, 0, 0, 0, 0, 0, 0, 0, 0, 0, 0, 0, 0, 0, 0,\n",
              "       0, 0, 0, 0, 0, 0, 0, 0, 0, 0, 0, 0, 0, 0, 0, 0, 0, 0, 0, 0, 0, 0,\n",
              "       0, 0, 0, 0, 0, 0, 0, 0, 0, 0, 0, 0, 0, 0, 0, 0, 0, 0, 0, 0, 0, 0,\n",
              "       0, 0, 0, 0, 0, 0, 0, 0, 0, 0, 0, 0, 0, 0, 0, 0, 0, 0, 0, 0, 0, 0,\n",
              "       0, 0, 0, 0, 0, 0, 0, 0, 0, 0])"
            ]
          },
          "metadata": {},
          "execution_count": 41
        }
      ]
    },
    {
      "cell_type": "code",
      "metadata": {
        "id": "qur84q2awlEY"
      },
      "source": [
        "estimator = KerasClassifier(build_fn=base_model, epochs = 100, batch_size = 5, verbose=0)\n",
        "\n",
        "kfold = StratifiedKFold(n_splits=10, shuffle=True)\n",
        "results = cross_val_score(estimator, X, encoder_y, cv = kfold)"
      ],
      "execution_count": null,
      "outputs": []
    },
    {
      "cell_type": "code",
      "metadata": {
        "colab": {
          "base_uri": "https://localhost:8080/"
        },
        "id": "1kPn_XEbxfBL",
        "outputId": "1d338de5-6d4d-410b-e27b-f8e47704c136"
      },
      "source": [
        "print(\" Line base: %.2f%% (%.2f%%)\" % (results.mean()*100, results.std()*100))"
      ],
      "execution_count": null,
      "outputs": [
        {
          "output_type": "stream",
          "name": "stdout",
          "text": [
            " Line base: 84.62% (10.38%)\n"
          ]
        }
      ]
    },
    {
      "cell_type": "markdown",
      "metadata": {
        "id": "2Df6moVxxuXr"
      },
      "source": [
        "La dispersión es muy alta"
      ]
    },
    {
      "cell_type": "markdown",
      "metadata": {
        "id": "UF1mDOuTx1iM"
      },
      "source": [
        "# Optimizar el rendimiento con procesamiento de datos"
      ]
    },
    {
      "cell_type": "code",
      "metadata": {
        "id": "nomneQuvxtZT"
      },
      "source": [
        "from sklearn.preprocessing import StandardScaler\n",
        "from sklearn.pipeline import Pipeline"
      ],
      "execution_count": null,
      "outputs": []
    },
    {
      "cell_type": "code",
      "metadata": {
        "id": "Ez_DF9vIz1iJ"
      },
      "source": [
        "estimator = []\n",
        "estimator.append(('standarize', StandardScaler()))\n",
        "estimator.append(('mlp', KerasClassifier(build_fn=base_model, epochs = 100, batch_size = 5, verbose = 0)))"
      ],
      "execution_count": null,
      "outputs": []
    },
    {
      "cell_type": "code",
      "metadata": {
        "colab": {
          "base_uri": "https://localhost:8080/"
        },
        "id": "AiXOVeUb60TD",
        "outputId": "5ff4030c-4991-4af3-b02f-ff385178954a"
      },
      "source": [
        "pipeline = Pipeline(estimator)\n",
        "kfold = StratifiedKFold(n_splits=10, shuffle=True)\n",
        "result = cross_val_score(pipeline, X, encoder_y, cv = kfold)\n",
        "print(\"Modelo Estandarizado: %.2f%% (%.2f%%)\" % (results.mean()*100, results.std()*100))"
      ],
      "execution_count": null,
      "outputs": [
        {
          "output_type": "stream",
          "name": "stdout",
          "text": [
            "Modelo Estandarizado: 84.62% (10.38%)\n"
          ]
        }
      ]
    },
    {
      "cell_type": "markdown",
      "metadata": {
        "id": "VJuVyh0X9ZKA"
      },
      "source": [
        "# Topologia Pequeña"
      ]
    },
    {
      "cell_type": "code",
      "metadata": {
        "id": "xgJeWyoU9Xr7"
      },
      "source": [
        "def create_smaller():\n",
        "  model = Sequential()\n",
        "  model.add(Dense(30, input_dim=60,kernel_initializer = 'glorot_uniform',activation='relu'))\n",
        "  model.add(Dense(1, kernel_initializer = 'glorot_uniform', activation='sigmoid'))\n",
        "\n",
        "  model.compile(loss= 'binary_crossentropy', optimizer='adam', metrics=['accuracy'])\n",
        "  return model"
      ],
      "execution_count": null,
      "outputs": []
    },
    {
      "cell_type": "code",
      "metadata": {
        "colab": {
          "base_uri": "https://localhost:8080/"
        },
        "id": "1Rb77tFM9jrI",
        "outputId": "e00bd20a-7b36-4224-8eb9-e81624493c7d"
      },
      "source": [
        "estimators = []\n",
        "estimators.append(('standarize', StandardScaler()))\n",
        "estimators.append(('mlp', KerasClassifier(build_fn=create_smaller, epochs=100, batch_size = 5, verbose = 0)))\n",
        "\n",
        "pipeline = Pipeline(estimator)\n",
        "kfold = StratifiedKFold(n_splits=10, shuffle=True)\n",
        "results = cross_val_score(pipeline, X, encoder_y, cv = kfold)\n",
        "print(\"Modelo Estandarizado: %.2f%% (%.2f%%)\" % (results.mean()*100, results.std()*100))"
      ],
      "execution_count": null,
      "outputs": [
        {
          "output_type": "stream",
          "name": "stdout",
          "text": [
            "Modelo Estandarizado: 84.64% (9.25%)\n"
          ]
        }
      ]
    },
    {
      "cell_type": "markdown",
      "metadata": {
        "id": "9-tQ3FuX-c2Y"
      },
      "source": [
        "# Topologia grande"
      ]
    },
    {
      "cell_type": "code",
      "metadata": {
        "id": "BJkL0j88-eLi"
      },
      "source": [
        "def create_large():\n",
        "  model = Sequential()\n",
        "  model.add(Dense(60, input_dim = 60, kernel_initializer = 'glorot_uniform', activation = 'relu'))\n",
        "  model.add(Dense(30, kernel_initializer = 'glorot_uniform', activation = 'relu'))\n",
        "  model.add(Dense(1, activation = 'sigmoid'))\n",
        "\n",
        "  model.compile(loss = 'binary_crossentropy', optimizer = 'adam', metrics = ['accuracy'])\n",
        "  return model"
      ],
      "execution_count": null,
      "outputs": []
    },
    {
      "cell_type": "code",
      "metadata": {
        "id": "ngdRzyF0-f0J"
      },
      "source": [
        "estimators = []\n",
        "estimators.append(('standarize', StandardScaler()))\n",
        "estimators.append(('mlp', KerasClassifier(build_fn=create_large, epochs=100, batch_size = 5, verbose=0)))"
      ],
      "execution_count": null,
      "outputs": []
    },
    {
      "cell_type": "code",
      "metadata": {
        "colab": {
          "base_uri": "https://localhost:8080/"
        },
        "id": "j_oXPvQj-83Q",
        "outputId": "e2db8a7b-1a52-4c6b-c473-42e762ebb2a9"
      },
      "source": [
        "pipeline = Pipeline(estimators)\n",
        "kfold = StratifiedKFold(n_splits=10, shuffle=True)\n",
        "results = cross_val_score(pipeline, X, encoder_y, cv = kfold)\n",
        "print(\"Modelo Estandarizado: %.2f%% (%.2f%%)\" % (results.mean()*100, results.std()*100))"
      ],
      "execution_count": null,
      "outputs": [
        {
          "output_type": "stream",
          "name": "stdout",
          "text": [
            "Modelo Estandarizado: 81.24% (6.25%)\n"
          ]
        }
      ]
    },
    {
      "cell_type": "markdown",
      "metadata": {
        "id": "B2Wh6KDn_KiX"
      },
      "source": [
        "La topología grande es la que mejor resultado tubo, con respecto al resto de estructuras probadas, ya que su desviación es la más cercana.\n",
        "\n",
        "Mucha dispersión frente a la media en los resultados no es recomendado."
      ]
    }
  ]
}