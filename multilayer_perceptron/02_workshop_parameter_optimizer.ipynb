{
  "nbformat": 4,
  "nbformat_minor": 0,
  "metadata": {
    "colab": {
      "name": "02_workshop_parameter_optimizer.ipynb",
      "provenance": [],
      "authorship_tag": "ABX9TyOpuqa0Q8Phb9RIHnCPbXyl",
      "include_colab_link": true
    },
    "kernelspec": {
      "name": "python3",
      "display_name": "Python 3"
    },
    "language_info": {
      "name": "python"
    }
  },
  "cells": [
    {
      "cell_type": "markdown",
      "metadata": {
        "id": "view-in-github",
        "colab_type": "text"
      },
      "source": [
        "<a href=\"https://colab.research.google.com/github/Kaiziferr/deep_learning/blob/master/multilayer_perceptron/02_workshop_parameter_optimizer.ipynb\" target=\"_parent\"><img src=\"https://colab.research.google.com/assets/colab-badge.svg\" alt=\"Open In Colab\"/></a>"
      ]
    },
    {
      "cell_type": "code",
      "source": [
        "import pandas as pd\n",
        "import numpy as np\n",
        "import matplotlib.pyplot as plt\n",
        "import seaborn as sns\n",
        "\n",
        "from keras.models import Sequential\n",
        "from keras.layers import Dense\n",
        "from keras.wrappers.scikit_learn import KerasClassifier\n",
        "\n",
        "from sklearn.model_selection import train_test_split, cross_val_score, StratifiedKFold, GridSearchCV\n",
        "from sklearn import metrics"
      ],
      "metadata": {
        "id": "6zjW1UdVlkuA"
      },
      "execution_count": 1,
      "outputs": []
    },
    {
      "cell_type": "code",
      "source": [
        "data = pd.read_csv('https://raw.githubusercontent.com/Kaiziferr/Deep_Learning_Workshop/master/workshop_keras_sklearn_introduction/diabetes.csv')\n",
        "data_values = data.values"
      ],
      "metadata": {
        "id": "6qejpndqmaYW"
      },
      "execution_count": 2,
      "outputs": []
    },
    {
      "cell_type": "code",
      "source": [
        "def create_base_model():\n",
        "  model = Sequential()\n",
        "  model.add(Dense(12, input_dim = 8, activation = 'relu', kernel_initializer='glorot_uniform'))\n",
        "  model.add(Dense(8, activation = 'relu', kernel_initializer='glorot_uniform'))\n",
        "  model.add(Dense(1, activation='sigmoid', kernel_initializer='glorot_uniform'))\n",
        "  model.compile(loss = 'binary_crossentropy', optimizer = 'adam', metrics = ['accuracy'])\n",
        "  return model"
      ],
      "metadata": {
        "id": "AqqHkCSpmlEo"
      },
      "execution_count": 3,
      "outputs": []
    },
    {
      "cell_type": "markdown",
      "metadata": {
        "id": "YFHiqwygWqk3"
      },
      "source": [
        "# **Data Split**\n",
        "\n",
        "---\n",
        "\n"
      ]
    },
    {
      "cell_type": "code",
      "source": [
        "X = data_values[:,:8]\n",
        "y = data_values[:,8]"
      ],
      "metadata": {
        "id": "_yhSI963netz"
      },
      "execution_count": 4,
      "outputs": []
    },
    {
      "cell_type": "markdown",
      "metadata": {
        "id": "DUcOTSRVW0Qv"
      },
      "source": [
        "# **Houldot**\n",
        "\n",
        "---\n",
        "\n"
      ]
    },
    {
      "cell_type": "code",
      "source": [
        "X_train, X_test, y_train, y_test = train_test_split(X, y, test_size=0.25, shuffle = True, stratify = y, random_state=1234)"
      ],
      "metadata": {
        "id": "-K-oNynLnm1d"
      },
      "execution_count": 5,
      "outputs": []
    },
    {
      "cell_type": "markdown",
      "metadata": {
        "id": "0A9TT5-iXqMV"
      },
      "source": [
        "# **Wrapper**\n",
        "\n",
        "---\n",
        "\n"
      ]
    },
    {
      "cell_type": "code",
      "source": [
        "model = KerasClassifier(build_fn=create_base_model, epochs = 150, batch_size = 10, verbose = 0)\n",
        "\n",
        "kfold = StratifiedKFold(n_splits=10, shuffle=True)\n",
        "result = cross_val_score(model, X, y, cv = kfold)"
      ],
      "metadata": {
        "id": "a1MZeMh7n3cu",
        "outputId": "60a798d2-fd2f-4a64-ed84-1bec1b4ec38f",
        "colab": {
          "base_uri": "https://localhost:8080/"
        }
      },
      "execution_count": 6,
      "outputs": [
        {
          "output_type": "stream",
          "name": "stderr",
          "text": [
            "/usr/local/lib/python3.7/dist-packages/ipykernel_launcher.py:1: DeprecationWarning: KerasClassifier is deprecated, use Sci-Keras (https://github.com/adriangb/scikeras) instead. See https://www.adriangb.com/scikeras/stable/migration.html for help migrating.\n",
            "  \"\"\"Entry point for launching an IPython kernel.\n"
          ]
        }
      ]
    },
    {
      "cell_type": "code",
      "metadata": {
        "colab": {
          "base_uri": "https://localhost:8080/"
        },
        "id": "AvchXk7qYk8j",
        "outputId": "849722f7-5d79-46bc-9d8e-d2a229d8b45e"
      },
      "source": [
        "result"
      ],
      "execution_count": 7,
      "outputs": [
        {
          "output_type": "execute_result",
          "data": {
            "text/plain": [
              "array([0.6883117 , 0.75324672, 0.72727275, 0.72727275, 0.75324672,\n",
              "       0.66233766, 0.75324672, 0.64935064, 0.7368421 , 0.69736844])"
            ]
          },
          "metadata": {},
          "execution_count": 7
        }
      ]
    },
    {
      "cell_type": "markdown",
      "source": [
        "- Los resultados no parecen ser tan alejados los unos de los otros"
      ],
      "metadata": {
        "id": "uyvJcPcxquhg"
      }
    },
    {
      "cell_type": "code",
      "metadata": {
        "colab": {
          "base_uri": "https://localhost:8080/"
        },
        "id": "rLaEZqdYfD0K",
        "outputId": "762beb88-d109-46cc-a16e-3d594cf5cceb"
      },
      "source": [
        "result.mean() , result.std()"
      ],
      "execution_count": 8,
      "outputs": [
        {
          "output_type": "execute_result",
          "data": {
            "text/plain": [
              "(0.7148496210575104, 0.036431888463049254)"
            ]
          },
          "metadata": {},
          "execution_count": 8
        }
      ]
    },
    {
      "cell_type": "markdown",
      "source": [
        "- La media es confiable, ya que la dispersión no es tán prolongada."
      ],
      "metadata": {
        "id": "QjaPHtJKrFHt"
      }
    },
    {
      "cell_type": "markdown",
      "metadata": {
        "id": "-exUpYkNf1yC"
      },
      "source": [
        "# **Optimización de hiperparametros**\n",
        "\n",
        "---\n",
        "\n"
      ]
    },
    {
      "cell_type": "code",
      "source": [
        "def create_model_optimizer(optimizer = 'rmsprop', init = 'glorot_uniform'):\n",
        "  model = Sequential()\n",
        "  model.add(Dense(12, input_dim = 8, kernel_initializer=init, activation='relu'))\n",
        "  model.add(Dense(8, kernel_initializer=init, activation='relu'))\n",
        "  model.add(Dense(1, kernel_initializer=init, activation='relu'))\n",
        "  model.compile(loss = 'binary_crossentropy', optimizer = optimizer, metrics = ['accuracy'])\n",
        "  return model"
      ],
      "metadata": {
        "id": "YJQCy9ukrZRL"
      },
      "execution_count": 9,
      "outputs": []
    },
    {
      "cell_type": "code",
      "metadata": {
        "id": "0c7xxEKxgwcS",
        "outputId": "e45eb6b2-e8f5-4f97-933b-c2cddecd263b",
        "colab": {
          "base_uri": "https://localhost:8080/"
        }
      },
      "source": [
        "model = KerasClassifier(build_fn=create_model_optimizer, verbose = 0)"
      ],
      "execution_count": 10,
      "outputs": [
        {
          "output_type": "stream",
          "name": "stderr",
          "text": [
            "/usr/local/lib/python3.7/dist-packages/ipykernel_launcher.py:1: DeprecationWarning: KerasClassifier is deprecated, use Sci-Keras (https://github.com/adriangb/scikeras) instead. See https://www.adriangb.com/scikeras/stable/migration.html for help migrating.\n",
            "  \"\"\"Entry point for launching an IPython kernel.\n"
          ]
        }
      ]
    },
    {
      "cell_type": "code",
      "source": [
        "optimizer = ['rmsprop', 'adam']\n",
        "init = ['glorot_uniform', 'normal', 'uniform']\n",
        "epochs = [50 ,100 ,150]\n",
        "batch = [5, 10, 20]\n",
        "param_grid = dict(optimizer = optimizer, epochs = epochs, batch_size = batch, init = init)\n",
        "grid = GridSearchCV(estimator=model, param_grid = param_grid, refit=True, return_train_score=True, cv = 3)"
      ],
      "metadata": {
        "id": "W63kwPUzsRH4"
      },
      "execution_count": 11,
      "outputs": []
    },
    {
      "cell_type": "code",
      "metadata": {
        "colab": {
          "base_uri": "https://localhost:8080/"
        },
        "id": "rLsPqqEnhiMZ",
        "outputId": "09f21b24-d611-4916-82f1-dbebdbc6bbf7"
      },
      "source": [
        "grid.fit(X_train, y_train)"
      ],
      "execution_count": 12,
      "outputs": [
        {
          "output_type": "execute_result",
          "data": {
            "text/plain": [
              "GridSearchCV(cv=3,\n",
              "             estimator=<keras.wrappers.scikit_learn.KerasClassifier object at 0x7f742ce7f710>,\n",
              "             param_grid={'batch_size': [5, 10, 20], 'epochs': [50, 100, 150],\n",
              "                         'init': ['glorot_uniform', 'normal', 'uniform'],\n",
              "                         'optimizer': ['rmsprop', 'adam']},\n",
              "             return_train_score=True)"
            ]
          },
          "metadata": {},
          "execution_count": 12
        }
      ]
    },
    {
      "cell_type": "code",
      "metadata": {
        "colab": {
          "base_uri": "https://localhost:8080/"
        },
        "id": "w_a47y2VlbXt",
        "outputId": "a0d91219-a4d6-46d6-fc09-c501d5f7f4fd"
      },
      "source": [
        "print('Mejor: %f usando %s' % (grid.best_score_, grid.best_params_))"
      ],
      "execution_count": 13,
      "outputs": [
        {
          "output_type": "stream",
          "name": "stdout",
          "text": [
            "Mejor: 0.746528 usando {'batch_size': 5, 'epochs': 150, 'init': 'normal', 'optimizer': 'rmsprop'}\n"
          ]
        }
      ]
    },
    {
      "cell_type": "markdown",
      "source": [
        "- Tiene una media en el mejor score con una disperción muy baja"
      ],
      "metadata": {
        "id": "1q8CCtao48WN"
      }
    },
    {
      "cell_type": "code",
      "metadata": {
        "colab": {
          "base_uri": "https://localhost:8080/"
        },
        "id": "l4tIIcR9lqj8",
        "outputId": "7897049e-579a-42ad-e2a5-40ae7db60d2f"
      },
      "source": [
        "means = grid.cv_results_['mean_test_score']\n",
        "stds = grid.cv_results_['std_test_score']\n",
        "params = grid.cv_results_['params']\n",
        "\n",
        "for mean, std, param in zip(means, stds, params):\n",
        "  print('%f (%f) con %r' % (mean, std, param))"
      ],
      "execution_count": 14,
      "outputs": [
        {
          "output_type": "stream",
          "name": "stdout",
          "text": [
            "0.651042 (0.057528) con {'batch_size': 5, 'epochs': 50, 'init': 'glorot_uniform', 'optimizer': 'rmsprop'}\n",
            "0.598958 (0.127790) con {'batch_size': 5, 'epochs': 50, 'init': 'glorot_uniform', 'optimizer': 'adam'}\n",
            "0.730903 (0.024918) con {'batch_size': 5, 'epochs': 50, 'init': 'normal', 'optimizer': 'rmsprop'}\n",
            "0.651042 (0.057528) con {'batch_size': 5, 'epochs': 50, 'init': 'normal', 'optimizer': 'adam'}\n",
            "0.732639 (0.030170) con {'batch_size': 5, 'epochs': 50, 'init': 'uniform', 'optimizer': 'rmsprop'}\n",
            "0.663194 (0.072461) con {'batch_size': 5, 'epochs': 50, 'init': 'uniform', 'optimizer': 'adam'}\n",
            "0.640625 (0.066835) con {'batch_size': 5, 'epochs': 100, 'init': 'glorot_uniform', 'optimizer': 'rmsprop'}\n",
            "0.647569 (0.070178) con {'batch_size': 5, 'epochs': 100, 'init': 'glorot_uniform', 'optimizer': 'adam'}\n",
            "0.689236 (0.025633) con {'batch_size': 5, 'epochs': 100, 'init': 'normal', 'optimizer': 'rmsprop'}\n",
            "0.727431 (0.020097) con {'batch_size': 5, 'epochs': 100, 'init': 'normal', 'optimizer': 'adam'}\n",
            "0.736111 (0.020978) con {'batch_size': 5, 'epochs': 100, 'init': 'uniform', 'optimizer': 'rmsprop'}\n",
            "0.651042 (0.057528) con {'batch_size': 5, 'epochs': 100, 'init': 'uniform', 'optimizer': 'adam'}\n",
            "0.505208 (0.161542) con {'batch_size': 5, 'epochs': 150, 'init': 'glorot_uniform', 'optimizer': 'rmsprop'}\n",
            "0.538194 (0.153408) con {'batch_size': 5, 'epochs': 150, 'init': 'glorot_uniform', 'optimizer': 'adam'}\n",
            "0.746528 (0.021823) con {'batch_size': 5, 'epochs': 150, 'init': 'normal', 'optimizer': 'rmsprop'}\n",
            "0.694444 (0.082497) con {'batch_size': 5, 'epochs': 150, 'init': 'normal', 'optimizer': 'adam'}\n",
            "0.692708 (0.051560) con {'batch_size': 5, 'epochs': 150, 'init': 'uniform', 'optimizer': 'rmsprop'}\n",
            "0.704861 (0.040418) con {'batch_size': 5, 'epochs': 150, 'init': 'uniform', 'optimizer': 'adam'}\n",
            "0.508681 (0.168089) con {'batch_size': 10, 'epochs': 50, 'init': 'glorot_uniform', 'optimizer': 'rmsprop'}\n",
            "0.647569 (0.057423) con {'batch_size': 10, 'epochs': 50, 'init': 'glorot_uniform', 'optimizer': 'adam'}\n",
            "0.732639 (0.031346) con {'batch_size': 10, 'epochs': 50, 'init': 'normal', 'optimizer': 'rmsprop'}\n",
            "0.723958 (0.037798) con {'batch_size': 10, 'epochs': 50, 'init': 'normal', 'optimizer': 'adam'}\n",
            "0.720486 (0.014935) con {'batch_size': 10, 'epochs': 50, 'init': 'uniform', 'optimizer': 'rmsprop'}\n",
            "0.671875 (0.037798) con {'batch_size': 10, 'epochs': 50, 'init': 'uniform', 'optimizer': 'adam'}\n",
            "0.348958 (0.057528) con {'batch_size': 10, 'epochs': 100, 'init': 'glorot_uniform', 'optimizer': 'rmsprop'}\n",
            "0.565972 (0.067284) con {'batch_size': 10, 'epochs': 100, 'init': 'glorot_uniform', 'optimizer': 'adam'}\n",
            "0.722222 (0.029869) con {'batch_size': 10, 'epochs': 100, 'init': 'normal', 'optimizer': 'rmsprop'}\n",
            "0.651042 (0.057528) con {'batch_size': 10, 'epochs': 100, 'init': 'normal', 'optimizer': 'adam'}\n",
            "0.723958 (0.033214) con {'batch_size': 10, 'epochs': 100, 'init': 'uniform', 'optimizer': 'rmsprop'}\n",
            "0.654514 (0.061675) con {'batch_size': 10, 'epochs': 100, 'init': 'uniform', 'optimizer': 'adam'}\n",
            "0.541667 (0.148962) con {'batch_size': 10, 'epochs': 150, 'init': 'glorot_uniform', 'optimizer': 'rmsprop'}\n",
            "0.590278 (0.120005) con {'batch_size': 10, 'epochs': 150, 'init': 'glorot_uniform', 'optimizer': 'adam'}\n",
            "0.717014 (0.043645) con {'batch_size': 10, 'epochs': 150, 'init': 'normal', 'optimizer': 'rmsprop'}\n",
            "0.696181 (0.028315) con {'batch_size': 10, 'epochs': 150, 'init': 'normal', 'optimizer': 'adam'}\n",
            "0.651042 (0.057528) con {'batch_size': 10, 'epochs': 150, 'init': 'uniform', 'optimizer': 'rmsprop'}\n",
            "0.727431 (0.037154) con {'batch_size': 10, 'epochs': 150, 'init': 'uniform', 'optimizer': 'adam'}\n",
            "0.651042 (0.057528) con {'batch_size': 20, 'epochs': 50, 'init': 'glorot_uniform', 'optimizer': 'rmsprop'}\n",
            "0.595486 (0.126319) con {'batch_size': 20, 'epochs': 50, 'init': 'glorot_uniform', 'optimizer': 'adam'}\n",
            "0.682292 (0.074754) con {'batch_size': 20, 'epochs': 50, 'init': 'normal', 'optimizer': 'rmsprop'}\n",
            "0.684028 (0.075156) con {'batch_size': 20, 'epochs': 50, 'init': 'normal', 'optimizer': 'adam'}\n",
            "0.717014 (0.012992) con {'batch_size': 20, 'epochs': 50, 'init': 'uniform', 'optimizer': 'rmsprop'}\n",
            "0.663194 (0.072461) con {'batch_size': 20, 'epochs': 50, 'init': 'uniform', 'optimizer': 'adam'}\n",
            "0.645833 (0.053285) con {'batch_size': 20, 'epochs': 100, 'init': 'glorot_uniform', 'optimizer': 'rmsprop'}\n",
            "0.348958 (0.057528) con {'batch_size': 20, 'epochs': 100, 'init': 'glorot_uniform', 'optimizer': 'adam'}\n",
            "0.651042 (0.057528) con {'batch_size': 20, 'epochs': 100, 'init': 'normal', 'optimizer': 'rmsprop'}\n",
            "0.682292 (0.074754) con {'batch_size': 20, 'epochs': 100, 'init': 'normal', 'optimizer': 'adam'}\n",
            "0.727431 (0.016100) con {'batch_size': 20, 'epochs': 100, 'init': 'uniform', 'optimizer': 'rmsprop'}\n",
            "0.730903 (0.017187) con {'batch_size': 20, 'epochs': 100, 'init': 'uniform', 'optimizer': 'adam'}\n",
            "0.532986 (0.141064) con {'batch_size': 20, 'epochs': 150, 'init': 'glorot_uniform', 'optimizer': 'rmsprop'}\n",
            "0.647569 (0.053511) con {'batch_size': 20, 'epochs': 150, 'init': 'glorot_uniform', 'optimizer': 'adam'}\n",
            "0.730903 (0.028947) con {'batch_size': 20, 'epochs': 150, 'init': 'normal', 'optimizer': 'rmsprop'}\n",
            "0.729167 (0.026557) con {'batch_size': 20, 'epochs': 150, 'init': 'normal', 'optimizer': 'adam'}\n",
            "0.722222 (0.034109) con {'batch_size': 20, 'epochs': 150, 'init': 'uniform', 'optimizer': 'rmsprop'}\n",
            "0.699653 (0.030764) con {'batch_size': 20, 'epochs': 150, 'init': 'uniform', 'optimizer': 'adam'}\n"
          ]
        }
      ]
    },
    {
      "cell_type": "code",
      "source": [
        "model_final = grid.best_estimator_\n",
        "model_final.get_params()"
      ],
      "metadata": {
        "id": "nDtlpz3y5Mfe",
        "outputId": "363de344-2fa5-4a76-dc7a-ee175d50cdd4",
        "colab": {
          "base_uri": "https://localhost:8080/"
        }
      },
      "execution_count": 15,
      "outputs": [
        {
          "output_type": "execute_result",
          "data": {
            "text/plain": [
              "{'batch_size': 5,\n",
              " 'build_fn': <function __main__.create_model_optimizer>,\n",
              " 'epochs': 150,\n",
              " 'init': 'normal',\n",
              " 'optimizer': 'rmsprop',\n",
              " 'verbose': 0}"
            ]
          },
          "metadata": {},
          "execution_count": 15
        }
      ]
    },
    {
      "cell_type": "markdown",
      "metadata": {
        "id": "Cuae_BysnCMQ"
      },
      "source": [
        "# **Prediccion**\n",
        "\n",
        "---\n",
        "\n"
      ]
    },
    {
      "cell_type": "markdown",
      "metadata": {
        "id": "SC5epEamo1u9"
      },
      "source": [
        "### **Problema de optimización**\n",
        "\n",
        "---\n",
        "\n"
      ]
    },
    {
      "cell_type": "code",
      "metadata": {
        "id": "lMSoEUxun316"
      },
      "source": [
        "y_pred = model_final.predict(X_train)"
      ],
      "execution_count": 16,
      "outputs": []
    },
    {
      "cell_type": "markdown",
      "metadata": {
        "id": "43ODlZ3OpI04"
      },
      "source": [
        "##### **Metricas**\n",
        "\n",
        "---\n",
        "\n"
      ]
    },
    {
      "cell_type": "code",
      "metadata": {
        "id": "kXJkTluoox0w",
        "outputId": "a696bc1c-01a8-4014-c3ef-cb9869335c7c",
        "colab": {
          "base_uri": "https://localhost:8080/"
        }
      },
      "source": [
        "matrix = metrics.confusion_matrix(y_train, y_pred)\n",
        "matrix"
      ],
      "execution_count": 17,
      "outputs": [
        {
          "output_type": "execute_result",
          "data": {
            "text/plain": [
              "array([[309,  66],\n",
              "       [ 70, 131]])"
            ]
          },
          "metadata": {},
          "execution_count": 17
        }
      ]
    },
    {
      "cell_type": "code",
      "metadata": {
        "id": "xMEz72yLpsp3",
        "outputId": "b5bdad8d-6721-4093-ff1d-463378e78648",
        "colab": {
          "base_uri": "https://localhost:8080/",
          "height": 339
        }
      },
      "source": [
        "fig, ax = plt.subplots(nrows=1, ncols=1, figsize = (6,5))\n",
        "sns.heatmap(matrix, annot=True, ax=ax, cmap=plt.cm.Greens, fmt = 'g', annot_kws={'size':13})\n",
        "ax.set_title('Matriz de confusión', size = 13)\n",
        "ax.xaxis.set_ticklabels(['sano', 'enfermos'])\n",
        "ax.yaxis.set_ticklabels(['sano', 'enfermos'])\n",
        "ax.tick_params(labelsize = 13)"
      ],
      "execution_count": 18,
      "outputs": [
        {
          "output_type": "display_data",
          "data": {
            "text/plain": [
              "<Figure size 432x360 with 2 Axes>"
            ],
            "image/png": "[encoded data removed]"
          },
          "metadata": {
            "needs_background": "light"
          }
        }
      ]
    },
    {
      "cell_type": "code",
      "metadata": {
        "id": "B1JE_pCgrr0X",
        "outputId": "a60822fa-a03b-4524-8064-78249bb38af7",
        "colab": {
          "base_uri": "https://localhost:8080/"
        }
      },
      "source": [
        "print(f'Accuracy    : {metrics.accuracy_score(y_train, y_pred)}')\n",
        "print(f'Kappa       : {metrics.cohen_kappa_score(y_train, y_pred)}')\n",
        "\n",
        "print(f'Preddicción enfermos')\n",
        "print(f'Predicción  : {metrics.precision_score(y_train, y_pred, labels=[1], average=\"macro\")}')\n",
        "print(f'Recall      : {metrics.recall_score(y_train, y_pred, labels=[1], average=\"macro\")}')\n",
        "\n",
        "VN = matrix[0,0]\n",
        "FP = matrix[0,1]\n",
        "specificity = VN/(VN+FP)\n",
        "\n",
        "print(f'Specificity : {specificity}')\n",
        "print(f'F1-score    : {metrics.f1_score(y_train, y_pred, labels=[1], average=\"macro\")}')"
      ],
      "execution_count": 19,
      "outputs": [
        {
          "output_type": "stream",
          "name": "stdout",
          "text": [
            "Accuracy    : 0.7638888888888888\n",
            "Kappa       : 0.4779479387420529\n",
            "Preddicción enfermos\n",
            "Predicción  : 0.6649746192893401\n",
            "Recall      : 0.6517412935323383\n",
            "Specificity : 0.824\n",
            "F1-score    : 0.6582914572864321\n"
          ]
        }
      ]
    },
    {
      "cell_type": "markdown",
      "metadata": {
        "id": "Bms1KVZ4o_xX"
      },
      "source": [
        "### **Problema de inferencia**\n",
        "\n",
        "---\n",
        "\n"
      ]
    },
    {
      "cell_type": "code",
      "metadata": {
        "id": "NMSCV0nkxGby"
      },
      "source": [
        "y_pred = model_final.predict(X_test)"
      ],
      "execution_count": 20,
      "outputs": []
    },
    {
      "cell_type": "markdown",
      "metadata": {
        "id": "Am9y9vscpQ2Q"
      },
      "source": [
        "##### **Metricas**\n",
        "\n",
        "---\n",
        "\n"
      ]
    },
    {
      "cell_type": "code",
      "metadata": {
        "id": "HOIytFXMo_TS",
        "outputId": "b680a5f7-c2df-4a59-be64-71ea23b1154c",
        "colab": {
          "base_uri": "https://localhost:8080/"
        }
      },
      "source": [
        "matrix = metrics.confusion_matrix(y_test, y_pred)\n",
        "matrix"
      ],
      "execution_count": 21,
      "outputs": [
        {
          "output_type": "execute_result",
          "data": {
            "text/plain": [
              "array([[97, 28],\n",
              "       [22, 45]])"
            ]
          },
          "metadata": {},
          "execution_count": 21
        }
      ]
    },
    {
      "cell_type": "code",
      "metadata": {
        "id": "SuJLi4N6xufq",
        "outputId": "4dede843-36bc-4154-a751-26ce64e771a5",
        "colab": {
          "base_uri": "https://localhost:8080/",
          "height": 339
        }
      },
      "source": [
        "fig, ax = plt.subplots(nrows=1, ncols=1, figsize = (6,5))\n",
        "sns.heatmap(matrix, annot=True, ax=ax, cmap=plt.cm.Blues, fmt = 'g', annot_kws={'size':13})\n",
        "ax.set_title('Matriz de confusión', size = 13)\n",
        "ax.xaxis.set_ticklabels(['sano', 'enfermos'])\n",
        "ax.yaxis.set_ticklabels(['sano', 'enfermos'])\n",
        "ax.tick_params(labelsize = 13)"
      ],
      "execution_count": 22,
      "outputs": [
        {
          "output_type": "display_data",
          "data": {
            "text/plain": [
              "<Figure size 432x360 with 2 Axes>"
            ],
            "image/png": "[encoded data removed]"
          },
          "metadata": {
            "needs_background": "light"
          }
        }
      ]
    },
    {
      "cell_type": "code",
      "metadata": {
        "id": "6RSFjVKHnKAs",
        "outputId": "3f887852-0842-4fa8-c480-86d4feabd85f",
        "colab": {
          "base_uri": "https://localhost:8080/"
        }
      },
      "source": [
        "print(f'Accuracy    : {metrics.accuracy_score(y_test, y_pred)}')\n",
        "print(f'Kappa       : {metrics.cohen_kappa_score(y_test, y_pred)}')\n",
        "\n",
        "print(f'Preddicción enfermos')\n",
        "print(f'Predicción  : {metrics.precision_score(y_test, y_pred, labels=[1], average=\"macro\")}')\n",
        "print(f'Recall      : {metrics.recall_score(y_test, y_pred, labels=[1], average=\"macro\")}')\n",
        "\n",
        "VN = matrix[0,0]\n",
        "FP = matrix[0,1]\n",
        "specificity = VN/(VN+FP)\n",
        "\n",
        "print(f'Specificity : {specificity}')\n",
        "print(f'F1-score    : {metrics.f1_score(y_test, y_pred, labels=[1], average=\"macro\")}')"
      ],
      "execution_count": 23,
      "outputs": [
        {
          "output_type": "stream",
          "name": "stdout",
          "text": [
            "Accuracy    : 0.7395833333333334\n",
            "Kappa       : 0.4385308223183998\n",
            "Preddicción enfermos\n",
            "Predicción  : 0.6164383561643836\n",
            "Recall      : 0.6716417910447762\n",
            "Specificity : 0.776\n",
            "F1-score    : 0.6428571428571429\n"
          ]
        }
      ]
    },
    {
      "cell_type": "markdown",
      "source": [
        "- El modelo aun no es muy bueno para la detección de enferos, la sensibilidad está por debajo del 50%\n",
        "- La predicción no es buena metrica, ya que los datos están desbalanceados, ademas está aun por debajo de la precisión del conjunto de datos de entrenamiento."
      ],
      "metadata": {
        "id": "CCHD-QNM7Dmf"
      }
    },
    {
      "cell_type": "code",
      "source": [
        "y_prob = model_final.predict_proba(X_test)\n",
        "pos_prob = y_prob[:, 1]\n",
        "fpr, tpr, _ = metrics.roc_curve(y_test, pos_prob)\n",
        "fpr, tpr"
      ],
      "metadata": {
        "id": "LsI_rTIH7TYw",
        "outputId": "9c043efc-7008-4e29-cd8e-48966e613675",
        "colab": {
          "base_uri": "https://localhost:8080/"
        }
      },
      "execution_count": 30,
      "outputs": [
        {
          "output_type": "execute_result",
          "data": {
            "text/plain": [
              "(array([0.   , 0.   , 0.   , 0.008, 0.008, 0.016, 0.016, 0.024, 0.024,\n",
              "        0.032, 0.032, 0.04 , 0.04 , 0.048, 0.048, 0.064, 0.064, 0.072,\n",
              "        0.072, 0.08 , 0.08 , 0.088, 0.088, 0.104, 0.104, 0.112, 0.112,\n",
              "        0.12 , 0.12 , 0.136, 0.136, 0.152, 0.152, 0.168, 0.168, 0.184,\n",
              "        0.184, 0.224, 0.224, 0.24 , 0.24 , 0.312, 0.312, 0.32 , 0.32 ,\n",
              "        0.336, 0.336, 0.344, 0.344, 0.4  , 0.4  , 0.448, 0.448, 0.504,\n",
              "        0.504, 0.512, 0.512, 0.56 , 0.56 , 0.592, 0.592, 0.648, 0.648,\n",
              "        0.704, 0.704, 0.712, 0.712, 0.72 , 0.72 , 0.744, 0.744, 0.792,\n",
              "        0.792, 0.824, 0.824, 0.84 , 0.84 , 0.872, 1.   ]),\n",
              " array([0.        , 0.01492537, 0.07462687, 0.07462687, 0.2238806 ,\n",
              "        0.2238806 , 0.28358209, 0.28358209, 0.31343284, 0.31343284,\n",
              "        0.34328358, 0.34328358, 0.35820896, 0.35820896, 0.37313433,\n",
              "        0.37313433, 0.3880597 , 0.3880597 , 0.40298507, 0.40298507,\n",
              "        0.41791045, 0.41791045, 0.43283582, 0.43283582, 0.47761194,\n",
              "        0.47761194, 0.50746269, 0.50746269, 0.53731343, 0.53731343,\n",
              "        0.58208955, 0.58208955, 0.59701493, 0.59701493, 0.64179104,\n",
              "        0.64179104, 0.65671642, 0.65671642, 0.67164179, 0.67164179,\n",
              "        0.68656716, 0.68656716, 0.71641791, 0.71641791, 0.73134328,\n",
              "        0.73134328, 0.74626866, 0.74626866, 0.76119403, 0.76119403,\n",
              "        0.7761194 , 0.7761194 , 0.79104478, 0.79104478, 0.80597015,\n",
              "        0.80597015, 0.82089552, 0.82089552, 0.8358209 , 0.8358209 ,\n",
              "        0.85074627, 0.85074627, 0.88059701, 0.88059701, 0.91044776,\n",
              "        0.91044776, 0.92537313, 0.92537313, 0.94029851, 0.94029851,\n",
              "        0.95522388, 0.95522388, 0.97014925, 0.97014925, 0.98507463,\n",
              "        0.98507463, 1.        , 1.        , 1.        ]))"
            ]
          },
          "metadata": {},
          "execution_count": 30
        }
      ]
    },
    {
      "cell_type": "markdown",
      "source": [
        "# **ROC**\n",
        "---\n",
        "\n"
      ],
      "metadata": {
        "id": "USh9ttECHNyr"
      }
    },
    {
      "cell_type": "code",
      "source": [
        "plt.plot([0, 1], [0, 1], linestyle='--', label='No Skill')\n",
        "plt.plot(fpr, tpr, marker=',', label = 'Multi Layer Perceptron')\n",
        "plt.xlabel('False Positive Rate')\n",
        "plt.ylabel('True Positive Rate')\n",
        "plt.legend()\n",
        "plt.show()"
      ],
      "metadata": {
        "id": "Kfa_v87eFD_N",
        "outputId": "10b4a5ce-1c29-4707-948f-7b7b9f564dc5",
        "colab": {
          "base_uri": "https://localhost:8080/",
          "height": 279
        }
      },
      "execution_count": 32,
      "outputs": [
        {
          "output_type": "display_data",
          "data": {
            "text/plain": [
              "<Figure size 432x288 with 1 Axes>"
            ],
            "image/png": "[encoded data removed]"
          },
          "metadata": {
            "needs_background": "light"
          }
        }
      ]
    },
    {
      "cell_type": "markdown",
      "source": [
        "# **AUC Score**\n",
        "---\n",
        "\n"
      ],
      "metadata": {
        "id": "xhvpEBxOHKwv"
      }
    },
    {
      "cell_type": "code",
      "source": [
        "roc_auc = metrics.roc_auc_score(y_test, pos_prob)\n",
        "print('Multi Layer Perceptron AUC %.3f' % roc_auc)"
      ],
      "metadata": {
        "id": "Sp9uVBiJHKFA",
        "outputId": "b1890621-42be-48b8-e4a8-75a3281ecb58",
        "colab": {
          "base_uri": "https://localhost:8080/"
        }
      },
      "execution_count": 34,
      "outputs": [
        {
          "output_type": "stream",
          "name": "stdout",
          "text": [
            "Multi Layer Perceptron 0.774\n"
          ]
        }
      ]
    },
    {
      "cell_type": "markdown",
      "source": [
        "- El area de bajo de la curva muestra que el modelo tiene un rendimiento aceptable en la predicción de ambas clases, aunque se resalta que el conjunto de datos es desbalanceado."
      ],
      "metadata": {
        "id": "txv6olqzHwAI"
      }
    },
    {
      "cell_type": "markdown",
      "source": [
        ""
      ],
      "metadata": {
        "id": "ANcqNIQZIIRa"
      }
    },
    {
      "cell_type": "code",
      "source": [
        "no_skill = len(y[y==1]) / len(y)\n",
        "plt.plot([0, 1], [no_skill, no_skill], linestyle='--', label='No Skill')\n",
        "precision, recall, _ = metrics.precision_recall_curve(y_test, pos_prob)\n",
        "plt.plot(recall, presicion, marker='.', label='Multi Layer Perceptron')\n",
        "plt.xlabel('Recall')\n",
        "plt.ylabel('Precision')\n",
        "plt.legend()\n",
        "plt.show()"
      ],
      "metadata": {
        "id": "GoVDjQXBIhiI",
        "outputId": "a2740aaa-68d1-4884-d0b5-fa46c57be09d",
        "colab": {
          "base_uri": "https://localhost:8080/",
          "height": 279
        }
      },
      "execution_count": 38,
      "outputs": [
        {
          "output_type": "display_data",
          "data": {
            "text/plain": [
              "<Figure size 432x288 with 1 Axes>"
            ],
            "image/png": "[encoded data removed]"
          },
          "metadata": {
            "needs_background": "light"
          }
        }
      ]
    },
    {
      "cell_type": "code",
      "source": [
        "auc_score = metrics.auc(recall, precision)\n",
        "print('Multi Layer Perceptron PR AUC: %.3f' % auc_score)"
      ],
      "metadata": {
        "id": "xZJ6dmAUJ1hJ",
        "outputId": "533b8cd3-f86b-4710-d088-54f992ee4756",
        "colab": {
          "base_uri": "https://localhost:8080/"
        }
      },
      "execution_count": 39,
      "outputs": [
        {
          "output_type": "stream",
          "name": "stdout",
          "text": [
            "Multi Layer Perceptron PR AUC: 0.697\n"
          ]
        }
      ]
    },
    {
      "cell_type": "markdown",
      "source": [
        "- El modelo tiene un rendimiento inferior en la predicción de los enfermos (70%) con la curva de precision-recall que con el rendimiento que la curva ROC"
      ],
      "metadata": {
        "id": "m-BbTdydKSZZ"
      }
    }
  ]
}