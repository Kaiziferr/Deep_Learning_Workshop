{
  "nbformat": 4,
  "nbformat_minor": 0,
  "metadata": {
    "colab": {
      "name": "02_workshop_parameter_optimizer.ipynb",
      "provenance": [],
      "authorship_tag": "ABX9TyPASZkHpOrXSh2mIY9g3TnG",
      "include_colab_link": true
    },
    "kernelspec": {
      "name": "python3",
      "display_name": "Python 3"
    },
    "language_info": {
      "name": "python"
    }
  },
  "cells": [
    {
      "cell_type": "markdown",
      "metadata": {
        "id": "view-in-github",
        "colab_type": "text"
      },
      "source": [
        "<a href=\"https://colab.research.google.com/github/Kaiziferr/Deep_Learning_Workshop/blob/master/multilayer_perceptron/02_workshop_parameter_optimizer.ipynb\" target=\"_parent\"><img src=\"https://colab.research.google.com/assets/colab-badge.svg\" alt=\"Open In Colab\"/></a>"
      ]
    },
    {
      "cell_type": "code",
      "metadata": {
        "id": "VfxY6KfbT-Qe"
      },
      "source": [
        "import pandas as pd\n",
        "import numpy as np\n",
        "import matplotlib.pyplot as plt\n",
        "import seaborn as sns\n",
        "\n",
        "from keras.models import Sequential\n",
        "from keras.layers import Dense\n",
        "from keras.wrappers.scikit_learn import KerasClassifier\n",
        "\n",
        "from sklearn.model_selection import train_test_split, cross_val_score, StratifiedKFold, GridSearchCV\n",
        "from sklearn import metrics"
      ],
      "execution_count": 31,
      "outputs": []
    },
    {
      "cell_type": "code",
      "metadata": {
        "id": "yMADg72KVfiD"
      },
      "source": [
        "data = pd.read_csv('https://raw.githubusercontent.com/Kaiziferr/Deep_Learning_Workshop/master/workshop_keras_sklearn_introduction/diabetes.csv')\n",
        "data_values = data.values"
      ],
      "execution_count": 2,
      "outputs": []
    },
    {
      "cell_type": "code",
      "metadata": {
        "id": "8cSuyLS3V5aJ"
      },
      "source": [
        "def create_base_model():\n",
        "  model = Sequential()\n",
        "  model.add(Dense(12, input_dim = 8, activation='relu', kernel_initializer='glorot_uniform'))\n",
        "  model.add(Dense(8, activation='relu', kernel_initializer='glorot_uniform'))\n",
        "  model.add(Dense(1, activation='sigmoid', kernel_initializer='glorot_uniform'))\n",
        "  model.compile(loss='binary_crossentropy', optimizer = 'adam', metrics = ['accuracy'])\n",
        "\n",
        "  return model"
      ],
      "execution_count": 3,
      "outputs": []
    },
    {
      "cell_type": "markdown",
      "metadata": {
        "id": "YFHiqwygWqk3"
      },
      "source": [
        "# Data Split"
      ]
    },
    {
      "cell_type": "code",
      "metadata": {
        "id": "Hnrlz3I0Wo8i"
      },
      "source": [
        "X = data_values[:,0:8]\n",
        "y = data_values[:,8]"
      ],
      "execution_count": 4,
      "outputs": []
    },
    {
      "cell_type": "markdown",
      "metadata": {
        "id": "DUcOTSRVW0Qv"
      },
      "source": [
        "# Houldot"
      ]
    },
    {
      "cell_type": "code",
      "metadata": {
        "id": "xP9c5FGwW3DA"
      },
      "source": [
        "X_train, X_test, y_train, y_test = train_test_split(X,y,test_size=0.25, shuffle = True, stratify = y)"
      ],
      "execution_count": 5,
      "outputs": []
    },
    {
      "cell_type": "markdown",
      "metadata": {
        "id": "0A9TT5-iXqMV"
      },
      "source": [
        "# Wrapper"
      ]
    },
    {
      "cell_type": "code",
      "metadata": {
        "id": "yNOYgdYYXkHY"
      },
      "source": [
        "model = KerasClassifier(build_fn=create_base_model, epochs = 150, batch_size = 10, verbose = 0)\n",
        "\n",
        "kfold = StratifiedKFold(n_splits=10, shuffle=True)\n",
        "result = cross_val_score(model, X, y, cv = kfold)"
      ],
      "execution_count": 6,
      "outputs": []
    },
    {
      "cell_type": "code",
      "metadata": {
        "colab": {
          "base_uri": "https://localhost:8080/"
        },
        "id": "AvchXk7qYk8j",
        "outputId": "e4e5a5b1-0382-4fc1-ff89-9ad1e9edd085"
      },
      "source": [
        "result"
      ],
      "execution_count": 7,
      "outputs": [
        {
          "output_type": "execute_result",
          "data": {
            "text/plain": [
              "array([0.63636363, 0.63636363, 0.75324672, 0.64935064, 0.70129871,\n",
              "       0.8051948 , 0.67532468, 0.8051948 , 0.71052629, 0.81578946])"
            ]
          },
          "metadata": {},
          "execution_count": 7
        }
      ]
    },
    {
      "cell_type": "code",
      "metadata": {
        "colab": {
          "base_uri": "https://localhost:8080/"
        },
        "id": "rLaEZqdYfD0K",
        "outputId": "a5e8d63f-1eb4-46cd-ca2d-6387836964fe"
      },
      "source": [
        "result.mean() , result.std()"
      ],
      "execution_count": 8,
      "outputs": [
        {
          "output_type": "execute_result",
          "data": {
            "text/plain": [
              "(0.7188653349876404, 0.06797145631641796)"
            ]
          },
          "metadata": {},
          "execution_count": 8
        }
      ]
    },
    {
      "cell_type": "markdown",
      "metadata": {
        "id": "-exUpYkNf1yC"
      },
      "source": [
        "# Optimización de hiperparametros"
      ]
    },
    {
      "cell_type": "code",
      "metadata": {
        "id": "LUZpoZB2f5ta"
      },
      "source": [
        "def create_model_optimizer(optimizer = 'rmsprop', init = 'glorot_uniform'):\n",
        "  model = Sequential()\n",
        "  model.add(Dense(12, input_dim = 8, kernel_initializer=init, activation='relu'))\n",
        "  model.add(Dense(8, kernel_initializer=init, activation='relu'))\n",
        "  model.add(Dense(1, kernel_initializer=init, activation='relu'))\n",
        "  model.compile(loss = 'binary_crossentropy', optimizer = optimizer, metrics = ['accuracy'])\n",
        "  return model"
      ],
      "execution_count": 16,
      "outputs": []
    },
    {
      "cell_type": "code",
      "metadata": {
        "id": "0c7xxEKxgwcS"
      },
      "source": [
        "model = KerasClassifier(build_fn=create_model_optimizer, verbose = 0)"
      ],
      "execution_count": 17,
      "outputs": []
    },
    {
      "cell_type": "code",
      "metadata": {
        "id": "ivuKkBzRg8Op"
      },
      "source": [
        "optimizer = ['rmsprop', 'adam']\n",
        "init = ['glorot_uniform', 'normal', 'uniform']\n",
        "epochs = [50 ,100 ,150]\n",
        "batch = [5, 10, 20]\n",
        "\n",
        "param_grid = dict(optimizer = optimizer, epochs = epochs, batch_size = batch, init = init)\n",
        "grid = GridSearchCV(estimator=model, param_grid=param_grid, refit=True, return_train_score=True, cv = 3)"
      ],
      "execution_count": 18,
      "outputs": []
    },
    {
      "cell_type": "code",
      "metadata": {
        "colab": {
          "base_uri": "https://localhost:8080/"
        },
        "id": "rLsPqqEnhiMZ",
        "outputId": "b4e0b8e4-63ba-4770-cd93-9ecc385c3168"
      },
      "source": [
        "grid.fit(X_train, y_train)"
      ],
      "execution_count": 19,
      "outputs": [
        {
          "output_type": "execute_result",
          "data": {
            "text/plain": [
              "GridSearchCV(cv=3, error_score=nan,\n",
              "             estimator=<keras.wrappers.scikit_learn.KerasClassifier object at 0x7fc75e15f090>,\n",
              "             iid='deprecated', n_jobs=None,\n",
              "             param_grid={'batch_size': [5, 10, 20], 'epochs': [50, 100, 150],\n",
              "                         'init': ['glorot_uniform', 'normal', 'uniform'],\n",
              "                         'optimizer': ['rmsprop', 'adam']},\n",
              "             pre_dispatch='2*n_jobs', refit=True, return_train_score=True,\n",
              "             scoring=None, verbose=0)"
            ]
          },
          "metadata": {},
          "execution_count": 19
        }
      ]
    },
    {
      "cell_type": "code",
      "metadata": {
        "colab": {
          "base_uri": "https://localhost:8080/"
        },
        "id": "w_a47y2VlbXt",
        "outputId": "ec0f5fc5-3445-4b13-98d6-9b03f0537b9e"
      },
      "source": [
        "print('Mejor: %f usando %s' % (grid.best_score_, grid.best_params_))"
      ],
      "execution_count": 22,
      "outputs": [
        {
          "output_type": "stream",
          "name": "stdout",
          "text": [
            "Mejor: 0.763889 usando {'batch_size': 5, 'epochs': 100, 'init': 'normal', 'optimizer': 'adam'}\n"
          ]
        }
      ]
    },
    {
      "cell_type": "code",
      "metadata": {
        "colab": {
          "base_uri": "https://localhost:8080/"
        },
        "id": "l4tIIcR9lqj8",
        "outputId": "d8974af5-9691-4988-e886-64e6a0960703"
      },
      "source": [
        "means = grid.cv_results_['mean_test_score']\n",
        "stds = grid.cv_results_['std_test_score']\n",
        "params = grid.cv_results_['params']\n",
        "\n",
        "for mean, std, param in zip(means, stds, params):\n",
        "  print('%f (%f) con %r' % (mean, std, param))"
      ],
      "execution_count": 23,
      "outputs": [
        {
          "output_type": "stream",
          "name": "stdout",
          "text": [
            "0.651042 (0.023677) con {'batch_size': 5, 'epochs': 50, 'init': 'glorot_uniform', 'optimizer': 'rmsprop'}\n",
            "0.657986 (0.030764) con {'batch_size': 5, 'epochs': 50, 'init': 'glorot_uniform', 'optimizer': 'adam'}\n",
            "0.723958 (0.051560) con {'batch_size': 5, 'epochs': 50, 'init': 'normal', 'optimizer': 'rmsprop'}\n",
            "0.720486 (0.053171) con {'batch_size': 5, 'epochs': 50, 'init': 'normal', 'optimizer': 'adam'}\n",
            "0.751736 (0.043437) con {'batch_size': 5, 'epochs': 50, 'init': 'uniform', 'optimizer': 'rmsprop'}\n",
            "0.684028 (0.025984) con {'batch_size': 5, 'epochs': 50, 'init': 'uniform', 'optimizer': 'adam'}\n",
            "0.475694 (0.113021) con {'batch_size': 5, 'epochs': 100, 'init': 'glorot_uniform', 'optimizer': 'rmsprop'}\n",
            "0.574653 (0.133827) con {'batch_size': 5, 'epochs': 100, 'init': 'glorot_uniform', 'optimizer': 'adam'}\n",
            "0.730903 (0.031346) con {'batch_size': 5, 'epochs': 100, 'init': 'normal', 'optimizer': 'rmsprop'}\n",
            "0.763889 (0.034373) con {'batch_size': 5, 'epochs': 100, 'init': 'normal', 'optimizer': 'adam'}\n",
            "0.753472 (0.034373) con {'batch_size': 5, 'epochs': 100, 'init': 'uniform', 'optimizer': 'rmsprop'}\n",
            "0.685764 (0.069140) con {'batch_size': 5, 'epochs': 100, 'init': 'uniform', 'optimizer': 'adam'}\n",
            "0.532986 (0.149285) con {'batch_size': 5, 'epochs': 150, 'init': 'glorot_uniform', 'optimizer': 'rmsprop'}\n",
            "0.645833 (0.034809) con {'batch_size': 5, 'epochs': 150, 'init': 'glorot_uniform', 'optimizer': 'adam'}\n",
            "0.725694 (0.049288) con {'batch_size': 5, 'epochs': 150, 'init': 'normal', 'optimizer': 'rmsprop'}\n",
            "0.661458 (0.029768) con {'batch_size': 5, 'epochs': 150, 'init': 'normal', 'optimizer': 'adam'}\n",
            "0.725694 (0.049836) con {'batch_size': 5, 'epochs': 150, 'init': 'uniform', 'optimizer': 'rmsprop'}\n",
            "0.692708 (0.037798) con {'batch_size': 5, 'epochs': 150, 'init': 'uniform', 'optimizer': 'adam'}\n",
            "0.532986 (0.135839) con {'batch_size': 10, 'epochs': 50, 'init': 'glorot_uniform', 'optimizer': 'rmsprop'}\n",
            "0.564236 (0.133827) con {'batch_size': 10, 'epochs': 50, 'init': 'glorot_uniform', 'optimizer': 'adam'}\n",
            "0.696181 (0.059738) con {'batch_size': 10, 'epochs': 50, 'init': 'normal', 'optimizer': 'rmsprop'}\n",
            "0.651042 (0.023677) con {'batch_size': 10, 'epochs': 50, 'init': 'normal', 'optimizer': 'adam'}\n",
            "0.717014 (0.069920) con {'batch_size': 10, 'epochs': 50, 'init': 'uniform', 'optimizer': 'rmsprop'}\n",
            "0.684028 (0.025984) con {'batch_size': 10, 'epochs': 50, 'init': 'uniform', 'optimizer': 'adam'}\n",
            "0.651042 (0.023677) con {'batch_size': 10, 'epochs': 100, 'init': 'glorot_uniform', 'optimizer': 'rmsprop'}\n",
            "0.453125 (0.145523) con {'batch_size': 10, 'epochs': 100, 'init': 'glorot_uniform', 'optimizer': 'adam'}\n",
            "0.689236 (0.033032) con {'batch_size': 10, 'epochs': 100, 'init': 'normal', 'optimizer': 'rmsprop'}\n",
            "0.715278 (0.034373) con {'batch_size': 10, 'epochs': 100, 'init': 'normal', 'optimizer': 'adam'}\n",
            "0.748264 (0.036168) con {'batch_size': 10, 'epochs': 100, 'init': 'uniform', 'optimizer': 'rmsprop'}\n",
            "0.739583 (0.017010) con {'batch_size': 10, 'epochs': 100, 'init': 'uniform', 'optimizer': 'adam'}\n",
            "0.427083 (0.129057) con {'batch_size': 10, 'epochs': 150, 'init': 'glorot_uniform', 'optimizer': 'rmsprop'}\n",
            "0.651042 (0.023677) con {'batch_size': 10, 'epochs': 150, 'init': 'glorot_uniform', 'optimizer': 'adam'}\n",
            "0.661458 (0.029768) con {'batch_size': 10, 'epochs': 150, 'init': 'normal', 'optimizer': 'rmsprop'}\n",
            "0.692708 (0.078759) con {'batch_size': 10, 'epochs': 150, 'init': 'normal', 'optimizer': 'adam'}\n",
            "0.687500 (0.071540) con {'batch_size': 10, 'epochs': 150, 'init': 'uniform', 'optimizer': 'rmsprop'}\n",
            "0.730903 (0.023421) con {'batch_size': 10, 'epochs': 150, 'init': 'uniform', 'optimizer': 'adam'}\n",
            "0.421875 (0.132651) con {'batch_size': 20, 'epochs': 50, 'init': 'glorot_uniform', 'optimizer': 'rmsprop'}\n",
            "0.548611 (0.143100) con {'batch_size': 20, 'epochs': 50, 'init': 'glorot_uniform', 'optimizer': 'adam'}\n",
            "0.694444 (0.066473) con {'batch_size': 20, 'epochs': 50, 'init': 'normal', 'optimizer': 'rmsprop'}\n",
            "0.697917 (0.017010) con {'batch_size': 20, 'epochs': 50, 'init': 'normal', 'optimizer': 'adam'}\n",
            "0.696181 (0.013670) con {'batch_size': 20, 'epochs': 50, 'init': 'uniform', 'optimizer': 'rmsprop'}\n",
            "0.703125 (0.064213) con {'batch_size': 20, 'epochs': 50, 'init': 'uniform', 'optimizer': 'adam'}\n",
            "0.541667 (0.143079) con {'batch_size': 20, 'epochs': 100, 'init': 'glorot_uniform', 'optimizer': 'rmsprop'}\n",
            "0.618056 (0.054015) con {'batch_size': 20, 'epochs': 100, 'init': 'glorot_uniform', 'optimizer': 'adam'}\n",
            "0.722222 (0.049288) con {'batch_size': 20, 'epochs': 100, 'init': 'normal', 'optimizer': 'rmsprop'}\n",
            "0.727431 (0.053847) con {'batch_size': 20, 'epochs': 100, 'init': 'normal', 'optimizer': 'adam'}\n",
            "0.694444 (0.040194) con {'batch_size': 20, 'epochs': 100, 'init': 'uniform', 'optimizer': 'rmsprop'}\n",
            "0.734375 (0.026557) con {'batch_size': 20, 'epochs': 100, 'init': 'uniform', 'optimizer': 'adam'}\n",
            "0.467014 (0.149285) con {'batch_size': 20, 'epochs': 150, 'init': 'glorot_uniform', 'optimizer': 'rmsprop'}\n",
            "0.631944 (0.021404) con {'batch_size': 20, 'epochs': 150, 'init': 'glorot_uniform', 'optimizer': 'adam'}\n",
            "0.730903 (0.061675) con {'batch_size': 20, 'epochs': 150, 'init': 'normal', 'optimizer': 'rmsprop'}\n",
            "0.723958 (0.040567) con {'batch_size': 20, 'epochs': 150, 'init': 'normal', 'optimizer': 'adam'}\n",
            "0.704861 (0.035410) con {'batch_size': 20, 'epochs': 150, 'init': 'uniform', 'optimizer': 'rmsprop'}\n",
            "0.677083 (0.156770) con {'batch_size': 20, 'epochs': 150, 'init': 'uniform', 'optimizer': 'adam'}\n"
          ]
        }
      ]
    },
    {
      "cell_type": "code",
      "metadata": {
        "colab": {
          "base_uri": "https://localhost:8080/"
        },
        "id": "18XClWAVmrON",
        "outputId": "cfd03a11-0727-4e77-96ad-1c0b25c2c50d"
      },
      "source": [
        "model_final = grid.best_estimator_\n",
        "model_final.get_params()"
      ],
      "execution_count": 25,
      "outputs": [
        {
          "output_type": "execute_result",
          "data": {
            "text/plain": [
              "{'batch_size': 5,\n",
              " 'build_fn': <function __main__.create_model_optimizer>,\n",
              " 'epochs': 100,\n",
              " 'init': 'normal',\n",
              " 'optimizer': 'adam',\n",
              " 'verbose': 0}"
            ]
          },
          "metadata": {},
          "execution_count": 25
        }
      ]
    },
    {
      "cell_type": "markdown",
      "metadata": {
        "id": "Cuae_BysnCMQ"
      },
      "source": [
        "# Prediccion"
      ]
    },
    {
      "cell_type": "code",
      "metadata": {
        "id": "J-RB-2uNm3_M"
      },
      "source": [
        "\"\"\"\n",
        "@Description: Implement a matrix of confusion of a binary model\n",
        "@Values:\n",
        "          validation (Series) a series with values of test\n",
        "          prediction (Series) a series with values of prediction\n",
        "          title (String)  title\n",
        "          target (String)\n",
        "          not_target (String)\n",
        "\"\"\"\n",
        "\n",
        "def matrix_confusion(validation, prediction, title, target, not_target):\n",
        "  matrix = metrics.confusion_matrix(validation, prediction)\n",
        "  fig, ax = plt.subplots(nrows = 1, ncols = 1, figsize = (6,5))\n",
        "  sns.heatmap(matrix, annot=True, ax = ax,cmap=plt.cm.Blues,fmt='g',annot_kws={\"size\": 13})\n",
        "  ax.set_title(title,size=13)\n",
        "\n",
        "  ax.xaxis.set_ticklabels([not_target,target])\n",
        "  ax.yaxis.set_ticklabels([not_target,target], va=\"center\")\n",
        "\n",
        "  ax.tick_params(labelsize = 13)\n",
        "\n",
        "  return matrix"
      ],
      "execution_count": 26,
      "outputs": []
    },
    {
      "cell_type": "code",
      "metadata": {
        "id": "jQEYyFqInHsz"
      },
      "source": [
        "\"\"\"\n",
        "@Description: This method show some metrics for algorithms of classification binary\n",
        "@Values:\n",
        "          - validation (Series) a series with values of test\n",
        "          - prediction (Series) a series with values of prediction\n",
        "          - name_target (Serie) \n",
        "          - label: target\n",
        "          - matrix (ndarray)\n",
        "\"\"\"\n",
        "\n",
        "def metrics_clasification_binary(validation, prediction, name_target,label, matrix):\n",
        "  print('Accuracy', metrics.accuracy_score(validation, prediction))\n",
        "  print('Kappa',  metrics.cohen_kappa_score(validation, prediction))\n",
        "  print('----------------------------------------------------------- \\n')\n",
        "\n",
        "  print(f'Metrics of {name_target}')\n",
        "  print('Precision', metrics.precision_score(validation, prediction, label, average='macro'))\n",
        "  print(\"Recall: \",  metrics.recall_score(validation, prediction, label, average='macro'))\n",
        "  \n",
        "  VN = matrix[0,0]\n",
        "  FP = matrix[0,1]\n",
        "  specificity = VN/(VN+FP)\n",
        "\n",
        "  print('Specificity', specificity)\n",
        "  print(\"F1-score      : \", metrics.f1_score(validation, prediction, label, average='macro'))"
      ],
      "execution_count": 27,
      "outputs": []
    },
    {
      "cell_type": "code",
      "metadata": {
        "id": "6RSFjVKHnKAs"
      },
      "source": [
        "y_pred = model_final.predict(X_train)"
      ],
      "execution_count": 28,
      "outputs": []
    },
    {
      "cell_type": "code",
      "metadata": {
        "colab": {
          "base_uri": "https://localhost:8080/",
          "height": 339
        },
        "id": "8k7GZudrnQyI",
        "outputId": "07f2cda8-91ab-441f-8e72-de2e5c15358b"
      },
      "source": [
        "# MAtrix confusion\n",
        "matrix = matrix_confusion(y_train, y_pred, 'Diabetes' , 'Sick', 'healthy')"
      ],
      "execution_count": 32,
      "outputs": [
        {
          "output_type": "display_data",
          "data": {
            "image/png": "[encoded data removed]",
            "text/plain": [
              "<Figure size 432x360 with 2 Axes>"
            ]
          },
          "metadata": {
            "needs_background": "light"
          }
        }
      ]
    },
    {
      "cell_type": "code",
      "metadata": {
        "colab": {
          "base_uri": "https://localhost:8080/"
        },
        "id": "ao09sVvNnY_l",
        "outputId": "d064e845-8f01-40e9-cc29-6a4ae15827ab"
      },
      "source": [
        "metrics_clasification_binary(y_train, y_pred, 'Diabetes',[1], matrix)"
      ],
      "execution_count": 33,
      "outputs": [
        {
          "output_type": "stream",
          "name": "stdout",
          "text": [
            "Accuracy 0.7777777777777778\n",
            "Kappa 0.4597968962940169\n",
            "----------------------------------------------------------- \n",
            "\n",
            "Metrics of Diabetes\n",
            "Precision 0.8067226890756303\n",
            "Recall:  0.47761194029850745\n",
            "Specificity 0.9386666666666666\n",
            "F1-score      :  0.6\n"
          ]
        }
      ]
    },
    {
      "cell_type": "code",
      "metadata": {
        "colab": {
          "base_uri": "https://localhost:8080/",
          "height": 339
        },
        "id": "UVYZw9uPnarD",
        "outputId": "b76fff79-8e60-4b80-f5cd-b59774e1d718"
      },
      "source": [
        "# Datos de test\n",
        "y_pred = model_final.predict(X_test)\n",
        "matrix = matrix_confusion(y_test, y_pred, 'Diabetes' , 'Sick', 'healthy')"
      ],
      "execution_count": 35,
      "outputs": [
        {
          "output_type": "display_data",
          "data": {
            "image/png": "[encoded data removed]",
            "text/plain": [
              "<Figure size 432x360 with 2 Axes>"
            ]
          },
          "metadata": {
            "needs_background": "light"
          }
        }
      ]
    },
    {
      "cell_type": "code",
      "metadata": {
        "colab": {
          "base_uri": "https://localhost:8080/"
        },
        "id": "y4dT2_sCnvcp",
        "outputId": "5d7d42b2-54bc-42ee-d4c7-debe6e972ccc"
      },
      "source": [
        "metrics_clasification_binary(y_test, y_pred, 'Diabetes',[1], matrix)"
      ],
      "execution_count": 36,
      "outputs": [
        {
          "output_type": "stream",
          "name": "stdout",
          "text": [
            "Accuracy 0.7395833333333334\n",
            "Kappa 0.3554451456962535\n",
            "----------------------------------------------------------- \n",
            "\n",
            "Metrics of Diabetes\n",
            "Precision 0.7428571428571429\n",
            "Recall:  0.3880597014925373\n",
            "Specificity 0.928\n",
            "F1-score      :  0.5098039215686275\n"
          ]
        }
      ]
    },
    {
      "cell_type": "markdown",
      "metadata": {
        "id": "hmpWiflqn8jD"
      },
      "source": [
        "El modelo empero,en comparación al ejercicio pasado. La sensibilidad se redujo "
      ]
    }
  ]
}