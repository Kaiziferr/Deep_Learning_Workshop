{
  "nbformat": 4,
  "nbformat_minor": 0,
  "metadata": {
    "colab": {
      "name": "08_workshop_dropout.ipynb",
      "provenance": [],
      "collapsed_sections": [],
      "authorship_tag": "ABX9TyOoDRLo6mrjOzjWayKMLeCC",
      "include_colab_link": true
    },
    "kernelspec": {
      "name": "python3",
      "display_name": "Python 3"
    },
    "language_info": {
      "name": "python"
    }
  },
  "cells": [
    {
      "cell_type": "markdown",
      "metadata": {
        "id": "view-in-github",
        "colab_type": "text"
      },
      "source": [
        "<a href=\"https://colab.research.google.com/github/Kaiziferr/Deep_Learning_Workshop/blob/master/Sequential/08_workshop_dropout.ipynb\" target=\"_parent\"><img src=\"https://colab.research.google.com/assets/colab-badge.svg\" alt=\"Open In Colab\"/></a>"
      ]
    },
    {
      "cell_type": "code",
      "metadata": {
        "id": "igQ7ynbJFmqK"
      },
      "source": [
        "import pandas as pd\n",
        "from keras.models import Sequential\n",
        "from keras.layers import Dense, Dropout\n",
        "\n",
        "# Se utiliza para que los pesos no pase mayor a tres\n",
        "from keras.constraints import maxnorm\n",
        "from keras.wrappers.scikit_learn import KerasClassifier\n",
        "from keras.optimizers import SGD\n",
        "from sklearn.model_selection import cross_val_score, StratifiedKFold\n",
        "from sklearn.preprocessing import LabelEncoder, StandardScaler\n",
        "from sklearn.pipeline import Pipeline"
      ],
      "execution_count": 1,
      "outputs": []
    },
    {
      "cell_type": "code",
      "metadata": {
        "id": "EtG0tTeIOf60"
      },
      "source": [
        "url = 'https://raw.githubusercontent.com/Kaiziferr/Deep_Learning_Workshop/master/workshop_clasification_binary_multiclass/sonar_csv.csv'\n",
        "data = pd.read_csv(url)\n",
        "data_values = data.values"
      ],
      "execution_count": 2,
      "outputs": []
    },
    {
      "cell_type": "code",
      "metadata": {
        "id": "bjGKQPW-PMfi"
      },
      "source": [
        "X = data_values[:, 0:60].astype('float64')\n",
        "y = data_values[:, 60]"
      ],
      "execution_count": 3,
      "outputs": []
    },
    {
      "cell_type": "code",
      "metadata": {
        "id": "ols-FOKtPs1i"
      },
      "source": [
        "#Encoder\n",
        "encoder = LabelEncoder()\n",
        "encoder_y = encoder.fit_transform(y)"
      ],
      "execution_count": 4,
      "outputs": []
    },
    {
      "cell_type": "code",
      "metadata": {
        "id": "92pTbTG8P52L"
      },
      "source": [
        "def base_model():\n",
        "  model = Sequential()\n",
        "  model.add(Dense(60, input_dim = 60, activation='relu'))\n",
        "  model.add(Dense(30, activation='relu'))\n",
        "  model.add(Dense(1, activation='sigmoid'))\n",
        "  #lr tasa de aprendizaje\n",
        "  sgd = SGD(learning_rate = 0.01, momentum = 0.8)\n",
        "  model.compile(loss = 'binary_crossentropy', optimizer = sgd, metrics = ['accuracy'])\n",
        "  return model"
      ],
      "execution_count": 5,
      "outputs": []
    },
    {
      "cell_type": "code",
      "metadata": {
        "id": "PsCIsnf0QndO"
      },
      "source": [
        "estimator = []\n",
        "estimator.append(('standarize', StandardScaler()))\n",
        "estimator.append(('MLP', KerasClassifier(build_fn=base_model, epochs = 300, batch_size = 16, verbose = 0)))"
      ],
      "execution_count": 6,
      "outputs": []
    },
    {
      "cell_type": "code",
      "metadata": {
        "colab": {
          "base_uri": "https://localhost:8080/"
        },
        "id": "HvsPXpy0RgFt",
        "outputId": "45290d92-ad33-4d40-d0cb-e5ea1b2d419a"
      },
      "source": [
        "pipeline = Pipeline(estimator)\n",
        "kfold = StratifiedKFold(n_splits=10, shuffle=True)\n",
        "results = cross_val_score(pipeline, X, encoder_y, cv = kfold)\n",
        "print(\" Modelo de linea base: %.2f%% (%.2f%%)\" % (results.mean()*100, results.std()*100))"
      ],
      "execution_count": 7,
      "outputs": [
        {
          "output_type": "stream",
          "text": [
            "WARNING:tensorflow:5 out of the last 9 calls to <function Model.make_test_function.<locals>.test_function at 0x7f4cb9ae8320> triggered tf.function retracing. Tracing is expensive and the excessive number of tracings could be due to (1) creating @tf.function repeatedly in a loop, (2) passing tensors with different shapes, (3) passing Python objects instead of tensors. For (1), please define your @tf.function outside of the loop. For (2), @tf.function has experimental_relax_shapes=True option that relaxes argument shapes that can avoid unnecessary retracing. For (3), please refer to https://www.tensorflow.org/guide/function#controlling_retracing and https://www.tensorflow.org/api_docs/python/tf/function for  more details.\n",
            "WARNING:tensorflow:6 out of the last 11 calls to <function Model.make_test_function.<locals>.test_function at 0x7f4cb323f440> triggered tf.function retracing. Tracing is expensive and the excessive number of tracings could be due to (1) creating @tf.function repeatedly in a loop, (2) passing tensors with different shapes, (3) passing Python objects instead of tensors. For (1), please define your @tf.function outside of the loop. For (2), @tf.function has experimental_relax_shapes=True option that relaxes argument shapes that can avoid unnecessary retracing. For (3), please refer to https://www.tensorflow.org/guide/function#controlling_retracing and https://www.tensorflow.org/api_docs/python/tf/function for  more details.\n",
            " Modelo de linea base: 83.62% (8.90%)\n"
          ],
          "name": "stdout"
        }
      ]
    },
    {
      "cell_type": "markdown",
      "metadata": {
        "id": "p61YVhupSRJU"
      },
      "source": [
        "#Droput Capa Entrada"
      ]
    },
    {
      "cell_type": "code",
      "metadata": {
        "id": "kTDg0GJOSWGy"
      },
      "source": [
        "#Tasa de dropout del 20%\n",
        "# Se impone una restricción en los pesos para cada capa oculta con la norma maxima de los pesos para que no exceda 3, estableciendo el argumento de kernel_constraint en la clase Dense\n",
        "# Aumentar la tasa de aprendizaje y el momentum\n",
        "\n",
        "def input_dropout_model():\n",
        "  model = Sequential()\n",
        "  model.add(Dropout(0.2, input_shape = (60,)))\n",
        "  model.add(Dense(60, activation = 'relu', kernel_constraint=maxnorm(3)))\n",
        "  model.add(Dense(30, activation='relu', kernel_constraint=maxnorm(3)))\n",
        "  model.add(Dense(1, activation='sigmoid'))\n",
        "\n",
        "  sgd = SGD(learning_rate = 0.01, momentum=0.9)\n",
        "  model.compile(loss = 'binary_crossentropy', optimizer = sgd, metrics = ['accuracy'])\n",
        "  return model"
      ],
      "execution_count": 8,
      "outputs": []
    },
    {
      "cell_type": "code",
      "metadata": {
        "colab": {
          "base_uri": "https://localhost:8080/"
        },
        "id": "8WVTza2rUIJj",
        "outputId": "90537ca3-de3e-4792-aed5-695326e74137"
      },
      "source": [
        "estimator = []\n",
        "estimator.append(('standarize', StandardScaler()))\n",
        "estimator.append(('MLP', KerasClassifier(build_fn=input_dropout_model, epochs = 300, batch_size = 16, verbose = 0)))\n",
        "\n",
        "pipeline = Pipeline(estimator)\n",
        "kfold = StratifiedKFold(n_splits=10, shuffle=True)\n",
        "\n",
        "results = cross_val_score(pipeline, X, encoder_y, cv = kfold)\n",
        "print(\" Modelo de Dropout en la entrada: %.2f%% (%.2f%%)\" % (results.mean()*100, results.std()*100))"
      ],
      "execution_count": 9,
      "outputs": [
        {
          "output_type": "stream",
          "text": [
            " Modelo de Dropout en la entrada: 87.98% (6.56%)\n"
          ],
          "name": "stdout"
        }
      ]
    },
    {
      "cell_type": "code",
      "metadata": {
        "id": "-cwaC15oVwlL"
      },
      "source": [
        "\n",
        "def dropout_hidden_model():\n",
        "  model = Sequential()\n",
        "  model.add(Dense(60, input_dim = 60, activation='relu', kernel_constraint=maxnorm(1)))\n",
        "  model.add(Dropout(0.2))\n",
        "  model.add(Dense(30, activation='relu', kernel_constraint=maxnorm(1)))\n",
        "  model.add(Dropout(0.2))\n",
        "  model.add(Dense(1, activation='sigmoid'))\n",
        "\n",
        "  sgd = SGD(learning_rate=0.1, momentum=0.9)\n",
        "  model.compile(loss = 'binary_crossentropy', optimizer=sgd, metrics = ['accuracy'])\n",
        "\n",
        "  return model"
      ],
      "execution_count": 10,
      "outputs": []
    },
    {
      "cell_type": "code",
      "metadata": {
        "colab": {
          "base_uri": "https://localhost:8080/"
        },
        "id": "QbPn-oA-V2v7",
        "outputId": "b1cb3b09-e04e-4cd6-aeec-3afeea153b1e"
      },
      "source": [
        "estimator = []\n",
        "estimator.append(('standarize',StandardScaler()))\n",
        "estimator.append(('MLP', KerasClassifier(build_fn=dropout_hidden_model, epochs = 300, batch_size=16,verbose=0)))\n",
        "\n",
        "pipeline = Pipeline(estimator)\n",
        "kfold = StratifiedKFold(n_splits=10, shuffle=True)\n",
        "\n",
        "results = cross_val_score(pipeline, X, encoder_y, cv=kfold)\n",
        "print(\" Modelo de Dropout en la capa oculta: %.2f%% (%.2f%%)\" % (results.mean()*100, results.std()*100))"
      ],
      "execution_count": 11,
      "outputs": [
        {
          "output_type": "stream",
          "text": [
            " Modelo de Dropout en la capa oculta: 83.67% (7.41%)\n"
          ],
          "name": "stdout"
        }
      ]
    },
    {
      "cell_type": "markdown",
      "metadata": {
        "id": "_Qf0Hr1YVPls"
      },
      "source": [
        "# Recomendaciones\n",
        "\n",
        "\n",
        "1.   Utilizar por lo general un valor de Dropout del 20% - 50%\n",
        "2.   Utilizar drooupt en la entrada(Capa visible) y capas ocultas\n",
        "3.   Utilizar una gran tasa de aprendizaje (aumentar el factor de 0.01 a 10% o 100%) y un momentum de 0.9 a 0.99\n",
        "4.   Restrinja el tamaño de los pesos de la red. Una gran tasa de aprendizaje puede resultar en pesos de red muy grandes"
      ]
    }
  ]
}