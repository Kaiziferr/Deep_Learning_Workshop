{
  "nbformat": 4,
  "nbformat_minor": 0,
  "metadata": {
    "colab": {
      "name": "03_workshop_binary_clasification.ipynb",
      "provenance": [],
      "collapsed_sections": [],
      "authorship_tag": "ABX9TyNk1/hyUQO8eW/BDdOS3kF0",
      "include_colab_link": true
    },
    "kernelspec": {
      "name": "python3",
      "display_name": "Python 3"
    },
    "language_info": {
      "name": "python"
    }
  },
  "cells": [
    {
      "cell_type": "markdown",
      "metadata": {
        "id": "view-in-github",
        "colab_type": "text"
      },
      "source": [
        "<a href=\"https://colab.research.google.com/github/Kaiziferr/Deep_Learning_Workshop/blob/master/Sequential/03_workshop_binary_clasification.ipynb\" target=\"_parent\"><img src=\"https://colab.research.google.com/assets/colab-badge.svg\" alt=\"Open In Colab\"/></a>"
      ]
    },
    {
      "cell_type": "code",
      "metadata": {
        "id": "nUIx9QRkpZZp"
      },
      "source": [
        "import pandas as pd\n",
        "\n",
        "from keras.models import Sequential\n",
        "from keras.layers import Dense\n",
        "from keras.wrappers.scikit_learn import KerasClassifier\n",
        "\n",
        "from sklearn.model_selection import train_test_split, cross_val_score, StratifiedKFold\n",
        "from sklearn.preprocessing import LabelEncoder"
      ],
      "execution_count": 15,
      "outputs": []
    },
    {
      "cell_type": "code",
      "metadata": {
        "id": "T8e7HYF2uDjx"
      },
      "source": [
        "data = pd.read_csv('https://raw.githubusercontent.com/Kaiziferr/Deep_Learning_Workshop/master/workshop_clasification_binary_multiclass/sonar_csv.csv')\n",
        "data_values = data.values"
      ],
      "execution_count": 4,
      "outputs": []
    },
    {
      "cell_type": "code",
      "metadata": {
        "id": "r2gzl-KVuK5A"
      },
      "source": [
        "def base_model():\n",
        "  model = Sequential()\n",
        "  model.add(Dense(60, input_dim = 60, kernel_initializer = 'glorot_uniform',activation='relu'))\n",
        "  model.add(Dense(1, kernel_initializer = 'glorot_uniform', activation='sigmoid'))\n",
        "  model.compile(loss='binary_crossentropy', optimizer = 'adam', metrics = ['accuracy'])\n",
        "  return model"
      ],
      "execution_count": 54,
      "outputs": []
    },
    {
      "cell_type": "markdown",
      "metadata": {
        "id": "afFNiqLYvSbu"
      },
      "source": [
        "# Split"
      ]
    },
    {
      "cell_type": "code",
      "metadata": {
        "id": "F96uw0G9u-a3"
      },
      "source": [
        "X = data_values[:,0:60].astype('float')\n",
        "y = data_values[:,60]"
      ],
      "execution_count": 24,
      "outputs": []
    },
    {
      "cell_type": "markdown",
      "metadata": {
        "id": "wPskPlykvcmu"
      },
      "source": [
        "# Encoder"
      ]
    },
    {
      "cell_type": "code",
      "metadata": {
        "colab": {
          "base_uri": "https://localhost:8080/"
        },
        "id": "41rT1JVJvb64",
        "outputId": "fc41cc7f-b9e9-4f6d-ce3c-63fda6e8551d"
      },
      "source": [
        "encoder = LabelEncoder()\n",
        "encoder_y = encoder.fit_transform(y)\n",
        "encoder_y"
      ],
      "execution_count": 18,
      "outputs": [
        {
          "output_type": "execute_result",
          "data": {
            "text/plain": [
              "array([1, 1, 1, 1, 1, 1, 1, 1, 1, 1, 1, 1, 1, 1, 1, 1, 1, 1, 1, 1, 1, 1,\n",
              "       1, 1, 1, 1, 1, 1, 1, 1, 1, 1, 1, 1, 1, 1, 1, 1, 1, 1, 1, 1, 1, 1,\n",
              "       1, 1, 1, 1, 1, 1, 1, 1, 1, 1, 1, 1, 1, 1, 1, 1, 1, 1, 1, 1, 1, 1,\n",
              "       1, 1, 1, 1, 1, 1, 1, 1, 1, 1, 1, 1, 1, 1, 1, 1, 1, 1, 1, 1, 1, 1,\n",
              "       1, 1, 1, 1, 1, 1, 1, 1, 1, 0, 0, 0, 0, 0, 0, 0, 0, 0, 0, 0, 0, 0,\n",
              "       0, 0, 0, 0, 0, 0, 0, 0, 0, 0, 0, 0, 0, 0, 0, 0, 0, 0, 0, 0, 0, 0,\n",
              "       0, 0, 0, 0, 0, 0, 0, 0, 0, 0, 0, 0, 0, 0, 0, 0, 0, 0, 0, 0, 0, 0,\n",
              "       0, 0, 0, 0, 0, 0, 0, 0, 0, 0, 0, 0, 0, 0, 0, 0, 0, 0, 0, 0, 0, 0,\n",
              "       0, 0, 0, 0, 0, 0, 0, 0, 0, 0, 0, 0, 0, 0, 0, 0, 0, 0, 0, 0, 0, 0,\n",
              "       0, 0, 0, 0, 0, 0, 0, 0, 0, 0])"
            ]
          },
          "metadata": {},
          "execution_count": 18
        }
      ]
    },
    {
      "cell_type": "code",
      "metadata": {
        "id": "eIn7PsP7w2tu"
      },
      "source": [
        "estimator = KerasClassifier(build_fn=create_model, epochs=100, batch_size = 5, verbose = 0)\n",
        "\n",
        "kfold = StratifiedKFold(n_splits=10, shuffle=True)\n",
        "results = cross_val_score(estimator, X, encoder_y, cv = kfold)"
      ],
      "execution_count": 25,
      "outputs": []
    },
    {
      "cell_type": "code",
      "metadata": {
        "colab": {
          "base_uri": "https://localhost:8080/"
        },
        "id": "I2LGxqX3y-ak",
        "outputId": "86051727-0473-4b1c-e934-80d274a66029"
      },
      "source": [
        "print(\" Line base: %.2f%% (%.2f%%)\" % (results.mean()*100, results.std()*100))"
      ],
      "execution_count": 26,
      "outputs": [
        {
          "output_type": "stream",
          "name": "stdout",
          "text": [
            " Line base: 82.74% (7.96%)\n"
          ]
        }
      ]
    },
    {
      "cell_type": "markdown",
      "metadata": {
        "id": "L89N3Aqy3Tsx"
      },
      "source": [
        "# Optimizar el rendimiento con procesamiento de datos"
      ]
    },
    {
      "cell_type": "code",
      "metadata": {
        "id": "V3gtpZx43Se2"
      },
      "source": [
        "from sklearn.preprocessing import StandardScaler\n",
        "from sklearn.pipeline import Pipeline"
      ],
      "execution_count": 53,
      "outputs": []
    },
    {
      "cell_type": "code",
      "metadata": {
        "id": "YbS0N1Vv3jHd"
      },
      "source": [
        "estimator = []\n",
        "estimator.append(('standarize', StandardScaler()))\n",
        "estimator.append(('mlp', KerasClassifier(build_fn=base_model, epochs = 100, batch_size = 5, verbose = 0)))"
      ],
      "execution_count": 55,
      "outputs": []
    },
    {
      "cell_type": "code",
      "metadata": {
        "colab": {
          "base_uri": "https://localhost:8080/"
        },
        "id": "DKI84qHh4Ur5",
        "outputId": "16527e4d-768f-4a6b-a567-774bbf741265"
      },
      "source": [
        "pipeline = Pipeline(estimator)\n",
        "kfold = StratifiedKFold(n_splits=10, shuffle=True)\n",
        "results = cross_val_score(pipeline, X, encoder_y, cv = kfold)\n",
        "print(\"Modelo Estandarizado: %.2f%% (%.2f%%)\" % (results.mean()*100, results.std()*100))"
      ],
      "execution_count": 56,
      "outputs": [
        {
          "output_type": "stream",
          "name": "stdout",
          "text": [
            "Modelo Estandarizado: 85.10% (7.54%)\n"
          ]
        }
      ]
    },
    {
      "cell_type": "markdown",
      "metadata": {
        "id": "9DVMn7m75Bj-"
      },
      "source": [
        "# Topologia Pequeña"
      ]
    },
    {
      "cell_type": "code",
      "metadata": {
        "id": "1nBlcqRB5GY8"
      },
      "source": [
        "def create_smaller():\n",
        "  model = Sequential()\n",
        "  model.add(Dense(30, input_dim=60,kernel_initializer = 'glorot_uniform',activation='relu'))\n",
        "  model.add(Dense(1, kernel_initializer = 'glorot_uniform', activation='sigmoid'))\n",
        "\n",
        "  model.compile(loss= 'binary_crossentropy', optimizer='adam', metrics=['accuracy'])\n",
        "  return model"
      ],
      "execution_count": 58,
      "outputs": []
    },
    {
      "cell_type": "code",
      "metadata": {
        "colab": {
          "base_uri": "https://localhost:8080/"
        },
        "id": "3-7oNuHe6Bke",
        "outputId": "2f801eba-340e-44b6-d426-b0ead7c983ea"
      },
      "source": [
        "estimators = []\n",
        "estimators.append(('standarize', StandardScaler()))\n",
        "estimators.append(('mlp', KerasClassifier(build_fn=create_smaller, epochs=100, batch_size = 5, verbose = 0)))\n",
        "\n",
        "pipeline = Pipeline(estimator)\n",
        "kfold = StratifiedKFold(n_splits=10, shuffle=True)\n",
        "results = cross_val_score(pipeline, X, encoder_y, cv = kfold)\n",
        "print(\"Modelo Estandarizado: %.2f%% (%.2f%%)\" % (results.mean()*100, results.std()*100))"
      ],
      "execution_count": 60,
      "outputs": [
        {
          "output_type": "stream",
          "name": "stdout",
          "text": [
            "Modelo Estandarizado: 86.57% (6.30%)\n"
          ]
        }
      ]
    },
    {
      "cell_type": "markdown",
      "metadata": {
        "id": "kM5VugZL7b87"
      },
      "source": [
        "# Topologia grande"
      ]
    },
    {
      "cell_type": "code",
      "metadata": {
        "id": "lOdDZZOR7e3S"
      },
      "source": [
        "def create_large():\n",
        "  model = Sequential()\n",
        "  model.add(Dense(60, input_dim = 60, kernel_initializer = 'glorot_uniform', activation = 'relu'))\n",
        "  model.add(Dense(30, kernel_initializer = 'glorot_uniform', activation = 'relu'))\n",
        "  model.add(Dense(1, activation = 'sigmoid'))\n",
        "\n",
        "  model.compile(loss = 'binary_crossentropy', optimizer = 'adam', metrics = ['accuracy'])\n",
        "  return model"
      ],
      "execution_count": 62,
      "outputs": []
    },
    {
      "cell_type": "code",
      "metadata": {
        "colab": {
          "base_uri": "https://localhost:8080/"
        },
        "id": "PA3z2vzt8PC4",
        "outputId": "4e27cd6d-ba2d-4d9b-8d68-cd9898b3173d"
      },
      "source": [
        "estimators = []\n",
        "estimators.append(('standarize', StandardScaler()))\n",
        "estimators.append(('mlp', KerasClassifier(build_fn=create_large, epochs=100, batch_size = 5, verbose = 0)))\n",
        "\n",
        "pipeline = Pipeline(estimators)\n",
        "kfold = StratifiedKFold(n_splits=10, shuffle=True)\n",
        "results = cross_val_score(pipeline, X, encoder_y, cv = kfold)\n",
        "print(\"Modelo Estandarizado: %.2f%% (%.2f%%)\" % (results.mean()*100, results.std()*100))"
      ],
      "execution_count": 63,
      "outputs": [
        {
          "output_type": "stream",
          "name": "stdout",
          "text": [
            "Modelo Estandarizado: 89.40% (5.18%)\n"
          ]
        }
      ]
    },
    {
      "cell_type": "markdown",
      "metadata": {
        "id": "XQtexwl49UY0"
      },
      "source": [
        "- La topología grande es la que mejor resultado tubo con respecto al resto de estructuras probadas, ya que la media de su accuracy es la más alta y su desviación es la más cercana. \n",
        "\n",
        "- Mucha dispersión frente a la media en los resultados no es recomendado."
      ]
    }
  ]
}