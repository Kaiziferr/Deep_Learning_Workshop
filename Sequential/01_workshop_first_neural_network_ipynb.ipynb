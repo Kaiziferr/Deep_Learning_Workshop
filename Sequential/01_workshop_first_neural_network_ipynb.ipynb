{
  "nbformat": 4,
  "nbformat_minor": 0,
  "metadata": {
    "colab": {
      "name": "01_workshop_first_neural_network.ipynb.ipynb",
      "provenance": [],
      "authorship_tag": "ABX9TyMEyiy/eNcgokG4MglKlN2f",
      "include_colab_link": true
    },
    "kernelspec": {
      "name": "python3",
      "display_name": "Python 3"
    },
    "language_info": {
      "name": "python"
    }
  },
  "cells": [
    {
      "cell_type": "markdown",
      "metadata": {
        "id": "view-in-github",
        "colab_type": "text"
      },
      "source": [
        "<a href=\"https://colab.research.google.com/github/Kaiziferr/Deep_Learning_Workshop/blob/master/Sequential/01_workshop_first_neural_network_ipynb.ipynb\" target=\"_parent\"><img src=\"https://colab.research.google.com/assets/colab-badge.svg\" alt=\"Open In Colab\"/></a>"
      ]
    },
    {
      "cell_type": "code",
      "metadata": {
        "id": "eOg3UbwJYhHh"
      },
      "source": [
        "import pandas as pd\n",
        "import numpy as np\n",
        "from keras.models import Sequential\n",
        "from keras.layers import Dense\n",
        "from sklearn.model_selection import train_test_split "
      ],
      "execution_count": 1,
      "outputs": []
    },
    {
      "cell_type": "code",
      "metadata": {
        "id": "NisRzPIFs9Ah"
      },
      "source": [
        "data = pd.read_csv('https://raw.githubusercontent.com/Kaiziferr/Deep_Learning_Workshop/master/workshop_keras_sklearn_introduction/diabetes.csv')\n",
        "data_values = data.values"
      ],
      "execution_count": 2,
      "outputs": []
    },
    {
      "cell_type": "code",
      "metadata": {
        "colab": {
          "base_uri": "https://localhost:8080/",
          "height": 112
        },
        "id": "5elupNKltKNB",
        "outputId": "a41cf940-6f55-4dda-dde7-6a503e4f82d2"
      },
      "source": [
        "data.head(2)"
      ],
      "execution_count": 3,
      "outputs": [
        {
          "output_type": "execute_result",
          "data": {
            "text/html": [
              "<div>\n",
              "<style scoped>\n",
              "    .dataframe tbody tr th:only-of-type {\n",
              "        vertical-align: middle;\n",
              "    }\n",
              "\n",
              "    .dataframe tbody tr th {\n",
              "        vertical-align: top;\n",
              "    }\n",
              "\n",
              "    .dataframe thead th {\n",
              "        text-align: right;\n",
              "    }\n",
              "</style>\n",
              "<table border=\"1\" class=\"dataframe\">\n",
              "  <thead>\n",
              "    <tr style=\"text-align: right;\">\n",
              "      <th></th>\n",
              "      <th>Pregnancies</th>\n",
              "      <th>Glucose</th>\n",
              "      <th>BloodPressure</th>\n",
              "      <th>SkinThickness</th>\n",
              "      <th>Insulin</th>\n",
              "      <th>BMI</th>\n",
              "      <th>DiabetesPedigreeFunction</th>\n",
              "      <th>Age</th>\n",
              "      <th>Outcome</th>\n",
              "    </tr>\n",
              "  </thead>\n",
              "  <tbody>\n",
              "    <tr>\n",
              "      <th>0</th>\n",
              "      <td>6</td>\n",
              "      <td>148</td>\n",
              "      <td>72</td>\n",
              "      <td>35</td>\n",
              "      <td>0</td>\n",
              "      <td>33.6</td>\n",
              "      <td>0.627</td>\n",
              "      <td>50</td>\n",
              "      <td>1</td>\n",
              "    </tr>\n",
              "    <tr>\n",
              "      <th>1</th>\n",
              "      <td>1</td>\n",
              "      <td>85</td>\n",
              "      <td>66</td>\n",
              "      <td>29</td>\n",
              "      <td>0</td>\n",
              "      <td>26.6</td>\n",
              "      <td>0.351</td>\n",
              "      <td>31</td>\n",
              "      <td>0</td>\n",
              "    </tr>\n",
              "  </tbody>\n",
              "</table>\n",
              "</div>"
            ],
            "text/plain": [
              "   Pregnancies  Glucose  BloodPressure  ...  DiabetesPedigreeFunction  Age  Outcome\n",
              "0            6      148             72  ...                     0.627   50        1\n",
              "1            1       85             66  ...                     0.351   31        0\n",
              "\n",
              "[2 rows x 9 columns]"
            ]
          },
          "metadata": {
            "tags": []
          },
          "execution_count": 3
        }
      ]
    },
    {
      "cell_type": "code",
      "metadata": {
        "id": "MJyXgSfktN6v"
      },
      "source": [
        "#data split\n",
        "X = data_values[:,0:8]\n",
        "y = data_values[:,8]"
      ],
      "execution_count": 4,
      "outputs": []
    },
    {
      "cell_type": "markdown",
      "metadata": {
        "id": "djr2vMgBzgoA"
      },
      "source": [
        "# Holdout"
      ]
    },
    {
      "cell_type": "code",
      "metadata": {
        "id": "t0ZqddJAzdYP"
      },
      "source": [
        "X_train, X_test, y_train, y_test = train_test_split(X,y, train_size = 0.8)"
      ],
      "execution_count": 5,
      "outputs": []
    },
    {
      "cell_type": "markdown",
      "metadata": {
        "id": "-fGd9Mrutuvo"
      },
      "source": [
        "#Definir modelo\n",
        "- Modelo secuencial\n",
        "- Se define neuronas y las funciones de activación de la capas intermedias\n",
        "- Definir la capa de salida y la función de activación\n",
        "  - Capa de entrada de 8 entradas\n",
        "  - Capa oculta de 12 neuronas (Función Relu) y 8 neuronas (Función Relu)\n",
        "  - Capa de salida (Función sigmoide)\n",
        "\n",
        "\n"
      ]
    },
    {
      "cell_type": "code",
      "metadata": {
        "id": "kImNL53JuWfB"
      },
      "source": [
        "model = Sequential()\n",
        "model.add(Dense(12, input_dim = 8, activation='relu'))\n",
        "model.add(Dense(8, activation='relu'))\n",
        "model.add(Dense(1, activation='sigmoid'))"
      ],
      "execution_count": 6,
      "outputs": []
    },
    {
      "cell_type": "markdown",
      "metadata": {
        "id": "9wHGTGjLv8H4"
      },
      "source": [
        "# Compile de model"
      ]
    },
    {
      "cell_type": "code",
      "metadata": {
        "id": "4zAuzqU0vHwJ"
      },
      "source": [
        "model.compile(loss='binary_crossentropy', optimizer='adam', metrics=['accuracy'])"
      ],
      "execution_count": 7,
      "outputs": []
    },
    {
      "cell_type": "markdown",
      "metadata": {
        "id": "KqpbOHbiv_Cv"
      },
      "source": [
        "# Ajustar el modelo"
      ]
    },
    {
      "cell_type": "code",
      "metadata": {
        "colab": {
          "base_uri": "https://localhost:8080/"
        },
        "id": "d82D810ewCfo",
        "outputId": "c9cfef18-92d5-4f75-99fd-42c98f09fa67"
      },
      "source": [
        "model.fit(X_train, y_train, epochs=150, batch_size=16, verbose=0)"
      ],
      "execution_count": 8,
      "outputs": [
        {
          "output_type": "execute_result",
          "data": {
            "text/plain": [
              "<keras.callbacks.History at 0x7facf738fdd0>"
            ]
          },
          "metadata": {
            "tags": []
          },
          "execution_count": 8
        }
      ]
    },
    {
      "cell_type": "markdown",
      "metadata": {
        "id": "RyyQuViowNBw"
      },
      "source": [
        "#Evaluar un modelo"
      ]
    },
    {
      "cell_type": "code",
      "metadata": {
        "colab": {
          "base_uri": "https://localhost:8080/"
        },
        "id": "Mao4Oqw2wkkA",
        "outputId": "1868c649-4d0f-407a-8dd1-b688f114ef6e"
      },
      "source": [
        "# Problema de ajuste\n",
        "loss, accuracy = model.evaluate(X_train,y_train)\n",
        "print('Accuracy: %.2f' % (accuracy))\n",
        "print('Loss: %.2f' % (loss))"
      ],
      "execution_count": 9,
      "outputs": [
        {
          "output_type": "stream",
          "text": [
            "20/20 [==============================] - 0s 2ms/step - loss: 0.4542 - accuracy: 0.7948\n",
            "Accuracy: 0.79\n",
            "Loss: 0.45\n"
          ],
          "name": "stdout"
        }
      ]
    },
    {
      "cell_type": "code",
      "metadata": {
        "colab": {
          "base_uri": "https://localhost:8080/"
        },
        "id": "Vo6S4SuJx-_z",
        "outputId": "1526ff60-89fa-4bd8-9f87-6101adf85f79"
      },
      "source": [
        "model.summary()"
      ],
      "execution_count": 10,
      "outputs": [
        {
          "output_type": "stream",
          "text": [
            "Model: \"sequential\"\n",
            "_________________________________________________________________\n",
            "Layer (type)                 Output Shape              Param #   \n",
            "=================================================================\n",
            "dense (Dense)                (None, 12)                108       \n",
            "_________________________________________________________________\n",
            "dense_1 (Dense)              (None, 8)                 104       \n",
            "_________________________________________________________________\n",
            "dense_2 (Dense)              (None, 1)                 9         \n",
            "=================================================================\n",
            "Total params: 221\n",
            "Trainable params: 221\n",
            "Non-trainable params: 0\n",
            "_________________________________________________________________\n"
          ],
          "name": "stdout"
        }
      ]
    },
    {
      "cell_type": "code",
      "metadata": {
        "colab": {
          "base_uri": "https://localhost:8080/"
        },
        "id": "I0Hh9nuCzAVf",
        "outputId": "62852b35-9bdb-4d5b-809f-ae8baec8dacf"
      },
      "source": [
        "# Problema de estimación\n",
        "loss, accuracy = model.evaluate(X_test, y_test)\n",
        "print('Accuracy: %.2f' % (accuracy))\n",
        "print('Loss: %.2f' % (loss))"
      ],
      "execution_count": 11,
      "outputs": [
        {
          "output_type": "stream",
          "text": [
            "5/5 [==============================] - 0s 2ms/step - loss: 0.6555 - accuracy: 0.7013\n",
            "Accuracy: 0.70\n",
            "Loss: 0.66\n"
          ],
          "name": "stdout"
        }
      ]
    },
    {
      "cell_type": "markdown",
      "metadata": {
        "id": "iRDqwaYu7rAF"
      },
      "source": [
        "- El modelo tiene un ligero sobreajuste"
      ]
    },
    {
      "cell_type": "markdown",
      "metadata": {
        "id": "tPJ3l2hc7cYW"
      },
      "source": [
        "# Predicciones"
      ]
    },
    {
      "cell_type": "code",
      "metadata": {
        "id": "s_RD_hM17fAv"
      },
      "source": [
        "predictions = (model.predict(X_test)>0.5).astype('int')"
      ],
      "execution_count": 12,
      "outputs": []
    },
    {
      "cell_type": "code",
      "metadata": {
        "colab": {
          "base_uri": "https://localhost:8080/"
        },
        "id": "wNfnHH6G790W",
        "outputId": "8a47ca82-054e-4937-add4-1027137bc7f4"
      },
      "source": [
        "for i in range(15):\n",
        "  print('%s --> %d (real %d)' % (X_test[i].tolist(), predictions[i], y_test[i]))"
      ],
      "execution_count": 13,
      "outputs": [
        {
          "output_type": "stream",
          "text": [
            "[0.0, 167.0, 0.0, 0.0, 0.0, 32.3, 0.8390000000000001, 30.0] --> 1 (real 1)\n",
            "[1.0, 92.0, 62.0, 25.0, 41.0, 19.5, 0.48200000000000004, 25.0] --> 0 (real 0)\n",
            "[0.0, 124.0, 70.0, 20.0, 0.0, 27.4, 0.254, 36.0] --> 0 (real 1)\n",
            "[7.0, 160.0, 54.0, 32.0, 175.0, 30.5, 0.588, 39.0] --> 0 (real 1)\n",
            "[0.0, 124.0, 56.0, 13.0, 105.0, 21.8, 0.452, 21.0] --> 0 (real 0)\n",
            "[8.0, 196.0, 76.0, 29.0, 280.0, 37.5, 0.605, 57.0] --> 1 (real 1)\n",
            "[5.0, 147.0, 75.0, 0.0, 0.0, 29.9, 0.434, 28.0] --> 0 (real 0)\n",
            "[4.0, 171.0, 72.0, 0.0, 0.0, 43.6, 0.479, 26.0] --> 1 (real 1)\n",
            "[0.0, 117.0, 66.0, 31.0, 188.0, 30.8, 0.493, 22.0] --> 0 (real 0)\n",
            "[6.0, 129.0, 90.0, 7.0, 326.0, 19.6, 0.5820000000000001, 60.0] --> 1 (real 0)\n",
            "[2.0, 68.0, 70.0, 32.0, 66.0, 25.0, 0.187, 25.0] --> 0 (real 0)\n",
            "[1.0, 139.0, 46.0, 19.0, 83.0, 28.7, 0.654, 22.0] --> 0 (real 0)\n",
            "[6.0, 114.0, 0.0, 0.0, 0.0, 0.0, 0.18899999999999997, 26.0] --> 0 (real 0)\n",
            "[2.0, 123.0, 48.0, 32.0, 165.0, 42.1, 0.52, 26.0] --> 1 (real 0)\n",
            "[9.0, 164.0, 78.0, 0.0, 0.0, 32.8, 0.14800000000000002, 45.0] --> 1 (real 1)\n"
          ],
          "name": "stdout"
        }
      ]
    },
    {
      "cell_type": "markdown",
      "metadata": {
        "id": "EkmYclYQzWA5"
      },
      "source": [
        "- "
      ]
    }
  ]
}