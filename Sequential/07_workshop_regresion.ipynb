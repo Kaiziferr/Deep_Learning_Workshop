{
  "nbformat": 4,
  "nbformat_minor": 0,
  "metadata": {
    "colab": {
      "name": "07_workshop_regresion.ipynb",
      "provenance": [],
      "authorship_tag": "ABX9TyOfoHmWjufto8QbR7W5hrUx",
      "include_colab_link": true
    },
    "kernelspec": {
      "name": "python3",
      "display_name": "Python 3"
    },
    "language_info": {
      "name": "python"
    }
  },
  "cells": [
    {
      "cell_type": "markdown",
      "metadata": {
        "id": "view-in-github",
        "colab_type": "text"
      },
      "source": [
        "<a href=\"https://colab.research.google.com/github/Kaiziferr/Deep_Learning_Workshop/blob/master/Sequential/07_workshop_regresion.ipynb\" target=\"_parent\"><img src=\"https://colab.research.google.com/assets/colab-badge.svg\" alt=\"Open In Colab\"/></a>"
      ]
    },
    {
      "cell_type": "code",
      "metadata": {
        "id": "RNWv8LVBy0Ls"
      },
      "source": [
        "import pandas as pd\n",
        "from keras.models import Sequential\n",
        "from keras.layers import Dense\n",
        "from keras.wrappers.scikit_learn import KerasRegressor\n",
        "from sklearn.model_selection import cross_val_score, KFold\n"
      ],
      "execution_count": 1,
      "outputs": []
    },
    {
      "cell_type": "code",
      "metadata": {
        "colab": {
          "base_uri": "https://localhost:8080/",
          "height": 143
        },
        "id": "AytPRtcJ4MZO",
        "outputId": "988aae7c-0481-4228-8f26-db36ecdca70b"
      },
      "source": [
        "url = 'https://raw.githubusercontent.com/eric-bunch/boston_housing/master/boston.csv'\n",
        "data = pd.read_csv(url)\n",
        "data.head(3)"
      ],
      "execution_count": 2,
      "outputs": [
        {
          "output_type": "execute_result",
          "data": {
            "text/html": [
              "<div>\n",
              "<style scoped>\n",
              "    .dataframe tbody tr th:only-of-type {\n",
              "        vertical-align: middle;\n",
              "    }\n",
              "\n",
              "    .dataframe tbody tr th {\n",
              "        vertical-align: top;\n",
              "    }\n",
              "\n",
              "    .dataframe thead th {\n",
              "        text-align: right;\n",
              "    }\n",
              "</style>\n",
              "<table border=\"1\" class=\"dataframe\">\n",
              "  <thead>\n",
              "    <tr style=\"text-align: right;\">\n",
              "      <th></th>\n",
              "      <th>CRIM</th>\n",
              "      <th>ZN</th>\n",
              "      <th>INDUS</th>\n",
              "      <th>CHAS</th>\n",
              "      <th>NOX</th>\n",
              "      <th>RM</th>\n",
              "      <th>AGE</th>\n",
              "      <th>DIS</th>\n",
              "      <th>RAD</th>\n",
              "      <th>TAX</th>\n",
              "      <th>PTRATIO</th>\n",
              "      <th>B</th>\n",
              "      <th>LSTAT</th>\n",
              "      <th>MDEV</th>\n",
              "    </tr>\n",
              "  </thead>\n",
              "  <tbody>\n",
              "    <tr>\n",
              "      <th>0</th>\n",
              "      <td>0.00632</td>\n",
              "      <td>18.0</td>\n",
              "      <td>2.31</td>\n",
              "      <td>0.0</td>\n",
              "      <td>0.538</td>\n",
              "      <td>6.575</td>\n",
              "      <td>65.2</td>\n",
              "      <td>4.0900</td>\n",
              "      <td>1.0</td>\n",
              "      <td>296.0</td>\n",
              "      <td>15.3</td>\n",
              "      <td>396.90</td>\n",
              "      <td>4.98</td>\n",
              "      <td>24.0</td>\n",
              "    </tr>\n",
              "    <tr>\n",
              "      <th>1</th>\n",
              "      <td>0.02731</td>\n",
              "      <td>0.0</td>\n",
              "      <td>7.07</td>\n",
              "      <td>0.0</td>\n",
              "      <td>0.469</td>\n",
              "      <td>6.421</td>\n",
              "      <td>78.9</td>\n",
              "      <td>4.9671</td>\n",
              "      <td>2.0</td>\n",
              "      <td>242.0</td>\n",
              "      <td>17.8</td>\n",
              "      <td>396.90</td>\n",
              "      <td>9.14</td>\n",
              "      <td>21.6</td>\n",
              "    </tr>\n",
              "    <tr>\n",
              "      <th>2</th>\n",
              "      <td>0.02729</td>\n",
              "      <td>0.0</td>\n",
              "      <td>7.07</td>\n",
              "      <td>0.0</td>\n",
              "      <td>0.469</td>\n",
              "      <td>7.185</td>\n",
              "      <td>61.1</td>\n",
              "      <td>4.9671</td>\n",
              "      <td>2.0</td>\n",
              "      <td>242.0</td>\n",
              "      <td>17.8</td>\n",
              "      <td>392.83</td>\n",
              "      <td>4.03</td>\n",
              "      <td>34.7</td>\n",
              "    </tr>\n",
              "  </tbody>\n",
              "</table>\n",
              "</div>"
            ],
            "text/plain": [
              "      CRIM    ZN  INDUS  CHAS    NOX  ...    TAX  PTRATIO       B  LSTAT  MDEV\n",
              "0  0.00632  18.0   2.31   0.0  0.538  ...  296.0     15.3  396.90   4.98  24.0\n",
              "1  0.02731   0.0   7.07   0.0  0.469  ...  242.0     17.8  396.90   9.14  21.6\n",
              "2  0.02729   0.0   7.07   0.0  0.469  ...  242.0     17.8  392.83   4.03  34.7\n",
              "\n",
              "[3 rows x 14 columns]"
            ]
          },
          "metadata": {
            "tags": []
          },
          "execution_count": 2
        }
      ]
    },
    {
      "cell_type": "code",
      "metadata": {
        "id": "WnmN_TJN4WE8"
      },
      "source": [
        "X = data.drop('MDEV', axis=1)\n",
        "y = data['MDEV']"
      ],
      "execution_count": 3,
      "outputs": []
    },
    {
      "cell_type": "code",
      "metadata": {
        "id": "CY3zW__L4iFt"
      },
      "source": [
        "def base_model():\n",
        "  model = Sequential()\n",
        "  model.add(Dense(13, input_dim = 13, activation='relu'))\n",
        "  model.add(Dense(1))\n",
        "  model.compile(loss ='mean_squared_error', optimizer = 'adam')\n",
        "  return model"
      ],
      "execution_count": 4,
      "outputs": []
    },
    {
      "cell_type": "code",
      "metadata": {
        "colab": {
          "base_uri": "https://localhost:8080/"
        },
        "id": "6AehcEoKm-ZI",
        "outputId": "6c3d9662-c7fd-4b7d-94c4-277aa72a2030"
      },
      "source": [
        "estimator = KerasRegressor(build_fn=base_model, epochs = 100, batch_size = 5, verbose = 0)\n",
        "kfold = KFold(n_splits=10)\n",
        "result = cross_val_score(estimator, X, y, cv = kfold)\n",
        "print(\"Linea base; %.2f (%.2f) MSE\" % (result.mean(), result.std()))"
      ],
      "execution_count": 5,
      "outputs": [
        {
          "output_type": "stream",
          "text": [
            "Linea base; -45.93 (32.20) MSE\n"
          ],
          "name": "stdout"
        }
      ]
    },
    {
      "cell_type": "markdown",
      "metadata": {
        "id": "PpASeulnoPjf"
      },
      "source": [
        "- Da como resultado un valor negativo, ya que la libreria de sklearn maximiza la función, en vez de reducirla. Ignorar el valor negativa. por lo tanto tenemos un valor alto."
      ]
    },
    {
      "cell_type": "markdown",
      "metadata": {
        "id": "jlx75X9aoUcX"
      },
      "source": [
        "# Optimizar el rendimiento con procesamiento de datos"
      ]
    },
    {
      "cell_type": "code",
      "metadata": {
        "id": "SLIls8nLoJaP"
      },
      "source": [
        "from sklearn.preprocessing import StandardScaler\n",
        "from sklearn.pipeline import Pipeline"
      ],
      "execution_count": 6,
      "outputs": []
    },
    {
      "cell_type": "code",
      "metadata": {
        "colab": {
          "base_uri": "https://localhost:8080/"
        },
        "id": "DW7eP22-ozmg",
        "outputId": "f4a3d9a4-a6cd-43cd-e041-cc072aab8342"
      },
      "source": [
        "estimator = []\n",
        "estimator.append(('standarize', StandardScaler()))\n",
        "estimator.append(('NN', KerasRegressor(build_fn=base_model, epochs=100, batch_size=5, verbose = 0)))\n",
        "pipeline = Pipeline(estimator)\n",
        "kfold = KFold(n_splits=10)\n",
        "result = cross_val_score(pipeline, X, y, cv = kfold)\n",
        "print(\"Estandarizado: %.2f (%.2f) MSE\" % (result.mean(), result.std()))"
      ],
      "execution_count": 7,
      "outputs": [
        {
          "output_type": "stream",
          "text": [
            "Estandarizado: -22.53 (28.27) MSE\n"
          ],
          "name": "stdout"
        }
      ]
    },
    {
      "cell_type": "markdown",
      "metadata": {
        "id": "sQmUBvKdpvah"
      },
      "source": [
        "- Si el valor es muy cercano a 0 para que es menor, aparentemente por el contenedor, ignorando el negativo. Investigar"
      ]
    },
    {
      "cell_type": "markdown",
      "metadata": {
        "id": "69mzDOdpp134"
      },
      "source": [
        "# Ajuste de la topología"
      ]
    },
    {
      "cell_type": "code",
      "metadata": {
        "colab": {
          "base_uri": "https://localhost:8080/"
        },
        "id": "zzDDqsqwpx0T",
        "outputId": "f87ac5fe-8399-4866-9b34-66e57f626403"
      },
      "source": [
        "#Modelo con más profundidad\n",
        "def larger_model():\n",
        "  model = Sequential()\n",
        "  model.add(Dense(13, input_dim = 13, activation='relu'))\n",
        "  model.add(Dense(6, activation='relu'))\n",
        "  model.add(Dense(1))\n",
        "\n",
        "  model.compile(loss='mean_squared_error', optimizer = 'adam')\n",
        "  return model\n",
        "\n",
        "\n",
        "estimator =[]\n",
        "estimator.append(('standarize', StandardScaler()))\n",
        "estimator.append(('Deep-NN', KerasRegressor(build_fn=larger_model, epochs=100, batch_size=5,verbose=0)))\n",
        "pipeline = Pipeline(estimator)\n",
        "kfold = KFold(n_splits=10)\n",
        "result = cross_val_score(pipeline, X, y, cv = kfold)\n",
        "print(\"Deep-NN: %.2f (%.2f) MSE\" % (result.mean(), result.std()))"
      ],
      "execution_count": 8,
      "outputs": [
        {
          "output_type": "stream",
          "text": [
            "Deep-NN: -38.35 (54.22) MSE\n"
          ],
          "name": "stdout"
        }
      ]
    },
    {
      "cell_type": "code",
      "metadata": {
        "colab": {
          "base_uri": "https://localhost:8080/"
        },
        "id": "QYT_QAkop9g3",
        "outputId": "5d0039da-46d9-43d8-829f-fe0154ae838f"
      },
      "source": [
        "def wider_model():\n",
        "  model = Sequential()\n",
        "  model.add(Dense(20, input_dim = 13, activation='relu'))\n",
        "  model.add(Dense(1))\n",
        "\n",
        "  model.compile(loss='mean_squared_error', optimizer = 'adam')\n",
        "  return model\n",
        "\n",
        "\n",
        "estimator =[]\n",
        "estimator.append(('standarize', StandardScaler()))\n",
        "estimator.append(('Wider-NN', KerasRegressor(build_fn=wider_model, epochs=50, batch_size=5,verbose=0)))\n",
        "pipeline = Pipeline(estimator)\n",
        "kfold = KFold(n_splits=10)\n",
        "result = cross_val_score(pipeline, X, y, cv = kfold)\n",
        "print(\"Wider-NN: %.2f (%.2f) MSE\" % (result.mean(), result.std()))"
      ],
      "execution_count": 10,
      "outputs": [
        {
          "output_type": "stream",
          "text": [
            "Wider-NN: -23.47 (23.64) MSE\n"
          ],
          "name": "stdout"
        }
      ]
    }
  ]
}