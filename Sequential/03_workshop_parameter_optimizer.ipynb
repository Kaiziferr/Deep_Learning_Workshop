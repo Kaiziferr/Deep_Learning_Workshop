{
  "nbformat": 4,
  "nbformat_minor": 0,
  "metadata": {
    "colab": {
      "name": "03_workshop_parameter_optimizer.ipynb",
      "provenance": [],
      "authorship_tag": "ABX9TyPJjbD3MKOFNKqf+YIGzPCs",
      "include_colab_link": true
    },
    "kernelspec": {
      "name": "python3",
      "display_name": "Python 3"
    },
    "language_info": {
      "name": "python"
    }
  },
  "cells": [
    {
      "cell_type": "markdown",
      "metadata": {
        "id": "view-in-github",
        "colab_type": "text"
      },
      "source": [
        "<a href=\"https://colab.research.google.com/github/Kaiziferr/Deep_Learning_Workshop/blob/master/Sequential/03_workshop_parameter_optimizer.ipynb\" target=\"_parent\"><img src=\"https://colab.research.google.com/assets/colab-badge.svg\" alt=\"Open In Colab\"/></a>"
      ]
    },
    {
      "cell_type": "code",
      "metadata": {
        "id": "elKY9TJJRw7w"
      },
      "source": [
        "import pandas as pd\n",
        "import numpy as np\n",
        "import matplotlib.pyplot as plt\n",
        "import seaborn as sns\n",
        "\n",
        "from keras.models import Sequential\n",
        "from keras.layers import Dense\n",
        "from keras.wrappers.scikit_learn import KerasClassifier\n",
        "\n",
        "from sklearn.model_selection import train_test_split, cross_val_score, StratifiedKFold\n",
        "from sklearn import metrics\n",
        "\n",
        "from sklearn.model_selection import GridSearchCV"
      ],
      "execution_count": 16,
      "outputs": []
    },
    {
      "cell_type": "code",
      "metadata": {
        "id": "b1jRrxZ4dHO0"
      },
      "source": [
        "data = pd.read_csv('https://raw.githubusercontent.com/Kaiziferr/Deep_Learning_Workshop/master/workshop_keras_sklearn_introduction/diabetes.csv')\n",
        "data_values = data.values"
      ],
      "execution_count": 4,
      "outputs": []
    },
    {
      "cell_type": "code",
      "metadata": {
        "id": "Kfb9EVZ8dWY6"
      },
      "source": [
        "def create_model():\n",
        "  model = Sequential()\n",
        "  model.add(Dense(12, input_dim = 8, activation='relu'))\n",
        "  model.add(Dense(8, activation='relu'))\n",
        "  model.add(Dense(1, activation='sigmoid'))\n",
        "\n",
        "  model.compile(loss = 'binary_crossentropy', optimizer = 'adam', metrics = ['accuracy'])\n",
        "\n",
        "  return model\n"
      ],
      "execution_count": 5,
      "outputs": []
    },
    {
      "cell_type": "markdown",
      "metadata": {
        "id": "jaIOoJwWeI9_"
      },
      "source": [
        "# Data Split"
      ]
    },
    {
      "cell_type": "code",
      "metadata": {
        "id": "YftmNgIQeHWL"
      },
      "source": [
        "X = data_values[:,0:8]\n",
        "y = data_values[:,8]"
      ],
      "execution_count": 7,
      "outputs": []
    },
    {
      "cell_type": "markdown",
      "metadata": {
        "id": "USveUBLzeW2l"
      },
      "source": [
        "# Houldot"
      ]
    },
    {
      "cell_type": "code",
      "metadata": {
        "id": "1TOwTvAud-xl"
      },
      "source": [
        "X_train, X_test, y_train, y_test = train_test_split(X, y, train_size = 0.75)"
      ],
      "execution_count": 8,
      "outputs": []
    },
    {
      "cell_type": "markdown",
      "metadata": {
        "id": "L4txAbyKelrH"
      },
      "source": [
        "# wrapper"
      ]
    },
    {
      "cell_type": "code",
      "metadata": {
        "id": "7fg_Lc2weh84"
      },
      "source": [
        "model = KerasClassifier(build_fn=create_model, epochs = 150, batch_size = 10, verbose = 0)"
      ],
      "execution_count": 10,
      "outputs": []
    },
    {
      "cell_type": "code",
      "metadata": {
        "id": "8k2h2oCGfOgv"
      },
      "source": [
        "kfold = StratifiedKFold(n_splits=10, shuffle=True)\n",
        "result = cross_val_score(model, X, y, cv = kfold)"
      ],
      "execution_count": 13,
      "outputs": []
    },
    {
      "cell_type": "code",
      "metadata": {
        "colab": {
          "base_uri": "https://localhost:8080/"
        },
        "id": "z97S2FNafkU9",
        "outputId": "5ccfed79-fcdf-4417-ca52-7d07486482ec"
      },
      "source": [
        "result"
      ],
      "execution_count": 14,
      "outputs": [
        {
          "output_type": "execute_result",
          "data": {
            "text/plain": [
              "array([0.6883117 , 0.72727275, 0.79220778, 0.72727275, 0.77922076,\n",
              "       0.6883117 , 0.71428573, 0.76623374, 0.71052629, 0.7368421 ])"
            ]
          },
          "metadata": {},
          "execution_count": 14
        }
      ]
    },
    {
      "cell_type": "code",
      "metadata": {
        "colab": {
          "base_uri": "https://localhost:8080/"
        },
        "id": "sJnfz0BDf6ZX",
        "outputId": "9a67fc7e-1e1f-4fef-b49e-5290dc9a1800"
      },
      "source": [
        "result.mean()"
      ],
      "execution_count": 15,
      "outputs": [
        {
          "output_type": "execute_result",
          "data": {
            "text/plain": [
              "0.7330485284328461"
            ]
          },
          "metadata": {},
          "execution_count": 15
        }
      ]
    },
    {
      "cell_type": "markdown",
      "metadata": {
        "id": "yqU-NNpEgGV0"
      },
      "source": [
        "# Optimización de hiperparametros\n"
      ]
    },
    {
      "cell_type": "code",
      "metadata": {
        "id": "peAHs2pxgJcE"
      },
      "source": [
        "def create_model_optimizer(optimizer = 'rmsprop', init = 'glorot_uniform'):\n",
        "  model = Sequential()\n",
        "  model.add(Dense(12, input_dim = 8, kernel_initializer=init, activation='relu'))\n",
        "  model.add(Dense(8, kernel_initializer=init, activation='relu'))\n",
        "  model.add(Dense(1, kernel_initializer=init, activation='relu'))\n",
        "  model.compile(loss = 'binary_crossentropy', optimizer = optimizer, metrics = ['accuracy'])\n",
        "  return model"
      ],
      "execution_count": 17,
      "outputs": []
    },
    {
      "cell_type": "code",
      "metadata": {
        "id": "1nzTi5fDg8GB"
      },
      "source": [
        "model = KerasClassifier(build_fn=create_model_optimizer, verbose = 0)"
      ],
      "execution_count": 18,
      "outputs": []
    },
    {
      "cell_type": "code",
      "metadata": {
        "id": "spSu7Jh0hFw3"
      },
      "source": [
        "optimizer = ['rmsprop', 'adam']\n",
        "init = ['glorot_uniform', 'normal', 'uniform']\n",
        "epochs = [50 ,100 ,150]\n",
        "batch = [5, 10, 20]\n",
        "param_grid = dict(optimizer = optimizer, epochs = epochs, batch_size = batch, init = init)\n",
        "grid = GridSearchCV(estimator=model, param_grid=param_grid, refit=True, return_train_score=True, cv = 3)"
      ],
      "execution_count": 24,
      "outputs": []
    },
    {
      "cell_type": "code",
      "metadata": {
        "colab": {
          "base_uri": "https://localhost:8080/"
        },
        "id": "nQqE6O5fibsy",
        "outputId": "4f40eb7c-5970-49f6-e6e0-97de68f673c1"
      },
      "source": [
        "grid.fit(X_train, y_train)"
      ],
      "execution_count": 25,
      "outputs": [
        {
          "output_type": "execute_result",
          "data": {
            "text/plain": [
              "GridSearchCV(cv=3, error_score=nan,\n",
              "             estimator=<keras.wrappers.scikit_learn.KerasClassifier object at 0x7f01501fc310>,\n",
              "             iid='deprecated', n_jobs=None,\n",
              "             param_grid={'batch_size': [5, 10, 20], 'epochs': [50, 100, 150],\n",
              "                         'init': ['glorot_uniform', 'normal', 'uniform'],\n",
              "                         'optimizer': ['rmsprop', 'adam']},\n",
              "             pre_dispatch='2*n_jobs', refit=True, return_train_score=True,\n",
              "             scoring=None, verbose=0)"
            ]
          },
          "metadata": {},
          "execution_count": 25
        }
      ]
    },
    {
      "cell_type": "code",
      "metadata": {
        "colab": {
          "base_uri": "https://localhost:8080/"
        },
        "id": "TFKQdOuIrgSM",
        "outputId": "5751cf5c-edfe-4d44-de38-908657e167e7"
      },
      "source": [
        "print(\"Mejor: %f usando %s\" % (grid.best_score_, grid.best_params_))"
      ],
      "execution_count": 26,
      "outputs": [
        {
          "output_type": "stream",
          "name": "stdout",
          "text": [
            "Mejor: 0.762153 usando {'batch_size': 10, 'epochs': 150, 'init': 'uniform', 'optimizer': 'rmsprop'}\n"
          ]
        }
      ]
    },
    {
      "cell_type": "code",
      "metadata": {
        "colab": {
          "base_uri": "https://localhost:8080/"
        },
        "id": "UqdtMdwer58T",
        "outputId": "6b9c8a7c-6399-4f41-d5ee-30e841b1429a"
      },
      "source": [
        "means = grid.cv_results_['mean_test_score']\n",
        "stds = grid.cv_results_['std_test_score']\n",
        "params = grid.cv_results_['params']\n",
        "\n",
        "for mean, std, param in zip(means,stds,params):\n",
        "  print(\"%f (%f) con %r\" % (mean, std, param))"
      ],
      "execution_count": 28,
      "outputs": [
        {
          "output_type": "stream",
          "name": "stdout",
          "text": [
            "0.545139 (0.151570) con {'batch_size': 5, 'epochs': 50, 'init': 'glorot_uniform', 'optimizer': 'rmsprop'}\n",
            "0.586806 (0.135639) con {'batch_size': 5, 'epochs': 50, 'init': 'glorot_uniform', 'optimizer': 'adam'}\n",
            "0.741319 (0.023421) con {'batch_size': 5, 'epochs': 50, 'init': 'normal', 'optimizer': 'rmsprop'}\n",
            "0.708333 (0.014731) con {'batch_size': 5, 'epochs': 50, 'init': 'normal', 'optimizer': 'adam'}\n",
            "0.720486 (0.027340) con {'batch_size': 5, 'epochs': 50, 'init': 'uniform', 'optimizer': 'rmsprop'}\n",
            "0.723958 (0.019488) con {'batch_size': 5, 'epochs': 50, 'init': 'uniform', 'optimizer': 'adam'}\n",
            "0.546875 (0.152205) con {'batch_size': 5, 'epochs': 100, 'init': 'glorot_uniform', 'optimizer': 'rmsprop'}\n",
            "0.605903 (0.044669) con {'batch_size': 5, 'epochs': 100, 'init': 'glorot_uniform', 'optimizer': 'adam'}\n",
            "0.697917 (0.025516) con {'batch_size': 5, 'epochs': 100, 'init': 'normal', 'optimizer': 'rmsprop'}\n",
            "0.656250 (0.038976) con {'batch_size': 5, 'epochs': 100, 'init': 'normal', 'optimizer': 'adam'}\n",
            "0.678819 (0.054846) con {'batch_size': 5, 'epochs': 100, 'init': 'uniform', 'optimizer': 'rmsprop'}\n",
            "0.736111 (0.029869) con {'batch_size': 5, 'epochs': 100, 'init': 'uniform', 'optimizer': 'adam'}\n",
            "0.652778 (0.035410) con {'batch_size': 5, 'epochs': 150, 'init': 'glorot_uniform', 'optimizer': 'rmsprop'}\n",
            "0.520833 (0.160757) con {'batch_size': 5, 'epochs': 150, 'init': 'glorot_uniform', 'optimizer': 'adam'}\n",
            "0.717014 (0.079823) con {'batch_size': 5, 'epochs': 150, 'init': 'normal', 'optimizer': 'rmsprop'}\n",
            "0.734375 (0.029768) con {'batch_size': 5, 'epochs': 150, 'init': 'normal', 'optimizer': 'adam'}\n",
            "0.703125 (0.023677) con {'batch_size': 5, 'epochs': 150, 'init': 'uniform', 'optimizer': 'rmsprop'}\n",
            "0.722222 (0.083586) con {'batch_size': 5, 'epochs': 150, 'init': 'uniform', 'optimizer': 'adam'}\n",
            "0.546875 (0.155263) con {'batch_size': 10, 'epochs': 50, 'init': 'glorot_uniform', 'optimizer': 'rmsprop'}\n",
            "0.545139 (0.154582) con {'batch_size': 10, 'epochs': 50, 'init': 'glorot_uniform', 'optimizer': 'adam'}\n",
            "0.697917 (0.066835) con {'batch_size': 10, 'epochs': 50, 'init': 'normal', 'optimizer': 'rmsprop'}\n",
            "0.694444 (0.063978) con {'batch_size': 10, 'epochs': 50, 'init': 'normal', 'optimizer': 'adam'}\n",
            "0.671875 (0.048300) con {'batch_size': 10, 'epochs': 50, 'init': 'uniform', 'optimizer': 'rmsprop'}\n",
            "0.664931 (0.043019) con {'batch_size': 10, 'epochs': 50, 'init': 'uniform', 'optimizer': 'adam'}\n",
            "0.640625 (0.041883) con {'batch_size': 10, 'epochs': 100, 'init': 'glorot_uniform', 'optimizer': 'rmsprop'}\n",
            "0.645833 (0.025867) con {'batch_size': 10, 'epochs': 100, 'init': 'glorot_uniform', 'optimizer': 'adam'}\n",
            "0.711806 (0.076231) con {'batch_size': 10, 'epochs': 100, 'init': 'normal', 'optimizer': 'rmsprop'}\n",
            "0.713542 (0.077602) con {'batch_size': 10, 'epochs': 100, 'init': 'normal', 'optimizer': 'adam'}\n",
            "0.701389 (0.027669) con {'batch_size': 10, 'epochs': 100, 'init': 'uniform', 'optimizer': 'rmsprop'}\n",
            "0.744792 (0.011251) con {'batch_size': 10, 'epochs': 100, 'init': 'uniform', 'optimizer': 'adam'}\n",
            "0.659722 (0.040194) con {'batch_size': 10, 'epochs': 150, 'init': 'glorot_uniform', 'optimizer': 'rmsprop'}\n",
            "0.486111 (0.148861) con {'batch_size': 10, 'epochs': 150, 'init': 'glorot_uniform', 'optimizer': 'adam'}\n",
            "0.694444 (0.021404) con {'batch_size': 10, 'epochs': 150, 'init': 'normal', 'optimizer': 'rmsprop'}\n",
            "0.756944 (0.016100) con {'batch_size': 10, 'epochs': 150, 'init': 'normal', 'optimizer': 'adam'}\n",
            "0.762153 (0.028315) con {'batch_size': 10, 'epochs': 150, 'init': 'uniform', 'optimizer': 'rmsprop'}\n",
            "0.713542 (0.078067) con {'batch_size': 10, 'epochs': 150, 'init': 'uniform', 'optimizer': 'adam'}\n",
            "0.524306 (0.158567) con {'batch_size': 20, 'epochs': 50, 'init': 'glorot_uniform', 'optimizer': 'rmsprop'}\n",
            "0.343750 (0.038976) con {'batch_size': 20, 'epochs': 50, 'init': 'glorot_uniform', 'optimizer': 'adam'}\n",
            "0.682292 (0.058463) con {'batch_size': 20, 'epochs': 50, 'init': 'normal', 'optimizer': 'rmsprop'}\n",
            "0.689236 (0.030764) con {'batch_size': 20, 'epochs': 50, 'init': 'normal', 'optimizer': 'adam'}\n",
            "0.671875 (0.057528) con {'batch_size': 20, 'epochs': 50, 'init': 'uniform', 'optimizer': 'rmsprop'}\n",
            "0.722222 (0.023421) con {'batch_size': 20, 'epochs': 50, 'init': 'uniform', 'optimizer': 'adam'}\n",
            "0.545139 (0.154582) con {'batch_size': 20, 'epochs': 100, 'init': 'glorot_uniform', 'optimizer': 'rmsprop'}\n",
            "0.590278 (0.141320) con {'batch_size': 20, 'epochs': 100, 'init': 'glorot_uniform', 'optimizer': 'adam'}\n",
            "0.722222 (0.017187) con {'batch_size': 20, 'epochs': 100, 'init': 'normal', 'optimizer': 'rmsprop'}\n",
            "0.711806 (0.034373) con {'batch_size': 20, 'epochs': 100, 'init': 'normal', 'optimizer': 'adam'}\n",
            "0.720486 (0.016100) con {'batch_size': 20, 'epochs': 100, 'init': 'uniform', 'optimizer': 'rmsprop'}\n",
            "0.685764 (0.062258) con {'batch_size': 20, 'epochs': 100, 'init': 'uniform', 'optimizer': 'adam'}\n",
            "0.475694 (0.159193) con {'batch_size': 20, 'epochs': 150, 'init': 'glorot_uniform', 'optimizer': 'rmsprop'}\n",
            "0.506944 (0.145108) con {'batch_size': 20, 'epochs': 150, 'init': 'glorot_uniform', 'optimizer': 'adam'}\n",
            "0.689236 (0.066200) con {'batch_size': 20, 'epochs': 150, 'init': 'normal', 'optimizer': 'rmsprop'}\n",
            "0.751736 (0.010702) con {'batch_size': 20, 'epochs': 150, 'init': 'normal', 'optimizer': 'adam'}\n",
            "0.690972 (0.030764) con {'batch_size': 20, 'epochs': 150, 'init': 'uniform', 'optimizer': 'rmsprop'}\n",
            "0.730903 (0.017187) con {'batch_size': 20, 'epochs': 150, 'init': 'uniform', 'optimizer': 'adam'}\n"
          ]
        }
      ]
    },
    {
      "cell_type": "code",
      "metadata": {
        "colab": {
          "base_uri": "https://localhost:8080/"
        },
        "id": "dOb2_iw1su_N",
        "outputId": "5bf01075-c4da-469e-f182-9c0c3fe6b8d2"
      },
      "source": [
        "model_final = grid.best_estimator_\n",
        "model_final.get_params()"
      ],
      "execution_count": 35,
      "outputs": [
        {
          "output_type": "execute_result",
          "data": {
            "text/plain": [
              "{'batch_size': 10,\n",
              " 'build_fn': <function __main__.create_model_optimizer>,\n",
              " 'epochs': 150,\n",
              " 'init': 'uniform',\n",
              " 'optimizer': 'rmsprop',\n",
              " 'verbose': 0}"
            ]
          },
          "metadata": {},
          "execution_count": 35
        }
      ]
    },
    {
      "cell_type": "markdown",
      "metadata": {
        "id": "-nGLl1wetJU3"
      },
      "source": [
        "# Prediccion"
      ]
    },
    {
      "cell_type": "code",
      "metadata": {
        "id": "JpdY4eFctwiK"
      },
      "source": [
        "\"\"\"\n",
        "@Description: Implement a matrix of confusion of a binary model\n",
        "@Values:\n",
        "          validation (Series) a series with values of test\n",
        "          prediction (Series) a series with values of prediction\n",
        "          title (String)  title\n",
        "          target (String)\n",
        "          not_target (String)\n",
        "\"\"\"\n",
        "\n",
        "def matrix_confusion(validation, prediction, title, target, not_target):\n",
        "  matrix = metrics.confusion_matrix(validation, prediction)\n",
        "  fig, ax = plt.subplots(nrows = 1, ncols = 1, figsize = (6,5))\n",
        "  sns.heatmap(matrix, annot=True, ax = ax,cmap=plt.cm.Blues,fmt='g',annot_kws={\"size\": 13})\n",
        "  ax.set_title(title,size=13)\n",
        "\n",
        "  ax.xaxis.set_ticklabels([not_target,target])\n",
        "  ax.yaxis.set_ticklabels([not_target,target], va=\"center\")\n",
        "\n",
        "  ax.tick_params(labelsize = 13)\n",
        "\n",
        "  return matrix"
      ],
      "execution_count": 37,
      "outputs": []
    },
    {
      "cell_type": "code",
      "metadata": {
        "id": "TfTL0eOTt0hX"
      },
      "source": [
        "\"\"\"\n",
        "@Description: This method show some metrics for algorithms of classification binary\n",
        "@Values:\n",
        "          - validation (Series) a series with values of test\n",
        "          - prediction (Series) a series with values of prediction\n",
        "          - name_target (Serie) \n",
        "          - label: target\n",
        "          - matrix (ndarray)\n",
        "\"\"\"\n",
        "\n",
        "def metrics_clasification_binary(validation, prediction, name_target,label, matrix):\n",
        "  print('Accuracy', metrics.accuracy_score(validation, prediction))\n",
        "  print('Kappa',  metrics.cohen_kappa_score(validation, prediction))\n",
        "  print('----------------------------------------------------------- \\n')\n",
        "\n",
        "  print(f'Metrics of {name_target}')\n",
        "  print('Precision', metrics.precision_score(validation, prediction, label, average='macro'))\n",
        "  print(\"Recall: \",  metrics.recall_score(validation, prediction, label, average='macro'))\n",
        "  \n",
        "  VN = matrix[0,0]\n",
        "  FP = matrix[0,1]\n",
        "  specificity = VN/(VN+FP)\n",
        "\n",
        "  print('Specificity', specificity)\n",
        "  print(\"F1-score      : \", metrics.f1_score(validation, prediction, label, average='macro'))"
      ],
      "execution_count": 39,
      "outputs": []
    },
    {
      "cell_type": "code",
      "metadata": {
        "id": "BB9TOowpuYgJ"
      },
      "source": [
        "y_pred = model_final.predict(X_train)"
      ],
      "execution_count": 45,
      "outputs": []
    },
    {
      "cell_type": "code",
      "metadata": {
        "colab": {
          "base_uri": "https://localhost:8080/",
          "height": 339
        },
        "id": "md18C85iuOXi",
        "outputId": "549a93a2-25ec-411c-924d-290111016843"
      },
      "source": [
        "# MAtrix confusion\n",
        "matrix = matrix_confusion(y_train, y_pred, 'Diabetes' , 'Sick', 'healthy')"
      ],
      "execution_count": 46,
      "outputs": [
        {
          "output_type": "display_data",
          "data": {
            "image/png": "[encoded data removed]",
            "text/plain": [
              "<Figure size 432x360 with 2 Axes>"
            ]
          },
          "metadata": {
            "needs_background": "light"
          }
        }
      ]
    },
    {
      "cell_type": "code",
      "metadata": {
        "colab": {
          "base_uri": "https://localhost:8080/"
        },
        "id": "J-h_WuZEuiaR",
        "outputId": "4990b82b-4ee5-4a16-ebbf-0f1952ed1af9"
      },
      "source": [
        "metrics_clasification_binary(y_train, y_pred, 'Diabetes',[1], matrix)"
      ],
      "execution_count": 48,
      "outputs": [
        {
          "output_type": "stream",
          "name": "stdout",
          "text": [
            "Accuracy 0.7795138888888888\n",
            "Kappa 0.49110944152266467\n",
            "----------------------------------------------------------- \n",
            "\n",
            "Metrics of Diabetes\n",
            "Precision 0.7151515151515152\n",
            "Recall:  0.5959595959595959\n",
            "Specificity 0.8756613756613757\n",
            "F1-score      :  0.650137741046832\n"
          ]
        }
      ]
    },
    {
      "cell_type": "code",
      "metadata": {
        "id": "kKxAOgXHuuT9"
      },
      "source": [
        "y_pred = model_final.predict(X_test)"
      ],
      "execution_count": 49,
      "outputs": []
    },
    {
      "cell_type": "code",
      "metadata": {
        "colab": {
          "base_uri": "https://localhost:8080/",
          "height": 339
        },
        "id": "udaRUzDAuypN",
        "outputId": "157dc8aa-88e4-4feb-a0c6-ddb10153261e"
      },
      "source": [
        "matrix = matrix_confusion(y_test, y_pred, 'Diabetes' , 'Sick', 'healthy')"
      ],
      "execution_count": 51,
      "outputs": [
        {
          "output_type": "display_data",
          "data": {
            "image/png": "[encoded data removed]",
            "text/plain": [
              "<Figure size 432x360 with 2 Axes>"
            ]
          },
          "metadata": {
            "needs_background": "light"
          }
        }
      ]
    },
    {
      "cell_type": "code",
      "metadata": {
        "colab": {
          "base_uri": "https://localhost:8080/"
        },
        "id": "_NBJtkfZu7BW",
        "outputId": "7439893a-dde2-405c-b03f-6077e1886938"
      },
      "source": [
        "metrics_clasification_binary(y_test, y_pred, 'Diabetes',[1], matrix)"
      ],
      "execution_count": 52,
      "outputs": [
        {
          "output_type": "stream",
          "name": "stdout",
          "text": [
            "Accuracy 0.7760416666666666\n",
            "Kappa 0.5091557669441142\n",
            "----------------------------------------------------------- \n",
            "\n",
            "Metrics of Diabetes\n",
            "Precision 0.7076923076923077\n",
            "Recall:  0.6571428571428571\n",
            "Specificity 0.8442622950819673\n",
            "F1-score      :  0.6814814814814816\n"
          ]
        }
      ]
    }
  ]
}