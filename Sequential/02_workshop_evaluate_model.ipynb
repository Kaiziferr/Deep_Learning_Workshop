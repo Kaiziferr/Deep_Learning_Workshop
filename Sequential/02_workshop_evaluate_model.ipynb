{
  "nbformat": 4,
  "nbformat_minor": 0,
  "metadata": {
    "colab": {
      "name": "02_workshop_evaluate_model.ipynb",
      "provenance": [],
      "authorship_tag": "ABX9TyNaZizHqRvFZnUxYStvDat0",
      "include_colab_link": true
    },
    "kernelspec": {
      "name": "python3",
      "display_name": "Python 3"
    },
    "language_info": {
      "name": "python"
    }
  },
  "cells": [
    {
      "cell_type": "markdown",
      "metadata": {
        "id": "view-in-github",
        "colab_type": "text"
      },
      "source": [
        "<a href=\"https://colab.research.google.com/github/Kaiziferr/Deep_Learning_Workshop/blob/master/Sequential/02_workshop_evaluate_model.ipynb\" target=\"_parent\"><img src=\"https://colab.research.google.com/assets/colab-badge.svg\" alt=\"Open In Colab\"/></a>"
      ]
    },
    {
      "cell_type": "code",
      "metadata": {
        "id": "mpwhcYOE9d_m"
      },
      "source": [
        "import pandas as pd\n",
        "import numpy as np\n",
        "from keras.models import Sequential\n",
        "from keras.layers import Dense\n",
        "from sklearn.model_selection import train_test_split"
      ],
      "execution_count": 15,
      "outputs": []
    },
    {
      "cell_type": "code",
      "metadata": {
        "id": "3oj4Td2i92Z3"
      },
      "source": [
        "url = 'https://raw.githubusercontent.com/Kaiziferr/Deep_Learning_Workshop/master/workshop_keras_sklearn_introduction/diabetes.csv'\n",
        "data = pd.read_csv(url)\n",
        "data_values = data.values"
      ],
      "execution_count": 2,
      "outputs": []
    },
    {
      "cell_type": "code",
      "metadata": {
        "id": "KQGAkMau_M-l"
      },
      "source": [
        "X = data_values[:,0:8]\n",
        "y = data_values[:,8]"
      ],
      "execution_count": 3,
      "outputs": []
    },
    {
      "cell_type": "code",
      "metadata": {
        "colab": {
          "base_uri": "https://localhost:8080/"
        },
        "id": "WgvQZYePBTMW",
        "outputId": "efb8f0cf-f9ce-4763-fff9-3e5bfb04d5c4"
      },
      "source": [
        "model = Sequential()\n",
        "model.add(Dense(12, input_dim = 8, activation='relu'))\n",
        "model.add(Dense(8, activation='relu'))\n",
        "model.add(Dense(4, activation='relu'))\n",
        "model.add(Dense(1, activation='sigmoid'))\n",
        "model.compile(loss='binary_crossentropy', optimizer='adam', metrics = ['accuracy'])\n",
        "model.fit(X, y, validation_split = 0.3, epochs=16, verbose = 0)"
      ],
      "execution_count": 4,
      "outputs": [
        {
          "output_type": "execute_result",
          "data": {
            "text/plain": [
              "<keras.callbacks.History at 0x7f1aa7b54710>"
            ]
          },
          "metadata": {
            "tags": []
          },
          "execution_count": 4
        }
      ]
    },
    {
      "cell_type": "code",
      "metadata": {
        "colab": {
          "base_uri": "https://localhost:8080/"
        },
        "id": "AQ-5asqpCktU",
        "outputId": "42ab8b0f-83a1-403e-d272-fd768473ea01"
      },
      "source": [
        "model.summary"
      ],
      "execution_count": 5,
      "outputs": [
        {
          "output_type": "execute_result",
          "data": {
            "text/plain": [
              "<bound method Model.summary of <keras.engine.sequential.Sequential object at 0x7f1aab544b90>>"
            ]
          },
          "metadata": {
            "tags": []
          },
          "execution_count": 5
        }
      ]
    },
    {
      "cell_type": "code",
      "metadata": {
        "colab": {
          "base_uri": "https://localhost:8080/"
        },
        "id": "VtQ3UXedDD0U",
        "outputId": "a589c321-3ae6-4cae-dccb-072a079cc401"
      },
      "source": [
        "loss, accuracy = model.evaluate(X,y)\n",
        "print('Loss: %.2f' % (loss*100))\n",
        "print('Accuracy: %.2f' % (accuracy*100))"
      ],
      "execution_count": 6,
      "outputs": [
        {
          "output_type": "stream",
          "text": [
            "24/24 [==============================] - 0s 2ms/step - loss: 0.6707 - accuracy: 0.6484\n",
            "Loss: 67.07\n",
            "Accuracy: 64.84\n"
          ],
          "name": "stdout"
        }
      ]
    },
    {
      "cell_type": "markdown",
      "metadata": {
        "id": "mc15LOnwDSet"
      },
      "source": [
        "# Verificación manual"
      ]
    },
    {
      "cell_type": "code",
      "metadata": {
        "id": "Y8PIm5xhDONU"
      },
      "source": [
        "X_train, X_test, y_train, y_test = train_test_split(X, y, test_size = 0.3)"
      ],
      "execution_count": 7,
      "outputs": []
    },
    {
      "cell_type": "code",
      "metadata": {
        "colab": {
          "base_uri": "https://localhost:8080/"
        },
        "id": "5XC8xk4NDsyd",
        "outputId": "4e8f9cf5-e0f1-44e2-d865-fea116ae8144"
      },
      "source": [
        "model = Sequential()\n",
        "model.add(Dense(12, input_dim = 8, activation='relu'))\n",
        "model.add(Dense(8, activation='relu'))\n",
        "model.add(Dense(8, activation='relu'))\n",
        "model.add(Dense(1, activation='sigmoid'))\n",
        "model.compile(loss='binary_crossentropy', optimizer='adam', metrics=['accuracy'])\n",
        "model.fit(X_train, y_train, validation_data=(X_test, y_test), epochs=150, batch_size=10, verbose=0)"
      ],
      "execution_count": 11,
      "outputs": [
        {
          "output_type": "execute_result",
          "data": {
            "text/plain": [
              "<keras.callbacks.History at 0x7f1a9c6e8110>"
            ]
          },
          "metadata": {
            "tags": []
          },
          "execution_count": 11
        }
      ]
    },
    {
      "cell_type": "code",
      "metadata": {
        "colab": {
          "base_uri": "https://localhost:8080/"
        },
        "id": "ucK8mCUaExNg",
        "outputId": "bc33ba17-f1dc-4033-a99b-1f43c1ac0098"
      },
      "source": [
        "loss, accuracy = model.evaluate(X_test,y_test)\n",
        "print('Loss: %.2f' % (loss*100))\n",
        "print('Accuracy: %.2f' % (accuracy*100))"
      ],
      "execution_count": 12,
      "outputs": [
        {
          "output_type": "stream",
          "text": [
            "8/8 [==============================] - 0s 2ms/step - loss: 0.6314 - accuracy: 0.6840\n",
            "Loss: 63.14\n",
            "Accuracy: 68.40\n"
          ],
          "name": "stdout"
        }
      ]
    },
    {
      "cell_type": "markdown",
      "metadata": {
        "id": "GfX1n57vHj80"
      },
      "source": [
        "# Validación cruzada"
      ]
    },
    {
      "cell_type": "code",
      "metadata": {
        "id": "qXSJgivuHp3z"
      },
      "source": [
        "from sklearn.model_selection import StratifiedKFold"
      ],
      "execution_count": 13,
      "outputs": []
    },
    {
      "cell_type": "code",
      "metadata": {
        "id": "iaKzRFIsHvqz"
      },
      "source": [
        "kfold = StratifiedKFold(n_splits=10, shuffle=True)\n",
        "cvscores = []"
      ],
      "execution_count": 17,
      "outputs": []
    },
    {
      "cell_type": "code",
      "metadata": {
        "colab": {
          "base_uri": "https://localhost:8080/"
        },
        "id": "NXx3xUicH678",
        "outputId": "4bafc452-66c5-43fb-c3d5-cc10ad153a1e"
      },
      "source": [
        "for train, test in kfold.split(X,y):\n",
        "  model = Sequential()\n",
        "  model.add(Dense(12, input_dim = 8, activation='relu'))\n",
        "  model.add(Dense(8, activation='relu'))\n",
        "  model.add(Dense(1, activation='sigmoid'))\n",
        "\n",
        "  model.compile(loss='binary_crossentropy', optimizer='adam', metrics=['accuracy'])\n",
        "  model.fit(X[train], y[train], validation_data=(X[test], y[test]), epochs=150, batch_size=10, verbose=0)\n",
        "  scores = model.evaluate(X[test], y[test], verbose=1)\n",
        "  print(\"%s: %.2f%%\" % (model.metrics_names[1], scores[1]*100))\n",
        "  cvscores.append(scores[1]*100)\n",
        "  print('\\n')\n",
        "print(\"%.2f%% (+/- %.2f%%)\" % (np.mean(cvscores), np.std(cvscores)))"
      ],
      "execution_count": 19,
      "outputs": [
        {
          "output_type": "stream",
          "text": [
            "3/3 [==============================] - 0s 4ms/step - loss: 0.6352 - accuracy: 0.6883\n",
            "accuracy: 68.83%\n",
            "\n",
            "\n",
            "3/3 [==============================] - 0s 3ms/step - loss: 0.4775 - accuracy: 0.8312\n",
            "accuracy: 83.12%\n",
            "\n",
            "\n",
            "3/3 [==============================] - 0s 5ms/step - loss: 0.4785 - accuracy: 0.7792\n",
            "accuracy: 77.92%\n",
            "\n",
            "\n",
            "3/3 [==============================] - 0s 4ms/step - loss: 0.5168 - accuracy: 0.7662\n",
            "accuracy: 76.62%\n",
            "\n",
            "\n",
            "3/3 [==============================] - 0s 4ms/step - loss: 0.5736 - accuracy: 0.7143\n",
            "accuracy: 71.43%\n",
            "\n",
            "\n",
            "3/3 [==============================] - 0s 3ms/step - loss: 0.5718 - accuracy: 0.7273\n",
            "accuracy: 72.73%\n",
            "\n",
            "\n",
            "3/3 [==============================] - 0s 10ms/step - loss: 0.5275 - accuracy: 0.7532\n",
            "accuracy: 75.32%\n",
            "\n",
            "\n",
            "3/3 [==============================] - 0s 4ms/step - loss: 0.5057 - accuracy: 0.7273\n",
            "accuracy: 72.73%\n",
            "\n",
            "\n",
            "3/3 [==============================] - 0s 5ms/step - loss: 0.5912 - accuracy: 0.7500\n",
            "accuracy: 75.00%\n",
            "\n",
            "\n",
            "3/3 [==============================] - 0s 4ms/step - loss: 0.7004 - accuracy: 0.7368\n",
            "accuracy: 73.68%\n",
            "\n",
            "\n",
            "74.74% (+/- 3.73%)\n"
          ],
          "name": "stdout"
        }
      ]
    }
  ]
}