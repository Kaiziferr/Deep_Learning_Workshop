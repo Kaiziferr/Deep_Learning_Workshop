{
  "nbformat": 4,
  "nbformat_minor": 0,
  "metadata": {
    "colab": {
      "name": "12_workshop_learningrate_adaptative.ipynb",
      "provenance": [],
      "authorship_tag": "ABX9TyNrNLuq6yAZS06yRv9OoQNe",
      "include_colab_link": true
    },
    "kernelspec": {
      "name": "python3",
      "display_name": "Python 3"
    },
    "language_info": {
      "name": "python"
    }
  },
  "cells": [
    {
      "cell_type": "markdown",
      "metadata": {
        "id": "view-in-github",
        "colab_type": "text"
      },
      "source": [
        "<a href=\"https://colab.research.google.com/github/Kaiziferr/Deep_Learning_Workshop/blob/master/12_workshop_learningrate_adaptative.ipynb\" target=\"_parent\"><img src=\"https://colab.research.google.com/assets/colab-badge.svg\" alt=\"Open In Colab\"/></a>"
      ]
    },
    {
      "cell_type": "markdown",
      "metadata": {
        "id": "nx_XwrVBdzs6"
      },
      "source": [
        "# Tasa de aprendizaje adaptativo o planificaion de las tasa de aprendizaje\n",
        "\n",
        "- Tasa de aprendizaje basado en el tiempo\n",
        "- Tasa de aprendizaje basado en drop\n",
        "\n",
        "Dos planificaciones\n",
        "\n",
        "- Disminución de la tasa de aprendizaje gradualmente segun la epoca\n",
        "- Disminución de la tasa de aprendizaje aplicando droops en epocas especificas\n",
        "\n",
        "\n",
        "\n"
      ]
    },
    {
      "cell_type": "code",
      "metadata": {
        "id": "gTUL1bE4fpiq"
      },
      "source": [
        "import pandas as pd"
      ],
      "execution_count": 1,
      "outputs": []
    },
    {
      "cell_type": "code",
      "metadata": {
        "id": "-N0fE6vNdDuG"
      },
      "source": [
        "# load data\n",
        "url = 'https://raw.githubusercontent.com/jbrownlee/Datasets/master/ionosphere.csv'\n",
        "data = pd.read_csv(url, header=None)\n",
        "data_values = data.values"
      ],
      "execution_count": 2,
      "outputs": []
    },
    {
      "cell_type": "code",
      "metadata": {
        "colab": {
          "base_uri": "https://localhost:8080/"
        },
        "id": "6bvqU64Qfzxi",
        "outputId": "49e17c7b-b1ca-4133-c5cc-07cd4494d435"
      },
      "source": [
        "data_values"
      ],
      "execution_count": 3,
      "outputs": [
        {
          "output_type": "execute_result",
          "data": {
            "text/plain": [
              "array([[1, 0, 0.99539, ..., 0.18641, -0.453, 'g'],\n",
              "       [1, 0, 1.0, ..., -0.13738, -0.02447, 'b'],\n",
              "       [1, 0, 1.0, ..., 0.56045, -0.38238, 'g'],\n",
              "       ...,\n",
              "       [1, 0, 0.94701, ..., 0.9269700000000001, -0.00577, 'g'],\n",
              "       [1, 0, 0.9060799999999999, ..., 0.87403, -0.16243, 'g'],\n",
              "       [1, 0, 0.8471, ..., 0.85764, -0.06151, 'g']], dtype=object)"
            ]
          },
          "metadata": {
            "tags": []
          },
          "execution_count": 3
        }
      ]
    },
    {
      "cell_type": "markdown",
      "metadata": {
        "id": "QKZ3d9Tggobf"
      },
      "source": [
        "# Planificación de learning rate en función del tiempo"
      ]
    },
    {
      "cell_type": "code",
      "metadata": {
        "id": "h1lhgvX5gzBK"
      },
      "source": [
        "from keras.models import Sequential\n",
        "from keras.layers import Dense\n",
        "from keras.optimizers import SGD\n",
        "from sklearn.preprocessing import LabelEncoder, StandardScaler\n",
        "from keras.callbacks import LearningRateScheduler\n",
        "\n",
        "import math"
      ],
      "execution_count": 4,
      "outputs": []
    },
    {
      "cell_type": "code",
      "metadata": {
        "id": "oZKhONN5hUUp"
      },
      "source": [
        "X = data_values[:, 0:34].astype('float64')\n",
        "y = data_values[:, 34]"
      ],
      "execution_count": 5,
      "outputs": []
    },
    {
      "cell_type": "code",
      "metadata": {
        "id": "uMQoP57shg4w"
      },
      "source": [
        "#Encode\n",
        "encoder = LabelEncoder()\n",
        "encoder.fit(y)\n",
        "y_encode = encoder.transform(y)"
      ],
      "execution_count": 6,
      "outputs": []
    },
    {
      "cell_type": "code",
      "metadata": {
        "id": "Qdsy0gn0h2_2"
      },
      "source": [
        "#Create model\n",
        "model = Sequential()\n",
        "model.add(Dense(34, input_dim = 34, activation='relu'))\n",
        "model.add(Dense(1, activation='sigmoid'))"
      ],
      "execution_count": 7,
      "outputs": []
    },
    {
      "cell_type": "code",
      "metadata": {
        "id": "WO37nk1miIkH"
      },
      "source": [
        "#compile model\n",
        "epoch = 50\n",
        "lr = 0.1\n",
        "decay_rate = lr/epoch\n",
        "momentum = 0.8\n",
        "\n",
        "sgd = SGD(learning_rate=lr, momentum=momentum, decay=decay_rate, nesterov=False)\n",
        "model.compile(loss='binary_crossentropy', optimizer=sgd, metrics=['accuracy'])"
      ],
      "execution_count": 8,
      "outputs": []
    },
    {
      "cell_type": "code",
      "metadata": {
        "colab": {
          "base_uri": "https://localhost:8080/"
        },
        "id": "Q1rAdw1Vi6cU",
        "outputId": "c2054d94-0f6a-4388-abaa-fdfa5526242d"
      },
      "source": [
        "model.fit(X, y_encode, validation_split=0.33, epochs=epoch, batch_size=28,verbose=2)"
      ],
      "execution_count": 9,
      "outputs": [
        {
          "output_type": "stream",
          "text": [
            "Epoch 1/50\n",
            "9/9 - 1s - loss: 0.6613 - accuracy: 0.6298 - val_loss: 0.5163 - val_accuracy: 0.9310\n",
            "Epoch 2/50\n",
            "9/9 - 0s - loss: 0.4705 - accuracy: 0.8468 - val_loss: 0.3918 - val_accuracy: 0.9397\n",
            "Epoch 3/50\n",
            "9/9 - 0s - loss: 0.3427 - accuracy: 0.8936 - val_loss: 0.1984 - val_accuracy: 0.9741\n",
            "Epoch 4/50\n",
            "9/9 - 0s - loss: 0.2807 - accuracy: 0.9106 - val_loss: 0.1719 - val_accuracy: 0.9828\n",
            "Epoch 5/50\n",
            "9/9 - 0s - loss: 0.2406 - accuracy: 0.9149 - val_loss: 0.1391 - val_accuracy: 0.9828\n",
            "Epoch 6/50\n",
            "9/9 - 0s - loss: 0.2049 - accuracy: 0.9319 - val_loss: 0.1411 - val_accuracy: 0.9828\n",
            "Epoch 7/50\n",
            "9/9 - 0s - loss: 0.1715 - accuracy: 0.9489 - val_loss: 0.1260 - val_accuracy: 0.9828\n",
            "Epoch 8/50\n",
            "9/9 - 0s - loss: 0.1565 - accuracy: 0.9447 - val_loss: 0.1839 - val_accuracy: 0.9655\n",
            "Epoch 9/50\n",
            "9/9 - 0s - loss: 0.1493 - accuracy: 0.9532 - val_loss: 0.1144 - val_accuracy: 0.9828\n",
            "Epoch 10/50\n",
            "9/9 - 0s - loss: 0.1371 - accuracy: 0.9617 - val_loss: 0.1170 - val_accuracy: 0.9828\n",
            "Epoch 11/50\n",
            "9/9 - 0s - loss: 0.1261 - accuracy: 0.9702 - val_loss: 0.1199 - val_accuracy: 0.9828\n",
            "Epoch 12/50\n",
            "9/9 - 0s - loss: 0.1163 - accuracy: 0.9787 - val_loss: 0.0869 - val_accuracy: 0.9914\n",
            "Epoch 13/50\n",
            "9/9 - 0s - loss: 0.1117 - accuracy: 0.9745 - val_loss: 0.1263 - val_accuracy: 0.9828\n",
            "Epoch 14/50\n",
            "9/9 - 0s - loss: 0.1014 - accuracy: 0.9702 - val_loss: 0.0737 - val_accuracy: 0.9914\n",
            "Epoch 15/50\n",
            "9/9 - 0s - loss: 0.1072 - accuracy: 0.9660 - val_loss: 0.0852 - val_accuracy: 0.9828\n",
            "Epoch 16/50\n",
            "9/9 - 0s - loss: 0.1132 - accuracy: 0.9660 - val_loss: 0.1446 - val_accuracy: 0.9655\n",
            "Epoch 17/50\n",
            "9/9 - 0s - loss: 0.0984 - accuracy: 0.9745 - val_loss: 0.0876 - val_accuracy: 0.9914\n",
            "Epoch 18/50\n",
            "9/9 - 0s - loss: 0.0887 - accuracy: 0.9787 - val_loss: 0.0849 - val_accuracy: 0.9914\n",
            "Epoch 19/50\n",
            "9/9 - 0s - loss: 0.0856 - accuracy: 0.9830 - val_loss: 0.0830 - val_accuracy: 0.9914\n",
            "Epoch 20/50\n",
            "9/9 - 0s - loss: 0.0835 - accuracy: 0.9830 - val_loss: 0.0796 - val_accuracy: 0.9914\n",
            "Epoch 21/50\n",
            "9/9 - 0s - loss: 0.0822 - accuracy: 0.9830 - val_loss: 0.1092 - val_accuracy: 0.9828\n",
            "Epoch 22/50\n",
            "9/9 - 0s - loss: 0.0948 - accuracy: 0.9745 - val_loss: 0.0611 - val_accuracy: 0.9914\n",
            "Epoch 23/50\n",
            "9/9 - 0s - loss: 0.0830 - accuracy: 0.9787 - val_loss: 0.0935 - val_accuracy: 0.9914\n",
            "Epoch 24/50\n",
            "9/9 - 0s - loss: 0.0734 - accuracy: 0.9787 - val_loss: 0.0727 - val_accuracy: 0.9914\n",
            "Epoch 25/50\n",
            "9/9 - 0s - loss: 0.0813 - accuracy: 0.9830 - val_loss: 0.1035 - val_accuracy: 0.9828\n",
            "Epoch 26/50\n",
            "9/9 - 0s - loss: 0.0718 - accuracy: 0.9872 - val_loss: 0.0774 - val_accuracy: 0.9914\n",
            "Epoch 27/50\n",
            "9/9 - 0s - loss: 0.0699 - accuracy: 0.9830 - val_loss: 0.1044 - val_accuracy: 0.9828\n",
            "Epoch 28/50\n",
            "9/9 - 0s - loss: 0.0692 - accuracy: 0.9787 - val_loss: 0.0631 - val_accuracy: 0.9914\n",
            "Epoch 29/50\n",
            "9/9 - 0s - loss: 0.0695 - accuracy: 0.9830 - val_loss: 0.0679 - val_accuracy: 0.9914\n",
            "Epoch 30/50\n",
            "9/9 - 0s - loss: 0.0678 - accuracy: 0.9830 - val_loss: 0.0825 - val_accuracy: 0.9914\n",
            "Epoch 31/50\n",
            "9/9 - 0s - loss: 0.0618 - accuracy: 0.9830 - val_loss: 0.0729 - val_accuracy: 0.9914\n",
            "Epoch 32/50\n",
            "9/9 - 0s - loss: 0.0611 - accuracy: 0.9830 - val_loss: 0.0782 - val_accuracy: 0.9914\n",
            "Epoch 33/50\n",
            "9/9 - 0s - loss: 0.0596 - accuracy: 0.9872 - val_loss: 0.0714 - val_accuracy: 0.9914\n",
            "Epoch 34/50\n",
            "9/9 - 0s - loss: 0.0571 - accuracy: 0.9872 - val_loss: 0.0830 - val_accuracy: 0.9914\n",
            "Epoch 35/50\n",
            "9/9 - 0s - loss: 0.0560 - accuracy: 0.9872 - val_loss: 0.0681 - val_accuracy: 0.9914\n",
            "Epoch 36/50\n",
            "9/9 - 0s - loss: 0.0556 - accuracy: 0.9872 - val_loss: 0.0780 - val_accuracy: 0.9914\n",
            "Epoch 37/50\n",
            "9/9 - 0s - loss: 0.0578 - accuracy: 0.9915 - val_loss: 0.0609 - val_accuracy: 0.9914\n",
            "Epoch 38/50\n",
            "9/9 - 0s - loss: 0.0595 - accuracy: 0.9872 - val_loss: 0.0826 - val_accuracy: 0.9828\n",
            "Epoch 39/50\n",
            "9/9 - 0s - loss: 0.0525 - accuracy: 0.9872 - val_loss: 0.0629 - val_accuracy: 0.9914\n",
            "Epoch 40/50\n",
            "9/9 - 0s - loss: 0.0516 - accuracy: 0.9872 - val_loss: 0.0660 - val_accuracy: 0.9914\n",
            "Epoch 41/50\n",
            "9/9 - 0s - loss: 0.0498 - accuracy: 0.9872 - val_loss: 0.0734 - val_accuracy: 0.9914\n",
            "Epoch 42/50\n",
            "9/9 - 0s - loss: 0.0497 - accuracy: 0.9872 - val_loss: 0.0702 - val_accuracy: 0.9914\n",
            "Epoch 43/50\n",
            "9/9 - 0s - loss: 0.0484 - accuracy: 0.9915 - val_loss: 0.0632 - val_accuracy: 0.9914\n",
            "Epoch 44/50\n",
            "9/9 - 0s - loss: 0.0494 - accuracy: 0.9872 - val_loss: 0.0682 - val_accuracy: 0.9914\n",
            "Epoch 45/50\n",
            "9/9 - 0s - loss: 0.0478 - accuracy: 0.9915 - val_loss: 0.0727 - val_accuracy: 0.9914\n",
            "Epoch 46/50\n",
            "9/9 - 0s - loss: 0.0469 - accuracy: 0.9915 - val_loss: 0.0644 - val_accuracy: 0.9914\n",
            "Epoch 47/50\n",
            "9/9 - 0s - loss: 0.0458 - accuracy: 0.9915 - val_loss: 0.0676 - val_accuracy: 0.9914\n",
            "Epoch 48/50\n",
            "9/9 - 0s - loss: 0.0446 - accuracy: 0.9915 - val_loss: 0.0690 - val_accuracy: 0.9914\n",
            "Epoch 49/50\n",
            "9/9 - 0s - loss: 0.0526 - accuracy: 0.9872 - val_loss: 0.0691 - val_accuracy: 0.9914\n",
            "Epoch 50/50\n",
            "9/9 - 0s - loss: 0.0448 - accuracy: 0.9915 - val_loss: 0.0664 - val_accuracy: 0.9914\n"
          ],
          "name": "stdout"
        },
        {
          "output_type": "execute_result",
          "data": {
            "text/plain": [
              "<tensorflow.python.keras.callbacks.History at 0x7f766bba7310>"
            ]
          },
          "metadata": {
            "tags": []
          },
          "execution_count": 9
        }
      ]
    },
    {
      "cell_type": "markdown",
      "metadata": {
        "id": "9C3V1VacyrDN"
      },
      "source": [
        "# Tasa de aprendizaje basado en caidas (drop)"
      ]
    },
    {
      "cell_type": "code",
      "metadata": {
        "id": "kJskhP5Rz3ep"
      },
      "source": [
        "def step_decay(epoch):\n",
        "  initial_rate = 0.1\n",
        "  drop = 0.5\n",
        "  epochs_drop = 10\n",
        "  lrate = initial_rate * math.pow(drop, math.floor(1+epoch) / epochs_drop)\n",
        "  return lrate"
      ],
      "execution_count": 14,
      "outputs": []
    },
    {
      "cell_type": "code",
      "metadata": {
        "id": "mnIhdgB-ywjt"
      },
      "source": [
        "#Create model\n",
        "model = Sequential()\n",
        "model.add(Dense(34, input_dim = 34, activation='relu'))\n",
        "model.add(Dense(1, activation='sigmoid'))"
      ],
      "execution_count": 15,
      "outputs": []
    },
    {
      "cell_type": "code",
      "metadata": {
        "id": "Pg02xgIrzqW-"
      },
      "source": [
        "\n",
        "#compile modelo\n",
        "sgd = SGD(learning_rate=0.0, momentum=0.9)\n",
        "model.compile(loss='binary_crossentropy', optimizer=sgd, metrics=['accuracy'])"
      ],
      "execution_count": 16,
      "outputs": []
    },
    {
      "cell_type": "code",
      "metadata": {
        "colab": {
          "base_uri": "https://localhost:8080/"
        },
        "id": "OL2uCtvp1Cmw",
        "outputId": "c37da397-de51-4800-ad58-6c5351aad6e1"
      },
      "source": [
        "# Planificador de aprendizaje\n",
        "lrate = LearningRateScheduler(step_decay)\n",
        "callback_list = [lrate]\n",
        "\n",
        "\n",
        "model.fit(X, y_encode, validation_split=0.33,epochs=50, batch_size=28, callbacks=callback_list, verbose = 2)"
      ],
      "execution_count": 17,
      "outputs": [
        {
          "output_type": "stream",
          "text": [
            "Epoch 1/50\n",
            "9/9 - 1s - loss: 0.5935 - accuracy: 0.6596 - val_loss: 0.5072 - val_accuracy: 0.8103\n",
            "Epoch 2/50\n",
            "9/9 - 0s - loss: 0.4041 - accuracy: 0.8638 - val_loss: 0.2771 - val_accuracy: 0.9741\n",
            "Epoch 3/50\n",
            "9/9 - 0s - loss: 0.2821 - accuracy: 0.9064 - val_loss: 0.1992 - val_accuracy: 0.9741\n",
            "Epoch 4/50\n",
            "9/9 - 0s - loss: 0.2016 - accuracy: 0.9234 - val_loss: 0.1974 - val_accuracy: 0.9569\n",
            "Epoch 5/50\n",
            "9/9 - 0s - loss: 0.1678 - accuracy: 0.9489 - val_loss: 0.1041 - val_accuracy: 0.9741\n",
            "Epoch 6/50\n",
            "9/9 - 0s - loss: 0.1596 - accuracy: 0.9532 - val_loss: 0.3238 - val_accuracy: 0.8621\n",
            "Epoch 7/50\n",
            "9/9 - 0s - loss: 0.1499 - accuracy: 0.9447 - val_loss: 0.0746 - val_accuracy: 0.9741\n",
            "Epoch 8/50\n",
            "9/9 - 0s - loss: 0.1564 - accuracy: 0.9489 - val_loss: 0.2301 - val_accuracy: 0.9310\n",
            "Epoch 9/50\n",
            "9/9 - 0s - loss: 0.1224 - accuracy: 0.9574 - val_loss: 0.0764 - val_accuracy: 0.9741\n",
            "Epoch 10/50\n",
            "9/9 - 0s - loss: 0.1167 - accuracy: 0.9660 - val_loss: 0.1302 - val_accuracy: 0.9828\n",
            "Epoch 11/50\n",
            "9/9 - 0s - loss: 0.0993 - accuracy: 0.9745 - val_loss: 0.0789 - val_accuracy: 0.9828\n",
            "Epoch 12/50\n",
            "9/9 - 0s - loss: 0.0945 - accuracy: 0.9745 - val_loss: 0.1033 - val_accuracy: 0.9828\n",
            "Epoch 13/50\n",
            "9/9 - 0s - loss: 0.0881 - accuracy: 0.9702 - val_loss: 0.0806 - val_accuracy: 0.9828\n",
            "Epoch 14/50\n",
            "9/9 - 0s - loss: 0.0813 - accuracy: 0.9745 - val_loss: 0.0912 - val_accuracy: 0.9828\n",
            "Epoch 15/50\n",
            "9/9 - 0s - loss: 0.0781 - accuracy: 0.9830 - val_loss: 0.0824 - val_accuracy: 0.9828\n",
            "Epoch 16/50\n",
            "9/9 - 0s - loss: 0.0756 - accuracy: 0.9830 - val_loss: 0.0770 - val_accuracy: 0.9828\n",
            "Epoch 17/50\n",
            "9/9 - 0s - loss: 0.0738 - accuracy: 0.9830 - val_loss: 0.0815 - val_accuracy: 0.9828\n",
            "Epoch 18/50\n",
            "9/9 - 0s - loss: 0.0714 - accuracy: 0.9830 - val_loss: 0.0793 - val_accuracy: 0.9828\n",
            "Epoch 19/50\n",
            "9/9 - 0s - loss: 0.0692 - accuracy: 0.9830 - val_loss: 0.0706 - val_accuracy: 0.9828\n",
            "Epoch 20/50\n",
            "9/9 - 0s - loss: 0.0684 - accuracy: 0.9830 - val_loss: 0.0731 - val_accuracy: 0.9828\n",
            "Epoch 21/50\n",
            "9/9 - 0s - loss: 0.0681 - accuracy: 0.9830 - val_loss: 0.0763 - val_accuracy: 0.9828\n",
            "Epoch 22/50\n",
            "9/9 - 0s - loss: 0.0658 - accuracy: 0.9830 - val_loss: 0.0860 - val_accuracy: 0.9828\n",
            "Epoch 23/50\n",
            "9/9 - 0s - loss: 0.0638 - accuracy: 0.9830 - val_loss: 0.0736 - val_accuracy: 0.9828\n",
            "Epoch 24/50\n",
            "9/9 - 0s - loss: 0.0628 - accuracy: 0.9830 - val_loss: 0.0665 - val_accuracy: 0.9828\n",
            "Epoch 25/50\n",
            "9/9 - 0s - loss: 0.0623 - accuracy: 0.9830 - val_loss: 0.0736 - val_accuracy: 0.9828\n",
            "Epoch 26/50\n",
            "9/9 - 0s - loss: 0.0609 - accuracy: 0.9830 - val_loss: 0.0779 - val_accuracy: 0.9828\n",
            "Epoch 27/50\n",
            "9/9 - 0s - loss: 0.0614 - accuracy: 0.9830 - val_loss: 0.0735 - val_accuracy: 0.9828\n",
            "Epoch 28/50\n",
            "9/9 - 0s - loss: 0.0608 - accuracy: 0.9830 - val_loss: 0.0614 - val_accuracy: 0.9828\n",
            "Epoch 29/50\n",
            "9/9 - 0s - loss: 0.0610 - accuracy: 0.9830 - val_loss: 0.0695 - val_accuracy: 0.9828\n",
            "Epoch 30/50\n",
            "9/9 - 0s - loss: 0.0582 - accuracy: 0.9830 - val_loss: 0.0708 - val_accuracy: 0.9828\n",
            "Epoch 31/50\n",
            "9/9 - 0s - loss: 0.0580 - accuracy: 0.9830 - val_loss: 0.0739 - val_accuracy: 0.9828\n",
            "Epoch 32/50\n",
            "9/9 - 0s - loss: 0.0573 - accuracy: 0.9830 - val_loss: 0.0713 - val_accuracy: 0.9828\n",
            "Epoch 33/50\n",
            "9/9 - 0s - loss: 0.0570 - accuracy: 0.9830 - val_loss: 0.0656 - val_accuracy: 0.9828\n",
            "Epoch 34/50\n",
            "9/9 - 0s - loss: 0.0566 - accuracy: 0.9830 - val_loss: 0.0679 - val_accuracy: 0.9828\n",
            "Epoch 35/50\n",
            "9/9 - 0s - loss: 0.0565 - accuracy: 0.9830 - val_loss: 0.0714 - val_accuracy: 0.9828\n",
            "Epoch 36/50\n",
            "9/9 - 0s - loss: 0.0557 - accuracy: 0.9830 - val_loss: 0.0694 - val_accuracy: 0.9828\n",
            "Epoch 37/50\n",
            "9/9 - 0s - loss: 0.0554 - accuracy: 0.9830 - val_loss: 0.0669 - val_accuracy: 0.9828\n",
            "Epoch 38/50\n",
            "9/9 - 0s - loss: 0.0553 - accuracy: 0.9830 - val_loss: 0.0687 - val_accuracy: 0.9828\n",
            "Epoch 39/50\n",
            "9/9 - 0s - loss: 0.0548 - accuracy: 0.9830 - val_loss: 0.0655 - val_accuracy: 0.9828\n",
            "Epoch 40/50\n",
            "9/9 - 0s - loss: 0.0550 - accuracy: 0.9830 - val_loss: 0.0675 - val_accuracy: 0.9828\n",
            "Epoch 41/50\n",
            "9/9 - 0s - loss: 0.0545 - accuracy: 0.9830 - val_loss: 0.0687 - val_accuracy: 0.9828\n",
            "Epoch 42/50\n",
            "9/9 - 0s - loss: 0.0543 - accuracy: 0.9830 - val_loss: 0.0666 - val_accuracy: 0.9828\n",
            "Epoch 43/50\n",
            "9/9 - 0s - loss: 0.0540 - accuracy: 0.9830 - val_loss: 0.0672 - val_accuracy: 0.9828\n",
            "Epoch 44/50\n",
            "9/9 - 0s - loss: 0.0538 - accuracy: 0.9830 - val_loss: 0.0688 - val_accuracy: 0.9828\n",
            "Epoch 45/50\n",
            "9/9 - 0s - loss: 0.0537 - accuracy: 0.9830 - val_loss: 0.0728 - val_accuracy: 0.9828\n",
            "Epoch 46/50\n",
            "9/9 - 0s - loss: 0.0535 - accuracy: 0.9830 - val_loss: 0.0714 - val_accuracy: 0.9828\n",
            "Epoch 47/50\n",
            "9/9 - 0s - loss: 0.0534 - accuracy: 0.9830 - val_loss: 0.0678 - val_accuracy: 0.9828\n",
            "Epoch 48/50\n",
            "9/9 - 0s - loss: 0.0531 - accuracy: 0.9830 - val_loss: 0.0680 - val_accuracy: 0.9828\n",
            "Epoch 49/50\n",
            "9/9 - 0s - loss: 0.0530 - accuracy: 0.9830 - val_loss: 0.0694 - val_accuracy: 0.9828\n",
            "Epoch 50/50\n",
            "9/9 - 0s - loss: 0.0528 - accuracy: 0.9830 - val_loss: 0.0689 - val_accuracy: 0.9828\n"
          ],
          "name": "stdout"
        },
        {
          "output_type": "execute_result",
          "data": {
            "text/plain": [
              "<tensorflow.python.keras.callbacks.History at 0x7f76681b32d0>"
            ]
          },
          "metadata": {
            "tags": []
          },
          "execution_count": 17
        }
      ]
    },
    {
      "cell_type": "markdown",
      "metadata": {
        "id": "JLUazH252cYY"
      },
      "source": [
        "- Incrementar la tasa de aprendizaje inicial, debido a que la tasa de aprendizaje disminuira, inicie con un valor mayor desde el cual disminuir\n",
        "\n",
        "- Utilizar un gran momentum\n",
        "\n",
        "- Experiencie con diferentes planificacion"
      ]
    }
  ]
}