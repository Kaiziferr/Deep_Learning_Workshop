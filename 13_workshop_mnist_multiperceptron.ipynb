{
  "nbformat": 4,
  "nbformat_minor": 0,
  "metadata": {
    "colab": {
      "name": "13_workshop_mnist_multiperceptron.ipynb",
      "provenance": [],
      "authorship_tag": "ABX9TyMNvnCBg4iyv8Fi6zyrxMk9",
      "include_colab_link": true
    },
    "kernelspec": {
      "name": "python3",
      "display_name": "Python 3"
    },
    "language_info": {
      "name": "python"
    },
    "accelerator": "GPU"
  },
  "cells": [
    {
      "cell_type": "markdown",
      "metadata": {
        "id": "view-in-github",
        "colab_type": "text"
      },
      "source": [
        "<a href=\"https://colab.research.google.com/github/Kaiziferr/Deep_Learning_Workshop/blob/master/13_workshop_mnist_multiperceptron.ipynb\" target=\"_parent\"><img src=\"https://colab.research.google.com/assets/colab-badge.svg\" alt=\"Open In Colab\"/></a>"
      ]
    },
    {
      "cell_type": "code",
      "metadata": {
        "id": "-7c0Cbo1JvKl"
      },
      "source": [
        "from keras.datasets import mnist\n",
        "import matplotlib.pyplot as plt"
      ],
      "execution_count": 1,
      "outputs": []
    },
    {
      "cell_type": "code",
      "metadata": {
        "colab": {
          "base_uri": "https://localhost:8080/"
        },
        "id": "47MstbjcNnTQ",
        "outputId": "b099f4fd-2042-4b47-ab3c-41c1c6284917"
      },
      "source": [
        "#load data\n",
        "(X_train, y_train), (X_test, y_test) = mnist.load_data()"
      ],
      "execution_count": 2,
      "outputs": [
        {
          "output_type": "stream",
          "text": [
            "Downloading data from https://storage.googleapis.com/tensorflow/tf-keras-datasets/mnist.npz\n",
            "11493376/11490434 [==============================] - 0s 0us/step\n"
          ],
          "name": "stdout"
        }
      ]
    },
    {
      "cell_type": "code",
      "metadata": {
        "colab": {
          "base_uri": "https://localhost:8080/",
          "height": 285
        },
        "id": "_EtPT_RSNyz_",
        "outputId": "31d4f283-a5c8-44a6-c8a0-7084f530f8ac"
      },
      "source": [
        "#plot 4 images as gray scale\n",
        "plt.subplot(221)\n",
        "plt.imshow(X_train[0], cmap=plt.get_cmap('gray'))\n",
        "plt.subplot(222)\n",
        "plt.imshow(X_train[1], cmap=plt.get_cmap('gray'))\n",
        "plt.subplot(223)\n",
        "plt.imshow(X_train[2], cmap=plt.get_cmap('gray'))\n",
        "plt.subplot(224)\n",
        "plt.imshow(X_train[3], cmap=plt.get_cmap('gray'))"
      ],
      "execution_count": 3,
      "outputs": [
        {
          "output_type": "execute_result",
          "data": {
            "text/plain": [
              "<matplotlib.image.AxesImage at 0x7f4a90e73e10>"
            ]
          },
          "metadata": {
            "tags": []
          },
          "execution_count": 3
        },
        {
          "output_type": "display_data",
          "data": {
            "image/png": "[encoded data removed]",
            "text/plain": [
              "<Figure size 432x288 with 4 Axes>"
            ]
          },
          "metadata": {
            "tags": [],
            "needs_background": "light"
          }
        }
      ]
    },
    {
      "cell_type": "code",
      "metadata": {
        "id": "e3QiZ2icOfqh"
      },
      "source": [
        "from keras.models import Sequential\n",
        "from keras.layers import Dense\n",
        "from keras.utils import to_categorical"
      ],
      "execution_count": 4,
      "outputs": []
    },
    {
      "cell_type": "markdown",
      "metadata": {
        "id": "CqawyrzLUEwT"
      },
      "source": [
        "**Normalizar los pixeles**\n",
        "- reshape en las dimensiones (El problema se abordara con una red full conect)\n",
        "- Tiparlos a float\n",
        "- Dividirlos por 255, ya que las imagenes son escalas de grises "
      ]
    },
    {
      "cell_type": "code",
      "metadata": {
        "id": "oea7lJ4aU0Mh"
      },
      "source": [
        "X_train = X_train.reshape((X_train.shape[0], X_train.shape[1] * X_train.shape[2])).astype('float32') / 255\n",
        "X_test = X_test.reshape((X_test.shape[0], X_test.shape[1] * X_test.shape[2])).astype('float32') / 255"
      ],
      "execution_count": 5,
      "outputs": []
    },
    {
      "cell_type": "markdown",
      "metadata": {
        "id": "Vnvl0_g1XHud"
      },
      "source": [
        "Es un problema de clasificación, necesitamos convertir las etiquetas a una matriz binario"
      ]
    },
    {
      "cell_type": "code",
      "metadata": {
        "id": "0zZpin4GWTOT"
      },
      "source": [
        "y_train = to_categorical(y_train)\n",
        "y_test = to_categorical(y_test)"
      ],
      "execution_count": 6,
      "outputs": []
    },
    {
      "cell_type": "code",
      "metadata": {
        "colab": {
          "base_uri": "https://localhost:8080/"
        },
        "id": "KXy6QaT5Yb1m",
        "outputId": "eee6c682-a6f5-4d29-db4e-89e1849ce1e7"
      },
      "source": [
        "y_train.shape"
      ],
      "execution_count": 7,
      "outputs": [
        {
          "output_type": "execute_result",
          "data": {
            "text/plain": [
              "(60000, 10)"
            ]
          },
          "metadata": {
            "tags": []
          },
          "execution_count": 7
        }
      ]
    },
    {
      "cell_type": "code",
      "metadata": {
        "colab": {
          "base_uri": "https://localhost:8080/"
        },
        "id": "WduXOjh_Xkyd",
        "outputId": "635896e4-3912-42a6-aa6f-595974fc0411"
      },
      "source": [
        "y_train[0]"
      ],
      "execution_count": 8,
      "outputs": [
        {
          "output_type": "execute_result",
          "data": {
            "text/plain": [
              "array([0., 0., 0., 0., 0., 1., 0., 0., 0., 0.], dtype=float32)"
            ]
          },
          "metadata": {
            "tags": []
          },
          "execution_count": 8
        }
      ]
    },
    {
      "cell_type": "code",
      "metadata": {
        "id": "eUAkHxQgX7_H"
      },
      "source": [
        "# Define model\n",
        "def baseline_model():\n",
        "  #Create model\n",
        "  model = Sequential()\n",
        "  model.add(Dense(784, input_dim = 784, activation='relu'))\n",
        "  model.add(Dense(10, activation='softmax'))\n",
        "\n",
        "  #compile model\n",
        "  model.compile(loss = 'categorical_crossentropy', optimizer = 'adam', metrics = ['accuracy'])\n",
        "  return model"
      ],
      "execution_count": 9,
      "outputs": []
    },
    {
      "cell_type": "code",
      "metadata": {
        "colab": {
          "base_uri": "https://localhost:8080/"
        },
        "id": "6Khz20DbbE0X",
        "outputId": "e6807907-73bc-48af-aa58-df46162c6c1c"
      },
      "source": [
        "X_test.shape"
      ],
      "execution_count": 10,
      "outputs": [
        {
          "output_type": "execute_result",
          "data": {
            "text/plain": [
              "(10000, 784)"
            ]
          },
          "metadata": {
            "tags": []
          },
          "execution_count": 10
        }
      ]
    },
    {
      "cell_type": "code",
      "metadata": {
        "colab": {
          "base_uri": "https://localhost:8080/"
        },
        "id": "OCzbGqHUaADw",
        "outputId": "7b62ae1b-733a-4a84-eadd-157bb1926f8a"
      },
      "source": [
        "model = baseline_model()\n",
        "model.fit(X_train, y_train, validation_data = (X_test, y_test), epochs = 10, batch_size = 200, verbose = 2)"
      ],
      "execution_count": 11,
      "outputs": [
        {
          "output_type": "stream",
          "text": [
            "Epoch 1/10\n",
            "300/300 - 4s - loss: 0.2728 - accuracy: 0.9232 - val_loss: 0.1388 - val_accuracy: 0.9594\n",
            "Epoch 2/10\n",
            "300/300 - 1s - loss: 0.1092 - accuracy: 0.9687 - val_loss: 0.0943 - val_accuracy: 0.9719\n",
            "Epoch 3/10\n",
            "300/300 - 1s - loss: 0.0708 - accuracy: 0.9795 - val_loss: 0.0770 - val_accuracy: 0.9764\n",
            "Epoch 4/10\n",
            "300/300 - 1s - loss: 0.0514 - accuracy: 0.9854 - val_loss: 0.0682 - val_accuracy: 0.9782\n",
            "Epoch 5/10\n",
            "300/300 - 1s - loss: 0.0376 - accuracy: 0.9894 - val_loss: 0.0668 - val_accuracy: 0.9789\n",
            "Epoch 6/10\n",
            "300/300 - 1s - loss: 0.0279 - accuracy: 0.9925 - val_loss: 0.0610 - val_accuracy: 0.9813\n",
            "Epoch 7/10\n",
            "300/300 - 1s - loss: 0.0211 - accuracy: 0.9943 - val_loss: 0.0583 - val_accuracy: 0.9827\n",
            "Epoch 8/10\n",
            "300/300 - 1s - loss: 0.0160 - accuracy: 0.9960 - val_loss: 0.0636 - val_accuracy: 0.9803\n",
            "Epoch 9/10\n",
            "300/300 - 1s - loss: 0.0118 - accuracy: 0.9974 - val_loss: 0.0627 - val_accuracy: 0.9807\n",
            "Epoch 10/10\n",
            "300/300 - 1s - loss: 0.0087 - accuracy: 0.9984 - val_loss: 0.0598 - val_accuracy: 0.9813\n"
          ],
          "name": "stdout"
        },
        {
          "output_type": "execute_result",
          "data": {
            "text/plain": [
              "<tensorflow.python.keras.callbacks.History at 0x7f4a806a3f10>"
            ]
          },
          "metadata": {
            "tags": []
          },
          "execution_count": 11
        }
      ]
    },
    {
      "cell_type": "code",
      "metadata": {
        "colab": {
          "base_uri": "https://localhost:8080/"
        },
        "id": "LNzwOL3kcOGb",
        "outputId": "f9978ea3-5681-4f08-d189-80e67a655b8b"
      },
      "source": [
        "score = model.evaluate(X_test, y_test, verbose=0)\n",
        "print(\"Error del modelo de linea base: %.2f%%\" % (100-score[1]*100))"
      ],
      "execution_count": 12,
      "outputs": [
        {
          "output_type": "stream",
          "text": [
            "Error del modelo de linea base: 1.87%\n"
          ],
          "name": "stdout"
        }
      ]
    },
    {
      "cell_type": "code",
      "metadata": {
        "colab": {
          "base_uri": "https://localhost:8080/"
        },
        "id": "5YeqNgfvcxRO",
        "outputId": "6a8f47de-fb73-45e1-b9be-f861259f76f2"
      },
      "source": [
        "print('Accuracy :',score[1])\n",
        "print('Loss :',score[0])"
      ],
      "execution_count": 13,
      "outputs": [
        {
          "output_type": "stream",
          "text": [
            "Accuracy : 0.9812999963760376\n",
            "Loss : 0.059761229902505875\n"
          ],
          "name": "stdout"
        }
      ]
    }
  ]
}