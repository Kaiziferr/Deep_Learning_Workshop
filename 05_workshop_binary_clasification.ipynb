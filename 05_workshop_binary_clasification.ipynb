{
  "nbformat": 4,
  "nbformat_minor": 0,
  "metadata": {
    "colab": {
      "name": "05_workshop_binary_clasification.ipynb",
      "provenance": [],
      "authorship_tag": "ABX9TyOrzBulbBT8S/x+EPX7EvjB",
      "include_colab_link": true
    },
    "kernelspec": {
      "name": "python3",
      "display_name": "Python 3"
    },
    "language_info": {
      "name": "python"
    }
  },
  "cells": [
    {
      "cell_type": "markdown",
      "metadata": {
        "id": "view-in-github",
        "colab_type": "text"
      },
      "source": [
        "<a href=\"https://colab.research.google.com/github/Kaiziferr/Deep_Learning_Workshop/blob/master/05_workshop_binary_clasification.ipynb\" target=\"_parent\"><img src=\"https://colab.research.google.com/assets/colab-badge.svg\" alt=\"Open In Colab\"/></a>"
      ]
    },
    {
      "cell_type": "code",
      "metadata": {
        "id": "JaykdPRrwnER"
      },
      "source": [
        "import pandas as pd\n",
        "from keras.models import Sequential\n",
        "from keras.layers import Dense\n",
        "from keras.wrappers.scikit_learn import KerasClassifier\n",
        "from sklearn.model_selection import cross_val_score, StratifiedKFold\n",
        "from sklearn.preprocessing import LabelEncoder"
      ],
      "execution_count": 1,
      "outputs": []
    },
    {
      "cell_type": "code",
      "metadata": {
        "id": "YxmQQAT_x3lC"
      },
      "source": [
        "data = pd.read_csv('https://raw.githubusercontent.com/Kaiziferr/Deep_Learning_Workshop/master/workshop_clasification_binary_multiclass/sonar_csv.csv')\n",
        "data_values = data.values"
      ],
      "execution_count": 2,
      "outputs": []
    },
    {
      "cell_type": "code",
      "metadata": {
        "id": "APwI8zRHyHEa"
      },
      "source": [
        "X = data_values[:,0:60].astype('float64')\n",
        "y = data_values[:,60]"
      ],
      "execution_count": 3,
      "outputs": []
    },
    {
      "cell_type": "code",
      "metadata": {
        "colab": {
          "base_uri": "https://localhost:8080/"
        },
        "id": "gi_PYWRZyfd6",
        "outputId": "22184b41-52f5-476a-dc75-6e85230628e4"
      },
      "source": [
        "encoder = LabelEncoder()\n",
        "encoder.fit(y)\n",
        "encoded_y = encoder.transform(y)\n",
        "encoded_y"
      ],
      "execution_count": 4,
      "outputs": [
        {
          "output_type": "execute_result",
          "data": {
            "text/plain": [
              "array([1, 1, 1, 1, 1, 1, 1, 1, 1, 1, 1, 1, 1, 1, 1, 1, 1, 1, 1, 1, 1, 1,\n",
              "       1, 1, 1, 1, 1, 1, 1, 1, 1, 1, 1, 1, 1, 1, 1, 1, 1, 1, 1, 1, 1, 1,\n",
              "       1, 1, 1, 1, 1, 1, 1, 1, 1, 1, 1, 1, 1, 1, 1, 1, 1, 1, 1, 1, 1, 1,\n",
              "       1, 1, 1, 1, 1, 1, 1, 1, 1, 1, 1, 1, 1, 1, 1, 1, 1, 1, 1, 1, 1, 1,\n",
              "       1, 1, 1, 1, 1, 1, 1, 1, 1, 0, 0, 0, 0, 0, 0, 0, 0, 0, 0, 0, 0, 0,\n",
              "       0, 0, 0, 0, 0, 0, 0, 0, 0, 0, 0, 0, 0, 0, 0, 0, 0, 0, 0, 0, 0, 0,\n",
              "       0, 0, 0, 0, 0, 0, 0, 0, 0, 0, 0, 0, 0, 0, 0, 0, 0, 0, 0, 0, 0, 0,\n",
              "       0, 0, 0, 0, 0, 0, 0, 0, 0, 0, 0, 0, 0, 0, 0, 0, 0, 0, 0, 0, 0, 0,\n",
              "       0, 0, 0, 0, 0, 0, 0, 0, 0, 0, 0, 0, 0, 0, 0, 0, 0, 0, 0, 0, 0, 0,\n",
              "       0, 0, 0, 0, 0, 0, 0, 0, 0, 0])"
            ]
          },
          "metadata": {
            "tags": []
          },
          "execution_count": 4
        }
      ]
    },
    {
      "cell_type": "markdown",
      "metadata": {
        "id": "J2Hk6_68yo7m"
      },
      "source": [
        "Especificacion\n",
        "\n",
        "1. Una capa oculta completamente conectada\n",
        "2. Funcion de activacion ReLu\n",
        "3. Capa salida una sola neurona funcion de activacion sigmoide\n",
        "4. Funcion de perdida binary_crossentropy\n",
        "5. Optimizer adam y Accuracy como metrica"
      ]
    },
    {
      "cell_type": "code",
      "metadata": {
        "id": "VSrajD9yyxEy"
      },
      "source": [
        "def base_model():\n",
        "  model = Sequential()\n",
        "  model.add(Dense(60,input_dim=60,activation='relu'))\n",
        "  model.add(Dense(1, activation='sigmoid'))\n",
        "\n",
        "  model.compile(loss = 'binary_crossentropy', optimizer='adam', metrics=['accuracy'])\n",
        "  return model"
      ],
      "execution_count": 5,
      "outputs": []
    },
    {
      "cell_type": "code",
      "metadata": {
        "id": "0GUlRa_hzg-m"
      },
      "source": [
        "estimator = KerasClassifier(build_fn=base_model, epochs = 100, batch_size = 5, verbose = 0)"
      ],
      "execution_count": 6,
      "outputs": []
    },
    {
      "cell_type": "code",
      "metadata": {
        "colab": {
          "base_uri": "https://localhost:8080/"
        },
        "id": "lXVImP2Azy-Y",
        "outputId": "60b97321-4397-4e4f-839c-97405da4b5f7"
      },
      "source": [
        "kfold = StratifiedKFold(n_splits=10, shuffle=True)\n",
        "results = cross_val_score(estimator, X, encoded_y, cv = kfold)\n",
        "print(\" Linea base: %.2f%% (%.2f%%)\" % (results.mean()*100, results.std()*100))"
      ],
      "execution_count": 7,
      "outputs": [
        {
          "output_type": "stream",
          "text": [
            " Linea base: 81.29% (9.80%)\n"
          ],
          "name": "stdout"
        }
      ]
    },
    {
      "cell_type": "markdown",
      "metadata": {
        "id": "M6hCoKlY65ZI"
      },
      "source": [
        "# Optimizar el rendimiento con procesamiento de datos"
      ]
    },
    {
      "cell_type": "code",
      "metadata": {
        "id": "6vpYCV1e73vM"
      },
      "source": [
        "from sklearn.preprocessing import StandardScaler\n",
        "from sklearn.pipeline import Pipeline"
      ],
      "execution_count": 8,
      "outputs": []
    },
    {
      "cell_type": "code",
      "metadata": {
        "id": "ZHFZWn8Z8BLU"
      },
      "source": [
        "estimator = []\n",
        "estimator.append(('standarize', StandardScaler()))\n",
        "estimator.append(('mlp', KerasClassifier(build_fn=base_model, epochs = 100, batch_size=5, verbose = 0)))"
      ],
      "execution_count": 12,
      "outputs": []
    },
    {
      "cell_type": "code",
      "metadata": {
        "id": "ULBD586_8jzy"
      },
      "source": [
        "pipeline = Pipeline(estimator)\n",
        "kfold = StratifiedKFold(n_splits=10, shuffle=True)\n",
        "results = cross_val_score(pipeline, X, encoded_y, cv=kfold)"
      ],
      "execution_count": 13,
      "outputs": []
    },
    {
      "cell_type": "code",
      "metadata": {
        "colab": {
          "base_uri": "https://localhost:8080/"
        },
        "id": "mn5Eusmp895r",
        "outputId": "deb821db-d517-4e2d-cb5c-9828866ff7ae"
      },
      "source": [
        "print(\"Modelo Estandarizado: %.2f%% (%.2f%%)\" % (results.mean()*100, results.std()*100))"
      ],
      "execution_count": 14,
      "outputs": [
        {
          "output_type": "stream",
          "text": [
            "Modelo Estandarizado: 80.86% (9.90%)\n"
          ],
          "name": "stdout"
        }
      ]
    },
    {
      "cell_type": "markdown",
      "metadata": {
        "id": "gQFlFhZ89tto"
      },
      "source": [
        "# Topologia pequeña"
      ]
    },
    {
      "cell_type": "code",
      "metadata": {
        "id": "1dc3HdZN9yd4"
      },
      "source": [
        "def create_smaller():\n",
        "    model = Sequential()\n",
        "    model.add(Dense(30, input_dim = 60, activation = 'relu'))\n",
        "    model.add(Dense(1, activation='sigmoid'))\n",
        "    \n",
        "    model.compile(loss='binary_crossentropy', optimizer = 'adam', metrics = ['accuracy'])\n",
        "    \n",
        "    return model"
      ],
      "execution_count": 15,
      "outputs": []
    },
    {
      "cell_type": "code",
      "metadata": {
        "colab": {
          "base_uri": "https://localhost:8080/"
        },
        "id": "TEMf2_ct91dH",
        "outputId": "94c78194-00a3-4171-c549-c950b49219bb"
      },
      "source": [
        "estimators = []\n",
        "estimators.append(('standarize', StandardScaler()))\n",
        "estimators.append(('mlp', KerasClassifier(build_fn=create_smaller, epochs = 100, batch_size=5, verbose = 0)))\n",
        "\n",
        "pipeline = Pipeline(estimators)\n",
        "kfold = StratifiedKFold(n_splits = 10, shuffle=True)\n",
        "results = cross_val_score(pipeline, X, encoded_y, cv=kfold)\n",
        "print(\"Modelo Estandarizado: %.2f%% (%.2f%%)\" % (results.mean()*100, results.std()*100))"
      ],
      "execution_count": 16,
      "outputs": [
        {
          "output_type": "stream",
          "text": [
            "Modelo Estandarizado: 84.10% (8.07%)\n"
          ],
          "name": "stdout"
        }
      ]
    },
    {
      "cell_type": "markdown",
      "metadata": {
        "id": "CibrzlGQ959S"
      },
      "source": [
        "# Topologia grande"
      ]
    },
    {
      "cell_type": "code",
      "metadata": {
        "id": "eXESb_Xz97pb"
      },
      "source": [
        "def create_larger():\n",
        "    model = Sequential()\n",
        "    model.add(Dense(60, input_dim = 60, activation = 'relu'))\n",
        "    model.add(Dense(30, activation = 'relu'))\n",
        "    model.add(Dense(1, activation='sigmoid'))\n",
        "    \n",
        "    model.compile(loss='binary_crossentropy', optimizer = 'adam', metrics = ['accuracy'])\n",
        "    \n",
        "    return model"
      ],
      "execution_count": 17,
      "outputs": []
    },
    {
      "cell_type": "code",
      "metadata": {
        "colab": {
          "base_uri": "https://localhost:8080/"
        },
        "id": "rRUQjS-39-Ta",
        "outputId": "aa768123-9e47-4040-cacd-73ee032e6792"
      },
      "source": [
        "\n",
        "estimators = []\n",
        "estimators.append(('standarize', StandardScaler()))\n",
        "estimators.append(('mlp', KerasClassifier(build_fn=create_larger, epochs = 100, batch_size=5, verbose = 0)))\n",
        "\n",
        "pipeline = Pipeline(estimators)\n",
        "kfold = StratifiedKFold(n_splits = 10, shuffle=True)\n",
        "results = cross_val_score(pipeline, X, encoded_y, cv=kfold)\n",
        "print(\"Modelo Estandarizado: %.2f%% (%.2f%%)\" % (results.mean()*100, results.std()*100))"
      ],
      "execution_count": 18,
      "outputs": [
        {
          "output_type": "stream",
          "text": [
            "Modelo Estandarizado: 85.10% (6.19%)\n"
          ],
          "name": "stdout"
        }
      ]
    }
  ]
}