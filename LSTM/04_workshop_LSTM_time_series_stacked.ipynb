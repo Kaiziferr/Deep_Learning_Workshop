{
  "nbformat": 4,
  "nbformat_minor": 0,
  "metadata": {
    "colab": {
      "name": "04_workshop_LSTM_time_series_stacked.ipynb",
      "provenance": [],
      "authorship_tag": "ABX9TyMuJ7xOZnc9K+/g8ju0MfYt",
      "include_colab_link": true
    },
    "kernelspec": {
      "name": "python3",
      "display_name": "Python 3"
    },
    "language_info": {
      "name": "python"
    }
  },
  "cells": [
    {
      "cell_type": "markdown",
      "metadata": {
        "id": "view-in-github",
        "colab_type": "text"
      },
      "source": [
        "<a href=\"https://colab.research.google.com/github/Kaiziferr/deep_learning_workshop/blob/master/LSTM/04_workshop_LSTM_time_series_stacked.ipynb\" target=\"_parent\"><img src=\"https://colab.research.google.com/assets/colab-badge.svg\" alt=\"Open In Colab\"/></a>"
      ]
    },
    {
      "cell_type": "code",
      "source": [
        "import numpy as np\n",
        "import pandas as pd\n",
        "import matplotlib.pyplot as plt\n",
        "import math\n",
        "from keras.models import Sequential\n",
        "from keras.layers import Dense, LSTM\n",
        "from sklearn.preprocessing  import MinMaxScaler\n",
        "from sklearn.metrics import mean_squared_error"
      ],
      "metadata": {
        "id": "mJ6O79jSC6Dg"
      },
      "execution_count": null,
      "outputs": []
    },
    {
      "cell_type": "markdown",
      "source": [
        "# **Contexto**\n",
        "---\n",
        "- Las redes LSTM se pueden apilar de la misma manera que pueden apilar otros tipos de capas. Una adición a la configuración que se requiere es que una capa LSTM antes de cada capa LSTM subsiguiente debe devolver la secuencia.\n",
        "\n",
        "Esto se hace configurando el parámetro return_sequences en la capa True"
      ],
      "metadata": {
        "id": "xci7gzeNBIuw"
      }
    },
    {
      "cell_type": "markdown",
      "source": [
        "# **Data**\n",
        "---\n",
        "Este es un problema en el que, dado un año y un mes, la tareas es predecir el número de pasajeros de aerolineas internecionales en unidades de 1.000. Los datos van desde enero de 1949 hasta diciembre de 1960 o 12 años, con 144 observaciones.\n"
      ],
      "metadata": {
        "id": "H6n1FGdSDjRy"
      }
    },
    {
      "cell_type": "code",
      "execution_count": null,
      "metadata": {
        "id": "2409ux1Q-dg9"
      },
      "outputs": [],
      "source": [
        "url = 'https://raw.githubusercontent.com/jinfagang/LSTM_learn/master/international-airline-passengers.csv'\n",
        "data = pd.read_csv(url, usecols=[1], engine = \"python\")\n",
        "data_values = data.values.astype('float32')"
      ]
    },
    {
      "cell_type": "markdown",
      "source": [
        "# **Normalización**\n",
        "---\n",
        "\n"
      ],
      "metadata": {
        "id": "qIMCz9K5D9En"
      }
    },
    {
      "cell_type": "code",
      "source": [
        "scaler = MinMaxScaler(feature_range=(0,1))\n",
        "data_values = scaler.fit_transform(data_values)"
      ],
      "metadata": {
        "id": "3ssrEjhHD_Pe"
      },
      "execution_count": null,
      "outputs": []
    },
    {
      "cell_type": "code",
      "source": [
        "data_values[:5]"
      ],
      "metadata": {
        "colab": {
          "base_uri": "https://localhost:8080/"
        },
        "id": "sSKD4PBkEKuJ",
        "outputId": "b127d56b-23d2-4140-b4dc-320856845ad4"
      },
      "execution_count": null,
      "outputs": [
        {
          "output_type": "execute_result",
          "data": {
            "text/plain": [
              "array([[0.01544401],\n",
              "       [0.02702703],\n",
              "       [0.05405405],\n",
              "       [0.04826255],\n",
              "       [0.03281853]], dtype=float32)"
            ]
          },
          "metadata": {},
          "execution_count": 4
        }
      ]
    },
    {
      "cell_type": "markdown",
      "source": [
        "# **Data Split**\n",
        "---\n",
        "\n"
      ],
      "metadata": {
        "id": "HW3LFHqIENr3"
      }
    },
    {
      "cell_type": "code",
      "source": [
        "train_size = int(len(data_values)*0.67)\n",
        "test_size = len(data_values) - train_size\n",
        "train, test = data_values[:train_size, :], data_values[train_size:,:]"
      ],
      "metadata": {
        "id": "CEpkRfQuEQ9o"
      },
      "execution_count": null,
      "outputs": []
    },
    {
      "cell_type": "markdown",
      "source": [
        "# **Create Data**\n",
        "---\n",
        "\n"
      ],
      "metadata": {
        "id": "FRMn1wEEEqr4"
      }
    },
    {
      "cell_type": "code",
      "source": [
        "def create_dataset(data, loock_back = 1):\n",
        "  dataX, dataY = [], []\n",
        "  for i in range(len(data)-loock_back-1): \n",
        "    item_x = data[i: (i+loock_back), 0]\n",
        "    item_y = data[i+loock_back,0]\n",
        "    dataX.append(item_x)\n",
        "    dataY.append(item_y)\n",
        "  return np.array(dataX), np.array(dataY)"
      ],
      "metadata": {
        "id": "sxAanb9zEu7g"
      },
      "execution_count": null,
      "outputs": []
    },
    {
      "cell_type": "code",
      "source": [
        "loock_back = 3\n",
        "trainX, trainY = create_dataset(train, loock_back)\n",
        "testX, testY = create_dataset(test, loock_back)"
      ],
      "metadata": {
        "id": "DRlgBqAiFf4Z"
      },
      "execution_count": null,
      "outputs": []
    },
    {
      "cell_type": "markdown",
      "source": [
        "La red LSTM espera que los datos de entrada (X) se proporcionen con una estructura de matriz especifica en forma de [muestras, pasos de tiempo (ventana), caracteristicas]\n",
        "\n",
        "Los datos preparados tienen la forma: [muestras, carcteristicas]\n"
      ],
      "metadata": {
        "id": "6hV9dWBlFwmg"
      }
    },
    {
      "cell_type": "code",
      "source": [
        "print(f'El conjunto de estara dado con {trainX.shape[0]} muestras registros y con {trainX.shape[1]} caracteristicas')\n",
        "print(f'En esta primera pruebas los pasos de tiempo seran {loock_back}')"
      ],
      "metadata": {
        "colab": {
          "base_uri": "https://localhost:8080/"
        },
        "id": "QU5DL6_zGBBY",
        "outputId": "b6f5b8ea-a29f-4ee5-d794-ba88af0e193c"
      },
      "execution_count": null,
      "outputs": [
        {
          "output_type": "stream",
          "name": "stdout",
          "text": [
            "El conjunto de estara dado con 92 muestras registros y con 3 caracteristicas\n",
            "En esta primera pruebas los pasos de tiempo seran 3\n"
          ]
        }
      ]
    },
    {
      "cell_type": "code",
      "source": [
        "trainX = np.reshape(trainX, (trainX.shape[0], trainX.shape[1], 1))\n",
        "testX = np.reshape(testX, (testX.shape[0], testX.shape[1], 1))\n",
        "print(f'Hacemos un reformateo para cumplir [muestras, pasos de tiempo (ventana), caracteristicas] {trainX.shape}')"
      ],
      "metadata": {
        "colab": {
          "base_uri": "https://localhost:8080/"
        },
        "id": "Qfec3GIjGC03",
        "outputId": "0fddeaae-42ee-4b2b-9a5b-8a200cf98ac7"
      },
      "execution_count": null,
      "outputs": [
        {
          "output_type": "stream",
          "name": "stdout",
          "text": [
            "Hacemos un reformateo para cumplir [muestras, pasos de tiempo (ventana), caracteristicas] (92, 3, 1)\n"
          ]
        }
      ]
    },
    {
      "cell_type": "markdown",
      "source": [
        "# **Diseño de LSTM Stacked.**\n",
        "---\n"
      ],
      "metadata": {
        "id": "KtV9yjIIIIQA"
      }
    },
    {
      "cell_type": "code",
      "source": [
        "batch_size = 1\n",
        "model = Sequential()\n",
        "model.add(LSTM(4, batch_input_shape=(batch_size, loock_back, 1), stateful=True, return_sequences=True))\n",
        "model.add(LSTM(4, batch_input_shape=(batch_size, loock_back, 1), stateful=True))\n",
        "model.add(Dense(1))\n",
        "model.compile(loss='mean_squared_error', optimizer = 'adam')\n",
        "for i in range(100):\n",
        "    model.fit(trainX, trainY, epochs=1, batch_size = batch_size, verbose = 2, shuffle = True)\n",
        "    model.reset_states"
      ],
      "metadata": {
        "id": "35hIGIr6IW2p",
        "colab": {
          "base_uri": "https://localhost:8080/"
        },
        "outputId": "0a051821-8d24-4978-8761-41f9d52c3c05"
      },
      "execution_count": null,
      "outputs": [
        {
          "output_type": "stream",
          "name": "stdout",
          "text": [
            "92/92 - 6s - loss: 0.0620 - 6s/epoch - 66ms/step\n",
            "92/92 - 0s - loss: 0.0244 - 448ms/epoch - 5ms/step\n",
            "92/92 - 0s - loss: 0.0229 - 329ms/epoch - 4ms/step\n",
            "92/92 - 0s - loss: 0.0226 - 339ms/epoch - 4ms/step\n",
            "92/92 - 0s - loss: 0.0212 - 405ms/epoch - 4ms/step\n",
            "92/92 - 0s - loss: 0.0201 - 371ms/epoch - 4ms/step\n",
            "92/92 - 0s - loss: 0.0195 - 470ms/epoch - 5ms/step\n",
            "92/92 - 0s - loss: 0.0194 - 365ms/epoch - 4ms/step\n",
            "92/92 - 0s - loss: 0.0190 - 339ms/epoch - 4ms/step\n",
            "92/92 - 0s - loss: 0.0187 - 372ms/epoch - 4ms/step\n",
            "92/92 - 0s - loss: 0.0179 - 435ms/epoch - 5ms/step\n",
            "92/92 - 0s - loss: 0.0169 - 327ms/epoch - 4ms/step\n",
            "92/92 - 0s - loss: 0.0167 - 375ms/epoch - 4ms/step\n",
            "92/92 - 0s - loss: 0.0153 - 387ms/epoch - 4ms/step\n",
            "92/92 - 0s - loss: 0.0136 - 434ms/epoch - 5ms/step\n",
            "92/92 - 0s - loss: 0.0117 - 358ms/epoch - 4ms/step\n",
            "92/92 - 0s - loss: 0.0100 - 333ms/epoch - 4ms/step\n",
            "92/92 - 0s - loss: 0.0091 - 372ms/epoch - 4ms/step\n",
            "92/92 - 0s - loss: 0.0082 - 450ms/epoch - 5ms/step\n",
            "92/92 - 0s - loss: 0.0068 - 380ms/epoch - 4ms/step\n",
            "92/92 - 0s - loss: 0.0055 - 434ms/epoch - 5ms/step\n",
            "92/92 - 0s - loss: 0.0055 - 418ms/epoch - 5ms/step\n",
            "92/92 - 0s - loss: 0.0053 - 358ms/epoch - 4ms/step\n",
            "92/92 - 0s - loss: 0.0048 - 320ms/epoch - 3ms/step\n",
            "92/92 - 0s - loss: 0.0046 - 420ms/epoch - 5ms/step\n",
            "92/92 - 0s - loss: 0.0041 - 321ms/epoch - 3ms/step\n",
            "92/92 - 0s - loss: 0.0037 - 317ms/epoch - 3ms/step\n",
            "92/92 - 0s - loss: 0.0039 - 320ms/epoch - 3ms/step\n",
            "92/92 - 0s - loss: 0.0038 - 338ms/epoch - 4ms/step\n",
            "92/92 - 0s - loss: 0.0041 - 264ms/epoch - 3ms/step\n",
            "92/92 - 0s - loss: 0.0035 - 234ms/epoch - 3ms/step\n",
            "92/92 - 0s - loss: 0.0033 - 238ms/epoch - 3ms/step\n",
            "92/92 - 0s - loss: 0.0038 - 223ms/epoch - 2ms/step\n",
            "92/92 - 0s - loss: 0.0033 - 274ms/epoch - 3ms/step\n",
            "92/92 - 0s - loss: 0.0034 - 257ms/epoch - 3ms/step\n",
            "92/92 - 0s - loss: 0.0032 - 236ms/epoch - 3ms/step\n",
            "92/92 - 0s - loss: 0.0031 - 221ms/epoch - 2ms/step\n",
            "92/92 - 0s - loss: 0.0034 - 244ms/epoch - 3ms/step\n",
            "92/92 - 0s - loss: 0.0031 - 230ms/epoch - 3ms/step\n",
            "92/92 - 0s - loss: 0.0033 - 230ms/epoch - 2ms/step\n",
            "92/92 - 0s - loss: 0.0031 - 222ms/epoch - 2ms/step\n",
            "92/92 - 0s - loss: 0.0029 - 243ms/epoch - 3ms/step\n",
            "92/92 - 0s - loss: 0.0029 - 268ms/epoch - 3ms/step\n",
            "92/92 - 0s - loss: 0.0030 - 211ms/epoch - 2ms/step\n",
            "92/92 - 0s - loss: 0.0028 - 223ms/epoch - 2ms/step\n",
            "92/92 - 0s - loss: 0.0029 - 235ms/epoch - 3ms/step\n",
            "92/92 - 0s - loss: 0.0027 - 251ms/epoch - 3ms/step\n",
            "92/92 - 0s - loss: 0.0025 - 220ms/epoch - 2ms/step\n",
            "92/92 - 0s - loss: 0.0025 - 228ms/epoch - 2ms/step\n",
            "92/92 - 0s - loss: 0.0026 - 285ms/epoch - 3ms/step\n",
            "92/92 - 0s - loss: 0.0023 - 237ms/epoch - 3ms/step\n",
            "92/92 - 0s - loss: 0.0025 - 244ms/epoch - 3ms/step\n",
            "92/92 - 0s - loss: 0.0026 - 251ms/epoch - 3ms/step\n",
            "92/92 - 0s - loss: 0.0025 - 231ms/epoch - 3ms/step\n",
            "92/92 - 0s - loss: 0.0022 - 249ms/epoch - 3ms/step\n",
            "92/92 - 0s - loss: 0.0022 - 249ms/epoch - 3ms/step\n",
            "92/92 - 0s - loss: 0.0022 - 236ms/epoch - 3ms/step\n",
            "92/92 - 0s - loss: 0.0022 - 223ms/epoch - 2ms/step\n",
            "92/92 - 0s - loss: 0.0023 - 232ms/epoch - 3ms/step\n",
            "92/92 - 0s - loss: 0.0023 - 239ms/epoch - 3ms/step\n",
            "92/92 - 0s - loss: 0.0020 - 239ms/epoch - 3ms/step\n",
            "92/92 - 0s - loss: 0.0021 - 229ms/epoch - 2ms/step\n",
            "92/92 - 0s - loss: 0.0019 - 268ms/epoch - 3ms/step\n",
            "92/92 - 0s - loss: 0.0022 - 260ms/epoch - 3ms/step\n",
            "92/92 - 0s - loss: 0.0020 - 226ms/epoch - 2ms/step\n",
            "92/92 - 0s - loss: 0.0019 - 212ms/epoch - 2ms/step\n",
            "92/92 - 0s - loss: 0.0020 - 246ms/epoch - 3ms/step\n",
            "92/92 - 0s - loss: 0.0021 - 235ms/epoch - 3ms/step\n",
            "92/92 - 0s - loss: 0.0019 - 257ms/epoch - 3ms/step\n",
            "92/92 - 0s - loss: 0.0020 - 235ms/epoch - 3ms/step\n",
            "92/92 - 0s - loss: 0.0019 - 236ms/epoch - 3ms/step\n",
            "92/92 - 0s - loss: 0.0019 - 221ms/epoch - 2ms/step\n",
            "92/92 - 0s - loss: 0.0018 - 238ms/epoch - 3ms/step\n",
            "92/92 - 0s - loss: 0.0018 - 268ms/epoch - 3ms/step\n",
            "92/92 - 0s - loss: 0.0018 - 231ms/epoch - 3ms/step\n",
            "92/92 - 0s - loss: 0.0018 - 230ms/epoch - 3ms/step\n",
            "92/92 - 0s - loss: 0.0021 - 236ms/epoch - 3ms/step\n",
            "92/92 - 0s - loss: 0.0018 - 236ms/epoch - 3ms/step\n",
            "92/92 - 0s - loss: 0.0017 - 233ms/epoch - 3ms/step\n",
            "92/92 - 0s - loss: 0.0018 - 274ms/epoch - 3ms/step\n",
            "92/92 - 0s - loss: 0.0019 - 252ms/epoch - 3ms/step\n",
            "92/92 - 0s - loss: 0.0018 - 225ms/epoch - 2ms/step\n",
            "92/92 - 0s - loss: 0.0020 - 281ms/epoch - 3ms/step\n",
            "92/92 - 0s - loss: 0.0017 - 257ms/epoch - 3ms/step\n",
            "92/92 - 0s - loss: 0.0019 - 259ms/epoch - 3ms/step\n",
            "92/92 - 0s - loss: 0.0019 - 239ms/epoch - 3ms/step\n",
            "92/92 - 0s - loss: 0.0018 - 240ms/epoch - 3ms/step\n",
            "92/92 - 0s - loss: 0.0018 - 215ms/epoch - 2ms/step\n",
            "92/92 - 0s - loss: 0.0018 - 211ms/epoch - 2ms/step\n",
            "92/92 - 0s - loss: 0.0017 - 213ms/epoch - 2ms/step\n",
            "92/92 - 0s - loss: 0.0018 - 218ms/epoch - 2ms/step\n",
            "92/92 - 0s - loss: 0.0018 - 213ms/epoch - 2ms/step\n",
            "92/92 - 0s - loss: 0.0018 - 211ms/epoch - 2ms/step\n",
            "92/92 - 0s - loss: 0.0018 - 224ms/epoch - 2ms/step\n",
            "92/92 - 0s - loss: 0.0018 - 249ms/epoch - 3ms/step\n",
            "92/92 - 0s - loss: 0.0017 - 217ms/epoch - 2ms/step\n",
            "92/92 - 0s - loss: 0.0019 - 225ms/epoch - 2ms/step\n",
            "92/92 - 0s - loss: 0.0019 - 231ms/epoch - 3ms/step\n",
            "92/92 - 0s - loss: 0.0017 - 232ms/epoch - 3ms/step\n",
            "92/92 - 0s - loss: 0.0019 - 213ms/epoch - 2ms/step\n"
          ]
        }
      ]
    },
    {
      "cell_type": "markdown",
      "source": [
        "# **Predicción**\n",
        "---\n",
        "\n"
      ],
      "metadata": {
        "id": "pUXMsfOIQvd4"
      }
    },
    {
      "cell_type": "code",
      "source": [
        "train_predict = model.predict(trainX, batch_size=batch_size)\n",
        "model.reset_states()\n",
        "test_predict = model.predict(testX, batch_size=batch_size)\n",
        "model.reset_states()"
      ],
      "metadata": {
        "id": "ENIrkag9KzNg"
      },
      "execution_count": null,
      "outputs": []
    },
    {
      "cell_type": "markdown",
      "source": [
        "# **Resultados**\n",
        "---\n",
        "\n"
      ],
      "metadata": {
        "id": "slIIFOtFQ6af"
      }
    },
    {
      "cell_type": "code",
      "source": [
        "train_inverse_predict_X = scaler.inverse_transform(train_predict)\n",
        "train_inverse_y = scaler.inverse_transform([trainY])\n",
        "\n",
        "test_inverse_predic_X = scaler.inverse_transform(test_predict)\n",
        "test_inverse_y = scaler.inverse_transform([testY])"
      ],
      "metadata": {
        "id": "Ax_Fa88CQ-ue"
      },
      "execution_count": null,
      "outputs": []
    },
    {
      "cell_type": "markdown",
      "source": [
        "# **Calcular el error**\n",
        "---\n",
        "\n"
      ],
      "metadata": {
        "id": "fjJxdYUZRBaO"
      }
    },
    {
      "cell_type": "code",
      "source": [
        "train_score = math.sqrt(mean_squared_error(train_inverse_y[0], train_inverse_predict_X[:,0]))\n",
        "print('Puntuación Entrenamiento %.2f MSE (%.2f RMSE)' % (train_score, math.sqrt(train_score)))\n",
        "test_score = math.sqrt(mean_squared_error(test_inverse_y[0], test_inverse_predic_X[:,0]))\n",
        "print('Puntuación Validación %.2f MSE (%.2f RMSE)' % (test_score, math.sqrt(test_score)))"
      ],
      "metadata": {
        "colab": {
          "base_uri": "https://localhost:8080/"
        },
        "id": "VCP80bfcRFUg",
        "outputId": "8723358c-52b1-4eef-bcc1-5e5759a13bfa"
      },
      "execution_count": null,
      "outputs": [
        {
          "output_type": "stream",
          "name": "stdout",
          "text": [
            "Puntuación Entrenamiento 20.59 MSE (4.54 RMSE)\n",
            "Puntuación Validación 69.45 MSE (8.33 RMSE)\n"
          ]
        }
      ]
    },
    {
      "cell_type": "markdown",
      "source": [
        "# **Plot**\n",
        "---\n",
        "\n"
      ],
      "metadata": {
        "id": "mTM-PE_iRKau"
      }
    },
    {
      "cell_type": "code",
      "source": [
        "train_predict_plot = np.empty_like(data_values)\n",
        "train_predict_plot[:,:] = np.nan\n",
        "train_predict_plot[loock_back: len(train_inverse_predict_X)+loock_back, :] = train_inverse_predict_X\n",
        "\n",
        "test_predict_plot = np.empty_like(data_values)\n",
        "test_predict_plot[:,:] = np.nan\n",
        "test_predict_plot[len(train_inverse_predict_X)+(loock_back*2)+1:len(data_values)-1,:] = test_inverse_predic_X"
      ],
      "metadata": {
        "id": "KS2YLNIVROU_"
      },
      "execution_count": null,
      "outputs": []
    },
    {
      "cell_type": "code",
      "source": [
        "plt.figure(figsize=(12,8))\n",
        "plt.plot(scaler.inverse_transform(data_values))\n",
        "plt.plot(train_predict_plot)\n",
        "plt.plot(test_predict_plot)\n",
        "plt.show()"
      ],
      "metadata": {
        "colab": {
          "base_uri": "https://localhost:8080/"
        },
        "id": "dNvTQBYSRTIB",
        "outputId": "3e889b87-95e4-4e06-af2d-7d0b39b8864b"
      },
      "execution_count": null,
      "outputs": [
        {
          "output_type": "display_data",
          "data": {
            "image/png": "[encoded data removed]",
            "text/plain": [
              "<Figure size 864x576 with 1 Axes>"
            ]
          },
          "metadata": {
            "needs_background": "light"
          }
        }
      ]
    }
  ]
}