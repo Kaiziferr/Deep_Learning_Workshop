{
  "nbformat": 4,
  "nbformat_minor": 0,
  "metadata": {
    "colab": {
      "name": "02_workshop_time_series_time_windows.ipynb",
      "provenance": [],
      "authorship_tag": "ABX9TyNM2fN1LDHd5Jl10pY6wmw0",
      "include_colab_link": true
    },
    "kernelspec": {
      "name": "python3",
      "display_name": "Python 3"
    },
    "language_info": {
      "name": "python"
    }
  },
  "cells": [
    {
      "cell_type": "markdown",
      "metadata": {
        "id": "view-in-github",
        "colab_type": "text"
      },
      "source": [
        "<a href=\"https://colab.research.google.com/github/Kaiziferr/Deep_Learning_Workshop/blob/master/RNN/02_workshop_time_series_time_windows.ipynb\" target=\"_parent\"><img src=\"https://colab.research.google.com/assets/colab-badge.svg\" alt=\"Open In Colab\"/></a>"
      ]
    },
    {
      "cell_type": "code",
      "metadata": {
        "id": "jtKwYRKD2o1k"
      },
      "source": [
        "import numpy as np\n",
        "import pandas as pd\n",
        "import matplotlib.pyplot as plt\n",
        "import math\n",
        "from keras.models import Sequential\n",
        "from keras.layers import Dense, LSTM\n",
        "from sklearn.preprocessing import MinMaxScaler\n",
        "from sklearn.metrics import mean_squared_error"
      ],
      "execution_count": 1,
      "outputs": []
    },
    {
      "cell_type": "code",
      "metadata": {
        "id": "ScTmwsyf2u78"
      },
      "source": [
        "def create_dataset(data, loock_back = 1):\n",
        "  dataX, dataY = [], []\n",
        "  for i in range(len(data) - loock_back-1):\n",
        "    a = data[i: (i+loock_back), 0]\n",
        "    dataX.append(a)\n",
        "    dataY.append(data[i+loock_back, 0])\n",
        "  return np.array(dataX), np.array(dataY)"
      ],
      "execution_count": 2,
      "outputs": []
    },
    {
      "cell_type": "markdown",
      "metadata": {
        "id": "6KDm-mjs25bU"
      },
      "source": [
        "# LSTM usando ventana"
      ]
    },
    {
      "cell_type": "code",
      "metadata": {
        "id": "7kmY6ei521b6"
      },
      "source": [
        "data = pd.read_csv('./data/international-airline-passengers.csv', usecols=[1], engine='python')\n",
        "data_values = data.values.astype('float32')"
      ],
      "execution_count": 3,
      "outputs": []
    },
    {
      "cell_type": "code",
      "metadata": {
        "id": "BCdrA0l82_Cz"
      },
      "source": [
        "#Normalization de datos\n",
        "scaler = MinMaxScaler(feature_range=(0,1))\n",
        "data_values = scaler.fit_transform(data_values)"
      ],
      "execution_count": 4,
      "outputs": []
    },
    {
      "cell_type": "code",
      "metadata": {
        "colab": {
          "base_uri": "https://localhost:8080/",
          "height": 67
        },
        "id": "12IHQK4o3Y60",
        "outputId": "85361b69-31f9-4c11-c205-4e93b7008353"
      },
      "source": [
        "#train and test\n",
        "train_size = int(len(data_values)*0.67)\n",
        "test_set = len(data_values) - train_size\n",
        "train, test = data_values[0:train_size, :], data_values[train_size:, :]\n",
        "display(len(data_values), len(train), len(test) )"
      ],
      "execution_count": 5,
      "outputs": [
        {
          "output_type": "display_data",
          "data": {
            "text/plain": [
              "144"
            ]
          },
          "metadata": {
            "tags": []
          }
        },
        {
          "output_type": "display_data",
          "data": {
            "text/plain": [
              "96"
            ]
          },
          "metadata": {
            "tags": []
          }
        },
        {
          "output_type": "display_data",
          "data": {
            "text/plain": [
              "48"
            ]
          },
          "metadata": {
            "tags": []
          }
        }
      ]
    },
    {
      "cell_type": "code",
      "metadata": {
        "colab": {
          "base_uri": "https://localhost:8080/"
        },
        "id": "ZoJ3JUdX3bv8",
        "outputId": "e22f4aa5-a7bc-405c-8ccf-a1302214ea82"
      },
      "source": [
        "loock_back = 3\n",
        "trainX, trainY = create_dataset(train, loock_back)\n",
        "testX, testY = create_dataset(test, loock_back)\n",
        "for i in range(5):\n",
        "  print(trainX[i], trainY[i])"
      ],
      "execution_count": 6,
      "outputs": [
        {
          "output_type": "stream",
          "text": [
            "[0.01544401 0.02702703 0.05405405] 0.04826255\n",
            "[0.02702703 0.05405405 0.04826255] 0.032818526\n",
            "[0.05405405 0.04826255 0.03281853] 0.059845567\n",
            "[0.04826255 0.03281853 0.05984557] 0.08494207\n",
            "[0.03281853 0.05984557 0.08494207] 0.08494207\n"
          ],
          "name": "stdout"
        }
      ]
    },
    {
      "cell_type": "code",
      "metadata": {
        "colab": {
          "base_uri": "https://localhost:8080/"
        },
        "id": "1vi4DNwC3kO1",
        "outputId": "495af699-00ab-4c22-c3a0-89527bbb6c7c"
      },
      "source": [
        "# La red LSTM espera que los datos de entrada (X) se proporcionen con una estructura de matriz especifica en forma de [muestras, pasos de tiempo (ventana), caracteristicas]\n",
        "\n",
        "#Los datos preparados tienen la forma: [muestras, carcteristicas]\n",
        "\n",
        "#Muestra y caracteristicas\n",
        "trainX.shape"
      ],
      "execution_count": 7,
      "outputs": [
        {
          "output_type": "execute_result",
          "data": {
            "text/plain": [
              "(92, 3)"
            ]
          },
          "metadata": {
            "tags": []
          },
          "execution_count": 7
        }
      ]
    },
    {
      "cell_type": "code",
      "metadata": {
        "id": "iGLUHv9s3l_E"
      },
      "source": [
        "trainX = np.reshape(trainX, (trainX.shape[0],1, trainX.shape[1]))\n",
        "testX = np.reshape(testX, (testX.shape[0],1, testX.shape[1]))"
      ],
      "execution_count": 8,
      "outputs": []
    },
    {
      "cell_type": "code",
      "metadata": {
        "id": "v1Ujkyc37FXN",
        "outputId": "4e1572f2-d431-4109-e4bb-196bc0a26795",
        "colab": {
          "base_uri": "https://localhost:8080/"
        }
      },
      "source": [
        "trainX[0:5]"
      ],
      "execution_count": 9,
      "outputs": [
        {
          "output_type": "execute_result",
          "data": {
            "text/plain": [
              "array([[[0.01544401, 0.02702703, 0.05405405]],\n",
              "\n",
              "       [[0.02702703, 0.05405405, 0.04826255]],\n",
              "\n",
              "       [[0.05405405, 0.04826255, 0.03281853]],\n",
              "\n",
              "       [[0.04826255, 0.03281853, 0.05984557]],\n",
              "\n",
              "       [[0.03281853, 0.05984557, 0.08494207]]], dtype=float32)"
            ]
          },
          "metadata": {
            "tags": []
          },
          "execution_count": 9
        }
      ]
    },
    {
      "cell_type": "code",
      "metadata": {
        "id": "CwV8Ctcm3t3S",
        "outputId": "3b209ac6-9469-4fb5-e57a-d6e71fce990e",
        "colab": {
          "base_uri": "https://localhost:8080/"
        }
      },
      "source": [
        "model = Sequential()\n",
        "model.add(LSTM(4, input_shape = (1, loock_back)))\n",
        "model.add(Dense(1))\n",
        "model.compile(loss='mean_squared_error', optimizer = 'adam')\n",
        "model.fit(trainX, trainY, epochs = 100, batch_size = 1, verbose = 0)"
      ],
      "execution_count": 10,
      "outputs": [
        {
          "output_type": "execute_result",
          "data": {
            "text/plain": [
              "<keras.callbacks.History at 0x7f50fefaf910>"
            ]
          },
          "metadata": {
            "tags": []
          },
          "execution_count": 10
        }
      ]
    },
    {
      "cell_type": "code",
      "metadata": {
        "id": "b5OhAU154W_L"
      },
      "source": [
        "#Predicciones\n",
        "trainPredict = model.predict(trainX)\n",
        "testPredict = model.predict(testX)"
      ],
      "execution_count": 11,
      "outputs": []
    },
    {
      "cell_type": "code",
      "metadata": {
        "id": "T_HDfUsY4yns"
      },
      "source": [
        "#Invert prediction\n",
        "trainPredict = model.predict(trainX)\n",
        "testPredict = model.predict(testX)\n",
        "\n",
        "trainPredict = scaler.inverse_transform(trainPredict)\n",
        "trainY = scaler.inverse_transform([trainY])\n",
        "\n",
        "testPredict = scaler.inverse_transform(testPredict)\n",
        "testY = scaler.inverse_transform([testY])\n"
      ],
      "execution_count": 12,
      "outputs": []
    },
    {
      "cell_type": "code",
      "metadata": {
        "colab": {
          "base_uri": "https://localhost:8080/"
        },
        "id": "rGEaiGVZ49Ck",
        "outputId": "9657e832-8f10-43a0-a39b-df682dccafaa"
      },
      "source": [
        "# Calcular el error\n",
        "train_score = math.sqrt(mean_squared_error(trainY[0], trainPredict[:,0]))\n",
        "print('Puntuación Entrenamiento: %.2f RMSE' % (train_score))\n",
        "\n",
        "test_score = math.sqrt(mean_squared_error(testY[0], testPredict[:,0]))\n",
        "print('Puntuación Test: %.2f RMSE' % (test_score))"
      ],
      "execution_count": 13,
      "outputs": [
        {
          "output_type": "stream",
          "text": [
            "Puntuación Entrenamiento: 23.80 RMSE\n",
            "Puntuación Test: 54.91 RMSE\n"
          ],
          "name": "stdout"
        }
      ]
    },
    {
      "cell_type": "code",
      "metadata": {
        "colab": {
          "base_uri": "https://localhost:8080/",
          "height": 500
        },
        "id": "vC5_15A_4-4E",
        "outputId": "051f6b81-3bea-4b01-c60d-ef4e3eb161f6"
      },
      "source": [
        "trainPredictPlot = np.empty_like(data_values)\n",
        "trainPredictPlot[:,:] = np.nan\n",
        "trainPredictPlot[loock_back: len(trainPredict)+loock_back, :] = trainPredict\n",
        "\n",
        "testPredictPlot = np.empty_like(data_values)\n",
        "testPredictPlot[:,:] = np.nan\n",
        "testPredictPlot[len(trainPredict)+(loock_back*2)+1:len(data_values)-1,:] = testPredict\n",
        "\n",
        "plt.figure(figsize=(12,8))\n",
        "plt.plot(scaler.inverse_transform(data_values))\n",
        "plt.plot(trainPredictPlot)\n",
        "plt.plot(testPredictPlot)"
      ],
      "execution_count": 14,
      "outputs": [
        {
          "output_type": "execute_result",
          "data": {
            "text/plain": [
              "[<matplotlib.lines.Line2D at 0x7f50fa4e5050>]"
            ]
          },
          "metadata": {
            "tags": []
          },
          "execution_count": 14
        },
        {
          "output_type": "display_data",
          "data": {
            "image/png": "[encoded data removed]",
            "text/plain": [
              "<Figure size 864x576 with 1 Axes>"
            ]
          },
          "metadata": {
            "tags": [],
            "needs_background": "light"
          }
        }
      ]
    }
  ]
}