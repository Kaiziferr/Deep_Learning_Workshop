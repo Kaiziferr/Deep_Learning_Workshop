{
  "nbformat": 4,
  "nbformat_minor": 0,
  "metadata": {
    "colab": {
      "name": "01_series_tiempo.ipynb",
      "provenance": [],
      "authorship_tag": "ABX9TyPUZfNO/LC8AWSN6FfscS+T",
      "include_colab_link": true
    },
    "kernelspec": {
      "name": "python3",
      "display_name": "Python 3"
    },
    "language_info": {
      "name": "python"
    },
    "accelerator": "GPU"
  },
  "cells": [
    {
      "cell_type": "markdown",
      "metadata": {
        "id": "view-in-github",
        "colab_type": "text"
      },
      "source": [
        "<a href=\"https://colab.research.google.com/github/Kaiziferr/Deep_Learning_Workshop/blob/master/RNN/01_series_tiempo.ipynb\" target=\"_parent\"><img src=\"https://colab.research.google.com/assets/colab-badge.svg\" alt=\"Open In Colab\"/></a>"
      ]
    },
    {
      "cell_type": "code",
      "metadata": {
        "id": "3-DeQWUjlsD3"
      },
      "source": [
        "import numpy as np\n",
        "import pandas as pd\n",
        "import matplotlib.pyplot as plt\n",
        "import math\n",
        "from keras.models import Sequential\n",
        "from keras.layers import Dense, LSTM\n",
        "from sklearn.preprocessing import MinMaxScaler\n",
        "from sklearn.metrics import mean_squared_error"
      ],
      "execution_count": 1,
      "outputs": []
    },
    {
      "cell_type": "code",
      "metadata": {
        "id": "glXvIaidmIv3"
      },
      "source": [
        "def create_dataset(data, loock_back = 1):\n",
        "  dataX, dataY = [], []\n",
        "  for i in range(len(data) - loock_back-1):\n",
        "    a = data[i: (i+loock_back), 0]\n",
        "    dataX.append(a)\n",
        "    dataY.append(data[i+loock_back, 0])\n",
        "  return np.array(dataX), np.array(dataY)"
      ],
      "execution_count": 2,
      "outputs": []
    },
    {
      "cell_type": "code",
      "metadata": {
        "id": "i_WYMyf2miu3"
      },
      "source": [
        "data = pd.read_csv('./data/international-airline-passengers.csv', usecols=[1], engine='python')\n",
        "data_values = data.values.astype('float32')"
      ],
      "execution_count": 3,
      "outputs": []
    },
    {
      "cell_type": "code",
      "metadata": {
        "id": "USYffk0jmql9"
      },
      "source": [
        "#Normalization de datos\n",
        "scaler = MinMaxScaler(feature_range=(0,1))\n",
        "data_values = scaler.fit_transform(data_values)"
      ],
      "execution_count": 4,
      "outputs": []
    },
    {
      "cell_type": "code",
      "metadata": {
        "colab": {
          "base_uri": "https://localhost:8080/",
          "height": 72
        },
        "id": "qImCkr5vny8G",
        "outputId": "d22f8039-d6ae-46e8-dd3a-95c730d7c973"
      },
      "source": [
        "#train and test\n",
        "train_size = int(len(data_values)*0.67)\n",
        "test_set = len(data_values) - train_size\n",
        "train, test = data_values[0:train_size, :], data_values[train_size:, :]\n",
        "display(len(data_values), len(train), len(test) )"
      ],
      "execution_count": 5,
      "outputs": [
        {
          "output_type": "display_data",
          "data": {
            "text/plain": [
              "144"
            ]
          },
          "metadata": {
            "tags": []
          }
        },
        {
          "output_type": "display_data",
          "data": {
            "text/plain": [
              "96"
            ]
          },
          "metadata": {
            "tags": []
          }
        },
        {
          "output_type": "display_data",
          "data": {
            "text/plain": [
              "48"
            ]
          },
          "metadata": {
            "tags": []
          }
        }
      ]
    },
    {
      "cell_type": "code",
      "metadata": {
        "colab": {
          "base_uri": "https://localhost:8080/"
        },
        "id": "m-gMA3Ucn_Jk",
        "outputId": "42715b30-3c6c-426f-d325-1bdedb27d966"
      },
      "source": [
        "loock_back = 1\n",
        "trainX, trainY = create_dataset(train, loock_back)\n",
        "testX, testY = create_dataset(test, loock_back)\n",
        "for i in range(5):\n",
        "  print(trainX[i], trainY[i])"
      ],
      "execution_count": 6,
      "outputs": [
        {
          "output_type": "stream",
          "text": [
            "[0.01544401] 0.027027026\n",
            "[0.02702703] 0.05405405\n",
            "[0.05405405] 0.04826255\n",
            "[0.04826255] 0.032818526\n",
            "[0.03281853] 0.059845567\n"
          ],
          "name": "stdout"
        }
      ]
    },
    {
      "cell_type": "code",
      "metadata": {
        "colab": {
          "base_uri": "https://localhost:8080/"
        },
        "id": "WoQkdGuYoPdl",
        "outputId": "0b813a9c-9570-43cd-ce54-6b9fa3e92e14"
      },
      "source": [
        "# La red LSTM espera que los datos de entrada (X) se proporcionen con una estructura de matriz especifica en forma de [muestras, pasos de tiempo (ventana), caracteristicas]\n",
        "\n",
        "#Los datos preparados tienen la forma: [muestras, carcteristicas]\n",
        "\n",
        "#Muestra y caracteristicas\n",
        "trainX.shape"
      ],
      "execution_count": 7,
      "outputs": [
        {
          "output_type": "execute_result",
          "data": {
            "text/plain": [
              "(94, 1)"
            ]
          },
          "metadata": {
            "tags": []
          },
          "execution_count": 7
        }
      ]
    },
    {
      "cell_type": "code",
      "metadata": {
        "id": "CM-ra6Pwozjd"
      },
      "source": [
        "trainX = np.reshape(trainX, (trainX.shape[0],1, trainX.shape[1]))\n",
        "testX = np.reshape(testX, (testX.shape[0],1, testX.shape[1]))"
      ],
      "execution_count": 8,
      "outputs": []
    },
    {
      "cell_type": "markdown",
      "metadata": {
        "id": "eE59rwvPpxm1"
      },
      "source": [
        "# Diseño de LSTM\n",
        "- Capa visible con 1 entrada\n",
        "- Capa oculta con 4 bloques LSTM o neuronas\n",
        "- Capa de salida que hace una predicción de valor unico. LSTM utiliza por defecto la función sigmoidal\n",
        "- 100 epocas y batch 1"
      ]
    },
    {
      "cell_type": "code",
      "metadata": {
        "colab": {
          "base_uri": "https://localhost:8080/"
        },
        "id": "hOTiZUjzqRoD",
        "outputId": "8aa7d0f2-113b-4548-f7ba-b2dde755c4f5"
      },
      "source": [
        "model = Sequential()\n",
        "model.add(LSTM(4, input_shape=(1, loock_back)))\n",
        "model.add(Dense(1))\n",
        "model.compile(loss='mean_squared_error', optimizer = 'adam')\n",
        "model.fit(trainX, trainY, epochs = 100, verbose = 2)"
      ],
      "execution_count": 9,
      "outputs": [
        {
          "output_type": "stream",
          "text": [
            "Epoch 1/100\n",
            "3/3 - 16s - loss: 0.0449\n",
            "Epoch 2/100\n",
            "3/3 - 0s - loss: 0.0425\n",
            "Epoch 3/100\n",
            "3/3 - 0s - loss: 0.0404\n",
            "Epoch 4/100\n",
            "3/3 - 0s - loss: 0.0382\n",
            "Epoch 5/100\n",
            "3/3 - 0s - loss: 0.0361\n",
            "Epoch 6/100\n",
            "3/3 - 0s - loss: 0.0342\n",
            "Epoch 7/100\n",
            "3/3 - 0s - loss: 0.0323\n",
            "Epoch 8/100\n",
            "3/3 - 0s - loss: 0.0305\n",
            "Epoch 9/100\n",
            "3/3 - 0s - loss: 0.0288\n",
            "Epoch 10/100\n",
            "3/3 - 0s - loss: 0.0272\n",
            "Epoch 11/100\n",
            "3/3 - 0s - loss: 0.0256\n",
            "Epoch 12/100\n",
            "3/3 - 0s - loss: 0.0242\n",
            "Epoch 13/100\n",
            "3/3 - 0s - loss: 0.0229\n",
            "Epoch 14/100\n",
            "3/3 - 0s - loss: 0.0217\n",
            "Epoch 15/100\n",
            "3/3 - 0s - loss: 0.0204\n",
            "Epoch 16/100\n",
            "3/3 - 0s - loss: 0.0193\n",
            "Epoch 17/100\n",
            "3/3 - 0s - loss: 0.0183\n",
            "Epoch 18/100\n",
            "3/3 - 0s - loss: 0.0174\n",
            "Epoch 19/100\n",
            "3/3 - 0s - loss: 0.0166\n",
            "Epoch 20/100\n",
            "3/3 - 0s - loss: 0.0158\n",
            "Epoch 21/100\n",
            "3/3 - 0s - loss: 0.0151\n",
            "Epoch 22/100\n",
            "3/3 - 0s - loss: 0.0144\n",
            "Epoch 23/100\n",
            "3/3 - 0s - loss: 0.0139\n",
            "Epoch 24/100\n",
            "3/3 - 0s - loss: 0.0134\n",
            "Epoch 25/100\n",
            "3/3 - 0s - loss: 0.0129\n",
            "Epoch 26/100\n",
            "3/3 - 0s - loss: 0.0125\n",
            "Epoch 27/100\n",
            "3/3 - 0s - loss: 0.0121\n",
            "Epoch 28/100\n",
            "3/3 - 0s - loss: 0.0118\n",
            "Epoch 29/100\n",
            "3/3 - 0s - loss: 0.0116\n",
            "Epoch 30/100\n",
            "3/3 - 0s - loss: 0.0113\n",
            "Epoch 31/100\n",
            "3/3 - 0s - loss: 0.0111\n",
            "Epoch 32/100\n",
            "3/3 - 0s - loss: 0.0109\n",
            "Epoch 33/100\n",
            "3/3 - 0s - loss: 0.0108\n",
            "Epoch 34/100\n",
            "3/3 - 0s - loss: 0.0106\n",
            "Epoch 35/100\n",
            "3/3 - 0s - loss: 0.0105\n",
            "Epoch 36/100\n",
            "3/3 - 0s - loss: 0.0104\n",
            "Epoch 37/100\n",
            "3/3 - 0s - loss: 0.0103\n",
            "Epoch 38/100\n",
            "3/3 - 0s - loss: 0.0102\n",
            "Epoch 39/100\n",
            "3/3 - 0s - loss: 0.0101\n",
            "Epoch 40/100\n",
            "3/3 - 0s - loss: 0.0100\n",
            "Epoch 41/100\n",
            "3/3 - 0s - loss: 0.0099\n",
            "Epoch 42/100\n",
            "3/3 - 0s - loss: 0.0099\n",
            "Epoch 43/100\n",
            "3/3 - 0s - loss: 0.0098\n",
            "Epoch 44/100\n",
            "3/3 - 0s - loss: 0.0097\n",
            "Epoch 45/100\n",
            "3/3 - 0s - loss: 0.0097\n",
            "Epoch 46/100\n",
            "3/3 - 0s - loss: 0.0096\n",
            "Epoch 47/100\n",
            "3/3 - 0s - loss: 0.0095\n",
            "Epoch 48/100\n",
            "3/3 - 0s - loss: 0.0095\n",
            "Epoch 49/100\n",
            "3/3 - 0s - loss: 0.0094\n",
            "Epoch 50/100\n",
            "3/3 - 0s - loss: 0.0094\n",
            "Epoch 51/100\n",
            "3/3 - 0s - loss: 0.0093\n",
            "Epoch 52/100\n",
            "3/3 - 0s - loss: 0.0092\n",
            "Epoch 53/100\n",
            "3/3 - 0s - loss: 0.0092\n",
            "Epoch 54/100\n",
            "3/3 - 0s - loss: 0.0091\n",
            "Epoch 55/100\n",
            "3/3 - 0s - loss: 0.0090\n",
            "Epoch 56/100\n",
            "3/3 - 0s - loss: 0.0090\n",
            "Epoch 57/100\n",
            "3/3 - 0s - loss: 0.0089\n",
            "Epoch 58/100\n",
            "3/3 - 0s - loss: 0.0089\n",
            "Epoch 59/100\n",
            "3/3 - 0s - loss: 0.0088\n",
            "Epoch 60/100\n",
            "3/3 - 0s - loss: 0.0087\n",
            "Epoch 61/100\n",
            "3/3 - 0s - loss: 0.0087\n",
            "Epoch 62/100\n",
            "3/3 - 0s - loss: 0.0086\n",
            "Epoch 63/100\n",
            "3/3 - 0s - loss: 0.0085\n",
            "Epoch 64/100\n",
            "3/3 - 0s - loss: 0.0085\n",
            "Epoch 65/100\n",
            "3/3 - 0s - loss: 0.0084\n",
            "Epoch 66/100\n",
            "3/3 - 0s - loss: 0.0083\n",
            "Epoch 67/100\n",
            "3/3 - 0s - loss: 0.0083\n",
            "Epoch 68/100\n",
            "3/3 - 0s - loss: 0.0082\n",
            "Epoch 69/100\n",
            "3/3 - 0s - loss: 0.0081\n",
            "Epoch 70/100\n",
            "3/3 - 0s - loss: 0.0081\n",
            "Epoch 71/100\n",
            "3/3 - 0s - loss: 0.0080\n",
            "Epoch 72/100\n",
            "3/3 - 0s - loss: 0.0079\n",
            "Epoch 73/100\n",
            "3/3 - 0s - loss: 0.0079\n",
            "Epoch 74/100\n",
            "3/3 - 0s - loss: 0.0078\n",
            "Epoch 75/100\n",
            "3/3 - 0s - loss: 0.0077\n",
            "Epoch 76/100\n",
            "3/3 - 0s - loss: 0.0077\n",
            "Epoch 77/100\n",
            "3/3 - 0s - loss: 0.0076\n",
            "Epoch 78/100\n",
            "3/3 - 0s - loss: 0.0075\n",
            "Epoch 79/100\n",
            "3/3 - 0s - loss: 0.0075\n",
            "Epoch 80/100\n",
            "3/3 - 0s - loss: 0.0074\n",
            "Epoch 81/100\n",
            "3/3 - 0s - loss: 0.0073\n",
            "Epoch 82/100\n",
            "3/3 - 0s - loss: 0.0073\n",
            "Epoch 83/100\n",
            "3/3 - 0s - loss: 0.0072\n",
            "Epoch 84/100\n",
            "3/3 - 0s - loss: 0.0071\n",
            "Epoch 85/100\n",
            "3/3 - 0s - loss: 0.0071\n",
            "Epoch 86/100\n",
            "3/3 - 0s - loss: 0.0070\n",
            "Epoch 87/100\n",
            "3/3 - 0s - loss: 0.0069\n",
            "Epoch 88/100\n",
            "3/3 - 0s - loss: 0.0069\n",
            "Epoch 89/100\n",
            "3/3 - 0s - loss: 0.0068\n",
            "Epoch 90/100\n",
            "3/3 - 0s - loss: 0.0067\n",
            "Epoch 91/100\n",
            "3/3 - 0s - loss: 0.0067\n",
            "Epoch 92/100\n",
            "3/3 - 0s - loss: 0.0066\n",
            "Epoch 93/100\n",
            "3/3 - 0s - loss: 0.0065\n",
            "Epoch 94/100\n",
            "3/3 - 0s - loss: 0.0064\n",
            "Epoch 95/100\n",
            "3/3 - 0s - loss: 0.0064\n",
            "Epoch 96/100\n",
            "3/3 - 0s - loss: 0.0063\n",
            "Epoch 97/100\n",
            "3/3 - 0s - loss: 0.0062\n",
            "Epoch 98/100\n",
            "3/3 - 0s - loss: 0.0062\n",
            "Epoch 99/100\n",
            "3/3 - 0s - loss: 0.0061\n",
            "Epoch 100/100\n",
            "3/3 - 0s - loss: 0.0061\n"
          ],
          "name": "stdout"
        },
        {
          "output_type": "execute_result",
          "data": {
            "text/plain": [
              "<keras.callbacks.History at 0x7fe5c024c8d0>"
            ]
          },
          "metadata": {
            "tags": []
          },
          "execution_count": 9
        }
      ]
    },
    {
      "cell_type": "code",
      "metadata": {
        "id": "k5RkIaHfrh--"
      },
      "source": [
        "#Resultados\n",
        "trainPredict = model.predict(trainX)\n",
        "testPredict = model.predict(testX)"
      ],
      "execution_count": 10,
      "outputs": []
    },
    {
      "cell_type": "code",
      "metadata": {
        "id": "OlW3HbYVr9a-"
      },
      "source": [
        "#Invert prediction\n",
        "trainPredict = model.predict(trainX)\n",
        "testPredict = model.predict(testX)\n",
        "\n",
        "trainPredict = scaler.inverse_transform(trainPredict)\n",
        "trainY = scaler.inverse_transform([trainY])\n",
        "\n",
        "testPredict = scaler.inverse_transform(testPredict)\n",
        "testY = scaler.inverse_transform([testY])\n"
      ],
      "execution_count": 11,
      "outputs": []
    },
    {
      "cell_type": "code",
      "metadata": {
        "colab": {
          "base_uri": "https://localhost:8080/"
        },
        "id": "DCLgBCIet-qm",
        "outputId": "f0eea760-e53d-4733-8d2e-ae9db6cf740a"
      },
      "source": [
        "# Calcular el error\n",
        "train_score = math.sqrt(mean_squared_error(trainY[0], trainPredict[:,0]))\n",
        "print('Puntuación Entrenamiento: %.2f RMSE' % (train_score))\n",
        "\n",
        "test_score = math.sqrt(mean_squared_error(testY[0], testPredict[:,0]))\n",
        "print('Puntuación Test: %.2f RMSE' % (test_score))"
      ],
      "execution_count": 12,
      "outputs": [
        {
          "output_type": "stream",
          "text": [
            "Puntuación Entrenamiento: 40.14 RMSE\n",
            "Puntuación Test: 117.00 RMSE\n"
          ],
          "name": "stdout"
        }
      ]
    },
    {
      "cell_type": "code",
      "metadata": {
        "colab": {
          "base_uri": "https://localhost:8080/",
          "height": 501
        },
        "id": "_jVkJYdUwXfM",
        "outputId": "4a5dd94b-a730-4b43-d8c2-777fad6b41c1"
      },
      "source": [
        "trainPredictPlot = np.empty_like(data_values)\n",
        "trainPredictPlot[:,:] = np.nan\n",
        "trainPredictPlot[loock_back: len(trainPredict)+loock_back, :] = trainPredict\n",
        "\n",
        "testPredictPlot = np.empty_like(data_values)\n",
        "testPredictPlot[:,:] = np.nan\n",
        "testPredictPlot[len(trainPredict)+(loock_back*2)+1:len(data_values)-1,:] = testPredict\n",
        "\n",
        "plt.figure(figsize=(12,8))\n",
        "plt.plot(scaler.inverse_transform(data_values))\n",
        "plt.plot(trainPredictPlot)\n",
        "plt.plot(testPredictPlot)"
      ],
      "execution_count": 13,
      "outputs": [
        {
          "output_type": "execute_result",
          "data": {
            "text/plain": [
              "[<matplotlib.lines.Line2D at 0x7fe56fea8750>]"
            ]
          },
          "metadata": {
            "tags": []
          },
          "execution_count": 13
        },
        {
          "output_type": "display_data",
          "data": {
            "image/png": "[encoded data removed]",
            "text/plain": [
              "<Figure size 864x576 with 1 Axes>"
            ]
          },
          "metadata": {
            "tags": [],
            "needs_background": "light"
          }
        }
      ]
    }
  ]
}