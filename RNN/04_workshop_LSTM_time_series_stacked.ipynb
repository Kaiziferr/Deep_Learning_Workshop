{
  "nbformat": 4,
  "nbformat_minor": 0,
  "metadata": {
    "colab": {
      "name": "04_workshop_LSTM_time_series_stacked.ipynb",
      "provenance": [],
      "authorship_tag": "ABX9TyN/OT/Ljfjrc/CdYIkgVYr5",
      "include_colab_link": true
    },
    "kernelspec": {
      "name": "python3",
      "display_name": "Python 3"
    },
    "language_info": {
      "name": "python"
    }
  },
  "cells": [
    {
      "cell_type": "markdown",
      "metadata": {
        "id": "view-in-github",
        "colab_type": "text"
      },
      "source": [
        "<a href=\"https://colab.research.google.com/github/Kaiziferr/deep_learning_workshop/blob/master/RNN/04_workshop_LSTM_time_series_stacked.ipynb\" target=\"_parent\"><img src=\"https://colab.research.google.com/assets/colab-badge.svg\" alt=\"Open In Colab\"/></a>"
      ]
    },
    {
      "cell_type": "code",
      "source": [
        "import numpy as np\n",
        "import pandas as pd\n",
        "import matplotlib.pyplot as plt\n",
        "import math\n",
        "from keras.models import Sequential\n",
        "from keras.layers import Dense, LSTM\n",
        "from sklearn.preprocessing  import MinMaxScaler\n",
        "from sklearn.metrics import mean_squared_error"
      ],
      "metadata": {
        "id": "mJ6O79jSC6Dg"
      },
      "execution_count": null,
      "outputs": []
    },
    {
      "cell_type": "markdown",
      "source": [
        "# **Contexto**\n",
        "---\n",
        "- Las redes LSTM se pueden apilar de la misma manera que pueden apilar otros tipos de capas. Una adición a la configuración que se requiere es que una capa LSTM antes de cada capa LSTM subsiguiente debe devolver la secuencia.\n",
        "\n",
        "Esto se hace configurando el parámetro return_sequences en la capa True"
      ],
      "metadata": {
        "id": "xci7gzeNBIuw"
      }
    },
    {
      "cell_type": "markdown",
      "source": [
        "# **Data**\n",
        "---\n",
        "Este es un problema en el que, dado un año y un mes, la tareas es predecir el número de pasajeros de aerolineas internecionales en unidades de 1.000. Los datos van desde enero de 1949 hasta diciembre de 1960 o 12 años, con 144 observaciones.\n"
      ],
      "metadata": {
        "id": "H6n1FGdSDjRy"
      }
    },
    {
      "cell_type": "code",
      "execution_count": null,
      "metadata": {
        "id": "2409ux1Q-dg9"
      },
      "outputs": [],
      "source": [
        "url = 'https://raw.githubusercontent.com/jinfagang/LSTM_learn/master/international-airline-passengers.csv'\n",
        "data = pd.read_csv(url, usecols=[1], engine = \"python\")\n",
        "data_values = data.values.astype('float32')"
      ]
    },
    {
      "cell_type": "markdown",
      "source": [
        "# **Normalización**\n",
        "---\n",
        "\n"
      ],
      "metadata": {
        "id": "qIMCz9K5D9En"
      }
    },
    {
      "cell_type": "code",
      "source": [
        "scaler = MinMaxScaler(feature_range=(0,1))\n",
        "data_values = scaler.fit_transform(data_values)"
      ],
      "metadata": {
        "id": "3ssrEjhHD_Pe"
      },
      "execution_count": null,
      "outputs": []
    },
    {
      "cell_type": "code",
      "source": [
        "data_values[:5]"
      ],
      "metadata": {
        "colab": {
          "base_uri": "https://localhost:8080/"
        },
        "id": "sSKD4PBkEKuJ",
        "outputId": "a6bdab65-a719-4d25-bdbe-facc6f29891e"
      },
      "execution_count": null,
      "outputs": [
        {
          "output_type": "execute_result",
          "data": {
            "text/plain": [
              "array([[0.01544401],\n",
              "       [0.02702703],\n",
              "       [0.05405405],\n",
              "       [0.04826255],\n",
              "       [0.03281853]], dtype=float32)"
            ]
          },
          "metadata": {},
          "execution_count": 6
        }
      ]
    },
    {
      "cell_type": "markdown",
      "source": [
        "# **Data Split**\n",
        "---\n",
        "\n"
      ],
      "metadata": {
        "id": "HW3LFHqIENr3"
      }
    },
    {
      "cell_type": "code",
      "source": [
        "train_size = int(len(data_values)*0.67)\n",
        "test_size = len(data_values) - train_size\n",
        "train, test = data_values[:train_size, :], data_values[train_size:,:]"
      ],
      "metadata": {
        "id": "CEpkRfQuEQ9o"
      },
      "execution_count": null,
      "outputs": []
    },
    {
      "cell_type": "markdown",
      "source": [
        "# **Create Data**\n",
        "---\n",
        "\n"
      ],
      "metadata": {
        "id": "FRMn1wEEEqr4"
      }
    },
    {
      "cell_type": "code",
      "source": [
        "def create_dataset(data, loock_back = 1):\n",
        "  dataX, dataY = [], []\n",
        "  for i in range(len(data)-loock_back-1): \n",
        "    item_x = data[i: (i+loock_back), 0]\n",
        "    item_y = data[i+loock_back,0]\n",
        "    dataX.append(item_x)\n",
        "    dataY.append(item_y)\n",
        "  return np.array(dataX), np.array(dataY)"
      ],
      "metadata": {
        "id": "sxAanb9zEu7g"
      },
      "execution_count": null,
      "outputs": []
    },
    {
      "cell_type": "code",
      "source": [
        "loock_back = 3\n",
        "trainX, trainY = create_dataset(train, loock_back)\n",
        "testX, testY = create_dataset(test, loock_back)"
      ],
      "metadata": {
        "id": "DRlgBqAiFf4Z"
      },
      "execution_count": null,
      "outputs": []
    },
    {
      "cell_type": "markdown",
      "source": [
        "La red LSTM espera que los datos de entrada (X) se proporcionen con una estructura de matriz especifica en forma de [muestras, pasos de tiempo (ventana), caracteristicas]\n",
        "\n",
        "Los datos preparados tienen la forma: [muestras, carcteristicas]\n"
      ],
      "metadata": {
        "id": "6hV9dWBlFwmg"
      }
    },
    {
      "cell_type": "code",
      "source": [
        "print(f'El conjunto de estara dado con {trainX.shape[0]} muestras registros y con {trainX.shape[1]} caracteristicas')\n",
        "print('En esta primera pruebas los pasos de tiempo seran 1')"
      ],
      "metadata": {
        "colab": {
          "base_uri": "https://localhost:8080/"
        },
        "id": "QU5DL6_zGBBY",
        "outputId": "b2933eb7-f9d3-440a-ea93-3712bf834890"
      },
      "execution_count": null,
      "outputs": [
        {
          "output_type": "stream",
          "name": "stdout",
          "text": [
            "El conjunto de estara dado con 92 muestras registros y con 3 caracteristicas\n",
            "En esta primera pruebas los pasos de tiempo seran 1\n"
          ]
        }
      ]
    },
    {
      "cell_type": "code",
      "source": [
        "trainX = np.reshape(trainX, (trainX.shape[0], trainX.shape[1], 1))\n",
        "testX = np.reshape(testX, (testX.shape[0], testX.shape[1], 1))\n",
        "print(f'Hacemos un reformateo para cumplir [muestras, pasos de tiempo (ventana), caracteristicas] {trainX.shape}')"
      ],
      "metadata": {
        "colab": {
          "base_uri": "https://localhost:8080/"
        },
        "id": "Qfec3GIjGC03",
        "outputId": "5a9356e0-c822-4cd1-cb94-f777a39f4c65"
      },
      "execution_count": null,
      "outputs": [
        {
          "output_type": "stream",
          "name": "stdout",
          "text": [
            "Hacemos un reformateo para cumplir [muestras, pasos de tiempo (ventana), caracteristicas] (92, 3, 1)\n"
          ]
        }
      ]
    },
    {
      "cell_type": "markdown",
      "source": [
        "# **Diseño de LSTM Stacked.**\n",
        "---\n"
      ],
      "metadata": {
        "id": "KtV9yjIIIIQA"
      }
    },
    {
      "cell_type": "code",
      "source": [
        "batch_size = 1\n",
        "model = Sequential()\n",
        "model.add(LSTM(4, batch_input_shape=(batch_size, loock_back, 1), stateful=True, return_sequences=True))\n",
        "model.add(LSTM(4, batch_input_shape=(batch_size, loock_back, 1), stateful=True))\n",
        "model.add(Dense(1))\n",
        "model.compile(loss='mean_squared_error', optimizer = 'adam')\n",
        "for i in range(100):\n",
        "    model.fit(trainX, trainY, epochs=1, batch_size = batch_size, verbose = 2, shuffle = True)\n",
        "    model.reset_states"
      ],
      "metadata": {
        "id": "35hIGIr6IW2p",
        "colab": {
          "base_uri": "https://localhost:8080/"
        },
        "outputId": "bb397abf-fe44-466f-e383-ab6f917e4f3b"
      },
      "execution_count": 17,
      "outputs": [
        {
          "output_type": "stream",
          "name": "stdout",
          "text": [
            "92/92 - 3s - loss: 0.0237 - 3s/epoch - 35ms/step\n",
            "92/92 - 0s - loss: 0.0194 - 245ms/epoch - 3ms/step\n",
            "92/92 - 0s - loss: 0.0173 - 296ms/epoch - 3ms/step\n",
            "92/92 - 0s - loss: 0.0167 - 286ms/epoch - 3ms/step\n",
            "92/92 - 0s - loss: 0.0160 - 233ms/epoch - 3ms/step\n",
            "92/92 - 0s - loss: 0.0161 - 248ms/epoch - 3ms/step\n",
            "92/92 - 0s - loss: 0.0154 - 242ms/epoch - 3ms/step\n",
            "92/92 - 0s - loss: 0.0139 - 251ms/epoch - 3ms/step\n",
            "92/92 - 0s - loss: 0.0142 - 248ms/epoch - 3ms/step\n",
            "92/92 - 0s - loss: 0.0121 - 248ms/epoch - 3ms/step\n",
            "92/92 - 0s - loss: 0.0119 - 241ms/epoch - 3ms/step\n",
            "92/92 - 0s - loss: 0.0106 - 250ms/epoch - 3ms/step\n",
            "92/92 - 0s - loss: 0.0098 - 240ms/epoch - 3ms/step\n",
            "92/92 - 0s - loss: 0.0082 - 255ms/epoch - 3ms/step\n",
            "92/92 - 0s - loss: 0.0075 - 271ms/epoch - 3ms/step\n",
            "92/92 - 0s - loss: 0.0059 - 360ms/epoch - 4ms/step\n",
            "92/92 - 0s - loss: 0.0050 - 311ms/epoch - 3ms/step\n",
            "92/92 - 0s - loss: 0.0042 - 324ms/epoch - 4ms/step\n",
            "92/92 - 0s - loss: 0.0044 - 354ms/epoch - 4ms/step\n",
            "92/92 - 0s - loss: 0.0039 - 323ms/epoch - 4ms/step\n",
            "92/92 - 0s - loss: 0.0038 - 289ms/epoch - 3ms/step\n",
            "92/92 - 0s - loss: 0.0031 - 271ms/epoch - 3ms/step\n",
            "92/92 - 0s - loss: 0.0035 - 242ms/epoch - 3ms/step\n",
            "92/92 - 0s - loss: 0.0036 - 240ms/epoch - 3ms/step\n",
            "92/92 - 0s - loss: 0.0034 - 245ms/epoch - 3ms/step\n",
            "92/92 - 0s - loss: 0.0033 - 238ms/epoch - 3ms/step\n",
            "92/92 - 0s - loss: 0.0031 - 235ms/epoch - 3ms/step\n",
            "92/92 - 0s - loss: 0.0030 - 270ms/epoch - 3ms/step\n",
            "92/92 - 0s - loss: 0.0029 - 242ms/epoch - 3ms/step\n",
            "92/92 - 0s - loss: 0.0028 - 233ms/epoch - 3ms/step\n",
            "92/92 - 0s - loss: 0.0029 - 236ms/epoch - 3ms/step\n",
            "92/92 - 0s - loss: 0.0031 - 268ms/epoch - 3ms/step\n",
            "92/92 - 0s - loss: 0.0027 - 279ms/epoch - 3ms/step\n",
            "92/92 - 0s - loss: 0.0026 - 278ms/epoch - 3ms/step\n",
            "92/92 - 0s - loss: 0.0026 - 297ms/epoch - 3ms/step\n",
            "92/92 - 0s - loss: 0.0027 - 286ms/epoch - 3ms/step\n",
            "92/92 - 0s - loss: 0.0027 - 271ms/epoch - 3ms/step\n",
            "92/92 - 0s - loss: 0.0023 - 303ms/epoch - 3ms/step\n",
            "92/92 - 0s - loss: 0.0025 - 283ms/epoch - 3ms/step\n",
            "92/92 - 0s - loss: 0.0027 - 303ms/epoch - 3ms/step\n",
            "92/92 - 0s - loss: 0.0023 - 297ms/epoch - 3ms/step\n",
            "92/92 - 0s - loss: 0.0022 - 275ms/epoch - 3ms/step\n",
            "92/92 - 0s - loss: 0.0023 - 269ms/epoch - 3ms/step\n",
            "92/92 - 0s - loss: 0.0025 - 297ms/epoch - 3ms/step\n",
            "92/92 - 0s - loss: 0.0022 - 228ms/epoch - 2ms/step\n",
            "92/92 - 0s - loss: 0.0023 - 238ms/epoch - 3ms/step\n",
            "92/92 - 0s - loss: 0.0022 - 254ms/epoch - 3ms/step\n",
            "92/92 - 0s - loss: 0.0025 - 249ms/epoch - 3ms/step\n",
            "92/92 - 0s - loss: 0.0021 - 248ms/epoch - 3ms/step\n",
            "92/92 - 0s - loss: 0.0022 - 245ms/epoch - 3ms/step\n",
            "92/92 - 0s - loss: 0.0020 - 251ms/epoch - 3ms/step\n",
            "92/92 - 0s - loss: 0.0020 - 242ms/epoch - 3ms/step\n",
            "92/92 - 0s - loss: 0.0019 - 239ms/epoch - 3ms/step\n",
            "92/92 - 0s - loss: 0.0019 - 239ms/epoch - 3ms/step\n",
            "92/92 - 0s - loss: 0.0018 - 244ms/epoch - 3ms/step\n",
            "92/92 - 0s - loss: 0.0020 - 240ms/epoch - 3ms/step\n",
            "92/92 - 0s - loss: 0.0019 - 242ms/epoch - 3ms/step\n",
            "92/92 - 0s - loss: 0.0020 - 245ms/epoch - 3ms/step\n",
            "92/92 - 0s - loss: 0.0020 - 270ms/epoch - 3ms/step\n",
            "92/92 - 0s - loss: 0.0019 - 245ms/epoch - 3ms/step\n",
            "92/92 - 0s - loss: 0.0019 - 254ms/epoch - 3ms/step\n",
            "92/92 - 0s - loss: 0.0019 - 254ms/epoch - 3ms/step\n",
            "92/92 - 0s - loss: 0.0021 - 243ms/epoch - 3ms/step\n",
            "92/92 - 0s - loss: 0.0021 - 249ms/epoch - 3ms/step\n",
            "92/92 - 0s - loss: 0.0019 - 254ms/epoch - 3ms/step\n",
            "92/92 - 0s - loss: 0.0018 - 332ms/epoch - 4ms/step\n",
            "92/92 - 0s - loss: 0.0021 - 321ms/epoch - 3ms/step\n",
            "92/92 - 0s - loss: 0.0018 - 303ms/epoch - 3ms/step\n",
            "92/92 - 0s - loss: 0.0019 - 338ms/epoch - 4ms/step\n",
            "92/92 - 0s - loss: 0.0020 - 338ms/epoch - 4ms/step\n",
            "92/92 - 1s - loss: 0.0018 - 602ms/epoch - 7ms/step\n",
            "92/92 - 0s - loss: 0.0019 - 289ms/epoch - 3ms/step\n",
            "92/92 - 0s - loss: 0.0019 - 231ms/epoch - 3ms/step\n",
            "92/92 - 0s - loss: 0.0018 - 245ms/epoch - 3ms/step\n",
            "92/92 - 0s - loss: 0.0018 - 250ms/epoch - 3ms/step\n",
            "92/92 - 0s - loss: 0.0017 - 256ms/epoch - 3ms/step\n",
            "92/92 - 0s - loss: 0.0020 - 237ms/epoch - 3ms/step\n",
            "92/92 - 0s - loss: 0.0017 - 257ms/epoch - 3ms/step\n",
            "92/92 - 0s - loss: 0.0018 - 253ms/epoch - 3ms/step\n",
            "92/92 - 0s - loss: 0.0017 - 258ms/epoch - 3ms/step\n",
            "92/92 - 0s - loss: 0.0019 - 442ms/epoch - 5ms/step\n",
            "92/92 - 0s - loss: 0.0019 - 376ms/epoch - 4ms/step\n",
            "92/92 - 0s - loss: 0.0018 - 343ms/epoch - 4ms/step\n",
            "92/92 - 0s - loss: 0.0018 - 467ms/epoch - 5ms/step\n",
            "92/92 - 0s - loss: 0.0021 - 425ms/epoch - 5ms/step\n",
            "92/92 - 0s - loss: 0.0019 - 386ms/epoch - 4ms/step\n",
            "92/92 - 0s - loss: 0.0018 - 328ms/epoch - 4ms/step\n",
            "92/92 - 0s - loss: 0.0019 - 362ms/epoch - 4ms/step\n",
            "92/92 - 0s - loss: 0.0018 - 363ms/epoch - 4ms/step\n",
            "92/92 - 0s - loss: 0.0018 - 315ms/epoch - 3ms/step\n",
            "92/92 - 0s - loss: 0.0019 - 286ms/epoch - 3ms/step\n",
            "92/92 - 0s - loss: 0.0019 - 251ms/epoch - 3ms/step\n",
            "92/92 - 0s - loss: 0.0018 - 240ms/epoch - 3ms/step\n",
            "92/92 - 0s - loss: 0.0019 - 245ms/epoch - 3ms/step\n",
            "92/92 - 0s - loss: 0.0019 - 251ms/epoch - 3ms/step\n",
            "92/92 - 0s - loss: 0.0020 - 245ms/epoch - 3ms/step\n",
            "92/92 - 0s - loss: 0.0017 - 243ms/epoch - 3ms/step\n",
            "92/92 - 0s - loss: 0.0018 - 253ms/epoch - 3ms/step\n",
            "92/92 - 0s - loss: 0.0018 - 243ms/epoch - 3ms/step\n",
            "92/92 - 0s - loss: 0.0020 - 224ms/epoch - 2ms/step\n"
          ]
        }
      ]
    },
    {
      "cell_type": "markdown",
      "source": [
        "# **Predicción**\n",
        "---\n",
        "\n"
      ],
      "metadata": {
        "id": "pUXMsfOIQvd4"
      }
    },
    {
      "cell_type": "code",
      "source": [
        "train_predict = model.predict(trainX, batch_size=batch_size)\n",
        "model.reset_states()\n",
        "test_predict = model.predict(testX, batch_size=batch_size)\n",
        "model.reset_states()"
      ],
      "metadata": {
        "id": "ENIrkag9KzNg"
      },
      "execution_count": 14,
      "outputs": []
    },
    {
      "cell_type": "markdown",
      "source": [
        "# **Resultados**\n",
        "---\n",
        "\n"
      ],
      "metadata": {
        "id": "slIIFOtFQ6af"
      }
    },
    {
      "cell_type": "code",
      "source": [
        "train_inverse_predict_X = scaler.inverse_transform(train_predict)\n",
        "train_inverse_y = scaler.inverse_transform([trainY])\n",
        "\n",
        "test_inverse_predic_X = scaler.inverse_transform(test_predict)\n",
        "test_inverse_y = scaler.inverse_transform([testY])"
      ],
      "metadata": {
        "id": "Ax_Fa88CQ-ue"
      },
      "execution_count": 15,
      "outputs": []
    },
    {
      "cell_type": "markdown",
      "source": [
        "# **Calcular el error**\n",
        "---\n",
        "\n"
      ],
      "metadata": {
        "id": "fjJxdYUZRBaO"
      }
    },
    {
      "cell_type": "code",
      "source": [
        "train_score = math.sqrt(mean_squared_error(train_inverse_y[0], train_inverse_predict_X[:,0]))\n",
        "print('Puntuación Entrenamiento %.2f MSE (%.2f RMSE)' % (train_score, math.sqrt(train_score)))\n",
        "test_score = math.sqrt(mean_squared_error(test_inverse_y[0], test_inverse_predic_X[:,0]))\n",
        "print('Puntuación Validación %.2f MSE (%.2f RMSE)' % (test_score, math.sqrt(test_score)))"
      ],
      "metadata": {
        "colab": {
          "base_uri": "https://localhost:8080/"
        },
        "id": "VCP80bfcRFUg",
        "outputId": "ed69bab4-aed5-4cdb-b8e4-07a513d3ddc5"
      },
      "execution_count": 16,
      "outputs": [
        {
          "output_type": "stream",
          "name": "stdout",
          "text": [
            "Puntuación Entrenamiento 20.38 MSE (4.51 RMSE)\n",
            "Puntuación Validación 61.34 MSE (7.83 RMSE)\n"
          ]
        }
      ]
    },
    {
      "cell_type": "markdown",
      "source": [
        "# **Plot**\n",
        "---\n",
        "\n"
      ],
      "metadata": {
        "id": "mTM-PE_iRKau"
      }
    },
    {
      "cell_type": "code",
      "source": [
        "train_predict_plot = np.empty_like(data_values)\n",
        "train_predict_plot[:,:] = np.nan\n",
        "train_predict_plot[loock_back: len(train_inverse_predict_X)+loock_back, :] = train_inverse_predict_X\n",
        "\n",
        "test_predict_plot = np.empty_like(data_values)\n",
        "test_predict_plot[:,:] = np.nan\n",
        "test_predict_plot[len(train_inverse_predict_X)+(loock_back*2)+1:len(data_values)-1,:] = test_inverse_predic_X"
      ],
      "metadata": {
        "id": "KS2YLNIVROU_"
      },
      "execution_count": 18,
      "outputs": []
    },
    {
      "cell_type": "code",
      "source": [
        "plt.figure(figsize=(12,8))\n",
        "plt.plot(scaler.inverse_transform(data_values))\n",
        "plt.plot(train_predict_plot)\n",
        "plt.plot(test_predict_plot)\n",
        "plt.show()"
      ],
      "metadata": {
        "colab": {
          "base_uri": "https://localhost:8080/",
          "height": 483
        },
        "id": "dNvTQBYSRTIB",
        "outputId": "8d7b5cbb-2443-4a8a-a07a-2d50a58cf10a"
      },
      "execution_count": 19,
      "outputs": [
        {
          "output_type": "display_data",
          "data": {
            "image/png": "[encoded data removed]",
            "text/plain": [
              "<Figure size 864x576 with 1 Axes>"
            ]
          },
          "metadata": {
            "needs_background": "light"
          }
        }
      ]
    }
  ]
}