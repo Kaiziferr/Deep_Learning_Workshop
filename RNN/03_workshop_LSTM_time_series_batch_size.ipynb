{
  "nbformat": 4,
  "nbformat_minor": 0,
  "metadata": {
    "colab": {
      "name": "03_workshop_LSTM_time_series_batch_size.ipynb",
      "provenance": [],
      "collapsed_sections": [],
      "authorship_tag": "ABX9TyP/s+Yy4V/q6Rr0w8zSP7wf",
      "include_colab_link": true
    },
    "kernelspec": {
      "name": "python3",
      "display_name": "Python 3"
    },
    "language_info": {
      "name": "python"
    }
  },
  "cells": [
    {
      "cell_type": "markdown",
      "metadata": {
        "id": "view-in-github",
        "colab_type": "text"
      },
      "source": [
        "<a href=\"https://colab.research.google.com/github/Kaiziferr/deep_learning_workshop/blob/master/RNN/03_workshop_LSTM_time_series_batch_size.ipynb\" target=\"_parent\"><img src=\"https://colab.research.google.com/assets/colab-badge.svg\" alt=\"Open In Colab\"/></a>"
      ]
    },
    {
      "cell_type": "code",
      "execution_count": 1,
      "metadata": {
        "id": "GpQ5Cx3uZe_c"
      },
      "outputs": [],
      "source": [
        "import numpy as np\n",
        "import pandas as pd\n",
        "import matplotlib.pyplot as plt\n",
        "import math\n",
        "from keras.models import Sequential\n",
        "from keras.layers import Dense, LSTM\n",
        "from sklearn.preprocessing import MinMaxScaler\n",
        "from sklearn.metrics import mean_squared_error"
      ]
    },
    {
      "cell_type": "markdown",
      "source": [
        "# **Contexto**\n",
        "---\n",
        "- LSTM para un problema de regresión con secuencialidad temporal.\n",
        "- LSTM usando una ventana y pasos de tiempo\n",
        "- Desarrollar y hacer predicciones que mantienen el estado (memoria) en secuencias muy largas.\n",
        "- LSTM con memoria entre batch\n",
        "\n"
      ],
      "metadata": {
        "id": "BINjD9rynnSM"
      }
    },
    {
      "cell_type": "markdown",
      "source": [
        "# **Data**\n",
        "---\n",
        "Este es un problema en el que, dado un año y un mes, la tareas es predecir el número de pasajeros de aerolineas internecionales en unidades de 1.000. Los datos van desde enero de 1949 hasta diciembre de 1960 o 12 años, con 144 observaciones.\n"
      ],
      "metadata": {
        "id": "wRXfPp7neRs2"
      }
    },
    {
      "cell_type": "code",
      "source": [
        "url = 'https://raw.githubusercontent.com/jinfagang/LSTM_learn/master/international-airline-passengers.csv'\n",
        "data = pd.read_csv(url, usecols=[1], engine=\"python\")\n",
        "data_values = data.values.astype('float32')"
      ],
      "metadata": {
        "id": "KgKkK0-wdtI7"
      },
      "execution_count": 2,
      "outputs": []
    },
    {
      "cell_type": "markdown",
      "source": [
        "#**Normalización**\n",
        "---"
      ],
      "metadata": {
        "id": "DK2jOLlihNxm"
      }
    },
    {
      "cell_type": "code",
      "source": [
        "scaler = MinMaxScaler(feature_range=(0, 1))\n",
        "data_values = scaler.fit_transform(data_values)"
      ],
      "metadata": {
        "id": "yaILP2iZhK9G"
      },
      "execution_count": 3,
      "outputs": []
    },
    {
      "cell_type": "code",
      "source": [
        "data_values[:5]"
      ],
      "metadata": {
        "colab": {
          "base_uri": "https://localhost:8080/"
        },
        "id": "qS6BdTCNrzLg",
        "outputId": "2d8de15b-885e-4fa3-859d-a7dbb5dd81cc"
      },
      "execution_count": 4,
      "outputs": [
        {
          "output_type": "execute_result",
          "data": {
            "text/plain": [
              "array([[0.01544401],\n",
              "       [0.02702703],\n",
              "       [0.05405405],\n",
              "       [0.04826255],\n",
              "       [0.03281853]], dtype=float32)"
            ]
          },
          "metadata": {},
          "execution_count": 4
        }
      ]
    },
    {
      "cell_type": "markdown",
      "source": [
        "# **Data Split**\n",
        "---\n",
        "\n"
      ],
      "metadata": {
        "id": "0vXNkDOWiiK1"
      }
    },
    {
      "cell_type": "code",
      "source": [
        "train_size = int(len(data_values)*0.67)\n",
        "test_size = len(data_values) - train_size\n",
        "train, test =  data_values[:train_size,:], data_values[train_size:, :]"
      ],
      "metadata": {
        "id": "Sl8hPkGxiYSN"
      },
      "execution_count": 5,
      "outputs": []
    },
    {
      "cell_type": "markdown",
      "source": [
        "# **Create Data**\n",
        "---\n",
        "**Se crea un paso de tiempo de 1** \n"
      ],
      "metadata": {
        "id": "g1SZ4tnFjhFO"
      }
    },
    {
      "cell_type": "code",
      "source": [
        "def create_dataset(data, loock_back = 1):\n",
        "  dataX, dataY = [], []\n",
        "  for i in range(len(data)-loock_back-1): \n",
        "    item_x = data[i: (i+loock_back), 0]\n",
        "    item_y = data[i+loock_back,0]\n",
        "    dataX.append(item_x)\n",
        "    dataY.append(item_y)\n",
        "  return np.array(dataX), np.array(dataY)"
      ],
      "metadata": {
        "id": "plYCdIyodail"
      },
      "execution_count": 6,
      "outputs": []
    },
    {
      "cell_type": "code",
      "source": [
        "loock_back = 3\n",
        "trainX, trainY = create_dataset(train, loock_back)\n",
        "testX, testY = create_dataset(test, loock_back)"
      ],
      "metadata": {
        "id": "PJPAKAcPiznt"
      },
      "execution_count": 7,
      "outputs": []
    },
    {
      "cell_type": "markdown",
      "source": [
        "La red LSTM espera que los datos de entrada (X) se proporcionen con una estructura de matriz especifica en forma de [muestras, pasos de tiempo (ventana), caracteristicas]<br><br>\n",
        "Los datos preparados tienen la forma: [muestras, carcteristicas]<br><br>"
      ],
      "metadata": {
        "id": "RNG6qng4mL6V"
      }
    },
    {
      "cell_type": "code",
      "source": [
        "print(f'El conjunto de estara dado con {trainX.shape[0]} muestras registros y con {trainX.shape[1]} caracteristicas')\n",
        "print('En esta primera pruebas los pasos de tiempo seran 1')"
      ],
      "metadata": {
        "colab": {
          "base_uri": "https://localhost:8080/"
        },
        "id": "W4hZCgkSuHqR",
        "outputId": "0c122d2f-6b16-4c78-e575-ddc8cdeb373a"
      },
      "execution_count": 8,
      "outputs": [
        {
          "output_type": "stream",
          "name": "stdout",
          "text": [
            "El conjunto de estara dado con 92 muestras registros y con 3 caracteristicas\n",
            "En esta primera pruebas los pasos de tiempo seran 1\n"
          ]
        }
      ]
    },
    {
      "cell_type": "code",
      "source": [
        "print(f'Hacemos un reformateo para cumplir [muestras, pasos de tiempo (ventana), caracteristicas] {trainX.shape}')\n",
        "trainX = np.reshape(trainX, (trainX.shape[0], trainX.shape[1], 1))\n",
        "testX = np.reshape(testX, (testX.shape[0], testX.shape[1], 1))"
      ],
      "metadata": {
        "id": "ESR4gJQ3nGLX",
        "colab": {
          "base_uri": "https://localhost:8080/"
        },
        "outputId": "a8ec6402-f4c9-42d8-ec4a-518c72952b24"
      },
      "execution_count": 9,
      "outputs": [
        {
          "output_type": "stream",
          "name": "stdout",
          "text": [
            "Hacemos un reformateo para cumplir [muestras, pasos de tiempo (ventana), caracteristicas] (92, 3)\n"
          ]
        }
      ]
    },
    {
      "cell_type": "markdown",
      "source": [
        "# **Diseño de LSTM**\n",
        "---\n"
      ],
      "metadata": {
        "id": "b8sIqpepn4Fn"
      }
    },
    {
      "cell_type": "code",
      "source": [
        "batch_size = 1\n",
        "model = Sequential()\n",
        "model.add(LSTM(4, batch_input_shape=(batch_size, loock_back, 1), stateful=True))\n",
        "model.add(Dense(1))\n",
        "model.compile(loss = 'mean_squared_error', optimizer = 'adam')\n",
        "for i in range(100):\n",
        "  model.fit(trainX, trainY, epochs = 1, batch_size=batch_size, verbose = 0, shuffle=False)\n",
        "  model.reset_states()"
      ],
      "metadata": {
        "id": "mZ1KYTHJol7P"
      },
      "execution_count": 11,
      "outputs": []
    },
    {
      "cell_type": "markdown",
      "source": [
        "# **Predicción**\n",
        "---\n",
        "\n"
      ],
      "metadata": {
        "id": "bowRcRdXFI_6"
      }
    },
    {
      "cell_type": "code",
      "source": [
        "train_predict = model.predict(trainX, batch_size=batch_size)\n",
        "model.reset_states()\n",
        "test_predict = model.predict(testX, batch_size=batch_size)\n",
        "model.reset_states()"
      ],
      "metadata": {
        "id": "zuZTWKdLE56j"
      },
      "execution_count": 12,
      "outputs": []
    },
    {
      "cell_type": "markdown",
      "source": [
        "# **Resultados**\n",
        "---\n",
        "\n"
      ],
      "metadata": {
        "id": "R2mUvm5Aq5xe"
      }
    },
    {
      "cell_type": "code",
      "source": [
        "train_inverse_predict_X = scaler.inverse_transform(train_predict)\n",
        "train_inverse_y = scaler.inverse_transform([trainY])\n",
        "\n",
        "test_inverse_predic_X = scaler.inverse_transform(test_predict)\n",
        "test_inverse_y = scaler.inverse_transform([testY])"
      ],
      "metadata": {
        "id": "HtOW39bztjHG"
      },
      "execution_count": 13,
      "outputs": []
    },
    {
      "cell_type": "markdown",
      "source": [
        "# **Calcular el error**\n",
        "---\n"
      ],
      "metadata": {
        "id": "Hb1al5lhuPAl"
      }
    },
    {
      "cell_type": "code",
      "source": [
        "train_score = math.sqrt(mean_squared_error(train_inverse_y[0], train_inverse_predict_X[:,0]))\n",
        "print('Puntuación Entrenamiento %.2f MSE (%.2f RMSE)' % (train_score, math.sqrt(train_score)))\n",
        "test_score = math.sqrt(mean_squared_error(test_inverse_y[0], test_inverse_predic_X[:,0]))\n",
        "print('Puntuación Validación %.2f MSE (%.2f RMSE)' % (test_score, math.sqrt(test_score)))"
      ],
      "metadata": {
        "id": "9TuBzCj3uMgP",
        "colab": {
          "base_uri": "https://localhost:8080/"
        },
        "outputId": "acc5e293-8143-4fb2-e57e-6367aa0c456f"
      },
      "execution_count": 14,
      "outputs": [
        {
          "output_type": "stream",
          "name": "stdout",
          "text": [
            "Puntuación Entrenamiento 21.27 MSE (4.61 RMSE)\n",
            "Puntuación Validación 51.27 MSE (7.16 RMSE)\n"
          ]
        }
      ]
    },
    {
      "cell_type": "code",
      "source": [
        "print(f\"El modelo falla en aprocimadamente {math.sqrt(train_score)} mil pasajeros por mes para los datos de entrenamiento\")\n",
        "print(f\"El modelo falla en aprocimadamente {math.sqrt(test_score)} mil para los datos de validación \")"
      ],
      "metadata": {
        "colab": {
          "base_uri": "https://localhost:8080/"
        },
        "id": "fCcfpMBUypQP",
        "outputId": "c4128c55-fbfc-4665-ea3b-0a4edb6e7fb8"
      },
      "execution_count": 15,
      "outputs": [
        {
          "output_type": "stream",
          "name": "stdout",
          "text": [
            "El modelo falla en aprocimadamente 4.611414315006241 mil pasajeros por mes para los datos de entrenamiento\n",
            "El modelo falla en aprocimadamente 7.160089457866043 mil para los datos de validación \n"
          ]
        }
      ]
    },
    {
      "cell_type": "markdown",
      "source": [
        "# Plot"
      ],
      "metadata": {
        "id": "XSDVl4EVwR51"
      }
    },
    {
      "cell_type": "code",
      "source": [
        "train_predict_plot = np.empty_like(data_values)\n",
        "train_predict_plot[:,:] = np.nan\n",
        "train_predict_plot[loock_back: len(train_inverse_predict_X)+loock_back, :] = train_inverse_predict_X\n",
        "\n",
        "test_predict_plot = np.empty_like(data_values)\n",
        "test_predict_plot[:,:] = np.nan\n",
        "test_predict_plot[len(train_inverse_predict_X)+(loock_back*2)+1:len(data_values)-1,:] = test_inverse_predic_X"
      ],
      "metadata": {
        "id": "k9TEB-b6u1BY"
      },
      "execution_count": 16,
      "outputs": []
    },
    {
      "cell_type": "code",
      "source": [
        "plt.figure(figsize=(12,8))\n",
        "plt.plot(scaler.inverse_transform(data_values))\n",
        "plt.plot(train_predict_plot)\n",
        "plt.plot(test_predict_plot)\n",
        "plt.show()"
      ],
      "metadata": {
        "id": "eKohVg9_22if",
        "colab": {
          "base_uri": "https://localhost:8080/",
          "height": 483
        },
        "outputId": "b76a98be-0e89-485d-f068-cc216c860736"
      },
      "execution_count": 17,
      "outputs": [
        {
          "output_type": "display_data",
          "data": {
            "image/png": "[encoded data removed]",
            "text/plain": [
              "<Figure size 864x576 with 1 Axes>"
            ]
          },
          "metadata": {
            "needs_background": "light"
          }
        }
      ]
    },
    {
      "cell_type": "markdown",
      "source": [
        "- La red aun no tiene los resultados esperados, por tal razon es necesario que se tenga encuenta, si es necesario una arquitectura más profunda o una combinación especifica de parametros "
      ],
      "metadata": {
        "id": "s4Y4OEW9bDED"
      }
    },
    {
      "cell_type": "code",
      "source": [
        ""
      ],
      "metadata": {
        "id": "KRT4HIL3bZ0t"
      },
      "execution_count": null,
      "outputs": []
    }
  ]
}