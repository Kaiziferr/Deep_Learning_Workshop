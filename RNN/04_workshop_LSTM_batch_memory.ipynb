{
  "nbformat": 4,
  "nbformat_minor": 0,
  "metadata": {
    "colab": {
      "name": "04_workshop_LSTM_batch_memory.ipynb",
      "provenance": [],
      "collapsed_sections": [],
      "authorship_tag": "ABX9TyP/5yvXfpx4sVhpKrgoVQXT",
      "include_colab_link": true
    },
    "kernelspec": {
      "name": "python3",
      "display_name": "Python 3"
    },
    "language_info": {
      "name": "python"
    }
  },
  "cells": [
    {
      "cell_type": "markdown",
      "metadata": {
        "id": "view-in-github",
        "colab_type": "text"
      },
      "source": [
        "<a href=\"https://colab.research.google.com/github/Kaiziferr/Deep_Learning_Workshop/blob/master/RNN/04_workshop_LSTM_batch_memory.ipynb\" target=\"_parent\"><img src=\"https://colab.research.google.com/assets/colab-badge.svg\" alt=\"Open In Colab\"/></a>"
      ]
    },
    {
      "cell_type": "markdown",
      "metadata": {
        "id": "uD8USjgd-iXy"
      },
      "source": [
        "# LSTM con memoria entre batchs\n",
        "La red LSTM tiene memoria que es capaz de recordar secuencias largas\n",
        "\n",
        "Normalmente, el estado dentro de la red se restablece después de cada batch, asi como con cada llamada a **model.predict()** o **model.evaluate()**. Podemos obtener un control más preciso sobre cuando se borra el estado interno de la red LSTM haciendo que la capa LSTM tenga estado (párametro **stateful**)\n",
        "\n",
        "Por lo tanto, es necesario que los datos de entrenamiento no se mezclen al ajustar la red y un restablecimiento explicito del estado de la red después de la epoca mediante llamadas a la funcion **model.reset states()**"
      ]
    },
    {
      "cell_type": "code",
      "metadata": {
        "id": "2qMl9pIO5Qfo"
      },
      "source": [
        "import numpy as np\n",
        "import pandas as pd\n",
        "import matplotlib.pyplot as plt\n",
        "import math\n",
        "from keras.models import Sequential\n",
        "from keras.layers import Dense, LSTM\n",
        "from sklearn.preprocessing import MinMaxScaler\n",
        "from sklearn.metrics import mean_squared_error"
      ],
      "execution_count": 1,
      "outputs": []
    },
    {
      "cell_type": "code",
      "metadata": {
        "id": "0zPzXhgwB94C"
      },
      "source": [
        "def create_dataset(data, loock_back = 1):\n",
        "  dataX, dataY = [], []\n",
        "  for i in range(len(data) - loock_back-1):\n",
        "    a = data[i: (i+loock_back), 0]\n",
        "    dataX.append(a)\n",
        "    dataY.append(data[i+loock_back, 0])\n",
        "  return np.array(dataX), np.array(dataY)\n"
      ],
      "execution_count": 2,
      "outputs": []
    },
    {
      "cell_type": "code",
      "metadata": {
        "id": "BJVrzv1FCA2v"
      },
      "source": [
        "data = pd.read_csv('./data/international-airline-passengers.csv', usecols=[1], engine='python')\n",
        "data_values = data.values.astype('float32')"
      ],
      "execution_count": 3,
      "outputs": []
    },
    {
      "cell_type": "code",
      "metadata": {
        "id": "mCoV0ZnUCCrV"
      },
      "source": [
        "#Normalization de datos\n",
        "scaler = MinMaxScaler(feature_range=(0,1))\n",
        "data_values = scaler.fit_transform(data_values)"
      ],
      "execution_count": 4,
      "outputs": []
    },
    {
      "cell_type": "code",
      "metadata": {
        "colab": {
          "base_uri": "https://localhost:8080/",
          "height": 67
        },
        "id": "qaU2UEXECDrZ",
        "outputId": "4bf5a0dc-9770-429f-b7a1-5fb170ebe8ba"
      },
      "source": [
        "#train and test\n",
        "train_size = int(len(data_values)*0.67)\n",
        "test_set = len(data_values) - train_size\n",
        "train, test = data_values[0:train_size, :], data_values[train_size:, :]\n",
        "display(len(data_values), len(train), len(test) )"
      ],
      "execution_count": 5,
      "outputs": [
        {
          "output_type": "display_data",
          "data": {
            "text/plain": [
              "144"
            ]
          },
          "metadata": {
            "tags": []
          }
        },
        {
          "output_type": "display_data",
          "data": {
            "text/plain": [
              "96"
            ]
          },
          "metadata": {
            "tags": []
          }
        },
        {
          "output_type": "display_data",
          "data": {
            "text/plain": [
              "48"
            ]
          },
          "metadata": {
            "tags": []
          }
        }
      ]
    },
    {
      "cell_type": "code",
      "metadata": {
        "id": "aV18ICJPCGcI"
      },
      "source": [
        "loock_back = 3\n",
        "trainX, trainY = create_dataset(train, loock_back)\n",
        "testX, testY = create_dataset(test, loock_back)"
      ],
      "execution_count": 6,
      "outputs": []
    },
    {
      "cell_type": "code",
      "metadata": {
        "colab": {
          "base_uri": "https://localhost:8080/"
        },
        "id": "VMr1Gjh1CJjw",
        "outputId": "dc8c0d5b-319f-48c0-d35b-15957e2e57ae"
      },
      "source": [
        "# La red LSTM espera que los datos de entrada (X) se proporcionen con una estructura de matriz especifica en forma de [muestras, pasos de tiempo (ventana), caracteristicas]\n",
        "\n",
        "#Los datos preparados tienen la forma: [muestras, carcteristicas]\n",
        "\n",
        "#Muestra y caracteristicas\n",
        "trainX.shape"
      ],
      "execution_count": 7,
      "outputs": [
        {
          "output_type": "execute_result",
          "data": {
            "text/plain": [
              "(92, 3)"
            ]
          },
          "metadata": {
            "tags": []
          },
          "execution_count": 7
        }
      ]
    },
    {
      "cell_type": "code",
      "metadata": {
        "id": "O78_OqdnCMuU"
      },
      "source": [
        "# cambia la ventana y la caracteristica\n",
        "trainX = np.reshape(trainX, (trainX.shape[0],trainX.shape[1], 1))\n",
        "testX = np.reshape(testX, (testX.shape[0],testX.shape[1],1))"
      ],
      "execution_count": 8,
      "outputs": []
    },
    {
      "cell_type": "code",
      "metadata": {
        "colab": {
          "base_uri": "https://localhost:8080/"
        },
        "id": "KjqSfsnsCQt4",
        "outputId": "3f66a444-4d39-44a5-cf38-b280c06ae624"
      },
      "source": [
        "batch_size = 1 \n",
        "model = Sequential()\n",
        "#Entre un batch y otro, habra una memoria\n",
        "batch_size = 1\n",
        "model.add(LSTM(4, batch_input_shape = (batch_size, loock_back, 1), stateful=True))\n",
        "model.add(Dense(1))\n",
        "model.compile(loss='mean_squared_error', optimizer='adam')\n",
        "#Los estados deben reseteando, por cada epoca\n",
        "for i in range(100):\n",
        "  model.fit(trainX, trainY, epochs=1, batch_size=batch_size, verbose = 2, shuffle=False)\n",
        "  model.reset_states()\n",
        "\n"
      ],
      "execution_count": 9,
      "outputs": [
        {
          "output_type": "stream",
          "text": [
            "92/92 - 17s - loss: 0.0296\n",
            "92/92 - 0s - loss: 0.0302\n",
            "92/92 - 0s - loss: 0.0245\n",
            "92/92 - 0s - loss: 0.0214\n",
            "92/92 - 0s - loss: 0.0189\n",
            "92/92 - 0s - loss: 0.0168\n",
            "92/92 - 0s - loss: 0.0146\n",
            "92/92 - 0s - loss: 0.0122\n",
            "92/92 - 0s - loss: 0.0097\n",
            "92/92 - 0s - loss: 0.0073\n",
            "92/92 - 0s - loss: 0.0057\n",
            "92/92 - 0s - loss: 0.0050\n",
            "92/92 - 0s - loss: 0.0048\n",
            "92/92 - 0s - loss: 0.0047\n",
            "92/92 - 0s - loss: 0.0047\n",
            "92/92 - 0s - loss: 0.0046\n",
            "92/92 - 0s - loss: 0.0046\n",
            "92/92 - 0s - loss: 0.0045\n",
            "92/92 - 0s - loss: 0.0045\n",
            "92/92 - 0s - loss: 0.0044\n",
            "92/92 - 0s - loss: 0.0044\n",
            "92/92 - 0s - loss: 0.0043\n",
            "92/92 - 0s - loss: 0.0043\n",
            "92/92 - 0s - loss: 0.0042\n",
            "92/92 - 0s - loss: 0.0042\n",
            "92/92 - 0s - loss: 0.0041\n",
            "92/92 - 0s - loss: 0.0041\n",
            "92/92 - 0s - loss: 0.0041\n",
            "92/92 - 0s - loss: 0.0040\n",
            "92/92 - 0s - loss: 0.0040\n",
            "92/92 - 0s - loss: 0.0039\n",
            "92/92 - 0s - loss: 0.0039\n",
            "92/92 - 0s - loss: 0.0039\n",
            "92/92 - 0s - loss: 0.0038\n",
            "92/92 - 0s - loss: 0.0038\n",
            "92/92 - 0s - loss: 0.0038\n",
            "92/92 - 0s - loss: 0.0037\n",
            "92/92 - 0s - loss: 0.0037\n",
            "92/92 - 0s - loss: 0.0037\n",
            "92/92 - 0s - loss: 0.0036\n",
            "92/92 - 0s - loss: 0.0036\n",
            "92/92 - 0s - loss: 0.0036\n",
            "92/92 - 0s - loss: 0.0035\n",
            "92/92 - 0s - loss: 0.0035\n",
            "92/92 - 0s - loss: 0.0035\n",
            "92/92 - 0s - loss: 0.0034\n",
            "92/92 - 0s - loss: 0.0034\n",
            "92/92 - 0s - loss: 0.0034\n",
            "92/92 - 0s - loss: 0.0033\n",
            "92/92 - 0s - loss: 0.0033\n",
            "92/92 - 0s - loss: 0.0033\n",
            "92/92 - 0s - loss: 0.0032\n",
            "92/92 - 0s - loss: 0.0032\n",
            "92/92 - 0s - loss: 0.0032\n",
            "92/92 - 0s - loss: 0.0031\n",
            "92/92 - 0s - loss: 0.0031\n",
            "92/92 - 0s - loss: 0.0031\n",
            "92/92 - 0s - loss: 0.0031\n",
            "92/92 - 0s - loss: 0.0030\n",
            "92/92 - 0s - loss: 0.0030\n",
            "92/92 - 0s - loss: 0.0030\n",
            "92/92 - 0s - loss: 0.0029\n",
            "92/92 - 0s - loss: 0.0029\n",
            "92/92 - 0s - loss: 0.0029\n",
            "92/92 - 0s - loss: 0.0029\n",
            "92/92 - 0s - loss: 0.0028\n",
            "92/92 - 0s - loss: 0.0028\n",
            "92/92 - 0s - loss: 0.0028\n",
            "92/92 - 0s - loss: 0.0028\n",
            "92/92 - 0s - loss: 0.0027\n",
            "92/92 - 0s - loss: 0.0027\n",
            "92/92 - 0s - loss: 0.0027\n",
            "92/92 - 0s - loss: 0.0027\n",
            "92/92 - 0s - loss: 0.0027\n",
            "92/92 - 0s - loss: 0.0026\n",
            "92/92 - 0s - loss: 0.0026\n",
            "92/92 - 0s - loss: 0.0026\n",
            "92/92 - 0s - loss: 0.0026\n",
            "92/92 - 0s - loss: 0.0025\n",
            "92/92 - 0s - loss: 0.0025\n",
            "92/92 - 0s - loss: 0.0025\n",
            "92/92 - 0s - loss: 0.0025\n",
            "92/92 - 0s - loss: 0.0024\n",
            "92/92 - 0s - loss: 0.0024\n",
            "92/92 - 0s - loss: 0.0024\n",
            "92/92 - 0s - loss: 0.0023\n",
            "92/92 - 0s - loss: 0.0023\n",
            "92/92 - 0s - loss: 0.0023\n",
            "92/92 - 0s - loss: 0.0023\n",
            "92/92 - 0s - loss: 0.0022\n",
            "92/92 - 0s - loss: 0.0022\n",
            "92/92 - 0s - loss: 0.0022\n",
            "92/92 - 0s - loss: 0.0022\n",
            "92/92 - 0s - loss: 0.0021\n",
            "92/92 - 0s - loss: 0.0021\n",
            "92/92 - 0s - loss: 0.0021\n",
            "92/92 - 0s - loss: 0.0021\n",
            "92/92 - 0s - loss: 0.0021\n",
            "92/92 - 0s - loss: 0.0021\n",
            "92/92 - 0s - loss: 0.0020\n"
          ],
          "name": "stdout"
        }
      ]
    },
    {
      "cell_type": "markdown",
      "metadata": {
        "id": "GZGyJymSD9Bk"
      },
      "source": [
        "# Diseño de LSTM\n",
        "Finalmente, cuando se construye la capa LSTM, el parámetro **stateful** debe establecerse en True y, en lugar de especificar, mediante el parámetro **batch_input_shape:**\n",
        "\n",
        "1. Las dimensiones de entrada\n",
        "2. Codificar el número de muestras en un batch\n",
        "3. El número de pasos de tiempo en una muestra **y**\n",
        "4. El número de caracteristicas en un paso de tiempo\n"
      ]
    },
    {
      "cell_type": "code",
      "metadata": {
        "id": "IoHsv-AFDtzL"
      },
      "source": [
        "trainPredict = model.predict(trainX, batch_size=batch_size)\n",
        "model.reset_states()\n",
        "testPredict = model.predict(testX, batch_size=batch_size)\n",
        "model.reset_states()"
      ],
      "execution_count": 10,
      "outputs": []
    },
    {
      "cell_type": "code",
      "metadata": {
        "id": "udN3bLqtFd8O"
      },
      "source": [
        "#Invert prediction\n",
        "trainPredict = scaler.inverse_transform(trainPredict)\n",
        "trainY = scaler.inverse_transform([trainY])\n",
        "\n",
        "testPredict = scaler.inverse_transform(testPredict)\n",
        "testY = scaler.inverse_transform([testY])"
      ],
      "execution_count": 11,
      "outputs": []
    },
    {
      "cell_type": "code",
      "metadata": {
        "colab": {
          "base_uri": "https://localhost:8080/"
        },
        "id": "llGta_TpG_O6",
        "outputId": "a2affedd-65cf-4940-f90b-c49fe96ba7c6"
      },
      "source": [
        "# Calcular el error\n",
        "train_score = math.sqrt(mean_squared_error(trainY[0], trainPredict[:,0]))\n",
        "print('Puntuación Entrenamiento: %.2f RMSE' % (train_score))\n",
        "\n",
        "test_score = math.sqrt(mean_squared_error(testY[0], testPredict[:,0]))\n",
        "print('Puntuación Test: %.2f RMSE' % (test_score))"
      ],
      "execution_count": 12,
      "outputs": [
        {
          "output_type": "stream",
          "text": [
            "Puntuación Entrenamiento: 22.83 RMSE\n",
            "Puntuación Test: 108.48 RMSE\n"
          ],
          "name": "stdout"
        }
      ]
    },
    {
      "cell_type": "code",
      "metadata": {
        "colab": {
          "base_uri": "https://localhost:8080/",
          "height": 500
        },
        "id": "jaudl6V-HB3a",
        "outputId": "4a65e29d-8764-4e55-baf7-a2be3ca7cf2b"
      },
      "source": [
        "trainPredictPlot = np.empty_like(data_values)\n",
        "trainPredictPlot[:,:] = np.nan\n",
        "trainPredictPlot[loock_back: len(trainPredict)+loock_back, :] = trainPredict\n",
        "\n",
        "testPredictPlot = np.empty_like(data_values)\n",
        "testPredictPlot[:,:] = np.nan\n",
        "testPredictPlot[len(trainPredict)+(loock_back*2)+1:len(data_values)-1,:] = testPredict\n",
        "\n",
        "plt.figure(figsize=(12,8))\n",
        "plt.plot(scaler.inverse_transform(data_values))\n",
        "plt.plot(trainPredictPlot)\n",
        "plt.plot(testPredictPlot)"
      ],
      "execution_count": 13,
      "outputs": [
        {
          "output_type": "execute_result",
          "data": {
            "text/plain": [
              "[<matplotlib.lines.Line2D at 0x7f1858ab3bd0>]"
            ]
          },
          "metadata": {
            "tags": []
          },
          "execution_count": 13
        },
        {
          "output_type": "display_data",
          "data": {
            "image/png": "[encoded data removed]",
            "text/plain": [
              "<Figure size 864x576 with 1 Axes>"
            ]
          },
          "metadata": {
            "tags": [],
            "needs_background": "light"
          }
        }
      ]
    }
  ]
}