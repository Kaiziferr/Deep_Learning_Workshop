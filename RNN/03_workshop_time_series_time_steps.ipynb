{
  "nbformat": 4,
  "nbformat_minor": 0,
  "metadata": {
    "colab": {
      "name": "03_workshop_time_series_time_steps.ipynb",
      "provenance": [],
      "authorship_tag": "ABX9TyOyKwYycXwbhfXEn2gtpAf/",
      "include_colab_link": true
    },
    "kernelspec": {
      "name": "python3",
      "display_name": "Python 3"
    },
    "language_info": {
      "name": "python"
    }
  },
  "cells": [
    {
      "cell_type": "markdown",
      "metadata": {
        "id": "view-in-github",
        "colab_type": "text"
      },
      "source": [
        "<a href=\"https://colab.research.google.com/github/Kaiziferr/Deep_Learning_Workshop/blob/master/RNN/03_workshop_time_series_time_steps.ipynb\" target=\"_parent\"><img src=\"https://colab.research.google.com/assets/colab-badge.svg\" alt=\"Open In Colab\"/></a>"
      ]
    },
    {
      "cell_type": "code",
      "metadata": {
        "id": "nsWROl2E6WOS"
      },
      "source": [
        "import numpy as np\n",
        "import pandas as pd\n",
        "import matplotlib.pyplot as plt\n",
        "import math\n",
        "from keras.models import Sequential\n",
        "from keras.layers import Dense, LSTM\n",
        "from sklearn.preprocessing import MinMaxScaler\n",
        "from sklearn.metrics import mean_squared_error"
      ],
      "execution_count": 9,
      "outputs": []
    },
    {
      "cell_type": "code",
      "metadata": {
        "id": "2j5idaCZ7lsC"
      },
      "source": [
        "def create_dataset(data, loock_back = 1):\n",
        "  dataX, dataY = [], []\n",
        "  for i in range(len(data) - loock_back-1):\n",
        "    a = data[i: (i+loock_back), 0]\n",
        "    dataX.append(a)\n",
        "    dataY.append(data[i+loock_back, 0])\n",
        "  return np.array(dataX), np.array(dataY)"
      ],
      "execution_count": 10,
      "outputs": []
    },
    {
      "cell_type": "markdown",
      "metadata": {
        "id": "u-W_Yy6s7pvH"
      },
      "source": [
        "# LSTM Time Steps"
      ]
    },
    {
      "cell_type": "markdown",
      "metadata": {
        "id": "sYekTj-67-Sj"
      },
      "source": [
        "En lugar de redactar las observaciones pasadas como caracteristicas de entrada separadas, se puede usar como pasos de tiempo de caracteristica de una entrada, que de hecho es un encuadre más preciso del problema. Se puede hacer usando la mima representacion de datos, confiurando columnas para que sean la dimension de pasos de tiempo y cambiar la dimension de caracteristicas de nuevo a 1."
      ]
    },
    {
      "cell_type": "code",
      "metadata": {
        "id": "7JPVpwzI7nfS"
      },
      "source": [
        "data = pd.read_csv('./data/international-airline-passengers.csv', usecols=[1], engine='python')\n",
        "data_values = data.values.astype('float32')"
      ],
      "execution_count": 11,
      "outputs": []
    },
    {
      "cell_type": "code",
      "metadata": {
        "id": "2r6VNY6B7vZ0"
      },
      "source": [
        "#Normalization de datos\n",
        "scaler = MinMaxScaler(feature_range=(0,1))\n",
        "data_values = scaler.fit_transform(data_values)"
      ],
      "execution_count": 12,
      "outputs": []
    },
    {
      "cell_type": "code",
      "metadata": {
        "colab": {
          "base_uri": "https://localhost:8080/",
          "height": 72
        },
        "id": "LyI75Hjc7xOj",
        "outputId": "0927abb6-8878-42cf-d635-7d72c72acbfa"
      },
      "source": [
        "#train and test\n",
        "train_size = int(len(data_values)*0.67)\n",
        "test_set = len(data_values) - train_size\n",
        "train, test = data_values[0:train_size, :], data_values[train_size:, :]\n",
        "display(len(data_values), len(train), len(test) )"
      ],
      "execution_count": 13,
      "outputs": [
        {
          "output_type": "display_data",
          "data": {
            "text/plain": [
              "144"
            ]
          },
          "metadata": {
            "tags": []
          }
        },
        {
          "output_type": "display_data",
          "data": {
            "text/plain": [
              "96"
            ]
          },
          "metadata": {
            "tags": []
          }
        },
        {
          "output_type": "display_data",
          "data": {
            "text/plain": [
              "48"
            ]
          },
          "metadata": {
            "tags": []
          }
        }
      ]
    },
    {
      "cell_type": "code",
      "metadata": {
        "colab": {
          "base_uri": "https://localhost:8080/"
        },
        "id": "iY8EkBA8-mFg",
        "outputId": "baf65431-dbfe-4ad0-ed6d-a9358d2cab17"
      },
      "source": [
        "loock_back = 3\n",
        "trainX, trainY = create_dataset(train, loock_back)\n",
        "testX, testY = create_dataset(test, loock_back)\n",
        "for i in range(5):\n",
        "  print(trainX[i], trainY[i])"
      ],
      "execution_count": 14,
      "outputs": [
        {
          "output_type": "stream",
          "text": [
            "[0.01544401 0.02702703 0.05405405] 0.04826255\n",
            "[0.02702703 0.05405405 0.04826255] 0.032818526\n",
            "[0.05405405 0.04826255 0.03281853] 0.059845567\n",
            "[0.04826255 0.03281853 0.05984557] 0.08494207\n",
            "[0.03281853 0.05984557 0.08494207] 0.08494207\n"
          ],
          "name": "stdout"
        }
      ]
    },
    {
      "cell_type": "code",
      "metadata": {
        "colab": {
          "base_uri": "https://localhost:8080/"
        },
        "id": "Tkey46-C9aLS",
        "outputId": "c72f253a-8af6-4fd2-f48f-da1f8376fb9c"
      },
      "source": [
        "# La red LSTM espera que los datos de entrada (X) se proporcionen con una estructura de matriz especifica en forma de [muestras, pasos de tiempo (ventana), caracteristicas]\n",
        "\n",
        "#Los datos preparados tienen la forma: [muestras, carcteristicas]\n",
        "\n",
        "#Muestra y caracteristicas\n",
        "trainX.shape"
      ],
      "execution_count": 15,
      "outputs": [
        {
          "output_type": "execute_result",
          "data": {
            "text/plain": [
              "(92, 3)"
            ]
          },
          "metadata": {
            "tags": []
          },
          "execution_count": 15
        }
      ]
    },
    {
      "cell_type": "code",
      "metadata": {
        "id": "JwvxhWf0-Oey"
      },
      "source": [
        "# cambia la ventana y la caracteristica\n",
        "trainX = np.reshape(trainX, (trainX.shape[0],trainX.shape[1], 1))\n",
        "testX = np.reshape(testX, (testX.shape[0],testX.shape[1],1))"
      ],
      "execution_count": 16,
      "outputs": []
    },
    {
      "cell_type": "code",
      "metadata": {
        "colab": {
          "base_uri": "https://localhost:8080/"
        },
        "id": "KsNv-IKG-p-p",
        "outputId": "91a1bdd0-b5f6-4af4-b827-8003b2f406ce"
      },
      "source": [
        "trainX.shape"
      ],
      "execution_count": 17,
      "outputs": [
        {
          "output_type": "execute_result",
          "data": {
            "text/plain": [
              "(92, 3, 1)"
            ]
          },
          "metadata": {
            "tags": []
          },
          "execution_count": 17
        }
      ]
    },
    {
      "cell_type": "code",
      "metadata": {
        "id": "1ytPMPA2-rno"
      },
      "source": [
        "model = Sequential()\n",
        "model.add(LSTM(4, input_shape = (loock_back,1)))\n",
        "model.add(Dense(1))\n",
        "model.compile(loss='mean_squared_error', optimizer = 'adam')\n",
        "model.fit(trainX, trainY, epochs = 100, batch_size = 1, verbose = 2)"
      ],
      "execution_count": null,
      "outputs": []
    },
    {
      "cell_type": "code",
      "metadata": {
        "id": "c1gW5L0f-uSf"
      },
      "source": [
        "#Predicciones\n",
        "trainPredict = model.predict(trainX)\n",
        "testPredict = model.predict(testX)"
      ],
      "execution_count": 21,
      "outputs": []
    },
    {
      "cell_type": "code",
      "metadata": {
        "id": "6AeCCAII--g3"
      },
      "source": [
        "#Invert prediction\n",
        "trainPredict = model.predict(trainX)\n",
        "testPredict = model.predict(testX)\n",
        "\n",
        "trainPredict = scaler.inverse_transform(trainPredict)\n",
        "trainY = scaler.inverse_transform([trainY])\n",
        "\n",
        "testPredict = scaler.inverse_transform(testPredict)\n",
        "testY = scaler.inverse_transform([testY])\n"
      ],
      "execution_count": 22,
      "outputs": []
    },
    {
      "cell_type": "code",
      "metadata": {
        "colab": {
          "base_uri": "https://localhost:8080/"
        },
        "id": "SPcpdBjb_Dn4",
        "outputId": "0bd14638-2d0f-4345-fd49-23053d8b1908"
      },
      "source": [
        "# Calcular el error\n",
        "train_score = math.sqrt(mean_squared_error(trainY[0], trainPredict[:,0]))\n",
        "print('Puntuación Entrenamiento: %.2f RMSE' % (train_score))\n",
        "\n",
        "test_score = math.sqrt(mean_squared_error(testY[0], testPredict[:,0]))\n",
        "print('Puntuación Test: %.2f RMSE' % (test_score))"
      ],
      "execution_count": 23,
      "outputs": [
        {
          "output_type": "stream",
          "text": [
            "Puntuación Entrenamiento: 21.49 RMSE\n",
            "Puntuación Test: 61.43 RMSE\n"
          ],
          "name": "stdout"
        }
      ]
    },
    {
      "cell_type": "code",
      "metadata": {
        "colab": {
          "base_uri": "https://localhost:8080/",
          "height": 501
        },
        "id": "Boh1sRbs_FfJ",
        "outputId": "4b32105e-d7a7-4c88-a1e3-1d8cd2e3da1d"
      },
      "source": [
        "trainPredictPlot = np.empty_like(data_values)\n",
        "trainPredictPlot[:,:] = np.nan\n",
        "trainPredictPlot[loock_back: len(trainPredict)+loock_back, :] = trainPredict\n",
        "\n",
        "testPredictPlot = np.empty_like(data_values)\n",
        "testPredictPlot[:,:] = np.nan\n",
        "testPredictPlot[len(trainPredict)+(loock_back*2)+1:len(data_values)-1,:] = testPredict\n",
        "\n",
        "plt.figure(figsize=(12,8))\n",
        "plt.plot(scaler.inverse_transform(data_values))\n",
        "plt.plot(trainPredictPlot)\n",
        "plt.plot(testPredictPlot)"
      ],
      "execution_count": 24,
      "outputs": [
        {
          "output_type": "execute_result",
          "data": {
            "text/plain": [
              "[<matplotlib.lines.Line2D at 0x7f7fdf751d10>]"
            ]
          },
          "metadata": {
            "tags": []
          },
          "execution_count": 24
        },
        {
          "output_type": "display_data",
          "data": {
            "image/png": "[encoded data removed]",
            "text/plain": [
              "<Figure size 864x576 with 1 Axes>"
            ]
          },
          "metadata": {
            "tags": [],
            "needs_background": "light"
          }
        }
      ]
    }
  ]
}