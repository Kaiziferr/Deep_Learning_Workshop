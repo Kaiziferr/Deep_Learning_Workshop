{
  "nbformat": 4,
  "nbformat_minor": 0,
  "metadata": {
    "colab": {
      "name": "01_workshop_LSTM_time_series_time_windows.ipynb",
      "provenance": [],
      "authorship_tag": "ABX9TyO0q9pehN9dH1k2WTSiTtwT",
      "include_colab_link": true
    },
    "kernelspec": {
      "name": "python3",
      "display_name": "Python 3"
    },
    "language_info": {
      "name": "python"
    }
  },
  "cells": [
    {
      "cell_type": "markdown",
      "metadata": {
        "id": "view-in-github",
        "colab_type": "text"
      },
      "source": [
        "<a href=\"https://colab.research.google.com/github/Kaiziferr/deep_learning_workshop/blob/master/RNN/01_workshop_LSTM_time_series_time_windows.ipynb\" target=\"_parent\"><img src=\"https://colab.research.google.com/assets/colab-badge.svg\" alt=\"Open In Colab\"/></a>"
      ]
    },
    {
      "cell_type": "code",
      "execution_count": 1,
      "metadata": {
        "id": "GpQ5Cx3uZe_c"
      },
      "outputs": [],
      "source": [
        "import numpy as np\n",
        "import pandas as pd\n",
        "import matplotlib.pyplot as plt\n",
        "import math\n",
        "from keras.models import Sequential\n",
        "from keras.layers import Dense, LSTM\n",
        "from sklearn.preprocessing import MinMaxScaler\n",
        "from sklearn.metrics import mean_squared_error"
      ]
    },
    {
      "cell_type": "markdown",
      "source": [
        "# **Contexto**\n",
        "---\n",
        "- LSTM para un problema de regresión con secuencialidad temporal.\n",
        "- LSTM usando una ventana y pasos de tiempo\n",
        "- Desarrollar y hacer predicciones que mantienen el estado (memoria) en secuencias muy largas.\n",
        "\n",
        "\n"
      ],
      "metadata": {
        "id": "BINjD9rynnSM"
      }
    },
    {
      "cell_type": "markdown",
      "source": [
        "# **Data**\n",
        "---\n",
        "Este es un problema en el que, dado un año y un mes, la tareas es predecir el número de pasajeros de aerolineas internecionales en unidades de 1.000. Los datos van desde enero de 1949 hasta diciembre de 1960 o 12 años, con 144 observaciones.\n"
      ],
      "metadata": {
        "id": "wRXfPp7neRs2"
      }
    },
    {
      "cell_type": "code",
      "source": [
        "url = 'https://raw.githubusercontent.com/jinfagang/LSTM_learn/master/international-airline-passengers.csv'\n",
        "data = pd.read_csv(url, usecols=[1], engine=\"python\")\n",
        "data_values = data.values.astype('float32')"
      ],
      "metadata": {
        "id": "KgKkK0-wdtI7"
      },
      "execution_count": 2,
      "outputs": []
    },
    {
      "cell_type": "markdown",
      "source": [
        "#**Normalización**\n",
        "---"
      ],
      "metadata": {
        "id": "DK2jOLlihNxm"
      }
    },
    {
      "cell_type": "code",
      "source": [
        "scaler = MinMaxScaler(feature_range=(0, 1))\n",
        "data_values = scaler.fit_transform(data_values)"
      ],
      "metadata": {
        "id": "yaILP2iZhK9G"
      },
      "execution_count": 3,
      "outputs": []
    },
    {
      "cell_type": "code",
      "source": [
        "data_values[:5]"
      ],
      "metadata": {
        "colab": {
          "base_uri": "https://localhost:8080/"
        },
        "id": "qS6BdTCNrzLg",
        "outputId": "0fe88e41-240a-435d-d1f3-ab524aaf6877"
      },
      "execution_count": 4,
      "outputs": [
        {
          "output_type": "execute_result",
          "data": {
            "text/plain": [
              "array([[0.01544401],\n",
              "       [0.02702703],\n",
              "       [0.05405405],\n",
              "       [0.04826255],\n",
              "       [0.03281853]], dtype=float32)"
            ]
          },
          "metadata": {},
          "execution_count": 4
        }
      ]
    },
    {
      "cell_type": "markdown",
      "source": [
        "# **Data Split**\n",
        "---\n",
        "\n"
      ],
      "metadata": {
        "id": "0vXNkDOWiiK1"
      }
    },
    {
      "cell_type": "code",
      "source": [
        "train_size = int(len(data_values)*0.67)\n",
        "test_size = len(data_values) - train_size\n",
        "train, test =  data_values[:train_size,:], data_values[train_size:, :]"
      ],
      "metadata": {
        "id": "Sl8hPkGxiYSN"
      },
      "execution_count": 5,
      "outputs": []
    },
    {
      "cell_type": "markdown",
      "source": [
        "# **Create Data**\n",
        "---\n",
        "**Se crea un paso de tiempo de 1** \n"
      ],
      "metadata": {
        "id": "g1SZ4tnFjhFO"
      }
    },
    {
      "cell_type": "code",
      "source": [
        "def create_dataset(data, loock_back = 1):\n",
        "  dataX, dataY = [], []\n",
        "  for i in range(len(data)-loock_back-1): \n",
        "    item_x = data[i: (i+loock_back), 0]\n",
        "    item_y = data[i+loock_back,0]\n",
        "    dataX.append(item_x)\n",
        "    dataY.append(item_y)\n",
        "  return np.array(dataX), np.array(dataY)"
      ],
      "metadata": {
        "id": "plYCdIyodail"
      },
      "execution_count": 6,
      "outputs": []
    },
    {
      "cell_type": "code",
      "source": [
        "loock_back = 1\n",
        "trainX, trainY = create_dataset(train, loock_back)\n",
        "testX, testY = create_dataset(test, loock_back)"
      ],
      "metadata": {
        "id": "PJPAKAcPiznt"
      },
      "execution_count": 7,
      "outputs": []
    },
    {
      "cell_type": "markdown",
      "source": [
        "La red LSTM espera que los datos de entrada (X) se proporcionen con una estructura de matriz especifica en forma de [muestras, pasos de tiempo (ventana), caracteristicas]<br><br>\n",
        "Los datos preparados tienen la forma: [muestras, carcteristicas]<br><br>"
      ],
      "metadata": {
        "id": "RNG6qng4mL6V"
      }
    },
    {
      "cell_type": "code",
      "source": [
        "print(f'El conjunto de estara dado con {trainX.shape[0]} muestras registros y con {trainX.shape[1]} caracteristicas')\n",
        "print('En esta primera pruebas los pasos de tiempo seran 1')"
      ],
      "metadata": {
        "colab": {
          "base_uri": "https://localhost:8080/"
        },
        "id": "W4hZCgkSuHqR",
        "outputId": "a84c4eaa-f246-4498-ef43-66a41eba6aae"
      },
      "execution_count": 8,
      "outputs": [
        {
          "output_type": "stream",
          "name": "stdout",
          "text": [
            "El conjunto de estara dado con 94 muestras registros y con 1 caracteristicas\n",
            "En esta primera pruebas los pasos de tiempo seran 1\n"
          ]
        }
      ]
    },
    {
      "cell_type": "code",
      "source": [
        "print(f'Hacemos un reformateo para cumplir [muestras, pasos de tiempo (ventana), caracteristicas] {trainX.shape}')\n",
        "trainX = np.reshape(trainX, (trainX.shape[0], 1, trainX.shape[1]))\n",
        "testX = np.reshape(testX, (testX.shape[0], 1, testX.shape[1]))\n",
        "print(f'Obtenemos {trainX.shape}')"
      ],
      "metadata": {
        "id": "ESR4gJQ3nGLX",
        "colab": {
          "base_uri": "https://localhost:8080/"
        },
        "outputId": "434bc62d-9512-4181-929a-6350b1b6eb6f"
      },
      "execution_count": 9,
      "outputs": [
        {
          "output_type": "stream",
          "name": "stdout",
          "text": [
            "Hacemos un reformateo para cumplir [muestras, pasos de tiempo (ventana), caracteristicas] (94, 1)\n",
            "Obtenemos (94, 1, 1)\n"
          ]
        }
      ]
    },
    {
      "cell_type": "code",
      "source": [
        "trainX[:5]"
      ],
      "metadata": {
        "colab": {
          "base_uri": "https://localhost:8080/"
        },
        "id": "9kihDzPVYwz9",
        "outputId": "07b67ce6-f317-4605-e7dc-59557026c117"
      },
      "execution_count": 10,
      "outputs": [
        {
          "output_type": "execute_result",
          "data": {
            "text/plain": [
              "array([[[0.01544401]],\n",
              "\n",
              "       [[0.02702703]],\n",
              "\n",
              "       [[0.05405405]],\n",
              "\n",
              "       [[0.04826255]],\n",
              "\n",
              "       [[0.03281853]]], dtype=float32)"
            ]
          },
          "metadata": {},
          "execution_count": 10
        }
      ]
    },
    {
      "cell_type": "markdown",
      "source": [
        "# **Diseño de LSTM**\n",
        "---\n",
        "- Capa visible con 1 entrada\n",
        "- Capa oculta con 4 bloques LSTM o neuronas\n",
        "- Capa de salida que hace una predicción de valor unico. LSTM utiliza por defecto la función sigmoidal\n",
        "- 100 epocas y batch\n"
      ],
      "metadata": {
        "id": "b8sIqpepn4Fn"
      }
    },
    {
      "cell_type": "markdown",
      "source": [
        "- (1, loock_back) Indica una entrada con un tamaño de ventana de 1"
      ],
      "metadata": {
        "id": "R2603NCKwEmY"
      }
    },
    {
      "cell_type": "code",
      "source": [
        "model = Sequential()\n",
        "model.add(LSTM(4, input_shape = (1, loock_back)))\n",
        "model.add(Dense(1))\n",
        "model.compile(loss='mean_squared_error', optimizer = 'adam')\n",
        "model.fit(trainX, trainY, epochs = 100, batch_size = 1, verbose = 0)"
      ],
      "metadata": {
        "id": "mZ1KYTHJol7P",
        "colab": {
          "base_uri": "https://localhost:8080/"
        },
        "outputId": "a7918b41-1abe-41f5-8e0e-3b49289e2e79"
      },
      "execution_count": 11,
      "outputs": [
        {
          "output_type": "execute_result",
          "data": {
            "text/plain": [
              "<keras.callbacks.History at 0x7ff112388f90>"
            ]
          },
          "metadata": {},
          "execution_count": 11
        }
      ]
    },
    {
      "cell_type": "markdown",
      "source": [
        "# **Predicción**\n",
        "---\n",
        "\n"
      ],
      "metadata": {
        "id": "bowRcRdXFI_6"
      }
    },
    {
      "cell_type": "code",
      "source": [
        "train_predict = model.predict(trainX)\n",
        "test_predict = model.predict(testX)"
      ],
      "metadata": {
        "id": "zuZTWKdLE56j"
      },
      "execution_count": 12,
      "outputs": []
    },
    {
      "cell_type": "markdown",
      "source": [
        "# **Resultados**\n",
        "---\n",
        "\n"
      ],
      "metadata": {
        "id": "R2mUvm5Aq5xe"
      }
    },
    {
      "cell_type": "code",
      "source": [
        "train_inverse_predict_X = scaler.inverse_transform(train_predict)\n",
        "train_inverse_y = scaler.inverse_transform([trainY])\n",
        "\n",
        "test_inverse_predic_X = scaler.inverse_transform(test_predict)\n",
        "test_inverse_y = scaler.inverse_transform([testY])"
      ],
      "metadata": {
        "id": "HtOW39bztjHG"
      },
      "execution_count": 13,
      "outputs": []
    },
    {
      "cell_type": "markdown",
      "source": [
        "# **Calcular el error**\n",
        "---\n"
      ],
      "metadata": {
        "id": "Hb1al5lhuPAl"
      }
    },
    {
      "cell_type": "code",
      "source": [
        "train_score = math.sqrt(mean_squared_error(train_inverse_y[0], train_inverse_predict_X[:,0]))\n",
        "print('Puntuación Entrenamiento %.2f MSE (%.2f RMSE)' % (train_score, math.sqrt(train_score)))\n",
        "test_score = math.sqrt(mean_squared_error(test_inverse_y[0], test_inverse_predic_X[:,0]))\n",
        "print('Puntuación Validación %.2f MSE (%.2f RMSE)' % (test_score, math.sqrt(test_score)))"
      ],
      "metadata": {
        "id": "9TuBzCj3uMgP",
        "colab": {
          "base_uri": "https://localhost:8080/"
        },
        "outputId": "f73a3639-b448-491b-c3c1-1f3f7a1248af"
      },
      "execution_count": 14,
      "outputs": [
        {
          "output_type": "stream",
          "name": "stdout",
          "text": [
            "Puntuación Entrenamiento 22.89 MSE (4.78 RMSE)\n",
            "Puntuación Validación 49.49 MSE (7.04 RMSE)\n"
          ]
        }
      ]
    },
    {
      "cell_type": "code",
      "source": [
        "print(f\"El modelo falla en aprocimadamente {math.sqrt(train_score)} mil pasajeros por mes para los datos de entrenamiento\")\n",
        "print(f\"El modelo falla en aprocimadamente {math.sqrt(test_score)} mil para los datos de validación \")"
      ],
      "metadata": {
        "colab": {
          "base_uri": "https://localhost:8080/"
        },
        "id": "fCcfpMBUypQP",
        "outputId": "a33c045e-a38f-4700-df56-d4ac34b8619d"
      },
      "execution_count": 15,
      "outputs": [
        {
          "output_type": "stream",
          "name": "stdout",
          "text": [
            "El modelo falla en aprocimadamente 4.784490595398077 mil pasajeros por mes para los datos de entrenamiento\n",
            "El modelo falla en aprocimadamente 7.035119220352141 mil para los datos de validación \n"
          ]
        }
      ]
    },
    {
      "cell_type": "markdown",
      "source": [
        "# Plot"
      ],
      "metadata": {
        "id": "XSDVl4EVwR51"
      }
    },
    {
      "cell_type": "code",
      "source": [
        "train_predict_plot = np.empty_like(data_values)\n",
        "train_predict_plot[:,:] = np.nan\n",
        "train_predict_plot[loock_back: len(train_inverse_predict_X)+loock_back, :] = train_inverse_predict_X\n",
        "\n",
        "test_predict_plot = np.empty_like(data_values)\n",
        "test_predict_plot[:,:] = np.nan\n",
        "test_predict_plot[len(train_inverse_predict_X)+(loock_back*2)+1:len(data_values)-1,:] = test_inverse_predic_X"
      ],
      "metadata": {
        "id": "k9TEB-b6u1BY"
      },
      "execution_count": 16,
      "outputs": []
    },
    {
      "cell_type": "code",
      "source": [
        "plt.figure(figsize=(12,8))\n",
        "plt.plot(scaler.inverse_transform(data_values))\n",
        "plt.plot(train_predict_plot)\n",
        "plt.plot(test_predict_plot)\n",
        "plt.show()"
      ],
      "metadata": {
        "id": "eKohVg9_22if",
        "colab": {
          "base_uri": "https://localhost:8080/",
          "height": 483
        },
        "outputId": "ef6587b3-1ecc-4648-8fe8-5c3b2e2c2b91"
      },
      "execution_count": 17,
      "outputs": [
        {
          "output_type": "display_data",
          "data": {
            "image/png": "[encoded data removed]",
            "text/plain": [
              "<Figure size 864x576 with 1 Axes>"
            ]
          },
          "metadata": {
            "needs_background": "light"
          }
        }
      ]
    },
    {
      "cell_type": "markdown",
      "source": [
        "# **Create Data**\n",
        "---\n",
        "**Se crea un paso de tiempo de 3**"
      ],
      "metadata": {
        "id": "Y1DqaphIDjR1"
      }
    },
    {
      "cell_type": "code",
      "source": [
        "loock_back = 3\n",
        "trainX, trainY = create_dataset(train, loock_back)\n",
        "testX, testY = create_dataset(test, loock_back)"
      ],
      "metadata": {
        "id": "udwU06sWD-DU"
      },
      "execution_count": 18,
      "outputs": []
    },
    {
      "cell_type": "code",
      "source": [
        "print(f'Hacemos un reformateo para cumplir [muestras, pasos de tiempo (ventana), caracteristicas] {trainX.shape}')\n",
        "trainX = np.reshape(trainX, (trainX.shape[0], 1, trainX.shape[1]))\n",
        "testX = np.reshape(testX, (testX.shape[0], 1, testX.shape[1]))\n",
        "print(f'Obtenemos {trainX.shape}')"
      ],
      "metadata": {
        "id": "5IHH5UI7Ebij",
        "colab": {
          "base_uri": "https://localhost:8080/"
        },
        "outputId": "bee1e391-ad0d-4c13-dc11-acf5124d7ecc"
      },
      "execution_count": 19,
      "outputs": [
        {
          "output_type": "stream",
          "name": "stdout",
          "text": [
            "Hacemos un reformateo para cumplir [muestras, pasos de tiempo (ventana), caracteristicas] (92, 3)\n",
            "Obtenemos (92, 1, 3)\n"
          ]
        }
      ]
    },
    {
      "cell_type": "code",
      "source": [
        "trainX[:5]"
      ],
      "metadata": {
        "colab": {
          "base_uri": "https://localhost:8080/"
        },
        "id": "cAagIOe6Y2Dk",
        "outputId": "9930047f-7ae7-44b7-ba3a-2bebdd5dcc6c"
      },
      "execution_count": 20,
      "outputs": [
        {
          "output_type": "execute_result",
          "data": {
            "text/plain": [
              "array([[[0.01544401, 0.02702703, 0.05405405]],\n",
              "\n",
              "       [[0.02702703, 0.05405405, 0.04826255]],\n",
              "\n",
              "       [[0.05405405, 0.04826255, 0.03281853]],\n",
              "\n",
              "       [[0.04826255, 0.03281853, 0.05984557]],\n",
              "\n",
              "       [[0.03281853, 0.05984557, 0.08494207]]], dtype=float32)"
            ]
          },
          "metadata": {},
          "execution_count": 20
        }
      ]
    },
    {
      "cell_type": "markdown",
      "source": [
        "# **Model**\n",
        "---\n",
        "\n"
      ],
      "metadata": {
        "id": "Y0EgHfRAFNiT"
      }
    },
    {
      "cell_type": "code",
      "source": [
        "model = Sequential()\n",
        "model.add(LSTM(4, input_shape = (1, loock_back)))\n",
        "model.add(Dense(1))\n",
        "model.compile(loss='mean_squared_error', optimizer = 'adam')\n",
        "model.fit(trainX, trainY, epochs = 100, batch_size = 1, verbose = 0)"
      ],
      "metadata": {
        "id": "MulIt9D_FRmB",
        "outputId": "e8436243-fe08-4cd0-debd-1d60644a6d25",
        "colab": {
          "base_uri": "https://localhost:8080/"
        }
      },
      "execution_count": 21,
      "outputs": [
        {
          "output_type": "execute_result",
          "data": {
            "text/plain": [
              "<keras.callbacks.History at 0x7ff10e06ccd0>"
            ]
          },
          "metadata": {},
          "execution_count": 21
        }
      ]
    },
    {
      "cell_type": "markdown",
      "source": [
        "# **Predicción**\n",
        "---\n"
      ],
      "metadata": {
        "id": "t8jt2ryTGy8q"
      }
    },
    {
      "cell_type": "code",
      "source": [
        "train_predict = model.predict(trainX)\n",
        "test_predict = model.predict(testX)"
      ],
      "metadata": {
        "id": "loFRcs66Gzo6"
      },
      "execution_count": 22,
      "outputs": []
    },
    {
      "cell_type": "markdown",
      "source": [
        "# **Resultados**\n",
        "---"
      ],
      "metadata": {
        "id": "y1QVpYjjG4yC"
      }
    },
    {
      "cell_type": "code",
      "source": [
        "train_inverse_predict_X = scaler.inverse_transform(train_predict)\n",
        "train_inverse_y = scaler.inverse_transform([trainY])\n",
        "\n",
        "test_inverse_predic_X = scaler.inverse_transform(test_predict)\n",
        "test_inverse_y = scaler.inverse_transform([testY])"
      ],
      "metadata": {
        "id": "IkXtLWsgG5hx"
      },
      "execution_count": 23,
      "outputs": []
    },
    {
      "cell_type": "markdown",
      "source": [
        "# **Calcular el error**\n",
        "---\n"
      ],
      "metadata": {
        "id": "T3r5rpreG-W6"
      }
    },
    {
      "cell_type": "code",
      "source": [
        "train_score = math.sqrt(mean_squared_error(train_inverse_y[0], train_inverse_predict_X[:,0]))\n",
        "print('Puntuación Entrenamiento %.2f MSE (%.2f RMSE)' % (train_score, math.sqrt(train_score)))\n",
        "test_score = math.sqrt(mean_squared_error(test_inverse_y[0], test_inverse_predic_X[:,0]))\n",
        "print('Puntuación Validación %.2f MSE (%.2f RMSE)' % (test_score, math.sqrt(test_score)))"
      ],
      "metadata": {
        "id": "Q0wsszuxG_Dy",
        "outputId": "821a336a-c8fd-4b9e-bf9a-b62df9a9bc5e",
        "colab": {
          "base_uri": "https://localhost:8080/"
        }
      },
      "execution_count": 24,
      "outputs": [
        {
          "output_type": "stream",
          "name": "stdout",
          "text": [
            "Puntuación Entrenamiento 22.19 MSE (4.71 RMSE)\n",
            "Puntuación Validación 56.01 MSE (7.48 RMSE)\n"
          ]
        }
      ]
    },
    {
      "cell_type": "code",
      "source": [
        "print(f\"El modelo falla en aprocimadamente {math.sqrt(train_score)} mil pasajeros por mes para los datos de entrenamiento\")\n",
        "print(f\"El modelo falla en aprocimadamente {math.sqrt(test_score)} mil para los datos de validación \")"
      ],
      "metadata": {
        "id": "-yiGU6CcHDt7",
        "outputId": "fefe674b-bbe9-47b1-9a36-88bc19e9eb23",
        "colab": {
          "base_uri": "https://localhost:8080/"
        }
      },
      "execution_count": 25,
      "outputs": [
        {
          "output_type": "stream",
          "name": "stdout",
          "text": [
            "El modelo falla en aprocimadamente 4.710342382888568 mil pasajeros por mes para los datos de entrenamiento\n",
            "El modelo falla en aprocimadamente 7.4841650151451224 mil para los datos de validación \n"
          ]
        }
      ]
    },
    {
      "cell_type": "code",
      "source": [
        "train_predict_plot = np.empty_like(data_values)\n",
        "train_predict_plot[:,:] = np.nan\n",
        "train_predict_plot[loock_back: len(train_inverse_predict_X)+loock_back, :] = train_inverse_predict_X\n",
        "\n",
        "test_predict_plot = np.empty_like(data_values)\n",
        "test_predict_plot[:,:] = np.nan\n",
        "test_predict_plot[len(train_inverse_predict_X)+(loock_back*2)+1:len(data_values)-1,:] = test_inverse_predic_X"
      ],
      "metadata": {
        "id": "Sxo_CEmCHGua"
      },
      "execution_count": 26,
      "outputs": []
    },
    {
      "cell_type": "code",
      "source": [
        "plt.figure(figsize=(12,8))\n",
        "plt.plot(scaler.inverse_transform(data_values))\n",
        "plt.plot(train_predict_plot)\n",
        "plt.plot(test_predict_plot)\n",
        "plt.show()"
      ],
      "metadata": {
        "id": "eIS0f0upHI_0",
        "outputId": "6c6d5bb4-b3d2-4d06-856f-1013fc256abb",
        "colab": {
          "base_uri": "https://localhost:8080/",
          "height": 483
        }
      },
      "execution_count": 27,
      "outputs": [
        {
          "output_type": "display_data",
          "data": {
            "image/png": "[encoded data removed]",
            "text/plain": [
              "<Figure size 864x576 with 1 Axes>"
            ]
          },
          "metadata": {
            "needs_background": "light"
          }
        }
      ]
    }
  ]
}