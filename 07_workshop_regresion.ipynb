{
  "nbformat": 4,
  "nbformat_minor": 0,
  "metadata": {
    "colab": {
      "name": "workshop_regresion.ipynb",
      "provenance": [],
      "collapsed_sections": [],
      "authorship_tag": "ABX9TyN73BqqGFodgZS1IiWjU08A",
      "include_colab_link": true
    },
    "kernelspec": {
      "name": "python3",
      "display_name": "Python 3"
    },
    "language_info": {
      "name": "python"
    }
  },
  "cells": [
    {
      "cell_type": "markdown",
      "metadata": {
        "id": "view-in-github",
        "colab_type": "text"
      },
      "source": [
        "<a href=\"https://colab.research.google.com/github/Kaiziferr/Deep_Learning_Workshop/blob/master/workshop_regresion.ipynb\" target=\"_parent\"><img src=\"https://colab.research.google.com/assets/colab-badge.svg\" alt=\"Open In Colab\"/></a>"
      ]
    },
    {
      "cell_type": "code",
      "metadata": {
        "id": "1gG1o15lum6L"
      },
      "source": [
        "import pandas as pd\n",
        "from keras.models import Sequential\n",
        "from keras.layers import Dense\n",
        "from keras.wrappers.scikit_learn import KerasRegressor\n",
        "from sklearn.model_selection import cross_val_score, KFold"
      ],
      "execution_count": 13,
      "outputs": []
    },
    {
      "cell_type": "code",
      "metadata": {
        "colab": {
          "base_uri": "https://localhost:8080/",
          "height": 142
        },
        "id": "nLvbYmiOviYI",
        "outputId": "6a08ad27-0932-493a-a8c3-7128951891aa"
      },
      "source": [
        "# Carga de data\n",
        "url = 'https://raw.githubusercontent.com/eric-bunch/boston_housing/master/boston.csv'\n",
        "data = pd.read_csv(url)\n",
        "data.head(3)"
      ],
      "execution_count": 4,
      "outputs": [
        {
          "output_type": "execute_result",
          "data": {
            "text/html": [
              "<div>\n",
              "<style scoped>\n",
              "    .dataframe tbody tr th:only-of-type {\n",
              "        vertical-align: middle;\n",
              "    }\n",
              "\n",
              "    .dataframe tbody tr th {\n",
              "        vertical-align: top;\n",
              "    }\n",
              "\n",
              "    .dataframe thead th {\n",
              "        text-align: right;\n",
              "    }\n",
              "</style>\n",
              "<table border=\"1\" class=\"dataframe\">\n",
              "  <thead>\n",
              "    <tr style=\"text-align: right;\">\n",
              "      <th></th>\n",
              "      <th>CRIM</th>\n",
              "      <th>ZN</th>\n",
              "      <th>INDUS</th>\n",
              "      <th>CHAS</th>\n",
              "      <th>NOX</th>\n",
              "      <th>RM</th>\n",
              "      <th>AGE</th>\n",
              "      <th>DIS</th>\n",
              "      <th>RAD</th>\n",
              "      <th>TAX</th>\n",
              "      <th>PTRATIO</th>\n",
              "      <th>B</th>\n",
              "      <th>LSTAT</th>\n",
              "      <th>MDEV</th>\n",
              "    </tr>\n",
              "  </thead>\n",
              "  <tbody>\n",
              "    <tr>\n",
              "      <th>0</th>\n",
              "      <td>0.00632</td>\n",
              "      <td>18.0</td>\n",
              "      <td>2.31</td>\n",
              "      <td>0.0</td>\n",
              "      <td>0.538</td>\n",
              "      <td>6.575</td>\n",
              "      <td>65.2</td>\n",
              "      <td>4.0900</td>\n",
              "      <td>1.0</td>\n",
              "      <td>296.0</td>\n",
              "      <td>15.3</td>\n",
              "      <td>396.90</td>\n",
              "      <td>4.98</td>\n",
              "      <td>24.0</td>\n",
              "    </tr>\n",
              "    <tr>\n",
              "      <th>1</th>\n",
              "      <td>0.02731</td>\n",
              "      <td>0.0</td>\n",
              "      <td>7.07</td>\n",
              "      <td>0.0</td>\n",
              "      <td>0.469</td>\n",
              "      <td>6.421</td>\n",
              "      <td>78.9</td>\n",
              "      <td>4.9671</td>\n",
              "      <td>2.0</td>\n",
              "      <td>242.0</td>\n",
              "      <td>17.8</td>\n",
              "      <td>396.90</td>\n",
              "      <td>9.14</td>\n",
              "      <td>21.6</td>\n",
              "    </tr>\n",
              "    <tr>\n",
              "      <th>2</th>\n",
              "      <td>0.02729</td>\n",
              "      <td>0.0</td>\n",
              "      <td>7.07</td>\n",
              "      <td>0.0</td>\n",
              "      <td>0.469</td>\n",
              "      <td>7.185</td>\n",
              "      <td>61.1</td>\n",
              "      <td>4.9671</td>\n",
              "      <td>2.0</td>\n",
              "      <td>242.0</td>\n",
              "      <td>17.8</td>\n",
              "      <td>392.83</td>\n",
              "      <td>4.03</td>\n",
              "      <td>34.7</td>\n",
              "    </tr>\n",
              "  </tbody>\n",
              "</table>\n",
              "</div>"
            ],
            "text/plain": [
              "      CRIM    ZN  INDUS  CHAS    NOX  ...    TAX  PTRATIO       B  LSTAT  MDEV\n",
              "0  0.00632  18.0   2.31   0.0  0.538  ...  296.0     15.3  396.90   4.98  24.0\n",
              "1  0.02731   0.0   7.07   0.0  0.469  ...  242.0     17.8  396.90   9.14  21.6\n",
              "2  0.02729   0.0   7.07   0.0  0.469  ...  242.0     17.8  392.83   4.03  34.7\n",
              "\n",
              "[3 rows x 14 columns]"
            ]
          },
          "metadata": {
            "tags": []
          },
          "execution_count": 4
        }
      ]
    },
    {
      "cell_type": "code",
      "metadata": {
        "id": "QHAnRFyUwB29"
      },
      "source": [
        "X = data.drop('MDEV', axis=1)\n",
        "y = data['MDEV']"
      ],
      "execution_count": 5,
      "outputs": []
    },
    {
      "cell_type": "markdown",
      "metadata": {
        "id": "iW7I0Ug4w7H1"
      },
      "source": [
        "- Tiene una sola capa oculta 13 neuronas\n",
        "- Funcion de activación ReLu para la capa oculta\n",
        "  - Al ser un problema de regresión no tiene una función de activación en la capa de salida\n",
        "  - Optimizador ADAM y función de perdida de error cuadrático medio\n",
        "  - El objetivo Wrapper para la regresión se llama KerasRegressor\n",
        "  - kfold 10"
      ]
    },
    {
      "cell_type": "code",
      "metadata": {
        "id": "IY_k0Ew9wPwS"
      },
      "source": [
        "#Modelo base\n",
        "def baseline_model():\n",
        "  model = Sequential()\n",
        "  model.add(Dense(13, input_dim = 13, activation='relu'))\n",
        "  model.add(Dense(1))\n",
        "\n",
        "  model.compile(loss='mean_squared_error', optimizer = 'adam')\n",
        "  return model"
      ],
      "execution_count": 7,
      "outputs": []
    },
    {
      "cell_type": "code",
      "metadata": {
        "colab": {
          "base_uri": "https://localhost:8080/"
        },
        "id": "F24WfMSq0fCF",
        "outputId": "0e6c4196-6a36-4cc8-fcd1-26f4afefc6a9"
      },
      "source": [
        "estimator = KerasRegressor(build_fn=baseline_model, epochs=100, batch_size=5, verbose=0)\n",
        "kfold = KFold(n_splits=10)\n",
        "result = cross_val_score(estimator, X, y, cv = kfold)\n",
        "print(\"Linea base: %.2f (%.2f) MSE\" % (result.mean(), result.std()))"
      ],
      "execution_count": 14,
      "outputs": [
        {
          "output_type": "stream",
          "text": [
            "Linea base: -41.13 (29.92) MSE\n"
          ],
          "name": "stdout"
        }
      ]
    },
    {
      "cell_type": "markdown",
      "metadata": {
        "id": "CLxSxAKq4Rfe"
      },
      "source": [
        "- Da como resultado un valor negativo, ya que la libreria de sklearn macimiza la función, en vez de reducirla. Ignorar el valor negativa. por lo tanto tenemos un valor alto."
      ]
    },
    {
      "cell_type": "markdown",
      "metadata": {
        "id": "d-ZO3Ev8442l"
      },
      "source": [
        "## Optimizar el rendimiento con procesamiento de datos"
      ]
    },
    {
      "cell_type": "code",
      "metadata": {
        "colab": {
          "base_uri": "https://localhost:8080/"
        },
        "id": "AmepDEbX5DnD",
        "outputId": "b47b153f-6672-4b14-ed02-2ff631ea5e7c"
      },
      "source": [
        "from sklearn.preprocessing import StandardScaler\n",
        "from sklearn.pipeline import Pipeline\n",
        "\n",
        "estimator =[]\n",
        "estimator.append(('standarize', StandardScaler()))\n",
        "estimator.append(('NN', KerasRegressor(build_fn=baseline_model, epochs=100, batch_size=5,verbose=0)))\n",
        "pipeline = Pipeline(estimator)\n",
        "kfold = KFold(n_splits=10)\n",
        "result = cross_val_score(pipeline, X, y, cv = kfold)\n",
        "print(\"Estandarizado: %.2f (%.2f) MSE\" % (result.mean(), result.std()))"
      ],
      "execution_count": 21,
      "outputs": [
        {
          "output_type": "stream",
          "text": [
            "Estandarizado: -20.53 (19.95) MSE\n"
          ],
          "name": "stdout"
        }
      ]
    },
    {
      "cell_type": "markdown",
      "metadata": {
        "id": "evjkrJtm8663"
      },
      "source": [
        "- Si el valor es muy cercano a 0 para que es menor, aparentemente por el contenedor, ignorando el negativo. **Investigar**"
      ]
    },
    {
      "cell_type": "markdown",
      "metadata": {
        "id": "wunnvT-XAXt2"
      },
      "source": [
        "## Ajuste de la topología"
      ]
    },
    {
      "cell_type": "code",
      "metadata": {
        "colab": {
          "base_uri": "https://localhost:8080/"
        },
        "id": "pJw6W3XEAhMS",
        "outputId": "39d24fd3-db46-4e5f-b4eb-a52728fffd46"
      },
      "source": [
        "#Modelo con más profundidad\n",
        "def larger_model():\n",
        "  model = Sequential()\n",
        "  model.add(Dense(13, input_dim = 13, activation='relu'))\n",
        "  model.add(Dense(6, activation='relu'))\n",
        "  model.add(Dense(1))\n",
        "\n",
        "  model.compile(loss='mean_squared_error', optimizer = 'adam')\n",
        "  return model\n",
        "\n",
        "\n",
        "estimator =[]\n",
        "estimator.append(('standarize', StandardScaler()))\n",
        "estimator.append(('Deep-NN', KerasRegressor(build_fn=larger_model, epochs=100, batch_size=5,verbose=0)))\n",
        "pipeline = Pipeline(estimator)\n",
        "kfold = KFold(n_splits=10)\n",
        "result = cross_val_score(pipeline, X, y, cv = kfold)\n",
        "print(\"Deep-NN: %.2f (%.2f) MSE\" % (result.mean(), result.std()))"
      ],
      "execution_count": 23,
      "outputs": [
        {
          "output_type": "stream",
          "text": [
            "Deep-NN: -21.01 (26.88) MSE\n"
          ],
          "name": "stdout"
        }
      ]
    },
    {
      "cell_type": "markdown",
      "metadata": {
        "id": "Lik5MhosB6bT"
      },
      "source": [
        "- No mejoro mucho"
      ]
    },
    {
      "cell_type": "code",
      "metadata": {
        "colab": {
          "base_uri": "https://localhost:8080/"
        },
        "id": "sWJPUG0LBizb",
        "outputId": "17279c29-ee07-4f18-8cca-17162f7bef4f"
      },
      "source": [
        "# wider\n",
        "\n",
        "def wider_model():\n",
        "  model = Sequential()\n",
        "  model.add(Dense(20, input_dim = 13, activation='relu'))\n",
        "  model.add(Dense(1))\n",
        "\n",
        "  model.compile(loss='mean_squared_error', optimizer = 'adam')\n",
        "  return model\n",
        "\n",
        "\n",
        "estimator =[]\n",
        "estimator.append(('standarize', StandardScaler()))\n",
        "estimator.append(('Wider-NN', KerasRegressor(build_fn=larger_model, epochs=50, batch_size=5,verbose=0)))\n",
        "pipeline = Pipeline(estimator)\n",
        "kfold = KFold(n_splits=10)\n",
        "result = cross_val_score(pipeline, X, y, cv = kfold)\n",
        "print(\"Wider-NN: %.2f (%.2f) MSE\" % (result.mean(), result.std()))\n"
      ],
      "execution_count": 24,
      "outputs": [
        {
          "output_type": "stream",
          "text": [
            "Wider-NN: -19.46 (19.59) MSE\n"
          ],
          "name": "stdout"
        }
      ]
    }
  ]
}
