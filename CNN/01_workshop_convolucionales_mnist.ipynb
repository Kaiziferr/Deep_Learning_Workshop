{
  "nbformat": 4,
  "nbformat_minor": 0,
  "metadata": {
    "colab": {
      "name": "01_workshop_convolucionales_mnist.ipynb",
      "provenance": [],
      "include_colab_link": true
    },
    "kernelspec": {
      "name": "python3",
      "display_name": "Python 3"
    },
    "language_info": {
      "name": "python"
    },
    "accelerator": "GPU"
  },
  "cells": [
    {
      "cell_type": "markdown",
      "metadata": {
        "id": "view-in-github",
        "colab_type": "text"
      },
      "source": [
        "<a href=\"https://colab.research.google.com/github/Kaiziferr/deep_learning/blob/master/CNN/01_workshop_convolucionales_mnist.ipynb\" target=\"_parent\"><img src=\"https://colab.research.google.com/assets/colab-badge.svg\" alt=\"Open In Colab\"/></a>"
      ]
    },
    {
      "cell_type": "code",
      "source": [
        "import pandas as pd\n",
        "import numpy as np\n",
        "\n",
        "import matplotlib.pyplot as plt\n",
        "\n",
        "from keras.datasets import mnist\n",
        "from keras.models import Sequential\n",
        "from keras.layers import (\n",
        "    Dense, Dropout, Flatten, Conv2D, MaxPooling2D\n",
        ")\n",
        "from keras.utils import to_categorical\n",
        "import keras\n",
        "\n",
        "from sklearn.metrics import classification_report"
      ],
      "metadata": {
        "id": "BxTs2iT4MxJ6"
      },
      "execution_count": 144,
      "outputs": []
    },
    {
      "cell_type": "code",
      "source": [
        "keras.utils.set_random_seed(73)"
      ],
      "metadata": {
        "id": "VrSWCccwX8I6"
      },
      "execution_count": 84,
      "outputs": []
    },
    {
      "cell_type": "code",
      "source": [
        "def optimization_learning_curves(\n",
        "    history:dict,\n",
        "    metrica:str,\n",
        "    title:str='',\n",
        "    X_size:int=8,\n",
        "    y_size:int=4,\n",
        "    font_size:int=15,\n",
        "    X_label:str='Epoch',\n",
        "    y_label:str='Loss'\n",
        ")->None:\n",
        "  \"\"\" Grafica curvas de aprendizaje \"\"\"\n",
        "  fig, ax = plt.subplots(figsize=(X_size, y_size))\n",
        "  fig.suptitle(title, fontsize=font_size)\n",
        "  ax.plot(history.history[metrica])\n",
        "  ax.plot(history.history[f'val_{metrica}'])\n",
        "  ax.set_xlabel(X_label, size = 12)\n",
        "  ax.set_ylabel(y_label, size = 12)\n",
        "  ax.legend(['Train', 'Test'], loc = 'upper right', fontsize = 12)\n",
        "  ax.tick_params(labelsize = 12)\n",
        "  fig.show()"
      ],
      "metadata": {
        "id": "wlrYsbV1NM8Q"
      },
      "execution_count": 85,
      "outputs": []
    },
    {
      "cell_type": "markdown",
      "source": [
        "# **Config**\n",
        "\n",
        "---\n",
        "\n"
      ],
      "metadata": {
        "id": "I_Cn8yRqbMtb"
      }
    },
    {
      "cell_type": "code",
      "source": [
        "pd.set_option('display.float_format', '{:,.15f}'.format)\n",
        "random_seedd = 1235"
      ],
      "metadata": {
        "id": "r0q8OC-gbK7p"
      },
      "execution_count": 128,
      "outputs": []
    },
    {
      "cell_type": "markdown",
      "source": [
        "# **Data**"
      ],
      "metadata": {
        "id": "xThlkwAiGktx"
      }
    },
    {
      "cell_type": "code",
      "source": [
        "(X_train, y_train), (X_test, y_test) = mnist.load_data()"
      ],
      "metadata": {
        "id": "yz-kZOBaNLuw"
      },
      "execution_count": 86,
      "outputs": []
    },
    {
      "cell_type": "code",
      "source": [
        "X_train.shape"
      ],
      "metadata": {
        "id": "-FgYfnrdF9eq",
        "outputId": "8ac9da56-b2da-4bc9-efbd-900427c45148",
        "colab": {
          "base_uri": "https://localhost:8080/"
        }
      },
      "execution_count": 87,
      "outputs": [
        {
          "output_type": "execute_result",
          "data": {
            "text/plain": [
              "(60000, 28, 28)"
            ]
          },
          "metadata": {},
          "execution_count": 87
        }
      ]
    },
    {
      "cell_type": "code",
      "source": [
        "X_train = X_train.reshape((X_train.shape[0], 28, 28, 1)).astype('float32')\n",
        "X_test = X_test.reshape((X_test.shape[0], 28, 28, 1)).astype('float32')"
      ],
      "metadata": {
        "id": "NyIP_K2uNYzB"
      },
      "execution_count": 88,
      "outputs": []
    },
    {
      "cell_type": "code",
      "metadata": {
        "colab": {
          "base_uri": "https://localhost:8080/"
        },
        "id": "u4d5iYjHrr9l",
        "outputId": "9bddfc28-c79c-4971-b787-28e05e813137"
      },
      "source": [
        "X_test.shape"
      ],
      "execution_count": 89,
      "outputs": [
        {
          "output_type": "execute_result",
          "data": {
            "text/plain": [
              "(10000, 28, 28, 1)"
            ]
          },
          "metadata": {},
          "execution_count": 89
        }
      ]
    },
    {
      "cell_type": "markdown",
      "source": [
        "# **Normalization**"
      ],
      "metadata": {
        "id": "wXgJs5C9GjCn"
      }
    },
    {
      "cell_type": "markdown",
      "source": [
        "- Se toma como referente 255, ya que es el número de pixel normalmente. Donde cero es negro y 255 es blanco."
      ],
      "metadata": {
        "id": "tBR3pPSnOCyQ"
      }
    },
    {
      "cell_type": "code",
      "source": [
        "X_train = X_train/255\n",
        "X_test = X_test/255"
      ],
      "metadata": {
        "id": "83jmlbIJORs_"
      },
      "execution_count": 90,
      "outputs": []
    },
    {
      "cell_type": "code",
      "source": [
        "y_train = to_categorical(y_train)\n",
        "y_test = to_categorical(y_test)"
      ],
      "metadata": {
        "id": "9YN8ttLNG1f8"
      },
      "execution_count": 91,
      "outputs": []
    },
    {
      "cell_type": "code",
      "source": [
        "num_clases = y_test.shape[1]\n",
        "num_clases"
      ],
      "metadata": {
        "id": "qpAzOIl5HB7D",
        "outputId": "925e685f-05ff-4009-bd64-1a5441b8e0f6",
        "colab": {
          "base_uri": "https://localhost:8080/"
        }
      },
      "execution_count": 92,
      "outputs": [
        {
          "output_type": "execute_result",
          "data": {
            "text/plain": [
              "10"
            ]
          },
          "metadata": {},
          "execution_count": 92
        }
      ]
    },
    {
      "cell_type": "markdown",
      "metadata": {
        "id": "UBMAT5vk4G1b"
      },
      "source": [
        "Arquitectura\n",
        "\n",
        "1. Primera capa oculta: capa convolucional Conv2D\n",
        "\n",
        "  - Tiene 32 mapas de caracteristicas, con un tamaño de $5*5$ y una función de activación ReLu\n",
        "Capa Pooling MaxPooling2D\n",
        "\n",
        "2. Tamaño de pacht de $2 * 2$\n",
        "  -Capa de regularización Dropout\n",
        "3. Capa Flatten para conversión de la matriz2D en un vector\n",
        "4. Capa Dense con 128 neuronas y la función de activación ReLu\n",
        "5. Capa de salida con 10 neuronas para las 10 clases y una función de activación Softmax\n",
        "6. La compilación con ADAM, perdidad loogaritmica y accuracy"
      ]
    },
    {
      "cell_type": "code",
      "source": [
        "def model_base():\n",
        "  model = Sequential()\n",
        "  model.add(Conv2D(32, (5,5), input_shape=(28,28,1), activation='relu'))\n",
        "  model.add(MaxPooling2D())\n",
        "  model.add(Dropout(0.2))\n",
        "  model.add(Flatten())\n",
        "  model.add(Dense(128, activation='relu', kernel_initializer='glorot_uniform'))\n",
        "  model.add(Dense(10, activation='softmax', kernel_initializer='glorot_uniform'))\n",
        "  model.compile(loss='categorical_crossentropy', optimizer='adam', metrics=['accuracy'])\n",
        "  return model"
      ],
      "metadata": {
        "id": "DoOQKWCQOkLI"
      },
      "execution_count": 93,
      "outputs": []
    },
    {
      "cell_type": "code",
      "metadata": {
        "colab": {
          "base_uri": "https://localhost:8080/"
        },
        "id": "DD2-k_ku8Ssx",
        "outputId": "b105485c-e590-495c-b6a2-e5ada3c087b5"
      },
      "source": [
        "y_train.shape[0]/200"
      ],
      "execution_count": 94,
      "outputs": [
        {
          "output_type": "execute_result",
          "data": {
            "text/plain": [
              "300.0"
            ]
          },
          "metadata": {},
          "execution_count": 94
        }
      ]
    },
    {
      "cell_type": "markdown",
      "source": [
        "300 lotes de 200 imagens"
      ],
      "metadata": {
        "id": "UWZ8rHH6YtOi"
      }
    },
    {
      "cell_type": "code",
      "source": [
        "model = model_base()"
      ],
      "metadata": {
        "id": "U0g5zWR9JNE7"
      },
      "execution_count": 100,
      "outputs": []
    },
    {
      "cell_type": "code",
      "source": [
        "history_base = model.fit(\n",
        "    X_train,\n",
        "    y_train,\n",
        "    validation_data = (X_test, y_test),\n",
        "    epochs = 15,\n",
        "    batch_size = 200\n",
        ")"
      ],
      "metadata": {
        "id": "nhcTiBEZQdd4",
        "outputId": "e86bdbce-a389-4dce-ab82-3478d1ea1556",
        "colab": {
          "base_uri": "https://localhost:8080/"
        }
      },
      "execution_count": 101,
      "outputs": [
        {
          "output_type": "stream",
          "name": "stdout",
          "text": [
            "Epoch 1/15\n",
            "300/300 [==============================] - 2s 5ms/step - loss: 0.2298 - accuracy: 0.9342 - val_loss: 0.0758 - val_accuracy: 0.9770\n",
            "Epoch 2/15\n",
            "300/300 [==============================] - 1s 4ms/step - loss: 0.0675 - accuracy: 0.9799 - val_loss: 0.0484 - val_accuracy: 0.9851\n",
            "Epoch 3/15\n",
            "300/300 [==============================] - 1s 4ms/step - loss: 0.0478 - accuracy: 0.9851 - val_loss: 0.0375 - val_accuracy: 0.9871\n",
            "Epoch 4/15\n",
            "300/300 [==============================] - 1s 5ms/step - loss: 0.0381 - accuracy: 0.9885 - val_loss: 0.0367 - val_accuracy: 0.9877\n",
            "Epoch 5/15\n",
            "300/300 [==============================] - 2s 6ms/step - loss: 0.0309 - accuracy: 0.9900 - val_loss: 0.0310 - val_accuracy: 0.9893\n",
            "Epoch 6/15\n",
            "300/300 [==============================] - 1s 4ms/step - loss: 0.0261 - accuracy: 0.9920 - val_loss: 0.0320 - val_accuracy: 0.9885\n",
            "Epoch 7/15\n",
            "300/300 [==============================] - 1s 4ms/step - loss: 0.0210 - accuracy: 0.9933 - val_loss: 0.0337 - val_accuracy: 0.9889\n",
            "Epoch 8/15\n",
            "300/300 [==============================] - 1s 4ms/step - loss: 0.0183 - accuracy: 0.9943 - val_loss: 0.0325 - val_accuracy: 0.9901\n",
            "Epoch 9/15\n",
            "300/300 [==============================] - 1s 4ms/step - loss: 0.0153 - accuracy: 0.9951 - val_loss: 0.0322 - val_accuracy: 0.9890\n",
            "Epoch 10/15\n",
            "300/300 [==============================] - 1s 4ms/step - loss: 0.0134 - accuracy: 0.9955 - val_loss: 0.0335 - val_accuracy: 0.9897\n",
            "Epoch 11/15\n",
            "300/300 [==============================] - 1s 4ms/step - loss: 0.0137 - accuracy: 0.9954 - val_loss: 0.0323 - val_accuracy: 0.9893\n",
            "Epoch 12/15\n",
            "300/300 [==============================] - 1s 4ms/step - loss: 0.0103 - accuracy: 0.9967 - val_loss: 0.0362 - val_accuracy: 0.9892\n",
            "Epoch 13/15\n",
            "300/300 [==============================] - 1s 5ms/step - loss: 0.0084 - accuracy: 0.9972 - val_loss: 0.0362 - val_accuracy: 0.9897\n",
            "Epoch 14/15\n",
            "300/300 [==============================] - 2s 6ms/step - loss: 0.0075 - accuracy: 0.9976 - val_loss: 0.0308 - val_accuracy: 0.9917\n",
            "Epoch 15/15\n",
            "300/300 [==============================] - 1s 4ms/step - loss: 0.0070 - accuracy: 0.9975 - val_loss: 0.0340 - val_accuracy: 0.9892\n"
          ]
        }
      ]
    },
    {
      "cell_type": "code",
      "source": [
        "optimization_learning_curves(history_base, metrica='loss', title='Loss vs Val Loss')"
      ],
      "metadata": {
        "id": "Mv6dme4FNcgy",
        "outputId": "e889788a-3f77-4b1b-b0c0-2987d6026fce",
        "colab": {
          "base_uri": "https://localhost:8080/",
          "height": 436
        }
      },
      "execution_count": 102,
      "outputs": [
        {
          "output_type": "display_data",
          "data": {
            "text/plain": [
              "<Figure size 800x400 with 1 Axes>"
            ],
            "image/png": "[encoded data removed]"
          },
          "metadata": {}
        }
      ]
    },
    {
      "cell_type": "markdown",
      "source": [
        "- Se presenta un pequeño sobre ajuste después de la época 4, pero se evidencia que es posible que la curva de validación se reduzca después de la época 10"
      ],
      "metadata": {
        "id": "Y-hiMaSSOA7A"
      }
    },
    {
      "cell_type": "code",
      "source": [
        "optimization_learning_curves(\n",
        "    history_base,\n",
        "    metrica='accuracy',\n",
        "    title='accuracy vs Val accuracy',\n",
        "    y_label = 'Accuracy')"
      ],
      "metadata": {
        "id": "HJUbGV6eOF7c",
        "outputId": "30d36286-7725-4efd-8177-9fac07ab2c47",
        "colab": {
          "base_uri": "https://localhost:8080/",
          "height": 436
        }
      },
      "execution_count": 103,
      "outputs": [
        {
          "output_type": "display_data",
          "data": {
            "text/plain": [
              "<Figure size 800x400 with 1 Axes>"
            ],
            "image/png": "[encoded data removed]"
          },
          "metadata": {}
        }
      ]
    },
    {
      "cell_type": "markdown",
      "source": [
        "El modelo no tiene un buen comportamiento al momento de predecir los datos de validación, con relación a los de entrenamiento, sin embargo, es un score muy alto."
      ],
      "metadata": {
        "id": "FAhnm9WzRE1R"
      }
    },
    {
      "cell_type": "code",
      "source": [
        "score = model.evaluate(X_test, y_test, verbose=0)\n",
        "print(\"Performance: %.2f%%\" % (100-score[1]*100))"
      ],
      "metadata": {
        "id": "S35Lu0HBRCiI",
        "outputId": "4d250a87-49db-476f-a548-0773b29b4846",
        "colab": {
          "base_uri": "https://localhost:8080/"
        }
      },
      "execution_count": 104,
      "outputs": [
        {
          "output_type": "stream",
          "name": "stdout",
          "text": [
            "Performance: 1.08%\n"
          ]
        }
      ]
    },
    {
      "cell_type": "code",
      "metadata": {
        "colab": {
          "base_uri": "https://localhost:8080/"
        },
        "id": "9AvH9q039hlI",
        "outputId": "ff2e10cb-4340-48d6-cae0-6943b848e930"
      },
      "source": [
        "print('Accuracy :',score[1])\n",
        "print('Loss :',score[0])"
      ],
      "execution_count": 105,
      "outputs": [
        {
          "output_type": "stream",
          "name": "stdout",
          "text": [
            "Accuracy : 0.9891999959945679\n",
            "Loss : 0.033954668790102005\n"
          ]
        }
      ]
    },
    {
      "cell_type": "markdown",
      "metadata": {
        "id": "wBl9Jd05-UXW"
      },
      "source": [
        "# CNN más profunda"
      ]
    },
    {
      "cell_type": "code",
      "source": [
        "def model_deep():\n",
        "  model = Sequential()\n",
        "  model.add(Conv2D(30, (5,5), input_shape=(28,28,1), activation='relu'))\n",
        "  model.add(MaxPooling2D())\n",
        "  model.add(Conv2D(15, (2,2), activation='relu'))\n",
        "  model.add(MaxPooling2D())\n",
        "  model.add(Dropout(0.2))\n",
        "  model.add(Flatten())\n",
        "  model.add(Dense(128, activation='relu'))\n",
        "  model.add(Dense(50, activation='relu'))\n",
        "  model.add(Dense(10, activation='softmax'))\n",
        "  model.compile(loss='categorical_crossentropy', optimizer='adam', metrics=['accuracy'])\n",
        "  return model"
      ],
      "metadata": {
        "id": "xG6MpQBCRtGR"
      },
      "execution_count": 106,
      "outputs": []
    },
    {
      "cell_type": "code",
      "source": [
        "X_train.shape[0]/200"
      ],
      "metadata": {
        "id": "WTt5IS0vMYuI",
        "outputId": "f6addcd7-89e6-4fac-b8ef-1ee73abcb872",
        "colab": {
          "base_uri": "https://localhost:8080/"
        }
      },
      "execution_count": 107,
      "outputs": [
        {
          "output_type": "execute_result",
          "data": {
            "text/plain": [
              "300.0"
            ]
          },
          "metadata": {},
          "execution_count": 107
        }
      ]
    },
    {
      "cell_type": "markdown",
      "source": [
        "300 lotes de 200 imagens"
      ],
      "metadata": {
        "id": "glvkqgMgYvWC"
      }
    },
    {
      "cell_type": "code",
      "metadata": {
        "colab": {
          "base_uri": "https://localhost:8080/"
        },
        "id": "xokgIcnLAZca",
        "outputId": "0844f062-0e9b-4e3f-cd2d-09eed690db81"
      },
      "source": [
        "model = model_deep()\n",
        "history_deep = model.fit(X_train, y_train, validation_data=(X_test, y_test), epochs=15, batch_size=200)"
      ],
      "execution_count": 110,
      "outputs": [
        {
          "output_type": "stream",
          "name": "stdout",
          "text": [
            "Epoch 1/15\n",
            "300/300 [==============================] - 3s 6ms/step - loss: 0.4223 - accuracy: 0.8691 - val_loss: 0.0894 - val_accuracy: 0.9713\n",
            "Epoch 2/15\n",
            "300/300 [==============================] - 1s 5ms/step - loss: 0.1058 - accuracy: 0.9668 - val_loss: 0.0618 - val_accuracy: 0.9803\n",
            "Epoch 3/15\n",
            "300/300 [==============================] - 1s 5ms/step - loss: 0.0797 - accuracy: 0.9756 - val_loss: 0.0490 - val_accuracy: 0.9839\n",
            "Epoch 4/15\n",
            "300/300 [==============================] - 2s 7ms/step - loss: 0.0645 - accuracy: 0.9796 - val_loss: 0.0443 - val_accuracy: 0.9855\n",
            "Epoch 5/15\n",
            "300/300 [==============================] - 2s 5ms/step - loss: 0.0543 - accuracy: 0.9830 - val_loss: 0.0327 - val_accuracy: 0.9883\n",
            "Epoch 6/15\n",
            "300/300 [==============================] - 1s 5ms/step - loss: 0.0506 - accuracy: 0.9844 - val_loss: 0.0343 - val_accuracy: 0.9886\n",
            "Epoch 7/15\n",
            "300/300 [==============================] - 1s 5ms/step - loss: 0.0420 - accuracy: 0.9871 - val_loss: 0.0317 - val_accuracy: 0.9889\n",
            "Epoch 8/15\n",
            "300/300 [==============================] - 1s 5ms/step - loss: 0.0396 - accuracy: 0.9877 - val_loss: 0.0327 - val_accuracy: 0.9899\n",
            "Epoch 9/15\n",
            "300/300 [==============================] - 1s 5ms/step - loss: 0.0356 - accuracy: 0.9884 - val_loss: 0.0261 - val_accuracy: 0.9904\n",
            "Epoch 10/15\n",
            "300/300 [==============================] - 1s 5ms/step - loss: 0.0346 - accuracy: 0.9890 - val_loss: 0.0333 - val_accuracy: 0.9888\n",
            "Epoch 11/15\n",
            "300/300 [==============================] - 1s 5ms/step - loss: 0.0312 - accuracy: 0.9894 - val_loss: 0.0282 - val_accuracy: 0.9908\n",
            "Epoch 12/15\n",
            "300/300 [==============================] - 2s 6ms/step - loss: 0.0288 - accuracy: 0.9910 - val_loss: 0.0258 - val_accuracy: 0.9911\n",
            "Epoch 13/15\n",
            "300/300 [==============================] - 2s 5ms/step - loss: 0.0270 - accuracy: 0.9913 - val_loss: 0.0253 - val_accuracy: 0.9917\n",
            "Epoch 14/15\n",
            "300/300 [==============================] - 1s 5ms/step - loss: 0.0254 - accuracy: 0.9913 - val_loss: 0.0297 - val_accuracy: 0.9903\n",
            "Epoch 15/15\n",
            "300/300 [==============================] - 1s 5ms/step - loss: 0.0225 - accuracy: 0.9924 - val_loss: 0.0267 - val_accuracy: 0.9922\n"
          ]
        }
      ]
    },
    {
      "cell_type": "code",
      "source": [
        "optimization_learning_curves(\n",
        "    history_deep,\n",
        "    metrica='accuracy',\n",
        "    title='accuracy vs Val accuracy',\n",
        "    y_label = 'Accuracy')"
      ],
      "metadata": {
        "id": "z8JiJT3iZayi",
        "outputId": "e436415e-9760-4d09-d068-dc525e7f6593",
        "colab": {
          "base_uri": "https://localhost:8080/",
          "height": 436
        }
      },
      "execution_count": 113,
      "outputs": [
        {
          "output_type": "display_data",
          "data": {
            "text/plain": [
              "<Figure size 800x400 with 1 Axes>"
            ],
            "image/png": "[encoded data removed]"
          },
          "metadata": {}
        }
      ]
    },
    {
      "cell_type": "markdown",
      "source": [
        "El modelo tiene una convergencia a partir de la epoca 12 en el rendimiento en la predicción de las imagenes, sin evidencia de Overfitting."
      ],
      "metadata": {
        "id": "-nLe6UaRZgHM"
      }
    },
    {
      "cell_type": "code",
      "source": [
        "optimization_learning_curves(history_deep, metrica='loss', title='Loss vs Val Loss')"
      ],
      "metadata": {
        "id": "5g00a9CoOZFD",
        "outputId": "8d3b4d71-0273-4d94-fb2f-676fdc4410ed",
        "colab": {
          "base_uri": "https://localhost:8080/",
          "height": 436
        }
      },
      "execution_count": 111,
      "outputs": [
        {
          "output_type": "display_data",
          "data": {
            "text/plain": [
              "<Figure size 800x400 with 1 Axes>"
            ],
            "image/png": "[encoded data removed]"
          },
          "metadata": {}
        }
      ]
    },
    {
      "cell_type": "markdown",
      "source": [
        "Converge en la 12 epoca"
      ],
      "metadata": {
        "id": "37RBJTMwO4cw"
      }
    },
    {
      "cell_type": "code",
      "metadata": {
        "colab": {
          "base_uri": "https://localhost:8080/"
        },
        "id": "oHyVPYZtBs2E",
        "outputId": "cc6c8fd1-3a24-4e23-b223-388465262747"
      },
      "source": [
        "score = model.evaluate(X_test, y_test, verbose=0)\n",
        "print(\"Performance: %.2f%%\" % (100-score[1]*100))"
      ],
      "execution_count": 114,
      "outputs": [
        {
          "output_type": "stream",
          "name": "stdout",
          "text": [
            "Performance: 0.78%\n"
          ]
        }
      ]
    },
    {
      "cell_type": "code",
      "source": [
        "print('Accuracy :',score[1])\n",
        "print('Loss :',score[0])"
      ],
      "metadata": {
        "id": "te_MobOrPVDc",
        "outputId": "97963942-a20b-445d-c092-b724d35e5781",
        "colab": {
          "base_uri": "https://localhost:8080/"
        }
      },
      "execution_count": 115,
      "outputs": [
        {
          "output_type": "stream",
          "name": "stdout",
          "text": [
            "Accuracy : 0.9922000169754028\n",
            "Loss : 0.026692664250731468\n"
          ]
        }
      ]
    },
    {
      "cell_type": "code",
      "source": [
        "y_predict = model.predict(X_test)"
      ],
      "metadata": {
        "id": "Fk-FE2XBaG_R",
        "outputId": "7cdaf662-3325-4850-e57b-59e15c81213b",
        "colab": {
          "base_uri": "https://localhost:8080/"
        }
      },
      "execution_count": 135,
      "outputs": [
        {
          "output_type": "stream",
          "name": "stdout",
          "text": [
            "313/313 [==============================] - 1s 2ms/step\n"
          ]
        }
      ]
    },
    {
      "cell_type": "code",
      "source": [
        "labels = np.argmax(y_predict, axis=1)"
      ],
      "metadata": {
        "id": "0R58GbA6cdVM"
      },
      "execution_count": 140,
      "outputs": []
    },
    {
      "cell_type": "code",
      "source": [
        "predicciones_dp = pd.DataFrame(y_predict)*100\n",
        "predicciones_dp['y_label'] = labels\n",
        "predicciones_dp"
      ],
      "metadata": {
        "id": "--Lx0Lm-avQa",
        "outputId": "fb3a1897-a264-4e9e-bc7d-23176bbbcbbe",
        "colab": {
          "base_uri": "https://localhost:8080/",
          "height": 424
        }
      },
      "execution_count": 142,
      "outputs": [
        {
          "output_type": "execute_result",
          "data": {
            "text/plain": [
              "                      0                  1                  2  \\\n",
              "0     0.000000026263649  0.000010533149180  0.000012964276721   \n",
              "1     0.000005074103683  0.000063785737439 99.999893188476562   \n",
              "2     0.000037968435208 99.994895935058594  0.000043435979023   \n",
              "3    99.999000549316406  0.000000044876860  0.000059714056988   \n",
              "4     0.000000009738732  0.000000016259209  0.000000543209126   \n",
              "...                 ...                ...                ...   \n",
              "9995  0.000000028158267  0.000001160889610 99.999977111816406   \n",
              "9996  0.000000055360466  0.000008232786968  0.000001800796440   \n",
              "9997  0.000000000000021  0.000000003830133  0.000000000025284   \n",
              "9998  0.000000224624344  0.000000001686733  0.000000005591926   \n",
              "9999  0.000019536524633  0.000000564518189  0.000006477188890   \n",
              "\n",
              "                      3                   4                  5  \\\n",
              "0     0.001231450005434   0.000008586992408  0.000000511697237   \n",
              "1     0.000000620635035   0.000000011406095  0.000000003559534   \n",
              "2     0.000000080626272   0.000604300177656  0.000082319704234   \n",
              "3     0.000001077621050   0.000010833280612  0.000083920807811   \n",
              "4     0.000000099454503  99.994400024414062  0.000000010585842   \n",
              "...                 ...                 ...                ...   \n",
              "9995  0.000002426072797   0.000000000074368  0.000000000091258   \n",
              "9996 99.999916076660156   0.000000005086937  0.000038579106331   \n",
              "9997  0.000000000009805 100.000000000000000  0.000000000564476   \n",
              "9998  0.000032025887776   0.000000030133876 99.986137390136719   \n",
              "9999  0.000000756110808   0.000137603317853  0.001236317562871   \n",
              "\n",
              "                      6                  7                 8  \\\n",
              "0     0.000000000000942 99.998580932617188 0.000005365009201   \n",
              "1     0.000038174970541  0.000000037894381 0.000001145592591   \n",
              "2     0.000053096038755  0.003037573769689 0.001078414381482   \n",
              "3     0.000817480147816  0.000009410215171 0.000013580256564   \n",
              "4     0.000000005611535  0.000026463876566 0.000058760066167   \n",
              "...                 ...                ...               ...   \n",
              "9995  0.000000000003093  0.000019179749870 0.000000164431029   \n",
              "9996  0.000000000083999  0.000002258842642 0.000000620386629   \n",
              "9997  0.000000000015272  0.000000525619726 0.000001082053927   \n",
              "9998  0.000183500727871  0.000000057633649 0.013641558587551   \n",
              "9999 99.998542785644531  0.000000000128751 0.000054406380514   \n",
              "\n",
              "                     9  y_label  \n",
              "0    0.000147583516082        7  \n",
              "1    0.000000000061513        2  \n",
              "2    0.000158082839334        1  \n",
              "3    0.000006282702543        0  \n",
              "4    0.005524563603103        4  \n",
              "...                ...      ...  \n",
              "9995 0.000000002838467        2  \n",
              "9996 0.000033411670302        3  \n",
              "9997 0.000002055524874        4  \n",
              "9998 0.000000803769581        5  \n",
              "9999 0.000002054511242        6  \n",
              "\n",
              "[10000 rows x 11 columns]"
            ],
            "text/html": [
              "\n",
              "  <div id=\"df-1a448edc-caf0-4895-9c5f-6095c15b46e5\" class=\"colab-df-container\">\n",
              "    <div>\n",
              "<style scoped>\n",
              "    .dataframe tbody tr th:only-of-type {\n",
              "        vertical-align: middle;\n",
              "    }\n",
              "\n",
              "    .dataframe tbody tr th {\n",
              "        vertical-align: top;\n",
              "    }\n",
              "\n",
              "    .dataframe thead th {\n",
              "        text-align: right;\n",
              "    }\n",
              "</style>\n",
              "<table border=\"1\" class=\"dataframe\">\n",
              "  <thead>\n",
              "    <tr style=\"text-align: right;\">\n",
              "      <th></th>\n",
              "      <th>0</th>\n",
              "      <th>1</th>\n",
              "      <th>2</th>\n",
              "      <th>3</th>\n",
              "      <th>4</th>\n",
              "      <th>5</th>\n",
              "      <th>6</th>\n",
              "      <th>7</th>\n",
              "      <th>8</th>\n",
              "      <th>9</th>\n",
              "      <th>y_label</th>\n",
              "    </tr>\n",
              "  </thead>\n",
              "  <tbody>\n",
              "    <tr>\n",
              "      <th>0</th>\n",
              "      <td>0.000000026263649</td>\n",
              "      <td>0.000010533149180</td>\n",
              "      <td>0.000012964276721</td>\n",
              "      <td>0.001231450005434</td>\n",
              "      <td>0.000008586992408</td>\n",
              "      <td>0.000000511697237</td>\n",
              "      <td>0.000000000000942</td>\n",
              "      <td>99.998580932617188</td>\n",
              "      <td>0.000005365009201</td>\n",
              "      <td>0.000147583516082</td>\n",
              "      <td>7</td>\n",
              "    </tr>\n",
              "    <tr>\n",
              "      <th>1</th>\n",
              "      <td>0.000005074103683</td>\n",
              "      <td>0.000063785737439</td>\n",
              "      <td>99.999893188476562</td>\n",
              "      <td>0.000000620635035</td>\n",
              "      <td>0.000000011406095</td>\n",
              "      <td>0.000000003559534</td>\n",
              "      <td>0.000038174970541</td>\n",
              "      <td>0.000000037894381</td>\n",
              "      <td>0.000001145592591</td>\n",
              "      <td>0.000000000061513</td>\n",
              "      <td>2</td>\n",
              "    </tr>\n",
              "    <tr>\n",
              "      <th>2</th>\n",
              "      <td>0.000037968435208</td>\n",
              "      <td>99.994895935058594</td>\n",
              "      <td>0.000043435979023</td>\n",
              "      <td>0.000000080626272</td>\n",
              "      <td>0.000604300177656</td>\n",
              "      <td>0.000082319704234</td>\n",
              "      <td>0.000053096038755</td>\n",
              "      <td>0.003037573769689</td>\n",
              "      <td>0.001078414381482</td>\n",
              "      <td>0.000158082839334</td>\n",
              "      <td>1</td>\n",
              "    </tr>\n",
              "    <tr>\n",
              "      <th>3</th>\n",
              "      <td>99.999000549316406</td>\n",
              "      <td>0.000000044876860</td>\n",
              "      <td>0.000059714056988</td>\n",
              "      <td>0.000001077621050</td>\n",
              "      <td>0.000010833280612</td>\n",
              "      <td>0.000083920807811</td>\n",
              "      <td>0.000817480147816</td>\n",
              "      <td>0.000009410215171</td>\n",
              "      <td>0.000013580256564</td>\n",
              "      <td>0.000006282702543</td>\n",
              "      <td>0</td>\n",
              "    </tr>\n",
              "    <tr>\n",
              "      <th>4</th>\n",
              "      <td>0.000000009738732</td>\n",
              "      <td>0.000000016259209</td>\n",
              "      <td>0.000000543209126</td>\n",
              "      <td>0.000000099454503</td>\n",
              "      <td>99.994400024414062</td>\n",
              "      <td>0.000000010585842</td>\n",
              "      <td>0.000000005611535</td>\n",
              "      <td>0.000026463876566</td>\n",
              "      <td>0.000058760066167</td>\n",
              "      <td>0.005524563603103</td>\n",
              "      <td>4</td>\n",
              "    </tr>\n",
              "    <tr>\n",
              "      <th>...</th>\n",
              "      <td>...</td>\n",
              "      <td>...</td>\n",
              "      <td>...</td>\n",
              "      <td>...</td>\n",
              "      <td>...</td>\n",
              "      <td>...</td>\n",
              "      <td>...</td>\n",
              "      <td>...</td>\n",
              "      <td>...</td>\n",
              "      <td>...</td>\n",
              "      <td>...</td>\n",
              "    </tr>\n",
              "    <tr>\n",
              "      <th>9995</th>\n",
              "      <td>0.000000028158267</td>\n",
              "      <td>0.000001160889610</td>\n",
              "      <td>99.999977111816406</td>\n",
              "      <td>0.000002426072797</td>\n",
              "      <td>0.000000000074368</td>\n",
              "      <td>0.000000000091258</td>\n",
              "      <td>0.000000000003093</td>\n",
              "      <td>0.000019179749870</td>\n",
              "      <td>0.000000164431029</td>\n",
              "      <td>0.000000002838467</td>\n",
              "      <td>2</td>\n",
              "    </tr>\n",
              "    <tr>\n",
              "      <th>9996</th>\n",
              "      <td>0.000000055360466</td>\n",
              "      <td>0.000008232786968</td>\n",
              "      <td>0.000001800796440</td>\n",
              "      <td>99.999916076660156</td>\n",
              "      <td>0.000000005086937</td>\n",
              "      <td>0.000038579106331</td>\n",
              "      <td>0.000000000083999</td>\n",
              "      <td>0.000002258842642</td>\n",
              "      <td>0.000000620386629</td>\n",
              "      <td>0.000033411670302</td>\n",
              "      <td>3</td>\n",
              "    </tr>\n",
              "    <tr>\n",
              "      <th>9997</th>\n",
              "      <td>0.000000000000021</td>\n",
              "      <td>0.000000003830133</td>\n",
              "      <td>0.000000000025284</td>\n",
              "      <td>0.000000000009805</td>\n",
              "      <td>100.000000000000000</td>\n",
              "      <td>0.000000000564476</td>\n",
              "      <td>0.000000000015272</td>\n",
              "      <td>0.000000525619726</td>\n",
              "      <td>0.000001082053927</td>\n",
              "      <td>0.000002055524874</td>\n",
              "      <td>4</td>\n",
              "    </tr>\n",
              "    <tr>\n",
              "      <th>9998</th>\n",
              "      <td>0.000000224624344</td>\n",
              "      <td>0.000000001686733</td>\n",
              "      <td>0.000000005591926</td>\n",
              "      <td>0.000032025887776</td>\n",
              "      <td>0.000000030133876</td>\n",
              "      <td>99.986137390136719</td>\n",
              "      <td>0.000183500727871</td>\n",
              "      <td>0.000000057633649</td>\n",
              "      <td>0.013641558587551</td>\n",
              "      <td>0.000000803769581</td>\n",
              "      <td>5</td>\n",
              "    </tr>\n",
              "    <tr>\n",
              "      <th>9999</th>\n",
              "      <td>0.000019536524633</td>\n",
              "      <td>0.000000564518189</td>\n",
              "      <td>0.000006477188890</td>\n",
              "      <td>0.000000756110808</td>\n",
              "      <td>0.000137603317853</td>\n",
              "      <td>0.001236317562871</td>\n",
              "      <td>99.998542785644531</td>\n",
              "      <td>0.000000000128751</td>\n",
              "      <td>0.000054406380514</td>\n",
              "      <td>0.000002054511242</td>\n",
              "      <td>6</td>\n",
              "    </tr>\n",
              "  </tbody>\n",
              "</table>\n",
              "<p>10000 rows × 11 columns</p>\n",
              "</div>\n",
              "    <div class=\"colab-df-buttons\">\n",
              "\n",
              "  <div class=\"colab-df-container\">\n",
              "    <button class=\"colab-df-convert\" onclick=\"convertToInteractive('df-1a448edc-caf0-4895-9c5f-6095c15b46e5')\"\n",
              "            title=\"Convert this dataframe to an interactive table.\"\n",
              "            style=\"display:none;\">\n",
              "\n",
              "  <svg xmlns=\"http://www.w3.org/2000/svg\" height=\"24px\" viewBox=\"0 -960 960 960\">\n",
              "    <path d=\"M120-120v-720h720v720H120Zm60-500h600v-160H180v160Zm220 220h160v-160H400v160Zm0 220h160v-160H400v160ZM180-400h160v-160H180v160Zm440 0h160v-160H620v160ZM180-180h160v-160H180v160Zm440 0h160v-160H620v160Z\"/>\n",
              "  </svg>\n",
              "    </button>\n",
              "\n",
              "  <style>\n",
              "    .colab-df-container {\n",
              "      display:flex;\n",
              "      gap: 12px;\n",
              "    }\n",
              "\n",
              "    .colab-df-convert {\n",
              "      background-color: #E8F0FE;\n",
              "      border: none;\n",
              "      border-radius: 50%;\n",
              "      cursor: pointer;\n",
              "      display: none;\n",
              "      fill: #1967D2;\n",
              "      height: 32px;\n",
              "      padding: 0 0 0 0;\n",
              "      width: 32px;\n",
              "    }\n",
              "\n",
              "    .colab-df-convert:hover {\n",
              "      background-color: #E2EBFA;\n",
              "      box-shadow: 0px 1px 2px rgba(60, 64, 67, 0.3), 0px 1px 3px 1px rgba(60, 64, 67, 0.15);\n",
              "      fill: #174EA6;\n",
              "    }\n",
              "\n",
              "    .colab-df-buttons div {\n",
              "      margin-bottom: 4px;\n",
              "    }\n",
              "\n",
              "    [theme=dark] .colab-df-convert {\n",
              "      background-color: #3B4455;\n",
              "      fill: #D2E3FC;\n",
              "    }\n",
              "\n",
              "    [theme=dark] .colab-df-convert:hover {\n",
              "      background-color: #434B5C;\n",
              "      box-shadow: 0px 1px 3px 1px rgba(0, 0, 0, 0.15);\n",
              "      filter: drop-shadow(0px 1px 2px rgba(0, 0, 0, 0.3));\n",
              "      fill: #FFFFFF;\n",
              "    }\n",
              "  </style>\n",
              "\n",
              "    <script>\n",
              "      const buttonEl =\n",
              "        document.querySelector('#df-1a448edc-caf0-4895-9c5f-6095c15b46e5 button.colab-df-convert');\n",
              "      buttonEl.style.display =\n",
              "        google.colab.kernel.accessAllowed ? 'block' : 'none';\n",
              "\n",
              "      async function convertToInteractive(key) {\n",
              "        const element = document.querySelector('#df-1a448edc-caf0-4895-9c5f-6095c15b46e5');\n",
              "        const dataTable =\n",
              "          await google.colab.kernel.invokeFunction('convertToInteractive',\n",
              "                                                    [key], {});\n",
              "        if (!dataTable) return;\n",
              "\n",
              "        const docLinkHtml = 'Like what you see? Visit the ' +\n",
              "          '<a target=\"_blank\" href=https://colab.research.google.com/notebooks/data_table.ipynb>data table notebook</a>'\n",
              "          + ' to learn more about interactive tables.';\n",
              "        element.innerHTML = '';\n",
              "        dataTable['output_type'] = 'display_data';\n",
              "        await google.colab.output.renderOutput(dataTable, element);\n",
              "        const docLink = document.createElement('div');\n",
              "        docLink.innerHTML = docLinkHtml;\n",
              "        element.appendChild(docLink);\n",
              "      }\n",
              "    </script>\n",
              "  </div>\n",
              "\n",
              "\n",
              "<div id=\"df-51c59ca2-5af0-4524-88c2-33076f066646\">\n",
              "  <button class=\"colab-df-quickchart\" onclick=\"quickchart('df-51c59ca2-5af0-4524-88c2-33076f066646')\"\n",
              "            title=\"Suggest charts\"\n",
              "            style=\"display:none;\">\n",
              "\n",
              "<svg xmlns=\"http://www.w3.org/2000/svg\" height=\"24px\"viewBox=\"0 0 24 24\"\n",
              "     width=\"24px\">\n",
              "    <g>\n",
              "        <path d=\"M19 3H5c-1.1 0-2 .9-2 2v14c0 1.1.9 2 2 2h14c1.1 0 2-.9 2-2V5c0-1.1-.9-2-2-2zM9 17H7v-7h2v7zm4 0h-2V7h2v10zm4 0h-2v-4h2v4z\"/>\n",
              "    </g>\n",
              "</svg>\n",
              "  </button>\n",
              "\n",
              "<style>\n",
              "  .colab-df-quickchart {\n",
              "      --bg-color: #E8F0FE;\n",
              "      --fill-color: #1967D2;\n",
              "      --hover-bg-color: #E2EBFA;\n",
              "      --hover-fill-color: #174EA6;\n",
              "      --disabled-fill-color: #AAA;\n",
              "      --disabled-bg-color: #DDD;\n",
              "  }\n",
              "\n",
              "  [theme=dark] .colab-df-quickchart {\n",
              "      --bg-color: #3B4455;\n",
              "      --fill-color: #D2E3FC;\n",
              "      --hover-bg-color: #434B5C;\n",
              "      --hover-fill-color: #FFFFFF;\n",
              "      --disabled-bg-color: #3B4455;\n",
              "      --disabled-fill-color: #666;\n",
              "  }\n",
              "\n",
              "  .colab-df-quickchart {\n",
              "    background-color: var(--bg-color);\n",
              "    border: none;\n",
              "    border-radius: 50%;\n",
              "    cursor: pointer;\n",
              "    display: none;\n",
              "    fill: var(--fill-color);\n",
              "    height: 32px;\n",
              "    padding: 0;\n",
              "    width: 32px;\n",
              "  }\n",
              "\n",
              "  .colab-df-quickchart:hover {\n",
              "    background-color: var(--hover-bg-color);\n",
              "    box-shadow: 0 1px 2px rgba(60, 64, 67, 0.3), 0 1px 3px 1px rgba(60, 64, 67, 0.15);\n",
              "    fill: var(--button-hover-fill-color);\n",
              "  }\n",
              "\n",
              "  .colab-df-quickchart-complete:disabled,\n",
              "  .colab-df-quickchart-complete:disabled:hover {\n",
              "    background-color: var(--disabled-bg-color);\n",
              "    fill: var(--disabled-fill-color);\n",
              "    box-shadow: none;\n",
              "  }\n",
              "\n",
              "  .colab-df-spinner {\n",
              "    border: 2px solid var(--fill-color);\n",
              "    border-color: transparent;\n",
              "    border-bottom-color: var(--fill-color);\n",
              "    animation:\n",
              "      spin 1s steps(1) infinite;\n",
              "  }\n",
              "\n",
              "  @keyframes spin {\n",
              "    0% {\n",
              "      border-color: transparent;\n",
              "      border-bottom-color: var(--fill-color);\n",
              "      border-left-color: var(--fill-color);\n",
              "    }\n",
              "    20% {\n",
              "      border-color: transparent;\n",
              "      border-left-color: var(--fill-color);\n",
              "      border-top-color: var(--fill-color);\n",
              "    }\n",
              "    30% {\n",
              "      border-color: transparent;\n",
              "      border-left-color: var(--fill-color);\n",
              "      border-top-color: var(--fill-color);\n",
              "      border-right-color: var(--fill-color);\n",
              "    }\n",
              "    40% {\n",
              "      border-color: transparent;\n",
              "      border-right-color: var(--fill-color);\n",
              "      border-top-color: var(--fill-color);\n",
              "    }\n",
              "    60% {\n",
              "      border-color: transparent;\n",
              "      border-right-color: var(--fill-color);\n",
              "    }\n",
              "    80% {\n",
              "      border-color: transparent;\n",
              "      border-right-color: var(--fill-color);\n",
              "      border-bottom-color: var(--fill-color);\n",
              "    }\n",
              "    90% {\n",
              "      border-color: transparent;\n",
              "      border-bottom-color: var(--fill-color);\n",
              "    }\n",
              "  }\n",
              "</style>\n",
              "\n",
              "  <script>\n",
              "    async function quickchart(key) {\n",
              "      const quickchartButtonEl =\n",
              "        document.querySelector('#' + key + ' button');\n",
              "      quickchartButtonEl.disabled = true;  // To prevent multiple clicks.\n",
              "      quickchartButtonEl.classList.add('colab-df-spinner');\n",
              "      try {\n",
              "        const charts = await google.colab.kernel.invokeFunction(\n",
              "            'suggestCharts', [key], {});\n",
              "      } catch (error) {\n",
              "        console.error('Error during call to suggestCharts:', error);\n",
              "      }\n",
              "      quickchartButtonEl.classList.remove('colab-df-spinner');\n",
              "      quickchartButtonEl.classList.add('colab-df-quickchart-complete');\n",
              "    }\n",
              "    (() => {\n",
              "      let quickchartButtonEl =\n",
              "        document.querySelector('#df-51c59ca2-5af0-4524-88c2-33076f066646 button');\n",
              "      quickchartButtonEl.style.display =\n",
              "        google.colab.kernel.accessAllowed ? 'block' : 'none';\n",
              "    })();\n",
              "  </script>\n",
              "</div>\n",
              "\n",
              "  <div id=\"id_c88d8145-370e-42d4-9f00-8692e286fe40\">\n",
              "    <style>\n",
              "      .colab-df-generate {\n",
              "        background-color: #E8F0FE;\n",
              "        border: none;\n",
              "        border-radius: 50%;\n",
              "        cursor: pointer;\n",
              "        display: none;\n",
              "        fill: #1967D2;\n",
              "        height: 32px;\n",
              "        padding: 0 0 0 0;\n",
              "        width: 32px;\n",
              "      }\n",
              "\n",
              "      .colab-df-generate:hover {\n",
              "        background-color: #E2EBFA;\n",
              "        box-shadow: 0px 1px 2px rgba(60, 64, 67, 0.3), 0px 1px 3px 1px rgba(60, 64, 67, 0.15);\n",
              "        fill: #174EA6;\n",
              "      }\n",
              "\n",
              "      [theme=dark] .colab-df-generate {\n",
              "        background-color: #3B4455;\n",
              "        fill: #D2E3FC;\n",
              "      }\n",
              "\n",
              "      [theme=dark] .colab-df-generate:hover {\n",
              "        background-color: #434B5C;\n",
              "        box-shadow: 0px 1px 3px 1px rgba(0, 0, 0, 0.15);\n",
              "        filter: drop-shadow(0px 1px 2px rgba(0, 0, 0, 0.3));\n",
              "        fill: #FFFFFF;\n",
              "      }\n",
              "    </style>\n",
              "    <button class=\"colab-df-generate\" onclick=\"generateWithVariable('predicciones_dp')\"\n",
              "            title=\"Generate code using this dataframe.\"\n",
              "            style=\"display:none;\">\n",
              "\n",
              "  <svg xmlns=\"http://www.w3.org/2000/svg\" height=\"24px\"viewBox=\"0 0 24 24\"\n",
              "       width=\"24px\">\n",
              "    <path d=\"M7,19H8.4L18.45,9,17,7.55,7,17.6ZM5,21V16.75L18.45,3.32a2,2,0,0,1,2.83,0l1.4,1.43a1.91,1.91,0,0,1,.58,1.4,1.91,1.91,0,0,1-.58,1.4L9.25,21ZM18.45,9,17,7.55Zm-12,3A5.31,5.31,0,0,0,4.9,8.1,5.31,5.31,0,0,0,1,6.5,5.31,5.31,0,0,0,4.9,4.9,5.31,5.31,0,0,0,6.5,1,5.31,5.31,0,0,0,8.1,4.9,5.31,5.31,0,0,0,12,6.5,5.46,5.46,0,0,0,6.5,12Z\"/>\n",
              "  </svg>\n",
              "    </button>\n",
              "    <script>\n",
              "      (() => {\n",
              "      const buttonEl =\n",
              "        document.querySelector('#id_c88d8145-370e-42d4-9f00-8692e286fe40 button.colab-df-generate');\n",
              "      buttonEl.style.display =\n",
              "        google.colab.kernel.accessAllowed ? 'block' : 'none';\n",
              "\n",
              "      buttonEl.onclick = () => {\n",
              "        google.colab.notebook.generateWithVariable('predicciones_dp');\n",
              "      }\n",
              "      })();\n",
              "    </script>\n",
              "  </div>\n",
              "\n",
              "    </div>\n",
              "  </div>\n"
            ],
            "application/vnd.google.colaboratory.intrinsic+json": {
              "type": "dataframe",
              "variable_name": "predicciones_dp",
              "summary": "{\n  \"name\": \"predicciones_dp\",\n  \"rows\": 10000,\n  \"fields\": [\n    {\n      \"column\": 0,\n      \"properties\": {\n        \"dtype\": \"float32\",\n        \"num_unique_values\": 9444,\n        \"samples\": [\n          1.8895683628894488e-10,\n          1.6203956579308176e-12,\n          1.5246863540596678e-06\n        ],\n        \"semantic_type\": \"\",\n        \"description\": \"\"\n      }\n    },\n    {\n      \"column\": 1,\n      \"properties\": {\n        \"dtype\": \"float32\",\n        \"num_unique_values\": 9591,\n        \"samples\": [\n          2.4589703103566896e-12,\n          0.003053303575143218,\n          99.99917602539062\n        ],\n        \"semantic_type\": \"\",\n        \"description\": \"\"\n      }\n    },\n    {\n      \"column\": 2,\n      \"properties\": {\n        \"dtype\": \"float32\",\n        \"num_unique_values\": 9503,\n        \"samples\": [\n          1.8889106740971329e-06,\n          6.113004201324657e-05,\n          1.2133729399010917e-07\n        ],\n        \"semantic_type\": \"\",\n        \"description\": \"\"\n      }\n    },\n    {\n      \"column\": 3,\n      \"properties\": {\n        \"dtype\": \"float32\",\n        \"num_unique_values\": 9330,\n        \"samples\": [\n          1.0408888329038746e-06,\n          2.585474279115374e-09,\n          3.393023462194833e-06\n        ],\n        \"semantic_type\": \"\",\n        \"description\": \"\"\n      }\n    },\n    {\n      \"column\": 4,\n      \"properties\": {\n        \"dtype\": \"float32\",\n        \"num_unique_values\": 9420,\n        \"samples\": [\n          0.0007473541772924364,\n          0.020020905882120132,\n          2.1206322742273187e-07\n        ],\n        \"semantic_type\": \"\",\n        \"description\": \"\"\n      }\n    },\n    {\n      \"column\": 5,\n      \"properties\": {\n        \"dtype\": \"float32\",\n        \"num_unique_values\": 9662,\n        \"samples\": [\n          1.2433591109584086e-05,\n          0.0008619230356998742,\n          1.2157571291027125e-05\n        ],\n        \"semantic_type\": \"\",\n        \"description\": \"\"\n      }\n    },\n    {\n      \"column\": 6,\n      \"properties\": {\n        \"dtype\": \"float32\",\n        \"num_unique_values\": 9468,\n        \"samples\": [\n          3.349626798154759e-09,\n          4.125614960770463e-09,\n          1.0705357453844044e-06\n        ],\n        \"semantic_type\": \"\",\n        \"description\": \"\"\n      }\n    },\n    {\n      \"column\": 7,\n      \"properties\": {\n        \"dtype\": \"float32\",\n        \"num_unique_values\": 9634,\n        \"samples\": [\n          7.042091056064237e-06,\n          2.9362792752785083e-10,\n          0.0015836800448596478\n        ],\n        \"semantic_type\": \"\",\n        \"description\": \"\"\n      }\n    },\n    {\n      \"column\": 8,\n      \"properties\": {\n        \"dtype\": \"float32\",\n        \"num_unique_values\": 9489,\n        \"samples\": [\n          0.5233556628227234,\n          0.2778390944004059,\n          99.99845886230469\n        ],\n        \"semantic_type\": \"\",\n        \"description\": \"\"\n      }\n    },\n    {\n      \"column\": 9,\n      \"properties\": {\n        \"dtype\": \"float32\",\n        \"num_unique_values\": 9686,\n        \"samples\": [\n          0.003384809708222747,\n          2.3301817073106967e-11,\n          7.632464257767424e-05\n        ],\n        \"semantic_type\": \"\",\n        \"description\": \"\"\n      }\n    },\n    {\n      \"column\": \"y_label\",\n      \"properties\": {\n        \"dtype\": \"number\",\n        \"std\": 2,\n        \"min\": 0,\n        \"max\": 9,\n        \"num_unique_values\": 10,\n        \"samples\": [\n          3,\n          2,\n          9\n        ],\n        \"semantic_type\": \"\",\n        \"description\": \"\"\n      }\n    }\n  ]\n}"
            }
          },
          "metadata": {},
          "execution_count": 142
        }
      ]
    },
    {
      "cell_type": "code",
      "source": [
        "print(classification_report(\n",
        "      y_true = np.argmax(y_test, axis=1),\n",
        "      y_pred = np.argmax(y_predict, axis=1)\n",
        "))"
      ],
      "metadata": {
        "id": "Br1SB_Gxc5MJ",
        "outputId": "1dd9901b-5bca-4de5-c8f5-d9e7ec14fabe",
        "colab": {
          "base_uri": "https://localhost:8080/"
        }
      },
      "execution_count": 146,
      "outputs": [
        {
          "output_type": "stream",
          "name": "stdout",
          "text": [
            "              precision    recall  f1-score   support\n",
            "\n",
            "           0       0.99      1.00      0.99       980\n",
            "           1       1.00      0.99      1.00      1135\n",
            "           2       0.99      0.99      0.99      1032\n",
            "           3       0.98      1.00      0.99      1010\n",
            "           4       0.99      0.99      0.99       982\n",
            "           5       1.00      0.98      0.99       892\n",
            "           6       1.00      0.99      0.99       958\n",
            "           7       0.99      0.99      0.99      1028\n",
            "           8       0.99      0.99      0.99       974\n",
            "           9       0.99      0.99      0.99      1009\n",
            "\n",
            "    accuracy                           0.99     10000\n",
            "   macro avg       0.99      0.99      0.99     10000\n",
            "weighted avg       0.99      0.99      0.99     10000\n",
            "\n"
          ]
        }
      ]
    },
    {
      "cell_type": "markdown",
      "source": [
        "El modelo con la arquitectura más profunda es excelente para identificar los números en el conjunto de validación."
      ],
      "metadata": {
        "id": "DGkRj4jYd_ub"
      }
    }
  ]
}