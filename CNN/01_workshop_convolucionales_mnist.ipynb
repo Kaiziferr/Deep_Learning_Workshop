{
  "nbformat": 4,
  "nbformat_minor": 0,
  "metadata": {
    "colab": {
      "name": "01_workshop_convolucionales_mnist.ipynb",
      "provenance": [],
      "include_colab_link": true
    },
    "kernelspec": {
      "name": "python3",
      "display_name": "Python 3"
    },
    "language_info": {
      "name": "python"
    },
    "accelerator": "GPU"
  },
  "cells": [
    {
      "cell_type": "markdown",
      "metadata": {
        "id": "view-in-github",
        "colab_type": "text"
      },
      "source": [
        "<a href=\"https://colab.research.google.com/github/Kaiziferr/deep_learning/blob/master/CNN/01_workshop_convolucionales_mnist.ipynb\" target=\"_parent\"><img src=\"https://colab.research.google.com/assets/colab-badge.svg\" alt=\"Open In Colab\"/></a>"
      ]
    },
    {
      "cell_type": "code",
      "source": [
        "import matplotlib.pyplot as plt\n",
        "\n",
        "from keras.datasets import mnist\n",
        "from keras.models import Sequential\n",
        "from keras.layers import (\n",
        "    Dense, Dropout, Flatten, Conv2D, MaxPooling2D\n",
        ")\n",
        "from keras.utils import to_categorical"
      ],
      "metadata": {
        "id": "BxTs2iT4MxJ6"
      },
      "execution_count": 1,
      "outputs": []
    },
    {
      "cell_type": "code",
      "source": [
        "def optimization_learning_curves(\n",
        "    history:dict,\n",
        "    metrica:str,\n",
        "    title:str='',\n",
        "    X_size:int=8,\n",
        "    y_size:int=4,\n",
        "    font_size:int=15,\n",
        "    X_label:str='Epoch',\n",
        "    y_label:str='Loss'\n",
        ")->None:\n",
        "  \"\"\" Grafica curvas de aprendizaje \"\"\"\n",
        "  fig, ax = plt.subplots(figsize=(X_size, y_size))\n",
        "  fig.suptitle(title, fontsize=font_size)\n",
        "  ax.plot(history.history[metrica])\n",
        "  ax.plot(history.history[f'val_{metrica}'])\n",
        "  ax.set_xlabel(X_label, size = 12)\n",
        "  ax.set_ylabel(y_label, size = 12)\n",
        "  ax.legend(['Train', 'Test'], loc = 'upper right', fontsize = 12)\n",
        "  ax.tick_params(labelsize = 12)\n",
        "  fig.show()"
      ],
      "metadata": {
        "id": "wlrYsbV1NM8Q"
      },
      "execution_count": 2,
      "outputs": []
    },
    {
      "cell_type": "markdown",
      "source": [
        "# **Data**"
      ],
      "metadata": {
        "id": "xThlkwAiGktx"
      }
    },
    {
      "cell_type": "code",
      "source": [
        "(X_train, y_train), (X_test, y_test) = mnist.load_data()"
      ],
      "metadata": {
        "id": "yz-kZOBaNLuw",
        "outputId": "a5b68f85-453f-4a46-e9d4-342402ca9b04",
        "colab": {
          "base_uri": "https://localhost:8080/"
        }
      },
      "execution_count": 3,
      "outputs": [
        {
          "output_type": "stream",
          "name": "stdout",
          "text": [
            "Downloading data from https://storage.googleapis.com/tensorflow/tf-keras-datasets/mnist.npz\n",
            "11490434/11490434 [==============================] - 0s 0us/step\n"
          ]
        }
      ]
    },
    {
      "cell_type": "code",
      "source": [
        "X_train.shape"
      ],
      "metadata": {
        "id": "-FgYfnrdF9eq",
        "outputId": "f6e1f2b2-1f4e-4eb6-d433-7694bbf0ace4",
        "colab": {
          "base_uri": "https://localhost:8080/"
        }
      },
      "execution_count": 4,
      "outputs": [
        {
          "output_type": "execute_result",
          "data": {
            "text/plain": [
              "(60000, 28, 28)"
            ]
          },
          "metadata": {},
          "execution_count": 4
        }
      ]
    },
    {
      "cell_type": "code",
      "source": [
        "X_train = X_train.reshape((X_train.shape[0], 28, 28, 1)).astype('float32')\n",
        "X_test = X_test.reshape((X_test.shape[0], 28, 28, 1)).astype('float32')"
      ],
      "metadata": {
        "id": "NyIP_K2uNYzB"
      },
      "execution_count": 6,
      "outputs": []
    },
    {
      "cell_type": "code",
      "metadata": {
        "colab": {
          "base_uri": "https://localhost:8080/"
        },
        "id": "u4d5iYjHrr9l",
        "outputId": "d22e41d3-3a58-4e22-dc20-b7d0b61c0638"
      },
      "source": [
        "X_test.shape"
      ],
      "execution_count": 9,
      "outputs": [
        {
          "output_type": "execute_result",
          "data": {
            "text/plain": [
              "(10000, 28, 28, 1)"
            ]
          },
          "metadata": {},
          "execution_count": 9
        }
      ]
    },
    {
      "cell_type": "markdown",
      "source": [
        "# **Normalization**"
      ],
      "metadata": {
        "id": "wXgJs5C9GjCn"
      }
    },
    {
      "cell_type": "markdown",
      "source": [
        "- Se toma como referente 255, ya que es el número de pixel normalmente. Donde cero es negro y 255 es blanco."
      ],
      "metadata": {
        "id": "tBR3pPSnOCyQ"
      }
    },
    {
      "cell_type": "code",
      "source": [
        "X_train = X_train/255\n",
        "X_test = X_test/255"
      ],
      "metadata": {
        "id": "83jmlbIJORs_"
      },
      "execution_count": 11,
      "outputs": []
    },
    {
      "cell_type": "code",
      "source": [
        "y_train = to_categorical(y_train)\n",
        "y_test = to_categorical(y_test)"
      ],
      "metadata": {
        "id": "9YN8ttLNG1f8"
      },
      "execution_count": 13,
      "outputs": []
    },
    {
      "cell_type": "code",
      "source": [
        "num_clases = y_test.shape[1]\n",
        "num_clases"
      ],
      "metadata": {
        "id": "qpAzOIl5HB7D",
        "outputId": "8a638b08-da35-4c25-9f6b-1d95b08c5f82",
        "colab": {
          "base_uri": "https://localhost:8080/"
        }
      },
      "execution_count": 16,
      "outputs": [
        {
          "output_type": "execute_result",
          "data": {
            "text/plain": [
              "10"
            ]
          },
          "metadata": {},
          "execution_count": 16
        }
      ]
    },
    {
      "cell_type": "markdown",
      "metadata": {
        "id": "UBMAT5vk4G1b"
      },
      "source": [
        "Arquitectura\n",
        "\n",
        "1. Primera capa oculta: capa convolucional Conv2D\n",
        "\n",
        "  - Tiene 32 mapas de caracteristicas, con un tamaño de $5*5$ y una función de activación ReLu\n",
        "Capa Pooling MaxPooling2D\n",
        "\n",
        "2. Tamaño de pacht de $2 * 2$\n",
        "  -Capa de regularización Dropout\n",
        "3. Capa Flatten para conversión de la matriz2D en un vector\n",
        "4. Capa Dense con 128 neuronas y la función de activación ReLu\n",
        "5. Capa de salida con 10 neuronas para las 10 clases y una función de activación Softmax\n",
        "6. La compilación con ADAM, perdidad loogaritmica y accuracy"
      ]
    },
    {
      "cell_type": "code",
      "source": [
        "def model_base():\n",
        "  model = Sequential()\n",
        "  model.add(Conv2D(32, (5,5), input_shape=(28,28,1), activation='relu'))\n",
        "  model.add(MaxPooling2D())\n",
        "  model.add(Dropout(0.2))\n",
        "  model.add(Flatten())\n",
        "  model.add(Dense(128, activation='relu', kernel_initializer='glorot_uniform'))\n",
        "  model.add(Dense(10, activation='softmax', kernel_initializer='glorot_uniform'))\n",
        "  model.compile(loss='categorical_crossentropy', optimizer='adam', metrics=['accuracy'])\n",
        "  return model"
      ],
      "metadata": {
        "id": "DoOQKWCQOkLI"
      },
      "execution_count": 17,
      "outputs": []
    },
    {
      "cell_type": "code",
      "metadata": {
        "colab": {
          "base_uri": "https://localhost:8080/"
        },
        "id": "DD2-k_ku8Ssx",
        "outputId": "0406b437-15d0-434e-a3a2-cb9b3084eae3"
      },
      "source": [
        "y_train.shape[0]/200"
      ],
      "execution_count": 21,
      "outputs": [
        {
          "output_type": "execute_result",
          "data": {
            "text/plain": [
              "300.0"
            ]
          },
          "metadata": {},
          "execution_count": 21
        }
      ]
    },
    {
      "cell_type": "markdown",
      "source": [
        "300 lotes de 200 imagens"
      ],
      "metadata": {
        "id": "nWxj_RWMQHgv"
      }
    },
    {
      "cell_type": "code",
      "source": [
        "model = model_base()"
      ],
      "metadata": {
        "id": "U0g5zWR9JNE7"
      },
      "execution_count": 22,
      "outputs": []
    },
    {
      "cell_type": "code",
      "source": [
        "history_base = model.fit(\n",
        "    X_train,\n",
        "    y_train,\n",
        "    validation_data = (X_test, y_test),\n",
        "    epochs = 10,\n",
        "    batch_size = 200\n",
        ")"
      ],
      "metadata": {
        "id": "nhcTiBEZQdd4",
        "outputId": "87726035-5629-45b3-bac7-1ff8c651c5d5",
        "colab": {
          "base_uri": "https://localhost:8080/"
        }
      },
      "execution_count": 23,
      "outputs": [
        {
          "output_type": "stream",
          "name": "stdout",
          "text": [
            "Epoch 1/10\n",
            "300/300 [==============================] - 6s 6ms/step - loss: 0.2441 - accuracy: 0.9299 - val_loss: 0.0804 - val_accuracy: 0.9754\n",
            "Epoch 2/10\n",
            "300/300 [==============================] - 2s 6ms/step - loss: 0.0718 - accuracy: 0.9789 - val_loss: 0.0508 - val_accuracy: 0.9830\n",
            "Epoch 3/10\n",
            "300/300 [==============================] - 1s 4ms/step - loss: 0.0503 - accuracy: 0.9852 - val_loss: 0.0523 - val_accuracy: 0.9830\n",
            "Epoch 4/10\n",
            "300/300 [==============================] - 1s 4ms/step - loss: 0.0386 - accuracy: 0.9881 - val_loss: 0.0396 - val_accuracy: 0.9862\n",
            "Epoch 5/10\n",
            "300/300 [==============================] - 1s 4ms/step - loss: 0.0328 - accuracy: 0.9897 - val_loss: 0.0340 - val_accuracy: 0.9885\n",
            "Epoch 6/10\n",
            "300/300 [==============================] - 1s 4ms/step - loss: 0.0251 - accuracy: 0.9922 - val_loss: 0.0331 - val_accuracy: 0.9890\n",
            "Epoch 7/10\n",
            "300/300 [==============================] - 1s 4ms/step - loss: 0.0218 - accuracy: 0.9936 - val_loss: 0.0293 - val_accuracy: 0.9894\n",
            "Epoch 8/10\n",
            "300/300 [==============================] - 1s 4ms/step - loss: 0.0194 - accuracy: 0.9938 - val_loss: 0.0327 - val_accuracy: 0.9892\n",
            "Epoch 9/10\n",
            "300/300 [==============================] - 1s 4ms/step - loss: 0.0147 - accuracy: 0.9954 - val_loss: 0.0317 - val_accuracy: 0.9892\n",
            "Epoch 10/10\n",
            "300/300 [==============================] - 1s 5ms/step - loss: 0.0130 - accuracy: 0.9958 - val_loss: 0.0280 - val_accuracy: 0.9902\n"
          ]
        }
      ]
    },
    {
      "cell_type": "code",
      "source": [
        "optimization_learning_curves(history_base, metrica='loss', title='Loss vs Val Loss')"
      ],
      "metadata": {
        "id": "Mv6dme4FNcgy",
        "outputId": "e43b693b-9d6d-48b3-8bbc-56932378975d",
        "colab": {
          "base_uri": "https://localhost:8080/",
          "height": 436
        }
      },
      "execution_count": 24,
      "outputs": [
        {
          "output_type": "display_data",
          "data": {
            "text/plain": [
              "<Figure size 800x400 with 1 Axes>"
            ],
            "image/png": "[encoded data removed]"
          },
          "metadata": {}
        }
      ]
    },
    {
      "cell_type": "markdown",
      "source": [
        "- Se presenta un pequeño sobre ajuste después de la época 4, pero se evidencia que es posible que la curva de validación se reduzca después de la época 10"
      ],
      "metadata": {
        "id": "Y-hiMaSSOA7A"
      }
    },
    {
      "cell_type": "code",
      "source": [
        "optimization_learning_curves(\n",
        "    history_base,\n",
        "    metrica='accuracy',\n",
        "    title='accuracy vs Val accuracy',\n",
        "    y_label = 'Accuracy')"
      ],
      "metadata": {
        "id": "HJUbGV6eOF7c",
        "outputId": "a35bd8b2-e76c-439a-f456-1abb1a61bc94",
        "colab": {
          "base_uri": "https://localhost:8080/",
          "height": 436
        }
      },
      "execution_count": 26,
      "outputs": [
        {
          "output_type": "display_data",
          "data": {
            "text/plain": [
              "<Figure size 800x400 with 1 Axes>"
            ],
            "image/png": "[encoded data removed]"
          },
          "metadata": {}
        }
      ]
    },
    {
      "cell_type": "markdown",
      "source": [
        "El modelo no tiene un buen comportamiento al momento de predecir los datos de validación, con relación a los de entrenamiento, sin embargo, es un score muy alto."
      ],
      "metadata": {
        "id": "FAhnm9WzRE1R"
      }
    },
    {
      "cell_type": "code",
      "source": [
        "score = model.evaluate(X_test, y_test, verbose=0)\n",
        "print(\"Performance: %.2f%%\" % (100-score[1]*100))"
      ],
      "metadata": {
        "id": "S35Lu0HBRCiI",
        "outputId": "fda194df-dc6c-4c25-abb4-81854a1d3af7",
        "colab": {
          "base_uri": "https://localhost:8080/"
        }
      },
      "execution_count": 27,
      "outputs": [
        {
          "output_type": "stream",
          "name": "stdout",
          "text": [
            "Performance: 0.98%\n"
          ]
        }
      ]
    },
    {
      "cell_type": "code",
      "metadata": {
        "colab": {
          "base_uri": "https://localhost:8080/"
        },
        "id": "9AvH9q039hlI",
        "outputId": "dc496907-543d-4ab6-b466-680c72bfdfd8"
      },
      "source": [
        "print('Accuracy :',score[1])\n",
        "print('Loss :',score[0])"
      ],
      "execution_count": 28,
      "outputs": [
        {
          "output_type": "stream",
          "name": "stdout",
          "text": [
            "Accuracy : 0.9901999831199646\n",
            "Loss : 0.027963051572442055\n"
          ]
        }
      ]
    },
    {
      "cell_type": "markdown",
      "metadata": {
        "id": "wBl9Jd05-UXW"
      },
      "source": [
        "# CNN más profunda"
      ]
    },
    {
      "cell_type": "code",
      "source": [],
      "metadata": {
        "id": "xG6MpQBCRtGR"
      },
      "execution_count": null,
      "outputs": []
    },
    {
      "cell_type": "code",
      "source": [
        "def model_deep():\n",
        "  model = Sequential()\n",
        "  model.add(Conv2D(30, (5,5), input_shape=(28,28,1), activation='relu'))\n",
        "  model.add(MaxPooling2D())\n",
        "  model.add(Conv2D(15, (2,2), activation='relu'))\n",
        "  model.add(MaxPooling2D())\n",
        "  model.add(Dropout(0.2))\n",
        "  model.add(Flatten())\n",
        "  model.add(Dense(128, activation='relu'))\n",
        "  model.add(Dense(50, activation='relu'))\n",
        "  model.add(Dense(10, activation='softmax'))\n",
        "  model.compile(loss='categorical_crossentropy', optimizer='adam', metrics=['accuracy'])\n",
        "  return model"
      ],
      "metadata": {
        "id": "kAuwGVVNLDlc"
      },
      "execution_count": null,
      "outputs": []
    },
    {
      "cell_type": "code",
      "source": [
        "X_train.shape[0]/200"
      ],
      "metadata": {
        "id": "WTt5IS0vMYuI",
        "outputId": "8c3c848c-9fed-4c4c-e511-fce3dfd9be99",
        "colab": {
          "base_uri": "https://localhost:8080/"
        }
      },
      "execution_count": null,
      "outputs": [
        {
          "output_type": "execute_result",
          "data": {
            "text/plain": [
              "300.0"
            ]
          },
          "metadata": {},
          "execution_count": 87
        }
      ]
    },
    {
      "cell_type": "code",
      "metadata": {
        "colab": {
          "base_uri": "https://localhost:8080/"
        },
        "id": "xokgIcnLAZca",
        "outputId": "62c229e1-3f3e-4e43-f438-2e66dd46fd41"
      },
      "source": [
        "model = model_deep()\n",
        "history_deep = model.fit(X_train, y_train, validation_data=(X_test, y_test), epochs=10, batch_size=200)"
      ],
      "execution_count": null,
      "outputs": [
        {
          "output_type": "stream",
          "name": "stdout",
          "text": [
            "Epoch 1/10\n",
            "300/300 [==============================] - 3s 6ms/step - loss: 0.4304 - accuracy: 0.8634 - val_loss: 0.1143 - val_accuracy: 0.9661\n",
            "Epoch 2/10\n",
            "300/300 [==============================] - 2s 6ms/step - loss: 0.1152 - accuracy: 0.9651 - val_loss: 0.0654 - val_accuracy: 0.9792\n",
            "Epoch 3/10\n",
            "300/300 [==============================] - 2s 7ms/step - loss: 0.0813 - accuracy: 0.9748 - val_loss: 0.0478 - val_accuracy: 0.9841\n",
            "Epoch 4/10\n",
            "300/300 [==============================] - 2s 5ms/step - loss: 0.0650 - accuracy: 0.9800 - val_loss: 0.0399 - val_accuracy: 0.9868\n",
            "Epoch 5/10\n",
            "300/300 [==============================] - 1s 5ms/step - loss: 0.0552 - accuracy: 0.9829 - val_loss: 0.0357 - val_accuracy: 0.9883\n",
            "Epoch 6/10\n",
            "300/300 [==============================] - 2s 5ms/step - loss: 0.0483 - accuracy: 0.9849 - val_loss: 0.0335 - val_accuracy: 0.9881\n",
            "Epoch 7/10\n",
            "300/300 [==============================] - 2s 5ms/step - loss: 0.0430 - accuracy: 0.9862 - val_loss: 0.0298 - val_accuracy: 0.9897\n",
            "Epoch 8/10\n",
            "300/300 [==============================] - 1s 5ms/step - loss: 0.0399 - accuracy: 0.9867 - val_loss: 0.0261 - val_accuracy: 0.9905\n",
            "Epoch 9/10\n",
            "300/300 [==============================] - 1s 5ms/step - loss: 0.0359 - accuracy: 0.9884 - val_loss: 0.0272 - val_accuracy: 0.9908\n",
            "Epoch 10/10\n",
            "300/300 [==============================] - 2s 6ms/step - loss: 0.0344 - accuracy: 0.9890 - val_loss: 0.0250 - val_accuracy: 0.9911\n"
          ]
        }
      ]
    },
    {
      "cell_type": "code",
      "source": [
        "optimization_learning_curves(history_deep, metrica='loss', title='Loss vs Val Loss')"
      ],
      "metadata": {
        "id": "5g00a9CoOZFD",
        "outputId": "7b291a4f-ac2f-44ed-b710-2f6880a2ae70",
        "colab": {
          "base_uri": "https://localhost:8080/",
          "height": 436
        }
      },
      "execution_count": null,
      "outputs": [
        {
          "output_type": "display_data",
          "data": {
            "text/plain": [
              "<Figure size 800x400 with 1 Axes>"
            ],
            "image/png": "[encoded data removed]"
          },
          "metadata": {}
        }
      ]
    },
    {
      "cell_type": "markdown",
      "source": [
        "Se demora en converger, posiblemente sea necesario más épocas."
      ],
      "metadata": {
        "id": "37RBJTMwO4cw"
      }
    },
    {
      "cell_type": "code",
      "metadata": {
        "colab": {
          "base_uri": "https://localhost:8080/"
        },
        "id": "oHyVPYZtBs2E",
        "outputId": "e534baea-0797-4a37-e6df-f962ac1e6600"
      },
      "source": [
        "score = model.evaluate(X_test, y_test, verbose=0)\n",
        "print(\"Performance: %.2f%%\" % (100-score[1]*100))"
      ],
      "execution_count": null,
      "outputs": [
        {
          "output_type": "stream",
          "name": "stdout",
          "text": [
            "Performance: 0.89%\n"
          ]
        }
      ]
    },
    {
      "cell_type": "code",
      "source": [
        "print('Accuracy :',score[1])\n",
        "print('Loss :',score[0])"
      ],
      "metadata": {
        "id": "te_MobOrPVDc",
        "outputId": "c17fcaea-6dd7-476b-c6f9-4148a88cacd2",
        "colab": {
          "base_uri": "https://localhost:8080/"
        }
      },
      "execution_count": null,
      "outputs": [
        {
          "output_type": "stream",
          "name": "stdout",
          "text": [
            "Accuracy : 0.991100013256073\n",
            "Loss : 0.02503504790365696\n"
          ]
        }
      ]
    },
    {
      "cell_type": "markdown",
      "source": [],
      "metadata": {
        "id": "lXvSBqRcM1Kk"
      }
    }
  ]
}