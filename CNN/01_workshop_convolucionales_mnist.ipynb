{
  "nbformat": 4,
  "nbformat_minor": 0,
  "metadata": {
    "colab": {
      "name": "01_workshop_convolucionales_mnist.ipynb",
      "provenance": [],
      "collapsed_sections": [],
      "authorship_tag": "ABX9TyPaoj0D4XgSApFI2sjiHmFb",
      "include_colab_link": true
    },
    "kernelspec": {
      "name": "python3",
      "display_name": "Python 3"
    },
    "language_info": {
      "name": "python"
    },
    "accelerator": "GPU"
  },
  "cells": [
    {
      "cell_type": "markdown",
      "metadata": {
        "id": "view-in-github",
        "colab_type": "text"
      },
      "source": [
        "<a href=\"https://colab.research.google.com/github/Kaiziferr/Deep_Learning_Workshop/blob/master/CNN/01_workshop_convolucionales_mnist.ipynb\" target=\"_parent\"><img src=\"https://colab.research.google.com/assets/colab-badge.svg\" alt=\"Open In Colab\"/></a>"
      ]
    },
    {
      "cell_type": "code",
      "metadata": {
        "id": "8RuDsUR7o9KU"
      },
      "source": [
        "from keras.datasets import mnist\n",
        "from keras.models import Sequential\n",
        "from keras.layers import Dense, Dropout, Flatten\n",
        "from keras.layers.convolutional import Conv2D, MaxPooling2D\n",
        "from tensorflow.keras.utils import to_categorical"
      ],
      "execution_count": 10,
      "outputs": []
    },
    {
      "cell_type": "code",
      "metadata": {
        "colab": {
          "base_uri": "https://localhost:8080/"
        },
        "id": "yxLfedAEqId1",
        "outputId": "8fe92a1c-310d-46f2-9c9f-13ff82e17c5e"
      },
      "source": [
        "(X_train, y_train), (X_test, y_test) = mnist.load_data()"
      ],
      "execution_count": 2,
      "outputs": [
        {
          "output_type": "stream",
          "text": [
            "Downloading data from https://storage.googleapis.com/tensorflow/tf-keras-datasets/mnist.npz\n",
            "11493376/11490434 [==============================] - 0s 0us/step\n",
            "11501568/11490434 [==============================] - 0s 0us/step\n"
          ],
          "name": "stdout"
        }
      ]
    },
    {
      "cell_type": "code",
      "metadata": {
        "colab": {
          "base_uri": "https://localhost:8080/"
        },
        "id": "wlv8xFzKq73y",
        "outputId": "20a547c5-6c47-4cf0-b8f0-9d44d83b1865"
      },
      "source": [
        "X_train.shape"
      ],
      "execution_count": 3,
      "outputs": [
        {
          "output_type": "execute_result",
          "data": {
            "text/plain": [
              "(60000, 28, 28)"
            ]
          },
          "metadata": {
            "tags": []
          },
          "execution_count": 3
        }
      ]
    },
    {
      "cell_type": "code",
      "metadata": {
        "id": "TxtLou5zq_ta"
      },
      "source": [
        "#reshape to be sample with height channels\n",
        "X_train = X_train.reshape((X_train.shape[0], 28, 28,1)).astype('float32')\n",
        "X_test = X_test.reshape((X_test.shape[0], 28, 28, 1)).astype('float32')"
      ],
      "execution_count": 4,
      "outputs": []
    },
    {
      "cell_type": "code",
      "metadata": {
        "colab": {
          "base_uri": "https://localhost:8080/"
        },
        "id": "u4d5iYjHrr9l",
        "outputId": "cf6c294c-b1f9-4c57-85a2-6e886d7a1808"
      },
      "source": [
        "X_test.shape"
      ],
      "execution_count": 5,
      "outputs": [
        {
          "output_type": "execute_result",
          "data": {
            "text/plain": [
              "(10000, 28, 28, 1)"
            ]
          },
          "metadata": {
            "tags": []
          },
          "execution_count": 5
        }
      ]
    },
    {
      "cell_type": "code",
      "metadata": {
        "id": "OxOgqQYcr0K9"
      },
      "source": [
        "#Normalize\n",
        "X_train = X_train/255\n",
        "X_test = X_test/255"
      ],
      "execution_count": 6,
      "outputs": []
    },
    {
      "cell_type": "code",
      "metadata": {
        "id": "TsUZ2CLss0ws"
      },
      "source": [
        "#oncode\n",
        "y_train = to_categorical(y_train)\n",
        "y_test = to_categorical(y_test)"
      ],
      "execution_count": 7,
      "outputs": []
    },
    {
      "cell_type": "code",
      "metadata": {
        "id": "8n9tmD423v9g"
      },
      "source": [
        "num_clases = y_test.shape[1]"
      ],
      "execution_count": 8,
      "outputs": []
    },
    {
      "cell_type": "markdown",
      "metadata": {
        "id": "UBMAT5vk4G1b"
      },
      "source": [
        "Arquitectura\n",
        "\n",
        "1. Primera capa oculta: capa convolucional Conv2D\n",
        "\n",
        "  - Tiene 32 mapas de caracteristicas, con un tamaño de $5*5$ y una función de activación ReLu\n",
        "Capa Pooling MaxPooling2D\n",
        "\n",
        "2. Tamaño de pacht de $2 * 2$\n",
        "  -Capa de regularización Dropout\n",
        "3. Capa Flatten para conversión de la matriz2D en un vector\n",
        "4. Capa Dense con 128 neuronas y la función de activación ReLu\n",
        "5. Capa de salida con 10 neuronas para las 10 clases y una función de activación Softmax\n",
        "6. La compilación con ADAM, perdidad loogaritmica y accuracy"
      ]
    },
    {
      "cell_type": "code",
      "metadata": {
        "id": "6JZ6KX8Q6aff"
      },
      "source": [
        "def model_base():\n",
        "  model = Sequential()\n",
        "  model.add(Conv2D(32, (5,5), input_shape = (28,28,1), activation='relu'))\n",
        "  model.add(MaxPooling2D())\n",
        "  model.add(Dropout(0.2))\n",
        "  model.add(Flatten())\n",
        "  model.add(Dense(128, activation='relu'))\n",
        "  model.add(Dense(10, activation='softmax'))\n",
        "  model.compile(loss = 'categorical_crossentropy', optimizer='adam', metrics = ['accuracy'])\n",
        "  return model"
      ],
      "execution_count": 11,
      "outputs": []
    },
    {
      "cell_type": "code",
      "metadata": {
        "colab": {
          "base_uri": "https://localhost:8080/"
        },
        "id": "DD2-k_ku8Ssx",
        "outputId": "6d521843-3924-4b10-cc8f-1adac935f1b2"
      },
      "source": [
        "y_train.shape"
      ],
      "execution_count": 12,
      "outputs": [
        {
          "output_type": "execute_result",
          "data": {
            "text/plain": [
              "(60000, 10)"
            ]
          },
          "metadata": {
            "tags": []
          },
          "execution_count": 12
        }
      ]
    },
    {
      "cell_type": "code",
      "metadata": {
        "id": "Dv_eJyoS8T-O"
      },
      "source": [
        "model = model_base()"
      ],
      "execution_count": 13,
      "outputs": []
    },
    {
      "cell_type": "code",
      "metadata": {
        "colab": {
          "base_uri": "https://localhost:8080/"
        },
        "id": "tCUBVH8x8Y0X",
        "outputId": "b8716ee5-d123-496b-bca1-6dd6824eec57"
      },
      "source": [
        "model.fit(X_train, y_train, validation_data=(X_test, y_test), epochs=10, batch_size=200)"
      ],
      "execution_count": 14,
      "outputs": [
        {
          "output_type": "stream",
          "text": [
            "Epoch 1/10\n",
            "300/300 [==============================] - 46s 10ms/step - loss: 0.4918 - accuracy: 0.8627 - val_loss: 0.0783 - val_accuracy: 0.9769\n",
            "Epoch 2/10\n",
            "300/300 [==============================] - 2s 8ms/step - loss: 0.0766 - accuracy: 0.9764 - val_loss: 0.0497 - val_accuracy: 0.9845\n",
            "Epoch 3/10\n",
            "300/300 [==============================] - 2s 8ms/step - loss: 0.0546 - accuracy: 0.9833 - val_loss: 0.0399 - val_accuracy: 0.9869\n",
            "Epoch 4/10\n",
            "300/300 [==============================] - 2s 8ms/step - loss: 0.0394 - accuracy: 0.9876 - val_loss: 0.0362 - val_accuracy: 0.9875\n",
            "Epoch 5/10\n",
            "300/300 [==============================] - 2s 7ms/step - loss: 0.0309 - accuracy: 0.9903 - val_loss: 0.0357 - val_accuracy: 0.9884\n",
            "Epoch 6/10\n",
            "300/300 [==============================] - 2s 7ms/step - loss: 0.0290 - accuracy: 0.9905 - val_loss: 0.0369 - val_accuracy: 0.9875\n",
            "Epoch 7/10\n",
            "300/300 [==============================] - 2s 8ms/step - loss: 0.0207 - accuracy: 0.9934 - val_loss: 0.0316 - val_accuracy: 0.9898\n",
            "Epoch 8/10\n",
            "300/300 [==============================] - 2s 7ms/step - loss: 0.0189 - accuracy: 0.9942 - val_loss: 0.0324 - val_accuracy: 0.9892\n",
            "Epoch 9/10\n",
            "300/300 [==============================] - 2s 7ms/step - loss: 0.0135 - accuracy: 0.9959 - val_loss: 0.0359 - val_accuracy: 0.9897\n",
            "Epoch 10/10\n",
            "300/300 [==============================] - 2s 8ms/step - loss: 0.0140 - accuracy: 0.9959 - val_loss: 0.0324 - val_accuracy: 0.9884\n"
          ],
          "name": "stdout"
        },
        {
          "output_type": "execute_result",
          "data": {
            "text/plain": [
              "<keras.callbacks.History at 0x7f1290202c50>"
            ]
          },
          "metadata": {
            "tags": []
          },
          "execution_count": 14
        }
      ]
    },
    {
      "cell_type": "code",
      "metadata": {
        "colab": {
          "base_uri": "https://localhost:8080/"
        },
        "id": "vpl7yqr19JnP",
        "outputId": "4f27ba89-a50c-43ee-dca9-122258db7199"
      },
      "source": [
        "score = model.evaluate(X_test, y_test, verbose=0)\n",
        "print(\"Error de la CNN: %.2f%%\" % (100-score[1]*100))"
      ],
      "execution_count": 20,
      "outputs": [
        {
          "output_type": "stream",
          "text": [
            "Error de la CNN: 1.16%\n"
          ],
          "name": "stdout"
        }
      ]
    },
    {
      "cell_type": "code",
      "metadata": {
        "colab": {
          "base_uri": "https://localhost:8080/"
        },
        "id": "9AvH9q039hlI",
        "outputId": "6235d334-cc15-4c37-d71a-d8e23d73d548"
      },
      "source": [
        "print('Accuracy :',score[1])\n",
        "print('Loss :',score[0])"
      ],
      "execution_count": 21,
      "outputs": [
        {
          "output_type": "stream",
          "text": [
            "Accuracy : 0.9883999824523926\n",
            "Loss : 0.03244349732995033\n"
          ],
          "name": "stdout"
        }
      ]
    },
    {
      "cell_type": "markdown",
      "metadata": {
        "id": "wBl9Jd05-UXW"
      },
      "source": [
        "# CNN más profunda"
      ]
    },
    {
      "cell_type": "code",
      "metadata": {
        "id": "Rxe5duu4-ZCX"
      },
      "source": [
        "def model_deep():\n",
        "  model = Sequential()\n",
        "  model.add(Conv2D(30, (5,5), input_shape=(28,28,1), activation='relu'))\n",
        "  model.add(MaxPooling2D())\n",
        "  model.add(Conv2D(15, (2,2), activation='relu'))\n",
        "  model.add(MaxPooling2D())\n",
        "  model.add(Dropout(0.2))\n",
        "  model.add(Flatten())\n",
        "  model.add(Dense(128, activation='relu'))\n",
        "  model.add(Dense(50, activation='relu'))\n",
        "  model.add(Dense(10, activation='softmax'))\n",
        "  model.compile(loss='categorical_crossentropy', optimizer='adam', metrics=['accuracy'])\n",
        "  return model"
      ],
      "execution_count": 22,
      "outputs": []
    },
    {
      "cell_type": "code",
      "metadata": {
        "colab": {
          "base_uri": "https://localhost:8080/"
        },
        "id": "xokgIcnLAZca",
        "outputId": "22d1393d-aeb3-4eba-8782-2f1d5f0a99d5"
      },
      "source": [
        "model = model_deep()\n",
        "model.fit(X_train, y_train, validation_data=(X_test, y_test), epochs=10, batch_size=200)"
      ],
      "execution_count": 23,
      "outputs": [
        {
          "output_type": "stream",
          "text": [
            "Epoch 1/10\n",
            "300/300 [==============================] - 4s 10ms/step - loss: 0.8737 - accuracy: 0.7248 - val_loss: 0.0847 - val_accuracy: 0.9740\n",
            "Epoch 2/10\n",
            "300/300 [==============================] - 3s 9ms/step - loss: 0.1136 - accuracy: 0.9654 - val_loss: 0.0569 - val_accuracy: 0.9810\n",
            "Epoch 3/10\n",
            "300/300 [==============================] - 2s 8ms/step - loss: 0.0815 - accuracy: 0.9751 - val_loss: 0.0432 - val_accuracy: 0.9864\n",
            "Epoch 4/10\n",
            "300/300 [==============================] - 3s 9ms/step - loss: 0.0638 - accuracy: 0.9794 - val_loss: 0.0451 - val_accuracy: 0.9846\n",
            "Epoch 5/10\n",
            "300/300 [==============================] - 2s 8ms/step - loss: 0.0583 - accuracy: 0.9823 - val_loss: 0.0304 - val_accuracy: 0.9904\n",
            "Epoch 6/10\n",
            "300/300 [==============================] - 3s 8ms/step - loss: 0.0479 - accuracy: 0.9850 - val_loss: 0.0355 - val_accuracy: 0.9892\n",
            "Epoch 7/10\n",
            "300/300 [==============================] - 3s 8ms/step - loss: 0.0461 - accuracy: 0.9864 - val_loss: 0.0270 - val_accuracy: 0.9913\n",
            "Epoch 8/10\n",
            "300/300 [==============================] - 2s 8ms/step - loss: 0.0387 - accuracy: 0.9874 - val_loss: 0.0287 - val_accuracy: 0.9910\n",
            "Epoch 9/10\n",
            "300/300 [==============================] - 3s 8ms/step - loss: 0.0349 - accuracy: 0.9889 - val_loss: 0.0269 - val_accuracy: 0.9909\n",
            "Epoch 10/10\n",
            "300/300 [==============================] - 2s 8ms/step - loss: 0.0330 - accuracy: 0.9893 - val_loss: 0.0252 - val_accuracy: 0.9919\n"
          ],
          "name": "stdout"
        },
        {
          "output_type": "execute_result",
          "data": {
            "text/plain": [
              "<keras.callbacks.History at 0x7f124dce59d0>"
            ]
          },
          "metadata": {
            "tags": []
          },
          "execution_count": 23
        }
      ]
    },
    {
      "cell_type": "code",
      "metadata": {
        "colab": {
          "base_uri": "https://localhost:8080/"
        },
        "id": "oHyVPYZtBs2E",
        "outputId": "459c061f-0026-48ab-c01f-8dfd533efc17"
      },
      "source": [
        "score = model.evaluate(X_test, y_test, verbose=0)\n",
        "print(\"Error de la CNN profundo: %.2f%%\" % (100-score[1]*100))"
      ],
      "execution_count": 24,
      "outputs": [
        {
          "output_type": "stream",
          "text": [
            "Error de la CNN profundo: 0.81%\n"
          ],
          "name": "stdout"
        }
      ]
    },
    {
      "cell_type": "code",
      "metadata": {
        "colab": {
          "base_uri": "https://localhost:8080/"
        },
        "id": "1MOdeR62CLug",
        "outputId": "7cd1ed57-8550-404b-a7bd-7d0a48768593"
      },
      "source": [
        "print('Accuracy :',score[1])\n",
        "print('Loss :',score[0])"
      ],
      "execution_count": 25,
      "outputs": [
        {
          "output_type": "stream",
          "text": [
            "Accuracy : 0.9919000267982483\n",
            "Loss : 0.025170307606458664\n"
          ],
          "name": "stdout"
        }
      ]
    }
  ]
}