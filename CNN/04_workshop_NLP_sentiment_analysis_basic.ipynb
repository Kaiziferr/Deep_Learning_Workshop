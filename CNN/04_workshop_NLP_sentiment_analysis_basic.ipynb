{
  "nbformat": 4,
  "nbformat_minor": 0,
  "metadata": {
    "colab": {
      "name": "04_workshop_NLP_sentiment_analysis_basic.ipynb",
      "provenance": [],
      "authorship_tag": "ABX9TyMOgoi0p0v//Zfe68ZLeJ3H",
      "include_colab_link": true
    },
    "kernelspec": {
      "name": "python3",
      "display_name": "Python 3"
    },
    "language_info": {
      "name": "python"
    },
    "accelerator": "GPU"
  },
  "cells": [
    {
      "cell_type": "markdown",
      "metadata": {
        "id": "view-in-github",
        "colab_type": "text"
      },
      "source": [
        "<a href=\"https://colab.research.google.com/github/Kaiziferr/Deep_Learning_Workshop/blob/master/CNN/04_workshop_NLP_sentiment_analysis_basic.ipynb\" target=\"_parent\"><img src=\"https://colab.research.google.com/assets/colab-badge.svg\" alt=\"Open In Colab\"/></a>"
      ]
    },
    {
      "cell_type": "code",
      "metadata": {
        "id": "YP91oHRdLzvk"
      },
      "source": [
        "from keras.datasets import imdb\n",
        "\n",
        "from keras.models import Sequential\n",
        "from keras.layers import Dense, Dropout, Flatten\n",
        "from keras.layers.embeddings import Embedding\n",
        "from keras.preprocessing import sequence\n",
        "from keras.layers.convolutional import Conv1D, MaxPooling1D\n",
        "from keras.constraints import maxnorm\n",
        "from keras.optimizers import SGD\n",
        "from keras.utils import np_utils\n",
        "from tensorflow.keras.utils import to_categorical\n",
        "import matplotlib.pyplot as plt\n",
        "import numpy as np"
      ],
      "execution_count": 16,
      "outputs": []
    },
    {
      "cell_type": "markdown",
      "metadata": {
        "id": "58FNeYjgN5PB"
      },
      "source": [
        ""
      ]
    },
    {
      "cell_type": "code",
      "metadata": {
        "colab": {
          "base_uri": "https://localhost:8080/"
        },
        "id": "JUW1VFZYNafh",
        "outputId": "0166849d-9c50-4a9e-a058-0682ece6c1c5"
      },
      "source": [
        "#load the dataset\n",
        "(X_train, y_train), (X_test, y_test) = imdb.load_data()"
      ],
      "execution_count": 2,
      "outputs": [
        {
          "output_type": "stream",
          "text": [
            "Downloading data from https://storage.googleapis.com/tensorflow/tf-keras-datasets/imdb.npz\n",
            "17465344/17464789 [==============================] - 0s 0us/step\n",
            "17473536/17464789 [==============================] - 0s 0us/step\n"
          ],
          "name": "stdout"
        },
        {
          "output_type": "stream",
          "text": [
            "<string>:6: VisibleDeprecationWarning: Creating an ndarray from ragged nested sequences (which is a list-or-tuple of lists-or-tuples-or ndarrays with different lengths or shapes) is deprecated. If you meant to do this, you must specify 'dtype=object' when creating the ndarray\n",
            "/usr/local/lib/python3.7/dist-packages/keras/datasets/imdb.py:155: VisibleDeprecationWarning: Creating an ndarray from ragged nested sequences (which is a list-or-tuple of lists-or-tuples-or ndarrays with different lengths or shapes) is deprecated. If you meant to do this, you must specify 'dtype=object' when creating the ndarray\n",
            "  x_train, y_train = np.array(xs[:idx]), np.array(labels[:idx])\n",
            "/usr/local/lib/python3.7/dist-packages/keras/datasets/imdb.py:156: VisibleDeprecationWarning: Creating an ndarray from ragged nested sequences (which is a list-or-tuple of lists-or-tuples-or ndarrays with different lengths or shapes) is deprecated. If you meant to do this, you must specify 'dtype=object' when creating the ndarray\n",
            "  x_test, y_test = np.array(xs[idx:]), np.array(labels[idx:])\n"
          ],
          "name": "stderr"
        }
      ]
    },
    {
      "cell_type": "code",
      "metadata": {
        "id": "lJAj4U87PFtJ"
      },
      "source": [
        "# Se une la validacion de los datos\n",
        "X = np.concatenate((X_train, X_test), axis = 0)\n",
        "y = np.concatenate((y_train, y_test), axis = 0)"
      ],
      "execution_count": 3,
      "outputs": []
    },
    {
      "cell_type": "code",
      "metadata": {
        "colab": {
          "base_uri": "https://localhost:8080/"
        },
        "id": "8rYEpNwSPiJj",
        "outputId": "f3ba87b2-fb82-413e-84d4-c958e1d30718"
      },
      "source": [
        "np.unique(y)"
      ],
      "execution_count": 4,
      "outputs": [
        {
          "output_type": "execute_result",
          "data": {
            "text/plain": [
              "array([0, 1])"
            ]
          },
          "metadata": {
            "tags": []
          },
          "execution_count": 4
        }
      ]
    },
    {
      "cell_type": "code",
      "metadata": {
        "colab": {
          "base_uri": "https://localhost:8080/"
        },
        "id": "kkVzP-bjP7H4",
        "outputId": "d43c8344-7f98-4679-da83-3dbea4aafaf6"
      },
      "source": [
        "#Palabras unicas\n",
        "print(len(np.unique(np.hstack(X))))"
      ],
      "execution_count": 5,
      "outputs": [
        {
          "output_type": "stream",
          "text": [
            "88585\n"
          ],
          "name": "stdout"
        }
      ]
    },
    {
      "cell_type": "code",
      "metadata": {
        "colab": {
          "base_uri": "https://localhost:8080/",
          "height": 374
        },
        "id": "jsPzm9A8QL7Y",
        "outputId": "efc33581-a5ea-4636-fd79-0a181bb30e96"
      },
      "source": [
        "result = [len(i) for i in X]\n",
        "print('Media de palabras: %.2f (%f)' % (np.mean(result), np.std(result)))\n",
        "plt.subplot(121)\n",
        "plt.boxplot(result)\n",
        "plt.subplot(122)\n",
        "plt.hist(result)"
      ],
      "execution_count": 6,
      "outputs": [
        {
          "output_type": "stream",
          "text": [
            "Media de palabras: 234.76 (172.911495)\n"
          ],
          "name": "stdout"
        },
        {
          "output_type": "execute_result",
          "data": {
            "text/plain": [
              "(array([3.5259e+04, 1.0799e+04, 2.7610e+03, 1.0160e+03, 1.4500e+02,\n",
              "        8.0000e+00, 6.0000e+00, 2.0000e+00, 2.0000e+00, 2.0000e+00]),\n",
              " array([   7. ,  255.7,  504.4,  753.1, 1001.8, 1250.5, 1499.2, 1747.9,\n",
              "        1996.6, 2245.3, 2494. ]),\n",
              " <a list of 10 Patch objects>)"
            ]
          },
          "metadata": {
            "tags": []
          },
          "execution_count": 6
        },
        {
          "output_type": "display_data",
          "data": {
            "image/png": "[encoded data removed]",
            "text/plain": [
              "<Figure size 432x288 with 2 Axes>"
            ]
          },
          "metadata": {
            "tags": [],
            "needs_background": "light"
          }
        }
      ]
    },
    {
      "cell_type": "markdown",
      "metadata": {
        "id": "BhCSYHG_Vfnx"
      },
      "source": [
        "# Incrustar palabras\n",
        "- Se trata de una técnica en la que las palabras se codifican con vectores de valor real en un espacio de alta dimensión, donde la similitud entre palabras en términos de significado se traduce en cercanía en el espacio vectorial.\n",
        "\n",
        "- Las palabras discretas se asignan a vectores de números continuos\n",
        "\n",
        "Keras proporciona una forma conveniente de convertir representaciones enteras positivas de palabras en una incrustación de palabras mediante una capa Embedding que toma argumento que:\n",
        "\n",
        "- Define el mapeo, incluido el número máximo de palabras esperadas, también llamado tamaño vocabulario\n",
        "- También le permite especificar la dimensionalidad de cada vector de palabra, denominada dimension de salida\n",
        "\n",
        "Supongamos que solo nos interesan las primeras 5000 palabras más utilizadas en el conjunto de datos. Por lo tanto:\n",
        "\n",
        "- El tamaño sera 5000\n",
        "- El vector de 32 dimensiones para representar cada palabra\n",
        "- Se puede optar por limitar la extension maxima de la reseña a 500, truncando la reseña mas larga y rellenando las reseñas mas corta con valores 0"
      ]
    },
    {
      "cell_type": "code",
      "metadata": {
        "colab": {
          "base_uri": "https://localhost:8080/"
        },
        "id": "8Ls0TuHKg9hu",
        "outputId": "37009858-649c-4095-f2be-f7f500fb2ab0"
      },
      "source": [
        "vocab = 5000\n",
        "(X_train, y_train), (X_test, y_test) = imdb.load_data(num_words=vocab)"
      ],
      "execution_count": 7,
      "outputs": [
        {
          "output_type": "stream",
          "text": [
            "<string>:6: VisibleDeprecationWarning: Creating an ndarray from ragged nested sequences (which is a list-or-tuple of lists-or-tuples-or ndarrays with different lengths or shapes) is deprecated. If you meant to do this, you must specify 'dtype=object' when creating the ndarray\n",
            "/usr/local/lib/python3.7/dist-packages/keras/datasets/imdb.py:155: VisibleDeprecationWarning: Creating an ndarray from ragged nested sequences (which is a list-or-tuple of lists-or-tuples-or ndarrays with different lengths or shapes) is deprecated. If you meant to do this, you must specify 'dtype=object' when creating the ndarray\n",
            "  x_train, y_train = np.array(xs[:idx]), np.array(labels[:idx])\n",
            "/usr/local/lib/python3.7/dist-packages/keras/datasets/imdb.py:156: VisibleDeprecationWarning: Creating an ndarray from ragged nested sequences (which is a list-or-tuple of lists-or-tuples-or ndarrays with different lengths or shapes) is deprecated. If you meant to do this, you must specify 'dtype=object' when creating the ndarray\n",
            "  x_test, y_test = np.array(xs[idx:]), np.array(labels[idx:])\n"
          ],
          "name": "stderr"
        }
      ]
    },
    {
      "cell_type": "code",
      "metadata": {
        "id": "zPNPc82cvAsg"
      },
      "source": [
        "#Limitar las reseñas a 500 palabras\n",
        "max_words = 500\n",
        "X_train = sequence.pad_sequences(X_train, maxlen=max_words)\n",
        "X_test = sequence.pad_sequences(X_test, maxlen=max_words)"
      ],
      "execution_count": 8,
      "outputs": []
    },
    {
      "cell_type": "markdown",
      "metadata": {
        "id": "PX-YBVUqxZNM"
      },
      "source": [
        "#Diseño del modelo\n",
        "1. Capa Embedding como entrada, estableciendo el vocabulario en 5000, el tamaño del vector de la palabra en 32 dimensiones y la longitud de entrada en 500\n",
        "2. La salida de esta primera capa sera una matriz de tamaño 32x500\n",
        "3. Capa Flatten para la salida de las capas embedding a una dimensión\n",
        "4. Capa oculta densa de 250 neuronas con una función de activación ReLu\n",
        "5. La capa de salida tiene 1 neurona con una activación sigmoidea para generar valore de 0 y 1\n",
        "6. Funciones de perdida logaritmica y se optimiza mediante ADAM"
      ]
    },
    {
      "cell_type": "code",
      "metadata": {
        "colab": {
          "base_uri": "https://localhost:8080/"
        },
        "id": "gTD3KwHfycx2",
        "outputId": "b4628adb-5593-46e7-a7c2-869ce1a355ac"
      },
      "source": [
        "model = Sequential()\n",
        "model.add(Embedding(vocab, 32, input_length=max_words))\n",
        "model.add(Flatten())\n",
        "model.add(Dense(250, activation='relu'))\n",
        "model.add(Dense(1, activation='sigmoid'))\n",
        "\n",
        "model.compile(loss='binary_crossentropy', optimizer='adam', metrics = ['accuracy'])\n",
        "model.summary()"
      ],
      "execution_count": 9,
      "outputs": [
        {
          "output_type": "stream",
          "text": [
            "Model: \"sequential\"\n",
            "_________________________________________________________________\n",
            "Layer (type)                 Output Shape              Param #   \n",
            "=================================================================\n",
            "embedding (Embedding)        (None, 500, 32)           160000    \n",
            "_________________________________________________________________\n",
            "flatten (Flatten)            (None, 16000)             0         \n",
            "_________________________________________________________________\n",
            "dense (Dense)                (None, 250)               4000250   \n",
            "_________________________________________________________________\n",
            "dense_1 (Dense)              (None, 1)                 251       \n",
            "=================================================================\n",
            "Total params: 4,160,501\n",
            "Trainable params: 4,160,501\n",
            "Non-trainable params: 0\n",
            "_________________________________________________________________\n"
          ],
          "name": "stdout"
        }
      ]
    },
    {
      "cell_type": "code",
      "metadata": {
        "colab": {
          "base_uri": "https://localhost:8080/"
        },
        "id": "TvnvLKSb0fFr",
        "outputId": "166a4f99-6d7a-43af-9f81-5c53c3abb65d"
      },
      "source": [
        "model.fit(X_train, y_train, validation_data=(X_test, y_test), epochs=2, batch_size=128, verbose=2)"
      ],
      "execution_count": 10,
      "outputs": [
        {
          "output_type": "stream",
          "text": [
            "Epoch 1/2\n",
            "196/196 - 19s - loss: 0.4985 - accuracy: 0.7172 - val_loss: 0.2962 - val_accuracy: 0.8765\n",
            "Epoch 2/2\n",
            "196/196 - 2s - loss: 0.1830 - accuracy: 0.9306 - val_loss: 0.3192 - val_accuracy: 0.8689\n"
          ],
          "name": "stdout"
        },
        {
          "output_type": "execute_result",
          "data": {
            "text/plain": [
              "<keras.callbacks.History at 0x7f89bfccc710>"
            ]
          },
          "metadata": {
            "tags": []
          },
          "execution_count": 10
        }
      ]
    },
    {
      "cell_type": "code",
      "metadata": {
        "id": "rVvasbLs02By",
        "outputId": "e0d8e5d8-601b-47ae-8ca9-7523cab4ae0b",
        "colab": {
          "base_uri": "https://localhost:8080/"
        }
      },
      "source": [
        "score = model.evaluate(X_test, y_test, verbose=0)\n",
        "print(\"MLP Accuracy: %.2f%%\" % (score[1]*100))"
      ],
      "execution_count": 15,
      "outputs": [
        {
          "output_type": "stream",
          "text": [
            "MLP Accuracy: 86.89%\n"
          ],
          "name": "stdout"
        }
      ]
    },
    {
      "cell_type": "markdown",
      "metadata": {
        "id": "GAOVFnyv42Pw"
      },
      "source": [
        "CNN\n",
        "1. Despues de la capa de entrada Embedding se inserta una capa Conv1D\n",
        "  - La capa convolucional tiene 32 mapas de caracteristicas y lee representaciones de palabras embebidas 3 elementos vectoriales de la palabra embebida a la vez\n",
        "2. Capa MaxPooling1D de 2x2"
      ]
    },
    {
      "cell_type": "code",
      "metadata": {
        "id": "1T_OvJxe4PUH",
        "outputId": "d731f3d3-a078-46f7-808d-e0508b0e0a2e",
        "colab": {
          "base_uri": "https://localhost:8080/"
        }
      },
      "source": [
        "model = Sequential()\n",
        "model.add(Embedding(vocab, 32, input_length=max_words))\n",
        "model.add(Conv1D(32, 3, padding='same', activation='relu'))\n",
        "model.add(MaxPooling1D())\n",
        "model.add(Flatten())\n",
        "model.add(Dense(250, activation='relu'))\n",
        "model.add(Dense(1, activation='sigmoid'))\n",
        "\n",
        "model.compile(loss='binary_crossentropy', optimizer='adam', metrics=['accuracy'])\n",
        "\n",
        "model.summary()\n",
        "\n"
      ],
      "execution_count": 17,
      "outputs": [
        {
          "output_type": "stream",
          "text": [
            "Model: \"sequential_1\"\n",
            "_________________________________________________________________\n",
            "Layer (type)                 Output Shape              Param #   \n",
            "=================================================================\n",
            "embedding_1 (Embedding)      (None, 500, 32)           160000    \n",
            "_________________________________________________________________\n",
            "conv1d (Conv1D)              (None, 500, 32)           3104      \n",
            "_________________________________________________________________\n",
            "max_pooling1d (MaxPooling1D) (None, 250, 32)           0         \n",
            "_________________________________________________________________\n",
            "flatten_1 (Flatten)          (None, 8000)              0         \n",
            "_________________________________________________________________\n",
            "dense_2 (Dense)              (None, 250)               2000250   \n",
            "_________________________________________________________________\n",
            "dense_3 (Dense)              (None, 1)                 251       \n",
            "=================================================================\n",
            "Total params: 2,163,605\n",
            "Trainable params: 2,163,605\n",
            "Non-trainable params: 0\n",
            "_________________________________________________________________\n"
          ],
          "name": "stdout"
        }
      ]
    },
    {
      "cell_type": "code",
      "metadata": {
        "id": "tYnBNzvO7DPP",
        "outputId": "ae9e442c-d3fc-4d68-c024-4a613a846285",
        "colab": {
          "base_uri": "https://localhost:8080/"
        }
      },
      "source": [
        "#Ajuste\n",
        "model.fit(X_train, y_train, validation_data=(X_test, y_test), epochs=2, batch_size=128, verbose=2)"
      ],
      "execution_count": 18,
      "outputs": [
        {
          "output_type": "stream",
          "text": [
            "Epoch 1/2\n",
            "196/196 - 33s - loss: 0.4564 - accuracy: 0.7552 - val_loss: 0.2941 - val_accuracy: 0.8758\n",
            "Epoch 2/2\n",
            "196/196 - 3s - loss: 0.2203 - accuracy: 0.9144 - val_loss: 0.2730 - val_accuracy: 0.8849\n"
          ],
          "name": "stdout"
        },
        {
          "output_type": "execute_result",
          "data": {
            "text/plain": [
              "<keras.callbacks.History at 0x7f89c2b4f890>"
            ]
          },
          "metadata": {
            "tags": []
          },
          "execution_count": 18
        }
      ]
    },
    {
      "cell_type": "code",
      "metadata": {
        "id": "41qVv7lZ7rh_",
        "outputId": "43d74744-b86d-4946-973f-7619b60ea441",
        "colab": {
          "base_uri": "https://localhost:8080/"
        }
      },
      "source": [
        "scores = model.evaluate(X_test, y_test, verbose=0)\n",
        "print(\"CNN Accuracy: %.2f%%\" % (score[1]*100))"
      ],
      "execution_count": 19,
      "outputs": [
        {
          "output_type": "stream",
          "text": [
            "CNN Accuracy: 86.89%\n"
          ],
          "name": "stdout"
        }
      ]
    }
  ]
}