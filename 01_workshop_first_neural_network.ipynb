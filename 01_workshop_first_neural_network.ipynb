{
  "nbformat": 4,
  "nbformat_minor": 0,
  "metadata": {
    "colab": {
      "name": "01_workshop_first_neural_network.ipynb",
      "provenance": [],
      "collapsed_sections": [],
      "authorship_tag": "ABX9TyNCOBmBCpHxK1nT63hT+ILO",
      "include_colab_link": true
    },
    "kernelspec": {
      "name": "python3",
      "display_name": "Python 3"
    },
    "language_info": {
      "name": "python"
    }
  },
  "cells": [
    {
      "cell_type": "markdown",
      "metadata": {
        "id": "view-in-github",
        "colab_type": "text"
      },
      "source": [
        "<a href=\"https://colab.research.google.com/github/Kaiziferr/Deep_Learning_Workshop/blob/master/01_workshop_first_neural_network.ipynb\" target=\"_parent\"><img src=\"https://colab.research.google.com/assets/colab-badge.svg\" alt=\"Open In Colab\"/></a>"
      ]
    },
    {
      "cell_type": "code",
      "metadata": {
        "id": "8sN7Pu0gD6RI"
      },
      "source": [
        "import pandas as pd\n",
        "import numpy as np"
      ],
      "execution_count": 1,
      "outputs": []
    },
    {
      "cell_type": "code",
      "metadata": {
        "id": "N7IpV1LxD_r-"
      },
      "source": [
        "#Load data\n",
        "data = pd.read_csv('https://raw.githubusercontent.com/Kaiziferr/Deep_Learning_Workshop/master/workshop_keras_sklearn_introduction/diabetes.csv')\n",
        "data_values = data.values"
      ],
      "execution_count": 2,
      "outputs": []
    },
    {
      "cell_type": "code",
      "metadata": {
        "id": "8OXYPtMIEV7k"
      },
      "source": [
        "#data split\n",
        "X = data_values[:,0:8]\n",
        "y = data_values[:,8]"
      ],
      "execution_count": 3,
      "outputs": []
    },
    {
      "cell_type": "markdown",
      "metadata": {
        "id": "iPlv9_lxEj0l"
      },
      "source": [
        "# Definir model\n",
        "\n",
        "- Modelo secuencial.\n",
        "- Se define neuronas y las funciones de activacion de la capas intermedias.\n",
        "- Definir la capa de salida y su funcion de activacion.\n",
        "\n",
        "  * Capa de entrada de 8 entradas.\n",
        "  * Capas ocultas de 12 neuronas (Funcion Relu) y 8 neuronas (Funcion Relu).     \n",
        "  * Capa salida(Funcion activacion sigmoidea)."
      ]
    },
    {
      "cell_type": "code",
      "metadata": {
        "id": "1iWm3kM5EqXp"
      },
      "source": [
        "from keras.models import Sequential\n",
        "from keras.layers import Dense"
      ],
      "execution_count": 4,
      "outputs": []
    },
    {
      "cell_type": "code",
      "metadata": {
        "id": "cbMGFTCgFD6g"
      },
      "source": [
        "model = Sequential()\n",
        "model.add(Dense(12, input_dim = 8, activation='relu'))\n",
        "model.add(Dense(8, activation='relu'))\n",
        "model.add(Dense(1, activation='sigmoid'))"
      ],
      "execution_count": 5,
      "outputs": []
    },
    {
      "cell_type": "markdown",
      "metadata": {
        "id": "aV8xZYdcGUMR"
      },
      "source": [
        "- Establecer la función de perdida, para optimizar los pesos de la red (pérdida algoritmica)\n",
        "- Establecer alguna metrica de evaluación\n",
        "- Gradiante descendente **ADAM**"
      ]
    },
    {
      "cell_type": "code",
      "metadata": {
        "id": "q18gl2VYFD1j"
      },
      "source": [
        "model.compile(loss='binary_crossentropy', optimizer='adam', metrics=['accuracy'])"
      ],
      "execution_count": 6,
      "outputs": []
    },
    {
      "cell_type": "markdown",
      "metadata": {
        "id": "oDxuWqJHHTlX"
      },
      "source": [
        "# Ajustar el modelo\n",
        "- Iteraciones son epocas, donde se reconfiguran los pesos acorde a la funcion de perdida\n",
        "- Tambien se establece el numero de instancia, antes de actualizar los pesos."
      ]
    },
    {
      "cell_type": "code",
      "metadata": {
        "colab": {
          "base_uri": "https://localhost:8080/"
        },
        "id": "PrC6FTOyFDpm",
        "outputId": "2ec98096-a359-43a9-8d53-59222cea6023"
      },
      "source": [
        "model.fit(X, y, epochs=150, batch_size=16, verbose=0)"
      ],
      "execution_count": 7,
      "outputs": [
        {
          "output_type": "execute_result",
          "data": {
            "text/plain": [
              "<tensorflow.python.keras.callbacks.History at 0x7fc3b3ba1ed0>"
            ]
          },
          "metadata": {
            "tags": []
          },
          "execution_count": 7
        }
      ]
    },
    {
      "cell_type": "markdown",
      "metadata": {
        "id": "RDsY6mGsIZpG"
      },
      "source": [
        "# Evaluar el modelo"
      ]
    },
    {
      "cell_type": "code",
      "metadata": {
        "colab": {
          "base_uri": "https://localhost:8080/"
        },
        "id": "RW9QviXcIdFQ",
        "outputId": "768493ff-ad89-4131-beec-9036464cb224"
      },
      "source": [
        "_, accuracy = model.evaluate(X,y)\n",
        "print('Accuracy: %.2f' % (accuracy*100))"
      ],
      "execution_count": 8,
      "outputs": [
        {
          "output_type": "stream",
          "text": [
            "24/24 [==============================] - 0s 2ms/step - loss: 0.4924 - accuracy: 0.7878\n",
            "Accuracy: 78.78\n"
          ],
          "name": "stdout"
        }
      ]
    },
    {
      "cell_type": "markdown",
      "metadata": {
        "id": "HzoPVeyyJCaJ"
      },
      "source": [
        "# Prediciones"
      ]
    },
    {
      "cell_type": "code",
      "metadata": {
        "id": "hTv3DWz8JHn_"
      },
      "source": [
        "predictions = (model.predict(X)>0.5).astype('int')"
      ],
      "execution_count": 9,
      "outputs": []
    },
    {
      "cell_type": "code",
      "metadata": {
        "colab": {
          "base_uri": "https://localhost:8080/"
        },
        "id": "Xg9HNPFqJYSV",
        "outputId": "06651f42-4a2a-46a5-ed83-67d47d81749e"
      },
      "source": [
        "for i in range(15):\n",
        "  print('%s --> %d (real %d)' % (X[i].tolist(), predictions[i], y[i]))"
      ],
      "execution_count": 10,
      "outputs": [
        {
          "output_type": "stream",
          "text": [
            "[6.0, 148.0, 72.0, 35.0, 0.0, 33.6, 0.627, 50.0] --> 1 (real 1)\n",
            "[1.0, 85.0, 66.0, 29.0, 0.0, 26.6, 0.35100000000000003, 31.0] --> 0 (real 0)\n",
            "[8.0, 183.0, 64.0, 0.0, 0.0, 23.3, 0.672, 32.0] --> 1 (real 1)\n",
            "[1.0, 89.0, 66.0, 23.0, 94.0, 28.1, 0.16699999999999998, 21.0] --> 0 (real 0)\n",
            "[0.0, 137.0, 40.0, 35.0, 168.0, 43.1, 2.2880000000000003, 33.0] --> 1 (real 1)\n",
            "[5.0, 116.0, 74.0, 0.0, 0.0, 25.6, 0.201, 30.0] --> 0 (real 0)\n",
            "[3.0, 78.0, 50.0, 32.0, 88.0, 31.0, 0.248, 26.0] --> 0 (real 1)\n",
            "[10.0, 115.0, 0.0, 0.0, 0.0, 35.3, 0.134, 29.0] --> 1 (real 0)\n",
            "[2.0, 197.0, 70.0, 45.0, 543.0, 30.5, 0.158, 53.0] --> 1 (real 1)\n",
            "[8.0, 125.0, 96.0, 0.0, 0.0, 0.0, 0.23199999999999998, 54.0] --> 0 (real 1)\n",
            "[4.0, 110.0, 92.0, 0.0, 0.0, 37.6, 0.191, 30.0] --> 0 (real 0)\n",
            "[10.0, 168.0, 74.0, 0.0, 0.0, 38.0, 0.537, 34.0] --> 1 (real 1)\n",
            "[10.0, 139.0, 80.0, 0.0, 0.0, 27.1, 1.4409999999999998, 57.0] --> 0 (real 0)\n",
            "[1.0, 189.0, 60.0, 23.0, 846.0, 30.1, 0.39799999999999996, 59.0] --> 1 (real 1)\n",
            "[5.0, 166.0, 72.0, 19.0, 175.0, 25.8, 0.5870000000000001, 51.0] --> 1 (real 1)\n"
          ],
          "name": "stdout"
        }
      ]
    }
  ]
}