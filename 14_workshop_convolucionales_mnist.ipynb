{
  "nbformat": 4,
  "nbformat_minor": 0,
  "metadata": {
    "colab": {
      "name": "14_workshop_convolucionales_mnist.ipynb",
      "provenance": [],
      "authorship_tag": "ABX9TyOJs0TOEDodkZ9bjL+fF00L",
      "include_colab_link": true
    },
    "kernelspec": {
      "name": "python3",
      "display_name": "Python 3"
    },
    "language_info": {
      "name": "python"
    },
    "accelerator": "GPU"
  },
  "cells": [
    {
      "cell_type": "markdown",
      "metadata": {
        "id": "view-in-github",
        "colab_type": "text"
      },
      "source": [
        "<a href=\"https://colab.research.google.com/github/Kaiziferr/Deep_Learning_Workshop/blob/master/14_workshop_convolucionales_mnist.ipynb\" target=\"_parent\"><img src=\"https://colab.research.google.com/assets/colab-badge.svg\" alt=\"Open In Colab\"/></a>"
      ]
    },
    {
      "cell_type": "code",
      "metadata": {
        "id": "piOCNNSbvW9B"
      },
      "source": [
        "from keras.datasets import mnist\n",
        "from keras.models import Sequential\n",
        "from keras.layers import Dense, Dropout, Flatten\n",
        "from keras.layers.convolutional import Conv2D, MaxPooling2D\n",
        "from keras.utils import to_categorical"
      ],
      "execution_count": 1,
      "outputs": []
    },
    {
      "cell_type": "code",
      "metadata": {
        "id": "SDtfhwLWv-D7"
      },
      "source": [
        "#load data\n",
        "(X_train, y_train), (X_test, y_test) = mnist.load_data()"
      ],
      "execution_count": 2,
      "outputs": []
    },
    {
      "cell_type": "code",
      "metadata": {
        "colab": {
          "base_uri": "https://localhost:8080/"
        },
        "id": "_4hyTIiTwsU2",
        "outputId": "29d52f09-8b05-4546-e521-63d58c46ef94"
      },
      "source": [
        "X_train.shape"
      ],
      "execution_count": 3,
      "outputs": [
        {
          "output_type": "execute_result",
          "data": {
            "text/plain": [
              "(60000, 28, 28)"
            ]
          },
          "metadata": {
            "tags": []
          },
          "execution_count": 3
        }
      ]
    },
    {
      "cell_type": "code",
      "metadata": {
        "id": "TKQU_FFnw17D"
      },
      "source": [
        "#reshape to be sample with height channels\n",
        "X_train = X_train.reshape((X_train.shape[0], 28, 28, 1)).astype('float32')\n",
        "X_test = X_test.reshape((X_test.shape[0], 28, 28, 1)).astype('float32') "
      ],
      "execution_count": 4,
      "outputs": []
    },
    {
      "cell_type": "code",
      "metadata": {
        "colab": {
          "base_uri": "https://localhost:8080/"
        },
        "id": "YeH1tWbxxZN2",
        "outputId": "026f290a-4100-486c-c99c-5786089a5789"
      },
      "source": [
        "X_test.shape"
      ],
      "execution_count": 5,
      "outputs": [
        {
          "output_type": "execute_result",
          "data": {
            "text/plain": [
              "(10000, 28, 28, 1)"
            ]
          },
          "metadata": {
            "tags": []
          },
          "execution_count": 5
        }
      ]
    },
    {
      "cell_type": "code",
      "metadata": {
        "id": "e094sko6xmh_"
      },
      "source": [
        "#normalize\n",
        "X_train = X_train / 255\n",
        "X_test = X_test / 255"
      ],
      "execution_count": 6,
      "outputs": []
    },
    {
      "cell_type": "code",
      "metadata": {
        "id": "FfJ7wCJ6x6HP"
      },
      "source": [
        "#onecode\n",
        "y_train = to_categorical(y_train)\n",
        "y_test = to_categorical(y_test)"
      ],
      "execution_count": 7,
      "outputs": []
    },
    {
      "cell_type": "code",
      "metadata": {
        "id": "drweR_-ByFKa"
      },
      "source": [
        "num_classes = y_test.shape[1]"
      ],
      "execution_count": 8,
      "outputs": []
    },
    {
      "cell_type": "markdown",
      "metadata": {
        "id": "T3K9cEWmyhmM"
      },
      "source": [
        "**Arquitectura**\n",
        "1. Primera capa oculta: capa convolucional Conv2D\n",
        "  - Tiene 32 mapas de caracteristicas, con un tamaño de $5*5$ y una función de activación ReLu\n",
        "\n",
        "2. Capa Pooling MaxPooling2D\n",
        "  - Tamaño de pacht de $2 * 2$\n",
        "3. Capa de regularización Dropout\n",
        "4. Capa Flatten para conversión de la matriz2D en un vector\n",
        "5. Capa Dense con 128 neuronas y la función de activación ReLu\n",
        "6. Capa de salida con 10 neuronas para las 10 clases y una función de activación **Softmax**\n",
        "7. La compilación con ADAM, perdidad loogaritmica y accuracy\n"
      ]
    },
    {
      "cell_type": "code",
      "metadata": {
        "id": "6llqfiFTyPAC"
      },
      "source": [
        "def model_base():\n",
        "  #Create model\n",
        "  model = Sequential()\n",
        "  model.add(Conv2D(32, (5,5), input_shape = (28,28,1), activation='relu'))\n",
        "  model.add(MaxPooling2D())\n",
        "  model.add(Dropout(0.2))\n",
        "  model.add(Flatten())\n",
        "  model.add(Dense(128, activation='relu'))\n",
        "  model.add(Dense(10, activation='softmax'))\n",
        "  model.compile(loss='categorical_crossentropy', optimizer='adam', metrics=['accuracy'])\n",
        "  return model"
      ],
      "execution_count": 9,
      "outputs": []
    },
    {
      "cell_type": "code",
      "metadata": {
        "colab": {
          "base_uri": "https://localhost:8080/"
        },
        "id": "QI5o2ZeM4bwo",
        "outputId": "938f4f79-5aca-48bd-c71d-3d08ac2adf14"
      },
      "source": [
        "y_train.shape"
      ],
      "execution_count": 10,
      "outputs": [
        {
          "output_type": "execute_result",
          "data": {
            "text/plain": [
              "(60000, 10)"
            ]
          },
          "metadata": {
            "tags": []
          },
          "execution_count": 10
        }
      ]
    },
    {
      "cell_type": "code",
      "metadata": {
        "colab": {
          "base_uri": "https://localhost:8080/"
        },
        "id": "SiYIgDsj3ZHc",
        "outputId": "4594a589-0c50-4265-bcbe-b6b1360ff962"
      },
      "source": [
        "#build model\n",
        "model = model_base()\n",
        "\n",
        "model.fit(X_train, y_train, validation_data=(X_test, y_test), epochs=10, batch_size=200)\n",
        "\n"
      ],
      "execution_count": 11,
      "outputs": [
        {
          "output_type": "stream",
          "text": [
            "Epoch 1/10\n",
            "300/300 [==============================] - 31s 6ms/step - loss: 0.5012 - accuracy: 0.8549 - val_loss: 0.0947 - val_accuracy: 0.9700\n",
            "Epoch 2/10\n",
            "300/300 [==============================] - 1s 5ms/step - loss: 0.0860 - accuracy: 0.9740 - val_loss: 0.0515 - val_accuracy: 0.9825\n",
            "Epoch 3/10\n",
            "300/300 [==============================] - 1s 5ms/step - loss: 0.0578 - accuracy: 0.9828 - val_loss: 0.0431 - val_accuracy: 0.9866\n",
            "Epoch 4/10\n",
            "300/300 [==============================] - 1s 5ms/step - loss: 0.0426 - accuracy: 0.9867 - val_loss: 0.0391 - val_accuracy: 0.9866\n",
            "Epoch 5/10\n",
            "300/300 [==============================] - 1s 5ms/step - loss: 0.0357 - accuracy: 0.9891 - val_loss: 0.0372 - val_accuracy: 0.9873\n",
            "Epoch 6/10\n",
            "300/300 [==============================] - 1s 5ms/step - loss: 0.0268 - accuracy: 0.9918 - val_loss: 0.0441 - val_accuracy: 0.9860\n",
            "Epoch 7/10\n",
            "300/300 [==============================] - 1s 5ms/step - loss: 0.0242 - accuracy: 0.9924 - val_loss: 0.0323 - val_accuracy: 0.9890\n",
            "Epoch 8/10\n",
            "300/300 [==============================] - 1s 5ms/step - loss: 0.0197 - accuracy: 0.9937 - val_loss: 0.0329 - val_accuracy: 0.9890\n",
            "Epoch 9/10\n",
            "300/300 [==============================] - 1s 5ms/step - loss: 0.0170 - accuracy: 0.9948 - val_loss: 0.0340 - val_accuracy: 0.9886\n",
            "Epoch 10/10\n",
            "300/300 [==============================] - 1s 5ms/step - loss: 0.0141 - accuracy: 0.9958 - val_loss: 0.0331 - val_accuracy: 0.9900\n"
          ],
          "name": "stdout"
        },
        {
          "output_type": "execute_result",
          "data": {
            "text/plain": [
              "<tensorflow.python.keras.callbacks.History at 0x7fb4bacdcc50>"
            ]
          },
          "metadata": {
            "tags": []
          },
          "execution_count": 11
        }
      ]
    },
    {
      "cell_type": "code",
      "metadata": {
        "colab": {
          "base_uri": "https://localhost:8080/"
        },
        "id": "5cXg6Sxb4HQK",
        "outputId": "26754b78-0ea2-4478-867d-a77ccc8566c1"
      },
      "source": [
        "\n",
        "score = model.evaluate(X_test, y_test, verbose=0)\n",
        "print(\"Error de la CNN: %.2f%%\" % (100-score[1]*100))"
      ],
      "execution_count": 12,
      "outputs": [
        {
          "output_type": "stream",
          "text": [
            "Error de la CNN: 1.00%\n"
          ],
          "name": "stdout"
        }
      ]
    },
    {
      "cell_type": "code",
      "metadata": {
        "colab": {
          "base_uri": "https://localhost:8080/"
        },
        "id": "sdRGiJm78gNw",
        "outputId": "7418ab40-aaba-4e29-8e0b-9eeedcdeb7f2"
      },
      "source": [
        "print('Accuracy :',score[1])\n",
        "print('Loss :',score[0])"
      ],
      "execution_count": 14,
      "outputs": [
        {
          "output_type": "stream",
          "text": [
            "Accuracy : 0.9900000095367432\n",
            "Loss : 0.033129286020994186\n"
          ],
          "name": "stdout"
        }
      ]
    },
    {
      "cell_type": "markdown",
      "metadata": {
        "id": "K3A57J5Z7PuZ"
      },
      "source": [
        "# CNN más profunda"
      ]
    },
    {
      "cell_type": "code",
      "metadata": {
        "id": "AKIovALJ7PF0"
      },
      "source": [
        "def model_deep():\n",
        "  model = Sequential()\n",
        "  model.add(Conv2D(30, (5,5), input_shape = (28,28,1), activation='relu'))\n",
        "  model.add(MaxPooling2D())\n",
        "  model.add(Conv2D(15, (2,2), activation='relu'))\n",
        "  model.add(MaxPooling2D())\n",
        "  model.add(Dropout(0.2))\n",
        "  model.add(Flatten())\n",
        "  model.add(Dense(128, activation='relu'))\n",
        "  model.add(Dense(50, activation='relu'))\n",
        "  model.add(Dense(10, activation='softmax'))\n",
        "  model.compile(loss='categorical_crossentropy', optimizer='adam', metrics=['accuracy'])\n",
        "  return model"
      ],
      "execution_count": 15,
      "outputs": []
    },
    {
      "cell_type": "code",
      "metadata": {
        "colab": {
          "base_uri": "https://localhost:8080/"
        },
        "id": "T6fjWrzq8HMP",
        "outputId": "ebbc359d-4518-493e-9c05-37359a3a77b4"
      },
      "source": [
        "model = model_deep()\n",
        "model.fit(X_train, y_train, validation_data=(X_test, y_test), epochs=10, batch_size=200)\n",
        "\n"
      ],
      "execution_count": 16,
      "outputs": [
        {
          "output_type": "stream",
          "text": [
            "Epoch 1/10\n",
            "300/300 [==============================] - 3s 6ms/step - loss: 0.9176 - accuracy: 0.7063 - val_loss: 0.0909 - val_accuracy: 0.9721\n",
            "Epoch 2/10\n",
            "300/300 [==============================] - 2s 5ms/step - loss: 0.1142 - accuracy: 0.9658 - val_loss: 0.0541 - val_accuracy: 0.9829\n",
            "Epoch 3/10\n",
            "300/300 [==============================] - 2s 5ms/step - loss: 0.0814 - accuracy: 0.9747 - val_loss: 0.0453 - val_accuracy: 0.9857\n",
            "Epoch 4/10\n",
            "300/300 [==============================] - 2s 5ms/step - loss: 0.0629 - accuracy: 0.9797 - val_loss: 0.0424 - val_accuracy: 0.9851\n",
            "Epoch 5/10\n",
            "300/300 [==============================] - 2s 5ms/step - loss: 0.0575 - accuracy: 0.9823 - val_loss: 0.0359 - val_accuracy: 0.9884\n",
            "Epoch 6/10\n",
            "300/300 [==============================] - 2s 5ms/step - loss: 0.0474 - accuracy: 0.9854 - val_loss: 0.0331 - val_accuracy: 0.9890\n",
            "Epoch 7/10\n",
            "300/300 [==============================] - 2s 5ms/step - loss: 0.0443 - accuracy: 0.9867 - val_loss: 0.0353 - val_accuracy: 0.9878\n",
            "Epoch 8/10\n",
            "300/300 [==============================] - 2s 5ms/step - loss: 0.0414 - accuracy: 0.9866 - val_loss: 0.0331 - val_accuracy: 0.9894\n",
            "Epoch 9/10\n",
            "300/300 [==============================] - 2s 5ms/step - loss: 0.0362 - accuracy: 0.9883 - val_loss: 0.0265 - val_accuracy: 0.9915\n",
            "Epoch 10/10\n",
            "300/300 [==============================] - 2s 5ms/step - loss: 0.0333 - accuracy: 0.9888 - val_loss: 0.0281 - val_accuracy: 0.9921\n"
          ],
          "name": "stdout"
        },
        {
          "output_type": "execute_result",
          "data": {
            "text/plain": [
              "<tensorflow.python.keras.callbacks.History at 0x7fb4a0225c10>"
            ]
          },
          "metadata": {
            "tags": []
          },
          "execution_count": 16
        }
      ]
    },
    {
      "cell_type": "code",
      "metadata": {
        "colab": {
          "base_uri": "https://localhost:8080/"
        },
        "id": "waQjJHn68c6h",
        "outputId": "d2fe2ec7-4f33-421f-ecb0-d24ec327ed56"
      },
      "source": [
        "score = model.evaluate(X_test, y_test, verbose=0)\n",
        "print(\"Error de la CNN profundo: %.2f%%\" % (100-score[1]*100))"
      ],
      "execution_count": 17,
      "outputs": [
        {
          "output_type": "stream",
          "text": [
            "Error de la CNN profundo: 0.79%\n"
          ],
          "name": "stdout"
        }
      ]
    },
    {
      "cell_type": "code",
      "metadata": {
        "colab": {
          "base_uri": "https://localhost:8080/"
        },
        "id": "UIj0qH9A8t8M",
        "outputId": "228dcddf-7546-423b-923f-f198be3191d7"
      },
      "source": [
        "print('Accuracy :',score[1])\n",
        "print('Loss :',score[0])"
      ],
      "execution_count": 18,
      "outputs": [
        {
          "output_type": "stream",
          "text": [
            "Accuracy : 0.9921000003814697\n",
            "Loss : 0.02806035429239273\n"
          ],
          "name": "stdout"
        }
      ]
    }
  ]
}