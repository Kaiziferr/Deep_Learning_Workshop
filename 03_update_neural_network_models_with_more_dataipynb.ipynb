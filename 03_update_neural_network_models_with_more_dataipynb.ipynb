{
  "nbformat": 4,
  "nbformat_minor": 0,
  "metadata": {
    "colab": {
      "name": "03_update_neural_network_models_with_more_dataipynb",
      "provenance": [],
      "authorship_tag": "ABX9TyPnhZzQr+QVI39fvr7uF9Qc",
      "include_colab_link": true
    },
    "kernelspec": {
      "name": "python3",
      "display_name": "Python 3"
    },
    "language_info": {
      "name": "python"
    }
  },
  "cells": [
    {
      "cell_type": "markdown",
      "metadata": {
        "id": "view-in-github",
        "colab_type": "text"
      },
      "source": [
        "<a href=\"https://colab.research.google.com/github/Kaiziferr/deep_learning/blob/master/03_update_neural_network_models_with_more_dataipynb.ipynb\" target=\"_parent\"><img src=\"https://colab.research.google.com/assets/colab-badge.svg\" alt=\"Open In Colab\"/></a>"
      ]
    },
    {
      "cell_type": "code",
      "execution_count": 24,
      "metadata": {
        "id": "3tfkT9NCFJnW"
      },
      "outputs": [],
      "source": [
        "import numpy as np\n",
        "from sklearn.datasets import make_classification\n",
        "from sklearn.model_selection import train_test_split\n",
        "from keras.models import Sequential\n",
        "from keras.layers import Dense\n",
        "from tensorflow.keras.optimizers import SGD"
      ]
    },
    {
      "cell_type": "markdown",
      "source": [
        "# **Actualización de un modelo de red neuronal solo en datos nuevos**\n",
        "---"
      ],
      "metadata": {
        "id": "YivLYF3DcgLt"
      }
    },
    {
      "cell_type": "markdown",
      "source": [
        "# **Data**"
      ],
      "metadata": {
        "id": "PqizTHSyaD9t"
      }
    },
    {
      "cell_type": "code",
      "source": [
        "X, y = make_classification(n_samples=1000, n_features=20, n_informative=15, n_redundant=5, random_state=1234)"
      ],
      "metadata": {
        "id": "iQRiBufXZ1Nd"
      },
      "execution_count": 6,
      "outputs": []
    },
    {
      "cell_type": "code",
      "source": [
        "n_feature = X.shape[1]"
      ],
      "metadata": {
        "id": "MRfqJwceaZk3"
      },
      "execution_count": 7,
      "outputs": []
    },
    {
      "cell_type": "markdown",
      "source": [
        "# **Split Data**\n",
        "---"
      ],
      "metadata": {
        "id": "snMkahoAakNN"
      }
    },
    {
      "cell_type": "code",
      "source": [
        "# Se genera dos conjuntos de datos para simular datos nuevos y antiguos, los cuales se usaran para entrenar el modelo\n",
        "X_old, X_new, y_old, y_new = train_test_split(X, y, test_size=0.50, random_state=1)"
      ],
      "metadata": {
        "id": "oFCN7oPlbPOe"
      },
      "execution_count": 10,
      "outputs": []
    },
    {
      "cell_type": "markdown",
      "source": [
        "# **Model**\n",
        "---"
      ],
      "metadata": {
        "id": "0yv0pe77cEcG"
      }
    },
    {
      "cell_type": "code",
      "source": [
        "model = Sequential()\n",
        "model.add(Dense(20, input_dim = n_feature, activation = 'relu', kernel_initializer = 'he_normal'))\n",
        "model.add(Dense(10, kernel_initializer='he_normal', activation='relu'))\n",
        "model.add(Dense(1, activation='sigmoid'))"
      ],
      "metadata": {
        "id": "px6wFYE0arnF"
      },
      "execution_count": 11,
      "outputs": []
    },
    {
      "cell_type": "code",
      "source": [
        "# Optimizador\n",
        "opt = SGD(learning_rate=0.01, momentum=0.9)"
      ],
      "metadata": {
        "id": "wGDdWmYxbOX9"
      },
      "execution_count": 12,
      "outputs": []
    },
    {
      "cell_type": "code",
      "source": [
        "model.compile(optimizer=opt, loss = 'binary_crossentropy')"
      ],
      "metadata": {
        "id": "4k-G6uvTcCOQ"
      },
      "execution_count": 13,
      "outputs": []
    },
    {
      "cell_type": "code",
      "source": [
        "model.fit(X_old, y_old, epochs=150, batch_size=32, verbose=0)"
      ],
      "metadata": {
        "colab": {
          "base_uri": "https://localhost:8080/"
        },
        "id": "eqrYdO79cOxl",
        "outputId": "cdbb7893-a6c1-4bea-8200-76badb70a458"
      },
      "execution_count": 14,
      "outputs": [
        {
          "output_type": "execute_result",
          "data": {
            "text/plain": [
              "<keras.callbacks.History at 0x7f5de18beed0>"
            ]
          },
          "metadata": {},
          "execution_count": 14
        }
      ]
    },
    {
      "cell_type": "code",
      "source": [
        "# Optimizador para los nuevos datos\n",
        "opt = SGD(learning_rate=0.001, momentum=0.9)"
      ],
      "metadata": {
        "id": "9zfKkgSqclTk"
      },
      "execution_count": 15,
      "outputs": []
    },
    {
      "cell_type": "code",
      "source": [
        "model.compile(optimizer=opt, loss='binary_crossentropy')"
      ],
      "metadata": {
        "id": "2kOaCdVpcxH1"
      },
      "execution_count": 16,
      "outputs": []
    },
    {
      "cell_type": "code",
      "source": [
        "model.fit(X_new, y_new, epochs=100, batch_size=32, verbose=0)"
      ],
      "metadata": {
        "colab": {
          "base_uri": "https://localhost:8080/"
        },
        "id": "YaAyoMLNc5BN",
        "outputId": "e8e6f8bc-b84c-4de2-a3b4-f2ac3a4d24d7"
      },
      "execution_count": 17,
      "outputs": [
        {
          "output_type": "execute_result",
          "data": {
            "text/plain": [
              "<keras.callbacks.History at 0x7f5ddbaf46d0>"
            ]
          },
          "metadata": {},
          "execution_count": 17
        }
      ]
    },
    {
      "cell_type": "markdown",
      "source": [
        "#**Actualizar modelo en datos antiguos y nuevos**\n",
        "---"
      ],
      "metadata": {
        "id": "-SZ-9J3-dRS1"
      }
    },
    {
      "cell_type": "code",
      "source": [
        "model = Sequential()\n",
        "model.add(Dense(20, kernel_initializer='he_normal', activation='relu', input_dim = n_feature))\n",
        "model.add(Dense(10, kernel_initializer='he_normal', activation='relu'))\n",
        "model.add(Dense(1, activation='sigmoid'))"
      ],
      "metadata": {
        "id": "PTHchfPedXlU"
      },
      "execution_count": 18,
      "outputs": []
    },
    {
      "cell_type": "code",
      "source": [
        "opt = SGD(learning_rate=0.01, momentum=0.9)"
      ],
      "metadata": {
        "id": "kpuLVhKRgOaG"
      },
      "execution_count": 19,
      "outputs": []
    },
    {
      "cell_type": "code",
      "source": [
        "model.compile(optimizer=opt, loss='binary_crossentropy')"
      ],
      "metadata": {
        "id": "rDUyzbsogX0F"
      },
      "execution_count": 20,
      "outputs": []
    },
    {
      "cell_type": "code",
      "source": [
        "model.fit(X_old, y_old, epochs = 150, batch_size=32, verbose=0)"
      ],
      "metadata": {
        "colab": {
          "base_uri": "https://localhost:8080/"
        },
        "id": "-uVb4mEZgeuV",
        "outputId": "1ec64bc4-8fba-46f3-9cec-5dd90cf2585c"
      },
      "execution_count": 21,
      "outputs": [
        {
          "output_type": "execute_result",
          "data": {
            "text/plain": [
              "<keras.callbacks.History at 0x7f5ddbaf44d0>"
            ]
          },
          "metadata": {},
          "execution_count": 21
        }
      ]
    },
    {
      "cell_type": "code",
      "source": [
        "# Optimizador para los nuevos datos\n",
        "opt = SGD(learning_rate=0.001, momentum=0.9)"
      ],
      "metadata": {
        "id": "WTzp7hchhH7V"
      },
      "execution_count": 22,
      "outputs": []
    },
    {
      "cell_type": "code",
      "source": [
        "model.compile(optimizer=opt, loss='binary_crossentropy')"
      ],
      "metadata": {
        "id": "wJfLddfxhSMF"
      },
      "execution_count": 23,
      "outputs": []
    },
    {
      "cell_type": "markdown",
      "source": [
        "## **Conjunto de datos compuestos**\n",
        "---"
      ],
      "metadata": {
        "id": "Txs26Fj8oazs"
      }
    },
    {
      "cell_type": "code",
      "source": [
        "X_both, y_both = np.vstack((X_old, X_new)), np.hstack((y_old, y_new))"
      ],
      "metadata": {
        "id": "G4ZT6TpaoaMV"
      },
      "execution_count": 26,
      "outputs": []
    },
    {
      "cell_type": "code",
      "source": [
        "model.fit(X_both, y_both, epochs=100, batch_size=32, verbose=0)"
      ],
      "metadata": {
        "colab": {
          "base_uri": "https://localhost:8080/"
        },
        "id": "KwQOv1EypQYH",
        "outputId": "7942b9c4-890b-4e94-9208-aad456f24f7d"
      },
      "execution_count": 27,
      "outputs": [
        {
          "output_type": "execute_result",
          "data": {
            "text/plain": [
              "<keras.callbacks.History at 0x7f5ddd034dd0>"
            ]
          },
          "metadata": {},
          "execution_count": 27
        }
      ]
    },
    {
      "cell_type": "markdown",
      "source": [
        "# **Estrategias de actualización de conjuntos**\n",
        "---"
      ],
      "metadata": {
        "id": "t3lCYkdopegt"
      }
    },
    {
      "cell_type": "markdown",
      "source": [
        "# **Modelo de conjunto con modelo solo en datos nuevos**\n",
        "---\n"
      ],
      "metadata": {
        "id": "sIM3lJ7BrUWt"
      }
    },
    {
      "cell_type": "code",
      "source": [
        "old_model = Sequential()\n",
        "old_model.add(Dense(20, kernel_initializer='he_normal', activation='relu', input_dim = n_feature))\n",
        "old_model.add(Dense(10, kernel_initializer='he_normal', activation='relu'))\n",
        "old_model.add(Dense(1, activation='sigmoid'))"
      ],
      "metadata": {
        "id": "6gDJ2MD6ph3N"
      },
      "execution_count": 28,
      "outputs": []
    },
    {
      "cell_type": "code",
      "source": [
        "opt = SGD(learning_rate=0.01, momentum=0.9)"
      ],
      "metadata": {
        "id": "QeaPzAVRsrc1"
      },
      "execution_count": 29,
      "outputs": []
    },
    {
      "cell_type": "code",
      "source": [
        "old_model.compile(optimizer=opt, loss='binary_crossentropy')"
      ],
      "metadata": {
        "id": "Ffw1l1ils6Nt"
      },
      "execution_count": 30,
      "outputs": []
    },
    {
      "cell_type": "code",
      "source": [
        "old_model.fit(X_old, y_old, epochs = 150, batch_size=32, verbose = 0)"
      ],
      "metadata": {
        "colab": {
          "base_uri": "https://localhost:8080/"
        },
        "id": "tdLdINEvxido",
        "outputId": "01c80a4b-1ff5-4217-d846-7046ffb4f5a7"
      },
      "execution_count": 32,
      "outputs": [
        {
          "output_type": "execute_result",
          "data": {
            "text/plain": [
              "<keras.callbacks.History at 0x7f5e64f11510>"
            ]
          },
          "metadata": {},
          "execution_count": 32
        }
      ]
    },
    {
      "cell_type": "code",
      "source": [
        "new_model = Sequential()\n",
        "new_model.add(Dense(20, kernel_initializer='he_normal', activation='relu', input_dim = n_feature))\n",
        "new_model.add(Dense(10, kernel_initializer='he_normal', activation='relu'))\n",
        "new_model.add(Dense(1, activation='sigmoid'))"
      ],
      "metadata": {
        "id": "R7wp8OC3x1-g"
      },
      "execution_count": 33,
      "outputs": []
    },
    {
      "cell_type": "code",
      "source": [
        "opt = SGD(learning_rate=0.01, momentum=0.9)"
      ],
      "metadata": {
        "id": "ArELLTGmx-vZ"
      },
      "execution_count": 34,
      "outputs": []
    },
    {
      "cell_type": "code",
      "source": [
        "new_model.compile(optimizer=opt, loss='binary_crossentropy')"
      ],
      "metadata": {
        "id": "JYYIBJu_yCHZ"
      },
      "execution_count": 35,
      "outputs": []
    },
    {
      "cell_type": "code",
      "source": [
        "new_model.fit(X_new, y_new, epochs=150, batch_size=32, verbose=0)"
      ],
      "metadata": {
        "colab": {
          "base_uri": "https://localhost:8080/"
        },
        "id": "0h-3zeuRyDkY",
        "outputId": "9cfeb626-f79a-4cee-98dc-8f05c1cc8401"
      },
      "execution_count": 36,
      "outputs": [
        {
          "output_type": "execute_result",
          "data": {
            "text/plain": [
              "<keras.callbacks.History at 0x7f5ddcd7a3d0>"
            ]
          },
          "metadata": {},
          "execution_count": 36
        }
      ]
    },
    {
      "cell_type": "code",
      "source": [
        "y_hat1 = old_model.predict(X_new)\n",
        "y_hat2 = new_model.predict(X_new)"
      ],
      "metadata": {
        "id": "Kibl7ycQyHcw"
      },
      "execution_count": 37,
      "outputs": []
    },
    {
      "cell_type": "code",
      "source": [
        "combined = np.hstack((y_hat1, y_hat2))"
      ],
      "metadata": {
        "id": "S_45Cbu0ymxp"
      },
      "execution_count": 39,
      "outputs": []
    },
    {
      "cell_type": "code",
      "source": [
        "yhat = np.mean(combined, axis=-1)\n",
        "yhat"
      ],
      "metadata": {
        "colab": {
          "base_uri": "https://localhost:8080/"
        },
        "id": "FVrsPYFIytax",
        "outputId": "e7f2ce39-5a58-4bb3-8eee-c91f848df30b"
      },
      "execution_count": 42,
      "outputs": [
        {
          "output_type": "execute_result",
          "data": {
            "text/plain": [
              "array([7.08149450e-09, 4.82638370e-06, 7.80663759e-05, 1.00000000e+00,\n",
              "       1.27999485e-03, 9.96917844e-01, 9.99954462e-01, 1.00000000e+00,\n",
              "       3.52703600e-09, 1.43362254e-01, 1.00000000e+00, 9.85245347e-01,\n",
              "       1.18679320e-11, 9.99998450e-01, 1.42405824e-07, 1.00000000e+00,\n",
              "       4.93696064e-01, 2.92290642e-05, 4.22382618e-06, 2.46750307e-03,\n",
              "       7.34671858e-07, 7.39774317e-04, 9.95616674e-01, 4.49120998e-04,\n",
              "       2.85117153e-06, 7.25495047e-05, 1.00000000e+00, 1.07627983e-07,\n",
              "       1.00000000e+00, 1.00000000e+00, 3.60063568e-04, 4.86766683e-10,\n",
              "       3.65588903e-01, 9.98807549e-01, 9.99488950e-01, 7.66176439e-04,\n",
              "       9.99989092e-01, 5.07471919e-01, 8.87112379e-01, 2.70187855e-03,\n",
              "       1.55225655e-09, 1.01292960e-06, 1.00000000e+00, 1.33377395e-03,\n",
              "       2.67334570e-07, 9.99998033e-01, 1.02565787e-08, 1.00000000e+00,\n",
              "       9.86334205e-01, 4.99937057e-01, 9.99913812e-01, 2.31662346e-12,\n",
              "       9.60471690e-01, 2.83632725e-02, 8.10616434e-01, 3.77113938e-05,\n",
              "       4.46042564e-10, 1.00000000e+00, 9.99996483e-01, 1.07920617e-02,\n",
              "       6.23384714e-01, 9.99987602e-01, 4.49460424e-09, 1.00000000e+00,\n",
              "       6.74371725e-10, 6.12257111e-07, 7.76453763e-02, 1.87103609e-07,\n",
              "       1.07620099e-06, 5.97060309e-04, 1.00000000e+00, 9.99999523e-01,\n",
              "       2.49326200e-04, 1.00000000e+00, 3.25115572e-04, 4.97979939e-01,\n",
              "       1.00000000e+00, 1.57822768e-08, 5.33325791e-01, 9.99804020e-01,\n",
              "       9.99202073e-01, 2.21847991e-11, 1.00000000e+00, 1.80135698e-10,\n",
              "       5.20030454e-08, 9.97853637e-01, 2.39421497e-03, 9.99540150e-01,\n",
              "       9.69682932e-01, 1.24121990e-09, 1.00000000e+00, 1.00000000e+00,\n",
              "       9.85218167e-01, 5.85077623e-06, 5.06237030e-01, 5.14286330e-05,\n",
              "       8.42586160e-04, 1.00000000e+00, 1.30467117e-03, 1.00000000e+00,\n",
              "       1.00000000e+00, 1.00000000e+00, 1.34327049e-10, 1.00000000e+00,\n",
              "       1.00000000e+00, 3.12527865e-02, 1.00000000e+00, 6.00636471e-04,\n",
              "       9.99776006e-01, 1.53761516e-06, 8.72737646e-11, 4.07219981e-04,\n",
              "       9.99988914e-01, 9.99997675e-01, 6.45294309e-01, 1.00000000e+00,\n",
              "       5.33367798e-04, 1.00000000e+00, 9.99960184e-01, 1.00000000e+00,\n",
              "       1.00000000e+00, 1.00000000e+00, 9.99983072e-01, 5.02016544e-01,\n",
              "       9.99999702e-01, 1.68051645e-01, 1.00000000e+00, 8.94438472e-06,\n",
              "       9.99998868e-01, 1.00000000e+00, 3.66872186e-08, 9.99995947e-01,\n",
              "       9.99923229e-01, 3.49013499e-06, 2.74375971e-08, 1.00000000e+00,\n",
              "       9.99999881e-01, 9.98891830e-01, 4.76332009e-03, 9.99999285e-01,\n",
              "       9.97898221e-01, 1.08820108e-08, 3.01420926e-07, 5.91453292e-14,\n",
              "       1.00000000e+00, 2.97906180e-08, 1.00000000e+00, 1.10446036e-01,\n",
              "       1.05401874e-03, 3.52808115e-06, 1.00000000e+00, 1.00000000e+00,\n",
              "       2.75668937e-16, 9.99977171e-01, 9.99985218e-01, 2.60247588e-02,\n",
              "       1.00000000e+00, 9.88486223e-04, 9.99995232e-01, 9.99857545e-01,\n",
              "       9.99909639e-01, 4.88753431e-05, 9.99996781e-01, 9.96787548e-01,\n",
              "       1.00000000e+00, 2.95441926e-01, 9.63505268e-01, 9.99990344e-01,\n",
              "       8.62993875e-06, 5.52095436e-08, 1.46098324e-11, 5.78369645e-06,\n",
              "       2.74926042e-05, 1.00000000e+00, 1.28986481e-18, 1.00000000e+00,\n",
              "       2.52390169e-16, 1.00000000e+00, 1.33108450e-20, 9.99998093e-01,\n",
              "       1.30704790e-02, 2.44029716e-01, 8.76017332e-01, 1.00000000e+00,\n",
              "       1.00000000e+00, 9.99991179e-01, 1.00000000e+00, 1.88512548e-08,\n",
              "       9.99987483e-01, 5.12375882e-05, 1.00000000e+00, 7.43596247e-05,\n",
              "       4.02638172e-08, 1.00000000e+00, 9.99999821e-01, 1.77068040e-01,\n",
              "       9.99999285e-01, 9.94987726e-01, 1.00000000e+00, 1.00000000e+00,\n",
              "       8.34013861e-07, 9.88501668e-01, 6.90059504e-04, 9.99997735e-01,\n",
              "       1.00000000e+00, 9.94434536e-01, 2.77528889e-09, 5.00712276e-01,\n",
              "       2.07183643e-06, 2.30300930e-06, 5.73782017e-04, 9.98699307e-01,\n",
              "       1.00000000e+00, 5.08751333e-01, 9.99990702e-01, 1.18687514e-12,\n",
              "       7.33188412e-04, 4.77510359e-04, 1.91241503e-04, 9.99972105e-01,\n",
              "       9.56587076e-01, 5.18146574e-01, 1.00000000e+00, 9.70017727e-14,\n",
              "       1.00000000e+00, 1.39636837e-03, 4.28596758e-09, 2.04874738e-03,\n",
              "       1.65740932e-09, 5.20794272e-01, 1.00000000e+00, 4.41567316e-08,\n",
              "       6.47630712e-13, 1.00000000e+00, 6.77197218e-01, 9.99973655e-01,\n",
              "       3.79569991e-03, 3.84069252e-12, 1.00000000e+00, 1.76550188e-08,\n",
              "       9.99999762e-01, 1.09090506e-05, 1.29342382e-07, 9.98746991e-01,\n",
              "       1.00000000e+00, 1.10574067e-03, 9.99808371e-01, 1.86743438e-02,\n",
              "       6.29645586e-03, 1.00000000e+00, 2.10641592e-04, 5.46991825e-03,\n",
              "       7.08253682e-02, 9.92672205e-01, 1.00000000e+00, 6.07278943e-01,\n",
              "       9.99415159e-01, 9.82035041e-01, 7.20758080e-01, 4.26100194e-02,\n",
              "       9.40063477e-01, 9.87116098e-01, 1.38845498e-11, 3.50295304e-05,\n",
              "       6.07313097e-01, 6.02944340e-07, 2.31264335e-06, 9.99755859e-01,\n",
              "       5.47111869e-01, 9.99779820e-01, 9.99936461e-01, 6.22057868e-03,\n",
              "       4.55293048e-07, 5.57313323e-01, 4.94155198e-01, 9.97636557e-01,\n",
              "       9.88943852e-04, 1.18982873e-03, 2.70346551e-10, 2.71621502e-07,\n",
              "       1.67338058e-07, 4.61824946e-02, 3.45057899e-10, 1.25559768e-14,\n",
              "       9.99946713e-01, 2.39200890e-03, 6.94086663e-11, 2.81295389e-01,\n",
              "       1.90361581e-11, 9.97427940e-01, 9.99999285e-01, 9.99995947e-01,\n",
              "       3.50523487e-06, 1.00000000e+00, 9.99963045e-01, 1.21063853e-10,\n",
              "       1.48725724e-02, 9.99971271e-01, 9.99999523e-01, 9.52354550e-01,\n",
              "       9.98132825e-01, 9.99989510e-01, 9.99970555e-01, 9.44192767e-01,\n",
              "       3.30877128e-06, 8.26324672e-02, 9.99668062e-01, 3.25431645e-01,\n",
              "       7.43752499e-13, 9.99993503e-01, 2.03117728e-03, 1.92656822e-04,\n",
              "       2.11451187e-15, 1.85672641e-02, 9.47484612e-01, 8.30381737e-07,\n",
              "       2.25826376e-03, 1.04083038e-05, 4.16531693e-03, 1.42565256e-07,\n",
              "       1.70748581e-06, 4.97848809e-01, 9.99852121e-01, 9.99998808e-01,\n",
              "       1.06252715e-04, 9.99996841e-01, 4.62493888e-04, 9.99759436e-01,\n",
              "       2.32316554e-03, 9.95877385e-01, 3.26709519e-03, 4.12344784e-01,\n",
              "       1.67277312e-06, 9.99999881e-01, 1.00000000e+00, 9.99858141e-01,\n",
              "       5.06204665e-01, 9.99999881e-01, 7.39766359e-01, 6.68130273e-10,\n",
              "       2.44703369e-08, 9.99997795e-01, 1.61625445e-03, 1.00000000e+00,\n",
              "       9.31338012e-01, 9.99866903e-01, 1.00019157e-01, 1.61503383e-04,\n",
              "       7.11882464e-08, 4.98924583e-01, 1.89323202e-06, 5.00996590e-01,\n",
              "       5.00692368e-01, 1.00000000e+00, 5.68793439e-07, 9.99998748e-01,\n",
              "       1.00000000e+00, 3.21940490e-04, 2.15970566e-14, 9.99930859e-01,\n",
              "       1.43161856e-07, 9.99999642e-01, 1.12746877e-03, 2.42618995e-07,\n",
              "       9.97522950e-01, 4.88909524e-10, 1.01166409e-10, 2.20814800e-05,\n",
              "       8.78067397e-09, 5.16946435e-01, 4.21626400e-10, 5.80790953e-08,\n",
              "       5.03506780e-01, 1.00000000e+00, 2.14707097e-09, 1.69125646e-02,\n",
              "       1.42094709e-08, 9.98142898e-01, 1.00000000e+00, 1.40320237e-13,\n",
              "       8.15012463e-05, 1.00000000e+00, 1.66544105e-05, 9.54739288e-10,\n",
              "       6.24766550e-09, 3.31361452e-03, 3.50488238e-02, 4.41550394e-04,\n",
              "       7.17449478e-09, 1.00000000e+00, 1.28212785e-02, 9.99977112e-01,\n",
              "       8.27932581e-07, 1.39181361e-01, 3.44553639e-12, 4.53603525e-06,\n",
              "       9.99984980e-01, 1.00000000e+00, 1.04232231e-06, 4.51334108e-06,\n",
              "       1.35442406e-06, 1.00000000e+00, 1.00000000e+00, 9.99999881e-01,\n",
              "       2.55311273e-15, 1.03010589e-09, 9.99636769e-01, 9.99999642e-01,\n",
              "       2.47713619e-08, 2.49270094e-03, 4.79451358e-01, 1.00000000e+00,\n",
              "       4.39395194e-07, 4.95903790e-01, 3.49406200e-03, 1.71119268e-07,\n",
              "       1.00000000e+00, 1.00000000e+00, 1.22453514e-07, 1.00000000e+00,\n",
              "       9.99995351e-01, 7.25686550e-05, 9.99879062e-01, 1.00000000e+00,\n",
              "       1.00000000e+00, 3.60124614e-06, 2.82253241e-05, 5.82950413e-01,\n",
              "       9.83720303e-01, 9.99949098e-01, 1.00000000e+00, 1.25892606e-04,\n",
              "       9.58885789e-01, 9.84589133e-06, 9.99999881e-01, 9.98591781e-01,\n",
              "       1.00000000e+00, 1.71891152e-05, 2.64724195e-01, 2.29891661e-09,\n",
              "       9.62601916e-06, 4.79883343e-01, 2.80213007e-05, 9.91288304e-01,\n",
              "       1.00000000e+00, 9.99939442e-01, 9.99995828e-01, 9.99986410e-01,\n",
              "       1.00000000e+00, 4.99205619e-01, 1.23374304e-03, 7.54879352e-07,\n",
              "       9.99011755e-01, 8.93385053e-01, 1.00000000e+00, 9.99999642e-01,\n",
              "       4.60267067e-01, 9.99990582e-01, 1.00000000e+00, 7.87555021e-10,\n",
              "       9.99999285e-01, 4.20082188e-06, 2.46801243e-11, 9.77876961e-01,\n",
              "       1.00000000e+00, 7.97617316e-01, 9.06925652e-06, 9.99960899e-01,\n",
              "       1.00000000e+00, 9.84589577e-01, 8.17206164e-05, 9.99970853e-01,\n",
              "       9.99999642e-01, 9.99997139e-01, 1.00000000e+00, 1.92287460e-01,\n",
              "       9.99796808e-01, 2.17028704e-04, 7.15913653e-01, 1.00000000e+00,\n",
              "       1.31294020e-02, 1.54415103e-09, 8.17044056e-04, 1.00000000e+00,\n",
              "       2.90792843e-04, 5.00068545e-01, 4.19520020e-01, 9.97540891e-01,\n",
              "       1.00000000e+00, 5.14089227e-01, 7.65339621e-07, 9.99373913e-01,\n",
              "       9.99931931e-01, 2.42713867e-08, 9.74543691e-01, 7.63075469e-09,\n",
              "       9.99618232e-01, 4.99981225e-01, 9.99998510e-01, 4.91119351e-07],\n",
              "      dtype=float32)"
            ]
          },
          "metadata": {},
          "execution_count": 42
        }
      ]
    },
    {
      "cell_type": "markdown",
      "source": [
        "# **Modelo de conjunto con modelo en datos antiguos y nuevos**\n",
        "\n",
        "\n",
        "---\n",
        "\n"
      ],
      "metadata": {
        "id": "vz3XGrXD0GeI"
      }
    },
    {
      "cell_type": "code",
      "source": [
        "old_model = Sequential()\n",
        "old_model.add(Dense(20, kernel_initializer='he_normal', activation='relu', input_dim = n_feature))\n",
        "old_model.add(Dense(10, kernel_initializer='he_normal', activation='relu'))\n",
        "old_model.add(Dense(1, activation='sigmoid'))\n",
        "\n",
        "opt = SGD(learning_rate=0.01, momentum=0.9)\n",
        "old_model.compile(optimizer=opt, loss='binary_crossentropy')\n",
        "old_model.fit(X_old, y_old, epochs = 150, batch_size=32, verbose = 0)"
      ],
      "metadata": {
        "colab": {
          "base_uri": "https://localhost:8080/"
        },
        "id": "1HVXyk5fzm7r",
        "outputId": "fd28fbde-a927-41b1-f5f5-e09e52801f8d"
      },
      "execution_count": 43,
      "outputs": [
        {
          "output_type": "execute_result",
          "data": {
            "text/plain": [
              "<keras.callbacks.History at 0x7f5ddcc4be10>"
            ]
          },
          "metadata": {},
          "execution_count": 43
        }
      ]
    },
    {
      "cell_type": "code",
      "source": [
        "new_model = Sequential()\n",
        "new_model.add(Dense(20, kernel_initializer='he_normal', activation='relu', input_dim = n_feature))\n",
        "new_model.add(Dense(10, kernel_initializer='he_normal', activation='relu'))\n",
        "new_model.add(Dense(1, activation='sigmoid'))\n",
        "\n",
        "opt = SGD(learning_rate=0.01, momentum=0.9)\n",
        "new_model.compile(optimizer=opt, loss='binary_crossentropy')"
      ],
      "metadata": {
        "id": "XcyWBYWe0lBo"
      },
      "execution_count": 45,
      "outputs": []
    },
    {
      "cell_type": "code",
      "source": [
        "X_both, y_both = np.vstack((X_old, X_new)), np.hstack((y_old, y_new))"
      ],
      "metadata": {
        "id": "JkPti1mU0nUw"
      },
      "execution_count": 46,
      "outputs": []
    },
    {
      "cell_type": "code",
      "source": [
        "yhat1 = old_model.predict(X_new)\n",
        "yhat2 = new_model.predict(X_new)"
      ],
      "metadata": {
        "id": "kxc6GS9j00j5"
      },
      "execution_count": 48,
      "outputs": []
    },
    {
      "cell_type": "code",
      "source": [
        "combined = np.hstack((yhat1, yhat2))\n",
        "yhat = np.mean(combined, axis=-1)\n",
        "yhat"
      ],
      "metadata": {
        "colab": {
          "base_uri": "https://localhost:8080/"
        },
        "id": "KB7hcC5P029p",
        "outputId": "7dcbf78f-b6fb-41e5-bfa9-664adf1cec0b"
      },
      "execution_count": 50,
      "outputs": [
        {
          "output_type": "execute_result",
          "data": {
            "text/plain": [
              "array([6.85740262e-02, 4.27279808e-02, 9.49902892e-01, 5.00065327e-01,\n",
              "       4.83831093e-02, 7.56049275e-01, 5.08459806e-01, 5.90440929e-01,\n",
              "       2.34825513e-03, 9.52522606e-02, 6.60976350e-01, 5.48588753e-01,\n",
              "       1.89390779e-03, 5.02420902e-01, 1.25040738e-02, 9.32764053e-01,\n",
              "       7.02768564e-04, 1.19653828e-02, 6.72526509e-02, 9.47860256e-03,\n",
              "       7.11292475e-02, 1.31036639e-01, 5.59759378e-01, 6.35042191e-02,\n",
              "       1.72907915e-02, 4.76740986e-01, 7.97405720e-01, 3.64414096e-01,\n",
              "       5.05857348e-01, 5.00107586e-01, 2.01903373e-01, 3.02003380e-02,\n",
              "       1.41989127e-01, 7.28179932e-01, 5.90602577e-01, 2.29019299e-01,\n",
              "       7.17000306e-01, 5.70577025e-01, 4.84351337e-01, 4.93161678e-01,\n",
              "       7.49698421e-03, 4.81714308e-02, 6.91447496e-01, 1.81529135e-01,\n",
              "       1.91748738e-02, 9.83925283e-01, 3.70232686e-02, 5.09250760e-01,\n",
              "       5.63290119e-01, 5.58968425e-01, 5.09015799e-01, 4.29639816e-01,\n",
              "       9.99853849e-01, 3.30866277e-02, 3.71631801e-01, 6.08258788e-03,\n",
              "       1.24555023e-03, 5.04616141e-01, 5.05531847e-01, 4.20848250e-01,\n",
              "       5.43358922e-01, 7.55067647e-01, 8.55998099e-02, 5.34175277e-01,\n",
              "       6.11942708e-02, 4.81253475e-01, 6.38927162e-01, 1.24749452e-01,\n",
              "       1.84213370e-02, 1.07846987e-02, 9.96074617e-01, 5.03963590e-01,\n",
              "       1.08546212e-01, 6.38718486e-01, 1.26167163e-02, 4.70560670e-01,\n",
              "       5.01823425e-01, 8.58080387e-03, 3.42207789e-01, 6.70030057e-01,\n",
              "       5.40610373e-01, 1.80282593e-02, 5.05832314e-01, 1.18643045e-01,\n",
              "       2.02250466e-01, 6.71818852e-01, 3.41635160e-02, 5.00076830e-01,\n",
              "       5.66758811e-01, 7.15407282e-02, 9.99404669e-01, 8.79868507e-01,\n",
              "       7.79829681e-01, 9.66901891e-03, 7.12857783e-01, 9.54166707e-03,\n",
              "       2.48122662e-02, 8.82217050e-01, 1.55463830e-01, 5.15311599e-01,\n",
              "       5.53391278e-01, 5.00445366e-01, 2.95090228e-01, 9.68894422e-01,\n",
              "       8.06568325e-01, 4.78888363e-01, 5.01061916e-01, 3.39736202e-04,\n",
              "       5.47176719e-01, 3.86033863e-01, 2.34023184e-02, 2.92142620e-04,\n",
              "       6.07457757e-01, 5.00070989e-01, 3.94873321e-03, 9.97938633e-01,\n",
              "       1.36377290e-01, 9.14948583e-01, 9.99728799e-01, 5.29163539e-01,\n",
              "       7.59604692e-01, 9.64384437e-01, 5.01484931e-01, 9.91176784e-01,\n",
              "       5.52345932e-01, 1.24249011e-01, 5.54734945e-01, 7.74293765e-03,\n",
              "       5.00254989e-01, 8.36036265e-01, 4.92415220e-01, 9.37145472e-01,\n",
              "       9.98597383e-01, 1.59040391e-02, 4.75219429e-01, 5.16449869e-01,\n",
              "       5.00596166e-01, 6.16291046e-01, 4.03234214e-02, 8.72313738e-01,\n",
              "       5.15007198e-01, 2.00019870e-03, 1.72331676e-01, 5.35923391e-05,\n",
              "       7.52316236e-01, 2.64028907e-02, 5.32631934e-01, 1.62330687e-01,\n",
              "       2.97440290e-01, 7.07368031e-02, 9.71954823e-01, 5.83712399e-01,\n",
              "       4.99999851e-01, 5.03351152e-01, 9.58105266e-01, 1.27080739e-01,\n",
              "       9.93846536e-01, 1.57025367e-01, 5.36448359e-01, 5.14616847e-01,\n",
              "       7.51275480e-01, 1.33699328e-02, 5.00937700e-01, 5.71732640e-01,\n",
              "       5.16192198e-01, 4.06182021e-01, 1.30275637e-02, 7.36613631e-01,\n",
              "       4.97138768e-01, 1.17598772e-02, 1.82960124e-03, 3.31251770e-01,\n",
              "       4.73047137e-01, 5.81519306e-01, 1.10268593e-04, 6.46075010e-01,\n",
              "       1.15949115e-04, 5.00116110e-01, 1.23378634e-03, 4.10540462e-01,\n",
              "       5.05368054e-01, 7.33067989e-02, 5.70860445e-01, 6.86751723e-01,\n",
              "       5.00305772e-01, 6.55605614e-01, 6.86114907e-01, 4.91757572e-01,\n",
              "       6.77971840e-01, 3.88209939e-01, 7.81841993e-01, 1.00304112e-02,\n",
              "       1.44924242e-02, 5.86986959e-01, 5.43756604e-01, 5.95696270e-03,\n",
              "       9.33585405e-01, 9.02582645e-01, 5.00508964e-01, 6.71305299e-01,\n",
              "       9.11233664e-01, 5.18532395e-01, 2.97103673e-02, 9.30664122e-01,\n",
              "       5.27038813e-01, 3.68865430e-01, 4.97177839e-01, 6.45587325e-01,\n",
              "       2.23646834e-02, 3.37584883e-01, 2.36686086e-03, 9.86640930e-01,\n",
              "       8.53265643e-01, 4.40890044e-02, 6.50908589e-01, 4.05298430e-04,\n",
              "       3.91475379e-01, 1.98930353e-02, 8.89025778e-02, 9.99987423e-01,\n",
              "       2.06568122e-01, 5.15614748e-01, 5.04691124e-01, 1.42941682e-03,\n",
              "       9.59610641e-01, 8.85923028e-01, 3.87592916e-03, 4.23717260e-01,\n",
              "       4.97964799e-01, 6.59229398e-01, 8.25984597e-01, 3.91681604e-02,\n",
              "       1.66580081e-04, 5.15359640e-01, 9.82814729e-01, 8.39944661e-01,\n",
              "       2.48295978e-01, 9.48354602e-04, 7.12217093e-01, 4.97978002e-01,\n",
              "       8.84520531e-01, 8.71293619e-02, 1.14013383e-03, 9.29406524e-01,\n",
              "       8.66361856e-01, 3.82934362e-02, 8.84569824e-01, 4.15531754e-01,\n",
              "       4.48788285e-01, 5.60506284e-01, 1.48754522e-01, 2.54493207e-01,\n",
              "       4.17632580e-01, 9.80059326e-01, 6.56984627e-01, 3.73729467e-01,\n",
              "       2.84006149e-02, 7.74294496e-01, 5.34326315e-01, 4.81864572e-01,\n",
              "       5.19585013e-01, 9.69513178e-01, 5.31165628e-04, 3.02157283e-01,\n",
              "       5.87403893e-01, 1.39219165e-02, 6.85480051e-03, 9.93309617e-01,\n",
              "       3.36223990e-01, 9.81090903e-01, 7.63043165e-01, 1.52017188e-03,\n",
              "       4.48947251e-01, 1.82819501e-01, 1.82512740e-03, 4.81694937e-01,\n",
              "       4.52583618e-02, 1.50774443e-03, 4.30498660e-01, 2.26794675e-01,\n",
              "       1.14392745e-03, 2.09997118e-01, 1.15689635e-03, 4.02190257e-03,\n",
              "       9.85140383e-01, 2.51818188e-02, 7.81864044e-04, 2.59130634e-02,\n",
              "       2.17276812e-03, 9.12147760e-01, 5.00404000e-01, 5.22977412e-01,\n",
              "       7.23868608e-04, 5.00010788e-01, 9.93017256e-01, 2.55136145e-03,\n",
              "       2.19882727e-01, 9.94992971e-01, 5.00175357e-01, 5.85943222e-01,\n",
              "       3.58615160e-01, 5.16386867e-01, 9.32068586e-01, 2.95561105e-02,\n",
              "       1.72960132e-01, 6.11196041e-01, 9.98426557e-01, 8.60790730e-01,\n",
              "       3.94448638e-04, 9.99220729e-01, 4.91539747e-01, 6.73302263e-02,\n",
              "       4.52335720e-04, 6.01084232e-02, 4.23264056e-02, 8.41334928e-03,\n",
              "       8.63772184e-02, 4.63829011e-01, 6.78469837e-01, 2.47140275e-03,\n",
              "       3.78412008e-02, 5.17263830e-01, 6.84539974e-01, 5.01029670e-01,\n",
              "       7.61236846e-02, 9.33898091e-01, 3.15761775e-01, 5.16500294e-01,\n",
              "       2.41935253e-03, 4.50368464e-01, 2.53798384e-02, 4.34730142e-01,\n",
              "       3.11791926e-04, 6.67064428e-01, 5.04038215e-01, 7.53786445e-01,\n",
              "       5.01112342e-01, 5.00668705e-01, 5.39515674e-01, 2.48615578e-01,\n",
              "       1.94360748e-01, 4.93438601e-01, 9.99749675e-02, 5.02194166e-01,\n",
              "       6.23157501e-01, 5.12432396e-01, 2.46065333e-01, 1.33796036e-02,\n",
              "       3.12013835e-01, 1.12884253e-01, 1.34499660e-02, 6.73935771e-01,\n",
              "       7.05404282e-01, 9.99721885e-01, 3.36014152e-01, 5.52325070e-01,\n",
              "       5.47950029e-01, 4.18774597e-02, 4.99222219e-01, 6.12533689e-01,\n",
              "       2.78110593e-03, 5.35950124e-01, 1.11002043e-01, 2.01984748e-01,\n",
              "       5.05487263e-01, 2.00134933e-01, 2.90477299e-03, 2.16821238e-01,\n",
              "       1.10934377e-02, 2.42993504e-01, 8.81824817e-04, 3.42507362e-02,\n",
              "       2.85115540e-02, 5.60366035e-01, 1.91150457e-02, 1.25900522e-01,\n",
              "       5.68464398e-04, 7.27936447e-01, 5.67442477e-01, 8.57497286e-03,\n",
              "       5.46077490e-02, 5.00247657e-01, 3.61016721e-01, 7.58320093e-05,\n",
              "       1.96099369e-04, 3.76586705e-01, 2.39080474e-01, 4.09066409e-01,\n",
              "       3.13112815e-03, 5.03440976e-01, 1.62912644e-02, 5.39492011e-01,\n",
              "       9.97210503e-01, 7.19716251e-02, 2.15474963e-02, 7.47448765e-04,\n",
              "       9.75576282e-01, 5.02950609e-01, 4.98780370e-01, 3.68395587e-03,\n",
              "       2.81540658e-02, 5.00815272e-01, 5.00502467e-01, 6.64930999e-01,\n",
              "       6.31834567e-03, 4.96543944e-01, 6.79895520e-01, 5.47818244e-01,\n",
              "       3.53449732e-01, 2.32658193e-01, 4.06112283e-01, 6.80310249e-01,\n",
              "       3.66432697e-01, 5.66751976e-03, 2.02367634e-01, 5.49747199e-02,\n",
              "       6.58557415e-01, 9.99909163e-01, 3.13864760e-02, 6.57693863e-01,\n",
              "       9.28037167e-01, 3.88487056e-02, 5.01239657e-01, 5.14582336e-01,\n",
              "       5.27556479e-01, 8.74108076e-03, 2.12616846e-02, 5.01162887e-01,\n",
              "       1.44035533e-01, 5.06415844e-01, 5.14747858e-01, 3.71703207e-02,\n",
              "       4.98290151e-01, 3.27996433e-01, 6.27198815e-01, 9.99162555e-01,\n",
              "       4.91961777e-01, 2.30678320e-02, 4.88697439e-01, 9.50783491e-04,\n",
              "       4.08248752e-01, 3.35192800e-01, 1.15302252e-03, 5.08616805e-01,\n",
              "       7.37595081e-01, 9.99927700e-01, 5.47526181e-01, 7.55658150e-01,\n",
              "       5.02237618e-01, 3.43511403e-02, 1.58963352e-02, 3.54845881e-01,\n",
              "       6.38228893e-01, 6.94651902e-03, 7.19206512e-01, 9.88519847e-01,\n",
              "       1.68318421e-01, 9.97311056e-01, 8.25794756e-01, 9.98812378e-04,\n",
              "       5.03227055e-01, 6.66650338e-03, 4.98458326e-01, 9.99610066e-01,\n",
              "       5.21864593e-01, 5.82016349e-01, 1.29406964e-02, 7.25912273e-01,\n",
              "       9.20003176e-01, 5.35740137e-01, 2.51789410e-02, 5.63318670e-01,\n",
              "       1.23001516e-01, 6.73998296e-01, 5.11382341e-01, 5.55777371e-01,\n",
              "       2.52654284e-01, 1.51935950e-01, 5.26156127e-01, 9.99798179e-01,\n",
              "       1.49476483e-01, 4.80124563e-01, 1.89685039e-02, 5.11089563e-01,\n",
              "       2.82491464e-03, 5.01392126e-01, 6.56472802e-01, 2.43724152e-01,\n",
              "       9.16934371e-01, 8.33102912e-02, 1.74901495e-03, 5.12331009e-01,\n",
              "       7.75106370e-01, 8.11227504e-03, 9.82690573e-01, 3.56813823e-03,\n",
              "       6.65646136e-01, 1.28516257e-02, 7.01442420e-01, 4.98328311e-03],\n",
              "      dtype=float32)"
            ]
          },
          "metadata": {},
          "execution_count": 50
        }
      ]
    }
  ]
}