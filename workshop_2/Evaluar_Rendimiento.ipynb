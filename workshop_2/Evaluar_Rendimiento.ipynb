{
 "cells": [
  {
   "cell_type": "markdown",
   "id": "communist-approval",
   "metadata": {},
   "source": [
    "# Evaluar empiricamente las configuraciones de red"
   ]
  },
  {
   "cell_type": "markdown",
   "id": "younger-omega",
   "metadata": {},
   "source": [
    "- Que numero, tamaño y tipo de capas a utilizar\n",
    "- En profundidad\n",
    "- En amplitud\n",
    "- Funciones de perdidad y de activacion\n",
    "- Proceso de optimización y numero de epocas"
   ]
  },
  {
   "cell_type": "markdown",
   "id": "changed-negative",
   "metadata": {},
   "source": [
    "# Division de datos"
   ]
  },
  {
   "cell_type": "markdown",
   "id": "heavy-progress",
   "metadata": {},
   "source": [
    "#### Verificacion automatica"
   ]
  },
  {
   "cell_type": "code",
   "execution_count": 1,
   "id": "together-glory",
   "metadata": {},
   "outputs": [],
   "source": [
    "from keras.models import Sequential\n",
    "from keras.layers import Dense\n",
    "import numpy as np"
   ]
  },
  {
   "cell_type": "code",
   "execution_count": null,
   "id": "hearing-rebecca",
   "metadata": {},
   "outputs": [],
   "source": []
  }
 ],
 "metadata": {
  "kernelspec": {
   "display_name": "Python 3",
   "language": "python",
   "name": "python3"
  },
  "language_info": {
   "codemirror_mode": {
    "name": "ipython",
    "version": 3
   },
   "file_extension": ".py",
   "mimetype": "text/x-python",
   "name": "python",
   "nbconvert_exporter": "python",
   "pygments_lexer": "ipython3",
   "version": "3.6.12"
  }
 },
 "nbformat": 4,
 "nbformat_minor": 5
}
